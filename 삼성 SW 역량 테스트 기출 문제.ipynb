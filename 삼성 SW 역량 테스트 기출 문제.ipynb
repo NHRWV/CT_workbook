{
 "cells": [
  {
   "cell_type": "markdown",
   "id": "c59dd310",
   "metadata": {},
   "source": [
    "https://www.acmicpc.net/problem/13460"
   ]
  },
  {
   "cell_type": "code",
   "execution_count": null,
   "id": "94ee490b",
   "metadata": {},
   "outputs": [],
   "source": [
    "# 백준 13460 구슬 탈출 2\n",
    "\n",
    "from collections import deque\n",
    "\n",
    "n, m = map(int, input().split())\n",
    "\n",
    "board = []\n",
    "for i in range(n):\n",
    "    board.append(list(map(str, input())))\n",
    "    \n",
    "    "
   ]
  },
  {
   "cell_type": "markdown",
   "id": "3d2e9be5",
   "metadata": {},
   "source": [
    "https://www.acmicpc.net/problem/14503"
   ]
  },
  {
   "cell_type": "code",
   "execution_count": null,
   "id": "f3c25b9b",
   "metadata": {},
   "outputs": [],
   "source": [
    "# 백준 14503 로봇 청소기\n",
    "\n",
    "n, m = map(int, input().split())\n",
    "x, y, d = map(int, input().split())\n",
    "\n",
    "space = []\n",
    "for i in range(n):\n",
    "    space.append(list(map(int, input().split())))\n",
    "    \n",
    "dx = [-1, 0, 1, 0]\n",
    "dy = [0, 1, 0, -1]\n",
    "\n",
    "space[x][y] = -1\n",
    "check = 0\n",
    "\n",
    "while True:\n",
    "    nx = x + dx[d-1]\n",
    "    ny = y + dy[d-1]\n",
    "    \n",
    "    if space[nx][ny] == 1 or space[nx][ny] < 0:\n",
    "        check += 1\n",
    "        \n",
    "        if check == 4:\n",
    "            if d == 0:\n",
    "                d = 3\n",
    "            else:\n",
    "                d -= 1\n",
    "                \n",
    "            nx = x - dx[d]\n",
    "            ny = y - dy[d]\n",
    "            \n",
    "            if space[nx][ny] == 1:\n",
    "                break\n",
    "            else:\n",
    "                x -= dx[d]\n",
    "                y -= dy[d]\n",
    "                check = 0\n",
    "        \n",
    "        else:\n",
    "            if d == 0:\n",
    "                d = 3\n",
    "            else:\n",
    "                d -= 1\n",
    "            \n",
    "            \n",
    "    else:\n",
    "        space[nx][ny] = space[x][y] - 1\n",
    "        x = nx\n",
    "        y = ny\n",
    "        check = 0\n",
    "        \n",
    "        if d == 0:\n",
    "            d = 3\n",
    "        else:\n",
    "            d -= 1\n",
    "    \n",
    "    \n",
    "count = 0\n",
    "for i in range(n):\n",
    "    for j in range(m):\n",
    "        if space[i][j] < 0:\n",
    "            count += 1\n",
    "            \n",
    "            \n",
    "print(count)\n",
    "    \n",
    "            \n",
    "    \n",
    "        \n",
    "    "
   ]
  },
  {
   "cell_type": "markdown",
   "id": "6d9266fe",
   "metadata": {},
   "source": [
    "https://www.acmicpc.net/problem/14891"
   ]
  },
  {
   "cell_type": "code",
   "execution_count": null,
   "id": "f3e11435",
   "metadata": {},
   "outputs": [],
   "source": [
    "# 백준 14891 톱니바퀴\n",
    "\n",
    "from collections import deque\n",
    "\n",
    "q1 = deque(list(map(int, input().rstrip())))\n",
    "q2 = deque(list(map(int, input().rstrip())))\n",
    "q3 = deque(list(map(int, input().rstrip())))\n",
    "q4 = deque(list(map(int, input().rstrip())))\n",
    "\n",
    "lst = [0, q1, q2, q3, q4]\n",
    "\n",
    "def sol(x, drt):\n",
    "    check = set([1, 2, 3, 4]) # 이미 회전했는지 여부 판단용\n",
    "    \n",
    "    check.remove(x)\n",
    "    target = deque([x])\n",
    "    go = [0] * 5\n",
    "    go[x] = 1  # 이제 회전시킬 대상인지 판단\n",
    "    \n",
    "    \n",
    "    while check:\n",
    "        temp = []\n",
    "        while target:\n",
    "            t = target.popleft()\n",
    "            check.discard(t)\n",
    "            \n",
    "            if t-1 in check:\n",
    "                if lst[t-1][2] != lst[t][6]:\n",
    "                    go[t-1] = -go[t] \n",
    "                    temp.append(t-1)\n",
    "                    \n",
    "                else:\n",
    "                    check.discard(t-2)\n",
    "                    check.discard(t-3)\n",
    "                    \n",
    "                check.remove(t-1)\n",
    "                \n",
    "            if t+1 in check:                    \n",
    "                if lst[t+1][6] != lst[t][2]:\n",
    "                    go[t+1] = -go[t]\n",
    "                    temp.append(t+1)\n",
    "                    \n",
    "                else:\n",
    "                    check.discard(t+2)\n",
    "                    check.discard(t+3)\n",
    "                    \n",
    "                check.remove(t+1)\n",
    "                \n",
    "        if temp:\n",
    "            target.extend(temp)\n",
    "        else:\n",
    "            break\n",
    "        \n",
    "    #print(target)\n",
    "    #print(go)\n",
    "    for i in range(5):\n",
    "        if go[i] != 0:\n",
    "            lst[i].rotate(drt * go[i])\n",
    "                \n",
    "                \n",
    "    #print(lst)\n",
    "    #print(check)\n",
    "                \n",
    "        \n",
    "        \n",
    "    return lst   \n",
    "            \n",
    "    \n",
    "\n",
    "k = int(input())\n",
    "for i in range(k):\n",
    "    a, b = map(int, input().split())\n",
    "    \n",
    "    sol(a, b)\n",
    "    \n",
    "score = 0\n",
    "    \n",
    "for j in range(4):\n",
    "    if lst[j+1][0] == 1:\n",
    "        score += 2**j\n",
    "        \n",
    "print(score)\n"
   ]
  },
  {
   "cell_type": "markdown",
   "id": "9c9287e1",
   "metadata": {},
   "source": [
    "https://www.acmicpc.net/problem/15683"
   ]
  },
  {
   "cell_type": "code",
   "execution_count": null,
   "id": "1afafd7c",
   "metadata": {},
   "outputs": [],
   "source": [
    "# 백준 15683 감시\n",
    "\n",
    "\n",
    "from copy import deepcopy\n",
    "\n",
    "n, m = map(int, input().split())\n",
    "\n",
    "space = []\n",
    "cctv = []\n",
    "for i in range(n):\n",
    "    a = list(map(int, input().split()))\n",
    "    space.append(a)\n",
    "    for j in range(m):\n",
    "        if 0 < a[j] <= 5:\n",
    "            cctv.append((i, j, a[j]))\n",
    "\n",
    "answer = int(1e9)\n",
    "eye = len(cctv)\n",
    "\n",
    "dx = [-1, 1, 0, 0]\n",
    "dy = [0, 0, -1, 1]\n",
    "drt = [[], [[0], [1], [2], [3]], [[0, 1], [2, 3]], [[0, 2], [0, 3], [1, 2], [1, 3]], \n",
    "       [[0, 1, 2], [0, 1, 3], [0, 2, 3], [1, 2, 3]], [[0, 1, 2, 3]]]\n",
    "\n",
    "\n",
    "def sol(x, y, drt, copy):\n",
    "    for i in drt:\n",
    "        nx = x\n",
    "        ny = y\n",
    "        \n",
    "        while True:\n",
    "            nx += dx[i]\n",
    "            ny += dy[i]\n",
    "            \n",
    "            if nx < 0 or nx >= n or ny < 0 or ny >= m:\n",
    "                break\n",
    "                \n",
    "            if copy[nx][ny] == 6:\n",
    "                break\n",
    "            \n",
    "            if copy[nx][ny] == 0:\n",
    "                copy[nx][ny] = '#'\n",
    "         \n",
    "                \n",
    "    \n",
    "def dfs(space, count):\n",
    "    global answer\n",
    "    copy = deepcopy(space)\n",
    "\n",
    "    if count == eye:\n",
    "        cnt = 0\n",
    "        for i in copy:\n",
    "            cnt += i.count(0)\n",
    "            \n",
    "        answer = min(answer, cnt)\n",
    "        return answer\n",
    "    \n",
    "    x, y, num = cctv[count]\n",
    "    for i in drt[num]:  # cctv 종류에 따른 감시 가능한 구역을 지정.\n",
    "        \n",
    "        sol(x, y, i, copy) # cctv를 차례대로 선택해서, 그 cctv가 현재 바라보는 곳에서 감시 가능 구역을 찾아서 저장. \n",
    "        dfs(copy, count + 1) # 앞에서 저장한 맵을 그대로 다음 cctv에 넘겨준다.\n",
    "        copy = deepcopy(space)\n",
    "        \n",
    "        \n",
    "        \n",
    "        \n",
    "dfs(space, 0)\n",
    "print(answer)"
   ]
  },
  {
   "cell_type": "markdown",
   "id": "2554864d",
   "metadata": {},
   "source": [
    "https://www.acmicpc.net/problem/14499"
   ]
  },
  {
   "cell_type": "code",
   "execution_count": 4,
   "id": "7f271a8e",
   "metadata": {},
   "outputs": [
    {
     "data": {
      "text/plain": [
       "[(2, 2, 1)]"
      ]
     },
     "execution_count": 4,
     "metadata": {},
     "output_type": "execute_result"
    }
   ],
   "source": [
    "cctv"
   ]
  },
  {
   "cell_type": "code",
   "execution_count": 9,
   "id": "6db938cf",
   "metadata": {},
   "outputs": [
    {
     "data": {
      "text/plain": [
       "1"
      ]
     },
     "execution_count": 9,
     "metadata": {},
     "output_type": "execute_result"
    }
   ],
   "source": [
    "eye"
   ]
  },
  {
   "cell_type": "code",
   "execution_count": 46,
   "id": "59d42f4d",
   "metadata": {},
   "outputs": [
    {
     "data": {
      "text/plain": [
       "[0,\n",
       " deque([1, 1, 0, 1, 0, 1, 1, 1]),\n",
       " deque([0, 1, 1, 1, 1, 1, 0, 1]),\n",
       " deque([1, 0, 0, 1, 1, 1, 0, 1]),\n",
       " deque([0, 0, 0, 0, 0, 1, 0, 0])]"
      ]
     },
     "execution_count": 46,
     "metadata": {},
     "output_type": "execute_result"
    }
   ],
   "source": []
  },
  {
   "cell_type": "code",
   "execution_count": 39,
   "id": "5cfbdb8b",
   "metadata": {},
   "outputs": [
    {
     "data": {
      "text/plain": [
       "-1"
      ]
     },
     "execution_count": 39,
     "metadata": {},
     "output_type": "execute_result"
    }
   ],
   "source": [
    "b"
   ]
  },
  {
   "cell_type": "code",
   "execution_count": null,
   "id": "47871f41",
   "metadata": {},
   "outputs": [],
   "source": [
    "10101111\n",
    "01111101\n",
    "11001110\n",
    "00000010\n",
    "2\n",
    "3 -1\n",
    "1 1"
   ]
  },
  {
   "cell_type": "code",
   "execution_count": 3,
   "id": "39c9c361",
   "metadata": {},
   "outputs": [
    {
     "data": {
      "text/plain": [
       "{1: deque([1, 0, 1, 0, 1, 1, 1, 1]),\n",
       " 2: deque([0, 1, 1, 1, 1, 1, 0, 1]),\n",
       " 3: deque([1, 0, 0, 1, 1, 1, 0, 1]),\n",
       " 4: deque([0, 0, 0, 0, 0, 0, 0, 1])}"
      ]
     },
     "execution_count": 3,
     "metadata": {},
     "output_type": "execute_result"
    }
   ],
   "source": [
    "%"
   ]
  },
  {
   "cell_type": "code",
   "execution_count": 5,
   "id": "3379dd0c",
   "metadata": {},
   "outputs": [
    {
     "data": {
      "text/plain": [
       "{1: deque([1, 1, 0, 1, 0, 1, 1, 1]),\n",
       " 2: deque([1, 1, 1, 1, 1, 0, 1, 0]),\n",
       " 3: deque([1, 1, 0, 0, 1, 1, 1, 0]),\n",
       " 4: deque([0, 0, 0, 0, 0, 0, 0, 1])}"
      ]
     },
     "execution_count": 5,
     "metadata": {},
     "output_type": "execute_result"
    }
   ],
   "source": [
    "gears"
   ]
  },
  {
   "cell_type": "code",
   "execution_count": null,
   "id": "320a3b62",
   "metadata": {},
   "outputs": [],
   "source": []
  }
 ],
 "metadata": {
  "kernelspec": {
   "display_name": "Python 3",
   "language": "python",
   "name": "python3"
  },
  "language_info": {
   "codemirror_mode": {
    "name": "ipython",
    "version": 3
   },
   "file_extension": ".py",
   "mimetype": "text/x-python",
   "name": "python",
   "nbconvert_exporter": "python",
   "pygments_lexer": "ipython3",
   "version": "3.8.8"
  }
 },
 "nbformat": 4,
 "nbformat_minor": 5
}
