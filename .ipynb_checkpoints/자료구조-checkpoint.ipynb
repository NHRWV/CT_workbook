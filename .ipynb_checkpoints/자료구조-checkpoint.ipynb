{
 "cells": [
  {
   "cell_type": "code",
   "execution_count": null,
   "metadata": {},
   "outputs": [],
   "source": [
    "# 백준 11279\n",
    "\n",
    "import heapq\n",
    "\n",
    "n = int(input())\n",
    "order = []\n",
    "\n",
    "for i in range(n):\n",
    "    order.append(int(input()))\n",
    "    \n",
    "heap = []\n",
    "heapq.heapify(heap)\n",
    "for i in order:    \n",
    "    if i > 0:\n",
    "        heapq.heappush(heap, (-i, i))\n",
    "        \n",
    "    elif i == 0:\n",
    "        if len(heap) == 0:\n",
    "            print(0)\n",
    "        else:\n",
    "            print(heapq.heappop(heap)[1])"
   ]
  },
  {
   "cell_type": "code",
   "execution_count": null,
   "metadata": {},
   "outputs": [],
   "source": [
    "# 백준 11286\n",
    "\n",
    "import heapq\n",
    "\n",
    "n = int(input())\n",
    "order = []\n",
    "\n",
    "for i in range(n):\n",
    "    order.append(int(input()))\n",
    "    \n",
    "heap = []\n",
    "heapq.heapify(heap)\n",
    "for i in order:    \n",
    "    if i != 0:\n",
    "        heapq.heappush(heap, (abs(i), i))\n",
    "        \n",
    "    elif i == 0:\n",
    "        if len(heap) == 0:\n",
    "            print(0)\n",
    "        else:\n",
    "            print(heapq.heappop(heap)[1])"
   ]
  },
  {
   "cell_type": "markdown",
   "metadata": {},
   "source": [
    "https://www.acmicpc.net/problem/10773"
   ]
  },
  {
   "cell_type": "code",
   "execution_count": 1,
   "metadata": {},
   "outputs": [
    {
     "name": "stdout",
     "output_type": "stream",
     "text": [
      "4\n",
      "3\n",
      "0\n",
      "4\n",
      "0\n",
      "0\n"
     ]
    }
   ],
   "source": [
    "# 백준 10773\n",
    "\n",
    "k = int(input())\n",
    "lst = []\n",
    "for i in range(k):\n",
    "    a = int(input())\n",
    "    if a == 0:\n",
    "        del lst[-1]\n",
    "    \n",
    "    else:\n",
    "        lst.append(a)\n",
    "        \n",
    "print(sum(lst))\n",
    "        "
   ]
  },
  {
   "cell_type": "markdown",
   "metadata": {},
   "source": [
    "https://www.acmicpc.net/problem/9012"
   ]
  },
  {
   "cell_type": "code",
   "execution_count": 4,
   "metadata": {},
   "outputs": [
    {
     "name": "stdout",
     "output_type": "stream",
     "text": [
      "3\n",
      "((\n",
      "))\n",
      "())(()\n",
      "NO\n",
      "NO\n",
      "NO\n"
     ]
    }
   ],
   "source": [
    "# 백준 9012\n",
    "\n",
    "t = int(input())\n",
    "lst = []\n",
    "for i in range(t):\n",
    "    lst.append(input())\n",
    "\n",
    "answer = []\n",
    "                \n",
    "def sol(x):\n",
    "    if x[0] == ')':\n",
    "        return 'NO'\n",
    "        \n",
    "    test = []\n",
    "    for i in x:\n",
    "        if i == '(':\n",
    "            test.append(i)\n",
    "            \n",
    "        else:\n",
    "            if len(test) == 0:\n",
    "                return 'NO'\n",
    "                \n",
    "            else:\n",
    "                test.pop()\n",
    "     \n",
    "    if len(test) > 0:\n",
    "        return 'NO'\n",
    "    \n",
    "    else:\n",
    "        return 'YES'\n",
    "        \n",
    "for i in lst:\n",
    "    answer.append(sol(i))\n",
    "    \n",
    "for i in answer:\n",
    "    print(i)"
   ]
  },
  {
   "cell_type": "code",
   "execution_count": null,
   "metadata": {},
   "outputs": [],
   "source": []
  }
 ],
 "metadata": {
  "kernelspec": {
   "display_name": "Python 3.7.5 64-bit ('Namlister': virtualenv)",
   "language": "python",
   "name": "python37564bitnamlistervirtualenv5d7bb17d3c984c36aee202a2f6a91336"
  },
  "language_info": {
   "codemirror_mode": {
    "name": "ipython",
    "version": 3
   },
   "file_extension": ".py",
   "mimetype": "text/x-python",
   "name": "python",
   "nbconvert_exporter": "python",
   "pygments_lexer": "ipython3",
   "version": "3.7.5"
  }
 },
 "nbformat": 4,
 "nbformat_minor": 2
}
