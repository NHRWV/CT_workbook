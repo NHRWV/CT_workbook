{
 "cells": [
  {
   "cell_type": "code",
   "execution_count": null,
   "metadata": {},
   "outputs": [],
   "source": [
    "# 백준 11279\n",
    "\n",
    "import heapq\n",
    "\n",
    "n = int(input())\n",
    "order = []\n",
    "\n",
    "for i in range(n):\n",
    "    order.append(int(input()))\n",
    "    \n",
    "heap = []\n",
    "heapq.heapify(heap)\n",
    "for i in order:    \n",
    "    if i > 0:\n",
    "        heapq.heappush(heap, (-i, i))\n",
    "        \n",
    "    elif i == 0:\n",
    "        if len(heap) == 0:\n",
    "            print(0)\n",
    "        else:\n",
    "            print(heapq.heappop(heap)[1])"
   ]
  },
  {
   "cell_type": "code",
   "execution_count": null,
   "metadata": {},
   "outputs": [],
   "source": [
    "# 백준 11286\n",
    "\n",
    "import heapq\n",
    "\n",
    "n = int(input())\n",
    "order = []\n",
    "\n",
    "for i in range(n):\n",
    "    order.append(int(input()))\n",
    "    \n",
    "heap = []\n",
    "heapq.heapify(heap)\n",
    "for i in order:    \n",
    "    if i != 0:\n",
    "        heapq.heappush(heap, (abs(i), i))\n",
    "        \n",
    "    elif i == 0:\n",
    "        if len(heap) == 0:\n",
    "            print(0)\n",
    "        else:\n",
    "            print(heapq.heappop(heap)[1])"
   ]
  },
  {
   "cell_type": "markdown",
   "metadata": {},
   "source": [
    "https://www.acmicpc.net/problem/10773"
   ]
  },
  {
   "cell_type": "code",
   "execution_count": 1,
   "metadata": {},
   "outputs": [
    {
     "name": "stdout",
     "output_type": "stream",
     "text": [
      "4\n",
      "3\n",
      "0\n",
      "4\n",
      "0\n",
      "0\n"
     ]
    }
   ],
   "source": [
    "# 백준 10773\n",
    "\n",
    "k = int(input())\n",
    "lst = []\n",
    "for i in range(k):\n",
    "    a = int(input())\n",
    "    if a == 0:\n",
    "        del lst[-1]\n",
    "    \n",
    "    else:\n",
    "        lst.append(a)\n",
    "        \n",
    "print(sum(lst))\n",
    "        "
   ]
  },
  {
   "cell_type": "markdown",
   "metadata": {},
   "source": [
    "https://www.acmicpc.net/problem/9012"
   ]
  },
  {
   "cell_type": "code",
   "execution_count": 4,
   "metadata": {},
   "outputs": [
    {
     "name": "stdout",
     "output_type": "stream",
     "text": [
      "3\n",
      "((\n",
      "))\n",
      "())(()\n",
      "NO\n",
      "NO\n",
      "NO\n"
     ]
    }
   ],
   "source": [
    "# 백준 9012\n",
    "\n",
    "t = int(input())\n",
    "lst = []\n",
    "for i in range(t):\n",
    "    lst.append(input())\n",
    "\n",
    "answer = []\n",
    "                \n",
    "def sol(x):\n",
    "    if x[0] == ')':\n",
    "        return 'NO'\n",
    "        \n",
    "    test = []\n",
    "    for i in x:\n",
    "        if i == '(':\n",
    "            test.append(i)\n",
    "            \n",
    "        else:\n",
    "            if len(test) == 0:\n",
    "                return 'NO'\n",
    "                \n",
    "            else:\n",
    "                test.pop()\n",
    "     \n",
    "    if len(test) > 0:\n",
    "        return 'NO'\n",
    "    \n",
    "    else:\n",
    "        return 'YES'\n",
    "        \n",
    "for i in lst:\n",
    "    answer.append(sol(i))\n",
    "    \n",
    "for i in answer:\n",
    "    print(i)"
   ]
  },
  {
   "cell_type": "markdown",
   "metadata": {},
   "source": [
    "https://www.acmicpc.net/problem/1874"
   ]
  },
  {
   "cell_type": "code",
   "execution_count": 7,
   "metadata": {},
   "outputs": [
    {
     "name": "stdout",
     "output_type": "stream",
     "text": [
      "5\n",
      "1\n",
      "2\n",
      "5\n",
      "3\n",
      "4\n",
      "NO\n"
     ]
    }
   ],
   "source": [
    "# 백준 1874\n",
    "\n",
    "n = int(input())\n",
    "seq = []\n",
    "for i in range(n):\n",
    "    seq.append(int(input()))\n",
    "\n",
    "lst = []\n",
    "order = []\n",
    "sign = 1\n",
    "count = 1 \n",
    "for i in range(n):\n",
    "    while count <= seq[i]:\n",
    "        lst.append(count)\n",
    "        order.append('+')\n",
    "        count += 1\n",
    "    \n",
    "    if lst[-1] == seq[i]:\n",
    "        lst.pop()\n",
    "        order.append('-')\n",
    "    \n",
    "    else:\n",
    "        sign = 0\n",
    "\n",
    "\n",
    "if sign == 0:\n",
    "    print('NO')\n",
    "\n",
    "else:\n",
    "    for i in order:\n",
    "        print(i)"
   ]
  },
  {
   "cell_type": "markdown",
   "metadata": {},
   "source": [
    "https://www.acmicpc.net/problem/17298"
   ]
  },
  {
   "cell_type": "code",
   "execution_count": 11,
   "metadata": {},
   "outputs": [
    {
     "name": "stdout",
     "output_type": "stream",
     "text": [
      "4\n",
      "3 5 2 7\n",
      "5 7 7 -1\n"
     ]
    }
   ],
   "source": [
    "# 백준 17298...이거 시간 초과.\n",
    "\n",
    "n = int(input())\n",
    "seq = list(map(int, input().split()))\n",
    "\n",
    "answer = []\n",
    "for i in range(n):\n",
    "    sign = 0\n",
    "    for j in range(i+1, n):\n",
    "        if seq[i] < seq[j]:\n",
    "            answer.append(seq[j])\n",
    "            sign = 1\n",
    "            break\n",
    "            \n",
    "    if sign == 0:\n",
    "        answer.append(-1)\n",
    "            \n",
    "\n",
    "print(*answer)"
   ]
  },
  {
   "cell_type": "code",
   "execution_count": 12,
   "metadata": {},
   "outputs": [
    {
     "name": "stdout",
     "output_type": "stream",
     "text": [
      "4\n",
      "3 5 2 7\n",
      "5 7 7 -1\n"
     ]
    }
   ],
   "source": [
    "# 백준 17298...이것도 시간초과\n",
    "\n",
    "n = int(input())\n",
    "seq = list(map(int, input().split()))\n",
    "answer = []\n",
    "for i in range(n):\n",
    "    num = seq.pop(0)\n",
    "    sign = 0\n",
    "    for j in seq:\n",
    "        if num < j:\n",
    "            answer.append(j)\n",
    "            sign = 1\n",
    "            break\n",
    "            \n",
    "    if sign == 0:\n",
    "        answer.append(-1)\n",
    "        \n",
    "print(*answer)"
   ]
  },
  {
   "cell_type": "code",
   "execution_count": 14,
   "metadata": {},
   "outputs": [
    {
     "name": "stdout",
     "output_type": "stream",
     "text": [
      "4\n",
      "3 5 2 7\n"
     ]
    },
    {
     "ename": "IndexError",
     "evalue": "list index out of range",
     "output_type": "error",
     "traceback": [
      "\u001b[1;31m---------------------------------------------------------------------------\u001b[0m",
      "\u001b[1;31mIndexError\u001b[0m                                Traceback (most recent call last)",
      "\u001b[1;32m<ipython-input-14-0db1e784af21>\u001b[0m in \u001b[0;36m<module>\u001b[1;34m\u001b[0m\n\u001b[0;32m     10\u001b[0m     \u001b[0msign\u001b[0m \u001b[1;33m=\u001b[0m \u001b[1;36m1\u001b[0m\u001b[1;33m\u001b[0m\u001b[1;33m\u001b[0m\u001b[0m\n\u001b[0;32m     11\u001b[0m     \u001b[1;32mfor\u001b[0m \u001b[0mj\u001b[0m \u001b[1;32min\u001b[0m \u001b[0mrange\u001b[0m\u001b[1;33m(\u001b[0m\u001b[0mlen\u001b[0m\u001b[1;33m(\u001b[0m\u001b[0mtemp\u001b[0m\u001b[1;33m)\u001b[0m\u001b[1;33m)\u001b[0m\u001b[1;33m:\u001b[0m\u001b[1;33m\u001b[0m\u001b[1;33m\u001b[0m\u001b[0m\n\u001b[1;32m---> 12\u001b[1;33m         \u001b[1;32mif\u001b[0m \u001b[0mnum\u001b[0m \u001b[1;33m>\u001b[0m \u001b[0mtemp\u001b[0m\u001b[1;33m[\u001b[0m\u001b[0mj\u001b[0m\u001b[1;33m]\u001b[0m\u001b[1;33m:\u001b[0m\u001b[1;33m\u001b[0m\u001b[1;33m\u001b[0m\u001b[0m\n\u001b[0m\u001b[0;32m     13\u001b[0m             \u001b[0manswer\u001b[0m\u001b[1;33m[\u001b[0m\u001b[0mi\u001b[0m\u001b[1;33m]\u001b[0m \u001b[1;33m=\u001b[0m \u001b[0mnum\u001b[0m\u001b[1;33m\u001b[0m\u001b[1;33m\u001b[0m\u001b[0m\n\u001b[0;32m     14\u001b[0m             \u001b[0mtemp\u001b[0m\u001b[1;33m.\u001b[0m\u001b[0mpop\u001b[0m\u001b[1;33m(\u001b[0m\u001b[0mj\u001b[0m\u001b[1;33m)\u001b[0m\u001b[1;33m\u001b[0m\u001b[1;33m\u001b[0m\u001b[0m\n",
      "\u001b[1;31mIndexError\u001b[0m: list index out of range"
     ]
    }
   ],
   "source": [
    "# 백준 17298\n",
    "\n",
    "n = int(input())\n",
    "seq = list(map(int, input().split()))\n",
    "\n",
    "answer = [-1] * n\n",
    "temp = [0]\n",
    "for i in range(1, n):\n",
    "    \n",
    "    \n",
    "    while temp and seq[temp[-1]] < seq[i]:\n",
    "        a = temp.pop()\n",
    "        answer[a] = seq[i]\n",
    "    \n",
    "    temp.append(i)\n",
    "        \n",
    "print(*answer)"
   ]
  },
  {
   "cell_type": "code",
   "execution_count": null,
   "metadata": {},
   "outputs": [],
   "source": [
    "\n"
   ]
  }
 ],
 "metadata": {
  "kernelspec": {
   "display_name": "Python 3.7.5 64-bit ('Namlister': virtualenv)",
   "language": "python",
   "name": "python37564bitnamlistervirtualenv5d7bb17d3c984c36aee202a2f6a91336"
  },
  "language_info": {
   "codemirror_mode": {
    "name": "ipython",
    "version": 3
   },
   "file_extension": ".py",
   "mimetype": "text/x-python",
   "name": "python",
   "nbconvert_exporter": "python",
   "pygments_lexer": "ipython3",
   "version": "3.7.5"
  }
 },
 "nbformat": 4,
 "nbformat_minor": 2
}
