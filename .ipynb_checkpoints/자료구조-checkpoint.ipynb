{
 "cells": [
  {
   "cell_type": "code",
   "execution_count": null,
   "metadata": {},
   "outputs": [],
   "source": [
    "# 백준 11279\n",
    "\n",
    "import heapq\n",
    "\n",
    "n = int(input())\n",
    "order = []\n",
    "\n",
    "for i in range(n):\n",
    "    order.append(int(input()))\n",
    "    \n",
    "heap = []\n",
    "heapq.heapify(heap)\n",
    "for i in order:    \n",
    "    if i > 0:\n",
    "        heapq.heappush(heap, (-i, i))\n",
    "        \n",
    "    elif i == 0:\n",
    "        if len(heap) == 0:\n",
    "            print(0)\n",
    "        else:\n",
    "            print(heapq.heappop(heap)[1])"
   ]
  },
  {
   "cell_type": "code",
   "execution_count": null,
   "metadata": {},
   "outputs": [],
   "source": [
    "# 백준 11286\n",
    "\n",
    "import heapq\n",
    "\n",
    "n = int(input())\n",
    "order = []\n",
    "\n",
    "for i in range(n):\n",
    "    order.append(int(input()))\n",
    "    \n",
    "heap = []\n",
    "heapq.heapify(heap)\n",
    "for i in order:    \n",
    "    if i != 0:\n",
    "        heapq.heappush(heap, (abs(i), i))\n",
    "        \n",
    "    elif i == 0:\n",
    "        if len(heap) == 0:\n",
    "            print(0)\n",
    "        else:\n",
    "            print(heapq.heappop(heap)[1])"
   ]
  },
  {
   "cell_type": "code",
   "execution_count": null,
   "metadata": {},
   "outputs": [],
   "source": [
    "# 백준 11723\n",
    "\n",
    "m = int(input())\n",
    "order = []\n",
    "for i in range(m):\n",
    "    a, b = map(str, input().split())\n",
    "    order.append((a, int(b)))\n",
    "    \n",
    "s = set()\n",
    "for a, b in order:\n",
    "    if a == 'add':\n",
    "        s.add(b)\n",
    "        \n",
    "    elif a == 'remove':\n",
    "        s.discard(b)\n",
    "        \n",
    "    elif a == 'check':\n",
    "        if b in s:\n",
    "            print(1)\n",
    "        else:\n",
    "            print(0)\n",
    "            \n",
    "    elif a == 'toggle':\n",
    "        if b in s:\n",
    "            s.remove(b)\n",
    "        else:\n",
    "            s.add(b)\n",
    "            \n",
    "    elif a == 'all':\n",
    "        s = set()\n",
    "        for i in range(1, 21):\n",
    "            s.add(i)\n",
    "           \n",
    "    elif a == 'empty':\n",
    "        s = set()"
   ]
  },
  {
   "cell_type": "code",
   "execution_count": null,
   "metadata": {},
   "outputs": [],
   "source": [
    "[1, 2, 3, 4, 5, 6, 7, 8, 9, 10, 11, 12, 13, 14, 15, 16, 17, 18, 19, 20]\n",
    "아 모르겠"
   ]
  }
 ],
 "metadata": {
  "kernelspec": {
   "display_name": "Python 3.7.5 64-bit ('Namlister': virtualenv)",
   "language": "python",
   "name": "python37564bitnamlistervirtualenv5d7bb17d3c984c36aee202a2f6a91336"
  },
  "language_info": {
   "codemirror_mode": {
    "name": "ipython",
    "version": 3
   },
   "file_extension": ".py",
   "mimetype": "text/x-python",
   "name": "python",
   "nbconvert_exporter": "python",
   "pygments_lexer": "ipython3",
   "version": "3.7.5"
  }
 },
 "nbformat": 4,
 "nbformat_minor": 2
}
