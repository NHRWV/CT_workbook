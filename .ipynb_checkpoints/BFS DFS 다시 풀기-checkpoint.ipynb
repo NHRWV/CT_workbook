{
 "cells": [
  {
   "cell_type": "markdown",
   "id": "d07dc3bc",
   "metadata": {},
   "source": [
    "https://www.acmicpc.net/problem/2178"
   ]
  },
  {
   "cell_type": "code",
   "execution_count": null,
   "id": "c52fd738",
   "metadata": {},
   "outputs": [],
   "source": [
    "# 백준 2178 미로 탐색\n",
    "\n",
    "from collections import deque\n",
    "\n",
    "n, m = map(int, input().split())\n",
    "maze = []\n",
    "for i in range(n):\n",
    "    maze.append(list(map(int, input())))\n",
    "    \n",
    "queue = deque([(0, 0)])\n",
    "dx = [-1, 1, 0, 0]\n",
    "dy = [0, 0, -1, 1]\n",
    "\n",
    "while queue:\n",
    "    x, y = queue.popleft()\n",
    "    \n",
    "    for i in range(4):\n",
    "        nx = x + dx[i]\n",
    "        ny = y + dy[i]\n",
    "    \n",
    "        if nx < 0 or nx >= n or ny < 0 or ny >= m:\n",
    "            continue\n",
    "            \n",
    "        \n",
    "        if maze[nx][ny] == 1:\n",
    "            maze[nx][ny] = maze[x][y] + 1\n",
    "            queue.append((nx, ny))\n",
    "            \n",
    "            \n",
    "print(maze[n-1][m-1])\n",
    "    "
   ]
  },
  {
   "cell_type": "markdown",
   "id": "99479496",
   "metadata": {},
   "source": [
    "https://www.acmicpc.net/problem/2606"
   ]
  },
  {
   "cell_type": "code",
   "execution_count": null,
   "id": "10959794",
   "metadata": {},
   "outputs": [],
   "source": [
    "# 백준 2606 바이러스\n",
    "\n",
    "from collections import deque\n",
    "\n",
    "n = int(input())\n",
    "m = int(input())\n",
    "\n",
    "net = [[] for _ in range(n+1)]\n",
    "for i in range(m):\n",
    "    a, b = map(int, input().split())\n",
    "    net[a].append(b)\n",
    "    net[b].append(a)\n",
    "    \n",
    "queue = deque([1])\n",
    "visited = [0] * (n+1)\n",
    "visited[1] = 1\n",
    "count = 0\n",
    "while queue:\n",
    "    x = queue.popleft()\n",
    "\n",
    "    for i in net[x]:\n",
    "        if not visited[i]:\n",
    "            visited[i] = 1\n",
    "            queue.append(i)\n",
    "            count += 1\n",
    "            \n",
    "            \n",
    "print(count)"
   ]
  },
  {
   "cell_type": "markdown",
   "id": "5708f9da",
   "metadata": {},
   "source": [
    "https://www.acmicpc.net/problem/7576"
   ]
  },
  {
   "cell_type": "code",
   "execution_count": null,
   "id": "9bd88f70",
   "metadata": {},
   "outputs": [],
   "source": [
    "# 백준 7576 토마토\n",
    "\n",
    "from collections import deque\n",
    "import sys\n",
    "\n",
    "m, n = map(int, input().split())\n",
    "\n",
    "tomato = []\n",
    "ripen = []\n",
    "check = 0\n",
    "for i in range(n):\n",
    "    a = list(map(int, input().split()))\n",
    "    tomato.append(a)\n",
    "    for j in range(m):\n",
    "        if a[j] == 1:\n",
    "            ripen.append((i, j))\n",
    "        \n",
    "        elif a[j] == 0:\n",
    "            check = 1\n",
    "            \n",
    "if check == 0:\n",
    "    print(0)\n",
    "    sys.exit()\n",
    "            \n",
    "dx = [-1, 1, 0, 0]\n",
    "dy = [0, 0, -1, 1]\n",
    "            \n",
    "queue = deque(ripen)\n",
    "\n",
    "while queue:\n",
    "    x, y = queue.popleft()\n",
    "    \n",
    "    for i in range(4):\n",
    "        nx = x + dx[i]\n",
    "        ny = y + dy[i]\n",
    "        \n",
    "        if nx < 0 or nx >= n or ny < 0 or ny >= m:\n",
    "            continue\n",
    "            \n",
    "        if tomato[nx][ny] == 0:\n",
    "            tomato[nx][ny] = tomato[x][y] + 1\n",
    "            queue.append((nx, ny))\n",
    "            \n",
    "            \n",
    "answer = 0\n",
    "for i in range(n):\n",
    "    answer = max(answer, max(tomato[i]))\n",
    "    if tomato[i].count(0) > 0:\n",
    "        print(-1)\n",
    "        sys.exit()\n",
    "        \n",
    "print(answer - 1)"
   ]
  },
  {
   "cell_type": "markdown",
   "id": "e731ef3a",
   "metadata": {},
   "source": [
    "https://www.acmicpc.net/problem/1012"
   ]
  },
  {
   "cell_type": "code",
   "execution_count": null,
   "id": "d7f6e643",
   "metadata": {},
   "outputs": [],
   "source": [
    "# 백준 1012 유기농 배추\n",
    "\n",
    "from collections import deque\n",
    "\n",
    "def sol(x, y):\n",
    "    queue = deque([(x, y)])\n",
    "    dx = [-1, 1, 0, 0]\n",
    "    dy = [0, 0, -1, 1]\n",
    "    \n",
    "    while queue:\n",
    "        x, y = queue.popleft()\n",
    "        visited[x][y] = 1\n",
    "        \n",
    "        for i in range(4):\n",
    "            nx = x + dx[i]\n",
    "            ny = y + dy[i]\n",
    "            \n",
    "            if nx < 0 or nx >= n or ny < 0 or ny >= m:\n",
    "                continue\n",
    "                \n",
    "            if farm[nx][ny] == 1 and not visited[nx][ny]:\n",
    "                visited[nx][ny] = 1\n",
    "                queue.append((nx, ny))\n",
    "\n",
    "\n",
    "t = int(input())\n",
    "for i in range(t):\n",
    "    m, n, k = map(int, input().split())\n",
    "    \n",
    "    farm = [[0] * m for _ in range(n)]\n",
    "    for j in range(k):\n",
    "        a, b = map(int, input().split())\n",
    "        farm[b][a] = 1\n",
    "        \n",
    "    visited = [[0] * m for _ in range(n)]\n",
    "    count = 0\n",
    "    for p in range(n):\n",
    "        for q in range(m):\n",
    "            if not visited[p][q] and farm[p][q] == 1:\n",
    "                sol(p, q)\n",
    "                count += 1\n",
    "                \n",
    "                \n",
    "    print(count)"
   ]
  },
  {
   "cell_type": "markdown",
   "id": "53de345a",
   "metadata": {},
   "source": [
    "https://www.acmicpc.net/problem/1697"
   ]
  },
  {
   "cell_type": "code",
   "execution_count": 29,
   "id": "3d29a07e",
   "metadata": {},
   "outputs": [
    {
     "name": "stdout",
     "output_type": "stream",
     "text": [
      "5 17\n",
      "4\n"
     ]
    }
   ],
   "source": [
    "# 백준 1697 숨바꼭질\n",
    "\n",
    "from collections import deque\n",
    "\n",
    "n, k = map(int, input().split())\n",
    "\n",
    "ground = [-1] * 100001\n",
    "queue = deque([n])\n",
    "ground[n] = 0\n",
    "while queue:\n",
    "    x = queue.popleft()\n",
    "    \n",
    "    if x == k:\n",
    "        print(ground[x])\n",
    "        queue.clear()\n",
    "    \n",
    "    dx = [x - 1, x + 1, 2 * x]\n",
    "    for i in range(3):\n",
    "        nx = dx[i]\n",
    "        \n",
    "        if nx < 0 or nx >= 100001:\n",
    "            continue\n",
    "        \n",
    "        if ground[nx] == -1:\n",
    "            ground[nx] = ground[x] + 1\n",
    "            queue.append(nx)\n",
    "            \n",
    "\n",
    "            "
   ]
  },
  {
   "cell_type": "markdown",
   "id": "6fb00f0a",
   "metadata": {},
   "source": [
    "https://www.acmicpc.net/problem/14502"
   ]
  },
  {
   "cell_type": "code",
   "execution_count": 5,
   "id": "59060cca",
   "metadata": {},
   "outputs": [
    {
     "name": "stdout",
     "output_type": "stream",
     "text": [
      "4 6\n",
      "0 0 0 0 0 0\n",
      "1 0 0 0 0 2\n",
      "1 1 1 0 0 2\n",
      "0 0 0 0 0 2\n",
      "9\n"
     ]
    }
   ],
   "source": [
    "# 백준 14502 연구소\n",
    "\n",
    "from collections import deque\n",
    "from itertools import combinations\n",
    "from copy import deepcopy\n",
    "\n",
    "\n",
    "n, m = map(int, input().split())\n",
    "\n",
    "lab = []\n",
    "empty = []\n",
    "virus = []\n",
    "for i in range(n):\n",
    "    a = list(map(int, input().split()))\n",
    "    lab.append(a)\n",
    "    for j in range(m):\n",
    "        if a[j] == 0:\n",
    "            empty.append((i, j))\n",
    "        \n",
    "        elif a[j] == 2:\n",
    "            virus.append((i, j))\n",
    "            \n",
    "\n",
    "walls =  list(combinations(empty, 3))\n",
    "\n",
    "dx = [-1, 1, 0, 0]\n",
    "dy = [0, 0, -1, 1]\n",
    "\n",
    "answer = 0\n",
    "for wall in walls:\n",
    "    copy = deepcopy(lab)\n",
    "    for a, b in wall:\n",
    "        copy[a][b] = 1\n",
    "        \n",
    "    \n",
    "    queue = deque(virus)\n",
    "    \n",
    "    while queue:\n",
    "        x, y = queue.popleft()\n",
    "        \n",
    "        for i in range(4):\n",
    "            nx = x + dx[i]\n",
    "            ny = y + dy[i]\n",
    "            \n",
    "            if nx < 0 or nx >= n or ny < 0 or ny >= m:\n",
    "                continue\n",
    "                \n",
    "            if copy[nx][ny] == 0:\n",
    "                copy[nx][ny] = 2\n",
    "                queue.append((nx, ny))\n",
    "                \n",
    "                \n",
    "    count = 0\n",
    "    for i in range(n):\n",
    "        for j in range(m):\n",
    "            if copy[i][j] == 0:\n",
    "                count += 1\n",
    "                \n",
    "    answer = max(answer, count)\n",
    "    \n",
    "    \n",
    "    \n",
    "print(answer)"
   ]
  },
  {
   "cell_type": "markdown",
   "id": "82867d00",
   "metadata": {},
   "source": [
    "https://www.acmicpc.net/problem/2468"
   ]
  },
  {
   "cell_type": "code",
   "execution_count": 10,
   "id": "6a71ac4b",
   "metadata": {},
   "outputs": [
    {
     "name": "stdout",
     "output_type": "stream",
     "text": [
      "7\n",
      "9 9 9 9 9 9 9\n",
      "9 2 1 2 1 2 9\n",
      "9 1 8 7 8 1 9\n",
      "9 2 7 9 7 2 9\n",
      "9 1 8 7 8 1 9\n",
      "9 2 1 2 1 2 9\n",
      "9 9 9 9 9 9 9\n",
      "6\n"
     ]
    }
   ],
   "source": [
    "# 백준 2468 안전 영역\n",
    "\n",
    "from collections import deque\n",
    "\n",
    "def sol(x, y, rain):\n",
    "    queue = deque([(x, y)])\n",
    "    visited[x][y] = 1\n",
    "    \n",
    "    while queue:\n",
    "        x, y = queue.popleft()\n",
    "        \n",
    "        for i in range(4):\n",
    "            nx = x + dx[i]\n",
    "            ny = y + dy[i]\n",
    "            \n",
    "            if nx < 0 or nx >= n or ny < 0 or ny >= n:\n",
    "                continue\n",
    "                \n",
    "            if not visited[nx][ny] and area[nx][ny] > rain:\n",
    "                visited[nx][ny] = 1\n",
    "                queue.append((nx, ny))\n",
    "    \n",
    "\n",
    "n = int(input())\n",
    "\n",
    "area = []\n",
    "highest = 0\n",
    "for i in range(n):\n",
    "    a = list(map(int, input().split()))\n",
    "    area.append(a)\n",
    "    highest = max(highest, max(a))\n",
    "    \n",
    "    \n",
    "dx = [-1, 1, 0, 0]\n",
    "dy = [0, 0, -1, 1]\n",
    "\n",
    "answer = 0\n",
    "for i in range(101):\n",
    "    visited = [[0] * n for _ in range(n)]\n",
    "    count = 0\n",
    "    for j in range(n):\n",
    "        for k in range(n):\n",
    "            if not visited[j][k] and area[j][k] > i:\n",
    "                sol(j, k, i)\n",
    "                count += 1\n",
    "                \n",
    "                \n",
    "    answer = max(answer, count)\n",
    "    \n",
    "    \n",
    "    \n",
    "print(answer)"
   ]
  },
  {
   "cell_type": "code",
   "execution_count": 3,
   "id": "d66c680b",
   "metadata": {},
   "outputs": [
    {
     "data": {
      "text/plain": [
       "[[2, 2, 2, 2, 1, 1, 2],\n",
       " [2, 2, 1, 2, 1, 2, 2],\n",
       " [2, 1, 1, 2, 1, 2, 2],\n",
       " [2, 1, 2, 2, 2, 2, 2],\n",
       " [2, 2, 2, 2, 2, 1, 1],\n",
       " [2, 1, 2, 2, 2, 2, 2],\n",
       " [2, 1, 2, 2, 1, 1, 1]]"
      ]
     },
     "execution_count": 3,
     "metadata": {},
     "output_type": "execute_result"
    }
   ],
   "source": [
    "5\n",
    "6 8 2 6 2\n",
    "3 2 3 4 6\n",
    "6 7 3 3 2\n",
    "7 2 5 3 6\n",
    "8 9 5 2 7\n",
    "\n",
    "7\n",
    "9 9 9 9 9 9 9\n",
    "9 2 1 2 1 2 9\n",
    "9 1 8 7 8 1 9\n",
    "9 2 7 9 7 2 9\n",
    "9 1 8 7 8 1 9\n",
    "9 2 1 2 1 2 9\n",
    "9 9 9 9 9 9 9"
   ]
  },
  {
   "cell_type": "code",
   "execution_count": 7,
   "id": "9ee19fa9",
   "metadata": {},
   "outputs": [
    {
     "data": {
      "text/plain": [
       "[[6, 8, 2, 6, 2],\n",
       " [3, 2, 3, 4, 6],\n",
       " [6, 7, 3, 3, 2],\n",
       " [7, 2, 5, 3, 6],\n",
       " [8, 9, 5, 2, 7]]"
      ]
     },
     "execution_count": 7,
     "metadata": {},
     "output_type": "execute_result"
    }
   ],
   "source": [
    "area"
   ]
  },
  {
   "cell_type": "code",
   "execution_count": 8,
   "id": "3c78fa89",
   "metadata": {},
   "outputs": [
    {
     "data": {
      "text/plain": [
       "[[1, 1, 1, 1, 1],\n",
       " [1, 1, 1, 1, 1],\n",
       " [1, 1, 1, 1, 1],\n",
       " [1, 1, 1, 1, 1],\n",
       " [1, 1, 1, 1, 1]]"
      ]
     },
     "execution_count": 8,
     "metadata": {},
     "output_type": "execute_result"
    }
   ],
   "source": [
    "visited"
   ]
  },
  {
   "cell_type": "code",
   "execution_count": null,
   "id": "9e37d5a6",
   "metadata": {},
   "outputs": [],
   "source": []
  }
 ],
 "metadata": {
  "kernelspec": {
   "display_name": "Python 3",
   "language": "python",
   "name": "python3"
  },
  "language_info": {
   "codemirror_mode": {
    "name": "ipython",
    "version": 3
   },
   "file_extension": ".py",
   "mimetype": "text/x-python",
   "name": "python",
   "nbconvert_exporter": "python",
   "pygments_lexer": "ipython3",
   "version": "3.8.8"
  }
 },
 "nbformat": 4,
 "nbformat_minor": 5
}
