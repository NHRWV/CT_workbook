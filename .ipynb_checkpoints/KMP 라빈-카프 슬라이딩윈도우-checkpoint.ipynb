{
 "cells": [
  {
   "cell_type": "markdown",
   "id": "6ee167e3",
   "metadata": {},
   "source": [
    "https://www.acmicpc.net/problem/16916"
   ]
  },
  {
   "cell_type": "code",
   "execution_count": null,
   "id": "b48f2005",
   "metadata": {},
   "outputs": [],
   "source": [
    "# 백준 16916 부분 문자열\n",
    "\n",
    "\n",
    "def get_pi(pattern):\n",
    "    pi = [0] * len(pattern)\n",
    "    idx = 0\n",
    "    \n",
    "    for i in range(1, len(pattern)):\n",
    "        while idx > 0 and pattern[i] != pattern[idx]:\n",
    "            idx = pi[idx - 1]\n",
    "            \n",
    "        if pattern[i] == pattern[idx]:\n",
    "            idx += 1\n",
    "            pi[i] = idx\n",
    "            \n",
    "    return pi\n",
    "\n",
    "\n",
    "\n",
    "def kmp(s, pattern):\n",
    "    n = len(s)\n",
    "    m = len(pattern)\n",
    "    \n",
    "    pi = get_pi(pattern)\n",
    "    idx = 0\n",
    "    for i in range(n):\n",
    "        while idx > 0 and s[i] != pattern[idx]:\n",
    "            idx = pi[idx - 1]\n",
    "            \n",
    "        if s[i] == pattern[idx]:\n",
    "            if idx == m - 1:\n",
    "                return True\n",
    "            else:\n",
    "                idx += 1\n",
    "                \n",
    "    return False\n",
    "\n",
    "\n",
    "\n",
    "\n",
    "s = input()\n",
    "p = input()\n",
    "\n",
    "if kmp(s, p):\n",
    "    print(1)\n",
    "else:\n",
    "    print(0)"
   ]
  },
  {
   "cell_type": "markdown",
   "id": "03477a71",
   "metadata": {},
   "source": [
    "https://www.acmicpc.net/problem/16172"
   ]
  },
  {
   "cell_type": "code",
   "execution_count": null,
   "id": "db371d30",
   "metadata": {},
   "outputs": [],
   "source": [
    "# 백준 16172  나는 친구가 적다 (Large)\n",
    "\n",
    "\n",
    "def get_pi(pattern):\n",
    "    pi = [0] * len(pattern)\n",
    "    idx = 0\n",
    "    \n",
    "    for i in range(1, len(pattern)):\n",
    "        while idx > 0 and pattern[i] != pattern[idx]:\n",
    "            idx = pi[idx - 1]\n",
    "            \n",
    "        if pattern[i] == pattern[idx]:\n",
    "            idx += 1\n",
    "            pi[i] = idx\n",
    "            \n",
    "    return pi\n",
    "\n",
    "\n",
    "\n",
    "def kmp(s, pattern):\n",
    "    n = len(s)\n",
    "    m = len(pattern)\n",
    "    \n",
    "    pi = get_pi(pattern)\n",
    "    idx = 0\n",
    "    for i in range(n):\n",
    "        if s[i].isdigit():\n",
    "            continue\n",
    "            \n",
    "        while idx > 0 and s[i] != pattern[idx]:\n",
    "            idx = pi[idx - 1]\n",
    "            \n",
    "        if s[i] == pattern[idx]:\n",
    "            if idx == m - 1:\n",
    "                return True\n",
    "            else:\n",
    "                idx += 1\n",
    "                \n",
    "    return False\n",
    "\n",
    "\n",
    "\n",
    "s = input()\n",
    "k = input()\n",
    "\n",
    "if kmp(s, k):\n",
    "    print(1)\n",
    "else:\n",
    "    print(0)"
   ]
  },
  {
   "cell_type": "markdown",
   "id": "6e14d39c",
   "metadata": {},
   "source": [
    "https://www.acmicpc.net/problem/1701"
   ]
  },
  {
   "cell_type": "code",
   "execution_count": null,
   "id": "f9b60907",
   "metadata": {},
   "outputs": [],
   "source": [
    "# 백준 1701 Cubeditor\n",
    "\n",
    "def get_pi(pattern):\n",
    "    pi = [0] * len(pattern)\n",
    "    idx = 0\n",
    "    \n",
    "    for i in range(1, len(pattern)):\n",
    "        while idx > 0 and pattern[i] != pattern[idx]:\n",
    "            idx = pi[idx - 1]\n",
    "            \n",
    "        if pattern[i] == pattern[idx]:\n",
    "            idx += 1\n",
    "            pi[i] = idx\n",
    "            \n",
    "    return max(pi)\n",
    "\n",
    "\n",
    "\n",
    "s = input()\n",
    "\n",
    "answer = 0\n",
    "for i in range(len(s)):\n",
    "    p = s[i:len(s)]\n",
    "    answer = max(answer, get_pi(p))\n",
    "    \n",
    "    \n",
    "print(answer)"
   ]
  },
  {
   "cell_type": "markdown",
   "id": "ff244183",
   "metadata": {},
   "source": [
    "https://www.acmicpc.net/problem/1786"
   ]
  },
  {
   "cell_type": "code",
   "execution_count": null,
   "id": "3c2d35bc",
   "metadata": {},
   "outputs": [],
   "source": [
    "# 백준 1786 찾기\n",
    "\n",
    "def get_pi(pattern):\n",
    "    pi = [0] * len(pattern)\n",
    "    idx = 0\n",
    "    \n",
    "    for i in range(1, len(pattern)):\n",
    "        while idx > 0 and pattern[i] != pattern[idx]:\n",
    "            idx = pi[idx - 1]\n",
    "            \n",
    "        if pattern[i] == pattern[idx]:\n",
    "            idx += 1\n",
    "            pi[i] = idx\n",
    "            \n",
    "    return pi\n",
    "\n",
    "\n",
    "\n",
    "def kmp(s, pattern):\n",
    "    n = len(s)\n",
    "    m = len(pattern)\n",
    "    \n",
    "    pi = get_pi(pattern)\n",
    "    idx = 0\n",
    "    lst = []\n",
    "    \n",
    "    for i in range(n):\n",
    "        if s[i].isdigit():\n",
    "            continue\n",
    "            \n",
    "        while idx > 0 and s[i] != pattern[idx]:\n",
    "            idx = pi[idx - 1]\n",
    "            \n",
    "        if s[i] == pattern[idx]:\n",
    "            if idx == m - 1:\n",
    "                lst.append(i - m + 2)\n",
    "                idx = pi[idx]\n",
    "                \n",
    "            else:\n",
    "                idx += 1\n",
    "                \n",
    "    return lst\n",
    "\n",
    "\n",
    "\n",
    "t = input()\n",
    "p = input()\n",
    "\n",
    "answer = kmp(t, p)\n",
    "\n",
    "print(len(answer))\n",
    "print(*answer)\n"
   ]
  },
  {
   "cell_type": "markdown",
   "id": "ff749c8b",
   "metadata": {},
   "source": [
    "https://www.acmicpc.net/problem/4354"
   ]
  },
  {
   "cell_type": "code",
   "execution_count": null,
   "id": "64ba6f72",
   "metadata": {},
   "outputs": [],
   "source": [
    "# 백준 4354 문자열 제곱\n",
    "\n",
    "def get_pi(pattern):\n",
    "    pi = [0] * len(pattern)\n",
    "    idx = 0\n",
    "    \n",
    "    for i in range(1, len(pattern)):\n",
    "        while idx > 0 and pattern[i] != pattern[idx]:\n",
    "            idx = pi[idx - 1]\n",
    "            \n",
    "        if pattern[i] == pattern[idx]:\n",
    "            idx += 1\n",
    "            pi[i] = idx\n",
    "            \n",
    "    return pi\n",
    "\n",
    "\n",
    "\n",
    "\n",
    "while True:\n",
    "    s = input()\n",
    "    if s == '.':\n",
    "        break\n",
    "        \n",
    "    check = get_pi(s)\n",
    "    \n",
    "    s_len = len(s)\n",
    "    p_len = s_len - check[s_len - 1]\n",
    "    \n",
    "    \n",
    "    if not s_len % p_len:\n",
    "        print(s_len // p_len)\n",
    "    \n",
    "    else:\n",
    "        print(1)\n",
    "    \n",
    "    "
   ]
  },
  {
   "cell_type": "markdown",
   "id": "7cc7172e",
   "metadata": {},
   "source": [
    "https://www.acmicpc.net/problem/11585"
   ]
  },
  {
   "cell_type": "code",
   "execution_count": 52,
   "id": "df978232",
   "metadata": {},
   "outputs": [
    {
     "name": "stdout",
     "output_type": "stream",
     "text": [
      "6\n",
      "A A B A A B\n",
      "B A A B A A\n",
      "1/3\n"
     ]
    }
   ],
   "source": [
    "# 백준 11585 속타는 저녁 메뉴\n",
    "\n",
    "import math\n",
    "\n",
    "def get_pi(pattern):\n",
    "    pi = [0] * len(pattern)\n",
    "    idx = 0\n",
    "    \n",
    "    for i in range(1, len(pattern)):\n",
    "        while idx > 0 and pattern[i] != pattern[idx]:\n",
    "            idx = pi[idx - 1]\n",
    "            \n",
    "        if pattern[i] == pattern[idx]:\n",
    "            idx += 1\n",
    "            pi[i] = idx\n",
    "            \n",
    "    return pi\n",
    "\n",
    "\n",
    "def kmp(s, pattern):\n",
    "    n = len(s)\n",
    "    m = len(pattern)\n",
    "    \n",
    "    pi = get_pi(pattern)\n",
    "    idx = 0\n",
    "    lst = []\n",
    "    \n",
    "    for i in range(n):\n",
    "        if s[i].isdigit():\n",
    "            continue\n",
    "            \n",
    "        while idx > 0 and s[i] != pattern[idx]:\n",
    "            idx = pi[idx - 1]\n",
    "            \n",
    "        if s[i] == pattern[idx]:\n",
    "            if idx == m - 1:\n",
    "                lst.append(i - m + 2)\n",
    "                idx = pi[idx]\n",
    "                \n",
    "            else:\n",
    "                idx += 1\n",
    "                \n",
    "    return lst\n",
    "\n",
    "\n",
    "\n",
    "\n",
    "n = int(input())\n",
    "s = list(map(str, input().split()))\n",
    "s = \"\".join(s)\n",
    "\n",
    "cur = list(map(str, input().split()))\n",
    "cur = \"\".join(cur)\n",
    "cur += cur[:-1]\n",
    "\n",
    "\n",
    "result = kmp(cur, s)\n",
    "    \n",
    "p_count = len(result)\n",
    "gcd = math.gcd(n, p_count)\n",
    "    \n",
    "print(\"{}/{}\".format(p_count // gcd, n // gcd))\n",
    "    \n"
   ]
  },
  {
   "cell_type": "code",
   "execution_count": 1,
   "id": "ca8d0884",
   "metadata": {},
   "outputs": [],
   "source": [
    "9\n",
    "I W A N T M E A T\n",
    "E A T I W A N T M\n",
    "\n",
    "6\n",
    "A A B A A B\n",
    "B A A B A A"
   ]
  },
  {
   "cell_type": "code",
   "execution_count": 43,
   "id": "bf79ffbe",
   "metadata": {},
   "outputs": [
    {
     "data": {
      "text/plain": [
       "0"
      ]
     },
     "execution_count": 43,
     "metadata": {},
     "output_type": "execute_result"
    }
   ],
   "source": [
    "p_count"
   ]
  },
  {
   "cell_type": "code",
   "execution_count": 44,
   "id": "d7ab0f3e",
   "metadata": {},
   "outputs": [
    {
     "data": {
      "text/plain": [
       "6"
      ]
     },
     "execution_count": 44,
     "metadata": {},
     "output_type": "execute_result"
    }
   ],
   "source": [
    "gcd"
   ]
  },
  {
   "cell_type": "code",
   "execution_count": 45,
   "id": "584a77a2",
   "metadata": {},
   "outputs": [
    {
     "data": {
      "text/plain": [
       "6"
      ]
     },
     "execution_count": 45,
     "metadata": {},
     "output_type": "execute_result"
    }
   ],
   "source": [
    "n"
   ]
  },
  {
   "cell_type": "code",
   "execution_count": 46,
   "id": "124154b4",
   "metadata": {},
   "outputs": [
    {
     "data": {
      "text/plain": [
       "[0, 0, 0, 0, 0, 0, 0, 0, 0]"
      ]
     },
     "execution_count": 46,
     "metadata": {},
     "output_type": "execute_result"
    }
   ],
   "source": [
    "pi"
   ]
  },
  {
   "cell_type": "code",
   "execution_count": 47,
   "id": "b0c223b7",
   "metadata": {},
   "outputs": [
    {
     "data": {
      "text/plain": [
       "[]"
      ]
     },
     "execution_count": 47,
     "metadata": {},
     "output_type": "execute_result"
    }
   ],
   "source": [
    "result"
   ]
  },
  {
   "cell_type": "code",
   "execution_count": 48,
   "id": "0284504d",
   "metadata": {},
   "outputs": [
    {
     "data": {
      "text/plain": [
       "'AABAAB'"
      ]
     },
     "execution_count": 48,
     "metadata": {},
     "output_type": "execute_result"
    }
   ],
   "source": [
    "s"
   ]
  },
  {
   "cell_type": "code",
   "execution_count": 49,
   "id": "266b2798",
   "metadata": {},
   "outputs": [
    {
     "data": {
      "text/plain": [
       "'BAABAABAABA'"
      ]
     },
     "execution_count": 49,
     "metadata": {},
     "output_type": "execute_result"
    }
   ],
   "source": [
    "cur"
   ]
  },
  {
   "cell_type": "code",
   "execution_count": 50,
   "id": "efc55cf3",
   "metadata": {},
   "outputs": [
    {
     "ename": "NameError",
     "evalue": "name 'lst' is not defined",
     "output_type": "error",
     "traceback": [
      "\u001b[1;31m---------------------------------------------------------------------------\u001b[0m",
      "\u001b[1;31mNameError\u001b[0m                                 Traceback (most recent call last)",
      "\u001b[1;32m<ipython-input-50-b5cada25ed2a>\u001b[0m in \u001b[0;36m<module>\u001b[1;34m\u001b[0m\n\u001b[1;32m----> 1\u001b[1;33m \u001b[0mlst\u001b[0m\u001b[1;33m\u001b[0m\u001b[1;33m\u001b[0m\u001b[0m\n\u001b[0m",
      "\u001b[1;31mNameError\u001b[0m: name 'lst' is not defined"
     ]
    }
   ],
   "source": [
    "lst"
   ]
  },
  {
   "cell_type": "code",
   "execution_count": null,
   "id": "3ddc87b2",
   "metadata": {},
   "outputs": [],
   "source": []
  }
 ],
 "metadata": {
  "kernelspec": {
   "display_name": "Python 3",
   "language": "python",
   "name": "python3"
  },
  "language_info": {
   "codemirror_mode": {
    "name": "ipython",
    "version": 3
   },
   "file_extension": ".py",
   "mimetype": "text/x-python",
   "name": "python",
   "nbconvert_exporter": "python",
   "pygments_lexer": "ipython3",
   "version": "3.8.8"
  }
 },
 "nbformat": 4,
 "nbformat_minor": 5
}
