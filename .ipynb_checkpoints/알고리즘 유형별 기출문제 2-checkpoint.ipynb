{
 "cells": [
  {
   "cell_type": "markdown",
   "metadata": {},
   "source": [
    "- 이진 탐색\n",
    "\n",
    "- 다이나믹 프로그래밍\n",
    "\n",
    "- 최단 경로\n",
    "\n",
    "- 그래프 이론"
   ]
  },
  {
   "cell_type": "markdown",
   "metadata": {},
   "source": [
    "## 이진 탐색\n",
    "\n",
    "### 정렬된 배열에서 특정 수의 개수 구하기"
   ]
  },
  {
   "cell_type": "code",
   "execution_count": 5,
   "metadata": {},
   "outputs": [
    {
     "name": "stdout",
     "output_type": "stream",
     "text": [
      "7 4\n",
      "1 1 2 2 2 2 3\n",
      "-1\n"
     ]
    }
   ],
   "source": [
    "from bisect import bisect_left, bisect_right\n",
    "\n",
    "n, x = map(int, input().split())\n",
    "seq = list(map(int, input().split()))\n",
    "\n",
    "if x not in set(seq):  # 집합 내부 탐색은 시간복잡도가 굉장히 낮다.\n",
    "    print(-1)\n",
    "    \n",
    "else:\n",
    "    left = bisect_left(seq, x)\n",
    "    right = bisect_right(seq, x)\n",
    "    \n",
    "    print(right - left)\n",
    "    \n",
    "    # 참고로 bisect 모듈의 bisect_left는 배열에서 x의 첫 위치를 알려주고, bisect_right는 배열에서 x 다음의 위치를 알려준다."
   ]
  },
  {
   "cell_type": "markdown",
   "metadata": {},
   "source": [
    "### 고정점 찾기\n"
   ]
  },
  {
   "cell_type": "code",
   "execution_count": 8,
   "metadata": {},
   "outputs": [
    {
     "name": "stdout",
     "output_type": "stream",
     "text": [
      "7\n",
      "-15 -4 2 8 9 13 15\n",
      "2\n"
     ]
    }
   ],
   "source": [
    "n = int(input())\n",
    "seq = list(map(int, input().split()))\n",
    "\n",
    "def umjunsik(arr, start, end): # 재귀함수로 구현.\n",
    "    if start > end:\n",
    "        return None\n",
    "    \n",
    "    mid = (start + end) // 2\n",
    "    \n",
    "    if arr[mid] == mid:   # 탐색 대상을 찾으면 출력한다.\n",
    "        return mid\n",
    "    \n",
    "    elif arr[mid] > mid:    \n",
    "        return umjunsik(arr, start, mid - 1)   # 탐색범위를 하위 범위로 좁힌다.\n",
    "       \n",
    "    else:\n",
    "        return umjunsik(arr, mid + 1, end)  #  탐색범위를 상위 범위로 좁힌다.\n",
    "    \n",
    "    \n",
    "if umjunsik(seq, 0, n-1) == None:\n",
    "    print(-1)\n",
    "    \n",
    "else:\n",
    "    print(umjunsik(seq, 0, n-1))"
   ]
  },
  {
   "cell_type": "markdown",
   "metadata": {},
   "source": [
    "### 공유기 설치\n",
    "\n",
    "https://www.acmicpc.net/problem/2110"
   ]
  },
  {
   "cell_type": "code",
   "execution_count": null,
   "metadata": {
    "scrolled": true
   },
   "outputs": [],
   "source": [
    "# 백준 2110\n",
    "\n",
    "n, c = map(int, input().split())\n",
    "crd = []\n",
    "for i in range(n):\n",
    "    crd.append(int(input()))\n",
    "    \n",
    "crd.sort()    # 당연히, 이분탐색을 하기 위해 우선 정렬을 한다.\n",
    "\n",
    "start = 1\n",
    "end = crd[n-1] - crd[0]\n",
    "\n",
    "answer = 0\n",
    "while start <= end:\n",
    "    temp = 0\n",
    "    count = c-1\n",
    "    mid = (start + end) // 2   # 공유기 간의 간격 설정.\n",
    "    \n",
    "    for i in range(1, n):\n",
    "        if crd[i] - crd[temp] >= mid:  # 설정된 공유기 간의 간격으로 모든 공유기들을 설치할 수 있는지 알아보자.\n",
    "            count -= 1\n",
    "            temp = i\n",
    "            \n",
    "    if count > 0:   # 설치 불가\n",
    "        end = mid - 1\n",
    "      \n",
    "    else:\n",
    "        answer = mid   # 설치 가능\n",
    "        start = mid + 1\n",
    "       \n",
    "      \n",
    "    \n",
    "print(answer)"
   ]
  },
  {
   "cell_type": "markdown",
   "metadata": {},
   "source": [
    "### 가사 검색\n",
    "\n",
    "https://programmers.co.kr/learn/courses/30/lessons/60060"
   ]
  },
  {
   "cell_type": "code",
   "execution_count": 13,
   "metadata": {},
   "outputs": [
    {
     "data": {
      "text/plain": [
       "2"
      ]
     },
     "execution_count": 13,
     "metadata": {},
     "output_type": "execute_result"
    }
   ],
   "source": [
    "def solution(words, queries):\n",
    "    answer = []\n",
    "    return answer"
   ]
  },
  {
   "cell_type": "markdown",
   "metadata": {},
   "source": [
    "## 다이나믹 프로그래밍\n",
    "### 정수 삼각형\n",
    "\n",
    "https://www.acmicpc.net/problem/1932"
   ]
  },
  {
   "cell_type": "code",
   "execution_count": null,
   "metadata": {},
   "outputs": [],
   "source": [
    "# 백준 1932\n",
    "\n",
    "from copy import deepcopy\n",
    "\n",
    "n = int(input())\n",
    "tri = []\n",
    "for i in range(n):\n",
    "    tri.append(list(map(int, input().split())))\n",
    "    \n",
    "dp = deepcopy(tri)\n",
    "\n",
    "for i in range(n):\n",
    "    for j in range(i+1):\n",
    "        if j == 0:   # 왜와이? 맨 왼쪽 숫자라면 그 숫자의 왼쪽 위엔 아무것도 없으니까....끄덕.\n",
    "            upper_left = 0\n",
    "            \n",
    "        else:\n",
    "            upper_left = dp[i-1][j-1] \n",
    "            \n",
    "        if j == i:\n",
    "            upper = 0   # 맨 오른쪽 숫자의 경우, 바로 위에는 아무것도 없으니까...끄덕.\n",
    "            \n",
    "        else:\n",
    "            upper = dp[i-1][j]\n",
    "            \n",
    "        dp[i][j] = dp[i][j] + max(upper_left, upper)\n",
    "        \n",
    "print(max(dp[n-1]))"
   ]
  },
  {
   "cell_type": "markdown",
   "metadata": {},
   "source": [
    "### 금광"
   ]
  },
  {
   "cell_type": "code",
   "execution_count": null,
   "metadata": {},
   "outputs": [],
   "source": [
    "from copy import deepcopy\n",
    "\n",
    "t = int(input())\n",
    "for i in range(t):\n",
    "    n, m = map(int, input().split())\n",
    "    \n",
    "    lst = list(map(int, input().split()))\n",
    "    gold = []\n",
    "    a = 0\n",
    "    for j in range(len(lst) // m):\n",
    "        gold.append(lst[a * m :(a + 1) * m])\n",
    "        a += 1\n",
    "    # 여기까지는 값을 저장하는 부분이었다.\n",
    "    \n",
    "    dp = deepcopy(gold)   # 메모리제이션을 위해 금광 정보를 그대로 가져온다.\n",
    "    for j in range(1, m):   # 우선 첫 번째 열은 넘기고 두 번째 열부터 최선의 선택을 했을 경우를 따져본다.\n",
    "        for k in range(n):\n",
    "            if k == 0:  # 첫 번째 행일 경우, 선택지는 이전 열의 같은 행과 한 단계 낮은 행이다.\n",
    "                dp[k][j] = dp[k][j] + max(dp[k][j-1], dp[k+1][j-1])\n",
    "                \n",
    "            elif k == n-1:  # 마지막 행일 경우, 선택지는 이전 열의 같은 행과 한 단계 위의 행이다.\n",
    "                dp[k][j] = dp[k][j] + max(dp[k][j-1], dp[k-1][j-1])\n",
    "                \n",
    "            else:   # 나머지 행은 이전 열에서 선택지가 세 개가 된다.\n",
    "                dp[k][j] = dp[k][j] + max(dp[k][j-1], dp[k+1][j-1], dp[k-1][j-1])\n",
    "                \n",
    "    answer = 0\n",
    "    for j in range(n):\n",
    "        answer = max(answer, dp[j][m-1])\n",
    "        \n",
    "    print(answer)"
   ]
  },
  {
   "cell_type": "markdown",
   "metadata": {},
   "source": [
    "### 퇴사\n",
    "\n",
    "https://www.acmicpc.net/problem/14501"
   ]
  },
  {
   "cell_type": "code",
   "execution_count": null,
   "metadata": {
    "scrolled": true
   },
   "outputs": [],
   "source": [
    "# 백준 14501\n",
    "\n",
    "n = int(input())\n",
    "schedule = []\n",
    "for i in range(n):\n",
    "    schedule.append(list(map(int, input().split())))\n",
    "    \n",
    "dp = [0] * (n+1) # i번째 날부터 마지막까지 얻을 수 있는 최대 이익.\n",
    "max_profit = 0\n",
    "for i in range(n-1, -1, -1):   # 뒤에서부터 생각해본다.\n",
    "    if i + schedule[i][0] <= n:  # i번째 날에서 그 날 시작하는 상담을 했을 때, 기간 안에 끝낼 수 있느냐??\n",
    "        dp[i] = max(schedule[i][1] + dp[i + schedule[i][0]], max_profit)\n",
    "        max_profit = dp[i]\n",
    "        \n",
    "    else:\n",
    "        dp[i] = max_profit\n",
    "        \n",
    "    #print(dp)\n",
    "    #print(max_profit)\n",
    "        \n",
    "        \n",
    "print(max_profit)"
   ]
  },
  {
   "cell_type": "markdown",
   "metadata": {},
   "source": [
    "### 병사 배치하기\n",
    "\n",
    "https://www.acmicpc.net/problem/18353"
   ]
  },
  {
   "cell_type": "code",
   "execution_count": 6,
   "metadata": {},
   "outputs": [
    {
     "name": "stdout",
     "output_type": "stream",
     "text": [
      "7\n",
      "15 11 4 8 5 2 4\n",
      "2\n"
     ]
    }
   ],
   "source": [
    "# 백준 18353\n",
    "# 가장 긴 증가하는 부분 수열: o(n log n) - 처음 풀 땐 몰랐는데 지금 보니 가장 긴 부분 수열 문제다. \n",
    "\n",
    "\n",
    "n = int(input())\n",
    "force = list(map(int, input().split()))\n",
    "\n",
    "dp = [1] * 2001\n",
    "for i in range(n-1, -1, -1):\n",
    "    for j in range(i+1, n):\n",
    "        if force[i] > force[j]:\n",
    "            if dp[i] < dp[j] + 1:\n",
    "                dp[i] = dp[j] + 1\n",
    "    \n",
    "            \n",
    "print(n - max(dp))"
   ]
  },
  {
   "cell_type": "code",
   "execution_count": 8,
   "metadata": {},
   "outputs": [
    {
     "name": "stdout",
     "output_type": "stream",
     "text": [
      "7\n",
      "15 11 4 8 5 2 4\n",
      "5\n"
     ]
    }
   ],
   "source": [
    "# 그래서 위의 문제를 이분탐색으로 풀어보았다.\n",
    "\n",
    "from bisect import bisect_left\n",
    "\n",
    "n = int(input())\n",
    "seq = list(map(int, input().split()))\n",
    "seq.reverse()  # 내림차순 문제를 오름차순 문제로 바꾸기 위해.\n",
    "dp = []\n",
    "\n",
    "for i in seq:\n",
    "    a = bisect_left(dp, i)\n",
    "    \n",
    "    if len(dp) <= a:\n",
    "        dp.append(i)\n",
    "        \n",
    "    else:\n",
    "        dp[a] = i\n",
    "        \n",
    "print(n - len(dp))"
   ]
  },
  {
   "cell_type": "markdown",
   "metadata": {},
   "source": [
    "### 못생긴 수"
   ]
  },
  {
   "cell_type": "code",
   "execution_count": 3,
   "metadata": {},
   "outputs": [
    {
     "name": "stdout",
     "output_type": "stream",
     "text": [
      "4\n",
      "4\n"
     ]
    }
   ],
   "source": [
    "n = int(input())\n",
    "\n",
    "dp = [0] * 1001\n",
    "dp[0] = 1\n",
    "\n",
    "a = 0\n",
    "b = 0\n",
    "c = 0\n",
    "\n",
    "t2 = 2\n",
    "t3 = 3\n",
    "t5 = 5\n",
    "\n",
    "for i in range(1, n):\n",
    "    dp[i] = min(t2, t3, t5)\n",
    "    \n",
    "    if dp[i] == t2:\n",
    "        a += 1\n",
    "        t2 = dp[a] * 2\n",
    "    if dp[i] == t3:\n",
    "        b += 1\n",
    "        t3 = dp[b] * 3\n",
    "    if dp[i] == t5:\n",
    "        c += 1\n",
    "        t5 = dp[c] * 5\n",
    "        \n",
    "print(dp[n-1])"
   ]
  },
  {
   "cell_type": "markdown",
   "metadata": {},
   "source": [
    "### 편집 거리"
   ]
  },
  {
   "cell_type": "code",
   "execution_count": 4,
   "metadata": {},
   "outputs": [
    {
     "name": "stdout",
     "output_type": "stream",
     "text": [
      "cat\n",
      "cut\n"
     ]
    }
   ],
   "source": [
    "a = input()\n",
    "b = input()\n",
    "\n"
   ]
  },
  {
   "cell_type": "markdown",
   "metadata": {},
   "source": [
    "## 최단 경로 문제\n",
    "\n",
    "### 플로이드\n",
    "\n",
    "https://www.acmicpc.net/problem/11404"
   ]
  },
  {
   "cell_type": "code",
   "execution_count": null,
   "metadata": {},
   "outputs": [],
   "source": [
    "# 플로이드-와샬 알고리즘 기본 문제다. 그냥 기본 소스코드만 가져다 써도 풀린다. \n",
    "# 더이상 설명할 게 없다.\n",
    "\n",
    "import sys\n",
    "# input = sys.stdin.readline\n",
    "\n",
    "n = int(input())\n",
    "m = int(input())\n",
    "\n",
    "inf = int(1e9)\n",
    "info = [[inf] * (n+1) for _ in range(n+1)]\n",
    "\n",
    "for i in range(n+1):\n",
    "    for j in range(n+1):\n",
    "        if i == j:\n",
    "            info[i][j] = 0\n",
    "            \n",
    "for i in range(m):\n",
    "    a, b, c = map(int, input().split())\n",
    "    info[a][b] = min(info[a][b], c)\n",
    "    \n",
    "for i in range(1, n+1):\n",
    "    for x in range(1, n+1):\n",
    "        for y in range(1, n+1):\n",
    "            info[x][y] = min(info[x][y], info[x][i] + info[i][y])\n",
    "            \n",
    "\n",
    "for i in range(1, n+1):\n",
    "    for j in range(1, n+1):\n",
    "        if info[i][j] == inf:\n",
    "            print(0, end = ' ')\n",
    "        \n",
    "        else:\n",
    "            print(info[i][j], end = ' ')\n",
    "            \n",
    "            \n",
    "    print()\n",
    "    "
   ]
  },
  {
   "cell_type": "markdown",
   "metadata": {},
   "source": [
    "### 정확한 순위\n",
    "\n",
    "\n",
    "백준의 '키 순서'라는 문제와  똑같다.\n",
    "\n",
    "https://www.acmicpc.net/problem/2458"
   ]
  },
  {
   "cell_type": "code",
   "execution_count": null,
   "metadata": {},
   "outputs": [],
   "source": [
    "import sys\n",
    "# input = sys.stdin.readline\n",
    "\n",
    "n, m = map(int, input().split())\n",
    "\n",
    "\n",
    "height = [[0] * (n+1) for _ in range(n+1)]\n",
    "\n",
    "for i in range(1, n+1):\n",
    "    height[i][i] = 0\n",
    "\n",
    "for i in range(m):\n",
    "    a, b = map(int, input().split())\n",
    "    height[a][b] = 1\n",
    "    \n",
    "\n",
    "    \n",
    "for k in range(1, n+1):  # k 번 돌려준다.\n",
    "    for i in range(1, n+1):\n",
    "        for j in range(1, n+1):\n",
    "            if height[i][k] + height[k][j] == 2:   # i가 k보다 작고, k가 j보다 작으면 당연히 i는 j보다 작다는 사실을 알 수 있다.\n",
    "                height[i][j] = 1\n",
    "                \n",
    "\n",
    "count = 0\n",
    "for i in range(1, n+1):\n",
    "    total = 0\n",
    "    for j in range(1, n+1):\n",
    "        \n",
    "        \n",
    "        total += height[i][j] + height[j][i] # 자신보다 키가 작은 사람 수 + 자신보다 키가 큰 사람 수.\n",
    "        \n",
    "    if total == n-1: # 그러니까 자기보다 키가 작은 사람과 큰 사람 수를 합쳤을 때 n-1명이면 당연히 자기의 키 순서를 알 수 있다.\n",
    "        count += 1\n",
    "        \n",
    "\n",
    "print(count)\n",
    "    "
   ]
  },
  {
   "cell_type": "markdown",
   "metadata": {},
   "source": [
    "### 숨바꼭질\n",
    "\n",
    "\n",
    "백준의 '숨바꼭질'이라는 문제와 똑같다.\n",
    "\n",
    "https://www.acmicpc.net/problem/6118"
   ]
  },
  {
   "cell_type": "code",
   "execution_count": null,
   "metadata": {},
   "outputs": [],
   "source": [
    "# 백준 6118\n",
    "\n",
    "import heapq\n",
    "\n",
    "n, m = map(int, input().split())\n",
    "hut = [[] for _ in range(n+1)]\n",
    "for i in range(m):\n",
    "    a, b = map(int, input().split())\n",
    "    hut[a].append((b, 1)) # 비용을 0으로 하면 답이 안 나온다. 당연한 건데 이것 때문에 좀 헤멨다.\n",
    "    hut[b].append((a, 1))\n",
    "    \n",
    "inf = int(1e9)\n",
    "\n",
    "distance = [inf] * (n+1)\n",
    "\n",
    "queue = []\n",
    "heapq.heappush(queue, (0, 1))\n",
    "distance[1] = 0\n",
    "while queue:\n",
    "    dist, node = heapq.heappop(queue)\n",
    "    \n",
    "    if distance[node] < dist:\n",
    "        continue\n",
    "        \n",
    "    for nxt, w in hut[node]:\n",
    "        cost = dist + w\n",
    "        if cost < distance[nxt]:\n",
    "            distance[nxt] = cost\n",
    "            heapq.heappush(queue, (cost, nxt))\n",
    "            \n",
    "\n",
    "            \n",
    "del distance[0]  # 이거 안하면 당연히 가장 긴 거리가 inf로 나온다.\n",
    "target = max(distance) # 우리가 찾을 목표는 이거다.\n",
    "\n",
    "print(distance.index(target) + 1)\n",
    "print(target)\n",
    "print(distance.count(target))\n",
    "    \n",
    "    \n",
    "    \n"
   ]
  },
  {
   "cell_type": "markdown",
   "metadata": {},
   "source": [
    "### 화성 탐사"
   ]
  },
  {
   "cell_type": "code",
   "execution_count": 10,
   "metadata": {},
   "outputs": [
    {
     "data": {
      "text/plain": [
       "[1000000000, 0, 1, 1, 2, 2, 2]"
      ]
     },
     "execution_count": 10,
     "metadata": {},
     "output_type": "execute_result"
    }
   ],
   "source": [
    "# 그래프가 아니라 2차원 배열이 주어진 문제다. 각 칸이 하나의 노드라고 생각하면 될 듯하다.\n",
    "\n",
    "import heapq\n",
    "\n",
    "inf = int(1e9)\n",
    "\n",
    "dx = [0, 0, -1, 1]\n",
    "dy = [-1, 1, 0, 0]\n",
    "\n",
    "t = int(input())\n",
    "for i in range(t):\n",
    "    n = int(input())\n",
    "    \n",
    "    edge = []\n",
    "    for j in range(n):\n",
    "        edge.append(list(map(int, input().split())))\n",
    "        \n",
    "    distance = [[inf] * n for _ in range(n)]  # 2차원 배열이니 초기 거리 배정 자료구조도 2차원으로 한다.\n",
    "    \n",
    "    queue = [edge[0][0], 0, 0]  # 시작 누적 비용, 시작 좌표.\n",
    "    distance[0][0] = edge[0][0]\n",
    "    \n",
    "    while queue:\n",
    "        dist, x, y = heapq.heappop(queue)\n",
    "        if distance[x][y] < dist:\n",
    "            continue\n",
    "            \n",
    "        if 0 <= nx < n and 0 <= ny < n:\n",
    "            cost = dist + edge[nx][ny]\n",
    "            \n",
    "            if cost < distance[nx][ny]:\n",
    "                distance[nx][ny] = cost\n",
    "                heapq.heappush(queue, (cost, nx, ny))\n",
    "                \n",
    "                \n",
    "                \n",
    "    print(distance[n-1][n-1])"
   ]
  },
  {
   "cell_type": "markdown",
   "metadata": {},
   "source": [
    "## 그래프 이론 문제\n",
    "\n",
    "### 여행 계획"
   ]
  },
  {
   "cell_type": "code",
   "execution_count": 5,
   "metadata": {},
   "outputs": [
    {
     "name": "stdout",
     "output_type": "stream",
     "text": [
      "5 4\n",
      "0 1 0 1 1\n",
      "1 0 1 1 0\n",
      "0 1 0 0 0\n",
      "1 1 0 0 0\n",
      "1 0 0 0 0\n",
      "2 3 4 3\n",
      "YES\n"
     ]
    }
   ],
   "source": [
    "def find_parent(x):\n",
    "    if parent[x] != x:\n",
    "        parent[x] = find_parent(parent[x])\n",
    "    return parent[x]\n",
    "\n",
    "def union(x, y):\n",
    "    x = find_parent(x)\n",
    "    y = find_parent(y)\n",
    "    \n",
    "    if x < y:\n",
    "        parent[y] = x\n",
    "    else:\n",
    "        parent[x] = y\n",
    "        \n",
    "\n",
    "\n",
    "        \n",
    "\n",
    "    \n",
    "n, m = map(int, input().split())\n",
    "\n",
    "parent = [0] * (n+1)\n",
    "for i in range(1, n+1):\n",
    "    parent[i] = i\n",
    "    \n",
    "\n",
    "for i in range(n):\n",
    "    a = list(map(int, input().split()))\n",
    "    for j in range(n):\n",
    "        if a[j] == 1:\n",
    "            union(i+1, j+1)   # 1이면 서로 연결 되어있단 뜻이니까 유니온.\n",
    "            \n",
    "\n",
    "plan = list(map(int, input().split()))\n",
    "\n",
    "\n",
    "check = 1\n",
    "for i in range(m-1):\n",
    "    if find_parent(plan[i]) != find_parent(plan[i+1]): # 여행 계획 상의 목적지들 간 부모 노드 일치 여부 확인.\n",
    "        check = 0\n",
    "        \n",
    "        \n",
    "if check:\n",
    "    print(\"YES\")\n",
    "else:\n",
    "    print(\"NO\")\n",
    "        \n",
    "        \n",
    "        \n",
    "        \n"
   ]
  },
  {
   "cell_type": "markdown",
   "metadata": {},
   "source": [
    "### 탑승구\n",
    "\n",
    "\n",
    "백준의 '공항'이라는 문제와 똑같다.\n",
    "\n",
    "https://www.acmicpc.net/problem/10775"
   ]
  },
  {
   "cell_type": "code",
   "execution_count": null,
   "metadata": {},
   "outputs": [],
   "source": [
    "# 아 이거 원래 그리디로 시도했지만 자꾸 시간초과 났다. \n",
    "# 몇 번의 시도 끝에 그냥 분리 집합으로 풀었다. \n",
    "# 아무튼 파이썬으론 택도 없다...?\n",
    "\n",
    "\n",
    "import sys\n",
    "# input = sys.stdin.readline\n",
    "\n",
    "def find_parent(x):\n",
    "    if parent[x] != x:\n",
    "        parent[x] = find_parent(parent[x])\n",
    "    return parent[x]\n",
    "\n",
    "def union(x, y):\n",
    "    x = find_parent(x)\n",
    "    y = find_parent(y)\n",
    "    \n",
    "    if x < y:\n",
    "        parent[y] = x\n",
    "    else:\n",
    "        parent[x] = y\n",
    "    \n",
    "    \n",
    "g = int(input())\n",
    "p = int(input())\n",
    "\n",
    "parent = [0] * (g+1)\n",
    "for i in range(1, g+1):\n",
    "    parent[i] = i\n",
    "\n",
    "plane = []\n",
    "for i in range(p):\n",
    "    plane.append(int(input()))\n",
    "    \n",
    "    \n",
    "cnt = 0\n",
    "for i in plane: # 비행기 도착할 때마다 게이트가 다 찼는지부터 확인한다. a가 0이면 가능한 게이트가 없다는 뜻.\n",
    "    a = find_parent(i)\n",
    "    \n",
    "    if a == 0:\n",
    "        break\n",
    "        \n",
    "    cnt += 1\n",
    "    union(a-1, a)  # 가능한 게이트가 남아 있을 시 게이트끼리 연결.\n",
    "    \n",
    "print(cnt)"
   ]
  },
  {
   "cell_type": "markdown",
   "metadata": {},
   "source": [
    "### 어두운 길\n",
    "\n",
    "\n",
    "백준의 '전력난' 문제와 똑같다.\n",
    "\n",
    "https://www.acmicpc.net/problem/6497"
   ]
  },
  {
   "cell_type": "code",
   "execution_count": null,
   "metadata": {},
   "outputs": [],
   "source": [
    "# 최소 스패닝 트리의 기본 유형이다.\n",
    "\n",
    "import sys\n",
    "# input = sys.stdin.readline\n",
    "\n",
    "def find_parent(x):\n",
    "    if parent[x] != x:\n",
    "        parent[x] = find_parent(parent[x])\n",
    "        \n",
    "    return parent[x]\n",
    "\n",
    "def union(x, y):\n",
    "    x = find_parent(x)\n",
    "    y = find_parent(y)\n",
    "    \n",
    "    if x < y:\n",
    "        parent[y] = x\n",
    "    else:\n",
    "        parent[x] = y\n",
    "        \n",
    "        \n",
    "        \n",
    "while True:\n",
    "    m, n = map(int, input().split())\n",
    "    if n == 0 and m == 0:\n",
    "        break\n",
    "        \n",
    "    total = 0\n",
    "    edge = []\n",
    "    for i in range(n):\n",
    "        x, y, z = map(int, input().split())\n",
    "        edge.append((z, x, y))\n",
    "        total += z\n",
    "        \n",
    "    parent = [0] * m\n",
    "    for i in range(m):\n",
    "        parent[i] = i\n",
    "        \n",
    "    edge.sort()\n",
    "    \n",
    "    save = 0\n",
    "    for cost, a, b in edge:\n",
    "        if find_parent(a) != find_parent(b):\n",
    "            union(a, b)\n",
    "            save += cost\n",
    "            \n",
    "    print(total - save)"
   ]
  },
  {
   "cell_type": "markdown",
   "metadata": {},
   "source": [
    "### 행성 터널\n",
    "\n",
    "\n",
    "https://www.acmicpc.net/problem/2887"
   ]
  },
  {
   "cell_type": "code",
   "execution_count": null,
   "metadata": {},
   "outputs": [],
   "source": [
    "# 이거 좀 어려웠다.\n",
    "# 기본 유형 푸는 것처럼 하면 시간초과 난다. \n",
    "\n",
    "import sys\n",
    "input = sys.stdin.readline\n",
    "\n",
    "n = int(input())\n",
    "\n",
    "x, y, z = [], [], []\n",
    "for i in range(n):\n",
    "    x_, y_, z_ = map(int, input().split())\n",
    "    x.append((x_, i))\n",
    "    y.append((y_, i))\n",
    "    z.append((z_, i))\n",
    "\n",
    "x.sort()\n",
    "y.sort()\n",
    "z.sort()\n",
    "\n",
    "edge = []\n",
    "for i in range(n-1):\n",
    "    edge.append((x[i+1][0] - x[i][0], x[i][1], x[i+1][1]))\n",
    "    edge.append((y[i+1][0] - y[i][0], y[i][1], y[i+1][1]))\n",
    "    edge.append((z[i+1][0] - z[i][0], z[i][1], z[i+1][1]))\n",
    "        \n",
    "edge.sort()\n",
    "\n",
    "        \n",
    "parent = [0] * n\n",
    "for i in range(n):\n",
    "    parent[i] = i\n",
    "\n",
    "\n",
    "\n",
    "def find_parent(x):\n",
    "    if parent[x] != x:\n",
    "        parent[x] = find_parent(parent[x])\n",
    "        \n",
    "    return parent[x]\n",
    "\n",
    "def union(x, y):\n",
    "    x = find_parent(x)\n",
    "    y = find_parent(y)\n",
    "    \n",
    "    if x < y:\n",
    "        parent[y] = x\n",
    "    else:\n",
    "        parent[x] = y\n",
    "        \n",
    "        \n",
    "\n",
    "answer = 0\n",
    "for cost, a, b in edge:\n",
    "    if find_parent(a) != find_parent(b):\n",
    "        union(a, b)\n",
    "        answer += cost\n",
    "            \n",
    "print(answer)"
   ]
  },
  {
   "cell_type": "markdown",
   "metadata": {},
   "source": [
    "### 최종 순위\n",
    "\n",
    "https://www.acmicpc.net/problem/3665"
   ]
  },
  {
   "cell_type": "code",
   "execution_count": null,
   "metadata": {},
   "outputs": [],
   "source": [
    "from collections import deque\n",
    "import sys\n",
    "# input = sys.stdin.readline\n",
    "\n",
    "t = int(input())\n",
    "for i in range(t):\n",
    "    n = int(input())\n",
    "    rank = list(map(int, input().split()))\n",
    "    \n",
    "    order = [0] * (n+1)\n",
    "    edge = [[] for _ in range(n+1)]\n",
    "    for j in range(n-1):\n",
    "        edge[rank[j]].extend(rank[j+1:])\n",
    "        order[rank[j+1]] = j+1\n",
    "        \n",
    "    m = int(input())\n",
    "    \n",
    "    for j in range(m):\n",
    "        a, b = map(int, input().split())\n",
    "        \n",
    "        if b in edge[a]:\n",
    "            edge[b].append(a)\n",
    "            edge[a].remove(b)\n",
    "            \n",
    "            order[a] += 1\n",
    "            order[b] -= 1\n",
    "            \n",
    "        else:\n",
    "            edge[a].append(b)\n",
    "            edge[b].remove(a)\n",
    "            \n",
    "            order[b] += 1\n",
    "            order[a] -= 1  \n",
    "            \n",
    "        \n",
    "    \n",
    "    queue = deque()\n",
    "    for j in rank:\n",
    "        if order[j] == 0:\n",
    "            queue.append(j)\n",
    "            \n",
    "    answer = []\n",
    "    while queue:\n",
    "        x = queue.popleft()\n",
    "        answer.append(x)\n",
    "        \n",
    "        for j in edge[x]:\n",
    "            order[j] -= 1\n",
    "            if order[j] == 0:\n",
    "                queue.append(j)\n",
    "                \n",
    "            \n",
    "    \n",
    "    if len(answer) == n:\n",
    "        print(*answer)\n",
    "    else:\n",
    "        print(\"IMPOSSIBLE\")\n",
    "            \n",
    "    "
   ]
  }
 ],
 "metadata": {
  "kernelspec": {
   "display_name": "Python 3.7.5 64-bit ('Namlister': virtualenv)",
   "language": "python",
   "name": "python37564bitnamlistervirtualenv5d7bb17d3c984c36aee202a2f6a91336"
  },
  "language_info": {
   "codemirror_mode": {
    "name": "ipython",
    "version": 3
   },
   "file_extension": ".py",
   "mimetype": "text/x-python",
   "name": "python",
   "nbconvert_exporter": "python",
   "pygments_lexer": "ipython3",
   "version": "3.8.8"
  }
 },
 "nbformat": 4,
 "nbformat_minor": 2
}
