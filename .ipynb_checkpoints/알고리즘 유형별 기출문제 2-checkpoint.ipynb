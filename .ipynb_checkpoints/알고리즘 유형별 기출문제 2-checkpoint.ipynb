{
 "cells": [
  {
   "cell_type": "markdown",
   "metadata": {},
   "source": [
    "- 이진 탐색\n",
    "\n",
    "- 다이나믹 프로그래밍\n",
    "\n",
    "- 최단 경로\n",
    "\n",
    "- 그래프 이론"
   ]
  },
  {
   "cell_type": "markdown",
   "metadata": {},
   "source": [
    "## 이진 탐색\n",
    "\n",
    "### 정렬된 배열에서 특정 수의 개수 구하기"
   ]
  },
  {
   "cell_type": "code",
   "execution_count": 5,
   "metadata": {},
   "outputs": [
    {
     "name": "stdout",
     "output_type": "stream",
     "text": [
      "7 4\n",
      "1 1 2 2 2 2 3\n",
      "-1\n"
     ]
    }
   ],
   "source": [
    "from bisect import bisect_left, bisect_right\n",
    "\n",
    "n, x = map(int, input().split())\n",
    "seq = list(map(int, input().split()))\n",
    "\n",
    "if x not in set(seq):\n",
    "    print(-1)\n",
    "    \n",
    "else:\n",
    "    left = bisect_left(seq, x)\n",
    "    right = bisect_right(seq, x)\n",
    "    \n",
    "    print(right - left)\n",
    "    \n",
    "    # 참고로 bisect 모듈의 bisect_left는 배열에서 x의 첫 위치를 알려주고, bisect_right는 배열에서 x 다음의 위치를 알려준다."
   ]
  },
  {
   "cell_type": "markdown",
   "metadata": {},
   "source": [
    "### 고정점 찾기\n"
   ]
  },
  {
   "cell_type": "code",
   "execution_count": 8,
   "metadata": {},
   "outputs": [
    {
     "name": "stdout",
     "output_type": "stream",
     "text": [
      "7\n",
      "-15 -4 2 8 9 13 15\n",
      "2\n"
     ]
    }
   ],
   "source": [
    "n = int(input())\n",
    "seq = list(map(int, input().split()))\n",
    "\n",
    "def umjunsik(arr, start, end):\n",
    "    if start > end:\n",
    "        return None\n",
    "    \n",
    "    mid = (start + end) // 2\n",
    "    \n",
    "    if arr[mid] == mid:\n",
    "        return mid\n",
    "    \n",
    "    elif arr[mid] > mid:\n",
    "        return umjunsik(arr, start, mid - 1)\n",
    "       \n",
    "    else:\n",
    "        return umjunsik(arr, mid + 1, end)\n",
    "    \n",
    "    \n",
    "if umjunsik(seq, 0, n-1) == None:\n",
    "    print(-1)\n",
    "    \n",
    "else:\n",
    "    print(umjunsik(seq, 0, n-1))"
   ]
  },
  {
   "cell_type": "code",
   "execution_count": null,
   "metadata": {},
   "outputs": [],
   "source": [
    "0 1 2 3 4        2 3 4 5 6 7 8\n",
    "0 1 4 5 6        0 1 2 5 6"
   ]
  }
 ],
 "metadata": {
  "kernelspec": {
   "display_name": "Python 3.7.5 64-bit ('Namlister': virtualenv)",
   "language": "python",
   "name": "python37564bitnamlistervirtualenv5d7bb17d3c984c36aee202a2f6a91336"
  },
  "language_info": {
   "codemirror_mode": {
    "name": "ipython",
    "version": 3
   },
   "file_extension": ".py",
   "mimetype": "text/x-python",
   "name": "python",
   "nbconvert_exporter": "python",
   "pygments_lexer": "ipython3",
   "version": "3.7.5"
  }
 },
 "nbformat": 4,
 "nbformat_minor": 2
}
