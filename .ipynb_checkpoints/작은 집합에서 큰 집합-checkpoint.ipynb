{
 "cells": [
  {
   "cell_type": "markdown",
   "id": "49cb4d79",
   "metadata": {},
   "source": [
    "https://www.acmicpc.net/problem/17469"
   ]
  },
  {
   "cell_type": "code",
   "execution_count": 8,
   "id": "4bea5368",
   "metadata": {},
   "outputs": [
    {
     "name": "stdout",
     "output_type": "stream",
     "text": [
      "5\n",
      "ab\n",
      "aa\n",
      "aca\n",
      "ba\n",
      "bb\n",
      "4\n"
     ]
    }
   ],
   "source": [
    "# 트리의 색깔과 쿼리\n",
    "\n",
    "def find_parent(x):\n",
    "    if parent[x] != x:\n",
    "        parent[x] = find_parent(parent[x])\n",
    "        \n",
    "    return parent[x]\n",
    "\n",
    "\n",
    "def union(x, y):\n",
    "    x = find_parent(x)\n",
    "    y = find_parent(y)\n",
    "    \n",
    "    if x < y:\n",
    "        parent[y] = x\n",
    "    else:\n",
    "        parent[x] = y\n",
    "        \n",
    "\n",
    "\n",
    "n, q = map(int, input().split())\n",
    "\n",
    "edge = [1] * (n+1)\n",
    "for i in range(2, n+1):\n",
    "    edge[i] = int(input())\n",
    "    \n",
    "color = [0] * (n+1)\n",
    "for i in range(1, n+1):\n",
    "    color[i] = int(input())\n",
    "    \n",
    "    \n",
    "q += n - 1\n",
    "\n",
    "query = []\n",
    "for i in range(q):\n",
    "    x, a = map(int, input().split())\n",
    "    query.append((x, a))\n",
    "\n",
    "    \n",
    "parent = [i for i in range(n+1)]\n",
    "\n",
    "for i in range(q-1, -1, -1):\n",
    "    if query[i][0] == 1:\n",
    "        union(query[i][1], edge[query[i][1]])\n",
    "        \n",
    "        \n",
    "# 부모 노드를 확인한 다음에 그 부모 노드의 색을 확인하면 되지 않을까\n",
    "# 근데 같은 색을 가진 노드 개수는 어떻게 구하냐...모르겠네\n",
    "\n"
   ]
  },
  {
   "cell_type": "code",
   "execution_count": null,
   "id": "a182ee84",
   "metadata": {},
   "outputs": [],
   "source": [
    "3\n",
    "happy\n",
    "new\n",
    "year\n",
    "\n",
    "4\n",
    "aba\n",
    "abab\n",
    "abcabc\n",
    "a\n",
    "\n",
    "5\n",
    "ab\n",
    "aa\n",
    "aca\n",
    "ba\n",
    "bb"
   ]
  }
 ],
 "metadata": {
  "kernelspec": {
   "display_name": "Python 3",
   "language": "python",
   "name": "python3"
  },
  "language_info": {
   "codemirror_mode": {
    "name": "ipython",
    "version": 3
   },
   "file_extension": ".py",
   "mimetype": "text/x-python",
   "name": "python",
   "nbconvert_exporter": "python",
   "pygments_lexer": "ipython3",
   "version": "3.8.8"
  }
 },
 "nbformat": 4,
 "nbformat_minor": 5
}
