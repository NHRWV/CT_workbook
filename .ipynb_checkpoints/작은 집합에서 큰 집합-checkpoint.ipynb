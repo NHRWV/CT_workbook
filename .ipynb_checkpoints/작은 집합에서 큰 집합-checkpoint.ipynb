{
 "cells": [
  {
   "cell_type": "markdown",
   "id": "49cb4d79",
   "metadata": {},
   "source": [
    "https://www.acmicpc.net/problem/17469"
   ]
  },
  {
   "cell_type": "code",
   "execution_count": 5,
   "id": "71343ce9",
   "metadata": {},
   "outputs": [
    {
     "name": "stdout",
     "output_type": "stream",
     "text": [
      "5 4\n",
      "5\n",
      "2\n",
      "2\n",
      "1\n",
      "1\n",
      "3\n",
      "2\n",
      "3\n",
      "3\n",
      "1 4\n",
      "2 1\n",
      "2 3\n",
      "1 2\n",
      "2 5\n",
      "1 5\n",
      "2 3\n",
      "1 3\n"
     ]
    }
   ],
   "source": [
    "# 트리의 색깔과 쿼리\n",
    "\n",
    "def find_parent(x):\n",
    "    if parent[x] != x:\n",
    "        parent[x] = find_parent(parent[x])\n",
    "        \n",
    "    return parent[x]\n",
    "\n",
    "\n",
    "def union(x, y):\n",
    "    x = find_parent(x)\n",
    "    y = find_parent(y)\n",
    "     \n",
    "    if len(color[y]) >= len(color[x]):\n",
    "        parent[x] = y\n",
    "        \n",
    "        for i in color[x]:\n",
    "            color[y].add(i)\n",
    "        color[x].clear()\n",
    "            \n",
    "    elif len(color[y]) < len(color[x]):\n",
    "        parent[y] = x\n",
    "        \n",
    "        for i in color[y]:\n",
    "            color[x].add(i)\n",
    "        color[y].clear()\n",
    "        \n",
    "\n",
    "\n",
    "n, q = map(int, input().split())\n",
    "\n",
    "edge = [1] * (n+1)\n",
    "for i in range(2, n+1):\n",
    "    edge[i] = int(input())\n",
    "    \n",
    "color = [set() for _ in range(n+1)]\n",
    "for i in range(1, n+1):\n",
    "    color[i].add(int(input()))\n",
    "    \n",
    "    \n",
    "q += n - 1\n",
    "\n",
    "query = []\n",
    "for i in range(q):\n",
    "    x, a = map(int, input().split())\n",
    "    query.append((x, a))\n",
    "\n",
    "    \n",
    "parent = [i for i in range(n+1)]\n",
    "answer = []\n",
    "\n",
    "for i in range(q-1, -1, -1):\n",
    "    if query[i][0] == 1:\n",
    "        union(query[i][1], edge[query[i][1]])\n",
    "        \n",
    "    else:\n",
    "        answer.append(len(color[find_parent(query[i][1])]))\n",
    "        \n",
    "        \n",
    "while answer:\n",
    "    print(answer.pop())\n",
    "\n"
   ]
  },
  {
   "cell_type": "code",
   "execution_count": null,
   "id": "a182ee84",
   "metadata": {},
   "outputs": [],
   "source": [
    "5 4\n",
    "5\n",
    "2\n",
    "2\n",
    "1\n",
    "1\n",
    "3\n",
    "2\n",
    "3\n",
    "3\n",
    "1 4\n",
    "2 1\n",
    "2 3\n",
    "1 2\n",
    "2 5\n",
    "1 5\n",
    "2 3\n",
    "1 3"
   ]
  },
  {
   "cell_type": "code",
   "execution_count": 6,
   "id": "01eda835",
   "metadata": {},
   "outputs": [
    {
     "data": {
      "text/plain": [
       "[2, 2, 3, 3]"
      ]
     },
     "execution_count": 6,
     "metadata": {},
     "output_type": "execute_result"
    }
   ],
   "source": [
    "answer"
   ]
  },
  {
   "cell_type": "code",
   "execution_count": 11,
   "id": "874fdf57",
   "metadata": {},
   "outputs": [
    {
     "data": {
      "text/plain": [
       "'45'"
      ]
     },
     "execution_count": 11,
     "metadata": {},
     "output_type": "execute_result"
    }
   ],
   "source": [
    "a[-2:]"
   ]
  },
  {
   "cell_type": "code",
   "execution_count": 4,
   "id": "60ea224d",
   "metadata": {},
   "outputs": [
    {
     "name": "stdout",
     "output_type": "stream",
     "text": [
      "1000000000 1000000000\n",
      "1000000001\n",
      "2000000000\n"
     ]
    }
   ],
   "source": [
    "a, b = map(int, input().split())\n",
    "c = int(input())\n",
    "print(a + b - 2 * c if a + b - 2 * c >= 0 else a + b)"
   ]
  },
  {
   "cell_type": "code",
   "execution_count": null,
   "id": "da0e68ad",
   "metadata": {},
   "outputs": [],
   "source": []
  }
 ],
 "metadata": {
  "kernelspec": {
   "display_name": "Python 3",
   "language": "python",
   "name": "python3"
  },
  "language_info": {
   "codemirror_mode": {
    "name": "ipython",
    "version": 3
   },
   "file_extension": ".py",
   "mimetype": "text/x-python",
   "name": "python",
   "nbconvert_exporter": "python",
   "pygments_lexer": "ipython3",
   "version": "3.8.8"
  }
 },
 "nbformat": 4,
 "nbformat_minor": 5
}
