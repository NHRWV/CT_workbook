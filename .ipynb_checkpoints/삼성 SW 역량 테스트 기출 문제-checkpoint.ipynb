{
 "cells": [
  {
   "cell_type": "markdown",
   "id": "c59dd310",
   "metadata": {},
   "source": [
    "https://www.acmicpc.net/problem/13460"
   ]
  },
  {
   "cell_type": "code",
   "execution_count": null,
   "id": "94ee490b",
   "metadata": {},
   "outputs": [],
   "source": [
    "# 백준 13460 구슬 탈출 2\n",
    "\n",
    "from collections import deque\n",
    "\n",
    "n, m = map(int, input().split())\n",
    "\n",
    "board = []\n",
    "for i in range(n):\n",
    "    board.append(list(map(str, input())))\n",
    "    \n",
    "    "
   ]
  },
  {
   "cell_type": "markdown",
   "id": "3d2e9be5",
   "metadata": {},
   "source": [
    "https://www.acmicpc.net/problem/14503"
   ]
  },
  {
   "cell_type": "code",
   "execution_count": null,
   "id": "f3c25b9b",
   "metadata": {},
   "outputs": [],
   "source": [
    "# 백준 14503 로봇 청소기\n",
    "\n",
    "n, m = map(int, input().split())\n",
    "x, y, d = map(int, input().split())\n",
    "\n",
    "space = []\n",
    "for i in range(n):\n",
    "    space.append(list(map(int, input().split())))\n",
    "    \n",
    "dx = [-1, 0, 1, 0]\n",
    "dy = [0, 1, 0, -1]\n",
    "\n",
    "space[x][y] = -1\n",
    "check = 0\n",
    "\n",
    "while True:\n",
    "    nx = x + dx[d-1]\n",
    "    ny = y + dy[d-1]\n",
    "    \n",
    "    if space[nx][ny] == 1 or space[nx][ny] < 0:\n",
    "        check += 1\n",
    "        \n",
    "        if check == 4:\n",
    "            if d == 0:\n",
    "                d = 3\n",
    "            else:\n",
    "                d -= 1\n",
    "                \n",
    "            nx = x - dx[d]\n",
    "            ny = y - dy[d]\n",
    "            \n",
    "            if space[nx][ny] == 1:\n",
    "                break\n",
    "            else:\n",
    "                x -= dx[d]\n",
    "                y -= dy[d]\n",
    "                check = 0\n",
    "        \n",
    "        else:\n",
    "            if d == 0:\n",
    "                d = 3\n",
    "            else:\n",
    "                d -= 1\n",
    "            \n",
    "            \n",
    "    else:\n",
    "        space[nx][ny] = space[x][y] - 1\n",
    "        x = nx\n",
    "        y = ny\n",
    "        check = 0\n",
    "        \n",
    "        if d == 0:\n",
    "            d = 3\n",
    "        else:\n",
    "            d -= 1\n",
    "    \n",
    "    \n",
    "count = 0\n",
    "for i in range(n):\n",
    "    for j in range(m):\n",
    "        if space[i][j] < 0:\n",
    "            count += 1\n",
    "            \n",
    "            \n",
    "print(count)\n",
    "    \n",
    "            \n",
    "    \n",
    "        \n",
    "    "
   ]
  },
  {
   "cell_type": "markdown",
   "id": "aa299e0b",
   "metadata": {},
   "source": [
    "https://www.acmicpc.net/problem/14891"
   ]
  },
  {
   "cell_type": "code",
   "execution_count": 19,
   "id": "505bd2ff",
   "metadata": {},
   "outputs": [
    {
     "name": "stdout",
     "output_type": "stream",
     "text": [
      "11001110\n",
      "10000101\n",
      "01111110\n",
      "01101111\n",
      "4\n",
      "2 -1\n",
      "deque([])\n",
      "[0, 0, 1, -1, 0]\n",
      "[0, deque([1, 1, 0, 0, 1, 1, 1, 0]), deque([0, 0, 0, 0, 1, 0, 1, 1]), deque([0, 0, 1, 1, 1, 1, 1, 1]), deque([0, 1, 1, 0, 1, 1, 1, 1])]\n",
      "{4}\n",
      "2 -1\n",
      "deque([])\n",
      "[0, -1, 1, -1, 0]\n",
      "[0, deque([0, 1, 1, 0, 0, 1, 1, 1]), deque([0, 0, 0, 1, 0, 1, 1, 0]), deque([1, 0, 0, 1, 1, 1, 1, 1]), deque([0, 1, 1, 0, 1, 1, 1, 1])]\n",
      "{4}\n",
      "2 1\n",
      "deque([])\n",
      "[0, 0, 1, -1, 0]\n",
      "[0, deque([0, 1, 1, 0, 0, 1, 1, 1]), deque([0, 0, 0, 0, 1, 0, 1, 1]), deque([0, 0, 1, 1, 1, 1, 1, 1]), deque([0, 1, 1, 0, 1, 1, 1, 1])]\n",
      "{4}\n",
      "2 1\n",
      "deque([])\n",
      "[0, 0, 1, -1, 0]\n",
      "[0, deque([0, 1, 1, 0, 0, 1, 1, 1]), deque([1, 0, 0, 0, 0, 1, 0, 1]), deque([0, 1, 1, 1, 1, 1, 1, 0]), deque([0, 1, 1, 0, 1, 1, 1, 1])]\n",
      "{4}\n",
      "2\n"
     ]
    }
   ],
   "source": [
    "# 백준 14891 톱니바퀴\n",
    "\n",
    "from collections import deque\n",
    "\n",
    "q1 = deque(list(map(int, input().rstrip())))\n",
    "q2 = deque(list(map(int, input().rstrip())))\n",
    "q3 = deque(list(map(int, input().rstrip())))\n",
    "q4 = deque(list(map(int, input().rstrip())))\n",
    "\n",
    "lst = [0, q1, q2, q3, q4]\n",
    "\n",
    "def sol(x, drt):\n",
    "    check = set([1, 2, 3, 4]) # 이미 회전했는지 여부 판단용\n",
    "    \n",
    "    check.remove(x)\n",
    "    target = deque([x])\n",
    "    go = [0] * 5\n",
    "    go[x] = 1  # 이제 회전시킬 대상인지 판단\n",
    "    \n",
    "    \n",
    "    while check:\n",
    "        temp = []\n",
    "        while target:\n",
    "            t = target.popleft()\n",
    "            check.discard(t)\n",
    "            \n",
    "            if t-1 in check:\n",
    "                if lst[t-1][2] != lst[t][6]:\n",
    "                    go[t-1] = -go[t] \n",
    "                    temp.append(t-1)\n",
    "                    \n",
    "                else:\n",
    "                    check.discard(t-2)\n",
    "                    check.discard(t-3)\n",
    "                    \n",
    "                check.remove(t-1)\n",
    "                \n",
    "            if t+1 in check:                    \n",
    "                if lst[t+1][6] != lst[t][2]:\n",
    "                    go[t+1] = -go[t]\n",
    "                    temp.append(t+1)\n",
    "                    \n",
    "                else:\n",
    "                    check.discard(t+2)\n",
    "                    check.discard(t+3)\n",
    "                    \n",
    "                check.remove(t+1)\n",
    "                \n",
    "        if temp:\n",
    "            target.extend(temp)\n",
    "        else:\n",
    "            break\n",
    "        \n",
    "    print(target)\n",
    "    print(go)\n",
    "    for i in range(5):\n",
    "        if go[i] != 0:\n",
    "            lst[i].rotate(drt * go[i])\n",
    "                \n",
    "                \n",
    "    print(lst)\n",
    "    print(check)\n",
    "                \n",
    "        \n",
    "        \n",
    "    return lst   \n",
    "            \n",
    "    \n",
    "\n",
    "k = int(input())\n",
    "for i in range(k):\n",
    "    a, b = map(int, input().split())\n",
    "    \n",
    "    sol(a, b)\n",
    "    \n",
    "score = 0\n",
    "    \n",
    "for j in range(4):\n",
    "    if lst[j+1][0] == 1:\n",
    "        score += 2**j\n",
    "        \n",
    "print(score)\n"
   ]
  },
  {
   "cell_type": "code",
   "execution_count": 19,
   "id": "ea294620",
   "metadata": {},
   "outputs": [
    {
     "data": {
      "text/plain": [
       "4"
      ]
     },
     "execution_count": 19,
     "metadata": {},
     "output_type": "execute_result"
    }
   ],
   "source": [
    "11001110\n",
    "10000101\n",
    "01111110\n",
    "01101111\n",
    "4\n",
    "2 -1\n",
    "2 -1\n",
    "2 1\n",
    "2 1\n",
    "\n",
    "\n",
    "10101111\n",
    "01111101\n",
    "11001110\n",
    "00000010\n",
    "2\n",
    "3 -1\n",
    "1 1\n",
    "\n",
    "11111111\n",
    "11111111\n",
    "11111111\n",
    "11111111\n",
    "3\n",
    "1 1\n",
    "2 1\n",
    "3 1\n",
    "\n",
    "10010011\n",
    "01010011\n",
    "11100011\n",
    "01010101\n",
    "8\n",
    "1 1\n",
    "2 1\n",
    "3 1\n",
    "4 1\n",
    "1 -1\n",
    "2 -1\n",
    "3 -1\n",
    "4 -1\n",
    "\n",
    "10001011\n",
    "10000011\n",
    "01011011\n",
    "00111101\n",
    "5\n",
    "1 1\n",
    "2 1\n",
    "3 1\n",
    "4 1\n",
    "1 -1"
   ]
  },
  {
   "cell_type": "code",
   "execution_count": 44,
   "id": "1afafd7c",
   "metadata": {},
   "outputs": [
    {
     "data": {
      "text/plain": [
       "{1}"
      ]
     },
     "execution_count": 44,
     "metadata": {},
     "output_type": "execute_result"
    }
   ],
   "source": [
    "check"
   ]
  },
  {
   "cell_type": "code",
   "execution_count": 17,
   "id": "7de45387",
   "metadata": {},
   "outputs": [
    {
     "data": {
      "text/plain": [
       "[0,\n",
       " deque([1, 1, 0, 1, 0, 1, 1, 1]),\n",
       " deque([1, 1, 1, 1, 1, 0, 1, 0]),\n",
       " deque([1, 0, 0, 1, 1, 1, 0, 1]),\n",
       " deque([0, 0, 0, 0, 0, 0, 0, 1])]"
      ]
     },
     "execution_count": 17,
     "metadata": {},
     "output_type": "execute_result"
    }
   ],
   "source": [
    "lst"
   ]
  },
  {
   "cell_type": "code",
   "execution_count": 27,
   "id": "7f271a8e",
   "metadata": {},
   "outputs": [
    {
     "data": {
      "text/plain": [
       "deque([])"
      ]
     },
     "execution_count": 27,
     "metadata": {},
     "output_type": "execute_result"
    }
   ],
   "source": [
    "target"
   ]
  },
  {
   "cell_type": "code",
   "execution_count": 28,
   "id": "6db938cf",
   "metadata": {},
   "outputs": [
    {
     "data": {
      "text/plain": [
       "[0, 0, 0, 0, 0]"
      ]
     },
     "execution_count": 28,
     "metadata": {},
     "output_type": "execute_result"
    }
   ],
   "source": [
    "go"
   ]
  },
  {
   "cell_type": "code",
   "execution_count": 46,
   "id": "59d42f4d",
   "metadata": {},
   "outputs": [
    {
     "data": {
      "text/plain": [
       "[0,\n",
       " deque([1, 1, 0, 1, 0, 1, 1, 1]),\n",
       " deque([0, 1, 1, 1, 1, 1, 0, 1]),\n",
       " deque([1, 0, 0, 1, 1, 1, 0, 1]),\n",
       " deque([0, 0, 0, 0, 0, 1, 0, 0])]"
      ]
     },
     "execution_count": 46,
     "metadata": {},
     "output_type": "execute_result"
    }
   ],
   "source": [
    "lst"
   ]
  },
  {
   "cell_type": "code",
   "execution_count": 39,
   "id": "5cfbdb8b",
   "metadata": {},
   "outputs": [
    {
     "data": {
      "text/plain": [
       "-1"
      ]
     },
     "execution_count": 39,
     "metadata": {},
     "output_type": "execute_result"
    }
   ],
   "source": [
    "b"
   ]
  },
  {
   "cell_type": "code",
   "execution_count": 4,
   "id": "d72434a2",
   "metadata": {},
   "outputs": [
    {
     "name": "stdout",
     "output_type": "stream",
     "text": [
      "10101111\n",
      "01111101\n",
      "11001110\n",
      "00000010\n",
      "2\n",
      "3 -1\n",
      "1 1\n",
      "7\n"
     ]
    }
   ],
   "source": [
    "import sys\n",
    "from collections import deque\n",
    "# 문제의 경우 1은 시계방향, -1은 반시계 방향이다.\n",
    "# deque의 rotate = -1일 경우 반시계 방향, 1일 경우 시계 방향으로 움직인다.\n",
    "\n",
    "def check_right(start, dirs):\n",
    "    # 더 이상 조사가 불가능한 경우\n",
    "    if start > 4 or gears[start-1][2] == gears[start][6]:\n",
    "        return\n",
    "\n",
    "    # 오른쪽 확인\n",
    "    if gears[start-1][2] != gears[start][6]:\n",
    "        # 인접한 톱니바퀴가 회전 가능한지부터 먼저 파악한다.\n",
    "        check_right(start + 1, -dirs)\n",
    "        # 회전시킨다.\n",
    "        gears[start].rotate(dirs)\n",
    "\n",
    "\n",
    "def check_left(start, dirs):\n",
    "    if start < 1 or gears[start][2] == gears[start+1][6]:\n",
    "        return\n",
    "    \n",
    "    # 왼쪽 확인\n",
    "    if gears[start+1][6] != gears[start][2]:\n",
    "        check_left(start - 1, -dirs)\n",
    "        gears[start].rotate(dirs)\n",
    "        \n",
    "    \n",
    "\n",
    "gears = {}\n",
    "# 기준 톱니바퀴가 있을 때, 왼쪽과 맞닿는 지점은 idx 2, 오른쪽은 6이다.\n",
    "for i in range(1, 5):\n",
    "    gears[i] = deque(list(map(int, input())))\n",
    "n = int(input())\n",
    "\n",
    "for _ in range(n):\n",
    "    num, dirs = map(int, input().split())\n",
    "\n",
    "    # 기준 톱니바퀴가 주어졌을 때, 오른쪽 / 왼쪽이 회전 가능한지를 각각 확인하고 회전시킨다.\n",
    "    check_right(num+1, -dirs)\n",
    "    check_left(num-1, -dirs)\n",
    "    # 기준 톱니바퀴를 회전시킨다.\n",
    "    gears[num].rotate(dirs)\n",
    "    \n",
    "\n",
    "result = 0\n",
    "for i in range(4):\n",
    "    result += (2**i) * gears[i+1][0]\n",
    "print(result)"
   ]
  },
  {
   "cell_type": "code",
   "execution_count": null,
   "id": "ba336335",
   "metadata": {},
   "outputs": [],
   "source": [
    "10101111\n",
    "01111101\n",
    "11001110\n",
    "00000010\n",
    "2\n",
    "3 -1\n",
    "1 1"
   ]
  },
  {
   "cell_type": "code",
   "execution_count": 3,
   "id": "a390a8de",
   "metadata": {},
   "outputs": [
    {
     "data": {
      "text/plain": [
       "{1: deque([1, 0, 1, 0, 1, 1, 1, 1]),\n",
       " 2: deque([0, 1, 1, 1, 1, 1, 0, 1]),\n",
       " 3: deque([1, 0, 0, 1, 1, 1, 0, 1]),\n",
       " 4: deque([0, 0, 0, 0, 0, 0, 0, 1])}"
      ]
     },
     "execution_count": 3,
     "metadata": {},
     "output_type": "execute_result"
    }
   ],
   "source": [
    "gears"
   ]
  },
  {
   "cell_type": "code",
   "execution_count": 5,
   "id": "94811f39",
   "metadata": {},
   "outputs": [
    {
     "data": {
      "text/plain": [
       "{1: deque([1, 1, 0, 1, 0, 1, 1, 1]),\n",
       " 2: deque([1, 1, 1, 1, 1, 0, 1, 0]),\n",
       " 3: deque([1, 1, 0, 0, 1, 1, 1, 0]),\n",
       " 4: deque([0, 0, 0, 0, 0, 0, 0, 1])}"
      ]
     },
     "execution_count": 5,
     "metadata": {},
     "output_type": "execute_result"
    }
   ],
   "source": [
    "gears"
   ]
  },
  {
   "cell_type": "code",
   "execution_count": null,
   "id": "ac28be14",
   "metadata": {},
   "outputs": [],
   "source": []
  }
 ],
 "metadata": {
  "kernelspec": {
   "display_name": "Python 3",
   "language": "python",
   "name": "python3"
  },
  "language_info": {
   "codemirror_mode": {
    "name": "ipython",
    "version": 3
   },
   "file_extension": ".py",
   "mimetype": "text/x-python",
   "name": "python",
   "nbconvert_exporter": "python",
   "pygments_lexer": "ipython3",
   "version": "3.8.8"
  }
 },
 "nbformat": 4,
 "nbformat_minor": 5
}
