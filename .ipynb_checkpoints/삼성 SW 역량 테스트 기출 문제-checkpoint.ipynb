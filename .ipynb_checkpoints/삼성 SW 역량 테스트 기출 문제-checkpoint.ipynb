{
 "cells": [
  {
   "cell_type": "markdown",
   "id": "c59dd310",
   "metadata": {},
   "source": [
    "https://www.acmicpc.net/problem/13460"
   ]
  },
  {
   "cell_type": "code",
   "execution_count": null,
   "id": "94ee490b",
   "metadata": {},
   "outputs": [],
   "source": [
    "# 백준 13460 구슬 탈출 2\n",
    "\n",
    "from collections import deque\n",
    "\n",
    "n, m = map(int, input().split())\n",
    "\n",
    "board = []\n",
    "for i in range(n):\n",
    "    board.append(list(map(str, input())))\n",
    "    \n",
    "    "
   ]
  },
  {
   "cell_type": "markdown",
   "id": "3d2e9be5",
   "metadata": {},
   "source": [
    "https://www.acmicpc.net/problem/14503"
   ]
  },
  {
   "cell_type": "code",
   "execution_count": null,
   "id": "f3c25b9b",
   "metadata": {},
   "outputs": [],
   "source": [
    "# 백준 14503 로봇 청소기\n",
    "\n",
    "n, m = map(int, input().split())\n",
    "x, y, d = map(int, input().split())\n",
    "\n",
    "space = []\n",
    "for i in range(n):\n",
    "    space.append(list(map(int, input().split())))\n",
    "    \n",
    "dx = [-1, 0, 1, 0]\n",
    "dy = [0, 1, 0, -1]\n",
    "\n",
    "space[x][y] = -1\n",
    "check = 0\n",
    "\n",
    "while True:\n",
    "    nx = x + dx[d-1]\n",
    "    ny = y + dy[d-1]\n",
    "    \n",
    "    if space[nx][ny] == 1 or space[nx][ny] < 0:\n",
    "        check += 1\n",
    "        \n",
    "        if check == 4:\n",
    "            if d == 0:\n",
    "                d = 3\n",
    "            else:\n",
    "                d -= 1\n",
    "                \n",
    "            nx = x - dx[d]\n",
    "            ny = y - dy[d]\n",
    "            \n",
    "            if space[nx][ny] == 1:\n",
    "                break\n",
    "            else:\n",
    "                x -= dx[d]\n",
    "                y -= dy[d]\n",
    "                check = 0\n",
    "        \n",
    "        else:\n",
    "            if d == 0:\n",
    "                d = 3\n",
    "            else:\n",
    "                d -= 1\n",
    "            \n",
    "            \n",
    "    else:\n",
    "        space[nx][ny] = space[x][y] - 1\n",
    "        x = nx\n",
    "        y = ny\n",
    "        check = 0\n",
    "        \n",
    "        if d == 0:\n",
    "            d = 3\n",
    "        else:\n",
    "            d -= 1\n",
    "    \n",
    "    \n",
    "count = 0\n",
    "for i in range(n):\n",
    "    for j in range(m):\n",
    "        if space[i][j] < 0:\n",
    "            count += 1\n",
    "            \n",
    "            \n",
    "print(count)\n",
    "    \n",
    "            \n",
    "    \n",
    "        \n",
    "    "
   ]
  },
  {
   "cell_type": "code",
   "execution_count": null,
   "id": "dbc08a3f",
   "metadata": {},
   "outputs": [],
   "source": [
    "3 3\n",
    "1 1 0\n",
    "1 1 1\n",
    "1 0 1\n",
    "1 1 1\n",
    "\n",
    "11 10\n",
    "7 4 0\n",
    "1 1 1 1 1 1 1 1 1 1\n",
    "1 0 0 0 0 0 0 0 0 1\n",
    "1 0 0 0 1 1 1 1 0 1\n",
    "1 0 0 1 1 0 0 0 0 1\n",
    "1 0 1 1 0 0 0 0 0 1\n",
    "1 0 0 0 0 0 0 0 0 1\n",
    "1 0 0 0 0 0 0 1 0 1\n",
    "1 0 0 0 0 0 1 1 0 1\n",
    "1 0 0 0 0 0 1 1 0 1\n",
    "1 0 0 0 0 0 0 0 0 1\n",
    "1 1 1 1 1 1 1 1 1 1"
   ]
  },
  {
   "cell_type": "code",
   "execution_count": 25,
   "id": "9289fb1d",
   "metadata": {},
   "outputs": [
    {
     "data": {
      "text/plain": [
       "[[1, 1, 1, 1, 1, 1, 1, 1, 1, 1],\n",
       " [1, 0, 0, 0, 0, 0, 0, 0, 0, 1],\n",
       " [1, 0, 0, 0, 1, 1, 1, 1, 0, 1],\n",
       " [1, 0, 0, 1, 1, 0, 0, 0, 0, 1],\n",
       " [1, 0, 1, 1, 0, 0, 0, 0, 0, 1],\n",
       " [1, 0, 0, -12, -11, 0, 0, 0, 0, 1],\n",
       " [1, 0, -14, -13, -10, -9, 0, 1, 0, 1],\n",
       " [1, -16, -15, -2, -1, -8, 1, 1, 0, 1],\n",
       " [1, -17, -18, -3, -4, -7, 1, 1, 0, 1],\n",
       " [1, 0, -19, -20, -5, -6, 0, 0, 0, 1],\n",
       " [1, 1, 1, 1, 1, 1, 1, 1, 1, 1]]"
      ]
     },
     "execution_count": 25,
     "metadata": {},
     "output_type": "execute_result"
    }
   ],
   "source": [
    "space"
   ]
  },
  {
   "cell_type": "code",
   "execution_count": 19,
   "id": "ea294620",
   "metadata": {},
   "outputs": [
    {
     "data": {
      "text/plain": [
       "4"
      ]
     },
     "execution_count": 19,
     "metadata": {},
     "output_type": "execute_result"
    }
   ],
   "source": [
    "check"
   ]
  },
  {
   "cell_type": "code",
   "execution_count": 20,
   "id": "1afafd7c",
   "metadata": {},
   "outputs": [
    {
     "data": {
      "text/plain": [
       "9"
      ]
     },
     "execution_count": 20,
     "metadata": {},
     "output_type": "execute_result"
    }
   ],
   "source": [
    "x"
   ]
  },
  {
   "cell_type": "code",
   "execution_count": 21,
   "id": "7de45387",
   "metadata": {},
   "outputs": [
    {
     "data": {
      "text/plain": [
       "3"
      ]
     },
     "execution_count": 21,
     "metadata": {},
     "output_type": "execute_result"
    }
   ],
   "source": [
    "y"
   ]
  },
  {
   "cell_type": "code",
   "execution_count": 22,
   "id": "7f271a8e",
   "metadata": {},
   "outputs": [
    {
     "data": {
      "text/plain": [
       "1"
      ]
     },
     "execution_count": 22,
     "metadata": {},
     "output_type": "execute_result"
    }
   ],
   "source": [
    "d"
   ]
  },
  {
   "cell_type": "code",
   "execution_count": 23,
   "id": "6db938cf",
   "metadata": {},
   "outputs": [
    {
     "data": {
      "text/plain": [
       "9"
      ]
     },
     "execution_count": 23,
     "metadata": {},
     "output_type": "execute_result"
    }
   ],
   "source": [
    "nx"
   ]
  },
  {
   "cell_type": "code",
   "execution_count": 24,
   "id": "59d42f4d",
   "metadata": {},
   "outputs": [
    {
     "data": {
      "text/plain": [
       "2"
      ]
     },
     "execution_count": 24,
     "metadata": {},
     "output_type": "execute_result"
    }
   ],
   "source": [
    "ny"
   ]
  },
  {
   "cell_type": "code",
   "execution_count": 28,
   "id": "5cfbdb8b",
   "metadata": {},
   "outputs": [
    {
     "name": "stdout",
     "output_type": "stream",
     "text": [
      "1\n"
     ]
    }
   ],
   "source": [
    "if space[nx][ny]:\n",
    "    print(1)"
   ]
  },
  {
   "cell_type": "code",
   "execution_count": null,
   "id": "d72434a2",
   "metadata": {},
   "outputs": [],
   "source": []
  }
 ],
 "metadata": {
  "kernelspec": {
   "display_name": "Python 3",
   "language": "python",
   "name": "python3"
  },
  "language_info": {
   "codemirror_mode": {
    "name": "ipython",
    "version": 3
   },
   "file_extension": ".py",
   "mimetype": "text/x-python",
   "name": "python",
   "nbconvert_exporter": "python",
   "pygments_lexer": "ipython3",
   "version": "3.8.8"
  }
 },
 "nbformat": 4,
 "nbformat_minor": 5
}
