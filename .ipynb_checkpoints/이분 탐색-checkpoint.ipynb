{
 "cells": [
  {
   "cell_type": "code",
   "execution_count": 1,
   "metadata": {},
   "outputs": [
    {
     "name": "stdout",
     "output_type": "stream",
     "text": [
      "5\n",
      "4 1 5 2 3\n",
      "5\n",
      "1 3 7 9 5\n",
      "1\n",
      "1\n",
      "0\n",
      "0\n",
      "1\n"
     ]
    }
   ],
   "source": [
    "# 백준 1920\n",
    "\n",
    "n = int(input())\n",
    "n_seq = set(map(int, input().split()))\n",
    "m = int(input())    \n",
    "m_seq = list(map(int, input().split()))\n",
    "\n",
    "for i in m_seq:\n",
    "    if i in n_seq:\n",
    "        print(1)\n",
    "    \n",
    "    else:\n",
    "        print(0)\n",
    "\n"
   ]
  },
  {
   "cell_type": "code",
   "execution_count": null,
   "metadata": {
    "scrolled": true
   },
   "outputs": [],
   "source": [
    "# 백준 10816\n",
    "\n",
    "from bisect import bisect_left, bisect_right\n",
    "\n",
    "n = int(input())\n",
    "n_seq = list(map(int, input().split()))\n",
    "m = int(input())\n",
    "m_seq = list(map(int, input().split()))\n",
    "\n",
    "n_seq.sort()\n",
    "\n",
    "def func(arr, x):\n",
    "    left = bisect_left(arr, x)\n",
    "    right = bisect_right(arr, x)\n",
    "    \n",
    "    return right - left\n",
    "\n",
    "for i in m_seq:\n",
    "    print(func(n_seq, i), end = ' ')"
   ]
  },
  {
   "cell_type": "code",
   "execution_count": 6,
   "metadata": {},
   "outputs": [
    {
     "name": "stdout",
     "output_type": "stream",
     "text": [
      "1 4\n",
      "4\n",
      "0\n"
     ]
    }
   ],
   "source": [
    "# 백준 1654\n",
    "\n",
    "k, n = map(int, input().split())\n",
    "lan = []\n",
    "for i in range(k):\n",
    "    lan.append(int(input()))\n",
    "    \n",
    "start = 0\n",
    "end = max(lan)\n",
    "answer = 0\n",
    "while start <= end:\n",
    "    count = 0\n",
    "    mid = (start + end) // 2\n",
    "      \n",
    "    for i in lan:\n",
    "        if mid != 0:\n",
    "            count += i // mid\n",
    "            \n",
    "    if count < n:\n",
    "        end = mid - 1\n",
    "        \n",
    "    else: \n",
    "        answer = mid\n",
    "        start = mid + 1\n",
    "        \n",
    "        \n",
    "        \n",
    "print(answer)\n",
    "        \n",
    "    "
   ]
  },
  {
   "cell_type": "code",
   "execution_count": 9,
   "metadata": {},
   "outputs": [
    {
     "data": {
      "text/plain": [
       "201"
      ]
     },
     "execution_count": 9,
     "metadata": {},
     "output_type": "execute_result"
    }
   ],
   "source": [
    "start\n"
   ]
  },
  {
   "cell_type": "code",
   "execution_count": 10,
   "metadata": {},
   "outputs": [
    {
     "data": {
      "text/plain": [
       "200"
      ]
     },
     "execution_count": 10,
     "metadata": {},
     "output_type": "execute_result"
    }
   ],
   "source": [
    "end"
   ]
  },
  {
   "cell_type": "code",
   "execution_count": null,
   "metadata": {},
   "outputs": [],
   "source": []
  }
 ],
 "metadata": {
  "kernelspec": {
   "display_name": "Python 3.7.5 64-bit ('Namlister': virtualenv)",
   "language": "python",
   "name": "python37564bitnamlistervirtualenv5d7bb17d3c984c36aee202a2f6a91336"
  },
  "language_info": {
   "codemirror_mode": {
    "name": "ipython",
    "version": 3
   },
   "file_extension": ".py",
   "mimetype": "text/x-python",
   "name": "python",
   "nbconvert_exporter": "python",
   "pygments_lexer": "ipython3",
   "version": "3.7.5"
  }
 },
 "nbformat": 4,
 "nbformat_minor": 2
}
