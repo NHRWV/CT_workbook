{
 "cells": [
  {
   "cell_type": "code",
   "execution_count": 1,
   "metadata": {},
   "outputs": [
    {
     "name": "stdout",
     "output_type": "stream",
     "text": [
      "5\n",
      "4 1 5 2 3\n",
      "5\n",
      "1 3 7 9 5\n",
      "1\n",
      "1\n",
      "0\n",
      "0\n",
      "1\n"
     ]
    }
   ],
   "source": [
    "# 백준 1920\n",
    "\n",
    "n = int(input())\n",
    "n_seq = set(map(int, input().split()))\n",
    "m = int(input())    \n",
    "m_seq = list(map(int, input().split()))\n",
    "\n",
    "for i in m_seq:\n",
    "    if i in n_seq:\n",
    "        print(1)\n",
    "    \n",
    "    else:\n",
    "        print(0)\n",
    "\n"
   ]
  },
  {
   "cell_type": "code",
   "execution_count": null,
   "metadata": {
    "scrolled": true
   },
   "outputs": [],
   "source": [
    "# 백준 10816\n",
    "\n",
    "from bisect import bisect_left, bisect_right\n",
    "\n",
    "n = int(input())\n",
    "n_seq = list(map(int, input().split()))\n",
    "m = int(input())\n",
    "m_seq = list(map(int, input().split()))\n",
    "\n",
    "n_seq.sort()\n",
    "\n",
    "def func(arr, x):\n",
    "    left = bisect_left(arr, x)\n",
    "    right = bisect_right(arr, x)\n",
    "    \n",
    "    return right - left\n",
    "\n",
    "for i in m_seq:\n",
    "    print(func(n_seq, i), end = ' ')"
   ]
  },
  {
   "cell_type": "code",
   "execution_count": 6,
   "metadata": {},
   "outputs": [
    {
     "name": "stdout",
     "output_type": "stream",
     "text": [
      "1 4\n",
      "4\n",
      "1\n"
     ]
    }
   ],
   "source": [
    "# 백준 1654\n",
    "\n",
    "k, n = map(int, input().split())\n",
    "lan = []\n",
    "for i in range(k):\n",
    "    lan.append(int(input()))\n",
    "    \n",
    "start = 1\n",
    "end = max(lan)\n",
    "answer = 0\n",
    "while start <= end:\n",
    "    count = 0\n",
    "    mid = (start + end) // 2\n",
    "    \n",
    "    for i in lan:\n",
    "        if mid > 0:\n",
    "            count += i // mid\n",
    "            \n",
    "    if count < n:\n",
    "        end = mid - 1\n",
    "        \n",
    "    else: \n",
    "        answer = mid\n",
    "        start = mid + 1\n",
    "        \n",
    "        \n",
    "        \n",
    "print(answer)\n",
    "        \n",
    "    "
   ]
  },
  {
   "cell_type": "code",
   "execution_count": 7,
   "metadata": {},
   "outputs": [
    {
     "name": "stdout",
     "output_type": "stream",
     "text": [
      "4 7\n",
      "20 15 10 17\n"
     ]
    }
   ],
   "source": [
    "# 백준 2805\n",
    "\n",
    "n, m = map(int, input().split())\n",
    "tree = list(map(int, input().split()))\n",
    "\n",
    "start = 0\n",
    "end = max(tree)\n",
    "answer = 0\n",
    "\n",
    "while start <= end:\n",
    "    length = 0\n",
    "    mid = (start + end) // 2\n",
    "    \n",
    "    for i in tree:\n",
    "        if i > mid:\n",
    "            length += i - mid\n",
    "            \n",
    "    if length < m:\n",
    "        end = mid - 1\n",
    "        \n",
    "    else:\n",
    "        answer = mid\n",
    "        start = mid + 1\n",
    "        \n",
    "print(answer)"
   ]
  },
  {
   "cell_type": "code",
   "execution_count": 8,
   "metadata": {},
   "outputs": [
    {
     "name": "stdout",
     "output_type": "stream",
     "text": [
      "15\n"
     ]
    }
   ],
   "source": [
    "# 백준 1300\n",
    "\n",
    "# 1 ~ n*n\n",
    "n = int(input())\n",
    "k = int(input())\n",
    "\n",
    "b_lst = []\n",
    "for  \n"
   ]
  },
  {
   "cell_type": "markdown",
   "metadata": {},
   "source": [
    "https://www.acmicpc.net/problem/12015"
   ]
  },
  {
   "cell_type": "code",
   "execution_count": null,
   "metadata": {},
   "outputs": [],
   "source": [
    "# 백준 12015\n",
    "\n",
    "from bisect import bisect_left\n",
    "\n",
    "n = int(input())\n",
    "seq = list(map(int, input().split()))\n",
    "\n",
    "dp = [0]\n",
    "\n",
    "for i in seq:\n",
    "    if dp[-1] < i:\n",
    "        dp.append(i)\n",
    "        \n",
    "    else:\n",
    "        dp[bisect_left(dp, i)] = i\n",
    "        \n",
    "print(len(dp) - 1)"
   ]
  },
  {
   "cell_type": "markdown",
   "metadata": {},
   "source": [
    "https://www.acmicpc.net/problem/12738"
   ]
  },
  {
   "cell_type": "code",
   "execution_count": 7,
   "metadata": {},
   "outputs": [
    {
     "name": "stdout",
     "output_type": "stream",
     "text": [
      "6\n",
      "10 20 10 30 20 50\n",
      "4\n"
     ]
    }
   ],
   "source": [
    "# 백준 12738\n",
    "\n",
    "from bisect import bisect_left\n",
    "\n",
    "n = int(input())\n",
    "seq = list(map(int, input().split()))\n",
    "\n",
    "dp = []\n",
    "\n",
    "for i in seq:\n",
    "    a = bisect_left(dp, i)\n",
    "    \n",
    "    if len(dp) <= a:\n",
    "        dp.append(i)\n",
    "        \n",
    "    else:\n",
    "        dp[a] = i\n",
    "        \n",
    "print(len(dp))"
   ]
  },
  {
   "cell_type": "markdown",
   "metadata": {},
   "source": [
    "https://www.acmicpc.net/problem/14003"
   ]
  },
  {
   "cell_type": "code",
   "execution_count": 121,
   "metadata": {},
   "outputs": [
    {
     "name": "stdout",
     "output_type": "stream",
     "text": [
      "4\n",
      "2 3 4 1\n",
      "3\n",
      "2 3 4\n"
     ]
    }
   ],
   "source": [
    "from bisect import bisect_left\n",
    "\n",
    "n = int(input())\n",
    "seq = list(map(int, input().split()))\n",
    "\n",
    "dp = [0] * n\n",
    "lseq = [-int(1e9)]\n",
    "for i in range(n):\n",
    "    a = bisect_left(lseq, seq[i])\n",
    "    \n",
    "    if lseq[-1] < seq[i]:\n",
    "        lseq.append(seq[i])\n",
    "        dp[i] = len(lseq) - 1\n",
    "        \n",
    "        maxi_len = dp[i]\n",
    "        \n",
    "    else:\n",
    "        dp[i] = a\n",
    "        lseq[a] = seq[i]\n",
    "        \n",
    "    \n",
    "    \n",
    "print(maxi_len)\n",
    "\n",
    "\n",
    "answer = []\n",
    "for i in range(n-1, -1, -1):\n",
    "    if dp[i] == maxi_len:\n",
    "        answer.append(seq[i])\n",
    "        maxi_len -= 1\n",
    "\n",
    "answer.sort()\n",
    "print(*answer)\n",
    "\n",
    "\n",
    "# 4\n",
    "# 10 20 30 5\n",
    "\n",
    "# 7   \n",
    "# 2 3 4 1 2 3 4\n",
    "\n",
    "# 4\n",
    "# 100 20 30 40\n"
   ]
  },
  {
   "cell_type": "markdown",
   "metadata": {},
   "source": [
    "https://www.acmicpc.net/problem/2568"
   ]
  },
  {
   "cell_type": "code",
   "execution_count": 139,
   "metadata": {},
   "outputs": [
    {
     "name": "stdout",
     "output_type": "stream",
     "text": [
      "8\n",
      "1 8\n",
      "3 9\n",
      "2 2\n",
      "4 1\n",
      "6 4\n",
      "10 10\n",
      "9 7\n",
      "7 6\n",
      "3\n",
      "1\n",
      "2\n",
      "3\n"
     ]
    }
   ],
   "source": [
    "from bisect import bisect_left\n",
    "\n",
    "n = int(input())\n",
    "seq = []\n",
    "for i in range(n):\n",
    "    a, b = map(int, input().split())\n",
    "    seq.append([a, b])\n",
    "    \n",
    "seq.sort()\n",
    "\n",
    "\n",
    "dp = [0] * n\n",
    "lct = [0]\n",
    "idx = [0]\n",
    "for i in range(n):\n",
    "    target = seq[i][1]\n",
    "    c = bisect_left(lct, target)\n",
    "    \n",
    "    if lct[-1] < target:\n",
    "        lct.append(target)\n",
    "        dp[i] = len(lct) - 1\n",
    "        \n",
    "        \n",
    "        count = dp[i]\n",
    "        \n",
    "    else:\n",
    "        dp[i] = c\n",
    "        lct[c] = target\n",
    "        \n",
    "        \n",
    "    \n",
    "print(n - count)\n",
    "\n",
    "\n",
    "lst = []\n",
    "for i in range(n-1, -1, -1):\n",
    "    if dp[i] == count:\n",
    "        lst.append(i)\n",
    "        count -= 1\n",
    "\n",
    "\n",
    "for i in range(n):\n",
    "    if i not in lst:\n",
    "        print(seq[i][0])\n",
    "        \n",
    "   "
   ]
  },
  {
   "cell_type": "code",
   "execution_count": null,
   "metadata": {},
   "outputs": [],
   "source": [
    "8\n",
    "1 8\n",
    "3 9\n",
    "2 2\n",
    "4 1\n",
    "6 4\n",
    "10 10\n",
    "9 7\n",
    "7 6\n",
    "\n",
    "4\n",
    "\n",
    "1 2\n",
    "2 3\n",
    "3 4\n",
    "4 1"
   ]
  },
  {
   "cell_type": "code",
   "execution_count": 137,
   "metadata": {},
   "outputs": [
    {
     "data": {
      "text/plain": [
       "0"
      ]
     },
     "execution_count": 137,
     "metadata": {},
     "output_type": "execute_result"
    }
   ],
   "source": [
    "count"
   ]
  },
  {
   "cell_type": "code",
   "execution_count": 134,
   "metadata": {},
   "outputs": [
    {
     "data": {
      "text/plain": [
       "[1, 2, 3, 1]"
      ]
     },
     "execution_count": 134,
     "metadata": {},
     "output_type": "execute_result"
    }
   ],
   "source": [
    "dp"
   ]
  },
  {
   "cell_type": "code",
   "execution_count": 135,
   "metadata": {},
   "outputs": [
    {
     "data": {
      "text/plain": [
       "[0, 1, 3, 4]"
      ]
     },
     "execution_count": 135,
     "metadata": {},
     "output_type": "execute_result"
    }
   ],
   "source": [
    "lct"
   ]
  },
  {
   "cell_type": "code",
   "execution_count": 136,
   "metadata": {},
   "outputs": [
    {
     "data": {
      "text/plain": [
       "[2, 1, 0]"
      ]
     },
     "execution_count": 136,
     "metadata": {},
     "output_type": "execute_result"
    }
   ],
   "source": [
    "lst"
   ]
  },
  {
   "cell_type": "code",
   "execution_count": null,
   "metadata": {},
   "outputs": [],
   "source": [
    "answer = []\n",
    "for i in range(n-1, -1, -1):\n",
    "    if dp[i] == count:\n",
    "        answer.append(seq[i][1])\n",
    "        count -= 1\n",
    "\n",
    "answer.sort()\n",
    "print(*answer)"
   ]
  },
  {
   "cell_type": "code",
   "execution_count": 91,
   "metadata": {},
   "outputs": [
    {
     "name": "stdout",
     "output_type": "stream",
     "text": [
      "8\n",
      "1 8\n",
      "3 9\n",
      "2 2\n",
      "4 1\n",
      "6 4\n",
      "10 10\n",
      "9 7\n",
      "7 6\n",
      "3\n"
     ]
    }
   ],
   "source": [
    "n = int(input().rstrip())\n",
    "seq = []\n",
    "for i in range(n):\n",
    "    a, b = map(int, input().rstrip().split())\n",
    "    seq.append(tuple([a, b]))\n",
    "\n",
    "seq.sort()\n",
    "\n",
    "dp = [1] * 501\n",
    "for i in range(n):\n",
    "    for j in range(i):\n",
    "        if seq[i][1] > seq[j][1]:\n",
    "            if dp[i] < dp[j] + 1:\n",
    "                dp[i] = dp[j] + 1\n",
    "    \n",
    "            \n",
    "print(n - max(dp))"
   ]
  },
  {
   "cell_type": "code",
   "execution_count": 92,
   "metadata": {},
   "outputs": [
    {
     "data": {
      "text/plain": [
       "[(1, 8), (2, 2), (3, 9), (4, 1), (6, 4), (7, 6), (9, 7), (10, 10)]"
      ]
     },
     "execution_count": 92,
     "metadata": {},
     "output_type": "execute_result"
    }
   ],
   "source": [
    "seq"
   ]
  },
  {
   "cell_type": "code",
   "execution_count": 122,
   "metadata": {},
   "outputs": [
    {
     "data": {
      "text/plain": [
       "[1, 2, 3, 1]"
      ]
     },
     "execution_count": 122,
     "metadata": {},
     "output_type": "execute_result"
    }
   ],
   "source": [
    "dp"
   ]
  },
  {
   "cell_type": "code",
   "execution_count": 123,
   "metadata": {},
   "outputs": [
    {
     "data": {
      "text/plain": [
       "[-1000000000, 1, 3, 4]"
      ]
     },
     "execution_count": 123,
     "metadata": {},
     "output_type": "execute_result"
    }
   ],
   "source": [
    "lseq"
   ]
  },
  {
   "cell_type": "code",
   "execution_count": null,
   "metadata": {},
   "outputs": [],
   "source": []
  }
 ],
 "metadata": {
  "kernelspec": {
   "display_name": "Python 3.7.5 64-bit ('Namlister': virtualenv)",
   "language": "python",
   "name": "python37564bitnamlistervirtualenv5d7bb17d3c984c36aee202a2f6a91336"
  },
  "language_info": {
   "codemirror_mode": {
    "name": "ipython",
    "version": 3
   },
   "file_extension": ".py",
   "mimetype": "text/x-python",
   "name": "python",
   "nbconvert_exporter": "python",
   "pygments_lexer": "ipython3",
   "version": "3.8.8"
  }
 },
 "nbformat": 4,
 "nbformat_minor": 2
}
