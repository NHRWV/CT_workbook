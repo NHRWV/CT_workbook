{
 "cells": [
  {
   "cell_type": "markdown",
   "id": "13baa847",
   "metadata": {},
   "source": [
    "https://www.acmicpc.net/problem/2188"
   ]
  },
  {
   "cell_type": "code",
   "execution_count": 16,
   "id": "73d9ee8a",
   "metadata": {},
   "outputs": [
    {
     "name": "stdout",
     "output_type": "stream",
     "text": [
      "5 5\n",
      "2 2 5\n",
      "3 2 3 4\n",
      "2 1 5\n",
      "3 1 2 5\n",
      "1 2\n",
      "4\n"
     ]
    }
   ],
   "source": [
    "## 백준 2188 축사 배정\n",
    "\n",
    "n, m = map(int, input().split())\n",
    "lst = [[]]\n",
    "for i in range(n):\n",
    "    lst.append(list(map(int, input().split()))[1:])\n",
    "    \n",
    "barn = [0] * (m+1)\n",
    "\n",
    "def sol(x):\n",
    "    if visited[x]:\n",
    "        return False\n",
    "    \n",
    "    visited[x] = 1\n",
    "    \n",
    "    for i in lst[x]:\n",
    "        if barn[i] == 0 or sol(barn[i]): # 배정하고자 하는 축사가 비어 있거나,  \n",
    "            barn[i] = x                  # 기존에 배정된 소가 갈 수 있는 다른 칸이 남아있는 경우\n",
    "            return True\n",
    "\n",
    "    return False\n",
    "\n",
    "\n",
    "\n",
    "for i in range(1, n+1):\n",
    "    visited = [0] * (n+1)\n",
    "    sol(i)\n",
    "    \n",
    "    \n",
    "    \n",
    "print(m+1 - barn.count(0))"
   ]
  },
  {
   "cell_type": "markdown",
   "id": "b6605ec3",
   "metadata": {},
   "source": [
    "https://www.acmicpc.net/problem/11375"
   ]
  },
  {
   "cell_type": "code",
   "execution_count": 1,
   "id": "99a84538",
   "metadata": {},
   "outputs": [
    {
     "name": "stdout",
     "output_type": "stream",
     "text": [
      "5 5\n",
      "2 1 2\n",
      "1 1\n",
      "2 2 3\n",
      "3 3 4 5\n",
      "1 1\n",
      "4\n"
     ]
    }
   ],
   "source": [
    "# 백준 11375 열혈강호\n",
    "# 이분 매칭 기본 문제라서 축사 배정이랑 코드가 다를 게 없다.\n",
    "# 근데 pypy로 해야 시간초과 안 뜬다.\n",
    "\n",
    "n, m = map(int, input().split())\n",
    "lst = [[]]\n",
    "for i in range(n):\n",
    "    lst.append(list(map(int, input().split()))[1:])\n",
    "    \n",
    "task = [0] * (m+1)\n",
    "\n",
    "def sol(x):\n",
    "    if visited[x]:\n",
    "        return False\n",
    "    \n",
    "    visited[x] = 1\n",
    "    \n",
    "    for i in lst[x]:\n",
    "        if task[i] == 0 or sol(task[i]):\n",
    "            task[i] = x\n",
    "            return True\n",
    "\n",
    "    return False\n",
    "\n",
    "\n",
    "\n",
    "for i in range(1, n+1):\n",
    "    visited = [0] * (n+1)\n",
    "    sol(i)\n",
    "    \n",
    "    \n",
    "    \n",
    "print(m+1 - task.count(0))"
   ]
  },
  {
   "cell_type": "code",
   "execution_count": 18,
   "id": "021b734d",
   "metadata": {},
   "outputs": [
    {
     "data": {
      "text/plain": [
       "[0, 1, 0, 1, 1, 1]"
      ]
     },
     "execution_count": 18,
     "metadata": {},
     "output_type": "execute_result"
    }
   ],
   "source": [
    "5 5\n",
    "2 1 2\n",
    "1 1\n",
    "2 2 3\n",
    "3 3 4 5\n",
    "1 1"
   ]
  },
  {
   "cell_type": "code",
   "execution_count": 2,
   "id": "68c13bae",
   "metadata": {},
   "outputs": [
    {
     "data": {
      "text/plain": [
       "[[], [1, 2], [1], [2, 3], [3, 4, 5], [1]]"
      ]
     },
     "execution_count": 2,
     "metadata": {},
     "output_type": "execute_result"
    }
   ],
   "source": [
    "lst"
   ]
  },
  {
   "cell_type": "code",
   "execution_count": 4,
   "id": "a1935442",
   "metadata": {},
   "outputs": [
    {
     "data": {
      "text/plain": [
       "[0, 2, 1, 3, 4, 0]"
      ]
     },
     "execution_count": 4,
     "metadata": {},
     "output_type": "execute_result"
    }
   ],
   "source": [
    "task"
   ]
  },
  {
   "cell_type": "code",
   "execution_count": null,
   "id": "2c74118f",
   "metadata": {},
   "outputs": [],
   "source": []
  }
 ],
 "metadata": {
  "kernelspec": {
   "display_name": "Python 3",
   "language": "python",
   "name": "python3"
  },
  "language_info": {
   "codemirror_mode": {
    "name": "ipython",
    "version": 3
   },
   "file_extension": ".py",
   "mimetype": "text/x-python",
   "name": "python",
   "nbconvert_exporter": "python",
   "pygments_lexer": "ipython3",
   "version": "3.8.8"
  }
 },
 "nbformat": 4,
 "nbformat_minor": 5
}
