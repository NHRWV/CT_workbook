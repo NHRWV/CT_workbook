{
 "cells": [
  {
   "cell_type": "markdown",
   "id": "13baa847",
   "metadata": {},
   "source": [
    "https://www.acmicpc.net/problem/2188"
   ]
  },
  {
   "cell_type": "code",
   "execution_count": null,
   "id": "73d9ee8a",
   "metadata": {},
   "outputs": [],
   "source": [
    "## 백준 2188 축사 배정\n",
    "\n",
    "n, m = map(int, input().split())\n",
    "lst = [[]]\n",
    "for i in range(n):\n",
    "    lst.append(list(map(int, input().split()))[1:])\n",
    "    \n",
    "barn = [0] * (m+1)\n",
    "\n",
    "def sol(x):\n",
    "    if visited[x]:\n",
    "        return False\n",
    "    \n",
    "    visited[x] = 1\n",
    "    \n",
    "    for i in lst[x]:\n",
    "        if barn[i] == 0 or sol(barn[i]): # 배정하고자 하는 축사가 비어 있거나,  \n",
    "            barn[i] = x                  # 기존에 배정된 소가 갈 수 있는 다른 칸이 남아있는 경우\n",
    "            return True\n",
    "\n",
    "    return False\n",
    "\n",
    "\n",
    "\n",
    "for i in range(1, n+1):\n",
    "    visited = [0] * (n+1)\n",
    "    sol(i)\n",
    "    \n",
    "    \n",
    "    \n",
    "print(m+1 - barn.count(0))"
   ]
  },
  {
   "cell_type": "markdown",
   "id": "b6605ec3",
   "metadata": {},
   "source": [
    "https://www.acmicpc.net/problem/11375"
   ]
  },
  {
   "cell_type": "code",
   "execution_count": null,
   "id": "99a84538",
   "metadata": {},
   "outputs": [],
   "source": [
    "# 백준 11375 열혈강호\n",
    "# 이분 매칭 기본 문제라서 축사 배정이랑 코드가 다를 게 없다.\n",
    "# 근데 pypy로 해야 시간초과 안 뜬다.\n",
    "\n",
    "n, m = map(int, input().split())\n",
    "lst = [[]]\n",
    "for i in range(n):\n",
    "    lst.append(list(map(int, input().split()))[1:])\n",
    "    \n",
    "task = [0] * (m+1)\n",
    "\n",
    "def sol(x):\n",
    "    if visited[x]:\n",
    "        return False\n",
    "    \n",
    "    visited[x] = 1\n",
    "    \n",
    "    for i in lst[x]:\n",
    "        if task[i] == 0 or sol(task[i]):\n",
    "            task[i] = x\n",
    "            return True\n",
    "\n",
    "    return False\n",
    "\n",
    "\n",
    "\n",
    "for i in range(1, n+1):\n",
    "    visited = [0] * (n+1)\n",
    "    sol(i)\n",
    "    \n",
    "    \n",
    "    \n",
    "print(m+1 - task.count(0))"
   ]
  },
  {
   "cell_type": "code",
   "execution_count": 18,
   "id": "021b734d",
   "metadata": {},
   "outputs": [
    {
     "data": {
      "text/plain": [
       "[0, 1, 0, 1, 1, 1]"
      ]
     },
     "execution_count": 18,
     "metadata": {},
     "output_type": "execute_result"
    }
   ],
   "source": [
    "# 열혈강호 다른 풀이.\n",
    "\n",
    "import sys\n",
    "#sys.setrecursionlimit(100000)\n",
    "n,m = map(int,input().split())\n",
    "task = [list(map(int,input().split()))[1:] for _ in range(n)]\n",
    "\n",
    "visit= [-1]*(m+1)\n",
    "\n",
    "def dfs(x):\n",
    "    for i in task[x]:\n",
    "        if not check[i]:\n",
    "            check[i]=True\n",
    "            if visit[i]==-1 or dfs(visit[i]):\n",
    "                visit[i]=x\n",
    "            return True\n",
    "    return False\n",
    "\n",
    "result=0\n",
    "\n",
    "for i in range(n):\n",
    "    check = [False] *(m+1)\n",
    "    if dfs(i):\n",
    "        result+=1\n",
    "\n",
    "        \n",
    "print(result)"
   ]
  },
  {
   "cell_type": "markdown",
   "id": "12427742",
   "metadata": {},
   "source": [
    "https://www.acmicpc.net/problem/11376"
   ]
  },
  {
   "cell_type": "code",
   "execution_count": null,
   "id": "a1935442",
   "metadata": {},
   "outputs": [],
   "source": [
    "# 백준 11376 열혈강호2\n",
    "\n",
    "n, m = map(int, input().split())\n",
    "lst = [[]]\n",
    "for i in range(n):\n",
    "    lst.append(list(map(int, input().split()))[1:])\n",
    "    \n",
    "task = [0] * (m+1)\n",
    "\n",
    "def sol(x):\n",
    "    if visited[x]:\n",
    "        return False\n",
    "    \n",
    "    visited[x] = 1\n",
    "    \n",
    "    for i in lst[x]:\n",
    "        if task[i] == 0 or sol(task[i]):\n",
    "            task[i] = x\n",
    "            return True\n",
    "\n",
    "    return False\n",
    "\n",
    "count = 0\n",
    "for i in range(2):\n",
    "    for j in range(1, n+1):\n",
    "        visited = [0] * (n+1)\n",
    "        if sol(j):\n",
    "            count += 1\n",
    "\n",
    "\n",
    "print(count)"
   ]
  },
  {
   "cell_type": "markdown",
   "id": "2675ca97",
   "metadata": {},
   "source": [
    "https://www.acmicpc.net/problem/11377"
   ]
  },
  {
   "cell_type": "code",
   "execution_count": 2,
   "id": "8c75c6b5",
   "metadata": {},
   "outputs": [
    {
     "data": {
      "text/plain": [
       "[[], [1, 2], [1, 2], [1, 2], [4, 5], []]"
      ]
     },
     "execution_count": 2,
     "metadata": {},
     "output_type": "execute_result"
    }
   ],
   "source": [
    "n, m, k = map(int, input().split())\n",
    "lst = [[]]\n",
    "for i in range(n):\n",
    "    lst.append(list(map(int, input().split()))[1:])\n",
    "    \n",
    "task = [0] * (m+1)\n",
    "\n",
    "def sol(x):\n",
    "    if visited[x]:\n",
    "        return False\n",
    "    \n",
    "    visited[x] = 1\n",
    "    \n",
    "    for i in lst[x]:\n",
    "        if task[i] == 0 or sol(task[i]):\n",
    "            task[i] = x\n",
    "            return True\n",
    "\n",
    "    return False\n",
    "\n",
    "\n",
    "count = 0\n",
    "for i in range(1, n+1):\n",
    "    visited = [0] * (n+1)\n",
    "    if sol(i):\n",
    "        count += 1\n",
    "        \n",
    "for i in range(1, n+1):\n",
    "    visited = [0] * (n+1)\n",
    "    if sol(i):\n",
    "        k -= 1\n",
    "        count += 1\n",
    "    \n",
    "    if k == 0:\n",
    "        break\n",
    "        \n",
    "\n",
    "print(count)"
   ]
  },
  {
   "cell_type": "code",
   "execution_count": 3,
   "id": "047457ac",
   "metadata": {},
   "outputs": [
    {
     "data": {
      "text/plain": [
       "[0, 1, 1, 0, 0, 0]"
      ]
     },
     "execution_count": 3,
     "metadata": {},
     "output_type": "execute_result"
    }
   ],
   "source": [
    "task"
   ]
  },
  {
   "cell_type": "code",
   "execution_count": null,
   "id": "3d97245d",
   "metadata": {},
   "outputs": [],
   "source": []
  }
 ],
 "metadata": {
  "kernelspec": {
   "display_name": "Python 3",
   "language": "python",
   "name": "python3"
  },
  "language_info": {
   "codemirror_mode": {
    "name": "ipython",
    "version": 3
   },
   "file_extension": ".py",
   "mimetype": "text/x-python",
   "name": "python",
   "nbconvert_exporter": "python",
   "pygments_lexer": "ipython3",
   "version": "3.8.8"
  }
 },
 "nbformat": 4,
 "nbformat_minor": 5
}
