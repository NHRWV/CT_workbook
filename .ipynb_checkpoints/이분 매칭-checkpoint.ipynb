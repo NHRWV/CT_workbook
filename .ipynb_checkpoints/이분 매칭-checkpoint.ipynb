{
 "cells": [
  {
   "cell_type": "markdown",
   "id": "13baa847",
   "metadata": {},
   "source": [
    "https://www.acmicpc.net/problem/2188"
   ]
  },
  {
   "cell_type": "code",
   "execution_count": null,
   "id": "73d9ee8a",
   "metadata": {},
   "outputs": [],
   "source": [
    "## 백준 2188 축사 배정\n",
    "\n",
    "n, m = map(int, input().split())\n",
    "lst = [[]]\n",
    "for i in range(n):\n",
    "    lst.append(list(map(int, input().split()))[1:])\n",
    "    \n",
    "barn = [0] * (m+1)\n",
    "\n",
    "def sol(x):\n",
    "    if visited[x]:\n",
    "        return False\n",
    "    \n",
    "    visited[x] = 1\n",
    "    \n",
    "    for i in lst[x]:\n",
    "        if barn[i] == 0 or sol(barn[i]): # 배정하고자 하는 축사가 비어 있거나,  \n",
    "            barn[i] = x                  # 기존에 배정된 소가 갈 수 있는 다른 칸이 남아있는 경우\n",
    "            return True\n",
    "\n",
    "    return False\n",
    "\n",
    "\n",
    "\n",
    "for i in range(1, n+1):\n",
    "    visited = [0] * (n+1)\n",
    "    sol(i)\n",
    "    \n",
    "    \n",
    "    \n",
    "print(m+1 - barn.count(0))"
   ]
  },
  {
   "cell_type": "markdown",
   "id": "b6605ec3",
   "metadata": {},
   "source": [
    "https://www.acmicpc.net/problem/11375"
   ]
  },
  {
   "cell_type": "code",
   "execution_count": null,
   "id": "99a84538",
   "metadata": {},
   "outputs": [],
   "source": [
    "# 백준 11375 열혈강호\n",
    "# 이분 매칭 기본 문제라서 축사 배정이랑 코드가 다를 게 없다.\n",
    "# 근데 pypy로 해야 시간초과 안 뜬다.\n",
    "\n",
    "n, m = map(int, input().split())\n",
    "lst = [[]]\n",
    "for i in range(n):\n",
    "    lst.append(list(map(int, input().split()))[1:])\n",
    "    \n",
    "task = [0] * (m+1)\n",
    "\n",
    "def sol(x):\n",
    "    if visited[x]:\n",
    "        return False\n",
    "    \n",
    "    visited[x] = 1\n",
    "    \n",
    "    for i in lst[x]:\n",
    "        if task[i] == 0 or sol(task[i]):\n",
    "            task[i] = x\n",
    "            return True\n",
    "\n",
    "    return False\n",
    "\n",
    "\n",
    "\n",
    "for i in range(1, n+1):\n",
    "    visited = [0] * (n+1)\n",
    "    sol(i)\n",
    "    \n",
    "    \n",
    "    \n",
    "print(m+1 - task.count(0))"
   ]
  },
  {
   "cell_type": "code",
   "execution_count": 18,
   "id": "021b734d",
   "metadata": {},
   "outputs": [
    {
     "data": {
      "text/plain": [
       "[0, 1, 0, 1, 1, 1]"
      ]
     },
     "execution_count": 18,
     "metadata": {},
     "output_type": "execute_result"
    }
   ],
   "source": [
    "# 열혈강호 다른 풀이.\n",
    "\n",
    "import sys\n",
    "#sys.setrecursionlimit(100000)\n",
    "n,m = map(int,input().split())\n",
    "task = [list(map(int,input().split()))[1:] for _ in range(n)]\n",
    "\n",
    "visit= [-1]*(m+1)\n",
    "\n",
    "def dfs(x):\n",
    "    for i in task[x]:\n",
    "        if not check[i]:\n",
    "            check[i]=True\n",
    "            if visit[i]==-1 or dfs(visit[i]):\n",
    "                visit[i]=x\n",
    "            return True\n",
    "    return False\n",
    "\n",
    "result=0\n",
    "\n",
    "for i in range(n):\n",
    "    check = [False] *(m+1)\n",
    "    if dfs(i):\n",
    "        result+=1\n",
    "\n",
    "        \n",
    "print(result)"
   ]
  },
  {
   "cell_type": "markdown",
   "id": "12427742",
   "metadata": {},
   "source": [
    "https://www.acmicpc.net/problem/11376"
   ]
  },
  {
   "cell_type": "code",
   "execution_count": null,
   "id": "a1935442",
   "metadata": {},
   "outputs": [],
   "source": [
    "# 백준 11376 열혈강호2\n",
    "\n",
    "n, m = map(int, input().split())\n",
    "lst = [[]]\n",
    "for i in range(n):\n",
    "    lst.append(list(map(int, input().split()))[1:])\n",
    "    \n",
    "task = [0] * (m+1)\n",
    "\n",
    "def sol(x):\n",
    "    if visited[x]:\n",
    "        return False\n",
    "    \n",
    "    visited[x] = 1\n",
    "    \n",
    "    for i in lst[x]:\n",
    "        if task[i] == 0 or sol(task[i]):\n",
    "            task[i] = x\n",
    "            return True\n",
    "\n",
    "    return False\n",
    "\n",
    "count = 0\n",
    "for i in range(2):\n",
    "    for j in range(1, n+1):\n",
    "        visited = [0] * (n+1)\n",
    "        if sol(j):\n",
    "            count += 1\n",
    "\n",
    "\n",
    "print(count)"
   ]
  },
  {
   "cell_type": "markdown",
   "id": "2675ca97",
   "metadata": {},
   "source": [
    "https://www.acmicpc.net/problem/11377"
   ]
  },
  {
   "cell_type": "code",
   "execution_count": 2,
   "id": "8c75c6b5",
   "metadata": {},
   "outputs": [
    {
     "data": {
      "text/plain": [
       "[[], [1, 2], [1, 2], [1, 2], [4, 5], []]"
      ]
     },
     "execution_count": 2,
     "metadata": {},
     "output_type": "execute_result"
    }
   ],
   "source": [
    "n, m, k = map(int, input().split())\n",
    "lst = [[]]\n",
    "for i in range(n):\n",
    "    lst.append(list(map(int, input().split()))[1:])\n",
    "    \n",
    "task = [0] * (m+1)\n",
    "\n",
    "def sol(x):\n",
    "    if visited[x]:\n",
    "        return False\n",
    "    \n",
    "    visited[x] = 1\n",
    "    \n",
    "    for i in lst[x]:\n",
    "        if task[i] == 0 or sol(task[i]):\n",
    "            task[i] = x\n",
    "            return True\n",
    "\n",
    "    return False\n",
    "\n",
    "\n",
    "count = 0\n",
    "for i in range(1, n+1):\n",
    "    visited = [0] * (n+1)\n",
    "    if sol(i):\n",
    "        count += 1\n",
    "        \n",
    "for i in range(1, n+1):\n",
    "    visited = [0] * (n+1)\n",
    "    if sol(i):\n",
    "        k -= 1\n",
    "        count += 1\n",
    "    \n",
    "    if k == 0:\n",
    "        break\n",
    "        \n",
    "\n",
    "print(count)"
   ]
  },
  {
   "cell_type": "markdown",
   "id": "95e1214a",
   "metadata": {},
   "source": [
    "https://www.acmicpc.net/problem/9576"
   ]
  },
  {
   "cell_type": "code",
   "execution_count": null,
   "id": "3d97245d",
   "metadata": {},
   "outputs": [],
   "source": [
    "# 백준 9576 책 나눠주기\n",
    "\n",
    "def sol(x):\n",
    "    if visited[x]:\n",
    "        return False\n",
    "    \n",
    "    visited[x] = 1\n",
    "    \n",
    "    for i in range(lst[x][0], lst[x][1] + 1):\n",
    "        if book[i] == 0 or sol(book[i]):\n",
    "            book[i] = x\n",
    "            return True\n",
    "        \n",
    "    return False\n",
    "    \n",
    "    \n",
    "\n",
    "t = int(input())\n",
    "for i in range(t):\n",
    "    n, m = map(int, input().split())\n",
    "    \n",
    "    lst = [[]]\n",
    "    for j in range(m):\n",
    "        a, b = map(int, input().split())\n",
    "        lst.append([a, b])\n",
    "        \n",
    "    \n",
    "    book = [0] * (n+1)\n",
    "\n",
    "    count = 0\n",
    "    for j in range(1, m+1):\n",
    "        visited = [0] * (m+1)\n",
    "        if sol(j):\n",
    "            count += 1\n",
    "            \n",
    "            \n",
    "    print(count)"
   ]
  },
  {
   "cell_type": "markdown",
   "id": "c08046e4",
   "metadata": {},
   "source": [
    "https://www.acmicpc.net/problem/1298"
   ]
  },
  {
   "cell_type": "code",
   "execution_count": null,
   "id": "49913e6f",
   "metadata": {},
   "outputs": [],
   "source": [
    "# 백준 1298 노트북의 주인을 찾아서\n",
    "\n",
    "n, m = map(int, input().split())\n",
    "\n",
    "lst = [[] for _ in range(n+1)]\n",
    "for i in range(m):\n",
    "    a, b = map(int, input().split())\n",
    "    lst[a].append(b)\n",
    "    \n",
    "    \n",
    "laptop = [0] * (n+1)\n",
    "\n",
    "def sol(x):\n",
    "    if visited[x]:\n",
    "        return False\n",
    "    \n",
    "    visited[x] = 1\n",
    "    \n",
    "    for i in lst[x]:\n",
    "        if laptop[i] == 0 or sol(laptop[i]):\n",
    "            laptop[i] = x\n",
    "            return True\n",
    "\n",
    "    return False\n",
    "\n",
    "\n",
    "count = 0\n",
    "for i in range(1, n+1):\n",
    "    visited = [0] * (n+1)\n",
    "    if sol(i):\n",
    "        count += 1\n",
    "        \n",
    "        \n",
    "print(count)\n",
    "\n",
    "\n"
   ]
  },
  {
   "cell_type": "markdown",
   "id": "6d2d8a9a",
   "metadata": {},
   "source": [
    "https://www.acmicpc.net/problem/1671"
   ]
  },
  {
   "cell_type": "code",
   "execution_count": null,
   "id": "a3a956ef",
   "metadata": {},
   "outputs": [],
   "source": [
    "# 백준 1671 상어의 저녁식사\n",
    "# 존나 어렵네 \n",
    "\n",
    "\n",
    "def sol(x):\n",
    "    if visited[x]:\n",
    "        return False\n",
    "    \n",
    "    visited[x] = 1\n",
    "    \n",
    "    for i in range(1, n+1):\n",
    "        if check[x][i]:\n",
    "            if not chain[i] or sol(chain[i]):\n",
    "                chain[i] = x\n",
    "                return True\n",
    "\n",
    "    return False    \n",
    "\n",
    "\n",
    "\n",
    "n = int(input())\n",
    "\n",
    "lst = [[]]\n",
    "for i in range(n):\n",
    "    s, v, it = map(int, input().split())\n",
    "    lst.append((s, v, it))\n",
    "    \n",
    "check = [[0] * (n+1) for _ in range(n+1)]\n",
    "chain = [0] * (n+1)\n",
    "    \n",
    "    \n",
    "for i in range(1, n+1):\n",
    "    for j in range(1, n+1):\n",
    "        if i == j:\n",
    "            continue\n",
    "            \n",
    "        if lst[i][0] == lst[j][0] and lst[i][1] == lst[j][1] and lst[i][2] == lst[j][2] and i > j:\n",
    "            continue\n",
    "            \n",
    "        elif lst[i][0] >= lst[j][0] and lst[i][1] >= lst[j][1] and lst[i][2] >= lst[j][2]:\n",
    "            check[i][j] = 1\n",
    "    \n",
    "\n",
    "\n",
    "\n",
    "\n",
    "\n",
    "\n",
    "for i in range(2):\n",
    "    for j in range(1, n+1):\n",
    "        visited = [0] * (n+1)\n",
    "        sol(j)\n",
    "    \n",
    "\n",
    "print(chain[1:].count(0))"
   ]
  },
  {
   "cell_type": "markdown",
   "id": "ae1ff5c9",
   "metadata": {},
   "source": [
    "https://www.acmicpc.net/problem/11378"
   ]
  },
  {
   "cell_type": "code",
   "execution_count": null,
   "id": "f4164b12",
   "metadata": {},
   "outputs": [],
   "source": [
    "# 백준 11378 열혈강호 4\n",
    "\n",
    "n, m, k = map(int, input().split())\n",
    "lst = [[]]\n",
    "for i in range(n):\n",
    "    lst.append(list(map(int, input().split()))[1:])\n",
    "    \n",
    "task = [0] * (m+1)\n",
    "\n",
    "def sol(x):\n",
    "    if visited[x]:\n",
    "        return False\n",
    "    \n",
    "    visited[x] = 1\n",
    "    \n",
    "    for i in lst[x]:\n",
    "        if task[i] == 0 or sol(task[i]):\n",
    "            task[i] = x\n",
    "            return True\n",
    "\n",
    "    return False\n",
    "\n",
    "\n",
    "count = 0\n",
    "for i in range(1, n+1):\n",
    "    visited = [0] * (n+1)\n",
    "    if sol(i):\n",
    "        count += 1\n",
    "        \n",
    "for i in range(1, n+1):\n",
    "    while k > 0:\n",
    "        visited = [0] * (n+1)\n",
    "        if sol(i):\n",
    "            k -= 1\n",
    "            count += 1\n",
    "    \n",
    "        else:\n",
    "            break\n",
    "        \n",
    "\n",
    "print(count)"
   ]
  },
  {
   "cell_type": "markdown",
   "id": "a8a627ef",
   "metadata": {},
   "source": [
    "https://www.acmicpc.net/problem/14433"
   ]
  },
  {
   "cell_type": "code",
   "execution_count": null,
   "id": "a6c37183",
   "metadata": {},
   "outputs": [],
   "source": [
    "# 백준 14433 한조 대기 중\n",
    "\n",
    "n, m, k1, k2 = map(int, input().split())\n",
    "\n",
    "lst1 = [[] for _ in range(n+1)]\n",
    "lst2 = [[] for _ in range(n+1)]\n",
    "\n",
    "for i in range(k1):\n",
    "    a, b = map(int, input().split())\n",
    "    lst1[a].append(b)\n",
    "    \n",
    "for i in range(k2):\n",
    "    a, b = map(int, input().split())\n",
    "    lst2[a].append(b)\n",
    "    \n",
    "    \n",
    "    \n",
    "troll1 = [0] * (m+1)\n",
    "troll2 = [0] * (m+1)\n",
    "# 함수 수정할 것. 대상이 되는 리스트도 매개변수로 추가한다. 이분매칭 두 번 해서 적게 매칭 되는 쪽이 승리.\n",
    "def sol(x, lst, troll, visited):\n",
    "    if visited[x]:\n",
    "        return False\n",
    "    \n",
    "    visited[x] = 1\n",
    "    \n",
    "    for i in lst[x]:\n",
    "        if troll[i] == 0 or sol(troll[i], lst, troll, visited):\n",
    "            troll[i] = x\n",
    "            return True\n",
    "\n",
    "    return False\n",
    "\n",
    "\n",
    "count1 = 0\n",
    "count2 = 0\n",
    "for i in range(1, n+1):\n",
    "    visited1 = [0] * (n+1)\n",
    "    visited2 = [0] * (n+1)\n",
    "    \n",
    "    if sol(i, lst1, troll1, visited1):\n",
    "        count1 += 1\n",
    "    if sol(i, lst2, troll2, visited2):\n",
    "        count2 += 1\n",
    "        \n",
    "        \n",
    "if count1 >= count2:\n",
    "    print(\"그만 알아보자\")\n",
    "    \n",
    "else:\n",
    "    print(\"네 다음 힐딱이\")\n"
   ]
  },
  {
   "cell_type": "markdown",
   "id": "decdb819",
   "metadata": {},
   "source": [
    "https://www.acmicpc.net/problem/18138"
   ]
  },
  {
   "cell_type": "code",
   "execution_count": null,
   "id": "f3eacf03",
   "metadata": {},
   "outputs": [],
   "source": [
    "# 백준 18138 리유나는 세일러복을 좋아해\n",
    "\n",
    "n, m = map(int, input().split())\n",
    "\n",
    "shirts = []\n",
    "collar = []\n",
    "for i in range(n):\n",
    "    shirts.append(int(input()))\n",
    "    \n",
    "for i in range(m):\n",
    "    collar.append(int(input()))\n",
    "    \n",
    "    \n",
    "check = [[0] * m for _ in range(n)]\n",
    "for i in range(n):\n",
    "    for j in range(m):\n",
    "        if shirts[i] / 2 <= collar[j] and collar[j] <= shirts[i] * (3/4):\n",
    "            check[i][j] = 1\n",
    "            \n",
    "        if shirts[i] <= collar[j] and collar[j] <= shirts[i] * (5/4):\n",
    "            check[i][j] = 1\n",
    "\n",
    "            \n",
    "union = [-1] * m\n",
    "     \n",
    "def sol(x):\n",
    "    if visited[x]:\n",
    "        return False\n",
    "    \n",
    "    visited[x] = 1\n",
    "    \n",
    "    for i in range(m):\n",
    "        if check[x][i]:\n",
    "            if union[i] == -1 or sol(union[i]):\n",
    "                union[i] = x\n",
    "                return True\n",
    "\n",
    "    return False\n",
    "\n",
    "\n",
    "count = 0\n",
    "for i in range(n):\n",
    "    visited = [0] * (n+1)\n",
    "    if sol(i):\n",
    "        count += 1\n",
    "        \n",
    "        \n",
    "print(count)"
   ]
  },
  {
   "cell_type": "markdown",
   "id": "fbfed635",
   "metadata": {},
   "source": [
    "https://www.acmicpc.net/problem/17481"
   ]
  },
  {
   "cell_type": "code",
   "execution_count": 10,
   "id": "d103724a",
   "metadata": {},
   "outputs": [
    {
     "name": "stdout",
     "output_type": "stream",
     "text": [
      "4 5\n",
      "YEJI\n",
      "LIA\n",
      "RYUJIN\n",
      "CHAERYEONG\n",
      "YUNA\n",
      "3 YEJI RYUJIN YUNA\n",
      "2 LIA RYUJIN\n",
      "3 CHAERYEONG YEJI RYUJIN\n",
      "4 LIA RYUJIN CHAERYEONG YUNA\n"
     ]
    }
   ],
   "source": [
    "# 백준 17481 최애 정하기\n",
    "\n",
    "n, m = map(int, input().split())\n",
    "\n",
    "idol = {}\n",
    "for i in range(1, m+1):\n",
    "    idol[input().upper()] = i\n",
    "    \n",
    "lst = [[] for _ in range(n+1)]\n",
    "for i in range(n):\n",
    "    a = list(map(str, input().split()))[1:]\n",
    "    for j in a:\n",
    "        lst[i+1].append(idol[j])\n",
    "        \n",
    "\n",
    "\n",
    "member = [0] * (m+1)\n",
    "\n",
    "def sol(x):\n",
    "    if visited[x]:\n",
    "        return False\n",
    "    \n",
    "    visited[x] = 1\n",
    "    \n",
    "    for i in lst[x]:\n",
    "        if member[i] == 0 or sol(member[i]):\n",
    "            member[i] = x\n",
    "            return True\n",
    "\n",
    "    return False\n",
    "\n",
    "\n",
    "count = 0\n",
    "for i in range(1, n+1):\n",
    "    visited = [0] * (n+1)\n",
    "    if sol(i):\n",
    "        count += 1\n",
    "        \n",
    "\n",
    "if count == n:\n",
    "    print('YES')\n",
    "else:\n",
    "    print('NO')\n",
    "    print(count)"
   ]
  },
  {
   "cell_type": "code",
   "execution_count": 16,
   "id": "c80f3d80",
   "metadata": {},
   "outputs": [],
   "source": [
    "4 5\n",
    "YEJI\n",
    "LIA\n",
    "RYUJIN\n",
    "CHAERYEONG\n",
    "YUNA\n",
    "3 YEJI RYUJIN YUNA\n",
    "2 LIA RYUJIN\n",
    "3 CHAERYEONG YEJI RYUJIN\n",
    "4 LIA RYUJIN CHAERYEONG YUNA\n",
    "\n",
    "6 6\n",
    "MIYEON\n",
    "MINNIE\n",
    "SOOJIN\n",
    "SOYEON\n",
    "YUQI\n",
    "SHUHUA\n",
    "2 YUQI SOOJIN\n",
    "1 SOYEON\n",
    "1 YUQI\n",
    "2 YUQI SHUHUA\n",
    "3 MIYEON SOYEON YUQI\n",
    "3 MIYEON SHUHUA SOYEON"
   ]
  },
  {
   "cell_type": "code",
   "execution_count": 11,
   "id": "d6a50d13",
   "metadata": {},
   "outputs": [
    {
     "data": {
      "text/plain": [
       "[[], [1, 3, 5], [2, 3], [4, 1, 3], [2, 3, 4, 5]]"
      ]
     },
     "execution_count": 11,
     "metadata": {},
     "output_type": "execute_result"
    }
   ],
   "source": [
    "lst"
   ]
  },
  {
   "cell_type": "code",
   "execution_count": 12,
   "id": "885476e2",
   "metadata": {},
   "outputs": [
    {
     "data": {
      "text/plain": [
       "{'YEJI': 1, 'LIA': 2, 'RYUJIN': 3, 'CHAERYEONG': 4, 'YUNA': 5}"
      ]
     },
     "execution_count": 12,
     "metadata": {},
     "output_type": "execute_result"
    }
   ],
   "source": [
    "idol"
   ]
  },
  {
   "cell_type": "code",
   "execution_count": 13,
   "id": "088d5de2",
   "metadata": {},
   "outputs": [
    {
     "data": {
      "text/plain": [
       "4"
      ]
     },
     "execution_count": 13,
     "metadata": {},
     "output_type": "execute_result"
    }
   ],
   "source": [
    "count"
   ]
  },
  {
   "cell_type": "code",
   "execution_count": 6,
   "id": "dd4ded85",
   "metadata": {},
   "outputs": [
    {
     "data": {
      "text/plain": [
       "dict"
      ]
     },
     "execution_count": 6,
     "metadata": {},
     "output_type": "execute_result"
    }
   ],
   "source": [
    "type(a)"
   ]
  },
  {
   "cell_type": "code",
   "execution_count": null,
   "id": "5cdf01cb",
   "metadata": {},
   "outputs": [],
   "source": []
  }
 ],
 "metadata": {
  "kernelspec": {
   "display_name": "Python 3",
   "language": "python",
   "name": "python3"
  },
  "language_info": {
   "codemirror_mode": {
    "name": "ipython",
    "version": 3
   },
   "file_extension": ".py",
   "mimetype": "text/x-python",
   "name": "python",
   "nbconvert_exporter": "python",
   "pygments_lexer": "ipython3",
   "version": "3.8.8"
  }
 },
 "nbformat": 4,
 "nbformat_minor": 5
}
