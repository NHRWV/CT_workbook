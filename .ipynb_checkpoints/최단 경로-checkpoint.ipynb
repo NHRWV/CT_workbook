{
 "cells": [
  {
   "cell_type": "markdown",
   "id": "23b71273",
   "metadata": {},
   "source": [
    "https://www.acmicpc.net/problem/1753"
   ]
  },
  {
   "cell_type": "code",
   "execution_count": 18,
   "id": "9597c5ce",
   "metadata": {},
   "outputs": [
    {
     "name": "stdout",
     "output_type": "stream",
     "text": [
      "5 6\n",
      "1\n",
      "5 1 1\n",
      "1 2 2\n",
      "1 3 3\n",
      "2 3 4\n",
      "2 4 5\n",
      "3 4 6\n",
      "0\n",
      "2\n",
      "3\n",
      "7\n",
      "INF\n"
     ]
    }
   ],
   "source": [
    "# 백준 1753\n",
    "\n",
    "import heapq\n",
    "\n",
    "v, e = map(int, input().split())\n",
    "k = int(input())\n",
    "\n",
    "edge = [[] for _ in range(v+1)]\n",
    "for i in range(e):\n",
    "    a, b, w = map(int, input().split())\n",
    "    edge[a].append((b, w))\n",
    "\n",
    "INF = int(1e9)\n",
    "distance = [INF] * (v+1)\n",
    "\n",
    "\n",
    "def dijk(start):\n",
    "    queue = []\n",
    "    \n",
    "    heapq.heappush(queue, (0, start))\n",
    "    distance[start] = 0\n",
    "    \n",
    "    while queue:\n",
    "        dist, node = heapq.heappop(queue)\n",
    "        \n",
    "        if distance[node] < dist:\n",
    "            continue\n",
    "            \n",
    "        for i in edge[node]:\n",
    "            cost = dist + i[1]\n",
    "            \n",
    "            if cost < distance[i[0]]:\n",
    "                distance[i[0]] = cost\n",
    "                heapq.heappush(queue, (cost, i[0]))\n",
    "                \n",
    "        \n",
    "dijk(k)\n",
    "\n",
    "for i in range(1, len(distance)):\n",
    "    if distance[i] == int(1e9):\n",
    "        print('INF')\n",
    "    else:\n",
    "        print(distance[i])"
   ]
  },
  {
   "cell_type": "code",
   "execution_count": null,
   "id": "96791d8b",
   "metadata": {},
   "outputs": [],
   "source": [
    "5 6\n",
    "1\n",
    "5 1 1\n",
    "1 2 2\n",
    "1 3 3\n",
    "2 3 4\n",
    "2 4 5\n",
    "3 4 6"
   ]
  },
  {
   "cell_type": "code",
   "execution_count": 13,
   "id": "418774d5",
   "metadata": {},
   "outputs": [
    {
     "data": {
      "text/plain": [
       "[1000000000, 0, 2, 3, 7, 1000000000]"
      ]
     },
     "execution_count": 13,
     "metadata": {},
     "output_type": "execute_result"
    }
   ],
   "source": [
    "distance"
   ]
  },
  {
   "cell_type": "code",
   "execution_count": 7,
   "id": "3a6625c4",
   "metadata": {},
   "outputs": [
    {
     "name": "stdout",
     "output_type": "stream",
     "text": [
      "5 6\n"
     ]
    }
   ],
   "source": [
    "v, e = map(int, input().split())"
   ]
  },
  {
   "cell_type": "code",
   "execution_count": 11,
   "id": "125a408e",
   "metadata": {},
   "outputs": [
    {
     "data": {
      "text/plain": [
       "4"
      ]
     },
     "execution_count": 11,
     "metadata": {},
     "output_type": "execute_result"
    }
   ],
   "source": [
    "v"
   ]
  },
  {
   "cell_type": "code",
   "execution_count": null,
   "id": "372b932a",
   "metadata": {},
   "outputs": [],
   "source": []
  }
 ],
 "metadata": {
  "kernelspec": {
   "display_name": "Python 3",
   "language": "python",
   "name": "python3"
  },
  "language_info": {
   "codemirror_mode": {
    "name": "ipython",
    "version": 3
   },
   "file_extension": ".py",
   "mimetype": "text/x-python",
   "name": "python",
   "nbconvert_exporter": "python",
   "pygments_lexer": "ipython3",
   "version": "3.8.8"
  }
 },
 "nbformat": 4,
 "nbformat_minor": 5
}
