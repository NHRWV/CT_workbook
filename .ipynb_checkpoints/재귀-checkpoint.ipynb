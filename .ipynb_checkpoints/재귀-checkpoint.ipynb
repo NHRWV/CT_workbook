{
 "cells": [
  {
   "cell_type": "code",
   "execution_count": null,
   "metadata": {},
   "outputs": [],
   "source": [
    "# 백준 10872\n",
    "\n",
    "n = int(input())\n",
    "\n",
    "def factorial(n):\n",
    "    if n == 0:\n",
    "        return 1\n",
    "    return n * factorial(n-1)\n",
    "\n",
    "print(factorial(n))\n",
    "   "
   ]
  },
  {
   "cell_type": "code",
   "execution_count": null,
   "metadata": {},
   "outputs": [],
   "source": [
    "# 백준 10870\n",
    "\n",
    "n = int(input())\n",
    "\n",
    "def bona(x):\n",
    "    if x == 0:\n",
    "        return 0\n",
    "    elif x == 1:\n",
    "        return 1\n",
    "    return bona(x-1) + bona(x-2)\n",
    "\n",
    "print(bona(n))"
   ]
  },
  {
   "cell_type": "code",
   "execution_count": null,
   "metadata": {},
   "outputs": [],
   "source": [
    "# 백준 2447 별찍기10인데 좀 어렵다.\n",
    "\n",
    "n = int(input())\n",
    "\n",
    "def star(x):\n",
    "    if x == 3:\n",
    "        return print(\"***\\n* *\\n***\")\n",
    "    return star(x/3)\n",
    "star(n)"
   ]
  },
  {
   "cell_type": "code",
   "execution_count": null,
   "metadata": {},
   "outputs": [],
   "source": [
    "# 백준 11729\n",
    "\n",
    "n = int(input())\n",
    "\n",
    "\n",
    "def hanoi_tower(n, fir, sec, thr):\n",
    "    \n",
    "    if n == 1:\n",
    "        print(fir, thr)\n",
    "        \n",
    "    else:\n",
    "        hanoi_tower(n-1, fir, thr, sec)\n",
    "        print(fir, thr)\n",
    "        hanoi_tower(n-1, sec, fir, thr)\n",
    "\n",
    "\n",
    "print(2**n - 1)\n",
    "hanoi_tower(n, 1, 2, 3)    \n"
   ]
  },
  {
   "cell_type": "code",
   "execution_count": 32,
   "metadata": {},
   "outputs": [
    {
     "name": "stdout",
     "output_type": "stream",
     "text": [
      "10 500\n",
      "93 181 245 214 315 36 185 138 216 295\n",
      "497\n"
     ]
    }
   ],
   "source": [
    "# 백준 2798\n",
    "\n",
    "n, m = map(int, input().split())\n",
    "card = list(map(int, input().split()))\n",
    "bj = 0\n",
    "\n",
    "for i in range(len(card)):\n",
    "    for j in range(i + 1, len(card)):\n",
    "        for k in range(j + 1, len(card)):\n",
    "            if bj < card[i] + card[j] + card[k] <= m:\n",
    "                bj = card[i] + card[j] + card[k]\n",
    "print(bj)"
   ]
  },
  {
   "cell_type": "code",
   "execution_count": 47,
   "metadata": {},
   "outputs": [
    {
     "name": "stdout",
     "output_type": "stream",
     "text": [
      "15\n",
      "12\n"
     ]
    }
   ],
   "source": [
    "# 백준 2231\n",
    "\n",
    "n = int(input())\n",
    "m_num = 0\n",
    "while True:\n",
    "    num = m_num\n",
    "    for i in range(len(str(m_num))):\n",
    "        \n",
    "        num += int(str(m_num)[i])\n",
    "    \n",
    "    if num == n:\n",
    "        break\n",
    "    elif m_num > n:\n",
    "        break\n",
    "    \n",
    "    m_num += 1\n",
    "\n",
    "if num == n:\n",
    "    print(m_num)\n",
    "else:\n",
    "    print(0)"
   ]
  }
 ],
 "metadata": {
  "kernelspec": {
   "display_name": "Python 3",
   "language": "python",
   "name": "python3"
  },
  "language_info": {
   "codemirror_mode": {
    "name": "ipython",
    "version": 3
   },
   "file_extension": ".py",
   "mimetype": "text/x-python",
   "name": "python",
   "nbconvert_exporter": "python",
   "pygments_lexer": "ipython3",
   "version": "3.7.5"
  }
 },
 "nbformat": 4,
 "nbformat_minor": 2
}
