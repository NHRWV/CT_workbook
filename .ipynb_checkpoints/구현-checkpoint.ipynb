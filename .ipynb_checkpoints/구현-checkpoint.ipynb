{
 "cells": [
  {
   "cell_type": "code",
   "execution_count": 7,
   "metadata": {},
   "outputs": [
    {
     "name": "stdout",
     "output_type": "stream",
     "text": [
      "4\n",
      "3 3 3 3\n",
      "3 3 6 3\n",
      "2 2 6 6\n",
      "6 2 1 5\n",
      "65000\n"
     ]
    }
   ],
   "source": [
    "# 백준 2484\n",
    "\n",
    "def sol(ls):\n",
    "    cnt = [0] * 7\n",
    "    for i in ls:\n",
    "        cnt[i] += 1\n",
    "        \n",
    "    if len(set(ls)) == 4:\n",
    "        prize = max(ls) * 100\n",
    "        \n",
    "    elif len(set(ls)) == 2:\n",
    "        if max(cnt) == 3:\n",
    "            prize = 10000 + cnt.index(3) * 1000\n",
    "            \n",
    "        else:\n",
    "            prize = 2000 + 500 * list(set(ls))[0] + 500 * list(set(ls))[1]\n",
    "            \n",
    "    elif len(set(ls)) == 3:\n",
    "        prize = 1000 + cnt.index(2) * 100\n",
    "        \n",
    "    elif len(set(ls)) == 1:\n",
    "        prize = 50000 + cnt.index(4) * 5000\n",
    "        \n",
    "    return prize\n",
    "        \n",
    "\n",
    "n = int(input())\n",
    "\n",
    "dice = []\n",
    "for i in range(n):\n",
    "    a = sol(list(map(int, input().split())))\n",
    "    dice.append(a)\n",
    "\n",
    "print(max(dice))"
   ]
  },
  {
   "cell_type": "code",
   "execution_count": 1,
   "metadata": {},
   "outputs": [],
   "source": [
    "a = [1]"
   ]
  },
  {
   "cell_type": "code",
   "execution_count": 5,
   "metadata": {},
   "outputs": [
    {
     "ename": "TypeError",
     "evalue": "'set' object is not subscriptable",
     "output_type": "error",
     "traceback": [
      "\u001b[1;31m---------------------------------------------------------------------------\u001b[0m",
      "\u001b[1;31mTypeError\u001b[0m                                 Traceback (most recent call last)",
      "\u001b[1;32m<ipython-input-5-81db35b2587b>\u001b[0m in \u001b[0;36m<module>\u001b[1;34m\u001b[0m\n\u001b[1;32m----> 1\u001b[1;33m \u001b[0mset\u001b[0m\u001b[1;33m(\u001b[0m\u001b[0ma\u001b[0m\u001b[1;33m)\u001b[0m\u001b[1;33m[\u001b[0m\u001b[1;36m0\u001b[0m\u001b[1;33m]\u001b[0m\u001b[1;33m\u001b[0m\u001b[1;33m\u001b[0m\u001b[0m\n\u001b[0m",
      "\u001b[1;31mTypeError\u001b[0m: 'set' object is not subscriptable"
     ]
    }
   ],
   "source": [
    "set(a)[0]"
   ]
  },
  {
   "cell_type": "code",
   "execution_count": null,
   "metadata": {},
   "outputs": [],
   "source": []
  }
 ],
 "metadata": {
  "kernelspec": {
   "display_name": "Python 3.7.5 64-bit ('Namlister': virtualenv)",
   "language": "python",
   "name": "python37564bitnamlistervirtualenv5d7bb17d3c984c36aee202a2f6a91336"
  },
  "language_info": {
   "codemirror_mode": {
    "name": "ipython",
    "version": 3
   },
   "file_extension": ".py",
   "mimetype": "text/x-python",
   "name": "python",
   "nbconvert_exporter": "python",
   "pygments_lexer": "ipython3",
   "version": "3.7.5"
  }
 },
 "nbformat": 4,
 "nbformat_minor": 2
}
