{
 "cells": [
  {
   "cell_type": "code",
   "execution_count": null,
   "id": "80e98664",
   "metadata": {},
   "outputs": [],
   "source": [
    "n = int(input())\n",
    "\n",
    "lst = set()\n",
    "for i in range(n):\n",
    "    lst.add(input())\n",
    "    \n",
    "lst = list(lst)\n",
    "lst.sort()\n",
    "\n",
    "lst = sorted(lst, key = lambda x : (len(x)))"
   ]
  },
  {
   "cell_type": "code",
   "execution_count": null,
   "id": "ad917cb1",
   "metadata": {},
   "outputs": [],
   "source": [
    "while True:\n",
    "    word = input()\n",
    "    if word == '0':\n",
    "        break\n",
    "        \n",
    "    if word == word[::-1]:\n",
    "        print('yes')\n",
    "    else:\n",
    "        print('no')\n",
    "        \n",
    " "
   ]
  },
  {
   "cell_type": "code",
   "execution_count": null,
   "id": "53da4a4f",
   "metadata": {},
   "outputs": [],
   "source": [
    "n = int(input())\n",
    "\n",
    "def sol(n):\n",
    "    count = 0\n",
    "    num = 666\n",
    "    \n",
    "    while True:\n",
    "        if '666' in str(num):\n",
    "            count += 1\n",
    "            \n",
    "        if count == n:\n",
    "            print(num)\n",
    "            break\n",
    "            \n",
    "        num += 1\n",
    "        \n",
    "sol(n)"
   ]
  },
  {
   "cell_type": "code",
   "execution_count": null,
   "id": "1bd70412",
   "metadata": {},
   "outputs": [],
   "source": [
    "k, n = map(int, input().split())\n",
    "\n",
    "lst = []\n",
    "for i in range(k):\n",
    "    lst.append(int(input()))\n",
    "    \n",
    "    \n",
    "start = 0\n",
    "end = max(lst)\n",
    "answer = 0\n",
    "\n",
    "while start <= end:\n",
    "    mid = (start + end) // 2\n",
    "    temp = 0\n",
    "    \n",
    "    for i in lst:\n",
    "        if mid > 0:\n",
    "            temp += i // mid\n",
    "            \n",
    "    if temp >= n:\n",
    "        start = mid + 1\n",
    "        answer = mid\n",
    "    else:\n",
    "        end = mid - 1\n",
    "            \n",
    "print(answer)"
   ]
  },
  {
   "cell_type": "code",
   "execution_count": null,
   "id": "3359f4aa",
   "metadata": {},
   "outputs": [],
   "source": [
    "n = int(input())\n",
    "a = set(map(int, input().split()))\n",
    "m = int(input())\n",
    "b = list(map(int, input().split()))\n",
    "\n",
    "for i in b:\n",
    "    if i in a:\n",
    "        print(1)\n",
    "    else:\n",
    "        print(0)"
   ]
  },
  {
   "cell_type": "code",
   "execution_count": null,
   "id": "d64b44c2",
   "metadata": {},
   "outputs": [],
   "source": [
    "from collections import deque\n",
    "\n",
    "t = int(input())\n",
    "for _ in range(t):\n",
    "    n, m = map(int, input().split())\n",
    "    \n",
    "    "
   ]
  },
  {
   "cell_type": "code",
   "execution_count": null,
   "id": "5aefbed8",
   "metadata": {},
   "outputs": [],
   "source": [
    "n = int(input())\n",
    "\n",
    "count = 0\n",
    "num = 666\n",
    "    \n",
    "while True:\n",
    "    if '666' in str(num):\n",
    "        count += 1\n",
    "            \n",
    "    if count == n:\n",
    "        print(num)\n",
    "        break\n",
    "            \n",
    "    num += 1"
   ]
  },
  {
   "cell_type": "code",
   "execution_count": null,
   "id": "0138b4da",
   "metadata": {},
   "outputs": [],
   "source": [
    "def miniMaxSum(arr):\n",
    "    # Write your code here\n",
    "    maxi = sum(arr[1:])\n",
    "    mini = sum(arr[:-1])\n",
    "    \n",
    "    return mini, maxi\n",
    "    \n",
    "\n",
    "if __name__ == '__main__':\n",
    "\n",
    "    arr = list(map(int, input().rstrip().split()))\n",
    "\n",
    "    print(*miniMaxSum(arr))\n",
    "    \n",
    "    "
   ]
  },
  {
   "cell_type": "code",
   "execution_count": null,
   "id": "7214eb03",
   "metadata": {},
   "outputs": [],
   "source": [
    "s = '07:05:45PM'"
   ]
  },
  {
   "cell_type": "code",
   "execution_count": null,
   "id": "26815df3",
   "metadata": {},
   "outputs": [],
   "source": [
    "s.split(':')"
   ]
  },
  {
   "cell_type": "code",
   "execution_count": null,
   "id": "fafdf41c",
   "metadata": {},
   "outputs": [],
   "source": [
    "import math\n",
    "import os\n",
    "import random\n",
    "import re\n",
    "import sys"
   ]
  },
  {
   "cell_type": "code",
   "execution_count": null,
   "id": "284d8240",
   "metadata": {},
   "outputs": [],
   "source": [
    "\n",
    "\n",
    "def timeConversion(s):\n",
    "    # Write your code here\n",
    "    check = 0\n",
    "    if s[-2:] == 'PM':\n",
    "        check = 12\n",
    "        \n",
    "    s = s[:-2].split(\":\")\n",
    "    \n",
    "    if check == 12:\n",
    "        if s[0] != '12':\n",
    "            s[0] = str(int(s[0]) + 12)\n",
    "        else:\n",
    "            s[0] = '00'\n",
    "        \n",
    "    return \":\".join(s)\n",
    "\n",
    "if __name__ == '__main__':\n",
    "    \n",
    "\n",
    "    s = input()\n",
    "\n",
    "    result = timeConversion(s)\n",
    "    \n",
    "    print(result)\n",
    "\n",
    "   "
   ]
  },
  {
   "cell_type": "code",
   "execution_count": null,
   "id": "0ff66cb0",
   "metadata": {},
   "outputs": [],
   "source": [
    "import math\n",
    "import os\n",
    "import random\n",
    "import re\n",
    "import sys\n",
    "\n",
    "#\n",
    "# Complete the 'timeConversion' function below.\n",
    "#\n",
    "# The function is expected to return a STRING.\n",
    "# The function accepts STRING s as parameter.\n",
    "#\n",
    "\n",
    "def timeConversion(s):\n",
    "    # Write your code here\n",
    "    check = 0\n",
    "    if s[-2:] == 'PM':\n",
    "        check = 12\n",
    "        \n",
    "    s = s[:-2].split(\":\")\n",
    "    \n",
    "    if check == 12:\n",
    "        if s[0] != '12':\n",
    "            s[0] = str(int(s[0]) + 12)\n",
    "        else:\n",
    "            s[0] = '00'\n",
    "        \n",
    "    return \":\".join(s)\n",
    "\n",
    "if __name__ == '__main__':\n",
    "    fptr = open(os.environ['OUTPUT_PATH'], 'w')\n",
    "\n",
    "    s = input()\n",
    "\n",
    "    result = timeConversion(s)\n",
    "    \n",
    "    \n",
    "\n",
    "    fptr.write(result + '\\n')\n",
    "\n",
    "    fptr.close()\n"
   ]
  },
  {
   "cell_type": "code",
   "execution_count": null,
   "id": "d87e15d3",
   "metadata": {},
   "outputs": [],
   "source": [
    "import math\n",
    "import os\n",
    "import random\n",
    "import re\n",
    "import sys\n",
    "\n",
    "#\n",
    "# Complete the 'countingSort' function below.\n",
    "#\n",
    "# The function is expected to return an INTEGER_ARRAY.\n",
    "# The function accepts INTEGER_ARRAY arr as parameter.\n",
    "#\n",
    "\n",
    "def countingSort(arr):\n",
    "    # Write your code here\n",
    "    counts = [0] * (max(arr) + 1)\n",
    "    for i in range(n):\n",
    "        counts[arr[i]] += 1\n",
    "        \n",
    "    return counts\n",
    "\n",
    "if __name__ == '__main__':\n",
    "    \n",
    "\n",
    "    n = int(input().strip())\n",
    "\n",
    "    arr = list(map(int, input().rstrip().split()))\n",
    "\n",
    "    result = countingSort(arr)\n",
    "\n",
    "    \n"
   ]
  },
  {
   "cell_type": "code",
   "execution_count": null,
   "id": "df5afa4a",
   "metadata": {},
   "outputs": [],
   "source": [
    "def findZigZagSequence(a, n):\n",
    "    a.sort()\n",
    "    mid = int((n + 1)/2)\n",
    "    a[mid], a[n-1] = a[n-1], a[mid]\n",
    "\n",
    "    st = mid + 1\n",
    "    ed = n - 1\n",
    "    while(st <= ed):\n",
    "        a[st], a[ed] = a[ed], a[st]\n",
    "        st = st + 1\n",
    "        ed = ed + 1\n",
    "\n",
    "    for i in range (n):\n",
    "        if i == n-1:\n",
    "            print(a[i])\n",
    "        else:\n",
    "            print(a[i], end = ' ')\n",
    "    return\n",
    "\n",
    "test_cases = int(input())\n",
    "for cs in range (test_cases):\n",
    "    n = int(input())\n",
    "    a = list(map(int, input().split()))\n",
    "    findZigZagSequence(a, n)\n"
   ]
  },
  {
   "cell_type": "code",
   "execution_count": null,
   "id": "932effa6",
   "metadata": {},
   "outputs": [],
   "source": [
    "n = int(input())\n",
    "\n",
    "dp = [0] * int(1e6+1)\n",
    "\n",
    "for i in range(2, n+1):\n",
    "    dp[i] = dp[i-1] + 1\n",
    "    \n",
    "    if not i % 2:\n",
    "        dp[i] = min(dp[i], dp[i//2] + 1)\n",
    "    if not i % 3:\n",
    "        dp[i] = min(dp[i], dp[i//3] + 1)\n",
    "        \n",
    "print(dp[n])"
   ]
  },
  {
   "cell_type": "code",
   "execution_count": null,
   "id": "523aca61",
   "metadata": {},
   "outputs": [],
   "source": [
    "1 2 3 4 5 6 7\n",
    "\n",
    "1 2 3 7 5 6 4\n",
    "1 2 3 7 4 6 5\n",
    "1 2 3 7 "
   ]
  },
  {
   "cell_type": "code",
   "execution_count": null,
   "id": "e87e1d36",
   "metadata": {},
   "outputs": [],
   "source": [
    "print(1, end = \"|n\")"
   ]
  },
  {
   "cell_type": "code",
   "execution_count": null,
   "id": "bf2c989d",
   "metadata": {},
   "outputs": [],
   "source": [
    "a = 'abcd'"
   ]
  },
  {
   "cell_type": "code",
   "execution_count": null,
   "id": "28a1343f",
   "metadata": {},
   "outputs": [],
   "source": [
    "a[1:3]"
   ]
  },
  {
   "cell_type": "code",
   "execution_count": null,
   "id": "8161bb77",
   "metadata": {},
   "outputs": [],
   "source": [
    "\n",
    "    # Write your code here\n",
    "    alphabet = list('cdefghijklmnopqrstuvwxyz')\n",
    "    mapping = {'a' : 1, 'b' : 1}\n",
    "    num = 2\n",
    "    cnt = 0\n",
    "    for i in alphabet:\n",
    "        mapping[i] = num\n",
    "        cnt += 1\n",
    "        if cnt == 3:\n",
    "            num += 1\n",
    "            cnt = 0\n",
    "            \n",
    "    length = len(input_str)\n",
    "    \n",
    "    lst = []\n",
    "    for i in range(length):\n",
    "        for j in range(i+1, length+1):\n",
    "            lst.append(input_str[i:j])\n",
    "    \n",
    "    answer = 0\n",
    "    for string in lst:\n",
    "        hab = 0\n",
    "        for j in string:\n",
    "            hab += mapping[j]\n",
    "            \n",
    "        len_ = len(string)\n",
    "        \n",
    "        if not hab % len_:\n",
    "            answer += 1\n",
    "            \n",
    "            \n",
    "    return answer\n",
    "            \n",
    "    \n",
    "        "
   ]
  },
  {
   "cell_type": "code",
   "execution_count": null,
   "id": "c23950f3",
   "metadata": {},
   "outputs": [],
   "source": [
    "if __name__ == '__main__':\n",
    "   \n",
    "    \n",
    "\n",
    "    input_str = input().rstrip()\n",
    "    alphabet = list('cdefghijklmnopqrstuvwxyz')\n",
    "    mapping = {'a' : 1, 'b' : 1}\n",
    "    num = 2\n",
    "    cnt = 0\n",
    "    for i in alphabet:\n",
    "        mapping[i] = num\n",
    "        cnt += 1\n",
    "        if cnt == 3:\n",
    "            num += 1\n",
    "            cnt = 0\n",
    "            \n",
    "    length = len(input_str)\n",
    "    \n",
    "    lst = []\n",
    "    for i in range(length):\n",
    "        for j in range(i+1, length+1):\n",
    "            lst.append(input_str[i:j])\n",
    "    \n",
    "    answer = 0\n",
    "    for string in lst:\n",
    "        hab = 0\n",
    "        for j in string:\n",
    "            hab += mapping[j]\n",
    "            \n",
    "        len_ = len(string)\n",
    "        \n",
    "        if not hab % len_:\n",
    "            answer += 1\n",
    "            \n",
    "            \n",
    "   \n",
    "            \n",
    "   \n",
    "\n",
    " "
   ]
  },
  {
   "cell_type": "code",
   "execution_count": null,
   "id": "f4a79510",
   "metadata": {},
   "outputs": [],
   "source": [
    "lst"
   ]
  },
  {
   "cell_type": "code",
   "execution_count": null,
   "id": "eff965f9",
   "metadata": {},
   "outputs": [],
   "source": [
    "a = set(a)"
   ]
  },
  {
   "cell_type": "code",
   "execution_count": null,
   "id": "2365313a",
   "metadata": {},
   "outputs": [],
   "source": [
    "import pandas as pd\n",
    "data = pd.read_csv('C:/Users/Namlister/Downloads/초등학교_성적.csv', encoding = 'cp949')\n",
    "data.head()\n",
    "data['index'] = data['Unnamed: 0']"
   ]
  },
  {
   "cell_type": "code",
   "execution_count": null,
   "id": "4d4ae12b",
   "metadata": {},
   "outputs": [],
   "source": [
    "data['index'] = data['Unnamed: 0']\n",
    "temp = pd.get_dummies(data.학년)\n",
    "temp['index'] = [x for x in range(1000)]\n",
    "data = pd.merge(data,temp,on='index')\n",
    "# data.drop(,axis =1)\n",
    "data = data.drop(['학년'],axis = 1)\n",
    "data"
   ]
  },
  {
   "cell_type": "code",
   "execution_count": null,
   "id": "fffef369",
   "metadata": {},
   "outputs": [],
   "source": [
    "def dum(data, colname):\n",
    "#     data['index'] = data['Unnamed: 0']\n",
    "    temp = pd.get_dummies(data, data[colname])\n",
    "    temp['index'] = [x for x in range(len(data))]\n",
    "    data = pd.merge(data,temp,on = 'index')\n",
    "    data = data.drop(data[colname],axis = 1)\n",
    "    return data"
   ]
  },
  {
   "cell_type": "code",
   "execution_count": null,
   "id": "44156038",
   "metadata": {},
   "outputs": [],
   "source": [
    "dum(data,'성별')"
   ]
  },
  {
   "cell_type": "code",
   "execution_count": null,
   "id": "a36fe9c2",
   "metadata": {},
   "outputs": [],
   "source": []
  },
  {
   "cell_type": "code",
   "execution_count": null,
   "id": "f9e95dc6",
   "metadata": {},
   "outputs": [],
   "source": [
    "from sklearn.svm import SVC\n"
   ]
  },
  {
   "cell_type": "code",
   "execution_count": null,
   "id": "52bc533e",
   "metadata": {},
   "outputs": [],
   "source": [
    "n = int(input())\n",
    "\n",
    "dp = [0] * (n+1)\n",
    "\n",
    "dp[1] = 1\n",
    "dp[2] = 2\n",
    "\n",
    "for i in range(3, n+1):\n",
    "    dp[i] = (dp[i-1] + dp[i-2]) % 10007\n",
    "    \n",
    "print(dp[n])"
   ]
  },
  {
   "cell_type": "code",
   "execution_count": 30,
   "id": "3f8afae8",
   "metadata": {},
   "outputs": [
    {
     "name": "stdout",
     "output_type": "stream",
     "text": [
      "3\n",
      "NO\n"
     ]
    }
   ],
   "source": [
    "n = int(input())\n",
    "\n",
    "if not n % 3 or not (n-1) % 3:\n",
    "    if not (n-1) % 3:\n",
    "        n -= 1\n",
    "        \n",
    "    count = 0\n",
    "    while n:\n",
    "        n //= 3\n",
    "        count += 1\n",
    "    \n",
    "    if count % 2:\n",
    "        print('YES')\n",
    "    else:\n",
    "        print('NO')\n",
    "\n",
    "    \n",
    "else:\n",
    "    print('NO')"
   ]
  },
  {
   "cell_type": "code",
   "execution_count": 4,
   "id": "df778dbe",
   "metadata": {},
   "outputs": [
    {
     "data": {
      "text/plain": [
       "36"
      ]
     },
     "execution_count": 4,
     "metadata": {},
     "output_type": "execute_result"
    }
   ],
   "source": [
    "108 // 3"
   ]
  },
  {
   "cell_type": "code",
   "execution_count": 5,
   "id": "13315fbd",
   "metadata": {},
   "outputs": [],
   "source": [
    "import math"
   ]
  },
  {
   "cell_type": "code",
   "execution_count": 7,
   "id": "e490fc10",
   "metadata": {},
   "outputs": [
    {
     "data": {
      "text/plain": [
       "10.392304845413264"
      ]
     },
     "execution_count": 7,
     "metadata": {},
     "output_type": "execute_result"
    }
   ],
   "source": [
    "math.sqrt(108)"
   ]
  },
  {
   "cell_type": "code",
   "execution_count": 20,
   "id": "7a9cc948",
   "metadata": {},
   "outputs": [
    {
     "data": {
      "text/plain": [
       "5"
      ]
     },
     "execution_count": 20,
     "metadata": {},
     "output_type": "execute_result"
    }
   ],
   "source": [
    "count"
   ]
  },
  {
   "cell_type": "code",
   "execution_count": 26,
   "id": "1c249fc1",
   "metadata": {},
   "outputs": [
    {
     "name": "stdout",
     "output_type": "stream",
     "text": [
      "10 4\n",
      "4177252841\n",
      "775841\n"
     ]
    }
   ],
   "source": [
    "from collections import deque\n",
    "\n",
    "n, k = map(int, input().split())\n",
    "s = list(input())\n",
    "\n",
    "stack = deque()\n",
    "count = 0\n",
    "for i in range(n):\n",
    "    while stack and count < k and stack[-1] < s[i]:\n",
    "        count += 1\n",
    "        stack.pop()\n",
    "        \n",
    "    stack.append(s[i])\n",
    "    \n",
    "    \n",
    "print(\"\".join(stack)[:n-k])"
   ]
  },
  {
   "cell_type": "code",
   "execution_count": null,
   "id": "05796cc5",
   "metadata": {},
   "outputs": [],
   "source": [
    "4 2\n",
    "1924\n",
    "\n",
    "7 3\n",
    "1231234\n",
    "\n",
    "10 4\n",
    "4177252841"
   ]
  },
  {
   "cell_type": "code",
   "execution_count": 23,
   "id": "5e75a3de",
   "metadata": {},
   "outputs": [
    {
     "data": {
      "text/plain": [
       "deque(['9', '4'])"
      ]
     },
     "execution_count": 23,
     "metadata": {},
     "output_type": "execute_result"
    }
   ],
   "source": [
    "stack"
   ]
  },
  {
   "cell_type": "code",
   "execution_count": null,
   "id": "8cf18ebe",
   "metadata": {},
   "outputs": [],
   "source": []
  }
 ],
 "metadata": {
  "kernelspec": {
   "display_name": "Python 3",
   "language": "python",
   "name": "python3"
  },
  "language_info": {
   "codemirror_mode": {
    "name": "ipython",
    "version": 3
   },
   "file_extension": ".py",
   "mimetype": "text/x-python",
   "name": "python",
   "nbconvert_exporter": "python",
   "pygments_lexer": "ipython3",
   "version": "3.8.8"
  }
 },
 "nbformat": 4,
 "nbformat_minor": 5
}
