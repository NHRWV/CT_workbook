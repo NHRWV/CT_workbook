{
 "cells": [
  {
   "cell_type": "markdown",
   "id": "6627ab00",
   "metadata": {},
   "source": [
    "https://www.acmicpc.net/problem/2609"
   ]
  },
  {
   "cell_type": "code",
   "execution_count": null,
   "id": "8b22e4de",
   "metadata": {},
   "outputs": [],
   "source": [
    "# 백준 2609 최대공약수와 최소공배수\n",
    "\n",
    "import math\n",
    "\n",
    "\n",
    "a, b = map(int, input().split())\n",
    "\n",
    "print(math.gcd(a, b), math.lcm(a, b))"
   ]
  },
  {
   "cell_type": "markdown",
   "id": "366ea719",
   "metadata": {},
   "source": [
    "https://www.acmicpc.net/problem/11050"
   ]
  },
  {
   "cell_type": "code",
   "execution_count": null,
   "id": "447425bd",
   "metadata": {},
   "outputs": [],
   "source": [
    "# 백준 11050 이항 계수\n",
    "\n",
    "\n",
    "n, k = map(int, input().split())\n",
    "\n",
    "def factorial(n):\n",
    "    if n == 0:\n",
    "        return 1\n",
    "    return n * factorial(n-1)\n",
    "\n",
    "\n",
    "print(factorial(n) // (factorial(k) * factorial(n-k)))"
   ]
  },
  {
   "cell_type": "code",
   "execution_count": null,
   "id": "f3467785",
   "metadata": {},
   "outputs": [],
   "source": [
    "import math\n",
    "\n",
    "n, k = map(int, input().split())\n",
    "\n",
    "print(math.factorial(n) // (math.factorial(k) * math.factorial(n-k)))"
   ]
  },
  {
   "cell_type": "markdown",
   "id": "d12ee213",
   "metadata": {},
   "source": [
    "https://www.acmicpc.net/problem/1018"
   ]
  },
  {
   "cell_type": "code",
   "execution_count": null,
   "id": "1b1ef9b4",
   "metadata": {},
   "outputs": [],
   "source": [
    "# 백준 1018 체스판 다시 칠하기\n",
    "\n",
    "n, m = map(int, input().split())\n",
    "\n",
    "board = []\n",
    "for i in range(n):\n",
    "    board.append(list(map(str, input())))\n",
    "    \n",
    "\n",
    "lst = []\n",
    "for i in range(n-7):\n",
    "    for j in range(m-7):\n",
    "        w = 0\n",
    "        b = 0\n",
    "        for p in range(i, i+8):\n",
    "            for q in range(j, j+8):\n",
    "                if not (p + q) % 2:\n",
    "                    if board[p][q] != 'W':\n",
    "                        w += 1\n",
    "                    \n",
    "                    else:\n",
    "                        b += 1\n",
    "                        \n",
    "                else:\n",
    "                    if board[p][q] != 'B':\n",
    "                        w += 1\n",
    "                        \n",
    "                    else:\n",
    "                        b += 1\n",
    "                        \n",
    "        lst.append(w)\n",
    "        lst.append(b)\n",
    "        \n",
    "        \n",
    "print(min(lst))"
   ]
  },
  {
   "cell_type": "markdown",
   "id": "ec1746c4",
   "metadata": {},
   "source": [
    "https://www.acmicpc.net/problem/1259"
   ]
  },
  {
   "cell_type": "code",
   "execution_count": null,
   "id": "1d51abc3",
   "metadata": {},
   "outputs": [],
   "source": [
    "# 백준 1259 펠린드롬 수\n",
    "\n",
    "while True:\n",
    "    n = input()\n",
    "    \n",
    "    if n == '0':\n",
    "        break\n",
    "    \n",
    "    if n == n[::-1]:\n",
    "        print('yes')\n",
    "    else:\n",
    "        print('no')"
   ]
  },
  {
   "cell_type": "markdown",
   "id": "a5492cdf",
   "metadata": {},
   "source": [
    "https://www.acmicpc.net/problem/4153"
   ]
  },
  {
   "cell_type": "code",
   "execution_count": null,
   "id": "9dc4cf8e",
   "metadata": {},
   "outputs": [],
   "source": [
    "# 백준 4153 직각삼각형\n",
    "\n",
    "while True:\n",
    "    lst = list(map(int, input().split()))\n",
    "    \n",
    "    if lst[0] == 0 and lst[1] == 0 and lst[2] == 0:\n",
    "        break\n",
    "        \n",
    "    lst.sort()\n",
    "    \n",
    "    if lst[0]**2 + lst[1]**2 == lst[2]**2:\n",
    "        print('right')\n",
    "    else:\n",
    "        print('wrong')\n",
    "    \n",
    "    "
   ]
  },
  {
   "cell_type": "markdown",
   "id": "a6d415fe",
   "metadata": {},
   "source": [
    "https://www.acmicpc.net/problem/4949"
   ]
  },
  {
   "cell_type": "code",
   "execution_count": null,
   "id": "07cbeb33",
   "metadata": {},
   "outputs": [],
   "source": [
    "# 백준 4949 균형잡힌 세상\n",
    "\n",
    "while True:\n",
    "    s = input()\n",
    "    \n",
    "    if s == '.':\n",
    "        break\n",
    "        \n",
    "    lst = []\n",
    "    check = 1\n",
    "    for i in s:\n",
    "        if i == '(' or i == '[':\n",
    "            lst.append(i)\n",
    "            \n",
    "        if i == ')' or i == ']':\n",
    "            if not lst:\n",
    "                \n",
    "                check = 0\n",
    "                break\n",
    "            \n",
    "        if i == ')':\n",
    "            if lst[-1] != '[' and '(' in lst:\n",
    "                del lst[-1]\n",
    "                \n",
    "            else:\n",
    "                \n",
    "                check = 0\n",
    "                break\n",
    "            \n",
    "        if i == ']':\n",
    "            if lst[-1] != '(' and '[' in lst:\n",
    "                del lst[-1]\n",
    "                \n",
    "            else:\n",
    "                \n",
    "                check = 0\n",
    "                break\n",
    "                \n",
    "    if not lst and check:\n",
    "        print('yes')\n",
    "        \n",
    "    else:\n",
    "        print('no')\n",
    "            "
   ]
  },
  {
   "cell_type": "markdown",
   "id": "2bd0d8ec",
   "metadata": {},
   "source": [
    "https://www.acmicpc.net/problem/15829"
   ]
  },
  {
   "cell_type": "code",
   "execution_count": null,
   "id": "d6621f37",
   "metadata": {},
   "outputs": [],
   "source": [
    "# 백준 15829 Hashing\n",
    "\n",
    "l = int(input())\n",
    "s = input()\n",
    "\n",
    "letters = 'abcdefghijklmnopqrstuvwxyz'\n",
    "lst = {}\n",
    "idx = 1\n",
    "for i in letters:\n",
    "    lst[i] = idx\n",
    "    idx += 1\n",
    "    \n",
    "\n",
    "num = 0\n",
    "for i in range(l):\n",
    "    num += lst[s[i]] * (31**i)\n",
    "    \n",
    "print(num % 1234567891)"
   ]
  },
  {
   "cell_type": "markdown",
   "id": "2a9d138f",
   "metadata": {},
   "source": [
    "https://www.acmicpc.net/problem/18111"
   ]
  },
  {
   "cell_type": "code",
   "execution_count": null,
   "id": "40d1d23e",
   "metadata": {},
   "outputs": [],
   "source": [
    "# 백준 18111 마인크래프트\n",
    "\n",
    "from collections import Counter\n",
    "\n",
    "\n",
    "def sol(height):\n",
    "    sec = 0\n",
    "    for key in land:\n",
    "        if key < height:\n",
    "            sec += (height - key) * land[key]\n",
    "        \n",
    "        elif key > height:\n",
    "            sec += (key - height) * 2 * land[key]\n",
    "    \n",
    "    return sec\n",
    "\n",
    "\n",
    "n, m, b = map(int, input().split())\n",
    "land = []\n",
    "for i in range(n):\n",
    "    land += map(int, input().split())\n",
    "\n",
    "hab, qnt = sum(land), n * m\n",
    "land = dict(Counter(land))\n",
    "height, mini = 0, int(1e9)\n",
    "\n",
    "for i in range(257):\n",
    "    if qnt * i <= hab + b:\n",
    "        sec = sol(i)\n",
    "        \n",
    "        if sec <= mini:\n",
    "            mini = sec\n",
    "            height = i\n",
    "\n",
    "print(mini, height)"
   ]
  },
  {
   "cell_type": "markdown",
   "id": "2a1efb22",
   "metadata": {},
   "source": [
    "https://www.acmicpc.net/problem/1085"
   ]
  },
  {
   "cell_type": "code",
   "execution_count": null,
   "id": "74555049",
   "metadata": {},
   "outputs": [],
   "source": [
    "# 백준 1085 직사각형에서 탈출\n",
    "\n",
    "x, y, w, h = map(int, input().split())\n",
    "\n",
    "print(min(x, w-x, h-y, y))"
   ]
  },
  {
   "cell_type": "markdown",
   "id": "a10d639d",
   "metadata": {},
   "source": [
    "https://www.acmicpc.net/problem/1436"
   ]
  },
  {
   "cell_type": "code",
   "execution_count": null,
   "id": "2d0d9a3b",
   "metadata": {},
   "outputs": [],
   "source": [
    "# 백준 1436 영화감독 숌\n",
    "\n",
    "n = int(input())\n",
    "\n",
    "\n",
    "num = 666\n",
    "count = 0\n",
    "while True:\n",
    "    if '666' in str(num):\n",
    "        count += 1\n",
    "        \n",
    "        if count == n:\n",
    "            print(num)\n",
    "            break\n",
    "            \n",
    "    num += 1"
   ]
  },
  {
   "cell_type": "markdown",
   "id": "87184338",
   "metadata": {},
   "source": [
    "https://www.acmicpc.net/problem/1874"
   ]
  },
  {
   "cell_type": "code",
   "execution_count": null,
   "id": "1ce7cdfb",
   "metadata": {},
   "outputs": [],
   "source": [
    "# 백준 1874 스택 수열\n",
    "\n",
    "from collections import deque\n",
    "\n",
    "n = int(input())\n",
    "    \n",
    "check = 1\n",
    "count = 1\n",
    "lst = []\n",
    "order = []\n",
    "\n",
    "for i in range(n):\n",
    "    num = int(input())\n",
    "    while count <= num:\n",
    "        lst.append(count)\n",
    "        count += 1\n",
    "        order.append('+')\n",
    "        \n",
    "    if lst[-1] == num:\n",
    "        lst.pop()\n",
    "        order.append('-')\n",
    "        \n",
    "    else:\n",
    "        check = 0\n",
    "        \n",
    "        \n",
    "\n",
    "if check:\n",
    "    for i in order:\n",
    "        print(i)\n",
    "else:\n",
    "    print('NO')\n",
    "        "
   ]
  },
  {
   "cell_type": "markdown",
   "id": "9c538e0c",
   "metadata": {},
   "source": [
    "https://www.acmicpc.net/problem/1181"
   ]
  },
  {
   "cell_type": "code",
   "execution_count": null,
   "id": "f38f02fe",
   "metadata": {},
   "outputs": [],
   "source": [
    "# 백준 1181 단어 정렬\n",
    "\n",
    "n = int(input())\n",
    "\n",
    "words = set()\n",
    "for i in range(n):\n",
    "    words.add(input())\n",
    "    \n",
    "words = list(words)    \n",
    "words.sort()\n",
    "words.sort(key = len)\n",
    "\n",
    "for i in words:\n",
    "    print(i)"
   ]
  },
  {
   "cell_type": "markdown",
   "id": "edae05a2",
   "metadata": {},
   "source": [
    "https://www.acmicpc.net/problem/1920"
   ]
  },
  {
   "cell_type": "code",
   "execution_count": null,
   "id": "ed38fdd9",
   "metadata": {},
   "outputs": [],
   "source": [
    "# 백준 1920 수 찾기\n",
    "\n",
    "n = int(input())\n",
    "a = set()\n",
    "a.update(list(map(int, input().split())))\n",
    "    \n",
    "m = int(input())\n",
    "b = list(map(int, input().split()))\n",
    "\n",
    "    \n",
    "for i in b:\n",
    "    if i in a:\n",
    "        print(1)\n",
    "    else:\n",
    "        print(0)"
   ]
  },
  {
   "cell_type": "markdown",
   "id": "a1dc5143",
   "metadata": {},
   "source": [
    "https://www.acmicpc.net/problem/1929"
   ]
  },
  {
   "cell_type": "code",
   "execution_count": null,
   "id": "8bdd04a4",
   "metadata": {},
   "outputs": [],
   "source": [
    "# 백준 1929 소수 구하기\n",
    "\n",
    "import math\n",
    "\n",
    "m, n = map(int, input().split())\n",
    "\n",
    "def is_prime_num(n):\n",
    "    for i in range(2, int(math.sqrt(n)) + 1):\n",
    "        if n % i == 0:\n",
    "            return 0\n",
    "    return 1\n",
    "\n",
    "\n",
    "for i in range(m, n+1):\n",
    "    if i == 1:\n",
    "        continue\n",
    "        \n",
    "    if is_prime_num(i):\n",
    "        print(i)"
   ]
  },
  {
   "cell_type": "markdown",
   "id": "e90a52a5",
   "metadata": {},
   "source": [
    "https://www.acmicpc.net/problem/1966"
   ]
  },
  {
   "cell_type": "code",
   "execution_count": null,
   "id": "96351d43",
   "metadata": {},
   "outputs": [],
   "source": [
    "# 백준 1966 프린터 큐\n",
    "\n",
    "from collections import deque\n",
    "\n",
    "t = int(input())\n",
    "for i in range(t):\n",
    "    n, m = map(int, input().split())\n",
    "    rank = list(map(int, input().split()))\n",
    "    \n",
    "    idx = [0] * n\n",
    "    idx[m] = 1\n",
    "    \n",
    "    rank = deque(rank)\n",
    "    idx = deque(idx)\n",
    "    count = 0\n",
    "    \n",
    "    while True:\n",
    "        if rank[0] == max(rank):\n",
    "            count += 1\n",
    "            \n",
    "            if idx[0] == 1:\n",
    "                print(count)\n",
    "                break\n",
    "                \n",
    "            else:\n",
    "                rank.popleft()\n",
    "                idx.popleft()\n",
    "                \n",
    "        else:\n",
    "            rank.append(rank.popleft())\n",
    "            idx.append(idx.popleft())\n",
    "    "
   ]
  },
  {
   "cell_type": "markdown",
   "id": "a2b8e616",
   "metadata": {},
   "source": [
    "https://www.acmicpc.net/problem/1978"
   ]
  },
  {
   "cell_type": "code",
   "execution_count": null,
   "id": "07a42c92",
   "metadata": {},
   "outputs": [],
   "source": [
    "# 백준 1978 소수 찾기\n",
    "\n",
    "import math\n",
    "\n",
    "n = int(input())\n",
    "lst = list(map(int, input().split()))\n",
    "\n",
    "def is_prime_num(n):\n",
    "    for i in range(2, int(math.sqrt(n)) + 1):\n",
    "        if n % i == 0:\n",
    "            return 0\n",
    "    return 1\n",
    "\n",
    "\n",
    "count = 0\n",
    "for i in lst:\n",
    "    if i == 1:\n",
    "        continue\n",
    "        \n",
    "    if is_prime_num(i):\n",
    "        count += 1\n",
    "        \n",
    "print(count)"
   ]
  },
  {
   "cell_type": "markdown",
   "id": "4ec1dabd",
   "metadata": {},
   "source": [
    "https://www.acmicpc.net/problem/2164"
   ]
  },
  {
   "cell_type": "code",
   "execution_count": null,
   "id": "e3b6e28a",
   "metadata": {},
   "outputs": [],
   "source": [
    "# 백준 2164 카드2\n",
    "\n",
    "from collections import deque\n",
    "\n",
    "n = int(input())\n",
    "\n",
    "lst = [i+1 for i in range(n)]\n",
    "lst = deque(lst)\n",
    "\n",
    "while len(lst) > 1:\n",
    "    lst.popleft()\n",
    "    lst.append(lst.popleft())\n",
    "    \n",
    "print(*lst)"
   ]
  },
  {
   "cell_type": "markdown",
   "id": "a0a7e0ed",
   "metadata": {},
   "source": [
    "https://www.acmicpc.net/problem/2231"
   ]
  },
  {
   "cell_type": "code",
   "execution_count": null,
   "id": "097b1061",
   "metadata": {},
   "outputs": [],
   "source": [
    "# 백준 2231 분해합\n",
    "\n",
    "n = int(input())\n",
    "\n",
    "num = 1\n",
    "while True:\n",
    "    temp = num\n",
    "    for i in str(num):\n",
    "        temp += int(i)\n",
    "        \n",
    "    if temp == n:\n",
    "        print(num)\n",
    "        break\n",
    "        \n",
    "    if num > n:\n",
    "        print(0)\n",
    "        break\n",
    "        \n",
    "    num += 1"
   ]
  },
  {
   "cell_type": "markdown",
   "id": "1fac0213",
   "metadata": {},
   "source": [
    "https://www.acmicpc.net/problem/2292"
   ]
  },
  {
   "cell_type": "code",
   "execution_count": null,
   "id": "bb9e28c9",
   "metadata": {},
   "outputs": [],
   "source": [
    "# 백준 2292 벌집\n",
    "\n",
    "n = int(input())\n",
    "\n",
    "count = 0\n",
    "num = 1\n",
    "temp = 1\n",
    "while True:\n",
    "    if num > n:\n",
    "        print(count)\n",
    "        break\n",
    "        \n",
    "    elif num == n:\n",
    "        print(count+1)\n",
    "        break\n",
    "        \n",
    "    count += 1\n",
    "    num += temp\n",
    "    temp = 6 * count\n",
    "        \n",
    "    "
   ]
  },
  {
   "cell_type": "markdown",
   "id": "6aa1bab0",
   "metadata": {},
   "source": [
    "https://www.acmicpc.net/problem/2751"
   ]
  },
  {
   "cell_type": "code",
   "execution_count": null,
   "id": "f2a869c7",
   "metadata": {},
   "outputs": [],
   "source": [
    "# 백준 2751 수 정렬하기 2\n",
    "\n",
    "n = int(input())\n",
    "seq = []\n",
    "for i in range(n):\n",
    "    seq.append(int(input()))\n",
    "    \n",
    "seq.sort()\n",
    "for i in seq:\n",
    "    print(i)\n",
    "\n"
   ]
  },
  {
   "cell_type": "markdown",
   "id": "4871fb0b",
   "metadata": {},
   "source": [
    "https://www.acmicpc.net/problem/2775"
   ]
  },
  {
   "cell_type": "code",
   "execution_count": null,
   "id": "d85aeaa1",
   "metadata": {},
   "outputs": [],
   "source": [
    "# 백준 2775 부녀회장이 될테야\n",
    "\n",
    "t = int(input())\n",
    "for i in range(t):\n",
    "    k = int(input())\n",
    "    n = int(input())\n",
    "    \n",
    "    arr = [[0] * 14 for _ in range(15)]\n",
    "    arr[0] = [j+1 for j in range(14)]\n",
    "    \n",
    "    for p in range(1, k+1):\n",
    "        for q in range(14):\n",
    "            arr[p][q] = arr[p][q-1] + arr[p-1][q]\n",
    "            \n",
    "            \n",
    "    print(arr[k][n-1])"
   ]
  },
  {
   "cell_type": "markdown",
   "id": "4a3ba30c",
   "metadata": {},
   "source": [
    "https://www.acmicpc.net/problem/2798"
   ]
  },
  {
   "cell_type": "code",
   "execution_count": null,
   "id": "af3ee47a",
   "metadata": {},
   "outputs": [],
   "source": [
    "# 백준 2798 블랙잭\n",
    "\n",
    "from itertools import combinations\n",
    "\n",
    "n, m = map(int, input().split())\n",
    "card = list(map(int, input().split()))\n",
    "\n",
    "card = list(combinations(card, 3))\n",
    "\n",
    "maxi = 0\n",
    "for i in card:\n",
    "    if sum(i) <= m and sum(i) > maxi:\n",
    "        maxi = sum(i)\n",
    "        \n",
    "print(maxi)"
   ]
  },
  {
   "cell_type": "code",
   "execution_count": null,
   "id": "400db7d0",
   "metadata": {},
   "outputs": [],
   "source": [
    "5 21\n",
    "5 6 7 8 9\n",
    "\n",
    "10 500\n",
    "93 181 245 214 315 36 185 138 216 295"
   ]
  },
  {
   "cell_type": "code",
   "execution_count": 75,
   "id": "e3d9b2d4",
   "metadata": {},
   "outputs": [
    {
     "data": {
      "text/plain": [
       "[(5, 6, 7),\n",
       " (5, 6, 8),\n",
       " (5, 6, 9),\n",
       " (5, 7, 8),\n",
       " (5, 7, 9),\n",
       " (5, 8, 9),\n",
       " (6, 7, 8),\n",
       " (6, 7, 9),\n",
       " (6, 8, 9),\n",
       " (7, 8, 9)]"
      ]
     },
     "execution_count": 75,
     "metadata": {},
     "output_type": "execute_result"
    }
   ],
   "source": [
    "card"
   ]
  },
  {
   "cell_type": "code",
   "execution_count": null,
   "id": "39fc5164",
   "metadata": {},
   "outputs": [],
   "source": []
  }
 ],
 "metadata": {
  "kernelspec": {
   "display_name": "Python 3",
   "language": "python",
   "name": "python3"
  },
  "language_info": {
   "codemirror_mode": {
    "name": "ipython",
    "version": 3
   },
   "file_extension": ".py",
   "mimetype": "text/x-python",
   "name": "python",
   "nbconvert_exporter": "python",
   "pygments_lexer": "ipython3",
   "version": "3.8.8"
  }
 },
 "nbformat": 4,
 "nbformat_minor": 5
}
