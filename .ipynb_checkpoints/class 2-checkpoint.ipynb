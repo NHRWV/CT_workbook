{
 "cells": [
  {
   "cell_type": "markdown",
   "id": "6627ab00",
   "metadata": {},
   "source": [
    "https://www.acmicpc.net/problem/2609"
   ]
  },
  {
   "cell_type": "code",
   "execution_count": null,
   "id": "8b22e4de",
   "metadata": {},
   "outputs": [],
   "source": [
    "# 백준 2609 최대공약수와 최소공배수\n",
    "\n",
    "import math\n",
    "\n",
    "\n",
    "a, b = map(int, input().split())\n",
    "\n",
    "print(math.gcd(a, b), math.lcm(a, b))"
   ]
  },
  {
   "cell_type": "markdown",
   "id": "366ea719",
   "metadata": {},
   "source": [
    "https://www.acmicpc.net/problem/11050"
   ]
  },
  {
   "cell_type": "code",
   "execution_count": null,
   "id": "447425bd",
   "metadata": {},
   "outputs": [],
   "source": [
    "# 백준 11050 이항 계수\n",
    "\n",
    "\n",
    "n, k = map(int, input().split())\n",
    "\n",
    "def factorial(n):\n",
    "    if n == 0:\n",
    "        return 1\n",
    "    return n * factorial(n-1)\n",
    "\n",
    "\n",
    "print(factorial(n) // (factorial(k) * factorial(n-k)))"
   ]
  },
  {
   "cell_type": "code",
   "execution_count": null,
   "id": "f3467785",
   "metadata": {},
   "outputs": [],
   "source": [
    "import math\n",
    "\n",
    "n, k = map(int, input().split())\n",
    "\n",
    "print(math.factorial(n) // (math.factorial(k) * math.factorial(n-k)))"
   ]
  },
  {
   "cell_type": "markdown",
   "id": "d12ee213",
   "metadata": {},
   "source": [
    "https://www.acmicpc.net/problem/1018"
   ]
  },
  {
   "cell_type": "code",
   "execution_count": null,
   "id": "1b1ef9b4",
   "metadata": {},
   "outputs": [],
   "source": [
    "# 백준 1018 체스판 다시 칠하기\n",
    "\n",
    "n, m = map(int, input().split())\n",
    "\n",
    "board = []\n",
    "for i in range(n):\n",
    "    board.append(list(map(str, input())))\n",
    "    \n",
    "\n",
    "lst = []\n",
    "for i in range(n-7):\n",
    "    for j in range(m-7):\n",
    "        w = 0\n",
    "        b = 0\n",
    "        for p in range(i, i+8):\n",
    "            for q in range(j, j+8):\n",
    "                if not (p + q) % 2:\n",
    "                    if board[p][q] != 'W':\n",
    "                        w += 1\n",
    "                    \n",
    "                    else:\n",
    "                        b += 1\n",
    "                        \n",
    "                else:\n",
    "                    if board[p][q] != 'B':\n",
    "                        w += 1\n",
    "                        \n",
    "                    else:\n",
    "                        b += 1\n",
    "                        \n",
    "        lst.append(w)\n",
    "        lst.append(b)\n",
    "        \n",
    "        \n",
    "print(min(lst))"
   ]
  },
  {
   "cell_type": "markdown",
   "id": "ec1746c4",
   "metadata": {},
   "source": [
    "https://www.acmicpc.net/problem/1259"
   ]
  },
  {
   "cell_type": "code",
   "execution_count": null,
   "id": "1d51abc3",
   "metadata": {},
   "outputs": [],
   "source": [
    "# 백준 1259 펠린드롬 수\n",
    "\n",
    "while True:\n",
    "    n = input()\n",
    "    \n",
    "    if n == '0':\n",
    "        break\n",
    "    \n",
    "    if n == n[::-1]:\n",
    "        print('yes')\n",
    "    else:\n",
    "        print('no')"
   ]
  },
  {
   "cell_type": "markdown",
   "id": "a5492cdf",
   "metadata": {},
   "source": [
    "https://www.acmicpc.net/problem/4153"
   ]
  },
  {
   "cell_type": "code",
   "execution_count": null,
   "id": "9dc4cf8e",
   "metadata": {},
   "outputs": [],
   "source": [
    "# 백준 4153 직각삼각형\n",
    "\n",
    "while True:\n",
    "    lst = list(map(int, input().split()))\n",
    "    \n",
    "    if lst[0] == 0 and lst[1] == 0 and lst[2] == 0:\n",
    "        break\n",
    "        \n",
    "    lst.sort()\n",
    "    \n",
    "    if lst[0]**2 + lst[1]**2 == lst[2]**2:\n",
    "        print('right')\n",
    "    else:\n",
    "        print('wrong')\n",
    "    \n",
    "    "
   ]
  },
  {
   "cell_type": "markdown",
   "id": "a6d415fe",
   "metadata": {},
   "source": [
    "https://www.acmicpc.net/problem/4949"
   ]
  },
  {
   "cell_type": "code",
   "execution_count": null,
   "id": "07cbeb33",
   "metadata": {},
   "outputs": [],
   "source": [
    "# 백준 4949 균형잡힌 세상\n",
    "\n",
    "while True:\n",
    "    s = input()\n",
    "    \n",
    "    if s == '.':\n",
    "        break\n",
    "        \n",
    "    lst = []\n",
    "    check = 1\n",
    "    for i in s:\n",
    "        if i == '(' or i == '[':\n",
    "            lst.append(i)\n",
    "            \n",
    "        if i == ')' or i == ']':\n",
    "            if not lst:\n",
    "                \n",
    "                check = 0\n",
    "                break\n",
    "            \n",
    "        if i == ')':\n",
    "            if lst[-1] != '[' and '(' in lst:\n",
    "                del lst[-1]\n",
    "                \n",
    "            else:\n",
    "                \n",
    "                check = 0\n",
    "                break\n",
    "            \n",
    "        if i == ']':\n",
    "            if lst[-1] != '(' and '[' in lst:\n",
    "                del lst[-1]\n",
    "                \n",
    "            else:\n",
    "                \n",
    "                check = 0\n",
    "                break\n",
    "                \n",
    "    if not lst and check:\n",
    "        print('yes')\n",
    "        \n",
    "    else:\n",
    "        print('no')\n",
    "            "
   ]
  },
  {
   "cell_type": "markdown",
   "id": "2bd0d8ec",
   "metadata": {},
   "source": [
    "https://www.acmicpc.net/problem/15829"
   ]
  },
  {
   "cell_type": "code",
   "execution_count": null,
   "id": "d6621f37",
   "metadata": {},
   "outputs": [],
   "source": [
    "# 백준 15829 Hashing\n",
    "\n",
    "l = int(input())\n",
    "s = input()\n",
    "\n",
    "letters = 'abcdefghijklmnopqrstuvwxyz'\n",
    "lst = {}\n",
    "idx = 1\n",
    "for i in letters:\n",
    "    lst[i] = idx\n",
    "    idx += 1\n",
    "    \n",
    "\n",
    "num = 0\n",
    "for i in range(l):\n",
    "    num += lst[s[i]] * (31**i)\n",
    "    \n",
    "print(num % 1234567891)"
   ]
  },
  {
   "cell_type": "markdown",
   "id": "2a9d138f",
   "metadata": {},
   "source": [
    "https://www.acmicpc.net/problem/18111"
   ]
  },
  {
   "cell_type": "code",
   "execution_count": null,
   "id": "40d1d23e",
   "metadata": {},
   "outputs": [],
   "source": [
    "# 백준 18111 마인크래프트\n",
    "\n",
    "from collections import Counter\n",
    "\n",
    "\n",
    "def sol(height):\n",
    "    sec = 0\n",
    "    for key in land:\n",
    "        if key < height:\n",
    "            sec += (height - key) * land[key]\n",
    "        \n",
    "        elif key > height:\n",
    "            sec += (key - height) * 2 * land[key]\n",
    "    \n",
    "    return sec\n",
    "\n",
    "\n",
    "n, m, b = map(int, input().split())\n",
    "land = []\n",
    "for i in range(n):\n",
    "    land += map(int, input().split())\n",
    "\n",
    "hab, qnt = sum(land), n * m\n",
    "land = dict(Counter(land))\n",
    "height, mini = 0, int(1e9)\n",
    "\n",
    "for i in range(257):\n",
    "    if qnt * i <= hab + b:\n",
    "        sec = sol(i)\n",
    "        \n",
    "        if sec <= mini:\n",
    "            mini = sec\n",
    "            height = i\n",
    "\n",
    "print(mini, height)"
   ]
  },
  {
   "cell_type": "markdown",
   "id": "2a1efb22",
   "metadata": {},
   "source": [
    "https://www.acmicpc.net/problem/1085"
   ]
  },
  {
   "cell_type": "code",
   "execution_count": null,
   "id": "74555049",
   "metadata": {},
   "outputs": [],
   "source": [
    "# 백준 1085 직사각형에서 탈출\n",
    "\n",
    "x, y, w, h = map(int, input().split())\n",
    "\n",
    "print(min(x, w-x, h-y, y))"
   ]
  },
  {
   "cell_type": "markdown",
   "id": "a10d639d",
   "metadata": {},
   "source": [
    "https://www.acmicpc.net/problem/1436"
   ]
  },
  {
   "cell_type": "code",
   "execution_count": null,
   "id": "2d0d9a3b",
   "metadata": {},
   "outputs": [],
   "source": [
    "# 백준 1436 영화감독 숌\n",
    "\n",
    "n = int(input())\n",
    "\n",
    "\n",
    "num = 666\n",
    "count = 0\n",
    "while True:\n",
    "    if '666' in str(num):\n",
    "        count += 1\n",
    "        \n",
    "        if count == n:\n",
    "            print(num)\n",
    "            break\n",
    "            \n",
    "    num += 1"
   ]
  },
  {
   "cell_type": "markdown",
   "id": "87184338",
   "metadata": {},
   "source": [
    "https://www.acmicpc.net/problem/1874"
   ]
  },
  {
   "cell_type": "code",
   "execution_count": 40,
   "id": "1ce7cdfb",
   "metadata": {},
   "outputs": [
    {
     "name": "stdout",
     "output_type": "stream",
     "text": [
      "8\n",
      "4\n",
      "3\n",
      "6\n",
      "8\n",
      "7\n",
      "5\n",
      "2\n",
      "1\n",
      "+\n",
      "+\n",
      "+\n",
      "+\n",
      "+\n",
      "-\n",
      "+\n",
      "+\n"
     ]
    }
   ],
   "source": [
    "# 백준 1874 스택 수열\n",
    "\n",
    "from collections import deque\n",
    "\n",
    "n = int(input())\n",
    "seq = []\n",
    "for i in range(n):\n",
    "    seq.append(int(input()))\n",
    "    \n",
    "    \n",
    "\n",
    "    \n",
    "        "
   ]
  },
  {
   "cell_type": "code",
   "execution_count": null,
   "id": "1ad29f0c",
   "metadata": {},
   "outputs": [],
   "source": [
    "8\n",
    "4\n",
    "3\n",
    "6\n",
    "8\n",
    "7\n",
    "5\n",
    "2\n",
    "1\n",
    "\n",
    "5\n",
    "1\n",
    "2\n",
    "5\n",
    "3\n",
    "4"
   ]
  },
  {
   "cell_type": "code",
   "execution_count": 38,
   "id": "f38f02fe",
   "metadata": {},
   "outputs": [
    {
     "data": {
      "text/plain": [
       "deque([1, 2, 3, 4, 5, 6, 7, 8])"
      ]
     },
     "execution_count": 38,
     "metadata": {},
     "output_type": "execute_result"
    }
   ],
   "source": [
    "lst"
   ]
  },
  {
   "cell_type": "code",
   "execution_count": 39,
   "id": "e030a9ff",
   "metadata": {},
   "outputs": [
    {
     "data": {
      "text/plain": [
       "[4, 3, 6, 8, 7, 5, 2, 1]"
      ]
     },
     "execution_count": 39,
     "metadata": {},
     "output_type": "execute_result"
    }
   ],
   "source": [
    "seq"
   ]
  },
  {
   "cell_type": "code",
   "execution_count": null,
   "id": "ed38fdd9",
   "metadata": {},
   "outputs": [],
   "source": []
  }
 ],
 "metadata": {
  "kernelspec": {
   "display_name": "Python 3",
   "language": "python",
   "name": "python3"
  },
  "language_info": {
   "codemirror_mode": {
    "name": "ipython",
    "version": 3
   },
   "file_extension": ".py",
   "mimetype": "text/x-python",
   "name": "python",
   "nbconvert_exporter": "python",
   "pygments_lexer": "ipython3",
   "version": "3.8.8"
  }
 },
 "nbformat": 4,
 "nbformat_minor": 5
}
