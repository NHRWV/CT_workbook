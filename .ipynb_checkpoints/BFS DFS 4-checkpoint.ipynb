{
 "cells": [
  {
   "cell_type": "markdown",
   "id": "40d4be8c",
   "metadata": {},
   "source": [
    "https://www.acmicpc.net/problem/9311"
   ]
  },
  {
   "cell_type": "code",
   "execution_count": null,
   "id": "eb980f07",
   "metadata": {},
   "outputs": [],
   "source": [
    "# Robot in a Maze\n",
    "\n",
    "from collections import deque\n",
    "\n",
    "dx = [-1, 1, 0, 0]\n",
    "dy = [0, 0, -1, 1]\n",
    "\n",
    "def sol():\n",
    "    while queue:\n",
    "        x, y, count = queue.popleft()\n",
    "        \n",
    "        if maze[x][y] == 'G':\n",
    "            return f\"Shortest Path: {count}\"\n",
    "        \n",
    "        for i in range(4):\n",
    "            nx = x + dx[i]\n",
    "            ny = y + dy[i]\n",
    "            \n",
    "            if nx < 0 or nx >= r or ny < 0 or ny >= c:\n",
    "                continue\n",
    "                \n",
    "            if not visited[nx][ny] and maze[nx][ny] != 'X':\n",
    "                visited[nx][ny] = 1\n",
    "                queue.append((nx, ny, count + 1))\n",
    "                \n",
    "                \n",
    "    return \"No Exit\"\n",
    "                \n",
    "                \n",
    "                \n",
    "t = int(input())\n",
    "for _ in range(t):\n",
    "    r, c = map(int, input().split())\n",
    "    \n",
    "    maze = []\n",
    "    visited = [[0] * c for _ in range(r)]\n",
    "    \n",
    "    for i in range(r):\n",
    "        a = list(map(str, input().rstrip()))\n",
    "        for j in range(c):\n",
    "            if a[j] == 'S':\n",
    "                queue = deque([(i, j, 0)])\n",
    "                visited[i][j] = 1\n",
    "        maze.append(a)\n",
    "        \n",
    "        \n",
    "    print(sol())\n",
    "    "
   ]
  },
  {
   "cell_type": "markdown",
   "id": "bcc06fa2",
   "metadata": {},
   "source": [
    "https://www.acmicpc.net/problem/24446"
   ]
  },
  {
   "cell_type": "code",
   "execution_count": null,
   "id": "eefdc0ba",
   "metadata": {},
   "outputs": [],
   "source": [
    "# 알고리즘 수업 - 너비 우선 탐색 3\n",
    "\n",
    "from collections import deque\n",
    "\n",
    "n, m, r = map(int, input().split())\n",
    "\n",
    "edge = [[] for i in range(n+1)]\n",
    "for i in range(m):\n",
    "    u, v = map(int, input().split())\n",
    "    edge[u].append(v)\n",
    "    edge[v].append(u)\n",
    "    \n",
    "queue = deque([r])\n",
    "visited = [-1] * (n+1)\n",
    "visited[r] = 0\n",
    "\n",
    "while queue:\n",
    "    x = queue.popleft()\n",
    "    \n",
    "    for i in edge[x]:\n",
    "        if visited[i] == -1:\n",
    "            visited[i] = visited[x] + 1\n",
    "            queue.append(i)\n",
    "            \n",
    "for i in range(1, n+1):\n",
    "    print(visited[i])\n"
   ]
  },
  {
   "cell_type": "markdown",
   "id": "a70c4595",
   "metadata": {},
   "source": [
    "https://www.acmicpc.net/problem/24447"
   ]
  },
  {
   "cell_type": "code",
   "execution_count": null,
   "id": "13a4175d",
   "metadata": {},
   "outputs": [],
   "source": [
    "# 알고리즘 수업 - 너비 우선 탐색 4\n",
    "\n",
    "from collections import deque\n",
    "\n",
    "n, m, r = map(int, input().split())\n",
    "\n",
    "edge = [[] for i in range(n+1)]\n",
    "for i in range(m):\n",
    "    u, v = map(int, input().split())\n",
    "    edge[u].append(v)\n",
    "    edge[v].append(u)\n",
    "    \n",
    "for i in range(1, n+1):\n",
    "    edge[i].sort()\n",
    "    \n",
    "    \n",
    "queue = deque([r])\n",
    "visited = [-1] * (n+1)\n",
    "visited[r] = 0\n",
    "count = 1\n",
    "\n",
    "\n",
    "answer = 0\n",
    "\n",
    "while queue:\n",
    "    x = queue.popleft()\n",
    "    \n",
    "    for i in edge[x]:\n",
    "        if visited[i] == -1:\n",
    "            count += 1\n",
    "            visited[i] = visited[x] + 1\n",
    "            answer += count * visited[i]\n",
    "            queue.append(i)\n",
    "            \n",
    "print(answer)\n"
   ]
  },
  {
   "cell_type": "markdown",
   "id": "dbd8c7e2",
   "metadata": {},
   "source": [
    "https://www.acmicpc.net/problem/18126"
   ]
  },
  {
   "cell_type": "code",
   "execution_count": null,
   "id": "7bc5538f",
   "metadata": {},
   "outputs": [],
   "source": [
    "# 너구리 구구\n",
    "\n",
    "from collections import deque\n",
    "\n",
    "n = int(input())\n",
    "\n",
    "edge = [[] for i in range(n+1)]\n",
    "for i in range(n-1):\n",
    "    a, b, c = map(int, input().split())\n",
    "    edge[a].append((b, c))\n",
    "    edge[b].append((a, c))\n",
    "    \n",
    "visited = [-1] * (n+1)\n",
    "visited[1] = 0\n",
    "\n",
    "queue = deque([1])\n",
    "while queue:\n",
    "    x = queue.popleft()\n",
    "    \n",
    "    for i, j in edge[x]:\n",
    "        if visited[i] == -1:\n",
    "            visited[i] = visited[x] + j\n",
    "            queue.append(i)\n",
    "            \n",
    "print(max(visited))\n"
   ]
  },
  {
   "cell_type": "code",
   "execution_count": 11,
   "id": "ef42527d",
   "metadata": {},
   "outputs": [
    {
     "data": {
      "text/plain": [
       "[[], [2, 4], [1, 3, 4], [2, 4], [1, 2, 3], []]"
      ]
     },
     "execution_count": 11,
     "metadata": {},
     "output_type": "execute_result"
    }
   ],
   "source": [
    "4\n",
    "1 2 3\n",
    "2 3 2\n",
    "2 4 4"
   ]
  },
  {
   "cell_type": "code",
   "execution_count": 14,
   "id": "035dbb6e",
   "metadata": {},
   "outputs": [
    {
     "data": {
      "text/plain": [
       "4"
      ]
     },
     "execution_count": 14,
     "metadata": {},
     "output_type": "execute_result"
    }
   ],
   "source": [
    "count"
   ]
  },
  {
   "cell_type": "code",
   "execution_count": null,
   "id": "5b4b2e16",
   "metadata": {},
   "outputs": [],
   "source": []
  }
 ],
 "metadata": {
  "kernelspec": {
   "display_name": "Python 3",
   "language": "python",
   "name": "python3"
  },
  "language_info": {
   "codemirror_mode": {
    "name": "ipython",
    "version": 3
   },
   "file_extension": ".py",
   "mimetype": "text/x-python",
   "name": "python",
   "nbconvert_exporter": "python",
   "pygments_lexer": "ipython3",
   "version": "3.8.8"
  }
 },
 "nbformat": 4,
 "nbformat_minor": 5
}
