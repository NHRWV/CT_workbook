{
 "cells": [
  {
   "cell_type": "markdown",
   "metadata": {},
   "source": [
    " - 그리디\n",
    " \n",
    " - 구현\n",
    " \n",
    " - DFS / BFS\n",
    " \n",
    " - 정렬"
   ]
  },
  {
   "cell_type": "code",
   "execution_count": 1,
   "metadata": {},
   "outputs": [
    {
     "name": "stdout",
     "output_type": "stream",
     "text": [
      "5\n",
      "2 2 1 2 2\n",
      "2\n"
     ]
    }
   ],
   "source": [
    "# 그리디 - 모험가 길드\n",
    "\n",
    "n = int(input())\n",
    "fear = list(map(int, input().split()))\n",
    "\n",
    "fear.sort(reverse = True)\n",
    "count = 0\n",
    "num = 0\n",
    "while True:\n",
    "    count += (n // fear[num])\n",
    "    n %= fear[num]\n",
    "    num += 1\n",
    "    \n",
    "    if n < fear[num]:\n",
    "        break\n",
    "\n",
    "print(count)"
   ]
  },
  {
   "cell_type": "code",
   "execution_count": 5,
   "metadata": {},
   "outputs": [
    {
     "name": "stdout",
     "output_type": "stream",
     "text": [
      "567\n",
      "210\n"
     ]
    }
   ],
   "source": [
    "# 그리디 - 곱하기 혹은 더하기\n",
    "\n",
    "s = str(input())\n",
    "\n",
    "if (int(s[0]) * int(s[1])) >= (int(s[0]) + int(s[1])):\n",
    "    result = int(s[0]) * int(s[1])\n",
    "else:\n",
    "    result = int(s[0]) + int(s[1])\n",
    "\n",
    "for i in range(2, len(s)):\n",
    "    if (result * int(s[i])) >= (result + int(s[i])):\n",
    "        result *= int(s[i])\n",
    "    else:\n",
    "        result += int(s[i])\n",
    "\n",
    "print(result)"
   ]
  },
  {
   "cell_type": "code",
   "execution_count": null,
   "metadata": {},
   "outputs": [],
   "source": [
    "# 그리디 - 문자열 뒤집기\n",
    "\n",
    "s = str(input())\n",
    "\n",
    "def um(x):\n",
    "    count = 0\n",
    "    for i in range(len(s)):\n",
    "        if s[i] == x:\n",
    "            count += 1\n",
    "            if s[i] == s[i+1]:\n",
    "                \n",
    "\n",
    "    \n",
    "    "
   ]
  },
  {
   "cell_type": "code",
   "execution_count": 8,
   "metadata": {},
   "outputs": [],
   "source": [
    "a = '   sd d'"
   ]
  },
  {
   "cell_type": "code",
   "execution_count": 9,
   "metadata": {},
   "outputs": [
    {
     "data": {
      "text/plain": [
       "['', '', '', 'sd', 'd']"
      ]
     },
     "execution_count": 9,
     "metadata": {},
     "output_type": "execute_result"
    }
   ],
   "source": [
    "a.split(' ')"
   ]
  },
  {
   "cell_type": "code",
   "execution_count": null,
   "metadata": {},
   "outputs": [],
   "source": [
    "001110    "
   ]
  }
 ],
 "metadata": {
  "kernelspec": {
   "display_name": "Python 3.7.5 64-bit ('Namlister': virtualenv)",
   "language": "python",
   "name": "python37564bitnamlistervirtualenv5d7bb17d3c984c36aee202a2f6a91336"
  },
  "language_info": {
   "codemirror_mode": {
    "name": "ipython",
    "version": 3
   },
   "file_extension": ".py",
   "mimetype": "text/x-python",
   "name": "python",
   "nbconvert_exporter": "python",
   "pygments_lexer": "ipython3",
   "version": "3.7.5"
  }
 },
 "nbformat": 4,
 "nbformat_minor": 2
}
