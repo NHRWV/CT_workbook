{
 "cells": [
  {
   "cell_type": "markdown",
   "metadata": {},
   "source": [
    " - 그리디\n",
    " \n",
    " - 구현\n",
    " \n",
    " - DFS / BFS\n",
    " \n",
    " - 정렬"
   ]
  },
  {
   "cell_type": "code",
   "execution_count": 1,
   "metadata": {},
   "outputs": [
    {
     "name": "stdout",
     "output_type": "stream",
     "text": [
      "5\n",
      "2 2 1 2 2\n",
      "2\n"
     ]
    }
   ],
   "source": [
    "# 그리디 - 모험가 길드\n",
    "\n",
    "n = int(input())\n",
    "fear = list(map(int, input().split()))\n",
    "\n",
    "fear.sort(reverse = True)\n",
    "count = 0\n",
    "num = 0\n",
    "while True:\n",
    "    count += (n // fear[num])\n",
    "    n %= fear[num]\n",
    "    num += 1\n",
    "    \n",
    "    if n < fear[num]:\n",
    "        break\n",
    "\n",
    "print(count)"
   ]
  },
  {
   "cell_type": "code",
   "execution_count": 5,
   "metadata": {},
   "outputs": [
    {
     "name": "stdout",
     "output_type": "stream",
     "text": [
      "567\n",
      "210\n"
     ]
    }
   ],
   "source": [
    "# 그리디 - 곱하기 혹은 더하기\n",
    "\n",
    "s = str(input())\n",
    "\n",
    "if (int(s[0]) * int(s[1])) >= (int(s[0]) + int(s[1])):\n",
    "    result = int(s[0]) * int(s[1])\n",
    "else:\n",
    "    result = int(s[0]) + int(s[1])\n",
    "\n",
    "for i in range(2, len(s)):\n",
    "    if (result * int(s[i])) >= (result + int(s[i])):\n",
    "        result *= int(s[i])\n",
    "    else:\n",
    "        result += int(s[i])\n",
    "\n",
    "print(result)"
   ]
  },
  {
   "cell_type": "code",
   "execution_count": 38,
   "metadata": {},
   "outputs": [
    {
     "name": "stdout",
     "output_type": "stream",
     "text": [
      "0001100\n",
      "1\n"
     ]
    }
   ],
   "source": [
    "# 그리디 - 문자열 뒤집기...틀렸음\n",
    "\n",
    "s = str(input())\n",
    "\n",
    "def um(x):\n",
    "    \n",
    "    a = s.split('x')\n",
    "    count = 0\n",
    "    for i in a:\n",
    "        if i != '':\n",
    "            count += 1\n",
    "            \n",
    "    return count\n",
    "\n",
    "\n",
    "print(min(um(0), um(1)))\n",
    "\n",
    "    \n",
    "    "
   ]
  },
  {
   "cell_type": "code",
   "execution_count": null,
   "metadata": {},
   "outputs": [],
   "source": [
    "# 그리디 - 문자열 뒤집기\n"
   ]
  },
  {
   "cell_type": "code",
   "execution_count": 1,
   "metadata": {},
   "outputs": [
    {
     "name": "stdout",
     "output_type": "stream",
     "text": [
      "5\n",
      "3 2 1 1 9\n",
      "8\n"
     ]
    }
   ],
   "source": [
    "# 그리디 - 만들 수 없는 금액\n",
    "\n",
    "n = int(input())\n",
    "scale = list(map(int, input().split()))\n",
    "scale.sort()\n",
    "\n",
    "gold = 1\n",
    "for i in scale:\n",
    "    if gold < i:\n",
    "        break\n",
    "    gold += i\n",
    "\n",
    "print(gold)"
   ]
  },
  {
   "cell_type": "code",
   "execution_count": 4,
   "metadata": {},
   "outputs": [
    {
     "name": "stdout",
     "output_type": "stream",
     "text": [
      "7\n",
      "3 1 6 2 7 30 1\n",
      "21\n"
     ]
    }
   ],
   "source": [
    "# 백준 2437....위의 문제와 비슷한 문제\n",
    "# 사실 코드는 똑같다.\n",
    "\n",
    "n = int(input())\n",
    "scale = list(map(int, input().split()))\n",
    "scale.sort()\n",
    "\n",
    "gold = 1\n",
    "for i in scale:\n",
    "    if gold < i:\n",
    "        break\n",
    "    gold += i\n",
    "print(gold)\n"
   ]
  },
  {
   "cell_type": "code",
   "execution_count": 8,
   "metadata": {},
   "outputs": [
    {
     "name": "stdout",
     "output_type": "stream",
     "text": [
      "8 5\n",
      "1 5 4 3 2 4 5 2\n",
      "25\n"
     ]
    }
   ],
   "source": [
    "# 그리디 - 볼링공 고르기\n",
    "\n",
    "n, m = map(int, input().split())\n",
    "k = list(map(int, input().split()))\n",
    "count = 0\n",
    "for i in range(len(k)):\n",
    "    for j in range(len(k), i, -1):\n",
    "        if k[i] != k[j-1]:\n",
    "            count += 1\n",
    "print(count)"
   ]
  },
  {
   "cell_type": "code",
   "execution_count": 18,
   "metadata": {},
   "outputs": [
    {
     "name": "stdout",
     "output_type": "stream",
     "text": [
      "3 1 2\n",
      "1\n"
     ]
    },
    {
     "data": {
      "text/plain": [
       "2"
      ]
     },
     "execution_count": 18,
     "metadata": {},
     "output_type": "execute_result"
    }
   ],
   "source": [
    "# 그리디 - 무지의 먹방 라이브\n",
    "\n",
    "def solution(food_times, k):\n",
    "    answer = 0\n",
    "    for i in range(k):    \n",
    "        food_times[answer] -= 1\n",
    "        if food_times[answer] == 0:\n",
    "            del food_times[answer]\n",
    "        \n",
    "        if answer == len(food_times) - 1:\n",
    "            answer = 0\n",
    "        else:\n",
    "            answer += 1\n",
    "        \n",
    "        if food_times == []:\n",
    "            break\n",
    "    if food_times == []:\n",
    "        answer = -1\n",
    "    else:\n",
    "        answer += 1\n",
    "    return answer\n",
    "\n",
    "#food_times = list(map(int, input().split()))\n",
    "#k = int(input())\n",
    "\n",
    "#solution(food_times, k)"
   ]
  },
  {
   "cell_type": "code",
   "execution_count": 27,
   "metadata": {},
   "outputs": [],
   "source": [
    "a = '000111001'"
   ]
  },
  {
   "cell_type": "code",
   "execution_count": 30,
   "metadata": {},
   "outputs": [],
   "source": [
    "a = a.split('1')"
   ]
  },
  {
   "cell_type": "code",
   "execution_count": 31,
   "metadata": {},
   "outputs": [
    {
     "data": {
      "text/plain": [
       "['000', '', '', '00', '']"
      ]
     },
     "execution_count": 31,
     "metadata": {},
     "output_type": "execute_result"
    }
   ],
   "source": [
    "\n",
    "a"
   ]
  },
  {
   "cell_type": "code",
   "execution_count": null,
   "metadata": {},
   "outputs": [],
   "source": []
  }
 ],
 "metadata": {
  "kernelspec": {
   "display_name": "Python 3.7.5 64-bit ('Namlister': virtualenv)",
   "language": "python",
   "name": "python37564bitnamlistervirtualenv5d7bb17d3c984c36aee202a2f6a91336"
  },
  "language_info": {
   "codemirror_mode": {
    "name": "ipython",
    "version": 3
   },
   "file_extension": ".py",
   "mimetype": "text/x-python",
   "name": "python",
   "nbconvert_exporter": "python",
   "pygments_lexer": "ipython3",
   "version": "3.7.5"
  }
 },
 "nbformat": 4,
 "nbformat_minor": 2
}
