{
 "cells": [
  {
   "cell_type": "markdown",
   "metadata": {},
   "source": [
    " - 그리디\n",
    " \n",
    " - 구현\n",
    " \n",
    " - DFS / BFS\n",
    " \n",
    " - 정렬"
   ]
  },
  {
   "cell_type": "code",
   "execution_count": 1,
   "metadata": {},
   "outputs": [
    {
     "name": "stdout",
     "output_type": "stream",
     "text": [
      "5\n",
      "2 2 1 2 2\n",
      "2\n"
     ]
    }
   ],
   "source": [
    "# 그리디 - 모험가 길드\n",
    "\n",
    "n = int(input())\n",
    "fear = list(map(int, input().split()))\n",
    "\n",
    "fear.sort(reverse = True)\n",
    "count = 0\n",
    "num = 0\n",
    "while True:\n",
    "    count += (n // fear[num])\n",
    "    n %= fear[num]\n",
    "    num += 1\n",
    "    \n",
    "    if n < fear[num]:\n",
    "        break\n",
    "\n",
    "print(count)"
   ]
  },
  {
   "cell_type": "code",
   "execution_count": 5,
   "metadata": {},
   "outputs": [
    {
     "name": "stdout",
     "output_type": "stream",
     "text": [
      "567\n",
      "210\n"
     ]
    }
   ],
   "source": [
    "# 그리디 - 곱하기 혹은 더하기\n",
    "\n",
    "s = str(input())\n",
    "\n",
    "if (int(s[0]) * int(s[1])) >= (int(s[0]) + int(s[1])):\n",
    "    result = int(s[0]) * int(s[1])\n",
    "else:\n",
    "    result = int(s[0]) + int(s[1])\n",
    "\n",
    "for i in range(2, len(s)):\n",
    "    if (result * int(s[i])) >= (result + int(s[i])):\n",
    "        result *= int(s[i])\n",
    "    else:\n",
    "        result += int(s[i])\n",
    "\n",
    "print(result)"
   ]
  },
  {
   "cell_type": "code",
   "execution_count": 38,
   "metadata": {},
   "outputs": [
    {
     "name": "stdout",
     "output_type": "stream",
     "text": [
      "0001100\n",
      "1\n"
     ]
    }
   ],
   "source": [
    "# 그리디 - 문자열 뒤집기...틀렸음\n",
    "\n",
    "s = str(input())\n",
    "\n",
    "def um(x):\n",
    "    \n",
    "    a = s.split('x')\n",
    "    count = 0\n",
    "    for i in a:\n",
    "        if i != '':\n",
    "            count += 1\n",
    "            \n",
    "    return count\n",
    "\n",
    "\n",
    "print(min(um(0), um(1)))\n",
    "\n",
    "    \n",
    "    "
   ]
  },
  {
   "cell_type": "code",
   "execution_count": null,
   "metadata": {},
   "outputs": [],
   "source": [
    "# 그리디 - 문자열 뒤집기\n"
   ]
  },
  {
   "cell_type": "code",
   "execution_count": 1,
   "metadata": {},
   "outputs": [
    {
     "name": "stdout",
     "output_type": "stream",
     "text": [
      "5\n",
      "3 2 1 1 9\n",
      "8\n"
     ]
    }
   ],
   "source": [
    "# 그리디 - 만들 수 없는 금액\n",
    "\n",
    "n = int(input())\n",
    "scale = list(map(int, input().split()))\n",
    "scale.sort()\n",
    "\n",
    "gold = 1\n",
    "for i in scale:\n",
    "    if gold < i:\n",
    "        break\n",
    "    gold += i\n",
    "\n",
    "print(gold)"
   ]
  },
  {
   "cell_type": "code",
   "execution_count": 4,
   "metadata": {},
   "outputs": [
    {
     "name": "stdout",
     "output_type": "stream",
     "text": [
      "7\n",
      "3 1 6 2 7 30 1\n",
      "21\n"
     ]
    }
   ],
   "source": [
    "# 백준 2437....위의 문제와 비슷한 문제\n",
    "# 사실 코드는 똑같다.\n",
    "\n",
    "n = int(input())\n",
    "scale = list(map(int, input().split()))\n",
    "scale.sort()\n",
    "\n",
    "gold = 1\n",
    "for i in scale:\n",
    "    if gold < i:\n",
    "        break\n",
    "    gold += i\n",
    "print(gold)\n"
   ]
  },
  {
   "cell_type": "code",
   "execution_count": 8,
   "metadata": {},
   "outputs": [
    {
     "name": "stdout",
     "output_type": "stream",
     "text": [
      "8 5\n",
      "1 5 4 3 2 4 5 2\n",
      "25\n"
     ]
    }
   ],
   "source": [
    "# 그리디 - 볼링공 고르기\n",
    "\n",
    "n, m = map(int, input().split())\n",
    "k = list(map(int, input().split()))\n",
    "count = 0\n",
    "for i in range(len(k)):\n",
    "    for j in range(len(k), i, -1):\n",
    "        if k[i] != k[j-1]:\n",
    "            count += 1\n",
    "print(count)"
   ]
  },
  {
   "cell_type": "code",
   "execution_count": 18,
   "metadata": {},
   "outputs": [
    {
     "name": "stdout",
     "output_type": "stream",
     "text": [
      "3 1 2\n",
      "1\n"
     ]
    },
    {
     "data": {
      "text/plain": [
       "2"
      ]
     },
     "execution_count": 18,
     "metadata": {},
     "output_type": "execute_result"
    }
   ],
   "source": [
    "# 그리디 - 무지의 먹방 라이브\n",
    "\n",
    "def solution(food_times, k):\n",
    "    answer = 0\n",
    "    for i in range(k):    \n",
    "        food_times[answer] -= 1\n",
    "        if food_times[answer] == 0:\n",
    "            del food_times[answer]\n",
    "        \n",
    "        if answer == len(food_times) - 1:\n",
    "            answer = 0\n",
    "        else:\n",
    "            answer += 1\n",
    "        \n",
    "        if food_times == []:\n",
    "            break\n",
    "    if food_times == []:\n",
    "        answer = -1\n",
    "    else:\n",
    "        answer += 1\n",
    "    return answer\n",
    "\n",
    "#food_times = list(map(int, input().split()))\n",
    "#k = int(input())\n",
    "\n",
    "#solution(food_times, k)"
   ]
  },
  {
   "cell_type": "markdown",
   "metadata": {},
   "source": [
    "## 구현\n",
    "\n",
    "### 뱀 - 백준 3190"
   ]
  },
  {
   "cell_type": "code",
   "execution_count": 121,
   "metadata": {},
   "outputs": [
    {
     "name": "stdout",
     "output_type": "stream",
     "text": [
      "10\n",
      "4\n",
      "1 2\n",
      "1 3\n",
      "1 4\n",
      "1 5\n",
      "4\n",
      "8 D\n",
      "10 D\n",
      "11 D\n",
      "13 L\n"
     ]
    }
   ],
   "source": [
    "# 백준 3190\n",
    "\n",
    "n = int(input())\n",
    "k = int(input())\n",
    "board = [[0] * n for _ in range(n)] # 보드판 생성.\n",
    "\n",
    "for i in range(k):\n",
    "    a, b = map(int, input().split())\n",
    "    board[a-1][b-1] = 10\n",
    "\n",
    "L = int(input())\n",
    "d_info = []\n",
    "for i in range(L):\n",
    "    x, c = map(str, input().split())\n",
    "    x = int(x)\n",
    "    d_info.append(tuple([x, c]))\n",
    "    "
   ]
  },
  {
   "cell_type": "code",
   "execution_count": 122,
   "metadata": {},
   "outputs": [],
   "source": [
    "snake = [[0, 0]] # 현재 뱀이 위치한 전체 좌표 리스트\n",
    "x, y = 0, 0 # 뱀의 머리 시작 좌표\n",
    "board[x][y] = 1 # 현재 뱀의 위치 방문 처리.\n",
    "\n",
    "dx = [-1, 0, 1, 0] # 북동남서 방향 순서\n",
    "dy = [0, 1, 0, -1]\n",
    "direction = 1\n",
    "\n",
    "sec = 0 # 시간.\n",
    "\n",
    "d_cnt = 0 # 방향 전환 횟수(처음은 제외)"
   ]
  },
  {
   "cell_type": "code",
   "execution_count": 123,
   "metadata": {},
   "outputs": [
    {
     "name": "stdout",
     "output_type": "stream",
     "text": [
      "20\n"
     ]
    }
   ],
   "source": [
    "####### 처음 짰던 코드 ###########################################\n",
    "\n",
    "def turn_left(): # 방향전환 왼쪽일 때 direction 값 지정.\n",
    "    global direction\n",
    "    direction -= 1\n",
    "    if direction == -1:\n",
    "        direction = 3\n",
    "def turn_right():\n",
    "    global direction\n",
    "    direction += 1\n",
    "    if direction == 4:\n",
    "        direction = 0\n",
    "\n",
    "while True:\n",
    "    sec += 1\n",
    "    \n",
    "    if sec == 1:\n",
    "        \n",
    "        nx = x + dx[direction]\n",
    "        ny = y + dy[direction]\n",
    "        \n",
    "    elif sec == d_info[d_cnt][0]: # 방향 전환 시간이 되었을 때, 방향 전환 준비.\n",
    "        if d_info[d_cnt][1] == 'D':\n",
    "            turn_right()\n",
    "            nx = x + dx[direction]\n",
    "            ny = y + dy[direction]\n",
    "           \n",
    "        elif d_info[d_cnt][1] == 'L':\n",
    "            turn_left()\n",
    "            nx = x + dx[direction]\n",
    "            ny = y + dy[direction]\n",
    "        \n",
    "        d_cnt += 1\n",
    "        if d_cnt == L: # 그냥 인덱스 에러 방지하기 위해 끼운 코드다. 이거 없으면 에러 남. \n",
    "            d_cnt = 0\n",
    "        \n",
    "            \n",
    "    else: # 방향 전환할 때가 아닌 경우는 그대로 직진 준비.\n",
    "        nx = x + dx[direction]\n",
    "        ny = y + dy[direction]\n",
    "        \n",
    "    \n",
    "    \n",
    "        \n",
    "        \n",
    "    if nx < 0 or nx > n-1 or ny < 0 or ny > n-1:# 보드 밖으로 나간 경우 종료.\n",
    "        sec += 1\n",
    "        break\n",
    "    \n",
    "    if board[nx][ny] == 1: # 자기 몸통에 닿을 경우 종료.\n",
    "        sec += 1\n",
    "        break\n",
    "       \n",
    "    if board[nx][ny] == 10: # 사과가 있는 위치에 도달했을 때\n",
    "        x, y = nx, ny # 현재 뱀의 머리 좌표를 옮긴다.\n",
    "        board[x][y] = 1 # 새로운 머리 위치에 방문 표시.\n",
    "        snake.append([x, y]) # 뱀이 현재 위치한 좌표 리스트에 현재 머리 좌표 추가\n",
    "    \n",
    "    if board[nx][ny] == 0: # 사과가 없는 위치에 도착했을 때.\n",
    "        board[snake[0][0]][snake[0][1]] = 0 # 뱀 꼬리가 지나간 자리 방문표시 제거.\n",
    "        del snake[0] # 뱀이 현재 위치한 좌표 리스트에서 지나간 자리 위치 제거.\n",
    "        x, y = nx, ny # 현재 뱀의 머리 좌표 최신화.\n",
    "        \n",
    "        board[x][y] = 1 # 새로운 머리 위치에 방문 표시.\n",
    "        snake.append([x, y])\n",
    "        \n",
    "   \n",
    "            \n",
    "        \n",
    "print(sec)"
   ]
  },
  {
   "cell_type": "code",
   "execution_count": null,
   "metadata": {},
   "outputs": [],
   "source": [
    "################## 수정한 코드 ##############################\n",
    "\n",
    "def turn_left(): # 방향전환 왼쪽일 때 direction 값 지정.\n",
    "    global direction\n",
    "    direction -= 1\n",
    "    if direction == -1:\n",
    "        direction = 3\n",
    "def turn_right():\n",
    "    global direction\n",
    "    direction += 1\n",
    "    if direction == 4:\n",
    "        direction = 0\n",
    "\n",
    "while True:\n",
    "    sec += 1\n",
    "    \n",
    "    nx = x + dx[direction] # 예정 경로 설정.\n",
    "    ny = y + dy[direction]\n",
    "    \n",
    "    if nx < 0 or nx > n-1 or ny < 0 or ny > n-1:# 보드 밖으로 나간 경우 종료.\n",
    "        break\n",
    "    \n",
    "    if board[nx][ny] == 1: # 자기 몸통에 닿을 경우 종료.\n",
    "        break\n",
    "       \n",
    "    if board[nx][ny] == 10: # 사과가 있는 위치에 도달했을 때\n",
    "        x, y = nx, ny # 현재 뱀의 머리 좌표를 옮긴다.\n",
    "        board[x][y] = 1 # 새로운 머리 위치에 방문 표시.\n",
    "        snake.append([x, y]) # 뱀이 현재 위치한 좌표 리스트에 현재 머리 좌표 추가\n",
    "    \n",
    "    if board[nx][ny] == 0: # 사과가 없는 위치에 도착했을 때.\n",
    "        board[snake[0][0]][snake[0][1]] = 0 # 뱀 꼬리가 지나간 자리 방문표시 제거.\n",
    "        del snake[0] # 뱀이 현재 위치한 좌표 리스트에서 지나간 자리 위치 제거.\n",
    "        x, y = nx, ny # 현재 뱀의 머리 좌표 최신화.\n",
    "        \n",
    "        board[x][y] = 1 # 새로운 머리 위치에 방문 표시.\n",
    "        snake.append([x, y])\n",
    "        \n",
    "    if d_cnt < L:\n",
    "        if sec == d_info[d_cnt][0]: # 방향 전환 시간이 되었을 때, 방향 전환 준비.\n",
    "            if d_info[d_cnt][1] == 'D':\n",
    "                turn_right()      \n",
    "            elif d_info[d_cnt][1] == 'L':\n",
    "                turn_left()\n",
    "\n",
    "            d_cnt += 1\n",
    "            \n",
    "        \n",
    "print(sec)"
   ]
  },
  {
   "cell_type": "code",
   "execution_count": null,
   "metadata": {},
   "outputs": [],
   "source": []
  },
  {
   "cell_type": "markdown",
   "metadata": {},
   "source": [
    "### 기둥과 보 설치 \n",
    "### https://programmers.co.kr/learn/courses/30/lessons/60061"
   ]
  },
  {
   "cell_type": "code",
   "execution_count": null,
   "metadata": {},
   "outputs": [],
   "source": [
    "# [x, y, a, b]. a가 0이면 기둥, b가 0이면 삭제.\n",
    "\n",
    "\n",
    "def solution(n, build_frame):\n",
    "    answer = []\n",
    "    for i in range build_frame:\n",
    "        \n",
    "        if i[1] == 0 and i[2] == 1:\n",
    "            continue\n",
    "        \n",
    "        if i[0] < 0 or i[0] > n or i[1] < 0 or i[1] > n:\n",
    "            continue\n",
    "            \n",
    "        \n",
    "            \n",
    "        if i[2] == 0 and i[3] == 1:\n",
    "            if [i[0], i[1]-1, 0] in answer or [i[0], i[1], 1] in answer: \n",
    "                answer.append(i) \n",
    "            \n",
    "            elif i[1] == 0:\n",
    "                answer.append(i)\n",
    "                \n",
    "        if i[2] == 1 and i[3] == 1:\n",
    "            if [i[0], i[1]-1, 0]\n",
    "    \n",
    "    \n",
    "    \n",
    "    return answer"
   ]
  }
 ],
 "metadata": {
  "kernelspec": {
   "display_name": "Python 3.7.5 64-bit ('Namlister': virtualenv)",
   "language": "python",
   "name": "python37564bitnamlistervirtualenv5d7bb17d3c984c36aee202a2f6a91336"
  },
  "language_info": {
   "codemirror_mode": {
    "name": "ipython",
    "version": 3
   },
   "file_extension": ".py",
   "mimetype": "text/x-python",
   "name": "python",
   "nbconvert_exporter": "python",
   "pygments_lexer": "ipython3",
   "version": "3.7.5"
  }
 },
 "nbformat": 4,
 "nbformat_minor": 2
}
