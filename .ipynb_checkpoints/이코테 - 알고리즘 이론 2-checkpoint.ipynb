{
 "cells": [
  {
   "cell_type": "markdown",
   "metadata": {},
   "source": [
    "- 이진 탐색\n",
    "\n",
    "- 다이나믹 프로그래밍\n",
    "\n",
    "- 최단 경로\n",
    "\n",
    "- 그래프 이론"
   ]
  },
  {
   "cell_type": "code",
   "execution_count": null,
   "metadata": {},
   "outputs": [],
   "source": [
    "# 이진 탐색 예시 코드 - 재귀함수\n",
    "\n",
    "def binary_search(arr, target, start, end): # 여기서 start와 end는 인덱스 넘버다. array의 첫 번째와 끝 번호.\n",
    "    if start > end:\n",
    "        return None\n",
    "    mid = (start + end) // 2\n",
    "    \n",
    "    if arr[mid] == target:\n",
    "        return mid\n",
    "    \n",
    "    elif arr[mid] > target:\n",
    "        return binary_search(arr, target, start, mid-1)\n",
    "    \n",
    "    else:\n",
    "        return binary_search(arr, target, mid+1, end)\n",
    "    \n",
    "n, target = map(int, input().split())\n",
    "arr = list(map(int, input().split()))\n",
    "\n",
    "result = binary_search(arr, target, 0, n-1)\n",
    "if result == None:\n",
    "    print(\"없어\")\n",
    "else:\n",
    "    print(result + 1)"
   ]
  },
  {
   "cell_type": "code",
   "execution_count": null,
   "metadata": {},
   "outputs": [],
   "source": [
    "# 이진 탐색 예시 코드 - 반복문\n",
    "\n",
    "def binary_search(arr, target, start, end):\n",
    "    while start <= end:\n",
    "        mid = (start + end) // 2\n",
    "        \n",
    "        if arr[mid] == target:\n",
    "            return mid\n",
    "        \n",
    "        elif arr[mid] > target:\n",
    "            end =  mid - 1\n",
    "        \n",
    "        else:\n",
    "            start = mid + 1\n",
    "        \n",
    "    return None"
   ]
  },
  {
   "cell_type": "code",
   "execution_count": 4,
   "metadata": {},
   "outputs": [
    {
     "name": "stdout",
     "output_type": "stream",
     "text": [
      "5\n",
      "8 3 7 9 2\n",
      "3\n",
      "5 7 9\n",
      "no\n",
      "yes\n",
      "yes\n"
     ]
    }
   ],
   "source": [
    "# 이진 탐색 - 부품 찾기\n",
    "# 근데 이 예제는 이진탐색 말고도 계수정렬과 set함수를 이용해서 풀 수 있다. 사실 set 함수를 이용하는 게 가장 간결하다.\n",
    "n = int(input())\n",
    "a = list(map(int, input().split()))\n",
    "m = int(input())\n",
    "b = list(map(int, input().split()))\n",
    "\n",
    "def bi_srch(arr, target, start, end):\n",
    "    while start <= end:\n",
    "        mid = (start + end) // 2\n",
    "        \n",
    "        if arr[mid] == target:\n",
    "            return mid\n",
    "\n",
    "        elif arr[mid] > target:\n",
    "            end = mid - 1\n",
    "        \n",
    "        else:\n",
    "            start = mid + 1\n",
    "        \n",
    "    return None\n",
    "\n",
    "for i in b:\n",
    "    result = bi_srch(a, i, 0, n-1)\n",
    "    \n",
    "    if result != None:\n",
    "        print(\"yes\")\n",
    "    else:\n",
    "        print(\"no\")"
   ]
  },
  {
   "cell_type": "code",
   "execution_count": 10,
   "metadata": {},
   "outputs": [
    {
     "name": "stdout",
     "output_type": "stream",
     "text": [
      "4 6\n",
      "19 15 10 17\n",
      "15\n"
     ]
    }
   ],
   "source": [
    "# 이진 탐색 - 떡볶이 떡 만들기...단순한 순차 탐색 방법이다.\n",
    "\n",
    "n, m = map(int, input().split())\n",
    "length = list(map(int, input().split()))\n",
    "\n",
    "h = max(length)\n",
    "while True:\n",
    "    resi = 0\n",
    "    for i in length:\n",
    "        if i >= h:\n",
    "            resi += i - h\n",
    "        else:\n",
    "            continue\n",
    "        \n",
    "    if resi >= m:\n",
    "        break\n",
    "        \n",
    "    h -= 1\n",
    "\n",
    "print(h)\n"
   ]
  },
  {
   "cell_type": "code",
   "execution_count": 9,
   "metadata": {},
   "outputs": [
    {
     "data": {
      "text/plain": [
       "9"
      ]
     },
     "execution_count": 9,
     "metadata": {},
     "output_type": "execute_result"
    }
   ],
   "source": [
    "# 이진 탐색 - 떡볶이 떡 만들기 답안 예시\n",
    "\n",
    "n, m = list(map(int, input().split()))\n",
    "arr = list(map(int, input().split()))\n",
    "\n",
    "start = 0\n",
    "end = max(arr)\n",
    "\n",
    "result = 0\n",
    "while(start <= end):\n",
    "    total = 0\n",
    "    mid = (start + end) // 2\n",
    "    for x in arr:\n",
    "        if x > mid:\n",
    "            total += x - mid\n",
    "            \n",
    "    if total < m:\n",
    "        end = mid - 1\n",
    "    else:\n",
    "        result = mid\n",
    "        start = mid + 1\n",
    "        \n",
    "print(result)"
   ]
  },
  {
   "cell_type": "code",
   "execution_count": 5,
   "metadata": {},
   "outputs": [
    {
     "name": "stdout",
     "output_type": "stream",
     "text": [
      "26\n",
      "3\n"
     ]
    }
   ],
   "source": [
    "# 다이나믹 프로그래밍 - 1로 만들기 답안 예시\n",
    "# bottom-up 방식이다.\n",
    "\n",
    "x = int(input())\n",
    "dt = [0] * 30001\n",
    "\n",
    "for i in range(2, x+1):\n",
    "    dt[i] = dt[i-1] + 1\n",
    "    \n",
    "    if i % 2 == 0:\n",
    "        dt[i] = min(dt[i], dt[i//2] + 1)\n",
    "    \n",
    "    if i % 3 == 0:\n",
    "        dt[i] = min(dt[i], dt[i//3] + 1)\n",
    "        \n",
    "    if i % 5 == 0:\n",
    "        dt[i] = min(dt[i], dt[i//5] + 1)\n",
    "        \n",
    "print(dt[x])\n",
    "        "
   ]
  },
  {
   "cell_type": "code",
   "execution_count": null,
   "metadata": {},
   "outputs": [],
   "source": []
  }
 ],
 "metadata": {
  "kernelspec": {
   "display_name": "Python 3.7.5 64-bit ('Namlister': virtualenv)",
   "language": "python",
   "name": "python37564bitnamlistervirtualenv5d7bb17d3c984c36aee202a2f6a91336"
  },
  "language_info": {
   "codemirror_mode": {
    "name": "ipython",
    "version": 3
   },
   "file_extension": ".py",
   "mimetype": "text/x-python",
   "name": "python",
   "nbconvert_exporter": "python",
   "pygments_lexer": "ipython3",
   "version": "3.7.5"
  }
 },
 "nbformat": 4,
 "nbformat_minor": 2
}
