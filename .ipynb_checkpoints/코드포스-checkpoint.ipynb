{
 "cells": [
  {
   "cell_type": "markdown",
   "id": "8d9742e3",
   "metadata": {},
   "source": [
    "https://codeforces.com/contest/1598/problem/A"
   ]
  },
  {
   "cell_type": "code",
   "execution_count": null,
   "id": "5adf6268",
   "metadata": {},
   "outputs": [],
   "source": [
    "from collections import deque\n",
    "\n",
    "dx = [-1, 1, 0, 0, -1, -1, 1, 1]\n",
    "dy = [0, 0, -1, 1, -1, 1, 1, -1]\n",
    "\n",
    "t = int(input())\n",
    "for i in range(t):\n",
    "    n = int(input())\n",
    "    \n",
    "    board = []\n",
    "    for j in range(2):\n",
    "        board.append(list(map(int, input())))\n",
    "        \n",
    "    queue = deque([(0, 0)])\n",
    "    \n",
    "    while queue:\n",
    "        x, y = queue.popleft()\n",
    "        \n",
    "        \n",
    "        for j in range(8):\n",
    "            nx = x + dx[j]\n",
    "            ny = y + dy[j]\n",
    "            \n",
    "            if nx < 0 or nx >= 2 or ny < 0 or ny >= n:\n",
    "                continue\n",
    "                \n",
    "            if board[nx][ny] == 0:\n",
    "                board[nx][ny] = board[x][y] - 1\n",
    "                queue.append((nx, ny))\n",
    "                \n",
    "                \n",
    "    if board[1][n-1] != 0:\n",
    "        print('YES')\n",
    "        \n",
    "    else:\n",
    "        print('NO')\n",
    "    \n",
    "        \n",
    "        \n",
    "    "
   ]
  },
  {
   "cell_type": "markdown",
   "id": "f2c15da3",
   "metadata": {},
   "source": [
    "https://codeforces.com/contest/1598/problem/B"
   ]
  },
  {
   "cell_type": "code",
   "execution_count": null,
   "id": "72efe5c9",
   "metadata": {},
   "outputs": [],
   "source": [
    "\n",
    "\n",
    "\n",
    "t = int(input())\n",
    "for _ in range(t):\n",
    "    n = int(input())\n",
    "    \n",
    "    mat = []\n",
    "    lst = [[] for i in range(5)]\n",
    "    count = [0] * 5\n",
    "    \n",
    "    for i in range(n):\n",
    "        a = list(map(int, input().split()))\n",
    "        for j in range(5):\n",
    "            if a[j] == 1:\n",
    "                lst[j].append(i)\n",
    "                count[j] += 1\n",
    "                \n",
    "    chk = 0\n",
    "    for i in range(5):\n",
    "        if count[i] < n//2:\n",
    "            continue\n",
    "            \n",
    "        check = 0\n",
    "        target = set(lst[i])\n",
    "        for j in range(i+1, 5):\n",
    "            if count[j] < n//2:\n",
    "                continue\n",
    "                \n",
    "            if len(target | set(lst[j])) == n:\n",
    "                check = 1\n",
    "                break\n",
    "                \n",
    "        if check:\n",
    "            chk = 1\n",
    "            break\n",
    "            \n",
    "    if chk:\n",
    "        print('YES')\n",
    "    else:\n",
    "        print('NO')\n",
    "            \n",
    "            "
   ]
  },
  {
   "cell_type": "code",
   "execution_count": null,
   "id": "dc4d4151",
   "metadata": {},
   "outputs": [],
   "source": [
    "2\n",
    "4\n",
    "1 0 0 1 0\n",
    "0 1 0 0 1\n",
    "0 0 0 1 0\n",
    "0 1 0 1 0\n",
    "2\n",
    "0 0 0 1 0\n",
    "0 0 0 1 0\n"
   ]
  }
 ],
 "metadata": {
  "kernelspec": {
   "display_name": "Python 3",
   "language": "python",
   "name": "python3"
  },
  "language_info": {
   "codemirror_mode": {
    "name": "ipython",
    "version": 3
   },
   "file_extension": ".py",
   "mimetype": "text/x-python",
   "name": "python",
   "nbconvert_exporter": "python",
   "pygments_lexer": "ipython3",
   "version": "3.8.8"
  }
 },
 "nbformat": 4,
 "nbformat_minor": 5
}
