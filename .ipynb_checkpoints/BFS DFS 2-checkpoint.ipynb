{
 "cells": [
  {
   "cell_type": "markdown",
   "id": "85d2be2b",
   "metadata": {},
   "source": [
    "https://www.acmicpc.net/problem/12851"
   ]
  },
  {
   "cell_type": "code",
   "execution_count": 10,
   "id": "ee30ce95",
   "metadata": {},
   "outputs": [
    {
     "name": "stdout",
     "output_type": "stream",
     "text": [
      "2 2\n",
      "0\n",
      "1\n"
     ]
    }
   ],
   "source": [
    "# 백준 12851\n",
    "\n",
    "from collections import deque\n",
    "\n",
    "n, k = map(int, input().split())\n",
    "\n",
    "\n",
    "visited = [-1] * 100001\n",
    "\n",
    "\n",
    "count = 0\n",
    "queue = deque([n])\n",
    "visited[n] = 0\n",
    "while queue:\n",
    "    \n",
    "    x = queue.popleft()\n",
    "    \n",
    "    if x == k:\n",
    "        count += 1\n",
    "    \n",
    "    dx = [x - 1, x + 1, 2 * x]\n",
    "    for i in range(3):\n",
    "        nx = dx[i]\n",
    "        \n",
    "        if nx < 0 or nx >= 100001:\n",
    "            continue\n",
    "                \n",
    "        if visited[nx] == -1 or visited[nx] >= visited[x] + 1:\n",
    "            visited[nx] = visited[x] + 1\n",
    "            queue.append(nx)\n",
    "            \n",
    "\n",
    "print(visited[k])\n",
    "print(count)"
   ]
  },
  {
   "cell_type": "markdown",
   "id": "8e8d48e6",
   "metadata": {},
   "source": [
    "https://www.acmicpc.net/problem/16236"
   ]
  },
  {
   "cell_type": "code",
   "execution_count": 12,
   "id": "cd76f06d",
   "metadata": {},
   "outputs": [
    {
     "name": "stdout",
     "output_type": "stream",
     "text": [
      "4\n",
      "4 3 2 1\n",
      "0 0 0 0\n",
      "0 0 9 0\n",
      "1 2 3 4\n"
     ]
    },
    {
     "ename": "KeyboardInterrupt",
     "evalue": "",
     "output_type": "error",
     "traceback": [
      "\u001b[1;31m---------------------------------------------------------------------------\u001b[0m",
      "\u001b[1;31mKeyboardInterrupt\u001b[0m                         Traceback (most recent call last)",
      "\u001b[1;32m<ipython-input-12-3e66ddf9b073>\u001b[0m in \u001b[0;36m<module>\u001b[1;34m\u001b[0m\n\u001b[0;32m     51\u001b[0m                             \u001b[1;32mcontinue\u001b[0m\u001b[1;33m\u001b[0m\u001b[1;33m\u001b[0m\u001b[0m\n\u001b[0;32m     52\u001b[0m \u001b[1;33m\u001b[0m\u001b[0m\n\u001b[1;32m---> 53\u001b[1;33m                         \u001b[1;32mif\u001b[0m \u001b[0mvisited\u001b[0m\u001b[1;33m[\u001b[0m\u001b[0mnw\u001b[0m\u001b[1;33m]\u001b[0m\u001b[1;33m[\u001b[0m\u001b[0mnv\u001b[0m\u001b[1;33m]\u001b[0m \u001b[1;33m==\u001b[0m \u001b[1;36m0\u001b[0m \u001b[1;32mand\u001b[0m \u001b[0mspace\u001b[0m\u001b[1;33m[\u001b[0m\u001b[0mnw\u001b[0m\u001b[1;33m]\u001b[0m\u001b[1;33m[\u001b[0m\u001b[0mnv\u001b[0m\u001b[1;33m]\u001b[0m \u001b[1;33m<=\u001b[0m \u001b[0msize\u001b[0m \u001b[1;32mor\u001b[0m \u001b[0mspace\u001b[0m\u001b[1;33m[\u001b[0m\u001b[0mnw\u001b[0m\u001b[1;33m]\u001b[0m\u001b[1;33m[\u001b[0m\u001b[0mnv\u001b[0m\u001b[1;33m]\u001b[0m \u001b[1;33m==\u001b[0m \u001b[1;36m9\u001b[0m\u001b[1;33m:\u001b[0m\u001b[1;33m\u001b[0m\u001b[1;33m\u001b[0m\u001b[0m\n\u001b[0m\u001b[0;32m     54\u001b[0m                             \u001b[0mvisited\u001b[0m\u001b[1;33m[\u001b[0m\u001b[0mnw\u001b[0m\u001b[1;33m]\u001b[0m\u001b[1;33m[\u001b[0m\u001b[0mnv\u001b[0m\u001b[1;33m]\u001b[0m \u001b[1;33m=\u001b[0m \u001b[1;36m1\u001b[0m\u001b[1;33m\u001b[0m\u001b[1;33m\u001b[0m\u001b[0m\n\u001b[0;32m     55\u001b[0m                             \u001b[0mq\u001b[0m\u001b[1;33m.\u001b[0m\u001b[0mappend\u001b[0m\u001b[1;33m(\u001b[0m\u001b[1;33m(\u001b[0m\u001b[0mnw\u001b[0m\u001b[1;33m,\u001b[0m \u001b[0mnv\u001b[0m\u001b[1;33m,\u001b[0m \u001b[0mtime\u001b[0m \u001b[1;33m+\u001b[0m \u001b[1;36m1\u001b[0m\u001b[1;33m)\u001b[0m\u001b[1;33m)\u001b[0m\u001b[1;33m\u001b[0m\u001b[1;33m\u001b[0m\u001b[0m\n",
      "\u001b[1;31mKeyboardInterrupt\u001b[0m: "
     ]
    }
   ],
   "source": [
    "# 백준 16236\n",
    "\n",
    "from collections import deque\n",
    "\n",
    "n = int(input())\n",
    "\n",
    "space = []\n",
    "fish = []\n",
    "for i in range(n):\n",
    "    a = list(map(int, input().split()))\n",
    "    space.append(a)\n",
    "    for j in range(n):\n",
    "        if a[j] == 9:\n",
    "            \n",
    "            x, y = i, j\n",
    "            \n",
    "        \n",
    "        if 0 < a[j] < 9:\n",
    "            fish.append((i, j))\n",
    "            \n",
    "\n",
    "dw = [-1, 0, 1, 0]\n",
    "dv = [0, -1, 0, 1]\n",
    "size, sec, cnt = 2, 0, 0\n",
    "while True:\n",
    "    \n",
    "    \n",
    "    if len(fish) > 0:\n",
    "        dst = int(1e9)\n",
    "        for a, b in fish:\n",
    "            visited = [[0] * n for _ in range(n)]\n",
    "            if space[a][b] < size:\n",
    "                q = deque([(a, b, 0)])\n",
    "               \n",
    "            \n",
    "                while q:\n",
    "                    w, v, time = q.popleft()\n",
    "                \n",
    "                    if w == x and v == y:\n",
    "                        if dst > time:\n",
    "                            dst = time\n",
    "                            nx = a\n",
    "                            ny = b\n",
    "                        q.clear()\n",
    "                        \n",
    "                    for i in range(4):\n",
    "                        nw = w + dw[i]\n",
    "                        nv = v + dv[i] \n",
    "                    \n",
    "                        if nw < 0 or nw >= n or nv < 0 or nv >= n:\n",
    "                            continue\n",
    "                        \n",
    "                        if visited[nw][nv] == 0 and space[nw][nv] <= size or space[nw][nv] == 9:\n",
    "                            visited[nw][nv] = 1\n",
    "                            q.append((nw, nv, time + 1))\n",
    "                            \n",
    "    elif len(fish) == 0:\n",
    "        break\n",
    "        \n",
    "        \n",
    "    \n",
    "    space[nx][ny] = 9\n",
    "    space[x][y] = 0\n",
    "    cnt += 1\n",
    "            \n",
    "    if cnt == size:\n",
    "        x, y, size, sec, cnt = nx, ny, size + 1, sec + dst, 0\n",
    "                \n",
    "    else:\n",
    "        x, y, size, sec, cnt = nx, ny, size, sec + dst, cnt\n",
    "        \n",
    "        \n",
    "    count = 0\n",
    "    for i in range(n):\n",
    "        for j in range(n):\n",
    "            if space[i][j] < size:\n",
    "                count += 1\n",
    "                \n",
    "    if count == 0:\n",
    "        break\n",
    "            \n",
    "        \n",
    "    \n",
    "print(sec)                \n",
    "            \n",
    "            \n",
    "\n"
   ]
  },
  {
   "cell_type": "code",
   "execution_count": null,
   "id": "4d9a4672",
   "metadata": {},
   "outputs": [],
   "source": [
    "4                \n",
    "4 3 2 1\n",
    "0 0 0 0\n",
    "0 0 9 0\n",
    "1 2 3 4        \n",
    "\n",
    "6\n",
    "5 4 3 2 3 4\n",
    "4 3 2 3 4 5\n",
    "3 2 9 5 6 6\n",
    "2 1 2 3 4 5\n",
    "3 2 1 6 5 4\n",
    "6 6 6 6 6 6\n",
    "\n",
    "3\n",
    "0 0 0\n",
    "0 0 0\n",
    "0 9 0\n",
    "\n",
    "6 *\n",
    "6 0 6 0 6 1\n",
    "0 0 0 0 0 2\n",
    "2 3 4 5 6 6\n",
    "0 0 0 0 0 2\n",
    "0 2 0 0 0 0\n",
    "3 9 3 0 0 1\n",
    "\n",
    "6 *\n",
    "1 1 1 1 1 1\n",
    "2 2 6 2 2 3\n",
    "2 2 5 2 2 3\n",
    "2 2 2 4 6 3\n",
    "0 0 0 0 0 6\n",
    "0 0 0 0 0 9"
   ]
  },
  {
   "cell_type": "code",
   "execution_count": 8,
   "id": "f680d7f4",
   "metadata": {},
   "outputs": [
    {
     "data": {
      "text/plain": [
       "[(0, 0), (0, 1), (3, 2), (3, 3)]"
      ]
     },
     "execution_count": 8,
     "metadata": {},
     "output_type": "execute_result"
    }
   ],
   "source": [
    "fish"
   ]
  },
  {
   "cell_type": "code",
   "execution_count": 10,
   "id": "5beda971",
   "metadata": {},
   "outputs": [
    {
     "data": {
      "text/plain": [
       "2"
      ]
     },
     "execution_count": 10,
     "metadata": {},
     "output_type": "execute_result"
    }
   ],
   "source": [
    "ny"
   ]
  },
  {
   "cell_type": "code",
   "execution_count": 102,
   "id": "d542f568",
   "metadata": {},
   "outputs": [
    {
     "data": {
      "text/plain": [
       "0"
      ]
     },
     "execution_count": 102,
     "metadata": {},
     "output_type": "execute_result"
    }
   ],
   "source": [
    "fish.remove((nx, ny)) "
   ]
  },
  {
   "cell_type": "markdown",
   "id": "9e2d16c1",
   "metadata": {},
   "source": [
    "https://www.acmicpc.net/problem/1707"
   ]
  },
  {
   "cell_type": "code",
   "execution_count": null,
   "id": "c7f76cfc",
   "metadata": {},
   "outputs": [],
   "source": [
    "# 백준 1707\n",
    "from collections import deque\n",
    "\n",
    "def bfs(start):\n",
    "    node[start] = 1\n",
    "    queue = deque([start])\n",
    "    \n",
    "    while queue:\n",
    "        a = queue.popleft()\n",
    "        \n",
    "        for i in edge[a]:\n",
    "            if node[i] == 0:\n",
    "                node[i] = node[a] * 10\n",
    "                queue.append(i)\n",
    "                \n",
    "            else:\n",
    "                if node[i] == node[a]:\n",
    "                    return False\n",
    "                \n",
    "    return True\n",
    "\n",
    "\n",
    "\n",
    "k = int(input())\n",
    "\n",
    "for i in range(k):\n",
    "    v, e = map(int, input().split())\n",
    "    \n",
    "    edge = [[] for _ in range(v+1)]\n",
    "    for j in range(e):\n",
    "        a, b = map(int, input().split())\n",
    "        edge[a].append(b)\n",
    "        edge[b].append(a)\n",
    "        \n",
    "    node = [0] * (v+1)\n",
    "    check = 1\n",
    "    for j in range(1, v+1):\n",
    "        if node[j] == 0:\n",
    "            if not bfs(j):\n",
    "                check = 0\n",
    "                break\n",
    "                \n",
    "                \n",
    "    if check == 1:\n",
    "        print('YES')\n",
    "    \n",
    "    else:\n",
    "        print('NO')\n"
   ]
  },
  {
   "cell_type": "markdown",
   "id": "61839b73",
   "metadata": {},
   "source": [
    "https://www.acmicpc.net/problem/1043"
   ]
  },
  {
   "cell_type": "code",
   "execution_count": null,
   "id": "916cf2ba",
   "metadata": {},
   "outputs": [],
   "source": [
    "# 백준 1043\n",
    "\n",
    "from collections import deque\n",
    "\n",
    "n, m = map(int, input().split())\n",
    "bird = list(map(int, input().split()))[1:]\n",
    "\n",
    "party = []\n",
    "for i in range(m):\n",
    "    a = list(map(int, input().split()))[1:]\n",
    "    party.append(a)\n",
    "    \n",
    "\n",
    "check = [1] * m\n",
    "rat = [False] * (n+1)\n",
    "\n",
    "queue = deque()\n",
    "for i in bird:\n",
    "    queue.append(i)\n",
    "    rat[i] = True\n",
    "    \n",
    "while queue:\n",
    "    x = queue.popleft()\n",
    "    \n",
    "    for i in range(len(party)):\n",
    "        if x in party[i]:\n",
    "            for j in party[i]:\n",
    "                if not rat[j]:\n",
    "                    queue.append(j)\n",
    "                    rat[j] = True\n",
    "                    \n",
    "            check[i] = 0\n",
    "        \n",
    "\n",
    "        \n",
    "print(check.count(1))"
   ]
  },
  {
   "cell_type": "markdown",
   "id": "9a35accf",
   "metadata": {},
   "source": [
    "https://www.acmicpc.net/problem/14442"
   ]
  },
  {
   "cell_type": "code",
   "execution_count": null,
   "id": "49974ddf",
   "metadata": {},
   "outputs": [],
   "source": [
    "# 백준 14442\n",
    "# 수많은 도전 끝에 엄청난 사실을 알아냈다. 탐색 순서에 따라 채점에 걸리는 시간이 달라진다. dx, dy.\n",
    "\n",
    "from sys import stdin \n",
    "from collections import deque\n",
    "#input = stdin.readline\n",
    "\n",
    "n, m, k = map(int, input().split())\n",
    "board = [list(map(int, input().rstrip())) for _ in range(n)]\n",
    "visited = [[[0] * (k+1) for _ in range(m)] for _ in range(n)]\n",
    "\n",
    "dx = [0, 0, -1, 1]\n",
    "dy = [-1, 1, 0, 0]\n",
    "\n",
    "def plz():\n",
    "    visited[0][0] = [1] * (k+1)\n",
    "    queue = deque([(0, 0, 0)])\n",
    "    \n",
    "    while queue:\n",
    "        x, y, c = queue.popleft()\n",
    "        \n",
    "        if x == n-1 and y == m-1:\n",
    "            return visited[n-1][m-1][c]\n",
    "        \n",
    "        \n",
    "        for i in range(4):\n",
    "            nx = x + dx[i]\n",
    "            ny = y + dy[i]\n",
    "                                       \n",
    "            if 0 <= nx < n and 0 <= ny < m and not visited[nx][ny][c]:\n",
    "                if board[nx][ny] == 0:\n",
    "                    visited[nx][ny][c] = visited[x][y][c] + 1\n",
    "                    queue.append((nx, ny, c))\n",
    "                \n",
    "                elif c < k:\n",
    "                    visited[nx][ny][c+1] = visited[x][y][c] + 1\n",
    "                    queue.append((nx, ny, c + 1))\n",
    "                \n",
    "    return -1\n",
    "\n",
    "\n",
    "        \n",
    "\n",
    "print(plz())\n",
    "\n"
   ]
  },
  {
   "cell_type": "markdown",
   "id": "97376521",
   "metadata": {},
   "source": [
    "https://www.acmicpc.net/problem/16933"
   ]
  },
  {
   "cell_type": "code",
   "execution_count": null,
   "id": "24438b94",
   "metadata": {},
   "outputs": [],
   "source": [
    "# 백준 16933\n",
    "### 밤에는 움직일 수 없을테니 그 자리에 머무른다.\n",
    "\n",
    "from sys import stdin \n",
    "from collections import deque\n",
    "#input = stdin.readline\n",
    "\n",
    "n, m, k = map(int, input().split())\n",
    "board = [list(map(int, input().rstrip())) for _ in range(n)]\n",
    "visited = [[[0] * (k+1) for _ in range(m)] for _ in range(n)]\n",
    "\n",
    "dx = [0, 0, -1, 1]\n",
    "dy = [-1, 1, 0, 0]\n",
    "\n",
    "def plz():\n",
    "    visited[0][0] = [1] * (k+1)\n",
    "    queue = deque([(0, 0, 0, 1)])\n",
    "    \n",
    "    while queue:\n",
    "        x, y, c, day = queue.popleft()\n",
    "        \n",
    "        if x == n-1 and y == m-1:\n",
    "            return day\n",
    "        \n",
    "        \n",
    "        for i in range(4):\n",
    "            nx = x + dx[i]\n",
    "            ny = y + dy[i]\n",
    "                                       \n",
    "            if 0 <= nx < n and 0 <= ny < m and not visited[nx][ny][c]:\n",
    "                if board[nx][ny] == 0:\n",
    "                    visited[nx][ny][c] = visited[x][y][c] + 1\n",
    "                    queue.append((nx, ny, c, day + 1))\n",
    "                \n",
    "                elif c < k and not visited[nx][ny][c+1]:\n",
    "                    if day % 2 == 1:\n",
    "                        visited[nx][ny][c+1] = visited[x][y][c] + 1\n",
    "                        queue.append((nx, ny, c + 1, day + 1))\n",
    "                    else:\n",
    "                        queue.append((x, y, c, day + 1))\n",
    "                \n",
    "    return -1\n",
    "\n",
    "\n",
    "        \n",
    "\n",
    "print(plz())\n",
    "\n",
    "\n",
    "\n"
   ]
  },
  {
   "cell_type": "markdown",
   "id": "8e06da27",
   "metadata": {},
   "source": [
    "https://www.acmicpc.net/problem/16946"
   ]
  },
  {
   "cell_type": "code",
   "execution_count": 14,
   "id": "f7351126",
   "metadata": {},
   "outputs": [
    {
     "name": "stdout",
     "output_type": "stream",
     "text": [
      "4 5\n",
      "11001\n",
      "00111\n",
      "01010\n",
      "10101\n",
      "46003\n",
      "00732\n",
      "06040\n",
      "50403\n"
     ]
    }
   ],
   "source": [
    "# 백준 16946\n",
    "# 시간초과 난다.\n",
    "\n",
    "from sys import stdin \n",
    "from collections import deque\n",
    "#input = stdin.readline\n",
    "\n",
    "\n",
    "n, m = map(int, input().split())\n",
    "board = []\n",
    "walls = []\n",
    "for i in range(n):\n",
    "    a = list(map(int, input().rstrip()))\n",
    "    board.append(a)\n",
    "    for j in range(m):\n",
    "        if a[j] == 1:\n",
    "            walls.append((i, j))\n",
    "            \n",
    "            \n",
    "dx = [0, 0, -1, 1]\n",
    "dy = [-1, 1, 0, 0]\n",
    "\n",
    "for a, b in walls:\n",
    "    queue = deque([(a, b)])\n",
    "    visited = [[0] * m for _ in range(n)]\n",
    "    visited[a][b] = 1\n",
    "    cnt = 1\n",
    "    \n",
    "    while queue:\n",
    "        x, y = queue.popleft()\n",
    "        \n",
    "        for i in range(4):\n",
    "            nx = x + dx[i]\n",
    "            ny = y + dy[i]\n",
    "            \n",
    "            if 0 <= nx < n and 0 <= ny < m and not visited[nx][ny]:\n",
    "                if board[nx][ny] == 0:\n",
    "                    visited[nx][ny] = 1\n",
    "                    cnt += 1\n",
    "                    queue.append((nx, ny))\n",
    "                    \n",
    "    board[a][b] = cnt % 10\n",
    "    \n",
    "    \n",
    "for i in board:\n",
    "    for j in i:\n",
    "        print(j, end = '')\n",
    "    print()"
   ]
  },
  {
   "cell_type": "code",
   "execution_count": 21,
   "id": "d3180443",
   "metadata": {},
   "outputs": [
    {
     "name": "stdout",
     "output_type": "stream",
     "text": [
      "4 4\n",
      "1111\n",
      "0000\n",
      "0000\n",
      "0111\n",
      "0000\n",
      "0000\n",
      "0000\n",
      "0000\n"
     ]
    }
   ],
   "source": [
    "# 다시.\n",
    "# 2021 / 07 / 23. 플레5 달성 & 클래스 5 달성.\n",
    "\n",
    "from sys import stdin \n",
    "from collections import deque\n",
    "from copy import deepcopy\n",
    "#input = stdin.readline\n",
    "\n",
    "\n",
    "n, m = map(int, input().rstrip().split())\n",
    "board = []\n",
    "walls = []\n",
    "empty = []\n",
    "for i in range(n):\n",
    "    a = list(map(int, input().rstrip()))\n",
    "    board.append(a)\n",
    "    for j in range(m):\n",
    "        if a[j] == 1:\n",
    "            walls.append((i, j))\n",
    "            \n",
    "        elif a[j] == 0:\n",
    "            empty.append((i, j))\n",
    "            \n",
    "\n",
    "copy = deepcopy(board)            \n",
    "            \n",
    "dx = [0, 0, -1, 1]\n",
    "dy = [-1, 1, 0, 0]\n",
    "\n",
    "visited = [[0] * m for _ in range(n)]\n",
    "group = 0\n",
    "for a, b in empty:\n",
    "    if visited[a][b]:\n",
    "        continue\n",
    "    \n",
    "    queue = deque([(a, b)])\n",
    "    visited[a][b] = 1\n",
    "    temp = [(a, b)]\n",
    "    \n",
    "    while queue:\n",
    "        x, y = queue.popleft()\n",
    "        for i in range(4):\n",
    "            nx = x + dx[i]\n",
    "            ny = y + dy[i]\n",
    "            \n",
    "            if 0 <= nx < n and 0 <= ny < m and not visited[nx][ny]:\n",
    "                if board[nx][ny] == 0:\n",
    "                    visited[nx][ny] = 1\n",
    "                    temp.append((nx, ny))\n",
    "                    queue.append((nx, ny))\n",
    "    \n",
    "                    \n",
    "    for aa, bb in temp:\n",
    "        board[aa][bb] = (len(temp), group)\n",
    "        \n",
    "    group += 1\n",
    "            \n",
    "\n",
    "\n",
    "\n",
    "    \n",
    "for a, b in walls:\n",
    "    group_check = set()\n",
    "    count = 1\n",
    "    \n",
    "    \n",
    "    for i in range(4):\n",
    "        na = a + dx[i]\n",
    "        nb = b + dy[i]\n",
    "            \n",
    "        if 0 <= na < n and 0 <= nb < m:\n",
    "            if board[na][nb] != 1:\n",
    "                if board[na][nb] not in group_check:\n",
    "                    count += board[na][nb][0]\n",
    "                    group_check.add(board[na][nb])\n",
    "                    \n",
    "    \n",
    "    copy[a][b] = count % 10\n",
    "    \n",
    "\n",
    "\n",
    "    \n",
    "for i in copy:\n",
    "    for j in i:\n",
    "        print(j, end = '')\n",
    "    print()    \n",
    "\n"
   ]
  },
  {
   "cell_type": "markdown",
   "id": "99885784",
   "metadata": {},
   "source": [
    "https://www.acmicpc.net/problem/9466"
   ]
  },
  {
   "cell_type": "code",
   "execution_count": 3,
   "id": "8f38ba3b",
   "metadata": {},
   "outputs": [
    {
     "name": "stdout",
     "output_type": "stream",
     "text": [
      "2\n",
      "7\n",
      "3 1 3 7 3 4 6\n",
      "3\n",
      "8\n",
      "1 2 3 4 5 6 7 8\n",
      "0\n"
     ]
    }
   ],
   "source": [
    "# 백준 9466\n",
    "\n",
    "import sys\n",
    "#sys.setrecursionlimit(10000000)\n",
    "\n",
    "def sol(i):\n",
    "    visited[i] = 1\n",
    "    cycle.append(i)\n",
    "    \n",
    "    goal = chose[i]\n",
    "    global team\n",
    "    if visited[goal] == 1:\n",
    "        if goal in cycle:\n",
    "            team += cycle[cycle.index(goal):]\n",
    "        return\n",
    "    \n",
    "    else:\n",
    "        sol(goal)\n",
    "    \n",
    "    \n",
    "    \n",
    "\n",
    "t = int(input())\n",
    "for i in range(t):\n",
    "    n = int(input())\n",
    "    chose = [0] + list(map(int, input().split()))\n",
    "    \n",
    "    team = []\n",
    "    visited = [0] * (n+1)\n",
    "    \n",
    "    for i in range(1, n+1):\n",
    "        cycle = []\n",
    "        if not visited[i]:\n",
    "            sol(i)\n",
    "    \n",
    "    \n",
    "    print(n - len(team))\n",
    "            "
   ]
  },
  {
   "cell_type": "code",
   "execution_count": 1,
   "id": "64028347",
   "metadata": {},
   "outputs": [],
   "source": [
    "2\n",
    "7\n",
    "3 1 3 7 3 4 6\n",
    "8\n",
    "1 2 3 4 5 6 7 8"
   ]
  },
  {
   "cell_type": "code",
   "execution_count": 2,
   "id": "0724bf09",
   "metadata": {},
   "outputs": [
    {
     "data": {
      "text/plain": [
       "[True, False]"
      ]
     },
     "execution_count": 2,
     "metadata": {},
     "output_type": "execute_result"
    }
   ],
   "source": [
    "a"
   ]
  },
  {
   "cell_type": "code",
   "execution_count": 5,
   "id": "5bd159c6",
   "metadata": {},
   "outputs": [],
   "source": [
    "group_check = set()\n",
    "for i in range(group):\n",
    "    group_check.add(i)"
   ]
  },
  {
   "cell_type": "code",
   "execution_count": 6,
   "id": "30682c5d",
   "metadata": {},
   "outputs": [
    {
     "data": {
      "text/plain": [
       "{0, 1, 2, 3}"
      ]
     },
     "execution_count": 6,
     "metadata": {},
     "output_type": "execute_result"
    }
   ],
   "source": [
    "group_check"
   ]
  },
  {
   "cell_type": "code",
   "execution_count": 7,
   "id": "2c8f7355",
   "metadata": {},
   "outputs": [],
   "source": [
    "a = group_check"
   ]
  },
  {
   "cell_type": "code",
   "execution_count": 8,
   "id": "5492e3f7",
   "metadata": {},
   "outputs": [
    {
     "data": {
      "text/plain": [
       "{0, 1, 2, 3}"
      ]
     },
     "execution_count": 8,
     "metadata": {},
     "output_type": "execute_result"
    }
   ],
   "source": [
    "a"
   ]
  },
  {
   "cell_type": "code",
   "execution_count": null,
   "id": "973a06c7",
   "metadata": {},
   "outputs": [],
   "source": []
  }
 ],
 "metadata": {
  "kernelspec": {
   "display_name": "Python 3",
   "language": "python",
   "name": "python3"
  }
 },
 "nbformat": 4,
 "nbformat_minor": 5
}
