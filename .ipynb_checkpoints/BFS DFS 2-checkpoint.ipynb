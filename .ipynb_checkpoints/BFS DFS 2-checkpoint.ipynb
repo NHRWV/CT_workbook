{
 "cells": [
  {
   "cell_type": "markdown",
   "id": "85d2be2b",
   "metadata": {},
   "source": [
    "https://www.acmicpc.net/problem/12851"
   ]
  },
  {
   "cell_type": "code",
   "execution_count": 10,
   "id": "ee30ce95",
   "metadata": {},
   "outputs": [
    {
     "name": "stdout",
     "output_type": "stream",
     "text": [
      "2 2\n",
      "0\n",
      "1\n"
     ]
    }
   ],
   "source": [
    "# 백준 12851\n",
    "\n",
    "from collections import deque\n",
    "\n",
    "n, k = map(int, input().split())\n",
    "\n",
    "\n",
    "visited = [-1] * 100001\n",
    "\n",
    "\n",
    "count = 0\n",
    "queue = deque([n])\n",
    "visited[n] = 0\n",
    "while queue:\n",
    "    \n",
    "    x = queue.popleft()\n",
    "    \n",
    "    if x == k:\n",
    "        count += 1\n",
    "    \n",
    "    dx = [x - 1, x + 1, 2 * x]\n",
    "    for i in range(3):\n",
    "        nx = dx[i]\n",
    "        \n",
    "        if nx < 0 or nx >= 100001:\n",
    "            continue\n",
    "                \n",
    "        if visited[nx] == -1 or visited[nx] >= visited[x] + 1:\n",
    "            visited[nx] = visited[x] + 1\n",
    "            queue.append(nx)\n",
    "            \n",
    "\n",
    "print(visited[k])\n",
    "print(count)"
   ]
  },
  {
   "cell_type": "markdown",
   "id": "836f1630",
   "metadata": {},
   "source": [
    "https://www.acmicpc.net/problem/16236"
   ]
  },
  {
   "cell_type": "code",
   "execution_count": 4,
   "id": "3e992b6c",
   "metadata": {},
   "outputs": [
    {
     "name": "stdout",
     "output_type": "stream",
     "text": [
      "3\n",
      "0 0 1\n",
      "0 0 0\n",
      "0 9 0\n",
      "1000000000\n"
     ]
    }
   ],
   "source": [
    "# 백준 16236\n",
    "\n",
    "from collections import deque\n",
    "\n",
    "n = int(input())\n",
    "\n",
    "space = []\n",
    "fish = []\n",
    "for i in range(n):\n",
    "    a = list(map(int, input().split()))\n",
    "    space.append(a)\n",
    "    for j in range(n):\n",
    "        if a[j] == 9:\n",
    "            queue = deque([(i, j, 2, 0, 0)])\n",
    "            \n",
    "        \n",
    "        if 0 < a[j] < 9:\n",
    "            fish.append((i, j))\n",
    "            \n",
    "visited = [[0] * n for _ in range(n)]\n",
    "dw = [-1, 0, 1, 0]\n",
    "dv = [0, -1, 0, 1]\n",
    "\n",
    "while queue:\n",
    "    x, y, size, sec, cnt = queue.popleft()\n",
    "    \n",
    "    if len(fish) > 0:\n",
    "        dst = int(1e9)\n",
    "        for a, b in fish:\n",
    "            if space[a][b] < size:\n",
    "                q = deque([(a, b, 0)])\n",
    "                nx = a\n",
    "                ny = b\n",
    "            \n",
    "                while q:\n",
    "                    w, v, time = q.popleft()\n",
    "                \n",
    "                    if w == x and v == y:\n",
    "                        if dst > time:\n",
    "                            dst = time\n",
    "                            nx = a\n",
    "                            ny = b\n",
    "                        q.clear()\n",
    "                        \n",
    "                    for i in range(4):\n",
    "                        nw = w + dw[i]\n",
    "                        nv = v + dv[i] \n",
    "                    \n",
    "                        if nw < 0 or nw >= n or nw < 0 or nv >= n:\n",
    "                            continue\n",
    "                        \n",
    "                        if visited[nw][nv] == 0 and space[nw][nv] <= size:\n",
    "                            visited[nw][nv] = 1\n",
    "                            q.append((nw, nv, time + 1))\n",
    "                            \n",
    "    elif len(fish) == 0:\n",
    "        break\n",
    "        \n",
    "        \n",
    "    if visited[nx][ny] < 2:\n",
    "        visited[nx][ny] = 2\n",
    "        space[nx][ny] = 9\n",
    "        space[x][y] = 0\n",
    "        cnt += 1\n",
    "            \n",
    "        if cnt == size:\n",
    "            queue.append((nx, ny, size + 1, sec + dst, 0))\n",
    "                \n",
    "        else:\n",
    "            queue.append((nx, ny, size, sec + dst, cnt))\n",
    "            \n",
    "        fish.remove((nx, ny)) \n",
    "    \n",
    "                \n",
    "            \n",
    "            \n",
    "            \n",
    "\n",
    "print(sec)                \n",
    "            \n",
    "            \n",
    "\n"
   ]
  },
  {
   "cell_type": "code",
   "execution_count": null,
   "id": "e08dce33",
   "metadata": {},
   "outputs": [],
   "source": [
    "4                \n",
    "4 3 2 1\n",
    "0 0 0 0\n",
    "0 0 9 0\n",
    "1 2 3 4        \n",
    "\n",
    "6\n",
    "5 4 3 2 3 4\n",
    "4 3 2 3 4 5\n",
    "3 2 9 5 6 6\n",
    "2 1 2 3 4 5\n",
    "3 2 1 6 5 4\n",
    "6 6 6 6 6 6\n",
    "\n",
    "3\n",
    "0 0 0\n",
    "0 0 0\n",
    "0 9 0\n",
    "\n",
    "6 *\n",
    "6 0 6 0 6 1\n",
    "0 0 0 0 0 2\n",
    "2 3 4 5 6 6\n",
    "0 0 0 0 0 2\n",
    "0 2 0 0 0 0\n",
    "3 9 3 0 0 1\n",
    "\n",
    "6 *\n",
    "1 1 1 1 1 1\n",
    "2 2 6 2 2 3\n",
    "2 2 5 2 2 3\n",
    "2 2 2 4 6 3\n",
    "0 0 0 0 0 6\n",
    "0 0 0 0 0 9"
   ]
  },
  {
   "cell_type": "code",
   "execution_count": 138,
   "id": "05815c2c",
   "metadata": {},
   "outputs": [
    {
     "data": {
      "text/plain": [
       "[(0, 2)]"
      ]
     },
     "execution_count": 138,
     "metadata": {},
     "output_type": "execute_result"
    }
   ],
   "source": [
    "fish"
   ]
  },
  {
   "cell_type": "code",
   "execution_count": 137,
   "id": "fb9fa873",
   "metadata": {},
   "outputs": [
    {
     "data": {
      "text/plain": [
       "1"
      ]
     },
     "execution_count": 137,
     "metadata": {},
     "output_type": "execute_result"
    }
   ],
   "source": [
    "nx"
   ]
  },
  {
   "cell_type": "code",
   "execution_count": 102,
   "id": "c19a4268",
   "metadata": {},
   "outputs": [
    {
     "data": {
      "text/plain": [
       "0"
      ]
     },
     "execution_count": 102,
     "metadata": {},
     "output_type": "execute_result"
    }
   ],
   "source": [
    "    if visited[nx][ny] < 2:\n",
    "        if space[nx][ny] < size:\n",
    "            visited[nx][ny] = 2\n",
    "            space[nx][ny] = 9\n",
    "            space[x][y] = 0\n",
    "            cnt += 1\n",
    "            \n",
    "            if cnt == size:\n",
    "                queue.append((nx, ny, size + 1, sec + dst, 0))\n",
    "                \n",
    "            else:\n",
    "                queue.append((nx, ny, size, sec + dst, cnt))\n",
    "                \n",
    "                \n",
    "        elif space[nx][ny] == size:\n",
    "            space[nx][ny] = 9\n",
    "            space[x][y] = 0\n",
    "            visited[nx][ny] = 1\n",
    "            queue.append((nx, ny, size, sec + dst, cnt))\n",
    "            \n",
    "            \n",
    "        elif space[nx][ny] > size:\n",
    "            queue.append((x, y, size, sec, cnt))\n",
    "            "
   ]
  },
  {
   "cell_type": "markdown",
   "id": "ba1262f1",
   "metadata": {},
   "source": [
    "https://www.acmicpc.net/problem/1707"
   ]
  },
  {
   "cell_type": "code",
   "execution_count": 86,
   "id": "57ac63e1",
   "metadata": {},
   "outputs": [
    {
     "name": "stdout",
     "output_type": "stream",
     "text": [
      "1\n",
      "3 2\n",
      "1 3\n",
      "2 3\n",
      "YES\n"
     ]
    }
   ],
   "source": [
    "# 백준 1707\n",
    "from collections import deque\n",
    "\n",
    "k = int(input())\n",
    "\n",
    "for i in range(k):\n",
    "    v, e = map(int, input().split())\n",
    "    \n",
    "    edge = [[] for _ in range(v+1)]\n",
    "    for j in range(e):\n",
    "        a, b = map(int, input().split())\n",
    "        edge[a].append(b)\n",
    "        edge[b].append(a)\n",
    "        \n",
    "    queue = deque([])\n",
    "    for j in range(1, v+1):\n",
    "        queue.append(j)\n",
    "        \n",
    "       \n",
    "    m = set()\n",
    "    n = set()\n",
    "    \n",
    "    while queue:\n",
    "        x = queue.popleft()\n",
    "        \n",
    "        if len(m) == 0 and len(n) == 0:\n",
    "            m.add(x)\n",
    "    \n",
    "        for j in edge[x]:\n",
    "            if x in m and x not in n:\n",
    "                n.add(j)\n",
    "                \n",
    "            if x in n and x not in m:\n",
    "                m.add(j)\n",
    "                          \n",
    "\n",
    "                \n",
    "if len(m & n) > 0:\n",
    "    print('NO')\n",
    "    \n",
    "else:\n",
    "    print('YES')\n",
    "    \n"
   ]
  },
  {
   "cell_type": "code",
   "execution_count": null,
   "id": "d5e09fb9",
   "metadata": {},
   "outputs": [],
   "source": [
    "2\n",
    "3 2\n",
    "1 3\n",
    "2 3\n",
    "4 4\n",
    "1 2\n",
    "2 3\n",
    "3 4\n",
    "4 2"
   ]
  },
  {
   "cell_type": "code",
   "execution_count": 76,
   "id": "b25596e7",
   "metadata": {},
   "outputs": [
    {
     "data": {
      "text/plain": [
       "[[], [2], [1, 3, 4], [2, 4], [3, 2]]"
      ]
     },
     "execution_count": 76,
     "metadata": {},
     "output_type": "execute_result"
    }
   ],
   "source": [
    "edge"
   ]
  },
  {
   "cell_type": "code",
   "execution_count": 87,
   "id": "9a2bc4b6",
   "metadata": {},
   "outputs": [
    {
     "data": {
      "text/plain": [
       "{1, 2}"
      ]
     },
     "execution_count": 87,
     "metadata": {},
     "output_type": "execute_result"
    }
   ],
   "source": [
    "m"
   ]
  },
  {
   "cell_type": "code",
   "execution_count": 88,
   "id": "c58d7b25",
   "metadata": {},
   "outputs": [
    {
     "data": {
      "text/plain": [
       "{3}"
      ]
     },
     "execution_count": 88,
     "metadata": {},
     "output_type": "execute_result"
    }
   ],
   "source": [
    "n"
   ]
  },
  {
   "cell_type": "code",
   "execution_count": null,
   "id": "6600d77d",
   "metadata": {},
   "outputs": [],
   "source": []
  }
 ],
 "metadata": {
  "kernelspec": {
   "display_name": "Python 3",
   "language": "python",
   "name": "python3"
  },
  "language_info": {
   "codemirror_mode": {
    "name": "ipython",
    "version": 3
   },
   "file_extension": ".py",
   "mimetype": "text/x-python",
   "name": "python",
   "nbconvert_exporter": "python",
   "pygments_lexer": "ipython3",
   "version": "3.8.8"
  }
 },
 "nbformat": 4,
 "nbformat_minor": 5
}
