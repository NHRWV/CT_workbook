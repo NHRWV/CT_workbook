{
 "cells": [
  {
   "cell_type": "markdown",
   "id": "85d2be2b",
   "metadata": {},
   "source": [
    "https://www.acmicpc.net/problem/12851"
   ]
  },
  {
   "cell_type": "code",
   "execution_count": 10,
   "id": "ee30ce95",
   "metadata": {},
   "outputs": [
    {
     "name": "stdout",
     "output_type": "stream",
     "text": [
      "2 2\n",
      "0\n",
      "1\n"
     ]
    }
   ],
   "source": [
    "# 백준 12851\n",
    "\n",
    "from collections import deque\n",
    "\n",
    "n, k = map(int, input().split())\n",
    "\n",
    "\n",
    "visited = [-1] * 100001\n",
    "\n",
    "\n",
    "count = 0\n",
    "queue = deque([n])\n",
    "visited[n] = 0\n",
    "while queue:\n",
    "    \n",
    "    x = queue.popleft()\n",
    "    \n",
    "    if x == k:\n",
    "        count += 1\n",
    "    \n",
    "    dx = [x - 1, x + 1, 2 * x]\n",
    "    for i in range(3):\n",
    "        nx = dx[i]\n",
    "        \n",
    "        if nx < 0 or nx >= 100001:\n",
    "            continue\n",
    "                \n",
    "        if visited[nx] == -1 or visited[nx] >= visited[x] + 1:\n",
    "            visited[nx] = visited[x] + 1\n",
    "            queue.append(nx)\n",
    "            \n",
    "\n",
    "print(visited[k])\n",
    "print(count)"
   ]
  },
  {
   "cell_type": "markdown",
   "id": "8e8d48e6",
   "metadata": {},
   "source": [
    "https://www.acmicpc.net/problem/16236"
   ]
  },
  {
   "cell_type": "code",
   "execution_count": 12,
   "id": "cd76f06d",
   "metadata": {},
   "outputs": [
    {
     "name": "stdout",
     "output_type": "stream",
     "text": [
      "4\n",
      "4 3 2 1\n",
      "0 0 0 0\n",
      "0 0 9 0\n",
      "1 2 3 4\n"
     ]
    },
    {
     "ename": "KeyboardInterrupt",
     "evalue": "",
     "output_type": "error",
     "traceback": [
      "\u001b[1;31m---------------------------------------------------------------------------\u001b[0m",
      "\u001b[1;31mKeyboardInterrupt\u001b[0m                         Traceback (most recent call last)",
      "\u001b[1;32m<ipython-input-12-3e66ddf9b073>\u001b[0m in \u001b[0;36m<module>\u001b[1;34m\u001b[0m\n\u001b[0;32m     51\u001b[0m                             \u001b[1;32mcontinue\u001b[0m\u001b[1;33m\u001b[0m\u001b[1;33m\u001b[0m\u001b[0m\n\u001b[0;32m     52\u001b[0m \u001b[1;33m\u001b[0m\u001b[0m\n\u001b[1;32m---> 53\u001b[1;33m                         \u001b[1;32mif\u001b[0m \u001b[0mvisited\u001b[0m\u001b[1;33m[\u001b[0m\u001b[0mnw\u001b[0m\u001b[1;33m]\u001b[0m\u001b[1;33m[\u001b[0m\u001b[0mnv\u001b[0m\u001b[1;33m]\u001b[0m \u001b[1;33m==\u001b[0m \u001b[1;36m0\u001b[0m \u001b[1;32mand\u001b[0m \u001b[0mspace\u001b[0m\u001b[1;33m[\u001b[0m\u001b[0mnw\u001b[0m\u001b[1;33m]\u001b[0m\u001b[1;33m[\u001b[0m\u001b[0mnv\u001b[0m\u001b[1;33m]\u001b[0m \u001b[1;33m<=\u001b[0m \u001b[0msize\u001b[0m \u001b[1;32mor\u001b[0m \u001b[0mspace\u001b[0m\u001b[1;33m[\u001b[0m\u001b[0mnw\u001b[0m\u001b[1;33m]\u001b[0m\u001b[1;33m[\u001b[0m\u001b[0mnv\u001b[0m\u001b[1;33m]\u001b[0m \u001b[1;33m==\u001b[0m \u001b[1;36m9\u001b[0m\u001b[1;33m:\u001b[0m\u001b[1;33m\u001b[0m\u001b[1;33m\u001b[0m\u001b[0m\n\u001b[0m\u001b[0;32m     54\u001b[0m                             \u001b[0mvisited\u001b[0m\u001b[1;33m[\u001b[0m\u001b[0mnw\u001b[0m\u001b[1;33m]\u001b[0m\u001b[1;33m[\u001b[0m\u001b[0mnv\u001b[0m\u001b[1;33m]\u001b[0m \u001b[1;33m=\u001b[0m \u001b[1;36m1\u001b[0m\u001b[1;33m\u001b[0m\u001b[1;33m\u001b[0m\u001b[0m\n\u001b[0;32m     55\u001b[0m                             \u001b[0mq\u001b[0m\u001b[1;33m.\u001b[0m\u001b[0mappend\u001b[0m\u001b[1;33m(\u001b[0m\u001b[1;33m(\u001b[0m\u001b[0mnw\u001b[0m\u001b[1;33m,\u001b[0m \u001b[0mnv\u001b[0m\u001b[1;33m,\u001b[0m \u001b[0mtime\u001b[0m \u001b[1;33m+\u001b[0m \u001b[1;36m1\u001b[0m\u001b[1;33m)\u001b[0m\u001b[1;33m)\u001b[0m\u001b[1;33m\u001b[0m\u001b[1;33m\u001b[0m\u001b[0m\n",
      "\u001b[1;31mKeyboardInterrupt\u001b[0m: "
     ]
    }
   ],
   "source": [
    "# 백준 16236\n",
    "\n",
    "from collections import deque\n",
    "\n",
    "n = int(input())\n",
    "\n",
    "space = []\n",
    "fish = []\n",
    "for i in range(n):\n",
    "    a = list(map(int, input().split()))\n",
    "    space.append(a)\n",
    "    for j in range(n):\n",
    "        if a[j] == 9:\n",
    "            \n",
    "            x, y = i, j\n",
    "            \n",
    "        \n",
    "        if 0 < a[j] < 9:\n",
    "            fish.append((i, j))\n",
    "            \n",
    "\n",
    "dw = [-1, 0, 1, 0]\n",
    "dv = [0, -1, 0, 1]\n",
    "size, sec, cnt = 2, 0, 0\n",
    "while True:\n",
    "    \n",
    "    \n",
    "    if len(fish) > 0:\n",
    "        dst = int(1e9)\n",
    "        for a, b in fish:\n",
    "            visited = [[0] * n for _ in range(n)]\n",
    "            if space[a][b] < size:\n",
    "                q = deque([(a, b, 0)])\n",
    "               \n",
    "            \n",
    "                while q:\n",
    "                    w, v, time = q.popleft()\n",
    "                \n",
    "                    if w == x and v == y:\n",
    "                        if dst > time:\n",
    "                            dst = time\n",
    "                            nx = a\n",
    "                            ny = b\n",
    "                        q.clear()\n",
    "                        \n",
    "                    for i in range(4):\n",
    "                        nw = w + dw[i]\n",
    "                        nv = v + dv[i] \n",
    "                    \n",
    "                        if nw < 0 or nw >= n or nv < 0 or nv >= n:\n",
    "                            continue\n",
    "                        \n",
    "                        if visited[nw][nv] == 0 and space[nw][nv] <= size or space[nw][nv] == 9:\n",
    "                            visited[nw][nv] = 1\n",
    "                            q.append((nw, nv, time + 1))\n",
    "                            \n",
    "    elif len(fish) == 0:\n",
    "        break\n",
    "        \n",
    "        \n",
    "    \n",
    "    space[nx][ny] = 9\n",
    "    space[x][y] = 0\n",
    "    cnt += 1\n",
    "            \n",
    "    if cnt == size:\n",
    "        x, y, size, sec, cnt = nx, ny, size + 1, sec + dst, 0\n",
    "                \n",
    "    else:\n",
    "        x, y, size, sec, cnt = nx, ny, size, sec + dst, cnt\n",
    "        \n",
    "        \n",
    "    count = 0\n",
    "    for i in range(n):\n",
    "        for j in range(n):\n",
    "            if space[i][j] < size:\n",
    "                count += 1\n",
    "                \n",
    "    if count == 0:\n",
    "        break\n",
    "            \n",
    "        \n",
    "    \n",
    "print(sec)                \n",
    "            \n",
    "            \n",
    "\n"
   ]
  },
  {
   "cell_type": "code",
   "execution_count": null,
   "id": "4d9a4672",
   "metadata": {},
   "outputs": [],
   "source": [
    "4                \n",
    "4 3 2 1\n",
    "0 0 0 0\n",
    "0 0 9 0\n",
    "1 2 3 4        \n",
    "\n",
    "6\n",
    "5 4 3 2 3 4\n",
    "4 3 2 3 4 5\n",
    "3 2 9 5 6 6\n",
    "2 1 2 3 4 5\n",
    "3 2 1 6 5 4\n",
    "6 6 6 6 6 6\n",
    "\n",
    "3\n",
    "0 0 0\n",
    "0 0 0\n",
    "0 9 0\n",
    "\n",
    "6 *\n",
    "6 0 6 0 6 1\n",
    "0 0 0 0 0 2\n",
    "2 3 4 5 6 6\n",
    "0 0 0 0 0 2\n",
    "0 2 0 0 0 0\n",
    "3 9 3 0 0 1\n",
    "\n",
    "6 *\n",
    "1 1 1 1 1 1\n",
    "2 2 6 2 2 3\n",
    "2 2 5 2 2 3\n",
    "2 2 2 4 6 3\n",
    "0 0 0 0 0 6\n",
    "0 0 0 0 0 9"
   ]
  },
  {
   "cell_type": "code",
   "execution_count": 8,
   "id": "f680d7f4",
   "metadata": {},
   "outputs": [
    {
     "data": {
      "text/plain": [
       "[(0, 0), (0, 1), (3, 2), (3, 3)]"
      ]
     },
     "execution_count": 8,
     "metadata": {},
     "output_type": "execute_result"
    }
   ],
   "source": [
    "fish"
   ]
  },
  {
   "cell_type": "code",
   "execution_count": 10,
   "id": "5beda971",
   "metadata": {},
   "outputs": [
    {
     "data": {
      "text/plain": [
       "2"
      ]
     },
     "execution_count": 10,
     "metadata": {},
     "output_type": "execute_result"
    }
   ],
   "source": [
    "ny"
   ]
  },
  {
   "cell_type": "code",
   "execution_count": 102,
   "id": "d542f568",
   "metadata": {},
   "outputs": [
    {
     "data": {
      "text/plain": [
       "0"
      ]
     },
     "execution_count": 102,
     "metadata": {},
     "output_type": "execute_result"
    }
   ],
   "source": [
    "fish.remove((nx, ny)) "
   ]
  },
  {
   "cell_type": "markdown",
   "id": "9e2d16c1",
   "metadata": {},
   "source": [
    "https://www.acmicpc.net/problem/1707"
   ]
  },
  {
   "cell_type": "code",
   "execution_count": null,
   "id": "c7f76cfc",
   "metadata": {},
   "outputs": [],
   "source": [
    "# 백준 1707\n",
    "from collections import deque\n",
    "\n",
    "def bfs(start):\n",
    "    node[start] = 1\n",
    "    queue = deque([start])\n",
    "    \n",
    "    while queue:\n",
    "        a = queue.popleft()\n",
    "        \n",
    "        for i in edge[a]:\n",
    "            if node[i] == 0:\n",
    "                node[i] = node[a] * 10\n",
    "                queue.append(i)\n",
    "                \n",
    "            else:\n",
    "                if node[i] == node[a]:\n",
    "                    return False\n",
    "                \n",
    "    return True\n",
    "\n",
    "\n",
    "\n",
    "k = int(input())\n",
    "\n",
    "for i in range(k):\n",
    "    v, e = map(int, input().split())\n",
    "    \n",
    "    edge = [[] for _ in range(v+1)]\n",
    "    for j in range(e):\n",
    "        a, b = map(int, input().split())\n",
    "        edge[a].append(b)\n",
    "        edge[b].append(a)\n",
    "        \n",
    "    node = [0] * (v+1)\n",
    "    check = 1\n",
    "    for j in range(1, v+1):\n",
    "        if node[j] == 0:\n",
    "            if not bfs(j):\n",
    "                check = 0\n",
    "                break\n",
    "                \n",
    "                \n",
    "    if check == 1:\n",
    "        print('YES')\n",
    "    \n",
    "    else:\n",
    "        print('NO')\n"
   ]
  },
  {
   "cell_type": "markdown",
   "id": "61839b73",
   "metadata": {},
   "source": [
    "https://www.acmicpc.net/problem/1043"
   ]
  },
  {
   "cell_type": "code",
   "execution_count": null,
   "id": "916cf2ba",
   "metadata": {},
   "outputs": [],
   "source": [
    "# 백준 1043\n",
    "\n",
    "from collections import deque\n",
    "\n",
    "n, m = map(int, input().split())\n",
    "bird = list(map(int, input().split()))[1:]\n",
    "\n",
    "party = []\n",
    "for i in range(m):\n",
    "    a = list(map(int, input().split()))[1:]\n",
    "    party.append(a)\n",
    "    \n",
    "\n",
    "check = [1] * m\n",
    "rat = [False] * (n+1)\n",
    "\n",
    "queue = deque()\n",
    "for i in bird:\n",
    "    queue.append(i)\n",
    "    rat[i] = True\n",
    "    \n",
    "while queue:\n",
    "    x = queue.popleft()\n",
    "    \n",
    "    for i in range(len(party)):\n",
    "        if x in party[i]:\n",
    "            for j in party[i]:\n",
    "                if not rat[j]:\n",
    "                    queue.append(j)\n",
    "                    rat[j] = True\n",
    "                    \n",
    "            check[i] = 0\n",
    "        \n",
    "\n",
    "        \n",
    "print(check.count(1))"
   ]
  },
  {
   "cell_type": "markdown",
   "id": "9a35accf",
   "metadata": {},
   "source": [
    "https://www.acmicpc.net/problem/14442"
   ]
  },
  {
   "cell_type": "code",
   "execution_count": null,
   "id": "49974ddf",
   "metadata": {},
   "outputs": [],
   "source": [
    "# 백준 14442\n",
    "# 수많은 도전 끝에 엄청난 사실을 알아냈다. 탐색 순서에 따라 채점에 걸리는 시간이 달라진다. dx, dy.\n",
    "\n",
    "from sys import stdin \n",
    "from collections import deque\n",
    "#input = stdin.readline\n",
    "\n",
    "n, m, k = map(int, input().split())\n",
    "board = [list(map(int, input().rstrip())) for _ in range(n)]\n",
    "visited = [[[0] * (k+1) for _ in range(m)] for _ in range(n)]\n",
    "\n",
    "dx = [0, 0, -1, 1]\n",
    "dy = [-1, 1, 0, 0]\n",
    "\n",
    "def plz():\n",
    "    visited[0][0] = [1] * (k+1)\n",
    "    queue = deque([(0, 0, 0)])\n",
    "    \n",
    "    while queue:\n",
    "        x, y, c = queue.popleft()\n",
    "        \n",
    "        if x == n-1 and y == m-1:\n",
    "            return visited[n-1][m-1][c]\n",
    "        \n",
    "        \n",
    "        for i in range(4):\n",
    "            nx = x + dx[i]\n",
    "            ny = y + dy[i]\n",
    "                                       \n",
    "            if 0 <= nx < n and 0 <= ny < m and not visited[nx][ny][c]:\n",
    "                if board[nx][ny] == 0:\n",
    "                    visited[nx][ny][c] = visited[x][y][c] + 1\n",
    "                    queue.append((nx, ny, c))\n",
    "                \n",
    "                elif c < k:\n",
    "                    visited[nx][ny][c+1] = visited[x][y][c] + 1\n",
    "                    queue.append((nx, ny, c + 1))\n",
    "                \n",
    "    return -1\n",
    "\n",
    "\n",
    "        \n",
    "\n",
    "print(plz())\n",
    "\n"
   ]
  },
  {
   "cell_type": "markdown",
   "id": "97376521",
   "metadata": {},
   "source": [
    "https://www.acmicpc.net/problem/16933"
   ]
  },
  {
   "cell_type": "code",
   "execution_count": null,
   "id": "24438b94",
   "metadata": {},
   "outputs": [],
   "source": [
    "# 백준 16933\n",
    "### 밤에는 움직일 수 없을테니 그 자리에 머무른다.\n",
    "\n",
    "from sys import stdin \n",
    "from collections import deque\n",
    "#input = stdin.readline\n",
    "\n",
    "n, m, k = map(int, input().split())\n",
    "board = [list(map(int, input().rstrip())) for _ in range(n)]\n",
    "visited = [[[0] * (k+1) for _ in range(m)] for _ in range(n)]\n",
    "\n",
    "dx = [0, 0, -1, 1]\n",
    "dy = [-1, 1, 0, 0]\n",
    "\n",
    "def plz():\n",
    "    visited[0][0] = [1] * (k+1)\n",
    "    queue = deque([(0, 0, 0, 1)])\n",
    "    \n",
    "    while queue:\n",
    "        x, y, c, day = queue.popleft()\n",
    "        \n",
    "        if x == n-1 and y == m-1:\n",
    "            return day\n",
    "        \n",
    "        \n",
    "        for i in range(4):\n",
    "            nx = x + dx[i]\n",
    "            ny = y + dy[i]\n",
    "                                       \n",
    "            if 0 <= nx < n and 0 <= ny < m and not visited[nx][ny][c]:\n",
    "                if board[nx][ny] == 0:\n",
    "                    visited[nx][ny][c] = visited[x][y][c] + 1\n",
    "                    queue.append((nx, ny, c, day + 1))\n",
    "                \n",
    "                elif c < k and not visited[nx][ny][c+1]:\n",
    "                    if day % 2 == 1:\n",
    "                        visited[nx][ny][c+1] = visited[x][y][c] + 1\n",
    "                        queue.append((nx, ny, c + 1, day + 1))\n",
    "                    else:\n",
    "                        queue.append((x, y, c, day + 1))\n",
    "                \n",
    "    return -1\n",
    "\n",
    "\n",
    "        \n",
    "\n",
    "print(plz())\n",
    "\n",
    "\n",
    "\n"
   ]
  },
  {
   "cell_type": "markdown",
   "id": "8e06da27",
   "metadata": {},
   "source": [
    "https://www.acmicpc.net/problem/16946"
   ]
  },
  {
   "cell_type": "code",
   "execution_count": null,
   "id": "f7351126",
   "metadata": {},
   "outputs": [],
   "source": [
    "# 백준 16946\n",
    "# 시간초과 난다.\n",
    "\n",
    "from sys import stdin \n",
    "from collections import deque\n",
    "#input = stdin.readline\n",
    "\n",
    "\n",
    "n, m = map(int, input().split())\n",
    "board = []\n",
    "walls = []\n",
    "for i in range(n):\n",
    "    a = list(map(int, input().rstrip()))\n",
    "    board.append(a)\n",
    "    for j in range(m):\n",
    "        if a[j] == 1:\n",
    "            walls.append((i, j))\n",
    "            \n",
    "            \n",
    "dx = [0, 0, -1, 1]\n",
    "dy = [-1, 1, 0, 0]\n",
    "\n",
    "for a, b in walls:\n",
    "    queue = deque([(a, b)])\n",
    "    visited = [[0] * m for _ in range(n)]\n",
    "    visited[a][b] = 1\n",
    "    cnt = 1\n",
    "    \n",
    "    while queue:\n",
    "        x, y = queue.popleft()\n",
    "        \n",
    "        for i in range(4):\n",
    "            nx = x + dx[i]\n",
    "            ny = y + dy[i]\n",
    "            \n",
    "            if 0 <= nx < n and 0 <= ny < m and not visited[nx][ny]:\n",
    "                if board[nx][ny] == 0:\n",
    "                    visited[nx][ny] = 1\n",
    "                    cnt += 1\n",
    "                    queue.append((nx, ny))\n",
    "                    \n",
    "    board[a][b] = cnt % 10\n",
    "    \n",
    "    \n",
    "for i in board:\n",
    "    for j in i:\n",
    "        print(j, end = '')\n",
    "    print()"
   ]
  },
  {
   "cell_type": "code",
   "execution_count": null,
   "id": "d3180443",
   "metadata": {},
   "outputs": [],
   "source": [
    "# 다시.\n",
    "# 2021 / 07 / 23. 플레5 달성 & 클래스 5 달성.\n",
    "\n",
    "from sys import stdin \n",
    "from collections import deque\n",
    "from copy import deepcopy\n",
    "#input = stdin.readline\n",
    "\n",
    "\n",
    "n, m = map(int, input().rstrip().split())\n",
    "board = []\n",
    "walls = []\n",
    "empty = []\n",
    "for i in range(n):\n",
    "    a = list(map(int, input().rstrip()))\n",
    "    board.append(a)\n",
    "    for j in range(m):\n",
    "        if a[j] == 1:\n",
    "            walls.append((i, j))\n",
    "            \n",
    "        elif a[j] == 0:\n",
    "            empty.append((i, j))\n",
    "            \n",
    "\n",
    "copy = deepcopy(board)            \n",
    "            \n",
    "dx = [0, 0, -1, 1]\n",
    "dy = [-1, 1, 0, 0]\n",
    "\n",
    "visited = [[0] * m for _ in range(n)]\n",
    "group = 0\n",
    "for a, b in empty:\n",
    "    if visited[a][b]:\n",
    "        continue\n",
    "    \n",
    "    queue = deque([(a, b)])\n",
    "    visited[a][b] = 1\n",
    "    temp = [(a, b)]\n",
    "    \n",
    "    while queue:\n",
    "        x, y = queue.popleft()\n",
    "        for i in range(4):\n",
    "            nx = x + dx[i]\n",
    "            ny = y + dy[i]\n",
    "            \n",
    "            if 0 <= nx < n and 0 <= ny < m and not visited[nx][ny]:\n",
    "                if board[nx][ny] == 0:\n",
    "                    visited[nx][ny] = 1\n",
    "                    temp.append((nx, ny))\n",
    "                    queue.append((nx, ny))\n",
    "    \n",
    "                    \n",
    "    for aa, bb in temp:\n",
    "        board[aa][bb] = (len(temp), group)\n",
    "        \n",
    "    group += 1\n",
    "            \n",
    "\n",
    "\n",
    "\n",
    "    \n",
    "for a, b in walls:\n",
    "    group_check = set()\n",
    "    count = 1\n",
    "    \n",
    "    \n",
    "    for i in range(4):\n",
    "        na = a + dx[i]\n",
    "        nb = b + dy[i]\n",
    "            \n",
    "        if 0 <= na < n and 0 <= nb < m:\n",
    "            if board[na][nb] != 1:\n",
    "                if board[na][nb] not in group_check:\n",
    "                    count += board[na][nb][0]\n",
    "                    group_check.add(board[na][nb])\n",
    "                    \n",
    "    \n",
    "    copy[a][b] = count % 10\n",
    "    \n",
    "\n",
    "\n",
    "    \n",
    "for i in copy:\n",
    "    for j in i:\n",
    "        print(j, end = '')\n",
    "    print()    \n",
    "\n"
   ]
  },
  {
   "cell_type": "markdown",
   "id": "99885784",
   "metadata": {},
   "source": [
    "https://www.acmicpc.net/problem/9466"
   ]
  },
  {
   "cell_type": "code",
   "execution_count": null,
   "id": "8f38ba3b",
   "metadata": {},
   "outputs": [],
   "source": [
    "# 백준 9466\n",
    "\n",
    "import sys\n",
    "#sys.setrecursionlimit(10000000)\n",
    "\n",
    "def sol(i):\n",
    "    visited[i] = 1\n",
    "    cycle.append(i)\n",
    "    \n",
    "    goal = chose[i]\n",
    "    global team\n",
    "    if visited[goal] == 1:\n",
    "        if goal in cycle:\n",
    "            team += cycle[cycle.index(goal):]\n",
    "        return\n",
    "    \n",
    "    else:\n",
    "        sol(goal)\n",
    "    \n",
    "    \n",
    "    \n",
    "\n",
    "t = int(input())\n",
    "for i in range(t):\n",
    "    n = int(input())\n",
    "    chose = [0] + list(map(int, input().split()))\n",
    "    \n",
    "    team = []\n",
    "    visited = [0] * (n+1)\n",
    "    \n",
    "    for i in range(1, n+1):\n",
    "        cycle = []\n",
    "        if not visited[i]:\n",
    "            sol(i)\n",
    "    \n",
    "    \n",
    "    print(n - len(team))\n",
    "            "
   ]
  },
  {
   "cell_type": "markdown",
   "id": "03351cb0",
   "metadata": {},
   "source": [
    "https://www.acmicpc.net/problem/4963\n"
   ]
  },
  {
   "cell_type": "code",
   "execution_count": null,
   "id": "f5544d8f",
   "metadata": {},
   "outputs": [],
   "source": [
    "# 백준 4963 섬의 개수\n",
    "\n",
    "import sys\n",
    "#sys.setrecursionlimit(10000000)\n",
    "\n",
    "def dfs(x, y):\n",
    "    if x < 0 or x >= h or y < 0 or y >= w:\n",
    "        return False\n",
    "    \n",
    "    if island[x][y] == 1:\n",
    "        island[x][y] = 2\n",
    "        \n",
    "        dfs(x-1, y)\n",
    "        dfs(x+1, y)\n",
    "        dfs(x, y-1)\n",
    "        dfs(x, y+1)\n",
    "        \n",
    "        dfs(x-1, y-1)\n",
    "        dfs(x-1, y+1)\n",
    "        dfs(x+1, y-1)\n",
    "        dfs(x+1, y+1)\n",
    "        return True\n",
    "    \n",
    "    return False\n",
    "\n",
    "\n",
    "while True:\n",
    "    w, h = map(int, input().split())\n",
    "    if w == 0 and h == 0:\n",
    "        break\n",
    "        \n",
    "    island = []\n",
    "    for i in range(h):\n",
    "        island.append(list(map(int, input().split())))\n",
    "        \n",
    "        \n",
    "    count = 0    \n",
    "    for i in range(h):\n",
    "        for j in range(w):\n",
    "            if dfs(i, j):\n",
    "                count += 1\n",
    "                \n",
    "    print(count)"
   ]
  },
  {
   "cell_type": "markdown",
   "id": "b8e4a2a2",
   "metadata": {},
   "source": [
    "https://www.acmicpc.net/problem/1325"
   ]
  },
  {
   "cell_type": "code",
   "execution_count": null,
   "id": "5492e3f7",
   "metadata": {},
   "outputs": [],
   "source": [
    "# 백준 1325 효율적인 해킹\n",
    "\n",
    "from collections import deque\n",
    "\n",
    "n, m = map(int, input().split())\n",
    "\n",
    "net = [[] for _ in range(n+1)]\n",
    "for i in range(m):\n",
    "    a, b = map(int, input().split())\n",
    "    net[b].append(a)\n",
    "    \n",
    "\n",
    "counter = [0] * (n+1)\n",
    "for i in range(1, n+1):\n",
    "    queue = deque([i])\n",
    "    visited = [0] * (n+1)\n",
    "    visited[i] = 1\n",
    "    count = 0\n",
    "    \n",
    "    while queue:\n",
    "        x = queue.popleft()\n",
    "        \n",
    "        for j in net[x]:\n",
    "            if not visited[j]:\n",
    "                visited[j] = 1\n",
    "                count += 1\n",
    "                queue.append(j)\n",
    "                \n",
    "    counter[i] += count\n",
    "    \n",
    "\n",
    "target = max(counter)\n",
    "for i in range(1, n+1):\n",
    "    if counter[i] == target:\n",
    "        print(i, end = ' ')"
   ]
  },
  {
   "cell_type": "markdown",
   "id": "2df80a19",
   "metadata": {},
   "source": [
    "https://www.acmicpc.net/problem/2589"
   ]
  },
  {
   "cell_type": "code",
   "execution_count": null,
   "id": "27df6585",
   "metadata": {},
   "outputs": [],
   "source": [
    "# 백준 2589 보물섬\n",
    "# 시간 초과..\n",
    "from collections import deque\n",
    "\n",
    "\n",
    "n, m = map(int, input().split())\n",
    "precious = []\n",
    "land = []\n",
    "for i in range(n):\n",
    "    a = list(map(str, input()))\n",
    "    precious.append(a)\n",
    "    for j in range(m):\n",
    "        if a[j] == 'L':\n",
    "            land.append((i, j))\n",
    "\n",
    "\n",
    "dx = [-1, 1, 0, 0]\n",
    "dy = [0, 0, -1, 1]\n",
    "            \n",
    "answer = 0\n",
    "for i in range(len(land)):\n",
    "    s1, s2 = land[i]\n",
    "    for j in range(i+1, len(land)):\n",
    "        copy = [[-1] * m for _ in range(n)]\n",
    "        d1, d2 = land[j]\n",
    "        \n",
    "        queue = deque([(s1, s2)])\n",
    "        copy[s1][s2] = 0\n",
    "        while queue:\n",
    "            x, y = queue.popleft()\n",
    "            \n",
    "            if x == d1 and y == d2:\n",
    "                count = copy[d1][d2]\n",
    "                queue.clear()\n",
    "                \n",
    "            for k in range(4):\n",
    "                nx = x + dx[k]\n",
    "                ny = y + dy[k]\n",
    "                \n",
    "                if nx < 0 or nx >= n or ny < 0 or ny >= m:\n",
    "                    continue\n",
    "                    \n",
    "                if precious[nx][ny] == 'L' and copy[nx][ny] == -1:\n",
    "                    copy[nx][ny] = copy[x][y] + 1\n",
    "                    queue.append((nx, ny))\n",
    "                  \n",
    "                \n",
    "        answer = max(answer, count)  \n",
    "    \n",
    "    \n",
    "print(answer)"
   ]
  },
  {
   "cell_type": "code",
   "execution_count": 16,
   "id": "debebf90",
   "metadata": {},
   "outputs": [
    {
     "name": "stdout",
     "output_type": "stream",
     "text": [
      "5 7\n",
      "WLLWWWL\n",
      "LLLWLLL\n",
      "LWLWLWW\n",
      "LWLWLLL\n",
      "WLLWLWW\n",
      "8\n"
     ]
    }
   ],
   "source": [
    "from collections import deque\n",
    "import sys\n",
    "#input = sys.stdin.readline\n",
    "\n",
    "dx = [-1, 1, 0, 0]\n",
    "dy = [0, 0, -1, 1]\n",
    "        \n",
    "def bfs(x, y):\n",
    "    queue = deque([(x, y)])\n",
    "    maxi = 0\n",
    "    while queue:\n",
    "        x, y = queue.popleft()\n",
    "        \n",
    "        for i in range(4):\n",
    "            nx = x + dx[i]\n",
    "            ny = y + dy[i]\n",
    "            \n",
    "            if nx < 0 or nx >= n or ny < 0 or ny >= m:\n",
    "                continue\n",
    "                \n",
    "            if not visited[nx][ny] and precious[nx][ny] != 'W':\n",
    "                visited[nx][ny] = 1\n",
    "                precious[nx][ny] = precious[x][y] + 1\n",
    "                maxi = max(maxi, precious[nx][ny])\n",
    "                queue.append((nx, ny))\n",
    "                \n",
    "                \n",
    "    return maxi\n",
    "                \n",
    "\n",
    "n, m = map(int, input().split())\n",
    "\n",
    "precious = []\n",
    "for i in range(n):\n",
    "    precious.append(list(map(str, input().upper().rstrip())))\n",
    "\n",
    "    \n",
    "    \n",
    "answer = 0\n",
    "for i in range(n):\n",
    "    for j in range(m):\n",
    "        if precious[i][j] != 'W':\n",
    "            visited = [[0] * m for _ in range(n)]\n",
    "            precious[i][j] = 0\n",
    "            visited[i][j] = 1\n",
    "            \n",
    "            answer = max(answer, bfs(i, j))\n",
    "            \n",
    "\n",
    "print(answer)"
   ]
  },
  {
   "cell_type": "code",
   "execution_count": null,
   "id": "bae1f2b1",
   "metadata": {},
   "outputs": [],
   "source": [
    "5 7\n",
    "WLLWWWL\n",
    "LLLWLLL\n",
    "LWLWLWW\n",
    "LWLWLLL\n",
    "WLLWLWW"
   ]
  },
  {
   "cell_type": "code",
   "execution_count": 9,
   "id": "e96ea3c3",
   "metadata": {},
   "outputs": [
    {
     "data": {
      "text/plain": [
       "[(0, 1),\n",
       " (0, 2),\n",
       " (0, 6),\n",
       " (1, 0),\n",
       " (1, 1),\n",
       " (1, 2),\n",
       " (1, 4),\n",
       " (1, 5),\n",
       " (1, 6),\n",
       " (2, 0),\n",
       " (2, 2),\n",
       " (2, 4),\n",
       " (3, 0),\n",
       " (3, 2),\n",
       " (3, 4),\n",
       " (3, 5),\n",
       " (3, 6),\n",
       " (4, 1),\n",
       " (4, 2),\n",
       " (4, 4)]"
      ]
     },
     "execution_count": 9,
     "metadata": {},
     "output_type": "execute_result"
    }
   ],
   "source": [
    "land"
   ]
  },
  {
   "cell_type": "code",
   "execution_count": 4,
   "id": "73728d72",
   "metadata": {},
   "outputs": [
    {
     "data": {
      "text/plain": [
       "4"
      ]
     },
     "execution_count": 4,
     "metadata": {},
     "output_type": "execute_result"
    }
   ],
   "source": [
    "s1"
   ]
  },
  {
   "cell_type": "code",
   "execution_count": 5,
   "id": "260feee7",
   "metadata": {},
   "outputs": [
    {
     "data": {
      "text/plain": [
       "4"
      ]
     },
     "execution_count": 5,
     "metadata": {},
     "output_type": "execute_result"
    }
   ],
   "source": [
    "s2"
   ]
  },
  {
   "cell_type": "code",
   "execution_count": 13,
   "id": "8f947a77",
   "metadata": {},
   "outputs": [
    {
     "data": {
      "text/plain": [
       "2"
      ]
     },
     "execution_count": 13,
     "metadata": {},
     "output_type": "execute_result"
    }
   ],
   "source": [
    "count"
   ]
  },
  {
   "cell_type": "code",
   "execution_count": 11,
   "id": "95094dff",
   "metadata": {},
   "outputs": [
    {
     "data": {
      "text/plain": [
       "[[0, 0, 0, 0, 0, 0, 0],\n",
       " [0, 0, 0, 0, 3, 0, 0],\n",
       " [0, 0, 0, 0, 2, 0, 0],\n",
       " [0, 0, 0, 0, 1, 2, 0],\n",
       " [0, 0, 0, 0, 2, 0, 0]]"
      ]
     },
     "execution_count": 11,
     "metadata": {},
     "output_type": "execute_result"
    }
   ],
   "source": [
    "copy"
   ]
  },
  {
   "cell_type": "code",
   "execution_count": null,
   "id": "975fcfe3",
   "metadata": {},
   "outputs": [],
   "source": []
  }
 ],
 "metadata": {
  "kernelspec": {
   "display_name": "Python 3",
   "language": "python",
   "name": "python3"
  },
  "language_info": {
   "codemirror_mode": {
    "name": "ipython",
    "version": 3
   },
   "file_extension": ".py",
   "mimetype": "text/x-python",
   "name": "python",
   "nbconvert_exporter": "python",
   "pygments_lexer": "ipython3",
   "version": "3.8.8"
  }
 },
 "nbformat": 4,
 "nbformat_minor": 5
}
