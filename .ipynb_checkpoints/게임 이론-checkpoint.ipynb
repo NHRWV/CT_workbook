{
 "cells": [
  {
   "cell_type": "markdown",
   "id": "37c780f9",
   "metadata": {},
   "source": [
    "https://www.acmicpc.net/problem/11868"
   ]
  },
  {
   "cell_type": "code",
   "execution_count": null,
   "id": "489d843e",
   "metadata": {},
   "outputs": [],
   "source": [
    "# 님 게임 2\n",
    "\n",
    "int(input())\n",
    "\n",
    "check = 0\n",
    "for i in map(int, input().split()):\n",
    "    check ^= i\n",
    "    \n",
    "print(\"koosaga\" if check else \"cubelover\")\n"
   ]
  },
  {
   "cell_type": "markdown",
   "id": "e447aad6",
   "metadata": {},
   "source": [
    "https://www.acmicpc.net/problem/11694"
   ]
  },
  {
   "cell_type": "code",
   "execution_count": null,
   "id": "5d56c5a6",
   "metadata": {},
   "outputs": [],
   "source": [
    "# 님 게임\n",
    "\n",
    "int(input())\n",
    "\n",
    "count = 0\n",
    "hab = 0\n",
    "\n",
    "for i in map(int, input().split()):\n",
    "    if i > 1:\n",
    "        count += 1\n",
    "        \n",
    "    hab ^= i\n",
    "    \n",
    "# # 1개짜리 더미로만 이루어져 있다면 count = 0. 이때 더미 개수가 짝수면 선공 승, 홀수면 후공 승.    \n",
    "# XOR은 입력이 서로 다르면 1을 출력하고, 같으면 0을 출력한다. 셋 이상인 경우에는 입력의 1이 홀수 개일 때 1을 출력한다.\n",
    "\n",
    "# (2개 이상의 돌을 가진 더미가 존재하고 1개짜리 더미의 개수가 짝수라면 1개짜리 더미가 아닌 것을 돌이 1개인 더미로 만든다. 그러면 1개짜리 더미가 홀수가 되는데, 이때 hab이 0이면 후공 승.)\n",
    "# 또는 (1개짜리 더미로만 이루어져 있고 더미 개수가 홀수.)\n",
    "if (count and not hab) or (not count and hab == 1):\n",
    "    print(\"cubelover\")\n",
    "else:\n",
    "    print(\"koosaga\")\n",
    "    "
   ]
  },
  {
   "cell_type": "markdown",
   "id": "e349e5c3",
   "metadata": {},
   "source": [
    "https://www.acmicpc.net/problem/16895"
   ]
  },
  {
   "cell_type": "code",
   "execution_count": 12,
   "id": "b2b838e6",
   "metadata": {},
   "outputs": [
    {
     "data": {
      "text/plain": [
       "2"
      ]
     },
     "execution_count": 12,
     "metadata": {},
     "output_type": "execute_result"
    }
   ],
   "source": [
    "# 님 게임 3\n",
    "\n",
    "int(input())\n",
    "\n"
   ]
  },
  {
   "cell_type": "code",
   "execution_count": 34,
   "id": "9074a30b",
   "metadata": {},
   "outputs": [
    {
     "data": {
      "text/plain": [
       "0"
      ]
     },
     "execution_count": 34,
     "metadata": {},
     "output_type": "execute_result"
    }
   ],
   "source": [
    "1 ^ 1"
   ]
  },
  {
   "cell_type": "code",
   "execution_count": 35,
   "id": "b4394555",
   "metadata": {},
   "outputs": [
    {
     "data": {
      "text/plain": [
       "3"
      ]
     },
     "execution_count": 35,
     "metadata": {},
     "output_type": "execute_result"
    }
   ],
   "source": [
    "1 ^ 2"
   ]
  },
  {
   "cell_type": "code",
   "execution_count": 36,
   "id": "7c4932de",
   "metadata": {},
   "outputs": [
    {
     "data": {
      "text/plain": [
       "2"
      ]
     },
     "execution_count": 36,
     "metadata": {},
     "output_type": "execute_result"
    }
   ],
   "source": [
    "1 ^ 3"
   ]
  },
  {
   "cell_type": "code",
   "execution_count": 37,
   "id": "5e81b2c6",
   "metadata": {},
   "outputs": [
    {
     "data": {
      "text/plain": [
       "5"
      ]
     },
     "execution_count": 37,
     "metadata": {},
     "output_type": "execute_result"
    }
   ],
   "source": [
    "1 ^ 4"
   ]
  },
  {
   "cell_type": "code",
   "execution_count": 17,
   "id": "d4c04834",
   "metadata": {},
   "outputs": [
    {
     "data": {
      "text/plain": [
       "0"
      ]
     },
     "execution_count": 17,
     "metadata": {},
     "output_type": "execute_result"
    }
   ],
   "source": [
    "1 ^ 1"
   ]
  },
  {
   "cell_type": "code",
   "execution_count": 18,
   "id": "c204d9bf",
   "metadata": {},
   "outputs": [
    {
     "data": {
      "text/plain": [
       "1"
      ]
     },
     "execution_count": 18,
     "metadata": {},
     "output_type": "execute_result"
    }
   ],
   "source": [
    "2 ^ 3"
   ]
  },
  {
   "cell_type": "code",
   "execution_count": 19,
   "id": "fe3f7435",
   "metadata": {},
   "outputs": [
    {
     "data": {
      "text/plain": [
       "1"
      ]
     },
     "execution_count": 19,
     "metadata": {},
     "output_type": "execute_result"
    }
   ],
   "source": [
    "1 ^ 0"
   ]
  },
  {
   "cell_type": "code",
   "execution_count": 27,
   "id": "74214b51",
   "metadata": {},
   "outputs": [
    {
     "data": {
      "text/plain": [
       "6"
      ]
     },
     "execution_count": 27,
     "metadata": {},
     "output_type": "execute_result"
    }
   ],
   "source": [
    "3^5"
   ]
  },
  {
   "cell_type": "code",
   "execution_count": 29,
   "id": "6d8e0846",
   "metadata": {},
   "outputs": [
    {
     "data": {
      "text/plain": [
       "3"
      ]
     },
     "execution_count": 29,
     "metadata": {},
     "output_type": "execute_result"
    }
   ],
   "source": [
    "0^3"
   ]
  },
  {
   "cell_type": "code",
   "execution_count": 30,
   "id": "52818b32",
   "metadata": {},
   "outputs": [
    {
     "data": {
      "text/plain": [
       "6"
      ]
     },
     "execution_count": 30,
     "metadata": {},
     "output_type": "execute_result"
    }
   ],
   "source": [
    "3^5"
   ]
  },
  {
   "cell_type": "code",
   "execution_count": 31,
   "id": "ecc83c0a",
   "metadata": {},
   "outputs": [
    {
     "data": {
      "text/plain": [
       "5"
      ]
     },
     "execution_count": 31,
     "metadata": {},
     "output_type": "execute_result"
    }
   ],
   "source": [
    "3^5^3"
   ]
  },
  {
   "cell_type": "code",
   "execution_count": 32,
   "id": "10ac85c8",
   "metadata": {},
   "outputs": [
    {
     "data": {
      "text/plain": [
       "3"
      ]
     },
     "execution_count": 32,
     "metadata": {},
     "output_type": "execute_result"
    }
   ],
   "source": [
    "5^3^5"
   ]
  },
  {
   "cell_type": "code",
   "execution_count": null,
   "id": "e1cdc831",
   "metadata": {},
   "outputs": [],
   "source": []
  }
 ],
 "metadata": {
  "kernelspec": {
   "display_name": "Python 3",
   "language": "python",
   "name": "python3"
  },
  "language_info": {
   "codemirror_mode": {
    "name": "ipython",
    "version": 3
   },
   "file_extension": ".py",
   "mimetype": "text/x-python",
   "name": "python",
   "nbconvert_exporter": "python",
   "pygments_lexer": "ipython3",
   "version": "3.8.8"
  }
 },
 "nbformat": 4,
 "nbformat_minor": 5
}
