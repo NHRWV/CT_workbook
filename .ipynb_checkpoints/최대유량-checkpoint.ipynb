{
 "cells": [
  {
   "cell_type": "markdown",
   "id": "b8923e0d",
   "metadata": {},
   "source": [
    "https://www.acmicpc.net/problem/17412"
   ]
  },
  {
   "cell_type": "code",
   "execution_count": null,
   "id": "8104d627",
   "metadata": {},
   "outputs": [],
   "source": [
    "조수들이 제출한 가지가 전부 보라색만 아니면 된다.\n",
    "\n",
    "조수들 선에서 흰흰 조합만 찾으면 됨"
   ]
  },
  {
   "cell_type": "code",
   "execution_count": 4,
   "id": "1d745b58",
   "metadata": {
    "scrolled": true
   },
   "outputs": [
    {
     "name": "stdout",
     "output_type": "stream",
     "text": [
      "51\n",
      "52\n"
     ]
    }
   ],
   "source": [
    "count = 0\n",
    "\n",
    "for i in range(int(input())):    \n",
    "    if '50' in str(i):\n",
    "        count += 1\n",
    "        \n",
    "    count += 1\n",
    "        \n",
    "print(count)\n",
    "        \n",
    "        "
   ]
  },
  {
   "cell_type": "code",
   "execution_count": 19,
   "id": "ade4f39c",
   "metadata": {},
   "outputs": [
    {
     "name": "stdout",
     "output_type": "stream",
     "text": [
      "1\n",
      "d!sc0\\'ery\n",
      "discowery\n"
     ]
    }
   ],
   "source": [
    "lst = {'@' : 'a' , '[' : 'c', \"!\" : \"i\", \";\" : \"j\", \"^\" : \"n\", \"0\" : \"o\", \"7\" : \"t\", \"w\" : \"w\", \"v\" : \"v\"}\n",
    "\n",
    "for _ in range(int(input())):\n",
    "    count = 0\n",
    "    \n",
    "    s = input().rstrip()\n",
    "    \n",
    "    answer = ''\n",
    "    \n",
    "    \n",
    "    s = s.replace(\"\\\\\\'\", \"w\")\n",
    "    s = s.replace(\"\\\\'\", \"v\")\n",
    "    \n",
    "    for i in s:\n",
    "        if i in lst:\n",
    "            count += 1\n",
    "            answer += lst[i]\n",
    "            \n",
    "        else:\n",
    "            answer += i\n",
    "            \n",
    "            \n",
    "    print(answer if count < len(s) / 2 else \"I don't understand\")\n",
    "            \n",
    "        \n",
    "            \n",
    "    "
   ]
  },
  {
   "cell_type": "code",
   "execution_count": 2,
   "id": "eccf76b9",
   "metadata": {},
   "outputs": [
    {
     "data": {
      "text/plain": [
       "'#'"
      ]
     },
     "execution_count": 2,
     "metadata": {},
     "output_type": "execute_result"
    }
   ],
   "source": [
    "4\n",
    "a;ou\n",
    "d!sc0\\'ery\n",
    "kdollar\n",
    "\\'e[70r"
   ]
  },
  {
   "cell_type": "code",
   "execution_count": 7,
   "id": "52009fc9",
   "metadata": {},
   "outputs": [
    {
     "data": {
      "text/plain": [
       "1"
      ]
     },
     "execution_count": 7,
     "metadata": {},
     "output_type": "execute_result"
    }
   ],
   "source": [
    "count"
   ]
  },
  {
   "cell_type": "code",
   "execution_count": null,
   "id": "eb0d0bdb",
   "metadata": {},
   "outputs": [],
   "source": [
    "s"
   ]
  },
  {
   "cell_type": "code",
   "execution_count": 9,
   "id": "ba840475",
   "metadata": {},
   "outputs": [
    {
     "data": {
      "text/plain": [
       "4"
      ]
     },
     "execution_count": 9,
     "metadata": {},
     "output_type": "execute_result"
    }
   ],
   "source": [
    "len(s)"
   ]
  },
  {
   "cell_type": "code",
   "execution_count": 11,
   "id": "c754978f",
   "metadata": {},
   "outputs": [
    {
     "name": "stdout",
     "output_type": "stream",
     "text": [
      "@\n",
      "[\n",
      "!\n",
      ";\n",
      "^\n",
      "0\n",
      "7\n",
      "'\n",
      "\\'\n"
     ]
    }
   ],
   "source": [
    "for i in lst:\n",
    "    print(i)"
   ]
  }
 ],
 "metadata": {
  "kernelspec": {
   "display_name": "Python 3 (ipykernel)",
   "language": "python",
   "name": "python3"
  },
  "language_info": {
   "codemirror_mode": {
    "name": "ipython",
    "version": 3
   },
   "file_extension": ".py",
   "mimetype": "text/x-python",
   "name": "python",
   "nbconvert_exporter": "python",
   "pygments_lexer": "ipython3",
   "version": "3.9.13"
  }
 },
 "nbformat": 4,
 "nbformat_minor": 5
}
