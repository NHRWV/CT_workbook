{
 "cells": [
  {
   "cell_type": "markdown",
   "metadata": {},
   "source": [
    "https://www.acmicpc.net/problem/15649"
   ]
  },
  {
   "cell_type": "code",
   "execution_count": 17,
   "metadata": {},
   "outputs": [
    {
     "name": "stdout",
     "output_type": "stream",
     "text": [
      "3 1\n",
      "1\n",
      "2\n",
      "3\n"
     ]
    }
   ],
   "source": [
    "# 백준 15649... n개의 숫자 중에서 m개의 숫자를 조합하는 것.\n",
    "# https://tmdrl5779.tistory.com/20\n",
    "\n",
    "n, m = map(int, input().split())\n",
    "\n",
    "lst = []\n",
    "\n",
    "    \n",
    "    \n",
    "def check(cnt):\n",
    "    if cnt == m:\n",
    "        print(*lst)\n",
    "        return\n",
    "        \n",
    "    for i in range(1, n+1):\n",
    "        if i not in lst:\n",
    "            lst.append(i)\n",
    "            check(cnt + 1)\n",
    "            lst.pop()\n",
    "    \n",
    "    \n",
    "check(0)            "
   ]
  },
  {
   "cell_type": "code",
   "execution_count": null,
   "metadata": {},
   "outputs": [],
   "source": [
    "# 백준 15649\n",
    "# 그냥 순열 기능 불러와서 쓰기\n",
    "\n",
    "from itertools import permutations\n",
    "\n",
    "n, m = map(int, input().split())\n",
    "\n",
    "lst = []\n",
    "for i in range(1, n+1):\n",
    "    lst.append(i)\n",
    "\n",
    "lst = list(permutations(lst, m))\n",
    "\n",
    "for i in lst:\n",
    "    print(*i)"
   ]
  },
  {
   "cell_type": "markdown",
   "metadata": {},
   "source": [
    "https://www.acmicpc.net/problem/15650"
   ]
  },
  {
   "cell_type": "code",
   "execution_count": 13,
   "metadata": {},
   "outputs": [
    {
     "name": "stdout",
     "output_type": "stream",
     "text": [
      "4 2\n",
      "1 2\n",
      "1 3\n",
      "1 4\n",
      "2 3\n",
      "2 4\n",
      "3 4\n"
     ]
    }
   ],
   "source": [
    "# 백준 15650\n",
    "# 조합\n",
    "\n",
    "from itertools import combinations\n",
    "\n",
    "n, m = map(int, input().split())\n",
    "\n",
    "lst = []\n",
    "for i in range(1, n+1):\n",
    "    lst.append(i)\n",
    "\n",
    "lst = list(combinations(lst, m))\n",
    "\n",
    "for i in lst:\n",
    "    print(*i)"
   ]
  },
  {
   "cell_type": "code",
   "execution_count": 33,
   "metadata": {},
   "outputs": [
    {
     "name": "stdout",
     "output_type": "stream",
     "text": [
      "4 2\n",
      "1 2\n",
      "1 3\n",
      "1 4\n",
      "2 3\n",
      "2 4\n",
      "3 4\n"
     ]
    }
   ],
   "source": [
    "# 백준 15650\n",
    "# 백트래킹으로 다시 풀기\n",
    "\n",
    "n, m = map(int, input().split())\n",
    "\n",
    "\n",
    "\n",
    "lst = []   \n",
    "def check(start, cnt):\n",
    "        \n",
    "    if cnt == m:\n",
    "        print(*lst)\n",
    "        return\n",
    "        \n",
    "    \n",
    "    \n",
    "    for i in range(start, n+1):\n",
    "        if i not in lst:\n",
    "            lst.append(i)\n",
    "            check(i + 1, cnt + 1)\n",
    "            lst.pop()\n",
    "    \n",
    "    \n",
    "check(1, 0)            "
   ]
  },
  {
   "cell_type": "markdown",
   "metadata": {},
   "source": [
    "https://www.acmicpc.net/problem/15651"
   ]
  },
  {
   "cell_type": "code",
   "execution_count": null,
   "metadata": {},
   "outputs": [],
   "source": [
    "# 백준 15651\n",
    "\n",
    "n, m = map(int, input().split())\n",
    "\n",
    "lst = []\n",
    "def check(cnt):\n",
    "    if cnt == m:\n",
    "        print(*lst)\n",
    "        return\n",
    "        \n",
    "    for i in range(1, n+1):\n",
    "        lst.append(i)\n",
    "        check(cnt + 1)\n",
    "        lst.pop()\n",
    "    \n",
    "    \n",
    "check(0)            "
   ]
  },
  {
   "cell_type": "markdown",
   "metadata": {},
   "source": [
    "https://www.acmicpc.net/problem/15652"
   ]
  },
  {
   "cell_type": "code",
   "execution_count": 39,
   "metadata": {},
   "outputs": [
    {
     "name": "stdout",
     "output_type": "stream",
     "text": [
      "4 2\n",
      "1 2\n",
      "1 3\n",
      "1 4\n",
      "2 3\n",
      "2 4\n",
      "3 4\n"
     ]
    }
   ],
   "source": [
    "# 백준 15652\n",
    "\n",
    "n, m = map(int, input().split())\n",
    "\n",
    "lst = []   \n",
    "def check(start, cnt):\n",
    "    if cnt == m:\n",
    "        print(*lst)\n",
    "        return\n",
    "        \n",
    "    for i in range(start, n+1):\n",
    "        lst.append(i)\n",
    "        check(i, cnt + 1)\n",
    "        lst.pop()\n",
    "    \n",
    "    \n",
    "check(1, 0)            "
   ]
  },
  {
   "cell_type": "markdown",
   "metadata": {},
   "source": [
    "https://www.acmicpc.net/problem/15654       "
   ]
  },
  {
   "cell_type": "code",
   "execution_count": null,
   "metadata": {},
   "outputs": [],
   "source": [
    "# 백준 15654\n",
    "\n",
    "n, m = map(int, input().split())\n",
    "lst = list(map(int, input().split()))\n",
    "lst.sort()\n",
    "\n",
    "result = []\n",
    "def check(cnt):\n",
    "    if cnt == m:\n",
    "        print(*result)\n",
    "        return\n",
    "        \n",
    "    for i in lst:\n",
    "        if i not in result:\n",
    "            result.append(i)\n",
    "            check(cnt + 1)\n",
    "            result.pop()\n",
    "    \n",
    "    \n",
    "check(0)       "
   ]
  },
  {
   "cell_type": "markdown",
   "metadata": {},
   "source": [
    "https://www.acmicpc.net/problem/15655"
   ]
  },
  {
   "cell_type": "code",
   "execution_count": 51,
   "metadata": {},
   "outputs": [
    {
     "name": "stdout",
     "output_type": "stream",
     "text": [
      "4 2\n",
      "9 8 7 1\n",
      "1 7\n",
      "1 8\n",
      "1 9\n",
      "7 8\n",
      "7 9\n",
      "8 9\n"
     ]
    }
   ],
   "source": [
    "# 백준 15655\n",
    "\n",
    "n, m = map(int, input().split())\n",
    "lst = list(map(int, input().split()))\n",
    "lst.sort()\n",
    "\n",
    "result = []\n",
    "def check(start, cnt):\n",
    "    if cnt == m:\n",
    "        print(*result)\n",
    "        return\n",
    "        \n",
    "    for i in range(start, len(lst)):\n",
    "        if lst[i] not in result:\n",
    "            result.append(lst[i])\n",
    "            check(i + 1, cnt + 1)\n",
    "            result.pop()\n",
    "    \n",
    "    \n",
    "check(0, 0)       "
   ]
  },
  {
   "cell_type": "markdown",
   "metadata": {},
   "source": [
    "https://www.acmicpc.net/problem/15656"
   ]
  },
  {
   "cell_type": "code",
   "execution_count": null,
   "metadata": {},
   "outputs": [],
   "source": [
    "# 백준 15656\n",
    "\n",
    "n, m = map(int, input().split())\n",
    "lst = list(map(int, input().split()))\n",
    "lst.sort()\n",
    "\n",
    "result = []\n",
    "def check(cnt):\n",
    "    if cnt == m:\n",
    "        print(*result)\n",
    "        return\n",
    "        \n",
    "    for i in lst:\n",
    "        result.append(i)\n",
    "        check(cnt + 1)\n",
    "        result.pop()\n",
    "    \n",
    "    \n",
    "check(0)       "
   ]
  },
  {
   "cell_type": "markdown",
   "metadata": {},
   "source": [
    "https://www.acmicpc.net/problem/15657"
   ]
  },
  {
   "cell_type": "code",
   "execution_count": null,
   "metadata": {},
   "outputs": [],
   "source": [
    "# 백준 15657\n",
    "\n",
    "n, m = map(int, input().split())\n",
    "lst = list(map(int, input().split()))\n",
    "lst.sort()\n",
    "\n",
    "result = []\n",
    "def check(start, cnt):\n",
    "    if cnt == m:\n",
    "        print(*result)\n",
    "        return\n",
    "        \n",
    "    for i in range(start, len(lst)):\n",
    "        result.append(lst[i])\n",
    "        check(i, cnt + 1)\n",
    "        result.pop()\n",
    "    \n",
    "    \n",
    "check(0, 0)       "
   ]
  },
  {
   "cell_type": "markdown",
   "metadata": {},
   "source": [
    "https://www.acmicpc.net/problem/15663"
   ]
  },
  {
   "cell_type": "code",
   "execution_count": null,
   "metadata": {},
   "outputs": [],
   "source": [
    "# 백준 15663\n",
    "\n",
    "from itertools import permutations\n",
    "\n",
    "n, m = map(int, input().split())\n",
    "lst = list(map(int, input().split()))\n",
    "\n",
    "lst = set(permutations(lst, m))\n",
    "lst = list(lst)\n",
    "lst.sort()\n",
    "\n",
    "for i in lst:\n",
    "    print(*i)     "
   ]
  },
  {
   "cell_type": "markdown",
   "metadata": {},
   "source": [
    "https://www.acmicpc.net/problem/15666"
   ]
  },
  {
   "cell_type": "code",
   "execution_count": 98,
   "metadata": {},
   "outputs": [
    {
     "name": "stdout",
     "output_type": "stream",
     "text": [
      "4 2\n",
      "9 7 9 1\n",
      "1 1\n",
      "1 7\n",
      "1 9\n",
      "7 7\n",
      "7 9\n",
      "9 9\n"
     ]
    }
   ],
   "source": [
    "# 백준 15664\n",
    "\n",
    "n, m = map(int, input().split())\n",
    "lst = set(map(int, input().split()))\n",
    "lst = list(lst)\n",
    "lst.sort()\n",
    "\n",
    "result = []\n",
    "def check(start, cnt):\n",
    "    if cnt == m:\n",
    "        print(*result)\n",
    "        return\n",
    "        \n",
    "    for i in range(start, len(lst)):\n",
    "        result.append(lst[i])\n",
    "        check(i, cnt + 1)\n",
    "        result.pop()\n",
    "    \n",
    "    \n",
    "check(0, 0)       "
   ]
  },
  {
   "cell_type": "code",
   "execution_count": 96,
   "metadata": {},
   "outputs": [
    {
     "data": {
      "text/plain": [
       "[(7, 1), (7, 9), (9, 1), (9, 7), (9, 9)]"
      ]
     },
     "execution_count": 96,
     "metadata": {},
     "output_type": "execute_result"
    }
   ],
   "source": [
    "lst\n"
   ]
  },
  {
   "cell_type": "code",
   "execution_count": null,
   "metadata": {},
   "outputs": [],
   "source": []
  }
 ],
 "metadata": {
  "kernelspec": {
   "display_name": "Python 3",
   "language": "python",
   "name": "python3"
  },
  "language_info": {
   "codemirror_mode": {
    "name": "ipython",
    "version": 3
   },
   "file_extension": ".py",
   "mimetype": "text/x-python",
   "name": "python",
   "nbconvert_exporter": "python",
   "pygments_lexer": "ipython3",
   "version": "3.7.5"
  }
 },
 "nbformat": 4,
 "nbformat_minor": 2
}
