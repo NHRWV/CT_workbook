{
 "cells": [
  {
   "cell_type": "markdown",
   "metadata": {},
   "source": [
    "https://www.acmicpc.net/problem/15649"
   ]
  },
  {
   "cell_type": "code",
   "execution_count": null,
   "metadata": {},
   "outputs": [],
   "source": [
    "# 백준 15649... n개의 숫자 중에서 m개의 숫자를 조합하는 것.\n",
    "# https://tmdrl5779.tistory.com/20\n",
    "\n",
    "n, m = map(int, input().split())\n",
    "\n",
    "lst = []\n",
    "\n",
    "    \n",
    "    \n",
    "def check(cnt):\n",
    "    if cnt == m:\n",
    "        print(*lst)\n",
    "        return\n",
    "        \n",
    "    for i in range(1, n+1):\n",
    "        if i not in lst:\n",
    "            lst.append(i)\n",
    "            check(cnt + 1)\n",
    "            lst.pop()\n",
    "    \n",
    "    \n",
    "check(0)            "
   ]
  },
  {
   "cell_type": "code",
   "execution_count": null,
   "metadata": {},
   "outputs": [],
   "source": [
    "# 백준 15649\n",
    "# 그냥 순열 기능 불러와서 쓰기\n",
    "\n",
    "from itertools import permutations\n",
    "\n",
    "n, m = map(int, input().split())\n",
    "\n",
    "lst = []\n",
    "for i in range(1, n+1):\n",
    "    lst.append(i)\n",
    "\n",
    "lst = list(permutations(lst, m))\n",
    "\n",
    "for i in lst:\n",
    "    print(*i)"
   ]
  },
  {
   "cell_type": "markdown",
   "metadata": {},
   "source": [
    "https://www.acmicpc.net/problem/15650"
   ]
  },
  {
   "cell_type": "code",
   "execution_count": null,
   "metadata": {},
   "outputs": [],
   "source": [
    "# 백준 15650\n",
    "# 조합\n",
    "\n",
    "from itertools import combinations\n",
    "\n",
    "n, m = map(int, input().split())\n",
    "\n",
    "lst = []\n",
    "for i in range(1, n+1):\n",
    "    lst.append(i)\n",
    "\n",
    "lst = list(combinations(lst, m))\n",
    "\n",
    "for i in lst:\n",
    "    print(*i)"
   ]
  },
  {
   "cell_type": "code",
   "execution_count": null,
   "metadata": {},
   "outputs": [],
   "source": [
    "# 백준 15650\n",
    "# 백트래킹으로 다시 풀기\n",
    "\n",
    "n, m = map(int, input().split())\n",
    "\n",
    "\n",
    "\n",
    "lst = []   \n",
    "def check(start, cnt):\n",
    "        \n",
    "    if cnt == m:\n",
    "        print(*lst)\n",
    "        return\n",
    "        \n",
    "    \n",
    "    \n",
    "    for i in range(start, n+1):\n",
    "        if i not in lst:\n",
    "            lst.append(i)\n",
    "            check(i + 1, cnt + 1)\n",
    "            lst.pop()\n",
    "    \n",
    "    \n",
    "check(1, 0)            "
   ]
  },
  {
   "cell_type": "markdown",
   "metadata": {},
   "source": [
    "https://www.acmicpc.net/problem/15651"
   ]
  },
  {
   "cell_type": "code",
   "execution_count": null,
   "metadata": {},
   "outputs": [],
   "source": [
    "# 백준 15651\n",
    "\n",
    "n, m = map(int, input().split())\n",
    "\n",
    "lst = []\n",
    "def check(cnt):\n",
    "    if cnt == m:\n",
    "        print(*lst)\n",
    "        return\n",
    "        \n",
    "    for i in range(1, n+1):\n",
    "        lst.append(i)\n",
    "        check(cnt + 1)\n",
    "        lst.pop()\n",
    "    \n",
    "    \n",
    "check(0)            "
   ]
  },
  {
   "cell_type": "markdown",
   "metadata": {},
   "source": [
    "https://www.acmicpc.net/problem/15652"
   ]
  },
  {
   "cell_type": "code",
   "execution_count": null,
   "metadata": {},
   "outputs": [],
   "source": [
    "# 백준 15652\n",
    "\n",
    "n, m = map(int, input().split())\n",
    "\n",
    "lst = []   \n",
    "def check(start, cnt):\n",
    "    if cnt == m:\n",
    "        print(*lst)\n",
    "        return\n",
    "        \n",
    "    for i in range(start, n+1):\n",
    "        lst.append(i)\n",
    "        check(i, cnt + 1)\n",
    "        lst.pop()\n",
    "    \n",
    "    \n",
    "check(1, 0)            "
   ]
  },
  {
   "cell_type": "markdown",
   "metadata": {},
   "source": [
    "https://www.acmicpc.net/problem/15654       "
   ]
  },
  {
   "cell_type": "code",
   "execution_count": null,
   "metadata": {},
   "outputs": [],
   "source": [
    "# 백준 15654\n",
    "\n",
    "n, m = map(int, input().split())\n",
    "lst = list(map(int, input().split()))\n",
    "lst.sort()\n",
    "\n",
    "result = []\n",
    "def check(cnt):\n",
    "    if cnt == m:\n",
    "        print(*result)\n",
    "        return\n",
    "        \n",
    "    for i in lst:\n",
    "        if i not in result:\n",
    "            result.append(i)\n",
    "            check(cnt + 1)\n",
    "            result.pop()\n",
    "    \n",
    "    \n",
    "check(0)       "
   ]
  },
  {
   "cell_type": "markdown",
   "metadata": {},
   "source": [
    "https://www.acmicpc.net/problem/15655"
   ]
  },
  {
   "cell_type": "code",
   "execution_count": null,
   "metadata": {},
   "outputs": [],
   "source": [
    "# 백준 15655\n",
    "\n",
    "n, m = map(int, input().split())\n",
    "lst = list(map(int, input().split()))\n",
    "lst.sort()\n",
    "\n",
    "result = []\n",
    "def check(start, cnt):\n",
    "    if cnt == m:\n",
    "        print(*result)\n",
    "        return\n",
    "        \n",
    "    for i in range(start, len(lst)):\n",
    "        if lst[i] not in result:\n",
    "            result.append(lst[i])\n",
    "            check(i + 1, cnt + 1)\n",
    "            result.pop()\n",
    "    \n",
    "    \n",
    "check(0, 0)       "
   ]
  },
  {
   "cell_type": "markdown",
   "metadata": {},
   "source": [
    "https://www.acmicpc.net/problem/15656"
   ]
  },
  {
   "cell_type": "code",
   "execution_count": null,
   "metadata": {},
   "outputs": [],
   "source": [
    "# 백준 15656\n",
    "\n",
    "n, m = map(int, input().split())\n",
    "lst = list(map(int, input().split()))\n",
    "lst.sort()\n",
    "\n",
    "result = []\n",
    "def check(cnt):\n",
    "    if cnt == m:\n",
    "        print(*result)\n",
    "        return\n",
    "        \n",
    "    for i in lst:\n",
    "        result.append(i)\n",
    "        check(cnt + 1)\n",
    "        result.pop()\n",
    "    \n",
    "    \n",
    "check(0)       "
   ]
  },
  {
   "cell_type": "markdown",
   "metadata": {},
   "source": [
    "https://www.acmicpc.net/problem/15657"
   ]
  },
  {
   "cell_type": "code",
   "execution_count": null,
   "metadata": {},
   "outputs": [],
   "source": [
    "# 백준 15657\n",
    "\n",
    "n, m = map(int, input().split())\n",
    "lst = list(map(int, input().split()))\n",
    "lst.sort()\n",
    "\n",
    "result = []\n",
    "def check(start, cnt):\n",
    "    if cnt == m:\n",
    "        print(*result)\n",
    "        return\n",
    "        \n",
    "    for i in range(start, len(lst)):\n",
    "        result.append(lst[i])\n",
    "        check(i, cnt + 1)\n",
    "        result.pop()\n",
    "    \n",
    "    \n",
    "check(0, 0)       "
   ]
  },
  {
   "cell_type": "markdown",
   "metadata": {},
   "source": [
    "https://www.acmicpc.net/problem/15663"
   ]
  },
  {
   "cell_type": "code",
   "execution_count": null,
   "metadata": {},
   "outputs": [],
   "source": [
    "# 백준 15663\n",
    "\n",
    "from itertools import permutations\n",
    "\n",
    "n, m = map(int, input().split())\n",
    "lst = list(map(int, input().split()))\n",
    "\n",
    "lst = set(permutations(lst, m))\n",
    "lst = list(lst)\n",
    "lst.sort()\n",
    "\n",
    "for i in lst:\n",
    "    print(*i)     "
   ]
  },
  {
   "cell_type": "markdown",
   "metadata": {},
   "source": [
    "https://www.acmicpc.net/problem/15666"
   ]
  },
  {
   "cell_type": "code",
   "execution_count": null,
   "metadata": {},
   "outputs": [],
   "source": [
    "# 백준 15664\n",
    "\n",
    "n, m = map(int, input().split())\n",
    "lst = set(map(int, input().split()))\n",
    "lst = list(lst)\n",
    "lst.sort()\n",
    "\n",
    "result = []\n",
    "def check(start, cnt):\n",
    "    if cnt == m:\n",
    "        print(*result)\n",
    "        return\n",
    "        \n",
    "    for i in range(start, len(lst)):\n",
    "        result.append(lst[i])\n",
    "        check(i, cnt + 1)\n",
    "        result.pop()\n",
    "    \n",
    "    \n",
    "check(0, 0)       \n"
   ]
  },
  {
   "cell_type": "markdown",
   "metadata": {},
   "source": [
    "https://www.acmicpc.net/problem/19942"
   ]
  },
  {
   "cell_type": "code",
   "execution_count": null,
   "metadata": {},
   "outputs": [],
   "source": [
    "# 다이어트\n",
    "\n",
    "from itertools import combinations\n",
    "\n",
    "n = int(input())\n",
    "mp, mf, ms, mv = map(int, input().split())\n",
    "\n",
    "info = []\n",
    "for i in range(1, n+1):\n",
    "    p, f, s, v, c = map(int, input().split())\n",
    "    info.append((i, p, f, s, v, c))\n",
    "    \n",
    "\n",
    "price = int(1e9)\n",
    "answer = 0\n",
    "\n",
    "for i in range(1, n+1):\n",
    "    for j in list(combinations(info, i)):\n",
    "        lst = []\n",
    "        temp = [0] * 5\n",
    "        \n",
    "        for idx, k1, k2, k3, k4, k5 in j:\n",
    "            lst.append(idx)\n",
    "            temp = list(map(sum, zip(temp, [k1, k2, k3, k4, k5])))\n",
    "            \n",
    "        if temp[0] >= mp and temp[1] >= mf and temp[2] >= ms and temp[3] >= mv:\n",
    "            if temp[4] < price:\n",
    "                price = temp[4]\n",
    "                answer = lst\n",
    "                \n",
    "            elif temp[4] == price:\n",
    "                if lst < answer:\n",
    "                    answer = lst\n",
    "                \n",
    "                \n",
    "if price != int(1e9):\n",
    "    print(price)\n",
    "    print(*answer)\n",
    "    \n",
    "else:\n",
    "    print(-1)\n",
    "            \n",
    "            "
   ]
  },
  {
   "cell_type": "code",
   "execution_count": 2,
   "metadata": {},
   "outputs": [],
   "source": [
    "6\n",
    "100 70 90 10\n",
    "30 55 10 8 100\n",
    "60 10 10 2 70\n",
    "10 80 50 0 50\n",
    "40 30 30 8 60\n",
    "60 10 70 2 120\n",
    "20 70 50 4 4"
   ]
  },
  {
   "cell_type": "code",
   "execution_count": 3,
   "metadata": {},
   "outputs": [],
   "source": [
    "a= map(sum, zip([1, 2, 3], [4, 5, 6]))"
   ]
  },
  {
   "cell_type": "code",
   "execution_count": 6,
   "metadata": {},
   "outputs": [
    {
     "data": {
      "text/plain": [
       "[5, 7, 9]"
      ]
     },
     "execution_count": 6,
     "metadata": {},
     "output_type": "execute_result"
    }
   ],
   "source": [
    "list(a)"
   ]
  },
  {
   "cell_type": "code",
   "execution_count": 10,
   "metadata": {},
   "outputs": [
    {
     "data": {
      "text/plain": [
       "False"
      ]
     },
     "execution_count": 10,
     "metadata": {},
     "output_type": "execute_result"
    }
   ],
   "source": [
    "[1,2,3] > [1,3,2]"
   ]
  },
  {
   "cell_type": "code",
   "execution_count": null,
   "metadata": {},
   "outputs": [],
   "source": []
  }
 ],
 "metadata": {
  "kernelspec": {
   "display_name": "Python 3",
   "language": "python",
   "name": "python3"
  },
  "language_info": {
   "codemirror_mode": {
    "name": "ipython",
    "version": 3
   },
   "file_extension": ".py",
   "mimetype": "text/x-python",
   "name": "python",
   "nbconvert_exporter": "python",
   "pygments_lexer": "ipython3",
   "version": "3.8.8"
  }
 },
 "nbformat": 4,
 "nbformat_minor": 2
}
