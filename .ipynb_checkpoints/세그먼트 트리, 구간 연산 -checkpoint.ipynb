{
 "cells": [
  {
   "cell_type": "code",
   "execution_count": null,
   "id": "71bd668c",
   "metadata": {},
   "outputs": [],
   "source": [
    "n = int(input())\n",
    "m = int(input())\n",
    "\n",
    "inf = int(1e9)\n",
    "bus = [[inf] * (n+1) for _ in range(n+1)]\n",
    "\n",
    "for i in range(1, n+1):\n",
    "    for j in range(1, n+1):\n",
    "        if i == j:\n",
    "            bus[i][j] = 0\n",
    "\n",
    "for i in range(m):\n",
    "    a, b, c = map(int, input().split())\n",
    "    bus[a][b] = min(bus[a][b], c)\n",
    "    \n",
    "\n",
    "for k in range(1, n+1):\n",
    "    for i in range(1, n+1):\n",
    "        for j in range(1, n+1):\n",
    "            bus[i][j] = min(bus[i][j], bus[i][k] + bus[k][j])\n",
    "            \n",
    "            \n",
    "for i in range(1, n+1):\n",
    "    for j in range(1, n+1):\n",
    "        print(0 if bus[i][j] == inf else bus[i][j], end = ' ')\n",
    "    print()"
   ]
  },
  {
   "cell_type": "code",
   "execution_count": 4,
   "id": "f43d73a5",
   "metadata": {},
   "outputs": [
    {
     "name": "stdout",
     "output_type": "stream",
     "text": [
      "6 7\n",
      "3 6\n",
      "4 3\n",
      "3 2\n",
      "1 3\n",
      "1 2\n",
      "2 4\n",
      "5 2\n",
      "4\n",
      "2\n",
      "3\n"
     ]
    }
   ],
   "source": [
    "import heapq\n",
    "\n",
    "n, m = map(int, input().split())\n",
    "\n",
    "hut = [[] for _ in range(n+1)]\n",
    "for i in range(m):\n",
    "    a, b = map(int, input().split())\n",
    "    hut[a].append((b, 1))\n",
    "    hut[b].append((a, 1))\n",
    "    \n",
    "\n",
    "distance = [int(1e9)] * (n+1)    \n",
    "def dijk(start):\n",
    "    \n",
    "    queue = []\n",
    "    \n",
    "    heapq.heappush(queue, (0, start))\n",
    "    distance[start] = 0\n",
    "    \n",
    "    while queue:\n",
    "        dist, node = heapq.heappop(queue)\n",
    "        \n",
    "        if distance[node] < dist:\n",
    "            continue\n",
    "            \n",
    "        for nxt, w in hut[node]:\n",
    "            cost = dist + w\n",
    "            \n",
    "            if cost < distance[nxt]:\n",
    "                distance[nxt] = cost\n",
    "                heapq.heappush(queue, (cost, nxt))\n",
    "                \n",
    "\n",
    "\n",
    "\n",
    "dijk(1)\n",
    "\n",
    "answer = max(distance[1:])\n",
    "print(distance.index(answer), answer, distance.count(answer))\n"
   ]
  },
  {
   "cell_type": "code",
   "execution_count": 2,
   "id": "f6f78945",
   "metadata": {},
   "outputs": [
    {
     "data": {
      "text/plain": [
       "[[1000000000, 1000000000, 1000000000, 1000000000, 1000000000, 1000000000],\n",
       " [1000000000, 0, 2, 3, 1, 4],\n",
       " [1000000000, 12, 0, 15, 2, 5],\n",
       " [1000000000, 8, 5, 0, 1, 1],\n",
       " [1000000000, 10, 7, 13, 0, 3],\n",
       " [1000000000, 7, 4, 10, 6, 0]]"
      ]
     },
     "execution_count": 2,
     "metadata": {},
     "output_type": "execute_result"
    }
   ],
   "source": [
    "6 7\n",
    "3 6\n",
    "4 3\n",
    "3 2\n",
    "1 3\n",
    "1 2\n",
    "2 4\n",
    "5 2"
   ]
  },
  {
   "cell_type": "code",
   "execution_count": null,
   "id": "42d13c24",
   "metadata": {},
   "outputs": [],
   "source": []
  }
 ],
 "metadata": {
  "kernelspec": {
   "display_name": "Python 3",
   "language": "python",
   "name": "python3"
  },
  "language_info": {
   "codemirror_mode": {
    "name": "ipython",
    "version": 3
   },
   "file_extension": ".py",
   "mimetype": "text/x-python",
   "name": "python",
   "nbconvert_exporter": "python",
   "pygments_lexer": "ipython3",
   "version": "3.8.8"
  }
 },
 "nbformat": 4,
 "nbformat_minor": 5
}
