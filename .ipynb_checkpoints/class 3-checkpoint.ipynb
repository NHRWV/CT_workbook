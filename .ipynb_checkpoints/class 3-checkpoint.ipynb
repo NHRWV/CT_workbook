{
 "cells": [
  {
   "cell_type": "markdown",
   "id": "d275e27f",
   "metadata": {},
   "source": [
    "https://www.acmicpc.net/problem/1620"
   ]
  },
  {
   "cell_type": "code",
   "execution_count": null,
   "id": "aa1eea9d",
   "metadata": {},
   "outputs": [],
   "source": [
    "# 백준 1620 나는야 포켓몬 마스터 이다솜\n",
    "\n",
    "\n",
    "n, m = map(int, input().split())\n",
    "\n",
    "book = {}\n",
    "for i in range(1, n+1):\n",
    "    name = input()\n",
    "    \n",
    "    book[name] = str(i)\n",
    "    book[str(i)] = name\n",
    "    \n",
    "\n",
    "for i in range(m):\n",
    "    q = input()\n",
    "    \n",
    "    print(book[q])"
   ]
  },
  {
   "cell_type": "markdown",
   "id": "2681b05d",
   "metadata": {},
   "source": [
    "https://www.acmicpc.net/problem/1676"
   ]
  },
  {
   "cell_type": "code",
   "execution_count": null,
   "id": "278e174b",
   "metadata": {},
   "outputs": [],
   "source": [
    "# 백준 팩토리얼 0의 개수\n",
    "\n",
    "import math\n",
    "\n",
    "n = int(input())\n",
    "\n",
    "a = math.factorial(n)\n",
    "a = str(a)\n",
    "a = a[::-1]\n",
    "\n",
    "count = 0\n",
    "for i in a:\n",
    "    if i == '0':\n",
    "        count += 1\n",
    "        \n",
    "    else:\n",
    "        break\n",
    "        \n",
    "print(count)"
   ]
  },
  {
   "cell_type": "markdown",
   "id": "f126244d",
   "metadata": {},
   "source": [
    "https://www.acmicpc.net/problem/9375"
   ]
  },
  {
   "cell_type": "code",
   "execution_count": null,
   "id": "7d05f5c6",
   "metadata": {},
   "outputs": [],
   "source": [
    "# 백준 9375 패션왕 신해빈\n",
    "\n",
    "from collections import defaultdict\n",
    "\n",
    "t = int(input())\n",
    "for i in range(t):\n",
    "    n = int(input())\n",
    "    lst = defaultdict(list)\n",
    "    \n",
    "    for j in range(n):\n",
    "        a, b = map(str, input().split())\n",
    "        lst[b].append(a)\n",
    "        \n",
    "    count = 1\n",
    "    for j in lst.values():\n",
    "        count *= (len(j) + 1)\n",
    "        \n",
    "        \n",
    "    print(count - 1)\n",
    "        "
   ]
  },
  {
   "cell_type": "code",
   "execution_count": null,
   "id": "5ff5258f",
   "metadata": {},
   "outputs": [],
   "source": [
    "2\n",
    "3\n",
    "hat headgear\n",
    "sunglasses eyewear\n",
    "turban headgear\n",
    "3\n",
    "mask face\n",
    "sunglasses face\n",
    "makeup face"
   ]
  },
  {
   "cell_type": "code",
   "execution_count": 4,
   "id": "2f59c885",
   "metadata": {},
   "outputs": [
    {
     "data": {
      "text/plain": [
       "dict_values([['hat', 'turban'], ['sunglasses']])"
      ]
     },
     "execution_count": 4,
     "metadata": {},
     "output_type": "execute_result"
    }
   ],
   "source": [
    "lst.values()"
   ]
  },
  {
   "cell_type": "code",
   "execution_count": 5,
   "id": "92ee9502",
   "metadata": {},
   "outputs": [],
   "source": [
    "p = lst.values()"
   ]
  },
  {
   "cell_type": "code",
   "execution_count": 6,
   "id": "f9220e8a",
   "metadata": {},
   "outputs": [
    {
     "data": {
      "text/plain": [
       "dict_values([['hat', 'turban'], ['sunglasses']])"
      ]
     },
     "execution_count": 6,
     "metadata": {},
     "output_type": "execute_result"
    }
   ],
   "source": [
    "p"
   ]
  },
  {
   "cell_type": "code",
   "execution_count": 7,
   "id": "a46e4b13",
   "metadata": {},
   "outputs": [
    {
     "name": "stdout",
     "output_type": "stream",
     "text": [
      "['hat', 'turban']\n",
      "['sunglasses']\n"
     ]
    }
   ],
   "source": [
    "for i in p:\n",
    "    print(i)"
   ]
  },
  {
   "cell_type": "code",
   "execution_count": null,
   "id": "133db646",
   "metadata": {},
   "outputs": [],
   "source": []
  }
 ],
 "metadata": {
  "kernelspec": {
   "display_name": "Python 3",
   "language": "python",
   "name": "python3"
  },
  "language_info": {
   "codemirror_mode": {
    "name": "ipython",
    "version": 3
   },
   "file_extension": ".py",
   "mimetype": "text/x-python",
   "name": "python",
   "nbconvert_exporter": "python",
   "pygments_lexer": "ipython3",
   "version": "3.8.8"
  }
 },
 "nbformat": 4,
 "nbformat_minor": 5
}
