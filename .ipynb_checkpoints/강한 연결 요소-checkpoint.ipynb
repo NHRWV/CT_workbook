{
 "cells": [
  {
   "cell_type": "markdown",
   "id": "253203c5",
   "metadata": {},
   "source": [
    "https://www.acmicpc.net/problem/2150"
   ]
  },
  {
   "cell_type": "code",
   "execution_count": null,
   "id": "b7f6ec18",
   "metadata": {},
   "outputs": [],
   "source": [
    "# Strongly Connected Component\n",
    "\n",
    "v, e = map(int, input().split())\n",
    "\n",
    "edge = [[] for _ in range(v+1)]\n",
    "for i in range(e):\n",
    "    a, b = map(int, input().split())\n",
    "    edge[a].append(b)\n",
    "    \n",
    "\n",
    "stack = []\n",
    "\n",
    "order = [-1] * (v+1) # 노드 방문 순서\n",
    "scc = [-1] * (v+1) # scc 그룹 구분\n",
    "count = 0\n",
    "visited = [0] * (v+1)\n",
    "answer = []\n",
    "\n",
    "\n",
    "def sol(x):\n",
    "    global count\n",
    "    \n",
    "    order[x] = count\n",
    "    scc[x] = count\n",
    "    visited[x] = 1\n",
    "    \n",
    "    count += 1\n",
    "    stack.append(x)\n",
    "    \n",
    "    for i in edge[x]:\n",
    "        if order[i] == -1: # 방문하지 않은 노드인 경우\n",
    "            sol(i)\n",
    "            scc[x] = min(scc[x], scc[i])\n",
    "            \n",
    "        elif visited[i] == 1: # 처리 중인 이웃 노드\n",
    "            scc[x] = min(scc[x], order[i])\n",
    "            \n",
    "    \n",
    "    if scc[x] == order[x]:\n",
    "        temp = []\n",
    "        \n",
    "        while True:\n",
    "            t = stack.pop()\n",
    "            temp.append(t)\n",
    "            visited[t] = -1\n",
    "            \n",
    "            if t == x:\n",
    "                break\n",
    "            \n",
    "        answer.append(sorted(temp))\n",
    "        \n",
    "        \n",
    "for i in range(1, v+1):\n",
    "    if order[i] == -1:\n",
    "        sol(i)\n",
    "        \n",
    "print(len(answer))\n",
    "\n",
    "for i in sorted(answer):\n",
    "    print(*i, -1)\n"
   ]
  },
  {
   "cell_type": "code",
   "execution_count": null,
   "id": "bfacf864",
   "metadata": {},
   "outputs": [],
   "source": [
    "# 나동빈 버전\n",
    "\n",
    "v, e = map(int, input().split())\n",
    "\n",
    "edge = [[] for _ in range(v+1)]\n",
    "for i in range(e):\n",
    "    a, b = map(int, input().split())\n",
    "    edge[a].append(b)\n",
    "    \n",
    "\n",
    "stack = []\n",
    "\n",
    "order = [0] * (v+1) # 노드 방문 순서\n",
    "\n",
    "count = 1\n",
    "visited = [0] * (v+1)\n",
    "answer = []\n",
    "\n",
    "\n",
    "def sol(x):\n",
    "    global count\n",
    "    \n",
    "    order[x] = count\n",
    "    count += 1\n",
    "    stack.append(x)\n",
    "    \n",
    "    parent = order[x]\n",
    "    for i in edge[x]:\n",
    "        if not order[i]: # 방문하지 않은 노드인 경우\n",
    "            parent = min(parent, sol(i))\n",
    "            \n",
    "        elif not visited[i]: # 처리 중인 이웃 노드\n",
    "            parent = min(parent, order[i])\n",
    "            \n",
    "    \n",
    "    if parent == order[x]:\n",
    "        scc = []\n",
    "        \n",
    "        while True:\n",
    "            t = stack.pop()\n",
    "            scc.append(t)\n",
    "            visited[t] = 1\n",
    "            \n",
    "            if t == x:\n",
    "                break\n",
    "            \n",
    "        answer.append(sorted(scc))\n",
    "        \n",
    "    return parent\n",
    "        \n",
    "        \n",
    "for i in range(1, v+1):\n",
    "    if not order[i]:\n",
    "        sol(i)\n",
    "        \n",
    "print(len(answer))\n",
    "\n",
    "for i in sorted(answer):\n",
    "    print(*i, -1)\n"
   ]
  },
  {
   "cell_type": "markdown",
   "id": "44e8ec08",
   "metadata": {},
   "source": [
    "https://www.acmicpc.net/problem/4196"
   ]
  },
  {
   "cell_type": "code",
   "execution_count": null,
   "id": "91f4a646",
   "metadata": {},
   "outputs": [],
   "source": [
    "# 도미노\n",
    "\n",
    "\n",
    "def sol(x):\n",
    "    global count\n",
    "    global scc_cnt\n",
    "    \n",
    "    count += 1\n",
    "    order[x] = count\n",
    "    \n",
    "    \n",
    "    stack.append(x)\n",
    "    \n",
    "    parent = order[x]\n",
    "    for i in edge[x]:\n",
    "        if not order[i]: # 방문하지 않은 노드인 경우\n",
    "            parent = min(parent, sol(i))\n",
    "            \n",
    "        elif not visited[i]: # 처리 중인 이웃 노드\n",
    "            parent = min(parent, order[i])\n",
    "            \n",
    "    \n",
    "    if parent == order[x]:\n",
    "        scc = []\n",
    "        \n",
    "        while True:\n",
    "            t = stack.pop()\n",
    "            scc.append(t)\n",
    "            visited[t] = 1\n",
    "            scc_num[t] = len(answer) + 1\n",
    "            \n",
    "            if t == x:\n",
    "                break\n",
    "                \n",
    "        \n",
    "        answer.append(sorted(scc))\n",
    "        \n",
    "    return parent\n",
    "        \n",
    "\n",
    "    \n",
    "t = int(input())\n",
    "for _ in range(t):\n",
    "    n, m = map(int, input().split())\n",
    "\n",
    "    edge = [[] for _ in range(n+1)]\n",
    "    \n",
    "    \n",
    "    for i in range(m):\n",
    "        x, y = map(int, input().split())\n",
    "        edge[x].append(y)\n",
    "        \n",
    "    \n",
    "\n",
    "    stack = []\n",
    "    order = [0] * (n+1) \n",
    "\n",
    "    count = 0\n",
    "    visited = [0] * (n+1)\n",
    "    answer = []\n",
    "    \n",
    "    scc_num = [-1] * (n+1)\n",
    "    #scc_cnt = 0\n",
    "    \n",
    "    \n",
    "    for i in range(1, n+1):\n",
    "        if not order[i]:\n",
    "            sol(i)\n",
    "            \n",
    "    cnt = 0\n",
    "    indegree = [0] * (count + 1)\n",
    "    \n",
    "    for i in range(1, n+1):\n",
    "        for j in edge[i]:\n",
    "            if scc_num[i] != scc_num[j]:\n",
    "                indegree[scc_num[j]] += 1\n",
    "        \n",
    "    for i in range(1, len(answer) + 1):\n",
    "        if not indegree[i]:\n",
    "            cnt += 1\n",
    "            \n",
    "        \n",
    "    print(cnt)\n",
    "\n"
   ]
  },
  {
   "cell_type": "code",
   "execution_count": 24,
   "id": "f9984d8a",
   "metadata": {},
   "outputs": [
    {
     "data": {
      "text/plain": [
       "3"
      ]
     },
     "execution_count": 24,
     "metadata": {},
     "output_type": "execute_result"
    }
   ],
   "source": [
    "count"
   ]
  },
  {
   "cell_type": "code",
   "execution_count": 25,
   "id": "6d640179",
   "metadata": {
    "scrolled": true
   },
   "outputs": [
    {
     "data": {
      "text/plain": [
       "[[3], [2], [1]]"
      ]
     },
     "execution_count": 25,
     "metadata": {},
     "output_type": "execute_result"
    }
   ],
   "source": [
    "answer"
   ]
  },
  {
   "cell_type": "code",
   "execution_count": 26,
   "id": "264b5170",
   "metadata": {},
   "outputs": [
    {
     "data": {
      "text/plain": [
       "[-1, 3, 2, 1]"
      ]
     },
     "execution_count": 26,
     "metadata": {},
     "output_type": "execute_result"
    }
   ],
   "source": [
    "scc_num"
   ]
  },
  {
   "cell_type": "code",
   "execution_count": 27,
   "id": "a50e4b3c",
   "metadata": {},
   "outputs": [
    {
     "data": {
      "text/plain": [
       "5"
      ]
     },
     "execution_count": 27,
     "metadata": {},
     "output_type": "execute_result"
    }
   ],
   "source": [
    "scc_cnt"
   ]
  },
  {
   "cell_type": "code",
   "execution_count": 28,
   "id": "dd2afde0",
   "metadata": {},
   "outputs": [
    {
     "data": {
      "text/plain": [
       "[0, 1, 1, 0]"
      ]
     },
     "execution_count": 28,
     "metadata": {},
     "output_type": "execute_result"
    }
   ],
   "source": [
    "indegree"
   ]
  },
  {
   "cell_type": "code",
   "execution_count": 49,
   "id": "a6a84e6b",
   "metadata": {},
   "outputs": [
    {
     "data": {
      "text/plain": [
       "[]"
      ]
     },
     "execution_count": 49,
     "metadata": {},
     "output_type": "execute_result"
    }
   ],
   "source": [
    "stack"
   ]
  },
  {
   "cell_type": "code",
   "execution_count": 6,
   "id": "002ecf7c",
   "metadata": {},
   "outputs": [
    {
     "data": {
      "text/plain": [
       "3"
      ]
     },
     "execution_count": 6,
     "metadata": {},
     "output_type": "execute_result"
    }
   ],
   "source": [
    "1\n",
    "10 11\n",
    "6 3\n",
    "5 8\n",
    "4 10\n",
    "5 2\n",
    "1 8\n",
    "9 5\n",
    "5 3\n",
    "2 6\n",
    "9 6\n",
    "6 4\n",
    "10 9"
   ]
  },
  {
   "cell_type": "code",
   "execution_count": 19,
   "id": "dfb1676a",
   "metadata": {},
   "outputs": [
    {
     "data": {
      "text/plain": [
       "[[1], [2], [3]]"
      ]
     },
     "execution_count": 19,
     "metadata": {},
     "output_type": "execute_result"
    }
   ],
   "source": [
    "result"
   ]
  },
  {
   "cell_type": "code",
   "execution_count": 20,
   "id": "c7c912f9",
   "metadata": {},
   "outputs": [
    {
     "data": {
      "text/plain": [
       "[0, 0, 1, 1]"
      ]
     },
     "execution_count": 20,
     "metadata": {},
     "output_type": "execute_result"
    }
   ],
   "source": [
    "scc_indegree"
   ]
  },
  {
   "cell_type": "code",
   "execution_count": 21,
   "id": "b0a3342f",
   "metadata": {},
   "outputs": [
    {
     "data": {
      "text/plain": [
       "3"
      ]
     },
     "execution_count": 21,
     "metadata": {},
     "output_type": "execute_result"
    }
   ],
   "source": [
    "idx"
   ]
  },
  {
   "cell_type": "code",
   "execution_count": 22,
   "id": "3a89b8f5",
   "metadata": {},
   "outputs": [
    {
     "data": {
      "text/plain": [
       "[-1, 1, 2, 3]"
      ]
     },
     "execution_count": 22,
     "metadata": {},
     "output_type": "execute_result"
    }
   ],
   "source": [
    "ids"
   ]
  },
  {
   "cell_type": "code",
   "execution_count": null,
   "id": "2908761a",
   "metadata": {},
   "outputs": [],
   "source": []
  }
 ],
 "metadata": {
  "kernelspec": {
   "display_name": "Python 3",
   "language": "python",
   "name": "python3"
  },
  "language_info": {
   "codemirror_mode": {
    "name": "ipython",
    "version": 3
   },
   "file_extension": ".py",
   "mimetype": "text/x-python",
   "name": "python",
   "nbconvert_exporter": "python",
   "pygments_lexer": "ipython3",
   "version": "3.8.8"
  }
 },
 "nbformat": 4,
 "nbformat_minor": 5
}
