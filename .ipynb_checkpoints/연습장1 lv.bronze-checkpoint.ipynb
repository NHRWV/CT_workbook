{
 "cells": [
  {
   "cell_type": "code",
   "execution_count": null,
   "metadata": {},
   "outputs": [],
   "source": [
    "dish_arrivals = ['오뎅', '김밥', '떡볶이', '튀김' ,'순대']\n",
    "customer_arrivals = [['이한솔','Biz Lee'], ['이한솔','이세솔','이네솔'], '이한솔']"
   ]
  },
  {
   "cell_type": "code",
   "execution_count": null,
   "metadata": {},
   "outputs": [],
   "source": [
    "customer_arrivals[0:2]"
   ]
  },
  {
   "cell_type": "code",
   "execution_count": null,
   "metadata": {},
   "outputs": [],
   "source": [
    "customer_arrivals[1][0:2]"
   ]
  },
  {
   "cell_type": "code",
   "execution_count": null,
   "metadata": {},
   "outputs": [],
   "source": [
    "T = int(input())\n",
    "\n",
    "\n",
    "A,B = map(i,input().split())\n",
    "print(A+B)"
   ]
  },
  {
   "cell_type": "code",
   "execution_count": null,
   "metadata": {},
   "outputs": [],
   "source": [
    "a,b = input(). split()\n",
    "a = int(a)\n",
    "b = int(b)\n",
    "\n",
    "print(a+b)"
   ]
  },
  {
   "cell_type": "code",
   "execution_count": null,
   "metadata": {},
   "outputs": [],
   "source": [
    "T = int(input())\n",
    "\n",
    "\n",
    "A,B = map(i,input().split())\n",
    "print(A+B)"
   ]
  },
  {
   "cell_type": "code",
   "execution_count": null,
   "metadata": {},
   "outputs": [],
   "source": [
    "A,B = input(). split()\n",
    "A = int(A)\n",
    "B = int(B)\n",
    "\n",
    "if A>B : \n",
    "    print(\">\")\n",
    "elif A<B :\n",
    "    print(\"<\")\n",
    "elif A==B :\n",
    "    print(\"==\")"
   ]
  },
  {
   "cell_type": "code",
   "execution_count": null,
   "metadata": {},
   "outputs": [],
   "source": [
    "money, people = map(int, input().split())\n",
    "print(money // people)\n",
    "print(money % people)"
   ]
  },
  {
   "cell_type": "code",
   "execution_count": null,
   "metadata": {},
   "outputs": [],
   "source": [
    "a, b = map(int, input().split())\n",
    "print(a*b)"
   ]
  },
  {
   "cell_type": "code",
   "execution_count": null,
   "metadata": {},
   "outputs": [],
   "source": [
    "a, b = map(int, input().split())\n",
    "\n",
    "sam = a*(b%10)\n",
    "sa = a*((b%100)//10)\n",
    "oh = a*(b//100)\n",
    "ryuk = sam + sa*10 + oh*100\n",
    "\n",
    "list = [sam, sa, oh, ryuk]\n",
    "\n",
    "for i in list :\n",
    "    print(i)"
   ]
  },
  {
   "cell_type": "markdown",
   "metadata": {},
   "source": [
    "0 1 2 3 4 5 6 7 8 9  a  b  c  d  e  f 10 11 12 13 14 15 16 17 18 19 1a 1b 1c 1d 1e 1f 30 31\n",
    "0 1 2 3 4 5 6 7 8 9 10 11 12 13 14 15 16 17 18 19 20 21 22 23 24 25 26 27 28 29 30 31 32 33"
   ]
  },
  {
   "cell_type": "code",
   "execution_count": null,
   "metadata": {},
   "outputs": [],
   "source": [
    "import datetime\n",
    "\n",
    "now = datetime.datetime.now()\n",
    "\n",
    "if now.hour%2 == 0:\n",
    "    print(1)\n",
    "else :\n",
    "    print(0)\n",
    "    \n",
    "    \n",
    "#타노스!!! 사실 백준에서는 이 코드는 틀렸다고 나온다.. 그냥 print(1) 했더니 살아남는다. 15802번 문제."
   ]
  },
  {
   "cell_type": "code",
   "execution_count": null,
   "metadata": {},
   "outputs": [],
   "source": [
    "#1712 손익분기점 문제\n",
    "\n",
    "a, b, c =  map(int, input().split())\n",
    "\n",
    "x=1\n",
    "\n",
    "while a+(x*b) > x*c:\n",
    "    x += 1\n",
    "    \n",
    "    if a+(x*b) < x*c:\n",
    "        print(x)\n",
    "        \n",
    "        break\n",
    "    else :\n",
    "        print(-1)\n"
   ]
  },
  {
   "cell_type": "code",
   "execution_count": null,
   "metadata": {},
   "outputs": [],
   "source": [
    "#백준 2420\n",
    "\n",
    "n, m = map(int, input().split())\n",
    "\n",
    "if n-m >= 0 :\n",
    "    print(n-m)\n",
    "else :\n",
    "    print(m-n)"
   ]
  },
  {
   "cell_type": "code",
   "execution_count": null,
   "metadata": {},
   "outputs": [],
   "source": [
    "# 백준 14924 \n",
    "\n",
    "s, t, d =  map(int, input().split())\n",
    "\n",
    "\n",
    "print(int((d/(s*2))*t))"
   ]
  },
  {
   "cell_type": "code",
   "execution_count": null,
   "metadata": {},
   "outputs": [],
   "source": [
    "#백준 14681\n",
    "\n",
    "x = input()\n",
    "y = input()\n",
    "x = int(x)\n",
    "y = int(y)\n",
    "\n",
    "if x > 0 and y > 0 :\n",
    "    print(1)\n",
    "elif x < 0 and y > 0 :\n",
    "    print(2)\n",
    "elif x < 0 and y < 0 :\n",
    "    print(3)\n",
    "elif x > 0 and y < 0 :\n",
    "    print(4)"
   ]
  },
  {
   "cell_type": "code",
   "execution_count": null,
   "metadata": {},
   "outputs": [],
   "source": [
    "# 백준 1152\n",
    "\n",
    "a = input()\n",
    "b= list(a.strip().split())\n",
    "print(len(b))"
   ]
  },
  {
   "cell_type": "code",
   "execution_count": null,
   "metadata": {},
   "outputs": [],
   "source": [
    "# 백준 1110\n",
    "\n",
    "n = int(input())\n",
    "count = 0\n",
    "if(n<10):\n",
    "    n = \"0\" + str(n)\n",
    "else:\n",
    "    n = str(n)\n",
    "orin = n    # 원래 n값 저장\n",
    "while True:\n",
    "    count += 1\n",
    "    k = n     # k,n문자열\n",
    "    total = 0\n",
    "    for i in range(len(k)):\n",
    "        total += int(k[i])\n",
    "    \n",
    "    k = str(total)\n",
    "    n = n[-1] + k[-1]\n",
    "    \n",
    "    if n == orin:    #원래 n값이랑 같으면 탈출\n",
    "        break\n",
    "\n",
    "print(count)"
   ]
  },
  {
   "cell_type": "code",
   "execution_count": null,
   "metadata": {},
   "outputs": [],
   "source": [
    "# 백준 1110\n",
    "\n",
    "n = int(input())\n",
    "\n",
    "if n < 10:\n",
    "    n = \"0\" + str(n)\n",
    "else:\n",
    "    n = str(n)\n",
    "    \n",
    "count = 0    \n",
    "h = n\n",
    "while True:\n",
    "    count += 1\n",
    "    \n",
    "    \n",
    "    a = int(n[0]) + int(n[1])\n",
    "    n = n[1] + str(a)[-1]\n",
    "    \n",
    "    if n == h:\n",
    "        break\n",
    "\n",
    "print(count)\n",
    "    \n",
    "    \n",
    "    "
   ]
  },
  {
   "cell_type": "code",
   "execution_count": null,
   "metadata": {},
   "outputs": [],
   "source": [
    "# 백준 1157\n",
    "\n",
    "w = str(input())\n",
    "\n",
    "w = w.upper()\n",
    "\n",
    "count = 0\n",
    "w_list = []\n",
    "for i in range(len(w)):\n",
    "    \n",
    "    cha = w[0]\n",
    "    \n",
    "    if count <= w.count(w[i]):\n",
    "        count = w.count(w[i])\n",
    "        w_list.append(count)\n",
    "        cha = w[i]\n",
    "        \n",
    "w_list.sort()\n",
    "\n",
    "if w_list.count(w_list[-1]) > 1:\n",
    "    print(\"?\")\n",
    "else:\n",
    "    print(cha)\n",
    "    \n",
    "    \n",
    "    "
   ]
  },
  {
   "cell_type": "code",
   "execution_count": null,
   "metadata": {},
   "outputs": [],
   "source": [
    "## 백준 1550 상혁's\n",
    "\n",
    "s = input()\n",
    "s = s[::-1] # 문자열 뒤집기\n",
    "\n",
    "def get_num(x):\n",
    "    if ord(x) < 60:\n",
    "        return ord(x) - 48\n",
    "    else:\n",
    "        return ord(x) - 55\n",
    "\n",
    "total = 0\n",
    "for i in range(len(s)):\n",
    "    total += get_num(s[i]) * 16 ** i\n",
    "\n",
    "print(total)"
   ]
  },
  {
   "cell_type": "code",
   "execution_count": null,
   "metadata": {},
   "outputs": [],
   "source": [
    "# 백준 1157 상혁's\n",
    "\n",
    "from collections import defaultdict\n",
    "\n",
    "s = input()\n",
    "s = s.upper()\n",
    "\n",
    "d = defaultdict(int)\n",
    "\n",
    "max_count = 0\n",
    "max_count_letter = \"\"\n",
    "for v in s:\n",
    "    d[v] += 1\n",
    "    if d[v] >= max_count:\n",
    "        max_count_letter = v\n",
    "        \n",
    "        if d[v] == max_count:\n",
    "            max_count_letter = \"?\"\n",
    "            \n",
    "        max_count = d[v]\n",
    "            \n",
    "print(max_count_letter)"
   ]
  },
  {
   "cell_type": "code",
   "execution_count": null,
   "metadata": {},
   "outputs": [],
   "source": [
    "# 백준 9498\n",
    "\n",
    "a = int(input())\n",
    "\n",
    "if 90 <= a <= 100:\n",
    "    print(\"A\")\n",
    "elif 80 <= a <= 89:\n",
    "    print(\"B\")\n",
    "elif 70 <= a <= 79:\n",
    "    print(\"C\")\n",
    "elif 60 <= a <= 69:\n",
    "    print(\"D\")\n",
    "elif 0 <= a <= 59:\n",
    "    print(\"F\")\n",
    "    "
   ]
  },
  {
   "cell_type": "code",
   "execution_count": null,
   "metadata": {},
   "outputs": [],
   "source": [
    "# 백준 2753\n",
    "\n",
    "a =  int(input())\n",
    "\n",
    "if a%4 == 0 and a%100 != 0:\n",
    "    print(1)\n",
    "elif a%4 == 0 and a%400 == 0:\n",
    "    print(1)\n",
    "else:\n",
    "    print(0)"
   ]
  },
  {
   "cell_type": "code",
   "execution_count": null,
   "metadata": {},
   "outputs": [],
   "source": [
    "# 백준 2884\n",
    "\n",
    "h, m = map(int, input().split())\n",
    "\n",
    "\n",
    "if m >= 45:\n",
    "    print(h, m-45)\n",
    "elif 0 <= m < 45 and 0 < h <= 23:\n",
    "    print(h-1, m+15)\n",
    "elif 0 <= m < 45 and h == 0:\n",
    "    print(23, m+15)\n",
    "    "
   ]
  },
  {
   "cell_type": "code",
   "execution_count": null,
   "metadata": {},
   "outputs": [],
   "source": [
    "# 백준 2739\n",
    "\n",
    "n = int(input())\n",
    "\n",
    "for i in range(1, 10):\n",
    "    print(n, \"*\", i, \"=\", n*i)"
   ]
  },
  {
   "cell_type": "code",
   "execution_count": null,
   "metadata": {},
   "outputs": [],
   "source": [
    "# 백준10950\n",
    "\n",
    "t = int(input())\n",
    "\n",
    "\n",
    "for i in range(0,t):\n",
    "    a, b = map(int, input().split())\n",
    "    print(a + b)\n",
    "        "
   ]
  },
  {
   "cell_type": "code",
   "execution_count": 3,
   "metadata": {},
   "outputs": [
    {
     "name": "stdout",
     "output_type": "stream",
     "text": [
      "10 5\n",
      "1 2 5 3 7 8 3 2 7 7\n",
      "12332"
     ]
    }
   ],
   "source": [
    "# 백준 10871\n",
    "\n",
    "#n, x = map(int, input().split())\n",
    "#a = list(map(int, input().split()))\n",
    "\n",
    "#for i in range(n):\n",
    "   # if x > a[i]:\n",
    "        #print(a[i], end = '')\n",
    "        \n",
    "        \n",
    "n, x = map(int,input().split(\" \"))\n",
    " \n",
    "a = list(map(int,input().split(\" \")))\n",
    " \n",
    "for i in range(n):\n",
    "  if x > a[i]:\n",
    "    print(a[i], end = \" \")\n"
   ]
  },
  {
   "cell_type": "markdown",
   "metadata": {},
   "source": [
    "## "
   ]
  }
 ],
 "metadata": {
  "kernelspec": {
   "display_name": "Python 3",
   "language": "python",
   "name": "python3"
  },
  "language_info": {
   "codemirror_mode": {
    "name": "ipython",
    "version": 3
   },
   "file_extension": ".py",
   "mimetype": "text/x-python",
   "name": "python",
   "nbconvert_exporter": "python",
   "pygments_lexer": "ipython3",
   "version": "3.7.5"
  }
 },
 "nbformat": 4,
 "nbformat_minor": 2
}
