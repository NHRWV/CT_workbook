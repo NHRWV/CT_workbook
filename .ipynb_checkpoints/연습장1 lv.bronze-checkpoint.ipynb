{
 "cells": [
  {
   "cell_type": "code",
   "execution_count": null,
   "metadata": {},
   "outputs": [],
   "source": [
    "dish_arrivals = ['오뎅', '김밥', '떡볶이', '튀김' ,'순대']\n",
    "customer_arrivals = [['이한솔','Biz Lee'], ['이한솔','이세솔','이네솔'], '이한솔']"
   ]
  },
  {
   "cell_type": "code",
   "execution_count": null,
   "metadata": {},
   "outputs": [],
   "source": [
    "customer_arrivals[0:2]"
   ]
  },
  {
   "cell_type": "code",
   "execution_count": null,
   "metadata": {},
   "outputs": [],
   "source": [
    "customer_arrivals[1][0:2]"
   ]
  },
  {
   "cell_type": "code",
   "execution_count": null,
   "metadata": {},
   "outputs": [],
   "source": [
    "T = int(input())\n",
    "\n",
    "\n",
    "A,B = map(i,input().split())\n",
    "print(A+B)"
   ]
  },
  {
   "cell_type": "code",
   "execution_count": null,
   "metadata": {},
   "outputs": [],
   "source": [
    "a,b = input(). split()\n",
    "a = int(a)\n",
    "b = int(b)\n",
    "\n",
    "print(a+b)"
   ]
  },
  {
   "cell_type": "code",
   "execution_count": null,
   "metadata": {},
   "outputs": [],
   "source": [
    "T = int(input())\n",
    "\n",
    "\n",
    "A,B = map(i,input().split())\n",
    "print(A+B)"
   ]
  },
  {
   "cell_type": "code",
   "execution_count": null,
   "metadata": {},
   "outputs": [],
   "source": [
    "A,B = input(). split()\n",
    "A = int(A)\n",
    "B = int(B)\n",
    "\n",
    "if A>B : \n",
    "    print(\">\")\n",
    "elif A<B :\n",
    "    print(\"<\")\n",
    "elif A==B :\n",
    "    print(\"==\")"
   ]
  },
  {
   "cell_type": "code",
   "execution_count": null,
   "metadata": {},
   "outputs": [],
   "source": [
    "money, people = map(int, input().split())\n",
    "print(money // people)\n",
    "print(money % people)"
   ]
  },
  {
   "cell_type": "code",
   "execution_count": null,
   "metadata": {},
   "outputs": [],
   "source": [
    "a, b = map(int, input().split())\n",
    "print(a*b)"
   ]
  },
  {
   "cell_type": "code",
   "execution_count": null,
   "metadata": {},
   "outputs": [],
   "source": [
    "a, b = map(int, input().split())\n",
    "\n",
    "sam = a*(b%10)\n",
    "sa = a*((b%100)//10)\n",
    "oh = a*(b//100)\n",
    "ryuk = sam + sa*10 + oh*100\n",
    "\n",
    "list = [sam, sa, oh, ryuk]\n",
    "\n",
    "for i in list :\n",
    "    print(i)"
   ]
  },
  {
   "cell_type": "markdown",
   "metadata": {},
   "source": [
    "0 1 2 3 4 5 6 7 8 9  a  b  c  d  e  f 10 11 12 13 14 15 16 17 18 19 1a 1b 1c 1d 1e 1f 30 31\n",
    "0 1 2 3 4 5 6 7 8 9 10 11 12 13 14 15 16 17 18 19 20 21 22 23 24 25 26 27 28 29 30 31 32 33"
   ]
  },
  {
   "cell_type": "code",
   "execution_count": null,
   "metadata": {},
   "outputs": [],
   "source": [
    "import datetime\n",
    "\n",
    "now = datetime.datetime.now()\n",
    "\n",
    "if now.hour%2 == 0:\n",
    "    print(1)\n",
    "else :\n",
    "    print(0)\n",
    "    \n",
    "    \n",
    "#타노스!!! 사실 백준에서는 이 코드는 틀렸다고 나온다.. 그냥 print(1) 했더니 살아남는다. 15802번 문제."
   ]
  },
  {
   "cell_type": "code",
   "execution_count": null,
   "metadata": {},
   "outputs": [],
   "source": [
    "#1712 손익분기점 문제\n",
    "\n",
    "a, b, c =  map(int, input().split())\n",
    "\n",
    "x=1\n",
    "\n",
    "while a+(x*b) > x*c:\n",
    "    x += 1\n",
    "    \n",
    "    if a+(x*b) < x*c:\n",
    "        print(x)\n",
    "        \n",
    "        break\n",
    "    else :\n",
    "        print(-1)\n"
   ]
  },
  {
   "cell_type": "code",
   "execution_count": null,
   "metadata": {},
   "outputs": [],
   "source": [
    "#백준 2420\n",
    "\n",
    "n, m = map(int, input().split())\n",
    "\n",
    "if n-m >= 0 :\n",
    "    print(n-m)\n",
    "else :\n",
    "    print(m-n)"
   ]
  },
  {
   "cell_type": "code",
   "execution_count": null,
   "metadata": {},
   "outputs": [],
   "source": [
    "# 백준 14924 \n",
    "\n",
    "s, t, d =  map(int, input().split())\n",
    "\n",
    "\n",
    "print(int((d/(s*2))*t))"
   ]
  },
  {
   "cell_type": "code",
   "execution_count": null,
   "metadata": {},
   "outputs": [],
   "source": [
    "#백준 14681\n",
    "\n",
    "x = input()\n",
    "y = input()\n",
    "x = int(x)\n",
    "y = int(y)\n",
    "\n",
    "if x > 0 and y > 0 :\n",
    "    print(1)\n",
    "elif x < 0 and y > 0 :\n",
    "    print(2)\n",
    "elif x < 0 and y < 0 :\n",
    "    print(3)\n",
    "elif x > 0 and y < 0 :\n",
    "    print(4)"
   ]
  },
  {
   "cell_type": "code",
   "execution_count": null,
   "metadata": {},
   "outputs": [],
   "source": [
    "# 백준 1152\n",
    "\n",
    "a = input()\n",
    "b= list(a.strip().split())\n",
    "print(len(b))"
   ]
  },
  {
   "cell_type": "code",
   "execution_count": null,
   "metadata": {},
   "outputs": [],
   "source": [
    "# 백준 1110\n",
    "\n",
    "n = int(input())\n",
    "count = 0\n",
    "if(n<10):\n",
    "    n = \"0\" + str(n)\n",
    "else:\n",
    "    n = str(n)\n",
    "orin = n    # 원래 n값 저장\n",
    "while True:\n",
    "    count += 1\n",
    "    k = n     # k,n문자열\n",
    "    total = 0\n",
    "    for i in range(len(k)):\n",
    "        total += int(k[i])\n",
    "    \n",
    "    k = str(total)\n",
    "    n = n[-1] + k[-1]\n",
    "    \n",
    "    if n == orin:    #원래 n값이랑 같으면 탈출\n",
    "        break\n",
    "\n",
    "print(count)"
   ]
  },
  {
   "cell_type": "code",
   "execution_count": null,
   "metadata": {},
   "outputs": [],
   "source": [
    "# 백준 1110\n",
    "\n",
    "n = int(input())\n",
    "\n",
    "if n < 10:\n",
    "    n = \"0\" + str(n)\n",
    "else:\n",
    "    n = str(n)\n",
    "    \n",
    "count = 0    \n",
    "h = n\n",
    "while True:\n",
    "    count += 1\n",
    "    \n",
    "    \n",
    "    a = int(n[0]) + int(n[1])\n",
    "    n = n[1] + str(a)[-1]\n",
    "    \n",
    "    if n == h:\n",
    "        break\n",
    "\n",
    "print(count)\n",
    "    \n",
    "    \n",
    "    "
   ]
  },
  {
   "cell_type": "code",
   "execution_count": null,
   "metadata": {},
   "outputs": [],
   "source": [
    "# 백준 1157\n",
    "\n",
    "w = str(input())\n",
    "\n",
    "w = w.upper()\n",
    "\n",
    "count = 0\n",
    "w_list = []\n",
    "for i in range(len(w)):\n",
    "    \n",
    "    cha = w[0]\n",
    "    \n",
    "    if count <= w.count(w[i]):\n",
    "        count = w.count(w[i])\n",
    "        w_list.append(count)\n",
    "        cha = w[i]\n",
    "        \n",
    "w_list.sort()\n",
    "\n",
    "if w_list.count(w_list[-1]) > 1:\n",
    "    print(\"?\")\n",
    "else:\n",
    "    print(cha)\n",
    "    \n",
    "    \n",
    "    "
   ]
  },
  {
   "cell_type": "code",
   "execution_count": null,
   "metadata": {},
   "outputs": [],
   "source": [
    "## 백준 1550 상혁's\n",
    "\n",
    "s = input()\n",
    "s = s[::-1] # 문자열 뒤집기\n",
    "\n",
    "def get_num(x):\n",
    "    if ord(x) < 60:\n",
    "        return ord(x) - 48\n",
    "    else:\n",
    "        return ord(x) - 55\n",
    "\n",
    "total = 0\n",
    "for i in range(len(s)):\n",
    "    total += get_num(s[i]) * 16 ** i\n",
    "\n",
    "print(total)"
   ]
  },
  {
   "cell_type": "code",
   "execution_count": null,
   "metadata": {},
   "outputs": [],
   "source": [
    "# 백준 1157 상혁's\n",
    "\n",
    "from collections import defaultdict\n",
    "\n",
    "s = input()\n",
    "s = s.upper()\n",
    "\n",
    "d = defaultdict(int)\n",
    "\n",
    "max_count = 0\n",
    "max_count_letter = \"\"\n",
    "for v in s:\n",
    "    d[v] += 1\n",
    "    if d[v] >= max_count:\n",
    "        max_count_letter = v\n",
    "        \n",
    "        if d[v] == max_count:\n",
    "            max_count_letter = \"?\"\n",
    "            \n",
    "        max_count = d[v]\n",
    "            \n",
    "print(max_count_letter)"
   ]
  },
  {
   "cell_type": "code",
   "execution_count": null,
   "metadata": {},
   "outputs": [],
   "source": [
    "# 백준 9498\n",
    "\n",
    "a = int(input())\n",
    "\n",
    "if 90 <= a <= 100:\n",
    "    print(\"A\")\n",
    "elif 80 <= a <= 89:\n",
    "    print(\"B\")\n",
    "elif 70 <= a <= 79:\n",
    "    print(\"C\")\n",
    "elif 60 <= a <= 69:\n",
    "    print(\"D\")\n",
    "elif 0 <= a <= 59:\n",
    "    print(\"F\")\n",
    "    "
   ]
  },
  {
   "cell_type": "code",
   "execution_count": null,
   "metadata": {},
   "outputs": [],
   "source": [
    "# 백준 2753\n",
    "\n",
    "a =  int(input())\n",
    "\n",
    "if a%4 == 0 and a%100 != 0:\n",
    "    print(1)\n",
    "elif a%4 == 0 and a%400 == 0:\n",
    "    print(1)\n",
    "else:\n",
    "    print(0)"
   ]
  },
  {
   "cell_type": "code",
   "execution_count": null,
   "metadata": {},
   "outputs": [],
   "source": [
    "# 백준 2884\n",
    "\n",
    "h, m = map(int, input().split())\n",
    "\n",
    "\n",
    "if m >= 45:\n",
    "    print(h, m-45)\n",
    "elif 0 <= m < 45 and 0 < h <= 23:\n",
    "    print(h-1, m+15)\n",
    "elif 0 <= m < 45 and h == 0:\n",
    "    print(23, m+15)\n",
    "    "
   ]
  },
  {
   "cell_type": "code",
   "execution_count": null,
   "metadata": {},
   "outputs": [],
   "source": [
    "# 백준 2739\n",
    "\n",
    "n = int(input())\n",
    "\n",
    "for i in range(1, 10):\n",
    "    print(n, \"*\", i, \"=\", n*i)"
   ]
  },
  {
   "cell_type": "code",
   "execution_count": null,
   "metadata": {},
   "outputs": [],
   "source": [
    "# 백준10950\n",
    "\n",
    "t = int(input())\n",
    "\n",
    "\n",
    "for i in range(0,t):\n",
    "    a, b = map(int, input().split())\n",
    "    print(a + b)\n",
    "        "
   ]
  },
  {
   "cell_type": "code",
   "execution_count": null,
   "metadata": {},
   "outputs": [],
   "source": [
    "# 백준 10871\n",
    "\n",
    "#n, x = map(int, input().split())\n",
    "#a = list(map(int, input().split()))\n",
    "\n",
    "#for i in range(n):\n",
    "   # if x > a[i]:\n",
    "        #print(a[i], end = '')\n",
    "        \n",
    "        \n",
    "n, x = map(int,input().split(\" \"))\n",
    " \n",
    "a = list(map(int,input().split(\" \")))\n",
    " \n",
    "for i in range(n):\n",
    "  if x > a[i]:\n",
    "    print(a[i], end = \" \")\n"
   ]
  },
  {
   "cell_type": "code",
   "execution_count": null,
   "metadata": {},
   "outputs": [],
   "source": [
    "# 백준 10951\n",
    "\n",
    "while True:\n",
    "    try:\n",
    "        a, b = map(int, input().split())\n",
    "        if 0 < a < 10 and 0 < b <10:\n",
    "            print(a + b)\n",
    "        \n",
    "    except:\n",
    "        break\n",
    "    \n",
    "    \n",
    "    "
   ]
  },
  {
   "cell_type": "code",
   "execution_count": null,
   "metadata": {},
   "outputs": [],
   "source": [
    "# 백준 10952\n",
    "\n",
    "while True:\n",
    "    try:\n",
    "        a, b = map(int, input().split())\n",
    "        if 0 < a < 10 and 0< b < 10:\n",
    "            print(a + b)\n",
    "    \n",
    "        elif a == 0 and b == 0:\n",
    "            break\n",
    "        \n",
    "    except:\n",
    "        break"
   ]
  },
  {
   "cell_type": "code",
   "execution_count": null,
   "metadata": {},
   "outputs": [],
   "source": [
    "# 백준 10818\n",
    "\n",
    "n = int(input())\n",
    "\n",
    "a = map(int, input().split())\n",
    "a = list(a)\n",
    "a.sort()\n",
    "print(a[0], a[-1])\n",
    "\n",
    "#print(a[0], a[-1])"
   ]
  },
  {
   "cell_type": "code",
   "execution_count": null,
   "metadata": {},
   "outputs": [],
   "source": [
    "# 백준 2562\n",
    "\n",
    "a = list(map(int, input().split()))\n",
    "   \n",
    "print(max(a))\n",
    "print(a.index(max(a)))"
   ]
  },
  {
   "cell_type": "code",
   "execution_count": null,
   "metadata": {},
   "outputs": [],
   "source": [
    "# 백준 2562\n",
    "\n",
    "a = []\n",
    "for i in range(9):\n",
    "    b = int(input())\n",
    "    a.append(b)\n",
    "    \n",
    "print(max(a))\n",
    "print(a.index(max(a))+1)"
   ]
  },
  {
   "cell_type": "code",
   "execution_count": null,
   "metadata": {},
   "outputs": [],
   "source": [
    "# 백준 2562\n",
    "\n",
    "max_num = 0 \n",
    "for i in range(1, 10): \n",
    "    num = int(input()) \n",
    "    if max_num < num: \n",
    "        max_num = num \n",
    "        flag = i \n",
    "print(max_num) \n",
    "print(flag)\n",
    "\n"
   ]
  },
  {
   "cell_type": "code",
   "execution_count": null,
   "metadata": {},
   "outputs": [],
   "source": [
    "# 백준 2577\n",
    "\n",
    "#a, b, c = map(int, input().split())\n",
    "\n",
    "a = int(input())\n",
    "b = int(input())\n",
    "c = int(input())\n",
    "\n",
    "ans = str(a*b*c)\n",
    "\n",
    "for i in range(10):\n",
    "    print(ans.count(str(i)))"
   ]
  },
  {
   "cell_type": "code",
   "execution_count": null,
   "metadata": {},
   "outputs": [],
   "source": [
    "print(a.index(max(a))+1)"
   ]
  },
  {
   "cell_type": "code",
   "execution_count": null,
   "metadata": {},
   "outputs": [],
   "source": [
    "# 백준 3052...근데 이 코드는 문제가 요구하는 결과는 해결 가능하나 문제의 조건을 충족시키진 못한다.\n",
    "\n",
    "a = list(map(int, input().split()))\n",
    "b = []\n",
    "for i in range(len(a)):\n",
    "    if b.count(a[i]%42) == 0:\n",
    "        b.append(a[i]%42)\n",
    "    \n",
    "print(len(b))"
   ]
  },
  {
   "cell_type": "code",
   "execution_count": null,
   "metadata": {},
   "outputs": [],
   "source": [
    "# 백준 3052\n",
    "a = []\n",
    "for i in range(10):\n",
    "    b = int(input())\n",
    "    if a.count(b % 42) == 0:\n",
    "        a.append(b % 42)\n",
    "print(len(a))\n",
    "    \n",
    "# 이 방법 말고 그냥 set으로 중복된 내용을 제거하는 방법도 있다!"
   ]
  },
  {
   "cell_type": "code",
   "execution_count": null,
   "metadata": {},
   "outputs": [],
   "source": [
    "# 백준 1546\n",
    "\n",
    "n = int(input())\n",
    "\n",
    "s = list(map(int, input().split()))\n",
    "m = max(s)\n",
    "for i in range(len(s)):\n",
    "    \n",
    "    s[i] = (s[i]/m)*100\n",
    "    \n",
    "print(sum(s)/len(s))"
   ]
  },
  {
   "cell_type": "code",
   "execution_count": null,
   "metadata": {},
   "outputs": [],
   "source": [
    "# 백준 8958\n",
    "\n",
    "n = int(input())\n",
    "\n",
    "for i in range(n):\n",
    "    a = str(input())\n",
    "    a.upper()\n",
    "    b = a.split('X')\n",
    "\n",
    "    for j in range(len(b)):\n",
    "        b[j] = (1 + len(b[j])) * (len(b[j]) / 2)\n",
    "    \n",
    "    print(int(sum(b)))\n",
    "\n",
    "        \n",
    "\n"
   ]
  },
  {
   "cell_type": "code",
   "execution_count": 13,
   "metadata": {},
   "outputs": [
    {
     "name": "stdout",
     "output_type": "stream",
     "text": [
      "1\n",
      "7\n"
     ]
    },
    {
     "ename": "IndexError",
     "evalue": "list index out of range",
     "output_type": "error",
     "traceback": [
      "\u001b[1;31m---------------------------------------------------------------------------\u001b[0m",
      "\u001b[1;31mIndexError\u001b[0m                                Traceback (most recent call last)",
      "\u001b[1;32m<ipython-input-13-3ea182a01ea3>\u001b[0m in \u001b[0;36m<module>\u001b[1;34m\u001b[0m\n\u001b[0;32m      9\u001b[0m \u001b[1;33m\u001b[0m\u001b[0m\n\u001b[0;32m     10\u001b[0m     \u001b[1;32mfor\u001b[0m \u001b[0mj\u001b[0m \u001b[1;32min\u001b[0m \u001b[0mrange\u001b[0m\u001b[1;33m(\u001b[0m\u001b[1;36m1\u001b[0m\u001b[1;33m,\u001b[0m \u001b[0mns\u001b[0m\u001b[1;33m[\u001b[0m\u001b[1;36m0\u001b[0m\u001b[1;33m]\u001b[0m \u001b[1;33m+\u001b[0m \u001b[1;36m1\u001b[0m\u001b[1;33m)\u001b[0m\u001b[1;33m:\u001b[0m\u001b[1;33m\u001b[0m\u001b[1;33m\u001b[0m\u001b[0m\n\u001b[1;32m---> 11\u001b[1;33m         \u001b[1;32mif\u001b[0m \u001b[0mns\u001b[0m\u001b[1;33m[\u001b[0m\u001b[0mj\u001b[0m\u001b[1;33m]\u001b[0m \u001b[1;33m>\u001b[0m \u001b[1;33m(\u001b[0m\u001b[1;33m(\u001b[0m\u001b[0msum\u001b[0m\u001b[1;33m(\u001b[0m\u001b[0mns\u001b[0m\u001b[1;33m)\u001b[0m\u001b[1;33m-\u001b[0m\u001b[0mns\u001b[0m\u001b[1;33m[\u001b[0m\u001b[1;36m0\u001b[0m\u001b[1;33m]\u001b[0m\u001b[1;33m)\u001b[0m\u001b[1;33m/\u001b[0m \u001b[0mns\u001b[0m\u001b[1;33m[\u001b[0m\u001b[1;36m0\u001b[0m\u001b[1;33m]\u001b[0m\u001b[1;33m)\u001b[0m\u001b[1;33m:\u001b[0m\u001b[1;33m\u001b[0m\u001b[1;33m\u001b[0m\u001b[0m\n\u001b[0m\u001b[0;32m     12\u001b[0m             \u001b[0mcount\u001b[0m \u001b[1;33m+=\u001b[0m \u001b[1;36m1\u001b[0m\u001b[1;33m\u001b[0m\u001b[1;33m\u001b[0m\u001b[0m\n\u001b[0;32m     13\u001b[0m     \u001b[0ma\u001b[0m \u001b[1;33m=\u001b[0m \u001b[1;33m(\u001b[0m\u001b[0mcount\u001b[0m \u001b[1;33m/\u001b[0m \u001b[0mns\u001b[0m\u001b[1;33m[\u001b[0m\u001b[1;36m0\u001b[0m\u001b[1;33m]\u001b[0m\u001b[1;33m)\u001b[0m\u001b[1;33m*\u001b[0m\u001b[1;36m100\u001b[0m\u001b[1;33m\u001b[0m\u001b[1;33m\u001b[0m\u001b[0m\n",
      "\u001b[1;31mIndexError\u001b[0m: list index out of range"
     ]
    }
   ],
   "source": [
    "# 백준 4344\n",
    "\n",
    "c = int(input())\n",
    "\n",
    "for i in range(c):\n",
    "    ns = list(map(int, input().split()))\n",
    "    \n",
    "    count = 0\n",
    "    \n",
    "    for j in range(1, ns[0] + 1):\n",
    "        if ns[j] > ((sum(ns)-ns[0])/ ns[0]):\n",
    "            count += 1\n",
    "    a = (count / ns[0])*100\n",
    "    print('{:.3f}%'.format(a))\n",
    "    "
   ]
  },
  {
   "cell_type": "code",
   "execution_count": 14,
   "metadata": {},
   "outputs": [],
   "source": [
    "# 백준 15596\n",
    "\n",
    "def tot(lst):\n",
    "    result = sum(lst)\n",
    "    return result"
   ]
  },
  {
   "cell_type": "code",
   "execution_count": 30,
   "metadata": {},
   "outputs": [],
   "source": [
    "# 백준 4673\n",
    "\n",
    "\n",
    "\n",
    "def sol(n):\n",
    "    a = []\n",
    "    for i in range(1, n+1):\n",
    "        tot = i\n",
    "    \n",
    "        for j in range(len(str(i))):\n",
    "        \n",
    "            tot += int(str(i)[j])\n",
    "        a.append(tot)    \n",
    "\n",
    "    \n",
    "    for m in range(1, n+1):\n",
    "        if a.count(m) == 0:\n",
    "            print(m)\n",
    "    "
   ]
  },
  {
   "cell_type": "code",
   "execution_count": 32,
   "metadata": {},
   "outputs": [],
   "source": [
    "def sol():\n",
    "    a = []\n",
    "    for i in range(1, 10001):\n",
    "        tot = i\n",
    "    \n",
    "        for j in range(len(str(i))):\n",
    "        \n",
    "            tot += int(str(i)[j])\n",
    "        a.append(tot)    \n",
    "\n",
    "    \n",
    "    for m in range(1, 10001):\n",
    "        if a.count(m) == 0:\n",
    "            print(m)"
   ]
  },
  {
   "cell_type": "code",
   "execution_count": 82,
   "metadata": {},
   "outputs": [],
   "source": [
    "# 백준 1065\n",
    "\n",
    "def han(n):\n",
    "    int(n)\n",
    "    num = []\n",
    "    \n",
    "    if n < 10:\n",
    "        for k in range(1, n + 1):\n",
    "            num.append(k)\n",
    "    \n",
    "    elif n >= 10:\n",
    "        for k in range(1, 10):\n",
    "            num.append(k)\n",
    "        for i in range(10, n + 1):\n",
    "        \n",
    "            diff = []\n",
    "            j = 0\n",
    "            while j + 1 < len(str(i)):\n",
    "            \n",
    "                diff.append(int(str(i)[j]) - int(str(i)[j+1]))\n",
    "                j += 1\n",
    "                \n",
    "            if diff.count(diff[0]) == len(diff):\n",
    "                num.append(i)\n",
    "    \n",
    "    \n",
    "    \n",
    "    result = len(num)\n",
    "    \n",
    "    return result\n",
    "\n",
    "a = int(input())\n",
    "print(han(a))"
   ]
  },
  {
   "cell_type": "code",
   "execution_count": 81,
   "metadata": {},
   "outputs": [
    {
     "data": {
      "text/plain": [
       "1"
      ]
     },
     "execution_count": 81,
     "metadata": {},
     "output_type": "execute_result"
    }
   ],
   "source": [
    "# dpdls2840 유니스트 포스텍 출신 사람의 코드. 다만 1000까지만 가능함.\n",
    "\n",
    "\n",
    "def f(num):\n",
    "    if num//100==0:\n",
    "        return 1\n",
    "    num0 = num // 100\n",
    "    num1 = (num % 100) // 10\n",
    "    num2 = num % 10\n",
    "    if num1 - num0 == num2 - num1:\n",
    "        return 1\n",
    "    else:\n",
    "        return 0\n",
    "N = int(input())\n",
    "count = 0\n",
    "for i in range(1,N+1):\n",
    "    count += f(i)\n",
    "print(count)"
   ]
  }
 ],
 "metadata": {
  "kernelspec": {
   "display_name": "Python 3",
   "language": "python",
   "name": "python3"
  },
  "language_info": {
   "codemirror_mode": {
    "name": "ipython",
    "version": 3
   },
   "file_extension": ".py",
   "mimetype": "text/x-python",
   "name": "python",
   "nbconvert_exporter": "python",
   "pygments_lexer": "ipython3",
   "version": "3.7.5"
  }
 },
 "nbformat": 4,
 "nbformat_minor": 2
}
