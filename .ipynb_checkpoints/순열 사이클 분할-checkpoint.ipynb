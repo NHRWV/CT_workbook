{
 "cells": [
  {
   "cell_type": "markdown",
   "id": "b37a7dbc",
   "metadata": {},
   "source": [
    "https://www.acmicpc.net/problem/10451"
   ]
  },
  {
   "cell_type": "code",
   "execution_count": null,
   "id": "7e642814",
   "metadata": {},
   "outputs": [],
   "source": [
    "# 순열 사이클\n",
    "\n",
    "import sys\n",
    "sys.setrecursionlimit(int(1e6))\n",
    "\n",
    "t = int(input())\n",
    "\n",
    "def sol(x):\n",
    "    visited[x] = 1\n",
    "    \n",
    "    if not visited[lst[x-1]]:\n",
    "        sol(lst[x-1])\n",
    "\n",
    "\n",
    "for _ in range(t):\n",
    "    n = int(input())\n",
    "    lst = list(map(int, input().split()))\n",
    "    \n",
    "    answer = 0\n",
    "    visited = [0] * (n+1)\n",
    "    \n",
    "    for i in range(1, n+1):\n",
    "        if not visited[i]:\n",
    "            sol(i)\n",
    "            answer += 1\n",
    "            \n",
    "    print(answer)\n",
    "    \n",
    "    \n",
    "    "
   ]
  },
  {
   "cell_type": "markdown",
   "id": "ce405ce3",
   "metadata": {},
   "source": [
    "https://www.acmicpc.net/problem/2569"
   ]
  },
  {
   "cell_type": "code",
   "execution_count": null,
   "id": "a61ad8b3",
   "metadata": {},
   "outputs": [],
   "source": [
    "# 짐정리\n",
    "\n",
    "n = int(input())\n",
    "\n",
    "weight = []\n",
    "for i in range(n):\n",
    "    weight.append((int(input()), i))\n",
    "    \n",
    "weight.sort()\n",
    "\n",
    "answer = 0\n",
    "visited = [0] * n\n",
    "\n",
    "for i in range(n):\n",
    "    if visited[i]:\n",
    "        continue\n",
    "        \n",
    "    cycle = 0\n",
    "    nxt = i\n",
    "    \n",
    "    while not visited[nxt]:\n",
    "        print(i, nxt, weight[nxt][0])\n",
    "        visited[nxt] = 1\n",
    "        answer += weight[nxt][0]\n",
    "        cycle += 1\n",
    "        nxt = weight[nxt][1]\n",
    "    print(cycle)\n",
    "    print(weight[0][0] * (cycle + 1) + weight[i][0], weight[i][0] * (cycle - 2))\n",
    "    answer += min(weight[0][0] * (cycle + 1) + weight[i][0], weight[i][0] * (cycle - 2))\n",
    "    print()\n",
    "    \n",
    "print(answer)\n",
    "\n",
    "\n",
    "# case 1\n",
    "# Check only non-sorted cyclic vertices.\n",
    "# 4 2 1 3 -> check (1, 3, 4) -> (1 + 3) + (1 + 4) = 9\n",
    "\n",
    "# case 2\n",
    "# Check a vertex having minimum value in the graph and non-sorted cyclic vertices.\n",
    "# 1 8 9 7 6 -> check (1) and (6, 7, 8, 9) -> (1 + 6) + (1 + 9) + (1 + 7) + (1 + 8) + (1 + 6) = 41\n",
    "\n",
    "#테케는 (2, 5, 10)과 (8)로 분할됨. 노드 최솟값(weight[i][0])이 위치를 바꿔야 하는 것인지 여부가 중요."
   ]
  },
  {
   "cell_type": "markdown",
   "id": "6a0e3330",
   "metadata": {},
   "source": [
    "https://www.acmicpc.net/problem/1851"
   ]
  },
  {
   "cell_type": "code",
   "execution_count": null,
   "id": "acbbbd3a",
   "metadata": {},
   "outputs": [],
   "source": [
    "# 추 정렬하기\n",
    "\n",
    "n = int(input())\n",
    "\n",
    "weight = []\n",
    "for i in range(n):\n",
    "    weight.append((int(input()), i))\n",
    "    \n",
    "weight.sort()\n",
    "\n",
    "answer = 0\n",
    "visited = [0] * n\n",
    "\n",
    "for i in range(n):\n",
    "    if visited[i]:\n",
    "        continue\n",
    "        \n",
    "    cycle = 0\n",
    "    nxt = i\n",
    "    \n",
    "    while not visited[nxt]:\n",
    "        visited[nxt] = 1\n",
    "        answer += weight[nxt][0]\n",
    "        cycle += 1\n",
    "        nxt = weight[nxt][1]\n",
    "    \n",
    "    answer += min(weight[0][0] * (cycle + 1) + weight[i][0], weight[i][0] * (cycle - 2))\n",
    "    \n",
    "    \n",
    "print(answer)\n"
   ]
  },
  {
   "cell_type": "markdown",
   "id": "cb96ff62",
   "metadata": {},
   "source": [
    "https://www.acmicpc.net/problem/2322"
   ]
  },
  {
   "cell_type": "code",
   "execution_count": null,
   "id": "e59339c4",
   "metadata": {},
   "outputs": [],
   "source": [
    "n = int(input())\n",
    "\n",
    "weight = []\n",
    "for idx, i in enumerate(map(int, input().split())):\n",
    "    weight.append((i, idx))\n",
    "    \n",
    "weight.sort()\n",
    "\n",
    "answer = 0\n",
    "visited = [0] * n\n",
    "\n",
    "for i in range(n):\n",
    "    if visited[i]:\n",
    "        continue\n",
    "        \n",
    "    cycle = 0\n",
    "    nxt = i\n",
    "    \n",
    "    while not visited[nxt]:\n",
    "        visited[nxt] = 1\n",
    "        answer += weight[nxt][0]\n",
    "        cycle += 1\n",
    "        nxt = weight[nxt][1]\n",
    "    \n",
    "    answer += min(weight[i][0] * (cycle - 2), weight[0][0] * (cycle + 1) + weight[i][0])\n",
    "    \n",
    "    \n",
    "print(answer)\n"
   ]
  },
  {
   "cell_type": "markdown",
   "id": "7b7278f1",
   "metadata": {},
   "source": [
    "https://www.acmicpc.net/problem/6223"
   ]
  },
  {
   "cell_type": "code",
   "execution_count": 11,
   "id": "ce8ce55b",
   "metadata": {},
   "outputs": [
    {
     "name": "stdout",
     "output_type": "stream",
     "text": [
      "3\n",
      "2\n",
      "3\n",
      "1\n",
      "7\n"
     ]
    }
   ],
   "source": [
    "n = int(input())\n",
    "\n",
    "weight = []\n",
    "for i in range(n):\n",
    "    weight.append((int(input()), i))\n",
    "    \n",
    "weight.sort()\n",
    "\n",
    "answer = 0\n",
    "visited = [0] * n\n",
    "\n",
    "for i in range(n):\n",
    "    if visited[i]:\n",
    "        continue\n",
    "        \n",
    "    cycle = 0\n",
    "    nxt = i\n",
    "    \n",
    "    while not visited[nxt]:\n",
    "        visited[nxt] = 1\n",
    "        answer += weight[nxt][0]\n",
    "        cycle += 1\n",
    "        nxt = weight[nxt][1]\n",
    "    \n",
    "    answer += min(weight[i][0] * (cycle - 2), weight[0][0] * (cycle + 1) + weight[i][0])\n",
    "    \n",
    "    \n",
    "print(answer)"
   ]
  },
  {
   "cell_type": "markdown",
   "id": "f5acb5ee",
   "metadata": {},
   "source": [
    "https://www.acmicpc.net/problem/8172"
   ]
  },
  {
   "cell_type": "code",
   "execution_count": null,
   "id": "2ec35afb",
   "metadata": {},
   "outputs": [],
   "source": []
  }
 ],
 "metadata": {
  "kernelspec": {
   "display_name": "Python 3",
   "language": "python",
   "name": "python3"
  },
  "language_info": {
   "codemirror_mode": {
    "name": "ipython",
    "version": 3
   },
   "file_extension": ".py",
   "mimetype": "text/x-python",
   "name": "python",
   "nbconvert_exporter": "python",
   "pygments_lexer": "ipython3",
   "version": "3.8.8"
  }
 },
 "nbformat": 4,
 "nbformat_minor": 5
}
