{
 "cells": [
  {
   "cell_type": "code",
   "execution_count": 81,
   "metadata": {},
   "outputs": [
    {
     "name": "stdout",
     "output_type": "stream",
     "text": [
      "10\n",
      "1 2 3 4 5 6 7 8 9 10\n",
      "4\n"
     ]
    }
   ],
   "source": [
    "# 백준 1978\n",
    "\n",
    "n = int(input())\n",
    "num = list(map(int, input().split()))\n",
    "p_num = 0\n",
    "\n",
    "for i in num:\n",
    "    count = 0\n",
    "    if i == 1:\n",
    "        continue\n",
    "    if 2 <= i < 4:\n",
    "        for j in range(1, i):\n",
    "            if i%j == 0:\n",
    "                count += 1\n",
    "    elif i >= 4:\n",
    "        for j in range(1, int(i/2)+1):\n",
    "            if i%j == 0:\n",
    "                count += 1\n",
    "    \n",
    "    if count == 1:\n",
    "        p_num += 1\n",
    "\n",
    "print(p_num)\n",
    "        \n",
    "        "
   ]
  },
  {
   "cell_type": "code",
   "execution_count": 89,
   "metadata": {},
   "outputs": [
    {
     "name": "stdout",
     "output_type": "stream",
     "text": [
      "64\n",
      "65\n",
      "-1\n"
     ]
    }
   ],
   "source": [
    "# 백준 2581\n",
    "\n",
    "m = int(input())\n",
    "n = int(input())\n",
    "num = list(range(m, n + 1))\n",
    "p_num = []\n",
    "\n",
    "for i in num:\n",
    "    count = 0\n",
    "    if i == 1:\n",
    "        continue\n",
    "    for j in range(1, int(i**0.5) + 1):\n",
    "        if i%j == 0:\n",
    "            count += 1\n",
    "        \n",
    "    if count == 1:\n",
    "        p_num.append(i)\n",
    "\n",
    "if len(p_num) > 0:\n",
    "    print(sum(p_num))\n",
    "    print(min(p_num))\n",
    "else:\n",
    "    print(-1)"
   ]
  },
  {
   "cell_type": "code",
   "execution_count": 82,
   "metadata": {},
   "outputs": [],
   "source": [
    "a = list(range(1, 5))"
   ]
  },
  {
   "cell_type": "code",
   "execution_count": 83,
   "metadata": {},
   "outputs": [
    {
     "data": {
      "text/plain": [
       "[1, 2, 3, 4]"
      ]
     },
     "execution_count": 83,
     "metadata": {},
     "output_type": "execute_result"
    }
   ],
   "source": [
    "a"
   ]
  },
  {
   "cell_type": "code",
   "execution_count": 85,
   "metadata": {},
   "outputs": [
    {
     "data": {
      "text/plain": [
       "1"
      ]
     },
     "execution_count": 85,
     "metadata": {},
     "output_type": "execute_result"
    }
   ],
   "source": [
    "min(a)"
   ]
  },
  {
   "cell_type": "code",
   "execution_count": null,
   "metadata": {},
   "outputs": [],
   "source": []
  }
 ],
 "metadata": {
  "kernelspec": {
   "display_name": "Python 3",
   "language": "python",
   "name": "python3"
  },
  "language_info": {
   "codemirror_mode": {
    "name": "ipython",
    "version": 3
   },
   "file_extension": ".py",
   "mimetype": "text/x-python",
   "name": "python",
   "nbconvert_exporter": "python",
   "pygments_lexer": "ipython3",
   "version": "3.7.5"
  }
 },
 "nbformat": 4,
 "nbformat_minor": 2
}
