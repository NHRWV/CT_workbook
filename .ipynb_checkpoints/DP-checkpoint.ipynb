{
 "cells": [
  {
   "cell_type": "markdown",
   "id": "7a46e829",
   "metadata": {},
   "source": [
    "https://www.acmicpc.net/problem/2631"
   ]
  },
  {
   "cell_type": "code",
   "execution_count": null,
   "id": "166fce3a",
   "metadata": {},
   "outputs": [],
   "source": [
    "# 줄세우기\n",
    "\n",
    "from bisect import bisect_left\n",
    "\n",
    "n = int(input())\n",
    "row = []\n",
    "for i in range(n):\n",
    "    row.append(int(input()))\n",
    "    \n",
    "dp = [0]\n",
    "\n",
    "for i in row:\n",
    "    if dp[-1] < i:\n",
    "        dp.append(i)\n",
    "        \n",
    "    else:\n",
    "        dp[bisect_left(dp, i)] = i\n",
    "        \n",
    "print(n - (len(dp)-1))\n"
   ]
  },
  {
   "cell_type": "markdown",
   "id": "7f28d608",
   "metadata": {},
   "source": [
    "https://www.acmicpc.net/problem/16194"
   ]
  },
  {
   "cell_type": "code",
   "execution_count": null,
   "id": "0d00e969",
   "metadata": {},
   "outputs": [],
   "source": [
    "# 카드 구매하기 2\n",
    "\n",
    "n = int(input())\n",
    "lst = list(map(int,input().split()))\n",
    "\n",
    "\n",
    "dp = [int(1e9)] * (n+1)\n",
    "dp[0] = 0\n",
    "\n",
    "\n",
    "for i in range(1, n+1):\n",
    "    for j in range(i+1):\n",
    "        dp[i] = min(dp[i], lst[j-1] + dp[i-j])\n",
    "        \n",
    "print(dp[n])\n"
   ]
  },
  {
   "cell_type": "markdown",
   "id": "8236a0a6",
   "metadata": {},
   "source": [
    "https://www.acmicpc.net/problem/1495"
   ]
  },
  {
   "cell_type": "code",
   "execution_count": null,
   "id": "b8f0889e",
   "metadata": {},
   "outputs": [],
   "source": [
    "# 기타리스트\n",
    "\n",
    "n, s, m = map(int, input().split())\n",
    "lst = list(map(int, input().split()))\n",
    "\n",
    "dp = [[0] * (m+1) for _ in range(n+1)]\n",
    "dp[0][s] = 1\n",
    "\n",
    "for i in range(n):\n",
    "    for j in range(m+1):\n",
    "        if dp[i][j]:\n",
    "            if j + lst[i] <= m:\n",
    "                dp[i+1][j + lst[i]] = 1\n",
    "            if j - lst[i] >= 0:\n",
    "                dp[i+1][j - lst[i]] = 1\n",
    "                \n",
    "                \n",
    "answer = -1\n",
    "for i in range(m, -1, -1):\n",
    "    if dp[n][i]:\n",
    "        answer = i\n",
    "        break\n",
    "\n",
    "print(answer)\n",
    "    "
   ]
  },
  {
   "cell_type": "markdown",
   "id": "7d12bbf7",
   "metadata": {},
   "source": [
    "https://www.acmicpc.net/problem/2294"
   ]
  },
  {
   "cell_type": "code",
   "execution_count": null,
   "id": "c7dc6341",
   "metadata": {},
   "outputs": [],
   "source": [
    "# 동전 2\n",
    "\n",
    "n, k = map(int, input().split())\n",
    "\n",
    "coin = []\n",
    "for i in range(n):\n",
    "    coin.append(int(input()))\n",
    "    \n",
    "dp = [int(1e9)] * (k+1)\n",
    "dp[0] = 0\n",
    "\n",
    "for i in coin:\n",
    "    for j in range(i, k+1):\n",
    "        dp[j] = min(dp[j], dp[j - i] + 1)\n",
    "        \n",
    "\n",
    "print(dp[k] if dp[k] != int(1e9) else -1)\n",
    "\n",
    "\n"
   ]
  },
  {
   "cell_type": "markdown",
   "id": "2548cd0b",
   "metadata": {},
   "source": [
    "https://www.acmicpc.net/problem/16395"
   ]
  },
  {
   "cell_type": "code",
   "execution_count": null,
   "id": "21ebf75b",
   "metadata": {},
   "outputs": [],
   "source": [
    "# 파스칼의 삼각형\n",
    "\n",
    "n, k = map(int, input().split())\n",
    "\n",
    "dp = [[1] * (n+1) for _ in range(n+1)]\n",
    "\n",
    "for i in range(3, n+1):\n",
    "    for j in range(2, i):\n",
    "        dp[i][j] = dp[i-1][j-1] + dp[i-1][j]\n",
    "        \n",
    "print(dp[n][k])\n"
   ]
  },
  {
   "cell_type": "markdown",
   "id": "3aec73d5",
   "metadata": {},
   "source": [
    "https://www.acmicpc.net/problem/14916"
   ]
  },
  {
   "cell_type": "code",
   "execution_count": null,
   "id": "460b2070",
   "metadata": {},
   "outputs": [],
   "source": [
    "# 거스름돈\n",
    "\n",
    "n = int(input())\n",
    "\n",
    "answer = 0\n",
    "while n > 0:\n",
    "    if not n % 5:\n",
    "        answer += n // 5\n",
    "        n = 0\n",
    "        break\n",
    "        \n",
    "    n -= 2\n",
    "    answer += 1\n",
    "    \n",
    "    \n",
    "print(answer if not n else -1)\n"
   ]
  },
  {
   "cell_type": "markdown",
   "id": "4db6b8b1",
   "metadata": {},
   "source": [
    "https://www.acmicpc.net/problem/13301"
   ]
  },
  {
   "cell_type": "code",
   "execution_count": null,
   "id": "ffb42881",
   "metadata": {},
   "outputs": [],
   "source": [
    "# 타일 장식물\n",
    "\n",
    "import sys\n",
    "\n",
    "n = int(input())\n",
    "\n",
    "if n == 1:\n",
    "    print(4)\n",
    "    sys.exit()\n",
    "\n",
    "dp = [0] * (n+1)\n",
    "dp[1] = 4\n",
    "dp[2] = 6\n",
    "\n",
    "for i in range(3, n+1):\n",
    "    dp[i] = dp[i-1] + dp[i-2]\n",
    "    \n",
    "print(dp[n])\n"
   ]
  },
  {
   "cell_type": "markdown",
   "id": "c9e084b7",
   "metadata": {},
   "source": [
    "https://www.acmicpc.net/problem/1535"
   ]
  },
  {
   "cell_type": "code",
   "execution_count": null,
   "id": "9111b673",
   "metadata": {},
   "outputs": [],
   "source": [
    "# 안녕\n",
    "\n",
    "n = int(input())\n",
    "cost = list(map(int, input().split()))\n",
    "reward = list(map(int, input().split()))\n",
    "\n",
    "dp = [[0] * 101 for _ in range(n+1)]\n",
    "\n",
    "for i in range(1, n+1):\n",
    "    for j in range(100):\n",
    "        if cost[i-1] <= j:\n",
    "            dp[i][j] = max(dp[i-1][j], dp[i-1][j - cost[i-1]] + reward[i-1])\n",
    "            \n",
    "        else:\n",
    "            dp[i][j] = dp[i-1][j]\n",
    "            \n",
    "print(dp[n][99])\n"
   ]
  },
  {
   "cell_type": "markdown",
   "id": "124024dc",
   "metadata": {},
   "source": [
    "https://www.acmicpc.net/problem/2266"
   ]
  },
  {
   "cell_type": "code",
   "execution_count": 30,
   "id": "184ef723",
   "metadata": {},
   "outputs": [
    {
     "name": "stdout",
     "output_type": "stream",
     "text": [
      "4 2\n"
     ]
    }
   ],
   "source": [
    "# 금고 테스트\n",
    "\n",
    "n, k = map(int, input().split())\n",
    "\n",
    "dp = [[0] * (n+1) for _ in range(k+1)]\n",
    "\n",
    "for i in range(1, n+1):\n",
    "    dp[1][i] = i\n",
    "\n",
    "for i in range(1, k+1):\n",
    "    for j in range(2, n+1):\n",
    "        dp[i][j] = int(1e9)\n",
    "        \n",
    "        for k in range(i+1):\n",
    "            dp[i][j] = min(dp[i][j], max(dp[i-1][k-1], dp[i][j-k]) + 1)\n",
    "\n",
    "\n"
   ]
  },
  {
   "cell_type": "markdown",
   "id": "833ca63e",
   "metadata": {},
   "source": [
    "https://www.acmicpc.net/problem/3079"
   ]
  },
  {
   "cell_type": "code",
   "execution_count": 35,
   "id": "be187a65",
   "metadata": {},
   "outputs": [
    {
     "name": "stdout",
     "output_type": "stream",
     "text": [
      "2 6\n",
      "7\n",
      "10\n",
      "30\n"
     ]
    }
   ],
   "source": [
    "# 입국심사\n",
    "\n",
    "n, m = map(int, input().split())\n",
    "\n",
    "time = []\n",
    "for i in range(n):\n",
    "    time.append(int(input()))\n",
    "    \n",
    "start = 0\n",
    "end = max(time) * m\n",
    "answer = int(1e9)\n",
    "\n",
    "while start <= end:\n",
    "    mid = (start + end) // 2\n",
    "    \n",
    "    count = 0\n",
    "    for i in time:\n",
    "        count += mid // i\n",
    "        \n",
    "        \n",
    "    if count > m:\n",
    "        end = mid - 1\n",
    "        answer = mid\n",
    "        \n",
    "    else:\n",
    "        start = mid + 1\n",
    "        \n",
    "print(answer)\n"
   ]
  },
  {
   "cell_type": "markdown",
   "id": "fae6ba7f",
   "metadata": {},
   "source": [
    "https://www.acmicpc.net/problem/5546"
   ]
  },
  {
   "cell_type": "code",
   "execution_count": null,
   "id": "068ec9c8",
   "metadata": {},
   "outputs": [],
   "source": [
    "\n",
    "\n",
    "n, k = map(int, input().split())\n",
    "\n",
    "dp = [0] * (n+1)\n",
    "for i in range(k):\n",
    "    a, b = map(int, input().split())\n",
    "    dp[a] = b\n",
    "    \n"
   ]
  }
 ],
 "metadata": {
  "kernelspec": {
   "display_name": "Python 3",
   "language": "python",
   "name": "python3"
  },
  "language_info": {
   "codemirror_mode": {
    "name": "ipython",
    "version": 3
   },
   "file_extension": ".py",
   "mimetype": "text/x-python",
   "name": "python",
   "nbconvert_exporter": "python",
   "pygments_lexer": "ipython3",
   "version": "3.8.8"
  }
 },
 "nbformat": 4,
 "nbformat_minor": 5
}
