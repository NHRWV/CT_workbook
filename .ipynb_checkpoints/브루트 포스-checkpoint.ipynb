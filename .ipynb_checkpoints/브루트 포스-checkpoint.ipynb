{
 "cells": [
  {
   "cell_type": "code",
   "execution_count": null,
   "metadata": {},
   "outputs": [],
   "source": [
    "# 백준 2798\n",
    "\n",
    "n, m = map(int, input().split())\n",
    "card = list(map(int, input().split()))\n",
    "bj = 0\n",
    "\n",
    "for i in range(len(card)):\n",
    "    for j in range(i + 1, len(card)):\n",
    "        for k in range(j + 1, len(card)):\n",
    "            if bj < card[i] + card[j] + card[k] <= m:\n",
    "                bj = card[i] + card[j] + card[k]\n",
    "print(bj)"
   ]
  },
  {
   "cell_type": "code",
   "execution_count": null,
   "metadata": {},
   "outputs": [],
   "source": [
    "# 백준 2231\n",
    "\n",
    "n = int(input())\n",
    "m_num = 0\n",
    "while True:\n",
    "    num = m_num\n",
    "    for i in range(len(str(m_num))):\n",
    "        \n",
    "        num += int(str(m_num)[i])\n",
    "    \n",
    "    if num == n:\n",
    "        break\n",
    "    elif m_num > n:\n",
    "        break\n",
    "    \n",
    "    m_num += 1\n",
    "\n",
    "if num == n:\n",
    "    print(m_num)\n",
    "else:\n",
    "    print(0)"
   ]
  },
  {
   "cell_type": "code",
   "execution_count": null,
   "metadata": {},
   "outputs": [],
   "source": [
    "# 백준 7568\n",
    "\n",
    "n = int(input())\n",
    "ls = []\n",
    "for i in range(n):\n",
    "    x, y = map(int, input().split())\n",
    "    ls.append((x, y))\n",
    "    \n",
    "for j in ls:\n",
    "    rank = 1\n",
    "    for k in ls:\n",
    "        if j[0] < k[0] and j[1] < k[1]:\n",
    "            rank += 1\n",
    "            \n",
    "    print(rank, end = \" \")\n",
    "            "
   ]
  },
  {
   "cell_type": "code",
   "execution_count": null,
   "metadata": {},
   "outputs": [],
   "source": [
    "# 백준 7568. shovpark이란 사람의 코드다. *rank 라는 방법이 있다는 걸 알았다.\n",
    "\n",
    "N = int(input())\n",
    "sizes = [tuple(map(int, input().split())) for _ in range(N)]\n",
    "rank = []\n",
    "for i in range(N):\n",
    "    w, h, r = sizes[i][0], sizes[i][1], 0\n",
    "    for j in range(N):\n",
    "        if sizes[j][0] > w and sizes[j][1] > h: r += 1\n",
    "    rank.append(r+1)\n",
    "print(*rank)\n"
   ]
  },
  {
   "cell_type": "code",
   "execution_count": null,
   "metadata": {},
   "outputs": [],
   "source": [
    "# 백준 1436\n",
    "\n",
    "n = int(input())\n",
    "movie = []\n",
    "num = 1\n",
    "\n",
    "while len(movie) < n:\n",
    "    if str(num).count('666') >= 1:\n",
    "        movie.append(num)\n",
    "    num += 1\n",
    "\n",
    "print(movie[n-1])"
   ]
  },
  {
   "cell_type": "markdown",
   "metadata": {},
   "source": [
    "https://www.acmicpc.net/problem/2309"
   ]
  },
  {
   "cell_type": "code",
   "execution_count": null,
   "metadata": {},
   "outputs": [],
   "source": [
    "# 백준 2309 일곱 난쟁이\n",
    "\n",
    "from itertools import combinations\n",
    "\n",
    "lst = []\n",
    "for i in range(9):\n",
    "    lst.append(int(input()))\n",
    "    \n",
    "lst = list(combinations(lst, 7))\n",
    "\n",
    "for i in lst:\n",
    "    if sum(i) == 100:\n",
    "        target = list(i)\n",
    "        break\n",
    "        \n",
    "\n",
    "target.sort()\n",
    "for i in target:\n",
    "    print(i)"
   ]
  },
  {
   "cell_type": "markdown",
   "metadata": {},
   "source": [
    "https://www.acmicpc.net/problem/14889"
   ]
  },
  {
   "cell_type": "code",
   "execution_count": null,
   "metadata": {},
   "outputs": [],
   "source": [
    "# 백준 14889 스타트 링크\n",
    "\n",
    "n = int(input())\n",
    "\n",
    "s = []\n",
    "for i in range(n):\n",
    "    s.append(list(map(int, input().split())))\n",
    "    \n",
    "lst = [i for i in range(n)]\n",
    "a = list(combinations(lst, n//2))\n",
    "\n",
    "answer = int(1e9)\n",
    "\n",
    "for i in a:\n",
    "    start = set(i)\n",
    "    link = set(lst) - start\n",
    "    start = list(start)\n",
    "    link = list(link)\n",
    "    \n",
    "    temp = 0\n",
    "    for j in range(1, n//2):\n",
    "        for k in range(j):\n",
    "            temp += s[start[j]][start[k]] + s[start[k]][start[j]]\n",
    "            temp -= s[link[j]][link[k]] + s[link[k]][link[j]]\n",
    "            \n",
    "    answer = min(answer, abs(temp))\n",
    "    \n",
    "print(answer)"
   ]
  },
  {
   "cell_type": "markdown",
   "metadata": {},
   "source": [
    "https://www.acmicpc.net/problem/1182"
   ]
  },
  {
   "cell_type": "code",
   "execution_count": null,
   "metadata": {},
   "outputs": [],
   "source": [
    "# 백준 1182 부분수열의 합\n",
    "\n",
    "from itertools import combinations\n",
    "\n",
    "n, s = map(int, input().split())\n",
    "seq = list(map(int, input().split()))\n",
    "\n",
    "count = 0\n",
    "for i in range(1, n+1):\n",
    "    for j in combinations(seq, i):\n",
    "        if sum(j) == s:\n",
    "            count += 1\n",
    "            \n",
    "print(count)"
   ]
  },
  {
   "cell_type": "markdown",
   "metadata": {},
   "source": [
    "https://www.acmicpc.net/problem/10819"
   ]
  },
  {
   "cell_type": "code",
   "execution_count": null,
   "metadata": {},
   "outputs": [],
   "source": [
    "# 백준 10819 차이를 최대로\n",
    "\n",
    "from itertools import permutations\n",
    "\n",
    "n = int(input())\n",
    "seq = list(map(int, input().split()))\n",
    "\n",
    "\n",
    "answer = 0\n",
    "for i in permutations(seq):\n",
    "    hab = 0\n",
    "    for j in range(n-1):\n",
    "        hab += abs(i[j] - i[j+1])\n",
    "        \n",
    "    answer = max(answer, hab)\n",
    " \n",
    "        \n",
    "        \n",
    "print(answer)"
   ]
  },
  {
   "cell_type": "markdown",
   "metadata": {},
   "source": [
    "https://www.acmicpc.net/problem/10974"
   ]
  },
  {
   "cell_type": "code",
   "execution_count": null,
   "metadata": {},
   "outputs": [],
   "source": [
    "# 백준 10974 모든 순열\n",
    "\n",
    "from itertools import permutations\n",
    "\n",
    "n = int(input())\n",
    "\n",
    "seq = [i+1 for i in range(n)]\n",
    "lst = list(permutations(seq))\n",
    "\n",
    "for i in lst:\n",
    "    print(*i)\n"
   ]
  },
  {
   "cell_type": "markdown",
   "metadata": {},
   "source": [
    "https://www.acmicpc.net/problem/12100"
   ]
  },
  {
   "cell_type": "code",
   "execution_count": null,
   "metadata": {},
   "outputs": [],
   "source": [
    "# 백준 12100 2048 (Easy)\n",
    "\n",
    "from collections import deque\n",
    "from copy import deepcopy\n",
    "\n",
    "n = int(input())\n",
    "\n",
    "board = []\n",
    "for i in range(n):\n",
    "    board.append(list(map(int, input().split())))\n",
    "    \n",
    "\n",
    "maxi = 0\n",
    "\n",
    "def up(board):\n",
    "    for i in range(n):\n",
    "        value = 0\n",
    "        idx = 0\n",
    "        for j in range(n):\n",
    "            if not board[j][i]:\n",
    "                continue\n",
    "            if not value:\n",
    "                value = board[j][i]\n",
    "            \n",
    "            else:\n",
    "                if value == board[j][i]:\n",
    "                    board[idx][i] = 2 * value\n",
    "                    idx += 1\n",
    "                    value = 0\n",
    "                \n",
    "                else:\n",
    "                    board[idx][i] = value\n",
    "                    idx += 1\n",
    "                    value = board[j][i]\n",
    "                    \n",
    "            board[j][i] = 0\n",
    "        \n",
    "        if value != 0:\n",
    "            board[idx][i] = value\n",
    "            \n",
    "    return board\n",
    "\n",
    "def down(board):\n",
    "    for i in range(n):\n",
    "        value = 0\n",
    "        idx = n-1\n",
    "        for j in range(n-1, -1, -1):\n",
    "            if not board[j][i]:\n",
    "                continue\n",
    "            if not value:\n",
    "                value = board[j][i]\n",
    "            \n",
    "            else:\n",
    "                if value == board[j][i]:\n",
    "                    board[idx][i] = 2 * value\n",
    "                    idx -= 1\n",
    "                    value = 0\n",
    "                \n",
    "                else:\n",
    "                    board[idx][i] = value\n",
    "                    idx -= 1\n",
    "                    value = board[j][i]\n",
    "                    \n",
    "            board[j][i] = 0\n",
    "        \n",
    "        if value != 0:\n",
    "            board[idx][i] = value\n",
    "            \n",
    "    return board\n",
    "\n",
    "def left(board):\n",
    "    for i in range(n):\n",
    "        value = 0\n",
    "        idx = 0\n",
    "        for j in range(n):\n",
    "            if not board[i][j]:\n",
    "                continue\n",
    "            if not value:\n",
    "                value = board[i][j]\n",
    "            \n",
    "            else:\n",
    "                if value == board[i][j]:\n",
    "                    board[i][idx] = 2 * value\n",
    "                    idx += 1\n",
    "                    value = 0\n",
    "                \n",
    "                else:\n",
    "                    board[i][idx] = value\n",
    "                    idx += 1\n",
    "                    value = board[i][j]\n",
    "                    \n",
    "            board[i][j] = 0\n",
    "        \n",
    "        if value != 0:\n",
    "            board[i][idx] = value\n",
    "            \n",
    "    return board\n",
    "\n",
    "def right(board):\n",
    "    for i in range(n):\n",
    "        value = 0\n",
    "        idx = n-1\n",
    "        for j in range(n-1, -1, -1):\n",
    "            if not board[i][j]:\n",
    "                continue\n",
    "            if not value:\n",
    "                value = board[i][j]\n",
    "            \n",
    "            else:\n",
    "                if value == board[i][j]:\n",
    "                    board[i][idx] = 2 * value\n",
    "                    idx -= 1\n",
    "                    value = 0\n",
    "                \n",
    "                else:\n",
    "                    board[i][idx] = value\n",
    "                    idx -= 1\n",
    "                    value = board[i][j]\n",
    "                    \n",
    "            board[i][j] = 0\n",
    "        \n",
    "        if value != 0:\n",
    "            board[i][idx] = value\n",
    "            \n",
    "    return board\n",
    "\n",
    "\n",
    "def sol(board, count):\n",
    "    global maxi\n",
    "    \n",
    "    if count == 5:\n",
    "        hab = max(map(max, board))\n",
    "        maxi = max(maxi, hab)\n",
    "        return\n",
    "    \n",
    "    sol(up(deepcopy(board)), count + 1)\n",
    "    sol(down(deepcopy(board)), count + 1)\n",
    "    sol(left(deepcopy(board)), count + 1)\n",
    "    sol(right(deepcopy(board)), count + 1)\n",
    "        \n",
    "\n",
    "        \n",
    "sol(board, 0)\n",
    "\n",
    "print(maxi)"
   ]
  },
  {
   "cell_type": "markdown",
   "metadata": {},
   "source": [
    "https://www.acmicpc.net/problem/10971"
   ]
  },
  {
   "cell_type": "code",
   "execution_count": null,
   "metadata": {},
   "outputs": [],
   "source": [
    "# 백준 10971 외판원 순회 2\n",
    "\n",
    "from itertools import permutations\n",
    "\n",
    "n = int(input())\n",
    "\n",
    "mat = []\n",
    "for i in range(n):\n",
    "    mat.append(list(map(int, input().split())))\n",
    "    \n",
    "city = [i for i in range(n)]\n",
    "\n",
    "per = list(permutations(city))\n",
    "\n",
    "mini = int(1e9)\n",
    "for i in per:\n",
    "    start = i[0]\n",
    "    last = mat[i[-1]][start]\n",
    "    check = 1\n",
    "    \n",
    "    if last != 0:\n",
    "        hab = 0\n",
    "        for j in range(n-1):\n",
    "            if mat[i[j]][i[j+1]] == 0:\n",
    "                check = 0\n",
    "                break\n",
    "                \n",
    "            hab += mat[i[j]][i[j+1]]\n",
    "            \n",
    "        hab += last\n",
    "    \n",
    "    else:\n",
    "        continue\n",
    "    \n",
    "    if check:\n",
    "        mini = min(mini, hab)\n",
    "    \n",
    "    \n",
    "print(mini)"
   ]
  },
  {
   "cell_type": "code",
   "execution_count": 17,
   "metadata": {},
   "outputs": [
    {
     "data": {
      "text/plain": [
       "[[256, 256, 128], [32, 16, 128], [128, 128, 128]]"
      ]
     },
     "execution_count": 17,
     "metadata": {},
     "output_type": "execute_result"
    }
   ],
   "source": [
    "4\n",
    "0 10 15 20\n",
    "5 0 9 10\n",
    "6 13 0 12\n",
    "8 8 9 0"
   ]
  },
  {
   "cell_type": "code",
   "execution_count": 34,
   "metadata": {},
   "outputs": [
    {
     "data": {
      "text/plain": [
       "1073741824"
      ]
     },
     "execution_count": 34,
     "metadata": {},
     "output_type": "execute_result"
    }
   ],
   "source": [
    "1 << 30\n",
    "\n"
   ]
  },
  {
   "cell_type": "code",
   "execution_count": 27,
   "metadata": {},
   "outputs": [
    {
     "data": {
      "text/plain": [
       "[(0, 1, 2, 3),\n",
       " (0, 1, 3, 2),\n",
       " (0, 2, 1, 3),\n",
       " (0, 2, 3, 1),\n",
       " (0, 3, 1, 2),\n",
       " (0, 3, 2, 1),\n",
       " (1, 0, 2, 3),\n",
       " (1, 0, 3, 2),\n",
       " (1, 2, 0, 3),\n",
       " (1, 2, 3, 0),\n",
       " (1, 3, 0, 2),\n",
       " (1, 3, 2, 0),\n",
       " (2, 0, 1, 3),\n",
       " (2, 0, 3, 1),\n",
       " (2, 1, 0, 3),\n",
       " (2, 1, 3, 0),\n",
       " (2, 3, 0, 1),\n",
       " (2, 3, 1, 0),\n",
       " (3, 0, 1, 2),\n",
       " (3, 0, 2, 1),\n",
       " (3, 1, 0, 2),\n",
       " (3, 1, 2, 0),\n",
       " (3, 2, 0, 1),\n",
       " (3, 2, 1, 0)]"
      ]
     },
     "execution_count": 27,
     "metadata": {},
     "output_type": "execute_result"
    }
   ],
   "source": [
    "per"
   ]
  },
  {
   "cell_type": "code",
   "execution_count": null,
   "metadata": {},
   "outputs": [],
   "source": []
  }
 ],
 "metadata": {
  "kernelspec": {
   "display_name": "Python 3",
   "language": "python",
   "name": "python3"
  },
  "language_info": {
   "codemirror_mode": {
    "name": "ipython",
    "version": 3
   },
   "file_extension": ".py",
   "mimetype": "text/x-python",
   "name": "python",
   "nbconvert_exporter": "python",
   "pygments_lexer": "ipython3",
   "version": "3.8.8"
  }
 },
 "nbformat": 4,
 "nbformat_minor": 2
}
