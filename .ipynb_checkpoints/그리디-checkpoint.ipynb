{
 "cells": [
  {
   "cell_type": "code",
   "execution_count": 11,
   "metadata": {},
   "outputs": [
    {
     "name": "stdout",
     "output_type": "stream",
     "text": [
      "4\n",
      "-1\n",
      "2\n",
      "1\n",
      "3\n",
      "6\n"
     ]
    }
   ],
   "source": [
    "# 백준 1744\n",
    "\n",
    "n = int(input())\n",
    "seq = []\n",
    "for i in range(n):\n",
    "    seq.append(int(input()))\n",
    "\n",
    "result = 0\n",
    "pos_num = []\n",
    "neg_num = []\n",
    "for i in seq:\n",
    "    if i == 1:\n",
    "        result += i\n",
    "    \n",
    "    elif i > 0:\n",
    "        pos_num.append(i)\n",
    "     \n",
    "    else:\n",
    "        neg_num.append(i)\n",
    "\n",
    "pos_num.sort(reverse = True)\n",
    "neg_num.sort()\n",
    "\n",
    "for i in range(0, len(pos_num), 2):\n",
    "    if i < len(pos_num)-1:\n",
    "        result += (pos_num[i] * pos_num[i+1])\n",
    "    \n",
    "    else:\n",
    "        result += pos_num[i]\n",
    "\n",
    "for i in range(0, len(neg_num), 2):\n",
    "    if i < len(neg_num)-1:\n",
    "        result += (neg_num[i] * neg_num[i+1])\n",
    "    \n",
    "    else:\n",
    "        result += neg_num[i]\n",
    "\n",
    "print(result)\n",
    "\n",
    "\n",
    "# 음수랑 음수를 곱하면 양수가 된다. 음수랑 0이랑 곱하면 0이 된다."
   ]
  },
  {
   "cell_type": "code",
   "execution_count": null,
   "metadata": {
    "scrolled": false
   },
   "outputs": [],
   "source": [
    "# 백준 13904\n",
    "\n",
    "n = int(input())\n",
    "ls = []\n",
    "for i in range(n):\n",
    "    d, w = map(int, input().split())\n",
    "    ls.append([d, w])\n",
    "\n",
    "ls = sorted(ls, key = lambda x : (x[1], -x[0]), reverse = True)\n",
    "\n",
    "score = [0] * 1001\n",
    "for i in ls:\n",
    "    for j in range(i[0]-1, -1, -1):\n",
    "        if score[j] == 0:\n",
    "            score[j] = i[1]\n",
    "            break\n",
    "        else:\n",
    "            \n",
    "            continue\n",
    "print(sum(score))        \n",
    "\n"
   ]
  },
  {
   "cell_type": "code",
   "execution_count": null,
   "metadata": {},
   "outputs": [],
   "source": [
    "# 백준 2212\n",
    "\n",
    "n = int(input())\n",
    "k = int(input())\n",
    "sensor = list(map(int, input().split()))\n",
    "\n",
    "sensor.sort()\n",
    "\n",
    "if k >= n:\n",
    "    print(0)\n",
    "\n",
    "else:\n",
    "    ls = []\n",
    "    for i in range(1, n):\n",
    "        ls.append(sensor[i] - sensor[i-1])\n",
    "\n",
    "    ls.sort(reverse = True)\n",
    "\n",
    "    for i in range(k-1):\n",
    "        del ls[0]\n",
    "\n",
    "    print(sum(ls))\n",
    "\n"
   ]
  },
  {
   "cell_type": "code",
   "execution_count": 13,
   "metadata": {},
   "outputs": [
    {
     "name": "stdout",
     "output_type": "stream",
     "text": [
      "4 2\n",
      "1924\n",
      "94\n"
     ]
    }
   ],
   "source": [
    "# 백준 2812....시간초과 나는데요?\n",
    "\n",
    "n, k = map(int, input().split())\n",
    "num = str(input())\n",
    "\n",
    "ls = list(num)\n",
    "ls.sort()\n",
    "for i in range(k):\n",
    "    del ls[0]\n",
    "    \n",
    "ls.sort(reverse = True)\n",
    "\n",
    "print(\"\".join(ls))\n"
   ]
  },
  {
   "cell_type": "code",
   "execution_count": 20,
   "metadata": {},
   "outputs": [
    {
     "name": "stdout",
     "output_type": "stream",
     "text": [
      "4 2\n",
      "1924\n",
      "94\n"
     ]
    }
   ],
   "source": [
    "# 이건 틀렸대..다시 풀자\n",
    "\n",
    "from collections import deque\n",
    "\n",
    "n, k = map(int, input().split())\n",
    "num = input()\n",
    "num = str(num)\n",
    "deq = list(num)\n",
    "deq.sort(reverse = True)\n",
    "\n",
    "deq = deque(deq)\n",
    "\n",
    "for i in range(k):\n",
    "    deq.pop()\n",
    "    \n",
    "\n",
    "print(\"\".join(deq))    \n"
   ]
  },
  {
   "cell_type": "code",
   "execution_count": 31,
   "metadata": {},
   "outputs": [
    {
     "name": "stdout",
     "output_type": "stream",
     "text": [
      "4 1\n",
      "4321\n",
      "deque(['4', '3', '2', '1'])\n",
      "432\n"
     ]
    }
   ],
   "source": [
    "## 생각해보니 내가 문제를 잘못 이해함 그래서 다시.. 14트만에 성공.\n",
    "\n",
    "from collections import deque\n",
    "\n",
    "n, k = map(int, input().split())\n",
    "num = list(input())\n",
    "\n",
    "queue = deque()\n",
    "cnt = 0\n",
    "for i in range(n):\n",
    "    while queue and cnt < k and queue[-1] < num[i]:\n",
    "        queue.pop()\n",
    "        cnt += 1\n",
    "        \n",
    "    queue.append(num[i])\n",
    "\n",
    "print(\"\".join(list(queue)[:n-k]))    "
   ]
  },
  {
   "cell_type": "code",
   "execution_count": 6,
   "metadata": {},
   "outputs": [
    {
     "name": "stdout",
     "output_type": "stream",
     "text": [
      "55-50+40\n",
      "-35\n"
     ]
    }
   ],
   "source": [
    "# 백준 1541\n",
    "\n",
    "text = input()\n",
    "\n",
    "text1 = text.split('-')\n",
    "\n",
    "\n",
    "ls = []\n",
    "for i in range(len(text1)):\n",
    "    \n",
    "    a = text1[i].split('+')\n",
    "    b = 0\n",
    "    for j in a:\n",
    "        b += int(j)\n",
    "        \n",
    "    if i == 0:\n",
    "        ls.append(b)\n",
    "    else:\n",
    "        ls.append(-b)\n",
    "    \n",
    "print(sum(ls))\n",
    "    \n",
    "\n",
    "    \n",
    "\n",
    "    \n"
   ]
  },
  {
   "cell_type": "code",
   "execution_count": 4,
   "metadata": {},
   "outputs": [
    {
     "data": {
      "text/plain": [
       "['55', '50+40']"
      ]
     },
     "execution_count": 4,
     "metadata": {},
     "output_type": "execute_result"
    }
   ],
   "source": [
    "text1"
   ]
  },
  {
   "cell_type": "code",
   "execution_count": null,
   "metadata": {},
   "outputs": [],
   "source": [
    "# 백준 11047\n",
    "\n",
    "n, k = map(int, input().split())\n",
    "\n",
    "coin = []\n",
    "for i in range(n):\n",
    "    a = int(input())\n",
    "    if a <= k:\n",
    "        coin.append(a)\n",
    "        \n",
    "\n",
    "coin.sort(reverse = True)\n",
    "    \n",
    "count = 0\n",
    "while True:\n",
    "    if coin[0] <= k:\n",
    "        count += (k // coin[0])\n",
    "        k %= coin[0]\n",
    "        \n",
    "        \n",
    "    else:\n",
    "        del coin[0]\n",
    "    \n",
    "    if k == 0:\n",
    "        break\n",
    "        \n",
    "print(count)"
   ]
  },
  {
   "cell_type": "code",
   "execution_count": null,
   "metadata": {
    "scrolled": true
   },
   "outputs": [],
   "source": [
    "# 백준 1931\n",
    "\n",
    "n = int(input())\n",
    "table = []\n",
    "for i in range(n):\n",
    "    a, b = map(int, input().split())\n",
    "    table.append(tuple([a, b]))\n",
    "    \n",
    "table = sorted(table, key = lambda x : (x[1], x[0]))\n",
    "\n",
    "ls = [table[0]]\n",
    "for i in range(1, n):\n",
    "    if table[i][0] >= ls[-1][1]:\n",
    "        ls.append(table[i])\n",
    "        \n",
    "print(len(ls))\n",
    "\n"
   ]
  },
  {
   "cell_type": "code",
   "execution_count": 12,
   "metadata": {},
   "outputs": [
    {
     "name": "stdout",
     "output_type": "stream",
     "text": [
      "5\n",
      "3 1 4 3 2\n",
      "32\n"
     ]
    }
   ],
   "source": [
    "# 백준 11399\n",
    "\n",
    "n = int(input())\n",
    "p = list(map(int, input().split()))\n",
    "\n",
    "p.sort()\n",
    "hab = 0\n",
    "total = []\n",
    "for i in range(len(p)):\n",
    "    hab += p[i]\n",
    "    total.append(hab)\n",
    "    \n",
    "print(sum(total))"
   ]
  },
  {
   "cell_type": "code",
   "execution_count": 21,
   "metadata": {},
   "outputs": [
    {
     "name": "stdout",
     "output_type": "stream",
     "text": [
      "5\n",
      "1 1 1 1\n",
      "1 5 4 3 2\n",
      "9\n"
     ]
    }
   ],
   "source": [
    "# 백준 13305...이건 왜 안됨???\n",
    "\n",
    "n = int(input())\n",
    "dst = list(map(int, input().split()))\n",
    "price = list(map(int, input().split()))\n",
    "\n",
    "cost = 0\n",
    "i = 0\n",
    "while True:\n",
    "    \n",
    "    if price[i] < price[i+1]:\n",
    "        cost += (price[i] * (dst[i] + dst[i+1]))\n",
    "        i += 2\n",
    "        \n",
    "    else:\n",
    "        cost += (price[i] * dst[i])\n",
    "        i += 1\n",
    "        \n",
    "    if i + 1 > len(dst):\n",
    "        break\n",
    "        \n",
    "print(cost)"
   ]
  },
  {
   "cell_type": "code",
   "execution_count": 22,
   "metadata": {},
   "outputs": [
    {
     "name": "stdout",
     "output_type": "stream",
     "text": [
      "4\n",
      "2 3 1\n",
      "5 2 4 1\n",
      "18\n"
     ]
    }
   ],
   "source": [
    "# 백준 13305\n",
    "\n",
    "n = int(input())\n",
    "dst = list(map(int, input().split()))\n",
    "price = list(map(int, input().split()))\n",
    "\n",
    "cost = 0\n",
    "station = price[0]\n",
    "for i in range(n-1):\n",
    "    if station > price[i]:\n",
    "        station = price[i]\n",
    "        \n",
    "    cost += dst[i] * station\n",
    "    \n",
    "print(cost)"
   ]
  },
  {
   "cell_type": "code",
   "execution_count": 15,
   "metadata": {},
   "outputs": [
    {
     "name": "stdout",
     "output_type": "stream",
     "text": [
      "2 7\n",
      "2 3 2 3 1 2 7\n",
      "2\n"
     ]
    }
   ],
   "source": [
    "# 백준 1700\n",
    "\n",
    "from collections import deque\n",
    "\n",
    "n, k = map(int, input().split())\n",
    "lst = list(map(int, input().split()))\n",
    "\n",
    "tab = []\n",
    "queue = deque(lst)\n",
    "\n",
    "\n",
    "count = 0\n",
    "while queue:\n",
    "    i = queue.popleft()\n",
    "    \n",
    "    if i in tab:\n",
    "        continue\n",
    "     \n",
    "    if len(tab) < n:\n",
    "        tab.append(i)\n",
    "        \n",
    "    elif len(tab) == n:\n",
    "        todo = [1e9] * len(tab)\n",
    "        for j in range(len(todo)):\n",
    "            if tab[j] in queue:\n",
    "                todo[j] = queue.index(tab[j])\n",
    "           \n",
    "        target = todo.index(max(todo))       \n",
    "        del tab[target]\n",
    "        count += 1\n",
    "        tab.append(i)\n",
    "            \n",
    "        \n",
    "                               \n",
    "print(count)            "
   ]
  },
  {
   "cell_type": "markdown",
   "metadata": {},
   "source": [
    "https://www.acmicpc.net/problem/1489"
   ]
  },
  {
   "cell_type": "code",
   "execution_count": 4,
   "metadata": {},
   "outputs": [
    {
     "name": "stdout",
     "output_type": "stream",
     "text": [
      "4\n",
      "1 10 7 4\n",
      "15 3 8 7\n",
      "27\n"
     ]
    }
   ],
   "source": [
    "# 백준 1489\n",
    "# 새로운 문제를 만들었다. 이 케이스는 상대팀 모두와 한 번씩 대결할 경우 쓰일 수 있다.\n",
    "\n",
    "n = int(input())\n",
    "a = list(map(int, input().split()))\n",
    "b = list(map(int, input().split()))\n",
    "\n",
    "a.sort()\n",
    "b.sort()\n",
    "\n",
    "idx2 = 0\n",
    "idx1 = 0\n",
    "point = 0\n",
    "for i in a:\n",
    "    for j in range(idx2, n):\n",
    "        if i > b[j]:\n",
    "            idx2 = j + 1\n",
    "            \n",
    "        if i == b[j]:\n",
    "            idx1 = j + 1\n",
    "            \n",
    "        point += idx2 * 2 + (idx1 - idx2)\n",
    "        \n",
    "print(point)"
   ]
  },
  {
   "cell_type": "code",
   "execution_count": 16,
   "metadata": {},
   "outputs": [
    {
     "name": "stdout",
     "output_type": "stream",
     "text": [
      "3\n",
      "10 5 1\n",
      "10 5 1\n",
      "4\n"
     ]
    }
   ],
   "source": [
    "# 백준 1489\n",
    "\n",
    "n = int(input())\n",
    "a = list(map(int, input().split()))\n",
    "b = list(map(int, input().split()))\n",
    "\n",
    "a.sort()\n",
    "b.sort()\n",
    "\n",
    "idx = 0\n",
    "point = 0\n",
    "for i in range(n):\n",
    "    for j in range(idx, n):\n",
    "        if a[i] > b[j] and b[j] != 0:\n",
    "            idx = j\n",
    "            a[i] = 0\n",
    "            b[j] = 0\n",
    "            point += 2\n",
    "            break\n",
    "            \n",
    "        elif a[i] == b[j]:\n",
    "            if j != 0: \n",
    "                if b[j-1] == 0:\n",
    "                    idx = j+1\n",
    "                else:\n",
    "                    idx = j\n",
    "            else:\n",
    "                idx = j\n",
    "            break\n",
    "            \n",
    "\n",
    "        \n",
    "idx = 0           \n",
    "for i in range(n):\n",
    "    if a[i] == 0:\n",
    "        continue\n",
    "    \n",
    "    for j in range(idx, n):\n",
    "        if a[i] == b[j]:\n",
    "            idx = j+1\n",
    "            b[j] = 0\n",
    "            point += 1\n",
    "            break\n",
    "        \n",
    "            \n",
    "                \n",
    "print(point)"
   ]
  },
  {
   "cell_type": "code",
   "execution_count": 20,
   "metadata": {},
   "outputs": [
    {
     "name": "stdout",
     "output_type": "stream",
     "text": [
      "2\n",
      "5 8\n",
      "7 3\n",
      "4\n"
     ]
    }
   ],
   "source": [
    "n = int(input())\n",
    "a = list(map(int, input().split()))\n",
    "b = list(map(int, input().split()))\n",
    "\n",
    "a.sort()\n",
    "b.sort()\n",
    "\n",
    "idx = 0\n",
    "point = 0\n",
    "for i in range(n):\n",
    "    check = 0\n",
    "    for j in range(idx, n):\n",
    "        if a[i] > b[j] and b[j] != 0:\n",
    "            check = 1\n",
    "            target = j\n",
    "            \n",
    "    if check == 1:\n",
    "        a[i] = 0\n",
    "        b[target] = 0\n",
    "        idx = target\n",
    "        point += 2\n",
    "            \n",
    "\n",
    "idx = 0                    \n",
    "for i in range(n):\n",
    "    if a[i] == 0:\n",
    "        continue\n",
    "    \n",
    "    for j in range(idx, n):\n",
    "        if a[i] == b[j]:\n",
    "            idx = j\n",
    "            b[j] = 0\n",
    "            point += 1\n",
    "            break\n",
    "        \n",
    "            \n",
    "                \n",
    "print(point)"
   ]
  },
  {
   "cell_type": "code",
   "execution_count": 5,
   "metadata": {},
   "outputs": [],
   "source": [
    "2\n",
    "5 8\n",
    "7 3\n",
    "\n",
    "2\n",
    "7 3\n",
    "5 8\n",
    "\n",
    "3\n",
    "10 5 1\n",
    "10 5 1\n",
    "\n",
    "4\n",
    "1 10 7 4\n",
    "15 3 8 7"
   ]
  },
  {
   "cell_type": "code",
   "execution_count": 7,
   "metadata": {},
   "outputs": [
    {
     "data": {
      "text/plain": [
       "[1, 5, 10]"
      ]
     },
     "execution_count": 7,
     "metadata": {},
     "output_type": "execute_result"
    }
   ],
   "source": [
    "a"
   ]
  },
  {
   "cell_type": "code",
   "execution_count": 8,
   "metadata": {},
   "outputs": [
    {
     "data": {
      "text/plain": [
       "[1, 5, 0]"
      ]
     },
     "execution_count": 8,
     "metadata": {},
     "output_type": "execute_result"
    }
   ],
   "source": [
    "b"
   ]
  },
  {
   "cell_type": "code",
   "execution_count": 30,
   "metadata": {},
   "outputs": [
    {
     "data": {
      "text/plain": [
       "[1, 2, 3]"
      ]
     },
     "execution_count": 30,
     "metadata": {},
     "output_type": "execute_result"
    }
   ],
   "source": [
    "a"
   ]
  }
 ],
 "metadata": {
  "kernelspec": {
   "display_name": "Python 3.7.5 64-bit ('Namlister': virtualenv)",
   "language": "python",
   "name": "python37564bitnamlistervirtualenv5d7bb17d3c984c36aee202a2f6a91336"
  },
  "language_info": {
   "codemirror_mode": {
    "name": "ipython",
    "version": 3
   },
   "file_extension": ".py",
   "mimetype": "text/x-python",
   "name": "python",
   "nbconvert_exporter": "python",
   "pygments_lexer": "ipython3",
   "version": "3.8.8"
  }
 },
 "nbformat": 4,
 "nbformat_minor": 2
}
