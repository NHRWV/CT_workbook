{
 "cells": [
  {
   "cell_type": "code",
   "execution_count": 11,
   "metadata": {},
   "outputs": [
    {
     "name": "stdout",
     "output_type": "stream",
     "text": [
      "4\n",
      "-1\n",
      "2\n",
      "1\n",
      "3\n",
      "6\n"
     ]
    }
   ],
   "source": [
    "# 백준 1744\n",
    "\n",
    "n = int(input())\n",
    "seq = []\n",
    "for i in range(n):\n",
    "    seq.append(int(input()))\n",
    "\n",
    "result = 0\n",
    "pos_num = []\n",
    "neg_num = []\n",
    "for i in seq:\n",
    "    if i == 1:\n",
    "        result += i\n",
    "    \n",
    "    elif i > 0:\n",
    "        pos_num.append(i)\n",
    "     \n",
    "    else:\n",
    "        neg_num.append(i)\n",
    "\n",
    "pos_num.sort(reverse = True)\n",
    "neg_num.sort()\n",
    "\n",
    "for i in range(0, len(pos_num), 2):\n",
    "    if i < len(pos_num)-1:\n",
    "        result += (pos_num[i] * pos_num[i+1])\n",
    "    \n",
    "    else:\n",
    "        result += pos_num[i]\n",
    "\n",
    "for i in range(0, len(neg_num), 2):\n",
    "    if i < len(neg_num)-1:\n",
    "        result += (neg_num[i] * neg_num[i+1])\n",
    "    \n",
    "    else:\n",
    "        result += neg_num[i]\n",
    "\n",
    "print(result)\n",
    "\n",
    "\n",
    "# 음수랑 음수를 곱하면 양수가 된다. 음수랑 0이랑 곱하면 0이 된다."
   ]
  },
  {
   "cell_type": "code",
   "execution_count": null,
   "metadata": {
    "scrolled": false
   },
   "outputs": [],
   "source": [
    "# 백준 13904\n",
    "\n",
    "n = int(input())\n",
    "ls = []\n",
    "for i in range(n):\n",
    "    d, w = map(int, input().split())\n",
    "    ls.append([d, w])\n",
    "\n",
    "ls = sorted(ls, key = lambda x : (x[1], -x[0]), reverse = True)\n",
    "\n",
    "score = [0] * 1001\n",
    "for i in ls:\n",
    "    for j in range(i[0]-1, -1, -1):\n",
    "        if score[j] == 0:\n",
    "            score[j] = i[1]\n",
    "            break\n",
    "        else:\n",
    "            \n",
    "            continue\n",
    "print(sum(score))        \n",
    "\n"
   ]
  },
  {
   "cell_type": "code",
   "execution_count": 15,
   "metadata": {},
   "outputs": [
    {
     "name": "stdout",
     "output_type": "stream",
     "text": [
      "6 2\n",
      "1 2 3 4 5 6\n"
     ]
    },
    {
     "ename": "AttributeError",
     "evalue": "'list' object has no attribute 'sorted'",
     "output_type": "error",
     "traceback": [
      "\u001b[1;31m---------------------------------------------------------------------------\u001b[0m",
      "\u001b[1;31mAttributeError\u001b[0m                            Traceback (most recent call last)",
      "\u001b[1;32m<ipython-input-15-369cef59bcb9>\u001b[0m in \u001b[0;36m<module>\u001b[1;34m\u001b[0m\n\u001b[0;32m      3\u001b[0m \u001b[0mn\u001b[0m\u001b[1;33m,\u001b[0m \u001b[0mk\u001b[0m \u001b[1;33m=\u001b[0m \u001b[0mmap\u001b[0m\u001b[1;33m(\u001b[0m\u001b[0mint\u001b[0m\u001b[1;33m,\u001b[0m \u001b[0minput\u001b[0m\u001b[1;33m(\u001b[0m\u001b[1;33m)\u001b[0m\u001b[1;33m.\u001b[0m\u001b[0msplit\u001b[0m\u001b[1;33m(\u001b[0m\u001b[1;33m)\u001b[0m\u001b[1;33m)\u001b[0m\u001b[1;33m\u001b[0m\u001b[1;33m\u001b[0m\u001b[0m\n\u001b[0;32m      4\u001b[0m \u001b[0msensor\u001b[0m \u001b[1;33m=\u001b[0m \u001b[0mlist\u001b[0m\u001b[1;33m(\u001b[0m\u001b[0mmap\u001b[0m\u001b[1;33m(\u001b[0m\u001b[0mint\u001b[0m\u001b[1;33m,\u001b[0m \u001b[0minput\u001b[0m\u001b[1;33m(\u001b[0m\u001b[1;33m)\u001b[0m\u001b[1;33m.\u001b[0m\u001b[0msplit\u001b[0m\u001b[1;33m(\u001b[0m\u001b[1;33m)\u001b[0m\u001b[1;33m)\u001b[0m\u001b[1;33m)\u001b[0m\u001b[1;33m\u001b[0m\u001b[1;33m\u001b[0m\u001b[0m\n\u001b[1;32m----> 5\u001b[1;33m \u001b[0msensor\u001b[0m\u001b[1;33m.\u001b[0m\u001b[0msorted\u001b[0m\u001b[1;33m\u001b[0m\u001b[1;33m\u001b[0m\u001b[0m\n\u001b[0m\u001b[0;32m      6\u001b[0m \u001b[1;33m\u001b[0m\u001b[0m\n\u001b[0;32m      7\u001b[0m \u001b[1;32mif\u001b[0m \u001b[0mk\u001b[0m \u001b[1;33m>=\u001b[0m \u001b[0mn\u001b[0m\u001b[1;33m:\u001b[0m\u001b[1;33m\u001b[0m\u001b[1;33m\u001b[0m\u001b[0m\n",
      "\u001b[1;31mAttributeError\u001b[0m: 'list' object has no attribute 'sorted'"
     ]
    }
   ],
   "source": [
    "# 백준 2212\n",
    "\n",
    "n = int(input())\n",
    "k = int(input())\n",
    "sensor = list(map(int, input().split()))\n",
    "\n",
    "sensor.sort()\n",
    "\n",
    "if k >= n:\n",
    "    print(0)\n",
    "\n",
    "else:\n",
    "    ls = []\n",
    "    for i in range(1, n):\n",
    "        ls.append(sensor[i] - sensor[i-1])\n",
    "\n",
    "    ls.sort(reverse = True)\n",
    "\n",
    "    for i in range(k-1):\n",
    "        del ls[0]\n",
    "\n",
    "    print(sum(ls))\n",
    "\n"
   ]
  },
  {
   "cell_type": "code",
   "execution_count": 13,
   "metadata": {},
   "outputs": [
    {
     "name": "stdout",
     "output_type": "stream",
     "text": [
      "4 2\n",
      "1924\n",
      "94\n"
     ]
    }
   ],
   "source": [
    "# 백준 2812....시간초과 나는데요?\n",
    "\n",
    "n, k = map(int, input().split())\n",
    "num = str(input())\n",
    "\n",
    "ls = list(num)\n",
    "ls.sort()\n",
    "for i in range(k):\n",
    "    del ls[0]\n",
    "    \n",
    "ls.sort(reverse = True)\n",
    "\n",
    "print(\"\".join(ls))\n"
   ]
  },
  {
   "cell_type": "code",
   "execution_count": 20,
   "metadata": {},
   "outputs": [
    {
     "name": "stdout",
     "output_type": "stream",
     "text": [
      "4 2\n",
      "1924\n",
      "94\n"
     ]
    }
   ],
   "source": [
    "# 이건 틀렸대..다시 풀자\n",
    "\n",
    "from collections import deque\n",
    "\n",
    "n, k = map(int, input().split())\n",
    "num = input()\n",
    "num = str(num)\n",
    "deq = list(num)\n",
    "deq.sort(reverse = True)\n",
    "\n",
    "deq = deque(deq)\n",
    "\n",
    "for i in range(k):\n",
    "    deq.pop()\n",
    "    \n",
    "\n",
    "print(\"\".join(deq))    \n"
   ]
  },
  {
   "cell_type": "code",
   "execution_count": 20,
   "metadata": {},
   "outputs": [
    {
     "name": "stdout",
     "output_type": "stream",
     "text": [
      "4 2\n",
      "1924\n",
      "9\n"
     ]
    }
   ],
   "source": [
    "## 생각해보니 내가 문제를 잘못 이해함 그래서 다시..\n",
    "\n",
    "from collections import deque\n",
    "\n",
    "n, k = map(int, input().split())\n",
    "num = str(input())\n",
    "\n",
    "deq = deque(num[0])\n",
    "for i in range(1, len(num)):\n",
    "    if deq[-1] < num[i]:\n",
    "        deq.pop()\n",
    "        deq.append(num[i])\n",
    "    \n",
    "    elif deq[-1] == num[i]:\n",
    "        deq.append(num[i])\n",
    "        \n",
    "        \n",
    "\n",
    "if len(deq) > (n-k):\n",
    "    for i in range(len(deq) - (n-k)):\n",
    "        deq.pop()\n",
    "    \n",
    "\n",
    "print(\"\".join(deq))    "
   ]
  },
  {
   "cell_type": "code",
   "execution_count": 18,
   "metadata": {},
   "outputs": [
    {
     "name": "stdout",
     "output_type": "stream",
     "text": [
      "99"
     ]
    }
   ],
   "source": [
    "for i in range(n-k):\n",
    "    print(deq[i], end = '')"
   ]
  },
  {
   "cell_type": "code",
   "execution_count": 6,
   "metadata": {},
   "outputs": [],
   "source": [
    "\n",
    "ls = deque('love')"
   ]
  },
  {
   "cell_type": "code",
   "execution_count": 15,
   "metadata": {},
   "outputs": [
    {
     "name": "stdout",
     "output_type": "stream",
     "text": [
      "deque(['l', 'o', 'v'])\n"
     ]
    }
   ],
   "source": [
    "ls\n",
    "print(ls)"
   ]
  },
  {
   "cell_type": "code",
   "execution_count": 8,
   "metadata": {},
   "outputs": [
    {
     "data": {
      "text/plain": [
       "'e'"
      ]
     },
     "execution_count": 8,
     "metadata": {},
     "output_type": "execute_result"
    }
   ],
   "source": [
    "ls.pop()"
   ]
  },
  {
   "cell_type": "code",
   "execution_count": 16,
   "metadata": {},
   "outputs": [
    {
     "name": "stdout",
     "output_type": "stream",
     "text": [
      "deque(['l', 'o', 'v'])\n"
     ]
    }
   ],
   "source": [
    "print(ls)"
   ]
  },
  {
   "cell_type": "code",
   "execution_count": null,
   "metadata": {},
   "outputs": [],
   "source": []
  }
 ],
 "metadata": {
  "kernelspec": {
   "display_name": "Python 3.7.5 64-bit ('Namlister': virtualenv)",
   "language": "python",
   "name": "python37564bitnamlistervirtualenv5d7bb17d3c984c36aee202a2f6a91336"
  },
  "language_info": {
   "codemirror_mode": {
    "name": "ipython",
    "version": 3
   },
   "file_extension": ".py",
   "mimetype": "text/x-python",
   "name": "python",
   "nbconvert_exporter": "python",
   "pygments_lexer": "ipython3",
   "version": "3.7.5"
  }
 },
 "nbformat": 4,
 "nbformat_minor": 2
}
