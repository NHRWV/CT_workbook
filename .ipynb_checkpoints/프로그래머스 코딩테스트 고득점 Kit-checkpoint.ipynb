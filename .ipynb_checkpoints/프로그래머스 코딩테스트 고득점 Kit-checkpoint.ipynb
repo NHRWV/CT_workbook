{
 "cells": [
  {
   "cell_type": "markdown",
   "id": "9303d687",
   "metadata": {},
   "source": [
    "## 해시\n",
    "\n",
    "\n",
    "### 완주하지 못한 선수"
   ]
  },
  {
   "cell_type": "code",
   "execution_count": null,
   "id": "9640b9c7",
   "metadata": {},
   "outputs": [],
   "source": [
    "from collections import Counter\n",
    "def solution(participant, completion):\n",
    "    \n",
    "    counter1 = Counter(completion)\n",
    "    counter2 = Counter(participant)\n",
    "    a = counter2 - counter1\n",
    "    answer = list(a.keys())[0]\n",
    "    return answer"
   ]
  },
  {
   "cell_type": "markdown",
   "id": "b7f3b129",
   "metadata": {},
   "source": [
    "### 전화번호 목록"
   ]
  },
  {
   "cell_type": "code",
   "execution_count": null,
   "id": "e875f2f0",
   "metadata": {},
   "outputs": [],
   "source": [
    "def solution(phone_book):\n",
    "    phone_book = sorted(phone_book)\n",
    "    answer = True\n",
    "    \n",
    "    check = 0\n",
    "    for i in range(len(phone_book) - 1):\n",
    "        if phone_book[i] == phone_book[i+1][:len(phone_book[i])]:\n",
    "            return False\n",
    "        \n",
    "    return answer"
   ]
  },
  {
   "cell_type": "markdown",
   "id": "9bbf9267",
   "metadata": {},
   "source": [
    "### 위장"
   ]
  },
  {
   "cell_type": "code",
   "execution_count": null,
   "id": "abaec5f0",
   "metadata": {},
   "outputs": [],
   "source": [
    "def solution(clothes):\n",
    "    lst = {}\n",
    "    \n",
    "    for i in clothes:\n",
    "        if i[1] not in lst:\n",
    "            lst[i[1]] = 1\n",
    "        \n",
    "        else:\n",
    "            lst[i[1]] += 1\n",
    "            \n",
    "    \n",
    "    count = 1\n",
    "    for i in lst.values():\n",
    "        count *= i + 1\n",
    "            \n",
    "    \n",
    "    return count - 1"
   ]
  },
  {
   "cell_type": "markdown",
   "id": "cf91b8cc",
   "metadata": {},
   "source": [
    "### 베스트앨범"
   ]
  },
  {
   "cell_type": "code",
   "execution_count": null,
   "id": "11f59ff1",
   "metadata": {},
   "outputs": [],
   "source": []
  }
 ],
 "metadata": {
  "kernelspec": {
   "display_name": "Python 3",
   "language": "python",
   "name": "python3"
  },
  "language_info": {
   "codemirror_mode": {
    "name": "ipython",
    "version": 3
   },
   "file_extension": ".py",
   "mimetype": "text/x-python",
   "name": "python",
   "nbconvert_exporter": "python",
   "pygments_lexer": "ipython3",
   "version": "3.8.8"
  }
 },
 "nbformat": 4,
 "nbformat_minor": 5
}
