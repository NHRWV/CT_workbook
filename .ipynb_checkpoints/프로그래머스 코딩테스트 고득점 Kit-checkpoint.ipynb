{
 "cells": [
  {
   "cell_type": "markdown",
   "id": "9303d687",
   "metadata": {},
   "source": [
    "## 해시\n",
    "\n",
    "\n",
    "### 완주하지 못한 선수"
   ]
  },
  {
   "cell_type": "code",
   "execution_count": null,
   "id": "9640b9c7",
   "metadata": {},
   "outputs": [],
   "source": [
    "from collections import Counter\n",
    "def solution(participant, completion):\n",
    "    \n",
    "    counter1 = Counter(completion)\n",
    "    counter2 = Counter(participant)\n",
    "    a = counter2 - counter1\n",
    "    answer = list(a.keys())[0]\n",
    "    return answer"
   ]
  },
  {
   "cell_type": "markdown",
   "id": "b7f3b129",
   "metadata": {},
   "source": [
    "### 전화번호 목록"
   ]
  },
  {
   "cell_type": "code",
   "execution_count": null,
   "id": "e875f2f0",
   "metadata": {},
   "outputs": [],
   "source": [
    "def solution(phone_book):\n",
    "    phone_book = sorted(phone_book)\n",
    "    answer = True\n",
    "    \n",
    "    check = 0\n",
    "    for i in range(len(phone_book) - 1):\n",
    "        if phone_book[i] == phone_book[i+1][:len(phone_book[i])]:\n",
    "            return False\n",
    "        \n",
    "    return answer"
   ]
  },
  {
   "cell_type": "markdown",
   "id": "9bbf9267",
   "metadata": {},
   "source": [
    "### 위장"
   ]
  },
  {
   "cell_type": "code",
   "execution_count": null,
   "id": "abaec5f0",
   "metadata": {},
   "outputs": [],
   "source": [
    "def solution(clothes):\n",
    "    lst = {}\n",
    "    \n",
    "    for i in clothes:\n",
    "        if i[1] not in lst:\n",
    "            lst[i[1]] = 1\n",
    "        \n",
    "        else:\n",
    "            lst[i[1]] += 1\n",
    "            \n",
    "    \n",
    "    count = 1\n",
    "    for i in lst.values():\n",
    "        count *= i + 1\n",
    "            \n",
    "    \n",
    "    return count - 1"
   ]
  },
  {
   "cell_type": "markdown",
   "id": "cf91b8cc",
   "metadata": {},
   "source": [
    "### 베스트앨범"
   ]
  },
  {
   "cell_type": "code",
   "execution_count": null,
   "id": "11f59ff1",
   "metadata": {},
   "outputs": [],
   "source": []
  },
  {
   "cell_type": "markdown",
   "id": "a190fa80",
   "metadata": {},
   "source": [
    "## 정렬\n",
    "\n",
    "### K번째수\n"
   ]
  },
  {
   "cell_type": "code",
   "execution_count": 4,
   "id": "d9b30276",
   "metadata": {},
   "outputs": [],
   "source": [
    "\n",
    "\n",
    "\n",
    "def solution(array, commands):\n",
    "    answer = []\n",
    "    \n",
    "    for x in commands:\n",
    "        i, j, k = x[0], x[1], x[2]\n",
    "    \n",
    "        target = array[i-1:j]\n",
    "        target.sort()\n",
    "        answer.append(target[k-1])\n",
    "    \n",
    "    \n",
    "    return answer"
   ]
  },
  {
   "cell_type": "markdown",
   "id": "e29475b7",
   "metadata": {},
   "source": [
    "### 가장 큰 수\n",
    "\n",
    "https://www.acmicpc.net/problem/16496"
   ]
  },
  {
   "cell_type": "code",
   "execution_count": 17,
   "id": "5b981014",
   "metadata": {},
   "outputs": [],
   "source": [
    "a = [6, 10, 2]"
   ]
  },
  {
   "cell_type": "code",
   "execution_count": 15,
   "id": "0164b14b",
   "metadata": {},
   "outputs": [],
   "source": [
    "for i in range(len(a)):\n",
    "    a[i] = str(a[i])"
   ]
  },
  {
   "cell_type": "code",
   "execution_count": 18,
   "id": "6ddabe2a",
   "metadata": {},
   "outputs": [
    {
     "ename": "TypeError",
     "evalue": "'int' object is not subscriptable",
     "output_type": "error",
     "traceback": [
      "\u001b[1;31m---------------------------------------------------------------------------\u001b[0m",
      "\u001b[1;31mTypeError\u001b[0m                                 Traceback (most recent call last)",
      "\u001b[1;32m<ipython-input-18-8b01928fe5a8>\u001b[0m in \u001b[0;36m<module>\u001b[1;34m\u001b[0m\n\u001b[1;32m----> 1\u001b[1;33m \u001b[0ma\u001b[0m\u001b[1;33m.\u001b[0m\u001b[0msort\u001b[0m\u001b[1;33m(\u001b[0m\u001b[0mkey\u001b[0m \u001b[1;33m=\u001b[0m \u001b[1;32mlambda\u001b[0m \u001b[0mx\u001b[0m \u001b[1;33m:\u001b[0m \u001b[1;33m(\u001b[0m\u001b[1;33m-\u001b[0m\u001b[0mx\u001b[0m\u001b[1;33m[\u001b[0m\u001b[1;36m0\u001b[0m\u001b[1;33m]\u001b[0m\u001b[1;33m,\u001b[0m \u001b[1;33m-\u001b[0m\u001b[0mx\u001b[0m\u001b[1;33m[\u001b[0m\u001b[1;36m1\u001b[0m\u001b[1;33m]\u001b[0m\u001b[1;33m)\u001b[0m\u001b[1;33m)\u001b[0m\u001b[1;33m\u001b[0m\u001b[1;33m\u001b[0m\u001b[0m\n\u001b[0m",
      "\u001b[1;32m<ipython-input-18-8b01928fe5a8>\u001b[0m in \u001b[0;36m<lambda>\u001b[1;34m(x)\u001b[0m\n\u001b[1;32m----> 1\u001b[1;33m \u001b[0ma\u001b[0m\u001b[1;33m.\u001b[0m\u001b[0msort\u001b[0m\u001b[1;33m(\u001b[0m\u001b[0mkey\u001b[0m \u001b[1;33m=\u001b[0m \u001b[1;32mlambda\u001b[0m \u001b[0mx\u001b[0m \u001b[1;33m:\u001b[0m \u001b[1;33m(\u001b[0m\u001b[1;33m-\u001b[0m\u001b[0mx\u001b[0m\u001b[1;33m[\u001b[0m\u001b[1;36m0\u001b[0m\u001b[1;33m]\u001b[0m\u001b[1;33m,\u001b[0m \u001b[1;33m-\u001b[0m\u001b[0mx\u001b[0m\u001b[1;33m[\u001b[0m\u001b[1;36m1\u001b[0m\u001b[1;33m]\u001b[0m\u001b[1;33m)\u001b[0m\u001b[1;33m)\u001b[0m\u001b[1;33m\u001b[0m\u001b[1;33m\u001b[0m\u001b[0m\n\u001b[0m",
      "\u001b[1;31mTypeError\u001b[0m: 'int' object is not subscriptable"
     ]
    }
   ],
   "source": [
    "a.sort(key = lambda x : (-x[0], -x[1]))"
   ]
  },
  {
   "cell_type": "markdown",
   "id": "5e6402da",
   "metadata": {},
   "source": [
    "### H-Index"
   ]
  },
  {
   "cell_type": "code",
   "execution_count": 49,
   "id": "086ca4a7",
   "metadata": {},
   "outputs": [],
   "source": [
    "def solution(citations):\n",
    "    citations.sort(reverse = True)\n",
    "    \n",
    "    idx = 0\n",
    "    answer = idx\n",
    "    for i in range(len(citations)):\n",
    "        if citations[i] >= idx + 1:\n",
    "            answer = idx + 1\n",
    "            idx += 1\n",
    "            \n",
    "        else:\n",
    "            break\n",
    "\n",
    "    \n",
    "    return answer"
   ]
  },
  {
   "cell_type": "code",
   "execution_count": null,
   "id": "77db43a0",
   "metadata": {},
   "outputs": [],
   "source": [
    "# 다른 풀이\n",
    "\n",
    "def solution(citations):\n",
    "    h = 0\n",
    "    citations.sort()\n",
    "    for index in range(len(citations)):\n",
    "        h_index = [citation for citation in citations if citation>=h]\n",
    "        if len(h_index)>h and h<max(h_index):\n",
    "            h += 1\n",
    "        if len(h_index)<h:\n",
    "            h -= 1\n",
    "            break\n",
    "    return h"
   ]
  },
  {
   "cell_type": "markdown",
   "id": "4260d8a0",
   "metadata": {},
   "source": [
    "## 깊이/너비 우선 탐색(DFS/BFS)\n",
    "\n",
    "### 네트워크"
   ]
  },
  {
   "cell_type": "code",
   "execution_count": 61,
   "id": "29a542ac",
   "metadata": {},
   "outputs": [],
   "source": [
    "from collections import deque\n",
    "\n",
    "def check(x):\n",
    "    if visited[x]:\n",
    "        return False\n",
    "    \n",
    "    queue = deque([x])\n",
    "    visited[x] = 1\n",
    "    \n",
    "    while queue:\n",
    "        x = queue.popleft()\n",
    "        \n",
    "        for i in edge[x]:\n",
    "            if not visited[i]:\n",
    "                visited[i] = 1\n",
    "                queue.append(i)\n",
    "                \n",
    "    return True\n",
    "    \n",
    "\n",
    "\n",
    "\n",
    "def solution(n, computers):\n",
    "    global edge\n",
    "    global visited\n",
    "    \n",
    "    edge = [[] for _ in range(n)]\n",
    "    \n",
    "    for i in range(n-1):\n",
    "        for j in range(i+1, n):\n",
    "            if computers[i][j]:\n",
    "                edge[i].append(j)\n",
    "                edge[j].append(i)\n",
    "     \n",
    "    \n",
    "    visited = [0] * n\n",
    "    answer = 0            \n",
    "    for i in range(n):\n",
    "        if check(i):\n",
    "            answer += 1\n",
    "            \n",
    "    return answer"
   ]
  },
  {
   "cell_type": "markdown",
   "id": "0e02ab54",
   "metadata": {},
   "source": [
    "### 여행경로\n",
    "\n",
    "https://programmers.co.kr/learn/courses/30/lessons/43164"
   ]
  },
  {
   "cell_type": "code",
   "execution_count": null,
   "id": "f4260dad",
   "metadata": {},
   "outputs": [],
   "source": []
  }
 ],
 "metadata": {
  "kernelspec": {
   "display_name": "Python 3",
   "language": "python",
   "name": "python3"
  },
  "language_info": {
   "codemirror_mode": {
    "name": "ipython",
    "version": 3
   },
   "file_extension": ".py",
   "mimetype": "text/x-python",
   "name": "python",
   "nbconvert_exporter": "python",
   "pygments_lexer": "ipython3",
   "version": "3.8.8"
  }
 },
 "nbformat": 4,
 "nbformat_minor": 5
}
