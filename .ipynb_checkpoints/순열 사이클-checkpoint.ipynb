{
 "cells": [
  {
   "cell_type": "markdown",
   "id": "b37a7dbc",
   "metadata": {},
   "source": [
    "https://www.acmicpc.net/problem/10451"
   ]
  },
  {
   "cell_type": "code",
   "execution_count": null,
   "id": "7e642814",
   "metadata": {},
   "outputs": [],
   "source": [
    "# 순열 사이클\n",
    "\n",
    "import sys\n",
    "sys.setrecursionlimit(int(1e6))\n",
    "\n",
    "t = int(input())\n",
    "\n",
    "def sol(x):\n",
    "    visited[x] = 1\n",
    "    \n",
    "    if not visited[lst[x-1]]:\n",
    "        sol(lst[x-1])\n",
    "\n",
    "\n",
    "for _ in range(t):\n",
    "    n = int(input())\n",
    "    lst = list(map(int, input().split()))\n",
    "    \n",
    "    answer = 0\n",
    "    visited = [0] * (n+1)\n",
    "    \n",
    "    for i in range(1, n+1):\n",
    "        if not visited[i]:\n",
    "            sol(i)\n",
    "            answer += 1\n",
    "            \n",
    "    print(answer)\n",
    "    \n",
    "    \n",
    "    "
   ]
  },
  {
   "cell_type": "code",
   "execution_count": null,
   "id": "47179757",
   "metadata": {},
   "outputs": [],
   "source": [
    "2\n",
    "8\n",
    "3 2 7 8 1 4 5 6\n",
    "10\n",
    "2 1 3 4 5 6 7 9 10 8"
   ]
  },
  {
   "cell_type": "code",
   "execution_count": 1,
   "id": "a61ad8b3",
   "metadata": {},
   "outputs": [
    {
     "ename": "NameError",
     "evalue": "name 'visited' is not defined",
     "output_type": "error",
     "traceback": [
      "\u001b[1;31m---------------------------------------------------------------------------\u001b[0m",
      "\u001b[1;31mNameError\u001b[0m                                 Traceback (most recent call last)",
      "\u001b[1;32m<ipython-input-1-1aee0850c2f6>\u001b[0m in \u001b[0;36m<module>\u001b[1;34m\u001b[0m\n\u001b[1;32m----> 1\u001b[1;33m \u001b[0mvisited\u001b[0m\u001b[1;33m\u001b[0m\u001b[1;33m\u001b[0m\u001b[0m\n\u001b[0m",
      "\u001b[1;31mNameError\u001b[0m: name 'visited' is not defined"
     ]
    }
   ],
   "source": [
    "visited"
   ]
  },
  {
   "cell_type": "code",
   "execution_count": null,
   "id": "80305754",
   "metadata": {},
   "outputs": [],
   "source": []
  }
 ],
 "metadata": {
  "kernelspec": {
   "display_name": "Python 3",
   "language": "python",
   "name": "python3"
  },
  "language_info": {
   "codemirror_mode": {
    "name": "ipython",
    "version": 3
   },
   "file_extension": ".py",
   "mimetype": "text/x-python",
   "name": "python",
   "nbconvert_exporter": "python",
   "pygments_lexer": "ipython3",
   "version": "3.8.8"
  }
 },
 "nbformat": 4,
 "nbformat_minor": 5
}
