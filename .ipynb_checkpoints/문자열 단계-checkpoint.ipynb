{
 "cells": [
  {
   "cell_type": "code",
   "execution_count": null,
   "metadata": {},
   "outputs": [],
   "source": [
    "# 백준 11720\n",
    "\n",
    "n = int(input())\n",
    "\n",
    "a = int(input())\n",
    "b = 0\n",
    "for i in range(len(str(a))):\n",
    "    b += int(str(a)[i])\n",
    "    \n",
    "print(b)"
   ]
  },
  {
   "cell_type": "code",
   "execution_count": null,
   "metadata": {},
   "outputs": [],
   "source": [
    "# 백준 10809\n",
    "\n",
    "s = input().lower()\n",
    "letters = 'abcdefghijklmnopqrstuvwxyz'\n",
    "for i in range(26):\n",
    "    print(s.find(letters[i]))\n"
   ]
  },
  {
   "cell_type": "code",
   "execution_count": 8,
   "metadata": {},
   "outputs": [
    {
     "name": "stdout",
     "output_type": "stream",
     "text": [
      "1\n",
      "3 abc\n",
      "aaabbbccc\n"
     ]
    }
   ],
   "source": [
    "# 백준 2675\n",
    "\n",
    "t = int(input())\n",
    "\n",
    "for i in range(t):\n",
    "    r, s = map(str, input().split())\n",
    "    r = int(r)\n",
    "    p =''\n",
    "    for j in range(len(s)):\n",
    "        p += s[j]*r\n",
    "\n",
    "    print(p)"
   ]
  },
  {
   "cell_type": "code",
   "execution_count": 31,
   "metadata": {},
   "outputs": [
    {
     "name": "stdout",
     "output_type": "stream",
     "text": [
      "zZa\n",
      "Z\n"
     ]
    }
   ],
   "source": [
    "# 백준 1157..시간초과 뜨는 코드ㅠㅠ\n",
    "\n",
    "a = str(input().upper())\n",
    "\n",
    "max_letter = ''\n",
    "max_count = 0\n",
    "\n",
    "for i in range(len(a)):\n",
    "    if a[i] != max_letter:\n",
    "        if a.count(a[i]) >= max_count:\n",
    "            max_letter = a[i]\n",
    "            if a.count(a[i]) == max_count:\n",
    "                max_letter = '?'\n",
    "            max_count = a.count(a[i])\n",
    "        \n",
    "print(max_letter)"
   ]
  }
 ],
 "metadata": {
  "kernelspec": {
   "display_name": "Python 3",
   "language": "python",
   "name": "python3"
  },
  "language_info": {
   "codemirror_mode": {
    "name": "ipython",
    "version": 3
   },
   "file_extension": ".py",
   "mimetype": "text/x-python",
   "name": "python",
   "nbconvert_exporter": "python",
   "pygments_lexer": "ipython3",
   "version": "3.7.5"
  }
 },
 "nbformat": 4,
 "nbformat_minor": 2
}
