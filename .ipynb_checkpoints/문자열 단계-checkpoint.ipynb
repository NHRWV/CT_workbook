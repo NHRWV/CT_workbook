{
 "cells": [
  {
   "cell_type": "code",
   "execution_count": null,
   "metadata": {},
   "outputs": [],
   "source": [
    "# 백준 11720\n",
    "\n",
    "n = int(input())\n",
    "\n",
    "a = int(input())\n",
    "b = 0\n",
    "for i in range(len(str(a))):\n",
    "    b += int(str(a)[i])\n",
    "    \n",
    "print(b)"
   ]
  },
  {
   "cell_type": "code",
   "execution_count": null,
   "metadata": {},
   "outputs": [],
   "source": [
    "# 백준 10809\n",
    "\n",
    "s = input().lower()\n",
    "letters = 'abcdefghijklmnopqrstuvwxyz'\n",
    "for i in range(26):\n",
    "    print(s.find(letters[i]))\n"
   ]
  },
  {
   "cell_type": "code",
   "execution_count": 8,
   "metadata": {},
   "outputs": [
    {
     "name": "stdout",
     "output_type": "stream",
     "text": [
      "1\n",
      "3 abc\n",
      "aaabbbccc\n"
     ]
    }
   ],
   "source": [
    "# 백준 2675\n",
    "\n",
    "t = int(input())\n",
    "\n",
    "for i in range(t):\n",
    "    r, s = map(str, input().split())\n",
    "    r = int(r)\n",
    "    p =''\n",
    "    for j in range(len(s)):\n",
    "        p += s[j]*r\n",
    "\n",
    "    print(p)"
   ]
  },
  {
   "cell_type": "code",
   "execution_count": 31,
   "metadata": {},
   "outputs": [
    {
     "name": "stdout",
     "output_type": "stream",
     "text": [
      "zZa\n",
      "Z\n"
     ]
    }
   ],
   "source": [
    "# 백준 1157..시간초과 뜨는 코드ㅠㅠ\n",
    "\n",
    "a = str(input().upper())\n",
    "\n",
    "max_letter = ''\n",
    "max_count = 0\n",
    "\n",
    "for i in range(len(a)):\n",
    "    if a[i] != max_letter:\n",
    "        if a.count(a[i]) >= max_count:\n",
    "            max_letter = a[i]\n",
    "            if a.count(a[i]) == max_count:\n",
    "                max_letter = '?'\n",
    "            max_count = a.count(a[i])\n",
    "        \n",
    "print(max_letter)"
   ]
  },
  {
   "cell_type": "code",
   "execution_count": 6,
   "metadata": {},
   "outputs": [
    {
     "name": "stdout",
     "output_type": "stream",
     "text": [
      "zZa\n",
      "Z\n"
     ]
    }
   ],
   "source": [
    "# 백준 1157 이렇게 하니까 되더라.\n",
    "\n",
    "a = str(input().upper())\n",
    "\n",
    "letters = set(a)\n",
    "max_letter = ''\n",
    "max_count = 0\n",
    "for i in range(len(letters)):\n",
    "    if a.count(list(letters)[i]) >= max_count:\n",
    "        max_letter = list(letters)[i]\n",
    "        if a.count(list(letters)[i]) == max_count:\n",
    "            max_letter = '?'\n",
    "        max_count = a.count(list(letters)[i])\n",
    "print(max_letter)"
   ]
  },
  {
   "cell_type": "code",
   "execution_count": 14,
   "metadata": {},
   "outputs": [
    {
     "name": "stdout",
     "output_type": "stream",
     "text": [
      "734 893\n",
      "437\n"
     ]
    }
   ],
   "source": [
    "# 백준 2908\n",
    "\n",
    "a, b = map(int, input().split())\n",
    "\n",
    "a = str(a)[::-1]\n",
    "b = str(b)[::-1]\n",
    "\n",
    "if int(a) > int(b):\n",
    "    print(int(a))\n",
    "elif int(a) < int(b):\n",
    "    print(int(b))"
   ]
  },
  {
   "cell_type": "code",
   "execution_count": 57,
   "metadata": {},
   "outputs": [
    {
     "name": "stdout",
     "output_type": "stream",
     "text": [
      "nljj\n",
      "3\n"
     ]
    }
   ],
   "source": [
    "# 백준 2941..............\n",
    "# 아니 근데 생각해보니까 이럴 필요 없이 그냥 크로아티아 알파벳만 임의의 문자로 치환한 다음에 len함수 쓰면 됨.\n",
    "\n",
    "a = str(input())\n",
    "\n",
    "alphabet = ['a', 'b', 'c', 'd', 'e', 'f', 'g', 'h', 'i', 'j', 'k', 'l', 'm', 'n', 'o', 'p', 'q', 'r', 's', 't',\n",
    "            'u', 'v', 'w', 'x', 'y', 'z', 'c=', 'c-', 'dz=', 'd-', 'lj', 'nj', 's=', 'z=']\n",
    "count = 0\n",
    "\n",
    "for i in alphabet[-8:]:\n",
    "    count += a.count(i)\n",
    "    a = a.replace(i,'+')\n",
    "\n",
    "for j in alphabet[:26]:\n",
    "    count += a.count(j)\n",
    "\n",
    "print(count)"
   ]
  },
  {
   "cell_type": "code",
   "execution_count": 85,
   "metadata": {},
   "outputs": [
    {
     "name": "stdout",
     "output_type": "stream",
     "text": [
      "3\n",
      "happy\n",
      "new\n",
      "year\n",
      "2\n"
     ]
    }
   ],
   "source": [
    "# 백준 1316\n",
    "\n",
    "n = int(input())\n",
    "count = []\n",
    "for i in range(n):\n",
    "    voca = str(input().lower())\n",
    "    \n",
    "    for j in range(len(voca)):\n",
    "        try:\n",
    "            if voca[j] != voca[j+1]:\n",
    "                a = voca[j]\n",
    "                voca.replace(voca[:j+1], '')\n",
    "            \n",
    "                if voca.count(a) > 1:\n",
    "                    count.append(voca)\n",
    "                    continue\n",
    "        except:\n",
    "            continue\n",
    "            \n",
    "print(n - len(set(count)))\n",
    "                \n",
    "        "
   ]
  }
 ],
 "metadata": {
  "kernelspec": {
   "display_name": "Python 3",
   "language": "python",
   "name": "python3"
  },
  "language_info": {
   "codemirror_mode": {
    "name": "ipython",
    "version": 3
   },
   "file_extension": ".py",
   "mimetype": "text/x-python",
   "name": "python",
   "nbconvert_exporter": "python",
   "pygments_lexer": "ipython3",
   "version": "3.7.5"
  }
 },
 "nbformat": 4,
 "nbformat_minor": 2
}
