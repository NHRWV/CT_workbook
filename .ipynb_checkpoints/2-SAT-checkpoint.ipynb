{
 "cells": [
  {
   "cell_type": "markdown",
   "id": "ca585ddb",
   "metadata": {},
   "source": [
    "https://www.acmicpc.net/problem/11280"
   ]
  },
  {
   "cell_type": "code",
   "execution_count": null,
   "id": "3a210322",
   "metadata": {},
   "outputs": [],
   "source": [
    "# 2-SAT - 3\n",
    "\n",
    "n, m = map(int, input().split())\n",
    "\n",
    "edge = [[] for i in range(2*n+1)]\n",
    "for i in range(m):\n",
    "    a, b = map(int, input().split())\n",
    "    edge[-a].append(b)\n",
    "    edge[-b].append(a)\n",
    "    \n",
    "    \n",
    "stack = []\n",
    "num = [0] * (2*n+1)\n",
    "count = 1\n",
    "check = [0] * (2*n+1)\n",
    "answer = []\n",
    "group = [0] * (2*n+1)\n",
    "scc_num = 1\n",
    "\n",
    "def sol(x):\n",
    "    global count, scc_num\n",
    "    \n",
    "    num[x] = count\n",
    "    stack.append(x)\n",
    "    \n",
    "    count += 1\n",
    "    head = num[x]\n",
    "    \n",
    "    for i in edge[x]:\n",
    "        if not num[i]:\n",
    "            head = min(head, sol(i))\n",
    "            \n",
    "        elif not check[i]:\n",
    "            head = min(head, num[i])\n",
    "            \n",
    "\n",
    "    if head == num[x]:\n",
    "        while True:\n",
    "            t = stack.pop()\n",
    "            check[t] = 1\n",
    "            group[t] = scc_num\n",
    "            \n",
    "            if t == x:\n",
    "                break\n",
    "            \n",
    "        scc_num += 1\n",
    "        \n",
    "    \n",
    "    return head\n",
    "        \n",
    "        \n",
    "for i in range(1, n+1):\n",
    "    if not num[i]:\n",
    "        sol(i)\n",
    "        \n",
    "flag = 1\n",
    "for i in range(1, n+1):\n",
    "    if group[i] == group[-i]:\n",
    "        flag = 0\n",
    "        break\n",
    "        \n",
    "        \n",
    "print(1 if flag else 0)\n",
    "        "
   ]
  },
  {
   "cell_type": "code",
   "execution_count": null,
   "id": "7ffd39b8",
   "metadata": {},
   "outputs": [],
   "source": [
    "3 4\n",
    "-1 2\n",
    "-2 3\n",
    "1 3\n",
    "3 2\n",
    "\n",
    "1 2\n",
    "1 1\n",
    "-1 -1"
   ]
  }
 ],
 "metadata": {
  "kernelspec": {
   "display_name": "Python 3",
   "language": "python",
   "name": "python3"
  },
  "language_info": {
   "codemirror_mode": {
    "name": "ipython",
    "version": 3
   },
   "file_extension": ".py",
   "mimetype": "text/x-python",
   "name": "python",
   "nbconvert_exporter": "python",
   "pygments_lexer": "ipython3",
   "version": "3.8.8"
  }
 },
 "nbformat": 4,
 "nbformat_minor": 5
}
