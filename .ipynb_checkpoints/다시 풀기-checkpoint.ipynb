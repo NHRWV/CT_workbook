{
 "cells": [
  {
   "cell_type": "code",
   "execution_count": null,
   "id": "2e0b1f45",
   "metadata": {},
   "outputs": [],
   "source": [
    "import heapq\n",
    "\n",
    "v, e = map(int, input().split())\n",
    "k = int(input())\n",
    "\n",
    "edge = [[] for _ in range(v+1)]\n",
    "for i in range(e):\n",
    "    a, b, c = map(int, input().split())\n",
    "    edge[a].append((b, c))\n",
    "    \n",
    "    \n",
    "inf = int(1e9)\n",
    "distance = [inf] * (v+1)\n",
    "\n",
    "def dijk(x):\n",
    "    queue = []\n",
    "    \n",
    "    heapq.heappush(queue, (0, x))\n",
    "    distance[x] = 0\n",
    "    \n",
    "    while queue:\n",
    "        dist, x = heapq.heappop(queue)\n",
    "        \n",
    "        if distance[x] < dist:\n",
    "            continue\n",
    "            \n",
    "        for nxt, w in edge[x]:\n",
    "            cost = dist + w\n",
    "            \n",
    "            if cost < distance[nxt]:\n",
    "                distance[nxt] = cost\n",
    "                heapq.heappush(queue, (cost, nxt))\n",
    "                \n",
    "                \n",
    "dijk(k)\n",
    "\n",
    "\n",
    "for i in range(1, v+1):\n",
    "    print(distance[i] if distance[i] != int(1e9) else 'INF')\n",
    "    "
   ]
  },
  {
   "cell_type": "code",
   "execution_count": null,
   "id": "4313f8ce",
   "metadata": {},
   "outputs": [],
   "source": [
    "import heapq\n",
    "\n",
    "n, e = map(int, input().split())\n",
    "\n",
    "edge = [[] for _ in range(n+1)]\n",
    "for i in range(e):\n",
    "    a, b, c = map(int, input().split())\n",
    "    edge[a].append((b, c))\n",
    "    edge[b].append((a, c))\n",
    "    \n",
    "    \n",
    "v1, v2 = map(int, input().split())\n",
    "\n",
    "\n",
    "def dijk(x):\n",
    "    inf = int(1e9)\n",
    "    distance = [inf] * (n+1)\n",
    "    \n",
    "    queue = []\n",
    "    heapq.heappush(queue, (0, x))\n",
    "    distance[x] = 0\n",
    "    \n",
    "    while queue:\n",
    "        dist, x = heapq.heappop(queue)\n",
    "        \n",
    "        if distance[x] < dist:\n",
    "            continue\n",
    "            \n",
    "        for nxt, w in edge[x]:\n",
    "            cost = dist + w\n",
    "            \n",
    "            if cost < distance[nxt]:\n",
    "                distance[nxt] = cost\n",
    "                heapq.heappush(queue, (cost, nxt))\n",
    "                \n",
    "        \n",
    "    return distance\n",
    "\n",
    "\n",
    "alpha = dijk(1)\n",
    "rv1 = dijk(v1)\n",
    "rv2 = dijk(v2)\n",
    "\n",
    "red = alpha[v1] + rv1[v2] + rv2[n]\n",
    "blue = alpha[v2] + rv2[v1] + rv1[n]\n",
    "\n",
    "answer = min(red, blue)\n",
    "print(answer if answer < int(1e9) else -1)\n",
    "    "
   ]
  },
  {
   "cell_type": "code",
   "execution_count": null,
   "id": "747bc747",
   "metadata": {},
   "outputs": [],
   "source": [
    "import heapq\n",
    "\n",
    "T = int(input())\n",
    "\n",
    "\n",
    "def dijk(x):\n",
    "    inf = int(1e9)\n",
    "    distance = [inf] * (n+1)\n",
    "    queue = []\n",
    "    \n",
    "    heapq.heappush(queue, (0, x))\n",
    "    distance[x] = 0\n",
    "    \n",
    "    while queue:\n",
    "        dist, x = heapq.heappop(queue)\n",
    "        \n",
    "        if distance[x] < dist:\n",
    "            continue\n",
    "            \n",
    "        for nxt, w in edge[x]:\n",
    "            cost = dist + w\n",
    "            \n",
    "            if cost < distance[nxt]:\n",
    "                distance[nxt] = cost\n",
    "                heapq.heappush(queue, (cost, nxt))\n",
    "                \n",
    "    return distance\n",
    "\n",
    "\n",
    "for _ in range(T):\n",
    "    n, m, t = map(int, input().split())\n",
    "    s, g, h = map(int, input().split())\n",
    "    \n",
    "    edge = [[] for _ in range(n+1)]\n",
    "    for i in range(m):\n",
    "        a, b, c = map(int, input().split())\n",
    "        edge[a].append((b, c))\n",
    "        edge[b].append((a, c))\n",
    "        \n",
    "        \n",
    "    goal = [int(input()) for i in range(t)]\n",
    "    \n",
    "    alpha = dijk(s)\n",
    "    rg = dijk(g)\n",
    "    rh = dijk(h)\n",
    "    \n",
    "    base_g = alpha[h] + rh[g]\n",
    "    base_h = alpha[g] + rg[h]\n",
    "    \n",
    "    answer = []\n",
    "    for i in goal:\n",
    "        if base_g + rg[i] == alpha[i] or base_h + rh[i] == alpha[i]:\n",
    "            answer.append(i)\n",
    "            \n",
    "    answer.sort()\n",
    "    \n",
    "    print(*answer)\n",
    "    "
   ]
  },
  {
   "cell_type": "code",
   "execution_count": null,
   "id": "eddfa502",
   "metadata": {
    "scrolled": true
   },
   "outputs": [],
   "source": [
    "import heapq\n",
    "\n",
    "n = int(input())\n",
    "m = int(input())\n",
    "\n",
    "edge = [[] for _ in range(n+1)]\n",
    "for i in range(m):\n",
    "    a, b, c = map(int, input().split())\n",
    "    edge[a].append((b, c))\n",
    "\n",
    "    \n",
    "start, goal = map(int, input().split())\n",
    "\n",
    "\n",
    "def dijk(x):\n",
    "    inf = int(1e9)\n",
    "    distance = [inf] * (n+1)\n",
    "    \n",
    "    queue = []\n",
    "    heapq.heappush(queue, (0, x))\n",
    "    distance[x] = 0\n",
    "    \n",
    "    while queue:\n",
    "        dist, x = heapq.heappop(queue)\n",
    "        \n",
    "        if distance[x] < dist:\n",
    "            continue\n",
    "            \n",
    "        for nxt, w in edge[x]:\n",
    "            cost = dist + w\n",
    "            \n",
    "            if cost < distance[nxt]:\n",
    "                distance[nxt] = cost\n",
    "                heapq.heappush(queue, (cost, nxt))\n",
    "                \n",
    "    return distance\n",
    "\n",
    "\n",
    "\n",
    "\n",
    "print(dijk(start)[goal])\n",
    "\n",
    "        "
   ]
  },
  {
   "cell_type": "code",
   "execution_count": null,
   "id": "e58f89cf",
   "metadata": {},
   "outputs": [],
   "source": [
    "5\n",
    "8\n",
    "1 2 2\n",
    "1 3 3\n",
    "1 4 1\n",
    "1 5 10\n",
    "2 4 2\n",
    "3 4 1\n",
    "3 5 1\n",
    "4 5 3\n",
    "1 5"
   ]
  },
  {
   "cell_type": "code",
   "execution_count": 21,
   "id": "e53cce72",
   "metadata": {},
   "outputs": [
    {
     "name": "stdout",
     "output_type": "stream",
     "text": [
      "5 2\n",
      "3 4 1 3 4\n",
      "[[3, 1, 4], [4, 3]]\n",
      "[[4, 3, 1], [4, 3]]\n"
     ]
    }
   ],
   "source": [
    "n, k = map(int, input().split())\n",
    "lst = list(map(int, input().split()))\n",
    "\n",
    "b = [[] for _ in range(k)]\n",
    "for i in range(n):\n",
    "    b[i % k].append(lst[i])\n",
    "    \n",
    "print(b)\n",
    "    \n",
    "for i in b:\n",
    "    i.sort(reverse = True)\n",
    "    \n",
    "print(b)\n",
    "    \n",
    "lst.sort()\n",
    "\n",
    "temp = []\n",
    "for i in range(n):\n",
    "    temp.append(b[i % k].pop())\n",
    "    \n"
   ]
  },
  {
   "cell_type": "code",
   "execution_count": null,
   "id": "cb1057eb",
   "metadata": {},
   "outputs": [],
   "source": [
    "5 2\n",
    "3 4 1 3 4\n",
    "\n",
    "5 3\n",
    "3 4 1 3 4\n",
    "\n",
    "7 5\n",
    "1 2 3 4 5 5 10\n"
   ]
  },
  {
   "cell_type": "code",
   "execution_count": 18,
   "id": "401e04c7",
   "metadata": {},
   "outputs": [
    {
     "data": {
      "text/plain": [
       "[1, 3, 3, 4, 4]"
      ]
     },
     "execution_count": 18,
     "metadata": {},
     "output_type": "execute_result"
    }
   ],
   "source": [
    "lst"
   ]
  },
  {
   "cell_type": "code",
   "execution_count": 19,
   "id": "9c33672d",
   "metadata": {},
   "outputs": [
    {
     "data": {
      "text/plain": [
       "[1, 3, 3, 4, 4]"
      ]
     },
     "execution_count": 19,
     "metadata": {},
     "output_type": "execute_result"
    }
   ],
   "source": [
    "temp"
   ]
  },
  {
   "cell_type": "code",
   "execution_count": 20,
   "id": "2b3134b3",
   "metadata": {},
   "outputs": [
    {
     "data": {
      "text/plain": [
       "[[], []]"
      ]
     },
     "execution_count": 20,
     "metadata": {},
     "output_type": "execute_result"
    }
   ],
   "source": [
    "b"
   ]
  },
  {
   "cell_type": "markdown",
   "id": "ee70833f",
   "metadata": {},
   "source": [
    "https://atcoder.jp/contests/abc254/tasks/abc254_c"
   ]
  },
  {
   "cell_type": "markdown",
   "id": "2f505530",
   "metadata": {},
   "source": [
    "https://atcoder.jp/contests/abc250/tasks/abc250_a"
   ]
  },
  {
   "cell_type": "markdown",
   "id": "cf0ef71d",
   "metadata": {},
   "source": [
    "https://atcoder.jp/contests/abc250/tasks"
   ]
  },
  {
   "cell_type": "code",
   "execution_count": null,
   "id": "243de231",
   "metadata": {},
   "outputs": [],
   "source": []
  }
 ],
 "metadata": {
  "kernelspec": {
   "display_name": "Python 3",
   "language": "python",
   "name": "python3"
  },
  "language_info": {
   "codemirror_mode": {
    "name": "ipython",
    "version": 3
   },
   "file_extension": ".py",
   "mimetype": "text/x-python",
   "name": "python",
   "nbconvert_exporter": "python",
   "pygments_lexer": "ipython3",
   "version": "3.8.8"
  }
 },
 "nbformat": 4,
 "nbformat_minor": 5
}
