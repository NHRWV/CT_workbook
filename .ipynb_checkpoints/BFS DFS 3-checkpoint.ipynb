{
 "cells": [
  {
   "cell_type": "markdown",
   "id": "ca3af7e5",
   "metadata": {},
   "source": [
    "https://www.acmicpc.net/problem/1175"
   ]
  },
  {
   "cell_type": "code",
   "execution_count": null,
   "id": "f12c44e7",
   "metadata": {},
   "outputs": [],
   "source": [
    "# 배달\n",
    "\n",
    "from collections import deque\n",
    "\n",
    "n, m = map(int, input().split())\n",
    "\n",
    "visited = [[[[[0] * 5 for _ in range(m)] for _ in range(n)] for _ in range(m)] for _ in range(n)]\n",
    "\n",
    "room = []\n",
    "chk = 0\n",
    "queue = deque()\n",
    "\n",
    "for i in range(n):\n",
    "    a = list(map(int, input().rstrip()))\n",
    "    for j in range(m):\n",
    "        if a[j] == 'S':\n",
    "            sx, sy = i, j\n",
    "            \n",
    "            \n",
    "        elif a[j] == 'C' and chk == 0:\n",
    "            chk += 1\n",
    "            a[j] == 'CC'\n",
    "    room.append(a)\n",
    "    \n",
    "\n",
    "dx = [-1, 1, 0, 0]\n",
    "dy = [0, 0, -1, 1]\n",
    "            "
   ]
  },
  {
   "cell_type": "code",
   "execution_count": 2,
   "id": "921c8586",
   "metadata": {},
   "outputs": [],
   "source": [
    "n = 3\n",
    "m = 4"
   ]
  },
  {
   "cell_type": "code",
   "execution_count": 21,
   "id": "814078bb",
   "metadata": {},
   "outputs": [],
   "source": [
    "visited = [[[[[0] * 5 for _ in range(m)] for _ in range(n)] for _ in range(m)] for _ in range(n)]"
   ]
  },
  {
   "cell_type": "code",
   "execution_count": 24,
   "id": "83b5eb66",
   "metadata": {},
   "outputs": [
    {
     "data": {
      "text/plain": [
       "0"
      ]
     },
     "execution_count": 24,
     "metadata": {},
     "output_type": "execute_result"
    }
   ],
   "source": [
    "visited[0][0][0][0][0]"
   ]
  },
  {
   "cell_type": "markdown",
   "id": "a4accdd8",
   "metadata": {},
   "source": [
    "https://www.acmicpc.net/problem/18809"
   ]
  },
  {
   "cell_type": "code",
   "execution_count": null,
   "id": "4dc13ce4",
   "metadata": {},
   "outputs": [],
   "source": [
    "# Gaaaaaaaaaarden\n",
    "\n",
    "from collections import deque\n",
    "from itertools import combinations\n",
    "\n",
    "\n",
    "n, m, g, r = map(int, input().split())\n",
    "\n",
    "garden = []\n",
    "psb = []\n",
    "\n",
    "for i in range(n):\n",
    "    a = list(map(int, input().split()))\n",
    "    garden.append(a)\n",
    "    for j in range(m):\n",
    "        if a[j] == 2:\n",
    "            psb.append((i, j))\n",
    "            \n",
    "maxi = 0\n",
    "\n",
    "dx = [-1, 1, 0, 0]\n",
    "dy = [0, 0, -1, 1]\n",
    "\n",
    "\n",
    "def sol(red, green):\n",
    "    rqueue = deque()\n",
    "    gqueue = deque()\n",
    "    \n",
    "    count = 1\n",
    "    flower = 0\n",
    "    \n",
    "    for i, j in red:\n",
    "        visited[i][j] = -1\n",
    "        rqueue.append((i, j))\n",
    "    for i, j in green:\n",
    "        visited[i][j] = -1\n",
    "        gqueue.append((i, j))\n",
    "        \n",
    "    while rqueue and gqueue:\n",
    "        for i in range(len(rqueue)):\n",
    "            x, y = rqueue.popleft()\n",
    "            \n",
    "            if visited[x][y] == -2:\n",
    "                continue\n",
    "                \n",
    "            for j in range(4):\n",
    "                nx = x + dx[j]\n",
    "                ny = y + dy[j]\n",
    "                \n",
    "                if nx < 0 or nx >= n or ny < 0 or ny >= m:\n",
    "                    continue\n",
    "                    \n",
    "                if garden[nx][ny] and not visited[nx][ny]:\n",
    "                    visited[nx][ny] = count\n",
    "                    rqueue.append((nx, ny))\n",
    "                    \n",
    "        for i in range(len(gqueue)):\n",
    "            x, y = gqueue.popleft()\n",
    "            \n",
    "            if visited[x][y] == -2:\n",
    "                continue\n",
    "                \n",
    "            for j in range(4):\n",
    "                nx = x + dx[j]\n",
    "                ny = y + dy[j]\n",
    "                \n",
    "                if nx < 0 or nx >= n or ny < 0 or ny >= m:\n",
    "                    continue\n",
    "                    \n",
    "                if garden[nx][ny]:\n",
    "                    if not visited[nx][ny]:\n",
    "                        visited[nx][ny] = -1\n",
    "                        gqueue.append((nx, ny))\n",
    "                        \n",
    "                    elif visited[nx][ny] == count:\n",
    "                        flower += 1\n",
    "                        visited[nx][ny] = -2\n",
    "                        \n",
    "        count += 1\n",
    "        \n",
    "    return flower\n",
    "            \n",
    "        \n",
    "\n",
    "for combo in combinations(psb, g+r):\n",
    "    for green in combinations(combo, g):\n",
    "        red = [x for x in combo if x not in green]\n",
    "        visited = [[0] * m for _ in range(n)]\n",
    "        \n",
    "        result = sol(red, green)\n",
    "        maxi = max(maxi, result)\n",
    "        \n",
    "print(maxi)"
   ]
  },
  {
   "cell_type": "code",
   "execution_count": 25,
   "id": "1ad6b3c0",
   "metadata": {},
   "outputs": [],
   "source": [
    "2 2 1 1\n",
    "2 1\n",
    "1 2\n",
    "\n",
    "3 3 2 1\n",
    "2 1 0\n",
    "1 0 1\n",
    "2 1 2\n",
    "\n",
    "4 3 1 1\n",
    "0 2 0\n",
    "2 1 2\n",
    "0 1 0\n",
    "1 1 1\n",
    "\n",
    "5 7 3 2\n",
    "1 0 1 2 1 2 1\n",
    "1 1 1 0 1 0 2\n",
    "2 1 0 0 1 1 1\n",
    "1 0 2 1 2 1 0\n",
    "0 2 1 1 0 1 2\n",
    "\n",
    "6 6 3 3\n",
    "1 1 2 1 1 2\n",
    "2 1 0 1 1 1\n",
    "0 1 0 0 1 2\n",
    "2 1 1 1 2 1\n",
    "2 1 1 2 1 2\n",
    "0 0 0 0 2 1\n",
    "\n",
    "10 10 1 1\n",
    "2 1 1 2 1 1 1 1 1 1\n",
    "1 1 1 1 1 1 1 1 1 1\n",
    "1 1 1 1 1 1 1 1 1 1\n",
    "1 1 1 1 1 1 1 1 1 1\n",
    "1 1 1 1 1 1 1 1 1 1\n",
    "1 1 1 1 1 1 1 1 1 1\n",
    "1 1 1 1 1 1 1 1 1 1\n",
    "1 1 1 1 1 1 1 1 1 1\n",
    "1 1 1 1 1 1 1 1 1 1\n",
    "1 1 1 1 1 1 1 1 1 1"
   ]
  },
  {
   "cell_type": "code",
   "execution_count": 26,
   "id": "ead95c05",
   "metadata": {},
   "outputs": [],
   "source": [
    "queue = deque()"
   ]
  },
  {
   "cell_type": "code",
   "execution_count": 27,
   "id": "c85fcea1",
   "metadata": {},
   "outputs": [],
   "source": [
    "queue.append((1,1))"
   ]
  },
  {
   "cell_type": "code",
   "execution_count": 28,
   "id": "dcd36c58",
   "metadata": {},
   "outputs": [
    {
     "data": {
      "text/plain": [
       "deque([(1, 1)])"
      ]
     },
     "execution_count": 28,
     "metadata": {},
     "output_type": "execute_result"
    }
   ],
   "source": [
    "queue"
   ]
  },
  {
   "cell_type": "code",
   "execution_count": null,
   "id": "5db4db5f",
   "metadata": {},
   "outputs": [],
   "source": []
  }
 ],
 "metadata": {
  "kernelspec": {
   "display_name": "Python 3",
   "language": "python",
   "name": "python3"
  },
  "language_info": {
   "codemirror_mode": {
    "name": "ipython",
    "version": 3
   },
   "file_extension": ".py",
   "mimetype": "text/x-python",
   "name": "python",
   "nbconvert_exporter": "python",
   "pygments_lexer": "ipython3",
   "version": "3.8.8"
  }
 },
 "nbformat": 4,
 "nbformat_minor": 5
}
