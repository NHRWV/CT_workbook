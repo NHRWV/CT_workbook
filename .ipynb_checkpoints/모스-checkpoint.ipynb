{
 "cells": [
  {
   "cell_type": "markdown",
   "id": "f326e974",
   "metadata": {},
   "source": [
    "https://www.acmicpc.net/problem/13547"
   ]
  },
  {
   "cell_type": "code",
   "execution_count": null,
   "id": "667b1edb",
   "metadata": {},
   "outputs": [],
   "source": [
    "# 수열과 쿼리 5\n",
    "\n",
    "n = int(input())\n",
    "seq = [0] + list(map(int, input().split()))\n",
    "m = int(input())\n",
    "\n",
    "query = []\n",
    "for k in range(m):\n",
    "    i, j = map(int, input().split())\n",
    "    query.append((i, j, k))\n",
    "    \n",
    "query.sort(key = lambda x : (x[0] // int(n ** 0.5), x[1]))\n",
    "\n",
    "start, end = query[0][0], query[0][1]\n",
    "answer = [0] * m\n",
    "count = [0] * 1000001\n",
    "\n",
    "result = 0\n",
    "for i in range(start, end+1):\n",
    "    if not count[seq[i]]:\n",
    "        result += 1\n",
    "        \n",
    "    count[seq[i]] += 1\n",
    "    \n",
    "answer[query[0][2]] = result\n",
    "\n",
    "\n",
    "for i in range(1, m):\n",
    "    s, e, idx = query[i]\n",
    "    \n",
    "    while s > start:\n",
    "        count[seq[start]] -= 1\n",
    "        \n",
    "        if not count[seq[start]]:\n",
    "            result -= 1\n",
    "        \n",
    "        start += 1\n",
    "        \n",
    "    while s < start:\n",
    "        start -= 1\n",
    "        \n",
    "        if not count[seq[start]]:\n",
    "            result += 1\n",
    "            \n",
    "        count[seq[start]] += 1\n",
    "        \n",
    "    while e > end:\n",
    "        end += 1\n",
    "        \n",
    "        if not count[seq[end]]:\n",
    "            result += 1\n",
    "            \n",
    "        count[seq[end]] += 1\n",
    "    \n",
    "    while e < end:\n",
    "        count[seq[end]] -= 1\n",
    "        \n",
    "        if not count[seq[end]]:\n",
    "            result -= 1\n",
    "            \n",
    "        end -= 1\n",
    "        \n",
    "    answer[idx] = result\n",
    "    \n",
    "    \n",
    "for i in answer:\n",
    "    print(i)\n",
    "        "
   ]
  },
  {
   "cell_type": "markdown",
   "id": "75212af8",
   "metadata": {},
   "source": [
    "https://www.acmicpc.net/problem/8462"
   ]
  },
  {
   "cell_type": "code",
   "execution_count": null,
   "id": "346d8079",
   "metadata": {},
   "outputs": [],
   "source": [
    "# 배열의 힘\n",
    "\n",
    "n, t = map(int, input().split())\n",
    "seq = [0] + list(map(int, input().split()))\n",
    "\n",
    "query = []\n",
    "for i in range(t):\n",
    "    l, r = map(int, input().split())\n",
    "    query.append((l, r, i))\n",
    "    \n",
    "    \n",
    "query.sort(key = lambda x : (x[0] // int(n ** 0.5), x[1]))\n",
    "\n",
    "start, end, idx = query[0]\n",
    "answer = [0] * t\n",
    "k = [0] * 1000001\n",
    "\n",
    "power = 0\n",
    "for i in range(start, end+1):\n",
    "    who = seq[i]\n",
    "    \n",
    "    power -= k[who] * k[who] * who\n",
    "    k[who] += 1\n",
    "    power += k[who] * k[who] * who\n",
    "    \n",
    "    \n",
    "answer[idx] = power\n",
    "    \n",
    "for i in range(1, t):\n",
    "    l, r, idx = query[i]\n",
    "    \n",
    "    while l < start:\n",
    "        start -= 1\n",
    "        who = seq[start]\n",
    "\n",
    "        power -= k[who] * k[who] * who\n",
    "        k[who] += 1\n",
    "        power += k[who] * k[who] * who\n",
    "    \n",
    "    while l > start:\n",
    "        who = seq[start]\n",
    "    \n",
    "        power -= k[who] * k[who] * who\n",
    "        k[who] -= 1\n",
    "        power += k[who] * k[who] * who\n",
    "        start += 1\n",
    "        \n",
    "    while r < end:\n",
    "        who = seq[end]\n",
    "        \n",
    "        power -= k[who] * k[who] * who\n",
    "        k[who] -= 1\n",
    "        power += k[who] * k[who] * who\n",
    "        end -= 1\n",
    "        \n",
    "    while r > end:\n",
    "        end += 1\n",
    "        who = seq[end]\n",
    "        \n",
    "        power -= k[who] * k[who] * who\n",
    "        k[who] += 1\n",
    "        power += k[who] * k[who] * who\n",
    "        \n",
    "        \n",
    "    answer[idx] = power\n",
    "    \n",
    "    \n",
    "for i in answer:\n",
    "    print(i)\n",
    "            "
   ]
  },
  {
   "cell_type": "markdown",
   "id": "d6e64cfb",
   "metadata": {},
   "source": [
    "https://www.acmicpc.net/problem/13548"
   ]
  },
  {
   "cell_type": "code",
   "execution_count": 36,
   "id": "e8ae2997",
   "metadata": {},
   "outputs": [
    {
     "data": {
      "text/plain": [
       "2"
      ]
     },
     "execution_count": 36,
     "metadata": {},
     "output_type": "execute_result"
    }
   ],
   "source": [
    "start"
   ]
  },
  {
   "cell_type": "code",
   "execution_count": 37,
   "id": "e2b5968e",
   "metadata": {},
   "outputs": [
    {
     "data": {
      "text/plain": [
       "6"
      ]
     },
     "execution_count": 37,
     "metadata": {},
     "output_type": "execute_result"
    }
   ],
   "source": [
    "end"
   ]
  },
  {
   "cell_type": "code",
   "execution_count": 38,
   "id": "7f2e82c5",
   "metadata": {},
   "outputs": [
    {
     "data": {
      "text/plain": [
       "[(1, 5, 0), (2, 4, 1), (3, 5, 2)]"
      ]
     },
     "execution_count": 38,
     "metadata": {},
     "output_type": "execute_result"
    }
   ],
   "source": [
    "query"
   ]
  },
  {
   "cell_type": "code",
   "execution_count": 39,
   "id": "2c8f6a51",
   "metadata": {},
   "outputs": [
    {
     "data": {
      "text/plain": [
       "[3, 0, 0]"
      ]
     },
     "execution_count": 39,
     "metadata": {},
     "output_type": "execute_result"
    }
   ],
   "source": [
    "answer"
   ]
  },
  {
   "cell_type": "code",
   "execution_count": null,
   "id": "615fd79b",
   "metadata": {},
   "outputs": [],
   "source": []
  }
 ],
 "metadata": {
  "kernelspec": {
   "display_name": "Python 3",
   "language": "python",
   "name": "python3"
  },
  "language_info": {
   "codemirror_mode": {
    "name": "ipython",
    "version": 3
   },
   "file_extension": ".py",
   "mimetype": "text/x-python",
   "name": "python",
   "nbconvert_exporter": "python",
   "pygments_lexer": "ipython3",
   "version": "3.8.8"
  }
 },
 "nbformat": 4,
 "nbformat_minor": 5
}
