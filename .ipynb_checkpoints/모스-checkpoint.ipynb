{
 "cells": [
  {
   "cell_type": "markdown",
   "id": "f326e974",
   "metadata": {},
   "source": [
    "https://www.acmicpc.net/problem/13547"
   ]
  },
  {
   "cell_type": "code",
   "execution_count": null,
   "id": "667b1edb",
   "metadata": {},
   "outputs": [],
   "source": [
    "# 수열과 쿼리 5\n",
    "\n",
    "n = int(input())\n",
    "seq = [0] + list(map(int, input().split()))\n",
    "m = int(input())\n",
    "\n",
    "query = []\n",
    "for k in range(m):\n",
    "    i, j = map(int, input().split())\n",
    "    query.append((i, j, k))\n",
    "    \n",
    "query.sort(key = lambda x : (x[0] // int(n ** 0.5), x[1]))\n",
    "\n",
    "start, end = query[0][0], query[0][1]\n",
    "answer = [0] * m\n",
    "count = [0] * 1000001\n",
    "\n",
    "result = 0\n",
    "for i in range(start, end+1):\n",
    "    if not count[seq[i]]:\n",
    "        result += 1\n",
    "        \n",
    "    count[seq[i]] += 1\n",
    "    \n",
    "answer[query[0][2]] = result\n",
    "\n",
    "\n",
    "for i in range(1, m):\n",
    "    s, e, idx = query[i]\n",
    "    \n",
    "    while s > start:\n",
    "        count[seq[start]] -= 1\n",
    "        \n",
    "        if not count[seq[start]]:\n",
    "            result -= 1\n",
    "        \n",
    "        start += 1\n",
    "        \n",
    "    while s < start:\n",
    "        start -= 1\n",
    "        \n",
    "        if not count[seq[start]]:\n",
    "            result += 1\n",
    "            \n",
    "        count[seq[start]] += 1\n",
    "        \n",
    "    while e > end:\n",
    "        end += 1\n",
    "        \n",
    "        if not count[seq[end]]:\n",
    "            result += 1\n",
    "            \n",
    "        count[seq[end]] += 1\n",
    "    \n",
    "    while e < end:\n",
    "        count[seq[end]] -= 1\n",
    "        \n",
    "        if not count[seq[end]]:\n",
    "            result -= 1\n",
    "            \n",
    "        end -= 1\n",
    "        \n",
    "    answer[idx] = result\n",
    "    \n",
    "    \n",
    "for i in answer:\n",
    "    print(i)\n",
    "        "
   ]
  },
  {
   "cell_type": "markdown",
   "id": "b9d9afa8",
   "metadata": {},
   "source": [
    "https://www.acmicpc.net/problem/8462"
   ]
  },
  {
   "cell_type": "code",
   "execution_count": null,
   "id": "346d8079",
   "metadata": {},
   "outputs": [],
   "source": [
    "# 배열의 힘\n",
    "\n",
    "n, t = map(int, input().split())\n",
    "seq = [0] + list(map(int, input().split()))\n",
    "\n",
    "query = []\n",
    "for i in range(t):\n",
    "    l, r = map(int, input().split())\n",
    "    query.append((l, r, i))\n",
    "    \n",
    "    \n",
    "query.sort(key = lambda x : (x[0] // int(n ** 0.5), x[1]))\n",
    "\n",
    "start, end, idx = query[0]\n",
    "answer = [0] * t\n",
    "k = [0] * 1000001\n",
    "\n",
    "power = 0\n",
    "for i in range(start, end+1):\n",
    "    who = seq[i]\n",
    "    \n",
    "    power -= k[who] * k[who] * who\n",
    "    k[who] += 1\n",
    "    power += k[who] * k[who] * who\n",
    "    \n",
    "    \n",
    "answer[idx] = power\n",
    "    \n",
    "for i in range(1, t):\n",
    "    l, r, idx = query[i]\n",
    "    \n",
    "    while l < start:\n",
    "        start -= 1\n",
    "        who = seq[start]\n",
    "\n",
    "        power -= k[who] * k[who] * who\n",
    "        k[who] += 1\n",
    "        power += k[who] * k[who] * who\n",
    "    \n",
    "    while l > start:\n",
    "        who = seq[start]\n",
    "    \n",
    "        power -= k[who] * k[who] * who\n",
    "        k[who] -= 1\n",
    "        power += k[who] * k[who] * who\n",
    "        start += 1\n",
    "        \n",
    "    while r < end:\n",
    "        who = seq[end]\n",
    "        \n",
    "        power -= k[who] * k[who] * who\n",
    "        k[who] -= 1\n",
    "        power += k[who] * k[who] * who\n",
    "        end -= 1\n",
    "        \n",
    "    while r > end:\n",
    "        end += 1\n",
    "        who = seq[end]\n",
    "        \n",
    "        power -= k[who] * k[who] * who\n",
    "        k[who] += 1\n",
    "        power += k[who] * k[who] * who\n",
    "        \n",
    "        \n",
    "    answer[idx] = power\n",
    "    \n",
    "    \n",
    "for i in answer:\n",
    "    print(i)\n",
    "            "
   ]
  },
  {
   "cell_type": "markdown",
   "id": "d8fa9b3a",
   "metadata": {},
   "source": [
    "https://www.acmicpc.net/problem/13548"
   ]
  },
  {
   "cell_type": "code",
   "execution_count": null,
   "id": "e8ae2997",
   "metadata": {},
   "outputs": [],
   "source": [
    "# 수열과 쿼리 6\n",
    "\n",
    "n = int(input())\n",
    "seq = [0] + list(map(int, input().split()))\n",
    "m = int(input())\n",
    "\n",
    "query = []\n",
    "for i in range(m):\n",
    "    x, y = map(int, input().split())\n",
    "    query.append((x, y, i))\n",
    "    \n",
    "\n",
    "query.sort(key = lambda x : (x[0] // int(n ** 0.5), x[1]))\n",
    "\n",
    "answer = [0] * m\n",
    "count = [0] * 100001\n",
    "table = [0] * 100001\n",
    "\n",
    "start = 0\n",
    "end = 0\n",
    "maxi = 0\n",
    "\n",
    "for i in range(m):\n",
    "    l, r, idx = query[i]\n",
    "    \n",
    "    while l < start:\n",
    "        start -= 1\n",
    "        cur = seq[start]\n",
    "        \n",
    "        if count[cur]:\n",
    "            table[count[cur]] -= 1\n",
    "            \n",
    "        count[cur] += 1\n",
    "        table[count[cur]] += 1\n",
    "        maxi = max(maxi, count[cur])\n",
    "        \n",
    "    while l > start:\n",
    "        cur = seq[start]\n",
    "        table[count[cur]] -= 1\n",
    "        \n",
    "        if count[cur] == maxi and not table[count[cur]]:\n",
    "            maxi -= 1\n",
    "            \n",
    "        count[cur] -= 1\n",
    "        table[count[cur]] += 1\n",
    "        start += 1\n",
    "        \n",
    "    while r < end:\n",
    "        cur = seq[end]\n",
    "        table[count[cur]] -= 1\n",
    "        \n",
    "        if count[cur] == maxi and not table[count[cur]]:\n",
    "            maxi -= 1\n",
    "            \n",
    "        count[cur] -= 1\n",
    "        table[count[cur]] += 1\n",
    "        end -= 1     \n",
    "        \n",
    "    while r > end:\n",
    "        end += 1\n",
    "        cur = seq[end]\n",
    "        \n",
    "        if count[cur]:\n",
    "            table[count[cur]] -= 1\n",
    "            \n",
    "        count[cur] += 1\n",
    "        table[count[cur]] += 1\n",
    "        maxi = max(maxi, count[cur])\n",
    "        \n",
    "        \n",
    "    answer[idx] = maxi\n",
    "        \n",
    "    \n",
    "for i in answer:\n",
    "    print(i)\n",
    "\n"
   ]
  },
  {
   "cell_type": "markdown",
   "id": "0a863afd",
   "metadata": {},
   "source": [
    "https://www.acmicpc.net/problem/12986"
   ]
  },
  {
   "cell_type": "code",
   "execution_count": null,
   "id": "051e5596",
   "metadata": {},
   "outputs": [],
   "source": [
    "# 화려한 마을2\n",
    "\n",
    "n, q = map(int, input().split())\n",
    "seq = [0] + [i + 100000 for i in map(int, input().split())]\n",
    "\n",
    "query = []\n",
    "for i in range(q):\n",
    "    x, y = map(int, input().split())\n",
    "    query.append((x, y, i))\n",
    "    \n",
    "\n",
    "query.sort(key = lambda x : (x[0] // int(n ** 0.5), x[1]))\n",
    "\n",
    "answer = [0] * q\n",
    "count = [0] * 200001\n",
    "table = [0] * 200001\n",
    "maxi = 0\n",
    "\n",
    "start, end, idx = query[0]\n",
    "\n",
    "for i in range(start, end+1):\n",
    "    cur = seq[i]\n",
    "    \n",
    "    if count[cur]:\n",
    "        table[count[cur]] -= 1\n",
    "\n",
    "    count[cur] += 1\n",
    "    table[count[cur]] += 1\n",
    "    maxi = max(maxi, count[cur])\n",
    "\n",
    "answer[idx] = maxi\n",
    "\n",
    "for i in range(1, q):\n",
    "    l, r, idx = query[i]\n",
    "    \n",
    "    while l < start:\n",
    "        start -= 1\n",
    "        cur = seq[start]\n",
    "        \n",
    "        if count[cur]:\n",
    "            table[count[cur]] -= 1\n",
    "            \n",
    "        count[cur] += 1\n",
    "        table[count[cur]] += 1\n",
    "        maxi = max(maxi, count[cur])\n",
    "        \n",
    "    while l > start:\n",
    "        cur = seq[start]\n",
    "        table[count[cur]] -= 1\n",
    "        \n",
    "        if count[cur] == maxi and not table[count[cur]]:\n",
    "            maxi -= 1\n",
    "            \n",
    "        count[cur] -= 1\n",
    "        table[count[cur]] += 1\n",
    "        start += 1\n",
    "        \n",
    "    while r < end:\n",
    "        cur = seq[end]\n",
    "        table[count[cur]] -= 1\n",
    "        \n",
    "        if count[cur] == maxi and not table[count[cur]]:\n",
    "            maxi -= 1\n",
    "            \n",
    "        count[cur] -= 1\n",
    "        table[count[cur]] += 1\n",
    "        end -= 1     \n",
    "        \n",
    "    while r > end:\n",
    "        end += 1\n",
    "        cur = seq[end]\n",
    "        \n",
    "        if count[cur]:\n",
    "            table[count[cur]] -= 1\n",
    "            \n",
    "        count[cur] += 1\n",
    "        table[count[cur]] += 1\n",
    "        maxi = max(maxi, count[cur])\n",
    "        \n",
    "        \n",
    "    answer[idx] = maxi\n",
    "        \n",
    "    \n",
    "for i in answer:\n",
    "    print(i)\n",
    "\n"
   ]
  },
  {
   "cell_type": "code",
   "execution_count": 29,
   "id": "7b26e9ec",
   "metadata": {},
   "outputs": [
    {
     "name": "stdout",
     "output_type": "stream",
     "text": [
      "1 2 1 1\n",
      "[1, 1, 3, 5, 11, 21, 43, 85, 171, 341, 683, 1365, 2731, 5461, 10923, 21845, 43691, 87381, 174763, 349525, 699051, 1398101, 2796203, 5592405, 11184811, 22369621, 44739243, 89478485, 178956971, 357913941, 715827883, 1431655765, 2863311531, 5726623061, 11453246123, 22906492245, 45812984491, 91625968981, 183251937963, 366503875925, 733007751851, 1466015503701, 2932031007403, 5864062014805, 11728124029611, 23456248059221, 46912496118443, 93824992236885, 187649984473771, 375299968947541]\n"
     ]
    }
   ],
   "source": [
    "5 5000 1600\n",
    "1621 1928 1809\n",
    "2300 2300 1499\n",
    "1805 1211 1699\n",
    "1600 1700 1800\n",
    "1792 1617 1830"
   ]
  },
  {
   "cell_type": "code",
   "execution_count": 30,
   "id": "9c9ad54f",
   "metadata": {},
   "outputs": [
    {
     "name": "stdout",
     "output_type": "stream",
     "text": [
      "1.9999999999999947\n"
     ]
    }
   ],
   "source": [
    "print(dp[49] / dp[48])"
   ]
  },
  {
   "cell_type": "code",
   "execution_count": 31,
   "id": "cafbc943",
   "metadata": {},
   "outputs": [],
   "source": [
    "g = dp[49] / dp[48]"
   ]
  },
  {
   "cell_type": "code",
   "execution_count": 32,
   "id": "ea06eea0",
   "metadata": {},
   "outputs": [
    {
     "data": {
      "text/plain": [
       "1.9999999999999947"
      ]
     },
     "execution_count": 32,
     "metadata": {},
     "output_type": "execute_result"
    }
   ],
   "source": [
    "float(g)"
   ]
  },
  {
   "cell_type": "code",
   "execution_count": 37,
   "id": "70ac26b5",
   "metadata": {},
   "outputs": [
    {
     "name": "stdout",
     "output_type": "stream",
     "text": [
      "ZZZOOOAAACCC\n",
      "3\n"
     ]
    }
   ],
   "source": [
    "n = input()\n",
    "\n",
    "print(len(n) // len(set(n)))\n",
    "\n"
   ]
  },
  {
   "cell_type": "code",
   "execution_count": 35,
   "id": "e565a127",
   "metadata": {},
   "outputs": [],
   "source": [
    "a = 'abc'"
   ]
  },
  {
   "cell_type": "code",
   "execution_count": 36,
   "id": "8dafc9b3",
   "metadata": {},
   "outputs": [
    {
     "data": {
      "text/plain": [
       "{'a', 'b', 'c'}"
      ]
     },
     "execution_count": 36,
     "metadata": {},
     "output_type": "execute_result"
    }
   ],
   "source": [
    "set(a)"
   ]
  },
  {
   "cell_type": "code",
   "execution_count": null,
   "id": "efe1fc50",
   "metadata": {},
   "outputs": [],
   "source": []
  }
 ],
 "metadata": {
  "kernelspec": {
   "display_name": "Python 3",
   "language": "python",
   "name": "python3"
  },
  "language_info": {
   "codemirror_mode": {
    "name": "ipython",
    "version": 3
   },
   "file_extension": ".py",
   "mimetype": "text/x-python",
   "name": "python",
   "nbconvert_exporter": "python",
   "pygments_lexer": "ipython3",
   "version": "3.8.8"
  }
 },
 "nbformat": 4,
 "nbformat_minor": 5
}
