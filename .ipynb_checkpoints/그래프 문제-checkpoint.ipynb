{
 "cells": [
  {
   "cell_type": "markdown",
   "id": "0de2e9af",
   "metadata": {},
   "source": [
    "https://www.acmicpc.net/problem/5567"
   ]
  },
  {
   "cell_type": "code",
   "execution_count": null,
   "id": "99603edc",
   "metadata": {},
   "outputs": [],
   "source": [
    "# 결혼식\n",
    "\n",
    "from collections import deque\n",
    "\n",
    "n = int(input())\n",
    "m = int(input())\n",
    "\n",
    "edge = [[] for _ in range(n+1)]\n",
    "for i in range(m):\n",
    "    a, b = map(int, input().split())\n",
    "    edge[a].append(b)\n",
    "    edge[b].append(a)\n",
    "    \n",
    "queue = deque([1])\n",
    "\n",
    "visited = [0] * (n+1)\n",
    "\n",
    "while queue:\n",
    "    x = queue.popleft()\n",
    "    \n",
    "    for i in edge[x]:\n",
    "        if not visited[i]:\n",
    "            visited[i] = visited[x] + 1\n",
    "            queue.append(i)\n",
    "            \n",
    "            \n",
    "print(visited[2:].count(1) + visited[2:].count(2))"
   ]
  },
  {
   "cell_type": "code",
   "execution_count": null,
   "id": "3febc55b",
   "metadata": {},
   "outputs": [],
   "source": [
    "6\n",
    "5\n",
    "1 2\n",
    "1 3\n",
    "3 4\n",
    "2 3\n",
    "4 5\n",
    "\n",
    "6\n",
    "5\n",
    "2 3\n",
    "3 4\n",
    "4 5\n",
    "5 6\n",
    "2 5"
   ]
  }
 ],
 "metadata": {
  "kernelspec": {
   "display_name": "Python 3",
   "language": "python",
   "name": "python3"
  },
  "language_info": {
   "codemirror_mode": {
    "name": "ipython",
    "version": 3
   },
   "file_extension": ".py",
   "mimetype": "text/x-python",
   "name": "python",
   "nbconvert_exporter": "python",
   "pygments_lexer": "ipython3",
   "version": "3.8.8"
  }
 },
 "nbformat": 4,
 "nbformat_minor": 5
}
