{
 "cells": [
  {
   "cell_type": "code",
   "execution_count": 4,
   "metadata": {},
   "outputs": [
    {
     "name": "stdout",
     "output_type": "stream",
     "text": [
      "5 8 3\n",
      "2 4 5 4 6\n",
      "46\n"
     ]
    }
   ],
   "source": [
    "# 그리디 알고리즘 - 큰 수의 법칙\n",
    "\n",
    "n, m, k = map(int, input().split())\n",
    "num = list(map(int, input().split()))\n",
    "\n",
    "num.sort()\n",
    "sup = num[-1]\n",
    "sub = num[-2]\n",
    "\n",
    "syn = 0\n",
    "while True:\n",
    "    \n",
    "    for i in range(k):\n",
    "        if m == 0:\n",
    "            break\n",
    "        m -= 1\n",
    "        syn += sup\n",
    "    \n",
    "    if m == 0:\n",
    "        break\n",
    "    m -= 1\n",
    "    syn += sub\n",
    "\n",
    "print(syn)"
   ]
  },
  {
   "cell_type": "code",
   "execution_count": 5,
   "metadata": {},
   "outputs": [
    {
     "name": "stdout",
     "output_type": "stream",
     "text": [
      "1260\n",
      "6\n"
     ]
    }
   ],
   "source": [
    "# 예제 3-1 \n",
    "\n",
    "n = int(input())\n",
    "coin = [500, 100, 50, 10]\n",
    "count = 0\n",
    "\n",
    "for i in coin:\n",
    "    count += n//i\n",
    "    n = n % i\n",
    "\n",
    "print(count)"
   ]
  },
  {
   "cell_type": "code",
   "execution_count": 13,
   "metadata": {},
   "outputs": [
    {
     "name": "stdout",
     "output_type": "stream",
     "text": [
      "2 4\n",
      "7 3 1 8\n",
      "3 3 3 4\n",
      "3\n"
     ]
    }
   ],
   "source": [
    "# 그리디 알고리즘 - 숫자 카드 게임\n",
    "\n",
    "n, m = map(int, input().split())\n",
    "card = []\n",
    "\n",
    "for i in range(n):\n",
    "    row = list(map(int, input().split()))\n",
    "    card.append(row)\n",
    "\n",
    "great_num = 0\n",
    "for i in card:\n",
    "    if min(i) > great_num:\n",
    "        great_num = min(i)\n",
    "\n",
    "print(great_num)"
   ]
  },
  {
   "cell_type": "code",
   "execution_count": 11,
   "metadata": {},
   "outputs": [
    {
     "data": {
      "text/plain": [
       "[[4, 1, 4], [2, 2, 2], [3, 1, 2]]"
      ]
     },
     "execution_count": 11,
     "metadata": {},
     "output_type": "execute_result"
    }
   ],
   "source": [
    "# 그리디 알고리즘 - 숫자 카드 게임 답안 예시\n",
    "\n",
    "n, m = map(int, input().split())\n",
    "\n",
    "result = 0\n",
    "for i in range(n):\n",
    "    data = list(map(int, input().split()))\n",
    "    min_value = min(data)\n",
    "    result = max(result, min_value)\n",
    "    \n",
    "print(result)"
   ]
  },
  {
   "cell_type": "code",
   "execution_count": 4,
   "metadata": {},
   "outputs": [
    {
     "name": "stdout",
     "output_type": "stream",
     "text": [
      "25 3\n",
      "6\n"
     ]
    }
   ],
   "source": [
    "# 그리디 알고리즘 - 1이 될 때까지\n",
    "\n",
    "n, k = map(int, input().split())\n",
    "\n",
    "count = 0\n",
    "while True:\n",
    "    if n == 1:\n",
    "        break\n",
    "    elif n % k == 0:\n",
    "        n = n / k\n",
    "        count += 1\n",
    "    else:\n",
    "        n -= 1\n",
    "        count += 1\n",
    "\n",
    "print(count)"
   ]
  },
  {
   "cell_type": "code",
   "execution_count": 16,
   "metadata": {},
   "outputs": [
    {
     "name": "stdout",
     "output_type": "stream",
     "text": [
      "5\n",
      "R R R U D D\n",
      "3 4\n"
     ]
    }
   ],
   "source": [
    "# 예제 4-1\n",
    "\n",
    "n = int(input())\n",
    "iti = list(input().split())\n",
    "\n",
    "x, y = 1, 1\n",
    "drt = ['L', 'R', 'U', 'D']\n",
    "\n",
    "for i in iti:\n",
    "    for j in drt:\n",
    "        if i == j:\n",
    "            if i == 'L':\n",
    "                ex = x\n",
    "                ey = y - 1\n",
    "            elif i == 'R':\n",
    "                ex = x\n",
    "                ey = y + 1\n",
    "            elif i == 'U':\n",
    "                ex = x - 1\n",
    "                ey = y\n",
    "            elif i == 'D':\n",
    "                ex = x + 1\n",
    "                ey = y\n",
    "\n",
    "    if ey < 1 or ey > n or ex < 1 or ex > n:\n",
    "        continue\n",
    "    x, y = ex, ey\n",
    "    \n",
    "print(x, y)"
   ]
  },
  {
   "cell_type": "code",
   "execution_count": 22,
   "metadata": {},
   "outputs": [
    {
     "name": "stdout",
     "output_type": "stream",
     "text": [
      "5\n",
      "11475\n"
     ]
    }
   ],
   "source": [
    "# 구현 -  시각\n",
    "\n",
    "n = int(input())\n",
    "cnt = 0\n",
    "for i in range(n + 1):\n",
    "    for j in range(60):\n",
    "        for k in range(60):\n",
    "            num = str(i) + str(j) + str(k)\n",
    "            if num.count('3') > 0:\n",
    "                cnt += 1\n",
    "        \n",
    "print(cnt)\n",
    "# if '3' in str(i) + str(j) + str(k):"
   ]
  },
  {
   "cell_type": "code",
   "execution_count": 20,
   "metadata": {},
   "outputs": [
    {
     "data": {
      "text/plain": [
       "1575"
      ]
     },
     "execution_count": 20,
     "metadata": {},
     "output_type": "execute_result"
    }
   ],
   "source": [
    "# 구현 - 왕실의 나이트\n",
    "\n",
    "coor = input()\n",
    "row = coor[1]\n",
    "col = coor[0]\n",
    "col_ls = [a, b, c, d, e, f, g, h]\n",
    "count = 0\n",
    "\n",
    "for i in col:\n",
    "    for j in range(1, 9):\n",
    "        if coor == str(i) + str(j):\n",
    "            lct = \n",
    "            "
   ]
  },
  {
   "cell_type": "code",
   "execution_count": 28,
   "metadata": {},
   "outputs": [
    {
     "data": {
      "text/plain": [
       "97"
      ]
     },
     "execution_count": 28,
     "metadata": {},
     "output_type": "execute_result"
    }
   ],
   "source": [
    "# 구현 - 게임 개발\n",
    "\n",
    "n, m = map(int, input().split())\n",
    "a, b, d = map(int, input().split())\n",
    "khan = []\n",
    "for i in range(n):\n",
    "    khan.append(list(map(int, input().split())))\n",
    "    \n",
    "f_print = [[0]*m for i in range(n)]\n",
    "f_print[n][m] = 1\n",
    "\n",
    "direction = [0, 1, 2, 3]\n",
    "x_ls = [-1, 0, 1, 0]\n",
    "y_ls = [0, 1, 0, -1]\n",
    "\n",
    "count = 1\n",
    "while True:\n",
    "    d = direction[d-1]\n",
    "    ex = x + x_ls[d]\n",
    "    ey = y + y_ls[d]\n",
    "    \n",
    "    if\n",
    "\n"
   ]
  },
  {
   "cell_type": "code",
   "execution_count": null,
   "metadata": {},
   "outputs": [],
   "source": []
  }
 ],
 "metadata": {
  "kernelspec": {
   "display_name": "Python 3.7.5 64-bit ('Namlister': virtualenv)",
   "language": "python",
   "name": "python37564bitnamlistervirtualenv5d7bb17d3c984c36aee202a2f6a91336"
  },
  "language_info": {
   "codemirror_mode": {
    "name": "ipython",
    "version": 3
   },
   "file_extension": ".py",
   "mimetype": "text/x-python",
   "name": "python",
   "nbconvert_exporter": "python",
   "pygments_lexer": "ipython3",
   "version": "3.7.5"
  }
 },
 "nbformat": 4,
 "nbformat_minor": 2
}
