{
 "cells": [
  {
   "cell_type": "code",
   "execution_count": null,
   "metadata": {},
   "outputs": [],
   "source": [
    "# 백준 1712\n",
    "\n",
    "a, b, c = map(int, input().split())\n",
    "\n",
    "if c <= b:\n",
    "    print(-1)\n",
    "else:\n",
    "    print(int(a/(c-b))+1)"
   ]
  },
  {
   "cell_type": "code",
   "execution_count": null,
   "metadata": {},
   "outputs": [],
   "source": [
    "# 백준 2292..다섯 시간은 쓴 거 같은데?\n",
    "\n",
    "n = int(input())\n",
    "num = [1]\n",
    "count = 6\n",
    "\n",
    "while True:\n",
    "    \n",
    "    if sum(num) >= n:\n",
    "        break\n",
    "    num.append(count)\n",
    "    count += 6\n",
    "    \n",
    "print(len(num))    \n"
   ]
  },
  {
   "cell_type": "code",
   "execution_count": 59,
   "metadata": {},
   "outputs": [
    {
     "name": "stdout",
     "output_type": "stream",
     "text": [
      "3\n"
     ]
    }
   ],
   "source": [
    "# 백준 1193\n",
    "\n",
    "x = int(input())\n",
    "\n",
    "group_num = 0\n",
    "nu = 0\n",
    "p_count = 0\n",
    "\n",
    "while p_count < x:\n",
    "    group_num += 1\n",
    "    nu = p_count\n",
    "    p_count += group_num\n",
    "    \n",
    "    \n",
    "if group_num % 2 == 1:\n",
    "    bunmo = x - nu\n",
    "    bunza = group_num + 1 - bunmo\n",
    "elif group_num % 2 == 0:\n",
    "    bunza = x - nu\n",
    "    bunmo = group_num + 1 - bunza\n",
    "    \n",
    "print('{}/{}'.format(bunza, bunmo))"
   ]
  },
  {
   "cell_type": "code",
   "execution_count": 183,
   "metadata": {},
   "outputs": [
    {
     "name": "stdout",
     "output_type": "stream",
     "text": [
      "2 1 5\n",
      "4\n"
     ]
    }
   ],
   "source": [
    "# 백준 2869\n",
    "\n",
    "a, b, v = map(int, input().split())\n",
    "\n",
    "day = (v-b)/(a-b)\n",
    "\n",
    "if day-int(day) > 0:\n",
    "    day += 1\n",
    "print(int(day))\n"
   ]
  },
  {
   "cell_type": "code",
   "execution_count": 34,
   "metadata": {},
   "outputs": [
    {
     "name": "stdout",
     "output_type": "stream",
     "text": [
      "1\n",
      "99 99 100\n",
      "102\n"
     ]
    }
   ],
   "source": [
    "# 백준 10250\n",
    "\n",
    "t = int(input())\n",
    "\n",
    "for i in range(t):\n",
    "    h, w, n = map(int, input().split())\n",
    "    \n",
    "     \n",
    "    if n % h == 0:\n",
    "        a = h\n",
    "        r = n//h\n",
    "    else:\n",
    "        a = n % h\n",
    "        r = n//h + 1\n",
    "    \n",
    "    if r < 10:\n",
    "        r = str(0)+str(r)\n",
    "\n",
    "    print(str(a)+str(r))"
   ]
  },
  {
   "cell_type": "code",
   "execution_count": null,
   "metadata": {},
   "outputs": [],
   "source": []
  },
  {
   "cell_type": "code",
   "execution_count": null,
   "metadata": {},
   "outputs": [],
   "source": []
  }
 ],
 "metadata": {
  "kernelspec": {
   "display_name": "Python 3",
   "language": "python",
   "name": "python3"
  },
  "language_info": {
   "codemirror_mode": {
    "name": "ipython",
    "version": 3
   },
   "file_extension": ".py",
   "mimetype": "text/x-python",
   "name": "python",
   "nbconvert_exporter": "python",
   "pygments_lexer": "ipython3",
   "version": "3.7.5"
  }
 },
 "nbformat": 4,
 "nbformat_minor": 2
}
