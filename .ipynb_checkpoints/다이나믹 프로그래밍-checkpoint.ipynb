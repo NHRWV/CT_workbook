{
 "cells": [
  {
   "cell_type": "code",
   "execution_count": null,
   "metadata": {},
   "outputs": [],
   "source": [
    "# 백준 1003\n",
    "\n",
    "t = int(input())\n",
    "n = int(input())\n",
    "cnt0 = 0\n",
    "cnt1 = 0\n",
    "\n",
    "result = \n",
    "def fibo(x):\n",
    "    if x == 0:\n",
    "        cnt0 += 1\n",
    "        return 0\n",
    "    \n",
    "    elif x == 1:\n",
    "        cnt1 += 1\n",
    "        return 1\n",
    "    \n",
    "    else:\n",
    "        return fibo(x - 1) + fibo(x - 1)\n",
    "    \n",
    "    \n"
   ]
  }
 ],
 "metadata": {
  "kernelspec": {
   "display_name": "Python 3.7.5 64-bit ('Namlister': virtualenv)",
   "language": "python",
   "name": "python37564bitnamlistervirtualenv5d7bb17d3c984c36aee202a2f6a91336"
  },
  "language_info": {
   "codemirror_mode": {
    "name": "ipython",
    "version": 3
   },
   "file_extension": ".py",
   "mimetype": "text/x-python",
   "name": "python",
   "nbconvert_exporter": "python",
   "pygments_lexer": "ipython3",
   "version": "3.7.5"
  }
 },
 "nbformat": 4,
 "nbformat_minor": 2
}
