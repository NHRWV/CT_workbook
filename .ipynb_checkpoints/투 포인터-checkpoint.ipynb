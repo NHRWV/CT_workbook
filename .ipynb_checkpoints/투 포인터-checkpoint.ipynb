{
 "cells": [
  {
   "cell_type": "markdown",
   "id": "3a4b2285",
   "metadata": {},
   "source": [
    "https://www.acmicpc.net/problem/1806"
   ]
  },
  {
   "cell_type": "code",
   "execution_count": 19,
   "id": "bbb063de",
   "metadata": {},
   "outputs": [
    {
     "name": "stdout",
     "output_type": "stream",
     "text": [
      "10 15\n",
      "5 1 3 5 10 7 4 9 2 8\n",
      "2\n"
     ]
    }
   ],
   "source": [
    "# 백준 1806\n",
    "\n",
    "n, s = map(int, input().split())\n",
    "seq = list(map(int, input().split()))\n",
    "\n",
    "answer = 100001\n",
    "interval = 0\n",
    "start = 0\n",
    "end = 0\n",
    "\n",
    "while True:\n",
    "    if interval >= s:\n",
    "        interval -= seq[start]\n",
    "        answer = min(answer, end - start)\n",
    "        start += 1\n",
    "               \n",
    "    elif end == n:\n",
    "        break\n",
    "        \n",
    "    else:\n",
    "        interval += seq[end]\n",
    "        end += 1\n",
    "        \n",
    "    \n",
    "        \n",
    " \n",
    "    \n",
    "if answer == 100001:\n",
    "    print(0)\n",
    "else:\n",
    "    print(answer)"
   ]
  },
  {
   "cell_type": "code",
   "execution_count": null,
   "id": "fca6fe49",
   "metadata": {},
   "outputs": [],
   "source": [
    "10 15\n",
    "5 1 3 5 10 7 4 9 2 8"
   ]
  }
 ],
 "metadata": {
  "kernelspec": {
   "display_name": "Python 3",
   "language": "python",
   "name": "python3"
  },
  "language_info": {
   "codemirror_mode": {
    "name": "ipython",
    "version": 3
   },
   "file_extension": ".py",
   "mimetype": "text/x-python",
   "name": "python",
   "nbconvert_exporter": "python",
   "pygments_lexer": "ipython3",
   "version": "3.8.8"
  }
 },
 "nbformat": 4,
 "nbformat_minor": 5
}
