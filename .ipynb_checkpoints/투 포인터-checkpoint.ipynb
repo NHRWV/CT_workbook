{
 "cells": [
  {
   "cell_type": "markdown",
   "id": "3a4b2285",
   "metadata": {},
   "source": [
    "https://www.acmicpc.net/problem/1806"
   ]
  },
  {
   "cell_type": "code",
   "execution_count": 19,
   "id": "bbb063de",
   "metadata": {},
   "outputs": [
    {
     "name": "stdout",
     "output_type": "stream",
     "text": [
      "10 15\n",
      "5 1 3 5 10 7 4 9 2 8\n",
      "2\n"
     ]
    }
   ],
   "source": [
    "# 백준 1806\n",
    "\n",
    "n, s = map(int, input().split())\n",
    "seq = list(map(int, input().split()))\n",
    "\n",
    "answer = 100001\n",
    "interval = 0\n",
    "start = 0\n",
    "end = 0\n",
    "\n",
    "while True:\n",
    "    if interval >= s:\n",
    "        interval -= seq[start]\n",
    "        answer = min(answer, end - start)\n",
    "        start += 1\n",
    "               \n",
    "    elif end == n:\n",
    "        break\n",
    "        \n",
    "    else:\n",
    "        interval += seq[end]\n",
    "        end += 1\n",
    "        \n",
    "    \n",
    "        \n",
    " \n",
    "    \n",
    "if answer == 100001:\n",
    "    print(0)\n",
    "else:\n",
    "    print(answer)"
   ]
  },
  {
   "cell_type": "markdown",
   "id": "067d51a4",
   "metadata": {},
   "source": [
    "https://www.acmicpc.net/problem/2467"
   ]
  },
  {
   "cell_type": "code",
   "execution_count": 24,
   "id": "fc061f41",
   "metadata": {},
   "outputs": [
    {
     "name": "stdout",
     "output_type": "stream",
     "text": [
      "4\n",
      "-100 -2 -1 103\n",
      "-100 103\n"
     ]
    }
   ],
   "source": [
    "# 백준 2467\n",
    "\n",
    "n = int(input())\n",
    "solution = list(map(int, input().split()))\n",
    "\n",
    "\n",
    "\n",
    "mini = 2000000001\n",
    "start = 0\n",
    "end = n-1\n",
    "t1, t2 = 0, 0\n",
    "\n",
    "while start < end:\n",
    "    hab = solution[start] + solution[end]\n",
    "    \n",
    "    if abs(hab) < mini:\n",
    "        mini = abs(hab)\n",
    "        t1 = start\n",
    "        t2 = end\n",
    "        \n",
    "    if hab > 0:\n",
    "        end -= 1\n",
    "        \n",
    "    elif hab < 0:\n",
    "        start += 1\n",
    "        \n",
    "    elif hab == 0:\n",
    "        break\n",
    "        \n",
    "        \n",
    "print(solution[t1], solution[t2])"
   ]
  },
  {
   "cell_type": "markdown",
   "id": "e2c9b07b",
   "metadata": {},
   "source": [
    "https://www.acmicpc.net/problem/2473"
   ]
  },
  {
   "cell_type": "code",
   "execution_count": 31,
   "id": "2e3ade96",
   "metadata": {},
   "outputs": [
    {
     "name": "stdout",
     "output_type": "stream",
     "text": [
      "5\n",
      "-2 6 -97 -6 98\n",
      "-97 -2 98\n"
     ]
    }
   ],
   "source": [
    "# 백준 2473\n",
    "\n",
    "\n",
    "n = int(input())\n",
    "solution = list(map(int, input().split()))\n",
    "\n",
    "solution.sort()\n",
    "\n",
    "result = 3000000001\n",
    "t1, t2, t3 = 0, 0, 0\n",
    "ans1, ans2, ans3 = 0, 0, 0\n",
    "\n",
    "for i in range(n):\n",
    "    arr = solution[:]\n",
    "    arr.remove(solution[i])\n",
    "    \n",
    "    mini = 3000000001\n",
    "    start = 0\n",
    "    end = len(arr) - 1\n",
    "    \n",
    "    while start < end:\n",
    "        hab = arr[start] + arr[end] + solution[i]\n",
    "    \n",
    "        if abs(hab) < mini:\n",
    "            mini = abs(hab)\n",
    "            t1 = arr[start]\n",
    "            t2 = arr[end]\n",
    "            t3 = solution[i]\n",
    "        \n",
    "        if hab > 0:\n",
    "            end -= 1\n",
    "        \n",
    "        elif hab < 0:\n",
    "            start += 1\n",
    "        \n",
    "        elif hab == 0:\n",
    "            break\n",
    "        \n",
    "    \n",
    "    if result > mini:\n",
    "        result = mini\n",
    "        ans1, ans2, ans3 = t1, t2, t3\n",
    "    \n",
    "       \n",
    "answer = [ans1, ans2, ans3]\n",
    "answer.sort()\n",
    "\n",
    "print(*answer)"
   ]
  },
  {
   "cell_type": "code",
   "execution_count": 15,
   "id": "4ea2f2ba",
   "metadata": {},
   "outputs": [
    {
     "data": {
      "text/plain": [
       "0"
      ]
     },
     "execution_count": 15,
     "metadata": {},
     "output_type": "execute_result"
    }
   ],
   "source": [
    "5\n",
    "-2 6 -97 -6 98\n",
    "\n",
    "7\n",
    "-2 -3 -24 -6 98 100 61"
   ]
  },
  {
   "cell_type": "code",
   "execution_count": null,
   "id": "5f5d2819",
   "metadata": {},
   "outputs": [],
   "source": []
  }
 ],
 "metadata": {
  "kernelspec": {
   "display_name": "Python 3",
   "language": "python",
   "name": "python3"
  },
  "language_info": {
   "codemirror_mode": {
    "name": "ipython",
    "version": 3
   },
   "file_extension": ".py",
   "mimetype": "text/x-python",
   "name": "python",
   "nbconvert_exporter": "python",
   "pygments_lexer": "ipython3",
   "version": "3.8.8"
  }
 },
 "nbformat": 4,
 "nbformat_minor": 5
}
