{
 "cells": [
  {
   "cell_type": "markdown",
   "id": "3a4b2285",
   "metadata": {},
   "source": [
    "https://www.acmicpc.net/problem/1806"
   ]
  },
  {
   "cell_type": "code",
   "execution_count": null,
   "id": "bbb063de",
   "metadata": {},
   "outputs": [],
   "source": [
    "# 백준 1806\n",
    "\n",
    "n, s = map(int, input().split())\n",
    "seq = list(map(int, input().split()))\n",
    "\n",
    "answer = 100001\n",
    "interval = 0\n",
    "start = 0\n",
    "end = 0\n",
    "\n",
    "while True:\n",
    "    if interval >= s:\n",
    "        interval -= seq[start]\n",
    "        answer = min(answer, end - start)\n",
    "        start += 1\n",
    "               \n",
    "    elif end == n:\n",
    "        break\n",
    "        \n",
    "    else:\n",
    "        interval += seq[end]\n",
    "        end += 1\n",
    "        \n",
    "    \n",
    "        \n",
    " \n",
    "    \n",
    "if answer == 100001:\n",
    "    print(0)\n",
    "else:\n",
    "    print(answer)"
   ]
  },
  {
   "cell_type": "markdown",
   "id": "067d51a4",
   "metadata": {},
   "source": [
    "https://www.acmicpc.net/problem/2467"
   ]
  },
  {
   "cell_type": "code",
   "execution_count": null,
   "id": "fc061f41",
   "metadata": {},
   "outputs": [],
   "source": [
    "# 백준 2467\n",
    "\n",
    "n = int(input())\n",
    "solution = list(map(int, input().split()))\n",
    "\n",
    "\n",
    "\n",
    "mini = 2000000001\n",
    "start = 0\n",
    "end = n-1\n",
    "t1, t2 = 0, 0\n",
    "\n",
    "while start < end:\n",
    "    hab = solution[start] + solution[end]\n",
    "    \n",
    "    if abs(hab) < mini:\n",
    "        mini = abs(hab)\n",
    "        t1 = start\n",
    "        t2 = end\n",
    "        \n",
    "    if hab > 0:\n",
    "        end -= 1\n",
    "        \n",
    "    elif hab < 0:\n",
    "        start += 1\n",
    "        \n",
    "    elif hab == 0:\n",
    "        break\n",
    "        \n",
    "        \n",
    "print(solution[t1], solution[t2])"
   ]
  },
  {
   "cell_type": "markdown",
   "id": "e2c9b07b",
   "metadata": {},
   "source": [
    "https://www.acmicpc.net/problem/2473"
   ]
  },
  {
   "cell_type": "code",
   "execution_count": null,
   "id": "2e3ade96",
   "metadata": {},
   "outputs": [],
   "source": [
    "# 백준 2473\n",
    "\n",
    "\n",
    "n = int(input())\n",
    "solution = list(map(int, input().split()))\n",
    "\n",
    "solution.sort()\n",
    "\n",
    "result = 3000000001\n",
    "t1, t2, t3 = 0, 0, 0\n",
    "ans1, ans2, ans3 = 0, 0, 0\n",
    "\n",
    "for i in range(n):\n",
    "    arr = solution[:]\n",
    "    arr.remove(solution[i])\n",
    "    \n",
    "    mini = 3000000001\n",
    "    start = 0\n",
    "    end = len(arr) - 1\n",
    "    \n",
    "    while start < end:\n",
    "        hab = arr[start] + arr[end] + solution[i]\n",
    "    \n",
    "        if abs(hab) < mini:\n",
    "            mini = abs(hab)\n",
    "            t1 = arr[start]\n",
    "            t2 = arr[end]\n",
    "            t3 = solution[i]\n",
    "        \n",
    "        if hab > 0:\n",
    "            end -= 1\n",
    "        \n",
    "        elif hab < 0:\n",
    "            start += 1\n",
    "        \n",
    "        elif hab == 0:\n",
    "            break\n",
    "        \n",
    "    \n",
    "    if result > mini:\n",
    "        result = mini\n",
    "        ans1, ans2, ans3 = t1, t2, t3\n",
    "    \n",
    "       \n",
    "answer = [ans1, ans2, ans3]\n",
    "answer.sort()\n",
    "\n",
    "print(*answer)"
   ]
  },
  {
   "cell_type": "markdown",
   "id": "54fbe349",
   "metadata": {},
   "source": [
    "https://www.acmicpc.net/problem/15565"
   ]
  },
  {
   "cell_type": "code",
   "execution_count": null,
   "id": "5f5d2819",
   "metadata": {},
   "outputs": [],
   "source": [
    "# 귀여운 라이언\n",
    "\n",
    "n, k = map(int, input().split())\n",
    "lst = list(map(int, input().split()))\n",
    "\n",
    "answer = int(1e9)\n",
    "start = 0\n",
    "end = 0\n",
    "\n",
    "window = [0, 0]\n",
    "\n",
    "while True:\n",
    "    if window[0] >= k:\n",
    "        window[lst[start]-1] -= 1\n",
    "        answer = min(answer, end - start)\n",
    "        start += 1\n",
    "        \n",
    "    elif end == n:\n",
    "        break\n",
    "        \n",
    "    else:\n",
    "        \n",
    "        window[lst[end]-1] += 1\n",
    "        end += 1\n",
    "\n",
    "print(-1 if answer == int(1e9) else answer)\n"
   ]
  },
  {
   "cell_type": "code",
   "execution_count": null,
   "id": "d663e4ac",
   "metadata": {},
   "outputs": [],
   "source": [
    "10 3\n",
    "1 2 2 2 1 2 1 2 2 1"
   ]
  },
  {
   "cell_type": "code",
   "execution_count": 2,
   "id": "c82e46ac",
   "metadata": {},
   "outputs": [
    {
     "ename": "IndexError",
     "evalue": "list index out of range",
     "output_type": "error",
     "traceback": [
      "\u001b[1;31m---------------------------------------------------------------------------\u001b[0m",
      "\u001b[1;31mIndexError\u001b[0m                                Traceback (most recent call last)",
      "\u001b[1;32m<ipython-input-2-a4d24556e7ab>\u001b[0m in \u001b[0;36m<module>\u001b[1;34m\u001b[0m\n\u001b[1;32m----> 1\u001b[1;33m \u001b[0mlst\u001b[0m\u001b[1;33m[\u001b[0m\u001b[0mend\u001b[0m\u001b[1;33m]\u001b[0m\u001b[1;33m-\u001b[0m\u001b[1;36m1\u001b[0m\u001b[1;33m\u001b[0m\u001b[1;33m\u001b[0m\u001b[0m\n\u001b[0m",
      "\u001b[1;31mIndexError\u001b[0m: list index out of range"
     ]
    }
   ],
   "source": [
    "lst[end]-1"
   ]
  },
  {
   "cell_type": "code",
   "execution_count": 3,
   "id": "428b2ca8",
   "metadata": {},
   "outputs": [
    {
     "data": {
      "text/plain": [
       "10"
      ]
     },
     "execution_count": 3,
     "metadata": {},
     "output_type": "execute_result"
    }
   ],
   "source": [
    "end"
   ]
  },
  {
   "cell_type": "code",
   "execution_count": null,
   "id": "643a1688",
   "metadata": {},
   "outputs": [],
   "source": [
    "lst[]"
   ]
  }
 ],
 "metadata": {
  "kernelspec": {
   "display_name": "Python 3",
   "language": "python",
   "name": "python3"
  },
  "language_info": {
   "codemirror_mode": {
    "name": "ipython",
    "version": 3
   },
   "file_extension": ".py",
   "mimetype": "text/x-python",
   "name": "python",
   "nbconvert_exporter": "python",
   "pygments_lexer": "ipython3",
   "version": "3.8.8"
  }
 },
 "nbformat": 4,
 "nbformat_minor": 5
}
