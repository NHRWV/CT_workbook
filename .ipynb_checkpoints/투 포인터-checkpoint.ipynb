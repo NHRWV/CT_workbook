{
 "cells": [
  {
   "cell_type": "markdown",
   "id": "3a4b2285",
   "metadata": {},
   "source": [
    "https://www.acmicpc.net/problem/1806"
   ]
  },
  {
   "cell_type": "code",
   "execution_count": null,
   "id": "bbb063de",
   "metadata": {},
   "outputs": [],
   "source": [
    "# 백준 1806\n",
    "\n",
    "n, s = map(int, input().split())\n",
    "seq = list(map(int, input().split()))\n",
    "\n",
    "answer = 100001\n",
    "interval = 0\n",
    "start = 0\n",
    "end = 0\n",
    "\n",
    "while True:\n",
    "    if interval >= s:\n",
    "        interval -= seq[start]\n",
    "        answer = min(answer, end - start)\n",
    "        start += 1\n",
    "               \n",
    "    elif end == n:\n",
    "        break\n",
    "        \n",
    "    else:\n",
    "        interval += seq[end]\n",
    "        end += 1\n",
    "        \n",
    "    \n",
    "        \n",
    " \n",
    "    \n",
    "if answer == 100001:\n",
    "    print(0)\n",
    "else:\n",
    "    print(answer)"
   ]
  },
  {
   "cell_type": "markdown",
   "id": "067d51a4",
   "metadata": {},
   "source": [
    "https://www.acmicpc.net/problem/2467"
   ]
  },
  {
   "cell_type": "code",
   "execution_count": null,
   "id": "fc061f41",
   "metadata": {},
   "outputs": [],
   "source": [
    "# 백준 2467\n",
    "\n",
    "n = int(input())\n",
    "solution = list(map(int, input().split()))\n",
    "\n",
    "\n",
    "\n",
    "mini = 2000000001\n",
    "start = 0\n",
    "end = n-1\n",
    "t1, t2 = 0, 0\n",
    "\n",
    "while start < end:\n",
    "    hab = solution[start] + solution[end]\n",
    "    \n",
    "    if abs(hab) < mini:\n",
    "        mini = abs(hab)\n",
    "        t1 = start\n",
    "        t2 = end\n",
    "        \n",
    "    if hab > 0:\n",
    "        end -= 1\n",
    "        \n",
    "    elif hab < 0:\n",
    "        start += 1\n",
    "        \n",
    "    elif hab == 0:\n",
    "        break\n",
    "        \n",
    "        \n",
    "print(solution[t1], solution[t2])"
   ]
  },
  {
   "cell_type": "markdown",
   "id": "e2c9b07b",
   "metadata": {},
   "source": [
    "https://www.acmicpc.net/problem/2473"
   ]
  },
  {
   "cell_type": "code",
   "execution_count": null,
   "id": "2e3ade96",
   "metadata": {},
   "outputs": [],
   "source": [
    "# 백준 2473\n",
    "\n",
    "\n",
    "n = int(input())\n",
    "solution = list(map(int, input().split()))\n",
    "\n",
    "solution.sort()\n",
    "\n",
    "result = 3000000001\n",
    "t1, t2, t3 = 0, 0, 0\n",
    "ans1, ans2, ans3 = 0, 0, 0\n",
    "\n",
    "for i in range(n):\n",
    "    arr = solution[:]\n",
    "    arr.remove(solution[i])\n",
    "    \n",
    "    mini = 3000000001\n",
    "    start = 0\n",
    "    end = len(arr) - 1\n",
    "    \n",
    "    while start < end:\n",
    "        hab = arr[start] + arr[end] + solution[i]\n",
    "    \n",
    "        if abs(hab) < mini:\n",
    "            mini = abs(hab)\n",
    "            t1 = arr[start]\n",
    "            t2 = arr[end]\n",
    "            t3 = solution[i]\n",
    "        \n",
    "        if hab > 0:\n",
    "            end -= 1\n",
    "        \n",
    "        elif hab < 0:\n",
    "            start += 1\n",
    "        \n",
    "        elif hab == 0:\n",
    "            break\n",
    "        \n",
    "    \n",
    "    if result > mini:\n",
    "        result = mini\n",
    "        ans1, ans2, ans3 = t1, t2, t3\n",
    "    \n",
    "       \n",
    "answer = [ans1, ans2, ans3]\n",
    "answer.sort()\n",
    "\n",
    "print(*answer)"
   ]
  },
  {
   "cell_type": "markdown",
   "id": "54fbe349",
   "metadata": {},
   "source": [
    "https://www.acmicpc.net/problem/15565"
   ]
  },
  {
   "cell_type": "code",
   "execution_count": null,
   "id": "5f5d2819",
   "metadata": {},
   "outputs": [],
   "source": [
    "# 귀여운 라이언\n",
    "\n",
    "n, k = map(int, input().split())\n",
    "lst = list(map(int, input().split()))\n",
    "\n",
    "answer = int(1e9)\n",
    "start = 0\n",
    "end = 0\n",
    "\n",
    "window = [0, 0]\n",
    "\n",
    "while True:\n",
    "    if window[0] >= k:\n",
    "        window[lst[start]-1] -= 1\n",
    "        answer = min(answer, end - start)\n",
    "        start += 1\n",
    "        \n",
    "    elif end == n:\n",
    "        break\n",
    "        \n",
    "    else:\n",
    "        \n",
    "        window[lst[end]-1] += 1\n",
    "        end += 1\n",
    "\n",
    "print(-1 if answer == int(1e9) else answer)\n"
   ]
  },
  {
   "cell_type": "markdown",
   "id": "de645fcf",
   "metadata": {},
   "source": [
    "https://www.acmicpc.net/problem/2470"
   ]
  },
  {
   "cell_type": "code",
   "execution_count": null,
   "id": "c82e46ac",
   "metadata": {},
   "outputs": [],
   "source": [
    "# 두 용액\n",
    "\n",
    "n = int(input())\n",
    "lst = list(map(int, input().split()))\n",
    "\n",
    "lst.sort()\n",
    "\n",
    "start = 0\n",
    "end = n-1\n",
    "answer = int(3e9)\n",
    "\n",
    "while start <= end:\n",
    "    left = lst[start]\n",
    "    right = lst[end]\n",
    "    hab = left + right\n",
    "    \n",
    "    if abs(hab) < answer:\n",
    "        answer = abs(hab)\n",
    "        a = left\n",
    "        b = right\n",
    "        \n",
    "    if hab < 0:\n",
    "        start += 1\n",
    "        \n",
    "    else:\n",
    "        end -= 1\n",
    "        \n",
    "print(a, b)\n"
   ]
  },
  {
   "cell_type": "code",
   "execution_count": 3,
   "id": "428b2ca8",
   "metadata": {},
   "outputs": [
    {
     "data": {
      "text/plain": [
       "10"
      ]
     },
     "execution_count": 3,
     "metadata": {},
     "output_type": "execute_result"
    }
   ],
   "source": [
    "5\n",
    "-2 4 -99 -1 98"
   ]
  },
  {
   "cell_type": "code",
   "execution_count": 56,
   "id": "643a1688",
   "metadata": {},
   "outputs": [
    {
     "data": {
      "text/plain": [
       "5"
      ]
     },
     "execution_count": 56,
     "metadata": {},
     "output_type": "execute_result"
    }
   ],
   "source": [
    "end"
   ]
  },
  {
   "cell_type": "code",
   "execution_count": 57,
   "id": "956e2ed8",
   "metadata": {},
   "outputs": [
    {
     "data": {
      "text/plain": [
       "-6"
      ]
     },
     "execution_count": 57,
     "metadata": {},
     "output_type": "execute_result"
    }
   ],
   "source": [
    "hab"
   ]
  },
  {
   "cell_type": "code",
   "execution_count": 58,
   "id": "8d2fd4a7",
   "metadata": {},
   "outputs": [
    {
     "data": {
      "text/plain": [
       "2"
      ]
     },
     "execution_count": 58,
     "metadata": {},
     "output_type": "execute_result"
    }
   ],
   "source": [
    "start"
   ]
  },
  {
   "cell_type": "code",
   "execution_count": 59,
   "id": "880f70e7",
   "metadata": {},
   "outputs": [
    {
     "data": {
      "text/plain": [
       "2"
      ]
     },
     "execution_count": 59,
     "metadata": {},
     "output_type": "execute_result"
    }
   ],
   "source": [
    "answer"
   ]
  },
  {
   "cell_type": "code",
   "execution_count": 43,
   "id": "03ce235d",
   "metadata": {},
   "outputs": [
    {
     "data": {
      "text/plain": [
       "-2"
      ]
     },
     "execution_count": 43,
     "metadata": {},
     "output_type": "execute_result"
    }
   ],
   "source": [
    "a"
   ]
  },
  {
   "cell_type": "code",
   "execution_count": 44,
   "id": "5509f944",
   "metadata": {},
   "outputs": [
    {
     "data": {
      "text/plain": [
       "-2"
      ]
     },
     "execution_count": 44,
     "metadata": {},
     "output_type": "execute_result"
    }
   ],
   "source": [
    "b"
   ]
  },
  {
   "cell_type": "code",
   "execution_count": null,
   "id": "f12f1769",
   "metadata": {},
   "outputs": [],
   "source": []
  }
 ],
 "metadata": {
  "kernelspec": {
   "display_name": "Python 3",
   "language": "python",
   "name": "python3"
  },
  "language_info": {
   "codemirror_mode": {
    "name": "ipython",
    "version": 3
   },
   "file_extension": ".py",
   "mimetype": "text/x-python",
   "name": "python",
   "nbconvert_exporter": "python",
   "pygments_lexer": "ipython3",
   "version": "3.8.8"
  }
 },
 "nbformat": 4,
 "nbformat_minor": 5
}
