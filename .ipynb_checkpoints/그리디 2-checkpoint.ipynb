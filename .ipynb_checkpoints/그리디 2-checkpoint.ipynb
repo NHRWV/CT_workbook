{
 "cells": [
  {
   "cell_type": "markdown",
   "id": "4c2ec1ae",
   "metadata": {},
   "source": [
    "https://www.acmicpc.net/problem/16287"
   ]
  },
  {
   "cell_type": "code",
   "execution_count": null,
   "id": "998ad5c8",
   "metadata": {},
   "outputs": [],
   "source": [
    "# parcel\n",
    "\n",
    "import sys\n",
    "\n",
    "w, n = map(int, input().split())\n",
    "seq = list(map(int, input().split()))\n",
    "\n",
    "dp = [0] * (w+1)\n",
    "\n",
    "for i in range(n):\n",
    "    for j in range(i+1, n):\n",
    "        if seq[i] + seq[j] > w:\n",
    "            continue\n",
    "        \n",
    "        if dp[w - seq[i] - seq[j]]:\n",
    "            print('YES')\n",
    "            sys.exit()\n",
    "            \n",
    "    for j in range(i):        \n",
    "        if seq[i] + seq[j] < w:\n",
    "            dp[seq[i] + seq[j]] = 1\n",
    "            \n",
    "print('NO')"
   ]
  },
  {
   "cell_type": "markdown",
   "id": "cfeeec17",
   "metadata": {},
   "source": [
    "https://www.acmicpc.net/problem/18186"
   ]
  },
  {
   "cell_type": "code",
   "execution_count": null,
   "id": "47d11b37",
   "metadata": {},
   "outputs": [],
   "source": [
    "# 라면 사기(Large)\n",
    "# 첫 도전 실패\n",
    "\n",
    "n, b, c = map(int, input().split())\n",
    "seq = list(map(int, input().split()))\n",
    "\n",
    "if b <= c:\n",
    "    print(sum(seq) * b)\n",
    "    \n",
    "else:\n",
    "    answer = 0\n",
    "    \n",
    "    for i in range(n):\n",
    "        if seq[i] > 0:\n",
    "            count = 0\n",
    "            j = 1\n",
    "            while j < 3 and i + j < n:\n",
    "                if seq[i] > seq[i + j]:\n",
    "                    break\n",
    "                    \n",
    "                count += 1\n",
    "                j += 1\n",
    "                \n",
    "            for k in range(1, count+1):    \n",
    "                seq[i + k] -= seq[i]\n",
    "                \n",
    "            answer += seq[i] * (b + count * c)\n",
    "            \n",
    "            seq[i] = 0\n",
    "            \n",
    "    print(answer)\n",
    "            "
   ]
  },
  {
   "cell_type": "code",
   "execution_count": null,
   "id": "b9e94eed",
   "metadata": {},
   "outputs": [],
   "source": [
    "n, b, c = map(int, input().split())\n",
    "seq = list(map(int, input().split())) + [0] * 5\n",
    "\n",
    "if b <= c:\n",
    "    print(sum(seq) * b)\n",
    "    \n",
    "else:\n",
    "    answer = 0\n",
    "    \n",
    "    for i in range(n):\n",
    "        if seq[i+1] > seq[i+2]:\n",
    "            value = min(seq[i], seq[i+1] - seq[i+2])\n",
    "            \n",
    "            seq[i] -= value\n",
    "            seq[i+1] -= value\n",
    "            answer += value * (b + c)\n",
    "            \n",
    "            value = min(seq[i], seq[i+1], seq[i+2])\n",
    "            \n",
    "            seq[i] -= value\n",
    "            seq[i+1] -= value\n",
    "            seq[i+2] -= value\n",
    "            answer += value * (b + 2 * c)\n",
    "            \n",
    "        else:\n",
    "            value = min(seq[i], seq[i+1], seq[i+2])\n",
    "            \n",
    "            seq[i] -= value\n",
    "            seq[i+1] -= value\n",
    "            seq[i+2] -= value\n",
    "            answer += value * (b + 2 * c)\n",
    "            \n",
    "            value = min(seq[i], seq[i+1])\n",
    "            \n",
    "            seq[i] -= value\n",
    "            seq[i+1] -= value\n",
    "            answer += value * (b + c)\n",
    "            \n",
    "        answer += b * seq[i]\n",
    "        seq[i] = 0\n",
    "        \n",
    "    print(answer)\n",
    "            "
   ]
  },
  {
   "cell_type": "markdown",
   "id": "94202481",
   "metadata": {},
   "source": [
    "https://www.acmicpc.net/problem/18185"
   ]
  },
  {
   "cell_type": "code",
   "execution_count": null,
   "id": "6db04096",
   "metadata": {},
   "outputs": [],
   "source": [
    "# 라면 사기 (Small)\n",
    "\n",
    "n = int(input())\n",
    "seq = list(map(int, input().split())) + [0] * 2\n",
    "\n",
    "\n",
    "answer = 0\n",
    "b = 3\n",
    "c = 2\n",
    "    \n",
    "for i in range(n):\n",
    "    if seq[i+1] > seq[i+2]:\n",
    "        value = min(seq[i], seq[i+1] - seq[i+2])\n",
    "            \n",
    "        seq[i] -= value\n",
    "        seq[i+1] -= value\n",
    "        answer += value * (b + c)\n",
    "            \n",
    "        value = min(seq[i], seq[i+1], seq[i+2])\n",
    "            \n",
    "        seq[i] -= value\n",
    "        seq[i+1] -= value\n",
    "        seq[i+2] -= value\n",
    "        answer += value * (b + 2 * c)\n",
    "            \n",
    "    else:\n",
    "        value = min(seq[i], seq[i+1], seq[i+2])\n",
    "            \n",
    "        seq[i] -= value\n",
    "        seq[i+1] -= value\n",
    "        seq[i+2] -= value\n",
    "        answer += value * (b + 2 * c)\n",
    "            \n",
    "        value = min(seq[i], seq[i+1])\n",
    "            \n",
    "        seq[i] -= value\n",
    "        seq[i+1] -= value\n",
    "        answer += value * (b + c)\n",
    "            \n",
    "    answer += b * seq[i]\n",
    "    seq[i] = 0\n",
    "        \n",
    "print(answer)"
   ]
  },
  {
   "cell_type": "markdown",
   "id": "ee87b53c",
   "metadata": {},
   "source": [
    "https://www.acmicpc.net/problem/5545"
   ]
  },
  {
   "cell_type": "code",
   "execution_count": null,
   "id": "4444dae5",
   "metadata": {},
   "outputs": [],
   "source": [
    "# 최고의 피자\n",
    "\n",
    "n = int(input())\n",
    "a, b = map(int, input().split())\n",
    "c = int(input())\n",
    "d = []\n",
    "\n",
    "for i in range(n):\n",
    "    d.append(int(input()))\n",
    "    \n",
    "d.sort(reverse = True)\n",
    "answer = c / a\n",
    "\n",
    "for i in range(1, n+1):\n",
    "    value = c + sum(d[:i])\n",
    "    price = a + b * i\n",
    "    \n",
    "    if answer < value / price:\n",
    "        answer = value / price\n",
    "        \n",
    "    else:\n",
    "        break\n",
    "        \n",
    "print(int(answer))"
   ]
  },
  {
   "cell_type": "markdown",
   "id": "8841f710",
   "metadata": {},
   "source": [
    "https://www.acmicpc.net/problem/1379"
   ]
  },
  {
   "cell_type": "code",
   "execution_count": null,
   "id": "3be81df5",
   "metadata": {},
   "outputs": [],
   "source": [
    "# 강의실 2\n",
    "\n",
    "import heapq\n",
    "\n",
    "\n",
    "n = int(input())\n",
    "\n",
    "lst = []\n",
    "for i in range(n):\n",
    "    num, s, e = map(int, input().split())\n",
    "    lst.append((s, e, num))\n",
    "    \n",
    "lst.sort()\n",
    "\n",
    "heap = []\n",
    "heapq.heappush(heap, (lst[0][1], 1)) # 두 번째 요소에 강의실 번호 저장\n",
    "\n",
    "num = [0] * n\n",
    "num[lst[0][2]-1] = 1\n",
    "\n",
    "for i in range(1, n):\n",
    "    if heap[0][0] > lst[i][0]:\n",
    "        heapq.heappush(heap, (lst[i][1], len(heap) + 1))\n",
    "        num[lst[i][2]-1] = len(heap)\n",
    "        \n",
    "    else:\n",
    "        num[lst[i][2]-1] = heap[0][1]\n",
    "        heapq.heappop(heap)\n",
    "        heapq.heappush(heap, (lst[i][1], num[lst[i][2]-1]))\n",
    "        \n",
    "        \n",
    "print(len(heap))\n",
    "for i in num:\n",
    "    print(i)"
   ]
  },
  {
   "cell_type": "markdown",
   "id": "5bad23e0",
   "metadata": {},
   "source": [
    "https://www.acmicpc.net/contest/problem/755/2"
   ]
  },
  {
   "cell_type": "code",
   "execution_count": null,
   "id": "7578c5f7",
   "metadata": {},
   "outputs": [],
   "source": [
    "# 2번 - 가희와 탑\n",
    "\n",
    "n, a, b = map(int, input().split())\n",
    "\n",
    "def sol(n, a, b):\n",
    "    if a + b > n + 1:\n",
    "        return [-1]\n",
    "    \n",
    "    if a > b:\n",
    "        lstb = list(range(b-1, 0, -1))\n",
    "        lsta = [1] * (n - (b-1) - a) + list(range(1, a+1))\n",
    "    \n",
    "    else:\n",
    "        if a == 1:\n",
    "            lsta = [b]\n",
    "            lstb = [1] * (n - (b-1) - 1) + list(range(b-1, 0, -1))\n",
    "        \n",
    "        else:\n",
    "            lstb = list(range(b, 0, -1))\n",
    "            lsta = [1] * (n - b - (a-1)) + list(range(1, a))\n",
    "    \n",
    "    lst = lsta + lstb\n",
    "    return lst\n",
    "    \n",
    "    \n",
    "print(*sol(n, a, b))\n",
    "    "
   ]
  },
  {
   "cell_type": "markdown",
   "id": "1e01d314",
   "metadata": {},
   "source": [
    "https://www.acmicpc.net/problem/23974"
   ]
  },
  {
   "cell_type": "code",
   "execution_count": null,
   "id": "d28f1945",
   "metadata": {},
   "outputs": [],
   "source": [
    "# 짝수 게임\n",
    "\n",
    "n, k = map(int, input().split())\n",
    "\n",
    "if not n % 2:\n",
    "    if k % 6 == 1:\n",
    "        print('HS')\n",
    "    else:\n",
    "        print('YG')\n",
    "        \n",
    "else:\n",
    "    if k % 6 == 5 or not k % 6:\n",
    "        print('HS')\n",
    "    else:\n",
    "        print('YG')\n"
   ]
  },
  {
   "cell_type": "markdown",
   "id": "e753bd1c",
   "metadata": {},
   "source": [
    "https://www.acmicpc.net/problem/1946"
   ]
  },
  {
   "cell_type": "code",
   "execution_count": null,
   "id": "516859cf",
   "metadata": {
    "scrolled": true
   },
   "outputs": [],
   "source": [
    "# 신입 사원\n",
    "\n",
    "\n",
    "t = int(input())\n",
    "for _ in range(t):\n",
    "    n = int(input())\n",
    "    \n",
    "    lst = []\n",
    "    for i in range(n):\n",
    "        a, b = map(int, input().split())\n",
    "        lst.append((a, b))\n",
    "        \n",
    "        \n",
    "    lst.sort(key = lambda x : (x[0], x[1]))\n",
    "    \n",
    "    idx = lst[0][1]\n",
    "    count = n\n",
    "    \n",
    "    for i in range(1, n):\n",
    "        if lst[i][1] > idx:\n",
    "            count -= 1\n",
    "            \n",
    "        elif lst[i][1] < idx:\n",
    "            idx = lst[i][1]\n",
    "            \n",
    "            \n",
    "    print(count)\n",
    "  "
   ]
  },
  {
   "cell_type": "code",
   "execution_count": null,
   "id": "50912348",
   "metadata": {
    "scrolled": true
   },
   "outputs": [],
   "source": [
    "n = int(input())\n",
    "li = list(map(int, input().split()))\n",
    "\n",
    "if n == 1:\n",
    "    if li[0] == 0:\n",
    "        li[0] = 1\n",
    "    print(*li)\n",
    "else:\n",
    "    ip = True\n",
    "    for i in range(n - 1):\n",
    "        if li[i] != 0 and li[i] == li[i + 1]:\n",
    "            ip = False\n",
    "            break\n",
    "\n",
    "    if not ip:\n",
    "        print(-1)\n",
    "    else:\n",
    "        st = set(range(1, 4))\n",
    "\n",
    "        if li[0] == 0:\n",
    "            if li[1] == 1:\n",
    "                li[0] = 2\n",
    "            else:\n",
    "                li[0] = 1\n",
    "\n",
    "        for i in range(n - 1):\n",
    "            if li[i]:\n",
    "                continue\n",
    "\n",
    "            else:\n",
    "                cand = st - {li[i - 1], li[i + 1]}\n",
    "                li[i] = cand.pop()\n",
    "\n",
    "        if li[n - 1] == 0:\n",
    "            if li[n - 2] == 1:\n",
    "                li[n - 1] = 2\n",
    "            else:\n",
    "                li[n - 1] = 1\n",
    "                \n",
    "        print(*li)"
   ]
  },
  {
   "cell_type": "code",
   "execution_count": null,
   "id": "c309af76",
   "metadata": {},
   "outputs": [],
   "source": [
    "import sys\n",
    "\n",
    "n = int(input())\n",
    "lst = list(map(int, input().split()))\n",
    "\n",
    "if n == 1:\n",
    "    if lst[0] == 0:\n",
    "        lst[0] = 1\n",
    "    \n",
    "    print(*lst)\n",
    "    sys.exit()\n",
    "    \n",
    "\n",
    "check = 1\n",
    "for i in range(n - 1):\n",
    "    if lst[i] and lst[i] == lst[i + 1]:\n",
    "        check = 0\n",
    "        break\n",
    "\n",
    "if not check:\n",
    "    print(-1)\n",
    "    sys.exit()\n",
    "    \n",
    "\n",
    "if lst[0] == 0:\n",
    "    if lst[1] == 1:\n",
    "        lst[0] = 2\n",
    "    else:\n",
    "        lst[0] = 1\n",
    "        \n",
    "psb = set(range(1, 4))\n",
    "        \n",
    "for i in range(n - 1):\n",
    "    if lst[i]:\n",
    "        continue\n",
    "\n",
    "    else:\n",
    "        box = psb - {lst[i - 1], lst[i + 1]}\n",
    "        lst[i] = box.pop()\n",
    "\n",
    "if not lst[n - 1]:\n",
    "    if lst[n - 2] == 1:\n",
    "        lst[n - 1] = 2\n",
    "        \n",
    "    else:\n",
    "        lst[n - 1] = 1\n",
    "                \n",
    "            \n",
    "print(*lst) \n"
   ]
  },
  {
   "cell_type": "markdown",
   "id": "84792084",
   "metadata": {},
   "source": [
    "https://www.acmicpc.net/problem/1343"
   ]
  },
  {
   "cell_type": "code",
   "execution_count": null,
   "id": "0621ab93",
   "metadata": {},
   "outputs": [],
   "source": [
    "s = input()\n",
    "\n",
    "def sol():\n",
    "    temp = s.split('.')\n",
    "    \n",
    "    #print(temp)\n",
    "    \n",
    "    for i in range(len(temp)):\n",
    "        if temp[i] == '':\n",
    "            continue\n",
    "            \n",
    "        len_ = len(temp[i])\n",
    "        \n",
    "        if len_ % 2:\n",
    "            return -1\n",
    "        \n",
    "        if len_ == 2:\n",
    "            temp[i] = 'BB'\n",
    "            \n",
    "        elif not len_ % 4:\n",
    "            temp[i] = 'A' * len_\n",
    "            \n",
    "        elif len_ % 4 and not len_ % 2:\n",
    "            temp[i] = 'A' * (len_-2) + 'BB'\n",
    "            \n",
    "    #print(temp)\n",
    "    return '.'.join(temp)\n",
    "            \n",
    "\n",
    "print(sol())\n",
    "            "
   ]
  },
  {
   "cell_type": "markdown",
   "id": "3e629c0e",
   "metadata": {},
   "source": [
    "https://www.acmicpc.net/problem/2285"
   ]
  },
  {
   "cell_type": "code",
   "execution_count": null,
   "id": "72e9c479",
   "metadata": {},
   "outputs": [],
   "source": [
    "##### 우체국\n",
    "\n",
    "n = int(input())\n",
    "\n",
    "lst = []\n",
    "hab = 0\n",
    "for i in range(n):\n",
    "    x, a = map(int, input().split())\n",
    "    lst.append((x, a))\n",
    "    hab += a\n",
    "    \n",
    "\n",
    "lst.sort()\n",
    "\n",
    "count = 0\n",
    "for i, j in lst:\n",
    "    count += j\n",
    "    \n",
    "    if count >= hab / 2:\n",
    "        print(i)\n",
    "        break\n",
    "    "
   ]
  },
  {
   "cell_type": "markdown",
   "id": "ee75edf9",
   "metadata": {},
   "source": [
    "https://www.acmicpc.net/problem/4796"
   ]
  },
  {
   "cell_type": "code",
   "execution_count": null,
   "id": "ed870332",
   "metadata": {},
   "outputs": [],
   "source": [
    "# 캠핑\n",
    "\n",
    "count = 1\n",
    "while True:\n",
    "    l, p, v = map(int, input().split())\n",
    "    \n",
    "    if not l and not p and not v:\n",
    "        break\n",
    "        \n",
    "    answer = (v // p) * l\n",
    "    answer += min(v % p, l)\n",
    "    print(f\"Case {count}: {answer}\")\n",
    "    count += 1\n",
    "    "
   ]
  },
  {
   "cell_type": "markdown",
   "id": "8709ce43",
   "metadata": {},
   "source": [
    "https://www.acmicpc.net/problem/15922"
   ]
  },
  {
   "cell_type": "code",
   "execution_count": null,
   "id": "31d3551a",
   "metadata": {},
   "outputs": [],
   "source": [
    "# 아우으 우아으이야!!\n",
    "\n",
    "n = int(input())\n",
    "\n",
    "crd = []\n",
    "for i in range(n):\n",
    "    x, y = map(int, input().split())\n",
    "    crd.append((x, y))\n",
    "    \n",
    "start = crd[0][0]\n",
    "end = crd[0][1]\n",
    "hab = 0\n",
    "\n",
    "for i, j in crd:\n",
    "    if end < i:\n",
    "        hab += temp\n",
    "        temp = 0\n",
    "        start = i\n",
    "        end = j\n",
    "        \n",
    "    else:\n",
    "        if end < j:\n",
    "            end = j\n",
    "    \n",
    "    temp = end - start\n",
    "    \n",
    "\n",
    "print(hab if not temp else hab + temp)\n"
   ]
  },
  {
   "cell_type": "markdown",
   "id": "ded7c09e",
   "metadata": {},
   "source": [
    "https://www.acmicpc.net/problem/1417"
   ]
  },
  {
   "cell_type": "code",
   "execution_count": null,
   "id": "c2383f43",
   "metadata": {},
   "outputs": [],
   "source": [
    "import heapq\n",
    "import sys\n",
    "\n",
    "n = int(input())\n",
    "lst = [-int(input()) for _ in range(n)]\n",
    "\n",
    "if n == 1:\n",
    "    print(1)\n",
    "    sys.exit()\n",
    "\n",
    "std = lst[0]\n",
    "target = lst[1:]\n",
    "\n",
    "heapq.heapify(target)\n",
    "count = 0\n",
    "while True:\n",
    "    x = heapq.heappop(target)\n",
    "    \n",
    "    if std < x:\n",
    "        break\n",
    "        \n",
    "    std += -1\n",
    "    heapq.heappush(target, x+1)\n",
    "    count += 1\n",
    "    \n",
    "print(count)\n",
    "    "
   ]
  },
  {
   "cell_type": "markdown",
   "id": "d2b1767b",
   "metadata": {},
   "source": [
    "https://www.acmicpc.net/problem/13560"
   ]
  },
  {
   "cell_type": "code",
   "execution_count": null,
   "id": "5c7f2b3e",
   "metadata": {},
   "outputs": [],
   "source": [
    "# 축구 게임\n",
    "\n",
    "import sys\n",
    "\n",
    "n = int(input())\n",
    "lst = list(map(int, input().split()))\n",
    "\n",
    "lst.sort()\n",
    "\n",
    "bar = 0\n",
    "hab = 0\n",
    "for i in range(n):\n",
    "    hab += lst[i]\n",
    "    bar = i * (i+1) / 2\n",
    "    \n",
    "    if hab < bar:\n",
    "        print(-1)\n",
    "        sys.exit()\n",
    "        \n",
    "print(-1 if hab != n * (n-1) / 2 else 1)\n"
   ]
  },
  {
   "cell_type": "markdown",
   "id": "a286acb3",
   "metadata": {},
   "source": [
    "https://www.acmicpc.net/problem/1201"
   ]
  },
  {
   "cell_type": "code",
   "execution_count": null,
   "id": "9c43dff2",
   "metadata": {},
   "outputs": [],
   "source": [
    "# NMK\n",
    "\n",
    "n, m, k = map(int, input().split())\n",
    "\n",
    "\n",
    "if n < m + k - 1 or m * k < n:\n",
    "    print(-1)\n",
    "    \n",
    "else:\n",
    "    lst = list(range(k, 0, -1))\n",
    "    \n",
    "    n -= k\n",
    "    m -= 1\n",
    "    \n",
    "    while m:\n",
    "        temp = list(range(k+n // m,  k, -1))\n",
    "        lst.extend(temp)\n",
    "        \n",
    "        k += n // m\n",
    "        n -= n // m\n",
    "        m -= 1\n",
    "        \n",
    "    print(*lst)\n",
    "    "
   ]
  },
  {
   "cell_type": "code",
   "execution_count": null,
   "id": "1a40ecf0",
   "metadata": {},
   "outputs": [],
   "source": [
    "n, m, k = map(int, input().split())\n",
    "\n",
    "\n",
    "if n < m + k - 1 or m * k < n:\n",
    "    print(-1)\n",
    "    \n",
    "else:\n",
    "    lst = list(range(k, 0, -1))\n",
    "    \n",
    "    n -= k\n",
    "    m -= 1\n",
    "    \n",
    "    for i in range(m-1, -1, -1):\n",
    "        temp = list(range(k+n // m,  k, -1))\n",
    "        lst.extend(temp)\n",
    "        \n",
    "        k += n // m\n",
    "        n -= n // m\n",
    "        \n",
    "    print(*lst)\n",
    "    "
   ]
  },
  {
   "cell_type": "markdown",
   "id": "222c4077",
   "metadata": {},
   "source": [
    "https://www.acmicpc.net/problem/2873"
   ]
  },
  {
   "cell_type": "code",
   "execution_count": null,
   "id": "00d56b5c",
   "metadata": {},
   "outputs": [],
   "source": [
    "# 롤러코스터\n",
    "\n"
   ]
  },
  {
   "cell_type": "markdown",
   "id": "750f63db",
   "metadata": {},
   "source": [
    "https://www.acmicpc.net/problem/13137"
   ]
  },
  {
   "cell_type": "code",
   "execution_count": null,
   "id": "7f2fb1e0",
   "metadata": {},
   "outputs": [],
   "source": [
    "# Exchange Problem\n",
    "\n",
    "n = int(input())\n",
    "coin = list(map(int, input().split()))\n",
    "\n",
    "\n",
    "def check(x):\n",
    "    value = 0\n",
    "    \n",
    "    for i in range(n-1, -1, -1):\n",
    "        if coin[i] <= x:\n",
    "            value += x // coin[i]\n",
    "            x -= x // coin[i] * coin[i]\n",
    "            \n",
    "    return value\n",
    "            \n",
    "\n",
    "def sol():\n",
    "    if coin[0] != 1:\n",
    "        return \"No\"\n",
    "    \n",
    "    end = coin[-1]\n",
    "    dp = [int(1e9)] * 3 * end\n",
    "    dp[0] = 0\n",
    "    \n",
    "    for i in range(n):\n",
    "        for j in range(2 * end):\n",
    "            #print(i, j)\n",
    "            if coin[i] <= j and dp[j-coin[i]] + 1 < dp[j]:\n",
    "                dp[j] = dp[j-coin[i]] + 1\n",
    "                \n",
    "    for i in range(2 * end):\n",
    "        if dp[i] < check(i):\n",
    "            return \"No\"\n",
    "        \n",
    "    return \"Yes\"\n",
    "            \n",
    "    \n",
    "print(sol())\n"
   ]
  },
  {
   "cell_type": "markdown",
   "id": "05159514",
   "metadata": {},
   "source": [
    "https://www.acmicpc.net/problem/22748"
   ]
  },
  {
   "cell_type": "code",
   "execution_count": null,
   "id": "7d8c7c95",
   "metadata": {},
   "outputs": [],
   "source": [
    "# Greedy, Greedy.\n",
    "\n",
    "\n",
    "def check(x):\n",
    "    value = 0\n",
    "    \n",
    "    for i in range(n-1, -1, -1):\n",
    "        if coin[i] <= x:\n",
    "            value += x // coin[i]\n",
    "            x -= x // coin[i] * coin[i]\n",
    "            \n",
    "    return value\n",
    "            \n",
    "\n",
    "def sol():\n",
    "    if coin[0] != 1:\n",
    "        return \"Cannot pay some amount\"\n",
    "    \n",
    "    end = coin[-1]\n",
    "    dp = [int(1e9)] * 3 * end\n",
    "    dp[0] = 0\n",
    "    \n",
    "    for i in range(n):\n",
    "        for j in range(2 * end):\n",
    "            #print(i, j)\n",
    "            if coin[i] <= j and dp[j-coin[i]] + 1 < dp[j]:\n",
    "                dp[j] = dp[j-coin[i]] + 1\n",
    "                \n",
    "    for i in range(2 * end):\n",
    "        if dp[i] < check(i):\n",
    "            return \"Cannot use greedy algorithm\"\n",
    "        \n",
    "    return \"OK\"\n",
    "            \n",
    "                \n",
    "count = 1\n",
    "while True:\n",
    "    temp = list(map(int, input().split()))\n",
    "\n",
    "    n = temp[0]\n",
    "    if not n:\n",
    "        break\n",
    "    coin = temp[1:]\n",
    "    \n",
    "    print(f\"Case #{count}: {sol()}\")\n",
    "    count += 1\n",
    "\n"
   ]
  },
  {
   "cell_type": "markdown",
   "id": "5ef0a419",
   "metadata": {},
   "source": [
    "https://www.acmicpc.net/problem/15423"
   ]
  },
  {
   "cell_type": "code",
   "execution_count": null,
   "id": "c22ef6ab",
   "metadata": {},
   "outputs": [],
   "source": [
    "# Canonical Coin Systems\n",
    "\n",
    "\n",
    "n = int(input())\n",
    "coin = list(map(int, input().split()))\n",
    "\n",
    "\n",
    "def check(x):\n",
    "    value = 0\n",
    "    \n",
    "    for i in range(n-1, -1, -1):\n",
    "        if coin[i] <= x:\n",
    "            value += x // coin[i]\n",
    "            x -= x // coin[i] * coin[i]\n",
    "            \n",
    "    return value\n",
    "            \n",
    "\n",
    "def sol():\n",
    "    if coin[0] != 1:\n",
    "        return \"non-canonical\"\n",
    "    \n",
    "    end = coin[-1]\n",
    "    dp = [int(1e9)] * 3 * end\n",
    "    dp[0] = 0\n",
    "    \n",
    "    for i in range(n):\n",
    "        for j in range(2 * end):\n",
    "            #print(i, j)\n",
    "            if coin[i] <= j and dp[j-coin[i]] + 1 < dp[j]:\n",
    "                dp[j] = dp[j-coin[i]] + 1\n",
    "                \n",
    "    for i in range(2 * end):\n",
    "        if dp[i] < check(i):\n",
    "            return \"non-canonical\"\n",
    "        \n",
    "    return \"canonical\"\n",
    "            \n",
    "    \n",
    "print(sol())\n"
   ]
  },
  {
   "cell_type": "code",
   "execution_count": 22,
   "id": "650b71c2",
   "metadata": {},
   "outputs": [
    {
     "name": "stdout",
     "output_type": "stream",
     "text": [
      "프랭키 더용\n",
      "김남현\n",
      "한상혁\n",
      "박재형\n",
      "호날두\n",
      "홀란드\n",
      "말디니\n",
      "손흥민\n",
      "음바페\n",
      "이니에스타\n",
      "포든\n",
      "손흥민\n",
      "호이비에르\n",
      "로드리\n",
      "프랭키 더용\n",
      "홀란드\n"
     ]
    }
   ],
   "source": [
    "a = set()\n",
    "b = set()\n",
    "for i in range(8):\n",
    "    a.add(input())\n",
    "for j in range(8):\n",
    "    b.add(input())"
   ]
  },
  {
   "cell_type": "code",
   "execution_count": null,
   "id": "31199323",
   "metadata": {},
   "outputs": [],
   "source": [
    "n = int(input())\n",
    "m = int(input())\n",
    "\n",
    "a = set()\n",
    "b = set()\n",
    "for i in range(n):\n",
    "    a.add(input().rstrip())\n",
    "for i in range(m):\n",
    "    b.add(input().rstrip())\n",
    "    \n",
    "c = list(a & b)\n",
    "c.sort()\n",
    "\n",
    "for i in c:\n",
    "    print(i)"
   ]
  },
  {
   "cell_type": "code",
   "execution_count": 23,
   "id": "b75fe170",
   "metadata": {},
   "outputs": [],
   "source": [
    "c = a & b"
   ]
  },
  {
   "cell_type": "code",
   "execution_count": 24,
   "id": "3fb52fc9",
   "metadata": {},
   "outputs": [
    {
     "data": {
      "text/plain": [
       "{'손흥민', '프랭키 더용', '홀란드'}"
      ]
     },
     "execution_count": 24,
     "metadata": {},
     "output_type": "execute_result"
    }
   ],
   "source": [
    "c"
   ]
  },
  {
   "cell_type": "code",
   "execution_count": 25,
   "id": "a0522e6d",
   "metadata": {},
   "outputs": [],
   "source": [
    "c.add('말디니')"
   ]
  },
  {
   "cell_type": "code",
   "execution_count": 27,
   "id": "2a0d595f",
   "metadata": {},
   "outputs": [
    {
     "data": {
      "text/plain": [
       "{'말디니', '손흥민', '프랭키 더용', '홀란드'}"
      ]
     },
     "execution_count": 27,
     "metadata": {},
     "output_type": "execute_result"
    }
   ],
   "source": [
    "c"
   ]
  },
  {
   "cell_type": "code",
   "execution_count": 29,
   "id": "d09b25f2",
   "metadata": {},
   "outputs": [
    {
     "name": "stdout",
     "output_type": "stream",
     "text": [
      "['말디니', '손흥민', '프랭키 더용', '홀란드']\n"
     ]
    }
   ],
   "source": [
    "print(sorted(list(c)))"
   ]
  },
  {
   "cell_type": "code",
   "execution_count": null,
   "id": "bfc3605f",
   "metadata": {},
   "outputs": [],
   "source": []
  }
 ],
 "metadata": {
  "kernelspec": {
   "display_name": "Python 3",
   "language": "python",
   "name": "python3"
  },
  "language_info": {
   "codemirror_mode": {
    "name": "ipython",
    "version": 3
   },
   "file_extension": ".py",
   "mimetype": "text/x-python",
   "name": "python",
   "nbconvert_exporter": "python",
   "pygments_lexer": "ipython3",
   "version": "3.8.8"
  }
 },
 "nbformat": 4,
 "nbformat_minor": 5
}
