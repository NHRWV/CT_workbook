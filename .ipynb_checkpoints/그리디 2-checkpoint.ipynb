{
 "cells": [
  {
   "cell_type": "markdown",
   "id": "4c2ec1ae",
   "metadata": {},
   "source": [
    "https://www.acmicpc.net/problem/16287"
   ]
  },
  {
   "cell_type": "code",
   "execution_count": null,
   "id": "998ad5c8",
   "metadata": {},
   "outputs": [],
   "source": [
    "# parcel\n",
    "\n",
    "import sys\n",
    "\n",
    "w, n = map(int, input().split())\n",
    "seq = list(map(int, input().split()))\n",
    "\n",
    "dp = [0] * (w+1)\n",
    "\n",
    "for i in range(n):\n",
    "    for j in range(i+1, n):\n",
    "        if seq[i] + seq[j] > w:\n",
    "            continue\n",
    "        \n",
    "        if dp[w - seq[i] - seq[j]]:\n",
    "            print('YES')\n",
    "            sys.exit()\n",
    "            \n",
    "    for j in range(i):        \n",
    "        if seq[i] + seq[j] < w:\n",
    "            dp[seq[i] + seq[j]] = 1\n",
    "            \n",
    "print('NO')"
   ]
  },
  {
   "cell_type": "markdown",
   "id": "cfeeec17",
   "metadata": {},
   "source": [
    "https://www.acmicpc.net/problem/18186"
   ]
  },
  {
   "cell_type": "code",
   "execution_count": null,
   "id": "105ba6c1",
   "metadata": {},
   "outputs": [],
   "source": [
    "얼마나 연속되는지 확인하면 되나 아 모르겠다ㅏㅏㅏㅁㄹ;미러"
   ]
  },
  {
   "cell_type": "code",
   "execution_count": 35,
   "id": "47d11b37",
   "metadata": {},
   "outputs": [
    {
     "name": "stdout",
     "output_type": "stream",
     "text": [
      "5 3 2\n",
      "1 1 1 0 2\n",
      "13\n"
     ]
    }
   ],
   "source": [
    "n, b, c = map(int, input().split())\n",
    "seq = list(map(int, input().split()))\n",
    "\n",
    "if b <= c:\n",
    "    print(sum(seq) * b)\n",
    "    \n",
    "else:\n",
    "    answer = 0\n",
    "    \n",
    "    for i in range(n):\n",
    "        if seq[i] > 0:\n",
    "            count = 0\n",
    "            j = 1\n",
    "            while j < 3 and i + j < n:\n",
    "                if seq[i] > seq[i + j]:\n",
    "                    break\n",
    "                    \n",
    "                count += 1\n",
    "                j += 1\n",
    "                \n",
    "            for k in range(1, count+1):    \n",
    "                seq[i + k] -= seq[i]\n",
    "                \n",
    "            answer += seq[i] * (b + count * c)\n",
    "            \n",
    "            seq[i] = 0\n",
    "            \n",
    "    print(answer)\n",
    "            "
   ]
  },
  {
   "cell_type": "code",
   "execution_count": null,
   "id": "a0984dfb",
   "metadata": {},
   "outputs": [],
   "source": [
    "3 2 2\n",
    "1 0 1\n",
    "\n",
    "5 3 2\n",
    "1 1 1 0 2\n",
    "\n",
    "4 3 2\n",
    "1 3 2 2"
   ]
  },
  {
   "cell_type": "code",
   "execution_count": null,
   "id": "b9e94eed",
   "metadata": {},
   "outputs": [],
   "source": []
  },
  {
   "cell_type": "code",
   "execution_count": 30,
   "id": "5bc05415",
   "metadata": {},
   "outputs": [
    {
     "data": {
      "text/plain": [
       "0"
      ]
     },
     "execution_count": 30,
     "metadata": {},
     "output_type": "execute_result"
    }
   ],
   "source": [
    "i"
   ]
  },
  {
   "cell_type": "code",
   "execution_count": 31,
   "id": "6b25b503",
   "metadata": {},
   "outputs": [
    {
     "data": {
      "text/plain": [
       "14930521"
      ]
     },
     "execution_count": 31,
     "metadata": {},
     "output_type": "execute_result"
    }
   ],
   "source": [
    "count"
   ]
  },
  {
   "cell_type": "code",
   "execution_count": 18,
   "id": "7e5876db",
   "metadata": {},
   "outputs": [
    {
     "data": {
      "text/plain": [
       "[0, 0, 0, 0, 0]"
      ]
     },
     "execution_count": 18,
     "metadata": {},
     "output_type": "execute_result"
    }
   ],
   "source": [
    "seq"
   ]
  },
  {
   "cell_type": "code",
   "execution_count": null,
   "id": "763963cb",
   "metadata": {},
   "outputs": [],
   "source": []
  }
 ],
 "metadata": {
  "kernelspec": {
   "display_name": "Python 3",
   "language": "python",
   "name": "python3"
  },
  "language_info": {
   "codemirror_mode": {
    "name": "ipython",
    "version": 3
   },
   "file_extension": ".py",
   "mimetype": "text/x-python",
   "name": "python",
   "nbconvert_exporter": "python",
   "pygments_lexer": "ipython3",
   "version": "3.8.8"
  }
 },
 "nbformat": 4,
 "nbformat_minor": 5
}
