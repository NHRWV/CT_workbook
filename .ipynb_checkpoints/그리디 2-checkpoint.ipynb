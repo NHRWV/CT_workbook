{
 "cells": [
  {
   "cell_type": "markdown",
   "id": "4c2ec1ae",
   "metadata": {},
   "source": [
    "https://www.acmicpc.net/problem/16287"
   ]
  },
  {
   "cell_type": "code",
   "execution_count": null,
   "id": "998ad5c8",
   "metadata": {},
   "outputs": [],
   "source": [
    "# parcel\n",
    "\n",
    "import sys\n",
    "\n",
    "w, n = map(int, input().split())\n",
    "seq = list(map(int, input().split()))\n",
    "\n",
    "dp = [0] * (w+1)\n",
    "\n",
    "for i in range(n):\n",
    "    for j in range(i+1, n):\n",
    "        if seq[i] + seq[j] > w:\n",
    "            continue\n",
    "        \n",
    "        if dp[w - seq[i] - seq[j]]:\n",
    "            print('YES')\n",
    "            sys.exit()\n",
    "            \n",
    "    for j in range(i):        \n",
    "        if seq[i] + seq[j] < w:\n",
    "            dp[seq[i] + seq[j]] = 1\n",
    "            \n",
    "print('NO')"
   ]
  },
  {
   "cell_type": "markdown",
   "id": "cfeeec17",
   "metadata": {},
   "source": [
    "https://www.acmicpc.net/problem/18186"
   ]
  },
  {
   "cell_type": "code",
   "execution_count": null,
   "id": "47d11b37",
   "metadata": {},
   "outputs": [],
   "source": [
    "# 라면 사기(Large)\n",
    "# 첫 도전 실패\n",
    "\n",
    "n, b, c = map(int, input().split())\n",
    "seq = list(map(int, input().split()))\n",
    "\n",
    "if b <= c:\n",
    "    print(sum(seq) * b)\n",
    "    \n",
    "else:\n",
    "    answer = 0\n",
    "    \n",
    "    for i in range(n):\n",
    "        if seq[i] > 0:\n",
    "            count = 0\n",
    "            j = 1\n",
    "            while j < 3 and i + j < n:\n",
    "                if seq[i] > seq[i + j]:\n",
    "                    break\n",
    "                    \n",
    "                count += 1\n",
    "                j += 1\n",
    "                \n",
    "            for k in range(1, count+1):    \n",
    "                seq[i + k] -= seq[i]\n",
    "                \n",
    "            answer += seq[i] * (b + count * c)\n",
    "            \n",
    "            seq[i] = 0\n",
    "            \n",
    "    print(answer)\n",
    "            "
   ]
  },
  {
   "cell_type": "code",
   "execution_count": null,
   "id": "b9e94eed",
   "metadata": {},
   "outputs": [],
   "source": [
    "n, b, c = map(int, input().split())\n",
    "seq = list(map(int, input().split())) + [0] * 5\n",
    "\n",
    "if b <= c:\n",
    "    print(sum(seq) * b)\n",
    "    \n",
    "else:\n",
    "    answer = 0\n",
    "    \n",
    "    for i in range(n):\n",
    "        if seq[i+1] > seq[i+2]:\n",
    "            value = min(seq[i], seq[i+1] - seq[i+2])\n",
    "            \n",
    "            seq[i] -= value\n",
    "            seq[i+1] -= value\n",
    "            answer += value * (b + c)\n",
    "            \n",
    "            value = min(seq[i], seq[i+1], seq[i+2])\n",
    "            \n",
    "            seq[i] -= value\n",
    "            seq[i+1] -= value\n",
    "            seq[i+2] -= value\n",
    "            answer += value * (b + 2 * c)\n",
    "            \n",
    "        else:\n",
    "            value = min(seq[i], seq[i+1], seq[i+2])\n",
    "            \n",
    "            seq[i] -= value\n",
    "            seq[i+1] -= value\n",
    "            seq[i+2] -= value\n",
    "            answer += value * (b + 2 * c)\n",
    "            \n",
    "            value = min(seq[i], seq[i+1])\n",
    "            \n",
    "            seq[i] -= value\n",
    "            seq[i+1] -= value\n",
    "            answer += value * (b + c)\n",
    "            \n",
    "        answer += b * seq[i]\n",
    "        seq[i] = 0\n",
    "        \n",
    "    print(answer)\n",
    "            "
   ]
  },
  {
   "cell_type": "markdown",
   "id": "94202481",
   "metadata": {},
   "source": [
    "https://www.acmicpc.net/problem/18185"
   ]
  },
  {
   "cell_type": "code",
   "execution_count": null,
   "id": "6db04096",
   "metadata": {},
   "outputs": [],
   "source": [
    "# 라면 사기 (Small)\n",
    "\n",
    "n = int(input())\n",
    "seq = list(map(int, input().split())) + [0] * 2\n",
    "\n",
    "\n",
    "answer = 0\n",
    "b = 3\n",
    "c = 2\n",
    "    \n",
    "for i in range(n):\n",
    "    if seq[i+1] > seq[i+2]:\n",
    "        value = min(seq[i], seq[i+1] - seq[i+2])\n",
    "            \n",
    "        seq[i] -= value\n",
    "        seq[i+1] -= value\n",
    "        answer += value * (b + c)\n",
    "            \n",
    "        value = min(seq[i], seq[i+1], seq[i+2])\n",
    "            \n",
    "        seq[i] -= value\n",
    "        seq[i+1] -= value\n",
    "        seq[i+2] -= value\n",
    "        answer += value * (b + 2 * c)\n",
    "            \n",
    "    else:\n",
    "        value = min(seq[i], seq[i+1], seq[i+2])\n",
    "            \n",
    "        seq[i] -= value\n",
    "        seq[i+1] -= value\n",
    "        seq[i+2] -= value\n",
    "        answer += value * (b + 2 * c)\n",
    "            \n",
    "        value = min(seq[i], seq[i+1])\n",
    "            \n",
    "        seq[i] -= value\n",
    "        seq[i+1] -= value\n",
    "        answer += value * (b + c)\n",
    "            \n",
    "    answer += b * seq[i]\n",
    "    seq[i] = 0\n",
    "        \n",
    "print(answer)"
   ]
  },
  {
   "cell_type": "markdown",
   "id": "ee87b53c",
   "metadata": {},
   "source": [
    "https://www.acmicpc.net/problem/5545"
   ]
  },
  {
   "cell_type": "code",
   "execution_count": null,
   "id": "4444dae5",
   "metadata": {},
   "outputs": [],
   "source": [
    "# 최고의 피자\n",
    "\n",
    "n = int(input())\n",
    "a, b = map(int, input().split())\n",
    "c = int(input())\n",
    "d = []\n",
    "\n",
    "for i in range(n):\n",
    "    d.append(int(input()))\n",
    "    \n",
    "d.sort(reverse = True)\n",
    "answer = c / a\n",
    "\n",
    "for i in range(1, n+1):\n",
    "    value = c + sum(d[:i])\n",
    "    price = a + b * i\n",
    "    \n",
    "    if answer < value / price:\n",
    "        answer = value / price\n",
    "        \n",
    "    else:\n",
    "        break\n",
    "        \n",
    "print(int(answer))"
   ]
  },
  {
   "cell_type": "markdown",
   "id": "8841f710",
   "metadata": {},
   "source": [
    "https://www.acmicpc.net/problem/1379"
   ]
  },
  {
   "cell_type": "code",
   "execution_count": null,
   "id": "3be81df5",
   "metadata": {},
   "outputs": [],
   "source": [
    "# 강의실 2\n",
    "\n",
    "import heapq\n",
    "\n",
    "\n",
    "n = int(input())\n",
    "\n",
    "lst = []\n",
    "for i in range(n):\n",
    "    num, s, e = map(int, input().split())\n",
    "    lst.append((s, e, num))\n",
    "    \n",
    "lst.sort()\n",
    "\n",
    "heap = []\n",
    "heapq.heappush(heap, (lst[0][1], 1)) # 두 번째 요소에 강의실 번호 저장\n",
    "\n",
    "num = [0] * n\n",
    "num[lst[0][2]-1] = 1\n",
    "\n",
    "for i in range(1, n):\n",
    "    if heap[0][0] > lst[i][0]:\n",
    "        heapq.heappush(heap, (lst[i][1], len(heap) + 1))\n",
    "        num[lst[i][2]-1] = len(heap)\n",
    "        \n",
    "    else:\n",
    "        num[lst[i][2]-1] = heap[0][1]\n",
    "        heapq.heappop(heap)\n",
    "        heapq.heappush(heap, (lst[i][1], num[lst[i][2]-1]))\n",
    "        \n",
    "        \n",
    "print(len(heap))\n",
    "for i in num:\n",
    "    print(i)"
   ]
  },
  {
   "cell_type": "markdown",
   "id": "5bad23e0",
   "metadata": {},
   "source": [
    "https://www.acmicpc.net/contest/problem/755/2"
   ]
  },
  {
   "cell_type": "code",
   "execution_count": null,
   "id": "7578c5f7",
   "metadata": {},
   "outputs": [],
   "source": [
    "# 2번 - 가희와 탑\n",
    "\n",
    "n, a, b = map(int, input().split())\n",
    "\n",
    "def sol(n, a, b):\n",
    "    if a + b > n + 1:\n",
    "        return [-1]\n",
    "    \n",
    "    if a > b:\n",
    "        lstb = list(range(b-1, 0, -1))\n",
    "        lsta = [1] * (n - (b-1) - a) + list(range(1, a+1))\n",
    "    \n",
    "    else:\n",
    "        if a == 1:\n",
    "            lsta = [b]\n",
    "            lstb = [1] * (n - (b-1) - 1) + list(range(b-1, 0, -1))\n",
    "        \n",
    "        else:\n",
    "            lstb = list(range(b, 0, -1))\n",
    "            lsta = [1] * (n - b - (a-1)) + list(range(1, a))\n",
    "    \n",
    "    lst = lsta + lstb\n",
    "    return lst\n",
    "    \n",
    "    \n",
    "print(*sol(n, a, b))\n",
    "    "
   ]
  },
  {
   "cell_type": "code",
   "execution_count": 7,
   "id": "08a7a1e3",
   "metadata": {},
   "outputs": [
    {
     "data": {
      "text/plain": [
       "[(2, 14), (3, 8), (6, 20), (6, 27), (7, 13), (12, 18), (15, 21), (20, 25)]"
      ]
     },
     "execution_count": 7,
     "metadata": {},
     "output_type": "execute_result"
    }
   ],
   "source": [
    "lst"
   ]
  },
  {
   "cell_type": "code",
   "execution_count": 19,
   "id": "445b1833",
   "metadata": {},
   "outputs": [
    {
     "name": "stdout",
     "output_type": "stream",
     "text": [
      "5 1 3\n",
      "3 1 1 2 1\n"
     ]
    }
   ],
   "source": [
    "n, a, b = map(int, input().split())\n",
    "\n",
    "if a > b:\n",
    "    lstb = list(range(b-1, 0, -1))\n",
    "    lsta = [1] * (n - (b-1) - a) + list(range(1, a+1))\n",
    "    \n",
    "else:\n",
    "    if a == 1:\n",
    "        lsta = [b]\n",
    "        lstb = [1] * (n - (b-1) - 1) + list(range(b-1, 0, -1))\n",
    "        \n",
    "    else:\n",
    "        lstb = list(range(b, 0, -1))\n",
    "        lsta = [1] * (n - b - (a-1)) + list(range(1, a))\n",
    "    \n",
    "lst = lsta + lstb\n",
    "print(*lst)"
   ]
  },
  {
   "cell_type": "code",
   "execution_count": 23,
   "id": "6cfa49ae",
   "metadata": {},
   "outputs": [
    {
     "data": {
      "text/plain": [
       "543"
      ]
     },
     "execution_count": 23,
     "metadata": {},
     "output_type": "execute_result"
    }
   ],
   "source": [
    "2541 - 1998"
   ]
  },
  {
   "cell_type": "code",
   "execution_count": 8,
   "id": "516859cf",
   "metadata": {},
   "outputs": [
    {
     "data": {
      "text/plain": [
       "[2, 1]"
      ]
     },
     "execution_count": 8,
     "metadata": {},
     "output_type": "execute_result"
    }
   ],
   "source": [
    "lstb"
   ]
  },
  {
   "cell_type": "code",
   "execution_count": 11,
   "id": "50912348",
   "metadata": {},
   "outputs": [
    {
     "data": {
      "text/plain": [
       "[1, 2, 4, 3, 2, 1]"
      ]
     },
     "execution_count": 11,
     "metadata": {},
     "output_type": "execute_result"
    }
   ],
   "source": [
    "lst"
   ]
  },
  {
   "cell_type": "code",
   "execution_count": null,
   "id": "c309af76",
   "metadata": {},
   "outputs": [],
   "source": []
  }
 ],
 "metadata": {
  "kernelspec": {
   "display_name": "Python 3",
   "language": "python",
   "name": "python3"
  },
  "language_info": {
   "codemirror_mode": {
    "name": "ipython",
    "version": 3
   },
   "file_extension": ".py",
   "mimetype": "text/x-python",
   "name": "python",
   "nbconvert_exporter": "python",
   "pygments_lexer": "ipython3",
   "version": "3.8.8"
  }
 },
 "nbformat": 4,
 "nbformat_minor": 5
}
