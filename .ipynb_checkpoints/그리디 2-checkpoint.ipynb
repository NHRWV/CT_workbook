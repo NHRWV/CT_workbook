{
 "cells": [
  {
   "cell_type": "markdown",
   "id": "4c2ec1ae",
   "metadata": {},
   "source": [
    "https://www.acmicpc.net/problem/16287"
   ]
  },
  {
   "cell_type": "code",
   "execution_count": null,
   "id": "998ad5c8",
   "metadata": {},
   "outputs": [],
   "source": [
    "# parcel\n",
    "\n",
    "import sys\n",
    "\n",
    "w, n = map(int, input().split())\n",
    "seq = list(map(int, input().split()))\n",
    "\n",
    "dp = [0] * (w+1)\n",
    "\n",
    "for i in range(n):\n",
    "    for j in range(i+1, n):\n",
    "        if seq[i] + seq[j] > w:\n",
    "            continue\n",
    "        \n",
    "        if dp[w - seq[i] - seq[j]]:\n",
    "            print('YES')\n",
    "            sys.exit()\n",
    "            \n",
    "    for j in range(i):        \n",
    "        if seq[i] + seq[j] < w:\n",
    "            dp[seq[i] + seq[j]] = 1\n",
    "            \n",
    "print('NO')"
   ]
  },
  {
   "cell_type": "markdown",
   "id": "cfeeec17",
   "metadata": {},
   "source": [
    "https://www.acmicpc.net/problem/18186"
   ]
  },
  {
   "cell_type": "code",
   "execution_count": null,
   "id": "105ba6c1",
   "metadata": {},
   "outputs": [],
   "source": [
    "얼마나 연속되는지 확인하면 되나"
   ]
  },
  {
   "cell_type": "code",
   "execution_count": null,
   "id": "47d11b37",
   "metadata": {},
   "outputs": [],
   "source": [
    "\n",
    "\n",
    "n, b, c = map(int, input().split())\n",
    "seq = list(map(int, input().split()))\n",
    "\n"
   ]
  }
 ],
 "metadata": {
  "kernelspec": {
   "display_name": "Python 3",
   "language": "python",
   "name": "python3"
  },
  "language_info": {
   "codemirror_mode": {
    "name": "ipython",
    "version": 3
   },
   "file_extension": ".py",
   "mimetype": "text/x-python",
   "name": "python",
   "nbconvert_exporter": "python",
   "pygments_lexer": "ipython3",
   "version": "3.8.8"
  }
 },
 "nbformat": 4,
 "nbformat_minor": 5
}
