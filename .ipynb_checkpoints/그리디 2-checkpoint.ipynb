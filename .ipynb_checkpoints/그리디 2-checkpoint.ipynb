{
 "cells": [
  {
   "cell_type": "markdown",
   "id": "4c2ec1ae",
   "metadata": {},
   "source": [
    "https://www.acmicpc.net/problem/16287"
   ]
  },
  {
   "cell_type": "code",
   "execution_count": null,
   "id": "998ad5c8",
   "metadata": {},
   "outputs": [],
   "source": [
    "# parcel\n",
    "\n",
    "import sys\n",
    "\n",
    "w, n = map(int, input().split())\n",
    "seq = list(map(int, input().split()))\n",
    "\n",
    "dp = [0] * (w+1)\n",
    "\n",
    "for i in range(n):\n",
    "    for j in range(i+1, n):\n",
    "        if seq[i] + seq[j] > w:\n",
    "            continue\n",
    "        \n",
    "        if dp[w - seq[i] - seq[j]]:\n",
    "            print('YES')\n",
    "            sys.exit()\n",
    "            \n",
    "    for j in range(i):        \n",
    "        if seq[i] + seq[j] < w:\n",
    "            dp[seq[i] + seq[j]] = 1\n",
    "            \n",
    "print('NO')"
   ]
  },
  {
   "cell_type": "markdown",
   "id": "cfeeec17",
   "metadata": {},
   "source": [
    "https://www.acmicpc.net/problem/18186"
   ]
  },
  {
   "cell_type": "code",
   "execution_count": null,
   "id": "47d11b37",
   "metadata": {},
   "outputs": [],
   "source": [
    "# 라면 사기(Large)\n",
    "# 첫 도전 실패\n",
    "\n",
    "n, b, c = map(int, input().split())\n",
    "seq = list(map(int, input().split()))\n",
    "\n",
    "if b <= c:\n",
    "    print(sum(seq) * b)\n",
    "    \n",
    "else:\n",
    "    answer = 0\n",
    "    \n",
    "    for i in range(n):\n",
    "        if seq[i] > 0:\n",
    "            count = 0\n",
    "            j = 1\n",
    "            while j < 3 and i + j < n:\n",
    "                if seq[i] > seq[i + j]:\n",
    "                    break\n",
    "                    \n",
    "                count += 1\n",
    "                j += 1\n",
    "                \n",
    "            for k in range(1, count+1):    \n",
    "                seq[i + k] -= seq[i]\n",
    "                \n",
    "            answer += seq[i] * (b + count * c)\n",
    "            \n",
    "            seq[i] = 0\n",
    "            \n",
    "    print(answer)\n",
    "            "
   ]
  },
  {
   "cell_type": "code",
   "execution_count": 39,
   "id": "b9e94eed",
   "metadata": {},
   "outputs": [
    {
     "name": "stdout",
     "output_type": "stream",
     "text": [
      "4 3 2\n",
      "1 3 2 2\n",
      "19\n"
     ]
    }
   ],
   "source": [
    "n, b, c = map(int, input().split())\n",
    "seq = list(map(int, input().split())) + [0] * 5\n",
    "\n",
    "if b <= c:\n",
    "    print(sum(seq) * b)\n",
    "    \n",
    "else:\n",
    "    answer = 0\n",
    "    \n",
    "    for i in range(n):\n",
    "        if seq[i+1] > seq[i+2]:\n",
    "            value = min(seq[i], seq[i+1] - seq[i+2])\n",
    "            \n",
    "            seq[i] -= value\n",
    "            seq[i+1] -= value\n",
    "            answer += value * (b + c)\n",
    "            \n",
    "            value = min(seq[i], seq[i+1], seq[i+2])\n",
    "            \n",
    "            seq[i] -= value\n",
    "            seq[i+1] -= value\n",
    "            seq[i+2] -= value\n",
    "            answer += value * (b + 2 * c)\n",
    "            \n",
    "        else:\n",
    "            value = min(seq[i], seq[i+1], seq[i+2])\n",
    "            \n",
    "            seq[i] -= value\n",
    "            seq[i+1] -= value\n",
    "            seq[i+2] -= value\n",
    "            answer += value * (b + 2 * c)\n",
    "            \n",
    "            value = min(seq[i], seq[i+1])\n",
    "            \n",
    "            seq[i] -= value\n",
    "            seq[i+1] -= value\n",
    "            answer += value * (b + c)\n",
    "            \n",
    "        answer += b * seq[i]\n",
    "        seq[i] = 0\n",
    "        \n",
    "    print(answer)\n",
    "            "
   ]
  },
  {
   "cell_type": "code",
   "execution_count": 30,
   "id": "5bc05415",
   "metadata": {},
   "outputs": [
    {
     "data": {
      "text/plain": [
       "0"
      ]
     },
     "execution_count": 30,
     "metadata": {},
     "output_type": "execute_result"
    }
   ],
   "source": [
    "3 2 2\n",
    "1 0 1\n",
    "\n",
    "5 3 2\n",
    "1 1 1 0 2\n",
    "\n",
    "4 3 2\n",
    "1 3 2 2"
   ]
  },
  {
   "cell_type": "code",
   "execution_count": 31,
   "id": "6b25b503",
   "metadata": {},
   "outputs": [
    {
     "data": {
      "text/plain": [
       "14930521"
      ]
     },
     "execution_count": 31,
     "metadata": {},
     "output_type": "execute_result"
    }
   ],
   "source": [
    "count"
   ]
  },
  {
   "cell_type": "code",
   "execution_count": 18,
   "id": "e1ebe827",
   "metadata": {},
   "outputs": [
    {
     "data": {
      "text/plain": [
       "[0, 0, 0, 0, 0]"
      ]
     },
     "execution_count": 18,
     "metadata": {},
     "output_type": "execute_result"
    }
   ],
   "source": [
    "seq"
   ]
  },
  {
   "cell_type": "code",
   "execution_count": null,
   "id": "d0d17af2",
   "metadata": {},
   "outputs": [],
   "source": [
    "ramen[i]과   ramen[i+1]-ramen[i+2].  (위에서 ramen[i+1]이 더 큰지 확인했기때문에 항상 양수이다)\n",
    "\n",
    "둘 중 작은 값이 두 개 묶어 살 때 몇 번 사는지를 결정할 수 있다는 사실을 알아냈고\n",
    "\n",
    "그대로 구현했다."
   ]
  },
  {
   "cell_type": "code",
   "execution_count": null,
   "id": "548fe15f",
   "metadata": {},
   "outputs": [],
   "source": [
    "그런데 질문창에도 있는 대표적인 반례인 1 2 1 1 같은 경우에서는,\n",
    "\n",
    "세개 사고 0 1 0 1 이 되어\n",
    "\n",
    "총가격이 13이 되지만,\n",
    "\n",
    "두개사고 세개사는 경우에는\n",
    "\n",
    "1 2 1 1 -> 0 1 1 1 -> 0 0 0 0 으로 12만에 살 수 있다.\n",
    "\n",
    "그냥 seq[i+1] > seq[i+2]일 때 먼저 사게 하면 틀림"
   ]
  }
 ],
 "metadata": {
  "kernelspec": {
   "display_name": "Python 3",
   "language": "python",
   "name": "python3"
  },
  "language_info": {
   "codemirror_mode": {
    "name": "ipython",
    "version": 3
   },
   "file_extension": ".py",
   "mimetype": "text/x-python",
   "name": "python",
   "nbconvert_exporter": "python",
   "pygments_lexer": "ipython3",
   "version": "3.8.8"
  }
 },
 "nbformat": 4,
 "nbformat_minor": 5
}
