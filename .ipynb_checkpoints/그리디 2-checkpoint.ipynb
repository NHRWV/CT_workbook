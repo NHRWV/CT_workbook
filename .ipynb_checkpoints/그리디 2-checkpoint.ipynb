{
 "cells": [
  {
   "cell_type": "markdown",
   "id": "4c2ec1ae",
   "metadata": {},
   "source": [
    "https://www.acmicpc.net/problem/16287"
   ]
  },
  {
   "cell_type": "code",
   "execution_count": null,
   "id": "998ad5c8",
   "metadata": {},
   "outputs": [],
   "source": [
    "# parcel\n",
    "\n",
    "import sys\n",
    "\n",
    "w, n = map(int, input().split())\n",
    "seq = list(map(int, input().split()))\n",
    "\n",
    "dp = [0] * (w+1)\n",
    "\n",
    "for i in range(n):\n",
    "    for j in range(i+1, n):\n",
    "        if seq[i] + seq[j] > w:\n",
    "            continue\n",
    "        \n",
    "        if dp[w - seq[i] - seq[j]]:\n",
    "            print('YES')\n",
    "            sys.exit()\n",
    "            \n",
    "    for j in range(i):        \n",
    "        if seq[i] + seq[j] < w:\n",
    "            dp[seq[i] + seq[j]] = 1\n",
    "            \n",
    "print('NO')"
   ]
  },
  {
   "cell_type": "markdown",
   "id": "cfeeec17",
   "metadata": {},
   "source": [
    "https://www.acmicpc.net/problem/18186"
   ]
  },
  {
   "cell_type": "code",
   "execution_count": null,
   "id": "47d11b37",
   "metadata": {},
   "outputs": [],
   "source": [
    "# 라면 사기(Large)\n",
    "# 첫 도전 실패\n",
    "\n",
    "n, b, c = map(int, input().split())\n",
    "seq = list(map(int, input().split()))\n",
    "\n",
    "if b <= c:\n",
    "    print(sum(seq) * b)\n",
    "    \n",
    "else:\n",
    "    answer = 0\n",
    "    \n",
    "    for i in range(n):\n",
    "        if seq[i] > 0:\n",
    "            count = 0\n",
    "            j = 1\n",
    "            while j < 3 and i + j < n:\n",
    "                if seq[i] > seq[i + j]:\n",
    "                    break\n",
    "                    \n",
    "                count += 1\n",
    "                j += 1\n",
    "                \n",
    "            for k in range(1, count+1):    \n",
    "                seq[i + k] -= seq[i]\n",
    "                \n",
    "            answer += seq[i] * (b + count * c)\n",
    "            \n",
    "            seq[i] = 0\n",
    "            \n",
    "    print(answer)\n",
    "            "
   ]
  },
  {
   "cell_type": "code",
   "execution_count": null,
   "id": "b9e94eed",
   "metadata": {},
   "outputs": [],
   "source": [
    "n, b, c = map(int, input().split())\n",
    "seq = list(map(int, input().split())) + [0] * 5\n",
    "\n",
    "if b <= c:\n",
    "    print(sum(seq) * b)\n",
    "    \n",
    "else:\n",
    "    answer = 0\n",
    "    \n",
    "    for i in range(n):\n",
    "        if seq[i+1] > seq[i+2]:\n",
    "            value = min(seq[i], seq[i+1] - seq[i+2])\n",
    "            \n",
    "            seq[i] -= value\n",
    "            seq[i+1] -= value\n",
    "            answer += value * (b + c)\n",
    "            \n",
    "            value = min(seq[i], seq[i+1], seq[i+2])\n",
    "            \n",
    "            seq[i] -= value\n",
    "            seq[i+1] -= value\n",
    "            seq[i+2] -= value\n",
    "            answer += value * (b + 2 * c)\n",
    "            \n",
    "        else:\n",
    "            value = min(seq[i], seq[i+1], seq[i+2])\n",
    "            \n",
    "            seq[i] -= value\n",
    "            seq[i+1] -= value\n",
    "            seq[i+2] -= value\n",
    "            answer += value * (b + 2 * c)\n",
    "            \n",
    "            value = min(seq[i], seq[i+1])\n",
    "            \n",
    "            seq[i] -= value\n",
    "            seq[i+1] -= value\n",
    "            answer += value * (b + c)\n",
    "            \n",
    "        answer += b * seq[i]\n",
    "        seq[i] = 0\n",
    "        \n",
    "    print(answer)\n",
    "            "
   ]
  },
  {
   "cell_type": "markdown",
   "id": "94202481",
   "metadata": {},
   "source": [
    "https://www.acmicpc.net/problem/18185"
   ]
  },
  {
   "cell_type": "code",
   "execution_count": null,
   "id": "6db04096",
   "metadata": {},
   "outputs": [],
   "source": [
    "# 라면 사기 (Small)\n",
    "\n",
    "n = int(input())\n",
    "seq = list(map(int, input().split())) + [0] * 2\n",
    "\n",
    "\n",
    "answer = 0\n",
    "b = 3\n",
    "c = 2\n",
    "    \n",
    "for i in range(n):\n",
    "    if seq[i+1] > seq[i+2]:\n",
    "        value = min(seq[i], seq[i+1] - seq[i+2])\n",
    "            \n",
    "        seq[i] -= value\n",
    "        seq[i+1] -= value\n",
    "        answer += value * (b + c)\n",
    "            \n",
    "        value = min(seq[i], seq[i+1], seq[i+2])\n",
    "            \n",
    "        seq[i] -= value\n",
    "        seq[i+1] -= value\n",
    "        seq[i+2] -= value\n",
    "        answer += value * (b + 2 * c)\n",
    "            \n",
    "    else:\n",
    "        value = min(seq[i], seq[i+1], seq[i+2])\n",
    "            \n",
    "        seq[i] -= value\n",
    "        seq[i+1] -= value\n",
    "        seq[i+2] -= value\n",
    "        answer += value * (b + 2 * c)\n",
    "            \n",
    "        value = min(seq[i], seq[i+1])\n",
    "            \n",
    "        seq[i] -= value\n",
    "        seq[i+1] -= value\n",
    "        answer += value * (b + c)\n",
    "            \n",
    "    answer += b * seq[i]\n",
    "    seq[i] = 0\n",
    "        \n",
    "print(answer)"
   ]
  },
  {
   "cell_type": "markdown",
   "id": "ee87b53c",
   "metadata": {},
   "source": [
    "https://www.acmicpc.net/problem/5545"
   ]
  },
  {
   "cell_type": "code",
   "execution_count": null,
   "id": "4444dae5",
   "metadata": {},
   "outputs": [],
   "source": [
    "# 최고의 피자\n",
    "\n",
    "n = int(input())\n",
    "a, b = map(int, input().split())\n",
    "c = int(input())\n",
    "d = []\n",
    "\n",
    "for i in range(n):\n",
    "    d.append(int(input()))\n",
    "    \n",
    "d.sort(reverse = True)\n",
    "answer = c / a\n",
    "\n",
    "for i in range(1, n+1):\n",
    "    value = c + sum(d[:i])\n",
    "    price = a + b * i\n",
    "    \n",
    "    if answer < value / price:\n",
    "        answer = value / price\n",
    "        \n",
    "    else:\n",
    "        break\n",
    "        \n",
    "print(int(answer))"
   ]
  },
  {
   "cell_type": "markdown",
   "id": "8841f710",
   "metadata": {},
   "source": [
    "https://www.acmicpc.net/problem/1379"
   ]
  },
  {
   "cell_type": "code",
   "execution_count": null,
   "id": "3be81df5",
   "metadata": {},
   "outputs": [],
   "source": [
    "# 강의실 2\n",
    "\n",
    "import heapq\n",
    "\n",
    "\n",
    "n = int(input())\n",
    "\n",
    "lst = []\n",
    "for i in range(n):\n",
    "    num, s, e = map(int, input().split())\n",
    "    lst.append((s, e, num))\n",
    "    \n",
    "lst.sort()\n",
    "\n",
    "heap = []\n",
    "heapq.heappush(heap, (lst[0][1], 1)) # 두 번째 요소에 강의실 번호 저장\n",
    "\n",
    "num = [0] * n\n",
    "num[lst[0][2]-1] = 1\n",
    "\n",
    "for i in range(1, n):\n",
    "    if heap[0][0] > lst[i][0]:\n",
    "        heapq.heappush(heap, (lst[i][1], len(heap) + 1))\n",
    "        num[lst[i][2]-1] = len(heap)\n",
    "        \n",
    "    else:\n",
    "        num[lst[i][2]-1] = heap[0][1]\n",
    "        heapq.heappop(heap)\n",
    "        heapq.heappush(heap, (lst[i][1], num[lst[i][2]-1]))\n",
    "        \n",
    "        \n",
    "print(len(heap))\n",
    "for i in num:\n",
    "    print(i)"
   ]
  },
  {
   "cell_type": "code",
   "execution_count": 3,
   "id": "59b56b27",
   "metadata": {},
   "outputs": [
    {
     "data": {
      "text/plain": [
       "[1]"
      ]
     },
     "execution_count": 3,
     "metadata": {},
     "output_type": "execute_result"
    }
   ],
   "source": [
    "8\n",
    "6 15 21\n",
    "7 20 25\n",
    "1 3 8\n",
    "3 2 14\n",
    "8 6 27\n",
    "2 7 13\n",
    "4 12 18\n",
    "5 6 20"
   ]
  },
  {
   "cell_type": "code",
   "execution_count": 9,
   "id": "7578c5f7",
   "metadata": {},
   "outputs": [
    {
     "data": {
      "text/plain": [
       "[(2, 14, 3),\n",
       " (3, 8, 1),\n",
       " (6, 20, 5),\n",
       " (6, 27, 8),\n",
       " (7, 13, 2),\n",
       " (12, 18, 4),\n",
       " (15, 21, 6),\n",
       " (20, 25, 7)]"
      ]
     },
     "execution_count": 9,
     "metadata": {},
     "output_type": "execute_result"
    }
   ],
   "source": [
    "lst"
   ]
  },
  {
   "cell_type": "code",
   "execution_count": 7,
   "id": "08a7a1e3",
   "metadata": {},
   "outputs": [
    {
     "data": {
      "text/plain": [
       "[(2, 14), (3, 8), (6, 20), (6, 27), (7, 13), (12, 18), (15, 21), (20, 25)]"
      ]
     },
     "execution_count": 7,
     "metadata": {},
     "output_type": "execute_result"
    }
   ],
   "source": [
    "lst"
   ]
  },
  {
   "cell_type": "code",
   "execution_count": null,
   "id": "445b1833",
   "metadata": {},
   "outputs": [],
   "source": []
  }
 ],
 "metadata": {
  "kernelspec": {
   "display_name": "Python 3",
   "language": "python",
   "name": "python3"
  },
  "language_info": {
   "codemirror_mode": {
    "name": "ipython",
    "version": 3
   },
   "file_extension": ".py",
   "mimetype": "text/x-python",
   "name": "python",
   "nbconvert_exporter": "python",
   "pygments_lexer": "ipython3",
   "version": "3.8.8"
  }
 },
 "nbformat": 4,
 "nbformat_minor": 5
}
