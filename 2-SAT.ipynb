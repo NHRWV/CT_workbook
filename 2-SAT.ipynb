{
 "cells": [
  {
   "cell_type": "markdown",
   "id": "bbddf57a",
   "metadata": {},
   "source": [
    "https://www.acmicpc.net/problem/11280"
   ]
  },
  {
   "cell_type": "code",
   "execution_count": null,
   "id": "c90e96b5",
   "metadata": {},
   "outputs": [],
   "source": [
    "# 2-SAT - 3\n",
    "\n",
    "n, m = map(int, input().split())\n",
    "\n",
    "edge = [[] for i in range(2*n+1)]\n",
    "for i in range(m):\n",
    "    a, b = map(int, input().split())\n",
    "    edge[-a].append(b)\n",
    "    edge[-b].append(a)\n",
    "    \n",
    "    \n",
    "stack = []\n",
    "num = [0] * (2*n+1)\n",
    "count = 1\n",
    "check = [0] * (2*n+1)\n",
    "answer = []\n",
    "group = [0] * (2*n+1)\n",
    "scc_num = 1\n",
    "\n",
    "def sol(x):\n",
    "    global count, scc_num\n",
    "    \n",
    "    num[x] = count\n",
    "    stack.append(x)\n",
    "    \n",
    "    count += 1\n",
    "    head = num[x]\n",
    "    \n",
    "    for i in edge[x]:\n",
    "        if not num[i]:\n",
    "            head = min(head, sol(i))\n",
    "            \n",
    "        elif not check[i]:\n",
    "            head = min(head, num[i])\n",
    "            \n",
    "\n",
    "    if head == num[x]:\n",
    "        while True:\n",
    "            t = stack.pop()\n",
    "            check[t] = 1\n",
    "            group[t] = scc_num\n",
    "            \n",
    "            if t == x:\n",
    "                break\n",
    "            \n",
    "        scc_num += 1\n",
    "        \n",
    "    \n",
    "    return head\n",
    "        \n",
    "        \n",
    "for i in range(1, 2*n+1):\n",
    "    if not num[i]:\n",
    "        sol(i)\n",
    "        \n",
    "flag = 1\n",
    "for i in range(1, n+1):\n",
    "    if group[i] == group[-i]:\n",
    "        flag = 0\n",
    "        break\n",
    "        \n",
    "        \n",
    "print(1 if flag else 0)\n",
    "        "
   ]
  },
  {
   "cell_type": "markdown",
   "id": "3522623f",
   "metadata": {},
   "source": [
    "https://www.acmicpc.net/problem/11281"
   ]
  },
  {
   "cell_type": "code",
   "execution_count": null,
   "id": "c8a07d2b",
   "metadata": {},
   "outputs": [],
   "source": [
    "# 2-SAT - 4\n",
    "\n",
    "n, m = map(int, input().split())\n",
    "\n",
    "edge = [[] for i in range(2*n+1)]\n",
    "for i in range(m):\n",
    "    a, b = map(int, input().split())\n",
    "    edge[-a].append(b)\n",
    "    edge[-b].append(a)\n",
    "    \n",
    "    \n",
    "stack = []\n",
    "num = [0] * (2*n+1)\n",
    "count = 1\n",
    "check = [0] * (2*n+1)\n",
    "answer = []\n",
    "group = [0] * (2*n+1) # 소속된 SCC 그룹 기록.\n",
    "scc_num = 1\n",
    "\n",
    "def sol(x):\n",
    "    global count, scc_num\n",
    "    \n",
    "    num[x] = count\n",
    "    stack.append(x)\n",
    "    \n",
    "    count += 1\n",
    "    head = num[x]\n",
    "    \n",
    "    for i in edge[x]:\n",
    "        if not num[i]:\n",
    "            head = min(head, sol(i))\n",
    "            \n",
    "        elif not check[i]:\n",
    "            head = min(head, num[i])\n",
    "            \n",
    "\n",
    "    if head == num[x]:\n",
    "        while True:\n",
    "            t = stack.pop()\n",
    "            check[t] = 1\n",
    "            group[t] = scc_num\n",
    "            \n",
    "            if t == x:\n",
    "                break\n",
    "            \n",
    "        scc_num += 1\n",
    "        \n",
    "    \n",
    "    return head\n",
    "        \n",
    "        \n",
    "for i in range(1, 2*n+1):\n",
    "    if not num[i]:\n",
    "        sol(i)\n",
    "        \n",
    "flag = 1\n",
    "value = [0] * (n+1) # true로 만드는 x 논리값.\n",
    "\n",
    "for i in range(1, n+1):\n",
    "    if group[i] == group[-i]:\n",
    "        flag = 0\n",
    "        break\n",
    "        \n",
    "    # p -> q에서 p가 거짓이면 q의 값은 상관없게 된다. 따라서 먼저 방문하는 것을 0으로 둔다. \n",
    "    # 그리고 DFS 방문 순서의 역순으로 방문하면 SCC 단위 위상정렬 순서로 방문하게 된다.\n",
    "    # 결과적으로 그냥 차례대로 방문하면서 먼저 방문한 것을 1로 두었다.\n",
    "    elif group[i] < group[-i]:\n",
    "        value[i] = 1\n",
    "        \n",
    "        \n",
    "print(1 if flag else 0)\n",
    "if flag: print(*value[1:])\n"
   ]
  },
  {
   "cell_type": "markdown",
   "id": "1d369afc",
   "metadata": {},
   "source": [
    "https://www.acmicpc.net/problem/3648"
   ]
  },
  {
   "cell_type": "code",
   "execution_count": null,
   "id": "a59424e4",
   "metadata": {},
   "outputs": [],
   "source": [
    "# 아이돌\n",
    "\n",
    "import sys\n",
    "\n",
    "\n",
    "def sol(x):\n",
    "    global count, scc_num\n",
    "    \n",
    "    num[x] = count\n",
    "    count += 1\n",
    "    stack.append(x)\n",
    "    \n",
    "    head = num[x]\n",
    "    \n",
    "    for i in edge[x]:\n",
    "        if not num[i]:\n",
    "            head = min(head, sol(i))\n",
    "            \n",
    "        elif not check[i]:\n",
    "            head = min(head, num[i])\n",
    "            \n",
    "            \n",
    "    if head == num[x]:\n",
    "        while True:\n",
    "            t = stack.pop()\n",
    "            check[t] = 1\n",
    "            group[t] = scc_num\n",
    "            \n",
    "            if t == x:\n",
    "                break\n",
    "                \n",
    "        scc_num += 1\n",
    "        \n",
    "        \n",
    "    return head\n",
    "    \n",
    "\n",
    "while True:\n",
    "    try:\n",
    "        n, m = map(int, input().split())\n",
    "        \n",
    "        edge = [[] for _ in range(2*n+1)]\n",
    "        for i in range(m):\n",
    "            a, b = map(int, input().split())\n",
    "            edge[-a].append(b)\n",
    "            edge[-b].append(a)\n",
    "            \n",
    "        edge[-1].append(1)\n",
    "            \n",
    "            \n",
    "        stack = []\n",
    "        count = 1\n",
    "        scc_num = 1\n",
    "        \n",
    "        num = [0] * (2*n+1)\n",
    "        group = [0] * (2*n+1)\n",
    "        check = [0] * (2*n+1)\n",
    "        \n",
    "        \n",
    "        for i in range(1, 2*n+1):\n",
    "            if not num[i]:\n",
    "                sol(i)\n",
    "                \n",
    "                \n",
    "        flag = 1\n",
    "        for i in range(1, n+1):\n",
    "            if group[i] == group[-i]:\n",
    "                flag = 0\n",
    "                break\n",
    "                \n",
    "        print(\"yes\" if flag else \"no\")\n",
    "        \n",
    "        \n",
    "        \n",
    "    except:\n",
    "        break\n",
    "        "
   ]
  },
  {
   "cell_type": "markdown",
   "id": "91986281",
   "metadata": {},
   "source": [
    "https://www.acmicpc.net/problem/2207"
   ]
  },
  {
   "cell_type": "code",
   "execution_count": null,
   "id": "4d62cfa6",
   "metadata": {},
   "outputs": [],
   "source": [
    "# 가위바위보\n",
    "\n",
    "n, m = map(int, input().split())\n",
    "\n",
    "edge = [[] for _ in range(2*n+1)]\n",
    "for i in range(n):\n",
    "    a, b = map(int, input().split())\n",
    "    edge[-a].append(b)\n",
    "    edge[-b].append(a)\n",
    "    \n",
    "    \n",
    "stack = []\n",
    "count = 1\n",
    "scc_num = 1\n",
    "\n",
    "num = [0] * (2*n+1)\n",
    "check = [0] * (2*n+1)\n",
    "group = [0] * (2*n+1)\n",
    "\n",
    "def sol(x):\n",
    "    global count, scc_num\n",
    "    \n",
    "    num[x] = count\n",
    "    count += 1\n",
    "    \n",
    "    stack.append(x)\n",
    "    head = num[x]\n",
    "    \n",
    "    for i in edge[x]:\n",
    "        if not num[i]:\n",
    "            head = min(head, sol(i))\n",
    "            \n",
    "        elif not check[i]:\n",
    "            head = min(head, num[i])\n",
    "            \n",
    "            \n",
    "    if head == num[x]:\n",
    "        while True:\n",
    "            t = stack.pop()\n",
    "            check[t] = 1\n",
    "            group[t] = scc_num\n",
    "            \n",
    "            if t == x:\n",
    "                break\n",
    "                \n",
    "        scc_num += 1\n",
    "        \n",
    "    \n",
    "    return head\n",
    "\n",
    "\n",
    "for i in range(1, 2*n+1):\n",
    "    if not num[i]:\n",
    "        sol(i)\n",
    "        \n",
    "flag = 1\n",
    "for i in range(1, n+1):\n",
    "    if group[i] == group[-i]:\n",
    "        flag = 0\n",
    "        break\n",
    "        \n",
    "print(\"^_^\" if flag else \"OTL\")\n"
   ]
  },
  {
   "cell_type": "markdown",
   "id": "293bed41",
   "metadata": {},
   "source": [
    "https://www.acmicpc.net/problem/16367"
   ]
  },
  {
   "cell_type": "code",
   "execution_count": null,
   "id": "4982ccc6",
   "metadata": {},
   "outputs": [],
   "source": [
    "# TV Show Game\n",
    "\n",
    "k, n = map(int, input().split())\n",
    "\n",
    "edge = [[] for _ in range(2*k+1)]\n",
    "for i in range(n):\n",
    "    a, al, b, bl, c, cl = map(str, input().rstrip().split())\n",
    "    \n",
    "    a = int(a) if al == 'B' else -int(a)\n",
    "    b = int(b) if bl == 'B' else -int(b)\n",
    "    c = int(c) if cl == 'B' else -int(c)\n",
    "    \n",
    "    edge[-a].append(b)\n",
    "    edge[-b].append(a)\n",
    "    edge[-b].append(c)\n",
    "    edge[-c].append(b)\n",
    "    edge[-a].append(c)\n",
    "    edge[-c].append(a)\n",
    "    \n",
    "    \n",
    "count = 1\n",
    "scc_num = 1\n",
    "\n",
    "stack = []\n",
    "num = [0] * (2*k+1)\n",
    "check = [0] * (2*k+1)\n",
    "group = [0] * (2*k+1)\n",
    "\n",
    "\n",
    "def sol(x):\n",
    "    global count, scc_num\n",
    "    \n",
    "    num[x] = count\n",
    "    count += 1\n",
    "    \n",
    "    stack.append(x)\n",
    "    head = num[x]\n",
    "    \n",
    "    for i in edge[x]:\n",
    "        if not num[i]:\n",
    "            head = min(head, sol(i))\n",
    "            \n",
    "        elif not check[i]:\n",
    "            head = min(head, num[i])\n",
    "            \n",
    "            \n",
    "    if head == num[x]:\n",
    "        while True:\n",
    "            t = stack.pop()\n",
    "            check[t] = 1\n",
    "            group[t] = scc_num\n",
    "            \n",
    "            if t == x:\n",
    "                break\n",
    "                \n",
    "        scc_num += 1\n",
    "        \n",
    "        \n",
    "    return head\n",
    "\n",
    "\n",
    "for i in range(1, 2*k+1):\n",
    "    if not num[i]:\n",
    "        sol(i)\n",
    "        \n",
    "        \n",
    "flag = 1\n",
    "value = ['R'] * (k+1)\n",
    "\n",
    "for i in range(1, k+1):\n",
    "    if group[i] == group[-i]:\n",
    "        flag = 0\n",
    "        break\n",
    "        \n",
    "    elif group[i] < group[-i]:\n",
    "        value[i] = 'B'\n",
    "        \n",
    "\n",
    "print(-1 if not flag else \"\".join(value[1:]))\n",
    "        \n"
   ]
  },
  {
   "cell_type": "markdown",
   "id": "04753c8a",
   "metadata": {},
   "source": [
    "https://www.acmicpc.net/problem/3747"
   ]
  },
  {
   "cell_type": "code",
   "execution_count": 32,
   "id": "4a22290e",
   "metadata": {},
   "outputs": [
    {
     "name": "stdout",
     "output_type": "stream",
     "text": [
      "3 3  +1 +2  -1 +2  -1 -3\n",
      "1\n",
      "2 3  -1 +2  -1 -2  +1 -2\n",
      "1\n",
      "2 4  -1 +2  -1 -2  +1 -2  +1 +2\n",
      "0\n",
      "2 8  +1 +2  +2 +1  +1 -2  +1 -2  -2 +1  -1 +1  -2 -2  +1 -1\n",
      "1\n"
     ]
    }
   ],
   "source": [
    "# 완벽한 선거!\n",
    "\n",
    "\n",
    "def sol(x):\n",
    "    global count, scc_num\n",
    "    \n",
    "    num[x] = count\n",
    "    count += 1\n",
    "    \n",
    "    stack.append(x)\n",
    "    head = num[x]\n",
    "    \n",
    "    for i in edge[x]:\n",
    "        if not num[i]:\n",
    "            head = min(head, sol(i))\n",
    "            \n",
    "        elif not check[i]:\n",
    "            head = min(head, num[i])\n",
    "            \n",
    "            \n",
    "    if head == num[x]:\n",
    "        while True:\n",
    "            t = stack.pop()\n",
    "            check[t] = 1\n",
    "            group[t] = scc_num\n",
    "            \n",
    "            if t == x:\n",
    "                break\n",
    "                \n",
    "        scc_num += 1\n",
    "        \n",
    "        \n",
    "    return head\n",
    "\n",
    "\n",
    "while True:\n",
    "    try:\n",
    "        case = list(map(int, input().split()))\n",
    "        \n",
    "        n = case[0]\n",
    "        m = case[1]\n",
    "        case = case[2:]\n",
    "        \n",
    "        edge = [[] for _ in range(2*n+1)]\n",
    "        for i in range(0, 2*m, 2):\n",
    "            a = case[i]\n",
    "            b = case[i+1]\n",
    "            \n",
    "            edge[-a].append(b)\n",
    "            edge[-b].append(a)\n",
    "            \n",
    "            \n",
    "        stack = []\n",
    "        num = [0] * (2*n+1)\n",
    "        check = [0] * (2*n+1)\n",
    "        group = [0] * (2*n+1)\n",
    "            \n",
    "        count = 1\n",
    "        scc_num = 1\n",
    "        \n",
    "        for i in range(1, 2*n+1):\n",
    "            if not num[i]:\n",
    "                sol(i)\n",
    "                \n",
    "        \n",
    "        flag = 1\n",
    "        for i in range(1, n+1):\n",
    "            if group[i] == group[-i]:\n",
    "                flag = 0\n",
    "                break\n",
    "                \n",
    "        print(1 if flag else 0)\n",
    "        \n",
    "        \n",
    "        \n",
    "    except:\n",
    "        break\n",
    "        \n",
    "        "
   ]
  },
  {
   "cell_type": "code",
   "execution_count": null,
   "id": "89b9d842",
   "metadata": {},
   "outputs": [],
   "source": [
    "3 3  +1 +2  -1 +2  -1 -3\n",
    "2 3  -1 +2  -1 -2  +1 -2\n",
    "2 4  -1 +2  -1 -2  +1 -2  +1 +2\n",
    "2 8  +1 +2  +2 +1  +1 -2  +1 -2  -2 +1  -1 +1  -2 -2  +1 -1"
   ]
  },
  {
   "cell_type": "code",
   "execution_count": 24,
   "id": "79fef8f3",
   "metadata": {
    "scrolled": true
   },
   "outputs": [
    {
     "data": {
      "text/plain": [
       "[[], [], [1, 1], [1, 1], [2, 2, -2, -2]]"
      ]
     },
     "execution_count": 24,
     "metadata": {},
     "output_type": "execute_result"
    }
   ],
   "source": [
    "edge"
   ]
  },
  {
   "cell_type": "code",
   "execution_count": 31,
   "id": "03c636e5",
   "metadata": {},
   "outputs": [
    {
     "name": "stdout",
     "output_type": "stream",
     "text": [
      "0\n",
      "1 2\n",
      "2\n",
      "2 1\n",
      "4\n",
      "1 -2\n",
      "6\n",
      "1 -2\n",
      "8\n",
      "-2 1\n",
      "10\n",
      "-1 1\n",
      "12\n",
      "-2 -2\n",
      "14\n",
      "1 -1\n"
     ]
    }
   ],
   "source": [
    "for i in range(0, 2*m, 2):\n",
    "    a = case[i]\n",
    "    b = case[i+1]\n",
    "    print(i)\n",
    "    print(a, b)"
   ]
  },
  {
   "cell_type": "code",
   "execution_count": 25,
   "id": "b1a81308",
   "metadata": {},
   "outputs": [
    {
     "data": {
      "text/plain": [
       "2"
      ]
     },
     "execution_count": 25,
     "metadata": {},
     "output_type": "execute_result"
    }
   ],
   "source": [
    "n"
   ]
  },
  {
   "cell_type": "code",
   "execution_count": 29,
   "id": "93380ade",
   "metadata": {},
   "outputs": [
    {
     "data": {
      "text/plain": [
       "8"
      ]
     },
     "execution_count": 29,
     "metadata": {},
     "output_type": "execute_result"
    }
   ],
   "source": [
    "m"
   ]
  },
  {
   "cell_type": "code",
   "execution_count": 27,
   "id": "bdbd0b1a",
   "metadata": {
    "scrolled": true
   },
   "outputs": [
    {
     "data": {
      "text/plain": [
       "[1, 2, 2, 1, 1, -2, 1, -2, -2, 1, -1, 1, -2, -2, 1, -1]"
      ]
     },
     "execution_count": 27,
     "metadata": {},
     "output_type": "execute_result"
    }
   ],
   "source": [
    "case"
   ]
  },
  {
   "cell_type": "markdown",
   "id": "d9206100",
   "metadata": {},
   "source": [
    "https://www.acmicpc.net/problem/7535"
   ]
  },
  {
   "cell_type": "code",
   "execution_count": null,
   "id": "840c09fc",
   "metadata": {},
   "outputs": [],
   "source": [
    "# A Bug’s Life\n",
    "\n",
    "\n",
    "def sol(x):\n",
    "    global count, scc_num\n",
    "    \n",
    "    num[x] = count\n",
    "    count += 1\n",
    "    \n",
    "    stack.append(x)\n",
    "    head = num[x]\n",
    "    \n",
    "    for i in edge[x]:\n",
    "        if not num[i]:\n",
    "            head = min(head, sol(i))\n",
    "            \n",
    "        elif not check[i]:\n",
    "            head = min(head, num[i])\n",
    "            \n",
    "            \n",
    "    if head == num[x]:\n",
    "        while True:\n",
    "            t = stack.pop()\n",
    "            check[t] = 1\n",
    "            group[t] = scc_num\n",
    "            \n",
    "            if t == x:\n",
    "                break\n",
    "                \n",
    "        scc_num += 1\n",
    "        \n",
    "        \n",
    "    return head\n",
    "\n",
    "\n",
    "for i in range(int(input())):\n",
    "    n, m = map(int, input().split())\n",
    "    \n",
    "    edge = [[] for _ in range(2*n+1)]\n",
    "    \n",
    "    male = set()\n",
    "    female = set()\n",
    "    \n",
    "    for j in range(m):\n",
    "        a, b = map(int, input().split())\n",
    "            \n",
    "        edge[-a].append(b)\n",
    "        edge[a].append(-b)\n",
    "        edge[-b].append(a)\n",
    "        edge[b].append(-a)\n",
    "        \n",
    "        \n",
    "    stack = []\n",
    "    num = [0] * (2*n+1)\n",
    "    check = [0] * (2*n+1)\n",
    "    group = [0] * (2*n+1)\n",
    "    \n",
    "    count = 1\n",
    "    scc_num = 1\n",
    "    \n",
    "    for j in range(1, 2*n+1):\n",
    "        if not num[j]:\n",
    "            sol(j)\n",
    "            \n",
    "            \n",
    "    flag = 1\n",
    "    for j in range(1, n+1):\n",
    "        if group[j] == group[-j]:\n",
    "            flag = 0\n",
    "            break\n",
    "            \n",
    "    \n",
    "    print(f\"Scenario #{i + 1}:\")\n",
    "    print(\"No suspicious bugs found!\" if flag else \"Suspicious bugs found!\")\n",
    "    print()\n",
    "\n",
    "        "
   ]
  },
  {
   "cell_type": "markdown",
   "id": "a52fb4db",
   "metadata": {},
   "source": [
    "https://www.acmicpc.net/problem/16915"
   ]
  },
  {
   "cell_type": "code",
   "execution_count": 51,
   "id": "1b4d9e61",
   "metadata": {},
   "outputs": [
    {
     "name": "stdout",
     "output_type": "stream",
     "text": [
      "3 3\n",
      "1 0 1\n",
      "3 1 2 3\n"
     ]
    },
    {
     "ename": "ValueError",
     "evalue": "too many values to unpack (expected 3)",
     "output_type": "error",
     "traceback": [
      "\u001b[1;31m---------------------------------------------------------------------------\u001b[0m",
      "\u001b[1;31mValueError\u001b[0m                                Traceback (most recent call last)",
      "\u001b[1;32m<ipython-input-51-6c3e9740c69e>\u001b[0m in \u001b[0;36m<module>\u001b[1;34m\u001b[0m\n\u001b[0;32m      6\u001b[0m \u001b[0medge\u001b[0m \u001b[1;33m=\u001b[0m \u001b[1;33m[\u001b[0m\u001b[1;33m[\u001b[0m\u001b[1;33m]\u001b[0m \u001b[1;32mfor\u001b[0m \u001b[0m_\u001b[0m \u001b[1;32min\u001b[0m \u001b[0mrange\u001b[0m\u001b[1;33m(\u001b[0m\u001b[1;36m2\u001b[0m\u001b[1;33m*\u001b[0m\u001b[0mn\u001b[0m\u001b[1;33m+\u001b[0m\u001b[1;36m1\u001b[0m\u001b[1;33m)\u001b[0m\u001b[1;33m]\u001b[0m\u001b[1;33m\u001b[0m\u001b[1;33m\u001b[0m\u001b[0m\n\u001b[0;32m      7\u001b[0m \u001b[1;32mfor\u001b[0m \u001b[0mi\u001b[0m \u001b[1;32min\u001b[0m \u001b[0mrange\u001b[0m\u001b[1;33m(\u001b[0m\u001b[0mm\u001b[0m\u001b[1;33m)\u001b[0m\u001b[1;33m:\u001b[0m\u001b[1;33m\u001b[0m\u001b[1;33m\u001b[0m\u001b[0m\n\u001b[1;32m----> 8\u001b[1;33m     \u001b[0ma\u001b[0m\u001b[1;33m,\u001b[0m \u001b[0mb\u001b[0m\u001b[1;33m,\u001b[0m \u001b[0mc\u001b[0m \u001b[1;33m=\u001b[0m \u001b[0mmap\u001b[0m\u001b[1;33m(\u001b[0m\u001b[0mint\u001b[0m\u001b[1;33m,\u001b[0m \u001b[0minput\u001b[0m\u001b[1;33m(\u001b[0m\u001b[1;33m)\u001b[0m\u001b[1;33m.\u001b[0m\u001b[0msplit\u001b[0m\u001b[1;33m(\u001b[0m\u001b[1;33m)\u001b[0m\u001b[1;33m)\u001b[0m\u001b[1;33m\u001b[0m\u001b[1;33m\u001b[0m\u001b[0m\n\u001b[0m\u001b[0;32m      9\u001b[0m \u001b[1;33m\u001b[0m\u001b[0m\n\u001b[0;32m     10\u001b[0m     \u001b[1;32mif\u001b[0m \u001b[1;32mnot\u001b[0m \u001b[0mstate\u001b[0m\u001b[1;33m[\u001b[0m\u001b[0mb\u001b[0m\u001b[1;33m-\u001b[0m\u001b[1;36m1\u001b[0m\u001b[1;33m]\u001b[0m\u001b[1;33m:\u001b[0m\u001b[1;33m\u001b[0m\u001b[1;33m\u001b[0m\u001b[0m\n",
      "\u001b[1;31mValueError\u001b[0m: too many values to unpack (expected 3)"
     ]
    }
   ],
   "source": [
    "# 호텔 관리\n",
    "\n",
    "n, m = map(int, input().split())\n",
    "state = list(map(int, input().split()))\n",
    "\n",
    "edge = [[] for _ in range(2*n+1)]\n",
    "for i in range(m):\n",
    "    a, b, c = map(int, input().split())\n",
    "    \n",
    "    if not state[b-1]:\n",
    "        b = -b\n",
    "    if not state[c-1]:\n",
    "        c = -c\n",
    "        \n",
    "    edge[-b].append(c)\n",
    "    edge[-c].append(b)\n",
    "    \n",
    "    \n",
    "def sol(x):\n",
    "    global count, scc_num\n",
    "    \n",
    "    num[x] = count\n",
    "    count += 1\n",
    "    stack.append(x)\n",
    "    head = num[x]\n",
    "\n",
    "    for i in edge[x]:\n",
    "        if not num[i]:\n",
    "            head = min(head, sol(i))\n",
    "            \n",
    "        elif not check[i]:\n",
    "            head = min(head, num[i])\n",
    "            \n",
    "        \n",
    "    if head == num[x]:\n",
    "        while True:\n",
    "            t = stack.pop()\n",
    "            check[t] = 1\n",
    "            group[t] = scc_num\n",
    "            \n",
    "            if t == x:\n",
    "                break\n",
    "                \n",
    "        scc_num += 1\n",
    "        \n",
    "        \n",
    "    return head\n",
    "\n",
    "\n",
    "stack = []\n",
    "num = [0] * (2*n+1)\n",
    "check = [0] * (2*n+1)\n",
    "group = [0] * (2*n+1)\n",
    "\n",
    "count = 1\n",
    "scc_num = 1\n",
    "\n",
    "for i in range(1, 2*n+1):\n",
    "    if not num[i]:\n",
    "        sol(i)\n",
    "        \n",
    "        \n",
    "flag = 1\n",
    "for i in range(1, n+1):\n",
    "    if group[i] == group[-i]:\n",
    "        flag = 0\n",
    "        break\n",
    "        \n",
    "        \n",
    "print(1 if flag else 0)\n"
   ]
  },
  {
   "cell_type": "code",
   "execution_count": null,
   "id": "b2c2428b",
   "metadata": {},
   "outputs": [],
   "source": [
    "3 3\n",
    "1 0 1\n",
    "2 1 3\n",
    "2 1 2\n",
    "2 2 3\n",
    "\n",
    "3 3\n",
    "1 0 1\n",
    "3 1 2 3\n",
    "1 2\n",
    "2 1 3\n",
    "\n",
    "3 3\n",
    "1 0 1\n",
    "3 1 2 3\n",
    "2 1 2\n",
    "1 3"
   ]
  },
  {
   "cell_type": "code",
   "execution_count": null,
   "id": "3ca4205f",
   "metadata": {},
   "outputs": [],
   "source": []
  },
  {
   "cell_type": "code",
   "execution_count": null,
   "id": "d3cad6db",
   "metadata": {},
   "outputs": [],
   "source": []
  },
  {
   "cell_type": "markdown",
   "id": "d624def6",
   "metadata": {},
   "source": [
    "https://www.acmicpc.net/problem/15675"
   ]
  },
  {
   "cell_type": "code",
   "execution_count": null,
   "id": "0ca40594",
   "metadata": {},
   "outputs": [],
   "source": [
    "# 괴도 강산\n",
    "\n",
    "\n"
   ]
  },
  {
   "cell_type": "markdown",
   "id": "64bdf45f",
   "metadata": {},
   "source": [
    "https://www.acmicpc.net/problem/11668"
   ]
  },
  {
   "cell_type": "markdown",
   "id": "aad92a82",
   "metadata": {},
   "source": [
    "https://www.acmicpc.net/problem/3153"
   ]
  },
  {
   "cell_type": "code",
   "execution_count": 9,
   "id": "622fccc6",
   "metadata": {},
   "outputs": [
    {
     "data": {
      "text/plain": [
       "0"
      ]
     },
     "execution_count": 9,
     "metadata": {},
     "output_type": "execute_result"
    }
   ],
   "source": [
    "b"
   ]
  },
  {
   "cell_type": "code",
   "execution_count": 20,
   "id": "8bc40b47",
   "metadata": {},
   "outputs": [
    {
     "name": "stdout",
     "output_type": "stream",
     "text": [
      "1 2  2 3  3 4\n"
     ]
    }
   ],
   "source": [
    "a = list(map(int, input().split()))"
   ]
  },
  {
   "cell_type": "code",
   "execution_count": 21,
   "id": "49e5057d",
   "metadata": {},
   "outputs": [
    {
     "data": {
      "text/plain": [
       "[1, 2, 2, 3, 3, 4]"
      ]
     },
     "execution_count": 21,
     "metadata": {},
     "output_type": "execute_result"
    }
   ],
   "source": [
    "a"
   ]
  },
  {
   "cell_type": "code",
   "execution_count": 15,
   "id": "8f64daa8",
   "metadata": {},
   "outputs": [
    {
     "data": {
      "text/plain": [
       "1"
      ]
     },
     "execution_count": 15,
     "metadata": {},
     "output_type": "execute_result"
    }
   ],
   "source": [
    "a"
   ]
  },
  {
   "cell_type": "code",
   "execution_count": null,
   "id": "07dfbb74",
   "metadata": {},
   "outputs": [],
   "source": []
  }
 ],
 "metadata": {
  "kernelspec": {
   "display_name": "Python 3",
   "language": "python",
   "name": "python3"
  },
  "language_info": {
   "codemirror_mode": {
    "name": "ipython",
    "version": 3
   },
   "file_extension": ".py",
   "mimetype": "text/x-python",
   "name": "python",
   "nbconvert_exporter": "python",
   "pygments_lexer": "ipython3",
   "version": "3.8.8"
  }
 },
 "nbformat": 4,
 "nbformat_minor": 5
}
