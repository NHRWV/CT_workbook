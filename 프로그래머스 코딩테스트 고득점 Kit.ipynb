{
 "cells": [
  {
   "cell_type": "markdown",
   "id": "9303d687",
   "metadata": {},
   "source": [
    "## 해시\n",
    "\n",
    "\n",
    "### 완주하지 못한 선수"
   ]
  },
  {
   "cell_type": "code",
   "execution_count": 16,
   "id": "9640b9c7",
   "metadata": {},
   "outputs": [],
   "source": [
    "from collections import Counter\n",
    "def solution(participant, completion):\n",
    "    \n",
    "    counter1 = Counter(completion)\n",
    "    counter2 = Counter(participant)\n",
    "    a = counter2 - counter1\n",
    "    answer = list(a.keys())[0]\n",
    "    return answer"
   ]
  },
  {
   "cell_type": "code",
   "execution_count": 14,
   "id": "006a35fa",
   "metadata": {},
   "outputs": [],
   "source": [
    "participant = [\"leo\", \"kiki\", \"eden\"]\n",
    "completion = [\"eden\", \"kiki\"]"
   ]
  },
  {
   "cell_type": "code",
   "execution_count": null,
   "id": "dd67e604",
   "metadata": {},
   "outputs": [],
   "source": [
    "solution(participant, completion)"
   ]
  },
  {
   "cell_type": "code",
   "execution_count": 17,
   "id": "965a9a97",
   "metadata": {},
   "outputs": [],
   "source": [
    "counter1 = Counter(completion)\n",
    "counter2 = Counter(participant)\n",
    "a = counter2 - counter1\n",
    "answer = list(a.keys())[0]"
   ]
  },
  {
   "cell_type": "code",
   "execution_count": 21,
   "id": "36120b9a",
   "metadata": {},
   "outputs": [
    {
     "data": {
      "text/plain": [
       "Counter({'leo': 1})"
      ]
     },
     "execution_count": 21,
     "metadata": {},
     "output_type": "execute_result"
    }
   ],
   "source": [
    "a"
   ]
  },
  {
   "cell_type": "markdown",
   "id": "b7f3b129",
   "metadata": {},
   "source": [
    "### 전화번호 목록"
   ]
  },
  {
   "cell_type": "code",
   "execution_count": null,
   "id": "e875f2f0",
   "metadata": {},
   "outputs": [],
   "source": [
    "def solution(phone_book):\n",
    "    phone_book = sorted(phone_book)\n",
    "    answer = True\n",
    "    \n",
    "    check = 0\n",
    "    for i in range(len(phone_book) - 1):\n",
    "        if phone_book[i] == phone_book[i+1][:len(phone_book[i])]:\n",
    "            return False\n",
    "        \n",
    "    return answer"
   ]
  },
  {
   "cell_type": "markdown",
   "id": "9bbf9267",
   "metadata": {},
   "source": [
    "### 위장"
   ]
  },
  {
   "cell_type": "code",
   "execution_count": null,
   "id": "abaec5f0",
   "metadata": {},
   "outputs": [],
   "source": [
    "def solution(clothes):\n",
    "    lst = {}\n",
    "    \n",
    "    for i in clothes:\n",
    "        if i[1] not in lst:\n",
    "            lst[i[1]] = 1\n",
    "        \n",
    "        else:\n",
    "            lst[i[1]] += 1\n",
    "            \n",
    "    \n",
    "    count = 1\n",
    "    for i in lst.values():\n",
    "        count *= i + 1\n",
    "            \n",
    "    \n",
    "    return count - 1"
   ]
  },
  {
   "cell_type": "markdown",
   "id": "cf91b8cc",
   "metadata": {},
   "source": [
    "### 베스트앨범"
   ]
  },
  {
   "cell_type": "code",
   "execution_count": null,
   "id": "11f59ff1",
   "metadata": {},
   "outputs": [],
   "source": []
  },
  {
   "cell_type": "markdown",
   "id": "a190fa80",
   "metadata": {},
   "source": [
    "## 정렬\n",
    "\n",
    "### K번째수\n"
   ]
  },
  {
   "cell_type": "code",
   "execution_count": 4,
   "id": "d9b30276",
   "metadata": {},
   "outputs": [],
   "source": [
    "\n",
    "\n",
    "\n",
    "def solution(array, commands):\n",
    "    answer = []\n",
    "    \n",
    "    for x in commands:\n",
    "        i, j, k = x[0], x[1], x[2]\n",
    "    \n",
    "        target = array[i-1:j]\n",
    "        target.sort()\n",
    "        answer.append(target[k-1])\n",
    "    \n",
    "    \n",
    "    return answer"
   ]
  },
  {
   "cell_type": "markdown",
   "id": "e29475b7",
   "metadata": {},
   "source": [
    "### 가장 큰 수\n",
    "\n",
    "https://www.acmicpc.net/problem/16496"
   ]
  },
  {
   "cell_type": "code",
   "execution_count": 4,
   "id": "5b981014",
   "metadata": {},
   "outputs": [],
   "source": [
    "def solution(numbers):\n",
    "    numbers = list(map(str, numbers))\n",
    "    numbers.sort(key = lambda x : x * 3, reverse = True)\n",
    "    \n",
    "    return str(int(''.join(numbers)))"
   ]
  },
  {
   "cell_type": "code",
   "execution_count": null,
   "id": "1947745e",
   "metadata": {},
   "outputs": [],
   "source": [
    "numbers = [6, 10, 2]"
   ]
  },
  {
   "cell_type": "code",
   "execution_count": 3,
   "id": "0164b14b",
   "metadata": {},
   "outputs": [],
   "source": [
    "[3, 30, 34, 5, 9]"
   ]
  },
  {
   "cell_type": "code",
   "execution_count": 6,
   "id": "6ddabe2a",
   "metadata": {},
   "outputs": [
    {
     "data": {
      "text/plain": [
       "'6210'"
      ]
     },
     "execution_count": 6,
     "metadata": {},
     "output_type": "execute_result"
    }
   ],
   "source": [
    "solution(numbers)"
   ]
  },
  {
   "cell_type": "code",
   "execution_count": 10,
   "id": "a9731e64",
   "metadata": {},
   "outputs": [],
   "source": [
    "numbers = list(map(str, numbers))"
   ]
  },
  {
   "cell_type": "code",
   "execution_count": 11,
   "id": "d4feae03",
   "metadata": {},
   "outputs": [],
   "source": [
    "numbers.sort(key = lambda x : x * 3, reverse = True)"
   ]
  },
  {
   "cell_type": "code",
   "execution_count": 12,
   "id": "664a951f",
   "metadata": {},
   "outputs": [
    {
     "data": {
      "text/plain": [
       "['6', '2', '10']"
      ]
     },
     "execution_count": 12,
     "metadata": {},
     "output_type": "execute_result"
    }
   ],
   "source": [
    "numbers"
   ]
  },
  {
   "cell_type": "code",
   "execution_count": 13,
   "id": "29269034",
   "metadata": {},
   "outputs": [
    {
     "data": {
      "text/plain": [
       "'6210'"
      ]
     },
     "execution_count": 13,
     "metadata": {},
     "output_type": "execute_result"
    }
   ],
   "source": [
    "def solution(numbers):\n",
    "    if sum(numbers) == 0: \n",
    "        return '0'\n",
    "    \n",
    "    numbers = list(map(str, numbers))\n",
    "    numbers.sort(key = lambda x : x * 3, reverse = True)\n",
    "    \n",
    "    return ''.join(numbers)"
   ]
  },
  {
   "cell_type": "markdown",
   "id": "5e6402da",
   "metadata": {},
   "source": [
    "### H-Index"
   ]
  },
  {
   "cell_type": "code",
   "execution_count": 49,
   "id": "086ca4a7",
   "metadata": {},
   "outputs": [],
   "source": [
    "def solution(citations):\n",
    "    citations.sort(reverse = True)\n",
    "    \n",
    "    idx = 0\n",
    "    answer = idx\n",
    "    for i in range(len(citations)):\n",
    "        if citations[i] >= idx + 1:\n",
    "            answer = idx + 1\n",
    "            idx += 1\n",
    "            \n",
    "        else:\n",
    "            break\n",
    "\n",
    "    \n",
    "    return answer"
   ]
  },
  {
   "cell_type": "code",
   "execution_count": null,
   "id": "77db43a0",
   "metadata": {},
   "outputs": [],
   "source": [
    "# 다른 풀이\n",
    "\n",
    "def solution(citations):\n",
    "    h = 0\n",
    "    citations.sort()\n",
    "    for index in range(len(citations)):\n",
    "        h_index = [citation for citation in citations if citation>=h]\n",
    "        if len(h_index)>h and h<max(h_index):\n",
    "            h += 1\n",
    "        if len(h_index)<h:\n",
    "            h -= 1\n",
    "            break\n",
    "    return h"
   ]
  },
  {
   "cell_type": "markdown",
   "id": "bf733ff5",
   "metadata": {},
   "source": [
    " 1) min(index,value) 부분은 가능할 수 있는 모든 h-index를 추출하는 부분 \n",
    " \n",
    " 2) max(..) 값은 가능할 수 있는 모든 h-index 중 가장 큰 값을 추출하는 부분으로 생각하시면 됩니다. 예를들어 [6, 5, 4, 1, 0]의 경우에선 min 부분은 min(1, 6), min(2, 5), min(3, 4), min(4, 1), min(5, 0), 즉 해당 인용수 이상의 논문개수와 해당 논문의 인용수 중 더 작은 숫자를 고르는 작업을 하고(h-index로 가능한 숫자 추출), max~부분은 앞에서 골라진 (1, 2, 3, 1, 0) 중 가장 큰 숫자를 뽑아 실제 h-index를 구하는 방법"
   ]
  },
  {
   "cell_type": "code",
   "execution_count": null,
   "id": "fc4e584b",
   "metadata": {},
   "outputs": [],
   "source": [
    "def solution(citations):\n",
    "    citations.sort(reverse = True)\n",
    "    answer = max(map(min, enumerate(citations, start = 1)))\n",
    "    return answer"
   ]
  },
  {
   "cell_type": "markdown",
   "id": "4260d8a0",
   "metadata": {},
   "source": [
    "## 깊이/너비 우선 탐색(DFS/BFS)\n",
    "\n",
    "### 네트워크"
   ]
  },
  {
   "cell_type": "code",
   "execution_count": 61,
   "id": "29a542ac",
   "metadata": {},
   "outputs": [],
   "source": [
    "from collections import deque\n",
    "\n",
    "def check(x):\n",
    "    if visited[x]:\n",
    "        return False\n",
    "    \n",
    "    queue = deque([x])\n",
    "    visited[x] = 1\n",
    "    \n",
    "    while queue:\n",
    "        x = queue.popleft()\n",
    "        \n",
    "        for i in edge[x]:\n",
    "            if not visited[i]:\n",
    "                visited[i] = 1\n",
    "                queue.append(i)\n",
    "                \n",
    "    return True\n",
    "    \n",
    "\n",
    "\n",
    "\n",
    "def solution(n, computers):\n",
    "    global edge\n",
    "    global visited\n",
    "    \n",
    "    edge = [[] for _ in range(n)]\n",
    "    \n",
    "    for i in range(n-1):\n",
    "        for j in range(i+1, n):\n",
    "            if computers[i][j]:\n",
    "                edge[i].append(j)\n",
    "                edge[j].append(i)\n",
    "     \n",
    "    \n",
    "    visited = [0] * n\n",
    "    answer = 0            \n",
    "    for i in range(n):\n",
    "        if check(i):\n",
    "            answer += 1\n",
    "            \n",
    "    return answer"
   ]
  },
  {
   "cell_type": "markdown",
   "id": "0e02ab54",
   "metadata": {},
   "source": [
    "### 여행경로\n",
    "\n",
    "https://programmers.co.kr/learn/courses/30/lessons/43164"
   ]
  },
  {
   "cell_type": "code",
   "execution_count": 7,
   "id": "f4260dad",
   "metadata": {},
   "outputs": [],
   "source": [
    "from collections import defaultdict\n",
    "\n",
    "def solution(tickets):\n",
    "    edge = defaultdict(list)\n",
    "    for i, j in tickets:\n",
    "        edge[i].append(j)\n",
    "        \n",
    "    for i in edge:\n",
    "        edge[i].sort(reverse = True)\n",
    "        \n",
    "    \n",
    "    answer = []\n",
    "    stack = ['ICN']\n",
    "    while stack:\n",
    "        top = stack[-1]\n",
    "        \n",
    "        if top in stack and len(edge[top]):\n",
    "            stack.append(edge[top].pop())\n",
    "            \n",
    "        else:\n",
    "            answer.append(stack.pop())\n",
    "            \n",
    "            \n",
    "    \n",
    "    answer.reverse()\n",
    "    return answer"
   ]
  },
  {
   "cell_type": "markdown",
   "id": "89b7b5d7",
   "metadata": {},
   "source": [
    "## 동적계획법\n",
    "\n",
    "### N으로 표현"
   ]
  },
  {
   "cell_type": "code",
   "execution_count": null,
   "id": "075cb6bf",
   "metadata": {},
   "outputs": [],
   "source": [
    "def solution(N, number):\n",
    "    answer = 0\n",
    "    return answer"
   ]
  },
  {
   "cell_type": "markdown",
   "id": "0a2bdea3",
   "metadata": {},
   "source": [
    "### 정수 삼각형"
   ]
  },
  {
   "cell_type": "code",
   "execution_count": 3,
   "id": "206d902e",
   "metadata": {},
   "outputs": [],
   "source": [
    "from copy import deepcopy\n",
    "\n",
    "def solution(triangle):\n",
    "    copy = deepcopy(triangle)\n",
    "    \n",
    "    n = len(copy)\n",
    "    for i in range(n):\n",
    "        for j in range(i+1):\n",
    "            if j == 0:\n",
    "                left = 0\n",
    "            else:\n",
    "                left = copy[i-1][j-1]\n",
    "                \n",
    "            if j == i:\n",
    "                right = 0\n",
    "            else:\n",
    "                right = copy[i-1][j]\n",
    "                \n",
    "            \n",
    "            copy[i][j] = copy[i][j] + max(left, right)\n",
    "            \n",
    "    \n",
    "    answer = max(copy[n-1])\n",
    "    return answer"
   ]
  },
  {
   "cell_type": "markdown",
   "id": "e46f9854",
   "metadata": {},
   "source": [
    "### 등굣길"
   ]
  },
  {
   "cell_type": "code",
   "execution_count": null,
   "id": "24ff9de5",
   "metadata": {},
   "outputs": [],
   "source": [
    "# 이 코드 제출해서 실패.\n",
    "\n",
    "def solution(m, n, puddles):\n",
    "    dp = [[0] * m for _ in range(n)]\n",
    "    \n",
    "    for puddle in puddles:\n",
    "        dp[puddle[1]-1][puddle[0]-1] = -1\n",
    "        \n",
    "    for i in range(n):\n",
    "        for j in range(m):\n",
    "            if dp[i][j] == -1:\n",
    "                continue\n",
    "                \n",
    "            if i == 0 or j == 0:\n",
    "                dp[i][j] = 1\n",
    "                \n",
    "            else:\n",
    "                left = dp[i][j-1] if dp[i][j-1] != -1 else 0\n",
    "                up = dp[i-1][j] if dp[i-1][j] != -1 else 0\n",
    "                \n",
    "                dp[i][j] = left + up\n",
    "                \n",
    "                \n",
    "    answer = dp[n-1][m-1] % 1000000007\n",
    "    return answer"
   ]
  },
  {
   "cell_type": "code",
   "execution_count": 20,
   "id": "7fdb76b8",
   "metadata": {},
   "outputs": [],
   "source": [
    "# 이것도 틀렸다.\n",
    "\n",
    "def solution(m, n, puddles):\n",
    "    dp = [[0] * m for _ in range(n)]\n",
    "    \n",
    "    puddles = set(tuple(puddle) for puddle in puddles)\n",
    "        \n",
    "    for i in range(n):\n",
    "        for j in range(m):\n",
    "            if (j+1, i+1) in puddles:\n",
    "                dp[i][j] = 0\n",
    "                \n",
    "            elif i == 0 or j == 0:\n",
    "                dp[i][j] = 1\n",
    "                \n",
    "            else:\n",
    "                left = dp[i][j-1]\n",
    "                up = dp[i-1][j]\n",
    "                \n",
    "                dp[i][j] = left + up\n",
    "                \n",
    "                \n",
    "    answer = dp[n-1][m-1] % 1000000007\n",
    "    return answer"
   ]
  },
  {
   "cell_type": "code",
   "execution_count": 45,
   "id": "590d1d84",
   "metadata": {},
   "outputs": [],
   "source": [
    "# 통과\n",
    "# 보니까 만약에 집 오른쪽과 아래에 웅덩이가 있다면 애초에 이동이 불가하다. 그러니 맨 첫 행과 열이라 해도 1이라고 확정할 수 없다.\n",
    "\n",
    "def solution(m, n, puddles):\n",
    "    dp = [[0] * (m+1) for _ in range(n+1)]\n",
    "    puddles = set(tuple(puddle) for puddle in puddles)\n",
    "        \n",
    "    for i in range(1, n+1):\n",
    "        for j in range(1, m+1):\n",
    "            if i == 1 and j == 1:\n",
    "                dp[i][j] = 1\n",
    "                continue\n",
    "        \n",
    "            if (j, i) in puddles:\n",
    "                dp[i][j] = 0\n",
    "                continue\n",
    "                \n",
    "                \n",
    "            left = dp[i][j-1]\n",
    "            up = dp[i-1][j]\n",
    "            \n",
    "            dp[i][j] = left + up\n",
    "                \n",
    "                \n",
    "    answer = dp[n][m] % 1000000007\n",
    "    return answer"
   ]
  },
  {
   "cell_type": "markdown",
   "id": "64e26a23",
   "metadata": {},
   "source": [
    "### 도둑질"
   ]
  },
  {
   "cell_type": "code",
   "execution_count": 44,
   "id": "f8e1dbe4",
   "metadata": {},
   "outputs": [
    {
     "data": {
      "text/plain": [
       "[[0, 0, 0, 0, 0], [0, 1, 1, 1, 1], [0, 1, 0, 1, 2], [0, 1, 1, 2, 4]]"
      ]
     },
     "execution_count": 44,
     "metadata": {},
     "output_type": "execute_result"
    }
   ],
   "source": [
    "def solution(money):\n",
    "    \n",
    "    \n",
    "    answer = 0\n",
    "    return answer\n",
    "\n"
   ]
  },
  {
   "cell_type": "markdown",
   "id": "c1e67f49",
   "metadata": {},
   "source": [
    "## 탐욕법\n",
    "\n",
    "### 체육복\n"
   ]
  },
  {
   "cell_type": "code",
   "execution_count": null,
   "id": "60654ef2",
   "metadata": {},
   "outputs": [],
   "source": [
    "def solution(n, lost, reserve):\n",
    "    reserve = set(reserve)\n",
    "    \n",
    "    for i in lost:\n",
    "        if i in reserve:\n",
    "            reserve.remove(i)\n",
    "    \n",
    "    for i in lost:\n",
    "        if i-1 not in reserve and i+1 not in reserve:\n",
    "            n -= 1\n",
    "        \n",
    "        else:\n",
    "            if i-1 in reserve:\n",
    "                reserve.remove(i-1)\n",
    "                \n",
    "            elif i+1 in reserve:\n",
    "                reserve.remove(i+1)\n",
    "\n",
    "\n",
    "    return n"
   ]
  },
  {
   "cell_type": "markdown",
   "id": "5261deaf",
   "metadata": {},
   "source": [
    "### 큰 수 만들기\n",
    "\n",
    "백준의 '크게 만들기' 문제와 같다."
   ]
  },
  {
   "cell_type": "code",
   "execution_count": 4,
   "id": "25a33ffd",
   "metadata": {},
   "outputs": [],
   "source": [
    "from collections import deque\n",
    "\n",
    "def solution(number, k):\n",
    "    count = 0\n",
    "    queue = deque()\n",
    "\n",
    "    for i in range(len(number)):\n",
    "        while queue and count < k and queue[-1] < number[i]:\n",
    "            queue.pop()\n",
    "            count += 1\n",
    "        \n",
    "        queue.append(number[i])\n",
    "\n",
    "    \n",
    "    answer = \"\".join(list(queue)[:len(number) - k])\n",
    "    return answer"
   ]
  },
  {
   "cell_type": "markdown",
   "id": "0b9cd9f5",
   "metadata": {},
   "source": [
    "### 구명보트\n"
   ]
  },
  {
   "cell_type": "code",
   "execution_count": null,
   "id": "5ea17189",
   "metadata": {},
   "outputs": [],
   "source": [
    "def solution(people, limit):\n",
    "    answer = 0\n",
    "    return answer"
   ]
  },
  {
   "cell_type": "markdown",
   "id": "04b49b63",
   "metadata": {},
   "source": [
    "### 기능개발"
   ]
  },
  {
   "cell_type": "code",
   "execution_count": 22,
   "id": "0aeb94e2",
   "metadata": {},
   "outputs": [],
   "source": [
    "progresses = [93, 30, 55]\n",
    "speeds = [1, 30, 5]"
   ]
  },
  {
   "cell_type": "code",
   "execution_count": 29,
   "id": "f8d3816e",
   "metadata": {},
   "outputs": [],
   "source": [
    "import math\n",
    "from collections import defaultdict\n",
    "\n",
    "lst = []\n",
    "n = len(speeds)\n",
    "for i in range(n):\n",
    "    a = math.ceil((100 - progresses[i]) / speeds[i])\n",
    "    lst.append(a)\n",
    "        \n",
    "std = 0\n",
    "temp = defaultdict(int)\n",
    "    \n",
    "for i in range(n):\n",
    "    if lst[i] > std:\n",
    "        std = lst[i]\n",
    "        temp[std] += 1\n",
    "    else:\n",
    "        temp[std] += 1\n",
    "            \n",
    "answer = []\n",
    "for i in temp.values():\n",
    "    answer.append(i)\n",
    "    \n",
    "        \n"
   ]
  },
  {
   "cell_type": "code",
   "execution_count": 27,
   "id": "17569c6f",
   "metadata": {},
   "outputs": [
    {
     "data": {
      "text/plain": [
       "defaultdict(int, {7: 2, 9: 1})"
      ]
     },
     "execution_count": 27,
     "metadata": {},
     "output_type": "execute_result"
    }
   ],
   "source": [
    "temp"
   ]
  },
  {
   "cell_type": "code",
   "execution_count": 28,
   "id": "017de400",
   "metadata": {},
   "outputs": [
    {
     "data": {
      "text/plain": [
       "[7, 3, 9]"
      ]
     },
     "execution_count": 28,
     "metadata": {},
     "output_type": "execute_result"
    }
   ],
   "source": [
    "lst"
   ]
  },
  {
   "cell_type": "code",
   "execution_count": 30,
   "id": "f707600d",
   "metadata": {},
   "outputs": [
    {
     "data": {
      "text/plain": [
       "[2, 1]"
      ]
     },
     "execution_count": 30,
     "metadata": {},
     "output_type": "execute_result"
    }
   ],
   "source": [
    "answer"
   ]
  },
  {
   "cell_type": "code",
   "execution_count": null,
   "id": "7f3556e6",
   "metadata": {},
   "outputs": [],
   "source": []
  }
 ],
 "metadata": {
  "kernelspec": {
   "display_name": "Python 3",
   "language": "python",
   "name": "python3"
  },
  "language_info": {
   "codemirror_mode": {
    "name": "ipython",
    "version": 3
   },
   "file_extension": ".py",
   "mimetype": "text/x-python",
   "name": "python",
   "nbconvert_exporter": "python",
   "pygments_lexer": "ipython3",
   "version": "3.8.8"
  }
 },
 "nbformat": 4,
 "nbformat_minor": 5
}
