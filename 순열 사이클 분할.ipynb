{
 "cells": [
  {
   "cell_type": "markdown",
   "id": "b37a7dbc",
   "metadata": {},
   "source": [
    "https://www.acmicpc.net/problem/10451"
   ]
  },
  {
   "cell_type": "code",
   "execution_count": null,
   "id": "7e642814",
   "metadata": {},
   "outputs": [],
   "source": [
    "# 순열 사이클\n",
    "\n",
    "import sys\n",
    "sys.setrecursionlimit(int(1e6))\n",
    "\n",
    "t = int(input())\n",
    "\n",
    "def sol(x):\n",
    "    visited[x] = 1\n",
    "    \n",
    "    if not visited[lst[x-1]]:\n",
    "        sol(lst[x-1])\n",
    "\n",
    "\n",
    "for _ in range(t):\n",
    "    n = int(input())\n",
    "    lst = list(map(int, input().split()))\n",
    "    \n",
    "    answer = 0\n",
    "    visited = [0] * (n+1)\n",
    "    \n",
    "    for i in range(1, n+1):\n",
    "        if not visited[i]:\n",
    "            sol(i)\n",
    "            answer += 1\n",
    "            \n",
    "    print(answer)\n",
    "    \n",
    "    \n",
    "    "
   ]
  },
  {
   "cell_type": "markdown",
   "id": "ce405ce3",
   "metadata": {},
   "source": [
    "https://www.acmicpc.net/problem/2569"
   ]
  },
  {
   "cell_type": "code",
   "execution_count": null,
   "id": "a61ad8b3",
   "metadata": {},
   "outputs": [],
   "source": [
    "# 짐정리\n",
    "\n",
    "n = int(input())\n",
    "\n",
    "weight = []\n",
    "for i in range(n):\n",
    "    weight.append((int(input()), i))\n",
    "    \n",
    "weight.sort()\n",
    "\n",
    "answer = 0\n",
    "visited = [0] * n\n",
    "\n",
    "for i in range(n):\n",
    "    if visited[i]:\n",
    "        continue\n",
    "        \n",
    "    cycle = 0\n",
    "    nxt = i\n",
    "    \n",
    "    while not visited[nxt]:\n",
    "        print(i, nxt, weight[nxt][0])\n",
    "        visited[nxt] = 1\n",
    "        answer += weight[nxt][0]\n",
    "        cycle += 1\n",
    "        nxt = weight[nxt][1]\n",
    "    print(cycle)\n",
    "    print(weight[0][0] * (cycle + 1) + weight[i][0], weight[i][0] * (cycle - 2))\n",
    "    answer += min(weight[0][0] * (cycle + 1) + weight[i][0], weight[i][0] * (cycle - 2))\n",
    "    print()\n",
    "    \n",
    "print(answer)\n",
    "\n",
    "\n",
    "# case 1\n",
    "# Check only non-sorted cyclic vertices.\n",
    "# 4 2 1 3 -> check (1, 3, 4) -> (1 + 3) + (1 + 4) = 9\n",
    "\n",
    "# case 2\n",
    "# Check a vertex having minimum value in the graph and non-sorted cyclic vertices.\n",
    "# 1 8 9 7 6 -> check (1) and (6, 7, 8, 9) -> (1 + 6) + (1 + 9) + (1 + 7) + (1 + 8) + (1 + 6) = 41\n",
    "\n",
    "#테케는 (2, 5, 10)과 (8)로 분할됨. 노드 최솟값(weight[i][0])이 위치를 바꿔야 하는 것인지 여부가 중요."
   ]
  },
  {
   "cell_type": "markdown",
   "id": "6a0e3330",
   "metadata": {},
   "source": [
    "https://www.acmicpc.net/problem/1851"
   ]
  },
  {
   "cell_type": "code",
   "execution_count": null,
   "id": "acbbbd3a",
   "metadata": {},
   "outputs": [],
   "source": [
    "# 추 정렬하기\n",
    "\n",
    "n = int(input())\n",
    "\n",
    "weight = []\n",
    "for i in range(n):\n",
    "    weight.append((int(input()), i))\n",
    "    \n",
    "weight.sort()\n",
    "\n",
    "answer = 0\n",
    "visited = [0] * n\n",
    "\n",
    "for i in range(n):\n",
    "    if visited[i]:\n",
    "        continue\n",
    "        \n",
    "    cycle = 0\n",
    "    nxt = i\n",
    "    \n",
    "    while not visited[nxt]:\n",
    "        visited[nxt] = 1\n",
    "        answer += weight[nxt][0]\n",
    "        cycle += 1\n",
    "        nxt = weight[nxt][1]\n",
    "    \n",
    "    answer += min(weight[0][0] * (cycle + 1) + weight[i][0], weight[i][0] * (cycle - 2))\n",
    "    \n",
    "    \n",
    "print(answer)\n"
   ]
  },
  {
   "cell_type": "markdown",
   "id": "cb96ff62",
   "metadata": {},
   "source": [
    "https://www.acmicpc.net/problem/2322"
   ]
  },
  {
   "cell_type": "code",
   "execution_count": null,
   "id": "e59339c4",
   "metadata": {},
   "outputs": [],
   "source": [
    "n = int(input())\n",
    "\n",
    "weight = []\n",
    "for idx, i in enumerate(map(int, input().split())):\n",
    "    weight.append((i, idx))\n",
    "    \n",
    "weight.sort()\n",
    "\n",
    "answer = 0\n",
    "visited = [0] * n\n",
    "\n",
    "for i in range(n):\n",
    "    if visited[i]:\n",
    "        continue\n",
    "        \n",
    "    cycle = 0\n",
    "    nxt = i\n",
    "    \n",
    "    while not visited[nxt]:\n",
    "        visited[nxt] = 1\n",
    "        answer += weight[nxt][0]\n",
    "        cycle += 1\n",
    "        nxt = weight[nxt][1]\n",
    "    \n",
    "    answer += min(weight[i][0] * (cycle - 2), weight[0][0] * (cycle + 1) + weight[i][0])\n",
    "    \n",
    "    \n",
    "print(answer)\n"
   ]
  },
  {
   "cell_type": "markdown",
   "id": "7b7278f1",
   "metadata": {},
   "source": [
    "https://www.acmicpc.net/problem/6223"
   ]
  },
  {
   "cell_type": "code",
   "execution_count": null,
   "id": "ce8ce55b",
   "metadata": {},
   "outputs": [],
   "source": [
    "n = int(input())\n",
    "\n",
    "weight = []\n",
    "for i in range(n):\n",
    "    weight.append((int(input()), i))\n",
    "    \n",
    "weight.sort()\n",
    "\n",
    "answer = 0\n",
    "visited = [0] * n\n",
    "\n",
    "for i in range(n):\n",
    "    if visited[i]:\n",
    "        continue\n",
    "        \n",
    "    cycle = 0\n",
    "    nxt = i\n",
    "    \n",
    "    while not visited[nxt]:\n",
    "        visited[nxt] = 1\n",
    "        answer += weight[nxt][0]\n",
    "        cycle += 1\n",
    "        nxt = weight[nxt][1]\n",
    "    \n",
    "    answer += min(weight[i][0] * (cycle - 2), weight[0][0] * (cycle + 1) + weight[i][0])\n",
    "    \n",
    "    \n",
    "print(answer)"
   ]
  },
  {
   "cell_type": "markdown",
   "id": "f5acb5ee",
   "metadata": {},
   "source": [
    "https://www.acmicpc.net/problem/8172"
   ]
  },
  {
   "cell_type": "code",
   "execution_count": 39,
   "id": "2ec35afb",
   "metadata": {},
   "outputs": [
    {
     "name": "stdout",
     "output_type": "stream",
     "text": [
      "3\n",
      "1 5 3\n",
      "1 2 3\n",
      "2 3 1\n",
      "14\n"
     ]
    }
   ],
   "source": [
    "n = int(input())\n",
    "\n",
    "\n",
    "\n",
    "temp = list(map(int, input().split()))\n",
    "    \n",
    "weight = []\n",
    "for idx, i in enumerate(map(int, input().split())):\n",
    "    weight.append((temp[i-1], idx, i-1))\n",
    "    \n",
    "    \n",
    "weight.sort(key = lambda x : x[2])\n",
    "\n",
    "lst = []\n",
    "for i in map(int, input().split()):\n",
    "    lst.append(weight[i-1])\n",
    "    \n",
    "    \n",
    "answer = 0\n",
    "visited = [0] * n\n",
    "\n",
    "for i in range(n):\n",
    "    if visited[i]:\n",
    "        continue\n",
    "        \n",
    "    cycle = 0\n",
    "    nxt = i\n",
    "    \n",
    "    while not visited[nxt]:\n",
    "        visited[nxt] = 1\n",
    "        answer += lst[nxt][0]\n",
    "        cycle += 1\n",
    "        nxt = lst[nxt][1]\n",
    "    \n",
    "    answer += min(lst[i][0] * (cycle - 2), lst[0][0] * (cycle + 1) + lst[i][0])\n",
    "    \n",
    "    \n",
    "print(answer)\n"
   ]
  },
  {
   "cell_type": "code",
   "execution_count": null,
   "id": "f03bad58",
   "metadata": {},
   "outputs": [],
   "source": [
    "6\n",
    "2400 2000 1200 2400 1600 4000\n",
    "1 4 5 3 6 2\n",
    "5 3 2 4 6 1"
   ]
  },
  {
   "cell_type": "code",
   "execution_count": 40,
   "id": "3d7bc08b",
   "metadata": {},
   "outputs": [
    {
     "data": {
      "text/plain": [
       "[1, 5, 3]"
      ]
     },
     "execution_count": 40,
     "metadata": {},
     "output_type": "execute_result"
    }
   ],
   "source": [
    "temp"
   ]
  },
  {
   "cell_type": "code",
   "execution_count": 41,
   "id": "52f12ca0",
   "metadata": {},
   "outputs": [
    {
     "data": {
      "text/plain": [
       "[(1, 0, 0), (5, 1, 1), (3, 2, 2)]"
      ]
     },
     "execution_count": 41,
     "metadata": {},
     "output_type": "execute_result"
    }
   ],
   "source": [
    "weight"
   ]
  },
  {
   "cell_type": "code",
   "execution_count": 42,
   "id": "ea5c9f52",
   "metadata": {},
   "outputs": [
    {
     "data": {
      "text/plain": [
       "[(5, 1, 1), (3, 2, 2), (1, 0, 0)]"
      ]
     },
     "execution_count": 42,
     "metadata": {},
     "output_type": "execute_result"
    }
   ],
   "source": [
    "lst"
   ]
  },
  {
   "cell_type": "code",
   "execution_count": 43,
   "id": "bd49256a",
   "metadata": {},
   "outputs": [
    {
     "data": {
      "text/plain": [
       "[(1, 0, 0), (5, 1, 1), (3, 2, 2)]"
      ]
     },
     "execution_count": 43,
     "metadata": {},
     "output_type": "execute_result"
    }
   ],
   "source": [
    "weight"
   ]
  },
  {
   "cell_type": "code",
   "execution_count": 44,
   "id": "17e8af0e",
   "metadata": {},
   "outputs": [
    {
     "data": {
      "text/plain": [
       "[(5, 1, 1), (3, 2, 2), (1, 0, 0)]"
      ]
     },
     "execution_count": 44,
     "metadata": {},
     "output_type": "execute_result"
    }
   ],
   "source": [
    "lst"
   ]
  },
  {
   "cell_type": "code",
   "execution_count": 73,
   "id": "15adaa34",
   "metadata": {},
   "outputs": [
    {
     "name": "stdout",
     "output_type": "stream",
     "text": [
      "6\n",
      "2400 2000 1200 2400 1600 4000\n",
      "1 4 5 3 6 2\n",
      "5 3 2 4 6 1\n"
     ]
    }
   ],
   "source": [
    "n = int(input())\n",
    "\n",
    "temp = list(map(int, input().split()))\n",
    "weight = list(map(int, input().split()))\n",
    "lst = list(map(int, input().split()))\n",
    "\n",
    "dic = {}\n",
    "for i in range(n):\n",
    "    dic[lst[i]] = i\n",
    "    \n",
    "temp = [temp[lst[i]-1] for i in range(n)]\n",
    "weight = [dic[weight[i]] for i in range(n)]\n",
    "lst = [dic[lst[i]] for i in range(n)]\n",
    "\n",
    "\n",
    "info = []\n",
    "for i in range(n):\n",
    "    info.append((temp[i], weight[i]))"
   ]
  },
  {
   "cell_type": "code",
   "execution_count": 74,
   "id": "50eca2d2",
   "metadata": {},
   "outputs": [
    {
     "data": {
      "text/plain": [
       "{5: 0, 3: 1, 2: 2, 4: 3, 6: 4, 1: 5}"
      ]
     },
     "execution_count": 74,
     "metadata": {},
     "output_type": "execute_result"
    }
   ],
   "source": [
    "dic"
   ]
  },
  {
   "cell_type": "code",
   "execution_count": 75,
   "id": "330b83db",
   "metadata": {},
   "outputs": [
    {
     "data": {
      "text/plain": [
       "[1600, 1200, 2000, 2400, 4000, 2400]"
      ]
     },
     "execution_count": 75,
     "metadata": {},
     "output_type": "execute_result"
    }
   ],
   "source": [
    "temp"
   ]
  },
  {
   "cell_type": "code",
   "execution_count": 76,
   "id": "cf0682fb",
   "metadata": {},
   "outputs": [
    {
     "data": {
      "text/plain": [
       "[5, 3, 0, 1, 4, 2]"
      ]
     },
     "execution_count": 76,
     "metadata": {},
     "output_type": "execute_result"
    }
   ],
   "source": [
    "weight"
   ]
  },
  {
   "cell_type": "code",
   "execution_count": 77,
   "id": "b030562c",
   "metadata": {},
   "outputs": [
    {
     "data": {
      "text/plain": [
       "[0, 1, 2, 3, 4, 5]"
      ]
     },
     "execution_count": 77,
     "metadata": {},
     "output_type": "execute_result"
    }
   ],
   "source": [
    "lst"
   ]
  },
  {
   "cell_type": "code",
   "execution_count": 78,
   "id": "9b4833d2",
   "metadata": {},
   "outputs": [
    {
     "data": {
      "text/plain": [
       "[(1600, 5), (1200, 3), (2000, 0), (2400, 1), (4000, 4), (2400, 2)]"
      ]
     },
     "execution_count": 78,
     "metadata": {},
     "output_type": "execute_result"
    }
   ],
   "source": [
    "info"
   ]
  },
  {
   "cell_type": "code",
   "execution_count": 72,
   "id": "d9936a76",
   "metadata": {},
   "outputs": [
    {
     "name": "stdout",
     "output_type": "stream",
     "text": [
      "14\n"
     ]
    }
   ],
   "source": [
    "\n",
    "\n",
    "    \n",
    "answer = 0\n",
    "visited = [0] * n\n",
    "\n",
    "for i in range(n):\n",
    "    if visited[i]:\n",
    "        continue\n",
    "        \n",
    "    cycle = 0\n",
    "    nxt = i\n",
    "    \n",
    "    while not visited[nxt]:\n",
    "        visited[nxt] = 1\n",
    "        answer += info[nxt][0]\n",
    "        cycle += 1\n",
    "        nxt = info[nxt][1]\n",
    "    \n",
    "    answer += min(info[i][0] * (cycle - 2), info[0][0] * (cycle + 1) + info[i][0])\n",
    "    \n",
    "    \n",
    "print(answer)\n"
   ]
  },
  {
   "cell_type": "code",
   "execution_count": 38,
   "id": "736599f3",
   "metadata": {},
   "outputs": [
    {
     "data": {
      "text/plain": [
       "[1, 1, 1, 1, 1, 1]"
      ]
     },
     "execution_count": 38,
     "metadata": {},
     "output_type": "execute_result"
    }
   ],
   "source": [
    "visited"
   ]
  },
  {
   "cell_type": "code",
   "execution_count": 45,
   "id": "38e052bb",
   "metadata": {},
   "outputs": [
    {
     "name": "stdout",
     "output_type": "stream",
     "text": [
      "3 [1, 5, 3] (1, 2, 3) (2, 3, 1) 10 14\n",
      "3 [1, 5, 3] (1, 2, 3) (3, 1, 2) 10 12\n",
      "3 [1, 5, 3] (1, 3, 2) (2, 1, 3) 10 14\n",
      "3 [1, 5, 3] (1, 3, 2) (3, 2, 1) 10 12\n",
      "3 [1, 5, 3] (2, 1, 3) (3, 2, 1) 10 12\n",
      "3 [1, 5, 3] (2, 3, 1) (3, 1, 2) 10 12\n",
      "3 [1, 5, 3] (3, 1, 2) (2, 3, 1) 10 14\n",
      "3 [1, 5, 3] (3, 2, 1) (2, 1, 3) 10 14\n"
     ]
    }
   ],
   "source": [
    "import sys\n",
    "\n",
    "def solve1(n, weights, inits, wants):\n",
    "    get_value = lambda x: int(x) - 1\n",
    "    weights = list(map(int, weights))\n",
    "    inits = list(map(get_value, inits))\n",
    "    wants = list(map(get_value, wants))\n",
    "\n",
    "    to_new_num = dict()\n",
    "    to_original_num = dict()\n",
    "    min_value = float('inf')\n",
    "    min_value_indices = []\n",
    "    for i in range(n):\n",
    "        if weights[i] < min_value:\n",
    "            min_value = weights[i]\n",
    "            min_value_indices = [i]\n",
    "        elif weights[i] == min_value:\n",
    "            min_value_indices.append(i)\n",
    "\n",
    "        to_new_num[wants[i]] = i\n",
    "        to_original_num[i] = wants[i]\n",
    "\n",
    "    target = [to_new_num[v] for v in inits]\n",
    "    for i in range(len(min_value_indices)):\n",
    "        min_value_indices[i] = to_new_num[i]\n",
    "\n",
    "    vt = [False] * n\n",
    "    r = 0\n",
    "    for i in range(n):\n",
    "        if vt[i]:\n",
    "            continue\n",
    "        vt[i] = True\n",
    "\n",
    "        used = set()\n",
    "        ni = i\n",
    "        while ni != target[ni]:\n",
    "            used.add(ni)\n",
    "            used.add(target[ni])\n",
    "\n",
    "            ni = target[ni]\n",
    "            if vt[ni]:\n",
    "                break\n",
    "            vt[ni] = True\n",
    "\n",
    "        if used:\n",
    "            ogs = [] # originals\n",
    "            for i in used:\n",
    "                ogs.append(weights[to_original_num[i]])\n",
    "\n",
    "            ogs.sort()\n",
    "            remain_count = len(ogs) - 1\n",
    "            min_v = ogs[0]\n",
    "            temp = sum(ogs[1:])\n",
    "            t1 = temp + min_v * remain_count\n",
    "\n",
    "            t2 = float('inf')\n",
    "            if len(min_value_indices) >= 2 or min_value_indices[0] not in used:\n",
    "                t2 = min_value * (remain_count + 1) + temp + min_v + min_v + min_value\n",
    "\n",
    "            r += min(t1, t2)\n",
    "\n",
    "    return r\n",
    "\n",
    "def solve2(n, temp, inits, wants):\n",
    "    weight = []\n",
    "    for idx, i in enumerate(inits):\n",
    "        weight.append((temp[i-1], idx, i-1))\n",
    "\n",
    "\n",
    "    weight.sort(key = lambda x : x[2])\n",
    "\n",
    "    lst = []\n",
    "    for i in wants:\n",
    "        lst.append(weight[i-1])\n",
    "\n",
    "\n",
    "    answer = 0\n",
    "    visited = [0] * n\n",
    "\n",
    "    for i in range(n):\n",
    "        if visited[i]:\n",
    "            continue\n",
    "\n",
    "        cycle = 0\n",
    "        nxt = i\n",
    "\n",
    "        while not visited[nxt]:\n",
    "            visited[nxt] = 1\n",
    "            answer += lst[nxt][0]\n",
    "            cycle += 1\n",
    "            nxt = lst[nxt][1]\n",
    "\n",
    "        answer += min(lst[i][0] * (cycle - 2), lst[0][0] * (cycle + 1) + lst[i][0])\n",
    "\n",
    "    return answer\n",
    "\n",
    "\n",
    "# n = int(input())\n",
    "# weights = list(map(int, input().split()))\n",
    "# inits = list(map(int, input().split()))\n",
    "# wants = list(map(int, input().split()))\n",
    "\n",
    "from itertools import permutations as perm\n",
    "\n",
    "n = 3\n",
    "weights = [1, 5, 3]\n",
    "for inits in perm(range(1, n + 1)):\n",
    "    for wants in perm(range(1, n + 1)):\n",
    "        r1 = solve1(n, weights, inits, wants)\n",
    "        r2 = solve2(n, weights, inits, wants)\n",
    "        \n",
    "        if r1 != r2:\n",
    "            print(n, weights, inits, wants, r1, r2)"
   ]
  },
  {
   "cell_type": "code",
   "execution_count": 79,
   "id": "c78287eb",
   "metadata": {},
   "outputs": [
    {
     "name": "stdout",
     "output_type": "stream",
     "text": [
      "20\n",
      "long long long long long int\n"
     ]
    }
   ],
   "source": [
    "n = int(input())\n",
    "print('long ' * (n // 4) + 'int')"
   ]
  },
  {
   "cell_type": "code",
   "execution_count": null,
   "id": "00544c9c",
   "metadata": {},
   "outputs": [],
   "source": []
  }
 ],
 "metadata": {
  "kernelspec": {
   "display_name": "Python 3",
   "language": "python",
   "name": "python3"
  },
  "language_info": {
   "codemirror_mode": {
    "name": "ipython",
    "version": 3
   },
   "file_extension": ".py",
   "mimetype": "text/x-python",
   "name": "python",
   "nbconvert_exporter": "python",
   "pygments_lexer": "ipython3",
   "version": "3.8.8"
  }
 },
 "nbformat": 4,
 "nbformat_minor": 5
}
