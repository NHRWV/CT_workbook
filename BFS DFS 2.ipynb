{
 "cells": [
  {
   "cell_type": "markdown",
   "id": "85d2be2b",
   "metadata": {},
   "source": [
    "https://www.acmicpc.net/problem/12851"
   ]
  },
  {
   "cell_type": "code",
   "execution_count": null,
   "id": "ee30ce95",
   "metadata": {},
   "outputs": [],
   "source": [
    "# 백준 12851\n",
    "\n",
    "from collections import deque\n",
    "\n",
    "n, k = map(int, input().split())\n",
    "\n",
    "\n",
    "visited = set()\n",
    "\n",
    "if n == k:\n",
    "    print(0)\n",
    "    queue = deque()\n",
    "else:\n",
    "    queue = deque([(n, 0)])\n",
    "\n",
    "\n",
    "while queue:\n",
    "    \n",
    "    x, sec = queue.popleft()\n",
    "    \n",
    "    dx = [x - 1, x + 1, 2 * x]\n",
    "    for i in range(3):\n",
    "        nx = dx[i]\n",
    "        \n",
    "        if nx == k:\n",
    "            print(sec + 1)\n",
    "            queue.clear()\n",
    "            break\n",
    "        \n",
    "        if nx < 0 or nx > 100001:\n",
    "            continue\n",
    "                \n",
    "        if nx in visited:\n",
    "            continue\n",
    "            \n",
    "        else:\n",
    "            visited.add(nx)\n",
    "            queue.append((nx, sec + 1))\n",
    "            "
   ]
  }
 ],
 "metadata": {
  "kernelspec": {
   "display_name": "Python 3",
   "language": "python",
   "name": "python3"
  },
  "language_info": {
   "codemirror_mode": {
    "name": "ipython",
    "version": 3
   },
   "file_extension": ".py",
   "mimetype": "text/x-python",
   "name": "python",
   "nbconvert_exporter": "python",
   "pygments_lexer": "ipython3",
   "version": "3.8.8"
  }
 },
 "nbformat": 4,
 "nbformat_minor": 5
}
