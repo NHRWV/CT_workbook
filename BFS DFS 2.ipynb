{
 "cells": [
  {
   "cell_type": "markdown",
   "id": "85d2be2b",
   "metadata": {},
   "source": [
    "https://www.acmicpc.net/problem/12851"
   ]
  },
  {
   "cell_type": "code",
   "execution_count": 10,
   "id": "ee30ce95",
   "metadata": {},
   "outputs": [
    {
     "name": "stdout",
     "output_type": "stream",
     "text": [
      "2 2\n",
      "0\n",
      "1\n"
     ]
    }
   ],
   "source": [
    "# 백준 12851\n",
    "\n",
    "from collections import deque\n",
    "\n",
    "n, k = map(int, input().split())\n",
    "\n",
    "\n",
    "visited = [-1] * 100001\n",
    "\n",
    "\n",
    "count = 0\n",
    "queue = deque([n])\n",
    "visited[n] = 0\n",
    "while queue:\n",
    "    \n",
    "    x = queue.popleft()\n",
    "    \n",
    "    if x == k:\n",
    "        count += 1\n",
    "    \n",
    "    dx = [x - 1, x + 1, 2 * x]\n",
    "    for i in range(3):\n",
    "        nx = dx[i]\n",
    "        \n",
    "        if nx < 0 or nx >= 100001:\n",
    "            continue\n",
    "                \n",
    "        if visited[nx] == -1 or visited[nx] >= visited[x] + 1:\n",
    "            visited[nx] = visited[x] + 1\n",
    "            queue.append(nx)\n",
    "            \n",
    "\n",
    "print(visited[k])\n",
    "print(count)"
   ]
  },
  {
   "cell_type": "markdown",
   "id": "8e8d48e6",
   "metadata": {},
   "source": [
    "https://www.acmicpc.net/problem/16236"
   ]
  },
  {
   "cell_type": "code",
   "execution_count": 12,
   "id": "cd76f06d",
   "metadata": {},
   "outputs": [
    {
     "name": "stdout",
     "output_type": "stream",
     "text": [
      "4\n",
      "4 3 2 1\n",
      "0 0 0 0\n",
      "0 0 9 0\n",
      "1 2 3 4\n"
     ]
    },
    {
     "ename": "KeyboardInterrupt",
     "evalue": "",
     "output_type": "error",
     "traceback": [
      "\u001b[1;31m---------------------------------------------------------------------------\u001b[0m",
      "\u001b[1;31mKeyboardInterrupt\u001b[0m                         Traceback (most recent call last)",
      "\u001b[1;32m<ipython-input-12-3e66ddf9b073>\u001b[0m in \u001b[0;36m<module>\u001b[1;34m\u001b[0m\n\u001b[0;32m     51\u001b[0m                             \u001b[1;32mcontinue\u001b[0m\u001b[1;33m\u001b[0m\u001b[1;33m\u001b[0m\u001b[0m\n\u001b[0;32m     52\u001b[0m \u001b[1;33m\u001b[0m\u001b[0m\n\u001b[1;32m---> 53\u001b[1;33m                         \u001b[1;32mif\u001b[0m \u001b[0mvisited\u001b[0m\u001b[1;33m[\u001b[0m\u001b[0mnw\u001b[0m\u001b[1;33m]\u001b[0m\u001b[1;33m[\u001b[0m\u001b[0mnv\u001b[0m\u001b[1;33m]\u001b[0m \u001b[1;33m==\u001b[0m \u001b[1;36m0\u001b[0m \u001b[1;32mand\u001b[0m \u001b[0mspace\u001b[0m\u001b[1;33m[\u001b[0m\u001b[0mnw\u001b[0m\u001b[1;33m]\u001b[0m\u001b[1;33m[\u001b[0m\u001b[0mnv\u001b[0m\u001b[1;33m]\u001b[0m \u001b[1;33m<=\u001b[0m \u001b[0msize\u001b[0m \u001b[1;32mor\u001b[0m \u001b[0mspace\u001b[0m\u001b[1;33m[\u001b[0m\u001b[0mnw\u001b[0m\u001b[1;33m]\u001b[0m\u001b[1;33m[\u001b[0m\u001b[0mnv\u001b[0m\u001b[1;33m]\u001b[0m \u001b[1;33m==\u001b[0m \u001b[1;36m9\u001b[0m\u001b[1;33m:\u001b[0m\u001b[1;33m\u001b[0m\u001b[1;33m\u001b[0m\u001b[0m\n\u001b[0m\u001b[0;32m     54\u001b[0m                             \u001b[0mvisited\u001b[0m\u001b[1;33m[\u001b[0m\u001b[0mnw\u001b[0m\u001b[1;33m]\u001b[0m\u001b[1;33m[\u001b[0m\u001b[0mnv\u001b[0m\u001b[1;33m]\u001b[0m \u001b[1;33m=\u001b[0m \u001b[1;36m1\u001b[0m\u001b[1;33m\u001b[0m\u001b[1;33m\u001b[0m\u001b[0m\n\u001b[0;32m     55\u001b[0m                             \u001b[0mq\u001b[0m\u001b[1;33m.\u001b[0m\u001b[0mappend\u001b[0m\u001b[1;33m(\u001b[0m\u001b[1;33m(\u001b[0m\u001b[0mnw\u001b[0m\u001b[1;33m,\u001b[0m \u001b[0mnv\u001b[0m\u001b[1;33m,\u001b[0m \u001b[0mtime\u001b[0m \u001b[1;33m+\u001b[0m \u001b[1;36m1\u001b[0m\u001b[1;33m)\u001b[0m\u001b[1;33m)\u001b[0m\u001b[1;33m\u001b[0m\u001b[1;33m\u001b[0m\u001b[0m\n",
      "\u001b[1;31mKeyboardInterrupt\u001b[0m: "
     ]
    }
   ],
   "source": [
    "# 백준 16236\n",
    "\n",
    "from collections import deque\n",
    "\n",
    "n = int(input())\n",
    "\n",
    "space = []\n",
    "fish = []\n",
    "for i in range(n):\n",
    "    a = list(map(int, input().split()))\n",
    "    space.append(a)\n",
    "    for j in range(n):\n",
    "        if a[j] == 9:\n",
    "            \n",
    "            x, y = i, j\n",
    "            \n",
    "        \n",
    "        if 0 < a[j] < 9:\n",
    "            fish.append((i, j))\n",
    "            \n",
    "\n",
    "dw = [-1, 0, 1, 0]\n",
    "dv = [0, -1, 0, 1]\n",
    "size, sec, cnt = 2, 0, 0\n",
    "while True:\n",
    "    \n",
    "    \n",
    "    if len(fish) > 0:\n",
    "        dst = int(1e9)\n",
    "        for a, b in fish:\n",
    "            visited = [[0] * n for _ in range(n)]\n",
    "            if space[a][b] < size:\n",
    "                q = deque([(a, b, 0)])\n",
    "               \n",
    "            \n",
    "                while q:\n",
    "                    w, v, time = q.popleft()\n",
    "                \n",
    "                    if w == x and v == y:\n",
    "                        if dst > time:\n",
    "                            dst = time\n",
    "                            nx = a\n",
    "                            ny = b\n",
    "                        q.clear()\n",
    "                        \n",
    "                    for i in range(4):\n",
    "                        nw = w + dw[i]\n",
    "                        nv = v + dv[i] \n",
    "                    \n",
    "                        if nw < 0 or nw >= n or nv < 0 or nv >= n:\n",
    "                            continue\n",
    "                        \n",
    "                        if visited[nw][nv] == 0 and space[nw][nv] <= size or space[nw][nv] == 9:\n",
    "                            visited[nw][nv] = 1\n",
    "                            q.append((nw, nv, time + 1))\n",
    "                            \n",
    "    elif len(fish) == 0:\n",
    "        break\n",
    "        \n",
    "        \n",
    "    \n",
    "    space[nx][ny] = 9\n",
    "    space[x][y] = 0\n",
    "    cnt += 1\n",
    "            \n",
    "    if cnt == size:\n",
    "        x, y, size, sec, cnt = nx, ny, size + 1, sec + dst, 0\n",
    "                \n",
    "    else:\n",
    "        x, y, size, sec, cnt = nx, ny, size, sec + dst, cnt\n",
    "        \n",
    "        \n",
    "    count = 0\n",
    "    for i in range(n):\n",
    "        for j in range(n):\n",
    "            if space[i][j] < size:\n",
    "                count += 1\n",
    "                \n",
    "    if count == 0:\n",
    "        break\n",
    "            \n",
    "        \n",
    "    \n",
    "print(sec)                \n",
    "            \n",
    "            \n",
    "\n"
   ]
  },
  {
   "cell_type": "code",
   "execution_count": null,
   "id": "4d9a4672",
   "metadata": {},
   "outputs": [],
   "source": [
    "4                \n",
    "4 3 2 1\n",
    "0 0 0 0\n",
    "0 0 9 0\n",
    "1 2 3 4        \n",
    "\n",
    "6\n",
    "5 4 3 2 3 4\n",
    "4 3 2 3 4 5\n",
    "3 2 9 5 6 6\n",
    "2 1 2 3 4 5\n",
    "3 2 1 6 5 4\n",
    "6 6 6 6 6 6\n",
    "\n",
    "3\n",
    "0 0 0\n",
    "0 0 0\n",
    "0 9 0\n",
    "\n",
    "6 *\n",
    "6 0 6 0 6 1\n",
    "0 0 0 0 0 2\n",
    "2 3 4 5 6 6\n",
    "0 0 0 0 0 2\n",
    "0 2 0 0 0 0\n",
    "3 9 3 0 0 1\n",
    "\n",
    "6 *\n",
    "1 1 1 1 1 1\n",
    "2 2 6 2 2 3\n",
    "2 2 5 2 2 3\n",
    "2 2 2 4 6 3\n",
    "0 0 0 0 0 6\n",
    "0 0 0 0 0 9"
   ]
  },
  {
   "cell_type": "code",
   "execution_count": 8,
   "id": "f680d7f4",
   "metadata": {},
   "outputs": [
    {
     "data": {
      "text/plain": [
       "[(0, 0), (0, 1), (3, 2), (3, 3)]"
      ]
     },
     "execution_count": 8,
     "metadata": {},
     "output_type": "execute_result"
    }
   ],
   "source": [
    "fish"
   ]
  },
  {
   "cell_type": "code",
   "execution_count": 10,
   "id": "5beda971",
   "metadata": {},
   "outputs": [
    {
     "data": {
      "text/plain": [
       "2"
      ]
     },
     "execution_count": 10,
     "metadata": {},
     "output_type": "execute_result"
    }
   ],
   "source": [
    "ny"
   ]
  },
  {
   "cell_type": "code",
   "execution_count": 102,
   "id": "d542f568",
   "metadata": {},
   "outputs": [
    {
     "data": {
      "text/plain": [
       "0"
      ]
     },
     "execution_count": 102,
     "metadata": {},
     "output_type": "execute_result"
    }
   ],
   "source": [
    "fish.remove((nx, ny)) "
   ]
  },
  {
   "cell_type": "markdown",
   "id": "9e2d16c1",
   "metadata": {},
   "source": [
    "https://www.acmicpc.net/problem/1707"
   ]
  },
  {
   "cell_type": "code",
   "execution_count": null,
   "id": "c7f76cfc",
   "metadata": {},
   "outputs": [],
   "source": [
    "# 백준 1707\n",
    "from collections import deque\n",
    "\n",
    "def bfs(start):\n",
    "    node[start] = 1\n",
    "    queue = deque([start])\n",
    "    \n",
    "    while queue:\n",
    "        a = queue.popleft()\n",
    "        \n",
    "        for i in edge[a]:\n",
    "            if node[i] == 0:\n",
    "                node[i] = node[a] * 10\n",
    "                queue.append(i)\n",
    "                \n",
    "            else:\n",
    "                if node[i] == node[a]:\n",
    "                    return False\n",
    "                \n",
    "    return True\n",
    "\n",
    "\n",
    "\n",
    "k = int(input())\n",
    "\n",
    "for i in range(k):\n",
    "    v, e = map(int, input().split())\n",
    "    \n",
    "    edge = [[] for _ in range(v+1)]\n",
    "    for j in range(e):\n",
    "        a, b = map(int, input().split())\n",
    "        edge[a].append(b)\n",
    "        edge[b].append(a)\n",
    "        \n",
    "    node = [0] * (v+1)\n",
    "    check = 1\n",
    "    for j in range(1, v+1):\n",
    "        if node[j] == 0:\n",
    "            if not bfs(j):\n",
    "                check = 0\n",
    "                break\n",
    "                \n",
    "                \n",
    "    if check == 1:\n",
    "        print('YES')\n",
    "    \n",
    "    else:\n",
    "        print('NO')\n"
   ]
  },
  {
   "cell_type": "markdown",
   "id": "61839b73",
   "metadata": {},
   "source": [
    "https://www.acmicpc.net/problem/1043"
   ]
  },
  {
   "cell_type": "code",
   "execution_count": null,
   "id": "916cf2ba",
   "metadata": {},
   "outputs": [],
   "source": [
    "# 백준 1043\n",
    "\n",
    "from collections import deque\n",
    "\n",
    "n, m = map(int, input().split())\n",
    "bird = list(map(int, input().split()))[1:]\n",
    "\n",
    "party = []\n",
    "for i in range(m):\n",
    "    a = list(map(int, input().split()))[1:]\n",
    "    party.append(a)\n",
    "    \n",
    "\n",
    "check = [1] * m\n",
    "rat = [False] * (n+1)\n",
    "\n",
    "queue = deque()\n",
    "for i in bird:\n",
    "    queue.append(i)\n",
    "    rat[i] = True\n",
    "    \n",
    "while queue:\n",
    "    x = queue.popleft()\n",
    "    \n",
    "    for i in range(len(party)):\n",
    "        if x in party[i]:\n",
    "            for j in party[i]:\n",
    "                if not rat[j]:\n",
    "                    queue.append(j)\n",
    "                    rat[j] = True\n",
    "                    \n",
    "            check[i] = 0\n",
    "        \n",
    "\n",
    "        \n",
    "print(check.count(1))"
   ]
  },
  {
   "cell_type": "markdown",
   "id": "5cbbd5a1",
   "metadata": {},
   "source": [
    "https://www.acmicpc.net/problem/14442"
   ]
  },
  {
   "cell_type": "code",
   "execution_count": 2,
   "id": "49974ddf",
   "metadata": {},
   "outputs": [
    {
     "name": "stdout",
     "output_type": "stream",
     "text": [
      "6 4 2\n",
      "0100\n",
      "1110\n",
      "1000\n",
      "0000\n",
      "0111\n",
      "0000\n",
      "9\n"
     ]
    }
   ],
   "source": [
    "# 백준 14442\n",
    "\n",
    "from collections import deque\n",
    "import sys\n",
    "#input = sys.stdin.readline\n",
    "\n",
    "n, m, k = map(int, input().split())\n",
    "board = [list(map(int, input().rstrip())) for _ in range(n)]\n",
    "visited = [[[0] * (k+1) for _ in range(m)] for _ in range(n)]\n",
    "\n",
    "dx = [-1, 1, 0, 0]\n",
    "dy = [0, 0, -1, 1]\n",
    "\n",
    "def plz():\n",
    "    visited[0][0] = [1] * (k+1)\n",
    "    queue = deque([(0, 0, 0)])\n",
    "    \n",
    "    while queue:\n",
    "        x, y, c = queue.popleft()\n",
    "        \n",
    "        if x == n-1 and y == m-1:\n",
    "            return visited[n-1][m-1][c]\n",
    "        \n",
    "        gazua = visited[x][y][c] + 1\n",
    "        \n",
    "        for i in range(4):\n",
    "            nx = x + dx[i]\n",
    "            ny = y + dy[i]\n",
    "            \n",
    "            if nx < 0 or nx >= n or ny < 0 or ny >= m:\n",
    "                continue\n",
    "                \n",
    "            if visited[nx][ny][c] == 0:\n",
    "                if board[nx][ny] == 0:\n",
    "                    visited[nx][ny][c] = gazua\n",
    "                    queue.append((nx, ny, c))\n",
    "                \n",
    "                elif c < k:\n",
    "                    visited[nx][ny][c+1] = gazua\n",
    "                    queue.append((nx, ny, c + 1))\n",
    "                \n",
    "    return -1\n",
    "    \n",
    "        \n",
    "\n",
    "print(plz())\n",
    "\n"
   ]
  },
  {
   "cell_type": "code",
   "execution_count": null,
   "id": "736315fe",
   "metadata": {},
   "outputs": [],
   "source": [
    "6 4 1\n",
    "0100\n",
    "1110\n",
    "1000\n",
    "0000\n",
    "0111\n",
    "0000\n",
    "\n",
    "6 4 2\n",
    "0100\n",
    "1110\n",
    "1000\n",
    "0000\n",
    "0111\n",
    "0000\n",
    "\n",
    "4 4 3\n",
    "0111\n",
    "1111\n",
    "1111\n",
    "1110"
   ]
  },
  {
   "cell_type": "code",
   "execution_count": 3,
   "id": "6a44850b",
   "metadata": {},
   "outputs": [
    {
     "data": {
      "text/plain": [
       "[[0, 1, 0, 0],\n",
       " [1, 1, 1, 0],\n",
       " [1, 0, 0, 0],\n",
       " [0, 0, 0, 0],\n",
       " [0, 1, 1, 1],\n",
       " [0, 0, 0, 0]]"
      ]
     },
     "execution_count": 3,
     "metadata": {},
     "output_type": "execute_result"
    }
   ],
   "source": [
    "board"
   ]
  },
  {
   "cell_type": "code",
   "execution_count": 4,
   "id": "ea5ad11c",
   "metadata": {},
   "outputs": [
    {
     "data": {
      "text/plain": [
       "[[[1, 3], [0, 2], [0, 3], [0, 4]],\n",
       " [[0, 2], [0, 0], [0, 0], [0, 5]],\n",
       " [[0, 0], [0, 8], [0, 7], [0, 6]],\n",
       " [[0, 10], [0, 9], [0, 8], [0, 7]],\n",
       " [[0, 11], [0, 0], [0, 0], [0, 0]],\n",
       " [[0, 12], [0, 13], [0, 14], [0, 15]]]"
      ]
     },
     "execution_count": 4,
     "metadata": {},
     "output_type": "execute_result"
    }
   ],
   "source": [
    "visited"
   ]
  },
  {
   "cell_type": "code",
   "execution_count": null,
   "id": "4b982156",
   "metadata": {},
   "outputs": [],
   "source": []
  }
 ],
 "metadata": {
  "kernelspec": {
   "display_name": "Python 3",
   "language": "python",
   "name": "python3"
  },
  "language_info": {
   "codemirror_mode": {
    "name": "ipython",
    "version": 3
   },
   "file_extension": ".py",
   "mimetype": "text/x-python",
   "name": "python",
   "nbconvert_exporter": "python",
   "pygments_lexer": "ipython3",
   "version": "3.8.8"
  }
 },
 "nbformat": 4,
 "nbformat_minor": 5
}
