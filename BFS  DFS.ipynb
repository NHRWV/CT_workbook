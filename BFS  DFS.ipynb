{
 "cells": [
  {
   "cell_type": "code",
   "execution_count": 34,
   "metadata": {},
   "outputs": [
    {
     "name": "stdout",
     "output_type": "stream",
     "text": [
      "4 6\n",
      "101111\n",
      "101010\n",
      "101011\n",
      "111011\n"
     ]
    }
   ],
   "source": [
    "# 백준 2178\n",
    "\n",
    "from collections import deque\n",
    "\n",
    "maze = []\n",
    "n, m = map(int, input().split())\n",
    "for i in range(n):\n",
    "    maze.append(list(map(int, input())))\n",
    "    \n",
    "dx = [-1, 1, 0, 0]\n",
    "dy = [0, 0, -1, 1]\n",
    "\n",
    "queue = deque([(0, 0)])\n",
    "\n"
   ]
  },
  {
   "cell_type": "code",
   "execution_count": 35,
   "metadata": {},
   "outputs": [
    {
     "name": "stdout",
     "output_type": "stream",
     "text": [
      "15\n"
     ]
    }
   ],
   "source": [
    "while queue:\n",
    "    x, y = queue.popleft()\n",
    "    \n",
    "    for i in range(4):\n",
    "        nx = x + dx[i]\n",
    "        ny = y + dy[i]\n",
    "        \n",
    "        if nx < 0 or nx >= n or ny < 0 or ny >= m:\n",
    "            continue\n",
    "            \n",
    "        if maze[nx][ny] == 1:\n",
    "            queue.append((nx, ny))\n",
    "            maze[nx][ny] = maze[x][y] + 1\n",
    "            \n",
    "            \n",
    "\n",
    "print(maze[n-1][m-1])"
   ]
  },
  {
   "cell_type": "code",
   "execution_count": null,
   "metadata": {
    "scrolled": false
   },
   "outputs": [],
   "source": [
    "# 백준 1927 \n",
    "# 최소 힙 문제\n",
    "\n",
    "import heapq\n",
    "\n",
    "n = int(input())\n",
    "ls = []\n",
    "\n",
    "for i in range(n):\n",
    "    ls.append(int(input()))\n",
    "\n",
    "        \n",
    "heap = []\n",
    "heapq.heapify(heap)    \n",
    "for i in range(n):\n",
    "    \n",
    "    if ls[i] > 0:\n",
    "        heapq.heappush(heap, ls[i])\n",
    "    \n",
    "    else:\n",
    "        if len(heap) == 0:\n",
    "            print(0)\n",
    "        else:\n",
    "            print(heapq.heappop(heap))\n",
    "        \n",
    "        \n",
    "        \n"
   ]
  },
  {
   "cell_type": "code",
   "execution_count": 33,
   "metadata": {},
   "outputs": [
    {
     "name": "stdout",
     "output_type": "stream",
     "text": [
      "1\n",
      "5 3 6\n",
      "0 2\n",
      "1 2\n",
      "2 2\n",
      "3 2\n",
      "4 2\n",
      "4 0\n",
      "2\n"
     ]
    }
   ],
   "source": [
    "# 백준 1012\n",
    "\n",
    "import sys\n",
    "\n",
    "sys.setrecursionlimit(10000)\n",
    "\n",
    "t = int(input())\n",
    "\n",
    "answer = []    \n",
    "for p in range(t):\n",
    "    m, n, k = map(int, input().split())\n",
    "    farm = [[0] * m for _ in range(n)]\n",
    "    \n",
    "    for i in range(k):\n",
    "        a, b = map(int, input().split())\n",
    "        farm[b][a] = 1\n",
    "    \n",
    "    def dfs(x, y):\n",
    "    \n",
    "        if x < 0 or x >= n or y < 0 or y >= m:\n",
    "            return False\n",
    "    \n",
    "        if farm[x][y] == 1:\n",
    "            farm[x][y] = 0\n",
    "        \n",
    "            dfs(x-1, y)\n",
    "            dfs(x+1, y)\n",
    "            dfs(x, y-1)\n",
    "            dfs(x, y+1)\n",
    "            return True\n",
    "    \n",
    "        return False\n",
    "\n",
    "    count = 0\n",
    "    for i in range(n):\n",
    "        for j in range(m):\n",
    "            if dfs(i, j) == True:\n",
    "                count += 1\n",
    "            \n",
    "    answer.append(count)\n",
    "    \n",
    "for i in answer:\n",
    "    print(i)"
   ]
  },
  {
   "cell_type": "code",
   "execution_count": 26,
   "metadata": {},
   "outputs": [
    {
     "data": {
      "text/plain": [
       "[[2, 2, 2, 2, 1], [2, 2, 2, 2, 2], [1, 1, 1, 1, 1]]"
      ]
     },
     "execution_count": 26,
     "metadata": {},
     "output_type": "execute_result"
    }
   ],
   "source": [
    "farm"
   ]
  },
  {
   "cell_type": "code",
   "execution_count": 27,
   "metadata": {},
   "outputs": [],
   "source": []
  },
  {
   "cell_type": "code",
   "execution_count": 29,
   "metadata": {},
   "outputs": [],
   "source": []
  },
  {
   "cell_type": "code",
   "execution_count": 30,
   "metadata": {},
   "outputs": [
    {
     "data": {
      "text/plain": [
       "deque([(0, 0), (1, 1)])"
      ]
     },
     "execution_count": 30,
     "metadata": {},
     "output_type": "execute_result"
    }
   ],
   "source": []
  },
  {
   "cell_type": "code",
   "execution_count": null,
   "metadata": {},
   "outputs": [],
   "source": []
  }
 ],
 "metadata": {
  "kernelspec": {
   "display_name": "Python 3.7.5 64-bit ('Namlister': virtualenv)",
   "language": "python",
   "name": "python37564bitnamlistervirtualenv5d7bb17d3c984c36aee202a2f6a91336"
  },
  "language_info": {
   "codemirror_mode": {
    "name": "ipython",
    "version": 3
   },
   "file_extension": ".py",
   "mimetype": "text/x-python",
   "name": "python",
   "nbconvert_exporter": "python",
   "pygments_lexer": "ipython3",
   "version": "3.7.5"
  }
 },
 "nbformat": 4,
 "nbformat_minor": 2
}
