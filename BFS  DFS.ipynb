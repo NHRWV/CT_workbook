{
 "cells": [
  {
   "cell_type": "code",
   "execution_count": 34,
   "metadata": {},
   "outputs": [
    {
     "name": "stdout",
     "output_type": "stream",
     "text": [
      "4 6\n",
      "101111\n",
      "101010\n",
      "101011\n",
      "111011\n"
     ]
    }
   ],
   "source": [
    "# 백준 2178\n",
    "\n",
    "from collections import deque\n",
    "\n",
    "maze = []\n",
    "n, m = map(int, input().split())\n",
    "for i in range(n):\n",
    "    maze.append(list(map(int, input())))\n",
    "    \n",
    "dx = [-1, 1, 0, 0]\n",
    "dy = [0, 0, -1, 1]\n",
    "\n",
    "queue = deque([(0, 0)])\n",
    "\n"
   ]
  },
  {
   "cell_type": "code",
   "execution_count": 35,
   "metadata": {},
   "outputs": [
    {
     "name": "stdout",
     "output_type": "stream",
     "text": [
      "15\n"
     ]
    }
   ],
   "source": [
    "while queue:\n",
    "    x, y = queue.popleft()\n",
    "    \n",
    "    for i in range(4):\n",
    "        nx = x + dx[i]\n",
    "        ny = y + dy[i]\n",
    "        \n",
    "        if nx < 0 or nx >= n or ny < 0 or ny >= m:\n",
    "            continue\n",
    "            \n",
    "        if maze[nx][ny] == 1:\n",
    "            queue.append((nx, ny))\n",
    "            maze[nx][ny] = maze[x][y] + 1\n",
    "            \n",
    "            \n",
    "\n",
    "print(maze[n-1][m-1])"
   ]
  },
  {
   "cell_type": "code",
   "execution_count": null,
   "metadata": {
    "scrolled": false
   },
   "outputs": [],
   "source": [
    "# 백준 1927 \n",
    "# 최소 힙 문제\n",
    "\n",
    "import heapq\n",
    "\n",
    "n = int(input())\n",
    "ls = []\n",
    "\n",
    "for i in range(n):\n",
    "    ls.append(int(input()))\n",
    "\n",
    "        \n",
    "heap = []\n",
    "heapq.heapify(heap)    \n",
    "for i in range(n):\n",
    "    \n",
    "    if ls[i] > 0:\n",
    "        heapq.heappush(heap, ls[i])\n",
    "    \n",
    "    else:\n",
    "        if len(heap) == 0:\n",
    "            print(0)\n",
    "        else:\n",
    "            print(heapq.heappop(heap))\n",
    "        \n",
    "        \n",
    "        \n"
   ]
  },
  {
   "cell_type": "code",
   "execution_count": 33,
   "metadata": {},
   "outputs": [
    {
     "name": "stdout",
     "output_type": "stream",
     "text": [
      "1\n",
      "5 3 6\n",
      "0 2\n",
      "1 2\n",
      "2 2\n",
      "3 2\n",
      "4 2\n",
      "4 0\n",
      "2\n"
     ]
    }
   ],
   "source": [
    "# 백준 1012\n",
    "\n",
    "import sys\n",
    "\n",
    "sys.setrecursionlimit(10000)\n",
    "\n",
    "t = int(input())\n",
    "\n",
    "answer = []    \n",
    "for p in range(t):\n",
    "    m, n, k = map(int, input().split())\n",
    "    farm = [[0] * m for _ in range(n)]\n",
    "    \n",
    "    for i in range(k):\n",
    "        a, b = map(int, input().split())\n",
    "        farm[b][a] = 1\n",
    "    \n",
    "    def dfs(x, y):\n",
    "    \n",
    "        if x < 0 or x >= n or y < 0 or y >= m:\n",
    "            return False\n",
    "    \n",
    "        if farm[x][y] == 1:\n",
    "            farm[x][y] = 0\n",
    "        \n",
    "            dfs(x-1, y)\n",
    "            dfs(x+1, y)\n",
    "            dfs(x, y-1)\n",
    "            dfs(x, y+1)\n",
    "            return True\n",
    "    \n",
    "        return False\n",
    "\n",
    "    count = 0\n",
    "    for i in range(n):\n",
    "        for j in range(m):\n",
    "            if dfs(i, j) == True:\n",
    "                count += 1\n",
    "            \n",
    "    answer.append(count)\n",
    "    \n",
    "for i in answer:\n",
    "    print(i)"
   ]
  },
  {
   "cell_type": "code",
   "execution_count": 46,
   "metadata": {},
   "outputs": [
    {
     "name": "stdout",
     "output_type": "stream",
     "text": [
      "5 17\n",
      "4\n"
     ]
    }
   ],
   "source": [
    "# 백준 1697\n",
    "\n",
    "from collections import deque\n",
    "\n",
    "n, k = map(int, input().split())\n",
    "\n",
    "def dx(i, x):\n",
    "    if i == 0:\n",
    "        dx = -1\n",
    "    elif i == 1:\n",
    "        dx = 1\n",
    "    elif i == 2:\n",
    "        dx = (2 * x) - x\n",
    "        \n",
    "    return dx\n",
    "\n",
    "visited = set()\n",
    "\n",
    "if n == k:\n",
    "    print(0)\n",
    "    queue = deque()\n",
    "else:\n",
    "    queue = deque([(n, 0)])\n",
    "\n",
    "\n",
    "while queue:\n",
    "    \n",
    "    x, sec = queue.popleft()\n",
    "    \n",
    "    for i in range(3):\n",
    "        nx = x + dx(i, x)\n",
    "        \n",
    "        if nx == k:\n",
    "            print(sec + 1)\n",
    "            queue.clear()\n",
    "            break\n",
    "        \n",
    "        if nx < 0 or nx > 100001:\n",
    "            continue\n",
    "                \n",
    "        if nx in visited:\n",
    "            continue\n",
    "            \n",
    "        else:\n",
    "            visited.add(nx)\n",
    "            queue.append((nx, sec + 1))\n",
    "            \n",
    "            "
   ]
  },
  {
   "cell_type": "code",
   "execution_count": 55,
   "metadata": {},
   "outputs": [
    {
     "name": "stdout",
     "output_type": "stream",
     "text": [
      "2\n",
      "1\n",
      "2 1\n",
      "1\n"
     ]
    }
   ],
   "source": [
    "# 백준 2606\n",
    "\n",
    "from collections import deque\n",
    "\n",
    "n = int(input())\n",
    "p = int(input())\n",
    "edge = [[] for _ in range(n+1)]\n",
    "for i in range(p):\n",
    "    a, b = map(int, input().split())\n",
    "    edge[a].append(b)\n",
    "    edge[b].append(a)\n",
    "    \n",
    "visited = [10] * (n+1)    \n",
    "queue = deque([1])\n",
    "visited[1] = 0\n",
    "\n",
    "while queue:\n",
    "    x = queue.popleft()\n",
    "    \n",
    "    for i in edge[x]:\n",
    "        if visited[i] == 10:\n",
    "            visited[i] = 0\n",
    "            queue.append(i)\n",
    "            \n",
    "print(visited.count(0) - 1)\n",
    "\n"
   ]
  },
  {
   "cell_type": "code",
   "execution_count": 56,
   "metadata": {},
   "outputs": [
    {
     "data": {
      "text/plain": [
       "[[], [2], [1]]"
      ]
     },
     "execution_count": 56,
     "metadata": {},
     "output_type": "execute_result"
    }
   ],
   "source": [
    "edge"
   ]
  },
  {
   "cell_type": "code",
   "execution_count": 57,
   "metadata": {},
   "outputs": [
    {
     "data": {
      "text/plain": [
       "[10, 0, 0]"
      ]
     },
     "execution_count": 57,
     "metadata": {},
     "output_type": "execute_result"
    }
   ],
   "source": [
    "visited"
   ]
  },
  {
   "cell_type": "code",
   "execution_count": null,
   "metadata": {},
   "outputs": [],
   "source": []
  }
 ],
 "metadata": {
  "kernelspec": {
   "display_name": "Python 3.7.5 64-bit ('Namlister': virtualenv)",
   "language": "python",
   "name": "python37564bitnamlistervirtualenv5d7bb17d3c984c36aee202a2f6a91336"
  },
  "language_info": {
   "codemirror_mode": {
    "name": "ipython",
    "version": 3
   },
   "file_extension": ".py",
   "mimetype": "text/x-python",
   "name": "python",
   "nbconvert_exporter": "python",
   "pygments_lexer": "ipython3",
   "version": "3.7.5"
  }
 },
 "nbformat": 4,
 "nbformat_minor": 2
}
