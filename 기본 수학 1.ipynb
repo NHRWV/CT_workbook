{
 "cells": [
  {
   "cell_type": "code",
   "execution_count": null,
   "metadata": {},
   "outputs": [],
   "source": [
    "# 백준 1712\n",
    "\n",
    "a, b, c = map(int, input().split())\n",
    "\n",
    "if c <= b:\n",
    "    print(-1)\n",
    "else:\n",
    "    print(int(a/(c-b))+1)"
   ]
  },
  {
   "cell_type": "code",
   "execution_count": null,
   "metadata": {},
   "outputs": [],
   "source": [
    "# 백준 2292..다섯 시간은 쓴 거 같은데?\n",
    "\n",
    "n = int(input())\n",
    "num = [1]\n",
    "count = 6\n",
    "\n",
    "while True:\n",
    "    \n",
    "    if sum(num) >= n:\n",
    "        break\n",
    "    num.append(count)\n",
    "    count += 6\n",
    "    \n",
    "print(len(num))    \n"
   ]
  },
  {
   "cell_type": "code",
   "execution_count": 116,
   "metadata": {},
   "outputs": [
    {
     "name": "stdout",
     "output_type": "stream",
     "text": [
      "14\n"
     ]
    }
   ],
   "source": [
    "# 백준 1193\n",
    "\n",
    "x = int(input())\n",
    "\n",
    "group_num = 1\n",
    "num = 1\n",
    "p_count = 1\n",
    "\n",
    "while True:\n",
    "    \n",
    "    if p_count >= x:\n",
    "        break\n",
    "    \n",
    "    num += 1\n",
    "    p_count += num\n",
    "    group_num += 1\n",
    "    \n",
    "\n",
    "if group_num % 2 == 1:\n",
    "    bunmo = x - p_count\n",
    "    bunza = group_num + 1 - bunmo\n",
    "elif group_num % 2 == 0:\n",
    "    "
   ]
  },
  {
   "cell_type": "code",
   "execution_count": null,
   "metadata": {},
   "outputs": [],
   "source": []
  },
  {
   "cell_type": "code",
   "execution_count": 120,
   "metadata": {},
   "outputs": [
    {
     "data": {
      "text/plain": [
       "15"
      ]
     },
     "execution_count": 120,
     "metadata": {},
     "output_type": "execute_result"
    }
   ],
   "source": [
    "p_count"
   ]
  },
  {
   "cell_type": "code",
   "execution_count": 118,
   "metadata": {},
   "outputs": [
    {
     "data": {
      "text/plain": [
       "5"
      ]
     },
     "execution_count": 118,
     "metadata": {},
     "output_type": "execute_result"
    }
   ],
   "source": [
    "group_num"
   ]
  },
  {
   "cell_type": "code",
   "execution_count": 119,
   "metadata": {},
   "outputs": [
    {
     "data": {
      "text/plain": [
       "5"
      ]
     },
     "execution_count": 119,
     "metadata": {},
     "output_type": "execute_result"
    }
   ],
   "source": [
    "num"
   ]
  },
  {
   "cell_type": "code",
   "execution_count": null,
   "metadata": {},
   "outputs": [],
   "source": []
  }
 ],
 "metadata": {
  "kernelspec": {
   "display_name": "Python 3",
   "language": "python",
   "name": "python3"
  },
  "language_info": {
   "codemirror_mode": {
    "name": "ipython",
    "version": 3
   },
   "file_extension": ".py",
   "mimetype": "text/x-python",
   "name": "python",
   "nbconvert_exporter": "python",
   "pygments_lexer": "ipython3",
   "version": "3.7.5"
  }
 },
 "nbformat": 4,
 "nbformat_minor": 2
}
