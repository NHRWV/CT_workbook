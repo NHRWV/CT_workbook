{
 "cells": [
  {
   "cell_type": "markdown",
   "metadata": {},
   "source": [
    " - 그리디\n",
    " \n",
    " - 구현\n",
    " \n",
    " - DFS / BFS\n",
    " \n",
    " - 정렬"
   ]
  },
  {
   "cell_type": "code",
   "execution_count": 1,
   "metadata": {},
   "outputs": [
    {
     "name": "stdout",
     "output_type": "stream",
     "text": [
      "5\n",
      "2 2 1 2 2\n",
      "2\n"
     ]
    }
   ],
   "source": [
    "# 그리디 - 모험가 길드\n",
    "\n",
    "n = int(input())\n",
    "fear = list(map(int, input().split()))\n",
    "\n",
    "fear.sort(reverse = True)\n",
    "count = 0\n",
    "num = 0\n",
    "while True:\n",
    "    count += (n // fear[num])\n",
    "    n %= fear[num]\n",
    "    num += 1\n",
    "    \n",
    "    if n < fear[num]:\n",
    "        break\n",
    "\n",
    "print(count)"
   ]
  },
  {
   "cell_type": "code",
   "execution_count": 5,
   "metadata": {},
   "outputs": [
    {
     "name": "stdout",
     "output_type": "stream",
     "text": [
      "567\n",
      "210\n"
     ]
    }
   ],
   "source": [
    "# 그리디 - 곱하기 혹은 더하기\n",
    "\n",
    "s = str(input())\n",
    "\n",
    "if (int(s[0]) * int(s[1])) >= (int(s[0]) + int(s[1])):\n",
    "    result = int(s[0]) * int(s[1])\n",
    "else:\n",
    "    result = int(s[0]) + int(s[1])\n",
    "\n",
    "for i in range(2, len(s)):\n",
    "    if (result * int(s[i])) >= (result + int(s[i])):\n",
    "        result *= int(s[i])\n",
    "    else:\n",
    "        result += int(s[i])\n",
    "\n",
    "print(result)"
   ]
  },
  {
   "cell_type": "code",
   "execution_count": 38,
   "metadata": {},
   "outputs": [
    {
     "name": "stdout",
     "output_type": "stream",
     "text": [
      "0001100\n",
      "1\n"
     ]
    }
   ],
   "source": [
    "# 그리디 - 문자열 뒤집기...틀렸음\n",
    "\n",
    "s = str(input())\n",
    "\n",
    "def um(x):\n",
    "    \n",
    "    a = s.split('x')\n",
    "    count = 0\n",
    "    for i in a:\n",
    "        if i != '':\n",
    "            count += 1\n",
    "            \n",
    "    return count\n",
    "\n",
    "\n",
    "print(min(um(0), um(1)))\n",
    "\n",
    "    \n",
    "    "
   ]
  },
  {
   "cell_type": "code",
   "execution_count": null,
   "metadata": {},
   "outputs": [],
   "source": [
    "# 그리디 - 문자열 뒤집기\n",
    "\n",
    "s = str(input())\n",
    "\n",
    "countif0 = 0\n",
    "countif1 = 0\n",
    "\n",
    "if s[0] == '0':\n",
    "    countif0 += 1\n",
    "else:\n",
    "    countif1 += 1\n",
    "    \n",
    "for i in range(len(s) - 1):\n",
    "    if s[i] != s[i+1]:\n",
    "        if s[i+1] == '0':\n",
    "            countif0 += 1\n",
    "        else:\n",
    "            countif1 += 1\n",
    "\n",
    "print(min(countif0, countif1))"
   ]
  },
  {
   "cell_type": "code",
   "execution_count": 1,
   "metadata": {},
   "outputs": [
    {
     "name": "stdout",
     "output_type": "stream",
     "text": [
      "5\n",
      "3 2 1 1 9\n",
      "8\n"
     ]
    }
   ],
   "source": [
    "# 그리디 - 만들 수 없는 금액\n",
    "\n",
    "n = int(input())\n",
    "scale = list(map(int, input().split()))\n",
    "scale.sort()\n",
    "\n",
    "gold = 1\n",
    "for i in scale:\n",
    "    if gold < i:\n",
    "        break\n",
    "    gold += i\n",
    "\n",
    "print(gold)"
   ]
  },
  {
   "cell_type": "code",
   "execution_count": 4,
   "metadata": {},
   "outputs": [
    {
     "name": "stdout",
     "output_type": "stream",
     "text": [
      "7\n",
      "3 1 6 2 7 30 1\n",
      "21\n"
     ]
    }
   ],
   "source": [
    "# 백준 2437....위의 문제와 비슷한 문제\n",
    "# 사실 코드는 똑같다.\n",
    "\n",
    "n = int(input())\n",
    "scale = list(map(int, input().split()))\n",
    "scale.sort()\n",
    "\n",
    "gold = 1\n",
    "for i in scale:\n",
    "    if gold < i:\n",
    "        break\n",
    "    gold += i\n",
    "print(gold)\n"
   ]
  },
  {
   "cell_type": "code",
   "execution_count": 8,
   "metadata": {},
   "outputs": [
    {
     "name": "stdout",
     "output_type": "stream",
     "text": [
      "8 5\n",
      "1 5 4 3 2 4 5 2\n",
      "25\n"
     ]
    }
   ],
   "source": [
    "# 그리디 - 볼링공 고르기\n",
    "\n",
    "n, m = map(int, input().split())\n",
    "k = list(map(int, input().split()))\n",
    "count = 0\n",
    "for i in range(len(k)):\n",
    "    for j in range(len(k), i, -1):\n",
    "        if k[i] != k[j-1]:\n",
    "            count += 1\n",
    "print(count)"
   ]
  },
  {
   "cell_type": "code",
   "execution_count": 18,
   "metadata": {},
   "outputs": [
    {
     "name": "stdout",
     "output_type": "stream",
     "text": [
      "3 1 2\n",
      "1\n"
     ]
    },
    {
     "data": {
      "text/plain": [
       "2"
      ]
     },
     "execution_count": 18,
     "metadata": {},
     "output_type": "execute_result"
    }
   ],
   "source": [
    "# 그리디 - 무지의 먹방 라이브\n",
    "\n",
    "def solution(food_times, k):\n",
    "    answer = 0\n",
    "    for i in range(k):    \n",
    "        food_times[answer] -= 1\n",
    "        if food_times[answer] == 0:\n",
    "            del food_times[answer]\n",
    "        \n",
    "        if answer == len(food_times) - 1:\n",
    "            answer = 0\n",
    "        else:\n",
    "            answer += 1\n",
    "        \n",
    "        if food_times == []:\n",
    "            break\n",
    "    if food_times == []:\n",
    "        answer = -1\n",
    "    else:\n",
    "        answer += 1\n",
    "    return answer\n",
    "\n",
    "#food_times = list(map(int, input().split()))\n",
    "#k = int(input())\n",
    "\n",
    "#solution(food_times, k)"
   ]
  },
  {
   "cell_type": "markdown",
   "metadata": {},
   "source": [
    "## 구현\n",
    "\n",
    "### 뱀 - 백준 3190"
   ]
  },
  {
   "cell_type": "code",
   "execution_count": 121,
   "metadata": {},
   "outputs": [
    {
     "name": "stdout",
     "output_type": "stream",
     "text": [
      "10\n",
      "4\n",
      "1 2\n",
      "1 3\n",
      "1 4\n",
      "1 5\n",
      "4\n",
      "8 D\n",
      "10 D\n",
      "11 D\n",
      "13 L\n"
     ]
    }
   ],
   "source": [
    "# 백준 3190\n",
    "\n",
    "n = int(input())\n",
    "k = int(input())\n",
    "board = [[0] * n for _ in range(n)] # 보드판 생성.\n",
    "\n",
    "for i in range(k):\n",
    "    a, b = map(int, input().split())\n",
    "    board[a-1][b-1] = 10\n",
    "\n",
    "L = int(input())\n",
    "d_info = []\n",
    "for i in range(L):\n",
    "    x, c = map(str, input().split())\n",
    "    x = int(x)\n",
    "    d_info.append(tuple([x, c]))\n",
    "    "
   ]
  },
  {
   "cell_type": "code",
   "execution_count": 122,
   "metadata": {},
   "outputs": [],
   "source": [
    "snake = [[0, 0]] # 현재 뱀이 위치한 전체 좌표 리스트\n",
    "x, y = 0, 0 # 뱀의 머리 시작 좌표\n",
    "board[x][y] = 1 # 현재 뱀의 위치 방문 처리.\n",
    "\n",
    "dx = [-1, 0, 1, 0] # 북동남서 방향 순서\n",
    "dy = [0, 1, 0, -1]\n",
    "direction = 1\n",
    "\n",
    "sec = 0 # 시간.\n",
    "\n",
    "d_cnt = 0 # 방향 전환 횟수(처음은 제외)"
   ]
  },
  {
   "cell_type": "code",
   "execution_count": 123,
   "metadata": {},
   "outputs": [
    {
     "name": "stdout",
     "output_type": "stream",
     "text": [
      "20\n"
     ]
    }
   ],
   "source": [
    "####### 처음 짰던 코드 ###########################################\n",
    "\n",
    "def turn_left(): # 방향전환 왼쪽일 때 direction 값 지정.\n",
    "    global direction\n",
    "    direction -= 1\n",
    "    if direction == -1:\n",
    "        direction = 3\n",
    "def turn_right():\n",
    "    global direction\n",
    "    direction += 1\n",
    "    if direction == 4:\n",
    "        direction = 0\n",
    "\n",
    "while True:\n",
    "    sec += 1\n",
    "    \n",
    "    if sec == 1:\n",
    "        \n",
    "        nx = x + dx[direction]\n",
    "        ny = y + dy[direction]\n",
    "        \n",
    "    elif sec == d_info[d_cnt][0]: # 방향 전환 시간이 되었을 때, 방향 전환 준비.\n",
    "        if d_info[d_cnt][1] == 'D':\n",
    "            turn_right()\n",
    "            nx = x + dx[direction]\n",
    "            ny = y + dy[direction]\n",
    "           \n",
    "        elif d_info[d_cnt][1] == 'L':\n",
    "            turn_left()\n",
    "            nx = x + dx[direction]\n",
    "            ny = y + dy[direction]\n",
    "        \n",
    "        d_cnt += 1\n",
    "        if d_cnt == L: # 그냥 인덱스 에러 방지하기 위해 끼운 코드다. 이거 없으면 에러 남. \n",
    "            d_cnt = 0\n",
    "        \n",
    "            \n",
    "    else: # 방향 전환할 때가 아닌 경우는 그대로 직진 준비.\n",
    "        nx = x + dx[direction]\n",
    "        ny = y + dy[direction]\n",
    "        \n",
    "    \n",
    "    \n",
    "        \n",
    "        \n",
    "    if nx < 0 or nx > n-1 or ny < 0 or ny > n-1:# 보드 밖으로 나간 경우 종료.\n",
    "        sec += 1\n",
    "        break\n",
    "    \n",
    "    if board[nx][ny] == 1: # 자기 몸통에 닿을 경우 종료.\n",
    "        sec += 1\n",
    "        break\n",
    "       \n",
    "    if board[nx][ny] == 10: # 사과가 있는 위치에 도달했을 때\n",
    "        x, y = nx, ny # 현재 뱀의 머리 좌표를 옮긴다.\n",
    "        board[x][y] = 1 # 새로운 머리 위치에 방문 표시.\n",
    "        snake.append([x, y]) # 뱀이 현재 위치한 좌표 리스트에 현재 머리 좌표 추가\n",
    "    \n",
    "    if board[nx][ny] == 0: # 사과가 없는 위치에 도착했을 때.\n",
    "        board[snake[0][0]][snake[0][1]] = 0 # 뱀 꼬리가 지나간 자리 방문표시 제거.\n",
    "        del snake[0] # 뱀이 현재 위치한 좌표 리스트에서 지나간 자리 위치 제거.\n",
    "        x, y = nx, ny # 현재 뱀의 머리 좌표 최신화.\n",
    "        \n",
    "        board[x][y] = 1 # 새로운 머리 위치에 방문 표시.\n",
    "        snake.append([x, y])\n",
    "        \n",
    "   \n",
    "            \n",
    "        \n",
    "print(sec)"
   ]
  },
  {
   "cell_type": "code",
   "execution_count": null,
   "metadata": {},
   "outputs": [],
   "source": [
    "################## 수정한 코드 ##############################\n",
    "\n",
    "def turn_left(): # 방향전환 왼쪽일 때 direction 값 지정.\n",
    "    global direction\n",
    "    direction -= 1\n",
    "    if direction == -1:\n",
    "        direction = 3\n",
    "def turn_right():\n",
    "    global direction\n",
    "    direction += 1\n",
    "    if direction == 4:\n",
    "        direction = 0\n",
    "\n",
    "while True:\n",
    "    sec += 1\n",
    "    \n",
    "    nx = x + dx[direction] # 예정 경로 설정.\n",
    "    ny = y + dy[direction]\n",
    "    \n",
    "    if nx < 0 or nx > n-1 or ny < 0 or ny > n-1:# 보드 밖으로 나간 경우 종료.\n",
    "        break\n",
    "    \n",
    "    if board[nx][ny] == 1: # 자기 몸통에 닿을 경우 종료.\n",
    "        break\n",
    "       \n",
    "    if board[nx][ny] == 10: # 사과가 있는 위치에 도달했을 때\n",
    "        x, y = nx, ny # 현재 뱀의 머리 좌표를 옮긴다.\n",
    "        board[x][y] = 1 # 새로운 머리 위치에 방문 표시.\n",
    "        snake.append([x, y]) # 뱀이 현재 위치한 좌표 리스트에 현재 머리 좌표 추가\n",
    "    \n",
    "    if board[nx][ny] == 0: # 사과가 없는 위치에 도착했을 때.\n",
    "        board[snake[0][0]][snake[0][1]] = 0 # 뱀 꼬리가 지나간 자리 방문표시 제거.\n",
    "        del snake[0] # 뱀이 현재 위치한 좌표 리스트에서 지나간 자리 위치 제거.\n",
    "        x, y = nx, ny # 현재 뱀의 머리 좌표 최신화.\n",
    "        \n",
    "        board[x][y] = 1 # 새로운 머리 위치에 방문 표시.\n",
    "        snake.append([x, y])\n",
    "        \n",
    "    if d_cnt < L:\n",
    "        if sec == d_info[d_cnt][0]: # 방향 전환 시간이 되었을 때, 방향 전환 준비.\n",
    "            if d_info[d_cnt][1] == 'D':\n",
    "                turn_right()      \n",
    "            elif d_info[d_cnt][1] == 'L':\n",
    "                turn_left()\n",
    "\n",
    "            d_cnt += 1\n",
    "            \n",
    "        \n",
    "print(sec)"
   ]
  },
  {
   "cell_type": "code",
   "execution_count": null,
   "metadata": {},
   "outputs": [],
   "source": []
  },
  {
   "cell_type": "markdown",
   "metadata": {},
   "source": [
    "### 기둥과 보 설치 \n",
    "### https://programmers.co.kr/learn/courses/30/lessons/60061"
   ]
  },
  {
   "cell_type": "code",
   "execution_count": 41,
   "metadata": {},
   "outputs": [],
   "source": [
    "# [x, y, a, b]. a가 0이면 기둥, b가 0이면 삭제.\n",
    "\n",
    "\n",
    "def solution(n, build_frame):\n",
    "    \n",
    "    pillar = set()\n",
    "    bo = set()\n",
    "    \n",
    "    for i in build_frame:\n",
    "        if i[2] == 0:\n",
    "            if i[0] < 0 or i[0] > n or i[1] < 0 or i[1] >= n:\n",
    "                continue\n",
    "        if i[2] == 1:\n",
    "            if i[0] < 0 or i[0] >= n or i[1] <= 0 or i[1] > n:\n",
    "                continue\n",
    "            \n",
    "                \n",
    "        \n",
    "        if i[3] == 1 and i[2] == 0:  # 설치 & 기둥인 경우\n",
    "            if i[1] == 0:\n",
    "                pillar.add((i[0], i[1], 0))\n",
    "                \n",
    "            elif (i[0], i[1]-1, 0) in pillar:\n",
    "                pillar.add((i[0], i[1], 0))\n",
    "                \n",
    "            elif (i[0]-1, i[1], 1) in bo or (i[0], i[1], 1) in bo:\n",
    "                pillar.add((i[0], i[1], 0))\n",
    "                \n",
    "        elif i[3] == 0 and i[2] == 0:   # 삭제 & 기둥일 때,\n",
    "            if (i[0], i[1]+1, 0) not in pillar and ((i[0], i[1]+1, 1) not in bo and (i[0]-1, i[1]+1, 1) not in bo):\n",
    "                pillar.remove((i[0], i[1], 0))\n",
    "                \n",
    "            elif (i[0], i[1]+1, 0) in pillar: # 만약에 삭제 대상의 위에 기둥이 있는 경우\n",
    "                if (i[0]-1, i[1]+1, 1) in bo and (i[0]-1, i[1], 0) in pillar:\n",
    "                    pillar.remove((i[0], i[1], 0))\n",
    "                if (i[0], i[1]+1, 1) in bo and (i[0]+1, i[1], 0) in pillar: # 삭제 대상 오른쪽 위에 보가 있는 경우\n",
    "                    pillar.remove((i[0], i[1], 0))\n",
    "            \n",
    "            elif (i[0]-1, i[1]+1, 1) in bo and (i[0], i[1]+1, 1) in bo: # 만약에 삭제 대상 기둥의 양 위에 보가 있을 때\n",
    "                if (((i[0]-2, i[1]+1, 1) in bo or (i[0]-1, i[1], 0) in pillar) and \n",
    "                    ((i[0]+1, i[1]+1, 1) in bo or (i[0]+1, i[1], 0) in pillar)):\n",
    "                    pillar.remove((i[0], i[1], 0))\n",
    "                    \n",
    "            elif (i[0]-1, i[1]+1, 1) in bo and (i[0], i[1]+1, 1) not in bo:\n",
    "                if (i[0]-1, i[1], 0) in pillar:\n",
    "                    pillar.remove((i[0], i[1], 0))\n",
    "                    \n",
    "            elif (i[0]-1, i[1]+1, 1) not in bo and (i[0], i[1]+1, 1) in bo:\n",
    "                if (i[0]+1, i[1], 0) in pillar:\n",
    "                    pillar.remove((i[0], i[1], 0))\n",
    "            \n",
    "            \n",
    "                    \n",
    "        \n",
    "        elif i[3] == 1 and i[2] == 1: # 설치 & 보인 경우\n",
    "            if (i[0], i[1]-1, 0) in pillar or (i[0]+1, i[1]-1, 0) in pillar: # 보의 끝에 하나라도 기둥이 깔려있는 경우\n",
    "                bo.add((i[0], i[1], 1))\n",
    "            elif (i[0]-1, i[1], 1) in bo and (i[0]+1, i[1], 1) in bo:\n",
    "                bo.add((i[0], i[1], 1))\n",
    "                \n",
    "        elif i[3] == 0 and i[2] == 1: # 삭제 & 보일 때,\n",
    "            if (((i[0], i[1], 0) not in pillar and (i[0]+1, i[1], 0) not in pillar) and \n",
    "                  ((i[0]-1, i[1], 1) not in bo and (i[0]+1, i[1], 1) not in bo)): # 위나 옆에 아~~~~무 것도 없는 경우\n",
    "                bo.remove((i[0], i[1], 1))\n",
    "                \n",
    "            elif (i[0], i[1], 0) in pillar:  # 만약에 삭제 대상의 바로 위에 기둥이 있는 경우\n",
    "                if (i[0]-1, i[1], 1) in bo or (i[0], i[1]-1, 0) in pillar: # 그 기둥의 왼쪽 아래에 보가 있거나 밑에 또다른 기둥.\n",
    "                    bo.remove((i[0], i[1], 1))\n",
    "            \n",
    "            elif (i[0]+1, i[1], 0) in pillar:  # 만약에 삭제 대상의 바로 위가 아닌 반대쪽 끝에 기둥이 있는 경우\n",
    "                if (i[0]+1, i[1], 1) in bo or (i[0]+1, i[1]-1, 0) in pillar:\n",
    "                    bo.remove((i[0], i[1], 1))\n",
    "                            \n",
    "            elif (i[0]-1, i[1], 1) in bo and (i[0]+1, i[1], 1) in bo: # 제거 대상 양쪽에 보가 있는 경우\n",
    "                if (((i[0]-1, i[1]-1, 0) in pillar or (i[0], i[1]-1, 0) in pillar) and \n",
    "                    ((i[0]+1, i[1]-1, 0) in pillar or (i[0]+2, i[1]-1, 0) in pillar)):\n",
    "                    bo.remove((i[0], i[1], 1))\n",
    "                    \n",
    "            elif (i[0]-1, i[1], 1) not in bo and (i[0]+1, i[1], 1) in bo: # 제거 대상 오른쪽에만 보가 있는 경우\n",
    "                if (i[0]+1, i[1]-1, 0) in pillar or (i[0]+2, i[1]-1, 0) in pillar:\n",
    "                    bo.remove((i[0], i[1], 1))\n",
    "                    \n",
    "            elif (i[0]-1, i[1], 1) in bo and (i[0]+1, i[1], 1) not in bo: # 제거 대상 왼쪽에만 보가 있는 경우\n",
    "                if (i[0]-1, i[1]-1, 0) in pillar or (i[0], i[1]-1, 0) in pillar:\n",
    "                    bo.remove((i[0], i[1], 1))\n",
    "                    \n",
    "            \n",
    "        \n",
    "    answer = list(pillar | bo) # 합집합 생성.\n",
    "        \n",
    "    answer = sorted(answer, key = lambda x : (x[0], x[1], x[2]))\n",
    "    answer = [list(v) for v in answer] # 생성한 합집한의 내용을 하나씩 꺼내서 리스트에 담기.\n",
    "                \n",
    "        \n",
    "        \n",
    "    return answer"
   ]
  },
  {
   "cell_type": "code",
   "execution_count": 42,
   "metadata": {},
   "outputs": [
    {
     "data": {
      "text/plain": [
       "[[1, 0, 0],\n",
       " [1, 1, 1],\n",
       " [2, 1, 0],\n",
       " [2, 2, 1],\n",
       " [3, 2, 1],\n",
       " [4, 2, 1],\n",
       " [5, 0, 0],\n",
       " [5, 1, 0]]"
      ]
     },
     "execution_count": 42,
     "metadata": {},
     "output_type": "execute_result"
    }
   ],
   "source": [
    "solution(5, [[1,0,0,1],[1,1,1,1],[2,1,0,1],[2,2,1,1],[5,0,0,1],[5,1,0,1],[4,2,1,1],[3,2,1,1]])"
   ]
  },
  {
   "cell_type": "code",
   "execution_count": 43,
   "metadata": {},
   "outputs": [
    {
     "data": {
      "text/plain": [
       "[[2, 0, 0], [2, 1, 0], [2, 1, 1]]"
      ]
     },
     "execution_count": 43,
     "metadata": {},
     "output_type": "execute_result"
    }
   ],
   "source": [
    "solution(7, [[2, 0, 0, 1], [2, 1, 1, 1], [2, 1, 0, 1], [2, 0, 0, 0]])"
   ]
  },
  {
   "cell_type": "code",
   "execution_count": 44,
   "metadata": {},
   "outputs": [
    {
     "data": {
      "text/plain": [
       "[[0, 0, 0], [0, 1, 1], [1, 1, 1], [2, 1, 1], [3, 1, 1], [4, 0, 0]]"
      ]
     },
     "execution_count": 44,
     "metadata": {},
     "output_type": "execute_result"
    }
   ],
   "source": [
    "solution(5, [[0,0,0,1],[2,0,0,1],[4,0,0,1],[0,1,1,1],[1,1,1,1],[2,1,1,1],[3,1,1,1],[2,0,0,0],[1,1,1,0],[2,2,0,1]])"
   ]
  },
  {
   "cell_type": "markdown",
   "metadata": {},
   "source": [
    "### 치킨 배달\n",
    "### 백준 15686"
   ]
  },
  {
   "cell_type": "code",
   "execution_count": 27,
   "metadata": {},
   "outputs": [
    {
     "name": "stdout",
     "output_type": "stream",
     "text": [
      "5 2\n",
      "0 2 0 1 0\n",
      "1 0 1 0 0\n",
      "0 0 0 0 0\n",
      "2 0 0 1 1\n",
      "2 2 0 1 2\n"
     ]
    }
   ],
   "source": [
    "n, m = map(int, input().split())\n",
    "\n",
    "seller = [] # 치킨집 목록\n",
    "house = [] # 집 목록\n",
    "for i in range(n):\n",
    "    city_info = list((map(int, input().split())))\n",
    "    \n",
    "    for j in range(n):\n",
    "        if city_info[j] == 2:\n",
    "            seller.append((i, j))\n",
    "        \n",
    "        elif city_info[j] == 1:\n",
    "            house.append((i, j))\n",
    "\n",
    "# 도시 전체 정보를 저장하는 게 아니라 집과 치킨 집에 대한 정보만 나누어 저장.\n",
    "# print(house)"
   ]
  },
  {
   "cell_type": "code",
   "execution_count": 28,
   "metadata": {},
   "outputs": [],
   "source": [
    "from itertools import combinations\n",
    "\n",
    "ls =  list(combinations(seller, m))"
   ]
  },
  {
   "cell_type": "code",
   "execution_count": 29,
   "metadata": {},
   "outputs": [
    {
     "name": "stdout",
     "output_type": "stream",
     "text": [
      "10\n"
     ]
    }
   ],
   "source": [
    "city_cdis = [] # 조합별 도시 치킨 거리\n",
    "\n",
    "for i in ls: # 치킨집 조합 하나씩 선택\n",
    "    distance = 0\n",
    "    for x, y in house:\n",
    "        cmpr = 3000 # 맵 크기 조건을 고려해서 적당히 큰 숫자 설정.\n",
    "        for cx, cy in i:\n",
    "            cmpr = min(cmpr, abs(x - cx) + abs(y - cy)) # 각 집마다 특정 치킨집까지의 치킨 거리 계산\n",
    "        distance += cmpr\n",
    "    \n",
    "    city_cdis.append(distance)\n",
    "    \n",
    "print(min(city_cdis))\n"
   ]
  },
  {
   "cell_type": "markdown",
   "metadata": {},
   "source": [
    "### 자물쇠와 열쇠\n",
    "### https://programmers.co.kr/learn/courses/30/lessons/60059"
   ]
  },
  {
   "cell_type": "code",
   "execution_count": 25,
   "metadata": {},
   "outputs": [
    {
     "data": {
      "text/plain": [
       "[1]"
      ]
     },
     "execution_count": 25,
     "metadata": {},
     "output_type": "execute_result"
    }
   ],
   "source": [
    "def solution(key, lock):\n",
    "    \n",
    "    \n",
    "    \n",
    "    \n",
    "    \n",
    "    answer = True\n",
    "    return answer"
   ]
  },
  {
   "cell_type": "code",
   "execution_count": 9,
   "metadata": {},
   "outputs": [
    {
     "data": {
      "text/plain": [
       "[(0, 2), (1, 4), (2, 1), (3, 2)]"
      ]
     },
     "execution_count": 9,
     "metadata": {},
     "output_type": "execute_result"
    }
   ],
   "source": []
  },
  {
   "cell_type": "code",
   "execution_count": null,
   "metadata": {},
   "outputs": [],
   "source": []
  },
  {
   "cell_type": "code",
   "execution_count": null,
   "metadata": {},
   "outputs": [],
   "source": []
  },
  {
   "cell_type": "code",
   "execution_count": null,
   "metadata": {},
   "outputs": [],
   "source": []
  },
  {
   "cell_type": "markdown",
   "metadata": {},
   "source": [
    "### 외벽 점검\n",
    "### https://programmers.co.kr/learn/courses/30/lessons/60062"
   ]
  },
  {
   "cell_type": "code",
   "execution_count": null,
   "metadata": {},
   "outputs": [],
   "source": [
    "def solution(n, weak, dist):\n",
    "    dist.sort(reverse = True)\n",
    "    \n",
    "    distance = [] #\n",
    "    for i in range(1, len(weak)): # 취약 지점 간극을 리스트에 정리\n",
    "        distance.append(weak[i] - weak[i-1])\n",
    "        \n",
    "    distance.sort(reverse = True)    \n",
    "    \n",
    "    answer = 0\n",
    "    return answer"
   ]
  },
  {
   "cell_type": "markdown",
   "metadata": {},
   "source": [
    "### 럭키 스트레이트\n",
    "\n",
    "https://www.acmicpc.net/problem/18406"
   ]
  },
  {
   "cell_type": "code",
   "execution_count": 7,
   "metadata": {},
   "outputs": [
    {
     "name": "stdout",
     "output_type": "stream",
     "text": [
      "7755\n",
      "READY\n"
     ]
    }
   ],
   "source": [
    "# 백준 18406\n",
    "\n",
    "n = str(input())\n",
    "\n",
    "left = 0\n",
    "right = 0\n",
    "\n",
    "for i in range(int(len(n)/2)):\n",
    "    left += int(n[i])\n",
    "    right += int(n[i + (int(len(n)/2))])\n",
    "                 \n",
    "\n",
    "if left == right:\n",
    "    print(\"LUCKY\")\n",
    "\n",
    "else:\n",
    "    print(\"READY\")\n",
    "                 \n",
    "                 \n",
    "                 "
   ]
  },
  {
   "cell_type": "markdown",
   "metadata": {},
   "source": [
    "### 문자열 재정렬"
   ]
  },
  {
   "cell_type": "code",
   "execution_count": 12,
   "metadata": {},
   "outputs": [
    {
     "name": "stdout",
     "output_type": "stream",
     "text": [
      "K1KA5CB7\n",
      "ABCKK13\n"
     ]
    }
   ],
   "source": [
    "s = input()\n",
    "\n",
    "num = 0\n",
    "result = []\n",
    "for i in s:\n",
    "    if i.isalpha():\n",
    "        result.append(i)\n",
    "    \n",
    "    else:\n",
    "        num += int(i)\n",
    "        \n",
    "result.sort()\n",
    "\n",
    "result.append(str(num))\n",
    "\n",
    "print(\"\".join(result))"
   ]
  },
  {
   "cell_type": "markdown",
   "metadata": {},
   "source": [
    "## BFS / DFS\n",
    "### 특정거리의 도시 찾기\n",
    "https://www.acmicpc.net/problem/18352"
   ]
  },
  {
   "cell_type": "code",
   "execution_count": 39,
   "metadata": {},
   "outputs": [
    {
     "name": "stdout",
     "output_type": "stream",
     "text": [
      "4 4 2 1\n",
      "1 2\n",
      "1 3\n",
      "2 3\n",
      "2 4\n",
      "4\n"
     ]
    }
   ],
   "source": [
    "# 백준 18352\n",
    "# import sys\n",
    "# input = sys.stdin.readline\n",
    "from collections import deque\n",
    "\n",
    "n, m, k, x = map(int, input().rstrip().split())\n",
    "\n",
    "edge = [[] for _ in range(n+1)]\n",
    "for i in range(m):\n",
    "    a, b = map(int, input().rstrip().split())\n",
    "    \n",
    "    edge[a].append(b)\n",
    "    \n",
    "\n",
    "    \n",
    "def spurs(edge, start):\n",
    "     \n",
    "    queue = deque([start])\n",
    "    visited[start] = 0\n",
    "    \n",
    "    while queue:\n",
    "        s_node = queue.popleft()\n",
    "        \n",
    "        for i in edge[s_node]:\n",
    "            if visited[i] == 1e9:\n",
    "                visited[i] = visited[s_node] + 1\n",
    "                \n",
    "                queue.append(i)\n",
    "                \n",
    "                \n",
    "visited = [1e9] * (n+1)   \n",
    "spurs(edge, x)\n",
    "    \n",
    "result = []\n",
    "for i, value in enumerate(visited):\n",
    "    if value == k:\n",
    "        result.append(i)\n",
    "\n",
    "if not result:\n",
    "    print(-1)\n",
    "else:\n",
    "    for i in result:\n",
    "        print(i)"
   ]
  },
  {
   "cell_type": "markdown",
   "metadata": {},
   "source": [
    "### 연구소\n",
    "https://www.acmicpc.net/problem/14502"
   ]
  },
  {
   "cell_type": "code",
   "execution_count": 134,
   "metadata": {},
   "outputs": [
    {
     "name": "stdout",
     "output_type": "stream",
     "text": [
      "7 7\n",
      "2 0 0 0 1 1 0\n",
      "0 0 1 0 1 2 0\n",
      "0 1 1 0 1 0 0\n",
      "0 1 0 0 0 0 0\n",
      "0 0 0 0 0 1 1\n",
      "0 1 0 0 0 0 0\n",
      "0 1 0 0 0 0 0\n"
     ]
    }
   ],
   "source": [
    "# 백준 14502\n",
    "\n",
    "from collections import deque\n",
    "from itertools import combinations\n",
    "from copy import deepcopy # 리스트 깊은 복사 \n",
    "\n",
    "n, m = map(int, input().split())\n",
    "\n",
    "lab = []\n",
    "virus = []\n",
    "empty = []\n",
    "for i in range(n):\n",
    "    a = list(map(int, input().split()))\n",
    "    lab.append(a)\n",
    "    for j in range(m):\n",
    "        if a[j] == 2:\n",
    "            virus.append((i, j))  # 바이러스 위치 저장\n",
    "        elif a[j] == 0:\n",
    "            empty.append((i, j))  # 빈칸 위치 저장\n",
    "\n",
    "wall = list(combinations(empty, 3))  # 빈칸 좌표 조합 \n",
    "queue = deque(virus)  \n",
    "\n",
    "\n",
    "dx = [-1, 1, 0, 0]\n",
    "dy = [0, 0, -1, 1]\n",
    "\n",
    "\n",
    "safe_area = []\n"
   ]
  },
  {
   "cell_type": "code",
   "execution_count": null,
   "metadata": {},
   "outputs": [],
   "source": [
    "## 이게 최종본... 데크랑 리스트 전부 복사해줘야 한다!\n",
    "\n",
    "for i in wall:   # 조합을 하나씩 선택한다.\n",
    "    lab_copy = deepcopy(lab) # 최초 연구소 상황을 저장한 리스트를 깊은 복사한다.\n",
    "    queue_copy = queue.copy() # 마찬가지로 deque를 복사한다.\n",
    "    count = 0     # 안전 영역 측정\n",
    "    \n",
    "    for a, b in i:\n",
    "        lab_copy[a][b] = 1   # 선택된 조합을 바탕으로 벽을 세 개 세운다.\n",
    "    \n",
    "\n",
    "    while queue_copy: # 복사한 deque.\n",
    "        x, y = queue_copy.popleft()\n",
    "        \n",
    "        for k in range(4):\n",
    "            nx = x + dx[k]\n",
    "            ny = y + dy[k]\n",
    "            \n",
    "            if nx < 0 or nx >= n or ny < 0 or ny >= m:\n",
    "                continue\n",
    "            \n",
    "            if lab_copy[nx][ny] == 0:\n",
    "                lab_copy[nx][ny] = 2\n",
    "                queue_copy.append((nx, ny))\n",
    "    \n",
    "                    \n",
    "    for p in range(n):\n",
    "        for q in range(m):\n",
    "            if lab_copy[p][q] == 0:\n",
    "                count += 1 # 바이러스가 퍼지지 않은 영역을 측정한다.\n",
    " \n",
    "    \n",
    "    \n",
    "    safe_area.append(count)\n",
    "\n",
    "\n",
    "    \n",
    "print(max(safe_area))"
   ]
  },
  {
   "cell_type": "code",
   "execution_count": 95,
   "metadata": {},
   "outputs": [],
   "source": [
    "############## 이 코드는 처음에 시도하다가 실패한 코드이다 #####################\n",
    "\n",
    "def bfs():\n",
    "    count = 0\n",
    "    \n",
    "    for a, b in i:\n",
    "        lab[a][b] = 1\n",
    "    \n",
    "\n",
    "    while queue:\n",
    "        x, y = queue.popleft()\n",
    "        print(x, y)\n",
    "        for k in range(4):\n",
    "            nx = x + dx[k]\n",
    "            ny = y + dy[k]\n",
    "            \n",
    "            if nx < 0 or nx >= n or ny < 0 or ny >= m:\n",
    "                continue\n",
    "            \n",
    "            if lab[nx][ny] == 0:\n",
    "                lab[nx][ny] = 2\n",
    "                queue.append((nx, ny))\n",
    "    \n",
    "                    \n",
    "    for p in range(n):\n",
    "        for q in range(m):\n",
    "            if lab[p][q] == 0:\n",
    "                count += 1\n",
    "    \n",
    "    for a, b in i:\n",
    "        lab[a][b] = 0\n",
    "    \n",
    "    return count\n",
    "\n",
    "for i in wall:\n",
    "    \n",
    "    bfs()\n",
    "    \n",
    "    \n",
    "    safe_area.append(count)\n",
    "\n",
    "                \n",
    "        \n",
    "    \n",
    "    \n",
    "print(max(safe_area))"
   ]
  },
  {
   "cell_type": "markdown",
   "metadata": {},
   "source": [
    "### 토마토\n",
    "\n",
    "연습용\n",
    "https://www.acmicpc.net/problem/7576"
   ]
  },
  {
   "cell_type": "code",
   "execution_count": 43,
   "metadata": {},
   "outputs": [
    {
     "name": "stdout",
     "output_type": "stream",
     "text": [
      "6 4\n",
      "0 -1 0 0 0 0\n",
      "-1 0 0 0 0 0\n",
      "0 0 0 0 0 0\n",
      "0 0 0 0 0 1\n",
      "-1\n"
     ]
    }
   ],
   "source": [
    "# 백준 7576\n",
    "\n",
    "from collections import deque\n",
    "\n",
    "m, n = map(int, input().split())\n",
    "\n",
    "box = []\n",
    "for i in range(n):\n",
    "    box.append(list(map(int, input().split())))\n",
    "    \n",
    "ripen = []\n",
    "for i in range(n):\n",
    "    for j in range(m):\n",
    "        if box[i][j] == 1:\n",
    "            ripen.append((i, j))\n",
    "            \n",
    "dx = [-1, 1, 0, 0]\n",
    "dy = [0, 0, -1, 1]\n",
    "            \n",
    "queue = deque(ripen)\n",
    "\n",
    "\n",
    "while queue:\n",
    "    x, y = queue.popleft()\n",
    "    \n",
    "    for i in range(4):\n",
    "        nx = x + dx[i]\n",
    "        ny = y + dy[i]\n",
    "        \n",
    "        if nx < 0 or nx >= n or ny < 0 or ny >= m:\n",
    "            continue\n",
    "            \n",
    "        if box[nx][ny] == 0:\n",
    "            box[nx][ny] = box[x][y] + 1\n",
    "            queue.append((nx, ny))\n",
    "        \n",
    "\n",
    "count = 0\n",
    "is_end = False\n",
    "for i in range(n):\n",
    "    for j in range(m):\n",
    "        if box[i][j] == 0:\n",
    "            is_end = True\n",
    "            break\n",
    "            \n",
    "        if box[i][j] > count:\n",
    "            count = box[i][j]\n",
    "    \n",
    "    if is_end:\n",
    "        count = -1\n",
    "        break\n",
    "        \n",
    "        \n",
    "if count != -1:\n",
    "    print(count - 1)\n",
    "else:\n",
    "    print(count)"
   ]
  },
  {
   "cell_type": "markdown",
   "metadata": {},
   "source": [
    "### 경쟁적 전염\n",
    "\n",
    "https://www.acmicpc.net/problem/18405"
   ]
  },
  {
   "cell_type": "code",
   "execution_count": 3,
   "metadata": {},
   "outputs": [
    {
     "name": "stdout",
     "output_type": "stream",
     "text": [
      "3 3\n",
      "1 0 2\n",
      "0 0 0\n",
      "3 0 0\n",
      "1 2 2\n",
      "0\n"
     ]
    }
   ],
   "source": [
    "# 백준 18405\n",
    "# 이거 바이러스에 힙큐 사용 가능? 그러니까 힙도 데크로 변형 가능?\n",
    "\n",
    "from collections import deque\n",
    "\n",
    "n, k = map(int, input().split())\n",
    "\n",
    "tube = []\n",
    "virus = []\n",
    "for i in range(n):\n",
    "    a = list(map(int, input().split()))\n",
    "    tube.append(a)\n",
    "    for j in range(n):\n",
    "        if a[j] != 0:\n",
    "            virus.append((a[j], i, j, 0)) # 바이러스 번호, 좌표, 시간을 기록한다.\n",
    "\n",
    "s, x, y = map(int, input().split())\n",
    "        \n",
    "            \n",
    "virus = sorted(virus, key = lambda x : x[0])  # 번호가 낮은 순으로 전염될 수 있도록 정렬한다.\n",
    "queue = deque(virus) # 정렬된 바이러스 리스트를 덱으로 만든다.\n",
    "\n",
    "dx = [-1, 1, 0, 0]\n",
    "dy = [0, 0, -1, 1]\n",
    "\n",
    "\n",
    "while queue:\n",
    "    \n",
    "    idx, p, q, sec = queue.popleft()\n",
    "    \n",
    "    if sec == s:\n",
    "        break\n",
    "    \n",
    "    for i in range(4):\n",
    "        nx = p + dx[i]\n",
    "        ny = q + dy[i]\n",
    "        \n",
    "        if nx < 0 or nx >= n or ny < 0 or ny >= n:\n",
    "            continue\n",
    "            \n",
    "        if tube[nx][ny] == 0:\n",
    "            tube[nx][ny] = tube[p][q]\n",
    "            queue.append((idx, nx, ny, sec + 1))\n",
    "            \n",
    "    \n",
    "    \n",
    "print(tube[x-1][y-1])"
   ]
  },
  {
   "cell_type": "markdown",
   "metadata": {},
   "source": [
    "### 괄호 변환\n",
    "https://programmers.co.kr/learn/courses/30/lessons/60058?language=python3"
   ]
  },
  {
   "cell_type": "code",
   "execution_count": 24,
   "metadata": {},
   "outputs": [],
   "source": [
    "##########  실패한 코드 #######\n",
    "\n",
    "def split_idx(text):   \n",
    "    l_cnt = []\n",
    "    r_cnt = []\n",
    "    for i in range(len(text)):\n",
    "        if text[i] == '(':\n",
    "            l_cnt.append(i)\n",
    "        else:\n",
    "            r_cnt.append(i)\n",
    "        \n",
    "        if len(l_cnt) == len(r_cnt):\n",
    "            idx = i\n",
    "            break\n",
    "    return idx\n",
    "\n",
    "def split_text(text, idx):   \n",
    "    u = text[:idx]\n",
    "    v = text[idx:]\n",
    "    \n",
    "    return u, v\n",
    "\n",
    "def is_right(text):   \n",
    "    ls = []\n",
    "    if text[0] == ')':\n",
    "        return False\n",
    "    \n",
    "    for i in text:\n",
    "        if i == '(':\n",
    "            ls.append(i)\n",
    "        else:\n",
    "            if len(ls) == 0:\n",
    "                return False\n",
    "            else:\n",
    "                ls.pop()\n",
    "        \n",
    "    if len(ls) > 0:\n",
    "        return False\n",
    "    else:\n",
    "        return True\n",
    "\n",
    "def if_not(u, v):  \n",
    "    new_text = '('\n",
    "    if v == '':\n",
    "        v = v\n",
    "    \n",
    "    vu = split_text(v, split_idx(v))[0]\n",
    "    vv = split_text(v, split_idx(v))[1]\n",
    "    \n",
    "    if is_right(vu):\n",
    "        v = vu + solution(vv)\n",
    "    if not is_right(vu):\n",
    "        v = if_not(vu, vv)\n",
    "    \n",
    "    new_text += (v + ')')\n",
    "    \n",
    "    for i in range(1, len(u)-1):\n",
    "        if u[i] == '(':\n",
    "            u[i] = ')'\n",
    "        else:\n",
    "            u[i] = '('\n",
    "    u.pop(0)\n",
    "    u.pop()\n",
    "    \n",
    "    new_text += u\n",
    "    \n",
    "    return new_text\n",
    "\n",
    "\n",
    "\n",
    "def solution(p):\n",
    "    \n",
    "    split_idx(p)\n",
    "    \n",
    "    a = split_text(p, split_idx(p))\n",
    "    \n",
    "    if is_right(a[0]):\n",
    "        u += solution(a[1])\n",
    "    \n",
    "    if not is_right:\n",
    "        if_not(a[0], a[1])\n",
    "    \n",
    "    answer = u\n",
    "    return answer\n",
    "\n"
   ]
  },
  {
   "cell_type": "code",
   "execution_count": 25,
   "metadata": {},
   "outputs": [],
   "source": [
    "####### 통과한 코드 ########\n",
    "\n",
    "def split_idx(text):  # 문자열을 나눌 위치 반환\n",
    "    l_cnt = []\n",
    "    r_cnt = []\n",
    "    for i in range(len(text)):\n",
    "        if text[i] == '(':\n",
    "            l_cnt.append(i)\n",
    "        else:\n",
    "            r_cnt.append(i)\n",
    "        \n",
    "        if len(l_cnt) == len(r_cnt):\n",
    "            idx = i\n",
    "            break\n",
    "    return idx\n",
    "\n",
    "def split_text(text, idx):    # 문자열 분리\n",
    "    u = text[:idx + 1]\n",
    "    v = text[idx + 1:]\n",
    "    \n",
    "    return u, v\n",
    "\n",
    "def is_right(text):    # 올바른 괄호 문자열인지?\n",
    "    ls = []\n",
    "    if text[0] == ')':\n",
    "        return False\n",
    "    \n",
    "    for i in text:\n",
    "        if i == '(':\n",
    "            ls.append(i)\n",
    "        else:\n",
    "            if len(ls) == 0:\n",
    "                return False\n",
    "            else:\n",
    "                ls.pop()\n",
    "        \n",
    "    if len(ls) > 0:\n",
    "        return False\n",
    "    else:\n",
    "        return True\n",
    "\n",
    "def if_not(u, v):   # 만약 올바른 괄호 문자열이 아니라면.\n",
    "    new_text = '(' + solution(v) + ')'\n",
    "    \n",
    "    u = list(u[1:-1])\n",
    "    \n",
    "    for i in range(len(u)):\n",
    "        if u[i] == '(':\n",
    "            u[i] = ')'\n",
    "        else:\n",
    "            u[i] = '('\n",
    "    u = ''.join(u)\n",
    "    new_text += u\n",
    "    \n",
    "    return new_text\n",
    "\n",
    "def solution(p):\n",
    "    if not p:\n",
    "        return ''\n",
    "    \n",
    "    u, v = split_text(p, split_idx(p))\n",
    "    \n",
    "    if is_right(u):\n",
    "        return u + solution(v)\n",
    "    else:\n",
    "        return if_not(u, v)"
   ]
  },
  {
   "cell_type": "markdown",
   "metadata": {},
   "source": [
    "### 연산자 끼워넣기\n",
    "\n",
    "https://www.acmicpc.net/problem/14888\n"
   ]
  },
  {
   "cell_type": "code",
   "execution_count": 27,
   "metadata": {},
   "outputs": [],
   "source": [
    "# 백준 14888\n",
    "\n"
   ]
  },
  {
   "cell_type": "markdown",
   "metadata": {},
   "source": [
    "### 감시 피하기\n",
    "\n",
    "https://www.acmicpc.net/problem/18428"
   ]
  },
  {
   "cell_type": "code",
   "execution_count": 5,
   "metadata": {},
   "outputs": [
    {
     "name": "stdout",
     "output_type": "stream",
     "text": [
      "4\n",
      "S S S T\n",
      "X X X X\n",
      "X X X X\n",
      "T T T X\n"
     ]
    }
   ],
   "source": [
    "# 백준 18428\n",
    "\n",
    "from collections import deque\n",
    "from itertools import combinations\n",
    "from copy import deepcopy\n",
    "\n",
    "n = int(input())\n",
    "\n",
    "corridor = []\n",
    "teacher = []\n",
    "empty = []\n",
    "std = []\n",
    "for i in range(n):\n",
    "    a = list(map(str, input().upper().split()))\n",
    "    corridor.append(a)\n",
    "    for j in range(n):   \n",
    "        if a[j] == 'T':  # 선생님 좌표 저장하기\n",
    "            teacher.append((i, j))\n",
    "        \n",
    "        elif a[j] == 'X':   # 빈칸 좌표 저장하기. 장애물 설치 조합을 위해서.\n",
    "            empty.append((i, j))\n",
    "        \n",
    "        else:\n",
    "            std.append(a[j])   # 총 학생 수를 구하기 위한 것. 근데 그냥 std = 0 으로 해두고 1씩 더하는 방법도 있다.\n",
    "            \n",
    "obs = list(combinations(empty, 3))   # 장애물 설치 좌표 조합.\n",
    "\n"
   ]
  },
  {
   "cell_type": "code",
   "execution_count": 20,
   "metadata": {},
   "outputs": [
    {
     "name": "stdout",
     "output_type": "stream",
     "text": [
      "NO\n"
     ]
    }
   ],
   "source": [
    "for i in obs:  # 장애물 조합 하나씩 선택.\n",
    "    count = 0\n",
    "    corridor_copy = deepcopy(corridor)  # 깊은 복사.\n",
    "    for a, b in i:\n",
    "        corridor_copy[a][b] = 'O'   # 장애물 설치.\n",
    "    \n",
    "    for j, k in teacher:  # 선생님 좌표 하나씩 선택\n",
    "        for p in range(1, n): # 해당 선생님 좌표를 기준으로 시작해서 왼쪽으로 나아간다.\n",
    "            if k-p < 0:\n",
    "                continue\n",
    "                \n",
    "            if corridor_copy[j][k-p] == 'O':   # 만약 장애물을 만나면 거기서 정지.\n",
    "                break\n",
    "            else:\n",
    "                corridor_copy[j][k-p] = 1   # 장애물을 만나지 않는 이상 계속 1로 바꾼다.\n",
    "        \n",
    "        for p in range(1, n): # 해당 선생님 좌표를 기준으로 시작해서 오른쪽으로 나아간다.\n",
    "            if k+p >= n:\n",
    "                continue   \n",
    "                \n",
    "            if corridor_copy[j][k+p] == 'O':\n",
    "                break\n",
    "            else:\n",
    "                corridor_copy[j][k+p] = 1\n",
    "                \n",
    "        for p in range(1, n):   # 해당 선생님 좌표를 기준으로 시작해서 아래쪽으로 나아간다.\n",
    "            if j+p >= n:\n",
    "                continue\n",
    "            \n",
    "            if corridor_copy[j+p][k] == 'O':\n",
    "                break\n",
    "            else:\n",
    "                corridor_copy[j+p][k] = 1\n",
    "                \n",
    "        for p in range(1, n):   # 해당 선생님 좌표를 기준으로 시작해서 위쪽으로 나아간다.\n",
    "            if j-p < 0:\n",
    "                continue\n",
    "            \n",
    "            if corridor_copy[j-p][k] == 'O':\n",
    "                break\n",
    "            else:\n",
    "                corridor_copy[j-p][k] = 1\n",
    "            \n",
    "    # 이제 학생 수 세어야지\n",
    "    for i in range(n):\n",
    "        for j in range(n):\n",
    "            if corridor_copy[i][j] == 'S':\n",
    "                count += 1\n",
    "                \n",
    "    if count == len(std):   # 만약 학생수랑 카운트가 일치하면 즉시 정지.\n",
    "        print(\"YES\")\n",
    "        break\n",
    "        \n",
    "        \n",
    "if count != len(std):\n",
    "    print(\"NO\")\n",
    "        \n",
    "    \n",
    "#  이런 방법도 있다. 훨씬 깔끔.\n",
    "# check = True\n",
    "# for x, y in teacher_pos:\n",
    "#     for i in range(4):\n",
    "#        nx, ny = x, y\n",
    "#        while True:\n",
    "#            nx, ny = nx + dx[i], ny + dy[i]\n",
    "#            if nx < 0 or ny < 0 or nx >= n or ny >= n or (nx, ny) in wall:\n",
    "#                break\n",
    "#            if graph[nx][ny] == 'S':\n",
    "#                check = False\n",
    "#                break\n",
    "#      if not check:\n",
    "#          break\n"
   ]
  },
  {
   "cell_type": "markdown",
   "metadata": {},
   "source": [
    "### 인구 이동\n",
    "\n",
    "https://www.acmicpc.net/problem/16234"
   ]
  },
  {
   "cell_type": "code",
   "execution_count": 26,
   "metadata": {},
   "outputs": [
    {
     "name": "stdout",
     "output_type": "stream",
     "text": [
      "3 5 10\n",
      "10 15 20\n",
      "20 30 25\n",
      "40 22 10\n",
      "2\n"
     ]
    }
   ],
   "source": [
    "# 백준 16234\n",
    "\n",
    "from collections import deque\n",
    "\n",
    "n, l, r = map(int, input().split())\n",
    "land = []\n",
    "people = []\n",
    "for i in range(n):\n",
    "    a = list(map(int, input().split()))\n",
    "    land.append(a)\n",
    "    \n",
    "\n",
    "dx = [-1, 1, 0, 0]\n",
    "dy = [0, 0, -1, 1]\n",
    "\n",
    "movement = 0\n",
    "total_movement = 0\n",
    "while movement < n*n:\n",
    "     \n",
    "    visited = [[False] * n for i in range(n)]\n",
    "    \n",
    "    for i in range(n):\n",
    "        for j in range(n):\n",
    "            if visited[i][j] != False:\n",
    "                continue\n",
    "                \n",
    "            team = []\n",
    "            queue = deque([(i, j)])\n",
    "            team.append((i, j))\n",
    "            \n",
    "            total_pop = land[i][j]\n",
    "            count = 1\n",
    "    \n",
    "\n",
    "            while queue:\n",
    "                x, y = queue.popleft()\n",
    "                \n",
    "                visited[x][y] == True\n",
    "    \n",
    "                for k in range(4):\n",
    "                       \n",
    "        \n",
    "                    nx = x + dx[k]\n",
    "                    ny = y + dy[k]\n",
    "        \n",
    "                    if nx < 0 or nx >= n or ny < 0 or ny >= n:\n",
    "                        continue\n",
    "                    \n",
    "                    if visited[nx][ny] == False:\n",
    "                        if l <= abs(land[x][y] - land[nx][ny]) <= r:\n",
    "                            queue.append((nx, ny))\n",
    "                            team.append((nx, ny))\n",
    "                            total_pop += land[nx][ny]\n",
    "                            count += 1\n",
    "                            \n",
    "                            visited[nx][ny] = True\n",
    "                            \n",
    "            for p, q in team:\n",
    "                land[p][q] = total_pop // count\n",
    "            \n",
    "            \n",
    "            movement += 1\n",
    "            \n",
    "    \n",
    "        \n",
    "    total_movement += 1\n",
    "    \n",
    "    \n",
    "\n",
    "    \n",
    "print(total_movement)\n",
    "    \n",
    "        \n",
    "    \n",
    "    \n",
    "                            \n",
    "            \n",
    "                            \n",
    "            "
   ]
  },
  {
   "cell_type": "markdown",
   "metadata": {},
   "source": [
    "## 정렬\n",
    "\n",
    "### 국영수\n",
    "\n",
    "https://www.acmicpc.net/problem/10825"
   ]
  },
  {
   "cell_type": "code",
   "execution_count": 32,
   "metadata": {},
   "outputs": [
    {
     "name": "stdout",
     "output_type": "stream",
     "text": [
      "3\n",
      "Junkyu 50 60 100\n",
      "Sangkeun 80 60 50\n",
      "Sunyoung 80 70 100\n",
      "Sangkeun\n",
      "Sunyoung\n",
      "Junkyu\n"
     ]
    }
   ],
   "source": [
    "# 백준 10825\n",
    "\n",
    "\n",
    "\n",
    "n = int(input())\n",
    "\n",
    "ls = []\n",
    "for i in range(n):\n",
    "    name, k, e, m = input().split()\n",
    "    k, e, m = int(k), int(e), int(m)\n",
    "    ls.append(tuple([name, k, e, m]))\n",
    "\n",
    "ls = sorted(ls, key = lambda x : (-x[1], x[2], -x[3], x[0]))\n",
    "\n",
    "for i in ls:\n",
    "    print(i[0])"
   ]
  },
  {
   "cell_type": "markdown",
   "metadata": {},
   "source": [
    "### 안테나\n",
    "\n",
    "https://www.acmicpc.net/problem/18310"
   ]
  },
  {
   "cell_type": "code",
   "execution_count": 33,
   "metadata": {},
   "outputs": [
    {
     "name": "stdout",
     "output_type": "stream",
     "text": [
      "4\n",
      "5 1 7 9\n",
      "5\n"
     ]
    }
   ],
   "source": [
    "# 백준 18310...이거 시간초과 pypy에 sys 썼는데도!\n",
    "\n",
    "n = int(input())\n",
    "house = list(map(int, input().split()))\n",
    "\n",
    "house.sort()\n",
    "mini = 1e9\n",
    "result = 0\n",
    "for i in range(n):\n",
    "    hab = 0\n",
    "    for j in house:\n",
    "        hab += abs(house[i] - j)\n",
    "        \n",
    "    if mini > hab:\n",
    "        mini = hab\n",
    "        result = house[i]\n",
    "        \n",
    "print(result)"
   ]
  },
  {
   "cell_type": "code",
   "execution_count": 34,
   "metadata": {},
   "outputs": [
    {
     "name": "stdout",
     "output_type": "stream",
     "text": [
      "4\n",
      "5 1 7 9\n",
      "5\n"
     ]
    }
   ],
   "source": [
    "# 백준 18310\n",
    "\n",
    "n = int(input())\n",
    "house = list(map(int, input().split()))\n",
    "\n",
    "house.sort()\n",
    "\n",
    "if len(house) % 2 == 0:\n",
    "    print(house[(len(house)//2) - 1])\n",
    "    \n",
    "else:\n",
    "    print(house[(len(house)//2)])"
   ]
  },
  {
   "cell_type": "code",
   "execution_count": 35,
   "metadata": {},
   "outputs": [
    {
     "name": "stdout",
     "output_type": "stream",
     "text": [
      "3\n",
      "1 3\n",
      "2 5\n",
      "3 3\n",
      "2\n"
     ]
    }
   ],
   "source": [
    "# 백준 2141\n",
    "# 18310 문제와 비슷한 문제\n",
    "# 일단 이렇게 하면 메모리 초과.\n",
    "\n",
    "n = int(input())\n",
    "people = []\n",
    "\n",
    "for i in range(n):\n",
    "    x, a = map(int, input().split())\n",
    "    \n",
    "    for j in range(a):\n",
    "        people.append(x)\n",
    "        \n",
    "people.sort()\n",
    "    \n",
    "if len(people) % 2 == 0:\n",
    "    print(people[(len(people)//2) - 1])\n",
    "    \n",
    "else:\n",
    "    print(people[(len(people)//2)])\n"
   ]
  },
  {
   "cell_type": "code",
   "execution_count": 44,
   "metadata": {},
   "outputs": [
    {
     "name": "stdout",
     "output_type": "stream",
     "text": [
      "3\n",
      "1 3\n",
      "2 5\n",
      "3 3\n",
      "2\n"
     ]
    }
   ],
   "source": [
    "# 백준 2141\n",
    "\n",
    "n = int(input())\n",
    "ls = []\n",
    "pop = 0\n",
    "for i in range(n):\n",
    "    x, a = map(int, input().split())\n",
    "    ls.append(tuple([x, a]))\n",
    "    pop += a\n",
    "    \n",
    "ls. sort()\n",
    "\n",
    "cnt = 0\n",
    "for i in range(n):\n",
    "    cnt += ls[i][1]\n",
    "    if cnt >= ((pop + 1) // 2):\n",
    "        print(ls[i][0])\n",
    "        break\n",
    "   "
   ]
  },
  {
   "cell_type": "markdown",
   "metadata": {},
   "source": [
    "### 실패율\n",
    "\n",
    "https://programmers.co.kr/learn/courses/30/lessons/42889\n",
    "    \n",
    "   "
   ]
  },
  {
   "cell_type": "code",
   "execution_count": 69,
   "metadata": {},
   "outputs": [],
   "source": [
    "\n",
    "\n",
    "def solution(N, stages):\n",
    "    answer = []\n",
    "    ls = []\n",
    "    length = len(stages)\n",
    "    \n",
    "    for i in range(1, N + 1):\n",
    "        cnt = stages.count(i)\n",
    "        \n",
    "        if cnt == 0:\n",
    "            ls.append(tuple([0, i]))\n",
    "            continue\n",
    "        \n",
    "        fail = cnt / length\n",
    "        ls.append(tuple([fail, i]))\n",
    "        length -= cnt\n",
    "    \n",
    "    ls = sorted(ls, key = lambda x : (-x[0], x[1]))\n",
    "    \n",
    "    for i in ls:\n",
    "        answer.append(i[1])\n",
    "    \n",
    "    return answer"
   ]
  },
  {
   "cell_type": "markdown",
   "metadata": {},
   "source": [
    "### 카드 정렬하기\n",
    "\n",
    "https://www.acmicpc.net/problem/1715\n",
    "        \n"
   ]
  },
  {
   "cell_type": "code",
   "execution_count": 10,
   "metadata": {},
   "outputs": [
    {
     "name": "stdout",
     "output_type": "stream",
     "text": [
      "4\n",
      "10\n",
      "30\n",
      "40\n",
      "60\n",
      "260\n"
     ]
    }
   ],
   "source": [
    "# 백준 1715\n",
    "\n",
    "n = int(input())\n",
    "\n",
    "card = []\n",
    "for i in range(n):\n",
    "    card.append(int(input()))\n",
    "    \n",
    "card.sort()\n",
    "\n",
    "accu = 0\n",
    "result = 0\n",
    "for i in range(1, len(card)):\n",
    "    if card[i] == card[i+1] and card[i+1] == card[i+2]:\n",
    "        accu += (card[i-1] + card[i])\n",
    "        next_card = card[i+1] + card[i+2]\n",
    "        result += (accu + next_card)\n",
    "        \n",
    "    else:\n",
    "        accu += card[i-1]\n",
    "        next_card = card[i]\n",
    "        result += (accu + next_card)\n",
    "        \n",
    "        \n",
    "\n",
    "print(result)"
   ]
  },
  {
   "cell_type": "code",
   "execution_count": 9,
   "metadata": {},
   "outputs": [
    {
     "data": {
      "text/plain": [
       "[10, 20, 40]"
      ]
     },
     "execution_count": 9,
     "metadata": {},
     "output_type": "execute_result"
    }
   ],
   "source": [
    "n = int(input())\n",
    "\n",
    "card = []\n",
    "for i in range(n):\n",
    "    card.append(int(input()))\n",
    "    \n",
    "card.sort()\n",
    "\n",
    "accu = 0\n",
    "result = 0\n",
    "for i in range(1, len(card)):\n",
    "    if card[i] == card[i+1] and card[i+1] == card[i+2]:\n",
    "        accu += (card[i-1] + card[i])\n",
    "        next_card = card[i+1] + card[i+2]\n",
    "        result += (accu + next_card)\n",
    "        \n",
    "    else:\n",
    "        accu += card[i-1]\n",
    "        next_card = card[i]\n",
    "        result += (accu + next_card)\n",
    "        \n",
    "        \n",
    "\n",
    "print(result)"
   ]
  },
  {
   "cell_type": "code",
   "execution_count": 68,
   "metadata": {},
   "outputs": [
    {
     "data": {
      "text/plain": [
       "[3, 4, 2, 1, 5]"
      ]
     },
     "execution_count": 68,
     "metadata": {},
     "output_type": "execute_result"
    }
   ],
   "source": [
    "answer"
   ]
  },
  {
   "cell_type": "code",
   "execution_count": null,
   "metadata": {},
   "outputs": [],
   "source": []
  }
 ],
 "metadata": {
  "kernelspec": {
   "display_name": "Python 3.7.5 64-bit ('Namlister': virtualenv)",
   "language": "python",
   "name": "python37564bitnamlistervirtualenv5d7bb17d3c984c36aee202a2f6a91336"
  },
  "language_info": {
   "codemirror_mode": {
    "name": "ipython",
    "version": 3
   },
   "file_extension": ".py",
   "mimetype": "text/x-python",
   "name": "python",
   "nbconvert_exporter": "python",
   "pygments_lexer": "ipython3",
   "version": "3.7.5"
  }
 },
 "nbformat": 4,
 "nbformat_minor": 2
}
