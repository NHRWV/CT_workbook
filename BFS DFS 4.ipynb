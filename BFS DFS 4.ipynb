{
 "cells": [
  {
   "cell_type": "markdown",
   "id": "40d4be8c",
   "metadata": {},
   "source": [
    "https://www.acmicpc.net/problem/9311"
   ]
  },
  {
   "cell_type": "code",
   "execution_count": null,
   "id": "eb980f07",
   "metadata": {},
   "outputs": [],
   "source": [
    "# Robot in a Maze\n",
    "\n",
    "from collections import deque\n",
    "\n",
    "dx = [-1, 1, 0, 0]\n",
    "dy = [0, 0, -1, 1]\n",
    "\n",
    "def sol():\n",
    "    while queue:\n",
    "        x, y, count = queue.popleft()\n",
    "        \n",
    "        if maze[x][y] == 'G':\n",
    "            return f\"Shortest Path: {count}\"\n",
    "        \n",
    "        for i in range(4):\n",
    "            nx = x + dx[i]\n",
    "            ny = y + dy[i]\n",
    "            \n",
    "            if nx < 0 or nx >= r or ny < 0 or ny >= c:\n",
    "                continue\n",
    "                \n",
    "            if not visited[nx][ny] and maze[nx][ny] != 'X':\n",
    "                visited[nx][ny] = 1\n",
    "                queue.append((nx, ny, count + 1))\n",
    "                \n",
    "                \n",
    "    return \"No Exit\"\n",
    "                \n",
    "                \n",
    "                \n",
    "t = int(input())\n",
    "for _ in range(t):\n",
    "    r, c = map(int, input().split())\n",
    "    \n",
    "    maze = []\n",
    "    visited = [[0] * c for _ in range(r)]\n",
    "    \n",
    "    for i in range(r):\n",
    "        a = list(map(str, input().rstrip()))\n",
    "        for j in range(c):\n",
    "            if a[j] == 'S':\n",
    "                queue = deque([(i, j, 0)])\n",
    "                visited[i][j] = 1\n",
    "        maze.append(a)\n",
    "        \n",
    "        \n",
    "    print(sol())\n",
    "    "
   ]
  }
 ],
 "metadata": {
  "kernelspec": {
   "display_name": "Python 3",
   "language": "python",
   "name": "python3"
  },
  "language_info": {
   "codemirror_mode": {
    "name": "ipython",
    "version": 3
   },
   "file_extension": ".py",
   "mimetype": "text/x-python",
   "name": "python",
   "nbconvert_exporter": "python",
   "pygments_lexer": "ipython3",
   "version": "3.8.8"
  }
 },
 "nbformat": 4,
 "nbformat_minor": 5
}
