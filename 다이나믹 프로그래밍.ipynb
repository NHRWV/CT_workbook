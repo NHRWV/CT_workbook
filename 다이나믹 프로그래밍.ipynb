{
 "cells": [
  {
   "cell_type": "code",
   "execution_count": 4,
   "metadata": {},
   "outputs": [
    {
     "name": "stdout",
     "output_type": "stream",
     "text": [
      "3\n",
      "0\n",
      "1\n",
      "3\n",
      "1 0\n",
      "0 1\n",
      "1 2\n"
     ]
    }
   ],
   "source": [
    "# 백준 1003\n",
    "\n",
    "t = int(input())\n",
    "ls = []\n",
    "for i in range(t):\n",
    "    n = int(input())\n",
    "    ls.append(n)\n",
    "\n",
    "\n",
    "result = [0] * 41\n",
    "result[0] = (1, 0)\n",
    "result[1] = (0, 1)\n",
    "\n",
    "for i in range(2, len(result)):\n",
    "    result[i] = (result[i-1][0] + result[i-2][0], result[i-1][1] + result[i-2][1])\n",
    "\n",
    "for i in ls:\n",
    "    print(result[i][0], result[i][1])\n",
    "\n"
   ]
  },
  {
   "cell_type": "code",
   "execution_count": null,
   "metadata": {},
   "outputs": [],
   "source": []
  }
 ],
 "metadata": {
  "kernelspec": {
   "display_name": "Python 3.7.5 64-bit ('Namlister': virtualenv)",
   "language": "python",
   "name": "python37564bitnamlistervirtualenv5d7bb17d3c984c36aee202a2f6a91336"
  },
  "language_info": {
   "codemirror_mode": {
    "name": "ipython",
    "version": 3
   },
   "file_extension": ".py",
   "mimetype": "text/x-python",
   "name": "python",
   "nbconvert_exporter": "python",
   "pygments_lexer": "ipython3",
   "version": "3.7.5"
  }
 },
 "nbformat": 4,
 "nbformat_minor": 2
}
