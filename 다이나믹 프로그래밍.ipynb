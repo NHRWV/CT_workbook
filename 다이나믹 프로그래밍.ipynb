{
 "cells": [
  {
   "cell_type": "code",
   "execution_count": null,
   "metadata": {},
   "outputs": [],
   "source": [
    "# 백준 1003\n",
    "\n",
    "t = int(input())\n",
    "ls = []\n",
    "for i in range(t):\n",
    "    n = int(input())\n",
    "    ls.append(n)\n",
    "\n",
    "\n",
    "result = [0] * 41\n",
    "result[0] = (1, 0)\n",
    "result[1] = (0, 1)\n",
    "\n",
    "for i in range(2, len(result)):\n",
    "    result[i] = (result[i-1][0] + result[i-2][0], result[i-1][1] + result[i-2][1])\n",
    "\n",
    "for i in ls:\n",
    "    print(result[i][0], result[i][1])\n",
    "\n"
   ]
  },
  {
   "cell_type": "markdown",
   "metadata": {},
   "source": [
    "https://www.acmicpc.net/problem/1463"
   ]
  },
  {
   "cell_type": "code",
   "execution_count": null,
   "metadata": {},
   "outputs": [],
   "source": [
    "# 백준 1463\n",
    "\n",
    "n = int(input())\n",
    "\n",
    "dp = [0] * 1000001\n",
    "\n",
    "for i in range(2, n+1):\n",
    "    \n",
    "    dp[i] = dp[i-1] + 1\n",
    "    \n",
    "    if i % 2 == 0:\n",
    "        dp[i] = min(dp[i], dp[i // 2] + 1)\n",
    "        \n",
    "    if i % 3 == 0:\n",
    "        dp[i] = min(dp[i], dp[i // 3] + 1)\n",
    "        \n",
    "        \n",
    "print(dp[n])"
   ]
  },
  {
   "cell_type": "markdown",
   "metadata": {},
   "source": [
    "https://www.acmicpc.net/problem/1932"
   ]
  },
  {
   "cell_type": "code",
   "execution_count": null,
   "metadata": {},
   "outputs": [],
   "source": [
    "# 백준 1932\n",
    "\n",
    "from copy import deepcopy\n",
    "\n",
    "n = int(input())\n",
    "tri = []\n",
    "for i in range(n):\n",
    "    tri.append(list(map(int, input().split())))\n",
    "    \n",
    "dp = deepcopy(tri)\n",
    "\n",
    "for i in range(n):\n",
    "    for j in range(i+1):\n",
    "        if j == 0:\n",
    "            upper_left = 0\n",
    "            \n",
    "        else:\n",
    "            upper_left = dp[i-1][j-1]\n",
    "            \n",
    "        if j == i:\n",
    "            upper = 0\n",
    "            \n",
    "        else:\n",
    "            upper = dp[i-1][j]\n",
    "            \n",
    "        dp[i][j] = dp[i][j] + max(upper_left, upper)\n",
    "        \n",
    "print(max(dp[n-1]))"
   ]
  },
  {
   "cell_type": "markdown",
   "metadata": {},
   "source": [
    "https://www.acmicpc.net/problem/14501"
   ]
  },
  {
   "cell_type": "code",
   "execution_count": null,
   "metadata": {},
   "outputs": [],
   "source": [
    "# 백준 14501\n",
    "\n",
    "n = int(input())\n",
    "schedule = []\n",
    "for i in range(n):\n",
    "    schedule.append(list(map(int, input().split())))\n",
    "    \n",
    "dp = [0] * (n+1)\n",
    "max_profit = 0\n",
    "for i in range(n-1, -1, -1):\n",
    "    if i + schedule[i][0] <= n:\n",
    "        dp[i] = max(schedule[i][1] + dp[i + schedule[i][0]], max_profit)\n",
    "        max_profit = dp[i]\n",
    "        \n",
    "    else:\n",
    "        dp[i] = max_profit\n",
    "        \n",
    "        \n",
    "print(max_profit)"
   ]
  },
  {
   "cell_type": "markdown",
   "metadata": {},
   "source": [
    "https://www.acmicpc.net/problem/1904"
   ]
  },
  {
   "cell_type": "code",
   "execution_count": null,
   "metadata": {},
   "outputs": [],
   "source": [
    "# 백준 1904\n",
    "\n",
    "n = int(input())\n",
    "dp = [0] * 1000001\n",
    "\n",
    "dp[1] = 1\n",
    "dp[2] = 2\n",
    "for i in range(3, n+1):\n",
    "    dp[i] = (dp[i-1] + dp[i-2]) % 15746\n",
    "    \n",
    "\n",
    "print(dp[n])    "
   ]
  },
  {
   "cell_type": "markdown",
   "metadata": {},
   "source": [
    "https://www.acmicpc.net/problem/9461"
   ]
  },
  {
   "cell_type": "code",
   "execution_count": null,
   "metadata": {},
   "outputs": [],
   "source": [
    "# 백준 9461\n",
    "\n",
    "t = int(input())\n",
    "pn = []\n",
    "for i in range(t):\n",
    "    pn.append(int(input()))\n",
    "    \n",
    "    \n",
    "dp = [0] * 101\n",
    "\n",
    "dp[1] = 1\n",
    "dp[2] = 1\n",
    "dp[3] = 1\n",
    "dp[4] = 2\n",
    "dp[5] = 2\n",
    "for i in range(6, 101):\n",
    "    dp[i] = dp[i-1] + dp[i-5]\n",
    "    \n",
    "for i in pn:\n",
    "    print(dp[i])"
   ]
  },
  {
   "cell_type": "markdown",
   "metadata": {},
   "source": [
    "https://www.acmicpc.net/problem/15486"
   ]
  },
  {
   "cell_type": "code",
   "execution_count": null,
   "metadata": {},
   "outputs": [],
   "source": [
    "n = int(input())\n",
    "schedule = []\n",
    "for i in range(n):\n",
    "    schedule.append(list(map(int, input().split())))\n",
    "    \n",
    "dp = [0] * (n+1)\n",
    "max_profit = 0\n",
    "for i in range(n-1, -1, -1):\n",
    "    if i + schedule[i][0] <= n:\n",
    "        dp[i] = max(schedule[i][1] + dp[i + schedule[i][0]], max_profit)\n",
    "        max_profit = dp[i]\n",
    "        \n",
    "    else:\n",
    "        dp[i] = max_profit\n",
    "        \n",
    "        \n",
    "print(max_profit)"
   ]
  },
  {
   "cell_type": "code",
   "execution_count": null,
   "metadata": {},
   "outputs": [],
   "source": [
    "# 퇴사2 문제. 다른 사람 코드\n",
    "# https://www.acmicpc.net/source/30033511\n",
    "\n",
    "n = int(input().rstrip())\n",
    "table = [list(map(int, input().rstrip().split())) for _ in range(n)]\n",
    "\n",
    "\n",
    "def solution(n):\n",
    "    dp = [0] * (n+1)\n",
    "    day = 0\n",
    "    max_value = 0\n",
    "    for t in table:\n",
    "        countDay, cost = t[0], t[1]\n",
    "\n",
    "        # 여태까지 제일 많이 받은 보수\n",
    "        if dp[day] > max_value:\n",
    "            max_value = dp[day]\n",
    "\n",
    "        if day+countDay <= n:\n",
    "            dp[day+countDay] = max(max_value + cost, dp[day+countDay])\n",
    "        day += 1\n",
    "    return max(dp)\n",
    "\n",
    "\n",
    "print(solution(n))\n"
   ]
  },
  {
   "cell_type": "markdown",
   "metadata": {},
   "source": [
    "https://www.acmicpc.net/problem/1149"
   ]
  },
  {
   "cell_type": "code",
   "execution_count": null,
   "metadata": {},
   "outputs": [],
   "source": [
    "# 백준 1149\n",
    "\n",
    "n = int(input())\n",
    "cost = []\n",
    "for i in range(n):\n",
    "    cost.append(list(map(int, input().split())))\n",
    "    \n",
    "for i in range(1, n):\n",
    "    for j in range(3):\n",
    "        if j == 0:\n",
    "            cost[i][j] = cost[i][j] + min(cost[i-1][1], cost[i-1][2])\n",
    "            \n",
    "        elif j == 1:\n",
    "            cost[i][j] = cost[i][j] + min(cost[i-1][0], cost[i-1][2])\n",
    "            \n",
    "        if j == 2:\n",
    "            cost[i][j] = cost[i][j] + min(cost[i-1][0], cost[i-1][1])\n",
    "        \n",
    "        \n",
    "print(min(cost[n-1]))"
   ]
  },
  {
   "cell_type": "markdown",
   "metadata": {},
   "source": [
    "https://www.acmicpc.net/problem/2579"
   ]
  },
  {
   "cell_type": "code",
   "execution_count": null,
   "metadata": {},
   "outputs": [],
   "source": [
    "# 백준 2679\n",
    "\n",
    "n = int(input())\n",
    "score = [0] * 300\n",
    "for i in range(n):\n",
    "    score[i] = int(input())\n",
    "    \n",
    "dp = [0] * 300\n",
    "\n",
    "dp[0] = score[0]\n",
    "dp[1] = score[0] + score[1]\n",
    "dp[2] = max(score[0] + score[2], score[1] + score[2])\n",
    "\n",
    "for i in range(3, n):\n",
    "    dp[i] = max(score[i] + score[i-1] + dp[i-3], score[i] + dp[i-2])\n",
    "    \n",
    "print(dp[n-1])"
   ]
  },
  {
   "cell_type": "markdown",
   "metadata": {},
   "source": [
    "https://www.acmicpc.net/problem/10844"
   ]
  },
  {
   "cell_type": "code",
   "execution_count": null,
   "metadata": {},
   "outputs": [],
   "source": [
    "# 백준 10844\n",
    "\n",
    "n = int(input())\n",
    "\n",
    "dp = [([0] * 10) for _ in range(101)]\n",
    "for i in range(1, 10):\n",
    "    dp[1][i] = 1\n",
    "    \n",
    "for i in range(2, n+1):\n",
    "    for j in range(10):\n",
    "        if j == 0:\n",
    "            dp[i][j] = dp[i-1][j+1]\n",
    "            \n",
    "        elif j == 9:\n",
    "            dp[i][j] = dp[i-1][j-1]\n",
    "            \n",
    "        else:\n",
    "            dp[i][j] = dp[i-1][j-1] + dp[i-1][j+1]\n",
    "            \n",
    "\n",
    "\n",
    "print(sum(dp[n]) % 1000000000)"
   ]
  },
  {
   "cell_type": "markdown",
   "metadata": {},
   "source": [
    "https://www.acmicpc.net/problem/2156"
   ]
  },
  {
   "cell_type": "code",
   "execution_count": null,
   "metadata": {},
   "outputs": [],
   "source": [
    "# 백준 2156\n",
    "\n",
    "n = int(input())\n",
    "wine = [0] * 10001\n",
    "for i in range(n):\n",
    "    wine[i] = int(input())\n",
    "    \n",
    "dp = [0] * 10001\n",
    "\n",
    "dp[0] = wine[0]\n",
    "dp[1] = wine[0] + wine[1]\n",
    "dp[2] = max(wine[0] + wine[2], wine[1] + wine[2], dp[1])\n",
    "\n",
    "for i in range(3, n):\n",
    "    \n",
    "    dp[i] = max(wine[i] + wine[i-1] + dp[i-3], wine[i] + dp[i-2], dp[i-1])\n",
    "    \n",
    "\n",
    "print(max(dp))"
   ]
  },
  {
   "cell_type": "markdown",
   "metadata": {},
   "source": [
    "https://www.acmicpc.net/problem/11053"
   ]
  },
  {
   "cell_type": "code",
   "execution_count": null,
   "metadata": {},
   "outputs": [],
   "source": [
    "# 백준 11053\n",
    "\n",
    "n = int(input())\n",
    "seq = list(map(int, input().split()))\n",
    "\n",
    "dp = [0] * 1001\n",
    "for i in range(n):\n",
    "    for j in range(i):\n",
    "        if seq[i] > seq[j]:\n",
    "            if dp[i] < dp[j]:\n",
    "                dp[i] = dp[j]\n",
    "    dp[i] += 1\n",
    "            \n",
    "print(max(dp))"
   ]
  },
  {
   "cell_type": "markdown",
   "metadata": {},
   "source": [
    "https://www.acmicpc.net/problem/11054"
   ]
  },
  {
   "cell_type": "code",
   "execution_count": null,
   "metadata": {},
   "outputs": [],
   "source": [
    "# 백준 11054\n",
    "\n",
    "n = int(input())\n",
    "seq = list(map(int, input().split()))\n",
    "\n",
    "dp = [1] * 1001\n",
    "i_s = [1] * 1001\n",
    "d_s = [1] * 1001\n",
    "\n",
    "for i in range(n):\n",
    "    for j in range(i):\n",
    "        if seq[i] > seq[j]:\n",
    "            if i_s[i] < i_s[j] + 1:\n",
    "                i_s[i] = i_s[j] + 1\n",
    "                \n",
    "for i in range(n-1, -1, -1):\n",
    "    for j in range(i+1, n):\n",
    "        if seq[i] > seq[j]:\n",
    "            if d_s[i] < d_s[j] + 1:\n",
    "                d_s[i] = d_s[j] + 1\n",
    "                \n",
    "\n",
    "for i in range(n):\n",
    "    dp[i] = i_s[i] + d_s[i] - 1\n",
    "    \n",
    "print(max(dp))\n",
    "    \n",
    "            \n"
   ]
  },
  {
   "cell_type": "code",
   "execution_count": null,
   "metadata": {},
   "outputs": [],
   "source": [
    "# 백준 11054\n",
    "# 이런 방법도 있다.\n",
    "# https://backtony.github.io/algorithm/2021/02/21/algorithm-boj-class4-27/\n",
    "\n",
    "n = int(input())\n",
    "a = list(map(int, input().split()))\n",
    "reverse_a = a[::-1]  # 감소하는 부분 수열의 길이를 구하기 위해 뒤집기\n",
    "\n",
    "# 수열에서 자기 자신을 포함\n",
    "dp_up = [1] * n  # 증가하는 부분 수열의 최대 길이\n",
    "dp_down = [1] * n  # 감소하는 부분 수열의 최대 길이\n",
    "dp_ans = [0] * n  # 합산할 dp테이블\n",
    "\n",
    "for i in range(n):\n",
    "    for j in range(i):\n",
    "        # i보다 앞선 인덱스 value 값보다\n",
    "        # i인덱스의 value가 더 큰 경우 수열의 길이 수정\n",
    "        if a[j] < a[i]:\n",
    "            dp_up[i] = max(dp_up[j] + 1, dp_up[i])\n",
    "        if reverse_a[j] < reverse_a[i]:\n",
    "            dp_down[i] = max(dp_down[j] + 1, dp_down[i])\n",
    "\n",
    "for i in range(n):\n",
    "    # reverse는 수열을 뒤집어서 사용했으므로\n",
    "    # 합산할 때 이에 따른 인덱스값을 고려해줘야 한다.\n",
    "    dp_ans[i] = dp_up[i] + dp_down[n - i - 1]\n",
    "\n",
    "# 각 dp에서 자기 자신을 포함했으므로 한 번 제거해줘야함\n",
    "print(max(dp_ans) - 1)\n"
   ]
  },
  {
   "cell_type": "markdown",
   "metadata": {},
   "source": [
    "https://www.acmicpc.net/problem/2565"
   ]
  },
  {
   "cell_type": "code",
   "execution_count": null,
   "metadata": {},
   "outputs": [],
   "source": [
    "# 백준 2565\n",
    "\n",
    "n = int(input())\n",
    "seq = []\n",
    "for i in range(n):\n",
    "    a, b = map(int, input().split())\n",
    "    seq.append(tuple([a, b]))\n",
    "\n",
    "seq.sort()\n",
    "\n",
    "dp = [1] * 501\n",
    "for i in range(n):\n",
    "    for j in range(i):\n",
    "        if seq[i][1] > seq[j][1]:\n",
    "            if dp[i] < dp[j] + 1:\n",
    "                dp[i] = dp[j] + 1\n",
    "    \n",
    "            \n",
    "print(n - max(dp))"
   ]
  },
  {
   "cell_type": "markdown",
   "metadata": {},
   "source": [
    "https://www.acmicpc.net/problem/9251"
   ]
  },
  {
   "cell_type": "code",
   "execution_count": null,
   "metadata": {},
   "outputs": [],
   "source": [
    "# 백준 9251\n",
    "\n",
    "letter0 = input()\n",
    "letter1 = input()\n",
    "\n",
    "dp = [[0] * (len(letter1) + 1) for _ in range(len(letter0) + 1)]\n",
    "\n",
    "for i in range(1, len(letter0) + 1):\n",
    "    for j in range(1, len(letter1) + 1):\n",
    "        if letter0[i-1] == letter1[j-1]:\n",
    "            dp[i][j] = dp[i-1][j-1] + 1\n",
    "            \n",
    "        else:\n",
    "            dp[i][j] = max(dp[i][j-1], dp[i-1][j])\n",
    "            \n",
    "        \n",
    "print(dp[-1][-1])            "
   ]
  },
  {
   "cell_type": "markdown",
   "metadata": {},
   "source": [
    "https://www.acmicpc.net/problem/1912"
   ]
  },
  {
   "cell_type": "code",
   "execution_count": null,
   "metadata": {},
   "outputs": [],
   "source": [
    "# 백준 1912\n",
    "\n",
    "n = int(input())\n",
    "seq = list(map(int, input().split()))\n",
    "\n",
    "dp = [-1000] * 100001\n",
    "\n",
    "dp[0] = seq[0]\n",
    "\n",
    "for i in range(1, n):\n",
    "    if seq[i] + dp[i-1] >= 0:\n",
    "        dp[i] = max(dp[i-1] + seq[i], seq[i])\n",
    "        \n",
    "    else:\n",
    "        dp[i] = seq[i]\n",
    "    \n",
    "    \n",
    "       \n",
    "print(max(dp))"
   ]
  },
  {
   "cell_type": "markdown",
   "metadata": {},
   "source": [
    "https://www.acmicpc.net/problem/12865"
   ]
  },
  {
   "cell_type": "code",
   "execution_count": null,
   "metadata": {},
   "outputs": [],
   "source": [
    "# 백준 12865\n",
    "\n",
    "n, k = map(int, input().split())\n",
    "\n",
    "item = [(0, 0)]\n",
    "for i in range(n):\n",
    "    w, v = map(int, input().split())\n",
    "    item.append(tuple([w, v]))\n",
    "    \n",
    "dp = [[0] * (k + 1) for _ in range(n + 1)]\n",
    "\n",
    "for i in range(1, n+1):\n",
    "    for j in range(1, k+1):\n",
    "        if j >= item[i][0]:\n",
    "            dp[i][j] = max(dp[i-1][j], dp[i-1][j - item[i][0]] + item[i][1])\n",
    "            \n",
    "        else:\n",
    "            dp[i][j] = dp[i-1][j]\n",
    "\n",
    "\n",
    "print(dp[n][k])"
   ]
  },
  {
   "cell_type": "markdown",
   "metadata": {},
   "source": [
    "https://www.acmicpc.net/problem/14002"
   ]
  },
  {
   "cell_type": "code",
   "execution_count": null,
   "metadata": {},
   "outputs": [],
   "source": [
    "# 백준 14002\n",
    "\n",
    "\n",
    "\n",
    "n = int(input())\n",
    "seq = list(map(int, input().split()))\n",
    "\n",
    "dp = [1] * (n+1)\n",
    "\n",
    "for i in range(n):\n",
    "    for j in range(i):\n",
    "        if seq[i] > seq[j]:\n",
    "            if dp[i] < dp[j] + 1:\n",
    "                dp[i] = dp[j] + 1\n",
    "                \n",
    "                \n",
    "print(max(dp))\n",
    "\n",
    "answer = []\n",
    "num = max(dp)\n",
    "for i in range(n-1, -1, -1):\n",
    "    if dp[i] == num:\n",
    "        answer.append(seq[i])\n",
    "        num -= 1\n",
    "\n",
    "answer.sort()\n",
    "print(*answer)\n",
    "\n"
   ]
  },
  {
   "cell_type": "markdown",
   "metadata": {},
   "source": [
    "https://www.acmicpc.net/problem/17404"
   ]
  },
  {
   "cell_type": "code",
   "execution_count": null,
   "metadata": {},
   "outputs": [],
   "source": [
    "# 백준 17404\n",
    "\n",
    "from copy import deepcopy\n",
    "\n",
    "n = int(input())\n",
    "cost = []\n",
    "for i in range(n):\n",
    "    cost.append(list(map(int, input().split())))\n",
    "    \n",
    "dp = deepcopy(cost)\n",
    "inf = int(1e9)\n",
    "\n",
    "answer = inf\n",
    "for i in range(3):\n",
    "    for j in range(3):\n",
    "        if j == i:\n",
    "            dp[0][j] = cost[0][j]\n",
    "            \n",
    "        else:\n",
    "            dp[0][j] = inf\n",
    "            \n",
    "    for j in range(1, n):\n",
    "        dp[j][0] = cost[j][0] + min(dp[j-1][1], dp[j-1][2])\n",
    "        dp[j][1] = cost[j][1] + min(dp[j-1][0], dp[j-1][2])\n",
    "        dp[j][2] = cost[j][2] + min(dp[j-1][0], dp[j-1][1])\n",
    "            \n",
    "    for j in range(3):\n",
    "        if j != i:\n",
    "            answer = min(answer, dp[n-1][j])\n",
    "            \n",
    "    \n",
    "print(answer)"
   ]
  },
  {
   "cell_type": "markdown",
   "metadata": {},
   "source": [
    "https://www.acmicpc.net/problem/12852"
   ]
  },
  {
   "cell_type": "code",
   "execution_count": null,
   "metadata": {},
   "outputs": [],
   "source": [
    "# 백준 12852\n",
    "\n",
    "n = int(input())\n",
    "\n",
    "dp = [[0, []] for _ in range(1000001)]\n",
    "dp[1][1] = [1]\n",
    "\n",
    "for i in range(2, n+1):\n",
    "    \n",
    "    dp[i][0] = dp[i-1][0] + 1\n",
    "    dp[i][1] = dp[i-1][1] + [i]\n",
    "   \n",
    "    \n",
    "    if i % 2 == 0 and dp[i // 2][0] + 1 < dp[i][0]:\n",
    "        dp[i][0] = dp[i // 2][0] + 1\n",
    "        dp[i][1] = dp[i // 2][1] + [i]\n",
    "        \n",
    "        \n",
    "    if i % 3 == 0 and dp[i // 3][0] + 1 < dp[i][0]:\n",
    "        dp[i][0] = dp[i // 3][0] + 1\n",
    "        dp[i][1] = dp[i // 3][1] + [i]\n",
    "        \n",
    "        \n",
    "        \n",
    "print(dp[n][0])\n",
    "dp[n][1].reverse()\n",
    "print(*dp[n][1])"
   ]
  },
  {
   "cell_type": "markdown",
   "metadata": {},
   "source": [
    "https://www.acmicpc.net/problem/11052"
   ]
  },
  {
   "cell_type": "code",
   "execution_count": null,
   "metadata": {},
   "outputs": [],
   "source": [
    "# 백준 11052 카드 구매하기\n",
    "\n",
    "n = int(input())\n",
    "seq = [0] + list(map(int, input().split()))\n",
    "\n",
    "dp = [0] * (n+1)\n",
    "dp[1] = 1\n",
    "\n",
    "for i in range(1, n+1):\n",
    "    for j in range(1, i+1):\n",
    "        dp[i] = max(dp[i], dp[i-j] + seq[j])\n",
    "            \n",
    "        \n",
    "            \n",
    "print(dp[n])"
   ]
  },
  {
   "cell_type": "markdown",
   "metadata": {},
   "source": [
    "https://www.acmicpc.net/problem/11057"
   ]
  },
  {
   "cell_type": "code",
   "execution_count": 7,
   "metadata": {},
   "outputs": [
    {
     "data": {
      "text/plain": [
       "[0, 1, 5, 6, 7]"
      ]
     },
     "execution_count": 7,
     "metadata": {},
     "output_type": "execute_result"
    }
   ],
   "source": [
    "# 백준 11057 오르막 수\n",
    "\n",
    "n = int(input())\n",
    "\n",
    "lst = [1] * 10\n",
    "dp = lst[::]\n",
    "\n",
    "for i in range(1, n):\n",
    "    for j in range(10):\n",
    "        for k in range(j+1, 10):\n",
    "            dp[j] += lst[k]\n",
    "        \n",
    "    lst = dp[::]\n",
    "        \n",
    "        \n",
    "print(sum(dp) % 10007)"
   ]
  },
  {
   "cell_type": "code",
   "execution_count": null,
   "metadata": {},
   "outputs": [],
   "source": [
    "n = int(input())\n",
    "\n",
    "lst = [1] * 10\n",
    "dp = lst[::]\n",
    "\n",
    "for i in range(1, n):\n",
    "    for j in range(10):\n",
    "        for k in range(j+1, 10):\n",
    "            dp[j] += lst[k]\n",
    "        \n",
    "    lst = dp[::]\n",
    "        \n",
    "        \n",
    "print(sum(dp) % 10007)"
   ]
  },
  {
   "cell_type": "markdown",
   "metadata": {},
   "source": [
    "https://www.acmicpc.net/problem/9465"
   ]
  },
  {
   "cell_type": "code",
   "execution_count": null,
   "metadata": {},
   "outputs": [],
   "source": [
    "# 백준 9465 스티커\n",
    "\n",
    "t = int(input())\n",
    "for _ in range(t):\n",
    "    n = int(input())\n",
    "    \n",
    "    dp = []\n",
    "    for i in range(2):\n",
    "        dp.append(list(map(int, input().split())))\n",
    "        \n",
    "       \n",
    "    for i in range(1, n):\n",
    "        if i == 1:\n",
    "            dp[0][i] += dp[1][i-1]\n",
    "            dp[1][i] += dp[0][i-1]\n",
    "            \n",
    "        else:\n",
    "            dp[0][i] = max(dp[1][i-1], dp[1][i-2]) + dp[0][i]\n",
    "            dp[1][i] = max(dp[0][i-1], dp[0][i-2]) + dp[1][i]\n",
    "        \n",
    "    print(max(dp[0][n-1], dp[1][n-1]))\n",
    "        \n",
    "        \n"
   ]
  },
  {
   "cell_type": "markdown",
   "metadata": {},
   "source": [
    "https://www.acmicpc.net/problem/2293"
   ]
  },
  {
   "cell_type": "code",
   "execution_count": null,
   "metadata": {},
   "outputs": [],
   "source": [
    "# 백준 2293 동전 1\n",
    "\n",
    "\n",
    "n, k = map(int, input().split())\n",
    "\n",
    "coin = []\n",
    "for i in range(n):\n",
    "    coin.append(int(input()))\n",
    "    \n",
    "    \n",
    "dp = [0] * (k+1)\n",
    "dp[0] = 1\n",
    "for i in coin:\n",
    "    for j in range(i, k+1):\n",
    "        if j-i >= 0:\n",
    "            dp[j] += dp[j-i]\n",
    "            \n",
    "print(dp[k])"
   ]
  },
  {
   "cell_type": "markdown",
   "metadata": {},
   "source": [
    "https://www.acmicpc.net/problem/2133"
   ]
  },
  {
   "cell_type": "code",
   "execution_count": null,
   "metadata": {},
   "outputs": [],
   "source": [
    "# 백준 2133 타일 채우기\n",
    "\n",
    "n = int(input())\n",
    "\n",
    "if n % 2:\n",
    "    print(0)\n",
    "\n",
    "else:\n",
    "    dp = [0] * 31\n",
    "    dp[2] = 3\n",
    "    \n",
    "    for i in range(4, n+1, 2):\n",
    "        dp[i] = 3 * dp[i-2] + 2 * sum(dp[:i-2]) + 2\n",
    "        \n",
    "    print(dp[n])\n",
    "\n"
   ]
  },
  {
   "cell_type": "markdown",
   "metadata": {},
   "source": [
    "https://www.acmicpc.net/problem/11048"
   ]
  },
  {
   "cell_type": "code",
   "execution_count": null,
   "metadata": {},
   "outputs": [],
   "source": [
    "# 백준 11048 이동하기\n",
    "\n",
    "n, m = map(int, input().split())\n",
    "\n",
    "maze = []\n",
    "for i in range(n):\n",
    "    maze.append(list(map(int, input().split())))\n",
    "    \n",
    "    \n",
    "lst = [[0] * m for _ in range(n)]\n",
    "lst[0][0] = maze[0][0]\n",
    "\n",
    "for i in range(n):\n",
    "    for j in range(m):\n",
    "        if i == 0:\n",
    "            if j > 0:\n",
    "                maze[i][j] += maze[i][j-1]\n",
    "        \n",
    "        else:\n",
    "            if j == 0:\n",
    "                left = 0\n",
    "                upleft = 0\n",
    "                up = maze[i-1][j]\n",
    "                \n",
    "            else:\n",
    "                left = maze[i][j-1]\n",
    "                upleft = maze[i-1][j-1]\n",
    "                up = maze[i-1][j]\n",
    "                \n",
    "            \n",
    "            maze[i][j] += max(left, upleft, up)\n",
    "            \n",
    "            \n",
    "print(maze[n-1][m-1])\n",
    "            \n",
    "            \n",
    "            \n"
   ]
  },
  {
   "cell_type": "markdown",
   "metadata": {},
   "source": [
    "https://www.acmicpc.net/problem/1309"
   ]
  },
  {
   "cell_type": "code",
   "execution_count": null,
   "metadata": {},
   "outputs": [],
   "source": [
    "# 백준 1309 동물원\n",
    "\n",
    "\n",
    "n = int(input())\n",
    "\n",
    "dp = [1] * (n+1)\n",
    "dp[1] = 3\n",
    "\n",
    "for i in range(2, n+1):\n",
    "    dp[i] = dp[i-1] * 2 + dp[i-2]\n",
    "    dp[i] %= 9901\n",
    "    \n",
    "print(dp[n])"
   ]
  },
  {
   "cell_type": "markdown",
   "metadata": {},
   "source": [
    "https://www.acmicpc.net/problem/2407"
   ]
  },
  {
   "cell_type": "code",
   "execution_count": null,
   "metadata": {},
   "outputs": [],
   "source": [
    "# 백준 2407 조합\n",
    "# 하지만 다프로 풀지 않겠다.\n",
    "\n",
    "import math\n",
    "\n",
    "n, m = map(int, input().split())\n",
    "\n",
    "print(math.factorial(n) // (math.factorial(n-m) * math.factorial(m)))"
   ]
  },
  {
   "cell_type": "markdown",
   "metadata": {},
   "source": [
    "https://www.acmicpc.net/problem/15988"
   ]
  },
  {
   "cell_type": "code",
   "execution_count": null,
   "metadata": {},
   "outputs": [],
   "source": [
    "# 1, 2, 3 더하기 3\n",
    "\n",
    "dp = [0] * 1000001\n",
    "\n",
    "dp[0] = 1\n",
    "dp[1] = 1\n",
    "dp[2] = 2\n",
    "\n",
    "for i in range(3, 1000001):\n",
    "    dp[i] = (dp[i-1] + dp[i-2] + dp[i-3]) % 1000000009\n",
    "\n",
    "t = int(input())\n",
    "for _ in range(t):\n",
    "    n = int(input())\n",
    "    print(dp[n])\n",
    "    \n",
    "    "
   ]
  },
  {
   "cell_type": "markdown",
   "metadata": {},
   "source": [
    "https://www.acmicpc.net/problem/15990"
   ]
  },
  {
   "cell_type": "code",
   "execution_count": null,
   "metadata": {},
   "outputs": [],
   "source": [
    "# 1, 2, 3 더하기 5\n",
    "\n",
    "dp = [[0] * 4 for _ in range(100001)]\n",
    "\n",
    "dp[1] = [0, 1, 0, 0]\n",
    "dp[2] = [0, 0, 1, 0]\n",
    "dp[3] = [0, 1, 1, 1]\n",
    "\n",
    "for i in range(4, 100001):\n",
    "    dp[i][1] = (dp[i-1][2] + dp[i-1][3]) % 1000000009\n",
    "    dp[i][2] = (dp[i-2][1] + dp[i-2][3]) % 1000000009\n",
    "    dp[i][3] = (dp[i-3][1] + dp[i-3][2]) % 1000000009\n",
    "\n",
    "t = int(input())\n",
    "for _ in range(t):\n",
    "    n = int(input())\n",
    "    print(sum(dp[n]) % 1000000009)"
   ]
  },
  {
   "cell_type": "markdown",
   "metadata": {},
   "source": [
    "https://www.acmicpc.net/problem/2038"
   ]
  },
  {
   "cell_type": "code",
   "execution_count": 10,
   "metadata": {},
   "outputs": [
    {
     "name": "stdout",
     "output_type": "stream",
     "text": [
      "100\n",
      "21\n"
     ]
    }
   ],
   "source": [
    "# 골롱 수열\n",
    "\n",
    "\n",
    "n = int(input())\n",
    "\n",
    "dp = [0] * (n+1)\n",
    "\n",
    "dp[1] = 1\n",
    "hab = 1\n",
    "\n",
    "for i in range(2, n+1):\n",
    "    dp[i] = 1 + dp[i - dp[dp[i-1]]]\n",
    "    hab += dp[i]\n",
    "    \n",
    "    if hab >= n:\n",
    "        print(i)\n",
    "        break\n",
    "        \n",
    "        \n",
    "# dp의 인덱스값이 hab이라고 할 때, hab까지는 dp값이 i이다."
   ]
  },
  {
   "cell_type": "markdown",
   "metadata": {},
   "source": [
    "https://www.acmicpc.net/problem/11058"
   ]
  },
  {
   "cell_type": "code",
   "execution_count": null,
   "metadata": {},
   "outputs": [],
   "source": [
    "# 크리보드\n",
    "\n",
    "n = int(input())\n",
    "\n",
    "dp = [i for i in range(101)]\n",
    "\n",
    "for i in range(7, n+1):\n",
    "    dp[i] = max(dp[i - 3] * 2, dp[i - 4] * 3, dp[i - 5] * 4)\n",
    "    \n",
    "print(dp[n])"
   ]
  },
  {
   "cell_type": "code",
   "execution_count": 2,
   "metadata": {
    "scrolled": true
   },
   "outputs": [
    {
     "data": {
      "text/plain": [
       "[0,\n",
       " 1,\n",
       " 2,\n",
       " 3,\n",
       " 4,\n",
       " 5,\n",
       " 6,\n",
       " 9,\n",
       " 12,\n",
       " 16,\n",
       " 20,\n",
       " 27,\n",
       " 12,\n",
       " 13,\n",
       " 14,\n",
       " 15,\n",
       " 16,\n",
       " 17,\n",
       " 18,\n",
       " 19,\n",
       " 20,\n",
       " 21,\n",
       " 22,\n",
       " 23,\n",
       " 24,\n",
       " 25,\n",
       " 26,\n",
       " 27,\n",
       " 28,\n",
       " 29,\n",
       " 30,\n",
       " 31,\n",
       " 32,\n",
       " 33,\n",
       " 34,\n",
       " 35,\n",
       " 36,\n",
       " 37,\n",
       " 38,\n",
       " 39,\n",
       " 40,\n",
       " 41,\n",
       " 42,\n",
       " 43,\n",
       " 44,\n",
       " 45,\n",
       " 46,\n",
       " 47,\n",
       " 48,\n",
       " 49,\n",
       " 50,\n",
       " 51,\n",
       " 52,\n",
       " 53,\n",
       " 54,\n",
       " 55,\n",
       " 56,\n",
       " 57,\n",
       " 58,\n",
       " 59,\n",
       " 60,\n",
       " 61,\n",
       " 62,\n",
       " 63,\n",
       " 64,\n",
       " 65,\n",
       " 66,\n",
       " 67,\n",
       " 68,\n",
       " 69,\n",
       " 70,\n",
       " 71,\n",
       " 72,\n",
       " 73,\n",
       " 74,\n",
       " 75,\n",
       " 76,\n",
       " 77,\n",
       " 78,\n",
       " 79,\n",
       " 80,\n",
       " 81,\n",
       " 82,\n",
       " 83,\n",
       " 84,\n",
       " 85,\n",
       " 86,\n",
       " 87,\n",
       " 88,\n",
       " 89,\n",
       " 90,\n",
       " 91,\n",
       " 92,\n",
       " 93,\n",
       " 94,\n",
       " 95,\n",
       " 96,\n",
       " 97,\n",
       " 98,\n",
       " 99,\n",
       " 100]"
      ]
     },
     "execution_count": 2,
     "metadata": {},
     "output_type": "execute_result"
    }
   ],
   "source": [
    "dp"
   ]
  },
  {
   "cell_type": "code",
   "execution_count": 9,
   "metadata": {},
   "outputs": [
    {
     "data": {
      "text/plain": [
       "21"
      ]
     },
     "execution_count": 9,
     "metadata": {},
     "output_type": "execute_result"
    }
   ],
   "source": [
    "i"
   ]
  },
  {
   "cell_type": "code",
   "execution_count": 5,
   "metadata": {
    "scrolled": true
   },
   "outputs": [
    {
     "data": {
      "text/plain": [
       "[0,\n",
       " 1,\n",
       " 2,\n",
       " 3,\n",
       " 4,\n",
       " 5,\n",
       " 6,\n",
       " 9,\n",
       " 12,\n",
       " 16,\n",
       " 20,\n",
       " 27,\n",
       " 12,\n",
       " 13,\n",
       " 14,\n",
       " 15,\n",
       " 16,\n",
       " 17,\n",
       " 18,\n",
       " 19,\n",
       " 20,\n",
       " 21,\n",
       " 22,\n",
       " 23,\n",
       " 24,\n",
       " 25,\n",
       " 26,\n",
       " 27,\n",
       " 28,\n",
       " 29,\n",
       " 30,\n",
       " 31,\n",
       " 32,\n",
       " 33,\n",
       " 34,\n",
       " 35,\n",
       " 36,\n",
       " 37,\n",
       " 38,\n",
       " 39,\n",
       " 40,\n",
       " 41,\n",
       " 42,\n",
       " 43,\n",
       " 44,\n",
       " 45,\n",
       " 46,\n",
       " 47,\n",
       " 48,\n",
       " 49,\n",
       " 50,\n",
       " 51,\n",
       " 52,\n",
       " 53,\n",
       " 54,\n",
       " 55,\n",
       " 56,\n",
       " 57,\n",
       " 58,\n",
       " 59,\n",
       " 60,\n",
       " 61,\n",
       " 62,\n",
       " 63,\n",
       " 64,\n",
       " 65,\n",
       " 66,\n",
       " 67,\n",
       " 68,\n",
       " 69,\n",
       " 70,\n",
       " 71,\n",
       " 72,\n",
       " 73,\n",
       " 74,\n",
       " 75,\n",
       " 76,\n",
       " 77,\n",
       " 78,\n",
       " 79,\n",
       " 80,\n",
       " 81,\n",
       " 82,\n",
       " 83,\n",
       " 84,\n",
       " 85,\n",
       " 86,\n",
       " 87,\n",
       " 88,\n",
       " 89,\n",
       " 90,\n",
       " 91,\n",
       " 92,\n",
       " 93,\n",
       " 94,\n",
       " 95,\n",
       " 96,\n",
       " 97,\n",
       " 98,\n",
       " 99,\n",
       " 100]"
      ]
     },
     "execution_count": 5,
     "metadata": {},
     "output_type": "execute_result"
    }
   ],
   "source": [
    "dp"
   ]
  },
  {
   "cell_type": "code",
   "execution_count": null,
   "metadata": {},
   "outputs": [],
   "source": []
  }
 ],
 "metadata": {
  "kernelspec": {
   "display_name": "Python 3.7.5 64-bit ('Namlister': virtualenv)",
   "language": "python",
   "name": "python37564bitnamlistervirtualenv5d7bb17d3c984c36aee202a2f6a91336"
  },
  "language_info": {
   "codemirror_mode": {
    "name": "ipython",
    "version": 3
   },
   "file_extension": ".py",
   "mimetype": "text/x-python",
   "name": "python",
   "nbconvert_exporter": "python",
   "pygments_lexer": "ipython3",
   "version": "3.8.8"
  }
 },
 "nbformat": 4,
 "nbformat_minor": 2
}
