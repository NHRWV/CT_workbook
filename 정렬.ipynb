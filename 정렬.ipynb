{
 "cells": [
  {
   "cell_type": "code",
   "execution_count": null,
   "metadata": {},
   "outputs": [],
   "source": [
    "# 백준 2750\n",
    "\n",
    "n = int(input())\n",
    "ls = []\n",
    "\n",
    "for i in range(n):\n",
    "    num = int(input())\n",
    "    ls.append(num)\n",
    "    \n",
    "ls.sorted()\n",
    "for i in ls:\n",
    "    print(i)"
   ]
  },
  {
   "cell_type": "code",
   "execution_count": null,
   "metadata": {},
   "outputs": [],
   "source": [
    "# 백준 2751....아니 import sys: input = sys.stdin.readline 이거 추가했더니 통과다.\n",
    "import sys\n",
    "input = sys.stdin.readline\n",
    "\n",
    "n = int(input())\n",
    "ls = []\n",
    "for i in range(n):\n",
    "    ls.append(int(input()))\n",
    "    \n",
    "ls = sorted(ls)\n",
    "for i in ls:\n",
    "    print(i)"
   ]
  },
  {
   "cell_type": "code",
   "execution_count": null,
   "metadata": {},
   "outputs": [],
   "source": [
    "# 백준 10989...계수 정렬(카운팅 정렬)로 처음 짠 코드. 근데 메모리 초과. \n",
    "\n",
    "n = int(input())\n",
    "ls = []\n",
    "\n",
    "for i in range(n):\n",
    "    ls.append(int(input()))\n",
    "\n",
    "count = [0]*(max(ls) + 1)\n",
    "\n",
    "for j in range(len(ls)):\n",
    "    count[ls[j]] += 1\n",
    "for k in range(len(count)):\n",
    "    for m in range(count[k]):\n",
    "        print(k)"
   ]
  },
  {
   "cell_type": "code",
   "execution_count": null,
   "metadata": {},
   "outputs": [],
   "source": [
    "# 백준 10989\n",
    "\n",
    "import sys\n",
    "n = int(sys.stdin.readline())\n",
    "count = [0] * 10001\n",
    "\n",
    "for i in range(n):\n",
    "    count[int(sys.stdin.readline())] += 1\n",
    "for i in range(10001):\n",
    "    for j in range(count[i]):\n",
    "        print(i)"
   ]
  },
  {
   "cell_type": "code",
   "execution_count": null,
   "metadata": {},
   "outputs": [],
   "source": [
    "# 백준 2108\n",
    "from collections import Counter\n",
    "import sys\n",
    "input = sys.stdin.readline\n",
    "\n",
    "\n",
    "def san(x):\n",
    "    return round(sum(x)/n)\n",
    "def median(x):\n",
    "    x = sorted(x)\n",
    "    return x[int(n/2)]\n",
    "def mode(x):\n",
    "    val = list(Counter(x).values())\n",
    "    if val.count(max(val)) > 1:\n",
    "        cnt = val.count(max(val))\n",
    "        return sorted(Counter(x).most_common(cnt))[1][0]\n",
    "    else:\n",
    "        return Counter(x).most_common(1)[0][0]\n",
    "def n_range(x):\n",
    "    return max(x) - min(x)\n",
    "\n",
    "n = int(input())\n",
    "ls = []\n",
    "for i in range(n):\n",
    "    ls.append(int(input()))\n",
    "\n",
    "print(san(ls))\n",
    "print(median(ls))\n",
    "print(mode(ls))\n",
    "print(n_range(ls))\n",
    "    \n",
    "\n",
    "\n",
    "    "
   ]
  },
  {
   "cell_type": "code",
   "execution_count": null,
   "metadata": {},
   "outputs": [],
   "source": [
    "# 백준 1427\n",
    "\n",
    "n = str(input())\n",
    "ls = []\n",
    "\n",
    "for i in n:\n",
    "    ls.append(int(i))\n",
    "ls.sort(reverse = True)\n",
    "num = str(ls[0])\n",
    "for i in range(1, len(ls)):\n",
    "    num += str(ls[i])\n",
    "\n",
    "print(num)"
   ]
  },
  {
   "cell_type": "code",
   "execution_count": null,
   "metadata": {},
   "outputs": [],
   "source": [
    "# 백준 1427 또 다른 방법. end ='' 방법도 있다.\n",
    "\n",
    "n=input()\n",
    "strn = [x for x in n]\n",
    "strn.sort(reverse=True)\n",
    "print(''.join(strn))"
   ]
  },
  {
   "cell_type": "code",
   "execution_count": null,
   "metadata": {},
   "outputs": [],
   "source": [
    "# 백준 11650...이거 시간초과 난다.\n",
    "import sys\n",
    "input = sys.stdin.readline\n",
    "\n",
    "n = int(input())\n",
    "ls = []\n",
    "for i in range(n):\n",
    "    ls.append(tuple(map(int, input().split())))\n",
    "\n",
    "for i in range(1, len(ls)):\n",
    "    for j in range(i, 0, -1):\n",
    "        if ls[j][0] < ls[j-1][0]:\n",
    "            ls[j], ls[j-1] = ls[j-1], ls[j]\n",
    "        \n",
    "        elif ls[j][0] == ls[j-1][0]:\n",
    "            if ls[j][1] < ls[j-1][1]:\n",
    "                ls[j], ls[j-1] = ls[j-1], ls[j]\n",
    "            \n",
    "            else:\n",
    "                break\n",
    "        \n",
    "        else:\n",
    "            break\n",
    "\n",
    "for i in ls:\n",
    "    print(i[0], i[1])"
   ]
  },
  {
   "cell_type": "code",
   "execution_count": null,
   "metadata": {},
   "outputs": [],
   "source": [
    "# 백준 11650...이러면 시간초과 아니다. 그냥 sorted 함수만 써도 알아서 잘 된다.\n",
    "# 이렇게 구체적으로 기준을 정하는 방법도 있다. sorted(a, key = lambda x : (x[0], x[1]))\n",
    "\n",
    "import sys\n",
    "input = sys.stdin.readline\n",
    "\n",
    "n = int(input())\n",
    "ls = []\n",
    "for i in range(n):\n",
    "    ls.append(tuple(map(int, input().split())))\n",
    "\n",
    "ls = sorted(ls)\n",
    "for i in ls:\n",
    "    print(i[0], i[1])"
   ]
  },
  {
   "cell_type": "code",
   "execution_count": null,
   "metadata": {},
   "outputs": [],
   "source": [
    "# 백준 11651 \n",
    "\n",
    "import sys\n",
    "input = sys.stdin.readline\n",
    "\n",
    "n = int(input())\n",
    "ls = []\n",
    "for i in range(n):\n",
    "    ls.append(tuple(map(int, input().split())))\n",
    "\n",
    "ls = sorted(ls, key = lambda x : (x[1], x[0]))\n",
    "for i in ls:\n",
    "    print(i[0], i[1])"
   ]
  },
  {
   "cell_type": "code",
   "execution_count": null,
   "metadata": {},
   "outputs": [],
   "source": [
    "# 백준 1181.. 이거 시간초과\n",
    "\n",
    "import sys\n",
    "input = sys.stdin.readline\n",
    "\n",
    "n = int(input())\n",
    "ls = []\n",
    "for i in range(n):\n",
    "    ls.append(input())\n",
    "ls = list(set(ls))\n",
    "ls = sorted(ls)\n",
    "for i in range(1, len(ls)):\n",
    "    for j in range(i, 0, -1):\n",
    "        if len(ls[j]) < len(ls[j-1]):\n",
    "            ls[j], ls[j-1] = ls[j-1], ls[j]\n",
    "        else:\n",
    "            break\n",
    "            \n",
    "for i in ls:\n",
    "    print(i)"
   ]
  },
  {
   "cell_type": "code",
   "execution_count": null,
   "metadata": {},
   "outputs": [],
   "source": [
    "# 백준 1181\n",
    "\n",
    "n = int(input())\n",
    "ls = []\n",
    "for i in range(n):\n",
    "    ls.append(input())\n",
    "ls = list(set(ls))\n",
    "ls.sort()\n",
    "ls = sorted(ls, key = lambda x: len(x))\n",
    "for i in ls:\n",
    "    print(i)"
   ]
  },
  {
   "cell_type": "code",
   "execution_count": null,
   "metadata": {},
   "outputs": [],
   "source": [
    "# 백준 10814....이거 나이 데이터 형식을 숫자로 설정 안해주면 틀리더라.\n",
    "\n",
    "n = int(input())\n",
    "ls = []\n",
    "for i in range(n):\n",
    "    a, n = input().split()\n",
    "    a = int(a)\n",
    "    ls.append(tuple([a, n]))\n",
    "ls = sorted(ls, key = lambda x : x[0])\n",
    "\n",
    "for i in ls:\n",
    "    print(i[0], i[1])"
   ]
  },
  {
   "cell_type": "code",
   "execution_count": null,
   "metadata": {},
   "outputs": [],
   "source": [
    "# 백준 18870\n",
    "\n",
    "n = int(input())\n",
    "x = list(map(int, input().split()))\n",
    "x_set = set(x)\n",
    "\n",
    "sorted_x = list(x_set)\n",
    "sorted_x.sort()\n",
    "\n",
    "x_dic = {}\n",
    "idx = 0\n",
    "for i in sorted_x:\n",
    "    x_dic[i] = idx\n",
    "    idx += 1\n",
    "    \n",
    "for i in x:\n",
    "    print(x_dic[i], end = ' ')"
   ]
  },
  {
   "cell_type": "code",
   "execution_count": null,
   "metadata": {},
   "outputs": [],
   "source": [
    "# 백준 1764\n",
    "\n",
    "n, m = map(int, input().split())\n",
    "\n",
    "a = set()\n",
    "b = set()\n",
    "for i in range(n):\n",
    "    a.add(input())\n",
    "for i in range(m):\n",
    "    b.add(input())\n",
    "    \n",
    "ls = []\n",
    "for i in a:\n",
    "    if i in b:\n",
    "        ls.append(i)\n",
    "        \n",
    "ls.sort()\n",
    "print(len(ls))\n",
    "for i in ls:\n",
    "    print(i)"
   ]
  },
  {
   "cell_type": "markdown",
   "metadata": {},
   "source": [
    "https://www.acmicpc.net/problem/2217"
   ]
  },
  {
   "cell_type": "code",
   "execution_count": null,
   "metadata": {},
   "outputs": [],
   "source": [
    "# 백준 2217 로프\n",
    "\n",
    "n = int(input())\n",
    "rope = []\n",
    "for i in range(n):\n",
    "    rope.append(int(input()))\n",
    "    \n",
    "rope.sort(reverse = True)\n",
    "\n",
    "maxi = 0\n",
    "for i in range(n):\n",
    "    maxi = max(maxi, rope[i] * (i+1))\n",
    "\n",
    "print(maxi)"
   ]
  },
  {
   "cell_type": "markdown",
   "metadata": {},
   "source": [
    "https://www.acmicpc.net/problem/5576"
   ]
  },
  {
   "cell_type": "code",
   "execution_count": null,
   "metadata": {},
   "outputs": [],
   "source": [
    "w, k = [], []\n",
    "\n",
    "for i in range(10):\n",
    "    w.append(int(input()))\n",
    "for i in range(10):\n",
    "    k.append(int(input()))\n",
    "    \n",
    "w.sort(reverse = True)\n",
    "k.sort(reverse = True)\n",
    "\n",
    "print(w[0] + w[1] + w[2], k[0] + k[1] + k[2])\n"
   ]
  },
  {
   "cell_type": "markdown",
   "metadata": {},
   "source": [
    "https://www.acmicpc.net/problem/15819"
   ]
  },
  {
   "cell_type": "code",
   "execution_count": null,
   "metadata": {},
   "outputs": [],
   "source": [
    "# 너의 핸들은\n",
    "\n",
    "n, i = map(int, input().split())\n",
    "\n",
    "lst = []\n",
    "for j in range(n):\n",
    "    lst.append(input())\n",
    "    \n",
    "    \n",
    "lst.sort()\n",
    "\n",
    "print(lst[i-1])"
   ]
  },
  {
   "cell_type": "code",
   "execution_count": null,
   "metadata": {},
   "outputs": [],
   "source": [
    "4 1\n",
    "acka1357\n",
    "spectaclehong\n",
    "mitslll\n",
    "luke0201"
   ]
  },
  {
   "cell_type": "code",
   "execution_count": null,
   "metadata": {},
   "outputs": [],
   "source": [
    "lst"
   ]
  },
  {
   "cell_type": "code",
   "execution_count": null,
   "metadata": {},
   "outputs": [],
   "source": [
    "i"
   ]
  },
  {
   "cell_type": "code",
   "execution_count": null,
   "metadata": {},
   "outputs": [],
   "source": []
  }
 ],
 "metadata": {
  "kernelspec": {
   "display_name": "Python 3",
   "language": "python",
   "name": "python3"
  },
  "language_info": {
   "codemirror_mode": {
    "name": "ipython",
    "version": 3
   },
   "file_extension": ".py",
   "mimetype": "text/x-python",
   "name": "python",
   "nbconvert_exporter": "python",
   "pygments_lexer": "ipython3",
   "version": "3.8.8"
  }
 },
 "nbformat": 4,
 "nbformat_minor": 2
}
