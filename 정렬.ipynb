{
 "cells": [
  {
   "cell_type": "code",
   "execution_count": null,
   "metadata": {},
   "outputs": [],
   "source": [
    "# 백준 2750\n",
    "\n",
    "n = int(input())\n",
    "ls = []\n",
    "\n",
    "for i in range(n):\n",
    "    num = int(input())\n",
    "    ls.append(num)\n",
    "    \n",
    "ls.sorted()\n",
    "for i in ls:\n",
    "    print(i)"
   ]
  },
  {
   "cell_type": "code",
   "execution_count": null,
   "metadata": {},
   "outputs": [],
   "source": [
    "# 백준 2751....아니 import sys: input = sys.stdin.readline 이거 추가했더니 통과다.\n",
    "import sys\n",
    "input = sys.stdin.readline\n",
    "\n",
    "n = int(input())\n",
    "ls = []\n",
    "for i in range(n):\n",
    "    ls.append(int(input()))\n",
    "    \n",
    "ls = sorted(ls)\n",
    "for i in ls:\n",
    "    print(i)"
   ]
  },
  {
   "cell_type": "code",
   "execution_count": null,
   "metadata": {},
   "outputs": [],
   "source": [
    "# 백준 10989...계수 정렬(카운팅 정렬)로 처음 짠 코드. 근데 메모리 초과. \n",
    "\n",
    "n = int(input())\n",
    "ls = []\n",
    "\n",
    "for i in range(n):\n",
    "    ls.append(int(input()))\n",
    "\n",
    "count = [0]*(max(ls) + 1)\n",
    "\n",
    "for j in range(len(ls)):\n",
    "    count[ls[j]] += 1\n",
    "for k in range(len(count)):\n",
    "    for m in range(count[k]):\n",
    "        print(k)"
   ]
  },
  {
   "cell_type": "code",
   "execution_count": null,
   "metadata": {},
   "outputs": [],
   "source": [
    "# 백준 10989\n",
    "\n",
    "import sys\n",
    "n = int(sys.stdin.readline())\n",
    "count = [0] * 10001\n",
    "\n",
    "for i in range(n):\n",
    "    count[int(sys.stdin.readline())] += 1\n",
    "for i in range(10001):\n",
    "    for j in range(count[i]):\n",
    "        print(i)"
   ]
  },
  {
   "cell_type": "code",
   "execution_count": 14,
   "metadata": {},
   "outputs": [
    {
     "data": {
      "text/plain": [
       "[5, 2, 3, 1, 4, 2, 3, 5, 1, 7]"
      ]
     },
     "execution_count": 14,
     "metadata": {},
     "output_type": "execute_result"
    }
   ],
   "source": [
    "# 백준 2108\n",
    "from collections import Counter\n",
    "def san(x):\n",
    "    return round(sum(x)/n, 1)\n",
    "def median(x):\n",
    "    x = sorted(x)\n",
    "    return x[int(n/2)]\n",
    "def mode(x):\n",
    "    cnt = 0\n",
    "    prv = 0\n",
    "    for i in x:\n",
    "        if x.count(i) >= cnt:\n",
    "            if x.count(i) > cnt:\n",
    "                prv = i\n",
    "            cnt = x.count(i)\n",
    "        if \n",
    "        \n",
    "def n_range(x):\n",
    "    return max(x) - min(x)\n",
    "n = int(input())\n",
    "\n",
    "\n",
    "    "
   ]
  },
  {
   "cell_type": "code",
   "execution_count": 23,
   "metadata": {},
   "outputs": [],
   "source": [
    "from collections import Counter\n",
    "\n",
    "a = [1,1,1,1,2,2,3,3,3,3]"
   ]
  },
  {
   "cell_type": "code",
   "execution_count": 25,
   "metadata": {},
   "outputs": [
    {
     "data": {
      "text/plain": [
       "[(1, 4), (3, 4)]"
      ]
     },
     "execution_count": 25,
     "metadata": {},
     "output_type": "execute_result"
    }
   ],
   "source": [
    "    count = [0]*(max(x) + 1)\n",
    "    for i in range(len(x)):\n",
    "        count[x[i]] += 1\n",
    "    if count.count(max(count)) > 1:\n",
    "        return \n",
    "    else:\n",
    "        return x[count.index(max(count))]"
   ]
  },
  {
   "cell_type": "code",
   "execution_count": null,
   "metadata": {},
   "outputs": [],
   "source": [
    "카운트 함수를 써서 입력 받은 리스트의 요소의 개수를 센다."
   ]
  }
 ],
 "metadata": {
  "kernelspec": {
   "display_name": "Python 3",
   "language": "python",
   "name": "python3"
  },
  "language_info": {
   "codemirror_mode": {
    "name": "ipython",
    "version": 3
   },
   "file_extension": ".py",
   "mimetype": "text/x-python",
   "name": "python",
   "nbconvert_exporter": "python",
   "pygments_lexer": "ipython3",
   "version": "3.7.5"
  }
 },
 "nbformat": 4,
 "nbformat_minor": 2
}
