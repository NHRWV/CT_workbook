{
 "cells": [
  {
   "cell_type": "markdown",
   "id": "d275e27f",
   "metadata": {},
   "source": [
    "https://www.acmicpc.net/problem/1620"
   ]
  },
  {
   "cell_type": "code",
   "execution_count": null,
   "id": "aa1eea9d",
   "metadata": {},
   "outputs": [],
   "source": [
    "# 백준 1620 나는야 포켓몬 마스터 이다솜\n",
    "\n",
    "\n",
    "n, m = map(int, input().split())\n",
    "\n",
    "book = {}\n",
    "for i in range(1, n+1):\n",
    "    name = input()\n",
    "    \n",
    "    book[name] = str(i)\n",
    "    book[str(i)] = name\n",
    "    \n",
    "\n",
    "for i in range(m):\n",
    "    q = input()\n",
    "    \n",
    "    print(book[q])"
   ]
  },
  {
   "cell_type": "markdown",
   "id": "2681b05d",
   "metadata": {},
   "source": [
    "https://www.acmicpc.net/problem/1676"
   ]
  },
  {
   "cell_type": "code",
   "execution_count": null,
   "id": "278e174b",
   "metadata": {},
   "outputs": [],
   "source": [
    "# 백준 팩토리얼 0의 개수\n",
    "\n",
    "import math\n",
    "\n",
    "n = int(input())\n",
    "\n",
    "a = math.factorial(n)\n",
    "a = str(a)\n",
    "a = a[::-1]\n",
    "\n",
    "count = 0\n",
    "for i in a:\n",
    "    if i == '0':\n",
    "        count += 1\n",
    "        \n",
    "    else:\n",
    "        break\n",
    "        \n",
    "print(count)"
   ]
  },
  {
   "cell_type": "markdown",
   "id": "f126244d",
   "metadata": {},
   "source": [
    "https://www.acmicpc.net/problem/9375"
   ]
  },
  {
   "cell_type": "code",
   "execution_count": null,
   "id": "7d05f5c6",
   "metadata": {},
   "outputs": [],
   "source": [
    "# 백준 9375 패션왕 신해빈\n",
    "\n",
    "from collections import defaultdict\n",
    "\n",
    "t = int(input())\n",
    "for i in range(t):\n",
    "    n = int(input())\n",
    "    lst = defaultdict(list)\n",
    "    \n",
    "    for j in range(n):\n",
    "        a, b = map(str, input().split())\n",
    "        lst[b].append(a)\n",
    "        \n",
    "    count = 1\n",
    "    for j in lst.values():\n",
    "        count *= (len(j) + 1)\n",
    "        \n",
    "        \n",
    "    print(count - 1)\n",
    "        "
   ]
  },
  {
   "cell_type": "markdown",
   "id": "411ff130",
   "metadata": {},
   "source": [
    "https://www.acmicpc.net/problem/11659"
   ]
  },
  {
   "cell_type": "code",
   "execution_count": null,
   "id": "2f59c885",
   "metadata": {},
   "outputs": [],
   "source": [
    "# 백준 11659 구간 합 구하기 4\n",
    "\n",
    "n, m = map(int, input().split())\n",
    "\n",
    "seq = list(map(int, input().split()))\n",
    "lst = [0] * n\n",
    "for i in range(n):\n",
    "    for j in range(i+1):\n",
    "        lst[i] += seq[j]\n",
    "        \n",
    "lst = [0] + lst\n",
    "\n",
    "for k in range(m):\n",
    "    i, j = map(int, input().split())\n",
    "    \n",
    "    print(lst[j] - lst[i-1])\n",
    "    \n",
    "#######################################################################\n",
    "n, m = map(int, input().split())\n",
    "\n",
    "seq = list(map(int, input().split()))\n",
    "\n",
    "for i in range(1, n):\n",
    "    seq[i] += seq[i-1]\n",
    "\n",
    "seq = [0] + seq\n",
    "\n",
    "for k in range(m):\n",
    "    i, j = map(int, input().split())\n",
    "    \n",
    "    print(seq[j] - seq[i-1])"
   ]
  },
  {
   "cell_type": "markdown",
   "id": "f3a4825a",
   "metadata": {},
   "source": [
    "https://www.acmicpc.net/problem/1764"
   ]
  },
  {
   "cell_type": "code",
   "execution_count": null,
   "id": "f9220e8a",
   "metadata": {},
   "outputs": [],
   "source": [
    "# 백준 1764 듣보잡\n",
    "\n",
    "n, m = map(int, input().split())\n",
    "\n",
    "a = set()\n",
    "b = set()\n",
    "for i in range(n):\n",
    "    a.add(input())\n",
    "for i in range(m):\n",
    "    b.add(input())\n",
    "    \n",
    "c = list(a & b)\n",
    "c.sort()\n",
    "\n",
    "print(len(c))\n",
    "for i in c:\n",
    "    print(i)\n"
   ]
  },
  {
   "cell_type": "markdown",
   "id": "3e1a4b76",
   "metadata": {},
   "source": [
    "https://www.acmicpc.net/problem/17219"
   ]
  },
  {
   "cell_type": "code",
   "execution_count": null,
   "id": "133db646",
   "metadata": {},
   "outputs": [],
   "source": [
    "# 백준 17219 비밀번호 찾기\n",
    "\n",
    "n, m = map(int, input().split())\n",
    "\n",
    "lst = {}\n",
    "for i in range(n):\n",
    "    a, b = map(str, input().split())\n",
    "    lst[a] = b\n",
    "    \n",
    "for i in range(m):\n",
    "    print(lst[input().rstrip()])"
   ]
  },
  {
   "cell_type": "markdown",
   "id": "ead8131d",
   "metadata": {},
   "source": [
    "https://www.acmicpc.net/problem/17626"
   ]
  },
  {
   "cell_type": "code",
   "execution_count": null,
   "id": "61b7dc8c",
   "metadata": {},
   "outputs": [],
   "source": [
    "# 백준 17626 Four Squares\n",
    "\n",
    "n = int(input())\n",
    "\n",
    "dp = [0] * (n+1)\n",
    "dp[1] = 1\n",
    "\n",
    "for i in range(2, n+1):\n",
    "    mini = int(1e9)\n",
    "    a = 1\n",
    "\n",
    "    while (a**2) <= i:\n",
    "        mini = min(mini, dp[i - (a**2)])\n",
    "        a += 1\n",
    "\n",
    "    dp[i] = mini + 1\n",
    "    \n",
    "    \n",
    "print(dp[n])"
   ]
  },
  {
   "cell_type": "markdown",
   "id": "db8dd716",
   "metadata": {},
   "source": [
    "https://www.acmicpc.net/problem/1463"
   ]
  },
  {
   "cell_type": "code",
   "execution_count": null,
   "id": "635be5ad",
   "metadata": {},
   "outputs": [],
   "source": [
    "# 백준 1463 1로 만들기\n",
    "\n",
    "n = int(input())\n",
    "\n",
    "dp = [0] * 1000001\n",
    "\n",
    "for i in range(2, n+1):\n",
    "    dp[i] = dp[i-1] + 1\n",
    "    \n",
    "    if not i % 2:\n",
    "        dp[i] = min(dp[i], dp[i//2] + 1)\n",
    "        \n",
    "    if not i % 3:\n",
    "        dp[i] = min(dp[i], dp[i//3] + 1)\n",
    "    \n",
    "\n",
    "print(dp[n])"
   ]
  },
  {
   "cell_type": "markdown",
   "id": "ac381e8c",
   "metadata": {},
   "source": [
    "https://www.acmicpc.net/problem/2579"
   ]
  },
  {
   "cell_type": "code",
   "execution_count": null,
   "id": "8bdd9675",
   "metadata": {},
   "outputs": [],
   "source": [
    "# 백준 2579 계단 오르기\n",
    "\n",
    "n = int(input())\n",
    "\n",
    "score = [0] * 300\n",
    "for i in range(n):\n",
    "    score[i] = int(input())\n",
    "    \n",
    "    \n",
    "dp = [0] * 300\n",
    "\n",
    "dp[0] = score[0]\n",
    "dp[1] = score[0] + score[1]\n",
    "dp[2] = max(score[0] + score[2], score[1] + score[2])\n",
    "\n",
    "for i in range(3, n):\n",
    "    dp[i] = max(score[i] + score[i-1] + dp[i-3], score[i] + dp[i-2])\n",
    "    \n",
    "\n",
    "print(dp[n-1])"
   ]
  },
  {
   "cell_type": "markdown",
   "id": "41dad4a4",
   "metadata": {},
   "source": [
    "https://www.acmicpc.net/problem/2630"
   ]
  },
  {
   "cell_type": "code",
   "execution_count": null,
   "id": "f03ab7c3",
   "metadata": {},
   "outputs": [],
   "source": [
    "# 백준 2630 색종이 만들기\n",
    "\n",
    "n = int(input())\n",
    "board = []\n",
    "for i in range(n):\n",
    "    board.append(list(map(int, input().split())))\n",
    "    \n",
    "    \n",
    "white = 0\n",
    "blue = 0\n",
    "\n",
    "def sol(x, y, n):\n",
    "    global white, blue\n",
    "    \n",
    "    color = board[x][y]\n",
    "    for i in range(x, x+n):\n",
    "        for j in range(y, y+n):\n",
    "            if board[i][j] != color:\n",
    "                sol(x, y, n//2)\n",
    "                sol(x, y + n//2, n//2)\n",
    "                sol(x + n//2, y, n//2)\n",
    "                sol(x + n//2, y + n//2, n//2)\n",
    "                return\n",
    "            \n",
    "    if not color:\n",
    "        white += 1\n",
    "        return\n",
    "    else:\n",
    "        blue += 1\n",
    "        return\n",
    "    \n",
    "\n",
    "sol(0, 0, n)\n",
    "print(white)\n",
    "print(blue)\n",
    "\n",
    "\n",
    "        "
   ]
  },
  {
   "cell_type": "markdown",
   "id": "542e006d",
   "metadata": {},
   "source": [
    "https://www.acmicpc.net/problem/9095"
   ]
  },
  {
   "cell_type": "code",
   "execution_count": null,
   "id": "1a89f38d",
   "metadata": {},
   "outputs": [],
   "source": [
    "# 백준 9095 1, 2, 3 더하기\n",
    "\n",
    "def sol(n):\n",
    "    if n == 1:\n",
    "        return 1\n",
    "    \n",
    "    elif n == 2:\n",
    "        return 2\n",
    "    \n",
    "    elif n == 3:\n",
    "        return 4\n",
    "    \n",
    "    else:\n",
    "        return sol(n-1) + sol(n-2) + sol(n-3)\n",
    "\n",
    "t = int(input())\n",
    "for i in range(t):\n",
    "    n = int(input())\n",
    "    print(sol(n))\n",
    "    "
   ]
  },
  {
   "cell_type": "markdown",
   "id": "de3321db",
   "metadata": {},
   "source": [
    "https://www.acmicpc.net/problem/2606"
   ]
  },
  {
   "cell_type": "code",
   "execution_count": null,
   "id": "f7255d29",
   "metadata": {},
   "outputs": [],
   "source": [
    "# 백준 2606 바이러스\n",
    "\n",
    "from collections import deque\n",
    "\n",
    "n = int(input())\n",
    "m = int(input())\n",
    "edge = [[] for _ in range(n+1)]\n",
    "\n",
    "for i in range(m):\n",
    "    a, b = map(int, input().split())\n",
    "    edge[a].append(b)\n",
    "    edge[b].append(a)\n",
    "    \n",
    "    \n",
    "queue = deque([1])\n",
    "visited = [0] * (n+1)\n",
    "visited[1] = 1\n",
    "\n",
    "while queue:\n",
    "    x = queue.popleft()\n",
    "    for i in edge[x]:\n",
    "        if not visited[i]:\n",
    "            visited[i] = 1\n",
    "            queue.append(i)\n",
    "            \n",
    "            \n",
    "print(visited.count(1) - 1)"
   ]
  },
  {
   "cell_type": "markdown",
   "id": "e9aac039",
   "metadata": {},
   "source": [
    "https://www.acmicpc.net/problem/9461"
   ]
  },
  {
   "cell_type": "code",
   "execution_count": null,
   "id": "12814355",
   "metadata": {},
   "outputs": [],
   "source": [
    "# 백준 9461 파도반 수열\n",
    "\n",
    "dp = [0] * 100\n",
    "\n",
    "dp[0], dp[1], dp[2] = 1, 1, 1\n",
    "dp[3], dp[4] = 2, 2\n",
    "\n",
    "for i in range(5, 100):\n",
    "    dp[i] = dp[i-1] + dp[i-5]\n",
    "\n",
    "t = int(input())\n",
    "for i in range(t):\n",
    "    n = int(input())\n",
    "    print(dp[n-1])\n",
    "    \n",
    "    "
   ]
  },
  {
   "cell_type": "markdown",
   "id": "72569268",
   "metadata": {},
   "source": [
    "https://www.acmicpc.net/problem/11399"
   ]
  },
  {
   "cell_type": "code",
   "execution_count": null,
   "id": "92ce6b6f",
   "metadata": {},
   "outputs": [],
   "source": [
    "# 백준 11399 ATM\n",
    "\n",
    "from collections import deque\n",
    "\n",
    "n = int(input())\n",
    "lst = list(map(int, input().split()))\n",
    "\n",
    "lst.sort()\n",
    "lst = deque(lst)\n",
    "hab = 0\n",
    "\n",
    "for i in range(n):\n",
    "    hab += lst.popleft()\n",
    "    lst.append(hab)\n",
    "    \n",
    "print(sum(lst))\n",
    "    "
   ]
  },
  {
   "cell_type": "markdown",
   "id": "cdfdae9b",
   "metadata": {},
   "source": [
    "https://www.acmicpc.net/problem/11726"
   ]
  },
  {
   "cell_type": "code",
   "execution_count": null,
   "id": "c6cb8bb8",
   "metadata": {},
   "outputs": [],
   "source": [
    "# 백준 11726 2×n 타일링\n",
    "\n",
    "n = int(input())\n",
    "\n",
    "dp = [0] * 1000\n",
    "\n",
    "dp[0] = 1\n",
    "dp[1] = 2\n",
    "\n",
    "for i in range(2, n):\n",
    "    dp[i] = (dp[i-1] + dp[i-2]) % 10007\n",
    "    \n",
    "    \n",
    "print(dp[n-1])"
   ]
  },
  {
   "cell_type": "markdown",
   "id": "96f2a6ae",
   "metadata": {},
   "source": [
    "https://www.acmicpc.net/problem/11727"
   ]
  },
  {
   "cell_type": "code",
   "execution_count": null,
   "id": "8a9cddab",
   "metadata": {},
   "outputs": [],
   "source": [
    "# 백준 11727 2×n 타일링 2\n",
    "\n",
    "n = int(input())\n",
    "\n",
    "dp = [0] * 1000\n",
    "\n",
    "dp[0] = 1\n",
    "dp[1] = 3\n",
    "\n",
    "for i in range(2, n):\n",
    "    dp[i] = dp[i-1] + dp[i-2] * 2 \n",
    "    \n",
    "\n",
    "print(dp[n-1] % 10007)"
   ]
  },
  {
   "cell_type": "markdown",
   "id": "1e33c2fa",
   "metadata": {},
   "source": [
    "https://www.acmicpc.net/problem/1012"
   ]
  },
  {
   "cell_type": "code",
   "execution_count": null,
   "id": "96f557fb",
   "metadata": {},
   "outputs": [],
   "source": [
    "# 백준 1012 유기농 배추\n",
    "\n",
    "from collections import deque\n",
    "\n",
    "\n",
    "def sol(x, y):\n",
    "    if land[x][y] != 1:\n",
    "        return False\n",
    "    \n",
    "    queue = deque([(x, y)])\n",
    "    while queue:\n",
    "        x, y = queue.popleft()\n",
    "        \n",
    "        for i in range(4):\n",
    "            nx = x + dx[i]\n",
    "            ny = y + dy[i]\n",
    "            \n",
    "            if nx < 0 or nx >= n or ny < 0 or ny >= m:\n",
    "                continue\n",
    "                \n",
    "            if land[nx][ny] == 1:\n",
    "                land[nx][ny] = 2\n",
    "                queue.append((nx, ny))\n",
    "                \n",
    "                \n",
    "    return True\n",
    "        \n",
    "        \n",
    "dx = [-1, 1, 0, 0]\n",
    "dy = [0, 0, -1, 1]\n",
    "\n",
    "t = int(input())\n",
    "for i in range(t):\n",
    "    m, n, k = map(int, input().split())\n",
    "    land = [[0] * m for _ in range(n)]\n",
    "    for j in range(k):\n",
    "        x, y = map(int, input().split())\n",
    "        land[y][x] = 1\n",
    "        \n",
    "        \n",
    "    count = 0\n",
    "    for p in range(n):\n",
    "        for q in range(m):\n",
    "            if sol(p, q):\n",
    "                count += 1\n",
    "                \n",
    "    print(count)\n",
    "    "
   ]
  },
  {
   "cell_type": "markdown",
   "id": "721ccd3e",
   "metadata": {},
   "source": [
    "https://www.acmicpc.net/problem/1260"
   ]
  },
  {
   "cell_type": "code",
   "execution_count": null,
   "id": "c0b5ef2d",
   "metadata": {},
   "outputs": [],
   "source": [
    "# 백준 1260 DFS와 BFS\n",
    "\n",
    "from collections import deque\n",
    "\n",
    "n, m, v = map(int, input().split())\n",
    "\n",
    "edge = [[] for _ in range(n+1)]\n",
    "for i in range(m):\n",
    "    a, b = map(int, input().split())\n",
    "    edge[a].append(b)\n",
    "    edge[b].append(a)\n",
    "\n",
    "for i in edge:\n",
    "    i.sort()\n",
    "    \n",
    "    \n",
    "\n",
    "def bfs(x):\n",
    "    visited = [0] * (n+1)\n",
    "    queue = deque([x])\n",
    "    visited[x] = 1\n",
    "    answer = [x]\n",
    "    \n",
    "    while queue:\n",
    "        x = queue.popleft()\n",
    "        \n",
    "        for i in edge[x]:\n",
    "            if not visited[i]:\n",
    "                visited[i] = 1\n",
    "                queue.append(i)\n",
    "                answer.append(i)\n",
    "                \n",
    "    return answer\n",
    "\n",
    "\n",
    "def dfs(x):\n",
    "    if visited[x]:\n",
    "        return False\n",
    "    \n",
    "    visited[x] = 1\n",
    "    answer.append(x)\n",
    "    for i in edge[x]:\n",
    "        dfs(i)\n",
    "        \n",
    "    \n",
    "\n",
    "\n",
    "\n",
    "\n",
    "\n",
    "visited = [0] * (n+1)\n",
    "answer = []\n",
    "dfs(v)\n",
    "print(*answer)\n",
    "print(*bfs(v))\n",
    "\n",
    "                \n",
    "        \n",
    "        \n",
    "        "
   ]
  },
  {
   "cell_type": "markdown",
   "id": "ad0f262b",
   "metadata": {},
   "source": [
    "https://www.acmicpc.net/problem/1541"
   ]
  },
  {
   "cell_type": "code",
   "execution_count": null,
   "id": "5c07e719",
   "metadata": {},
   "outputs": [],
   "source": [
    "# 백준 1541 잃어버린 괄호\n",
    "\n",
    "s = input().split('-')\n",
    "\n",
    "answer = 0\n",
    "for i in range(len(s)):\n",
    "    temp = 0\n",
    "    a = s[i].split('+')\n",
    "    \n",
    "    for j in a:\n",
    "        temp += int(j)\n",
    "        \n",
    "    if i == 0:\n",
    "        answer += temp\n",
    "    else:\n",
    "        answer -= temp\n",
    "        \n",
    "\n",
    "print(answer)\n",
    "    "
   ]
  },
  {
   "cell_type": "markdown",
   "id": "b03222ad",
   "metadata": {},
   "source": [
    "https://www.acmicpc.net/problem/1780"
   ]
  },
  {
   "cell_type": "code",
   "execution_count": null,
   "id": "98460c01",
   "metadata": {},
   "outputs": [],
   "source": [
    "# 백준 1780 종이의 개수\n",
    "\n",
    "n = int(input())\n",
    "board = []\n",
    "for i in range(n):\n",
    "    board.append(list(map(int, input().split())))\n",
    "    \n",
    "    \n",
    "a = 0\n",
    "b = 0\n",
    "c = 0\n",
    "\n",
    "def sol(x, y, n):\n",
    "    x = int(x)\n",
    "    y = int(y)\n",
    "    global a, b, c\n",
    "    \n",
    "    check = board[x][y]\n",
    "    for i in range(x, x+n):\n",
    "        for j in range(y, y+n):\n",
    "            if board[i][j] != check:\n",
    "                sol(x, y, n//3)\n",
    "                sol(x, y + n * (1/3), n//3)\n",
    "                sol(x, y + n * (2/3), n//3)\n",
    "                sol(x + n * (1/3), y, n//3)\n",
    "                sol(x + n * (2/3), y, n//3)\n",
    "                sol(x + n * (1/3), y + n * (1/3), n//3)\n",
    "                sol(x + n * (1/3), y + n * (2/3), n//3)\n",
    "                sol(x + n * (2/3), y + n * (1/3), n//3)\n",
    "                sol(x + n * (2/3), y + n * (2/3), n//3)\n",
    "                \n",
    "                return\n",
    "            \n",
    "    if check == -1:\n",
    "        a += 1\n",
    "        return\n",
    "    if check == 0:\n",
    "        b += 1\n",
    "        return\n",
    "    if check == 1:\n",
    "        c += 1\n",
    "        return\n",
    "    \n",
    "\n",
    "sol(0, 0, n)\n",
    "print(a)\n",
    "print(b)\n",
    "print(c)"
   ]
  },
  {
   "cell_type": "markdown",
   "id": "1ff7e727",
   "metadata": {},
   "source": [
    "https://www.acmicpc.net/problem/1931"
   ]
  },
  {
   "cell_type": "code",
   "execution_count": null,
   "id": "06586a70",
   "metadata": {},
   "outputs": [],
   "source": [
    "# 백준 1931 회의실 배정\n",
    "\n",
    "n = int(input())\n",
    "table = []\n",
    "for i in range(n):\n",
    "    a, b = map(int, input().split())\n",
    "    table.append((a, b))\n",
    "    \n",
    "table.sort(key = lambda x : (x[1], x[0]))\n",
    "\n",
    "lst = [table[0]]\n",
    "del table[0]\n",
    "for s, e in table:\n",
    "    if s >= lst[-1][1]:\n",
    "        lst.append((s, e))\n",
    "        \n",
    "        \n",
    "print(len(lst))"
   ]
  },
  {
   "cell_type": "code",
   "execution_count": null,
   "id": "3e8fafb3",
   "metadata": {},
   "outputs": [],
   "source": [
    "11\n",
    "1 4\n",
    "3 5\n",
    "0 6\n",
    "5 7\n",
    "3 8\n",
    "5 9\n",
    "6 10\n",
    "8 11\n",
    "8 12\n",
    "2 13\n",
    "12 14"
   ]
  },
  {
   "cell_type": "code",
   "execution_count": 49,
   "id": "46dd3dbd",
   "metadata": {},
   "outputs": [
    {
     "data": {
      "text/plain": [
       "[(1, 4), (5, 7), (8, 11), (12, 14)]"
      ]
     },
     "execution_count": 49,
     "metadata": {},
     "output_type": "execute_result"
    }
   ],
   "source": [
    "lst"
   ]
  },
  {
   "cell_type": "code",
   "execution_count": 47,
   "id": "c377cbc3",
   "metadata": {},
   "outputs": [
    {
     "data": {
      "text/plain": [
       "[(1, 4),\n",
       " (3, 5),\n",
       " (0, 6),\n",
       " (5, 7),\n",
       " (3, 8),\n",
       " (5, 9),\n",
       " (6, 10),\n",
       " (8, 11),\n",
       " (8, 12),\n",
       " (2, 13),\n",
       " (12, 14)]"
      ]
     },
     "execution_count": 47,
     "metadata": {},
     "output_type": "execute_result"
    }
   ],
   "source": [
    "table"
   ]
  },
  {
   "cell_type": "code",
   "execution_count": null,
   "id": "b617d132",
   "metadata": {},
   "outputs": [],
   "source": []
  }
 ],
 "metadata": {
  "kernelspec": {
   "display_name": "Python 3",
   "language": "python",
   "name": "python3"
  },
  "language_info": {
   "codemirror_mode": {
    "name": "ipython",
    "version": 3
   },
   "file_extension": ".py",
   "mimetype": "text/x-python",
   "name": "python",
   "nbconvert_exporter": "python",
   "pygments_lexer": "ipython3",
   "version": "3.8.8"
  }
 },
 "nbformat": 4,
 "nbformat_minor": 5
}
