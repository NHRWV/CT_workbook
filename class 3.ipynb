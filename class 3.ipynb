{
 "cells": [
  {
   "cell_type": "markdown",
   "id": "d275e27f",
   "metadata": {},
   "source": [
    "https://www.acmicpc.net/problem/1620"
   ]
  },
  {
   "cell_type": "code",
   "execution_count": null,
   "id": "aa1eea9d",
   "metadata": {},
   "outputs": [],
   "source": [
    "# 백준 1620 나는야 포켓몬 마스터 이다솜\n",
    "\n",
    "\n",
    "n, m = map(int, input().split())\n",
    "\n",
    "book = {}\n",
    "for i in range(1, n+1):\n",
    "    name = input()\n",
    "    \n",
    "    book[name] = str(i)\n",
    "    book[str(i)] = name\n",
    "    \n",
    "\n",
    "for i in range(m):\n",
    "    q = input()\n",
    "    \n",
    "    print(book[q])"
   ]
  },
  {
   "cell_type": "markdown",
   "id": "2681b05d",
   "metadata": {},
   "source": [
    "https://www.acmicpc.net/problem/1676"
   ]
  },
  {
   "cell_type": "code",
   "execution_count": null,
   "id": "278e174b",
   "metadata": {},
   "outputs": [],
   "source": [
    "# 백준 팩토리얼 0의 개수\n",
    "\n",
    "import math\n",
    "\n",
    "n = int(input())\n",
    "\n",
    "a = math.factorial(n)\n",
    "a = str(a)\n",
    "a = a[::-1]\n",
    "\n",
    "count = 0\n",
    "for i in a:\n",
    "    if i == '0':\n",
    "        count += 1\n",
    "        \n",
    "    else:\n",
    "        break\n",
    "        \n",
    "print(count)"
   ]
  },
  {
   "cell_type": "markdown",
   "id": "f126244d",
   "metadata": {},
   "source": [
    "https://www.acmicpc.net/problem/9375"
   ]
  },
  {
   "cell_type": "code",
   "execution_count": null,
   "id": "7d05f5c6",
   "metadata": {},
   "outputs": [],
   "source": [
    "# 백준 9375 패션왕 신해빈\n",
    "\n",
    "from collections import defaultdict\n",
    "\n",
    "t = int(input())\n",
    "for i in range(t):\n",
    "    n = int(input())\n",
    "    lst = defaultdict(list)\n",
    "    \n",
    "    for j in range(n):\n",
    "        a, b = map(str, input().split())\n",
    "        lst[b].append(a)\n",
    "        \n",
    "    count = 1\n",
    "    for j in lst.values():\n",
    "        count *= (len(j) + 1)\n",
    "        \n",
    "        \n",
    "    print(count - 1)\n",
    "        "
   ]
  },
  {
   "cell_type": "markdown",
   "id": "411ff130",
   "metadata": {},
   "source": [
    "https://www.acmicpc.net/problem/11659"
   ]
  },
  {
   "cell_type": "code",
   "execution_count": null,
   "id": "2f59c885",
   "metadata": {},
   "outputs": [],
   "source": [
    "# 백준 11659 구간 합 구하기 4\n",
    "\n",
    "n, m = map(int, input().split())\n",
    "\n",
    "seq = list(map(int, input().split()))\n",
    "lst = [0] * n\n",
    "for i in range(n):\n",
    "    for j in range(i+1):\n",
    "        lst[i] += seq[j]\n",
    "        \n",
    "lst = [0] + lst\n",
    "\n",
    "for k in range(m):\n",
    "    i, j = map(int, input().split())\n",
    "    \n",
    "    print(lst[j] - lst[i-1])\n",
    "    \n",
    "#######################################################################\n",
    "n, m = map(int, input().split())\n",
    "\n",
    "seq = list(map(int, input().split()))\n",
    "\n",
    "for i in range(1, n):\n",
    "    seq[i] += seq[i-1]\n",
    "\n",
    "seq = [0] + seq\n",
    "\n",
    "for k in range(m):\n",
    "    i, j = map(int, input().split())\n",
    "    \n",
    "    print(seq[j] - seq[i-1])"
   ]
  },
  {
   "cell_type": "markdown",
   "id": "f3a4825a",
   "metadata": {},
   "source": [
    "https://www.acmicpc.net/problem/1764"
   ]
  },
  {
   "cell_type": "code",
   "execution_count": null,
   "id": "f9220e8a",
   "metadata": {},
   "outputs": [],
   "source": [
    "# 백준 1764 듣보잡\n",
    "\n",
    "n, m = map(int, input().split())\n",
    "\n",
    "a = set()\n",
    "b = set()\n",
    "for i in range(n):\n",
    "    a.add(input())\n",
    "for i in range(m):\n",
    "    b.add(input())\n",
    "    \n",
    "c = list(a & b)\n",
    "c.sort()\n",
    "\n",
    "print(len(c))\n",
    "for i in c:\n",
    "    print(i)\n"
   ]
  },
  {
   "cell_type": "markdown",
   "id": "3e1a4b76",
   "metadata": {},
   "source": [
    "https://www.acmicpc.net/problem/17219"
   ]
  },
  {
   "cell_type": "code",
   "execution_count": null,
   "id": "133db646",
   "metadata": {},
   "outputs": [],
   "source": [
    "# 백준 17219 비밀번호 찾기\n",
    "\n",
    "n, m = map(int, input().split())\n",
    "\n",
    "lst = {}\n",
    "for i in range(n):\n",
    "    a, b = map(str, input().split())\n",
    "    lst[a] = b\n",
    "    \n",
    "for i in range(m):\n",
    "    print(lst[input().rstrip()])"
   ]
  },
  {
   "cell_type": "markdown",
   "id": "ead8131d",
   "metadata": {},
   "source": [
    "https://www.acmicpc.net/problem/17626"
   ]
  },
  {
   "cell_type": "code",
   "execution_count": null,
   "id": "61b7dc8c",
   "metadata": {},
   "outputs": [],
   "source": [
    "# 백준 17626 Four Squares\n",
    "\n",
    "n = int(input())\n",
    "\n",
    "dp = [0] * (n+1)\n",
    "dp[1] = 1\n",
    "\n",
    "for i in range(2, n+1):\n",
    "    mini = int(1e9)\n",
    "    a = 1\n",
    "\n",
    "    while (a**2) <= i:\n",
    "        mini = min(mini, dp[i - (a**2)])\n",
    "        a += 1\n",
    "\n",
    "    dp[i] = mini + 1\n",
    "    \n",
    "    \n",
    "print(dp[n])"
   ]
  },
  {
   "cell_type": "code",
   "execution_count": null,
   "id": "62810e7f",
   "metadata": {},
   "outputs": [],
   "source": []
  }
 ],
 "metadata": {
  "kernelspec": {
   "display_name": "Python 3",
   "language": "python",
   "name": "python3"
  },
  "language_info": {
   "codemirror_mode": {
    "name": "ipython",
    "version": 3
   },
   "file_extension": ".py",
   "mimetype": "text/x-python",
   "name": "python",
   "nbconvert_exporter": "python",
   "pygments_lexer": "ipython3",
   "version": "3.8.8"
  }
 },
 "nbformat": 4,
 "nbformat_minor": 5
}
