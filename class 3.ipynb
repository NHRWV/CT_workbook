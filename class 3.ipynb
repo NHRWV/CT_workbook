{
 "cells": [
  {
   "cell_type": "markdown",
   "id": "d275e27f",
   "metadata": {},
   "source": [
    "https://www.acmicpc.net/problem/1620"
   ]
  },
  {
   "cell_type": "code",
   "execution_count": null,
   "id": "aa1eea9d",
   "metadata": {},
   "outputs": [],
   "source": [
    "# 백준 1620 나는야 포켓몬 마스터 이다솜\n",
    "\n",
    "\n",
    "n, m = map(int, input().split())\n",
    "\n",
    "book = {}\n",
    "for i in range(1, n+1):\n",
    "    name = input()\n",
    "    \n",
    "    book[name] = str(i)\n",
    "    book[str(i)] = name\n",
    "    \n",
    "\n",
    "for i in range(m):\n",
    "    q = input()\n",
    "    \n",
    "    print(book[q])"
   ]
  },
  {
   "cell_type": "code",
   "execution_count": null,
   "id": "0c551de6",
   "metadata": {},
   "outputs": [],
   "source": []
  }
 ],
 "metadata": {
  "kernelspec": {
   "display_name": "Python 3",
   "language": "python",
   "name": "python3"
  },
  "language_info": {
   "codemirror_mode": {
    "name": "ipython",
    "version": 3
   },
   "file_extension": ".py",
   "mimetype": "text/x-python",
   "name": "python",
   "nbconvert_exporter": "python",
   "pygments_lexer": "ipython3",
   "version": "3.8.8"
  }
 },
 "nbformat": 4,
 "nbformat_minor": 5
}
