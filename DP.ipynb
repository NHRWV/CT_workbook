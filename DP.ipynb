{
 "cells": [
  {
   "cell_type": "markdown",
   "id": "7a46e829",
   "metadata": {},
   "source": [
    "https://www.acmicpc.net/problem/2631"
   ]
  },
  {
   "cell_type": "code",
   "execution_count": null,
   "id": "166fce3a",
   "metadata": {},
   "outputs": [],
   "source": [
    "# 줄세우기\n",
    "\n",
    "from bisect import bisect_left\n",
    "\n",
    "n = int(input())\n",
    "row = []\n",
    "for i in range(n):\n",
    "    row.append(int(input()))\n",
    "    \n",
    "dp = [0]\n",
    "\n",
    "for i in row:\n",
    "    if dp[-1] < i:\n",
    "        dp.append(i)\n",
    "        \n",
    "    else:\n",
    "        dp[bisect_left(dp, i)] = i\n",
    "        \n",
    "print(n - (len(dp)-1))\n"
   ]
  },
  {
   "cell_type": "markdown",
   "id": "7f28d608",
   "metadata": {},
   "source": [
    "https://www.acmicpc.net/problem/16194"
   ]
  },
  {
   "cell_type": "code",
   "execution_count": null,
   "id": "0d00e969",
   "metadata": {},
   "outputs": [],
   "source": [
    "# 카드 구매하기 2\n",
    "\n",
    "n = int(input())\n",
    "lst = list(map(int,input().split()))\n",
    "\n",
    "\n",
    "dp = [int(1e9)] * (n+1)\n",
    "dp[0] = 0\n",
    "\n",
    "\n",
    "for i in range(1, n+1):\n",
    "    for j in range(i+1):\n",
    "        dp[i] = min(dp[i], lst[j-1] + dp[i-j])\n",
    "        \n",
    "print(dp[n])\n"
   ]
  },
  {
   "cell_type": "code",
   "execution_count": 5,
   "id": "50f63aca",
   "metadata": {},
   "outputs": [
    {
     "data": {
      "text/plain": [
       "[3, 7, 5, 2, 6, 1, 4]"
      ]
     },
     "execution_count": 5,
     "metadata": {},
     "output_type": "execute_result"
    }
   ],
   "source": [
    "4\n",
    "1 5 6 7\n",
    "\n",
    "5\n",
    "10 9 8 7 6\n",
    "\n",
    "10\n",
    "1 1 2 3 5 8 13 21 34 55\n",
    "\n",
    "10\n",
    "5 10 11 12 13 30 35 40 45 47\n",
    "\n",
    "4\n",
    "5 2 8 10\n",
    "\n",
    "4\n",
    "3 5 15 16"
   ]
  },
  {
   "cell_type": "code",
   "execution_count": 8,
   "id": "b8f0889e",
   "metadata": {},
   "outputs": [
    {
     "data": {
      "text/plain": [
       "[0, 1000000000, 1000000000, 1000000000, 1000000000]"
      ]
     },
     "execution_count": 8,
     "metadata": {},
     "output_type": "execute_result"
    }
   ],
   "source": [
    "dp\n",
    "        "
   ]
  },
  {
   "cell_type": "code",
   "execution_count": null,
   "id": "40965050",
   "metadata": {},
   "outputs": [],
   "source": []
  }
 ],
 "metadata": {
  "kernelspec": {
   "display_name": "Python 3",
   "language": "python",
   "name": "python3"
  },
  "language_info": {
   "codemirror_mode": {
    "name": "ipython",
    "version": 3
   },
   "file_extension": ".py",
   "mimetype": "text/x-python",
   "name": "python",
   "nbconvert_exporter": "python",
   "pygments_lexer": "ipython3",
   "version": "3.8.8"
  }
 },
 "nbformat": 4,
 "nbformat_minor": 5
}
