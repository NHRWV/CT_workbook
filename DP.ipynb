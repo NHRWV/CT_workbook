{
 "cells": [
  {
   "cell_type": "markdown",
   "id": "7a46e829",
   "metadata": {},
   "source": [
    "https://www.acmicpc.net/problem/2631"
   ]
  },
  {
   "cell_type": "code",
   "execution_count": null,
   "id": "166fce3a",
   "metadata": {},
   "outputs": [],
   "source": [
    "# 줄세우기\n",
    "\n",
    "from bisect import bisect_left\n",
    "\n",
    "n = int(input())\n",
    "row = []\n",
    "for i in range(n):\n",
    "    row.append(int(input()))\n",
    "    \n",
    "dp = [0]\n",
    "\n",
    "for i in row:\n",
    "    if dp[-1] < i:\n",
    "        dp.append(i)\n",
    "        \n",
    "    else:\n",
    "        dp[bisect_left(dp, i)] = i\n",
    "        \n",
    "print(n - (len(dp)-1))\n"
   ]
  },
  {
   "cell_type": "markdown",
   "id": "7f28d608",
   "metadata": {},
   "source": [
    "https://www.acmicpc.net/problem/16194"
   ]
  },
  {
   "cell_type": "code",
   "execution_count": null,
   "id": "0d00e969",
   "metadata": {},
   "outputs": [],
   "source": [
    "# 카드 구매하기 2\n",
    "\n",
    "n = int(input())\n",
    "lst = list(map(int,input().split()))\n",
    "\n",
    "\n",
    "dp = [int(1e9)] * (n+1)\n",
    "dp[0] = 0\n",
    "\n",
    "\n",
    "for i in range(1, n+1):\n",
    "    for j in range(i+1):\n",
    "        dp[i] = min(dp[i], lst[j-1] + dp[i-j])\n",
    "        \n",
    "print(dp[n])\n"
   ]
  },
  {
   "cell_type": "markdown",
   "id": "8236a0a6",
   "metadata": {},
   "source": [
    "https://www.acmicpc.net/problem/1495"
   ]
  },
  {
   "cell_type": "code",
   "execution_count": null,
   "id": "b8f0889e",
   "metadata": {},
   "outputs": [],
   "source": [
    "# 기타리스트\n",
    "\n",
    "n, s, m = map(int, input().split())\n",
    "lst = list(map(int, input().split()))\n",
    "\n",
    "dp = [[0] * (m+1) for _ in range(n+1)]\n",
    "dp[0][s] = 1\n",
    "\n",
    "for i in range(n):\n",
    "    for j in range(m+1):\n",
    "        if dp[i][j]:\n",
    "            if j + lst[i] <= m:\n",
    "                dp[i+1][j + lst[i]] = 1\n",
    "            if j - lst[i] >= 0:\n",
    "                dp[i+1][j - lst[i]] = 1\n",
    "                \n",
    "                \n",
    "answer = -1\n",
    "for i in range(m, -1, -1):\n",
    "    if dp[n][i]:\n",
    "        answer = i\n",
    "        break\n",
    "\n",
    "print(answer)\n",
    "    "
   ]
  },
  {
   "cell_type": "markdown",
   "id": "7d12bbf7",
   "metadata": {},
   "source": [
    "https://www.acmicpc.net/problem/2294"
   ]
  },
  {
   "cell_type": "code",
   "execution_count": null,
   "id": "c7dc6341",
   "metadata": {},
   "outputs": [],
   "source": [
    "# 동전 2\n",
    "\n",
    "n, k = map(int, input().split())\n",
    "\n",
    "coin = []\n",
    "for i in range(n):\n",
    "    coin.append(int(input()))\n",
    "    \n",
    "dp = [int(1e9)] * (k+1)\n",
    "dp[0] = 0\n",
    "\n",
    "for i in coin:\n",
    "    for j in range(i, k+1):\n",
    "        dp[j] = min(dp[j], dp[j - i] + 1)\n",
    "        \n",
    "\n",
    "print(dp[k] if dp[k] != int(1e9) else -1)\n",
    "\n",
    "\n"
   ]
  },
  {
   "cell_type": "markdown",
   "id": "2548cd0b",
   "metadata": {},
   "source": [
    "https://www.acmicpc.net/problem/16395"
   ]
  },
  {
   "cell_type": "code",
   "execution_count": null,
   "id": "21ebf75b",
   "metadata": {},
   "outputs": [],
   "source": [
    "# 파스칼의 삼각형\n",
    "\n",
    "n, k = map(int, input().split())\n",
    "\n",
    "dp = [[1] * (n+1) for _ in range(n+1)]\n",
    "\n",
    "for i in range(3, n+1):\n",
    "    for j in range(2, i):\n",
    "        dp[i][j] = dp[i-1][j-1] + dp[i-1][j]\n",
    "        \n",
    "print(dp[n][k])\n"
   ]
  },
  {
   "cell_type": "markdown",
   "id": "3aec73d5",
   "metadata": {},
   "source": [
    "https://www.acmicpc.net/problem/14916"
   ]
  },
  {
   "cell_type": "code",
   "execution_count": null,
   "id": "460b2070",
   "metadata": {},
   "outputs": [],
   "source": [
    "# 거스름돈\n",
    "\n",
    "n = int(input())\n",
    "\n",
    "answer = 0\n",
    "while n > 0:\n",
    "    if not n % 5:\n",
    "        answer += n // 5\n",
    "        n = 0\n",
    "        break\n",
    "        \n",
    "    n -= 2\n",
    "    answer += 1\n",
    "    \n",
    "    \n",
    "print(answer if not n else -1)\n"
   ]
  },
  {
   "cell_type": "markdown",
   "id": "4db6b8b1",
   "metadata": {},
   "source": [
    "https://www.acmicpc.net/problem/13301"
   ]
  },
  {
   "cell_type": "code",
   "execution_count": null,
   "id": "ffb42881",
   "metadata": {},
   "outputs": [],
   "source": [
    "# 타일 장식물\n",
    "\n",
    "import sys\n",
    "\n",
    "n = int(input())\n",
    "\n",
    "if n == 1:\n",
    "    print(4)\n",
    "    sys.exit()\n",
    "\n",
    "dp = [0] * (n+1)\n",
    "dp[1] = 4\n",
    "dp[2] = 6\n",
    "\n",
    "for i in range(3, n+1):\n",
    "    dp[i] = dp[i-1] + dp[i-2]\n",
    "    \n",
    "print(dp[n])\n"
   ]
  },
  {
   "cell_type": "markdown",
   "id": "c9e084b7",
   "metadata": {},
   "source": [
    "https://www.acmicpc.net/problem/1535"
   ]
  },
  {
   "cell_type": "code",
   "execution_count": null,
   "id": "9111b673",
   "metadata": {},
   "outputs": [],
   "source": [
    "# 안녕\n",
    "\n",
    "n = int(input())\n",
    "cost = list(map(int, input().split()))\n",
    "reward = list(map(int, input().split()))\n",
    "\n",
    "dp = [[0] * 101 for _ in range(n+1)]\n",
    "\n",
    "for i in range(1, n+1):\n",
    "    for j in range(100):\n",
    "        if cost[i-1] <= j:\n",
    "            dp[i][j] = max(dp[i-1][j], dp[i-1][j - cost[i-1]] + reward[i-1])\n",
    "            \n",
    "        else:\n",
    "            dp[i][j] = dp[i-1][j]\n",
    "            \n",
    "print(dp[n][99])\n"
   ]
  },
  {
   "cell_type": "markdown",
   "id": "09fc0d06",
   "metadata": {},
   "source": [
    "https://www.acmicpc.net/problem/2266"
   ]
  },
  {
   "cell_type": "code",
   "execution_count": 30,
   "id": "184ef723",
   "metadata": {},
   "outputs": [
    {
     "name": "stdout",
     "output_type": "stream",
     "text": [
      "4 2\n"
     ]
    }
   ],
   "source": [
    "# 금고 테스트\n",
    "\n",
    "n, k = map(int, input().split())\n",
    "\n",
    "dp = [[0] * (n+1) for _ in range(k+1)]\n",
    "\n",
    "for i in range(1, n+1):\n",
    "    dp[1][i] = i\n",
    "\n",
    "for i in range(1, k+1):\n",
    "    for j in range(2, n+1):\n",
    "        dp[i][j] = int(1e9)\n",
    "        \n",
    "        for k in range(i+1):\n",
    "            dp[i][j] = min(dp[i][j], max(dp[i-1][k-1], dp[i][j-k]) + 1)\n",
    "\n",
    "\n"
   ]
  },
  {
   "cell_type": "markdown",
   "id": "ba0bc8fd",
   "metadata": {},
   "source": [
    "https://www.acmicpc.net/problem/3079"
   ]
  },
  {
   "cell_type": "code",
   "execution_count": null,
   "id": "4c044596",
   "metadata": {},
   "outputs": [],
   "source": [
    "# 입국심사\n",
    "\n",
    "n, m = map(int, input().split())\n",
    "\n",
    "time = []\n",
    "for i in range(n):\n",
    "    time.append(int(input()))\n",
    "    \n",
    "start = 0\n",
    "end = max(time) * m\n",
    "answer = int(1e9)\n",
    "\n",
    "while start <= end:\n",
    "    mid = (start + end) // 2\n",
    "    \n",
    "    count = 0\n",
    "    for i in time:\n",
    "        count += mid // i\n",
    "        \n",
    "        \n",
    "    if count >= m:\n",
    "        end = mid - 1\n",
    "        answer = mid\n",
    "        \n",
    "    else:\n",
    "        start = mid + 1\n",
    "        \n",
    "print(answer)\n"
   ]
  },
  {
   "cell_type": "markdown",
   "id": "6f74356b",
   "metadata": {},
   "source": [
    "https://www.acmicpc.net/problem/5546"
   ]
  },
  {
   "cell_type": "code",
   "execution_count": null,
   "id": "9f86a084",
   "metadata": {},
   "outputs": [],
   "source": [
    "\n",
    "\n"
   ]
  },
  {
   "cell_type": "markdown",
   "id": "15106435",
   "metadata": {},
   "source": [
    "https://www.acmicpc.net/problem/16157"
   ]
  },
  {
   "cell_type": "code",
   "execution_count": null,
   "id": "e420af91",
   "metadata": {},
   "outputs": [],
   "source": [
    "# 블로그\n",
    "\n",
    "n = int(input())\n",
    "word = input()\n",
    "\n",
    "temp = list(word)\n",
    "\n",
    "memo = word[0]\n",
    "for i in range(1, n):\n",
    "    if temp[i] == memo:\n",
    "        temp[i] = ''\n",
    "        \n",
    "    else:\n",
    "        memo = temp[i]\n",
    "        \n",
    "temp = ''.join(temp)\n",
    "\n",
    "dp = [[-1] * n for _ in range(n)]\n",
    "\n",
    "\n",
    "def sol(left, right):\n",
    "    if left >= right:\n",
    "        return 0\n",
    "    \n",
    "    if dp[left][right] != -1:\n",
    "        return dp[left][right]\n",
    "\n",
    "    if temp[left] == temp[right]:\n",
    "        dp[left][right] = sol(left + 1, right) + 1\n",
    "        #dp[left][right] += 1\n",
    "        return dp[left][right]\n",
    "\n",
    "\n",
    "    result = 0\n",
    "    for i in range(left, right):\n",
    "        result = max(result, sol(left, i) + sol(i + 1, right))\n",
    "\n",
    "    dp[left][right] = result\n",
    "\n",
    "    return dp[left][right]\n",
    "    \n",
    "\n",
    "print(len(temp) - sol(0, len(temp) - 1))\n"
   ]
  },
  {
   "cell_type": "code",
   "execution_count": null,
   "id": "ae99fbd3",
   "metadata": {},
   "outputs": [],
   "source": [
    "n, k = map(int, input().split())\n",
    "color = list(map(int, input().split()))\n",
    "\n",
    "# temp = color[::]\n",
    "\n",
    "# memo = color[0]\n",
    "# for i in range(1, n):\n",
    "#     if temp[i] == memo:\n",
    "#         temp[i] = ''\n",
    "        \n",
    "#     else:\n",
    "#         memo = temp[i]\n",
    "        \n",
    "# temp = ''.join(temp)\n",
    "\n",
    "dp = [[-1] * (n+1) for _ in range(n+1)]\n",
    "\n",
    "def sol(left, right):\n",
    "    if left >= right:\n",
    "        return 0\n",
    "    \n",
    "    if dp[left][right] != -1:\n",
    "        return dp[left][right]\n",
    "\n",
    "#     if color[left] == color[right]:\n",
    "#         dp[left][right] = sol(left + 1, right) + 1\n",
    "        \n",
    "#         return dp[left][right]\n",
    "\n",
    "\n",
    "    result = int(1e9)\n",
    "    for i in range(left, right):\n",
    "        check = 0 if color[left] == color[i+1] else 1\n",
    "        result = min(result, sol(left, i) + sol(i + 1, right) + check)\n",
    "\n",
    "    dp[left][right] = result\n",
    "\n",
    "    return dp[left][right]\n",
    "    \n",
    "        \n",
    "print(sol(0, len(color) - 1))\n"
   ]
  },
  {
   "cell_type": "code",
   "execution_count": null,
   "id": "918385e8",
   "metadata": {},
   "outputs": [],
   "source": [
    "#include <cstdio> https://www.acmicpc.net/source/8949061\n",
    "#include <memory.h>\n",
    "#include <cstring>\n",
    "#include <vector>\n",
    "#include <deque>\n",
    "#include <queue>\n",
    "#include <algorithm>\n",
    "#include <cmath>\n",
    "#include <functional>\n",
    "#include <set>\n",
    "#include <map>\n",
    "#include <unordered_map>\n",
    "#include <unordered_set>\n",
    "#include <bitset>\n",
    "#define sz(x) (int)(x).size()\n",
    "#define all(x) (x).begin(), (x).end()\n",
    "using namespace std;\n",
    "\n",
    "typedef unsigned long long ull;\n",
    "typedef long long ll;\n",
    "typedef pair<int, int> pii;\n",
    "typedef pair<ll, ll> pll;\n",
    "typedef pair<ll, int> pli;\n",
    "const ll MOD = 1e9 + 7;\n",
    "\n",
    "priority_queue<int, vector<int>, greater<int> > pq;\n",
    "vector<int> vec; queue<int> q; deque<int> dq;\n",
    "\n",
    "int dp[200][200];\n",
    "\n",
    "int go(int l, int r) {\n",
    "\tif (l >= r) return 0;\n",
    "\tif (dp[l][r] != -1) return dp[l][r];\n",
    "\tif (vec[l] == vec[r]) return dp[l][r] = go(l + 1, r) + 1;\n",
    "\n",
    "\tint mav = 0;\n",
    "\tfor (int i = l; i < r; i++) {\n",
    "\t\tmav = max(go(l, i) + go(i + 1, r), mav);\n",
    "\t}\n",
    "\n",
    "\treturn dp[l][r] = mav;\n",
    "}\n",
    "\n",
    "int main() {\n",
    "\tint n, k, cnt = 0, t;\n",
    "\tscanf(\"%d %d\", &n, &k);\n",
    "\n",
    "\tfor (int i = 0; i < n; i++) {\n",
    "\t\tscanf(\"%d\", &t);\n",
    "\t\tif (!vec.empty() && vec.back() == t) {\n",
    "\t\t\tcnt++;\n",
    "\t\t\tcontinue;\n",
    "\t\t}\n",
    "\t\tvec.push_back(t);\n",
    "\t}\n",
    "\tmemset(dp, -1, sizeof(dp));\n",
    "\n",
    "\tprintf(\"%d\", n - go(0, sz(vec) - 1) - cnt - 1);\n",
    "}"
   ]
  },
  {
   "cell_type": "markdown",
   "id": "d1a58942",
   "metadata": {},
   "source": [
    "https://www.acmicpc.net/problem/2315"
   ]
  },
  {
   "cell_type": "code",
   "execution_count": 31,
   "id": "49ecad47",
   "metadata": {},
   "outputs": [
    {
     "data": {
      "text/plain": [
       "[[-1, 0, 1, 0, 0, 0, -1],\n",
       " [-1, -1, 0, 0, 1, 0, -1],\n",
       " [-1, -1, -1, 0, 0, 0, -1],\n",
       " [-1, -1, -1, -1, 0, 1, -1],\n",
       " [-1, -1, -1, -1, -1, 0, -1],\n",
       " [-1, -1, -1, -1, -1, -1, -1],\n",
       " [-1, -1, -1, -1, -1, -1, -1]]"
      ]
     },
     "execution_count": 31,
     "metadata": {},
     "output_type": "execute_result"
    }
   ],
   "source": [
    "# 가로등 끄기\n",
    "\n",
    "n, m = map(int, input().split())\n",
    "\n",
    "light = []\n",
    "for i in range(n):\n",
    "    d, w = map(int, input().split())\n",
    "    light.append((d, w))\n",
    "    \n",
    "# 배열 정의\n",
    "# 점화식\n",
    "# 초기값"
   ]
  },
  {
   "cell_type": "code",
   "execution_count": 110,
   "id": "4d3d1ada",
   "metadata": {},
   "outputs": [
    {
     "data": {
      "text/plain": [
       "2"
      ]
     },
     "execution_count": 110,
     "metadata": {},
     "output_type": "execute_result"
    }
   ],
   "source": [
    "value"
   ]
  },
  {
   "cell_type": "markdown",
   "id": "610c36b1",
   "metadata": {},
   "source": [
    "https://www.acmicpc.net/problem/1049"
   ]
  },
  {
   "cell_type": "code",
   "execution_count": null,
   "id": "25dc6643",
   "metadata": {},
   "outputs": [],
   "source": [
    "# 기타줄\n",
    "\n"
   ]
  }
 ],
 "metadata": {
  "kernelspec": {
   "display_name": "Python 3",
   "language": "python",
   "name": "python3"
  },
  "language_info": {
   "codemirror_mode": {
    "name": "ipython",
    "version": 3
   },
   "file_extension": ".py",
   "mimetype": "text/x-python",
   "name": "python",
   "nbconvert_exporter": "python",
   "pygments_lexer": "ipython3",
   "version": "3.8.8"
  }
 },
 "nbformat": 4,
 "nbformat_minor": 5
}
