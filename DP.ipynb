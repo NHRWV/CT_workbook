{
 "cells": [
  {
   "cell_type": "markdown",
   "id": "7a46e829",
   "metadata": {},
   "source": [
    "https://www.acmicpc.net/problem/2631"
   ]
  },
  {
   "cell_type": "code",
   "execution_count": null,
   "id": "166fce3a",
   "metadata": {},
   "outputs": [],
   "source": [
    "# 줄세우기\n",
    "\n",
    "from bisect import bisect_left\n",
    "\n",
    "n = int(input())\n",
    "row = []\n",
    "for i in range(n):\n",
    "    row.append(int(input()))\n",
    "    \n",
    "dp = [0]\n",
    "\n",
    "for i in row:\n",
    "    if dp[-1] < i:\n",
    "        dp.append(i)\n",
    "        \n",
    "    else:\n",
    "        dp[bisect_left(dp, i)] = i\n",
    "        \n",
    "print(n - (len(dp)-1))\n"
   ]
  },
  {
   "cell_type": "markdown",
   "id": "7f28d608",
   "metadata": {},
   "source": [
    "https://www.acmicpc.net/problem/16194"
   ]
  },
  {
   "cell_type": "code",
   "execution_count": null,
   "id": "0d00e969",
   "metadata": {},
   "outputs": [],
   "source": [
    "# 카드 구매하기 2\n",
    "\n",
    "n = int(input())\n",
    "lst = list(map(int,input().split()))\n",
    "\n",
    "\n",
    "dp = [int(1e9)] * (n+1)\n",
    "dp[0] = 0\n",
    "\n",
    "\n",
    "for i in range(1, n+1):\n",
    "    for j in range(i+1):\n",
    "        dp[i] = min(dp[i], lst[j-1] + dp[i-j])\n",
    "        \n",
    "print(dp[n])\n"
   ]
  },
  {
   "cell_type": "markdown",
   "id": "8236a0a6",
   "metadata": {},
   "source": [
    "https://www.acmicpc.net/problem/1495"
   ]
  },
  {
   "cell_type": "code",
   "execution_count": null,
   "id": "b8f0889e",
   "metadata": {},
   "outputs": [],
   "source": [
    "# 기타리스트\n",
    "\n",
    "n, s, m = map(int, input().split())\n",
    "lst = list(map(int, input().split()))\n",
    "\n",
    "dp = [[0] * (m+1) for _ in range(n+1)]\n",
    "dp[0][s] = 1\n",
    "\n",
    "for i in range(n):\n",
    "    for j in range(m+1):\n",
    "        if dp[i][j]:\n",
    "            if j + lst[i] <= m:\n",
    "                dp[i+1][j + lst[i]] = 1\n",
    "            if j - lst[i] >= 0:\n",
    "                dp[i+1][j - lst[i]] = 1\n",
    "                \n",
    "                \n",
    "answer = -1\n",
    "for i in range(m, -1, -1):\n",
    "    if dp[n][i]:\n",
    "        answer = i\n",
    "        break\n",
    "\n",
    "print(answer)\n",
    "    "
   ]
  },
  {
   "cell_type": "markdown",
   "id": "7d12bbf7",
   "metadata": {},
   "source": [
    "https://www.acmicpc.net/problem/2294"
   ]
  },
  {
   "cell_type": "code",
   "execution_count": null,
   "id": "c7dc6341",
   "metadata": {},
   "outputs": [],
   "source": [
    "# 동전 2\n",
    "\n",
    "n, k = map(int, input().split())\n",
    "\n",
    "coin = []\n",
    "for i in range(n):\n",
    "    coin.append(int(input()))\n",
    "    \n",
    "dp = [int(1e9)] * (k+1)\n",
    "dp[0] = 0\n",
    "\n",
    "for i in coin:\n",
    "    for j in range(i, k+1):\n",
    "        dp[j] = min(dp[j], dp[j - i] + 1)\n",
    "        \n",
    "\n",
    "print(dp[k] if dp[k] != int(1e9) else -1)\n",
    "\n",
    "\n"
   ]
  },
  {
   "cell_type": "markdown",
   "id": "2548cd0b",
   "metadata": {},
   "source": [
    "https://www.acmicpc.net/problem/16395"
   ]
  },
  {
   "cell_type": "code",
   "execution_count": null,
   "id": "21ebf75b",
   "metadata": {},
   "outputs": [],
   "source": [
    "# 파스칼의 삼각형\n",
    "\n",
    "n, k = map(int, input().split())\n",
    "\n",
    "dp = [[1] * (n+1) for _ in range(n+1)]\n",
    "\n",
    "for i in range(3, n+1):\n",
    "    for j in range(2, i):\n",
    "        dp[i][j] = dp[i-1][j-1] + dp[i-1][j]\n",
    "        \n",
    "print(dp[n][k])\n"
   ]
  },
  {
   "cell_type": "markdown",
   "id": "3aec73d5",
   "metadata": {},
   "source": [
    "https://www.acmicpc.net/problem/14916"
   ]
  },
  {
   "cell_type": "code",
   "execution_count": null,
   "id": "460b2070",
   "metadata": {},
   "outputs": [],
   "source": [
    "# 거스름돈\n",
    "\n",
    "n = int(input())\n",
    "\n",
    "answer = 0\n",
    "while n > 0:\n",
    "    if not n % 5:\n",
    "        answer += n // 5\n",
    "        n = 0\n",
    "        break\n",
    "        \n",
    "    n -= 2\n",
    "    answer += 1\n",
    "    \n",
    "    \n",
    "print(answer if not n else -1)\n"
   ]
  },
  {
   "cell_type": "markdown",
   "id": "4db6b8b1",
   "metadata": {},
   "source": [
    "https://www.acmicpc.net/problem/13301"
   ]
  },
  {
   "cell_type": "code",
   "execution_count": null,
   "id": "ffb42881",
   "metadata": {},
   "outputs": [],
   "source": [
    "# 타일 장식물\n",
    "\n",
    "import sys\n",
    "\n",
    "n = int(input())\n",
    "\n",
    "if n == 1:\n",
    "    print(4)\n",
    "    sys.exit()\n",
    "\n",
    "dp = [0] * (n+1)\n",
    "dp[1] = 4\n",
    "dp[2] = 6\n",
    "\n",
    "for i in range(3, n+1):\n",
    "    dp[i] = dp[i-1] + dp[i-2]\n",
    "    \n",
    "print(dp[n])\n"
   ]
  },
  {
   "cell_type": "markdown",
   "id": "c9e084b7",
   "metadata": {},
   "source": [
    "https://www.acmicpc.net/problem/1535"
   ]
  },
  {
   "cell_type": "code",
   "execution_count": null,
   "id": "9111b673",
   "metadata": {},
   "outputs": [],
   "source": [
    "# 안녕\n",
    "\n",
    "n = int(input())\n",
    "cost = list(map(int, input().split()))\n",
    "reward = list(map(int, input().split()))\n",
    "\n",
    "dp = [[0] * 101 for _ in range(n+1)]\n",
    "\n",
    "for i in range(1, n+1):\n",
    "    for j in range(100):\n",
    "        if cost[i-1] <= j:\n",
    "            dp[i][j] = max(dp[i-1][j], dp[i-1][j - cost[i-1]] + reward[i-1])\n",
    "            \n",
    "        else:\n",
    "            dp[i][j] = dp[i-1][j]\n",
    "            \n",
    "print(dp[n][99])\n"
   ]
  },
  {
   "cell_type": "markdown",
   "id": "09fc0d06",
   "metadata": {},
   "source": [
    "https://www.acmicpc.net/problem/2266"
   ]
  },
  {
   "cell_type": "code",
   "execution_count": 30,
   "id": "184ef723",
   "metadata": {},
   "outputs": [
    {
     "name": "stdout",
     "output_type": "stream",
     "text": [
      "4 2\n"
     ]
    }
   ],
   "source": [
    "# 금고 테스트\n",
    "\n",
    "n, k = map(int, input().split())\n",
    "\n",
    "dp = [[0] * (n+1) for _ in range(k+1)]\n",
    "\n",
    "for i in range(1, n+1):\n",
    "    dp[1][i] = i\n",
    "\n",
    "for i in range(1, k+1):\n",
    "    for j in range(2, n+1):\n",
    "        dp[i][j] = int(1e9)\n",
    "        \n",
    "        for k in range(i+1):\n",
    "            dp[i][j] = min(dp[i][j], max(dp[i-1][k-1], dp[i][j-k]) + 1)\n",
    "\n",
    "\n"
   ]
  },
  {
   "cell_type": "markdown",
   "id": "ba0bc8fd",
   "metadata": {},
   "source": [
    "https://www.acmicpc.net/problem/3079"
   ]
  },
  {
   "cell_type": "code",
   "execution_count": null,
   "id": "4c044596",
   "metadata": {},
   "outputs": [],
   "source": [
    "# 입국심사\n",
    "\n",
    "n, m = map(int, input().split())\n",
    "\n",
    "time = []\n",
    "for i in range(n):\n",
    "    time.append(int(input()))\n",
    "    \n",
    "start = 0\n",
    "end = max(time) * m\n",
    "answer = int(1e9)\n",
    "\n",
    "while start <= end:\n",
    "    mid = (start + end) // 2\n",
    "    \n",
    "    count = 0\n",
    "    for i in time:\n",
    "        count += mid // i\n",
    "        \n",
    "        \n",
    "    if count >= m:\n",
    "        end = mid - 1\n",
    "        answer = mid\n",
    "        \n",
    "    else:\n",
    "        start = mid + 1\n",
    "        \n",
    "print(answer)\n"
   ]
  },
  {
   "cell_type": "markdown",
   "id": "6f74356b",
   "metadata": {},
   "source": [
    "https://www.acmicpc.net/problem/5546"
   ]
  },
  {
   "cell_type": "code",
   "execution_count": null,
   "id": "9f86a084",
   "metadata": {},
   "outputs": [],
   "source": [
    "\n",
    "\n",
    "n, k = map(int, input().split())\n",
    "\n",
    "dp = [0] * (n+1)\n",
    "for i in range(k):\n",
    "    a, b = map(int, input().split())\n",
    "    dp[a] = b\n",
    "    \n",
    "print('이거 어떻게 푸냐..? 진짜 모르겠다. 앙ㄹ니ㅁㄴ리ㅗㅁ 요즘 문제가 잘 안 풀린다. 아아ㅣ인ㄹ 저녁 뭐 먹지?')\n"
   ]
  },
  {
   "cell_type": "markdown",
   "id": "6ed344bb",
   "metadata": {},
   "source": [
    "https://www.acmicpc.net/problem/16157"
   ]
  },
  {
   "cell_type": "code",
   "execution_count": 55,
   "id": "755ed78d",
   "metadata": {},
   "outputs": [
    {
     "name": "stdout",
     "output_type": "stream",
     "text": [
      "5\n",
      "GRBBG\n",
      "3\n"
     ]
    }
   ],
   "source": [
    "# 블로그\n",
    "\n",
    "n = int(input())\n",
    "word = input()\n",
    "\n",
    "temp = list(word)\n",
    "\n",
    "memo = word[0]\n",
    "for i in range(1, n):\n",
    "    if temp[i] == memo:\n",
    "        temp[i] = ''\n",
    "        \n",
    "    else:\n",
    "        memo = temp[i]\n",
    "        \n",
    "temp = ''.join(temp)\n",
    "\n",
    "dp = [[-1] * n for _ in range(n)]\n",
    "\n",
    "\n",
    "def sol(left, right):\n",
    "    if left >= right:\n",
    "        return 0\n",
    "    \n",
    "    if dp[left][right] != -1:\n",
    "        return dp[left][right]\n",
    "\n",
    "    if temp[left] == temp[right]:\n",
    "        dp[left][right] = sol(left + 1, right) + 1\n",
    "        #dp[left][right] += 1\n",
    "        return dp[left][right]\n",
    "\n",
    "\n",
    "    result = 0\n",
    "    for i in range(left, right):\n",
    "        result = max(result, sol(left, i) + sol(i + 1, right))\n",
    "\n",
    "    dp[left][right] = result\n",
    "\n",
    "    return dp[left][right]\n",
    "    \n",
    "\n",
    "print(len(temp) - sol(0, len(temp) - 1))\n"
   ]
  },
  {
   "cell_type": "code",
   "execution_count": 41,
   "id": "3cd296b9",
   "metadata": {},
   "outputs": [
    {
     "data": {
      "text/plain": [
       "'GRBBG'"
      ]
     },
     "execution_count": 41,
     "metadata": {},
     "output_type": "execute_result"
    }
   ],
   "source": [
    "5\n",
    "GRBBG"
   ]
  },
  {
   "cell_type": "code",
   "execution_count": 70,
   "id": "1ecfb3f7",
   "metadata": {},
   "outputs": [
    {
     "name": "stdout",
     "output_type": "stream",
     "text": [
      "5\n",
      "GRBBG\n",
      "-1\n"
     ]
    }
   ],
   "source": [
    "n = int(input())\n",
    "word = input()\n",
    "\n",
    "temp = list(word)\n",
    "\n",
    "memo = word[0]\n",
    "for i in range(1, n):\n",
    "    if temp[i] == memo:\n",
    "        temp[i] = ''\n",
    "        \n",
    "    else:\n",
    "        memo = temp[i]\n",
    "        \n",
    "temp = ''.join(temp)\n",
    "temp = word\n",
    "\n",
    "dp = [[-1] * n for _ in range(n)]\n",
    "\n",
    "for i in range(n-1):\n",
    "    for j in range(n-1-i):\n",
    "        result = int(1e9)\n",
    "        \n",
    "        for k in range(j, i+j):\n",
    "            check = 0 if temp[j] == temp[i+j] else 1\n",
    "            result = min(result, dp[j][k] + dp[k+1][i+j] + check)\n",
    "            \n",
    "        dp[j][i+j] = result\n",
    "        \n",
    "        \n",
    "print(dp[0][len(temp)-1])\n"
   ]
  },
  {
   "cell_type": "code",
   "execution_count": 71,
   "id": "92686110",
   "metadata": {},
   "outputs": [
    {
     "data": {
      "text/plain": [
       "[[1000000000, 1000000000, 1000000000, 1000000000, -1],\n",
       " [-1, 1000000000, 1000000000, 1000000000, -1],\n",
       " [-1, -1, 1000000000, 1000000000, -1],\n",
       " [-1, -1, -1, 1000000000, -1],\n",
       " [-1, -1, -1, -1, -1]]"
      ]
     },
     "execution_count": 71,
     "metadata": {},
     "output_type": "execute_result"
    }
   ],
   "source": [
    "dp"
   ]
  },
  {
   "cell_type": "code",
   "execution_count": 67,
   "id": "f5d6fbda",
   "metadata": {},
   "outputs": [],
   "source": [
    "a = 1\n",
    "b = 2"
   ]
  },
  {
   "cell_type": "code",
   "execution_count": 68,
   "id": "b0c4cf5c",
   "metadata": {},
   "outputs": [],
   "source": [
    "check = 0 if a == b else 1"
   ]
  },
  {
   "cell_type": "code",
   "execution_count": 69,
   "id": "0f49cda8",
   "metadata": {},
   "outputs": [
    {
     "data": {
      "text/plain": [
       "1"
      ]
     },
     "execution_count": 69,
     "metadata": {},
     "output_type": "execute_result"
    }
   ],
   "source": [
    "check"
   ]
  },
  {
   "cell_type": "code",
   "execution_count": 50,
   "id": "70ffa1aa",
   "metadata": {},
   "outputs": [
    {
     "data": {
      "text/plain": [
       "['10', ' 20']"
      ]
     },
     "execution_count": 50,
     "metadata": {},
     "output_type": "execute_result"
    }
   ],
   "source": [
    "a.split(',')"
   ]
  },
  {
   "cell_type": "code",
   "execution_count": null,
   "id": "5e17da7d",
   "metadata": {},
   "outputs": [],
   "source": []
  }
 ],
 "metadata": {
  "kernelspec": {
   "display_name": "Python 3",
   "language": "python",
   "name": "python3"
  },
  "language_info": {
   "codemirror_mode": {
    "name": "ipython",
    "version": 3
   },
   "file_extension": ".py",
   "mimetype": "text/x-python",
   "name": "python",
   "nbconvert_exporter": "python",
   "pygments_lexer": "ipython3",
   "version": "3.8.8"
  }
 },
 "nbformat": 4,
 "nbformat_minor": 5
}
