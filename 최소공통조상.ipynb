{
 "cells": [
  {
   "cell_type": "markdown",
   "id": "864183db",
   "metadata": {},
   "source": [
    "https://www.acmicpc.net/problem/11437"
   ]
  },
  {
   "cell_type": "code",
   "execution_count": null,
   "id": "f5cd36c5",
   "metadata": {},
   "outputs": [],
   "source": [
    "# LCA\n",
    "\n",
    "\n",
    "def meas_level(x, depth):\n",
    "    visited[x] = 1\n",
    "    level[x] = depth\n",
    "    \n",
    "    for i in edge[x]:\n",
    "        if not visited[i]:\n",
    "            parent[i] = x\n",
    "            meas_level(i, depth+1)\n",
    "    \n",
    "    \n",
    "def lca(a, b):\n",
    "    while level[a] != level[b]:\n",
    "        if level[a] < level[b]:\n",
    "            b = parent[b]\n",
    "            \n",
    "        else:\n",
    "            a = parent[a]\n",
    "            \n",
    "    while a != b:\n",
    "        a = parent[a]\n",
    "        b = parent[b]\n",
    "        \n",
    "        \n",
    "    return a\n",
    "\n",
    "\n",
    "n = int(input())\n",
    "\n",
    "edge = [[] for _ in range(n+1)]\n",
    "for i in range(n-1):\n",
    "    a, b = map(int, input().split())\n",
    "    edge[a].append(b)\n",
    "    edge[b].append(a)\n",
    "    \n",
    "    \n",
    "visited = [0] * (n+1)\n",
    "parent = [0] * (n+1)\n",
    "level = [0] * (n+1)\n",
    "\n",
    "meas_level(1, 0)\n",
    "\n",
    "m = int(input())\n",
    "for i in range(m):\n",
    "    a, b = map(int, input().split())\n",
    "    \n",
    "    print(lca(a, b))\n"
   ]
  },
  {
   "cell_type": "markdown",
   "id": "28ccdd83",
   "metadata": {},
   "source": [
    "https://www.acmicpc.net/problem/11438"
   ]
  },
  {
   "cell_type": "code",
   "execution_count": null,
   "id": "2705a932",
   "metadata": {},
   "outputs": [],
   "source": [
    "# LCA 2\n",
    "\n",
    "\n",
    "def meas_level(x, depth):\n",
    "    visited[x] = 1\n",
    "    level[x] = depth\n",
    "    \n",
    "    for i in edge[x]:\n",
    "        if not visited[i]:\n",
    "            parent[i][0] = x\n",
    "            meas_level(i, depth+1)\n",
    "    \n",
    "    \n",
    "def lca(a, b):\n",
    "    if level[b] < level[a]:\n",
    "        a, b = b, a\n",
    "        \n",
    "    for i in range(17, -1, -1):\n",
    "        if level[b] - level[a] >= 2 ** i:\n",
    "            b = parent[b][i]\n",
    "            \n",
    "    if a == b:\n",
    "        return a\n",
    "    \n",
    "    for i in range(17, -1, -1):\n",
    "        if parent[a][i] != parent[b][i]:\n",
    "            a = parent[a][i]\n",
    "            b = parent[b][i]\n",
    "        \n",
    "        \n",
    "    return parent[a][0]\n",
    "\n",
    "\n",
    "n = int(input())\n",
    "\n",
    "edge = [[] for _ in range(n+1)]\n",
    "for i in range(n-1):\n",
    "    a, b = map(int, input().split())\n",
    "    edge[a].append(b)\n",
    "    edge[b].append(a)\n",
    "    \n",
    "    \n",
    "visited = [0] * (n+1)\n",
    "level = [0] * (n+1)\n",
    "parent = [[0] * 18 for _ in range(n+1)] # log(2,100000)\n",
    "\n",
    "\n",
    "meas_level(1, 0)\n",
    "\n",
    "for i in range(1, 18): # 노드의 부모 관계 설정\n",
    "    for j in range(1, n+1):\n",
    "        parent[j][i] = parent[parent[j][i-1]][i-1]\n",
    "        \n",
    "        \n",
    "m = int(input())\n",
    "for i in range(m):\n",
    "    a, b = map(int, input().split())\n",
    "    print(lca(a, b))\n",
    "    "
   ]
  },
  {
   "cell_type": "markdown",
   "id": "3e45aac1",
   "metadata": {},
   "source": [
    "https://www.acmicpc.net/problem/1761"
   ]
  },
  {
   "cell_type": "code",
   "execution_count": null,
   "id": "9ab78b69",
   "metadata": {},
   "outputs": [],
   "source": [
    "# 정점들의 거리\n",
    "\n",
    "def meas_level(x, senior, dist):\n",
    "    visited[x] = 1\n",
    "    level[x] = level[senior] + 1\n",
    "    \n",
    "    if x != 1:\n",
    "        distance[x] += distance[senior] + dist\n",
    "    \n",
    "    for i, j in edge[x]:\n",
    "        if not visited[i]:\n",
    "            parent[i][0] = x\n",
    "            meas_level(i, x, j)\n",
    "    \n",
    "    \n",
    "def lca(a, b):\n",
    "    if level[b] < level[a]:\n",
    "        a, b = b, a\n",
    "        \n",
    "    for i in range(17, -1, -1):\n",
    "        if level[b] - level[a] >= 2 ** i:\n",
    "            b = parent[b][i]\n",
    "            \n",
    "    if a == b:\n",
    "        return a\n",
    "    \n",
    "    for i in range(17, -1, -1):\n",
    "        if parent[a][i] != parent[b][i]:\n",
    "            a = parent[a][i]\n",
    "            b = parent[b][i]\n",
    "        \n",
    "        \n",
    "    return parent[a][0]\n",
    "\n",
    "\n",
    "n = int(input())\n",
    "\n",
    "edge = [[] for _ in range(n+1)]\n",
    "for i in range(n-1):\n",
    "    a, b, c = map(int, input().split())\n",
    "    edge[a].append((b, c))\n",
    "    edge[b].append((a, c))\n",
    "    \n",
    "    \n",
    "visited = [0] * (n+1)\n",
    "parent = [[0] * 18 for _ in range(n+1)] # log(2,100000)\n",
    "\n",
    "distance = [0] * (n+1)\n",
    "level = [0] * (n+1)\n",
    "level[0] = -1\n",
    "\n",
    "meas_level(1, 0, 0)\n",
    "\n",
    "for i in range(1, 18): # 노드의 부모 관계 설정\n",
    "    for j in range(1, n+1):\n",
    "        parent[j][i] = parent[parent[j][i-1]][i-1]\n",
    "        \n",
    "        \n",
    "m = int(input())\n",
    "for i in range(m):\n",
    "    a, b = map(int, input().split())\n",
    "    # 최단거리 = distance[a] - distance[lca] + distance[b] - distance[lca]\n",
    "    print(distance[a] + distance[b] - 2 * distance[lca(a, b)])\n",
    "    "
   ]
  },
  {
   "cell_type": "markdown",
   "id": "f4c0df19",
   "metadata": {},
   "source": [
    "https://www.acmicpc.net/problem/3176"
   ]
  },
  {
   "cell_type": "code",
   "execution_count": 16,
   "id": "f6a632da",
   "metadata": {},
   "outputs": [
    {
     "name": "stdout",
     "output_type": "stream",
     "text": [
      "5\n",
      "2 3 100\n",
      "4 3 200\n",
      "1 5 150\n",
      "1 3 50\n",
      "3\n",
      "2 4\n",
      "100 200\n",
      "3 5\n",
      "50 150\n",
      "1 2\n",
      "50 100\n"
     ]
    }
   ],
   "source": [
    "# 도로 네트워크\n",
    "\n",
    "from collections import deque\n",
    "import math\n",
    "# dp [0] : parent, [1] : 최소, [2] : 최대\n",
    "\n",
    "def meas_level():\n",
    "    queue = deque([(1, 1)])\n",
    "\n",
    "    \n",
    "    while queue:\n",
    "        x, depth = queue.popleft()\n",
    "        \n",
    "        for i, j in edge[x]:\n",
    "            if not visited[i]:\n",
    "                visited[i] = 1\n",
    "                level[i] = depth + 1\n",
    "                dp[i][0] = [x, j, j]\n",
    "                queue.append((i, depth+1))\n",
    "                \n",
    "    \n",
    "def lca(a, b):\n",
    "    maxi = 0\n",
    "    mini = int(1e20)\n",
    "    \n",
    "    if level[b] < level[a]:\n",
    "        a, b = b, a\n",
    "        \n",
    "    for i in range(g, -1, -1):\n",
    "        if level[b] - level[a] >= 2 ** i:\n",
    "            \n",
    "            maxi = max(maxi, dp[b][i][2])\n",
    "            mini = min(mini, dp[b][i][1])\n",
    "            b = dp[b][i][0]\n",
    "            \n",
    "            \n",
    "    if a == b:\n",
    "        return (mini, maxi)\n",
    "    \n",
    "    for i in range(g-1, -1, -1):\n",
    "        if dp[a][i][0] != dp[b][i][0]:\n",
    "            mini = min(mini, dp[a][i][1], dp[b][i][1])\n",
    "            maxi = max(maxi, dp[a][i][2], dp[b][i][2])\n",
    "            a = dp[a][i][0]\n",
    "            b = dp[b][i][0]\n",
    "            \n",
    "        \n",
    "    mini = min(mini, dp[a][0][1], dp[b][0][1])\n",
    "    maxi = max(maxi, dp[a][0][2], dp[b][0][2])\n",
    "    \n",
    "    return (mini, maxi)\n",
    "\n",
    "\n",
    "n = int(input())\n",
    "g = int(math.log2(n)) + 1\n",
    "\n",
    "edge = [[] for _ in range(n+1)]\n",
    "for i in range(n-1):\n",
    "    a, b, c = map(int, input().split())\n",
    "    edge[a].append((b, c))\n",
    "    edge[b].append((a, c))\n",
    "    \n",
    "    \n",
    "level = [0] * (n+1)\n",
    "level[1] = 1\n",
    "visited = [0] * (n+1)\n",
    "visited[1] = 1\n",
    "\n",
    "dp = [[[0, 0, 0] for _ in range(g)] for _ in range(n+1)]\n",
    "\n",
    "meas_level()\n",
    "\n",
    "for i in range(1, g):\n",
    "    for j in range(1, n+1):\n",
    "        dp[j][i][0] = dp[dp[j][i-1][0]][i-1][0]\n",
    "        dp[j][i][1] = min(dp[j][i-1][1], dp[dp[j][i-1][0]][i-1][1])\n",
    "        dp[j][i][2] = max(dp[j][i-1][2], dp[dp[j][i-1][0]][i-1][2])\n",
    "        \n",
    "\n",
    "m = int(input())\n",
    "\n",
    "for i in range(m):\n",
    "    a, b = map(int, input().split())\n",
    "    \n",
    "    print(*lca(a, b))\n",
    "    "
   ]
  },
  {
   "cell_type": "code",
   "execution_count": null,
   "id": "4b72220a",
   "metadata": {},
   "outputs": [],
   "source": [
    "5\n",
    "2 3 100\n",
    "4 3 200\n",
    "1 5 150\n",
    "1 3 50\n",
    "3\n",
    "2 4\n",
    "3 5\n",
    "1 2"
   ]
  },
  {
   "cell_type": "code",
   "execution_count": 12,
   "id": "c240f04f",
   "metadata": {},
   "outputs": [
    {
     "name": "stdout",
     "output_type": "stream",
     "text": [
      "5\n",
      "2 3 100\n",
      "4 3 200\n",
      "1 5 150\n",
      "1 3 50\n",
      "3\n",
      "2 4\n",
      "100 200\n",
      "3 5\n",
      "50 150\n",
      "1 2\n",
      "50 100\n"
     ]
    }
   ],
   "source": [
    "import math\n",
    "N = int(input())\n",
    "K = int(math.log2(N))+1\n",
    "tree = [[] for _ in range(N + 1)]\n",
    "\n",
    "for i in range(N - 1):\n",
    "    a, b, w = map(int, input().split())\n",
    "    tree[a].append((b,w))\n",
    "    tree[b].append((a,w))\n",
    "    \n",
    "queue = deque([(1, 1)])\n",
    "depth = [0] * (N + 1)\n",
    "depth[1] = 1\n",
    "dp = [[[0,0,0] for _ in range(K)] for _ in range(N+1)]\n",
    "\n",
    "while queue:\n",
    "    i, d = queue.popleft()\n",
    "    for j, w in tree[i]:\n",
    "        if not depth[j]:\n",
    "            queue.append((j, d + 1))\n",
    "            depth[j] = d + 1\n",
    "            dp[j][0] = [i,w,w]\n",
    "\n",
    "for j in range(1, K):\n",
    "    for i in range(1, N + 1):\n",
    "        dp[i][j][0] = dp[dp[i][j-1][0]][j-1][0]\n",
    "        dp[i][j][1] = min(dp[i][j-1][1], dp[dp[i][j-1][0]][j-1][1])\n",
    "        dp[i][j][2] = max(dp[i][j-1][2], dp[dp[i][j-1][0]][j-1][2])\n",
    "\n",
    "for _ in range(int(input())):\n",
    "    a, b = map(int, input().split())\n",
    "    max_len = 0\n",
    "    min_len = float('inf')\n",
    "        \n",
    "    if depth[a] > depth[b]:\n",
    "        a, b = b, a\n",
    "    for i in range(K, -1, -1):\n",
    "        if depth[b] - depth[a] >= (1<<i):\n",
    "            min_len = min(dp[b][i][1], min_len)\n",
    "            max_len = max(dp[b][i][2], max_len)\n",
    "            b = dp[b][i][0]\n",
    "    if a == b:\n",
    "        print(min_len, max_len)\n",
    "        continue\n",
    "        \n",
    "    for i in range(K-1, -1, -1):\n",
    "        if dp[a][i][0] != dp[b][i][0]:\n",
    "            min_len = min(dp[a][i][1],dp[b][i][1], min_len)\n",
    "            max_len = max(dp[a][i][2],dp[b][i][2], max_len)\n",
    "            a = dp[a][i][0]\n",
    "            b = dp[b][i][0]\n",
    "    min_len = min(dp[a][0][1],dp[b][0][1], min_len)\n",
    "    max_len = max(dp[a][0][2],dp[b][0][2], max_len)\n",
    "    print(min_len, max_len)"
   ]
  },
  {
   "cell_type": "markdown",
   "id": "94820587",
   "metadata": {},
   "source": [
    "5\n",
    "2 3 100\n",
    "4 3 200\n",
    "1 5 150\n",
    "1 3 50\n",
    "3\n",
    "2 4\n",
    "3 5\n",
    "1 2"
   ]
  },
  {
   "cell_type": "code",
   "execution_count": 10,
   "id": "9dfc4c46",
   "metadata": {},
   "outputs": [
    {
     "data": {
      "text/plain": [
       "[[[0, 0, 0], [0, 0, 0], [0, 0, 0]],\n",
       " [[0, 0, 0], [0, 0, 0], [0, 0, 0]],\n",
       " [[3, 100, 100], [1, 50, 100], [0, 0, 100]],\n",
       " [[1, 50, 50], [0, 0, 50], [0, 0, 50]],\n",
       " [[3, 200, 200], [1, 50, 200], [0, 0, 200]],\n",
       " [[1, 150, 150], [0, 0, 150], [0, 0, 150]]]"
      ]
     },
     "execution_count": 10,
     "metadata": {},
     "output_type": "execute_result"
    }
   ],
   "source": [
    "dp"
   ]
  },
  {
   "cell_type": "code",
   "execution_count": 11,
   "id": "7f3d5a17",
   "metadata": {},
   "outputs": [
    {
     "data": {
      "text/plain": [
       "[0, 1, 3, 2, 3, 2]"
      ]
     },
     "execution_count": 11,
     "metadata": {},
     "output_type": "execute_result"
    }
   ],
   "source": [
    "level"
   ]
  },
  {
   "cell_type": "code",
   "execution_count": 8,
   "id": "086cf06a",
   "metadata": {},
   "outputs": [
    {
     "data": {
      "text/plain": [
       "[[[0, 0, 0], [0, 0, 0], [0, 0, 0]],\n",
       " [[0, 0, 0], [0, 0, 0], [0, 0, 0]],\n",
       " [[3, 100, 100], [1, 50, 100], [0, 0, 100]],\n",
       " [[1, 50, 50], [0, 0, 50], [0, 0, 50]],\n",
       " [[3, 200, 200], [1, 50, 200], [0, 0, 200]],\n",
       " [[1, 150, 150], [0, 0, 150], [0, 0, 150]]]"
      ]
     },
     "execution_count": 8,
     "metadata": {},
     "output_type": "execute_result"
    }
   ],
   "source": [
    "dp"
   ]
  },
  {
   "cell_type": "code",
   "execution_count": 13,
   "id": "b140f9e4",
   "metadata": {},
   "outputs": [
    {
     "data": {
      "text/plain": [
       "[0, 1, 3, 2, 3, 2]"
      ]
     },
     "execution_count": 13,
     "metadata": {},
     "output_type": "execute_result"
    }
   ],
   "source": [
    "level"
   ]
  },
  {
   "cell_type": "markdown",
   "id": "31b2a551",
   "metadata": {},
   "source": [
    "https://www.acmicpc.net/problem/8012"
   ]
  },
  {
   "cell_type": "code",
   "execution_count": null,
   "id": "38e629b3",
   "metadata": {},
   "outputs": [],
   "source": []
  },
  {
   "cell_type": "code",
   "execution_count": null,
   "id": "0ac05545",
   "metadata": {},
   "outputs": [],
   "source": []
  },
  {
   "cell_type": "markdown",
   "id": "2ab18237",
   "metadata": {},
   "source": [
    "https://www.acmicpc.net/problem/10623"
   ]
  },
  {
   "cell_type": "code",
   "execution_count": null,
   "id": "1a4f746d",
   "metadata": {},
   "outputs": [],
   "source": []
  }
 ],
 "metadata": {
  "kernelspec": {
   "display_name": "Python 3",
   "language": "python",
   "name": "python3"
  },
  "language_info": {
   "codemirror_mode": {
    "name": "ipython",
    "version": 3
   },
   "file_extension": ".py",
   "mimetype": "text/x-python",
   "name": "python",
   "nbconvert_exporter": "python",
   "pygments_lexer": "ipython3",
   "version": "3.8.8"
  }
 },
 "nbformat": 4,
 "nbformat_minor": 5
}
