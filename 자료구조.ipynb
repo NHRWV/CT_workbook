{
 "cells": [
  {
   "cell_type": "code",
   "execution_count": null,
   "metadata": {},
   "outputs": [],
   "source": [
    "# 백준 11279\n",
    "\n",
    "import heapq\n",
    "\n",
    "n = int(input())\n",
    "order = []\n",
    "\n",
    "for i in range(n):\n",
    "    order.append(int(input()))\n",
    "    \n",
    "heap = []\n",
    "heapq.heapify(heap)\n",
    "for i in order:    \n",
    "    if i > 0:\n",
    "        heapq.heappush(heap, (-i, i))\n",
    "        \n",
    "    elif i == 0:\n",
    "        if len(heap) == 0:\n",
    "            print(0)\n",
    "        else:\n",
    "            print(heapq.heappop(heap)[1])"
   ]
  },
  {
   "cell_type": "code",
   "execution_count": null,
   "metadata": {},
   "outputs": [],
   "source": [
    "# 백준 11286\n",
    "\n",
    "import heapq\n",
    "\n",
    "n = int(input())\n",
    "order = []\n",
    "\n",
    "for i in range(n):\n",
    "    order.append(int(input()))\n",
    "    \n",
    "heap = []\n",
    "heapq.heapify(heap)\n",
    "for i in order:    \n",
    "    if i != 0:\n",
    "        heapq.heappush(heap, (abs(i), i))\n",
    "        \n",
    "    elif i == 0:\n",
    "        if len(heap) == 0:\n",
    "            print(0)\n",
    "        else:\n",
    "            print(heapq.heappop(heap)[1])"
   ]
  },
  {
   "cell_type": "markdown",
   "metadata": {},
   "source": [
    "https://www.acmicpc.net/problem/10773"
   ]
  },
  {
   "cell_type": "code",
   "execution_count": 1,
   "metadata": {},
   "outputs": [
    {
     "name": "stdout",
     "output_type": "stream",
     "text": [
      "4\n",
      "3\n",
      "0\n",
      "4\n",
      "0\n",
      "0\n"
     ]
    }
   ],
   "source": [
    "# 백준 10773\n",
    "\n",
    "k = int(input())\n",
    "lst = []\n",
    "for i in range(k):\n",
    "    a = int(input())\n",
    "    if a == 0:\n",
    "        del lst[-1]\n",
    "    \n",
    "    else:\n",
    "        lst.append(a)\n",
    "        \n",
    "print(sum(lst))\n",
    "        "
   ]
  },
  {
   "cell_type": "markdown",
   "metadata": {},
   "source": [
    "https://www.acmicpc.net/problem/9012"
   ]
  },
  {
   "cell_type": "code",
   "execution_count": 4,
   "metadata": {},
   "outputs": [
    {
     "name": "stdout",
     "output_type": "stream",
     "text": [
      "3\n",
      "((\n",
      "))\n",
      "())(()\n",
      "NO\n",
      "NO\n",
      "NO\n"
     ]
    }
   ],
   "source": [
    "# 백준 9012\n",
    "\n",
    "t = int(input())\n",
    "lst = []\n",
    "for i in range(t):\n",
    "    lst.append(input())\n",
    "\n",
    "answer = []\n",
    "                \n",
    "def sol(x):\n",
    "    if x[0] == ')':\n",
    "        return 'NO'\n",
    "        \n",
    "    test = []\n",
    "    for i in x:\n",
    "        if i == '(':\n",
    "            test.append(i)\n",
    "            \n",
    "        else:\n",
    "            if len(test) == 0:\n",
    "                return 'NO'\n",
    "                \n",
    "            else:\n",
    "                test.pop()\n",
    "     \n",
    "    if len(test) > 0:\n",
    "        return 'NO'\n",
    "    \n",
    "    else:\n",
    "        return 'YES'\n",
    "        \n",
    "for i in lst:\n",
    "    answer.append(sol(i))\n",
    "    \n",
    "for i in answer:\n",
    "    print(i)"
   ]
  },
  {
   "cell_type": "markdown",
   "metadata": {},
   "source": [
    "https://www.acmicpc.net/problem/1874"
   ]
  },
  {
   "cell_type": "code",
   "execution_count": 7,
   "metadata": {},
   "outputs": [
    {
     "name": "stdout",
     "output_type": "stream",
     "text": [
      "5\n",
      "1\n",
      "2\n",
      "5\n",
      "3\n",
      "4\n",
      "NO\n"
     ]
    }
   ],
   "source": [
    "# 백준 1874\n",
    "\n",
    "n = int(input())\n",
    "seq = []\n",
    "for i in range(n):\n",
    "    seq.append(int(input()))\n",
    "\n",
    "lst = []\n",
    "order = []\n",
    "sign = 1\n",
    "count = 1 \n",
    "for i in range(n):\n",
    "    while count <= seq[i]:\n",
    "        lst.append(count)\n",
    "        order.append('+')\n",
    "        count += 1\n",
    "    \n",
    "    if lst[-1] == seq[i]:\n",
    "        lst.pop()\n",
    "        order.append('-')\n",
    "    \n",
    "    else:\n",
    "        sign = 0\n",
    "\n",
    "\n",
    "if sign == 0:\n",
    "    print('NO')\n",
    "\n",
    "else:\n",
    "    for i in order:\n",
    "        print(i)"
   ]
  },
  {
   "cell_type": "markdown",
   "metadata": {},
   "source": [
    "https://www.acmicpc.net/problem/17298"
   ]
  },
  {
   "cell_type": "code",
   "execution_count": 11,
   "metadata": {},
   "outputs": [
    {
     "name": "stdout",
     "output_type": "stream",
     "text": [
      "4\n",
      "3 5 2 7\n",
      "5 7 7 -1\n"
     ]
    }
   ],
   "source": [
    "# 백준 17298...이거 시간 초과.\n",
    "\n",
    "n = int(input())\n",
    "seq = list(map(int, input().split()))\n",
    "\n",
    "answer = []\n",
    "for i in range(n):\n",
    "    sign = 0\n",
    "    for j in range(i+1, n):\n",
    "        if seq[i] < seq[j]:\n",
    "            answer.append(seq[j])\n",
    "            sign = 1\n",
    "            break\n",
    "            \n",
    "    if sign == 0:\n",
    "        answer.append(-1)\n",
    "            \n",
    "\n",
    "print(*answer)"
   ]
  },
  {
   "cell_type": "code",
   "execution_count": 12,
   "metadata": {},
   "outputs": [
    {
     "name": "stdout",
     "output_type": "stream",
     "text": [
      "4\n",
      "3 5 2 7\n",
      "5 7 7 -1\n"
     ]
    }
   ],
   "source": [
    "# 백준 17298...이것도 시간초과\n",
    "\n",
    "n = int(input())\n",
    "seq = list(map(int, input().split()))\n",
    "answer = []\n",
    "for i in range(n):\n",
    "    num = seq.pop(0)\n",
    "    sign = 0\n",
    "    for j in seq:\n",
    "        if num < j:\n",
    "            answer.append(j)\n",
    "            sign = 1\n",
    "            break\n",
    "            \n",
    "    if sign == 0:\n",
    "        answer.append(-1)\n",
    "        \n",
    "print(*answer)"
   ]
  },
  {
   "cell_type": "code",
   "execution_count": 14,
   "metadata": {},
   "outputs": [
    {
     "name": "stdout",
     "output_type": "stream",
     "text": [
      "4\n",
      "3 5 2 7\n"
     ]
    },
    {
     "ename": "IndexError",
     "evalue": "list index out of range",
     "output_type": "error",
     "traceback": [
      "\u001b[1;31m---------------------------------------------------------------------------\u001b[0m",
      "\u001b[1;31mIndexError\u001b[0m                                Traceback (most recent call last)",
      "\u001b[1;32m<ipython-input-14-0db1e784af21>\u001b[0m in \u001b[0;36m<module>\u001b[1;34m\u001b[0m\n\u001b[0;32m     10\u001b[0m     \u001b[0msign\u001b[0m \u001b[1;33m=\u001b[0m \u001b[1;36m1\u001b[0m\u001b[1;33m\u001b[0m\u001b[1;33m\u001b[0m\u001b[0m\n\u001b[0;32m     11\u001b[0m     \u001b[1;32mfor\u001b[0m \u001b[0mj\u001b[0m \u001b[1;32min\u001b[0m \u001b[0mrange\u001b[0m\u001b[1;33m(\u001b[0m\u001b[0mlen\u001b[0m\u001b[1;33m(\u001b[0m\u001b[0mtemp\u001b[0m\u001b[1;33m)\u001b[0m\u001b[1;33m)\u001b[0m\u001b[1;33m:\u001b[0m\u001b[1;33m\u001b[0m\u001b[1;33m\u001b[0m\u001b[0m\n\u001b[1;32m---> 12\u001b[1;33m         \u001b[1;32mif\u001b[0m \u001b[0mnum\u001b[0m \u001b[1;33m>\u001b[0m \u001b[0mtemp\u001b[0m\u001b[1;33m[\u001b[0m\u001b[0mj\u001b[0m\u001b[1;33m]\u001b[0m\u001b[1;33m:\u001b[0m\u001b[1;33m\u001b[0m\u001b[1;33m\u001b[0m\u001b[0m\n\u001b[0m\u001b[0;32m     13\u001b[0m             \u001b[0manswer\u001b[0m\u001b[1;33m[\u001b[0m\u001b[0mi\u001b[0m\u001b[1;33m]\u001b[0m \u001b[1;33m=\u001b[0m \u001b[0mnum\u001b[0m\u001b[1;33m\u001b[0m\u001b[1;33m\u001b[0m\u001b[0m\n\u001b[0;32m     14\u001b[0m             \u001b[0mtemp\u001b[0m\u001b[1;33m.\u001b[0m\u001b[0mpop\u001b[0m\u001b[1;33m(\u001b[0m\u001b[0mj\u001b[0m\u001b[1;33m)\u001b[0m\u001b[1;33m\u001b[0m\u001b[1;33m\u001b[0m\u001b[0m\n",
      "\u001b[1;31mIndexError\u001b[0m: list index out of range"
     ]
    }
   ],
   "source": [
    "# 백준 17298\n",
    "\n",
    "n = int(input())\n",
    "seq = list(map(int, input().split()))\n",
    "\n",
    "answer = [-1] * n\n",
    "temp = [0]\n",
    "for i in range(1, n):\n",
    "    \n",
    "    \n",
    "    while temp and seq[temp[-1]] < seq[i]:\n",
    "        a = temp.pop()\n",
    "        answer[a] = seq[i]\n",
    "    \n",
    "    temp.append(i)\n",
    "        \n",
    "print(*answer)"
   ]
  },
  {
   "cell_type": "markdown",
   "metadata": {},
   "source": [
    "https://www.acmicpc.net/problem/2164\n"
   ]
  },
  {
   "cell_type": "code",
   "execution_count": 28,
   "metadata": {},
   "outputs": [
    {
     "name": "stdout",
     "output_type": "stream",
     "text": [
      "1\n",
      "1\n"
     ]
    }
   ],
   "source": [
    "# 백준 2164\n",
    "\n",
    "from collections import deque\n",
    "\n",
    "n = int(input())\n",
    "lst = []\n",
    "for i in range(1, n+1):\n",
    "    lst.append(i)\n",
    "    \n",
    "card = deque(lst)\n",
    "\n",
    "while True:\n",
    "    if len(card) == 1:\n",
    "        print(*card)\n",
    "        break\n",
    "    card.popleft()\n",
    "    \n",
    "    card.rotate(-1)"
   ]
  },
  {
   "cell_type": "code",
   "execution_count": 5,
   "metadata": {},
   "outputs": [
    {
     "data": {
      "text/plain": [
       "[1, 2, 3, 4]"
      ]
     },
     "execution_count": 5,
     "metadata": {},
     "output_type": "execute_result"
    }
   ],
   "source": [
    "lst"
   ]
  },
  {
   "cell_type": "markdown",
   "metadata": {},
   "source": [
    "https://www.acmicpc.net/problem/2164"
   ]
  },
  {
   "cell_type": "code",
   "execution_count": 29,
   "metadata": {},
   "outputs": [
    {
     "name": "stdout",
     "output_type": "stream",
     "text": [
      "1 1\n",
      "<1>\n"
     ]
    }
   ],
   "source": [
    "# 백준 2164\n",
    "\n",
    "from collections import deque\n",
    "\n",
    "n, k = map(int, input().split())\n",
    "\n",
    "lst = []\n",
    "for i in range(1, n+1):\n",
    "    lst.append(i)\n",
    "    \n",
    "circle = deque(lst)\n",
    "result = []\n",
    "while circle:\n",
    "    circle.rotate(-k)\n",
    "    result.append(circle.pop())\n",
    "    \n",
    "print(\"<\" + \", \".join(map(str, result)) + \">\")\n",
    "  \n",
    "\n"
   ]
  },
  {
   "cell_type": "markdown",
   "metadata": {},
   "source": [
    "https://www.acmicpc.net/problem/1966"
   ]
  },
  {
   "cell_type": "code",
   "execution_count": null,
   "metadata": {},
   "outputs": [],
   "source": [
    "# 백준 1966\n",
    "\n",
    "from collections import deque\n",
    "\n",
    "t = int(input())\n",
    "\n",
    "answer = []\n",
    "for i in range(t):\n",
    "    n, m = map(int, input().split())\n",
    "    lst = list(map(int, input().split()))\n",
    "    idx = [0] * n\n",
    "    \n",
    "    lst = deque(lst)\n",
    "    idx = deque(idx)\n",
    "    idx[m] = 1\n",
    "    \n",
    "    count = 0\n",
    "    while True:\n",
    "        if lst[0] == max(lst):\n",
    "            count += 1\n",
    "            \n",
    "            if idx[0] == 1:\n",
    "                answer.append(count)\n",
    "                break\n",
    "            \n",
    "            else:\n",
    "                \n",
    "                del lst[0]\n",
    "                del idx[0]\n",
    "            \n",
    "        else:\n",
    "            lst.append(lst.popleft())\n",
    "            idx.append(idx.popleft())\n",
    "            \n",
    "        \n",
    "    \n",
    "for i in answer:\n",
    "    print(i)\n",
    "\n",
    "\n"
   ]
  },
  {
   "cell_type": "markdown",
   "metadata": {},
   "source": [
    "https://www.acmicpc.net/problem/1021"
   ]
  },
  {
   "cell_type": "code",
   "execution_count": 51,
   "metadata": {},
   "outputs": [
    {
     "name": "stdout",
     "output_type": "stream",
     "text": [
      "32 6\n",
      "27 16 30 11 6 23\n",
      "24\n"
     ]
    }
   ],
   "source": [
    "# 백준 1021...못 풀었음\n",
    "\n",
    "from collections import deque\n",
    "\n",
    "n, m = map(int, input().split())\n",
    "lct = list(map(int, input().split()))\n",
    "idx = [0] * (n+1)\n",
    "for i in lct:\n",
    "    idx[i] = i\n",
    "\n",
    "lct.sort()\n",
    "\n",
    "idx = deque(idx)\n",
    "idx.popleft()\n",
    "count = 0\n",
    "target = 0\n",
    "while True:\n",
    "    if max(idx) == 0:\n",
    "        break\n",
    "    \n",
    "    if idx[0] != 0:\n",
    "        idx.popleft()\n",
    "        del lct[0]\n",
    "        \n",
    "    else:\n",
    "        a = idx.index(min(lct))\n",
    "        if a <= (len(idx) / 2):\n",
    "            idx.rotate(-a)\n",
    "            count += a\n",
    "            \n",
    "        else: \n",
    "            idx.rotate(len(idx) -  a + 1)\n",
    "            count += (len(idx) -  a + 1)\n",
    "            \n",
    "        \n",
    "            \n",
    "    \n",
    "print(count)        "
   ]
  },
  {
   "cell_type": "markdown",
   "metadata": {},
   "source": [
    "https://www.acmicpc.net/problem/1655"
   ]
  },
  {
   "cell_type": "code",
   "execution_count": null,
   "metadata": {},
   "outputs": [],
   "source": [
    "# 백준 1655..시간초과\n",
    "\n",
    "import heapq\n",
    "\n",
    "n = int(input())\n",
    "\n",
    "heap = []\n",
    "heap1 = []\n",
    "answer = []\n",
    "for i in range(n):\n",
    "    num = int(input())\n",
    "    heapq.heappush(heap, num)\n",
    "    for j in range(len(heap)):\n",
    "        mini = heapq.heappop(heap)\n",
    "        heapq.heappush(heap1, mini)\n",
    "    \n",
    "    if len(heap1) % 2 == 0:\n",
    "        answer.append(heap1[(len(heap1) // 2) - 1])\n",
    "        \n",
    "    else:\n",
    "        answer.append(heap1[len(heap1) // 2])\n",
    "        \n",
    "    heap = heap1[:]\n",
    "    heap1 = []  \n",
    "        \n",
    "        \n",
    "print(answer)"
   ]
  },
  {
   "cell_type": "code",
   "execution_count": null,
   "metadata": {},
   "outputs": [],
   "source": [
    "# 백준 1655...그래서 두 번째 힙을 덱으로 바꿔보았다...그래도 시간초과!\n",
    "\n",
    "import heapq\n",
    "from collections import deque\n",
    "\n",
    "n = int(input())\n",
    "\n",
    "heap = []\n",
    "temp = []\n",
    "answer = []\n",
    "cnt = 0\n",
    "for i in range(n):\n",
    "    num = int(input())\n",
    "    heapq.heappush(heap, num)\n",
    "    for j in range(len(heap)):\n",
    "        cnt += 1\n",
    "        mini = heapq.heappop(heap)\n",
    "        temp.append(mini)\n",
    "        \n",
    "    queue = deque(temp)\n",
    "    \n",
    "    if len(queue) % 2 == 0:\n",
    "        answer.append(queue[(len(queue) // 2) - 1])\n",
    "        \n",
    "    else:\n",
    "        answer.append(queue[len(queue) // 2])\n",
    "    \n",
    "    \n",
    "    heap = temp[:]\n",
    "    temp = []\n",
    "        \n",
    "\n",
    "        \n",
    "for i in answer:\n",
    "    print(i)"
   ]
  },
  {
   "cell_type": "code",
   "execution_count": null,
   "metadata": {},
   "outputs": [],
   "source": [
    "# 백준 1655...\n",
    "# 정렬했을 때, 중앙값을 기준으로 작은 값들(최대 힙)과 큰 값들(최소 힙)을 따로 저장한다. \n",
    "\n",
    "import heapq\n",
    "\n",
    "n = int(input())\n",
    "    \n",
    "lower = []\n",
    "higher = []\n",
    "answer = []\n",
    "for i in range(n):\n",
    "    num = int(input())\n",
    "    \n",
    "    if len(lower) == len(higher):\n",
    "        heapq.heappush(lower, (-num, num))\n",
    "        \n",
    "    else:\n",
    "        heapq.heappush(higher, (num, num))\n",
    "        \n",
    "    if len(lower) != 0 and len(higher) != 0:\n",
    "        if lower[0][1] > higher[0][1]:\n",
    "            max_lower = heapq.heappop(lower)\n",
    "            min_higher = heapq.heappop(higher)\n",
    "            \n",
    "            heapq.heappush(lower, (-min_higher[0], min_higher[0]))\n",
    "            heapq.heappush(higher, (max_lower[1], max_lower[1]))\n",
    "            \n",
    "    \n",
    "    answer.append(lower[0][1])\n",
    "    \n",
    "    \n",
    "for i in answer:\n",
    "    print(i)\n"
   ]
  },
  {
   "cell_type": "markdown",
   "metadata": {},
   "source": [
    "https://www.acmicpc.net/problem/2696"
   ]
  },
  {
   "cell_type": "code",
   "execution_count": 32,
   "metadata": {},
   "outputs": [
    {
     "name": "stdout",
     "output_type": "stream",
     "text": [
      "3\n",
      "9\n",
      "1 2 3 4 5 6 7 8 9\n",
      "9\n",
      "9 8 7 6 5 4 3 2 1\n",
      "23\n",
      "23 41 13 22 -3 24 -31 -11 -8 -7\n",
      "3 5 103 211 -311 -45 -67 -73 -81 -99\n",
      "-33 24 56\n",
      "5\n",
      "1 2 3 4 5\n",
      "5\n",
      "9 8 7 6 5\n",
      "12\n",
      "23 23 22 22 13 3 5 5 3 -3\n",
      "-7 -3\n"
     ]
    }
   ],
   "source": [
    "# 백준 2696\n",
    "\n",
    "import heapq\n",
    "\n",
    "t = int(input())\n",
    "\n",
    "\n",
    "result = []\n",
    "for i in range(t):\n",
    "    m = int(input())\n",
    "    lst = []\n",
    "    for _ in range((m // 10) + 1):\n",
    "        a = list(map(int, input().split()))\n",
    "        lst.extend(a)\n",
    "        \n",
    "    \n",
    "    lower = []\n",
    "    higher = []\n",
    "    answer = []\n",
    "    cnt = 1\n",
    "    for j in lst:\n",
    "        num = j\n",
    "        \n",
    "        if len(lower) == len(higher):\n",
    "            heapq.heappush(lower, (-num, num))\n",
    "        \n",
    "        else:\n",
    "            heapq.heappush(higher, (num, num))\n",
    "        \n",
    "        if len(lower) != 0 and len(higher) != 0:\n",
    "            if lower[0][1] > higher[0][1]:\n",
    "                max_lower = heapq.heappop(lower)\n",
    "                min_higher = heapq.heappop(higher)\n",
    "                \n",
    "                heapq.heappush(lower, (-min_higher[0], min_higher[0]))\n",
    "                heapq.heappush(higher, (max_lower[1], max_lower[1]))\n",
    "            \n",
    "            \n",
    "        if cnt % 2 != 0:\n",
    "            answer.append(lower[0][1])\n",
    "            \n",
    "        cnt += 1\n",
    "            \n",
    "            \n",
    "    result.append(answer)\n",
    "        \n",
    "    \n",
    "for i in result:\n",
    "    print(len(i))\n",
    "    for j in range(0, len(i), 10):\n",
    "        print(*i[j:j+10])\n",
    "  \n",
    "        \n"
   ]
  },
  {
   "cell_type": "code",
   "execution_count": 29,
   "metadata": {},
   "outputs": [
    {
     "data": {
      "text/plain": [
       "[1, 2, 3, 4, 5, 6, 7, 8, 9]"
      ]
     },
     "execution_count": 29,
     "metadata": {},
     "output_type": "execute_result"
    }
   ],
   "source": [
    "lst"
   ]
  },
  {
   "cell_type": "code",
   "execution_count": null,
   "metadata": {},
   "outputs": [],
   "source": []
  }
 ],
 "metadata": {
  "kernelspec": {
   "display_name": "Python 3.7.5 64-bit ('Namlister': virtualenv)",
   "language": "python",
   "name": "python37564bitnamlistervirtualenv5d7bb17d3c984c36aee202a2f6a91336"
  },
  "language_info": {
   "codemirror_mode": {
    "name": "ipython",
    "version": 3
   },
   "file_extension": ".py",
   "mimetype": "text/x-python",
   "name": "python",
   "nbconvert_exporter": "python",
   "pygments_lexer": "ipython3",
   "version": "3.7.5"
  }
 },
 "nbformat": 4,
 "nbformat_minor": 2
}
