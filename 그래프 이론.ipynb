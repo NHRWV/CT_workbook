{
 "cells": [
  {
   "cell_type": "markdown",
   "id": "abeec484",
   "metadata": {},
   "source": [
    "https://www.acmicpc.net/problem/1647"
   ]
  },
  {
   "cell_type": "code",
   "execution_count": null,
   "id": "e5e35fde",
   "metadata": {},
   "outputs": [],
   "source": [
    "# 백준 1647\n",
    "\n",
    "n, m = map(int, input().split())\n",
    "info = []\n",
    "for i in range(m):\n",
    "    a, b, c = map(int, input().split())\n",
    "    info.append((c, a, b))\n",
    "    \n",
    "parent = [0] * (n+1)\n",
    "for i in range(1, n+1):\n",
    "    parent[i] = i\n",
    "    \n",
    "def find_parent(parent, x):\n",
    "    if parent[x] != x:\n",
    "        parent[x] = find_parent(parent, parent[x])\n",
    "        \n",
    "    return parent[x]\n",
    "\n",
    "def union(parent, x, y):\n",
    "    x = find_parent(parent, x)\n",
    "    y = find_parent(parent, y)\n",
    "    \n",
    "    if x < y:\n",
    "        parent[y] = x\n",
    "    else:\n",
    "        parent[x] = y\n",
    "        \n",
    "        \n",
    "info.sort()\n",
    "result = 0\n",
    "maxi_cost = 0\n",
    "\n",
    "for c, a, b in info:\n",
    "    if find_parent(parent, a) != find_parent(parent, b):\n",
    "        union(parent, a, b)\n",
    "        result += c\n",
    "        maxi_cost = c\n",
    "        \n",
    "        \n",
    "print(result - maxi_cost)\n",
    "    "
   ]
  },
  {
   "cell_type": "markdown",
   "id": "a013d1cf",
   "metadata": {},
   "source": [
    "https://www.acmicpc.net/problem/11725"
   ]
  },
  {
   "cell_type": "code",
   "execution_count": null,
   "id": "b72b7555",
   "metadata": {},
   "outputs": [],
   "source": [
    "# 백준 11725\n",
    "\n",
    "from collections import deque\n",
    "\n",
    "n = int(input())\n",
    "\n",
    "edge = [[] for _ in range(n+1)]\n",
    "for i in range(n-1):\n",
    "    a, b = map(int, input().split())\n",
    "    edge[a].append(b)\n",
    "    edge[b].append(a)\n",
    "    \n",
    "parent = [0] * (n+1)\n",
    "queue = deque([1])\n",
    "\n",
    "while len(queue) > 0:\n",
    "    x = queue.popleft()\n",
    "    \n",
    "    for i in edge[x]:\n",
    "        if parent[i] == 0:\n",
    "            parent[i] = x\n",
    "            queue.append(i)\n",
    "\n",
    "for i in range(2, n+1):\n",
    "    print(parent[i])"
   ]
  },
  {
   "cell_type": "markdown",
   "id": "845aa5a3",
   "metadata": {},
   "source": [
    "https://www.acmicpc.net/problem/1717"
   ]
  },
  {
   "cell_type": "code",
   "execution_count": null,
   "id": "06ea5d53",
   "metadata": {},
   "outputs": [],
   "source": [
    "# 백준 1717\n",
    "\n",
    "import sys\n",
    "\n",
    "sys.setrecursionlimit(100000)\n",
    "\n",
    "n, m = map(int, input().split())\n",
    "cal = []\n",
    "for i in range(m):\n",
    "    a, b, c = map(int, input().split())\n",
    "    cal.append((a, b, c))\n",
    "    \n",
    "parent = [0] * (n+1)\n",
    "for i in range(0, n+1):\n",
    "    parent[i] = i\n",
    "\n",
    "\n",
    "def find_parent(parent, x):\n",
    "    if parent[x] != x:\n",
    "        parent[x] = find_parent(parent, parent[x])\n",
    "        \n",
    "    return parent[x]\n",
    "\n",
    "def union(parent, x, y):\n",
    "    x = find_parent(parent, x)\n",
    "    y = find_parent(parent, y)\n",
    "    \n",
    "    if x < y:\n",
    "        parent[y] = x\n",
    "    else:\n",
    "        parent[x] = y\n",
    "        \n",
    "        \n",
    "for oprt, a, b in cal:\n",
    "    if oprt == 0:\n",
    "        union(parent, a, b)\n",
    "        \n",
    "    else:\n",
    "        if find_parent(parent, a) == find_parent(parent, b):\n",
    "            print('YES')\n",
    "        else:\n",
    "            print('NO')"
   ]
  },
  {
   "cell_type": "markdown",
   "id": "ac210ebd",
   "metadata": {},
   "source": [
    "https://www.acmicpc.net/problem/1976"
   ]
  },
  {
   "cell_type": "code",
   "execution_count": null,
   "id": "b70da74c",
   "metadata": {},
   "outputs": [],
   "source": [
    "# 백준 1976\n",
    "\n",
    "import sys\n",
    "\n",
    "sys.setrecursionlimit(100000)\n",
    "\n",
    "n = int(input())\n",
    "m = int(input())\n",
    "\n",
    "parent = [0] * (n+1)\n",
    "for i in range(1, n+1):\n",
    "    parent[i] = i\n",
    "    \n",
    "    \n",
    "def find_parent(parent, x):\n",
    "    if parent[x] != x:\n",
    "        parent[x] = find_parent(parent, parent[x])\n",
    "        \n",
    "    return parent[x]\n",
    "\n",
    "def union(parent, x, y):\n",
    "    x = find_parent(parent, x)\n",
    "    y = find_parent(parent, y)\n",
    "    \n",
    "    if x < y:\n",
    "        parent[y] = x\n",
    "    else:\n",
    "        parent[x] = y\n",
    "        \n",
    "    \n",
    "for i in range(n):\n",
    "    info = list(map(int, input().split()))\n",
    "    for j in range(n):\n",
    "        if info[j] == 1:\n",
    "            union(parent, i+1, j+1)\n",
    "            \n",
    "            \n",
    "lst = list(map(int, input().split()))\n",
    "check = set([find_parent(parent, i) for i in lst])\n",
    "\n",
    "if len(check) == 1:\n",
    "    print('YES')\n",
    "else:\n",
    "    print('NO')"
   ]
  },
  {
   "cell_type": "markdown",
   "id": "22497342",
   "metadata": {},
   "source": [
    "https://www.acmicpc.net/problem/4195"
   ]
  },
  {
   "cell_type": "code",
   "execution_count": null,
   "id": "0cfc4720",
   "metadata": {},
   "outputs": [],
   "source": [
    "# 백준 4195\n",
    "\n",
    "t = int(input())\n",
    "\n",
    "def find_parent(x):\n",
    "    if parent[x] != x:\n",
    "        parent[x] = find_parent(parent[x])\n",
    "        \n",
    "    return parent[x]\n",
    "\n",
    "def union(x, y):\n",
    "    x = find_parent(x)\n",
    "    y = find_parent(y)\n",
    "    \n",
    "    if x != y:\n",
    "        parent[y] = x\n",
    "        count[x] += count[y]\n",
    "    \n",
    "\n",
    "        \n",
    "for i in range(t):\n",
    "    f = int(input())\n",
    "    \n",
    "    parent = {}\n",
    "    count = {}\n",
    "    \n",
    "    for j in range(f):\n",
    "        a, b = input().split()\n",
    "        \n",
    "        if a not in parent:\n",
    "            parent[a] = a\n",
    "            count[a] = 1\n",
    "            \n",
    "        if b not in parent:\n",
    "            parent[b] = b\n",
    "            count[b] = 1\n",
    "            \n",
    "            \n",
    "        union(a, b)\n",
    "        \n",
    "        print(count[find_parent(a)])"
   ]
  },
  {
   "cell_type": "markdown",
   "id": "d4adee17",
   "metadata": {},
   "source": [
    "https://www.acmicpc.net/problem/20040"
   ]
  },
  {
   "cell_type": "code",
   "execution_count": null,
   "id": "2e782900",
   "metadata": {},
   "outputs": [],
   "source": [
    "# 백준 20040\n",
    "\n",
    "n, m = map(int, input().split())\n",
    "    \n",
    "    \n",
    "def find_parent(parent, x):\n",
    "    if parent[x] != x:\n",
    "        parent[x] = find_parent(parent, parent[x])\n",
    "        \n",
    "    return parent[x]\n",
    "\n",
    "def union(parent, x, y):\n",
    "    x = find_parent(parent, x)\n",
    "    y = find_parent(parent, y)\n",
    "    \n",
    "    if x < y:\n",
    "        parent[y] = x\n",
    "    else:\n",
    "        parent[x] = y\n",
    "        \n",
    "parent = [0] * n\n",
    "for i in range(n):\n",
    "    parent[i] = i\n",
    "    \n",
    "cycle = False\n",
    "edge = []\n",
    "for i in range(m):\n",
    "    a, b = map(int, input().split())\n",
    "    edge.append((a, b))\n",
    "\n",
    "cnt = 1\n",
    "for a, b in edge:\n",
    "    if find_parent(parent, a) == find_parent(parent, b):\n",
    "        cycle = True\n",
    "        answer = cnt\n",
    "        break\n",
    "    \n",
    "        \n",
    "    else:\n",
    "        union(parent, a, b)\n",
    "        \n",
    "    cnt += 1\n",
    "\n",
    "\n",
    "if cycle == False:\n",
    "    print(0)\n",
    "else:\n",
    "    print(answer)"
   ]
  },
  {
   "cell_type": "markdown",
   "id": "54219be4",
   "metadata": {},
   "source": [
    "https://www.acmicpc.net/problem/9372"
   ]
  },
  {
   "cell_type": "code",
   "execution_count": null,
   "id": "44df870f",
   "metadata": {},
   "outputs": [],
   "source": [
    "# 백준 9372\n",
    "\n",
    "\n",
    "\n",
    "        \n",
    "t = int(input())\n",
    "for i in range(t):\n",
    "    n, m = map(int, input().split())\n",
    "   \n",
    "    for j in range(m):\n",
    "        a, b = map(int, input().split())\n",
    "        \n",
    "    print(n-1)\n",
    "        "
   ]
  },
  {
   "cell_type": "markdown",
   "id": "051279b3",
   "metadata": {},
   "source": [
    "https://www.acmicpc.net/problem/1197"
   ]
  },
  {
   "cell_type": "code",
   "execution_count": 13,
   "id": "6e1620a7",
   "metadata": {},
   "outputs": [
    {
     "name": "stdout",
     "output_type": "stream",
     "text": [
      "3 3\n",
      "1 2 1\n",
      "2 3 2\n",
      "1 3 3\n",
      "3\n"
     ]
    }
   ],
   "source": [
    "# 백준 1197\n",
    "\n",
    "v, e = map(int, input().split())\n",
    "edge = []\n",
    "for i in range(e):\n",
    "    a, b, c = map(int, input().split())\n",
    "    edge.append((c, a, b))\n",
    "    \n",
    "parent = [0] * (v+1)\n",
    "for i in range(1, v+1):\n",
    "    parent[i] = i\n",
    "\n",
    "\n",
    "\n",
    "def find_parent(parent, x):\n",
    "    if parent[x] != x:\n",
    "        parent[x] = find_parent(parent, parent[x])\n",
    "        \n",
    "    return parent[x]\n",
    "\n",
    "def union(parent, x, y):\n",
    "    x = find_parent(parent, x)\n",
    "    y = find_parent(parent, y)\n",
    "    \n",
    "    if x < y:\n",
    "        parent[y] = x\n",
    "    else:\n",
    "        parent[x] = y\n",
    "        \n",
    "        \n",
    "        \n",
    "edge.sort()\n",
    "answer = 0\n",
    "for cost, a, b in edge:\n",
    "    if find_parent(parent, a) != find_parent(parent, b):\n",
    "        union(parent, a, b)\n",
    "        answer += cost\n",
    "        \n",
    "    \n",
    "print(answer)"
   ]
  },
  {
   "cell_type": "markdown",
   "id": "ac127955",
   "metadata": {},
   "source": [
    "https://www.acmicpc.net/problem/4386"
   ]
  },
  {
   "cell_type": "code",
   "execution_count": 21,
   "id": "0b6e23de",
   "metadata": {},
   "outputs": [
    {
     "name": "stdout",
     "output_type": "stream",
     "text": [
      "3\n",
      "1.0 1.0\n",
      "2.0 2.0\n",
      "2.0 4.0\n",
      "3.414213562373095\n"
     ]
    }
   ],
   "source": [
    "# 백준 4386\n",
    "\n",
    "\n",
    "n = int(input())\n",
    "crd = []\n",
    "for i in range(n):\n",
    "    x, y = map(float, input().split())\n",
    "    crd.append((x, y))\n",
    "    \n",
    "edge = []    \n",
    "for i in range(n):\n",
    "    for j in range(i+1, n):\n",
    "        edge.append((((crd[i][0] - crd[j][0])**2 + (crd[i][1] - crd[j][1])**2)**(1/2), i, j))\n",
    "        \n",
    "\n",
    "parent = [0] * n\n",
    "for i in range(n):\n",
    "    parent[i] = i\n",
    "\n",
    "\n",
    "\n",
    "def find_parent(parent, x):\n",
    "    if parent[x] != x:\n",
    "        parent[x] = find_parent(parent, parent[x])\n",
    "        \n",
    "    return parent[x]\n",
    "\n",
    "def union(parent, x, y):\n",
    "    x = find_parent(parent, x)\n",
    "    y = find_parent(parent, y)\n",
    "    \n",
    "    if x < y:\n",
    "        parent[y] = x\n",
    "    else:\n",
    "        parent[x] = y\n",
    "        \n",
    "        \n",
    "        \n",
    "edge.sort()\n",
    "answer = 0\n",
    "for cost, a, b in edge:\n",
    "    if find_parent(parent, a) != find_parent(parent, b):\n",
    "        union(parent, a, b)\n",
    "        answer += cost\n",
    "            \n",
    "print(answer)"
   ]
  },
  {
   "cell_type": "markdown",
   "id": "43e7a128",
   "metadata": {},
   "source": [
    "https://www.acmicpc.net/problem/1774"
   ]
  },
  {
   "cell_type": "code",
   "execution_count": 17,
   "id": "c7cbe833",
   "metadata": {},
   "outputs": [
    {
     "data": {
      "text/plain": [
       "[(1.0, 1.0), (2.0, 2.0), (2.0, 4.0)]"
      ]
     },
     "execution_count": 17,
     "metadata": {},
     "output_type": "execute_result"
    }
   ],
   "source": [
    "# 백준 1774\n",
    "\n",
    "n, m = map(int, input().split())"
   ]
  },
  {
   "cell_type": "code",
   "execution_count": 19,
   "id": "f962d187",
   "metadata": {},
   "outputs": [
    {
     "name": "stdout",
     "output_type": "stream",
     "text": [
      "0\n"
     ]
    }
   ],
   "source": [
    "print(2^2)"
   ]
  },
  {
   "cell_type": "markdown",
   "id": "44e52ba9",
   "metadata": {},
   "source": [
    "https://www.acmicpc.net/problem/2887"
   ]
  },
  {
   "cell_type": "code",
   "execution_count": 22,
   "id": "ee9588cb",
   "metadata": {},
   "outputs": [
    {
     "name": "stdout",
     "output_type": "stream",
     "text": [
      "5\n",
      "11 -15 -15\n",
      "14 -5 -15\n",
      "-1 -1 -5\n",
      "10 -4 -1\n",
      "19 -4 19\n",
      "4\n"
     ]
    }
   ],
   "source": [
    "# 백준 2887\n",
    "\n",
    "n = int(input())\n",
    "crd = []\n",
    "for i in range(n):\n",
    "    x, y, z = map(int, input().split())\n",
    "    crd.append((x, y, z))\n",
    "\n",
    "edge = []\n",
    "for i in range(n):\n",
    "    for j in range(i+1, n):\n",
    "        edge.append((min(abs(crd[i][0] - crd[j][0]), abs(crd[i][1] - crd[j][1]), abs(crd[i][2] - crd[j][2])), i, j))\n",
    "        \n",
    "edge.sort()\n",
    "\n",
    "        \n",
    "parent = [0] * n\n",
    "for i in range(n):\n",
    "    parent[i] = i\n",
    "\n",
    "\n",
    "\n",
    "def find_parent(parent, x):\n",
    "    if parent[x] != x:\n",
    "        parent[x] = find_parent(parent, parent[x])\n",
    "        \n",
    "    return parent[x]\n",
    "\n",
    "def union(parent, x, y):\n",
    "    x = find_parent(parent, x)\n",
    "    y = find_parent(parent, y)\n",
    "    \n",
    "    if x < y:\n",
    "        parent[y] = x\n",
    "    else:\n",
    "        parent[x] = y\n",
    "        \n",
    "        \n",
    "\n",
    "answer = 0\n",
    "for cost, a, b in edge:\n",
    "    if find_parent(parent, a) != find_parent(parent, b):\n",
    "        union(parent, a, b)\n",
    "        answer += cost\n",
    "            \n",
    "print(answer)"
   ]
  },
  {
   "cell_type": "code",
   "execution_count": null,
   "id": "769da037",
   "metadata": {},
   "outputs": [],
   "source": [
    "5\n",
    "11 -15 -15\n",
    "14 -5 -15\n",
    "-1 -1 -5\n",
    "10 -4 -1\n",
    "19 -4 19"
   ]
  },
  {
   "cell_type": "code",
   "execution_count": 23,
   "id": "930b6ae7",
   "metadata": {},
   "outputs": [
    {
     "data": {
      "text/plain": [
       "[(0, 0, 1),\n",
       " (0, 3, 4),\n",
       " (1, 0, 3),\n",
       " (1, 1, 3),\n",
       " (1, 1, 4),\n",
       " (3, 2, 3),\n",
       " (3, 2, 4),\n",
       " (4, 1, 2),\n",
       " (8, 0, 4),\n",
       " (10, 0, 2)]"
      ]
     },
     "execution_count": 23,
     "metadata": {},
     "output_type": "execute_result"
    }
   ],
   "source": [
    "edge"
   ]
  },
  {
   "cell_type": "markdown",
   "id": "2988ee53",
   "metadata": {},
   "source": [
    "https://www.acmicpc.net/problem/2252"
   ]
  },
  {
   "cell_type": "code",
   "execution_count": 26,
   "id": "82e2968a",
   "metadata": {},
   "outputs": [
    {
     "name": "stdout",
     "output_type": "stream",
     "text": [
      "4 2\n",
      "4 2\n",
      "3 1\n",
      "3 4 1 2 "
     ]
    }
   ],
   "source": [
    "# 백준 2252\n",
    "\n",
    "from collections import deque\n",
    "\n",
    "n, m = map(int, input().split())\n",
    "\n",
    "order = [0] * (n+1)\n",
    "compare = [[] for _ in range(n+1)]\n",
    "for i in range(m):\n",
    "    a, b = map(int, input().split())\n",
    "    compare[a].append(b)\n",
    "    order[b] += 1\n",
    "    \n",
    "\n",
    "def topology():\n",
    "    result = []\n",
    "    queue = deque()\n",
    "    for i in range(1, n+1):\n",
    "        if order[i] == 0:\n",
    "            queue.append(i)\n",
    "            \n",
    "    while queue:\n",
    "        x = queue.popleft()\n",
    "        result.append(x)\n",
    "        \n",
    "        for i in compare[x]:\n",
    "            order[i] -= 1\n",
    "            if order[i] == 0:\n",
    "                queue.append(i)\n",
    "    \n",
    "    for i in result:\n",
    "        print(i, end = ' ')\n",
    "        \n",
    "topology()"
   ]
  },
  {
   "cell_type": "markdown",
   "id": "f8adc79e",
   "metadata": {},
   "source": [
    "https://www.acmicpc.net/problem/1766"
   ]
  },
  {
   "cell_type": "code",
   "execution_count": 37,
   "id": "ad3bc79f",
   "metadata": {},
   "outputs": [
    {
     "name": "stdout",
     "output_type": "stream",
     "text": [
      "4 2\n",
      "4 2\n",
      "3 1\n",
      "3 1 4 2 "
     ]
    }
   ],
   "source": [
    "# 백준 1766\n",
    "\n",
    "import heapq\n",
    "\n",
    "n, m = map(int, input().split())\n",
    "\n",
    "order = [0] * (n+1)\n",
    "compare = [[] for _ in range(n+1)]\n",
    "for i in range(m):\n",
    "    a, b = map(int, input().split())\n",
    "    compare[a].append(b)\n",
    "    order[b] += 1\n",
    "\n",
    "for i in compare:\n",
    "    i.sort()\n",
    "\n",
    "\n",
    "def topology():\n",
    "    result = []\n",
    "    queue = []\n",
    "    for i in range(1, n+1):\n",
    "        if order[i] == 0:\n",
    "            queue.append(i)\n",
    "     \n",
    "    heapq.heapify(queue)\n",
    "    while queue:\n",
    "        x = heapq.heappop(queue)\n",
    "        result.append(x)\n",
    "        \n",
    "        for i in compare[x]:\n",
    "            order[i] -= 1\n",
    "            if order[i] == 0:\n",
    "                heapq.heappush(queue, i)\n",
    "    \n",
    "    for i in result:\n",
    "        print(i, end = ' ')    \n",
    "    \n",
    "\n",
    "topology()"
   ]
  },
  {
   "cell_type": "code",
   "execution_count": null,
   "id": "d39bffed",
   "metadata": {},
   "outputs": [],
   "source": [
    "4 2\n",
    "4 2\n",
    "3 1"
   ]
  },
  {
   "cell_type": "code",
   "execution_count": 33,
   "id": "0c48092c",
   "metadata": {},
   "outputs": [
    {
     "data": {
      "text/plain": [
       "[[], [], [], [1], [2]]"
      ]
     },
     "execution_count": 33,
     "metadata": {},
     "output_type": "execute_result"
    }
   ],
   "source": [
    "compare"
   ]
  },
  {
   "cell_type": "code",
   "execution_count": 34,
   "id": "22f30113",
   "metadata": {},
   "outputs": [
    {
     "data": {
      "text/plain": [
       "[0, 1, 1, 0, 0]"
      ]
     },
     "execution_count": 34,
     "metadata": {},
     "output_type": "execute_result"
    }
   ],
   "source": [
    "order"
   ]
  }
 ],
 "metadata": {
  "kernelspec": {
   "display_name": "Python 3",
   "language": "python",
   "name": "python3"
  },
  "language_info": {
   "codemirror_mode": {
    "name": "ipython",
    "version": 3
   },
   "file_extension": ".py",
   "mimetype": "text/x-python",
   "name": "python",
   "nbconvert_exporter": "python",
   "pygments_lexer": "ipython3",
   "version": "3.8.8"
  }
 },
 "nbformat": 4,
 "nbformat_minor": 5
}
