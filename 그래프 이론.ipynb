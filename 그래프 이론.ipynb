{
 "cells": [
  {
   "cell_type": "markdown",
   "id": "8f9fd7c4",
   "metadata": {},
   "source": [
    "https://www.acmicpc.net/problem/1647"
   ]
  },
  {
   "cell_type": "code",
   "execution_count": 4,
   "id": "8d54c51b",
   "metadata": {},
   "outputs": [
    {
     "name": "stdout",
     "output_type": "stream",
     "text": [
      "7 12\n",
      "1 2 3\n",
      "1 3 2\n",
      "3 2 1\n",
      "2 5 2\n",
      "3 4 4\n",
      "7 3 6\n",
      "5 1 5\n",
      "1 6 2\n",
      "6 4 1\n",
      "6 5 3\n",
      "4 5 3\n",
      "6 7 4\n",
      "8\n"
     ]
    }
   ],
   "source": [
    "# 백준 1647\n",
    "\n",
    "n, m = map(int, input().split())\n",
    "info = []\n",
    "for i in range(m):\n",
    "    a, b, c = map(int, input().split())\n",
    "    info.append((c, a, b))\n",
    "    \n",
    "parent = [0] * (n+1)\n",
    "for i in range(1, n+1):\n",
    "    parent[i] = i\n",
    "    \n",
    "def find_parent(parent, x):\n",
    "    if parent[x] != x:\n",
    "        parent[x] = find_parent(parent, parent[x])\n",
    "        \n",
    "    return parent[x]\n",
    "\n",
    "def union(parent, x, y):\n",
    "    x = find_parent(parent, x)\n",
    "    y = find_parent(parent, y)\n",
    "    \n",
    "    if x < y:\n",
    "        parent[y] = x\n",
    "    else:\n",
    "        parent[x] = y\n",
    "        \n",
    "        \n",
    "info.sort()\n",
    "result = 0\n",
    "maxi_cost = 0\n",
    "\n",
    "for c, a, b in info:\n",
    "    if find_parent(parent, a) != find_parent(parent, b):\n",
    "        union(parent, a, b)\n",
    "        result += c\n",
    "        maxi_cost = c\n",
    "        \n",
    "        \n",
    "print(result - maxi_cost)\n",
    "    "
   ]
  },
  {
   "cell_type": "code",
   "execution_count": null,
   "id": "9fb92797",
   "metadata": {},
   "outputs": [],
   "source": [
    "7 12\n",
    "1 2 3\n",
    "1 3 2\n",
    "3 2 1\n",
    "2 5 2\n",
    "3 4 4\n",
    "7 3 6\n",
    "5 1 5\n",
    "1 6 2\n",
    "6 4 1\n",
    "6 5 3\n",
    "4 5 3\n",
    "6 7 4"
   ]
  }
 ],
 "metadata": {
  "kernelspec": {
   "display_name": "Python 3",
   "language": "python",
   "name": "python3"
  },
  "language_info": {
   "codemirror_mode": {
    "name": "ipython",
    "version": 3
   },
   "file_extension": ".py",
   "mimetype": "text/x-python",
   "name": "python",
   "nbconvert_exporter": "python",
   "pygments_lexer": "ipython3",
   "version": "3.8.8"
  }
 },
 "nbformat": 4,
 "nbformat_minor": 5
}
