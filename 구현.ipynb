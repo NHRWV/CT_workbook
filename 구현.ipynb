{
 "cells": [
  {
   "cell_type": "code",
   "execution_count": null,
   "metadata": {},
   "outputs": [],
   "source": [
    "# 백준 2484\n",
    "\n",
    "def sol(ls):\n",
    "    cnt = [0] * 7\n",
    "    for i in ls:\n",
    "        cnt[i] += 1\n",
    "        \n",
    "    if len(set(ls)) == 4:\n",
    "        prize = max(ls) * 100\n",
    "        \n",
    "    elif len(set(ls)) == 2:\n",
    "        if max(cnt) == 3:\n",
    "            prize = 10000 + cnt.index(3) * 1000\n",
    "            \n",
    "        else:\n",
    "            prize = 2000 + 500 * list(set(ls))[0] + 500 * list(set(ls))[1]\n",
    "            \n",
    "    elif len(set(ls)) == 3:\n",
    "        prize = 1000 + cnt.index(2) * 100\n",
    "        \n",
    "    elif len(set(ls)) == 1:\n",
    "        prize = 50000 + cnt.index(4) * 5000\n",
    "        \n",
    "    return prize\n",
    "        \n",
    "\n",
    "n = int(input())\n",
    "\n",
    "dice = []\n",
    "for i in range(n):\n",
    "    a = sol(list(map(int, input().split())))\n",
    "    dice.append(a)\n",
    "\n",
    "print(max(dice))"
   ]
  },
  {
   "cell_type": "code",
   "execution_count": null,
   "metadata": {},
   "outputs": [],
   "source": [
    "# 백준 5430\n",
    "\n",
    "from collections import deque\n",
    "\n",
    "def sol(func, lst):\n",
    "    \n",
    "    queue = deque(lst)\n",
    "    \n",
    "    if func == 'R':\n",
    "        queue = queue.reverse()\n",
    "        print(list(queue))\n",
    "        \n",
    "    elif func == 'D':\n",
    "        if len(queue) == 0:\n",
    "            return print(\"error\")\n",
    "        \n",
    "        queue = queue.popleft()\n",
    "            \n",
    "        print(list(queue))\n",
    "        \n",
    "    return queue\n",
    "\n",
    "\n",
    "t = int(input())\n",
    "p = input()\n",
    "n = int(input())\n",
    "arr = input()\n",
    "\n",
    "lst = []\n",
    "for i in range(1, len(arr)-1, 2):\n",
    "    lst.append(int(arr[i]))\n",
    "    \n",
    "order = list(p)\n",
    "for i in order:\n",
    "    lst = sol(i, queue)\n"
   ]
  },
  {
   "cell_type": "markdown",
   "metadata": {},
   "source": [
    "https://www.acmicpc.net/problem/8979"
   ]
  },
  {
   "cell_type": "code",
   "execution_count": null,
   "metadata": {},
   "outputs": [],
   "source": [
    "## 백준 8979 올림픽\n",
    "# 20점 코드..가만 생각해보니 공동 순위가 있으면 다음 순위는 공동 순위만큼 밀려야 한다.\n",
    "\n",
    "n, k = map(int, input().split())\n",
    "\n",
    "info = set()\n",
    "for i in range(n):\n",
    "    num, g, s, b = map(int, input().split())\n",
    "    \n",
    "    if num == k:\n",
    "        target = (g, s, b)\n",
    "    \n",
    "    info.add((g, s, b))\n",
    "    \n",
    "rank = list(info)\n",
    "rank = sorted(rank, key = lambda x : (-x[0], -x[1], -x[2]))\n",
    "\n",
    "print(rank.index(target) + 1)"
   ]
  },
  {
   "cell_type": "code",
   "execution_count": null,
   "metadata": {},
   "outputs": [],
   "source": [
    "# 다시\n",
    "\n",
    "n, k = map(int, input().split())\n",
    "\n",
    "info = []\n",
    "for i in range(n):\n",
    "    info.append(list(map(int, input().split())))\n",
    "    \n",
    "    \n",
    "info = sorted(info, key = lambda x : (-x[1], -x[2], -x[3]))\n",
    "\n",
    "for i in range(n):\n",
    "    if info[i][0] == k:\n",
    "        idx = i\n",
    "        \n",
    "for i in range(n):\n",
    "    if info[idx][1:] == info[i][1:]:\n",
    "        print(i + 1)\n",
    "        break"
   ]
  },
  {
   "cell_type": "markdown",
   "metadata": {},
   "source": [
    "https://www.acmicpc.net/problem/16675"
   ]
  },
  {
   "cell_type": "code",
   "execution_count": null,
   "metadata": {},
   "outputs": [],
   "source": [
    "# 백준 16675 두 개의 손\n",
    "\n",
    "ml, mr, tl, tr = map(str, input().upper().split())\n",
    "\n",
    "if ml != mr and tl != tr:\n",
    "    print('?')\n",
    "    \n",
    "\n",
    "elif ml == mr and tl != tr:\n",
    "    if ml == 'R' and (tl == 'P' or tr == 'P'):\n",
    "        print('TK')\n",
    "        \n",
    "    elif ml == 'S' and (tl == 'R' or tr == 'R'):\n",
    "        print('TK')\n",
    "        \n",
    "    elif ml == 'P' and (tl == 'S' or tr == 'S'):\n",
    "        print('TK')\n",
    "        \n",
    "    else:\n",
    "        print('?')\n",
    "\n",
    "\n",
    "elif ml != mr and tl == tr:\n",
    "    if tl == 'R' and (ml == 'P' or mr == 'P'):\n",
    "        print('MS')\n",
    "        \n",
    "    elif tl == 'S' and (ml == 'R' or mr == 'R'):\n",
    "        print('MS')\n",
    "        \n",
    "    elif tl == 'P' and (ml == 'S' or mr == 'S'):\n",
    "        print('MS')\n",
    "        \n",
    "    else:\n",
    "        print('?')\n",
    "\n",
    "\n",
    "else:\n",
    "    if ml == 'R':\n",
    "        if tl == 'P':\n",
    "            print('TK')\n",
    "        elif tl == 'S':\n",
    "            print('MS')\n",
    "        elif tl == 'R':\n",
    "            print('?')\n",
    "            \n",
    "    if ml == 'S':\n",
    "        if tl == 'P':\n",
    "            print('MS')\n",
    "        elif tl == 'S':\n",
    "            print('?')\n",
    "        elif tl == 'R':\n",
    "            print('TK')\n",
    "\n",
    "    if ml == 'P':\n",
    "        if tl == 'P':\n",
    "            print('?')\n",
    "        elif tl == 'S':\n",
    "            print('TK')\n",
    "        elif tl == 'R':\n",
    "            print('MS')"
   ]
  },
  {
   "cell_type": "markdown",
   "metadata": {},
   "source": [
    "https://www.acmicpc.net/problem/10813"
   ]
  },
  {
   "cell_type": "code",
   "execution_count": null,
   "metadata": {},
   "outputs": [],
   "source": [
    "# 백준 10813 공 바꾸기\n",
    "\n",
    "n, m = map(int, input().split())\n",
    "\n",
    "basket = [i for i in range(1, n+1)]\n",
    "for i in range(m):\n",
    "    a, b = map(int, input().split())\n",
    "    basket[a-1], basket[b-1] = basket[b-1], basket[a-1]\n",
    "    \n",
    "    \n",
    "print(*basket)"
   ]
  },
  {
   "cell_type": "markdown",
   "metadata": {},
   "source": [
    "https://www.acmicpc.net/problem/18406"
   ]
  },
  {
   "cell_type": "code",
   "execution_count": null,
   "metadata": {},
   "outputs": [],
   "source": [
    "# 백준 18406 럭키 스트레이트\n",
    "\n",
    "n = input()\n",
    "\n",
    "left = n[:len(n) // 2]\n",
    "right = n[len(n) // 2:]\n",
    "\n",
    "c1 = 0\n",
    "c2 = 0\n",
    "for i in range(len(n)//2):\n",
    "    c1 += int(left[i])\n",
    "    c2 += int(right[i])\n",
    "    \n",
    "if c1 == c2:\n",
    "    print('LUCKY')\n",
    "\n",
    "else:\n",
    "    print('READY')"
   ]
  },
  {
   "cell_type": "markdown",
   "metadata": {},
   "source": [
    "https://www.acmicpc.net/problem/16769"
   ]
  },
  {
   "cell_type": "code",
   "execution_count": null,
   "metadata": {},
   "outputs": [],
   "source": [
    "# 백준 16769 Mixing Milk\n",
    "\n",
    "c1, m1 = map(int, input().split())\n",
    "c2, m2 = map(int, input().split())\n",
    "c3, m3 = map(int, input().split())\n",
    "\n",
    "for i in range(33):\n",
    "    if c2 >= m1 + m2:\n",
    "        m2 += m1\n",
    "        m1 = 0\n",
    "    else:\n",
    "        m1 = m1 + m2 - c2\n",
    "        m2 = c2\n",
    "        \n",
    "    if c3 >= m2 + m3:\n",
    "        m3 += m2\n",
    "        m2 = 0\n",
    "    else:\n",
    "        m2 = m2 + m3 - c3\n",
    "        m3 = c3\n",
    "        \n",
    "    if c1 >= m3 + m1:\n",
    "        m1 += m3\n",
    "        m3 = 0\n",
    "    else:\n",
    "        m3 = m3 + m1 - c1\n",
    "        m1 = c1\n",
    "        \n",
    "        \n",
    "if c2 >= m1 + m2:\n",
    "        m2 += m1\n",
    "        m1 = 0\n",
    "else:\n",
    "    m1 = m1 + m2 - c2\n",
    "    m2 = c2\n",
    "       \n",
    "\n",
    "print(m1)\n",
    "print(m2)\n",
    "print(m3)"
   ]
  },
  {
   "cell_type": "markdown",
   "metadata": {},
   "source": [
    "https://www.acmicpc.net/problem/2908"
   ]
  },
  {
   "cell_type": "code",
   "execution_count": null,
   "metadata": {},
   "outputs": [],
   "source": [
    "# 백준 2908 상수\n",
    "\n",
    "a, b = input().split()\n",
    "\n",
    "a = a[::-1]\n",
    "b = b[::-1]\n",
    "\n",
    "print(max(int(a), int(b)))"
   ]
  },
  {
   "cell_type": "markdown",
   "metadata": {},
   "source": [
    "https://www.acmicpc.net/problem/2920"
   ]
  },
  {
   "cell_type": "code",
   "execution_count": null,
   "metadata": {},
   "outputs": [],
   "source": [
    "# 백준 2920 음계\n",
    "\n",
    "lst = list(map(int, input().split()))\n",
    "\n",
    "if lst == sorted(lst):\n",
    "    print('ascending')\n",
    "elif lst == sorted(lst, reverse = True):\n",
    "    print('descending')\n",
    "else:\n",
    "    print('mixed')"
   ]
  },
  {
   "cell_type": "markdown",
   "metadata": {},
   "source": [
    "https://www.acmicpc.net/problem/15721"
   ]
  },
  {
   "cell_type": "code",
   "execution_count": null,
   "metadata": {},
   "outputs": [],
   "source": [
    "# 백준 15721 번데기\n",
    "\n",
    "from collections import deque\n",
    "\n",
    "a = int(input())\n",
    "t = int(input())\n",
    "q = int(input())\n",
    "\n",
    "circle = [0] * a    \n",
    "queue = deque([0, 1, 0, 1, 0, 0, 1, 1])\n",
    "\n",
    "count = 0\n",
    "n = 0\n",
    "target = 0\n",
    "\n",
    "while queue:\n",
    "    x = queue.popleft()\n",
    "    circle[target] = x\n",
    "    \n",
    "    if x == q:\n",
    "        count += 1\n",
    "        \n",
    "    if count == t:\n",
    "        print(target)\n",
    "        queue.clear()\n",
    "        break\n",
    "    \n",
    "    if target == a-1:\n",
    "        target = 0\n",
    "    else:\n",
    "        target += 1\n",
    "        \n",
    "    if len(queue) == 1:\n",
    "        n += 1\n",
    "        new = [0, 1, 0, 1] + [0] * (n+2) + [1] * (n+2)\n",
    "        queue.extend(new)"
   ]
  },
  {
   "cell_type": "markdown",
   "metadata": {},
   "source": [
    "https://www.acmicpc.net/problem/9037"
   ]
  },
  {
   "cell_type": "code",
   "execution_count": null,
   "metadata": {},
   "outputs": [],
   "source": [
    "# 백준 9037 The candy war\n",
    "\n",
    "\n",
    "\n",
    "\n",
    "def check(candy):\n",
    "    for j in range(n):\n",
    "        if candy[j] % 2:\n",
    "            candy[j] += 1\n",
    "            \n",
    "    return len(set(candy)) == 1\n",
    "\n",
    "def circle(candy):\n",
    "    lst = [0] * n\n",
    "    \n",
    "    for i in range(n):\n",
    "        if candy[i] % 2 == 1:\n",
    "            candy[i] += 1\n",
    "        candy[i] //= 2\n",
    "        lst[(i+1) % n] += candy[i]\n",
    "\n",
    "    for i in range(n):\n",
    "        candy[i] += lst[i]\n",
    "    \n",
    "    \n",
    "t = int(input())\n",
    "for i in range(t):\n",
    "    n = int(input())\n",
    "    candy = list(map(int, input().split()))\n",
    "    count = 0\n",
    "    \n",
    "    while not check(candy):\n",
    "        circle(candy)\n",
    "        count += 1\n",
    "        \n",
    "    print(count)"
   ]
  },
  {
   "cell_type": "markdown",
   "metadata": {},
   "source": [
    "https://www.acmicpc.net/problem/14467"
   ]
  },
  {
   "cell_type": "code",
   "execution_count": null,
   "metadata": {},
   "outputs": [],
   "source": [
    "# 백준 14467 소가 길을 건넌 이유 1\n",
    "\n",
    "n = int(input())\n",
    "\n",
    "spot = [0] * (n+1)\n",
    "check = [-1] * (n+1)\n",
    "count = 0\n",
    "\n",
    "for i in range(n):\n",
    "    a, b = map(int, input().split())\n",
    "    \n",
    "    if check[a] != b:\n",
    "        check[a] = b\n",
    "        spot[a] += 1\n",
    "\n",
    "for i in range(n):\n",
    "    if spot[i] > 1:\n",
    "        count += spot[i] - 1\n",
    "        \n",
    "        \n",
    "print(count)"
   ]
  },
  {
   "cell_type": "markdown",
   "metadata": {},
   "source": [
    "https://www.acmicpc.net/problem/7568"
   ]
  },
  {
   "cell_type": "code",
   "execution_count": null,
   "metadata": {},
   "outputs": [],
   "source": [
    "# 백준 7568 덩치\n",
    "\n",
    "n = int(input())\n",
    "\n",
    "info = []\n",
    "for i in range(n):\n",
    "    x, y = map(int, input().split())\n",
    "    info.append(tuple([x, y]))\n",
    "    \n",
    "for x, y in info:\n",
    "    rank = 1\n",
    "    for a, b in info:\n",
    "        if x < a and y < b:\n",
    "            rank += 1\n",
    "            \n",
    "    print(rank, end = ' ')"
   ]
  },
  {
   "cell_type": "markdown",
   "metadata": {},
   "source": [
    "https://www.acmicpc.net/problem/10709"
   ]
  },
  {
   "cell_type": "code",
   "execution_count": null,
   "metadata": {},
   "outputs": [],
   "source": [
    "# 백준 10709 기상캐스터\n",
    "\n",
    "h, w = map(int, input().split())\n",
    "sky = []\n",
    "for i in range(h):\n",
    "    sky.append(list(map(str, input())))\n",
    "    \n",
    "for i in range(h):\n",
    "    count = -1\n",
    "    check = 0\n",
    "    for j in range(w):\n",
    "        if sky[i][j] == 'c':\n",
    "            sky[i][j] = 0\n",
    "            check = 1\n",
    "            count = 1\n",
    "        \n",
    "        else:\n",
    "            if check:\n",
    "                sky[i][j] = count\n",
    "                count += 1\n",
    "                \n",
    "            else:\n",
    "                sky[i][j] = -1\n",
    "            \n",
    "      \n",
    "            \n",
    "    \n",
    "for i in sky:\n",
    "    print(*i)"
   ]
  },
  {
   "cell_type": "markdown",
   "metadata": {},
   "source": [
    "https://www.acmicpc.net/problem/1213"
   ]
  },
  {
   "cell_type": "code",
   "execution_count": null,
   "metadata": {},
   "outputs": [],
   "source": [
    "# 백준 1213 팰린드롬 만들기\n",
    "\n",
    "from collections import Counter\n",
    "\n",
    "name = input().upper()\n",
    "\n",
    "counter = Counter(name)\n",
    "count = counter.values()\n",
    "cnt = 0\n",
    "answer = 1\n",
    "\n",
    "for i in count:\n",
    "    if i % 2:\n",
    "        cnt += 1\n",
    "        \n",
    "        \n",
    "    if cnt > 1:\n",
    "        answer = 0\n",
    "        break\n",
    "        \n",
    "        \n",
    "if not answer:\n",
    "    print(\"I'm Sorry Hansoo\")\n",
    "    \n",
    "else:\n",
    "    a = set(list(name))\n",
    "    a = list(a)\n",
    "    a.sort()\n",
    "    \n",
    "    answer = '0'\n",
    "    for i in a:\n",
    "        times = name.count(i)\n",
    "        if times % 2:\n",
    "            target = i\n",
    "            \n",
    "        for j in range(times // 2):\n",
    "            answer += i\n",
    "    \n",
    "    if cnt:\n",
    "        answer += target\n",
    "    \n",
    "    a.reverse()\n",
    "    \n",
    "    for i in a:\n",
    "        times = name.count(i)\n",
    "        \n",
    "        for j in range(times // 2):\n",
    "            answer += i\n",
    "            \n",
    "    \n",
    "    \n",
    "    print(answer[1:])\n"
   ]
  },
  {
   "cell_type": "markdown",
   "metadata": {},
   "source": [
    "https://www.acmicpc.net/problem/1244"
   ]
  },
  {
   "cell_type": "code",
   "execution_count": null,
   "metadata": {},
   "outputs": [],
   "source": [
    "# 백준 1244 스위치 켜고 끄기\n",
    "\n",
    "def sol(sex, num):\n",
    "    if sex == 1:\n",
    "        for i in range(num, n+1):\n",
    "            if not i % num:\n",
    "                cdt[i] = 1 - cdt[i]\n",
    "                \n",
    "    else:\n",
    "        cnt = 1\n",
    "        cdt[num] = 1 - cdt[num]\n",
    "        while num - cnt >= 1 and num+cnt <= n:\n",
    "            if cdt[num-cnt] == cdt[num+cnt]:\n",
    "                cdt[num-cnt] = 1 - cdt[num-cnt]\n",
    "                cdt[num+cnt] = cdt[num-cnt]\n",
    "                \n",
    "                cnt += 1\n",
    "                \n",
    "            else:\n",
    "                break\n",
    "        \n",
    "\n",
    "\n",
    "n = int(input())\n",
    "cdt = [-1] + list(map(int, input().split()))\n",
    "s = int(input())\n",
    "\n",
    "for i in range(s):\n",
    "    a, b = map(int, input().split())\n",
    "    sol(a, b)\n",
    "    \n",
    "    \n",
    "del cdt[0]    \n",
    "for i in range(0, n, 20):\n",
    "    print(*cdt[i:i+20])"
   ]
  },
  {
   "cell_type": "markdown",
   "metadata": {},
   "source": [
    "https://www.acmicpc.net/problem/1966"
   ]
  },
  {
   "cell_type": "code",
   "execution_count": null,
   "metadata": {},
   "outputs": [],
   "source": [
    "# 백준 1966 프린터 큐\n",
    "\n",
    "from collections import deque\n",
    "\n",
    "t = int(input())\n",
    "\n",
    "\n",
    "for i in range(t):\n",
    "    n, m = map(int, input().split())\n",
    "    lst = list(map(int, input().split()))\n",
    "    idx = [0] * n\n",
    "    \n",
    "    lst = deque(lst)\n",
    "    idx = deque(idx)\n",
    "    idx[m] = 1\n",
    "    \n",
    "    count = 0\n",
    "    while True:\n",
    "        if lst[0] == max(lst):\n",
    "            count += 1\n",
    "            \n",
    "            if idx[0] == 1:\n",
    "                print(count)\n",
    "                break\n",
    "            \n",
    "            else:\n",
    "                \n",
    "                del lst[0]\n",
    "                del idx[0]\n",
    "            \n",
    "        else:\n",
    "            lst.append(lst.popleft())\n",
    "            idx.append(idx.popleft())\n"
   ]
  },
  {
   "cell_type": "markdown",
   "metadata": {},
   "source": [
    "https://www.acmicpc.net/problem/4307"
   ]
  },
  {
   "cell_type": "code",
   "execution_count": null,
   "metadata": {},
   "outputs": [],
   "source": [
    "# 백준 4307 개미\n",
    "\n",
    "t = int(input())\n",
    "for i in range(t):\n",
    "    l, n = map(int, input().split())\n",
    "    crd = []\n",
    "    for j in range(n):\n",
    "        crd.append(int(input()))\n",
    "        \n",
    "    "
   ]
  },
  {
   "cell_type": "markdown",
   "metadata": {},
   "source": [
    "https://www.acmicpc.net/problem/5597"
   ]
  },
  {
   "cell_type": "code",
   "execution_count": null,
   "metadata": {},
   "outputs": [],
   "source": [
    "# 백준 5597 과제 안 내신 분..?\n",
    "\n",
    "roll = set()\n",
    "for i in range(28):\n",
    "    roll.add(int(input()))\n",
    "    \n",
    "for i in range(1, 31):\n",
    "    if i not in roll:\n",
    "        print(i)"
   ]
  },
  {
   "cell_type": "code",
   "execution_count": 2,
   "metadata": {},
   "outputs": [],
   "source": [
    "dic = {'A+': 4.3, 'A0': 4.0, 'A-': 3.7, 'B+': 3.3, 'B0': 3.0, 'B-': 2.7, \n",
    "       'C+': 2.3, 'C0': 2.0, 'C-': 1.7, 'D+': 1.3, 'D0': 1.0, 'D-': 0.7, 'F': 0.0}\n",
    "\n",
    "score = input()\n",
    "print(dic[score])"
   ]
  },
  {
   "cell_type": "markdown",
   "metadata": {},
   "source": [
    "https://www.acmicpc.net/problem/11945"
   ]
  },
  {
   "cell_type": "code",
   "execution_count": null,
   "metadata": {},
   "outputs": [],
   "source": [
    "# 백준 11945 뜨거운 붕어빵\n",
    "\n",
    "n, m = map(int, input().split())\n",
    "\n",
    "for i in range(n):\n",
    "    a = input()\n",
    "    a = a[::-1]\n",
    "    print(a)\n",
    "             \n",
    "    "
   ]
  },
  {
   "cell_type": "markdown",
   "metadata": {},
   "source": [
    "https://www.acmicpc.net/problem/1547"
   ]
  },
  {
   "cell_type": "code",
   "execution_count": null,
   "metadata": {},
   "outputs": [],
   "source": [
    "# 백준 1547 공\n",
    "\n",
    "m = int(input())\n",
    "\n",
    "lst = [1, 0, 0]\n",
    "\n",
    "for i in range(m):\n",
    "    x, y = map(int, input().split())\n",
    "    \n",
    "    lst[x-1], lst[y-1] = lst[y-1], lst[x-1]\n",
    "    \n",
    "    \n",
    "print(lst.index(1) + 1)"
   ]
  },
  {
   "cell_type": "markdown",
   "metadata": {},
   "source": [
    "https://www.acmicpc.net/problem/15820"
   ]
  },
  {
   "cell_type": "code",
   "execution_count": null,
   "metadata": {},
   "outputs": [],
   "source": [
    "# 맞았는데 왜 틀리죠?\n",
    "\n",
    "s1, s2 = map(int, input().split())\n",
    "\n",
    "answer1 = 1\n",
    "answer2 = 1\n",
    "\n",
    "for i in range(s1):\n",
    "    a, b = map(int, input().split())\n",
    "    if a != b:\n",
    "        answer1 = 0\n",
    "    \n",
    "for i in range(s2):\n",
    "    a, b = map(int, input().split())\n",
    "    if a != b:\n",
    "        answer2 = 0\n",
    "        \n",
    "        \n",
    "if answer1 == 1 and answer2 == 1:\n",
    "    print(\"Accepted\")\n",
    "    \n",
    "elif answer1 == 0:\n",
    "    print(\"Wrong Answer\")\n",
    "    \n",
    "elif answer1 == 1 and answer2 == 0:\n",
    "    print(\"Why Wrong!!!\")\n"
   ]
  },
  {
   "cell_type": "markdown",
   "metadata": {},
   "source": [
    "https://www.acmicpc.net/problem/13460"
   ]
  },
  {
   "cell_type": "code",
   "execution_count": null,
   "metadata": {},
   "outputs": [],
   "source": [
    "# 구슬 탈출 2\n",
    "\n",
    "from collections import deque\n",
    "\n",
    "n, m = map(int, input().split())\n",
    "\n",
    "board = []\n",
    "for i in range(n):\n",
    "    a = list(map(str, input()))\n",
    "    board.append(a)\n",
    "    for j in range(m):\n",
    "        if a[j] == 'R':\n",
    "            rx, ry = i, j\n",
    "        if a[j] == 'B':\n",
    "            bx, by = i, j\n",
    "            \n",
    "            \n",
    "dx = [-1, 1, 0, 0]\n",
    "dy = [0, 0, -1, 1]\n",
    "\n",
    "queue = deque([(rx, ry, bx, by, 1)])\n",
    "visited = [[[[0] * m for _ in range(n)] for _ in range(m)] for _ in range(n)]\n",
    "visited[rx][ry][bx][by] = 1\n",
    "\n",
    "def tilt(x, y, dx, dy):\n",
    "    count = 0\n",
    "    while board[x+dx][y+dy] != '#' and board[x][y] != 'O':\n",
    "        x += dx\n",
    "        y += dy\n",
    "        count += 1\n",
    "        \n",
    "    return x, y, count\n",
    "\n",
    "\n",
    "def sol():\n",
    "    while queue:\n",
    "        rx, ry, bx, by, times = queue.popleft()\n",
    "        \n",
    "        if times > 10:\n",
    "            break\n",
    "            \n",
    "        for i in range(4):\n",
    "            nrx, nry, rtimes = tilt(rx, ry, dx[i], dy[i])\n",
    "            nbx, nby, btimes = tilt(bx, by, dx[i], dy[i])\n",
    "            \n",
    "            if board[nbx][nby] != 'O':\n",
    "                if board[nrx][nry] == 'O':\n",
    "                    print(times)\n",
    "                    return\n",
    "                \n",
    "                if nrx == nbx and nry == nby:\n",
    "                    if rtimes > btimes:\n",
    "                        nrx -= dx[i]\n",
    "                        nry -= dy[i]\n",
    "                    else:\n",
    "                        nbx -= dx[i]\n",
    "                        nby -= dy[i]\n",
    "                        \n",
    "                if not visited[nrx][nry][nbx][nby]:\n",
    "                    visited[nrx][nry][nbx][nby] = 1\n",
    "                    queue.append((nrx, nry, nbx, nby, times + 1))\n",
    "            \n",
    "    print(-1)\n",
    "    \n",
    "    \n",
    "sol()\n",
    "    "
   ]
  },
  {
   "cell_type": "markdown",
   "metadata": {},
   "source": [
    "https://www.acmicpc.net/problem/13459"
   ]
  },
  {
   "cell_type": "code",
   "execution_count": null,
   "metadata": {},
   "outputs": [],
   "source": [
    "# 구슬 탈출\n",
    "\n",
    "from collections import deque\n",
    "\n",
    "n, m = map(int, input().split())\n",
    "\n",
    "board = []\n",
    "for i in range(n):\n",
    "    a = list(map(str, input()))\n",
    "    board.append(a)\n",
    "    for j in range(m):\n",
    "        if a[j] == 'R':\n",
    "            rx, ry = i, j\n",
    "        if a[j] == 'B':\n",
    "            bx, by = i, j\n",
    "            \n",
    "            \n",
    "dx = [-1, 1, 0, 0]\n",
    "dy = [0, 0, -1, 1]\n",
    "\n",
    "queue = deque([(rx, ry, bx, by, 0)])\n",
    "visited = [[[[0] * m for _ in range(n)] for _ in range(m)] for _ in range(n)]\n",
    "visited[rx][ry][bx][by] = 1\n",
    "\n",
    "def tilt(x, y, dx, dy):\n",
    "    count = 0\n",
    "    while board[x+dx][y+dy] != '#' and board[x][y] != 'O':\n",
    "        x += dx\n",
    "        y += dy\n",
    "        count += 1\n",
    "        \n",
    "    return x, y, count\n",
    "\n",
    "\n",
    "def sol():\n",
    "    while queue:\n",
    "        rx, ry, bx, by, times = queue.popleft()\n",
    "        \n",
    "        if times >= 10:\n",
    "            break\n",
    "            \n",
    "        for i in range(4):\n",
    "            nrx, nry, rtimes = tilt(rx, ry, dx[i], dy[i])\n",
    "            nbx, nby, btimes = tilt(bx, by, dx[i], dy[i])\n",
    "            \n",
    "            if board[nbx][nby] == 'O':\n",
    "                continue\n",
    "            if board[nrx][nry] == 'O':\n",
    "                print(1)\n",
    "                return\n",
    "                \n",
    "            if nrx == nbx and nry == nby:\n",
    "                if rtimes > btimes:\n",
    "                    nrx -= dx[i]\n",
    "                    nry -= dy[i]\n",
    "                else:\n",
    "                    nbx -= dx[i]\n",
    "                    nby -= dy[i]\n",
    "                        \n",
    "            if not visited[nrx][nry][nbx][nby]:\n",
    "                visited[nrx][nry][nbx][nby] = 1\n",
    "                queue.append((nrx, nry, nbx, nby, times + 1))\n",
    "            \n",
    "    print(0)\n",
    "    \n",
    "    \n",
    "sol()\n",
    "    "
   ]
  },
  {
   "cell_type": "markdown",
   "metadata": {},
   "source": [
    "https://www.acmicpc.net/problem/15644"
   ]
  },
  {
   "cell_type": "code",
   "execution_count": null,
   "metadata": {},
   "outputs": [],
   "source": [
    "# 구슬 탈출 3\n",
    "\n",
    "from collections import deque\n",
    "\n",
    "n, m = map(int, input().split())\n",
    "\n",
    "board = []\n",
    "for i in range(n):\n",
    "    a = list(map(str, input()))\n",
    "    board.append(a)\n",
    "    for j in range(m):\n",
    "        if a[j] == 'R':\n",
    "            rx, ry = i, j\n",
    "        if a[j] == 'B':\n",
    "            bx, by = i, j\n",
    "            \n",
    "            \n",
    "dx = [-1, 1, 0, 0]\n",
    "dy = [0, 0, -1, 1]\n",
    "drct = ['U', 'D', 'L', 'R']\n",
    "\n",
    "record = [[[[[0] * 5 for _ in range(m)] for _ in range(n)] for _ in range(m)] for _ in range(n)]\n",
    "queue = deque([(rx, ry, bx, by, 0)])\n",
    "\n",
    "visited = [[[[0] * m for _ in range(n)] for _ in range(m)] for _ in range(n)]\n",
    "visited[rx][ry][bx][by] = 1\n",
    "\n",
    "def tilt(x, y, dx, dy):\n",
    "    count = 0\n",
    "    while board[x+dx][y+dy] != '#' and board[x][y] != 'O':\n",
    "        x += dx\n",
    "        y += dy\n",
    "        count += 1\n",
    "        \n",
    "    return x, y, count\n",
    "\n",
    "\n",
    "def sol():\n",
    "    while queue:\n",
    "        rx, ry, bx, by, times = queue.popleft()\n",
    "        \n",
    "        if times >= 10:\n",
    "            break\n",
    "            \n",
    "        for i in range(4):\n",
    "            nrx, nry, rtimes = tilt(rx, ry, dx[i], dy[i])\n",
    "            nbx, nby, btimes = tilt(bx, by, dx[i], dy[i])\n",
    "            \n",
    "            if board[nbx][nby] == 'O':\n",
    "                continue\n",
    "            if board[nrx][nry] == 'O':\n",
    "                bb = [drct[i]]\n",
    "                lrx, lry, lbx, lby = rx, ry, bx, by\n",
    "                \n",
    "                while lrx:\n",
    "                    lrx, lry, lbx, lby, j = record[lrx][lry][lbx][lby]\n",
    "                    bb.append(drct[j])\n",
    "            \n",
    "                print(times + 1)\n",
    "                bb.pop()\n",
    "                bb.reverse()\n",
    "                print(\"\".join(bb))\n",
    "                return\n",
    "                \n",
    "            if nrx == nbx and nry == nby:\n",
    "                if rtimes > btimes:\n",
    "                    nrx -= dx[i]\n",
    "                    nry -= dy[i]\n",
    "                else:\n",
    "                    nbx -= dx[i]\n",
    "                    nby -= dy[i]\n",
    "                        \n",
    "            if not visited[nrx][nry][nbx][nby]:\n",
    "                visited[nrx][nry][nbx][nby] = 1\n",
    "                queue.append((nrx, nry, nbx, nby, times + 1))\n",
    "                record[nrx][nry][nbx][nby] = (rx, ry, bx, by, i)\n",
    "                \n",
    "            \n",
    "    print(-1)\n",
    "    \n",
    "    \n",
    "sol()\n",
    "    "
   ]
  },
  {
   "cell_type": "markdown",
   "metadata": {},
   "source": [
    "https://www.acmicpc.net/problem/15653"
   ]
  },
  {
   "cell_type": "code",
   "execution_count": null,
   "metadata": {},
   "outputs": [],
   "source": [
    "# 구슬 탈출 4\n",
    "\n",
    "from collections import deque\n",
    "\n",
    "n, m = map(int, input().split())\n",
    "\n",
    "board = []\n",
    "for i in range(n):\n",
    "    a = list(map(str, input()))\n",
    "    board.append(a)\n",
    "    for j in range(m):\n",
    "        if a[j] == 'R':\n",
    "            rx, ry = i, j\n",
    "        if a[j] == 'B':\n",
    "            bx, by = i, j\n",
    "            \n",
    "            \n",
    "dx = [-1, 1, 0, 0]\n",
    "dy = [0, 0, -1, 1]\n",
    "\n",
    "queue = deque([(rx, ry, bx, by, 0)])\n",
    "visited = [[[[0] * m for _ in range(n)] for _ in range(m)] for _ in range(n)]\n",
    "visited[rx][ry][bx][by] = 1\n",
    "\n",
    "def tilt(x, y, dx, dy):\n",
    "    count = 0\n",
    "    while board[x+dx][y+dy] != '#' and board[x][y] != 'O':\n",
    "        x += dx\n",
    "        y += dy\n",
    "        count += 1\n",
    "        \n",
    "    return x, y, count\n",
    "\n",
    "\n",
    "def sol():\n",
    "    while queue:\n",
    "        rx, ry, bx, by, times = queue.popleft()\n",
    "            \n",
    "        for i in range(4):\n",
    "            nrx, nry, rtimes = tilt(rx, ry, dx[i], dy[i])\n",
    "            nbx, nby, btimes = tilt(bx, by, dx[i], dy[i])\n",
    "            \n",
    "            if board[nbx][nby] == 'O':\n",
    "                continue\n",
    "            if board[nrx][nry] == 'O':\n",
    "                print(times + 1)\n",
    "                return\n",
    "                \n",
    "            if nrx == nbx and nry == nby:\n",
    "                if rtimes > btimes:\n",
    "                    nrx -= dx[i]\n",
    "                    nry -= dy[i]\n",
    "                else:\n",
    "                    nbx -= dx[i]\n",
    "                    nby -= dy[i]\n",
    "                        \n",
    "            if not visited[nrx][nry][nbx][nby]:\n",
    "                visited[nrx][nry][nbx][nby] = 1\n",
    "                queue.append((nrx, nry, nbx, nby, times + 1))\n",
    "            \n",
    "    print(-1)\n",
    "    \n",
    "    \n",
    "sol()"
   ]
  },
  {
   "cell_type": "markdown",
   "metadata": {},
   "source": [
    "https://www.acmicpc.net/problem/23805"
   ]
  },
  {
   "cell_type": "code",
   "execution_count": null,
   "metadata": {},
   "outputs": [],
   "source": [
    "n = int(input())\n",
    "\n",
    "for i in range(n):\n",
    "    print(\"@@@\"* n + \" \"* n + \"@\"* n)\n",
    "for i in range(n):\n",
    "    print(\"@\"* n + \" \"* n + \"@\"* n + \" \"* n + \"@\"* n)\n",
    "    print(\"@\"* n + \" \"* n + \"@\"* n + \" \"* n + \"@\"* n)\n",
    "    print(\"@\"* n + \" \"* n + \"@\"* n + \" \"* n + \"@\"* n)\n",
    "for i in range(n):\n",
    "    print(\"@\"* n + \" \"* n + \"@@@\"* n)\n"
   ]
  },
  {
   "cell_type": "markdown",
   "metadata": {},
   "source": [
    "https://www.acmicpc.net/problem/23804"
   ]
  },
  {
   "cell_type": "code",
   "execution_count": null,
   "metadata": {},
   "outputs": [],
   "source": [
    "n = int(input())\n",
    "\n",
    "for i in range(n):\n",
    "    print(\"@@@@@\" * n)\n",
    "for i in range(n):\n",
    "    print(\"@\" * n)\n",
    "    print(\"@\" * n)\n",
    "    print(\"@\" * n)\n",
    "for i in range(n):\n",
    "    print(\"@@@@@\" * n)\n"
   ]
  },
  {
   "cell_type": "code",
   "execution_count": null,
   "metadata": {},
   "outputs": [],
   "source": [
    "n = int(input())\n",
    "\n",
    "print(\"@\" * (n+2))\n",
    "for i in range(n):\n",
    "    print(\"@\" + \" \" * (n) + \"@\")\n",
    "print(\"@\" * (n+2))"
   ]
  },
  {
   "cell_type": "markdown",
   "metadata": {},
   "source": [
    "https://www.acmicpc.net/problem/2910"
   ]
  },
  {
   "cell_type": "code",
   "execution_count": null,
   "metadata": {},
   "outputs": [],
   "source": [
    "# 빈도 정렬\n",
    "\n",
    "from collections import Counter\n",
    "\n",
    "n, c = map(int, input().split())\n",
    "seq = list(map(int, input().split()))\n",
    "\n",
    "seq = Counter(seq).most_common()\n",
    "\n",
    "for i, j in seq:\n",
    "    for k in range(j):\n",
    "        print(i, end = \" \")\n"
   ]
  },
  {
   "cell_type": "markdown",
   "metadata": {},
   "source": [
    "https://www.acmicpc.net/problem/20291"
   ]
  },
  {
   "cell_type": "code",
   "execution_count": null,
   "metadata": {},
   "outputs": [],
   "source": [
    "# 파일 정리\n",
    "\n",
    "n = int(input())\n",
    "\n",
    "lst = []\n",
    "for i in range(n):\n",
    "    lst.append(input())\n",
    "    \n",
    "file = {}\n",
    "for i in lst:\n",
    "    i = list(i.split(\".\"))\n",
    "    \n",
    "    if i[1] in file:\n",
    "        file[i[1]] += 1\n",
    "    else:\n",
    "        file[i[1]] = 1\n",
    "    \n",
    "temp = []\n",
    "for i in file:\n",
    "    temp.append(i)\n",
    "    \n",
    "temp.sort()\n",
    "\n",
    "for i in temp:\n",
    "    print(i, file[i])"
   ]
  },
  {
   "cell_type": "markdown",
   "metadata": {},
   "source": [
    "https://www.acmicpc.net/problem/23810"
   ]
  },
  {
   "cell_type": "code",
   "execution_count": null,
   "metadata": {},
   "outputs": [],
   "source": [
    "n = int(input())\n",
    "\n",
    "for i in range(n):\n",
    "    print(\"@@@@@\" * n)\n",
    "for i in range(n):\n",
    "    print(\"@\" * n)\n",
    "for i in range(n):\n",
    "    print(\"@@@@@\" * n)\n",
    "for i in range(n):\n",
    "    print(\"@\" * n)\n",
    "    print(\"@\" * n)"
   ]
  },
  {
   "cell_type": "markdown",
   "metadata": {},
   "source": [
    "https://www.acmicpc.net/problem/1236\n"
   ]
  },
  {
   "cell_type": "code",
   "execution_count": null,
   "metadata": {},
   "outputs": [],
   "source": [
    "n, m = map(int, input().split())\n",
    "\n",
    "building = []\n",
    "\n",
    "c = 0\n",
    "r = 0\n",
    "\n",
    "for i in range(n):\n",
    "    a = list(map(str, input().rstrip()))\n",
    "    building.append(a)\n",
    "    if 'X' not in a:\n",
    "        r += 1\n",
    "\n",
    "\n",
    "        \n",
    "for j in range(m):\n",
    "    if 'X' not in [building[i][j] for i in range(n)]:\n",
    "        c += 1\n",
    "            \n",
    "\n",
    "print(max(r, c))"
   ]
  },
  {
   "cell_type": "markdown",
   "metadata": {},
   "source": [
    "https://www.acmicpc.net/problem/1713"
   ]
  },
  {
   "cell_type": "code",
   "execution_count": null,
   "metadata": {},
   "outputs": [],
   "source": [
    "# 후보 추천하기\n",
    "\n",
    "n = int(input())\n",
    "pick = int(input())\n",
    "lst = list(map(int, input().split()))\n",
    "\n",
    "chair = []\n",
    "count = [0] * (pick+1)\n",
    "\n",
    "for i in lst:\n",
    "    count[i] += 1\n",
    "    \n",
    "    if i not in chair:\n",
    "        if len(chair) < n:\n",
    "            chair.append(i)\n",
    "    \n",
    "        else:\n",
    "            temp = 1000\n",
    "            cnt = 1\n",
    "            target = 0\n",
    "            for j in chair:\n",
    "                if temp > count[j]:\n",
    "                    temp = count[j]\n",
    "                    cnt = 1\n",
    "                    target = j\n",
    "                    \n",
    "                elif temp == count[j]:\n",
    "                    cnt += 1\n",
    "                    \n",
    "            chair.remove(target)\n",
    "            count[target] = 0\n",
    "            \n",
    "            chair.append(i)\n",
    "            \n",
    "            \n",
    "chair.sort()\n",
    "print(*chair)\n",
    "                \n",
    "\n",
    "                \n",
    "                \n",
    "        "
   ]
  },
  {
   "cell_type": "markdown",
   "metadata": {},
   "source": [
    "https://www.acmicpc.net/problem/3111"
   ]
  },
  {
   "cell_type": "code",
   "execution_count": null,
   "metadata": {},
   "outputs": [],
   "source": [
    "a = input()\n",
    "t = input()\n",
    "\n",
    "ra = a[::-1]\n",
    "\n",
    "left = ''\n",
    "right = ''\n",
    "\n",
    "start = 0\n",
    "end = len(t) - 1\n",
    "\n",
    "la = len(a)\n",
    "\n",
    "while start <= end:\n",
    "    while start <= end:\n",
    "        left += t[start]\n",
    "        start += 1\n",
    "        \n",
    "        if len(left) >= la and left[-la:] == a:\n",
    "            left = left[:-la]\n",
    "            break\n",
    "            \n",
    "    while start <= end:\n",
    "        right += t[end]\n",
    "        end -= 1\n",
    "        \n",
    "        if len(right) >= la and right[-la:] == ra:\n",
    "            right = right[:-la]\n",
    "            break\n",
    "            \n",
    "            \n",
    "answer = left + right[::-1]\n",
    "\n",
    "check = answer.find(a)\n",
    "\n",
    "while check != -1:\n",
    "    if check != -1:\n",
    "        answer = answer[:check] + answer[check + len(a):]\n",
    "        \n",
    "    check = answer.find(a)\n",
    "    \n",
    "    \n",
    "print(answer)\n"
   ]
  },
  {
   "cell_type": "code",
   "execution_count": 1,
   "metadata": {},
   "outputs": [],
   "source": [
    "dfsfsfff"
   ]
  },
  {
   "cell_type": "code",
   "execution_count": 50,
   "metadata": {},
   "outputs": [
    {
     "data": {
      "text/plain": [
       "'ba'"
      ]
     },
     "execution_count": 50,
     "metadata": {},
     "output_type": "execute_result"
    }
   ],
   "source": [
    "left"
   ]
  },
  {
   "cell_type": "code",
   "execution_count": 51,
   "metadata": {},
   "outputs": [
    {
     "data": {
      "text/plain": [
       "'nanadeda'"
      ]
     },
     "execution_count": 51,
     "metadata": {},
     "output_type": "execute_result"
    }
   ],
   "source": [
    "right[::-1]"
   ]
  },
  {
   "cell_type": "code",
   "execution_count": 44,
   "metadata": {},
   "outputs": [],
   "source": [
    "a = '12345'\n",
    "b = '45'\n",
    "lb = len(b)"
   ]
  },
  {
   "cell_type": "code",
   "execution_count": 45,
   "metadata": {},
   "outputs": [],
   "source": [
    "chk = a.find(b)"
   ]
  },
  {
   "cell_type": "code",
   "execution_count": 46,
   "metadata": {},
   "outputs": [
    {
     "data": {
      "text/plain": [
       "''"
      ]
     },
     "execution_count": 46,
     "metadata": {},
     "output_type": "execute_result"
    }
   ],
   "source": [
    "a[chk + len(b):]"
   ]
  },
  {
   "cell_type": "code",
   "execution_count": 47,
   "metadata": {},
   "outputs": [
    {
     "data": {
      "text/plain": [
       "'123'"
      ]
     },
     "execution_count": 47,
     "metadata": {},
     "output_type": "execute_result"
    }
   ],
   "source": [
    "a[:chk]"
   ]
  },
  {
   "cell_type": "code",
   "execution_count": 55,
   "metadata": {},
   "outputs": [],
   "source": [
    "temp = left + right[::-1]"
   ]
  },
  {
   "cell_type": "code",
   "execution_count": 56,
   "metadata": {},
   "outputs": [
    {
     "data": {
      "text/plain": [
       "'bananadeda'"
      ]
     },
     "execution_count": 56,
     "metadata": {},
     "output_type": "execute_result"
    }
   ],
   "source": [
    "temp"
   ]
  },
  {
   "cell_type": "code",
   "execution_count": 57,
   "metadata": {},
   "outputs": [
    {
     "data": {
      "text/plain": [
       "''"
      ]
     },
     "execution_count": 57,
     "metadata": {},
     "output_type": "execute_result"
    }
   ],
   "source": [
    "temp[:0]"
   ]
  },
  {
   "cell_type": "code",
   "execution_count": 59,
   "metadata": {},
   "outputs": [
    {
     "data": {
      "text/plain": [
       "'deda'"
      ]
     },
     "execution_count": 59,
     "metadata": {},
     "output_type": "execute_result"
    }
   ],
   "source": [
    "temp[0 + len(a):]"
   ]
  },
  {
   "cell_type": "code",
   "execution_count": null,
   "metadata": {},
   "outputs": [],
   "source": []
  }
 ],
 "metadata": {
  "kernelspec": {
   "display_name": "Python 3.7.5 64-bit ('Namlister': virtualenv)",
   "language": "python",
   "name": "python37564bitnamlistervirtualenv5d7bb17d3c984c36aee202a2f6a91336"
  },
  "language_info": {
   "codemirror_mode": {
    "name": "ipython",
    "version": 3
   },
   "file_extension": ".py",
   "mimetype": "text/x-python",
   "name": "python",
   "nbconvert_exporter": "python",
   "pygments_lexer": "ipython3",
   "version": "3.8.8"
  }
 },
 "nbformat": 4,
 "nbformat_minor": 2
}
