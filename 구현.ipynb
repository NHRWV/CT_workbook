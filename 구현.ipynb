{
 "cells": [
  {
   "cell_type": "code",
   "execution_count": null,
   "metadata": {},
   "outputs": [],
   "source": [
    "# 백준 2484\n",
    "\n",
    "def sol(ls):\n",
    "    cnt = [0] * 7\n",
    "    for i in ls:\n",
    "        cnt[i] += 1\n",
    "        \n",
    "    if len(set(ls)) == 4:\n",
    "        prize = max(ls) * 100\n",
    "        \n",
    "    elif len(set(ls)) == 2:\n",
    "        if max(cnt) == 3:\n",
    "            prize = 10000 + cnt.index(3) * 1000\n",
    "            \n",
    "        else:\n",
    "            prize = 2000 + 500 * list(set(ls))[0] + 500 * list(set(ls))[1]\n",
    "            \n",
    "    elif len(set(ls)) == 3:\n",
    "        prize = 1000 + cnt.index(2) * 100\n",
    "        \n",
    "    elif len(set(ls)) == 1:\n",
    "        prize = 50000 + cnt.index(4) * 5000\n",
    "        \n",
    "    return prize\n",
    "        \n",
    "\n",
    "n = int(input())\n",
    "\n",
    "dice = []\n",
    "for i in range(n):\n",
    "    a = sol(list(map(int, input().split())))\n",
    "    dice.append(a)\n",
    "\n",
    "print(max(dice))"
   ]
  },
  {
   "cell_type": "code",
   "execution_count": null,
   "metadata": {},
   "outputs": [],
   "source": [
    "# 백준 5430\n",
    "\n",
    "from collections import deque\n",
    "\n",
    "def sol(func, lst):\n",
    "    \n",
    "    queue = deque(lst)\n",
    "    \n",
    "    if func == 'R':\n",
    "        queue = queue.reverse()\n",
    "        print(list(queue))\n",
    "        \n",
    "    elif func == 'D':\n",
    "        if len(queue) == 0:\n",
    "            return print(\"error\")\n",
    "        \n",
    "        queue = queue.popleft()\n",
    "            \n",
    "        print(list(queue))\n",
    "        \n",
    "    return queue\n",
    "\n",
    "\n",
    "t = int(input())\n",
    "p = input()\n",
    "n = int(input())\n",
    "arr = input()\n",
    "\n",
    "lst = []\n",
    "for i in range(1, len(arr)-1, 2):\n",
    "    lst.append(int(arr[i]))\n",
    "    \n",
    "order = list(p)\n",
    "for i in order:\n",
    "    lst = sol(i, queue)\n"
   ]
  },
  {
   "cell_type": "markdown",
   "metadata": {},
   "source": [
    "https://www.acmicpc.net/problem/8979"
   ]
  },
  {
   "cell_type": "code",
   "execution_count": null,
   "metadata": {},
   "outputs": [],
   "source": [
    "## 백준 8979 올림픽\n",
    "# 20점 코드..가만 생각해보니 공동 순위가 있으면 다음 순위는 공동 순위만큼 밀려야 한다.\n",
    "\n",
    "n, k = map(int, input().split())\n",
    "\n",
    "info = set()\n",
    "for i in range(n):\n",
    "    num, g, s, b = map(int, input().split())\n",
    "    \n",
    "    if num == k:\n",
    "        target = (g, s, b)\n",
    "    \n",
    "    info.add((g, s, b))\n",
    "    \n",
    "rank = list(info)\n",
    "rank = sorted(rank, key = lambda x : (-x[0], -x[1], -x[2]))\n",
    "\n",
    "print(rank.index(target) + 1)"
   ]
  },
  {
   "cell_type": "code",
   "execution_count": null,
   "metadata": {},
   "outputs": [],
   "source": [
    "# 다시\n",
    "\n",
    "n, k = map(int, input().split())\n",
    "\n",
    "info = []\n",
    "for i in range(n):\n",
    "    info.append(list(map(int, input().split())))\n",
    "    \n",
    "    \n",
    "info = sorted(info, key = lambda x : (-x[1], -x[2], -x[3]))\n",
    "\n",
    "for i in range(n):\n",
    "    if info[i][0] == k:\n",
    "        idx = i\n",
    "        \n",
    "for i in range(n):\n",
    "    if info[idx][1:] == info[i][1:]:\n",
    "        print(i + 1)\n",
    "        break"
   ]
  },
  {
   "cell_type": "markdown",
   "metadata": {},
   "source": [
    "https://www.acmicpc.net/problem/16675"
   ]
  },
  {
   "cell_type": "code",
   "execution_count": 11,
   "metadata": {},
   "outputs": [
    {
     "name": "stdout",
     "output_type": "stream",
     "text": [
      "R S P R\n",
      "?\n"
     ]
    }
   ],
   "source": [
    "# 백준 16675 두 개의 손\n",
    "\n",
    "ml, mr, tl, tr = map(str, input().upper().split())\n",
    "\n",
    "if ml != mr and tl != tr:\n",
    "    print('?')\n",
    "    \n",
    "\n",
    "elif ml == mr and tl != tr:\n",
    "    if ml == 'R' and (tl == 'P' or tr == 'P'):\n",
    "        print('TK')\n",
    "        \n",
    "    elif ml == 'S' and (tl == 'R' or tr == 'R'):\n",
    "        print('TK')\n",
    "        \n",
    "    elif ml == 'P' and (tl == 'S' or tr == 'S'):\n",
    "        print('TK')\n",
    "        \n",
    "    else:\n",
    "        print('?')\n",
    "\n",
    "\n",
    "elif ml != mr and tl == tr:\n",
    "    if tl == 'R' and (ml == 'P' or mr == 'P'):\n",
    "        print('MS')\n",
    "        \n",
    "    elif tl == 'S' and (ml == 'R' or mr == 'R'):\n",
    "        print('MS')\n",
    "        \n",
    "    elif tl == 'P' and (ml == 'S' or mr == 'S'):\n",
    "        print('MS')\n",
    "        \n",
    "    else:\n",
    "        print('?')\n",
    "\n",
    "\n",
    "else:\n",
    "    if ml == 'R':\n",
    "        if tl == 'P':\n",
    "            print('TK')\n",
    "        elif tl == 'S':\n",
    "            print('MS')\n",
    "        elif tl == 'R':\n",
    "            print('?')\n",
    "            \n",
    "    if ml == 'S':\n",
    "        if tl == 'P':\n",
    "            print('MS')\n",
    "        elif tl == 'S':\n",
    "            print('?')\n",
    "        elif tl == 'R':\n",
    "            print('TK')\n",
    "\n",
    "    if ml == 'P':\n",
    "        if tl == 'P':\n",
    "            print('?')\n",
    "        elif tl == 'S':\n",
    "            print('TK')\n",
    "        elif tl == 'R':\n",
    "            print('MS')"
   ]
  },
  {
   "cell_type": "markdown",
   "metadata": {},
   "source": [
    "https://www.acmicpc.net/problem/10813"
   ]
  },
  {
   "cell_type": "code",
   "execution_count": null,
   "metadata": {},
   "outputs": [],
   "source": [
    "# 백준 10813 공 바꾸기\n",
    "\n",
    "n, m = map(int, input().split())\n",
    "\n",
    "basket = [i for i in range(1, n+1)]\n",
    "for i in range(m):\n",
    "    a, b = map(int, input().split())\n",
    "    basket[a-1], basket[b-1] = basket[b-1], basket[a-1]\n",
    "    \n",
    "    \n",
    "print(*basket)"
   ]
  },
  {
   "cell_type": "markdown",
   "metadata": {},
   "source": [
    "https://www.acmicpc.net/problem/18406"
   ]
  },
  {
   "cell_type": "code",
   "execution_count": 22,
   "metadata": {},
   "outputs": [
    {
     "name": "stdout",
     "output_type": "stream",
     "text": [
      "7755\n",
      "READY\n"
     ]
    }
   ],
   "source": [
    "# 백준 18406 럭키 스트레이트\n",
    "\n",
    "n = input()\n",
    "\n",
    "left = n[:len(n) // 2]\n",
    "right = n[len(n) // 2:]\n",
    "\n",
    "c1 = 0\n",
    "c2 = 0\n",
    "for i in range(len(n)//2):\n",
    "    c1 += int(left[i])\n",
    "    c2 += int(right[i])\n",
    "    \n",
    "if c1 == c2:\n",
    "    print('LUCKY')\n",
    "\n",
    "else:\n",
    "    print('READY')"
   ]
  },
  {
   "cell_type": "markdown",
   "metadata": {},
   "source": [
    "https://www.acmicpc.net/problem/16769"
   ]
  },
  {
   "cell_type": "code",
   "execution_count": null,
   "metadata": {},
   "outputs": [],
   "source": [
    "# 백준 16769 Mixing Milk\n",
    "\n",
    "c1, m1 = map(int, input().split())\n",
    "c2, m2 = map(int, input().split())\n",
    "c3, m3 = map(int, input().split())\n",
    "\n",
    "for i in range(33):\n",
    "    if c2 >= m1 + m2:\n",
    "        m2 += m1\n",
    "        m1 = 0\n",
    "    else:\n",
    "        m1 = m1 + m2 - c2\n",
    "        m2 = c2\n",
    "        \n",
    "    if c3 >= m2 + m3:\n",
    "        m3 += m2\n",
    "        m2 = 0\n",
    "    else:\n",
    "        m2 = m2 + m3 - c3\n",
    "        m3 = c3\n",
    "        \n",
    "    if c1 >= m3 + m1:\n",
    "        m1 += m3\n",
    "        m3 = 0\n",
    "    else:\n",
    "        m3 = m3 + m1 - c1\n",
    "        m1 = c1\n",
    "        \n",
    "        \n",
    "if c2 >= m1 + m2:\n",
    "        m2 += m1\n",
    "        m1 = 0\n",
    "else:\n",
    "    m1 = m1 + m2 - c2\n",
    "    m2 = c2\n",
    "       \n",
    "\n",
    "print(m1)\n",
    "print(m2)\n",
    "print(m3)"
   ]
  },
  {
   "cell_type": "markdown",
   "metadata": {},
   "source": [
    "https://www.acmicpc.net/problem/2908"
   ]
  },
  {
   "cell_type": "code",
   "execution_count": 31,
   "metadata": {},
   "outputs": [
    {
     "name": "stdout",
     "output_type": "stream",
     "text": [
      "839 237\n",
      "938\n"
     ]
    }
   ],
   "source": [
    "# 백준 2908 상수\n",
    "\n",
    "a, b = input().split()\n",
    "\n",
    "a = a[::-1]\n",
    "b = b[::-1]\n",
    "\n",
    "print(max(int(a), int(b)))"
   ]
  },
  {
   "cell_type": "markdown",
   "metadata": {},
   "source": [
    "https://www.acmicpc.net/problem/2920"
   ]
  },
  {
   "cell_type": "code",
   "execution_count": 34,
   "metadata": {},
   "outputs": [
    {
     "name": "stdout",
     "output_type": "stream",
     "text": [
      "8 1 7 2 6 3 5 4\n",
      "mixed\n"
     ]
    }
   ],
   "source": [
    "# 백준 2920 음계\n",
    "\n",
    "lst = list(map(int, input().split()))\n",
    "\n",
    "if lst == sorted(lst):\n",
    "    print('ascending')\n",
    "elif lst == sorted(lst, reverse = True):\n",
    "    print('descending')\n",
    "else:\n",
    "    print('mixed')"
   ]
  },
  {
   "cell_type": "markdown",
   "metadata": {},
   "source": [
    "https://www.acmicpc.net/problem/15721"
   ]
  },
  {
   "cell_type": "code",
   "execution_count": null,
   "metadata": {},
   "outputs": [],
   "source": [
    "# 백준 15721 번데기\n",
    "\n",
    "from collections import deque\n",
    "\n",
    "a = int(input())\n",
    "t = int(input())\n",
    "q = int(input())\n",
    "\n",
    "circle = [0] * a    \n",
    "queue = deque([0, 1, 0, 1, 0, 0, 1, 1])\n",
    "\n",
    "count = 0\n",
    "n = 0\n",
    "target = 0\n",
    "\n",
    "while queue:\n",
    "    x = queue.popleft()\n",
    "    circle[target] = x\n",
    "    \n",
    "    if x == q:\n",
    "        count += 1\n",
    "        \n",
    "    if count == t:\n",
    "        print(target)\n",
    "        queue.clear()\n",
    "        break\n",
    "    \n",
    "    if target == a-1:\n",
    "        target = 0\n",
    "    else:\n",
    "        target += 1\n",
    "        \n",
    "    if len(queue) == 1:\n",
    "        n += 1\n",
    "        new = [0, 1, 0, 1] + [0] * (n+2) + [1] * (n+2)\n",
    "        queue.extend(new)"
   ]
  },
  {
   "cell_type": "markdown",
   "metadata": {},
   "source": [
    "https://www.acmicpc.net/problem/9037"
   ]
  },
  {
   "cell_type": "code",
   "execution_count": null,
   "metadata": {},
   "outputs": [],
   "source": [
    "# 백준 9037 The candy war\n",
    "\n",
    "\n",
    "\n",
    "\n",
    "def check(candy):\n",
    "    for j in range(n):\n",
    "        if candy[j] % 2:\n",
    "            candy[j] += 1\n",
    "            \n",
    "    return len(set(candy)) == 1\n",
    "\n",
    "def circle(candy):\n",
    "    lst = [0] * n\n",
    "    \n",
    "    for i in range(n):\n",
    "        if candy[i] % 2 == 1:\n",
    "            candy[i] += 1\n",
    "        candy[i] //= 2\n",
    "        lst[(i+1) % n] += candy[i]\n",
    "\n",
    "    for i in range(n):\n",
    "        candy[i] += lst[i]\n",
    "    \n",
    "    \n",
    "t = int(input())\n",
    "for i in range(t):\n",
    "    n = int(input())\n",
    "    candy = list(map(int, input().split()))\n",
    "    count = 0\n",
    "    \n",
    "    while not check(candy):\n",
    "        circle(candy)\n",
    "        count += 1\n",
    "        \n",
    "    print(count)"
   ]
  },
  {
   "cell_type": "markdown",
   "metadata": {},
   "source": [
    "https://www.acmicpc.net/problem/14467"
   ]
  },
  {
   "cell_type": "code",
   "execution_count": null,
   "metadata": {},
   "outputs": [],
   "source": [
    "# 백준 14467 소가 길을 건넌 이유 1\n",
    "\n",
    "n = int(input())\n",
    "\n",
    "spot = [0] * (n+1)\n",
    "check = [-1] * (n+1)\n",
    "count = 0\n",
    "\n",
    "for i in range(n):\n",
    "    a, b = map(int, input().split())\n",
    "    \n",
    "    if check[a] != b:\n",
    "        check[a] = b\n",
    "        spot[a] += 1\n",
    "\n",
    "for i in range(n):\n",
    "    if spot[i] > 1:\n",
    "        count += spot[i] - 1\n",
    "        \n",
    "        \n",
    "print(count)"
   ]
  },
  {
   "cell_type": "markdown",
   "metadata": {},
   "source": [
    "https://www.acmicpc.net/problem/7568"
   ]
  },
  {
   "cell_type": "code",
   "execution_count": 7,
   "metadata": {},
   "outputs": [],
   "source": [
    "# 백준 7568 덩치\n",
    "\n",
    "n = int(input())\n",
    "\n",
    "info = []\n",
    "for i in range(n):\n",
    "    x, y = map(int, input().split())\n",
    "    info.append(tuple([x, y]))\n",
    "    \n",
    "for x, y in info:\n",
    "    rank = 1\n",
    "    for a, b in info:\n",
    "        if x < a and y < b:\n",
    "            rank += 1\n",
    "            \n",
    "    print(rank, end = ' ')"
   ]
  },
  {
   "cell_type": "markdown",
   "metadata": {},
   "source": [
    "https://www.acmicpc.net/problem/10709"
   ]
  },
  {
   "cell_type": "code",
   "execution_count": null,
   "metadata": {},
   "outputs": [],
   "source": [
    "# 백준 10709 기상캐스터\n",
    "\n",
    "h, w = map(int, input().split())\n",
    "sky = []\n",
    "for i in range(h):\n",
    "    sky.append(list(map(str, input())))\n",
    "    \n",
    "for i in range(h):\n",
    "    count = -1\n",
    "    check = 0\n",
    "    for j in range(w):\n",
    "        if sky[i][j] == 'c':\n",
    "            sky[i][j] = 0\n",
    "            check = 1\n",
    "            count = 1\n",
    "        \n",
    "        else:\n",
    "            if check:\n",
    "                sky[i][j] = count\n",
    "                count += 1\n",
    "                \n",
    "            else:\n",
    "                sky[i][j] = -1\n",
    "            \n",
    "      \n",
    "            \n",
    "    \n",
    "for i in sky:\n",
    "    print(*i)"
   ]
  },
  {
   "cell_type": "markdown",
   "metadata": {},
   "source": [
    "https://www.acmicpc.net/problem/1213"
   ]
  },
  {
   "cell_type": "code",
   "execution_count": null,
   "metadata": {},
   "outputs": [],
   "source": [
    "# 백준 1213 팰린드롬 만들기\n",
    "\n",
    "from collections import Counter\n",
    "\n",
    "name = input().upper()\n",
    "\n",
    "counter = Counter(name)\n",
    "count = counter.values()\n",
    "cnt = 0\n",
    "answer = 1\n",
    "\n",
    "for i in count:\n",
    "    if i % 2:\n",
    "        cnt += 1\n",
    "        \n",
    "        \n",
    "    if cnt > 1:\n",
    "        answer = 0\n",
    "        break\n",
    "        \n",
    "        \n",
    "if not answer:\n",
    "    print(\"I'm Sorry Hansoo\")\n",
    "    \n",
    "else:\n",
    "    a = set(list(name))\n",
    "    a = list(a)\n",
    "    a.sort()\n",
    "    \n",
    "    answer = '0'\n",
    "    for i in a:\n",
    "        times = name.count(i)\n",
    "        if times % 2:\n",
    "            target = i\n",
    "            \n",
    "        for j in range(times // 2):\n",
    "            answer += i\n",
    "    \n",
    "    if cnt:\n",
    "        answer += target\n",
    "    \n",
    "    a.reverse()\n",
    "    \n",
    "    for i in a:\n",
    "        times = name.count(i)\n",
    "        \n",
    "        for j in range(times // 2):\n",
    "            answer += i\n",
    "            \n",
    "    \n",
    "    \n",
    "    print(answer[1:])\n"
   ]
  },
  {
   "cell_type": "markdown",
   "metadata": {},
   "source": [
    "https://www.acmicpc.net/problem/1244"
   ]
  },
  {
   "cell_type": "code",
   "execution_count": null,
   "metadata": {},
   "outputs": [],
   "source": [
    "# 백준 1244 스위치 켜고 끄기\n",
    "\n",
    "def sol(sex, num):\n",
    "    if sex == 1:\n",
    "        for i in range(num, n+1):\n",
    "            if not i % num:\n",
    "                cdt[i] = 1 - cdt[i]\n",
    "                \n",
    "    else:\n",
    "        cnt = 1\n",
    "        cdt[num] = 1 - cdt[num]\n",
    "        while num - cnt >= 1 and num+cnt <= n:\n",
    "            if cdt[num-cnt] == cdt[num+cnt]:\n",
    "                cdt[num-cnt] = 1 - cdt[num-cnt]\n",
    "                cdt[num+cnt] = cdt[num-cnt]\n",
    "                \n",
    "                cnt += 1\n",
    "                \n",
    "            else:\n",
    "                break\n",
    "        \n",
    "\n",
    "\n",
    "n = int(input())\n",
    "cdt = [-1] + list(map(int, input().split()))\n",
    "s = int(input())\n",
    "\n",
    "for i in range(s):\n",
    "    a, b = map(int, input().split())\n",
    "    sol(a, b)\n",
    "    \n",
    "    \n",
    "del cdt[0]    \n",
    "for i in range(0, n, 20):\n",
    "    print(*cdt[i:i+20])"
   ]
  },
  {
   "cell_type": "markdown",
   "metadata": {},
   "source": [
    "https://www.acmicpc.net/problem/1966"
   ]
  },
  {
   "cell_type": "code",
   "execution_count": null,
   "metadata": {},
   "outputs": [],
   "source": [
    "# 백준 1966 프린터 큐\n",
    "\n",
    "from collections import deque\n",
    "\n",
    "t = int(input())\n",
    "\n",
    "\n",
    "for i in range(t):\n",
    "    n, m = map(int, input().split())\n",
    "    lst = list(map(int, input().split()))\n",
    "    idx = [0] * n\n",
    "    \n",
    "    lst = deque(lst)\n",
    "    idx = deque(idx)\n",
    "    idx[m] = 1\n",
    "    \n",
    "    count = 0\n",
    "    while True:\n",
    "        if lst[0] == max(lst):\n",
    "            count += 1\n",
    "            \n",
    "            if idx[0] == 1:\n",
    "                print(count)\n",
    "                break\n",
    "            \n",
    "            else:\n",
    "                \n",
    "                del lst[0]\n",
    "                del idx[0]\n",
    "            \n",
    "        else:\n",
    "            lst.append(lst.popleft())\n",
    "            idx.append(idx.popleft())\n"
   ]
  },
  {
   "cell_type": "markdown",
   "metadata": {},
   "source": [
    "https://www.acmicpc.net/problem/4307"
   ]
  },
  {
   "cell_type": "code",
   "execution_count": 31,
   "metadata": {},
   "outputs": [
    {
     "data": {
      "text/plain": [
       "'0AB'"
      ]
     },
     "execution_count": 31,
     "metadata": {},
     "output_type": "execute_result"
    }
   ],
   "source": [
    "# 백준 4307 개미\n",
    "\n",
    "t = int(input())\n",
    "for i in range(t):\n",
    "    l, n = map(int, input().split())\n",
    "    crd = []\n",
    "    for j in range(n):\n",
    "        crd.append(int(input()))\n",
    "        \n",
    "    "
   ]
  },
  {
   "cell_type": "code",
   "execution_count": null,
   "metadata": {},
   "outputs": [],
   "source": []
  }
 ],
 "metadata": {
  "kernelspec": {
   "display_name": "Python 3.7.5 64-bit ('Namlister': virtualenv)",
   "language": "python",
   "name": "python37564bitnamlistervirtualenv5d7bb17d3c984c36aee202a2f6a91336"
  },
  "language_info": {
   "codemirror_mode": {
    "name": "ipython",
    "version": 3
   },
   "file_extension": ".py",
   "mimetype": "text/x-python",
   "name": "python",
   "nbconvert_exporter": "python",
   "pygments_lexer": "ipython3",
   "version": "3.8.8"
  }
 },
 "nbformat": 4,
 "nbformat_minor": 2
}
