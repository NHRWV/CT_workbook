{
 "cells": [
  {
   "cell_type": "code",
   "execution_count": null,
   "metadata": {},
   "outputs": [],
   "source": [
    "# 백준 2484\n",
    "\n",
    "def sol(ls):\n",
    "    cnt = [0] * 7\n",
    "    for i in ls:\n",
    "        cnt[i] += 1\n",
    "        \n",
    "    if len(set(ls)) == 4:\n",
    "        prize = max(ls) * 100\n",
    "        \n",
    "    elif len(set(ls)) == 2:\n",
    "        if max(cnt) == 3:\n",
    "            prize = 10000 + cnt.index(3) * 1000\n",
    "            \n",
    "        else:\n",
    "            prize = 2000 + 500 * list(set(ls))[0] + 500 * list(set(ls))[1]\n",
    "            \n",
    "    elif len(set(ls)) == 3:\n",
    "        prize = 1000 + cnt.index(2) * 100\n",
    "        \n",
    "    elif len(set(ls)) == 1:\n",
    "        prize = 50000 + cnt.index(4) * 5000\n",
    "        \n",
    "    return prize\n",
    "        \n",
    "\n",
    "n = int(input())\n",
    "\n",
    "dice = []\n",
    "for i in range(n):\n",
    "    a = sol(list(map(int, input().split())))\n",
    "    dice.append(a)\n",
    "\n",
    "print(max(dice))"
   ]
  },
  {
   "cell_type": "code",
   "execution_count": null,
   "metadata": {},
   "outputs": [],
   "source": [
    "# 백준 5430\n",
    "\n",
    "from collections import deque\n",
    "\n",
    "def sol(func, lst):\n",
    "    \n",
    "    queue = deque(lst)\n",
    "    \n",
    "    if func == 'R':\n",
    "        queue = queue.reverse()\n",
    "        print(list(queue))\n",
    "        \n",
    "    elif func == 'D':\n",
    "        if len(queue) == 0:\n",
    "            return print(\"error\")\n",
    "        \n",
    "        queue = queue.popleft()\n",
    "            \n",
    "        print(list(queue))\n",
    "        \n",
    "    return queue\n",
    "\n",
    "\n",
    "t = int(input())\n",
    "p = input()\n",
    "n = int(input())\n",
    "arr = input()\n",
    "\n",
    "lst = []\n",
    "for i in range(1, len(arr)-1, 2):\n",
    "    lst.append(int(arr[i]))\n",
    "    \n",
    "order = list(p)\n",
    "for i in order:\n",
    "    lst = sol(i, queue)\n"
   ]
  },
  {
   "cell_type": "markdown",
   "metadata": {},
   "source": [
    "https://www.acmicpc.net/problem/8979"
   ]
  },
  {
   "cell_type": "code",
   "execution_count": null,
   "metadata": {},
   "outputs": [],
   "source": [
    "## 백준 8979 올림픽\n",
    "# 20점 코드..가만 생각해보니 공동 순위가 있으면 다음 순위는 공동 순위만큼 밀려야 한다.\n",
    "\n",
    "n, k = map(int, input().split())\n",
    "\n",
    "info = set()\n",
    "for i in range(n):\n",
    "    num, g, s, b = map(int, input().split())\n",
    "    \n",
    "    if num == k:\n",
    "        target = (g, s, b)\n",
    "    \n",
    "    info.add((g, s, b))\n",
    "    \n",
    "rank = list(info)\n",
    "rank = sorted(rank, key = lambda x : (-x[0], -x[1], -x[2]))\n",
    "\n",
    "print(rank.index(target) + 1)"
   ]
  },
  {
   "cell_type": "code",
   "execution_count": null,
   "metadata": {},
   "outputs": [],
   "source": [
    "# 다시\n",
    "\n",
    "n, k = map(int, input().split())\n",
    "\n",
    "info = []\n",
    "for i in range(n):\n",
    "    info.append(list(map(int, input().split())))\n",
    "    \n",
    "    \n",
    "info = sorted(info, key = lambda x : (-x[1], -x[2], -x[3]))\n",
    "\n",
    "for i in range(n):\n",
    "    if info[i][0] == k:\n",
    "        idx = i\n",
    "        \n",
    "for i in range(n):\n",
    "    if info[idx][1:] == info[i][1:]:\n",
    "        print(i + 1)\n",
    "        break"
   ]
  },
  {
   "cell_type": "markdown",
   "metadata": {},
   "source": [
    "https://www.acmicpc.net/problem/16675"
   ]
  },
  {
   "cell_type": "code",
   "execution_count": 11,
   "metadata": {},
   "outputs": [
    {
     "name": "stdout",
     "output_type": "stream",
     "text": [
      "R S P R\n",
      "?\n"
     ]
    }
   ],
   "source": [
    "# 백준 16675 두 개의 손\n",
    "\n",
    "ml, mr, tl, tr = map(str, input().upper().split())\n",
    "\n",
    "if ml != mr and tl != tr:\n",
    "    print('?')\n",
    "    \n",
    "\n",
    "elif ml == mr and tl != tr:\n",
    "    if ml == 'R' and (tl == 'P' or tr == 'P'):\n",
    "        print('TK')\n",
    "        \n",
    "    elif ml == 'S' and (tl == 'R' or tr == 'R'):\n",
    "        print('TK')\n",
    "        \n",
    "    elif ml == 'P' and (tl == 'S' or tr == 'S'):\n",
    "        print('TK')\n",
    "        \n",
    "    else:\n",
    "        print('?')\n",
    "\n",
    "\n",
    "elif ml != mr and tl == tr:\n",
    "    if tl == 'R' and (ml == 'P' or mr == 'P'):\n",
    "        print('MS')\n",
    "        \n",
    "    elif tl == 'S' and (ml == 'R' or mr == 'R'):\n",
    "        print('MS')\n",
    "        \n",
    "    elif tl == 'P' and (ml == 'S' or mr == 'S'):\n",
    "        print('MS')\n",
    "        \n",
    "    else:\n",
    "        print('?')\n",
    "\n",
    "\n",
    "else:\n",
    "    if ml == 'R':\n",
    "        if tl == 'P':\n",
    "            print('TK')\n",
    "        elif tl == 'S':\n",
    "            print('MS')\n",
    "        elif tl == 'R':\n",
    "            print('?')\n",
    "            \n",
    "    if ml == 'S':\n",
    "        if tl == 'P':\n",
    "            print('MS')\n",
    "        elif tl == 'S':\n",
    "            print('?')\n",
    "        elif tl == 'R':\n",
    "            print('TK')\n",
    "\n",
    "    if ml == 'P':\n",
    "        if tl == 'P':\n",
    "            print('?')\n",
    "        elif tl == 'S':\n",
    "            print('TK')\n",
    "        elif tl == 'R':\n",
    "            print('MS')"
   ]
  },
  {
   "cell_type": "markdown",
   "metadata": {},
   "source": [
    "https://www.acmicpc.net/problem/10813"
   ]
  },
  {
   "cell_type": "code",
   "execution_count": 17,
   "metadata": {},
   "outputs": [
    {
     "name": "stdout",
     "output_type": "stream",
     "text": [
      "5 4\n",
      "1 2\n",
      "3 4\n",
      "1 4\n",
      "2 2\n",
      "3 1 4 2 5\n"
     ]
    }
   ],
   "source": [
    "# 백준 10813 공 바꾸기\n",
    "\n",
    "n, m = map(int, input().split())\n",
    "\n",
    "basket = [i for i in range(1, n+1)]\n",
    "for i in range(m):\n",
    "    a, b = map(int, input().split())\n",
    "    basket[a-1], basket[b-1] = basket[b-1], basket[a-1]\n",
    "    \n",
    "    \n",
    "print(*basket)"
   ]
  },
  {
   "cell_type": "code",
   "execution_count": 12,
   "metadata": {},
   "outputs": [],
   "source": [
    "5 4\n",
    "1 2\n",
    "3 4\n",
    "1 4\n",
    "2 2"
   ]
  },
  {
   "cell_type": "code",
   "execution_count": 13,
   "metadata": {},
   "outputs": [
    {
     "data": {
      "text/plain": [
       "[1, 2, 3, 4, 5, 6]"
      ]
     },
     "execution_count": 13,
     "metadata": {},
     "output_type": "execute_result"
    }
   ],
   "source": [
    "basket"
   ]
  },
  {
   "cell_type": "code",
   "execution_count": null,
   "metadata": {},
   "outputs": [],
   "source": []
  }
 ],
 "metadata": {
  "kernelspec": {
   "display_name": "Python 3.7.5 64-bit ('Namlister': virtualenv)",
   "language": "python",
   "name": "python37564bitnamlistervirtualenv5d7bb17d3c984c36aee202a2f6a91336"
  },
  "language_info": {
   "codemirror_mode": {
    "name": "ipython",
    "version": 3
   },
   "file_extension": ".py",
   "mimetype": "text/x-python",
   "name": "python",
   "nbconvert_exporter": "python",
   "pygments_lexer": "ipython3",
   "version": "3.8.8"
  }
 },
 "nbformat": 4,
 "nbformat_minor": 2
}
