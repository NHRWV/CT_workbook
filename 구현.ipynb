{
 "cells": [
  {
   "cell_type": "code",
   "execution_count": 7,
   "metadata": {},
   "outputs": [
    {
     "name": "stdout",
     "output_type": "stream",
     "text": [
      "4\n",
      "3 3 3 3\n",
      "3 3 6 3\n",
      "2 2 6 6\n",
      "6 2 1 5\n",
      "65000\n"
     ]
    }
   ],
   "source": [
    "# 백준 2484\n",
    "\n",
    "def sol(ls):\n",
    "    cnt = [0] * 7\n",
    "    for i in ls:\n",
    "        cnt[i] += 1\n",
    "        \n",
    "    if len(set(ls)) == 4:\n",
    "        prize = max(ls) * 100\n",
    "        \n",
    "    elif len(set(ls)) == 2:\n",
    "        if max(cnt) == 3:\n",
    "            prize = 10000 + cnt.index(3) * 1000\n",
    "            \n",
    "        else:\n",
    "            prize = 2000 + 500 * list(set(ls))[0] + 500 * list(set(ls))[1]\n",
    "            \n",
    "    elif len(set(ls)) == 3:\n",
    "        prize = 1000 + cnt.index(2) * 100\n",
    "        \n",
    "    elif len(set(ls)) == 1:\n",
    "        prize = 50000 + cnt.index(4) * 5000\n",
    "        \n",
    "    return prize\n",
    "        \n",
    "\n",
    "n = int(input())\n",
    "\n",
    "dice = []\n",
    "for i in range(n):\n",
    "    a = sol(list(map(int, input().split())))\n",
    "    dice.append(a)\n",
    "\n",
    "print(max(dice))"
   ]
  },
  {
   "cell_type": "code",
   "execution_count": 95,
   "metadata": {},
   "outputs": [
    {
     "name": "stdout",
     "output_type": "stream",
     "text": [
      "4\n",
      "RDD\n",
      "4\n",
      "[1,2,3,4]\n"
     ]
    },
    {
     "ename": "TypeError",
     "evalue": "'NoneType' object is not iterable",
     "output_type": "error",
     "traceback": [
      "\u001b[1;31m---------------------------------------------------------------------------\u001b[0m",
      "\u001b[1;31mTypeError\u001b[0m                                 Traceback (most recent call last)",
      "\u001b[1;32m<ipython-input-95-0c49e96be228>\u001b[0m in \u001b[0;36m<module>\u001b[1;34m\u001b[0m\n\u001b[0;32m     33\u001b[0m \u001b[0morder\u001b[0m \u001b[1;33m=\u001b[0m \u001b[0mlist\u001b[0m\u001b[1;33m(\u001b[0m\u001b[0mp\u001b[0m\u001b[1;33m)\u001b[0m\u001b[1;33m\u001b[0m\u001b[1;33m\u001b[0m\u001b[0m\n\u001b[0;32m     34\u001b[0m \u001b[1;32mfor\u001b[0m \u001b[0mi\u001b[0m \u001b[1;32min\u001b[0m \u001b[0morder\u001b[0m\u001b[1;33m:\u001b[0m\u001b[1;33m\u001b[0m\u001b[1;33m\u001b[0m\u001b[0m\n\u001b[1;32m---> 35\u001b[1;33m     \u001b[0mlst\u001b[0m \u001b[1;33m=\u001b[0m \u001b[0msol\u001b[0m\u001b[1;33m(\u001b[0m\u001b[0mi\u001b[0m\u001b[1;33m,\u001b[0m \u001b[0mqueue\u001b[0m\u001b[1;33m)\u001b[0m\u001b[1;33m\u001b[0m\u001b[1;33m\u001b[0m\u001b[0m\n\u001b[0m",
      "\u001b[1;32m<ipython-input-95-0c49e96be228>\u001b[0m in \u001b[0;36msol\u001b[1;34m(func, lst)\u001b[0m\n\u001b[0;32m      9\u001b[0m     \u001b[1;32mif\u001b[0m \u001b[0mfunc\u001b[0m \u001b[1;33m==\u001b[0m \u001b[1;34m'R'\u001b[0m\u001b[1;33m:\u001b[0m\u001b[1;33m\u001b[0m\u001b[1;33m\u001b[0m\u001b[0m\n\u001b[0;32m     10\u001b[0m         \u001b[0mqueue\u001b[0m \u001b[1;33m=\u001b[0m \u001b[0mqueue\u001b[0m\u001b[1;33m.\u001b[0m\u001b[0mreverse\u001b[0m\u001b[1;33m(\u001b[0m\u001b[1;33m)\u001b[0m\u001b[1;33m\u001b[0m\u001b[1;33m\u001b[0m\u001b[0m\n\u001b[1;32m---> 11\u001b[1;33m         \u001b[0mprint\u001b[0m\u001b[1;33m(\u001b[0m\u001b[0mlist\u001b[0m\u001b[1;33m(\u001b[0m\u001b[0mqueue\u001b[0m\u001b[1;33m)\u001b[0m\u001b[1;33m)\u001b[0m\u001b[1;33m\u001b[0m\u001b[1;33m\u001b[0m\u001b[0m\n\u001b[0m\u001b[0;32m     12\u001b[0m \u001b[1;33m\u001b[0m\u001b[0m\n\u001b[0;32m     13\u001b[0m     \u001b[1;32melif\u001b[0m \u001b[0mfunc\u001b[0m \u001b[1;33m==\u001b[0m \u001b[1;34m'D'\u001b[0m\u001b[1;33m:\u001b[0m\u001b[1;33m\u001b[0m\u001b[1;33m\u001b[0m\u001b[0m\n",
      "\u001b[1;31mTypeError\u001b[0m: 'NoneType' object is not iterable"
     ]
    }
   ],
   "source": [
    "# 백준 5430\n",
    "\n",
    "from collections import deque\n",
    "\n",
    "def sol(func, lst):\n",
    "    \n",
    "    queue = deque(lst)\n",
    "    \n",
    "    if func == 'R':\n",
    "        queue = queue.reverse()\n",
    "        print(list(queue))\n",
    "        \n",
    "    elif func == 'D':\n",
    "        if len(queue) == 0:\n",
    "            return print(\"error\")\n",
    "        \n",
    "        queue = queue.popleft()\n",
    "            \n",
    "        print(list(queue))\n",
    "        \n",
    "    return queue\n",
    "\n",
    "\n",
    "t = int(input())\n",
    "p = input()\n",
    "n = int(input())\n",
    "arr = input()\n",
    "\n",
    "lst = []\n",
    "for i in range(1, len(arr)-1, 2):\n",
    "    lst.append(int(arr[i]))\n",
    "    \n",
    "order = list(p)\n",
    "for i in order:\n",
    "    lst = sol(i, queue)\n"
   ]
  },
  {
   "cell_type": "markdown",
   "metadata": {},
   "source": [
    "https://www.acmicpc.net/problem/8979"
   ]
  },
  {
   "cell_type": "code",
   "execution_count": 10,
   "metadata": {},
   "outputs": [
    {
     "name": "stdout",
     "output_type": "stream",
     "text": [
      "4 2\n",
      "1 3 0 0\n",
      "3 0 0 2\n",
      "4 0 2 0\n",
      "2 0 2 0\n",
      "2\n"
     ]
    }
   ],
   "source": [
    "## 백준 8979 올림픽\n",
    "# 20점 코드..가만 생각해보니 공동 순위가 있으면 다음 순위는 공동 순위만큼 밀려야 한다.\n",
    "\n",
    "n, k = map(int, input().split())\n",
    "\n",
    "info = set()\n",
    "for i in range(n):\n",
    "    num, g, s, b = map(int, input().split())\n",
    "    \n",
    "    if num == k:\n",
    "        target = (g, s, b)\n",
    "    \n",
    "    info.add((g, s, b))\n",
    "    \n",
    "rank = list(info)\n",
    "rank = sorted(rank, key = lambda x : (-x[0], -x[1], -x[2]))\n",
    "\n",
    "print(rank.index(target) + 1)"
   ]
  },
  {
   "cell_type": "code",
   "execution_count": null,
   "metadata": {},
   "outputs": [],
   "source": [
    "# 다시\n",
    "\n",
    "n, k = map(int, input().split())\n",
    "\n",
    "info = []\n",
    "for i in range(n):\n",
    "    info.append(list(map(int, input().split())))\n",
    "    \n",
    "    \n",
    "info = sorted(info, key = lambda x : (-x[1], -x[2], -x[3]))\n",
    "\n",
    "for i in range(n):\n",
    "    if info[i][0] == k:\n",
    "        idx = i\n",
    "        \n",
    "for i in range(n):\n",
    "    if info[idx][1:] == info[i][1:]:\n",
    "        print(i + 1)\n",
    "        break"
   ]
  },
  {
   "cell_type": "code",
   "execution_count": 67,
   "metadata": {},
   "outputs": [
    {
     "data": {
      "text/plain": [
       "'[1,2,3,4]'"
      ]
     },
     "execution_count": 67,
     "metadata": {},
     "output_type": "execute_result"
    }
   ],
   "source": [
    "4 3\n",
    "1 1 2 0\n",
    "2 0 1 0\n",
    "3 0 1 0\n",
    "4 0 0 1\n",
    "\n",
    "4 2\n",
    "1 3 0 0\n",
    "3 0 0 2\n",
    "4 0 2 0\n",
    "2 0 2 0"
   ]
  },
  {
   "cell_type": "code",
   "execution_count": 11,
   "metadata": {},
   "outputs": [
    {
     "data": {
      "text/plain": [
       "[(3, 0, 0), (0, 2, 0), (0, 0, 2)]"
      ]
     },
     "execution_count": 11,
     "metadata": {},
     "output_type": "execute_result"
    }
   ],
   "source": [
    "rank"
   ]
  },
  {
   "cell_type": "code",
   "execution_count": 89,
   "metadata": {},
   "outputs": [],
   "source": [
    "b = deque(a)"
   ]
  },
  {
   "cell_type": "code",
   "execution_count": null,
   "metadata": {},
   "outputs": [],
   "source": []
  }
 ],
 "metadata": {
  "kernelspec": {
   "display_name": "Python 3.7.5 64-bit ('Namlister': virtualenv)",
   "language": "python",
   "name": "python37564bitnamlistervirtualenv5d7bb17d3c984c36aee202a2f6a91336"
  },
  "language_info": {
   "codemirror_mode": {
    "name": "ipython",
    "version": 3
   },
   "file_extension": ".py",
   "mimetype": "text/x-python",
   "name": "python",
   "nbconvert_exporter": "python",
   "pygments_lexer": "ipython3",
   "version": "3.8.8"
  }
 },
 "nbformat": 4,
 "nbformat_minor": 2
}
