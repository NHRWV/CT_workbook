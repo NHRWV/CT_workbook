{
 "cells": [
  {
   "cell_type": "markdown",
   "id": "4c2ec1ae",
   "metadata": {},
   "source": [
    "https://www.acmicpc.net/problem/16287"
   ]
  },
  {
   "cell_type": "code",
   "execution_count": null,
   "id": "998ad5c8",
   "metadata": {},
   "outputs": [],
   "source": [
    "# parcel\n",
    "\n",
    "import sys\n",
    "\n",
    "w, n = map(int, input().split())\n",
    "seq = list(map(int, input().split()))\n",
    "\n",
    "dp = [0] * (w+1)\n",
    "\n",
    "for i in range(n):\n",
    "    for j in range(i+1, n):\n",
    "        if seq[i] + seq[j] > w:\n",
    "            continue\n",
    "        \n",
    "        if dp[w - seq[i] - seq[j]]:\n",
    "            print('YES')\n",
    "            sys.exit()\n",
    "            \n",
    "    for j in range(i):        \n",
    "        if seq[i] + seq[j] < w:\n",
    "            dp[seq[i] + seq[j]] = 1\n",
    "            \n",
    "print('NO')"
   ]
  },
  {
   "cell_type": "markdown",
   "id": "cfeeec17",
   "metadata": {},
   "source": [
    "https://www.acmicpc.net/problem/18186"
   ]
  },
  {
   "cell_type": "code",
   "execution_count": null,
   "id": "47d11b37",
   "metadata": {},
   "outputs": [],
   "source": [
    "# 라면 사기(Large)\n",
    "# 첫 도전 실패\n",
    "\n",
    "n, b, c = map(int, input().split())\n",
    "seq = list(map(int, input().split()))\n",
    "\n",
    "if b <= c:\n",
    "    print(sum(seq) * b)\n",
    "    \n",
    "else:\n",
    "    answer = 0\n",
    "    \n",
    "    for i in range(n):\n",
    "        if seq[i] > 0:\n",
    "            count = 0\n",
    "            j = 1\n",
    "            while j < 3 and i + j < n:\n",
    "                if seq[i] > seq[i + j]:\n",
    "                    break\n",
    "                    \n",
    "                count += 1\n",
    "                j += 1\n",
    "                \n",
    "            for k in range(1, count+1):    \n",
    "                seq[i + k] -= seq[i]\n",
    "                \n",
    "            answer += seq[i] * (b + count * c)\n",
    "            \n",
    "            seq[i] = 0\n",
    "            \n",
    "    print(answer)\n",
    "            "
   ]
  },
  {
   "cell_type": "code",
   "execution_count": null,
   "id": "b9e94eed",
   "metadata": {},
   "outputs": [],
   "source": [
    "n, b, c = map(int, input().split())\n",
    "seq = list(map(int, input().split())) + [0] * 5\n",
    "\n",
    "if b <= c:\n",
    "    print(sum(seq) * b)\n",
    "    \n",
    "else:\n",
    "    answer = 0\n",
    "    \n",
    "    for i in range(n):\n",
    "        if seq[i+1] > seq[i+2]:\n",
    "            value = min(seq[i], seq[i+1] - seq[i+2])\n",
    "            \n",
    "            seq[i] -= value\n",
    "            seq[i+1] -= value\n",
    "            answer += value * (b + c)\n",
    "            \n",
    "            value = min(seq[i], seq[i+1], seq[i+2])\n",
    "            \n",
    "            seq[i] -= value\n",
    "            seq[i+1] -= value\n",
    "            seq[i+2] -= value\n",
    "            answer += value * (b + 2 * c)\n",
    "            \n",
    "        else:\n",
    "            value = min(seq[i], seq[i+1], seq[i+2])\n",
    "            \n",
    "            seq[i] -= value\n",
    "            seq[i+1] -= value\n",
    "            seq[i+2] -= value\n",
    "            answer += value * (b + 2 * c)\n",
    "            \n",
    "            value = min(seq[i], seq[i+1])\n",
    "            \n",
    "            seq[i] -= value\n",
    "            seq[i+1] -= value\n",
    "            answer += value * (b + c)\n",
    "            \n",
    "        answer += b * seq[i]\n",
    "        seq[i] = 0\n",
    "        \n",
    "    print(answer)\n",
    "            "
   ]
  },
  {
   "cell_type": "markdown",
   "id": "94202481",
   "metadata": {},
   "source": [
    "https://www.acmicpc.net/problem/18185"
   ]
  },
  {
   "cell_type": "code",
   "execution_count": null,
   "id": "6db04096",
   "metadata": {},
   "outputs": [],
   "source": [
    "# 라면 사기 (Small)\n",
    "\n",
    "n = int(input())\n",
    "seq = list(map(int, input().split())) + [0] * 2\n",
    "\n",
    "\n",
    "answer = 0\n",
    "b = 3\n",
    "c = 2\n",
    "    \n",
    "for i in range(n):\n",
    "    if seq[i+1] > seq[i+2]:\n",
    "        value = min(seq[i], seq[i+1] - seq[i+2])\n",
    "            \n",
    "        seq[i] -= value\n",
    "        seq[i+1] -= value\n",
    "        answer += value * (b + c)\n",
    "            \n",
    "        value = min(seq[i], seq[i+1], seq[i+2])\n",
    "            \n",
    "        seq[i] -= value\n",
    "        seq[i+1] -= value\n",
    "        seq[i+2] -= value\n",
    "        answer += value * (b + 2 * c)\n",
    "            \n",
    "    else:\n",
    "        value = min(seq[i], seq[i+1], seq[i+2])\n",
    "            \n",
    "        seq[i] -= value\n",
    "        seq[i+1] -= value\n",
    "        seq[i+2] -= value\n",
    "        answer += value * (b + 2 * c)\n",
    "            \n",
    "        value = min(seq[i], seq[i+1])\n",
    "            \n",
    "        seq[i] -= value\n",
    "        seq[i+1] -= value\n",
    "        answer += value * (b + c)\n",
    "            \n",
    "    answer += b * seq[i]\n",
    "    seq[i] = 0\n",
    "        \n",
    "print(answer)"
   ]
  },
  {
   "cell_type": "markdown",
   "id": "ee87b53c",
   "metadata": {},
   "source": [
    "https://www.acmicpc.net/problem/5545"
   ]
  },
  {
   "cell_type": "code",
   "execution_count": null,
   "id": "4444dae5",
   "metadata": {},
   "outputs": [],
   "source": [
    "# 최고의 피자\n",
    "\n",
    "n = int(input())\n",
    "a, b = map(int, input().split())\n",
    "c = int(input())\n",
    "d = []\n",
    "\n",
    "for i in range(n):\n",
    "    d.append(int(input()))\n",
    "    \n",
    "d.sort(reverse = True)\n",
    "answer = c / a\n",
    "\n",
    "for i in range(1, n+1):\n",
    "    value = c + sum(d[:i])\n",
    "    price = a + b * i\n",
    "    \n",
    "    if answer < value / price:\n",
    "        answer = value / price\n",
    "        \n",
    "    else:\n",
    "        break\n",
    "        \n",
    "print(int(answer))"
   ]
  },
  {
   "cell_type": "markdown",
   "id": "8841f710",
   "metadata": {},
   "source": [
    "https://www.acmicpc.net/problem/1379"
   ]
  },
  {
   "cell_type": "code",
   "execution_count": null,
   "id": "3be81df5",
   "metadata": {},
   "outputs": [],
   "source": [
    "# 강의실 2\n",
    "\n",
    "import heapq\n",
    "\n",
    "\n",
    "n = int(input())\n",
    "\n",
    "lst = []\n",
    "for i in range(n):\n",
    "    num, s, e = map(int, input().split())\n",
    "    lst.append((s, e, num))\n",
    "    \n",
    "lst.sort()\n",
    "\n",
    "heap = []\n",
    "heapq.heappush(heap, (lst[0][1], 1)) # 두 번째 요소에 강의실 번호 저장\n",
    "\n",
    "num = [0] * n\n",
    "num[lst[0][2]-1] = 1\n",
    "\n",
    "for i in range(1, n):\n",
    "    if heap[0][0] > lst[i][0]:\n",
    "        heapq.heappush(heap, (lst[i][1], len(heap) + 1))\n",
    "        num[lst[i][2]-1] = len(heap)\n",
    "        \n",
    "    else:\n",
    "        num[lst[i][2]-1] = heap[0][1]\n",
    "        heapq.heappop(heap)\n",
    "        heapq.heappush(heap, (lst[i][1], num[lst[i][2]-1]))\n",
    "        \n",
    "        \n",
    "print(len(heap))\n",
    "for i in num:\n",
    "    print(i)"
   ]
  },
  {
   "cell_type": "markdown",
   "id": "5bad23e0",
   "metadata": {},
   "source": [
    "https://www.acmicpc.net/contest/problem/755/2"
   ]
  },
  {
   "cell_type": "code",
   "execution_count": null,
   "id": "7578c5f7",
   "metadata": {},
   "outputs": [],
   "source": [
    "# 2번 - 가희와 탑\n",
    "\n",
    "n, a, b = map(int, input().split())\n",
    "\n",
    "def sol(n, a, b):\n",
    "    if a + b > n + 1:\n",
    "        return [-1]\n",
    "    \n",
    "    if a > b:\n",
    "        lstb = list(range(b-1, 0, -1))\n",
    "        lsta = [1] * (n - (b-1) - a) + list(range(1, a+1))\n",
    "    \n",
    "    else:\n",
    "        if a == 1:\n",
    "            lsta = [b]\n",
    "            lstb = [1] * (n - (b-1) - 1) + list(range(b-1, 0, -1))\n",
    "        \n",
    "        else:\n",
    "            lstb = list(range(b, 0, -1))\n",
    "            lsta = [1] * (n - b - (a-1)) + list(range(1, a))\n",
    "    \n",
    "    lst = lsta + lstb\n",
    "    return lst\n",
    "    \n",
    "    \n",
    "print(*sol(n, a, b))\n",
    "    "
   ]
  },
  {
   "cell_type": "markdown",
   "id": "1e01d314",
   "metadata": {},
   "source": [
    "https://www.acmicpc.net/problem/23974"
   ]
  },
  {
   "cell_type": "code",
   "execution_count": null,
   "id": "d28f1945",
   "metadata": {},
   "outputs": [],
   "source": [
    "# 짝수 게임\n",
    "\n",
    "n, k = map(int, input().split())\n",
    "\n",
    "if not n % 2:\n",
    "    if k % 6 == 1:\n",
    "        print('HS')\n",
    "    else:\n",
    "        print('YG')\n",
    "        \n",
    "else:\n",
    "    if k % 6 == 5 or not k % 6:\n",
    "        print('HS')\n",
    "    else:\n",
    "        print('YG')\n"
   ]
  },
  {
   "cell_type": "markdown",
   "id": "e753bd1c",
   "metadata": {},
   "source": [
    "https://www.acmicpc.net/problem/1946"
   ]
  },
  {
   "cell_type": "code",
   "execution_count": null,
   "id": "516859cf",
   "metadata": {
    "scrolled": true
   },
   "outputs": [],
   "source": [
    "# 신입 사원\n",
    "\n",
    "\n",
    "t = int(input())\n",
    "for _ in range(t):\n",
    "    n = int(input())\n",
    "    \n",
    "    lst = []\n",
    "    for i in range(n):\n",
    "        a, b = map(int, input().split())\n",
    "        lst.append((a, b))\n",
    "        \n",
    "        \n",
    "    lst.sort(key = lambda x : (x[0], x[1]))\n",
    "    \n",
    "    idx = lst[0][1]\n",
    "    count = n\n",
    "    \n",
    "    for i in range(1, n):\n",
    "        if lst[i][1] > idx:\n",
    "            count -= 1\n",
    "            \n",
    "        elif lst[i][1] < idx:\n",
    "            idx = lst[i][1]\n",
    "            \n",
    "            \n",
    "    print(count)\n",
    "  "
   ]
  },
  {
   "cell_type": "code",
   "execution_count": null,
   "id": "50912348",
   "metadata": {
    "scrolled": true
   },
   "outputs": [],
   "source": [
    "2\n",
    "5\n",
    "3 2\n",
    "1 4\n",
    "4 1\n",
    "2 3\n",
    "5 5\n",
    "7\n",
    "3 6\n",
    "7 3\n",
    "4 2\n",
    "1 4\n",
    "5 7\n",
    "2 5\n",
    "6 1"
   ]
  },
  {
   "cell_type": "code",
   "execution_count": 2,
   "id": "c309af76",
   "metadata": {},
   "outputs": [
    {
     "data": {
      "text/plain": [
       "[(7, 3), (6, 1), (5, 7), (4, 2), (3, 6), (2, 5), (1, 4)]"
      ]
     },
     "execution_count": 2,
     "metadata": {},
     "output_type": "execute_result"
    }
   ],
   "source": [
    "lst"
   ]
  },
  {
   "cell_type": "code",
   "execution_count": null,
   "id": "ef88fc9b",
   "metadata": {},
   "outputs": [],
   "source": []
  }
 ],
 "metadata": {
  "kernelspec": {
   "display_name": "Python 3",
   "language": "python",
   "name": "python3"
  },
  "language_info": {
   "codemirror_mode": {
    "name": "ipython",
    "version": 3
   },
   "file_extension": ".py",
   "mimetype": "text/x-python",
   "name": "python",
   "nbconvert_exporter": "python",
   "pygments_lexer": "ipython3",
   "version": "3.8.8"
  }
 },
 "nbformat": 4,
 "nbformat_minor": 5
}
