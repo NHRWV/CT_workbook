{
 "cells": [
  {
   "cell_type": "code",
   "execution_count": null,
   "id": "80e98664",
   "metadata": {},
   "outputs": [],
   "source": [
    "n = int(input())\n",
    "\n",
    "lst = set()\n",
    "for i in range(n):\n",
    "    lst.add(input())\n",
    "    \n",
    "lst = list(lst)\n",
    "lst.sort()\n",
    "\n",
    "lst = sorted(lst, key = lambda x : (len(x)))"
   ]
  },
  {
   "cell_type": "code",
   "execution_count": null,
   "id": "ad917cb1",
   "metadata": {},
   "outputs": [],
   "source": [
    "while True:\n",
    "    word = input()\n",
    "    if word == '0':\n",
    "        break\n",
    "        \n",
    "    if word == word[::-1]:\n",
    "        print('yes')\n",
    "    else:\n",
    "        print('no')\n",
    "        \n",
    " "
   ]
  },
  {
   "cell_type": "code",
   "execution_count": null,
   "id": "53da4a4f",
   "metadata": {},
   "outputs": [],
   "source": [
    "n = int(input())\n",
    "\n",
    "def sol(n):\n",
    "    count = 0\n",
    "    num = 666\n",
    "    \n",
    "    while True:\n",
    "        if '666' in str(num):\n",
    "            count += 1\n",
    "            \n",
    "        if count == n:\n",
    "            print(num)\n",
    "            break\n",
    "            \n",
    "        num += 1\n",
    "        \n",
    "sol(n)"
   ]
  },
  {
   "cell_type": "code",
   "execution_count": null,
   "id": "1bd70412",
   "metadata": {},
   "outputs": [],
   "source": [
    "k, n = map(int, input().split())\n",
    "\n",
    "lst = []\n",
    "for i in range(k):\n",
    "    lst.append(int(input()))\n",
    "    \n",
    "    \n",
    "start = 0\n",
    "end = max(lst)\n",
    "answer = 0\n",
    "\n",
    "while start <= end:\n",
    "    mid = (start + end) // 2\n",
    "    temp = 0\n",
    "    \n",
    "    for i in lst:\n",
    "        if mid > 0:\n",
    "            temp += i // mid\n",
    "            \n",
    "    if temp >= n:\n",
    "        start = mid + 1\n",
    "        answer = mid\n",
    "    else:\n",
    "        end = mid - 1\n",
    "            \n",
    "print(answer)"
   ]
  },
  {
   "cell_type": "code",
   "execution_count": null,
   "id": "3359f4aa",
   "metadata": {},
   "outputs": [],
   "source": [
    "n = int(input())\n",
    "a = set(map(int, input().split()))\n",
    "m = int(input())\n",
    "b = list(map(int, input().split()))\n",
    "\n",
    "for i in b:\n",
    "    if i in a:\n",
    "        print(1)\n",
    "    else:\n",
    "        print(0)"
   ]
  },
  {
   "cell_type": "code",
   "execution_count": 19,
   "id": "d64b44c2",
   "metadata": {},
   "outputs": [
    {
     "data": {
      "text/plain": [
       "'1'"
      ]
     },
     "execution_count": 19,
     "metadata": {},
     "output_type": "execute_result"
    }
   ],
   "source": [
    "from collections import deque\n",
    "\n",
    "t = int(input())\n",
    "for _ in range(t):\n",
    "    n, m = map(int, input().split())\n",
    "    \n",
    "    "
   ]
  },
  {
   "cell_type": "code",
   "execution_count": 32,
   "id": "5aefbed8",
   "metadata": {},
   "outputs": [
    {
     "name": "stdout",
     "output_type": "stream",
     "text": [
      "2\n",
      "1666\n"
     ]
    }
   ],
   "source": [
    "n = int(input())\n",
    "\n",
    "count = 0\n",
    "num = 666\n",
    "    \n",
    "while True:\n",
    "    if '666' in str(num):\n",
    "        count += 1\n",
    "            \n",
    "    if count == n:\n",
    "        print(num)\n",
    "        break\n",
    "            \n",
    "    num += 1"
   ]
  },
  {
   "cell_type": "code",
   "execution_count": 30,
   "id": "cce45c99",
   "metadata": {},
   "outputs": [
    {
     "data": {
      "text/plain": [
       "1"
      ]
     },
     "execution_count": 30,
     "metadata": {},
     "output_type": "execute_result"
    }
   ],
   "source": [
    "count"
   ]
  },
  {
   "cell_type": "code",
   "execution_count": 31,
   "id": "5cdd65c2",
   "metadata": {},
   "outputs": [
    {
     "data": {
      "text/plain": [
       "2748565"
      ]
     },
     "execution_count": 31,
     "metadata": {},
     "output_type": "execute_result"
    }
   ],
   "source": [
    "num"
   ]
  },
  {
   "cell_type": "code",
   "execution_count": null,
   "id": "81734a6a",
   "metadata": {},
   "outputs": [],
   "source": []
  }
 ],
 "metadata": {
  "kernelspec": {
   "display_name": "Python 3",
   "language": "python",
   "name": "python3"
  },
  "language_info": {
   "codemirror_mode": {
    "name": "ipython",
    "version": 3
   },
   "file_extension": ".py",
   "mimetype": "text/x-python",
   "name": "python",
   "nbconvert_exporter": "python",
   "pygments_lexer": "ipython3",
   "version": "3.8.8"
  }
 },
 "nbformat": 4,
 "nbformat_minor": 5
}
