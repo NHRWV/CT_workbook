{
 "cells": [
  {
   "cell_type": "code",
   "execution_count": null,
   "id": "80e98664",
   "metadata": {},
   "outputs": [],
   "source": [
    "n = int(input())\n",
    "\n",
    "lst = set()\n",
    "for i in range(n):\n",
    "    lst.add(input())\n",
    "    \n",
    "lst = list(lst)\n",
    "lst.sort()\n",
    "\n",
    "lst = sorted(lst, key = lambda x : (len(x)))"
   ]
  },
  {
   "cell_type": "code",
   "execution_count": null,
   "id": "ad917cb1",
   "metadata": {},
   "outputs": [],
   "source": [
    "while True:\n",
    "    word = input()\n",
    "    if word == '0':\n",
    "        break\n",
    "        \n",
    "    if word == word[::-1]:\n",
    "        print('yes')\n",
    "    else:\n",
    "        print('no')\n",
    "        \n",
    " "
   ]
  },
  {
   "cell_type": "code",
   "execution_count": null,
   "id": "53da4a4f",
   "metadata": {},
   "outputs": [],
   "source": [
    "n = int(input())\n",
    "\n",
    "def sol(n):\n",
    "    count = 0\n",
    "    num = 666\n",
    "    \n",
    "    while True:\n",
    "        if '666' in str(num):\n",
    "            count += 1\n",
    "            \n",
    "        if count == n:\n",
    "            print(num)\n",
    "            break\n",
    "            \n",
    "        num += 1\n",
    "        \n",
    "sol(n)"
   ]
  },
  {
   "cell_type": "code",
   "execution_count": null,
   "id": "1bd70412",
   "metadata": {},
   "outputs": [],
   "source": [
    "k, n = map(int, input().split())\n",
    "\n",
    "lst = []\n",
    "for i in range(k):\n",
    "    lst.append(int(input()))\n",
    "    \n",
    "    \n",
    "start = 0\n",
    "end = max(lst)\n",
    "answer = 0\n",
    "\n",
    "while start <= end:\n",
    "    mid = (start + end) // 2\n",
    "    temp = 0\n",
    "    \n",
    "    for i in lst:\n",
    "        if mid > 0:\n",
    "            temp += i // mid\n",
    "            \n",
    "    if temp >= n:\n",
    "        start = mid + 1\n",
    "        answer = mid\n",
    "    else:\n",
    "        end = mid - 1\n",
    "            \n",
    "print(answer)"
   ]
  },
  {
   "cell_type": "code",
   "execution_count": null,
   "id": "3359f4aa",
   "metadata": {},
   "outputs": [],
   "source": [
    "n = int(input())\n",
    "a = set(map(int, input().split()))\n",
    "m = int(input())\n",
    "b = list(map(int, input().split()))\n",
    "\n",
    "for i in b:\n",
    "    if i in a:\n",
    "        print(1)\n",
    "    else:\n",
    "        print(0)"
   ]
  },
  {
   "cell_type": "code",
   "execution_count": null,
   "id": "d64b44c2",
   "metadata": {},
   "outputs": [],
   "source": [
    "from collections import deque\n",
    "\n",
    "t = int(input())\n",
    "for _ in range(t):\n",
    "    n, m = map(int, input().split())\n",
    "    \n",
    "    "
   ]
  },
  {
   "cell_type": "code",
   "execution_count": null,
   "id": "5aefbed8",
   "metadata": {},
   "outputs": [],
   "source": [
    "n = int(input())\n",
    "\n",
    "count = 0\n",
    "num = 666\n",
    "    \n",
    "while True:\n",
    "    if '666' in str(num):\n",
    "        count += 1\n",
    "            \n",
    "    if count == n:\n",
    "        print(num)\n",
    "        break\n",
    "            \n",
    "    num += 1"
   ]
  },
  {
   "cell_type": "code",
   "execution_count": null,
   "id": "1c249fc1",
   "metadata": {},
   "outputs": [],
   "source": [
    "from collections import deque\n",
    "\n",
    "n, k = map(int, input().split())\n",
    "s = list(input())\n",
    "\n",
    "stack = deque()\n",
    "count = 0\n",
    "for i in range(n):\n",
    "    while stack and count < k and stack[-1] < s[i]:\n",
    "        count += 1\n",
    "        stack.pop()\n",
    "        \n",
    "    stack.append(s[i])\n",
    "    \n",
    "    \n",
    "print(\"\".join(stack)[:n-k])"
   ]
  },
  {
   "cell_type": "code",
   "execution_count": null,
   "id": "05796cc5",
   "metadata": {},
   "outputs": [],
   "source": [
    "pay = int(input())\n",
    "\n",
    "lst = [500, 100, 50, 10, 5, 1]\n",
    "\n",
    "value = 1000 - pay\n",
    "count = 0\n",
    "while value > 0:\n",
    "    count += value // lst[0]\n",
    "    value %= lst[0]\n",
    "    lst.pop(0)\n",
    "    \n",
    "print(count)"
   ]
  },
  {
   "cell_type": "code",
   "execution_count": null,
   "id": "5e75a3de",
   "metadata": {},
   "outputs": [],
   "source": [
    "n = int(input())\n",
    "\n",
    "dp = [-1] * 5001\n",
    "dp[3] = 1\n",
    "dp[5] = 1\n",
    "for i in range(4, n+1):\n",
    "    if not i % 3:\n",
    "        dp[i] = min(dp[i], dp[i//3] + 1)\n",
    "        \n",
    "    if not i % 5:\n",
    "        dp[i] = min(dp[i], dp[i//5] + 1)\n",
    "        \n",
    "        \n",
    "print(dp[n])"
   ]
  },
  {
   "cell_type": "code",
   "execution_count": null,
   "id": "8cf18ebe",
   "metadata": {},
   "outputs": [],
   "source": [
    "n = int(input())\n",
    "\n",
    "dist = list(map(int, input().split()))\n",
    "price = list(map(int, input().split()))\n",
    "\n",
    "answer = 0\n",
    "std = price[0]\n",
    "for i in range(n-1):\n",
    "    if std > price[i]:\n",
    "        std = price[i]\n",
    "    answer += std * dist[i]\n",
    "    \n",
    "    \n",
    "print(answer)\n",
    "    "
   ]
  },
  {
   "cell_type": "code",
   "execution_count": null,
   "id": "d8b71c7a",
   "metadata": {},
   "outputs": [],
   "source": [
    "n, m = map(int, input().split())\n",
    "crd = list(map(int, input().split()))\n",
    "\n",
    "pos = []\n",
    "neg = []\n",
    "maxi = 0\n",
    "for i in range(n):\n",
    "    if crd[i] > 0:\n",
    "        pos.append(crd[i])\n",
    "    elif crd[i] < 0:\n",
    "        neg.append(crd[i])\n",
    "        \n",
    "    maxi = max(maxi, abs(crd[i]))\n",
    "    \n",
    "neg.sort()\n",
    "pos.sort(reverse = True)\n",
    "    \n",
    "lst = []\n",
    "for i in range(0, len(pos), m):\n",
    "    if pos[i] != maxi:\n",
    "        lst.append(pos[i])\n",
    "for i in range(0, len(neg), m):\n",
    "    if abs(neg[i]) != maxi:\n",
    "        lst.append(neg[i])\n",
    "        \n",
    "answer = maxi\n",
    "for i in lst:\n",
    "    answer += abs(2 * i)\n",
    "    \n",
    "print(answer)\n",
    "    \n",
    "        \n"
   ]
  },
  {
   "cell_type": "code",
   "execution_count": null,
   "id": "8ebf8986",
   "metadata": {},
   "outputs": [],
   "source": [
    "import sys\n",
    "\n",
    "n = int(input())\n",
    "crane = list(map(int, input().split()))\n",
    "m = int(input())\n",
    "box = list(map(int, input().split()))\n",
    "\n",
    "crane.sort(reverse = True)\n",
    "box.sort(reverse = True)\n",
    "\n",
    "if crane[0] < box[0]:\n",
    "    print(-1)\n",
    "    sys.exit()\n",
    "    \n",
    "time = 0\n",
    "while m > 0:\n",
    "    for i in crane:\n",
    "        for j in box:\n",
    "            if i >= j:\n",
    "                box.pop(0)\n",
    "                m -= 1\n",
    "                break\n",
    "                \n",
    "    time += 1\n",
    "    \n",
    "print(time)"
   ]
  },
  {
   "cell_type": "code",
   "execution_count": null,
   "id": "6a32e7a9",
   "metadata": {},
   "outputs": [],
   "source": [
    "import heapq\n",
    "\n",
    "n = int(input())\n",
    "lst = []\n",
    "\n",
    "for i in range(n):\n",
    "    lst.append(int(input()))\n",
    "    \n",
    "heapq.heapify(lst)\n",
    "answer = 0\n",
    "while len(lst) > 1:\n",
    "    a = heapq.heappop(lst)\n",
    "    b = heapq.heappop(lst)\n",
    "    \n",
    "    temp = a + b\n",
    "    answer += temp\n",
    "    heapq.heappush(lst, temp)\n",
    "\n",
    "print(answer)"
   ]
  },
  {
   "cell_type": "code",
   "execution_count": null,
   "id": "faf96969",
   "metadata": {},
   "outputs": [],
   "source": [
    "n = int(input())\n",
    "\n",
    "pos = []\n",
    "neg = []\n",
    "answer = 0\n",
    "\n",
    "for i in range(n):\n",
    "    a = int(input())\n",
    "    \n",
    "    if a == 1:\n",
    "        answer += 1\n",
    "    elif a > 0:\n",
    "        pos.append(a)\n",
    "    else:\n",
    "        neg.append(a)\n",
    "    \n",
    "pos.sort(reverse = True)\n",
    "neg.sort()\n",
    "\n",
    "for i in range(0, len(pos), 2):\n",
    "    if i != len(pos) - 1:\n",
    "        answer += pos[i] * pos[i+1]\n",
    "    else:\n",
    "        answer += pos[i]\n",
    "for i in range(0, len(neg), 2):\n",
    "    if i != len(neg) - 1:\n",
    "        answer += neg[i] * neg[i+1]\n",
    "    else:\n",
    "        answer += neg[i]\n",
    "        \n",
    "print(answer)"
   ]
  },
  {
   "cell_type": "code",
   "execution_count": null,
   "id": "cecdd5fe",
   "metadata": {},
   "outputs": [],
   "source": [
    "word = input()\n",
    "\n",
    "answer = ''\n",
    "temp = 0\n",
    "\n",
    "for i in word:\n",
    "    if i.isdigit():\n",
    "        temp += int(i)\n",
    "    else:\n",
    "        answer += i\n",
    "        \n",
    "answer = list(answer)\n",
    "answer.sort()\n",
    "\n",
    "if temp != 0:\n",
    "    answer.append(str(temp))\n",
    "    \n",
    "print(\"\".join(answer))\n",
    "\n"
   ]
  },
  {
   "cell_type": "code",
   "execution_count": null,
   "id": "f0b825e3",
   "metadata": {},
   "outputs": [],
   "source": [
    "n = int(input())\n",
    "\n",
    "lst = []\n",
    "for i in range(n):\n",
    "    a, b = map(int, input().split())\n",
    "    lst.append((a, b))\n",
    "    \n",
    "\n",
    "for x, y in lst:\n",
    "    rank = 1\n",
    "    for i, j in lst:\n",
    "        if x < i and y < j:\n",
    "            rank += 1\n",
    "            \n",
    "    print(rank, end = ' ')"
   ]
  },
  {
   "cell_type": "code",
   "execution_count": null,
   "id": "863842d8",
   "metadata": {},
   "outputs": [],
   "source": [
    "n = int(input())\n",
    "\n",
    "bag = 0\n",
    "\n",
    "while n >= 0:\n",
    "    if not n % 5:\n",
    "        bag += n // 5\n",
    "        print(bag)\n",
    "        break\n",
    "        \n",
    "    n -= 3\n",
    "    bag += 1\n",
    "\n",
    "else:\n",
    "    print(-1)"
   ]
  },
  {
   "cell_type": "code",
   "execution_count": null,
   "id": "1ebb2ec8",
   "metadata": {},
   "outputs": [],
   "source": [
    "n = int(input())\n",
    "card = [0] * (int(2e7) + 1)\n",
    "\n",
    "for i in map(int, input().split()):\n",
    "    card[i] += 1\n",
    "\n",
    "m = int(input())\n",
    "for i in map(int, input().split()):\n",
    "    print(card[i], end = ' ')"
   ]
  },
  {
   "cell_type": "code",
   "execution_count": null,
   "id": "949a34cb",
   "metadata": {},
   "outputs": [],
   "source": [
    "k, n = map(int, input().split())\n",
    "\n",
    "lst = []\n",
    "for i in range(k):\n",
    "    lst.append(int(input()))\n",
    "\n",
    "start = 0\n",
    "end = max(lst)\n",
    "answer = 0\n",
    "\n",
    "while start <= end:\n",
    "    mid = (start + end) // 2\n",
    "    \n",
    "    temp = 0\n",
    "    for i in lst:\n",
    "        if mid > 0:\n",
    "            temp += i // mid\n",
    "            \n",
    "    if temp >= n:\n",
    "        start = mid + 1\n",
    "        answer = mid\n",
    "        \n",
    "    else:\n",
    "        end = mid - 1\n",
    "        \n",
    "print(answer)"
   ]
  },
  {
   "cell_type": "code",
   "execution_count": null,
   "id": "1d91ee9e",
   "metadata": {},
   "outputs": [],
   "source": [
    "from collections import deque\n",
    "\n",
    "t = int(input())\n",
    "for _ in range(t):\n",
    "    n, m = map(int, input().split())\n",
    "    \n",
    "    lst = list(map(int, input().split()))\n",
    "    mark = [0] * n\n",
    "    mark[m] = 1\n",
    "    \n",
    "    lst = deque(lst)\n",
    "    mark = deque(mark)\n",
    "    count = 0\n",
    "    \n",
    "    while True:\n",
    "        if lst[0] == max(lst):\n",
    "            count += 1\n",
    "            if mark[0]:\n",
    "                print(count)\n",
    "                break\n",
    "                \n",
    "            else:\n",
    "                lst.popleft()\n",
    "                mark.popleft()\n",
    "                \n",
    "                \n",
    "        else:\n",
    "            lst.append(lst.popleft())\n",
    "            mark.append(mark.popleft())\n",
    "                \n",
    "        \n",
    "                "
   ]
  },
  {
   "cell_type": "code",
   "execution_count": 56,
   "id": "2718390c",
   "metadata": {},
   "outputs": [
    {
     "data": {
      "text/plain": [
       "Counter({'vinko': 1})"
      ]
     },
     "execution_count": 56,
     "metadata": {},
     "output_type": "execute_result"
    }
   ],
   "source": [
    "a"
   ]
  },
  {
   "cell_type": "code",
   "execution_count": 15,
   "id": "9b5f4c80",
   "metadata": {},
   "outputs": [
    {
     "name": "stdout",
     "output_type": "stream",
     "text": [
      "2000\n",
      "2021\n"
     ]
    }
   ],
   "source": [
    "import math\n",
    "\n",
    "def is_prime_num(n):\n",
    "    if n == 1:\n",
    "        return 0\n",
    "    \n",
    "    for i in range(2, int(math.sqrt(n)) + 1):\n",
    "        if n % i == 0:\n",
    "            return 0\n",
    "    return 1\n",
    "\n",
    "\n",
    "n = int(input())\n",
    "\n",
    "cur = 2\n",
    "temp = 2\n",
    "for i in range(3, 10000):\n",
    "    if is_prime_num(i):\n",
    "        temp = cur\n",
    "        cur = i\n",
    "        \n",
    "        if cur * temp > n:\n",
    "            print(cur * temp)\n",
    "            break\n",
    "        \n",
    "    "
   ]
  },
  {
   "cell_type": "code",
   "execution_count": null,
   "id": "556d6edc",
   "metadata": {},
   "outputs": [],
   "source": [
    "n, k = map(int, input().split())\n",
    "\n",
    "item = [(0, 0)]\n",
    "dp = [[0] * (k+1) for _ in range(n+1)]\n",
    "\n",
    "for i in range(n):\n",
    "    w, v = map(int, input().split())\n",
    "    item.append((w, v))\n",
    "\n",
    "for i in range(1, n+1):\n",
    "    for j in range(1, k+1):\n",
    "        weigh = item[i][0]\n",
    "        value = item[i][1]\n",
    "        \n",
    "        if j < weigh:\n",
    "            dp[i][j] = dp[i-1][j]\n",
    "        \n",
    "        else:\n",
    "            dp[i][j] = max(dp[i-1][j], dp[i-1][j-weigh] + value)\n",
    "            \n",
    "print(dp[n][k])"
   ]
  },
  {
   "cell_type": "code",
   "execution_count": null,
   "id": "6147e63f",
   "metadata": {},
   "outputs": [],
   "source": [
    "t = int(input())\n",
    "for _ in range(t):\n",
    "    price = float(input())\n",
    "    print('${:.2f}'.format(round(price * 0.8, 2)))"
   ]
  },
  {
   "cell_type": "code",
   "execution_count": null,
   "id": "527580d7",
   "metadata": {},
   "outputs": [],
   "source": [
    "import heapq\n",
    "\n",
    "\n",
    "n = int(input())\n",
    "\n",
    "lst = []\n",
    "for i in range(n):\n",
    "    num, s, e = map(int, input().split())\n",
    "    lst.append((s, e))\n",
    "    \n",
    "lst.sort()\n",
    "\n",
    "heap = []\n",
    "heapq.heappush(heap, lst[0][1])\n",
    "\n",
    "for i in range(1, n):\n",
    "    if heap[0] > lst[i][0]:\n",
    "        heapq.heappush(heap, lst[i][1])\n",
    "        \n",
    "    else:\n",
    "        heapq.heappop(heap)\n",
    "        heapq.heappush(heap, lst[i][1])\n",
    "        \n",
    "print(len(heap))"
   ]
  },
  {
   "cell_type": "markdown",
   "id": "1633f1b6",
   "metadata": {},
   "source": [
    "https://www.acmicpc.net/problem/1374"
   ]
  },
  {
   "cell_type": "code",
   "execution_count": null,
   "id": "a7e83b95",
   "metadata": {},
   "outputs": [],
   "source": [
    "a = input()\n",
    "b = input()\n",
    "\n",
    "if a + b < '218':\n",
    "    print('Before')\n",
    "elif a + b > '218':\n",
    "    print('After')\n",
    "else:\n",
    "    print('Special')"
   ]
  },
  {
   "cell_type": "code",
   "execution_count": null,
   "id": "5b8d6328",
   "metadata": {},
   "outputs": [],
   "source": [
    "n, d = map(int, input().split())\n",
    "\n",
    "\n",
    "def tf(x, d):\n",
    "    temp = ''\n",
    "\n",
    "    while x > 0:\n",
    "        x, mod = divmod(x, d)\n",
    "        temp += str(mod)\n",
    "\n",
    "    return temp[::-1]\n",
    "\n",
    "def check(x, d):\n",
    "    temp = int(tf(x, d))\n",
    "    temp = str(temp)\n",
    "    \n",
    "    if len(set(temp)) != d:\n",
    "        return False\n",
    "    \n",
    "    cmpr = [0] * d\n",
    "    for i in temp:\n",
    "        if cmpr[int(i)] == 1:\n",
    "            return False\n",
    "        cmpr[int(i)] += 1\n",
    "\n",
    "    return True\n",
    "    \n",
    "    \n",
    "def sol(n, d):\n",
    "    while n <= int(1e9):\n",
    "        n += 1\n",
    "        \n",
    "        if check(n, d):\n",
    "            return n\n",
    "        \n",
    "        \n",
    "    return -1    \n",
    "\n",
    "\n",
    "\n",
    "lst = [i for i in range(d)]\n",
    "\n",
    "print(sol(n, d))"
   ]
  },
  {
   "cell_type": "code",
   "execution_count": null,
   "id": "3551d8ec",
   "metadata": {},
   "outputs": [],
   "source": [
    "n, d = map(int, input().split())\n",
    "\n",
    "\n",
    "def check(x, d):\n",
    "    temp = ''\n",
    "    for i in range(d):\n",
    "        temp += str(x % d)\n",
    "        x //= d\n",
    "\n",
    "    temp = temp[::-1]\n",
    "    \n",
    "    temp = list(temp)\n",
    "    temp.sort()\n",
    "    \n",
    "    if temp == lst:\n",
    "        return True\n",
    "    else:\n",
    "        return False\n",
    "    \n",
    "def sol(n, d):\n",
    "    while n <= int(1e9):\n",
    "        n += 1\n",
    "        \n",
    "        if check(n, d):\n",
    "            return n\n",
    "        \n",
    "    return -1    \n",
    "\n",
    "\n",
    "\n",
    "lst = [str(i) for i in range(d)]\n",
    "\n",
    "print(sol(n, d))"
   ]
  },
  {
   "cell_type": "code",
   "execution_count": null,
   "id": "768044b4",
   "metadata": {},
   "outputs": [],
   "source": [
    "# 이거다\n",
    "\n",
    "n, d = map(int, input().split())\n",
    "\n",
    "\n",
    "def tf(x, d):\n",
    "    temp = ''\n",
    "\n",
    "    while x > 0:\n",
    "        x, mod = divmod(x, d)\n",
    "        temp += str(mod)\n",
    "\n",
    "    return temp[::-1]\n",
    "\n",
    "def check(x, d):\n",
    "    temp = int(tf(x, d))\n",
    "    temp = str(temp)\n",
    "    \n",
    "    if len(set(temp)) != d:\n",
    "        return False\n",
    "    else:\n",
    "        return True\n",
    "    \n",
    "    cmpr = [0] * d\n",
    "    for i in temp:\n",
    "        cmpr[int(i)] += 1\n",
    "\n",
    "            \n",
    "    if cmpr.count(1) == d:\n",
    "        return True\n",
    "    else:\n",
    "        return False\n",
    "    \n",
    "    \n",
    "def sol(n, d):\n",
    "    while n <= int(1e9):\n",
    "        n += 1\n",
    "        \n",
    "        if check(n, d):\n",
    "            return n\n",
    "        \n",
    "        \n",
    "    return -1    \n",
    "\n",
    "\n",
    "\n",
    "lst = [i for i in range(d)]\n",
    "\n",
    "print(sol(n, d))"
   ]
  },
  {
   "cell_type": "code",
   "execution_count": 3,
   "id": "993c3602",
   "metadata": {},
   "outputs": [
    {
     "data": {
      "text/plain": [
       "'17'"
      ]
     },
     "execution_count": 3,
     "metadata": {},
     "output_type": "execute_result"
    }
   ],
   "source": [
    "2021 5\n",
    "\n",
    "2022 5\n",
    "\n",
    "13857 6"
   ]
  },
  {
   "cell_type": "code",
   "execution_count": 47,
   "id": "ac204ae1",
   "metadata": {},
   "outputs": [
    {
     "data": {
      "text/plain": [
       "[0, 1, 2, 3, 4]"
      ]
     },
     "execution_count": 47,
     "metadata": {},
     "output_type": "execute_result"
    }
   ],
   "source": [
    "lst"
   ]
  },
  {
   "cell_type": "code",
   "execution_count": 28,
   "id": "695fcc8b",
   "metadata": {},
   "outputs": [
    {
     "data": {
      "text/plain": [
       "'31043'"
      ]
     },
     "execution_count": 28,
     "metadata": {},
     "output_type": "execute_result"
    }
   ],
   "source": [
    "temp[::-1]"
   ]
  },
  {
   "cell_type": "code",
   "execution_count": 81,
   "id": "88f4291f",
   "metadata": {},
   "outputs": [
    {
     "data": {
      "text/plain": [
       "'20'"
      ]
     },
     "execution_count": 81,
     "metadata": {},
     "output_type": "execute_result"
    }
   ],
   "source": [
    "tf(10, 5)"
   ]
  },
  {
   "cell_type": "code",
   "execution_count": 88,
   "id": "54972311",
   "metadata": {},
   "outputs": [
    {
     "data": {
      "text/plain": [
       "'224000000'"
      ]
     },
     "execution_count": 88,
     "metadata": {},
     "output_type": "execute_result"
    }
   ],
   "source": [
    "tf(1000000, 5)"
   ]
  },
  {
   "cell_type": "code",
   "execution_count": 84,
   "id": "69e8bed4",
   "metadata": {},
   "outputs": [
    {
     "data": {
      "text/plain": [
       "{'0', '2'}"
      ]
     },
     "execution_count": 84,
     "metadata": {},
     "output_type": "execute_result"
    }
   ],
   "source": [
    "set(a)"
   ]
  },
  {
   "cell_type": "code",
   "execution_count": 12,
   "id": "d6930bc2",
   "metadata": {},
   "outputs": [
    {
     "data": {
      "text/plain": [
       "[0, 1, 2, 3, 4]"
      ]
     },
     "execution_count": 12,
     "metadata": {},
     "output_type": "execute_result"
    }
   ],
   "source": [
    "[i for i in range(5)]"
   ]
  },
  {
   "cell_type": "code",
   "execution_count": null,
   "id": "1dc3508c",
   "metadata": {},
   "outputs": [],
   "source": [
    "\n"
   ]
  },
  {
   "cell_type": "code",
   "execution_count": null,
   "id": "8abb654a",
   "metadata": {},
   "outputs": [],
   "source": [
    "    temp = ''\n",
    "    for i in range(d):\n",
    "        temp += str(x % d)\n",
    "        x //= d\n",
    "        \n",
    "    if temp[::-1] == target:\n",
    "        return True\n",
    "    else:\n",
    "        return False"
   ]
  },
  {
   "cell_type": "code",
   "execution_count": 45,
   "id": "7f2aeb43",
   "metadata": {},
   "outputs": [
    {
     "data": {
      "text/plain": [
       "False"
      ]
     },
     "execution_count": 45,
     "metadata": {},
     "output_type": "execute_result"
    }
   ],
   "source": [
    "[1, 2, 3] in [1, 2, 3,4]"
   ]
  },
  {
   "cell_type": "code",
   "execution_count": 60,
   "id": "9e2877ff",
   "metadata": {},
   "outputs": [
    {
     "data": {
      "text/plain": [
       "False"
      ]
     },
     "execution_count": 60,
     "metadata": {},
     "output_type": "execute_result"
    }
   ],
   "source": [
    "'123' in  '132'"
   ]
  },
  {
   "cell_type": "code",
   "execution_count": 29,
   "id": "86991b02",
   "metadata": {},
   "outputs": [],
   "source": [
    "a = \"This is an example.\""
   ]
  },
  {
   "cell_type": "code",
   "execution_count": 30,
   "id": "be0e9794",
   "metadata": {},
   "outputs": [],
   "source": [
    "lst = ['a', 'e', 'i', 'o', 'u']\n",
    "for i in lst:\n",
    "    a = a.replace(i, \" \")"
   ]
  },
  {
   "cell_type": "code",
   "execution_count": 31,
   "id": "ac40c73f",
   "metadata": {},
   "outputs": [
    {
     "data": {
      "text/plain": [
       "'Th s  s  n  x mpl .'"
      ]
     },
     "execution_count": 31,
     "metadata": {},
     "output_type": "execute_result"
    }
   ],
   "source": [
    "a"
   ]
  },
  {
   "cell_type": "code",
   "execution_count": null,
   "id": "ab44e598",
   "metadata": {},
   "outputs": [],
   "source": [
    "\"Ths s n xmpl.\""
   ]
  }
 ],
 "metadata": {
  "kernelspec": {
   "display_name": "Python 3",
   "language": "python",
   "name": "python3"
  },
  "language_info": {
   "codemirror_mode": {
    "name": "ipython",
    "version": 3
   },
   "file_extension": ".py",
   "mimetype": "text/x-python",
   "name": "python",
   "nbconvert_exporter": "python",
   "pygments_lexer": "ipython3",
   "version": "3.8.8"
  }
 },
 "nbformat": 4,
 "nbformat_minor": 5
}
