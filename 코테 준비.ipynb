{
 "cells": [
  {
   "cell_type": "code",
   "execution_count": null,
   "id": "e5a68858",
   "metadata": {},
   "outputs": [],
   "source": [
    "n, c = map(int, input().split())\n",
    "\n",
    "lst = []\n",
    "for i in range(n):\n",
    "    lst.append(int(input()))\n",
    "    \n",
    "lst.sort()\n",
    "\n",
    "start = 1\n",
    "end = lst[n-1] - lst[0]\n",
    "answer = 0\n",
    "\n",
    "\n",
    "while start <= end:\n",
    "    mid = (start + end) // 2\n",
    "    \n",
    "    temp = 0\n",
    "    count = c-1\n",
    "    \n",
    "    for i in range(1, n):\n",
    "        if lst[i] - lst[temp] >= mid:\n",
    "            temp = i\n",
    "            count -= 1\n",
    "            \n",
    "    if count > 0:\n",
    "        end = mid - 1\n",
    "    else:\n",
    "        start = mid + 1\n",
    "        answer = mid\n",
    "        \n",
    "        \n",
    "print(answer)\n",
    "        "
   ]
  },
  {
   "cell_type": "code",
   "execution_count": null,
   "id": "15f59470",
   "metadata": {},
   "outputs": [],
   "source": [
    "t = int(input())\n",
    "\n",
    "for i in range(t):\n",
    "    n = int(input())\n",
    "    a, b = map(int, input().split())\n",
    "    for j in range(n):\n",
    "        u, v = map(int, input().split())\n",
    "        \n",
    "    print(f'Material Management {i+1}')\n",
    "    print('Classification ---- End!')\n",
    "    "
   ]
  },
  {
   "cell_type": "code",
   "execution_count": null,
   "id": "475eeccf",
   "metadata": {},
   "outputs": [],
   "source": [
    "from itertools import product\n",
    "\n",
    "lst = list(map(list, product(*[['E', 'I'], ['N', 'S'], ['F', 'T'], ['P', 'J']])))\n",
    "\n",
    "n, m = map(int, input().split())\n",
    "\n",
    "board = []\n",
    "for i in range(n):\n",
    "    board.append(list(map(str, input().rstrip())))\n",
    "\n",
    "    \n",
    "dx = [-1, -1, -1, 0, 1, 1, 1, 0]\n",
    "dy = [-1, 0, 1, 1, 1, 0, -1, -1]\n",
    "\n",
    "answer = 0\n",
    "\n",
    "for i in range(n):\n",
    "    for j in range(m):\n",
    "        for k in range(8):\n",
    "            temp = [board[i][j]]\n",
    "            x = i\n",
    "            y = j\n",
    "            \n",
    "            for p in range(3):\n",
    "                x += dx[k]\n",
    "                y += dy[k]\n",
    "                \n",
    "                if x < 0 or x >= n or y < 0 or y >= m:\n",
    "                    break\n",
    "                \n",
    "                temp.append(board[x][y])\n",
    "\n",
    "            #print(temp)               \n",
    "            if temp in lst:\n",
    "                answer += 1\n",
    "            \n",
    "            \n",
    "print(answer)\n",
    "            "
   ]
  },
  {
   "cell_type": "code",
   "execution_count": 6,
   "id": "5936d3af",
   "metadata": {},
   "outputs": [
    {
     "data": {
      "text/plain": [
       "100"
      ]
     },
     "execution_count": 6,
     "metadata": {},
     "output_type": "execute_result"
    }
   ],
   "source": [
    "sum(lst)"
   ]
  },
  {
   "cell_type": "code",
   "execution_count": 19,
   "id": "ed7777f1",
   "metadata": {},
   "outputs": [
    {
     "name": "stdout",
     "output_type": "stream",
     "text": [
      "1\n"
     ]
    }
   ],
   "source": [
    "from collections import deque\n",
    "\n",
    "\n",
    "n = int(input())\n",
    "card = list(map(int, input().split()))\n",
    "\n",
    "dp = [0] * n\n",
    "\n",
    "for i in range(n):\n",
    "    if card[i]:\n",
    "        continue\n",
    "        \n",
    "    else:\n",
    "        if card[i+1]:\n",
    "            \n",
    "            \n",
    "        "
   ]
  },
  {
   "cell_type": "code",
   "execution_count": null,
   "id": "41416daa",
   "metadata": {},
   "outputs": [],
   "source": [
    "from collections import deque\n",
    "\n",
    "n, q = map(int, input().split())\n",
    "house = list(map(int, input().split()))\n",
    "\n",
    "edge = [[] for _ in range(n+1)]\n",
    "for i in range(n-1):\n",
    "    a, b = map(int, input().split())\n",
    "    edge[a].append(b)\n",
    "    edge[b].append(a)\n",
    "    \n",
    "for i in range(q):\n",
    "    s, e = map(int, input().split())\n",
    "    \n",
    "    if s == e:\n",
    "        print(house[s-1] % 1000000007)\n",
    "        continue\n",
    "        \n",
    "    \n",
    "    queue = deque([(s, str(house[s-1]))])\n",
    "    visited = [0] * (n+1)\n",
    "    visited[s] = 1\n",
    "    \n",
    "    while queue:\n",
    "        x, answer = queue.popleft()\n",
    "        \n",
    "        if x == e:\n",
    "            print(int(answer) % 1000000007)\n",
    "            break\n",
    "        \n",
    "        for i in edge[x]:\n",
    "            if not visited[i]:\n",
    "                queue.append((i, answer + str(house[i-1])))\n",
    "                visited[i] = 1\n",
    "            \n",
    "    \n",
    "    "
   ]
  },
  {
   "cell_type": "code",
   "execution_count": null,
   "id": "1047c765",
   "metadata": {},
   "outputs": [],
   "source": [
    "n = int(input())\n",
    "price = list(map(int, input().split()))\n",
    "\n",
    "info = [[] for _ in range(n)]\n",
    "for i in range(1, n+1):\n",
    "    p = int(input())\n",
    "    for j in range(p):\n",
    "        a, d = map(int, input().split())\n",
    "        info[i-1].append((i, a, d))\n",
    "        \n",
    "\n",
    "        \n",
    "    "
   ]
  },
  {
   "cell_type": "code",
   "execution_count": 10,
   "id": "1d650046",
   "metadata": {},
   "outputs": [
    {
     "name": "stdout",
     "output_type": "stream",
     "text": [
      "4\n",
      "10 15 20 25\n",
      "2\n",
      "3 10\n",
      "2 20\n",
      "0\n",
      "1\n",
      "4 10\n",
      "1\n",
      "1 10\n",
      "36\n"
     ]
    }
   ],
   "source": [
    "n = int(input())\n",
    "price = list(map(int, input().split()))\n",
    "\n",
    "info = [[] for _ in range(n+1)]\n",
    "for i in range(1, n+1):\n",
    "    p = int(input())\n",
    "    for j in range(p):\n",
    "        a, d = map(int, input().split())\n",
    "        info[i].append((a, d))\n",
    "        \n",
    "        \n",
    "\n",
    "cur = price.index(min(price)) + 1\n",
    "lst = {cur}\n",
    "answer = min(price)\n",
    "\n",
    "\n",
    "\n",
    "while len(lst) < n:\n",
    "    for a, d in info[cur]:\n",
    "        price[a-1] -= d\n",
    "        if price[a-1] < 1:\n",
    "            price[a-1] = 1\n",
    "        \n",
    "    target = 1001\n",
    "    for i in range(n):\n",
    "        if i+1 not in lst and price[i] < target:\n",
    "            target = price[i]\n",
    "            cur = i+1\n",
    "            \n",
    "    answer += price[cur-1]\n",
    "    lst.add(cur)\n",
    "    \n",
    "    \n",
    "print(answer)\n"
   ]
  },
  {
   "cell_type": "code",
   "execution_count": 8,
   "id": "d3fe99e8",
   "metadata": {},
   "outputs": [],
   "source": [
    "4\n",
    "10 15 20 25\n",
    "2\n",
    "3 10\n",
    "2 20\n",
    "0\n",
    "1\n",
    "4 10\n",
    "1\n",
    "1 10"
   ]
  },
  {
   "cell_type": "code",
   "execution_count": 9,
   "id": "67402854",
   "metadata": {},
   "outputs": [
    {
     "data": {
      "text/plain": [
       "set"
      ]
     },
     "execution_count": 9,
     "metadata": {},
     "output_type": "execute_result"
    }
   ],
   "source": [
    "type(a)"
   ]
  },
  {
   "cell_type": "code",
   "execution_count": null,
   "id": "ad31d7d5",
   "metadata": {},
   "outputs": [],
   "source": [
    "from itertools import permutations as perm\n",
    "\n",
    "n = int(input())\n",
    "li = list(map(int, input().split()))\n",
    "\n",
    "infos = [[] for _ in range(n)]\n",
    "for i in range(n):\n",
    "    p = int(input())\n",
    "    for _ in range(p):\n",
    "        a, d = map(int, input().split())\n",
    "        a -= 1\n",
    "        infos[i].append((a, d))\n",
    "        \n",
    "min_cost = float('inf')\n",
    "for case in perm(range(n)):\n",
    "    cost = 0\n",
    "    bargained = [0] * n\n",
    "    for v in case:\n",
    "        cost += max(1, li[v] - bargained[v])\n",
    "        for a, d in infos[v]:\n",
    "            bargained[a] += d\n",
    "            \n",
    "    min_cost = min(min_cost, cost)\n",
    "    \n",
    "print(min_cost)"
   ]
  },
  {
   "cell_type": "code",
   "execution_count": 1,
   "id": "47777c10",
   "metadata": {},
   "outputs": [
    {
     "name": "stdout",
     "output_type": "stream",
     "text": [
      "8\n",
      "WAHEWHEE\n",
      "6\n"
     ]
    }
   ],
   "source": [
    "n = int(input())\n",
    "s = input()\n",
    "\n",
    "lst = [0] * 3\n",
    "temp = 0\n",
    "\n",
    "for i in range(n):\n",
    "    if s[i] == 'W':\n",
    "        lst[0] += 1\n",
    "        \n",
    "    elif s[i] == 'H':\n",
    "        lst[1] += lst[0]\n",
    "        \n",
    "    elif s[i] == 'E':\n",
    "        temp += lst[2]\n",
    "        lst[2] += lst[1] + lst[2]\n",
    "        \n",
    "        \n",
    "print(temp % int(1e9 + 7))\n"
   ]
  },
  {
   "cell_type": "code",
   "execution_count": 5,
   "id": "eacbaae4",
   "metadata": {},
   "outputs": [
    {
     "name": "stdout",
     "output_type": "stream",
     "text": [
      "102\n",
      "12\n"
     ]
    }
   ],
   "source": [
    "ab = input()\n",
    "\n",
    "if len(ab) == 2:\n",
    "    print(int(ab[0]) + int(ab[-1]))\n",
    "elif len(ab) == 3:\n",
    "    if ab[:2] == '10':\n",
    "        print(10 + int(ab[-1]))\n",
    "    else:\n",
    "        print(10 + int(ab[0]))\n",
    "else:\n",
    "    print(20)"
   ]
  },
  {
   "cell_type": "code",
   "execution_count": 1,
   "id": "1e377b3b",
   "metadata": {},
   "outputs": [],
   "source": [
    "s = '1 + 2 = 3'"
   ]
  },
  {
   "cell_type": "code",
   "execution_count": 2,
   "id": "de6116c6",
   "metadata": {},
   "outputs": [],
   "source": [
    "a = list(s)"
   ]
  },
  {
   "cell_type": "code",
   "execution_count": 19,
   "id": "562ea572",
   "metadata": {},
   "outputs": [],
   "source": [
    "id_list = [\"muzi\", \"frodo\", \"apeach\", \"neo\"]\n",
    "reports = [\"muzi frodo\",\"apeach frodo\",\"frodo neo\",\"muzi neo\",\"apeach muzi\"]\n",
    "k = 2"
   ]
  },
  {
   "cell_type": "code",
   "execution_count": 8,
   "id": "62ee8713",
   "metadata": {},
   "outputs": [],
   "source": [
    "dic_report = {id: [] for id in id_list}"
   ]
  },
  {
   "cell_type": "code",
   "execution_count": 9,
   "id": "ce2235ed",
   "metadata": {},
   "outputs": [
    {
     "data": {
      "text/plain": [
       "{'muzi': [], 'frodo': [], 'apeach': [], 'neo': []}"
      ]
     },
     "execution_count": 9,
     "metadata": {},
     "output_type": "execute_result"
    }
   ],
   "source": [
    "dic_report"
   ]
  },
  {
   "cell_type": "code",
   "execution_count": 20,
   "id": "68fa6672",
   "metadata": {},
   "outputs": [],
   "source": [
    "stop = []\n",
    "answer = [0] * len(id_list)\n",
    "dicReports = {id: [] for id in id_list}\n",
    "for i in set(reports):\n",
    "    report = i.split(' ')\n",
    "    stop.append(report[1])\n",
    "    dicReports[report[0]].append(report[1])\n",
    "        \n",
    "stop = set([i for i in stop if stop.count(i) >= k])\n",
    "\n",
    "for key, value in dicReports.items():\n",
    "    for s in stop:\n",
    "        if s in value:\n",
    "            answer[id_list.index(key)] += 1"
   ]
  },
  {
   "cell_type": "code",
   "execution_count": 25,
   "id": "2fe74ced",
   "metadata": {},
   "outputs": [],
   "source": [
    "from collections import deque\n",
    "from copy import deepcopy\n",
    "\n",
    "def solution(rc, operations):\n",
    "    arr = deque(rc)\n",
    "\n",
    "    def sr(arr):\n",
    "        arr.rotate(1)\n",
    "        return arr         \n",
    "\n",
    "    def rot(arr):\n",
    "        copy = deepcopy(arr)\n",
    "        copy = deque(copy)\n",
    "        \n",
    "        copy[0] = deque(copy[0])\n",
    "        copy[-1] = deque(copy[-1])\n",
    "        copy[0].rotate(1)\n",
    "        copy[-1].rotate(-1)\n",
    "\n",
    "        copy[0] = list(copy[0])\n",
    "        copy[-1] = list(copy[-1])\n",
    "\n",
    "        for i in range(1, len(rc)):\n",
    "            copy[i][-1] = arr[i-1][-1]\n",
    "            copy[i-1][0] = arr[i][0]\n",
    "\n",
    "        arr = deepcopy(copy)\n",
    "\n",
    "        return arr\n",
    "\n",
    "\n",
    "    for i in operations:\n",
    "        if i == \"ShiftRow\":\n",
    "            arr = deepcopy(sr(arr))\n",
    "        else:\n",
    "            arr = deepcopy(rot(arr))\n",
    "\n",
    "\n",
    "    arr = list(arr)\n",
    "    return arr"
   ]
  },
  {
   "cell_type": "code",
   "execution_count": 26,
   "id": "4ee46a1c",
   "metadata": {},
   "outputs": [],
   "source": [
    "rc = [[1, 2, 3], [4, 5, 6], [7, 8, 9]]\n",
    "operations = [\"Rotate\", \"ShiftRow\"]"
   ]
  },
  {
   "cell_type": "code",
   "execution_count": null,
   "id": "95f4f146",
   "metadata": {},
   "outputs": [],
   "source": [
    "import heapq\n",
    "\n",
    "def solution(alp, cop, problems):\n",
    "    for i in range(len(problems)):\n",
    "        problems[i].extend([problems[i][2] / problems[i][4], problems[i][3] / problems[i][4]])\n",
    "\n",
    "    problems = sorted(problems, key = lambda x : (x[0], x[1], -x[5], -x[6]))\n",
    "    answer = 0\n",
    "\n",
    "    heapa = []\n",
    "    heapc = []\n",
    "\n",
    "    for a, b, c, d, e, f, g in problems:\n",
    "        if alp >= a and cop >= b:\n",
    "            alp += c\n",
    "            cop += d\n",
    "            answer += e\n",
    "\n",
    "            heapq.heappush(heapa, (-f, -g, c, d, e))\n",
    "            heapq.heappush(heapc, (-g, -f, c, d, e))\n",
    "\n",
    "        elif alp < a or cop < b:\n",
    "            if not heapa:\n",
    "                answer += max(a - alp, b - cop)\n",
    "                \n",
    "                alp += c\n",
    "                cop += d\n",
    "                answer += e\n",
    "\n",
    "                heapq.heappush(heapa, (-f, -g, c, d, e))\n",
    "                heapq.heappush(heapc, (-g, -f, c, d, e))\n",
    "\n",
    "            else:\n",
    "                if a - alp == max(a - alp, b - cop):\n",
    "                    need = a - alp\n",
    "\n",
    "                    if 0 < -heapa[0][0]:\n",
    "                        while need > 0:\n",
    "                            alp += heapa[0][2]\n",
    "                            cop += heapa[0][3]\n",
    "                            answer += heapa[0][4]\n",
    "                            need -= heapa[0][4]\n",
    "\n",
    "                    else:\n",
    "                        alp += need\n",
    "                        cop += need\n",
    "                        answer += need\n",
    "\n",
    "                elif b - cop == max(a - alp, b - cop):\n",
    "                    need = b - cop\n",
    "\n",
    "                    if 0 < -heapc[0][0]:\n",
    "                        while need > 0:\n",
    "                            alp += heapc[0][2]\n",
    "                            cop += heapc[0][3]\n",
    "                            answer += heapc[0][4]\n",
    "                            need -= heapc[0][4]\n",
    "\n",
    "                    else:\n",
    "                        alp += need\n",
    "                        cop += need\n",
    "                        answer += need\n",
    "\n",
    "    \n",
    "    return answer"
   ]
  },
  {
   "cell_type": "code",
   "execution_count": null,
   "id": "f6925db8",
   "metadata": {},
   "outputs": [],
   "source": [
    "import heapq\n",
    "\n",
    "def solution(alp, cop, problems):\n",
    "    for i in range(len(problems)):\n",
    "        problems[i].extend([problems[i][2] / problems[i][4], problems[i][3] / problems[i][4]])\n",
    "\n",
    "    problems = sorted(problems, key = lambda x : (x[0], x[1], -x[5], -x[6]))\n",
    "    answer = 0\n",
    "\n",
    "    heapa = []\n",
    "    heapc = []\n",
    "\n",
    "    for a, b, c, d, e, f, g in problems:\n",
    "        if alp >= a and cop >= b:\n",
    "            alp += c\n",
    "            cop += d\n",
    "            answer += e\n",
    "\n",
    "            heapq.heappush(heapa, (-f, -g, c, d, e))\n",
    "            heapq.heappush(heapc, (-g, -f, c, d, e))\n",
    "\n",
    "        elif alp < a or cop < b:\n",
    "            if not heapa:\n",
    "                answer += max(a - alp, b - cop)\n",
    "                \n",
    "                alp += c\n",
    "                cop += d\n",
    "                answer += e\n",
    "\n",
    "                heapq.heappush(heapa, (-f, -g, c, d, e))\n",
    "                heapq.heappush(heapc, (-g, -f, c, d, e))\n",
    "\n",
    "            else:\n",
    "                if a - alp == max(a - alp, b - cop):\n",
    "                    need = a - alp\n",
    "\n",
    "                    while need > 0:\n",
    "                        if 0 < -heapa[0][0] and need > heapa[0][4]:\n",
    "                        \n",
    "                            alp += heapa[0][2]\n",
    "                            cop += heapa[0][3]\n",
    "                            answer += heapa[0][4]\n",
    "                            need -= heapa[0][4]\n",
    "\n",
    "                        else:\n",
    "                            alp += 1\n",
    "                            cop += 1\n",
    "                            answer += 1\n",
    "                            need -= 1\n",
    "\n",
    "                elif b - cop == max(a - alp, b - cop):\n",
    "                    need = b - cop\n",
    "\n",
    "                    while need > 0:\n",
    "                        if 0 < -heapc[0][0] and need > heapc[0][4]:\n",
    "                        \n",
    "                            alp += heapc[0][2]\n",
    "                            cop += heapc[0][3]\n",
    "                            answer += heapc[0][4]\n",
    "                            need -= heapc[0][4]\n",
    "\n",
    "                        else:\n",
    "                            alp += 1\n",
    "                            cop += 1\n",
    "                            answer += 1\n",
    "                            need -= 1\n",
    "\n",
    "    \n",
    "    return answer"
   ]
  },
  {
   "cell_type": "code",
   "execution_count": 45,
   "id": "9de1cddb",
   "metadata": {},
   "outputs": [
    {
     "name": "stdout",
     "output_type": "stream",
     "text": [
      "['100', '1', '3']\n",
      "['1', '3']\n",
      "[[100, ['1', '3']]]\n",
      "\n",
      "['500', '4']\n",
      "['1', '3', '4']\n",
      "[[100, ['1', '3']], [500, ['1', '3', '4']]]\n",
      "\n",
      "['2000', '5']\n",
      "['1', '3', '4', '5']\n",
      "[[100, ['1', '3']], [500, ['1', '3', '4']], [2000, ['1', '3', '4', '5']]]\n",
      "\n"
     ]
    }
   ],
   "source": [
    "plans = [\"100 1 3\", \"500 4\", \"2000 5\"]\n",
    "\n",
    "table = []\n",
    "lst = []\n",
    "\n",
    "for i in range(len(plans)):\n",
    "    temp = plans[i].split()\n",
    "    print(temp)\n",
    "\n",
    "    lst.extend(temp[1:])\n",
    "    print(lst)\n",
    "    \n",
    "    table.append([int(temp[0]), lst.copy()])\n",
    "    print(table)\n",
    "    print()"
   ]
  },
  {
   "cell_type": "code",
   "execution_count": 8,
   "id": "2bc450ae",
   "metadata": {},
   "outputs": [
    {
     "data": {
      "text/plain": [
       "[[100, ['1', '3', '4', '5']],\n",
       " [500, ['1', '3', '4', '5']],\n",
       " [2000, ['1', '3', '4', '5']]]"
      ]
     },
     "execution_count": 8,
     "metadata": {},
     "output_type": "execute_result"
    }
   ],
   "source": [
    "table"
   ]
  },
  {
   "cell_type": "code",
   "execution_count": 19,
   "id": "db6db45a",
   "metadata": {},
   "outputs": [
    {
     "name": "stdout",
     "output_type": "stream",
     "text": [
      "['100', '1', '3']\n",
      "['1', '3']\n",
      "[]\n",
      "[(100, ['1', '3'])]\n",
      "\n",
      "['500', '4']\n",
      "['1', '3', '4']\n",
      "[(100, ['1', '3', '4'])]\n",
      "[(100, ['1', '3', '4']), (500, ['1', '3', '4'])]\n",
      "\n",
      "['2000', '5']\n",
      "['1', '3', '4', '5']\n",
      "[(100, ['1', '3', '4', '5']), (500, ['1', '3', '4', '5'])]\n",
      "[(100, ['1', '3', '4', '5']), (500, ['1', '3', '4', '5']), (2000, ['1', '3', '4', '5'])]\n",
      "\n"
     ]
    }
   ],
   "source": [
    "std = []\n",
    "lst = []\n",
    "\n",
    "for i in range(len(plans)):\n",
    "    temp = plans[i].split()\n",
    "    print(temp)\n",
    "\n",
    "    for j in range(1, len(temp)):\n",
    "        lst.append(temp[j])\n",
    "    print(lst)\n",
    "    print(std)\n",
    "    \n",
    "    std.append((int(temp[0]), temp))\n",
    "    print(std)\n",
    "    print()"
   ]
  },
  {
   "cell_type": "code",
   "execution_count": 43,
   "id": "bb952ee4",
   "metadata": {},
   "outputs": [],
   "source": [
    "a = [1, 2, 3]\n",
    "b = [1,2,3,4]"
   ]
  },
  {
   "cell_type": "code",
   "execution_count": 44,
   "id": "ca58353c",
   "metadata": {},
   "outputs": [
    {
     "data": {
      "text/plain": [
       "False"
      ]
     },
     "execution_count": 44,
     "metadata": {},
     "output_type": "execute_result"
    }
   ],
   "source": [
    "a in b"
   ]
  },
  {
   "cell_type": "code",
   "execution_count": null,
   "id": "c13996b7",
   "metadata": {},
   "outputs": [],
   "source": [
    "from collections import deque\n",
    "\n",
    "inf = float('inf')\n",
    "\n",
    "li = [\".F.FFFFF.F\", \".########.\", \".########F\",\n",
    "      \"...######F\", \"##.######F\", \"...######F\",\n",
    "      \".########F\", \".########.\", \".#...####F\",\n",
    "      \"...#......\"]\n",
    "k = 6\n",
    "n, m = len(li), len(li[0])\n",
    "\n",
    "needed = [[[inf] * (k + 1) for _ in range(m)] for _ in range(n)]\n",
    "needed[0][0][k] = 0\n",
    "\n",
    "dx = [-1, 1, 0, 0]\n",
    "dy = [0, 0, -1, 1]\n",
    "\n",
    "queue = deque()\n",
    "queue.append((0, 0, k, 0)) # x, y, remained_k, spent_days\n",
    "while queue:\n",
    "    x, y, remained_k, spent_days = queue.popleft()\n",
    "    \n",
    "    if remained_k >= 1:\n",
    "        for i in range(4):\n",
    "            nx = x + dx[i]\n",
    "            ny = y + dy[i]\n",
    "            \n",
    "            if nx < 0 or nx >= n or ny < 0 or ny >= m:\n",
    "                continue\n",
    "            if li[nx][ny] == '#':\n",
    "                continue\n",
    "            if spent_days < needed[nx][ny][remained_k - 1]:\n",
    "                needed[nx][ny][remained_k - 1] = spent_days\n",
    "                queue.append((nx, ny, remained_k - 1, spent_days))\n",
    "                \n",
    "    if li[x][y] == '.' and remained_k < k:\n",
    "        if spent_days + 1 < needed[x][y][k]:\n",
    "            needed[x][y][k] = spent_days + 1\n",
    "            queue.append((x, y, k, spent_days + 1))\n",
    "            \n",
    "r = inf\n",
    "for remained_k in range(k + 1):\n",
    "    r = min(r, needed[-1][-1][remained_k])\n",
    "    \n",
    "print(r)\n"
   ]
  },
  {
   "cell_type": "code",
   "execution_count": 46,
   "id": "39b64ab9",
   "metadata": {},
   "outputs": [
    {
     "name": "stdout",
     "output_type": "stream",
     "text": [
      "2\n"
     ]
    }
   ],
   "source": [
    "goods = [1, 2]\n",
    "boxes = [2, 3, 1]\n",
    "\n",
    "goods.sort()\n",
    "boxes.sort()\n",
    "\n",
    "count = 0\n",
    "gidx = 0\n",
    "for box in boxes:\n",
    "    if goods[gidx] <= box:\n",
    "        count += 1\n",
    "        gidx += 1\n",
    "        if gidx == len(goods):\n",
    "            break\n",
    "    else:\n",
    "        continue\n",
    "        \n",
    "print(count)\n"
   ]
  },
  {
   "cell_type": "code",
   "execution_count": 49,
   "id": "bbf5d6ee",
   "metadata": {},
   "outputs": [
    {
     "name": "stdout",
     "output_type": "stream",
     "text": [
      "[1, 2]\n",
      "[1, 2, 3, 5, 4]\n"
     ]
    }
   ],
   "source": [
    "from heapq import heappush, heappop\n",
    "\n",
    "n = 5\n",
    "quests = [[1, 3], [1, 4], [3, 5], [5, 4]]\n",
    "\n",
    "posts = [[] for _ in range(n + 1)]\n",
    "indegree = [0] * (n + 1)\n",
    "for a, b in quests:\n",
    "    posts[a].append(b)\n",
    "    indegree[b] += 1\n",
    "    \n",
    "heap = []\n",
    "for i in range(1, n + 1):\n",
    "    if indegree[i] == 0:\n",
    "        heappush(heap, i)\n",
    "        \n",
    "\n",
    "result = []\n",
    "while heap:\n",
    "    value = heappop(heap)\n",
    "    result.append(value)\n",
    "    \n",
    "    for v in posts[value]:\n",
    "        indegree[v] -= 1\n",
    "        if indegree[v] == 0:\n",
    "            heappush(heap, v)\n",
    "            \n",
    "print(result)\n"
   ]
  },
  {
   "cell_type": "code",
   "execution_count": 48,
   "id": "119dc69d",
   "metadata": {},
   "outputs": [
    {
     "data": {
      "text/plain": [
       "[]"
      ]
     },
     "execution_count": 48,
     "metadata": {},
     "output_type": "execute_result"
    }
   ],
   "source": [
    "inf = int(1e9)\n",
    "\n",
    "n = 10\n",
    "k = 9\n",
    "a = [1, 2, 3, 4, 5, 4, 3, 2, 1, 2]\n",
    "\n",
    "# 누적합 구하는 용도.\n",
    "pre_max = [-inf] * n # 앞에서부터의 최댓값\n",
    "pre_min = [inf] * n # 앞에서부터의 최솟값\n",
    "post_max = [-inf] * n # 뒤에서부터의 최댓값\n",
    "post_min = [inf] * n # 뒤에서부터의 최솟값\n",
    "\n",
    "\n",
    "cumul_max = -inf # 임시변수. \n",
    "cumul_min = inf\n",
    "for i in range(n):\n",
    "    cumul_max = max(cumul_max, a[i])\n",
    "    pre_max[i] = cumul_max\n",
    "    \n",
    "    cumul_min = min(cumul_min, a[i])\n",
    "    pre_min[i] = cumul_min\n",
    "    \n",
    "    \n",
    "cumul_max = -inf # 얘도 위랑 똑같이 임시변수. 뒤에서부터 시작함.\n",
    "cumul_min = inf\n",
    "for i in range(n - 1, -1, -1):\n",
    "    cumul_max = max(cumul_max, a[i])\n",
    "    cumul_min = min(cumul_min, a[i])\n",
    "    \n",
    "    post_max[i] = cumul_max\n",
    "    post_min[i] = cumul_min\n",
    "    \n",
    "\n",
    "# 앞과 뒤에서 각각 따로 접근해서, 각 시점(인덱스)에 대해서 거기까지의 최댓값과 최솟값을 미리 계산해둔 것.    \n",
    "    \n",
    "min_r = inf # 우리가 구하려는 답\n",
    "for mid_start in range(n - k + 1): # mid_start는 제거할 요소의 시작 인덱스, mid_end는 제거할 요소의 마지막 인덱스.\n",
    "    mid_end = mid_start + k - 1\n",
    "    \n",
    "    remained_max = -inf\n",
    "    remained_min = inf\n",
    "    \n",
    "    if mid_start > 0:\n",
    "        remained_max = max(remained_max, pre_max[mid_start - 1])\n",
    "        remained_min = min(remained_min, pre_min[mid_start - 1])\n",
    "    if mid_end < n - 1:\n",
    "        remained_max = max(remained_max, post_max[mid_end + 1])\n",
    "        remained_min = min(remained_min, post_min[mid_end + 1])\n",
    "        \n",
    "    temp = remained_max - remained_min\n",
    "    \n",
    "    # print(mid_start, mid_end, temp)\n",
    "    \n",
    "    min_r = min(min_r, temp)\n",
    "    \n",
    "print(min_r)\n"
   ]
  },
  {
   "cell_type": "code",
   "execution_count": 2,
   "id": "792d7537",
   "metadata": {},
   "outputs": [
    {
     "name": "stdout",
     "output_type": "stream",
     "text": [
      "1\n"
     ]
    }
   ],
   "source": [
    "import math\n",
    "\n",
    "print(math.gcd(30, 7))"
   ]
  },
  {
   "cell_type": "code",
   "execution_count": null,
   "id": "ace4f83a",
   "metadata": {},
   "outputs": [],
   "source": [
    "def solution(p):\n",
    "    n = len(p)\n",
    "    temp = sorted(p)\n",
    "\n",
    "    answer = 0\n",
    "    check = 0\n",
    "    for i in range(1, n-1):\n",
    "        if check:\n",
    "            check = 0\n",
    "            continue\n",
    "\n",
    "        if temp[i] < temp[i+1]:\n",
    "            temp[i], temp[i+1] = temp[i+1], temp[i]\n",
    "            check = 1\n",
    "\n",
    "    for i in range(1, n):\n",
    "        if temp[i] > temp[i-1]:\n",
    "            answer += 1\n",
    "    print(temp)\n",
    "\n",
    "    return answer"
   ]
  },
  {
   "cell_type": "code",
   "execution_count": 8,
   "id": "b3345b30",
   "metadata": {},
   "outputs": [
    {
     "name": "stdout",
     "output_type": "stream",
     "text": [
      "2\n",
      "deque([2])\n",
      "\n",
      "4\n",
      "deque([4])\n",
      "\n",
      "2\n"
     ]
    }
   ],
   "source": [
    "import heapq\n",
    "from collections import deque\n",
    "\n",
    "p = [3,2,1,4,5]\n",
    "#p = [10, 10, 20, 20]\n",
    "\n",
    "\n",
    "n = len(p)\n",
    "answer = 0\n",
    "heapq.heapify(p)\n",
    "    \n",
    "lst = []\n",
    "stack = deque()\n",
    "temp = 0\n",
    "\n",
    "while p:\n",
    "    while lst and temp <= lst[-1]:\n",
    "        temp = p[0]\n",
    "        print(temp)\n",
    "        stack.append(heapq.heappop(p))\n",
    "        print(stack)\n",
    "        print()\n",
    "\n",
    "    lst.append(heapq.heappop(p))\n",
    "\n",
    "    if stack:\n",
    "        lst.append(stack.popleft())\n",
    "    for i in stack:\n",
    "        heapq.heappush(p, i)\n",
    "\n",
    "\n",
    "for i in range(1, n):\n",
    "    if lst[i] > lst[i-1]:\n",
    "        answer += 1\n",
    "\n",
    "print(answer)"
   ]
  },
  {
   "cell_type": "code",
   "execution_count": 6,
   "id": "3643a9fc",
   "metadata": {},
   "outputs": [
    {
     "data": {
      "text/plain": [
       "[1, 3, 2, 5, 4]"
      ]
     },
     "execution_count": 6,
     "metadata": {},
     "output_type": "execute_result"
    }
   ],
   "source": [
    "def solution(p):\n",
    "    n = len(p)\n",
    "    answer = 0\n",
    "    heapq.heapify(p)\n",
    "    \n",
    "    lst = []\n",
    "    stack = deque()\n",
    "    temp = 0\n",
    "\n",
    "    while p:\n",
    "        while lst and temp <= lst[-1]:\n",
    "            temp = heapq.heappop(p)\n",
    "\n",
    "            if temp <= lst[-1]:\n",
    "                stack.append(temp)\n",
    "            else:\n",
    "                heapq.heappush(p, temp)\n",
    "                break\n",
    "\n",
    "        lst.append(heapq.heappop(p))\n",
    "\n",
    "        if stack:\n",
    "            lst.append(stack.popleft())\n",
    "        for i in stack:\n",
    "            heapq.heappush(p, i)\n",
    "\n",
    "\n",
    "    for i in range(1, n):\n",
    "        if lst[i] > lst[i-1]:\n",
    "            answer += 1\n",
    "\n",
    "    print(lst)\n",
    "    return answer"
   ]
  },
  {
   "cell_type": "code",
   "execution_count": 9,
   "id": "2189f09d",
   "metadata": {},
   "outputs": [],
   "source": [
    "a = {1 : 2, 2: 3}"
   ]
  },
  {
   "cell_type": "code",
   "execution_count": 11,
   "id": "9bc16fb8",
   "metadata": {},
   "outputs": [],
   "source": [
    "tmp = a.keys()"
   ]
  },
  {
   "cell_type": "code",
   "execution_count": 12,
   "id": "99bcae6f",
   "metadata": {},
   "outputs": [
    {
     "data": {
      "text/plain": [
       "dict_keys([1, 2])"
      ]
     },
     "execution_count": 12,
     "metadata": {},
     "output_type": "execute_result"
    }
   ],
   "source": [
    "tmp"
   ]
  },
  {
   "cell_type": "code",
   "execution_count": 13,
   "id": "176e8413",
   "metadata": {},
   "outputs": [],
   "source": [
    "a[1] -= 1"
   ]
  },
  {
   "cell_type": "code",
   "execution_count": 14,
   "id": "5becd968",
   "metadata": {},
   "outputs": [
    {
     "data": {
      "text/plain": [
       "{1: 1, 2: 3}"
      ]
     },
     "execution_count": 14,
     "metadata": {},
     "output_type": "execute_result"
    }
   ],
   "source": [
    "a"
   ]
  },
  {
   "cell_type": "code",
   "execution_count": null,
   "id": "ddaa5322",
   "metadata": {},
   "outputs": [],
   "source": [
    "from collections import defaultdict\n",
    "\n",
    "def solution(p):\n",
    "    n = len(p)\n",
    "    p.sort()\n",
    "    temp = defaultdict(int)\n",
    "    answer = 0\n",
    "\n",
    "    for i in p:\n",
    "        temp[i] += 1\n",
    "\n",
    "    key = temp.keys()\n",
    "    key = list(key)\n",
    "    lst = [temp[key[0]]]\n",
    "    temp[key[0]] -= 1\n",
    "\n",
    "    for i in range(len(key)-1):\n",
    "        while temp[key[i]]:\n",
    "            if lst[-1] == temp[key[i]]:\n",
    "                lst.append(temp[key[i+1]])\n",
    "                temp[key[i+1]] -= 1\n",
    "\n",
    "            else:\n",
    "                lst.append(temp[key[i]])\n",
    "                temp[key[i]] -= 1\n",
    "\n",
    "    for i in range(1, n):\n",
    "        if lst[i] > lst[i-1]:\n",
    "            answer += 1\n",
    "\n",
    "\n",
    "\n",
    "\n",
    "\n",
    "    return answer"
   ]
  },
  {
   "cell_type": "code",
   "execution_count": null,
   "id": "a1303fc1",
   "metadata": {},
   "outputs": [],
   "source": [
    "from collections import deque\n",
    "from copy import deepcopy\n",
    "\n",
    "def solution(ingredients, startIndex, target):\n",
    "    # Write your code here\n",
    "    queue = deque(ingredients)\n",
    "    queue.rotate(-startIndex)\n",
    "    \n",
    "    que = deepcopy(queue)\n",
    "    \n",
    "    count1 = 0\n",
    "    while True:\n",
    "        queue.rotate(-1)\n",
    "        count1 += 1\n",
    "        \n",
    "        if queue[0] == target:\n",
    "            break\n",
    "        \n",
    "    count2 = 0\n",
    "    while True:\n",
    "        que.rotate(1)\n",
    "        count2 += 1\n",
    "            \n",
    "        if que[0] == target:\n",
    "            break\n",
    "        \n",
    "    answer = min(count1, count2)\n",
    "    \n",
    "    return answer"
   ]
  },
  {
   "cell_type": "code",
   "execution_count": null,
   "id": "a152dac8",
   "metadata": {},
   "outputs": [],
   "source": [
    "from collections import deque\n",
    "\n",
    "def solution(s):\n",
    "    # Write your code here\n",
    "    \n",
    "    goal = sorted(list(s), reverse = True)\n",
    "    # goal = \"\".join(goal)\n",
    "    \n",
    "    answer = ''\n",
    "    \n",
    "    # for i in range(len(s)):\n",
    "    #     temp = goal[::-1]\n",
    "    #     answer += temp[-1]\n",
    "    \n",
    "    queue = deque(goal)\n",
    "    for i in range(len(s)):\n",
    "        if i % 2:\n",
    "            answer += queue.pop()\n",
    "        else:\n",
    "            answer += queue.popleft()\n",
    "            \n",
    "    return answer[::-1]"
   ]
  },
  {
   "cell_type": "code",
   "execution_count": null,
   "id": "3ae37f8f",
   "metadata": {},
   "outputs": [],
   "source": [
    "from collections import defaultdict\n",
    "\n",
    "def solution(n, queryType, students1, students2):\n",
    "    # Write your code here\n",
    "    \n",
    "    def find_parent(x):\n",
    "        if parent[x] != x:\n",
    "            parent[x] = find_parent(parent[x])\n",
    "            \n",
    "        return parent[x]\n",
    "    \n",
    "        \n",
    "    def union(x, y):\n",
    "        x = find_parent(x)\n",
    "        y = find_parent(y)\n",
    "        \n",
    "        if x < y:\n",
    "            parent[y] = x\n",
    "        else:\n",
    "            parent[x] = y   \n",
    "               \n",
    "    \n",
    "    parent = [0] * (n+1)\n",
    "    for i in range(1, n+1):\n",
    "        parent[i] = i\n",
    "        \n",
    "    lst = defaultdict(set)\n",
    "    for i in range(1, n+1):\n",
    "        lst[i].add(i)    \n",
    "        \n",
    "    answer = []\n",
    "    \n",
    "    for i in range(len(queryType)):\n",
    "        a = students1[i]\n",
    "        b = students2[i]\n",
    "        \n",
    "        if queryType[i] == 'Friend':\n",
    "            union(a, b)\n",
    "            \n",
    "            for j in list(lst[a]):\n",
    "                lst[j].update(lst[b])\n",
    "            for j in list(lst[b]):\n",
    "                lst[j].update(lst[a])\n",
    "            \n",
    "            # lst[a].update(lst[b])\n",
    "            # lst[b].update(lst[a])\n",
    "            \n",
    "        else:\n",
    "            if find_parent(a) != find_parent(b):\n",
    "                answer.append(len(lst[a]) + len(lst[b]))\n",
    "            else:\n",
    "                answer.append(len(lst[a]))     \n",
    "    return answer"
   ]
  },
  {
   "cell_type": "code",
   "execution_count": null,
   "id": "e1865570",
   "metadata": {},
   "outputs": [],
   "source": [
    "lst = [103, 101, 103, 103, 101, 102, 100, 100, 101, 104]\n",
    "n = len(lst)\n",
    "\n",
    "bigger_count = 0\n",
    "cont = 0\n",
    "fv = -1\n",
    "total = 0\n",
    "\n",
    "lst.sort(reverse=True)\n",
    "\n",
    "for i in range(n):\n",
    "    if lst[i] != fv:\n",
    "        total += min(bigger_count, cont)\n",
    "        \n",
    "        bigger_count = i\n",
    "        fv = lst[i]\n",
    "        cont = 1\n",
    "    else:\n",
    "        cont += 1\n",
    "        \n",
    "total += min(bigger_count, cont)\n",
    "\n",
    "print(total)\n"
   ]
  },
  {
   "cell_type": "code",
   "execution_count": 10,
   "id": "5f32fb50",
   "metadata": {},
   "outputs": [
    {
     "name": "stdout",
     "output_type": "stream",
     "text": [
      "5 3\n",
      "1 6 7 9 11\n",
      "2 1\n",
      "2 2\n",
      "3 1\n",
      "3 2\n",
      "3 3\n",
      "4 1\n",
      "4 2\n",
      "4 3\n",
      "5 1\n",
      "5 2\n",
      "5 3\n",
      "30\n"
     ]
    }
   ],
   "source": [
    "import math\n",
    "\n",
    "n, k = map(int, input().split())\n",
    "lst = map(int, input().split())\n",
    "\n",
    "dp = [[0] * (k+1) for _ in range(n+1)]\n",
    "dp[1][1] = 1\n",
    "\n",
    "for i in range(2, n+1):\n",
    "    for j in range(1, k+1):\n",
    "        print(i, j)\n",
    "        if i == j:\n",
    "            dp[i][j] = i\n",
    "            break\n",
    "\n",
    "            \n",
    "        temp = math.factorial(i) // (math.factorial(j) * math.factorial(i-j))\n",
    "        dp[i][j] = temp * dp[j][j]\n",
    "\n",
    "print(dp[n][k])\n"
   ]
  },
  {
   "cell_type": "code",
   "execution_count": 4,
   "id": "9d69e780",
   "metadata": {},
   "outputs": [
    {
     "data": {
      "text/plain": [
       "12"
      ]
     },
     "execution_count": 4,
     "metadata": {},
     "output_type": "execute_result"
    }
   ],
   "source": [
    "5 3\n",
    "1 6 7 9 11"
   ]
  },
  {
   "cell_type": "code",
   "execution_count": 11,
   "id": "66f66824",
   "metadata": {},
   "outputs": [
    {
     "data": {
      "text/plain": [
       "[[0, 0, 0, 0],\n",
       " [0, 1, 0, 0],\n",
       " [0, 2, 2, 0],\n",
       " [0, 3, 6, 3],\n",
       " [0, 4, 12, 12],\n",
       " [0, 5, 20, 30]]"
      ]
     },
     "execution_count": 11,
     "metadata": {},
     "output_type": "execute_result"
    }
   ],
   "source": [
    "dp"
   ]
  },
  {
   "cell_type": "code",
   "execution_count": 20,
   "id": "76914e75",
   "metadata": {},
   "outputs": [
    {
     "name": "stdout",
     "output_type": "stream",
     "text": [
      "6 6\n",
      "1 2 3 4 5 6\n",
      "32\n"
     ]
    }
   ],
   "source": [
    "import math\n",
    "\n",
    "n, k = map(int, input().split())\n",
    "lst = map(int, input().split())\n",
    "\n",
    "dp = [[0] * (k+1) for _ in range(n+1)]\n",
    "dp[1][1] = 1\n",
    "\n",
    "for i in range(2, n+1):\n",
    "    for j in range(1, k+1):\n",
    "        #print(i, j)\n",
    "        if j == 1:\n",
    "            dp[i][j] = i % 1000000007\n",
    "        elif i == j:\n",
    "            dp[i][j] = 2**(i-1) % 1000000007\n",
    "            break\n",
    "\n",
    "        else:\n",
    "            dp[i][j] = (dp[i-1][j-1] * 2 + dp[i-1][j]) % 1000000007\n",
    "\n",
    "\n",
    "print(dp[n][k])"
   ]
  },
  {
   "cell_type": "code",
   "execution_count": 19,
   "id": "e5102112",
   "metadata": {},
   "outputs": [
    {
     "data": {
      "text/plain": [
       "[[0, 0, 0, 0, 0, 0, 0],\n",
       " [0, 1, 0, 0, 0, 0, 0],\n",
       " [0, 2, 2, 0, 0, 0, 0],\n",
       " [0, 3, 6, 4, 0, 0, 0],\n",
       " [0, 4, 12, 16, 8, 0, 0],\n",
       " [0, 5, 20, 40, 40, 16, 0],\n",
       " [0, 6, 30, 80, 120, 96, 32]]"
      ]
     },
     "execution_count": 19,
     "metadata": {},
     "output_type": "execute_result"
    }
   ],
   "source": [
    "dp"
   ]
  },
  {
   "cell_type": "code",
   "execution_count": null,
   "id": "734a099c",
   "metadata": {},
   "outputs": [],
   "source": []
  }
 ],
 "metadata": {
  "kernelspec": {
   "display_name": "Python 3",
   "language": "python",
   "name": "python3"
  },
  "language_info": {
   "codemirror_mode": {
    "name": "ipython",
    "version": 3
   },
   "file_extension": ".py",
   "mimetype": "text/x-python",
   "name": "python",
   "nbconvert_exporter": "python",
   "pygments_lexer": "ipython3",
   "version": "3.8.8"
  }
 },
 "nbformat": 4,
 "nbformat_minor": 5
}
