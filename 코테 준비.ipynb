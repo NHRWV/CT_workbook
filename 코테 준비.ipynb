{
 "cells": [
  {
   "cell_type": "code",
   "execution_count": null,
   "id": "e5a68858",
   "metadata": {},
   "outputs": [],
   "source": [
    "n, c = map(int, input().split())\n",
    "\n",
    "lst = []\n",
    "for i in range(n):\n",
    "    lst.append(int(input()))\n",
    "    \n",
    "lst.sort()\n",
    "\n",
    "start = 1\n",
    "end = lst[n-1] - lst[0]\n",
    "answer = 0\n",
    "\n",
    "\n",
    "while start <= end:\n",
    "    mid = (start + end) // 2\n",
    "    \n",
    "    temp = 0\n",
    "    count = c-1\n",
    "    \n",
    "    for i in range(1, n):\n",
    "        if lst[i] - lst[temp] >= mid:\n",
    "            temp = i\n",
    "            count -= 1\n",
    "            \n",
    "    if count > 0:\n",
    "        end = mid - 1\n",
    "    else:\n",
    "        start = mid + 1\n",
    "        answer = mid\n",
    "        \n",
    "        \n",
    "print(answer)\n",
    "        "
   ]
  },
  {
   "cell_type": "code",
   "execution_count": null,
   "id": "15f59470",
   "metadata": {},
   "outputs": [],
   "source": [
    "5 3\n",
    "1\n",
    "2\n",
    "8\n",
    "4\n",
    "9"
   ]
  }
 ],
 "metadata": {
  "kernelspec": {
   "display_name": "Python 3",
   "language": "python",
   "name": "python3"
  },
  "language_info": {
   "codemirror_mode": {
    "name": "ipython",
    "version": 3
   },
   "file_extension": ".py",
   "mimetype": "text/x-python",
   "name": "python",
   "nbconvert_exporter": "python",
   "pygments_lexer": "ipython3",
   "version": "3.8.8"
  }
 },
 "nbformat": 4,
 "nbformat_minor": 5
}
