{
 "cells": [
  {
   "cell_type": "code",
   "execution_count": null,
   "id": "e5a68858",
   "metadata": {},
   "outputs": [],
   "source": [
    "n, c = map(int, input().split())\n",
    "\n",
    "lst = []\n",
    "for i in range(n):\n",
    "    lst.append(int(input()))\n",
    "    \n",
    "lst.sort()\n",
    "\n",
    "start = 1\n",
    "end = lst[n-1] - lst[0]\n",
    "answer = 0\n",
    "\n",
    "\n",
    "while start <= end:\n",
    "    mid = (start + end) // 2\n",
    "    \n",
    "    temp = 0\n",
    "    count = c-1\n",
    "    \n",
    "    for i in range(1, n):\n",
    "        if lst[i] - lst[temp] >= mid:\n",
    "            temp = i\n",
    "            count -= 1\n",
    "            \n",
    "    if count > 0:\n",
    "        end = mid - 1\n",
    "    else:\n",
    "        start = mid + 1\n",
    "        answer = mid\n",
    "        \n",
    "        \n",
    "print(answer)\n",
    "        "
   ]
  },
  {
   "cell_type": "code",
   "execution_count": null,
   "id": "15f59470",
   "metadata": {},
   "outputs": [],
   "source": [
    "t = int(input())\n",
    "\n",
    "for i in range(t):\n",
    "    n = int(input())\n",
    "    a, b = map(int, input().split())\n",
    "    for j in range(n):\n",
    "        u, v = map(int, input().split())\n",
    "        \n",
    "    print(f'Material Management {i+1}')\n",
    "    print('Classification ---- End!')\n",
    "    "
   ]
  },
  {
   "cell_type": "code",
   "execution_count": null,
   "id": "475eeccf",
   "metadata": {},
   "outputs": [],
   "source": [
    "from itertools import product\n",
    "\n",
    "lst = list(map(list, product(*[['E', 'I'], ['N', 'S'], ['F', 'T'], ['P', 'J']])))\n",
    "\n",
    "n, m = map(int, input().split())\n",
    "\n",
    "board = []\n",
    "for i in range(n):\n",
    "    board.append(list(map(str, input().rstrip())))\n",
    "\n",
    "    \n",
    "dx = [-1, -1, -1, 0, 1, 1, 1, 0]\n",
    "dy = [-1, 0, 1, 1, 1, 0, -1, -1]\n",
    "\n",
    "answer = 0\n",
    "\n",
    "for i in range(n):\n",
    "    for j in range(m):\n",
    "        for k in range(8):\n",
    "            temp = [board[i][j]]\n",
    "            x = i\n",
    "            y = j\n",
    "            \n",
    "            for p in range(3):\n",
    "                x += dx[k]\n",
    "                y += dy[k]\n",
    "                \n",
    "                if x < 0 or x >= n or y < 0 or y >= m:\n",
    "                    break\n",
    "                \n",
    "                temp.append(board[x][y])\n",
    "\n",
    "            #print(temp)               \n",
    "            if temp in lst:\n",
    "                answer += 1\n",
    "            \n",
    "            \n",
    "print(answer)\n",
    "            "
   ]
  },
  {
   "cell_type": "code",
   "execution_count": 21,
   "id": "feb4c1c7",
   "metadata": {},
   "outputs": [
    {
     "data": {
      "text/plain": [
       "[['E', 'N', 'F', 'P'],\n",
       " ['E', 'N', 'F', 'J'],\n",
       " ['E', 'N', 'T', 'P'],\n",
       " ['E', 'N', 'T', 'J'],\n",
       " ['E', 'S', 'F', 'P'],\n",
       " ['E', 'S', 'F', 'J'],\n",
       " ['E', 'S', 'T', 'P'],\n",
       " ['E', 'S', 'T', 'J'],\n",
       " ['I', 'N', 'F', 'P'],\n",
       " ['I', 'N', 'F', 'J'],\n",
       " ['I', 'N', 'T', 'P'],\n",
       " ['I', 'N', 'T', 'J'],\n",
       " ['I', 'S', 'F', 'P'],\n",
       " ['I', 'S', 'F', 'J'],\n",
       " ['I', 'S', 'T', 'P'],\n",
       " ['I', 'S', 'T', 'J']]"
      ]
     },
     "execution_count": 21,
     "metadata": {},
     "output_type": "execute_result"
    }
   ],
   "source": [
    "5 5\n",
    "JICDE\n",
    "TFSFN\n",
    "SESTF\n",
    "EWERP\n",
    "ABCDE\n",
    "\n",
    "5 4\n",
    "ENFP\n",
    "ENFP\n",
    "ENFP\n",
    "ENFP\n",
    "ENFP"
   ]
  },
  {
   "cell_type": "code",
   "execution_count": 11,
   "id": "5936d3af",
   "metadata": {},
   "outputs": [
    {
     "name": "stdout",
     "output_type": "stream",
     "text": [
      "<itertools.product object at 0x000002816F320F80>\n"
     ]
    }
   ],
   "source": [
    "print(lst)"
   ]
  },
  {
   "cell_type": "code",
   "execution_count": 12,
   "id": "7c980e4c",
   "metadata": {},
   "outputs": [
    {
     "name": "stdout",
     "output_type": "stream",
     "text": [
      "('E', 'N', 'F', 'P')\n",
      "('E', 'N', 'F', 'J')\n",
      "('E', 'N', 'T', 'P')\n",
      "('E', 'N', 'T', 'J')\n",
      "('E', 'S', 'F', 'P')\n",
      "('E', 'S', 'F', 'J')\n",
      "('E', 'S', 'T', 'P')\n",
      "('E', 'S', 'T', 'J')\n",
      "('I', 'N', 'F', 'P')\n",
      "('I', 'N', 'F', 'J')\n",
      "('I', 'N', 'T', 'P')\n",
      "('I', 'N', 'T', 'J')\n",
      "('I', 'S', 'F', 'P')\n",
      "('I', 'S', 'F', 'J')\n",
      "('I', 'S', 'T', 'P')\n",
      "('I', 'S', 'T', 'J')\n"
     ]
    }
   ],
   "source": [
    "for i in lst:\n",
    "    print(i)"
   ]
  },
  {
   "cell_type": "code",
   "execution_count": 19,
   "id": "ed7777f1",
   "metadata": {},
   "outputs": [
    {
     "name": "stdout",
     "output_type": "stream",
     "text": [
      "1\n"
     ]
    }
   ],
   "source": []
  },
  {
   "cell_type": "code",
   "execution_count": null,
   "id": "d8a5ef86",
   "metadata": {},
   "outputs": [],
   "source": []
  },
  {
   "cell_type": "code",
   "execution_count": null,
   "id": "bdf8656f",
   "metadata": {},
   "outputs": [],
   "source": []
  }
 ],
 "metadata": {
  "kernelspec": {
   "display_name": "Python 3",
   "language": "python",
   "name": "python3"
  },
  "language_info": {
   "codemirror_mode": {
    "name": "ipython",
    "version": 3
   },
   "file_extension": ".py",
   "mimetype": "text/x-python",
   "name": "python",
   "nbconvert_exporter": "python",
   "pygments_lexer": "ipython3",
   "version": "3.8.8"
  }
 },
 "nbformat": 4,
 "nbformat_minor": 5
}
