{
 "cells": [
  {
   "cell_type": "code",
   "execution_count": null,
   "id": "e5a68858",
   "metadata": {},
   "outputs": [],
   "source": [
    "n, c = map(int, input().split())\n",
    "\n",
    "lst = []\n",
    "for i in range(n):\n",
    "    lst.append(int(input()))\n",
    "    \n",
    "lst.sort()\n",
    "\n",
    "start = 1\n",
    "end = lst[n-1] - lst[0]\n",
    "answer = 0\n",
    "\n",
    "\n",
    "while start <= end:\n",
    "    mid = (start + end) // 2\n",
    "    \n",
    "    temp = 0\n",
    "    count = c-1\n",
    "    \n",
    "    for i in range(1, n):\n",
    "        if lst[i] - lst[temp] >= mid:\n",
    "            temp = i\n",
    "            count -= 1\n",
    "            \n",
    "    if count > 0:\n",
    "        end = mid - 1\n",
    "    else:\n",
    "        start = mid + 1\n",
    "        answer = mid\n",
    "        \n",
    "        \n",
    "print(answer)\n",
    "        "
   ]
  },
  {
   "cell_type": "code",
   "execution_count": null,
   "id": "15f59470",
   "metadata": {},
   "outputs": [],
   "source": [
    "t = int(input())\n",
    "\n",
    "for i in range(t):\n",
    "    n = int(input())\n",
    "    a, b = map(int, input().split())\n",
    "    for j in range(n):\n",
    "        u, v = map(int, input().split())\n",
    "        \n",
    "    print(f'Material Management {i+1}')\n",
    "    print('Classification ---- End!')\n",
    "    "
   ]
  },
  {
   "cell_type": "code",
   "execution_count": null,
   "id": "475eeccf",
   "metadata": {},
   "outputs": [],
   "source": [
    "from itertools import product\n",
    "\n",
    "lst = list(map(list, product(*[['E', 'I'], ['N', 'S'], ['F', 'T'], ['P', 'J']])))\n",
    "\n",
    "n, m = map(int, input().split())\n",
    "\n",
    "board = []\n",
    "for i in range(n):\n",
    "    board.append(list(map(str, input().rstrip())))\n",
    "\n",
    "    \n",
    "dx = [-1, -1, -1, 0, 1, 1, 1, 0]\n",
    "dy = [-1, 0, 1, 1, 1, 0, -1, -1]\n",
    "\n",
    "answer = 0\n",
    "\n",
    "for i in range(n):\n",
    "    for j in range(m):\n",
    "        for k in range(8):\n",
    "            temp = [board[i][j]]\n",
    "            x = i\n",
    "            y = j\n",
    "            \n",
    "            for p in range(3):\n",
    "                x += dx[k]\n",
    "                y += dy[k]\n",
    "                \n",
    "                if x < 0 or x >= n or y < 0 or y >= m:\n",
    "                    break\n",
    "                \n",
    "                temp.append(board[x][y])\n",
    "\n",
    "            #print(temp)               \n",
    "            if temp in lst:\n",
    "                answer += 1\n",
    "            \n",
    "            \n",
    "print(answer)\n",
    "            "
   ]
  },
  {
   "cell_type": "code",
   "execution_count": 6,
   "id": "5936d3af",
   "metadata": {},
   "outputs": [
    {
     "data": {
      "text/plain": [
       "100"
      ]
     },
     "execution_count": 6,
     "metadata": {},
     "output_type": "execute_result"
    }
   ],
   "source": [
    "sum(lst)"
   ]
  },
  {
   "cell_type": "code",
   "execution_count": 19,
   "id": "ed7777f1",
   "metadata": {},
   "outputs": [
    {
     "name": "stdout",
     "output_type": "stream",
     "text": [
      "1\n"
     ]
    }
   ],
   "source": [
    "from collections import deque\n",
    "\n",
    "\n",
    "n = int(input())\n",
    "card = list(map(int, input().split()))\n",
    "\n",
    "dp = [0] * n\n",
    "\n",
    "for i in range(n):\n",
    "    if card[i]:\n",
    "        continue\n",
    "        \n",
    "    else:\n",
    "        if card[i+1]:\n",
    "            \n",
    "            \n",
    "        "
   ]
  },
  {
   "cell_type": "markdown",
   "id": "8f2f0398",
   "metadata": {},
   "source": [
    "https://www.acmicpc.net/problem/11721"
   ]
  },
  {
   "cell_type": "code",
   "execution_count": null,
   "id": "d8a5ef86",
   "metadata": {},
   "outputs": [],
   "source": [
    "word = input()\n",
    "\n",
    "for i in range(0, len(word), 10):\n",
    "    print(word[i:i+10])"
   ]
  },
  {
   "cell_type": "code",
   "execution_count": null,
   "id": "9c6eb1e4",
   "metadata": {},
   "outputs": [],
   "source": []
  },
  {
   "cell_type": "code",
   "execution_count": null,
   "id": "bdf8656f",
   "metadata": {},
   "outputs": [],
   "source": [
    "# 해당 라벨에서 obj_type을 ORG로 변경할 것.\n",
    "\n",
    "02 = [13, 364, 588, 1216, 4212, 5061, 6090, 8604, 11376, 14836, 15630, 18157, 18582, 21695, 23361, 23365, 23785, 25992, 29353, 31302, \n",
    "    31661, 32218, ]"
   ]
  },
  {
   "cell_type": "code",
   "execution_count": null,
   "id": "06fe6792",
   "metadata": {},
   "outputs": [],
   "source": [
    "# 라벨을 바꾸고 obj_type을 LOC로 변경할 것.\n",
    "\n",
    "02->7 = [286, 3226, 4423, 6281, 7441, 10309, 11401, 12092, 12309, 12714, 13327, 13617, 13502, 16593, 18065, 18502, 18558, 18848, 20268, \n",
    "       21989, 22478, 22676, 23059, 23656, 25227, 25576, 25703, 23819, 22940, 21565, 21255, 21340, 20763, 20344, 20340, 18812, 17352, \n",
    "       17048, 16946, 16726, 16246, 15652, 15190, 13118, 12717, 11810, 11353, 11354, 11360, 10628, 10538, 10351, 10280, 9938, 9761, 9356, \n",
    "       9255, 8290, 7294, 6903, 6617, 6186, 5989, 5628, 3848, 3031, 2545, 1307, 1093, 806, 135, 25930, 26045, 26478, 26532, 26945, \n",
    "       27148, 27683, 27721, 27745, 27795, 28330, 29143, 29375, 29382, 30235, 30910, 31210, 31234, 31348, 31865, 31901, 32409, 32422, \n",
    "       ]"
   ]
  },
  {
   "cell_type": "code",
   "execution_count": null,
   "id": "f21dbba7",
   "metadata": {},
   "outputs": [],
   "source": [
    "# 해당 라벨을 바꿀 것.\n",
    "\n",
    "02->3 = [1990, 592, 2171, 3539, 8745, 11780, 22895, 31401]\n",
    "\n",
    "02->20 = [4958, 18772, 31605, ]\n",
    "\n",
    "02->0 = [5522, 7649, 29766, ]\n",
    "\n",
    "02->1 = [16238, 23328, 30202, ]\n",
    "\n",
    "02->19 = [16422, ]\n",
    "\n",
    "017->4 = [21082]\n",
    "\n",
    "028->15 = [21482]\n",
    "\n",
    "017->21 = [24560]"
   ]
  },
  {
   "cell_type": "code",
   "execution_count": null,
   "id": "170d157f",
   "metadata": {},
   "outputs": [],
   "source": [
    "# 해당 라벨에서 subj_type과 obj_type을 org로 바꿀 것.\n",
    "\n",
    "02 = [3118, ]"
   ]
  },
  {
   "cell_type": "code",
   "execution_count": null,
   "id": "038a67a5",
   "metadata": {},
   "outputs": [],
   "source": [
    "# 라벨 변경 및, obj_type을 org로 변경할 것.\n",
    "\n",
    "02->20 = [7365, 14859, 19704, 25507, 26034, ]\n",
    "\n",
    "02->5 = [29316, 30018, ]"
   ]
  },
  {
   "cell_type": "code",
   "execution_count": null,
   "id": "c2e237c4",
   "metadata": {},
   "outputs": [],
   "source": [
    "# 라벨 변경 및 obj_type을 poh로 변경\n",
    "\n",
    "02->3 = [9055, 14724, 16063, 16613, 20597, 21196, 26294, 27315, 27504, 29716, 29940, 32351, ]"
   ]
  },
  {
   "cell_type": "markdown",
   "id": "fc758124",
   "metadata": {},
   "source": [
    "라벨 4 obj_type을 전부 POH로 변경할 것.\n",
    "\n",
    "라벨 11 OBJ_TYPE를 전부 LOC로 변경할 것..21개\n",
    "\n",
    "라벨 17 OBJ_TYPE를 전부 PER로 변경할 것. 약 30개"
   ]
  },
  {
   "cell_type": "code",
   "execution_count": null,
   "id": "a1d75e0e",
   "metadata": {},
   "outputs": [],
   "source": [
    "# 해당 라벨에서 subj_word와 obj_word 교환\n",
    "\n",
    "2 = [9804,  ]\n",
    "\n",
    "28 = [2585]"
   ]
  },
  {
   "cell_type": "code",
   "execution_count": null,
   "id": "665b7736",
   "metadata": {},
   "outputs": [],
   "source": [
    "12961\t12961\tPER\t박제상\t53\t55\tPOH\t국대부인\t6\t9\t한반도에서 국대부인을 사용한 최초의 기록은 《삼국유사》로 신라 내물왕 때의 사람인 김제상(혹은 박제상)의 아내를 국대부인으로 기록하고 있다."
   ]
  },
  {
   "cell_type": "code",
   "execution_count": null,
   "id": "2e43860f",
   "metadata": {},
   "outputs": [],
   "source": [
    "\n",
    "def sol():\n",
    "    df.loc[df.label_num == 4, ('obj_type')] = 'POH'\n",
    "    df.loc[df.label_num == 11, ('obj_type')] = 'LOC'\n",
    "    df.loc[df.label_num == 17, ('obj_type')] = 'PER'"
   ]
  },
  {
   "cell_type": "code",
   "execution_count": null,
   "id": "41416daa",
   "metadata": {},
   "outputs": [],
   "source": [
    "from collections import deque\n",
    "\n",
    "n, q = map(int, input().split())\n",
    "house = list(map(int, input().split()))\n",
    "\n",
    "edge = [[] for _ in range(n+1)]\n",
    "for i in range(n-1):\n",
    "    a, b = map(int, input().split())\n",
    "    edge[a].append(b)\n",
    "    edge[b].append(a)\n",
    "    \n",
    "for i in range(q):\n",
    "    s, e = map(int, input().split())\n",
    "    \n",
    "    if s == e:\n",
    "        print(house[s-1] % 1000000007)\n",
    "        continue\n",
    "        \n",
    "    \n",
    "    queue = deque([(s, str(house[s-1]))])\n",
    "    visited = [0] * (n+1)\n",
    "    visited[s] = 1\n",
    "    \n",
    "    while queue:\n",
    "        x, answer = queue.popleft()\n",
    "        \n",
    "        if x == e:\n",
    "            print(int(answer) % 1000000007)\n",
    "            break\n",
    "        \n",
    "        for i in edge[x]:\n",
    "            if not visited[i]:\n",
    "                queue.append((i, answer + str(house[i-1])))\n",
    "                visited[i] = 1\n",
    "            \n",
    "    \n",
    "    "
   ]
  },
  {
   "cell_type": "code",
   "execution_count": null,
   "id": "1047c765",
   "metadata": {},
   "outputs": [],
   "source": [
    "n = int(input())\n",
    "price = list(map(int, input().split()))\n",
    "\n",
    "info = [[] for _ in range(n)]\n",
    "for i in range(1, n+1):\n",
    "    p = int(input())\n",
    "    for j in range(p):\n",
    "        a, d = map(int, input().split())\n",
    "        info[i-1].append((i, a, d))\n",
    "        \n",
    "\n",
    "        \n",
    "    "
   ]
  },
  {
   "cell_type": "code",
   "execution_count": 10,
   "id": "1d650046",
   "metadata": {},
   "outputs": [
    {
     "name": "stdout",
     "output_type": "stream",
     "text": [
      "4\n",
      "10 15 20 25\n",
      "2\n",
      "3 10\n",
      "2 20\n",
      "0\n",
      "1\n",
      "4 10\n",
      "1\n",
      "1 10\n",
      "36\n"
     ]
    }
   ],
   "source": [
    "n = int(input())\n",
    "price = list(map(int, input().split()))\n",
    "\n",
    "info = [[] for _ in range(n+1)]\n",
    "for i in range(1, n+1):\n",
    "    p = int(input())\n",
    "    for j in range(p):\n",
    "        a, d = map(int, input().split())\n",
    "        info[i].append((a, d))\n",
    "        \n",
    "        \n",
    "\n",
    "cur = price.index(min(price)) + 1\n",
    "lst = {cur}\n",
    "answer = min(price)\n",
    "\n",
    "\n",
    "\n",
    "while len(lst) < n:\n",
    "    for a, d in info[cur]:\n",
    "        price[a-1] -= d\n",
    "        if price[a-1] < 1:\n",
    "            price[a-1] = 1\n",
    "        \n",
    "    target = 1001\n",
    "    for i in range(n):\n",
    "        if i+1 not in lst and price[i] < target:\n",
    "            target = price[i]\n",
    "            cur = i+1\n",
    "            \n",
    "    answer += price[cur-1]\n",
    "    lst.add(cur)\n",
    "    \n",
    "    \n",
    "print(answer)\n"
   ]
  },
  {
   "cell_type": "code",
   "execution_count": 8,
   "id": "d3fe99e8",
   "metadata": {},
   "outputs": [],
   "source": [
    "4\n",
    "10 15 20 25\n",
    "2\n",
    "3 10\n",
    "2 20\n",
    "0\n",
    "1\n",
    "4 10\n",
    "1\n",
    "1 10"
   ]
  },
  {
   "cell_type": "code",
   "execution_count": 9,
   "id": "67402854",
   "metadata": {},
   "outputs": [
    {
     "data": {
      "text/plain": [
       "set"
      ]
     },
     "execution_count": 9,
     "metadata": {},
     "output_type": "execute_result"
    }
   ],
   "source": [
    "type(a)"
   ]
  },
  {
   "cell_type": "code",
   "execution_count": null,
   "id": "ad31d7d5",
   "metadata": {},
   "outputs": [],
   "source": [
    "from itertools import permutations as perm\n",
    "\n",
    "n = int(input())\n",
    "li = list(map(int, input().split()))\n",
    "\n",
    "infos = [[] for _ in range(n)]\n",
    "for i in range(n):\n",
    "    p = int(input())\n",
    "    for _ in range(p):\n",
    "        a, d = map(int, input().split())\n",
    "        a -= 1\n",
    "        infos[i].append((a, d))\n",
    "        \n",
    "min_cost = float('inf')\n",
    "for case in perm(range(n)):\n",
    "    cost = 0\n",
    "    bargained = [0] * n\n",
    "    for v in case:\n",
    "        cost += max(1, li[v] - bargained[v])\n",
    "        for a, d in infos[v]:\n",
    "            bargained[a] += d\n",
    "            \n",
    "    min_cost = min(min_cost, cost)\n",
    "    \n",
    "print(min_cost)"
   ]
  },
  {
   "cell_type": "code",
   "execution_count": 1,
   "id": "47777c10",
   "metadata": {},
   "outputs": [
    {
     "name": "stdout",
     "output_type": "stream",
     "text": [
      "8\n",
      "WAHEWHEE\n",
      "6\n"
     ]
    }
   ],
   "source": [
    "n = int(input())\n",
    "s = input()\n",
    "\n",
    "lst = [0] * 3\n",
    "temp = 0\n",
    "\n",
    "for i in range(n):\n",
    "    if s[i] == 'W':\n",
    "        lst[0] += 1\n",
    "        \n",
    "    elif s[i] == 'H':\n",
    "        lst[1] += lst[0]\n",
    "        \n",
    "    elif s[i] == 'E':\n",
    "        temp += lst[2]\n",
    "        lst[2] += lst[1] + lst[2]\n",
    "        \n",
    "        \n",
    "print(temp % int(1e9 + 7))\n"
   ]
  },
  {
   "cell_type": "code",
   "execution_count": null,
   "id": "52351d01",
   "metadata": {},
   "outputs": [],
   "source": [
    "8\n",
    "WAHEWHEE"
   ]
  },
  {
   "cell_type": "code",
   "execution_count": 22,
   "id": "3b1de5e7",
   "metadata": {},
   "outputs": [
    {
     "data": {
      "text/plain": [
       "[3, 9, 63]"
      ]
     },
     "execution_count": 22,
     "metadata": {},
     "output_type": "execute_result"
    }
   ],
   "source": [
    "lst"
   ]
  },
  {
   "cell_type": "code",
   "execution_count": 1,
   "id": "3f7bd91d",
   "metadata": {},
   "outputs": [],
   "source": [
    "a = '123'"
   ]
  },
  {
   "cell_type": "code",
   "execution_count": 2,
   "id": "84e04405",
   "metadata": {},
   "outputs": [
    {
     "data": {
      "text/plain": [
       "'23'"
      ]
     },
     "execution_count": 2,
     "metadata": {},
     "output_type": "execute_result"
    }
   ],
   "source": [
    "a[1:]"
   ]
  },
  {
   "cell_type": "code",
   "execution_count": 3,
   "id": "8ac902f7",
   "metadata": {},
   "outputs": [
    {
     "data": {
      "text/plain": [
       "'12'"
      ]
     },
     "execution_count": 3,
     "metadata": {},
     "output_type": "execute_result"
    }
   ],
   "source": [
    "a[:2]"
   ]
  },
  {
   "cell_type": "code",
   "execution_count": 5,
   "id": "eacbaae4",
   "metadata": {},
   "outputs": [
    {
     "name": "stdout",
     "output_type": "stream",
     "text": [
      "102\n",
      "12\n"
     ]
    }
   ],
   "source": [
    "ab = input()\n",
    "\n",
    "if len(ab) == 2:\n",
    "    print(int(ab[0]) + int(ab[-1]))\n",
    "elif len(ab) == 3:\n",
    "    if ab[:2] == '10':\n",
    "        print(10 + int(ab[-1]))\n",
    "    else:\n",
    "        print(10 + int(ab[0]))\n",
    "else:\n",
    "    print(20)"
   ]
  },
  {
   "cell_type": "code",
   "execution_count": null,
   "id": "1e377b3b",
   "metadata": {},
   "outputs": [],
   "source": []
  }
 ],
 "metadata": {
  "kernelspec": {
   "display_name": "Python 3",
   "language": "python",
   "name": "python3"
  },
  "language_info": {
   "codemirror_mode": {
    "name": "ipython",
    "version": 3
   },
   "file_extension": ".py",
   "mimetype": "text/x-python",
   "name": "python",
   "nbconvert_exporter": "python",
   "pygments_lexer": "ipython3",
   "version": "3.8.8"
  }
 },
 "nbformat": 4,
 "nbformat_minor": 5
}
