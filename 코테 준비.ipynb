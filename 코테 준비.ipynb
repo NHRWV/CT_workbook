{
 "cells": [
  {
   "cell_type": "code",
   "execution_count": null,
   "id": "80e98664",
   "metadata": {},
   "outputs": [],
   "source": [
    "n = int(input())\n",
    "\n",
    "lst = set()\n",
    "for i in range(n):\n",
    "    lst.add(input())\n",
    "    \n",
    "lst = list(lst)\n",
    "lst.sort()\n",
    "\n",
    "lst = sorted(lst, key = lambda x : (len(x)))"
   ]
  },
  {
   "cell_type": "code",
   "execution_count": null,
   "id": "ad917cb1",
   "metadata": {},
   "outputs": [],
   "source": [
    "while True:\n",
    "    word = input()\n",
    "    if word == '0':\n",
    "        break\n",
    "        \n",
    "    if word == word[::-1]:\n",
    "        print('yes')\n",
    "    else:\n",
    "        print('no')\n",
    "        \n",
    " "
   ]
  },
  {
   "cell_type": "code",
   "execution_count": null,
   "id": "53da4a4f",
   "metadata": {},
   "outputs": [],
   "source": [
    "n = int(input())\n",
    "\n",
    "def sol(n):\n",
    "    count = 0\n",
    "    num = 666\n",
    "    \n",
    "    while True:\n",
    "        if '666' in str(num):\n",
    "            count += 1\n",
    "            \n",
    "        if count == n:\n",
    "            print(num)\n",
    "            break\n",
    "            \n",
    "        num += 1\n",
    "        \n",
    "sol(n)"
   ]
  },
  {
   "cell_type": "code",
   "execution_count": null,
   "id": "1bd70412",
   "metadata": {},
   "outputs": [],
   "source": [
    "k, n = map(int, input().split())\n",
    "\n",
    "lst = []\n",
    "for i in range(k):\n",
    "    lst.append(int(input()))\n",
    "    \n",
    "    \n",
    "start = 0\n",
    "end = max(lst)\n",
    "answer = 0\n",
    "\n",
    "while start <= end:\n",
    "    mid = (start + end) // 2\n",
    "    temp = 0\n",
    "    \n",
    "    for i in lst:\n",
    "        if mid > 0:\n",
    "            temp += i // mid\n",
    "            \n",
    "    if temp >= n:\n",
    "        start = mid + 1\n",
    "        answer = mid\n",
    "    else:\n",
    "        end = mid - 1\n",
    "            \n",
    "print(answer)"
   ]
  },
  {
   "cell_type": "code",
   "execution_count": null,
   "id": "3359f4aa",
   "metadata": {},
   "outputs": [],
   "source": [
    "n = int(input())\n",
    "a = set(map(int, input().split()))\n",
    "m = int(input())\n",
    "b = list(map(int, input().split()))\n",
    "\n",
    "for i in b:\n",
    "    if i in a:\n",
    "        print(1)\n",
    "    else:\n",
    "        print(0)"
   ]
  },
  {
   "cell_type": "code",
   "execution_count": null,
   "id": "d64b44c2",
   "metadata": {},
   "outputs": [],
   "source": [
    "from collections import deque\n",
    "\n",
    "t = int(input())\n",
    "for _ in range(t):\n",
    "    n, m = map(int, input().split())\n",
    "    \n",
    "    "
   ]
  },
  {
   "cell_type": "code",
   "execution_count": null,
   "id": "5aefbed8",
   "metadata": {},
   "outputs": [],
   "source": [
    "n = int(input())\n",
    "\n",
    "count = 0\n",
    "num = 666\n",
    "    \n",
    "while True:\n",
    "    if '666' in str(num):\n",
    "        count += 1\n",
    "            \n",
    "    if count == n:\n",
    "        print(num)\n",
    "        break\n",
    "            \n",
    "    num += 1"
   ]
  },
  {
   "cell_type": "code",
   "execution_count": null,
   "id": "1c249fc1",
   "metadata": {},
   "outputs": [],
   "source": [
    "from collections import deque\n",
    "\n",
    "n, k = map(int, input().split())\n",
    "s = list(input())\n",
    "\n",
    "stack = deque()\n",
    "count = 0\n",
    "for i in range(n):\n",
    "    while stack and count < k and stack[-1] < s[i]:\n",
    "        count += 1\n",
    "        stack.pop()\n",
    "        \n",
    "    stack.append(s[i])\n",
    "    \n",
    "    \n",
    "print(\"\".join(stack)[:n-k])"
   ]
  },
  {
   "cell_type": "code",
   "execution_count": null,
   "id": "05796cc5",
   "metadata": {},
   "outputs": [],
   "source": [
    "pay = int(input())\n",
    "\n",
    "lst = [500, 100, 50, 10, 5, 1]\n",
    "\n",
    "value = 1000 - pay\n",
    "count = 0\n",
    "while value > 0:\n",
    "    count += value // lst[0]\n",
    "    value %= lst[0]\n",
    "    lst.pop(0)\n",
    "    \n",
    "print(count)"
   ]
  },
  {
   "cell_type": "code",
   "execution_count": null,
   "id": "5e75a3de",
   "metadata": {},
   "outputs": [],
   "source": [
    "n = int(input())\n",
    "\n",
    "dp = [-1] * 5001\n",
    "dp[3] = 1\n",
    "dp[5] = 1\n",
    "for i in range(4, n+1):\n",
    "    if not i % 3:\n",
    "        dp[i] = min(dp[i], dp[i//3] + 1)\n",
    "        \n",
    "    if not i % 5:\n",
    "        dp[i] = min(dp[i], dp[i//5] + 1)\n",
    "        \n",
    "        \n",
    "print(dp[n])"
   ]
  },
  {
   "cell_type": "code",
   "execution_count": null,
   "id": "8cf18ebe",
   "metadata": {},
   "outputs": [],
   "source": [
    "n = int(input())\n",
    "\n",
    "dist = list(map(int, input().split()))\n",
    "price = list(map(int, input().split()))\n",
    "\n",
    "answer = 0\n",
    "std = price[0]\n",
    "for i in range(n-1):\n",
    "    if std > price[i]:\n",
    "        std = price[i]\n",
    "    answer += std * dist[i]\n",
    "    \n",
    "    \n",
    "print(answer)\n",
    "    "
   ]
  },
  {
   "cell_type": "code",
   "execution_count": null,
   "id": "d8b71c7a",
   "metadata": {},
   "outputs": [],
   "source": [
    "n, m = map(int, input().split())\n",
    "crd = list(map(int, input().split()))\n",
    "\n",
    "pos = []\n",
    "neg = []\n",
    "maxi = 0\n",
    "for i in range(n):\n",
    "    if crd[i] > 0:\n",
    "        pos.append(crd[i])\n",
    "    elif crd[i] < 0:\n",
    "        neg.append(crd[i])\n",
    "        \n",
    "    maxi = max(maxi, abs(crd[i]))\n",
    "    \n",
    "neg.sort()\n",
    "pos.sort(reverse = True)\n",
    "    \n",
    "lst = []\n",
    "for i in range(0, len(pos), m):\n",
    "    if pos[i] != maxi:\n",
    "        lst.append(pos[i])\n",
    "for i in range(0, len(neg), m):\n",
    "    if abs(neg[i]) != maxi:\n",
    "        lst.append(neg[i])\n",
    "        \n",
    "answer = maxi\n",
    "for i in lst:\n",
    "    answer += abs(2 * i)\n",
    "    \n",
    "print(answer)\n",
    "    \n",
    "        \n"
   ]
  },
  {
   "cell_type": "code",
   "execution_count": null,
   "id": "8ebf8986",
   "metadata": {},
   "outputs": [],
   "source": [
    "import sys\n",
    "\n",
    "n = int(input())\n",
    "crane = list(map(int, input().split()))\n",
    "m = int(input())\n",
    "box = list(map(int, input().split()))\n",
    "\n",
    "crane.sort(reverse = True)\n",
    "box.sort(reverse = True)\n",
    "\n",
    "if crane[0] < box[0]:\n",
    "    print(-1)\n",
    "    sys.exit()\n",
    "    \n",
    "time = 0\n",
    "while m > 0:\n",
    "    for i in crane:\n",
    "        for j in box:\n",
    "            if i >= j:\n",
    "                box.pop(0)\n",
    "                m -= 1\n",
    "                break\n",
    "                \n",
    "    time += 1\n",
    "    \n",
    "print(time)"
   ]
  },
  {
   "cell_type": "code",
   "execution_count": null,
   "id": "6a32e7a9",
   "metadata": {},
   "outputs": [],
   "source": [
    "import heapq\n",
    "\n",
    "n = int(input())\n",
    "lst = []\n",
    "\n",
    "for i in range(n):\n",
    "    lst.append(int(input()))\n",
    "    \n",
    "heapq.heapify(lst)\n",
    "answer = 0\n",
    "while len(lst) > 1:\n",
    "    a = heapq.heappop(lst)\n",
    "    b = heapq.heappop(lst)\n",
    "    \n",
    "    temp = a + b\n",
    "    answer += temp\n",
    "    heapq.heappush(lst, temp)\n",
    "\n",
    "print(answer)"
   ]
  },
  {
   "cell_type": "code",
   "execution_count": null,
   "id": "faf96969",
   "metadata": {},
   "outputs": [],
   "source": [
    "n = int(input())\n",
    "\n",
    "pos = []\n",
    "neg = []\n",
    "answer = 0\n",
    "\n",
    "for i in range(n):\n",
    "    a = int(input())\n",
    "    \n",
    "    if a == 1:\n",
    "        answer += 1\n",
    "    elif a > 0:\n",
    "        pos.append(a)\n",
    "    else:\n",
    "        neg.append(a)\n",
    "    \n",
    "pos.sort(reverse = True)\n",
    "neg.sort()\n",
    "\n",
    "for i in range(0, len(pos), 2):\n",
    "    if i != len(pos) - 1:\n",
    "        answer += pos[i] * pos[i+1]\n",
    "    else:\n",
    "        answer += pos[i]\n",
    "for i in range(0, len(neg), 2):\n",
    "    if i != len(neg) - 1:\n",
    "        answer += neg[i] * neg[i+1]\n",
    "    else:\n",
    "        answer += neg[i]\n",
    "        \n",
    "print(answer)"
   ]
  },
  {
   "cell_type": "code",
   "execution_count": null,
   "id": "cecdd5fe",
   "metadata": {},
   "outputs": [],
   "source": [
    "word = input()\n",
    "\n",
    "answer = ''\n",
    "temp = 0\n",
    "\n",
    "for i in word:\n",
    "    if i.isdigit():\n",
    "        temp += int(i)\n",
    "    else:\n",
    "        answer += i\n",
    "        \n",
    "answer = list(answer)\n",
    "answer.sort()\n",
    "\n",
    "if temp != 0:\n",
    "    answer.append(str(temp))\n",
    "    \n",
    "print(\"\".join(answer))\n",
    "\n"
   ]
  },
  {
   "cell_type": "code",
   "execution_count": null,
   "id": "f0b825e3",
   "metadata": {},
   "outputs": [],
   "source": [
    "n = int(input())\n",
    "\n",
    "lst = []\n",
    "for i in range(n):\n",
    "    a, b = map(int, input().split())\n",
    "    lst.append((a, b))\n",
    "    \n",
    "\n",
    "for x, y in lst:\n",
    "    rank = 1\n",
    "    for i, j in lst:\n",
    "        if x < i and y < j:\n",
    "            rank += 1\n",
    "            \n",
    "    print(rank, end = ' ')"
   ]
  },
  {
   "cell_type": "code",
   "execution_count": null,
   "id": "863842d8",
   "metadata": {},
   "outputs": [],
   "source": [
    "n = int(input())\n",
    "\n",
    "bag = 0\n",
    "\n",
    "while n >= 0:\n",
    "    if not n % 5:\n",
    "        bag += n // 5\n",
    "        print(bag)\n",
    "        break\n",
    "        \n",
    "    n -= 3\n",
    "    bag += 1\n",
    "\n",
    "else:\n",
    "    print(-1)"
   ]
  },
  {
   "cell_type": "code",
   "execution_count": null,
   "id": "1ebb2ec8",
   "metadata": {},
   "outputs": [],
   "source": [
    "n = int(input())\n",
    "card = [0] * (int(2e7) + 1)\n",
    "\n",
    "for i in map(int, input().split()):\n",
    "    card[i] += 1\n",
    "\n",
    "m = int(input())\n",
    "for i in map(int, input().split()):\n",
    "    print(card[i], end = ' ')"
   ]
  },
  {
   "cell_type": "code",
   "execution_count": null,
   "id": "949a34cb",
   "metadata": {},
   "outputs": [],
   "source": [
    "k, n = map(int, input().split())\n",
    "\n",
    "lst = []\n",
    "for i in range(k):\n",
    "    lst.append(int(input()))\n",
    "\n",
    "start = 0\n",
    "end = max(lst)\n",
    "answer = 0\n",
    "\n",
    "while start <= end:\n",
    "    mid = (start + end) // 2\n",
    "    \n",
    "    temp = 0\n",
    "    for i in lst:\n",
    "        if mid > 0:\n",
    "            temp += i // mid\n",
    "            \n",
    "    if temp >= n:\n",
    "        start = mid + 1\n",
    "        answer = mid\n",
    "        \n",
    "    else:\n",
    "        end = mid - 1\n",
    "        \n",
    "print(answer)"
   ]
  },
  {
   "cell_type": "code",
   "execution_count": null,
   "id": "1d91ee9e",
   "metadata": {},
   "outputs": [],
   "source": [
    "from collections import deque\n",
    "\n",
    "t = int(input())\n",
    "for _ in range(t):\n",
    "    n, m = map(int, input().split())\n",
    "    \n",
    "    lst = list(map(int, input().split()))\n",
    "    mark = [0] * n\n",
    "    mark[m] = 1\n",
    "    \n",
    "    lst = deque(lst)\n",
    "    mark = deque(mark)\n",
    "    count = 0\n",
    "    \n",
    "    while True:\n",
    "        if lst[0] == max(lst):\n",
    "            count += 1\n",
    "            if mark[0]:\n",
    "                print(count)\n",
    "                break\n",
    "                \n",
    "            else:\n",
    "                lst.popleft()\n",
    "                mark.popleft()\n",
    "                \n",
    "                \n",
    "        else:\n",
    "            lst.append(lst.popleft())\n",
    "            mark.append(mark.popleft())\n",
    "                \n",
    "        \n",
    "                "
   ]
  },
  {
   "cell_type": "code",
   "execution_count": null,
   "id": "2718390c",
   "metadata": {},
   "outputs": [],
   "source": [
    "a"
   ]
  },
  {
   "cell_type": "code",
   "execution_count": null,
   "id": "9b5f4c80",
   "metadata": {},
   "outputs": [],
   "source": [
    "import math\n",
    "\n",
    "def is_prime_num(n):\n",
    "    if n == 1:\n",
    "        return 0\n",
    "    \n",
    "    for i in range(2, int(math.sqrt(n)) + 1):\n",
    "        if n % i == 0:\n",
    "            return 0\n",
    "    return 1\n",
    "\n",
    "\n",
    "n = int(input())\n",
    "\n",
    "cur = 2\n",
    "temp = 2\n",
    "for i in range(3, 10000):\n",
    "    if is_prime_num(i):\n",
    "        temp = cur\n",
    "        cur = i\n",
    "        \n",
    "        if cur * temp > n:\n",
    "            print(cur * temp)\n",
    "            break\n",
    "        \n",
    "    "
   ]
  },
  {
   "cell_type": "code",
   "execution_count": null,
   "id": "556d6edc",
   "metadata": {},
   "outputs": [],
   "source": [
    "n, k = map(int, input().split())\n",
    "\n",
    "item = [(0, 0)]\n",
    "dp = [[0] * (k+1) for _ in range(n+1)]\n",
    "\n",
    "for i in range(n):\n",
    "    w, v = map(int, input().split())\n",
    "    item.append((w, v))\n",
    "\n",
    "for i in range(1, n+1):\n",
    "    for j in range(1, k+1):\n",
    "        weigh = item[i][0]\n",
    "        value = item[i][1]\n",
    "        \n",
    "        if j < weigh:\n",
    "            dp[i][j] = dp[i-1][j]\n",
    "        \n",
    "        else:\n",
    "            dp[i][j] = max(dp[i-1][j], dp[i-1][j-weigh] + value)\n",
    "            \n",
    "print(dp[n][k])"
   ]
  },
  {
   "cell_type": "code",
   "execution_count": null,
   "id": "6147e63f",
   "metadata": {},
   "outputs": [],
   "source": [
    "t = int(input())\n",
    "for _ in range(t):\n",
    "    price = float(input())\n",
    "    print('${:.2f}'.format(round(price * 0.8, 2)))"
   ]
  },
  {
   "cell_type": "code",
   "execution_count": null,
   "id": "527580d7",
   "metadata": {},
   "outputs": [],
   "source": [
    "import heapq\n",
    "\n",
    "\n",
    "n = int(input())\n",
    "\n",
    "lst = []\n",
    "for i in range(n):\n",
    "    num, s, e = map(int, input().split())\n",
    "    lst.append((s, e))\n",
    "    \n",
    "lst.sort()\n",
    "\n",
    "heap = []\n",
    "heapq.heappush(heap, lst[0][1])\n",
    "\n",
    "for i in range(1, n):\n",
    "    if heap[0] > lst[i][0]:\n",
    "        heapq.heappush(heap, lst[i][1])\n",
    "        \n",
    "    else:\n",
    "        heapq.heappop(heap)\n",
    "        heapq.heappush(heap, lst[i][1])\n",
    "        \n",
    "print(len(heap))"
   ]
  },
  {
   "cell_type": "markdown",
   "id": "1633f1b6",
   "metadata": {},
   "source": [
    "https://www.acmicpc.net/problem/1374"
   ]
  },
  {
   "cell_type": "code",
   "execution_count": null,
   "id": "a7e83b95",
   "metadata": {},
   "outputs": [],
   "source": [
    "a = input()\n",
    "b = input()\n",
    "\n",
    "if a + b < '218':\n",
    "    print('Before')\n",
    "elif a + b > '218':\n",
    "    print('After')\n",
    "else:\n",
    "    print('Special')"
   ]
  },
  {
   "cell_type": "code",
   "execution_count": null,
   "id": "5b8d6328",
   "metadata": {},
   "outputs": [],
   "source": [
    "n, d = map(int, input().split())\n",
    "\n",
    "\n",
    "def tf(x, d):\n",
    "    temp = ''\n",
    "\n",
    "    while x > 0:\n",
    "        x, mod = divmod(x, d)\n",
    "        temp += str(mod)\n",
    "\n",
    "    return temp[::-1]\n",
    "\n",
    "def check(x, d):\n",
    "    temp = int(tf(x, d))\n",
    "    temp = str(temp)\n",
    "    \n",
    "    if len(set(temp)) != d:\n",
    "        return False\n",
    "    \n",
    "    cmpr = [0] * d\n",
    "    for i in temp:\n",
    "        if cmpr[int(i)] == 1:\n",
    "            return False\n",
    "        cmpr[int(i)] += 1\n",
    "\n",
    "    return True\n",
    "    \n",
    "    \n",
    "def sol(n, d):\n",
    "    while n <= int(1e9):\n",
    "        n += 1\n",
    "        \n",
    "        if check(n, d):\n",
    "            return n\n",
    "        \n",
    "        \n",
    "    return -1    \n",
    "\n",
    "\n",
    "\n",
    "lst = [i for i in range(d)]\n",
    "\n",
    "print(sol(n, d))"
   ]
  },
  {
   "cell_type": "code",
   "execution_count": null,
   "id": "3551d8ec",
   "metadata": {},
   "outputs": [],
   "source": [
    "n, d = map(int, input().split())\n",
    "\n",
    "\n",
    "def check(x, d):\n",
    "    temp = ''\n",
    "    for i in range(d):\n",
    "        temp += str(x % d)\n",
    "        x //= d\n",
    "\n",
    "    temp = temp[::-1]\n",
    "    \n",
    "    temp = list(temp)\n",
    "    temp.sort()\n",
    "    \n",
    "    if temp == lst:\n",
    "        return True\n",
    "    else:\n",
    "        return False\n",
    "    \n",
    "def sol(n, d):\n",
    "    while n <= int(1e9):\n",
    "        n += 1\n",
    "        \n",
    "        if check(n, d):\n",
    "            return n\n",
    "        \n",
    "    return -1    \n",
    "\n",
    "\n",
    "\n",
    "lst = [str(i) for i in range(d)]\n",
    "\n",
    "print(sol(n, d))"
   ]
  },
  {
   "cell_type": "code",
   "execution_count": null,
   "id": "768044b4",
   "metadata": {},
   "outputs": [],
   "source": [
    "# 이거다\n",
    "\n",
    "n, d = map(int, input().split())\n",
    "\n",
    "\n",
    "def tf(x, d):\n",
    "    temp = ''\n",
    "\n",
    "    while x > 0:\n",
    "        x, mod = divmod(x, d)\n",
    "        temp += str(mod)\n",
    "\n",
    "    return temp[::-1]\n",
    "\n",
    "def check(x, d):\n",
    "    temp = int(tf(x, d))\n",
    "    temp = str(temp)\n",
    "    \n",
    "    if len(set(temp)) != d:\n",
    "        return False\n",
    "    else:\n",
    "        return True\n",
    "    \n",
    "    cmpr = [0] * d\n",
    "    for i in temp:\n",
    "        cmpr[int(i)] += 1\n",
    "\n",
    "            \n",
    "    if cmpr.count(1) == d:\n",
    "        return True\n",
    "    else:\n",
    "        return False\n",
    "    \n",
    "    \n",
    "def sol(n, d):\n",
    "    while n <= int(1e9):\n",
    "        n += 1\n",
    "        \n",
    "        if check(n, d):\n",
    "            return n\n",
    "        \n",
    "        \n",
    "    return -1    \n",
    "\n",
    "\n",
    "\n",
    "lst = [i for i in range(d)]\n",
    "\n",
    "print(sol(n, d))"
   ]
  },
  {
   "cell_type": "code",
   "execution_count": null,
   "id": "1dc3508c",
   "metadata": {},
   "outputs": [],
   "source": [
    "t = int(input())\n",
    "for _ in range(t):\n",
    "    n, x, y = map(int, input().split())\n",
    "    v = list(map(int, input().split()))\n",
    "    \n",
    "    if v.count(max(v)) == 1 and max(v) == v[-1]:\n",
    "        print(0)\n",
    "        continue\n",
    "        \n",
    "    target = x / max(v[:-1])\n",
    "    velocity = v[-1]\n",
    "    \n",
    "    if ((x - y) / velocity) + 1 >= target:\n",
    "        print(-1)\n",
    "        continue\n",
    "    \n",
    "    \n",
    "    start = 1\n",
    "    end = y\n",
    "    answer = 0\n",
    "    \n",
    "    while start <= end:\n",
    "        mid = (start + end) // 2\n",
    "        \n",
    "        temp = ((x - mid) / velocity) + 1\n",
    "        \n",
    "        if temp < target:\n",
    "            answer = mid\n",
    "            end = mid - 1\n",
    "            \n",
    "        else:\n",
    "            start = mid + 1\n",
    "            \n",
    "    print(answer)\n",
    "    "
   ]
  },
  {
   "cell_type": "code",
   "execution_count": null,
   "id": "730385b1",
   "metadata": {},
   "outputs": [],
   "source": [
    "from bisect import bisect_left\n",
    "from bisect import bisect_right\n",
    "\n",
    "\n",
    "n, h = map(int, input().split())\n",
    "\n",
    "up, down = [], []\n",
    "for i in range(n):\n",
    "    if i % 2:\n",
    "        down.append(int(input()))\n",
    "    else:\n",
    "        up.append(int(input()))\n",
    "        \n",
    "        \n",
    "up.sort()        \n",
    "down.sort()\n",
    "\n",
    "mini = n\n",
    "count = 0\n",
    "\n",
    "for i in range(1, h + 1):\n",
    "    u_cnt = len(up) - bisect_left(up, h - i + 0.5) # 0.5 높이에서 지나갈 때부터 시작.\n",
    "    d_cnt = len(down) - bisect_right(down, i - 0.5)\n",
    "    \n",
    "    \n",
    "\n",
    "    if mini == u_cnt + d_cnt:\n",
    "        count += 1\n",
    "    \n",
    "    elif mini > u_cnt + d_cnt:\n",
    "        mini = u_cnt + d_cnt\n",
    "        count = 1\n",
    "\n",
    "        \n",
    "        \n",
    "print(mini, count)\n"
   ]
  },
  {
   "cell_type": "code",
   "execution_count": null,
   "id": "e7b4fe81",
   "metadata": {},
   "outputs": [],
   "source": [
    "n, k = map(int, input().split())\n",
    "\n",
    "data = []\n",
    "for i in range(n):\n",
    "    data.append(list(map(int, input().split())))\n",
    "    \n",
    "    \n",
    "data.sort(key = lambda x : (-x[1], -x[2], -x[3]))\n",
    "\n",
    "for i in range(n):\n",
    "    if data[i][0] == k:\n",
    "        target = i\n",
    "        \n",
    "for i in range(n):\n",
    "    if data[target][1:] == data[i][1:]:\n",
    "        print(i + 1)\n",
    "        break\n",
    "        "
   ]
  },
  {
   "cell_type": "code",
   "execution_count": null,
   "id": "f96390fe",
   "metadata": {},
   "outputs": [],
   "source": [
    "n = int(input())\n",
    "\n",
    "dp = [1] * 100001\n",
    "dp[1] = 3\n",
    "\n",
    "for i in range(2, n+1):\n",
    "    dp[i] = 2 * dp[i-1] + dp[i-2]\n",
    "    dp[i] %= 9901\n",
    "    \n",
    "print(dp[n])\n",
    "\n"
   ]
  },
  {
   "cell_type": "code",
   "execution_count": null,
   "id": "083eff2f",
   "metadata": {},
   "outputs": [],
   "source": [
    "n = int(input())\n",
    "\n",
    "init = [1] * 10 # 이전 값\n",
    "dp = init[:] # 갱신된 값\n",
    "\n",
    "\n",
    "for i in range(1, n):\n",
    "    for j in range(10):\n",
    "        for k in range(j+1, 10):\n",
    "            dp[j] += init[k]\n",
    "        \n",
    "    #print(init)\n",
    "    #print(dp)\n",
    "    #print() \n",
    "    init = dp[:]\n",
    "       \n",
    "print(sum(dp) % 10007)\n"
   ]
  },
  {
   "cell_type": "code",
   "execution_count": null,
   "id": "76bb5d5a",
   "metadata": {},
   "outputs": [],
   "source": [
    "# 오르막 수 답안들\n",
    "\n",
    "k=int(input())\n",
    "result=1\n",
    "for i in range(9+k,9,-1):\n",
    "    result*=i\n",
    "for i in range(1,k+1):\n",
    "    result//=i\n",
    "print(result%10007)"
   ]
  },
  {
   "cell_type": "code",
   "execution_count": null,
   "id": "2d05174e",
   "metadata": {},
   "outputs": [],
   "source": [
    "def fact(n):\n",
    "    a=1\n",
    "    for i in range(n):\n",
    "        a*=i+1\n",
    "    return a\n",
    "a=int(input())\n",
    "print((fact(9+a)//(fact(a)*fact(9)))%10007)"
   ]
  },
  {
   "cell_type": "code",
   "execution_count": null,
   "id": "571407ee",
   "metadata": {},
   "outputs": [],
   "source": [
    "n = int(input())\n",
    "li = [1] * 10\n",
    "\n",
    "for i in range(n-1) :\n",
    "    for j in range(1, 10) :\n",
    "        li[j] = li[j] + li[j-1]\n",
    "\n",
    "print(sum(li)%10007)"
   ]
  },
  {
   "cell_type": "code",
   "execution_count": null,
   "id": "59d73ddf",
   "metadata": {},
   "outputs": [],
   "source": [
    "n = int(input())\n",
    "tower = list(map(int, input().split()))\n",
    "\n",
    "target = tower.index(max(tower[1:n-1]))\n",
    "\n",
    "while True:\n",
    "    tower[target] += 1\n",
    "    tower[target-1] -= 1\n",
    "    tower[target+1] -= 1\n",
    "    \n",
    "    if not tower[target-1] or not tower[target+1]:\n",
    "        break\n",
    "    \n",
    "\n",
    "print(max(tower))\n",
    "\n"
   ]
  },
  {
   "cell_type": "code",
   "execution_count": null,
   "id": "1ae137b5",
   "metadata": {},
   "outputs": [],
   "source": [
    "4\n",
    "1 3 2 2\n",
    "\n",
    "5\n",
    "2 4 3 5 5"
   ]
  },
  {
   "cell_type": "code",
   "execution_count": null,
   "id": "98c1a374",
   "metadata": {},
   "outputs": [],
   "source": [
    "n = int(input())\n",
    "tower = list(map(int, input().split()))\n",
    "\n",
    "maxi = 0\n",
    "\n",
    "for i in range(1, n-1):\n",
    "    if tower[i] + min(tower[i-1], tower[i+1]) > maxi:\n",
    "        maxi = tower[i] + min(tower[i-1], tower[i+1])\n",
    "        \n",
    "        \n",
    "        \n",
    "print(max(maxi, tower[0], tower[-1]))\n",
    "\n",
    "\n"
   ]
  },
  {
   "cell_type": "code",
   "execution_count": null,
   "id": "c647bd38",
   "metadata": {},
   "outputs": [],
   "source": [
    "from collections import deque\n",
    "\n",
    "n, k = map(int, input().split())\n",
    "seq = list(map(int, input().split()))\n",
    "seq = seq + seq[:-1]\n",
    "\n",
    "lst = deque()\n",
    "for i in range(k):\n",
    "    lst.append(seq[i])\n",
    "    \n",
    "\n",
    "    \n",
    "maxi = sum(lst)\n",
    "temp = maxi\n",
    "    \n",
    "for i in range(k, len(seq)):\n",
    "    temp -= lst.popleft()\n",
    "    lst.append(seq[i])\n",
    "    temp += seq[i]\n",
    "    \n",
    "    \n",
    "    maxi = max(maxi, temp)\n",
    "    \n",
    "    \n",
    "    \n",
    "print(maxi)\n"
   ]
  },
  {
   "cell_type": "code",
   "execution_count": null,
   "id": "385a0226",
   "metadata": {},
   "outputs": [],
   "source": [
    "import sys\n",
    "\n",
    "n = int(input())\n",
    "\n",
    "if n == 1:\n",
    "    print(1)\n",
    "    print(1)\n",
    "    sys.exit()\n",
    "    \n",
    "else:\n",
    "    std = n + n - 1\n",
    "    point = 1\n",
    "    \n",
    "    while True:\n",
    "        if point - 1 > std:\n",
    "            point //= 2\n",
    "            break\n",
    "            \n",
    "        point *= 2\n",
    "        \n",
    "    target = point - 1\n",
    "    \n",
    "    if n == target:\n",
    "        print(1)\n",
    "        print(n)\n",
    "        \n",
    "    else:\n",
    "        print(2)\n",
    "        print(target - n)\n",
    "        print(n)\n",
    "        "
   ]
  },
  {
   "cell_type": "code",
   "execution_count": null,
   "id": "db5568c2",
   "metadata": {},
   "outputs": [],
   "source": [
    "from collections import deque\n",
    "\n",
    "n, m = map(int, input().split())\n",
    "\n",
    "edge = [[] for _ in range(n+1)]\n",
    "for i in range(m):\n",
    "    u, v = map(int, input().split())\n",
    "    edge[u].append(v)\n",
    "    edge[v].append(u)\n",
    "    \n",
    "\n",
    "def sol(x):\n",
    "    global count\n",
    "    \n",
    "    \n",
    "    if visited[x]:\n",
    "        return False\n",
    "    \n",
    "    count = 1\n",
    "    visited[x] = 1\n",
    "    queue = deque([x])\n",
    "    while queue:\n",
    "        x = queue.popleft()\n",
    "        \n",
    "        for i in edge[x]:\n",
    "            if not visited[i]:\n",
    "                visited[i] = 1\n",
    "                count += 1\n",
    "                queue.append(i)\n",
    "                \n",
    "    return True\n",
    "\n",
    "\n",
    "answer = 1\n",
    "visited = [0] * (n+1)\n",
    "\n",
    "for i in range(1, n+1):\n",
    "    if sol(i):\n",
    "        answer *= count\n",
    "        answer %= 1000000007\n",
    "        \n",
    "        \n",
    "print(answer)\n",
    "        "
   ]
  },
  {
   "cell_type": "code",
   "execution_count": null,
   "id": "d4653f55",
   "metadata": {},
   "outputs": [],
   "source": [
    "n = int(input())\n",
    "seq = list(map(int, input().split()))\n",
    "\n",
    "dp = [-1] * n\n",
    "\n",
    "for i in range(n-2, -1, -1):\n",
    "    if seq[i] == seq[i+1]:\n",
    "        dp[i] = dp[i+1]\n",
    "        \n",
    "    else:\n",
    "        dp[i] = i+2\n",
    "        "
   ]
  },
  {
   "cell_type": "code",
   "execution_count": null,
   "id": "ca0c3a9d",
   "metadata": {},
   "outputs": [],
   "source": [
    "n = int(input())\n",
    "lst = list(map(int, input().split()))\n",
    "\n",
    "lst.sort()\n",
    "\n",
    "answer = 0\n",
    "temp = 0\n",
    "for i in lst:\n",
    "    \n",
    "    answer += temp + i\n",
    "    temp += i\n",
    "    \n",
    "print(answer)\n"
   ]
  },
  {
   "cell_type": "code",
   "execution_count": 3,
   "id": "a2f90fbb",
   "metadata": {},
   "outputs": [
    {
     "name": "stdout",
     "output_type": "stream",
     "text": [
      "4\n",
      "5 1 7 9\n",
      "5\n"
     ]
    }
   ],
   "source": [
    "n = int(input())\n",
    "crd = list(map(int, input().split()))\n",
    "\n",
    "crd.sort()\n",
    "print(crd[(n-1) // 2])\n"
   ]
  },
  {
   "cell_type": "code",
   "execution_count": 2,
   "id": "f1f4552b",
   "metadata": {},
   "outputs": [
    {
     "name": "stdout",
     "output_type": "stream",
     "text": [
      "10\n",
      "5\n",
      "20 3 14 6 7 8 18 10 12 15\n",
      "7\n"
     ]
    }
   ],
   "source": [
    "import sys\n",
    "\n",
    "n = int(input())\n",
    "k = int(input())\n",
    "crd = list(map(int, input().split()))\n",
    "\n",
    "if n <= k:\n",
    "    print(0)\n",
    "    sys.exit()\n",
    "    \n",
    "crd.sort()\n",
    "lst = []\n",
    "\n",
    "for i in range(1, n):\n",
    "    lst.append(crd[i] - crd[i-1])\n",
    "    \n",
    "lst.sort()\n",
    "\n",
    "for i in range(k-1):\n",
    "    lst.pop()\n",
    "    \n",
    "print(sum(lst))\n"
   ]
  },
  {
   "cell_type": "code",
   "execution_count": null,
   "id": "58979a58",
   "metadata": {},
   "outputs": [],
   "source": [
    "import sys\n",
    "\n",
    "n = int(input())\n",
    "seq = list(map(int, input().split()))\n",
    "\n",
    "if n == 1:\n",
    "    print(seq[0])\n",
    "    sys.exit()\n",
    "    \n",
    "maxi = -1000\n",
    "dp = [[0] * n for _ in range(2)]\n",
    "\n",
    "dp[0][0] = seq[0]\n",
    "\n",
    "for i in range(1, n):\n",
    "    dp[0][i] = max(dp[0][i-1] + seq[i], seq[i])\n",
    "    dp[1][i] = max(dp[1][i-1] + seq[i], dp[0][i-1])\n",
    "    \n",
    "    maxi = max(maxi, dp[0][i], dp[1][i])\n",
    "    \n",
    "    \n",
    "print(maxi)\n"
   ]
  },
  {
   "cell_type": "code",
   "execution_count": null,
   "id": "cf410c11",
   "metadata": {},
   "outputs": [],
   "source": [
    "inf = int(1e9)\n",
    "def dijk(start):\n",
    "    distance = [inf] * (n+1)\n",
    "    queue = []\n",
    "    \n",
    "    heapq.heappush(queue, (0, start))\n",
    "    distance[start] = 0\n",
    "    \n",
    "    while queue:\n",
    "        dist, node = heapq.heappop(queue)\n",
    "        \n",
    "        if distance[node] < dist:\n",
    "            continue\n",
    "            \n",
    "        for nxt, w in info[node]:\n",
    "            cost = dist + w\n",
    "            \n",
    "            if cost < distance[nxt]:\n",
    "                distance[nxt] = cost\n",
    "                heapq.heappush(queue, (cost, nxt))\n",
    "                \n",
    "    return distance"
   ]
  },
  {
   "cell_type": "code",
   "execution_count": 7,
   "id": "d6059b03",
   "metadata": {},
   "outputs": [],
   "source": [
    "a=[1,2,3,4,5,6]"
   ]
  },
  {
   "cell_type": "code",
   "execution_count": 8,
   "id": "a73439ef",
   "metadata": {},
   "outputs": [
    {
     "data": {
      "text/plain": [
       "4"
      ]
     },
     "execution_count": 8,
     "metadata": {},
     "output_type": "execute_result"
    }
   ],
   "source": [
    "a[6//2]"
   ]
  },
  {
   "cell_type": "code",
   "execution_count": 9,
   "id": "cffef09b",
   "metadata": {},
   "outputs": [],
   "source": [
    "a=[1,2,3,4,5]"
   ]
  },
  {
   "cell_type": "code",
   "execution_count": 10,
   "id": "15085e53",
   "metadata": {},
   "outputs": [
    {
     "data": {
      "text/plain": [
       "3"
      ]
     },
     "execution_count": 10,
     "metadata": {},
     "output_type": "execute_result"
    }
   ],
   "source": [
    "a[5//2]"
   ]
  },
  {
   "cell_type": "code",
   "execution_count": null,
   "id": "d8d1da3e",
   "metadata": {},
   "outputs": [],
   "source": [
    "    inf = int(1e9)\n",
    "\n",
    "    def dijk(start):\n",
    "        distance = [inf] * (n+1)\n",
    "        queue = []\n",
    "    \n",
    "        heapq.heappush(queue, (0, start))\n",
    "        distance[start] = 0\n",
    "    \n",
    "        while queue:\n",
    "            dist, node = heapq.heappop(queue)\n",
    "        \n",
    "            if distance[node] < dist:\n",
    "                continue\n",
    "            \n",
    "            for nxt, w in edge[node]:\n",
    "                cost = dist + w\n",
    "            \n",
    "                if cost < distance[nxt]:\n",
    "                    distance[nxt] = cost\n",
    "                    heapq.heappush(queue, (cost, nxt))\n",
    "                \n",
    "        return distance\n",
    "\n",
    "\n",
    "    info = [[0] * n for _ in range(n)]\n",
    "\n",
    "    for i in range(n):\n",
    "        distance = dijk(i)\n",
    "        \n",
    "        for j in range(i, n):\n",
    "            info[i][j] = distance[j]\n",
    "            info[j][i] = distance[i]\n",
    "\n",
    "    for k in range(n):\n",
    "        for i in range(n):"
   ]
  },
  {
   "cell_type": "code",
   "execution_count": 11,
   "id": "dfd1c246",
   "metadata": {},
   "outputs": [],
   "source": [
    "n = 5\n",
    "edges = [[0,1],[0,2],[1,3],[1,4]]"
   ]
  },
  {
   "cell_type": "code",
   "execution_count": 29,
   "id": "bcc70b80",
   "metadata": {},
   "outputs": [
    {
     "name": "stdout",
     "output_type": "stream",
     "text": [
      "16\n"
     ]
    }
   ],
   "source": [
    "import heapq\n",
    "\n",
    "inf = int(1e9)\n",
    "edge = [[inf] * n for _ in range(n)]\n",
    "\n",
    "for i in range(n):\n",
    "    edge[i][i] = 0\n",
    "\n",
    "for i, j in edges:\n",
    "    edge[i][j] = 1\n",
    "    edge[j][i] = 1\n",
    "    \n",
    "    \n",
    "answer = 0\n",
    "\n",
    "for k in range(n):\n",
    "    for i in range(n):\n",
    "        for j in range(n):\n",
    "            edge[i][j] = min(edge[i][j], edge[i][k] + edge[k][j])\n",
    "            edge[j][i] = min(edge[j][i], edge[j][k] + edge[k][i])\n",
    "            \n",
    "            \n",
    "for k in range(n):\n",
    "    for i in range(n):\n",
    "        for j in range(i+1, n):            \n",
    "            \n",
    "            if i == j or i == k or j == k:\n",
    "                continue\n",
    "            \n",
    "            if edge[i][k] + edge[k][j] == edge[i][j]:\n",
    "                answer += 2\n",
    "            \n",
    "            \n",
    "            \n",
    "print(answer)"
   ]
  },
  {
   "cell_type": "code",
   "execution_count": 32,
   "id": "320e8228",
   "metadata": {},
   "outputs": [
    {
     "name": "stdout",
     "output_type": "stream",
     "text": [
      "3\n",
      "1 1 1\n",
      "B\n",
      "1 3 2\n",
      "R\n",
      "2 3 2\n",
      "B\n"
     ]
    }
   ],
   "source": [
    "t = int(input())\n",
    "for _ in range(t):\n",
    "    lst = list(map(int, input().split()))\n",
    "    \n",
    "    value = min(lst)\n",
    "    count = value\n",
    "    \n",
    "    for i in range(3):\n",
    "        lst[i] -= value\n",
    "        \n",
    "        if not lst[i]:\n",
    "            lst[i] = int(1e9)\n",
    "        \n",
    "    count += min(lst)\n",
    "        \n",
    "    \n",
    "    if count % 2:\n",
    "        print('B')\n",
    "    else:\n",
    "        print('R')\n",
    "    \n",
    "    "
   ]
  },
  {
   "cell_type": "code",
   "execution_count": 76,
   "id": "67c5b954",
   "metadata": {},
   "outputs": [
    {
     "name": "stdout",
     "output_type": "stream",
     "text": [
      "{'l o w </w>': 5, 'l o w e r </w>': 2, 'n e w es t </w>': 6, 'w i d es t </w>': 3}\n",
      "('e', 's')\n",
      "\n",
      "{'l o w </w>': 5, 'l o w e r </w>': 2, 'n e w est </w>': 6, 'w i d est </w>': 3}\n",
      "('es', 't')\n",
      "\n",
      "{'l o w </w>': 5, 'l o w e r </w>': 2, 'n e w est</w>': 6, 'w i d est</w>': 3}\n",
      "('est', '</w>')\n",
      "\n",
      "{'lo w </w>': 5, 'lo w e r </w>': 2, 'n e w est</w>': 6, 'w i d est</w>': 3}\n",
      "('l', 'o')\n",
      "\n",
      "{'low </w>': 5, 'low e r </w>': 2, 'n e w est</w>': 6, 'w i d est</w>': 3}\n",
      "('lo', 'w')\n",
      "\n",
      "{'low </w>': 5, 'low e r </w>': 2, 'ne w est</w>': 6, 'w i d est</w>': 3}\n",
      "('n', 'e')\n",
      "\n",
      "{'low </w>': 5, 'low e r </w>': 2, 'new est</w>': 6, 'w i d est</w>': 3}\n",
      "('ne', 'w')\n",
      "\n",
      "{'low </w>': 5, 'low e r </w>': 2, 'newest</w>': 6, 'w i d est</w>': 3}\n",
      "('new', 'est</w>')\n",
      "\n",
      "{'low</w>': 5, 'low e r </w>': 2, 'newest</w>': 6, 'w i d est</w>': 3}\n",
      "('low', '</w>')\n",
      "\n",
      "{'low</w>': 5, 'low e r </w>': 2, 'newest</w>': 6, 'wi d est</w>': 3}\n",
      "('w', 'i')\n",
      "\n"
     ]
    }
   ],
   "source": [
    "import re, collections\n",
    "\n",
    "\n",
    "def get_stats(vocab):\n",
    "    pairs = collections.defaultdict(int)\n",
    "    for word, freq in vocab.items():\n",
    "        symbols = word.split()\n",
    "        for i in range(len(symbols)-1):\n",
    "            pairs[symbols[i],symbols[i+1]] += freq\n",
    "    return pairs\n",
    "\n",
    "\n",
    "def merge_vocab(pair, v_in):\n",
    "    v_out = {}\n",
    "    bigram = re.escape(' '.join(pair))\n",
    "    p = re.compile(r'(?<!\\S)' + bigram + r'(?!\\S)')\n",
    "    \n",
    "    for word in v_in:\n",
    "        w_out = p.sub(''.join(pair), word)\n",
    "        v_out[w_out] = v_in[word]\n",
    "        \n",
    "    return v_out\n",
    "\n",
    "\n",
    "vocab = {'l o w </w>' : 5, 'l o w e r </w>' : 2, 'n e w e s t </w>':6, 'w i d e s t </w>':3}\n",
    "\n",
    "num_merges = 10\n",
    "\n",
    "for i in range(num_merges):\n",
    "    pairs = get_stats(vocab)\n",
    "    best = max(pairs, key=pairs.get)\n",
    "    vocab = merge_vocab(best, vocab)\n",
    "    print(vocab)\n",
    "    print(best)\n",
    "    print()\n"
   ]
  },
  {
   "cell_type": "code",
   "execution_count": 29,
   "id": "1be63fc4",
   "metadata": {},
   "outputs": [],
   "source": [
    "from collections import Counter\n",
    "import re, collections\n",
    "\n",
    "max_vocab_size = 15\n",
    "corpus = ['abcde']\n",
    "WORD_END = '_'"
   ]
  },
  {
   "cell_type": "code",
   "execution_count": 60,
   "id": "19f32ae3",
   "metadata": {},
   "outputs": [],
   "source": [
    "id2token = [WORD_END]\n",
    "    \n",
    "id2token.extend([j for i in corpus for j in list(i)])\n",
    "id2token = list(set(id2token))\n",
    "\n",
    "\n",
    "vocab = [' '.join(i + '_') for i in corpus]\n",
    "vocab = Counter(vocab)\n",
    "\n",
    "def get_stats(vocab):\n",
    "    pairs = collections.defaultdict(int)\n",
    "\n",
    "    for word, freq in vocab.items():\n",
    "        symbols = word.split()\n",
    "\n",
    "        for i in range(len(symbols)-1):\n",
    "            pairs[symbols[i],symbols[i+1]] += freq\n",
    "\n",
    "    return pairs\n",
    "\n",
    "\n",
    "def merge_vocab(pair, v_in):\n",
    "    v_out = {}\n",
    "    bigram = re.escape(' '.join(pair))\n",
    "    p = re.compile(r'(?<!\\S)' + bigram + r'(?!\\S)')\n",
    "    \n",
    "    for word in v_in:\n",
    "        w_out = p.sub(''.join(pair), word)\n",
    "        v_out[w_out] = v_in[word]\n",
    "        \n",
    "    return v_out\n",
    "\n",
    "\n",
    "\n"
   ]
  },
  {
   "cell_type": "code",
   "execution_count": 43,
   "id": "37354481",
   "metadata": {},
   "outputs": [
    {
     "data": {
      "text/plain": [
       "Counter({'a b c d e _': 1})"
      ]
     },
     "execution_count": 43,
     "metadata": {},
     "output_type": "execute_result"
    }
   ],
   "source": [
    "vocab"
   ]
  },
  {
   "cell_type": "code",
   "execution_count": 39,
   "id": "bafbc83e",
   "metadata": {},
   "outputs": [],
   "source": [
    "pairs = get_stats(vocab)"
   ]
  },
  {
   "cell_type": "code",
   "execution_count": 40,
   "id": "66f248e9",
   "metadata": {},
   "outputs": [
    {
     "data": {
      "text/plain": [
       "defaultdict(int,\n",
       "            {('a', 'b'): 1,\n",
       "             ('b', 'c'): 1,\n",
       "             ('c', 'd'): 1,\n",
       "             ('d', 'e'): 1,\n",
       "             ('e', '_'): 1})"
      ]
     },
     "execution_count": 40,
     "metadata": {},
     "output_type": "execute_result"
    }
   ],
   "source": [
    "pairs"
   ]
  },
  {
   "cell_type": "code",
   "execution_count": 41,
   "id": "8516448d",
   "metadata": {},
   "outputs": [],
   "source": [
    "best = max(pairs, key=pairs.get)"
   ]
  },
  {
   "cell_type": "code",
   "execution_count": 42,
   "id": "31fda2a8",
   "metadata": {},
   "outputs": [
    {
     "data": {
      "text/plain": [
       "('a', 'b')"
      ]
     },
     "execution_count": 42,
     "metadata": {},
     "output_type": "execute_result"
    }
   ],
   "source": [
    "best"
   ]
  },
  {
   "cell_type": "code",
   "execution_count": 45,
   "id": "568fa155",
   "metadata": {},
   "outputs": [],
   "source": [
    "vocab = merge_vocab(best, vocab)"
   ]
  },
  {
   "cell_type": "code",
   "execution_count": 46,
   "id": "8b68a7d7",
   "metadata": {},
   "outputs": [
    {
     "data": {
      "text/plain": [
       "{'ab c d e _': 1}"
      ]
     },
     "execution_count": 46,
     "metadata": {},
     "output_type": "execute_result"
    }
   ],
   "source": [
    "vocab"
   ]
  },
  {
   "cell_type": "code",
   "execution_count": 61,
   "id": "bdb43044",
   "metadata": {},
   "outputs": [],
   "source": [
    "num_merges = 10\n",
    "\n",
    "for i in range(num_merges):\n",
    "    pairs = get_stats(vocab)\n",
    "    if not pairs:\n",
    "        break\n",
    "    \n",
    "    best = max(pairs, key=pairs.get)\n",
    "    vocab = merge_vocab(best, vocab)\n",
    "    id2token.append(''.join(best))\n",
    "\n",
    "    if len(id2token) == max_vocab_size:\n",
    "        break\n",
    "        \n",
    "id2token.sort(key = lambda x : len(x), reverse = True)"
   ]
  },
  {
   "cell_type": "code",
   "execution_count": 78,
   "id": "3117db16",
   "metadata": {},
   "outputs": [
    {
     "data": {
      "text/plain": [
       "'wi'"
      ]
     },
     "execution_count": 78,
     "metadata": {},
     "output_type": "execute_result"
    }
   ],
   "source": [
    "''.join(best)"
   ]
  },
  {
   "cell_type": "code",
   "execution_count": 62,
   "id": "6f8aa051",
   "metadata": {},
   "outputs": [
    {
     "data": {
      "text/plain": [
       "['abcde_', 'abcde', 'abcd', 'abc', 'ab', 'a', 'c', 'd', '_', 'b', 'e']"
      ]
     },
     "execution_count": 62,
     "metadata": {},
     "output_type": "execute_result"
    }
   ],
   "source": [
    "id2token"
   ]
  },
  {
   "cell_type": "code",
   "execution_count": 49,
   "id": "2ae1f090",
   "metadata": {},
   "outputs": [
    {
     "data": {
      "text/plain": [
       "defaultdict(int, {})"
      ]
     },
     "execution_count": 49,
     "metadata": {},
     "output_type": "execute_result"
    }
   ],
   "source": [
    "pairs"
   ]
  },
  {
   "cell_type": "code",
   "execution_count": 55,
   "id": "1bc93c99",
   "metadata": {},
   "outputs": [
    {
     "data": {
      "text/plain": [
       "['low',\n",
       " 'low',\n",
       " 'low',\n",
       " 'low',\n",
       " 'low',\n",
       " 'lower',\n",
       " 'lower',\n",
       " 'newest',\n",
       " 'newest',\n",
       " 'newest',\n",
       " 'newest',\n",
       " 'newest',\n",
       " 'newest',\n",
       " 'widest',\n",
       " 'widest',\n",
       " 'widest']"
      ]
     },
     "execution_count": 55,
     "metadata": {},
     "output_type": "execute_result"
    }
   ],
   "source": [
    "target = ['low'] * 5 + ['lower'] * 2 + ['newest'] * 6 + ['widest'] * 3\n",
    "target\n",
    "\n",
    "#['abcde']"
   ]
  },
  {
   "cell_type": "code",
   "execution_count": 71,
   "id": "ec25ec48",
   "metadata": {},
   "outputs": [],
   "source": [
    "a = 'abc_'"
   ]
  },
  {
   "cell_type": "code",
   "execution_count": 72,
   "id": "ec4bc2e4",
   "metadata": {},
   "outputs": [
    {
     "data": {
      "text/plain": [
       "'a b c _'"
      ]
     },
     "execution_count": 72,
     "metadata": {},
     "output_type": "execute_result"
    }
   ],
   "source": [
    "\" \".join(a)"
   ]
  },
  {
   "cell_type": "code",
   "execution_count": 56,
   "id": "f0879461",
   "metadata": {},
   "outputs": [
    {
     "data": {
      "text/plain": [
       "Counter({'low': 5, 'lower': 2, 'newest': 6, 'widest': 3})"
      ]
     },
     "execution_count": 56,
     "metadata": {},
     "output_type": "execute_result"
    }
   ],
   "source": [
    "from collections import Counter\n",
    "\n",
    "vocab = Counter(target)\n",
    "vocab"
   ]
  },
  {
   "cell_type": "code",
   "execution_count": 53,
   "id": "da3746b7",
   "metadata": {},
   "outputs": [
    {
     "ename": "ValueError",
     "evalue": "max() arg is an empty sequence",
     "output_type": "error",
     "traceback": [
      "\u001b[1;31m---------------------------------------------------------------------------\u001b[0m",
      "\u001b[1;31mValueError\u001b[0m                                Traceback (most recent call last)",
      "\u001b[1;32m<ipython-input-53-903151b39f5b>\u001b[0m in \u001b[0;36m<module>\u001b[1;34m\u001b[0m\n\u001b[0;32m      1\u001b[0m \u001b[1;32mfor\u001b[0m \u001b[0mi\u001b[0m \u001b[1;32min\u001b[0m \u001b[0mrange\u001b[0m\u001b[1;33m(\u001b[0m\u001b[0mnum_merges\u001b[0m\u001b[1;33m)\u001b[0m\u001b[1;33m:\u001b[0m\u001b[1;33m\u001b[0m\u001b[1;33m\u001b[0m\u001b[0m\n\u001b[0;32m      2\u001b[0m     \u001b[0mpairs\u001b[0m \u001b[1;33m=\u001b[0m \u001b[0mget_stats\u001b[0m\u001b[1;33m(\u001b[0m\u001b[0mvocab\u001b[0m\u001b[1;33m)\u001b[0m\u001b[1;33m\u001b[0m\u001b[1;33m\u001b[0m\u001b[0m\n\u001b[1;32m----> 3\u001b[1;33m     \u001b[0mbest\u001b[0m \u001b[1;33m=\u001b[0m \u001b[0mmax\u001b[0m\u001b[1;33m(\u001b[0m\u001b[0mpairs\u001b[0m\u001b[1;33m,\u001b[0m \u001b[0mkey\u001b[0m\u001b[1;33m=\u001b[0m\u001b[0mpairs\u001b[0m\u001b[1;33m.\u001b[0m\u001b[0mget\u001b[0m\u001b[1;33m)\u001b[0m\u001b[1;33m\u001b[0m\u001b[1;33m\u001b[0m\u001b[0m\n\u001b[0m\u001b[0;32m      4\u001b[0m     \u001b[0mvocab\u001b[0m \u001b[1;33m=\u001b[0m \u001b[0mmerge_vocab\u001b[0m\u001b[1;33m(\u001b[0m\u001b[0mbest\u001b[0m\u001b[1;33m,\u001b[0m \u001b[0mvocab\u001b[0m\u001b[1;33m)\u001b[0m\u001b[1;33m\u001b[0m\u001b[1;33m\u001b[0m\u001b[0m\n\u001b[0;32m      5\u001b[0m     \u001b[0mprint\u001b[0m\u001b[1;33m(\u001b[0m\u001b[0mbest\u001b[0m\u001b[1;33m)\u001b[0m\u001b[1;33m\u001b[0m\u001b[1;33m\u001b[0m\u001b[0m\n",
      "\u001b[1;31mValueError\u001b[0m: max() arg is an empty sequence"
     ]
    }
   ],
   "source": [
    "\n",
    "for i in range(num_merges):\n",
    "    pairs = get_stats(vocab)\n",
    "    best = max(pairs, key=pairs.get)\n",
    "    vocab = merge_vocab(best, vocab)\n",
    "    print(best)"
   ]
  },
  {
   "cell_type": "code",
   "execution_count": 47,
   "id": "eb3f07f5",
   "metadata": {},
   "outputs": [],
   "source": [
    "pairs = get_stats(vocab)"
   ]
  },
  {
   "cell_type": "code",
   "execution_count": 48,
   "id": "d16175da",
   "metadata": {},
   "outputs": [
    {
     "data": {
      "text/plain": [
       "defaultdict(int, {})"
      ]
     },
     "execution_count": 48,
     "metadata": {},
     "output_type": "execute_result"
    }
   ],
   "source": [
    "pairs"
   ]
  },
  {
   "cell_type": "code",
   "execution_count": 57,
   "id": "56489528",
   "metadata": {},
   "outputs": [
    {
     "data": {
      "text/plain": [
       "dict_items([('low', 5), ('lower', 2), ('newest', 6), ('widest', 3)])"
      ]
     },
     "execution_count": 57,
     "metadata": {},
     "output_type": "execute_result"
    }
   ],
   "source": [
    "vocab.items()"
   ]
  },
  {
   "cell_type": "code",
   "execution_count": 60,
   "id": "1b4c0f5e",
   "metadata": {},
   "outputs": [
    {
     "name": "stdout",
     "output_type": "stream",
     "text": [
      "100000 1 1 1\n",
      "M\n"
     ]
    }
   ],
   "source": [
    "v, a, b, c = map(int, input().split())\n",
    "\n",
    "lst = [a, b, c]\n",
    "answer = 0\n",
    "cnt = 0\n",
    "\n",
    "while True:\n",
    "    if v >= lst[cnt % 3]:\n",
    "        v -= lst[cnt % 3]\n",
    "    else:\n",
    "        answer = cnt % 3\n",
    "        break\n",
    "        \n",
    "    cnt += 1\n",
    "        \n",
    "if answer == 0:\n",
    "    print('F')\n",
    "elif answer == 1:\n",
    "    print('M')\n",
    "else:\n",
    "    print('T')\n",
    "        \n",
    "        "
   ]
  },
  {
   "cell_type": "code",
   "execution_count": 63,
   "id": "04ff31a5",
   "metadata": {},
   "outputs": [
    {
     "name": "stdout",
     "output_type": "stream",
     "text": [
      "3\n",
      "1 2 3\n",
      "4 5 6\n",
      "0\n",
      "0\n"
     ]
    }
   ],
   "source": [
    "n = int(input())\n",
    "\n",
    "a = list(map(int, input().split()))\n",
    "b = list(map(int, input().split()))\n",
    "\n",
    "lst1 = 0\n",
    "lst2 = set(a) & set(b)\n",
    "\n",
    "for i in range(n):\n",
    "    if a[i] == b[i]:\n",
    "        lst1 += 1\n",
    "        \n",
    "        if a[i] in lst2:\n",
    "            lst2.remove(a[i])\n",
    "        \n",
    "print(lst1)\n",
    "print(len(lst2))\n",
    "        "
   ]
  },
  {
   "cell_type": "code",
   "execution_count": null,
   "id": "2854bfe8",
   "metadata": {},
   "outputs": [],
   "source": [
    "4\n",
    "1 3 5 2\n",
    "2 3 1 4\n",
    "\n",
    "3\n",
    "1 2 3\n",
    "4 5 6\n",
    "arr = [[0] * int(1e9) for _ in range(int(1e9))]\n",
    "for i in range(n):\n",
    "    if lst[2] == 'L':\n",
    "        for j in range(lst[0]):\n",
    "            arr[lst[1]][j] = 1\n",
    "        \n",
    "    else:\n",
    "        for j in range(lst[0], -1, -1):"
   ]
  },
  {
   "cell_type": "code",
   "execution_count": 69,
   "id": "a8ca864c",
   "metadata": {},
   "outputs": [
    {
     "name": "stdout",
     "output_type": "stream",
     "text": [
      "3\n",
      "2 3\n",
      "1 1\n",
      "4 1\n",
      "RRL\n",
      "No\n"
     ]
    }
   ],
   "source": [
    "import sys\n",
    "\n",
    "n = int(input())\n",
    "\n",
    "lst = []\n",
    "for i in range(n):\n",
    "    x, y = map(int, input().split())\n",
    "    lst.append([x, y])\n",
    "    \n",
    "    \n",
    "\n",
    "    \n",
    "s = input().rstrip()\n",
    "\n",
    "for i in range(n):\n",
    "    lst[i] = lst[i] + [s[i]]\n",
    "\n",
    "lst.sort(key = lambda x : (x[1], x[0]))\n",
    "\n",
    "\n",
    "for i in range(n):\n",
    "    std = lst[i]\n",
    "    for j in range(i+1, n):\n",
    "        if lst[i][1] == lst[j][1]:\n",
    "            if lst[i][2] == 'R' and lst[j][2] == 'L':\n",
    "                \n",
    "                print('Yes')\n",
    "                sys.exit()\n",
    "            \n",
    "            \n",
    "print('No')   \n"
   ]
  },
  {
   "cell_type": "code",
   "execution_count": null,
   "id": "65b978ad",
   "metadata": {},
   "outputs": [],
   "source": [
    "3\n",
    "2 3\n",
    "1 1\n",
    "4 1\n",
    "RRL\n"
   ]
  },
  {
   "cell_type": "code",
   "execution_count": 70,
   "id": "89d8b8c7",
   "metadata": {},
   "outputs": [
    {
     "data": {
      "text/plain": [
       "[[1, 1], [4, 1], [2, 3]]"
      ]
     },
     "execution_count": 70,
     "metadata": {},
     "output_type": "execute_result"
    }
   ],
   "source": [
    "lst"
   ]
  },
  {
   "cell_type": "code",
   "execution_count": null,
   "id": "48d8dd4c",
   "metadata": {},
   "outputs": [],
   "source": [
    "temp = sentence\n",
    "    \n",
    "cur = 100000\n",
    "for v in id2token:\n",
    "    sentence = sentence.replace(v, chr(cur))\n",
    "    cur += 1\n",
    "    \n",
    "token_ids = [ord(v) - 100000 for v in sentence]"
   ]
  },
  {
   "cell_type": "code",
   "execution_count": 63,
   "id": "6c1c9a47",
   "metadata": {},
   "outputs": [],
   "source": [
    "\n",
    "token_ids = [3, 4, 0, 5, 6]\n",
    "id2token = ['bcc', 'bb', 'bc', 'a', 'b', 'c', WORD_END]"
   ]
  },
  {
   "cell_type": "code",
   "execution_count": 73,
   "id": "6d7d7b88",
   "metadata": {},
   "outputs": [],
   "source": [
    "id2token = ['aaaa', 'aa', 'a', WORD_END]\n",
    "token_ids = [0, 0, 3, 0, 1, 2, 3]"
   ]
  },
  {
   "cell_type": "code",
   "execution_count": 77,
   "id": "6f0b0a0a",
   "metadata": {},
   "outputs": [
    {
     "data": {
      "text/plain": [
       "'aaaaaaaa aaaaaaa'"
      ]
     },
     "execution_count": 77,
     "metadata": {},
     "output_type": "execute_result"
    }
   ],
   "source": [
    "sentence = []\n",
    "\n",
    "for i in token_ids:\n",
    "    sentence.append(id2token[i])\n",
    "\n",
    "\n",
    "sentence = ''.join(sentence)\n",
    "sentence = sentence.replace(WORD_END, ' ')\n",
    "sentence.strip()"
   ]
  },
  {
   "cell_type": "code",
   "execution_count": 76,
   "id": "9cc7432a",
   "metadata": {},
   "outputs": [
    {
     "data": {
      "text/plain": [
       "'aaaaaaaa_aaaaaaa_'"
      ]
     },
     "execution_count": 76,
     "metadata": {},
     "output_type": "execute_result"
    }
   ],
   "source": [
    "sentence"
   ]
  },
  {
   "cell_type": "code",
   "execution_count": 78,
   "id": "5eb8cd97",
   "metadata": {},
   "outputs": [],
   "source": [
    "a = [1, 2, 3, 4, 5]"
   ]
  },
  {
   "cell_type": "code",
   "execution_count": 79,
   "id": "f41538ff",
   "metadata": {},
   "outputs": [
    {
     "data": {
      "text/plain": [
       "[1, 2, 3]"
      ]
     },
     "execution_count": 79,
     "metadata": {},
     "output_type": "execute_result"
    }
   ],
   "source": [
    "a[:3]"
   ]
  },
  {
   "cell_type": "code",
   "execution_count": 80,
   "id": "0693b32d",
   "metadata": {},
   "outputs": [
    {
     "ename": "ModuleNotFoundError",
     "evalue": "No module named 'torch'",
     "output_type": "error",
     "traceback": [
      "\u001b[1;31m---------------------------------------------------------------------------\u001b[0m",
      "\u001b[1;31mModuleNotFoundError\u001b[0m                       Traceback (most recent call last)",
      "\u001b[1;32m<ipython-input-80-c18c6fc76ea3>\u001b[0m in \u001b[0;36m<module>\u001b[1;34m\u001b[0m\n\u001b[1;32m----> 1\u001b[1;33m \u001b[1;32mfrom\u001b[0m \u001b[0mtorch\u001b[0m\u001b[1;33m.\u001b[0m\u001b[0mnn\u001b[0m\u001b[1;33m.\u001b[0m\u001b[0mutils\u001b[0m\u001b[1;33m.\u001b[0m\u001b[0mrnn\u001b[0m \u001b[1;32mimport\u001b[0m \u001b[0mpad_sequence\u001b[0m\u001b[1;33m\u001b[0m\u001b[1;33m\u001b[0m\u001b[0m\n\u001b[0m\u001b[0;32m      2\u001b[0m \u001b[0ma\u001b[0m \u001b[1;33m=\u001b[0m \u001b[0mtorch\u001b[0m\u001b[1;33m.\u001b[0m\u001b[0mones\u001b[0m\u001b[1;33m(\u001b[0m\u001b[1;36m25\u001b[0m\u001b[1;33m,\u001b[0m \u001b[1;36m300\u001b[0m\u001b[1;33m)\u001b[0m\u001b[1;33m\u001b[0m\u001b[1;33m\u001b[0m\u001b[0m\n\u001b[0;32m      3\u001b[0m \u001b[0mb\u001b[0m \u001b[1;33m=\u001b[0m \u001b[0mtorch\u001b[0m\u001b[1;33m.\u001b[0m\u001b[0mones\u001b[0m\u001b[1;33m(\u001b[0m\u001b[1;36m22\u001b[0m\u001b[1;33m,\u001b[0m \u001b[1;36m300\u001b[0m\u001b[1;33m)\u001b[0m\u001b[1;33m\u001b[0m\u001b[1;33m\u001b[0m\u001b[0m\n\u001b[0;32m      4\u001b[0m \u001b[0mc\u001b[0m \u001b[1;33m=\u001b[0m \u001b[0mtorch\u001b[0m\u001b[1;33m.\u001b[0m\u001b[0mones\u001b[0m\u001b[1;33m(\u001b[0m\u001b[1;36m15\u001b[0m\u001b[1;33m,\u001b[0m \u001b[1;36m300\u001b[0m\u001b[1;33m)\u001b[0m\u001b[1;33m\u001b[0m\u001b[1;33m\u001b[0m\u001b[0m\n\u001b[0;32m      5\u001b[0m \u001b[0mpad_sequence\u001b[0m\u001b[1;33m(\u001b[0m\u001b[1;33m[\u001b[0m\u001b[0ma\u001b[0m\u001b[1;33m,\u001b[0m \u001b[0mb\u001b[0m\u001b[1;33m,\u001b[0m \u001b[0mc\u001b[0m\u001b[1;33m]\u001b[0m\u001b[1;33m)\u001b[0m\u001b[1;33m.\u001b[0m\u001b[0msize\u001b[0m\u001b[1;33m(\u001b[0m\u001b[1;33m)\u001b[0m\u001b[1;33m\u001b[0m\u001b[1;33m\u001b[0m\u001b[0m\n",
      "\u001b[1;31mModuleNotFoundError\u001b[0m: No module named 'torch'"
     ]
    }
   ],
   "source": [
    "from torch.nn.utils.rnn import pad_sequence\n",
    "a = torch.ones(25, 300)\n",
    "b = torch.ones(22, 300)\n",
    "c = torch.ones(15, 300)\n",
    "pad_sequence([a, b, c]).size()\n",
    "torch.Size([25, 3, 300])"
   ]
  },
  {
   "cell_type": "code",
   "execution_count": null,
   "id": "e5a68858",
   "metadata": {},
   "outputs": [],
   "source": [
    "   sentence_length.sort(key = lambda x : (-x[0], -x[1]))\n",
    "\n",
    "    len_dict = defaultdict(list)\n",
    "    for i in range(len(sentence_length)):\n",
    "        s, t = sentence_length[i]\n",
    "        len_dict[(s, t)].append(i)\n",
    "\n",
    "    print(len_dict)\n",
    "\n",
    "    s_std, t_std = 0, 0\n",
    "    s_cur, t_cur = 0, 0\n",
    "    temp = []\n",
    "    for i, j in len_dict.items():\n",
    "        s_cur, t_cur = i\n",
    "\n",
    "        if abs(s_std - s_cur) > max_pad_len or abs(t_std - t_cur) > max_pad_len:\n",
    "            batch_indices_list.append(temp)\n",
    "            temp = []\n",
    "\n",
    "        for k in j:\n",
    "            temp.append(k)\n",
    "            \n",
    "            if len(temp) == batch_size:\n",
    "                batch_indices_list.append(temp)\n",
    "                temp = []\n",
    "            else:\n",
    "                s_std, t_std = i\n",
    "                \n",
    "    batch_indices_list.append(temp)"
   ]
  }
 ],
 "metadata": {
  "kernelspec": {
   "display_name": "Python 3",
   "language": "python",
   "name": "python3"
  },
  "language_info": {
   "codemirror_mode": {
    "name": "ipython",
    "version": 3
   },
   "file_extension": ".py",
   "mimetype": "text/x-python",
   "name": "python",
   "nbconvert_exporter": "python",
   "pygments_lexer": "ipython3",
   "version": "3.8.8"
  }
 },
 "nbformat": 4,
 "nbformat_minor": 5
}
