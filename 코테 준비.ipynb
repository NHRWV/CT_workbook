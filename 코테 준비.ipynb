{
 "cells": [
  {
   "cell_type": "code",
   "execution_count": null,
   "id": "80e98664",
   "metadata": {},
   "outputs": [],
   "source": [
    "n = int(input())\n",
    "\n",
    "lst = set()\n",
    "for i in range(n):\n",
    "    lst.add(input())\n",
    "    \n",
    "lst = list(lst)\n",
    "lst.sort()\n",
    "\n",
    "lst = sorted(lst, key = lambda x : (len(x)))"
   ]
  },
  {
   "cell_type": "code",
   "execution_count": null,
   "id": "ad917cb1",
   "metadata": {},
   "outputs": [],
   "source": [
    "while True:\n",
    "    word = input()\n",
    "    if word == '0':\n",
    "        break\n",
    "        \n",
    "    if word == word[::-1]:\n",
    "        print('yes')\n",
    "    else:\n",
    "        print('no')\n",
    "        \n",
    " "
   ]
  },
  {
   "cell_type": "code",
   "execution_count": null,
   "id": "53da4a4f",
   "metadata": {},
   "outputs": [],
   "source": [
    "n = int(input())\n",
    "\n",
    "def sol(n):\n",
    "    count = 0\n",
    "    num = 666\n",
    "    \n",
    "    while True:\n",
    "        if '666' in str(num):\n",
    "            count += 1\n",
    "            \n",
    "        if count == n:\n",
    "            print(num)\n",
    "            break\n",
    "            \n",
    "        num += 1\n",
    "        \n",
    "sol(n)"
   ]
  },
  {
   "cell_type": "code",
   "execution_count": null,
   "id": "1bd70412",
   "metadata": {},
   "outputs": [],
   "source": [
    "k, n = map(int, input().split())\n",
    "\n",
    "lst = []\n",
    "for i in range(k):\n",
    "    lst.append(int(input()))\n",
    "    \n",
    "    \n",
    "start = 0\n",
    "end = max(lst)\n",
    "answer = 0\n",
    "\n",
    "while start <= end:\n",
    "    mid = (start + end) // 2\n",
    "    temp = 0\n",
    "    \n",
    "    for i in lst:\n",
    "        if mid > 0:\n",
    "            temp += i // mid\n",
    "            \n",
    "    if temp >= n:\n",
    "        start = mid + 1\n",
    "        answer = mid\n",
    "    else:\n",
    "        end = mid - 1\n",
    "            \n",
    "print(answer)"
   ]
  },
  {
   "cell_type": "code",
   "execution_count": null,
   "id": "3359f4aa",
   "metadata": {},
   "outputs": [],
   "source": [
    "n = int(input())\n",
    "a = set(map(int, input().split()))\n",
    "m = int(input())\n",
    "b = list(map(int, input().split()))\n",
    "\n",
    "for i in b:\n",
    "    if i in a:\n",
    "        print(1)\n",
    "    else:\n",
    "        print(0)"
   ]
  },
  {
   "cell_type": "code",
   "execution_count": null,
   "id": "d64b44c2",
   "metadata": {},
   "outputs": [],
   "source": [
    "from collections import deque\n",
    "\n",
    "t = int(input())\n",
    "for _ in range(t):\n",
    "    n, m = map(int, input().split())\n",
    "    \n",
    "    "
   ]
  },
  {
   "cell_type": "code",
   "execution_count": null,
   "id": "5aefbed8",
   "metadata": {},
   "outputs": [],
   "source": [
    "n = int(input())\n",
    "\n",
    "count = 0\n",
    "num = 666\n",
    "    \n",
    "while True:\n",
    "    if '666' in str(num):\n",
    "        count += 1\n",
    "            \n",
    "    if count == n:\n",
    "        print(num)\n",
    "        break\n",
    "            \n",
    "    num += 1"
   ]
  },
  {
   "cell_type": "code",
   "execution_count": null,
   "id": "1c249fc1",
   "metadata": {},
   "outputs": [],
   "source": [
    "from collections import deque\n",
    "\n",
    "n, k = map(int, input().split())\n",
    "s = list(input())\n",
    "\n",
    "stack = deque()\n",
    "count = 0\n",
    "for i in range(n):\n",
    "    while stack and count < k and stack[-1] < s[i]:\n",
    "        count += 1\n",
    "        stack.pop()\n",
    "        \n",
    "    stack.append(s[i])\n",
    "    \n",
    "    \n",
    "print(\"\".join(stack)[:n-k])"
   ]
  },
  {
   "cell_type": "code",
   "execution_count": null,
   "id": "05796cc5",
   "metadata": {},
   "outputs": [],
   "source": [
    "pay = int(input())\n",
    "\n",
    "lst = [500, 100, 50, 10, 5, 1]\n",
    "\n",
    "value = 1000 - pay\n",
    "count = 0\n",
    "while value > 0:\n",
    "    count += value // lst[0]\n",
    "    value %= lst[0]\n",
    "    lst.pop(0)\n",
    "    \n",
    "print(count)"
   ]
  },
  {
   "cell_type": "code",
   "execution_count": null,
   "id": "5e75a3de",
   "metadata": {},
   "outputs": [],
   "source": [
    "n = int(input())\n",
    "\n",
    "dp = [-1] * 5001\n",
    "dp[3] = 1\n",
    "dp[5] = 1\n",
    "for i in range(4, n+1):\n",
    "    if not i % 3:\n",
    "        dp[i] = min(dp[i], dp[i//3] + 1)\n",
    "        \n",
    "    if not i % 5:\n",
    "        dp[i] = min(dp[i], dp[i//5] + 1)\n",
    "        \n",
    "        \n",
    "print(dp[n])"
   ]
  },
  {
   "cell_type": "code",
   "execution_count": null,
   "id": "8cf18ebe",
   "metadata": {},
   "outputs": [],
   "source": [
    "n = int(input())\n",
    "\n",
    "dist = list(map(int, input().split()))\n",
    "price = list(map(int, input().split()))\n",
    "\n",
    "answer = 0\n",
    "std = price[0]\n",
    "for i in range(n-1):\n",
    "    if std > price[i]:\n",
    "        std = price[i]\n",
    "    answer += std * dist[i]\n",
    "    \n",
    "    \n",
    "print(answer)\n",
    "    "
   ]
  },
  {
   "cell_type": "code",
   "execution_count": null,
   "id": "d8b71c7a",
   "metadata": {},
   "outputs": [],
   "source": [
    "n, m = map(int, input().split())\n",
    "crd = list(map(int, input().split()))\n",
    "\n",
    "pos = []\n",
    "neg = []\n",
    "maxi = 0\n",
    "for i in range(n):\n",
    "    if crd[i] > 0:\n",
    "        pos.append(crd[i])\n",
    "    elif crd[i] < 0:\n",
    "        neg.append(crd[i])\n",
    "        \n",
    "    maxi = max(maxi, abs(crd[i]))\n",
    "    \n",
    "neg.sort()\n",
    "pos.sort(reverse = True)\n",
    "    \n",
    "lst = []\n",
    "for i in range(0, len(pos), m):\n",
    "    if pos[i] != maxi:\n",
    "        lst.append(pos[i])\n",
    "for i in range(0, len(neg), m):\n",
    "    if abs(neg[i]) != maxi:\n",
    "        lst.append(neg[i])\n",
    "        \n",
    "answer = maxi\n",
    "for i in lst:\n",
    "    answer += abs(2 * i)\n",
    "    \n",
    "print(answer)\n",
    "    \n",
    "        \n"
   ]
  },
  {
   "cell_type": "code",
   "execution_count": null,
   "id": "8ebf8986",
   "metadata": {},
   "outputs": [],
   "source": [
    "import sys\n",
    "\n",
    "n = int(input())\n",
    "crane = list(map(int, input().split()))\n",
    "m = int(input())\n",
    "box = list(map(int, input().split()))\n",
    "\n",
    "crane.sort(reverse = True)\n",
    "box.sort(reverse = True)\n",
    "\n",
    "if crane[0] < box[0]:\n",
    "    print(-1)\n",
    "    sys.exit()\n",
    "    \n",
    "time = 0\n",
    "while m > 0:\n",
    "    for i in crane:\n",
    "        for j in box:\n",
    "            if i >= j:\n",
    "                box.pop(0)\n",
    "                m -= 1\n",
    "                break\n",
    "                \n",
    "    time += 1\n",
    "    \n",
    "print(time)"
   ]
  },
  {
   "cell_type": "code",
   "execution_count": null,
   "id": "6a32e7a9",
   "metadata": {},
   "outputs": [],
   "source": [
    "import heapq\n",
    "\n",
    "n = int(input())\n",
    "lst = []\n",
    "\n",
    "for i in range(n):\n",
    "    lst.append(int(input()))\n",
    "    \n",
    "heapq.heapify(lst)\n",
    "answer = 0\n",
    "while len(lst) > 1:\n",
    "    a = heapq.heappop(lst)\n",
    "    b = heapq.heappop(lst)\n",
    "    \n",
    "    temp = a + b\n",
    "    answer += temp\n",
    "    heapq.heappush(lst, temp)\n",
    "\n",
    "print(answer)"
   ]
  },
  {
   "cell_type": "code",
   "execution_count": null,
   "id": "faf96969",
   "metadata": {},
   "outputs": [],
   "source": [
    "n = int(input())\n",
    "\n",
    "pos = []\n",
    "neg = []\n",
    "answer = 0\n",
    "\n",
    "for i in range(n):\n",
    "    a = int(input())\n",
    "    \n",
    "    if a == 1:\n",
    "        answer += 1\n",
    "    elif a > 0:\n",
    "        pos.append(a)\n",
    "    else:\n",
    "        neg.append(a)\n",
    "    \n",
    "pos.sort(reverse = True)\n",
    "neg.sort()\n",
    "\n",
    "for i in range(0, len(pos), 2):\n",
    "    if i != len(pos) - 1:\n",
    "        answer += pos[i] * pos[i+1]\n",
    "    else:\n",
    "        answer += pos[i]\n",
    "for i in range(0, len(neg), 2):\n",
    "    if i != len(neg) - 1:\n",
    "        answer += neg[i] * neg[i+1]\n",
    "    else:\n",
    "        answer += neg[i]\n",
    "        \n",
    "print(answer)"
   ]
  },
  {
   "cell_type": "code",
   "execution_count": null,
   "id": "cecdd5fe",
   "metadata": {},
   "outputs": [],
   "source": [
    "word = input()\n",
    "\n",
    "answer = ''\n",
    "temp = 0\n",
    "\n",
    "for i in word:\n",
    "    if i.isdigit():\n",
    "        temp += int(i)\n",
    "    else:\n",
    "        answer += i\n",
    "        \n",
    "answer = list(answer)\n",
    "answer.sort()\n",
    "\n",
    "if temp != 0:\n",
    "    answer.append(str(temp))\n",
    "    \n",
    "print(\"\".join(answer))\n",
    "\n"
   ]
  },
  {
   "cell_type": "code",
   "execution_count": null,
   "id": "f0b825e3",
   "metadata": {},
   "outputs": [],
   "source": [
    "n = int(input())\n",
    "\n",
    "lst = []\n",
    "for i in range(n):\n",
    "    a, b = map(int, input().split())\n",
    "    lst.append((a, b))\n",
    "    \n",
    "\n",
    "for x, y in lst:\n",
    "    rank = 1\n",
    "    for i, j in lst:\n",
    "        if x < i and y < j:\n",
    "            rank += 1\n",
    "            \n",
    "    print(rank, end = ' ')"
   ]
  },
  {
   "cell_type": "code",
   "execution_count": null,
   "id": "f40fb598",
   "metadata": {},
   "outputs": [],
   "source": [
    "n = int(input())\n",
    "\n",
    "bag = 0\n",
    "\n",
    "while n >= 0:\n",
    "    if not n % 5:\n",
    "        bag += n // 5\n",
    "        print(bag)\n",
    "        break\n",
    "        \n",
    "    n -= 3\n",
    "    bag += 1\n",
    "\n",
    "else:\n",
    "    print(-1)"
   ]
  },
  {
   "cell_type": "code",
   "execution_count": null,
   "id": "e38676c4",
   "metadata": {},
   "outputs": [],
   "source": [
    "n = int(input())\n",
    "card = [0] * (int(2e7) + 1)\n",
    "\n",
    "for i in map(int, input().split()):\n",
    "    card[i] += 1\n",
    "\n",
    "m = int(input())\n",
    "for i in map(int, input().split()):\n",
    "    print(card[i], end = ' ')"
   ]
  },
  {
   "cell_type": "code",
   "execution_count": null,
   "id": "38ae70fc",
   "metadata": {},
   "outputs": [],
   "source": [
    "k, n = map(int, input().split())\n",
    "\n",
    "lst = []\n",
    "for i in range(k):\n",
    "    lst.append(int(input()))\n",
    "\n",
    "start = 0\n",
    "end = max(lst)\n",
    "answer = 0\n",
    "\n",
    "while start <= end:\n",
    "    mid = (start + end) // 2\n",
    "    \n",
    "    temp = 0\n",
    "    for i in lst:\n",
    "        if mid > 0:\n",
    "            temp += i // mid\n",
    "            \n",
    "    if temp >= n:\n",
    "        start = mid + 1\n",
    "        answer = mid\n",
    "        \n",
    "    else:\n",
    "        end = mid - 1\n",
    "        \n",
    "print(answer)"
   ]
  },
  {
   "cell_type": "code",
   "execution_count": null,
   "id": "ae7e362c",
   "metadata": {},
   "outputs": [],
   "source": [
    "from collections import deque\n",
    "\n",
    "t = int(input())\n",
    "for _ in range(t):\n",
    "    n, m = map(int, input().split())\n",
    "    \n",
    "    lst = list(map(int, input().split()))\n",
    "    mark = [0] * n\n",
    "    mark[m] = 1\n",
    "    \n",
    "    lst = deque(lst)\n",
    "    mark = deque(mark)\n",
    "    count = 0\n",
    "    \n",
    "    while True:\n",
    "        if lst[0] == max(lst):\n",
    "            count += 1\n",
    "            if mark[0]:\n",
    "                print(count)\n",
    "                break\n",
    "                \n",
    "            else:\n",
    "                lst.popleft()\n",
    "                mark.popleft()\n",
    "                \n",
    "                \n",
    "        else:\n",
    "            lst.append(lst.popleft())\n",
    "            mark.append(mark.popleft())\n",
    "                \n",
    "        \n",
    "                "
   ]
  },
  {
   "cell_type": "code",
   "execution_count": 34,
   "id": "17f5f75f",
   "metadata": {},
   "outputs": [
    {
     "data": {
      "text/plain": [
       "[802, 743, 457, 539]"
      ]
     },
     "execution_count": 34,
     "metadata": {},
     "output_type": "execute_result"
    }
   ],
   "source": [
    "3\n",
    "1 0\n",
    "5\n",
    "4 2\n",
    "1 2 3 4\n",
    "6 0\n",
    "1 1 9 1 1 1"
   ]
  },
  {
   "cell_type": "code",
   "execution_count": 40,
   "id": "bbbce102",
   "metadata": {},
   "outputs": [],
   "source": [
    "a = '1-2-3-4'"
   ]
  },
  {
   "cell_type": "code",
   "execution_count": 46,
   "id": "b25c3d5d",
   "metadata": {},
   "outputs": [],
   "source": [
    "b = a.split(\"-\")"
   ]
  },
  {
   "cell_type": "code",
   "execution_count": 48,
   "id": "93021c9e",
   "metadata": {},
   "outputs": [
    {
     "data": {
      "text/plain": [
       "['1', '2', '3', '4']"
      ]
     },
     "execution_count": 48,
     "metadata": {},
     "output_type": "execute_result"
    }
   ],
   "source": [
    "list(b)"
   ]
  },
  {
   "cell_type": "code",
   "execution_count": 47,
   "id": "329c845d",
   "metadata": {},
   "outputs": [
    {
     "data": {
      "text/plain": [
       "['1', '2', '3', '4']"
      ]
     },
     "execution_count": 47,
     "metadata": {},
     "output_type": "execute_result"
    }
   ],
   "source": [
    "b"
   ]
  },
  {
   "cell_type": "code",
   "execution_count": null,
   "id": "2089f506",
   "metadata": {},
   "outputs": [],
   "source": []
  }
 ],
 "metadata": {
  "kernelspec": {
   "display_name": "Python 3",
   "language": "python",
   "name": "python3"
  },
  "language_info": {
   "codemirror_mode": {
    "name": "ipython",
    "version": 3
   },
   "file_extension": ".py",
   "mimetype": "text/x-python",
   "name": "python",
   "nbconvert_exporter": "python",
   "pygments_lexer": "ipython3",
   "version": "3.8.8"
  }
 },
 "nbformat": 4,
 "nbformat_minor": 5
}
