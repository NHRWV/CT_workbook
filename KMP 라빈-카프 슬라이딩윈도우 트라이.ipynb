{
 "cells": [
  {
   "cell_type": "markdown",
   "id": "6ee167e3",
   "metadata": {},
   "source": [
    "https://www.acmicpc.net/problem/16916"
   ]
  },
  {
   "cell_type": "code",
   "execution_count": null,
   "id": "b48f2005",
   "metadata": {},
   "outputs": [],
   "source": [
    "# 백준 16916 부분 문자열\n",
    "\n",
    "\n",
    "def get_pi(pattern):\n",
    "    pi = [0] * len(pattern)\n",
    "    idx = 0\n",
    "    \n",
    "    for i in range(1, len(pattern)):\n",
    "        while idx > 0 and pattern[i] != pattern[idx]:\n",
    "            idx = pi[idx - 1]\n",
    "            \n",
    "        if pattern[i] == pattern[idx]:\n",
    "            idx += 1\n",
    "            pi[i] = idx\n",
    "            \n",
    "    return pi\n",
    "\n",
    "\n",
    "\n",
    "def kmp(s, pattern):\n",
    "    n = len(s)\n",
    "    m = len(pattern)\n",
    "    \n",
    "    pi = get_pi(pattern)\n",
    "    idx = 0\n",
    "    for i in range(n):\n",
    "        while idx > 0 and s[i] != pattern[idx]:\n",
    "            idx = pi[idx - 1]\n",
    "            \n",
    "        if s[i] == pattern[idx]:\n",
    "            if idx == m - 1:\n",
    "                return True\n",
    "            else:\n",
    "                idx += 1\n",
    "                \n",
    "    return False\n",
    "\n",
    "\n",
    "\n",
    "\n",
    "s = input()\n",
    "p = input()\n",
    "\n",
    "if kmp(s, p):\n",
    "    print(1)\n",
    "else:\n",
    "    print(0)"
   ]
  },
  {
   "cell_type": "markdown",
   "id": "03477a71",
   "metadata": {},
   "source": [
    "https://www.acmicpc.net/problem/16172"
   ]
  },
  {
   "cell_type": "code",
   "execution_count": null,
   "id": "db371d30",
   "metadata": {},
   "outputs": [],
   "source": [
    "# 백준 16172  나는 친구가 적다 (Large)\n",
    "\n",
    "\n",
    "def get_pi(pattern):\n",
    "    pi = [0] * len(pattern)\n",
    "    idx = 0\n",
    "    \n",
    "    for i in range(1, len(pattern)):\n",
    "        while idx > 0 and pattern[i] != pattern[idx]:\n",
    "            idx = pi[idx - 1]\n",
    "            \n",
    "        if pattern[i] == pattern[idx]:\n",
    "            idx += 1\n",
    "            pi[i] = idx\n",
    "            \n",
    "    return pi\n",
    "\n",
    "\n",
    "\n",
    "def kmp(s, pattern):\n",
    "    n = len(s)\n",
    "    m = len(pattern)\n",
    "    \n",
    "    pi = get_pi(pattern)\n",
    "    idx = 0\n",
    "    for i in range(n):\n",
    "        if s[i].isdigit():\n",
    "            continue\n",
    "            \n",
    "        while idx > 0 and s[i] != pattern[idx]:\n",
    "            idx = pi[idx - 1]\n",
    "            \n",
    "        if s[i] == pattern[idx]:\n",
    "            if idx == m - 1:\n",
    "                return True\n",
    "            else:\n",
    "                idx += 1\n",
    "                \n",
    "    return False\n",
    "\n",
    "\n",
    "\n",
    "s = input()\n",
    "k = input()\n",
    "\n",
    "if kmp(s, k):\n",
    "    print(1)\n",
    "else:\n",
    "    print(0)"
   ]
  },
  {
   "cell_type": "markdown",
   "id": "6e14d39c",
   "metadata": {},
   "source": [
    "https://www.acmicpc.net/problem/1701"
   ]
  },
  {
   "cell_type": "code",
   "execution_count": null,
   "id": "f9b60907",
   "metadata": {},
   "outputs": [],
   "source": [
    "# 백준 1701 Cubeditor\n",
    "\n",
    "def get_pi(pattern):\n",
    "    pi = [0] * len(pattern)\n",
    "    idx = 0\n",
    "    \n",
    "    for i in range(1, len(pattern)):\n",
    "        while idx > 0 and pattern[i] != pattern[idx]:\n",
    "            idx = pi[idx - 1]\n",
    "            \n",
    "        if pattern[i] == pattern[idx]:\n",
    "            idx += 1\n",
    "            pi[i] = idx\n",
    "            \n",
    "    return max(pi)\n",
    "\n",
    "\n",
    "\n",
    "s = input()\n",
    "\n",
    "answer = 0\n",
    "for i in range(len(s)):\n",
    "    p = s[i:len(s)]\n",
    "    answer = max(answer, get_pi(p))\n",
    "    \n",
    "    \n",
    "print(answer)"
   ]
  },
  {
   "cell_type": "markdown",
   "id": "ff244183",
   "metadata": {},
   "source": [
    "https://www.acmicpc.net/problem/1786"
   ]
  },
  {
   "cell_type": "code",
   "execution_count": null,
   "id": "3c2d35bc",
   "metadata": {},
   "outputs": [],
   "source": [
    "# 백준 1786 찾기\n",
    "\n",
    "def get_pi(pattern):\n",
    "    pi = [0] * len(pattern)\n",
    "    idx = 0\n",
    "    \n",
    "    for i in range(1, len(pattern)):\n",
    "        while idx > 0 and pattern[i] != pattern[idx]:\n",
    "            idx = pi[idx - 1]\n",
    "            \n",
    "        if pattern[i] == pattern[idx]:\n",
    "            idx += 1\n",
    "            pi[i] = idx\n",
    "            \n",
    "    return pi\n",
    "\n",
    "\n",
    "\n",
    "def kmp(s, pattern):\n",
    "    n = len(s)\n",
    "    m = len(pattern)\n",
    "    \n",
    "    pi = get_pi(pattern)\n",
    "    idx = 0\n",
    "    lst = []\n",
    "    \n",
    "    for i in range(n):\n",
    "        while idx > 0 and s[i] != pattern[idx]:\n",
    "            idx = pi[idx - 1]\n",
    "            \n",
    "        if s[i] == pattern[idx]:\n",
    "            if idx == m - 1:\n",
    "                lst.append(i - m + 2)\n",
    "                idx = pi[idx]\n",
    "                \n",
    "            else:\n",
    "                idx += 1\n",
    "                \n",
    "    return lst\n",
    "\n",
    "\n",
    "\n",
    "t = input()\n",
    "p = input()\n",
    "\n",
    "answer = kmp(t, p)\n",
    "\n",
    "print(len(answer))\n",
    "print(*answer)\n"
   ]
  },
  {
   "cell_type": "markdown",
   "id": "ff749c8b",
   "metadata": {},
   "source": [
    "https://www.acmicpc.net/problem/4354"
   ]
  },
  {
   "cell_type": "code",
   "execution_count": null,
   "id": "64ba6f72",
   "metadata": {},
   "outputs": [],
   "source": [
    "# 백준 4354 문자열 제곱\n",
    "\n",
    "def get_pi(pattern):\n",
    "    pi = [0] * len(pattern)\n",
    "    idx = 0\n",
    "    \n",
    "    for i in range(1, len(pattern)):\n",
    "        while idx > 0 and pattern[i] != pattern[idx]:\n",
    "            idx = pi[idx - 1]\n",
    "            \n",
    "        if pattern[i] == pattern[idx]:\n",
    "            idx += 1\n",
    "            pi[i] = idx\n",
    "            \n",
    "    return pi\n",
    "\n",
    "\n",
    "\n",
    "\n",
    "while True:\n",
    "    s = input()\n",
    "    if s == '.':\n",
    "        break\n",
    "        \n",
    "    check = get_pi(s)\n",
    "    \n",
    "    s_len = len(s)\n",
    "    p_len = s_len - check[s_len - 1]\n",
    "    \n",
    "    \n",
    "    if not s_len % p_len:\n",
    "        print(s_len // p_len)\n",
    "    \n",
    "    else:\n",
    "        print(1)\n",
    "    \n",
    "    "
   ]
  },
  {
   "cell_type": "markdown",
   "id": "cb8b8f29",
   "metadata": {},
   "source": [
    "https://www.acmicpc.net/problem/11585"
   ]
  },
  {
   "cell_type": "code",
   "execution_count": null,
   "id": "6812b9f3",
   "metadata": {},
   "outputs": [],
   "source": [
    "# 백준 11585 속타는 저녁 메뉴\n",
    "\n",
    "import math\n",
    "\n",
    "def get_pi(pattern):\n",
    "    pi = [0] * len(pattern)\n",
    "    idx = 0\n",
    "    \n",
    "    for i in range(1, len(pattern)):\n",
    "        while idx > 0 and pattern[i] != pattern[idx]:\n",
    "            idx = pi[idx - 1]\n",
    "            \n",
    "        if pattern[i] == pattern[idx]:\n",
    "            idx += 1\n",
    "            pi[i] = idx\n",
    "            \n",
    "    return pi\n",
    "\n",
    "\n",
    "def kmp(s, pattern):\n",
    "    n = len(s)\n",
    "    m = len(pattern)\n",
    "    \n",
    "    pi = get_pi(pattern)\n",
    "    idx = 0\n",
    "    lst = []\n",
    "    \n",
    "    for i in range(n):\n",
    "        while idx > 0 and s[i] != pattern[idx]:\n",
    "            idx = pi[idx - 1]\n",
    "            \n",
    "        if s[i] == pattern[idx]:\n",
    "            if idx == m - 1:\n",
    "                lst.append(i - m + 2)\n",
    "                idx = pi[idx]\n",
    "                \n",
    "            else:\n",
    "                idx += 1\n",
    "                \n",
    "    return lst\n",
    "\n",
    "\n",
    "\n",
    "\n",
    "n = int(input())\n",
    "s = list(map(str, input().split()))\n",
    "s = \"\".join(s)\n",
    "\n",
    "cur = list(map(str, input().split()))\n",
    "cur = \"\".join(cur)\n",
    "cur += cur[:-1]\n",
    "\n",
    "\n",
    "result = kmp(cur, s)\n",
    "    \n",
    "p_count = len(result)\n",
    "gcd = math.gcd(n, p_count)\n",
    "    \n",
    "print(\"{}/{}\".format(p_count // gcd, n // gcd))\n",
    "    \n"
   ]
  },
  {
   "cell_type": "markdown",
   "id": "d335f2ee",
   "metadata": {},
   "source": [
    "https://www.acmicpc.net/problem/1305"
   ]
  },
  {
   "cell_type": "code",
   "execution_count": null,
   "id": "11fc7869",
   "metadata": {},
   "outputs": [],
   "source": [
    "# 백준 1305 광고\n",
    "# 광고판에 aabcaa 가 보인다면 광고의 길이는 aabc.\n",
    "\n",
    "\n",
    "def get_pi(pattern):\n",
    "    pi = [0] * len(pattern)\n",
    "    idx = 0\n",
    "    \n",
    "    for i in range(1, len(pattern)):\n",
    "        while idx > 0 and pattern[i] != pattern[idx]:\n",
    "            idx = pi[idx - 1]\n",
    "            \n",
    "        if pattern[i] == pattern[idx]:\n",
    "            idx += 1\n",
    "            pi[i] = idx\n",
    "            \n",
    "    return pi\n",
    "\n",
    "\n",
    "\n",
    "l = int(input())\n",
    "s = input()\n",
    "\n",
    "p_len = l - get_pi(s)[-1]\n",
    "\n",
    "print(p_len)"
   ]
  },
  {
   "cell_type": "markdown",
   "id": "17c3400e",
   "metadata": {},
   "source": [
    "https://www.acmicpc.net/problem/7575"
   ]
  },
  {
   "cell_type": "code",
   "execution_count": null,
   "id": "2d3be54d",
   "metadata": {},
   "outputs": [],
   "source": [
    "# 백준 7575 바이러스\n",
    "\n",
    "def get_pi(pattern):\n",
    "    pi = [0] * len(pattern)\n",
    "    idx = 0\n",
    "    \n",
    "    for i in range(1, len(pattern)):\n",
    "        while idx > 0 and pattern[i] != pattern[idx]:\n",
    "            idx = pi[idx - 1]\n",
    "            \n",
    "        if pattern[i] == pattern[idx]:\n",
    "            idx += 1\n",
    "            pi[i] = idx\n",
    "            \n",
    "    return pi\n",
    "\n",
    "\n",
    "def kmp(s, pattern):\n",
    "    n = len(s)\n",
    "    m = len(pattern)\n",
    "    \n",
    "    pi = get_pi(pattern)\n",
    "    idx = 0\n",
    "    for i in range(n):\n",
    "        while idx > 0 and s[i] != pattern[idx]:\n",
    "            idx = pi[idx - 1]\n",
    "            \n",
    "        if s[i] == pattern[idx]:\n",
    "            if idx == m - 1:\n",
    "                return True\n",
    "            else:\n",
    "                idx += 1\n",
    "                \n",
    "    return False\n",
    "\n",
    "\n",
    "    \n",
    "\n",
    "\n",
    "\n",
    "n, k = map(int, input().split())\n",
    "\n",
    "code = []\n",
    "for i in range(n):\n",
    "    mi = int(input())\n",
    "    code.append(list(map(int, input().split())))\n",
    "\n",
    "\n",
    "check = 0\n",
    "for i in range(len(code[0]) - k + 1):\n",
    "    for j in range(1, n):\n",
    "        if not kmp(code[j], code[0][i:i+k]):\n",
    "            if not kmp(code[j][::-1], code[0][i:i+k]):\n",
    "                break\n",
    "                \n",
    "        if j == n-1:\n",
    "            check = 1\n",
    "        \n",
    "        \n",
    "        \n",
    "if check:\n",
    "    print('YES')\n",
    "\n",
    "else:\n",
    "    print('NO')\n",
    "        "
   ]
  },
  {
   "cell_type": "markdown",
   "id": "abb1cc37",
   "metadata": {},
   "source": [
    "https://www.acmicpc.net/problem/16900"
   ]
  },
  {
   "cell_type": "code",
   "execution_count": null,
   "id": "bcc4510b",
   "metadata": {},
   "outputs": [],
   "source": [
    "# 백준 16900 이름 정하기\n",
    "\n",
    "def get_pi(pattern):\n",
    "    pi = [0] * len(pattern)\n",
    "    idx = 0\n",
    "    \n",
    "    for i in range(1, len(pattern)):\n",
    "        while idx > 0 and pattern[i] != pattern[idx]:\n",
    "            idx = pi[idx - 1]\n",
    "            \n",
    "        if pattern[i] == pattern[idx]:\n",
    "            idx += 1\n",
    "            pi[i] = idx\n",
    "            \n",
    "    return pi\n",
    "\n",
    "\n",
    "\n",
    "s, k = map(str, input().split())\n",
    "k = int(k)\n",
    "\n",
    "pi = get_pi(s)\n",
    "s_len = len(s)\n",
    "answer = s_len\n",
    "\n",
    "for i in range(k-1):\n",
    "    answer += s_len - pi[s_len - 1]\n",
    "    \n",
    "    \n",
    "print(answer)"
   ]
  },
  {
   "cell_type": "markdown",
   "id": "590ac922",
   "metadata": {},
   "source": [
    "https://www.acmicpc.net/problem/14725"
   ]
  },
  {
   "cell_type": "code",
   "execution_count": null,
   "id": "08437f8e",
   "metadata": {},
   "outputs": [],
   "source": [
    "# 백준 14725 개미굴\n",
    "\n",
    "class Node(object):\n",
    "    def __init__(self, key):\n",
    "        self.key = key\n",
    "        self.child = {}\n",
    "        \n",
    "        \n",
    "class Trie(object):\n",
    "    def __init__(self):\n",
    "        self.head = Node(None)\n",
    "        \n",
    "    \n",
    "    def insert(self, word):\n",
    "        cur = self.head\n",
    "        \n",
    "        for char in word:\n",
    "            if char not in cur.child:\n",
    "                cur.child[char] = Node(char)\n",
    "            \n",
    "            cur = cur.child[char]\n",
    "            \n",
    "        cur.child['*'] = True\n",
    "        \n",
    "        \n",
    "def sol(cur, level):\n",
    "    if '*' in cur.child:\n",
    "        return\n",
    "    \n",
    "    temp = sorted(cur.child)\n",
    "    \n",
    "    for i in temp:\n",
    "        print('--' * level, end = '')\n",
    "        print(i)\n",
    "        sol(cur.child[i], level + 1)\n",
    "        \n",
    "        \n",
    "n = int(input())\n",
    "\n",
    "trie = Trie()\n",
    "for i in range(n):\n",
    "    lst = list(map(str, input().split()))\n",
    "    \n",
    "    trie.insert(lst[1:])\n",
    "    \n",
    "    \n",
    "\n",
    "cur = trie.head\n",
    "\n",
    "sol(cur, 0)"
   ]
  },
  {
   "cell_type": "markdown",
   "id": "b8764a58",
   "metadata": {},
   "source": [
    "https://www.acmicpc.net/problem/2096"
   ]
  },
  {
   "cell_type": "code",
   "execution_count": null,
   "id": "df3c9f60",
   "metadata": {},
   "outputs": [],
   "source": [
    "# 백준 2096 내려가기\n",
    "\n",
    "\n",
    "n = int(input())\n",
    "\n",
    "\n",
    "maxi = [[0, 0, 0], [0, 0, 0]]\n",
    "mini = [[0, 0, 0], [0, 0, 0]]\n",
    "\n",
    "for i in range(n):\n",
    "    a, b, c = map(int, input().split())\n",
    "    dp = [a, b, c]\n",
    "    \n",
    "    \n",
    "    maxi[1][0] = max(maxi[0][0], maxi[0][1]) + dp[0]\n",
    "    maxi[1][1] = max(maxi[0][0], maxi[0][1], maxi[0][2]) + dp[1]\n",
    "    maxi[1][2] = max(maxi[0][1], maxi[0][2]) + dp[2]\n",
    "    \n",
    "    mini[1][0] = min(mini[0][0], mini[0][1]) + dp[0]\n",
    "    mini[1][1] = min(mini[0][0], mini[0][1], mini[0][2]) + dp[1]\n",
    "    mini[1][2] = min(mini[0][1], mini[0][2]) + dp[2]\n",
    "    \n",
    "    \n",
    "    maxi.append(maxi.pop(0))\n",
    "    mini.append(mini.pop(0))\n",
    "\n",
    "    \n",
    "    \n",
    "print(max(maxi[0]), min(mini[0]))"
   ]
  },
  {
   "cell_type": "markdown",
   "id": "51ecaff2",
   "metadata": {},
   "source": [
    "https://www.acmicpc.net/problem/10266"
   ]
  },
  {
   "cell_type": "code",
   "execution_count": null,
   "id": "3cd4ffb8",
   "metadata": {},
   "outputs": [],
   "source": [
    "# 백준 10266 시계 사진들\n",
    "\n",
    "\n",
    "def get_pi(pattern):\n",
    "    pi = [0] * len(pattern)\n",
    "    idx = 0\n",
    "    \n",
    "    for i in range(1, len(pattern)):\n",
    "        while idx > 0 and pattern[i] != pattern[idx]:\n",
    "            idx = pi[idx - 1]\n",
    "            \n",
    "        if pattern[i] == pattern[idx]:\n",
    "            idx += 1\n",
    "            pi[i] = idx\n",
    "            \n",
    "    return pi\n",
    "\n",
    "\n",
    "def kmp(s, pattern):\n",
    "    n = len(s)\n",
    "    m = len(pattern)\n",
    "    \n",
    "    pi = get_pi(pattern)\n",
    "    idx = 0\n",
    "    for i in range(n):\n",
    "        while idx > 0 and s[i] != pattern[idx]:\n",
    "            idx = pi[idx - 1]\n",
    "            \n",
    "        if s[i] == pattern[idx]:\n",
    "            if idx == m - 1:\n",
    "                return True\n",
    "            else:\n",
    "                idx += 1\n",
    "                \n",
    "    return False\n",
    "\n",
    "\n",
    "\n",
    "\n",
    "n = int(input())\n",
    "\n",
    "a = [0] * 360000\n",
    "b = [0] * 360000\n",
    "\n",
    "for i in map(int, input().split()):\n",
    "    a[i] = 1\n",
    "for i in map(int, input().split()):\n",
    "    b[i] = 1\n",
    "    \n",
    "    \n",
    "a += a\n",
    "\n",
    "if kmp(a, b):\n",
    "    print(\"possible\")\n",
    "else:\n",
    "    print(\"impossible\")"
   ]
  },
  {
   "cell_type": "markdown",
   "id": "faa4671b",
   "metadata": {},
   "source": [
    "https://www.acmicpc.net/problem/3356"
   ]
  },
  {
   "cell_type": "code",
   "execution_count": null,
   "id": "74ba7f03",
   "metadata": {},
   "outputs": [],
   "source": [
    "# 백준 3356 라디오 전송\n",
    "# '광고'랑 똑같은 문제인 것 같다.\n",
    "\n",
    "def get_pi(pattern):\n",
    "    pi = [0] * len(pattern)\n",
    "    idx = 0\n",
    "    \n",
    "    for i in range(1, len(pattern)):\n",
    "        while idx > 0 and pattern[i] != pattern[idx]:\n",
    "            idx = pi[idx - 1]\n",
    "            \n",
    "        if pattern[i] == pattern[idx]:\n",
    "            idx += 1\n",
    "            pi[i] = idx\n",
    "            \n",
    "    return pi\n",
    "\n",
    "\n",
    "\n",
    "l = int(input())\n",
    "s = input()\n",
    "\n",
    "p_len = l - get_pi(s)[-1]\n",
    "\n",
    "print(p_len)"
   ]
  },
  {
   "cell_type": "markdown",
   "id": "885497d8",
   "metadata": {},
   "source": [
    "https://www.acmicpc.net/problem/12104"
   ]
  },
  {
   "cell_type": "code",
   "execution_count": null,
   "id": "68a7d825",
   "metadata": {},
   "outputs": [],
   "source": [
    "# 백준 12104 순환 순열\n",
    "\n",
    "def get_pi(pattern):\n",
    "    pi = [0] * len(pattern)\n",
    "    idx = 0\n",
    "    \n",
    "    for i in range(1, len(pattern)):\n",
    "        while idx > 0 and pattern[i] != pattern[idx]:\n",
    "            idx = pi[idx - 1]\n",
    "            \n",
    "        if pattern[i] == pattern[idx]:\n",
    "            idx += 1\n",
    "            pi[i] = idx\n",
    "            \n",
    "    return pi\n",
    "\n",
    "\n",
    "def kmp(s, pattern):\n",
    "    count = 0\n",
    "    n = len(s)\n",
    "    m = len(pattern)\n",
    "    \n",
    "    pi = get_pi(pattern)\n",
    "    idx = 0\n",
    "    for i in range(n):\n",
    "        while idx > 0 and s[i] != pattern[idx]:\n",
    "            idx = pi[idx - 1]\n",
    "            \n",
    "        if s[i] == pattern[idx]:\n",
    "            if idx == m - 1:\n",
    "                count += 1\n",
    "                idx = pi[idx]\n",
    "            else:\n",
    "                idx += 1\n",
    "                \n",
    "    return count\n",
    "\n",
    "\n",
    "\n",
    "a = input()\n",
    "b = input()\n",
    "\n",
    "a += a[:-1]\n",
    "\n",
    "print(kmp(a, b))"
   ]
  },
  {
   "cell_type": "markdown",
   "id": "cd3e6125",
   "metadata": {},
   "source": [
    "https://www.acmicpc.net/problem/16570"
   ]
  },
  {
   "cell_type": "code",
   "execution_count": null,
   "id": "5d251493",
   "metadata": {},
   "outputs": [],
   "source": [
    "# 백준 16570 앞뒤가 맞는 수열\n",
    "\n",
    "def get_pi(pattern):\n",
    "    pi = [0] * len(pattern)\n",
    "    idx = 0\n",
    "    \n",
    "    for i in range(1, len(pattern)):\n",
    "        while idx > 0 and pattern[i] != pattern[idx]:\n",
    "            idx = pi[idx - 1]\n",
    "            \n",
    "        if pattern[i] == pattern[idx]:\n",
    "            idx += 1\n",
    "            pi[i] = idx\n",
    "            \n",
    "    return pi\n",
    "\n",
    "\n",
    "n = int(input())\n",
    "s = list(map(str, input().split()))\n",
    "s = s[::-1]\n",
    "\n",
    "\n",
    "\n",
    "pi = get_pi(s)\n",
    "\n",
    "if not max(pi):\n",
    "    print(-1)\n",
    "    \n",
    "else:\n",
    "    print(max(pi), pi.count(max(pi)))"
   ]
  },
  {
   "cell_type": "code",
   "execution_count": 10,
   "id": "ec849e26",
   "metadata": {},
   "outputs": [
    {
     "data": {
      "text/plain": [
       "'11'"
      ]
     },
     "execution_count": 10,
     "metadata": {},
     "output_type": "execute_result"
    }
   ],
   "source": [
    "11\n",
    "2 5 2 5 2 5 2 8 2 5 2\n",
    "\n",
    "12\n",
    "1 4 8 4 7 3 4 7 4 8 4 7\n",
    "\n",
    "10\n",
    "0 1 2 3 4 5 6 7 8 9"
   ]
  },
  {
   "cell_type": "code",
   "execution_count": 43,
   "id": "c7527e6d",
   "metadata": {},
   "outputs": [
    {
     "data": {
      "text/plain": [
       "[0, 0, 1, 0, 1, 2, 3, 2, 3, 2, 3]"
      ]
     },
     "execution_count": 43,
     "metadata": {},
     "output_type": "execute_result"
    }
   ],
   "source": [
    "pi"
   ]
  },
  {
   "cell_type": "code",
   "execution_count": 29,
   "id": "b4873c20",
   "metadata": {},
   "outputs": [
    {
     "data": {
      "text/plain": [
       "[0, 0, 0, 0, 1, 2, 0, 1, 2, 3, 4, 0]"
      ]
     },
     "execution_count": 29,
     "metadata": {},
     "output_type": "execute_result"
    }
   ],
   "source": [
    "pi"
   ]
  },
  {
   "cell_type": "code",
   "execution_count": 31,
   "id": "daffce3f",
   "metadata": {},
   "outputs": [
    {
     "data": {
      "text/plain": [
       "[0, 0, 0, 0, 0, 0, 0, 0, 0, 0]"
      ]
     },
     "execution_count": 31,
     "metadata": {},
     "output_type": "execute_result"
    }
   ],
   "source": [
    "pi"
   ]
  },
  {
   "cell_type": "code",
   "execution_count": 33,
   "id": "8dd7e396",
   "metadata": {},
   "outputs": [
    {
     "name": "stdout",
     "output_type": "stream",
     "text": [
      "5\n"
     ]
    }
   ],
   "source": [
    "answer = 0\n",
    "for i in range(len(s)):\n",
    "    p = s[i:len(s)]\n",
    "    answer = max(answer, max(get_pi(p)))\n",
    "    \n",
    "    \n",
    "print(answer)"
   ]
  },
  {
   "cell_type": "code",
   "execution_count": 35,
   "id": "8534ec1a",
   "metadata": {},
   "outputs": [
    {
     "data": {
      "text/plain": [
       "[0, 0, 1]"
      ]
     },
     "execution_count": 35,
     "metadata": {},
     "output_type": "execute_result"
    }
   ],
   "source": [
    "pi"
   ]
  },
  {
   "cell_type": "code",
   "execution_count": 24,
   "id": "479a11fd",
   "metadata": {},
   "outputs": [
    {
     "data": {
      "text/plain": [
       "'9876543210'"
      ]
     },
     "execution_count": 24,
     "metadata": {},
     "output_type": "execute_result"
    }
   ],
   "source": [
    "s[::-1]"
   ]
  },
  {
   "cell_type": "code",
   "execution_count": 44,
   "id": "23b12a09",
   "metadata": {},
   "outputs": [
    {
     "data": {
      "text/plain": [
       "['2', '5', '2', '8', '2', '5', '2', '5', '2', '5', '2']"
      ]
     },
     "execution_count": 44,
     "metadata": {},
     "output_type": "execute_result"
    }
   ],
   "source": [
    "s"
   ]
  },
  {
   "cell_type": "code",
   "execution_count": null,
   "id": "d68a041f",
   "metadata": {},
   "outputs": [],
   "source": []
  }
 ],
 "metadata": {
  "kernelspec": {
   "display_name": "Python 3",
   "language": "python",
   "name": "python3"
  },
  "language_info": {
   "codemirror_mode": {
    "name": "ipython",
    "version": 3
   },
   "file_extension": ".py",
   "mimetype": "text/x-python",
   "name": "python",
   "nbconvert_exporter": "python",
   "pygments_lexer": "ipython3",
   "version": "3.8.8"
  }
 },
 "nbformat": 4,
 "nbformat_minor": 5
}
