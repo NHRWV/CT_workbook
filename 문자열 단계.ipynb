{
 "cells": [
  {
   "cell_type": "code",
   "execution_count": null,
   "metadata": {},
   "outputs": [],
   "source": [
    "# 백준 11720\n",
    "\n",
    "n = int(input())\n",
    "\n",
    "a = int(input())\n",
    "b = 0\n",
    "for i in range(len(str(a))):\n",
    "    b += int(str(a)[i])\n",
    "    \n",
    "print(b)"
   ]
  },
  {
   "cell_type": "code",
   "execution_count": null,
   "metadata": {},
   "outputs": [],
   "source": [
    "# 백준 10809\n",
    "\n",
    "s = input().lower()\n",
    "letters = 'abcdefghijklmnopqrstuvwxyz'\n",
    "for i in range(26):\n",
    "    print(s.find(letters[i]))\n"
   ]
  },
  {
   "cell_type": "code",
   "execution_count": null,
   "metadata": {},
   "outputs": [],
   "source": [
    "# 백준 2675\n",
    "\n",
    "t = int(input())\n",
    "\n",
    "for i in range(t):\n",
    "    r, s = map(str, input().split())\n",
    "    r = int(r)\n",
    "    p =''\n",
    "    for j in range(len(s)):\n",
    "        p += s[j]*r\n",
    "\n",
    "    print(p)"
   ]
  },
  {
   "cell_type": "code",
   "execution_count": null,
   "metadata": {},
   "outputs": [],
   "source": [
    "# 백준 1157..시간초과 뜨는 코드ㅠㅠ\n",
    "\n",
    "a = str(input().upper())\n",
    "\n",
    "max_letter = ''\n",
    "max_count = 0\n",
    "\n",
    "for i in range(len(a)):\n",
    "    if a[i] != max_letter:\n",
    "        if a.count(a[i]) >= max_count:\n",
    "            max_letter = a[i]\n",
    "            if a.count(a[i]) == max_count:\n",
    "                max_letter = '?'\n",
    "            max_count = a.count(a[i])\n",
    "        \n",
    "print(max_letter)"
   ]
  },
  {
   "cell_type": "code",
   "execution_count": null,
   "metadata": {},
   "outputs": [],
   "source": [
    "# 백준 1157 이렇게 하니까 되더라.\n",
    "\n",
    "a = str(input().upper())\n",
    "\n",
    "letters = set(a)\n",
    "max_letter = ''\n",
    "max_count = 0\n",
    "for i in range(len(letters)):\n",
    "    if a.count(list(letters)[i]) >= max_count:\n",
    "        max_letter = list(letters)[i]\n",
    "        if a.count(list(letters)[i]) == max_count:\n",
    "            max_letter = '?'\n",
    "        max_count = a.count(list(letters)[i])\n",
    "print(max_letter)"
   ]
  },
  {
   "cell_type": "code",
   "execution_count": null,
   "metadata": {},
   "outputs": [],
   "source": [
    "# 백준 2908\n",
    "\n",
    "a, b = map(int, input().split())\n",
    "\n",
    "a = str(a)[::-1]\n",
    "b = str(b)[::-1]\n",
    "\n",
    "if int(a) > int(b):\n",
    "    print(int(a))\n",
    "elif int(a) < int(b):\n",
    "    print(int(b))"
   ]
  },
  {
   "cell_type": "code",
   "execution_count": null,
   "metadata": {},
   "outputs": [],
   "source": [
    "# 백준 2941..............\n",
    "# 아니 근데 생각해보니까 이럴 필요 없이 그냥 크로아티아 알파벳만 임의의 문자로 치환한 다음에 len함수 쓰면 됨.\n",
    "\n",
    "a = str(input())\n",
    "\n",
    "alphabet = ['a', 'b', 'c', 'd', 'e', 'f', 'g', 'h', 'i', 'j', 'k', 'l', 'm', 'n', 'o', 'p', 'q', 'r', 's', 't',\n",
    "            'u', 'v', 'w', 'x', 'y', 'z', 'c=', 'c-', 'dz=', 'd-', 'lj', 'nj', 's=', 'z=']\n",
    "count = 0\n",
    "\n",
    "for i in alphabet[-8:]:\n",
    "    count += a.count(i)\n",
    "    a = a.replace(i,'+')\n",
    "\n",
    "for j in alphabet[:26]:\n",
    "    count += a.count(j)\n",
    "\n",
    "print(count)"
   ]
  },
  {
   "cell_type": "code",
   "execution_count": null,
   "metadata": {},
   "outputs": [],
   "source": [
    "# 백준 1316\n",
    "\n",
    "n = int(input())\n",
    "count = []\n",
    "for i in range(n):\n",
    "    voca = str(input().lower())\n",
    "    \n",
    "    for j in range(len(voca)):\n",
    "        try:\n",
    "            if voca[j] != voca[j+1]:\n",
    "                a = voca[j]\n",
    "                voca.replace(voca[:j+1], '')\n",
    "            \n",
    "                if voca.count(a) > 1:\n",
    "                    count.append(voca)\n",
    "                    continue\n",
    "        except:\n",
    "            continue\n",
    "            \n",
    "print(n - len(set(count)))\n",
    "                \n",
    "        "
   ]
  },
  {
   "cell_type": "markdown",
   "metadata": {},
   "source": [
    "https://www.acmicpc.net/problem/1371"
   ]
  },
  {
   "cell_type": "code",
   "execution_count": null,
   "metadata": {},
   "outputs": [],
   "source": [
    "# 백준 1371 가장 많은 글자\n",
    "\n",
    "from collections import Counter\n",
    "import sys\n",
    "sentence = sys.stdin.read()\n",
    "sentence = sentence.replace('\\n', '').replace(' ', '')\n",
    "\n",
    "lst = Counter(sentence)\n",
    "\n",
    "threshold = max(lst.values())\n",
    "\n",
    "answer = []\n",
    "for i in lst.items():\n",
    "    if i[1] == threshold:\n",
    "        answer.append(i[0])\n",
    "        \n",
    "answer.sort()\n",
    "\n",
    "print(''.join(answer))"
   ]
  },
  {
   "cell_type": "markdown",
   "metadata": {},
   "source": [
    "https://www.acmicpc.net/problem/2744"
   ]
  },
  {
   "cell_type": "code",
   "execution_count": null,
   "metadata": {},
   "outputs": [],
   "source": [
    "# 백준 2744 대소문자 바꾸기\n",
    "\n",
    "word = input()\n",
    "\n",
    "word = list(word)\n",
    "\n",
    "for i in range(len(word)):\n",
    "    if word[i].islower():\n",
    "        word[i] = word[i].upper()\n",
    "        \n",
    "    elif word[i].isupper():\n",
    "        word[i] = word[i].lower()\n",
    "        \n",
    "        \n",
    "print(''.join(word))"
   ]
  },
  {
   "cell_type": "markdown",
   "metadata": {},
   "source": [
    "https://www.acmicpc.net/problem/2902"
   ]
  },
  {
   "cell_type": "code",
   "execution_count": null,
   "metadata": {},
   "outputs": [],
   "source": [
    "# 백준 2902 KMP는 왜 KMP일까?\n",
    "\n",
    "word = input()\n",
    "\n",
    "word = list(word)\n",
    "answer = ''\n",
    "\n",
    "for i in range(len(word)):\n",
    "    if word[i].isupper():\n",
    "        answer += word[i]\n",
    "        \n",
    "        \n",
    "print(answer)"
   ]
  },
  {
   "cell_type": "markdown",
   "metadata": {},
   "source": [
    "https://www.acmicpc.net/problem/2966"
   ]
  },
  {
   "cell_type": "code",
   "execution_count": null,
   "metadata": {},
   "outputs": [],
   "source": [
    "# 백준 2966 찍기\n",
    "\n",
    "n = int(input())\n",
    "ca = input()\n",
    "\n",
    "a = 'ABC' * 33 + 'A'\n",
    "b = 'BABC' * 25\n",
    "g = 'CCAABB' * 16 + 'CCAA'\n",
    "\n",
    "Adrian = 0\n",
    "Bruno = 0\n",
    "Goran = 0\n",
    "\n",
    "for i in range(n):\n",
    "    if ca[i] == a[i]:\n",
    "        Adrian += 1\n",
    "    if ca[i] == b[i]:\n",
    "        Bruno += 1\n",
    "    if ca[i] == g[i]:\n",
    "        Goran += 1\n",
    "        \n",
    "        \n",
    "answer = max(Adrian, Bruno, Goran)\n",
    "\n",
    "print(answer)\n",
    "\n",
    "if Adrian == answer:\n",
    "    print('Adrian')\n",
    "if Bruno == answer:\n",
    "    print('Bruno')\n",
    "if Goran == answer:\n",
    "    print('Goran')\n",
    "    "
   ]
  },
  {
   "cell_type": "markdown",
   "metadata": {},
   "source": [
    "https://www.acmicpc.net/problem/10808"
   ]
  },
  {
   "cell_type": "code",
   "execution_count": null,
   "metadata": {},
   "outputs": [],
   "source": [
    "# 백준 10808 알파벳 개수\n",
    "\n",
    "\n",
    "from collections import defaultdict\n",
    "\n",
    "s = input()\n",
    "\n",
    "lst = 'abcdefghijklmnopqrstuvwxyz'\n",
    "lst = list(lst)\n",
    "count = defaultdict(int)\n",
    "\n",
    "for i in lst:\n",
    "    count[i]\n",
    "\n",
    "for i in s:\n",
    "    count[i] += 1\n",
    "    \n",
    "print(*count.values())"
   ]
  },
  {
   "cell_type": "markdown",
   "metadata": {},
   "source": [
    "https://www.acmicpc.net/problem/2935"
   ]
  },
  {
   "cell_type": "code",
   "execution_count": null,
   "metadata": {},
   "outputs": [],
   "source": [
    "# 백준 2935 소음\n",
    "\n",
    "a = int(input())\n",
    "opt = input()\n",
    "b = int(input())\n",
    "\n",
    "print(a * b if opt == '*' else a + b)"
   ]
  },
  {
   "cell_type": "markdown",
   "metadata": {},
   "source": [
    "https://www.acmicpc.net/problem/3028"
   ]
  },
  {
   "cell_type": "code",
   "execution_count": null,
   "metadata": {},
   "outputs": [],
   "source": [
    "# 백준 3028 창영마을\n",
    "\n",
    "lst = [1, 0, 0]\n",
    "def sol(x):\n",
    "    if x == 'A':\n",
    "        lst[0], lst[1] = lst[1], lst[0]\n",
    "    if x == 'B':\n",
    "        lst[1], lst[2] = lst[2], lst[1]\n",
    "    if x == 'C':\n",
    "        lst[0], lst[2] = lst[2], lst[0]\n",
    "    \n",
    "\n",
    "order = input()\n",
    "\n",
    "for i in order:\n",
    "    sol(i)\n",
    "    \n",
    "    \n",
    "print(lst.index(1) + 1)"
   ]
  },
  {
   "cell_type": "code",
   "execution_count": null,
   "metadata": {},
   "outputs": [],
   "source": [
    "AB\n",
    "\n",
    "CBABCACCC"
   ]
  }
 ],
 "metadata": {
  "kernelspec": {
   "display_name": "Python 3",
   "language": "python",
   "name": "python3"
  },
  "language_info": {
   "codemirror_mode": {
    "name": "ipython",
    "version": 3
   },
   "file_extension": ".py",
   "mimetype": "text/x-python",
   "name": "python",
   "nbconvert_exporter": "python",
   "pygments_lexer": "ipython3",
   "version": "3.8.8"
  }
 },
 "nbformat": 4,
 "nbformat_minor": 2
}
