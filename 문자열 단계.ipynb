{
 "cells": [
  {
   "cell_type": "code",
   "execution_count": null,
   "metadata": {},
   "outputs": [],
   "source": [
    "# 백준 11720\n",
    "\n",
    "n = int(input())\n",
    "\n",
    "a = int(input())\n",
    "b = 0\n",
    "for i in range(len(str(a))):\n",
    "    b += int(str(a)[i])\n",
    "    \n",
    "print(b)"
   ]
  },
  {
   "cell_type": "code",
   "execution_count": null,
   "metadata": {},
   "outputs": [],
   "source": [
    "# 백준 10809\n",
    "\n",
    "s = input().lower()\n",
    "letters = 'abcdefghijklmnopqrstuvwxyz'\n",
    "for i in range(26):\n",
    "    print(s.find(letters[i]))\n"
   ]
  },
  {
   "cell_type": "code",
   "execution_count": null,
   "metadata": {},
   "outputs": [],
   "source": [
    "# 백준 2675\n",
    "\n",
    "t = int(input())\n",
    "\n",
    "for i in range(t):\n",
    "    r, s = map(str, input().split())\n",
    "    r = int(r)\n",
    "    p =''\n",
    "    for j in range(len(s)):\n",
    "        p += s[j]*r\n",
    "\n",
    "    print(p)"
   ]
  },
  {
   "cell_type": "code",
   "execution_count": null,
   "metadata": {},
   "outputs": [],
   "source": [
    "# 백준 1157..시간초과 뜨는 코드ㅠㅠ\n",
    "\n",
    "a = str(input().upper())\n",
    "\n",
    "max_letter = ''\n",
    "max_count = 0\n",
    "\n",
    "for i in range(len(a)):\n",
    "    if a[i] != max_letter:\n",
    "        if a.count(a[i]) >= max_count:\n",
    "            max_letter = a[i]\n",
    "            if a.count(a[i]) == max_count:\n",
    "                max_letter = '?'\n",
    "            max_count = a.count(a[i])\n",
    "        \n",
    "print(max_letter)"
   ]
  },
  {
   "cell_type": "code",
   "execution_count": null,
   "metadata": {},
   "outputs": [],
   "source": [
    "# 백준 1157 이렇게 하니까 되더라.\n",
    "\n",
    "a = str(input().upper())\n",
    "\n",
    "letters = set(a)\n",
    "max_letter = ''\n",
    "max_count = 0\n",
    "for i in range(len(letters)):\n",
    "    if a.count(list(letters)[i]) >= max_count:\n",
    "        max_letter = list(letters)[i]\n",
    "        if a.count(list(letters)[i]) == max_count:\n",
    "            max_letter = '?'\n",
    "        max_count = a.count(list(letters)[i])\n",
    "print(max_letter)"
   ]
  },
  {
   "cell_type": "code",
   "execution_count": null,
   "metadata": {},
   "outputs": [],
   "source": [
    "# 백준 2908\n",
    "\n",
    "a, b = map(int, input().split())\n",
    "\n",
    "a = str(a)[::-1]\n",
    "b = str(b)[::-1]\n",
    "\n",
    "if int(a) > int(b):\n",
    "    print(int(a))\n",
    "elif int(a) < int(b):\n",
    "    print(int(b))"
   ]
  },
  {
   "cell_type": "code",
   "execution_count": null,
   "metadata": {},
   "outputs": [],
   "source": [
    "# 백준 2941..............\n",
    "# 아니 근데 생각해보니까 이럴 필요 없이 그냥 크로아티아 알파벳만 임의의 문자로 치환한 다음에 len함수 쓰면 됨.\n",
    "\n",
    "a = str(input())\n",
    "\n",
    "alphabet = ['a', 'b', 'c', 'd', 'e', 'f', 'g', 'h', 'i', 'j', 'k', 'l', 'm', 'n', 'o', 'p', 'q', 'r', 's', 't',\n",
    "            'u', 'v', 'w', 'x', 'y', 'z', 'c=', 'c-', 'dz=', 'd-', 'lj', 'nj', 's=', 'z=']\n",
    "count = 0\n",
    "\n",
    "for i in alphabet[-8:]:\n",
    "    count += a.count(i)\n",
    "    a = a.replace(i,'+')\n",
    "\n",
    "for j in alphabet[:26]:\n",
    "    count += a.count(j)\n",
    "\n",
    "print(count)"
   ]
  },
  {
   "cell_type": "code",
   "execution_count": null,
   "metadata": {},
   "outputs": [],
   "source": [
    "# 백준 1316\n",
    "\n",
    "n = int(input())\n",
    "count = []\n",
    "for i in range(n):\n",
    "    voca = str(input().lower())\n",
    "    \n",
    "    for j in range(len(voca)):\n",
    "        try:\n",
    "            if voca[j] != voca[j+1]:\n",
    "                a = voca[j]\n",
    "                voca.replace(voca[:j+1], '')\n",
    "            \n",
    "                if voca.count(a) > 1:\n",
    "                    count.append(voca)\n",
    "                    continue\n",
    "        except:\n",
    "            continue\n",
    "            \n",
    "print(n - len(set(count)))\n",
    "                \n",
    "        "
   ]
  },
  {
   "cell_type": "markdown",
   "metadata": {},
   "source": [
    "https://www.acmicpc.net/problem/1371"
   ]
  },
  {
   "cell_type": "code",
   "execution_count": 3,
   "metadata": {},
   "outputs": [
    {
     "ename": "ValueError",
     "evalue": "max() arg is an empty sequence",
     "output_type": "error",
     "traceback": [
      "\u001b[1;31m---------------------------------------------------------------------------\u001b[0m",
      "\u001b[1;31mValueError\u001b[0m                                Traceback (most recent call last)",
      "\u001b[1;32m<ipython-input-3-fca94399f783>\u001b[0m in \u001b[0;36m<module>\u001b[1;34m\u001b[0m\n\u001b[0;32m     11\u001b[0m \u001b[0mlst\u001b[0m \u001b[1;33m=\u001b[0m \u001b[0mCounter\u001b[0m\u001b[1;33m(\u001b[0m\u001b[0msentence\u001b[0m\u001b[1;33m)\u001b[0m\u001b[1;33m\u001b[0m\u001b[1;33m\u001b[0m\u001b[0m\n\u001b[0;32m     12\u001b[0m \u001b[1;33m\u001b[0m\u001b[0m\n\u001b[1;32m---> 13\u001b[1;33m \u001b[0mthreshold\u001b[0m \u001b[1;33m=\u001b[0m \u001b[0mmax\u001b[0m\u001b[1;33m(\u001b[0m\u001b[0mlst\u001b[0m\u001b[1;33m.\u001b[0m\u001b[0mvalues\u001b[0m\u001b[1;33m(\u001b[0m\u001b[1;33m)\u001b[0m\u001b[1;33m)\u001b[0m\u001b[1;33m\u001b[0m\u001b[1;33m\u001b[0m\u001b[0m\n\u001b[0m\u001b[0;32m     14\u001b[0m \u001b[1;33m\u001b[0m\u001b[0m\n\u001b[0;32m     15\u001b[0m \u001b[0manswer\u001b[0m \u001b[1;33m=\u001b[0m \u001b[1;33m[\u001b[0m\u001b[1;33m]\u001b[0m\u001b[1;33m\u001b[0m\u001b[1;33m\u001b[0m\u001b[0m\n",
      "\u001b[1;31mValueError\u001b[0m: max() arg is an empty sequence"
     ]
    }
   ],
   "source": [
    "# 백준 1371 가장 많은 글자\n",
    "\n",
    "from collections import Counter\n",
    "import sys\n",
    "input = sys.stdin.readline\n",
    "\n",
    "sentence = input()\n",
    "\n",
    "\n",
    "sentence = ''.join(sentence)\n",
    "lst = Counter(sentence)\n",
    "\n",
    "threshold = max(lst.values())\n",
    "\n",
    "answer = []\n",
    "for i in lst.items():\n",
    "    if i[1] == threshold:\n",
    "        answer.append(i[0])\n",
    "        \n",
    "answer.sort()\n",
    "\n",
    "print(''.join(answer))\n"
   ]
  },
  {
   "cell_type": "code",
   "execution_count": 4,
   "metadata": {},
   "outputs": [
    {
     "data": {
      "text/plain": [
       "Counter()"
      ]
     },
     "execution_count": 4,
     "metadata": {},
     "output_type": "execute_result"
    }
   ],
   "source": [
    "lst"
   ]
  },
  {
   "cell_type": "code",
   "execution_count": 22,
   "metadata": {},
   "outputs": [
    {
     "ename": "IndexError",
     "evalue": "string index out of range",
     "output_type": "error",
     "traceback": [
      "\u001b[1;31m---------------------------------------------------------------------------\u001b[0m",
      "\u001b[1;31mIndexError\u001b[0m                                Traceback (most recent call last)",
      "\u001b[1;32m<ipython-input-22-e52b12b1a06c>\u001b[0m in \u001b[0;36m<module>\u001b[1;34m\u001b[0m\n\u001b[0;32m      1\u001b[0m \u001b[1;32mfor\u001b[0m \u001b[0mi\u001b[0m \u001b[1;32min\u001b[0m \u001b[0mlst\u001b[0m\u001b[1;33m:\u001b[0m\u001b[1;33m\u001b[0m\u001b[1;33m\u001b[0m\u001b[0m\n\u001b[1;32m----> 2\u001b[1;33m     \u001b[0mprint\u001b[0m\u001b[1;33m(\u001b[0m\u001b[0mi\u001b[0m\u001b[1;33m[\u001b[0m\u001b[1;36m1\u001b[0m\u001b[1;33m]\u001b[0m\u001b[1;33m)\u001b[0m\u001b[1;33m\u001b[0m\u001b[1;33m\u001b[0m\u001b[0m\n\u001b[0m",
      "\u001b[1;31mIndexError\u001b[0m: string index out of range"
     ]
    }
   ],
   "source": [
    "for i in lst:\n",
    "    print(i[1])"
   ]
  },
  {
   "cell_type": "code",
   "execution_count": 23,
   "metadata": {},
   "outputs": [
    {
     "data": {
      "text/plain": [
       "dict_items([('b', 1), ('a', 1), ('e', 3), ('k', 1), ('j', 2), ('o', 3), ('n', 3), ('l', 1), ('i', 1), ('u', 1), ('d', 1), ('g', 1)])"
      ]
     },
     "execution_count": 23,
     "metadata": {},
     "output_type": "execute_result"
    }
   ],
   "source": [
    "lst.items()"
   ]
  },
  {
   "cell_type": "code",
   "execution_count": null,
   "metadata": {},
   "outputs": [],
   "source": []
  }
 ],
 "metadata": {
  "kernelspec": {
   "display_name": "Python 3",
   "language": "python",
   "name": "python3"
  },
  "language_info": {
   "codemirror_mode": {
    "name": "ipython",
    "version": 3
   },
   "file_extension": ".py",
   "mimetype": "text/x-python",
   "name": "python",
   "nbconvert_exporter": "python",
   "pygments_lexer": "ipython3",
   "version": "3.8.8"
  }
 },
 "nbformat": 4,
 "nbformat_minor": 2
}
