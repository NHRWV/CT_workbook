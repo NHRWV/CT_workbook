{
 "cells": [
  {
   "cell_type": "code",
   "execution_count": null,
   "metadata": {},
   "outputs": [],
   "source": [
    "# 백준 1978\n",
    "\n",
    "n = int(input())\n",
    "num = list(map(int, input().split()))\n",
    "p_num = 0\n",
    "\n",
    "for i in num:\n",
    "    count = 0\n",
    "    if i == 1:\n",
    "        continue\n",
    "    if 2 <= i < 4:\n",
    "        for j in range(1, i):\n",
    "            if i%j == 0:\n",
    "                count += 1\n",
    "    elif i >= 4:\n",
    "        for j in range(1, int(i/2)+1):\n",
    "            if i%j == 0:\n",
    "                count += 1\n",
    "    \n",
    "    if count == 1:\n",
    "        p_num += 1\n",
    "\n",
    "print(p_num)\n",
    "        \n",
    "        "
   ]
  },
  {
   "cell_type": "code",
   "execution_count": null,
   "metadata": {},
   "outputs": [],
   "source": [
    "# 백준 2581\n",
    "\n",
    "m = int(input())\n",
    "n = int(input())\n",
    "num = list(range(m, n + 1))\n",
    "p_num = []\n",
    "\n",
    "for i in num:\n",
    "    count = 0\n",
    "    if i == 1:\n",
    "        continue\n",
    "    for j in range(1, int(i**0.5) + 1):\n",
    "        if i%j == 0:\n",
    "            count += 1\n",
    "        \n",
    "    if count == 1:\n",
    "        p_num.append(i)\n",
    "\n",
    "if len(p_num) > 0:\n",
    "    print(sum(p_num))\n",
    "    print(min(p_num))\n",
    "else:\n",
    "    print(-1)"
   ]
  },
  {
   "cell_type": "code",
   "execution_count": null,
   "metadata": {},
   "outputs": [],
   "source": [
    "# 백준 11653\n",
    "\n",
    "n = int(input())\n",
    "insu = 2\n",
    "num = n\n",
    "\n",
    "while True:\n",
    "    if n == 1:\n",
    "        break\n",
    "    \n",
    "    elif num % insu == 0:\n",
    "        print(insu)\n",
    "        num = num // insu\n",
    "        \n",
    "    elif insu > n - 1:\n",
    "        break\n",
    "    \n",
    "    elif num % insu != 0:\n",
    "        insu += 1\n",
    "    \n"
   ]
  },
  {
   "cell_type": "code",
   "execution_count": null,
   "metadata": {},
   "outputs": [],
   "source": [
    "# 백준 1929...시간초과\n",
    "\n",
    "m, n = map(int, input().split())\n",
    "p_list = list(range(m, n + 1))\n",
    "\n",
    "\n",
    "for i in range(2, int(n**0.5)+1):\n",
    "    count = 0\n",
    "    for j in range(1, int(i**0.5)+1):\n",
    "        if i % j == 0:\n",
    "            count += 1\n",
    "            \n",
    "    if count == 1:\n",
    "        for k in range(2*i, n+1, i):\n",
    "            try:\n",
    "                nonsosu = p_list.index(k)\n",
    "                p_list[nonsosu] = 0\n",
    "            except:\n",
    "                continue\n",
    "\n",
    "p_list = set(p_list)\n",
    "p_list.remove(0)\n",
    "for m in p_list:\n",
    "    print(m)\n",
    "                "
   ]
  },
  {
   "cell_type": "code",
   "execution_count": null,
   "metadata": {},
   "outputs": [],
   "source": [
    "### 백준 1929 초기 코드 일부\n",
    "for i in che:\n",
    "    count = 0\n",
    "    if i == 1:\n",
    "        continue\n",
    "    for j in range(1, int(i**0.5)+1):\n",
    "        if i % j == 0:\n",
    "            count += 1\n",
    "            \n",
    "    if count == 1:\n",
    "        for k in range(2*i, n, i):\n",
    "            try:\n",
    "                nonsosu = p_list.index(k)\n",
    "                p_list[nonsosu] = 0\n",
    "            except:\n",
    "                continue\n",
    "        \n",
    "\n",
    "p_list = set(p_list)\n",
    "p_list.remove(0)\n",
    "for m in p_list:\n",
    "    print(m)"
   ]
  },
  {
   "cell_type": "code",
   "execution_count": null,
   "metadata": {},
   "outputs": [],
   "source": [
    "# 프로그래머스 완주하지 못한 선수. 근데 이거 시간초과 문제가 발생한다.\n",
    "\n",
    "def solution(participant, completion):\n",
    "    for i in completion:\n",
    "        participant.remove(i)\n",
    "    \n",
    "    answer = participant[0]\n",
    "    return answer"
   ]
  },
  {
   "cell_type": "code",
   "execution_count": null,
   "metadata": {},
   "outputs": [],
   "source": [
    "# 프로그래머스 완주하지 못한 선수. 통과.\n",
    "from collections import Counter\n",
    "\n",
    "def solution(participant, completion):\n",
    "    counter1 = Counter(completion)\n",
    "    counter2 = Counter(participant)\n",
    "    a = counter2 - counter1\n",
    "    \n",
    "    answer = list(a.keys())[0]\n",
    "    return answer"
   ]
  },
  {
   "cell_type": "code",
   "execution_count": null,
   "metadata": {},
   "outputs": [],
   "source": [
    "# 백준 1085\n",
    "\n",
    "x, y, w, h = map(int, input().split())\n",
    "\n",
    "distance = [x, y, w-x, h-y]\n",
    "print(min(distance))\n"
   ]
  },
  {
   "cell_type": "code",
   "execution_count": null,
   "metadata": {},
   "outputs": [],
   "source": [
    "# 백준 3009\n",
    "\n",
    "a, b = map(int,input().split())\n",
    "c, d = map(int,input().split())\n",
    "e, f = map(int,input().split())\n",
    "\n",
    "if a - c == 0:\n",
    "    x = e\n",
    "elif c - e == 0:\n",
    "    x = a\n",
    "elif a - e == 0:\n",
    "    x = c\n",
    "\n",
    "if b - d == 0:\n",
    "    y = f\n",
    "elif b - f == 0:\n",
    "    y = d\n",
    "elif d - f == 0:\n",
    "    y = b\n",
    "\n",
    "print(x, y)"
   ]
  },
  {
   "cell_type": "code",
   "execution_count": null,
   "metadata": {},
   "outputs": [],
   "source": [
    "# 백준 10872\n",
    "\n",
    "n = int(input())\n",
    "\n",
    "def factorial(n):\n",
    "    if n == 0:\n",
    "        return 1\n",
    "    return n * factorial(n-1)\n",
    "\n",
    "print(factorial(n))\n",
    "   \n",
    "    "
   ]
  },
  {
   "cell_type": "code",
   "execution_count": null,
   "metadata": {},
   "outputs": [],
   "source": [
    "# 백준 10870\n",
    "\n",
    "n = int(input())\n",
    "\n",
    "def bona(x):\n",
    "    if x == 0:\n",
    "        return 0\n",
    "    elif x == 1:\n",
    "        return 1\n",
    "    return bona(x-1) + bona(x-2)\n",
    "\n",
    "print(bona(n))"
   ]
  },
  {
   "cell_type": "code",
   "execution_count": null,
   "metadata": {},
   "outputs": [],
   "source": [
    "# 백준 2447\n",
    "\n",
    "n = int(input())\n",
    "\n",
    "def star(x):\n",
    "    if x == 3:\n",
    "        print(\"***\\n* *\\n***\")\n",
    "    return star(x/3)\n",
    "star(n)"
   ]
  },
  {
   "cell_type": "code",
   "execution_count": 4,
   "metadata": {},
   "outputs": [
    {
     "name": "stdout",
     "output_type": "stream",
     "text": [
      "3\n",
      "2 3 4\n",
      "26\n"
     ]
    }
   ],
   "source": [
    " # 백준 13900...아 처음에 메모리 초과나길래 조합 만들 때 list 해제하고 도전했다.\n",
    "# 그런데 pypy3에 sys 썼는데도 불구하고 시간초과난다...이거 실화냐?\n",
    "    \n",
    "from itertools import combinations\n",
    "\n",
    "n = int(input())\n",
    "ls = list(map(int, input().split()))\n",
    "\n",
    "couple = combinations(ls, 2)\n",
    "\n",
    "answer = 0\n",
    "for a, b in couple:\n",
    "    answer += a * b\n",
    "    \n",
    "print(answer)"
   ]
  },
  {
   "cell_type": "code",
   "execution_count": 6,
   "metadata": {},
   "outputs": [
    {
     "name": "stdout",
     "output_type": "stream",
     "text": [
      "3\n",
      "2 3 4\n",
      "26\n"
     ]
    }
   ],
   "source": [
    "# 백준 13900\n",
    "\n",
    "n = int(input())\n",
    "ls = list(map(int, input().split()))\n",
    "\n",
    "answer = 0\n",
    "for i in range(len(ls)):\n",
    "    for j in range(i+1, len(ls)):\n",
    "        answer += ls[i] * ls[j]\n",
    "        \n",
    "        \n",
    "print(answer)"
   ]
  },
  {
   "cell_type": "code",
   "execution_count": 17,
   "metadata": {},
   "outputs": [
    {
     "name": "stdout",
     "output_type": "stream",
     "text": [
      "3\n",
      "2 3 4\n",
      "26\n"
     ]
    }
   ],
   "source": [
    "# 백준 13900...드디어 성공! 그냥 수학이다.\n",
    "\n",
    "# 참고자료 https://www.acmicpc.net/board/view/27689\n",
    "\n",
    "n = int(input())\n",
    "ls = list(map(int, input().split()))\n",
    "\n",
    "a = sum(ls) ** 2\n",
    "b = 0\n",
    "for i in ls:\n",
    "    b += i ** 2\n",
    "    \n",
    "print((a - b) // 2)"
   ]
  },
  {
   "cell_type": "markdown",
   "metadata": {},
   "source": [
    "https://www.acmicpc.net/problem/20500"
   ]
  },
  {
   "cell_type": "code",
   "execution_count": 3,
   "metadata": {},
   "outputs": [
    {
     "name": "stdout",
     "output_type": "stream",
     "text": [
      "1515\n",
      "939178250\n"
     ]
    }
   ],
   "source": [
    "# 백준 20500 Ezreal 여눈부터 가네 ㅈㅈ\n",
    "\n",
    "n = int(input())\n",
    "\n",
    "dp = [[0] * 3 for _ in range(1516)]\n",
    "dp[1][1] = 1\n",
    "\n",
    "for i in range(2, 1516):\n",
    "    dp[i][0] = (dp[i-1][1] + dp[i-1][2]) % 1000000007\n",
    "    dp[i][1] = (dp[i-1][0] + dp[i-1][2]) % 1000000007\n",
    "    dp[i][2] = (dp[i-1][0] + dp[i-1][1]) % 1000000007\n",
    "    \n",
    "    \n",
    "print(dp[n][0])"
   ]
  },
  {
   "cell_type": "markdown",
   "metadata": {},
   "source": [
    "https://www.acmicpc.net/problem/2824"
   ]
  },
  {
   "cell_type": "code",
   "execution_count": 5,
   "metadata": {},
   "outputs": [
    {
     "name": "stdout",
     "output_type": "stream",
     "text": [
      "3\n",
      "2 3 5\n",
      "2\n",
      "4 5\n",
      "10\n"
     ]
    }
   ],
   "source": [
    "# 백준 2824 최대공약수...이래도 파이썬 안 쓸거야??\n",
    "\n",
    "import math\n",
    "\n",
    "\n",
    "n = int(input())\n",
    "\n",
    "a, b = 1, 1\n",
    "\n",
    "aa = list(map(int, input().split()))\n",
    "for i in aa:\n",
    "    a *= i\n",
    "    \n",
    "m = int(input())\n",
    "\n",
    "bb = list(map(int, input().split()))\n",
    "for i in bb:\n",
    "    b *= i\n",
    "    \n",
    "answer = str(math.gcd(a, b))\n",
    "print(answer[-9:])"
   ]
  },
  {
   "cell_type": "markdown",
   "metadata": {},
   "source": [
    "https://www.acmicpc.net/problem/2436"
   ]
  },
  {
   "cell_type": "code",
   "execution_count": null,
   "metadata": {},
   "outputs": [],
   "source": [
    "# 백준 2436 공약수\n",
    "\n",
    "import math\n",
    "\n",
    "gn, ln = map(int, input().split())\n",
    "\n",
    "div = ln // gn\n",
    "idx = int(div**(1/2))\n",
    "\n",
    "while True:\n",
    "    if div % idx == 0 and math.gcd(idx, div // idx) == 1:\n",
    "        break\n",
    "        \n",
    "    idx -= 1\n",
    "\n",
    "print(idx * gn, div // idx * gn)\n",
    "\n"
   ]
  },
  {
   "cell_type": "markdown",
   "metadata": {},
   "source": [
    "https://www.acmicpc.net/problem/11689"
   ]
  },
  {
   "cell_type": "code",
   "execution_count": 10,
   "metadata": {},
   "outputs": [
    {
     "name": "stdout",
     "output_type": "stream",
     "text": [
      "12\n",
      "4\n"
     ]
    }
   ],
   "source": [
    "# 백준 11689 GCD(n, k) = 1\n",
    "\n",
    "def sol(n):\n",
    "    phi = n\n",
    "    for i in range(2, int(n**(1/2) + 1)):\n",
    "        if n % i == 0:\n",
    "            phi -= phi // i\n",
    "            while n % i == 0:\n",
    "                n //= i\n",
    "    \n",
    "    if n > 1:\n",
    "        phi -= phi // n\n",
    "    return phi\n",
    "\n",
    "\n",
    "n = int(input())\n",
    "print(sol(n))"
   ]
  },
  {
   "cell_type": "markdown",
   "metadata": {},
   "source": [
    "https://www.acmicpc.net/problem/4355"
   ]
  },
  {
   "cell_type": "code",
   "execution_count": null,
   "metadata": {},
   "outputs": [],
   "source": [
    "# 백준 4355 서로소\n",
    "\n",
    "def sol(n):\n",
    "    phi = n\n",
    "    for i in range(2, int(n**(1/2) + 1)):\n",
    "        if n % i == 0:\n",
    "            phi -= phi // i\n",
    "            while n % i == 0:\n",
    "                n //= i\n",
    "    \n",
    "    if n > 1:\n",
    "        phi -= phi // n\n",
    "    return phi\n",
    "\n",
    "while True:\n",
    "    n = int(input())\n",
    "    if n == 0:\n",
    "        break\n",
    "        \n",
    "    print(sol(n))"
   ]
  },
  {
   "cell_type": "markdown",
   "metadata": {},
   "source": [
    "https://www.acmicpc.net/problem/19577"
   ]
  },
  {
   "cell_type": "code",
   "execution_count": 11,
   "metadata": {},
   "outputs": [
    {
     "name": "stdout",
     "output_type": "stream",
     "text": [
      "20\n"
     ]
    }
   ],
   "source": [
    "# 백준 19577 수학은 재밌어\n",
    "\n",
    "import math\n",
    "\n",
    "n = int(input())\n",
    "\n",
    "def sol(n):\n",
    "    phi = n\n",
    "    for i in range(2, int(math.sqrt(n) + 1)):\n",
    "        if not n % i:\n",
    "            phi -= phi // i\n",
    "            while n % i == 0:\n",
    "                n //= i\n",
    "    \n",
    "    if n > 1:\n",
    "        phi -= phi // n\n",
    "    return phi\n",
    "\n",
    "\n",
    "if n == 1 or n == 2: \n",
    "    print(n)\n",
    "    \n",
    "elif n % 2 == 1:\n",
    "    print(-1)\n",
    "\n",
    "else:\n",
    "    lst = [1, 2]\n",
    "    \n",
    "    for i in range(3, int(math.sqrt(n) + 1)):\n",
    "        if not n % i:\n",
    "            lst.append(i)\n",
    "            \n",
    "    for i in range(len(lst)-1, -1, -1):\n",
    "        if n // lst[i] != lst[i]:\n",
    "            lst.append(n // lst[i])\n",
    "        \n",
    "    answer = -1\n",
    "    for i in range(2, len(lst)):\n",
    "        if sol(lst[i]) * lst[i] == n: \n",
    "            answer = lst[i]\n",
    "            break\n",
    "            \n",
    "            \n",
    "    print(answer)"
   ]
  },
  {
   "cell_type": "markdown",
   "metadata": {},
   "source": [
    "https://www.acmicpc.net/problem/2166"
   ]
  },
  {
   "cell_type": "code",
   "execution_count": null,
   "metadata": {},
   "outputs": [],
   "source": [
    "# 백준 2166 다각형의 면적\n",
    "\n",
    "n = int(input())\n",
    "\n",
    "crd = []\n",
    "for i in range(n):\n",
    "    x, y = map(int, input().split())\n",
    "    crd.append(tuple([x, y]))\n",
    "    \n",
    "crd.append(crd[0])\n",
    "\n",
    "a, b = 0, 0\n",
    "for i in range(1, len(crd)):\n",
    "    a += (crd[i-1][0] * crd[i][1])\n",
    "    b += (crd[i-1][1] * crd[i][0])\n",
    "    \n",
    "answer = abs(a - b) / 2\n",
    "\n",
    "print(round(answer, 1))\n"
   ]
  },
  {
   "cell_type": "markdown",
   "metadata": {},
   "source": [
    "https://www.acmicpc.net/problem/5565"
   ]
  },
  {
   "cell_type": "code",
   "execution_count": 4,
   "metadata": {},
   "outputs": [
    {
     "data": {
      "text/plain": [
       "[(0, 0), (0, 10), (10, 10), (10, 0), (0, 0)]"
      ]
     },
     "execution_count": 4,
     "metadata": {},
     "output_type": "execute_result"
    }
   ],
   "source": [
    "# 백준 5565 영수증\n",
    "\n",
    "price = int(input())\n",
    "\n",
    "a = 0\n",
    "for i in range(9):\n",
    "    a += int(input())\n",
    "    \n",
    "print(price - a)   "
   ]
  },
  {
   "cell_type": "markdown",
   "metadata": {},
   "source": [
    "https://www.acmicpc.net/problem/1759"
   ]
  },
  {
   "cell_type": "code",
   "execution_count": null,
   "metadata": {},
   "outputs": [],
   "source": [
    "# 백준 1759 암호 만들기\n",
    "\n",
    "from itertools import combinations\n",
    "\n",
    "l, c = map(int, input().split())\n",
    "\n",
    "lst = list(map(str, input().split()))\n",
    "lst.sort()\n",
    "\n",
    "moeum = ['a', 'e', 'i', 'o', 'u']\n",
    "\n",
    "for i in combinations(lst, l):\n",
    "    count = 0\n",
    "    \n",
    "    for j in i:\n",
    "        if j in moeum:\n",
    "            count += 1\n",
    "            \n",
    "    if count >= 1 and count <= l - 2:\n",
    "        print(''.join(i))\n",
    "            "
   ]
  },
  {
   "cell_type": "markdown",
   "metadata": {},
   "source": [
    "https://www.acmicpc.net/problem/1929"
   ]
  },
  {
   "cell_type": "code",
   "execution_count": null,
   "metadata": {},
   "outputs": [],
   "source": [
    "# 백준 1929 소수 구하기\n",
    "\n",
    "import math\n",
    "\n",
    "def is_prime_num(n):  # n값이 소수인지 확인\n",
    "    for i in range(2, int(math.sqrt(n)) + 1):\n",
    "        if n % i == 0:\n",
    "            return 0\n",
    "    return 1\n",
    "\n",
    "\n",
    "m, n = map(int, input().split())\n",
    "\n",
    "for i in range(m, n+1):\n",
    "    if i == 1:\n",
    "        continue\n",
    "    if is_prime_num(i):\n",
    "        print(i)"
   ]
  },
  {
   "cell_type": "markdown",
   "metadata": {},
   "source": [
    "https://www.acmicpc.net/problem/1010"
   ]
  },
  {
   "cell_type": "code",
   "execution_count": null,
   "metadata": {},
   "outputs": [],
   "source": [
    "# 백준 1010 다리 놓기\n",
    "\n",
    "\n",
    "import math\n",
    "\n",
    "t = int(input())\n",
    "for i in range(t):\n",
    "    n, m = map(int, input().split())\n",
    "    \n",
    "    answer = math.factorial(m) // (math.factorial(m-n) * math.factorial(n)) \n",
    "    \n",
    "    \n",
    "    print(answer)"
   ]
  },
  {
   "cell_type": "markdown",
   "metadata": {},
   "source": [
    "https://www.acmicpc.net/problem/1019"
   ]
  },
  {
   "cell_type": "code",
   "execution_count": null,
   "metadata": {},
   "outputs": [],
   "source": [
    "# 책 페이지\n",
    "\n",
    "n = int(input())\n",
    "\n",
    "count = [0] * 10\n",
    "power = 1\n",
    "\n",
    "while n != 0:\n",
    "    while n % 10 != 9:\n",
    "        for i in str(n):\n",
    "            count[int(i)] += power\n",
    "        n -= 1\n",
    "    \n",
    "    if n < 10:\n",
    "        for i in range(n + 1):\n",
    "            count[i] += power\n",
    "        count[0] -= power\n",
    "        break\n",
    "    \n",
    "    else:\n",
    "        for i in range(10):\n",
    "            count[i] += (n // 10 + 1) * power\n",
    "            \n",
    "    count[0] -= power\n",
    "    power *= 10\n",
    "    n //= 10\n",
    "    \n",
    "    \n",
    "print(*count)"
   ]
  },
  {
   "cell_type": "markdown",
   "metadata": {},
   "source": [
    "https://www.acmicpc.net/problem/11401"
   ]
  },
  {
   "cell_type": "code",
   "execution_count": null,
   "metadata": {},
   "outputs": [],
   "source": [
    "# 이항 계수 3\n",
    "\n",
    "n, k = map(int, input().split())\n",
    "\n",
    "def sol(a, b):\n",
    "    if b == 0:\n",
    "        return 1\n",
    "    \n",
    "    if b % 2:\n",
    "        return (sol(a, b // 2) ** 2 * a) % 1000000007\n",
    "    \n",
    "    else:\n",
    "        return (sol(a, b // 2) ** 2) % 1000000007\n",
    "    \n",
    "    \n",
    "\n",
    "lst = [1] * (n+1)\n",
    "\n",
    "for i in range(2, n+1):\n",
    "    lst[i] = lst[i-1] * i % 1000000007\n",
    "\n",
    "a = lst[n]\n",
    "b = (lst[n-k] * lst[k]) % 1000000007\n",
    "\n",
    "\n",
    "print((a % 1000000007) * (sol(b, 1000000007-2) % 1000000007) % 1000000007)"
   ]
  },
  {
   "cell_type": "markdown",
   "metadata": {},
   "source": [
    "https://www.acmicpc.net/problem/15824"
   ]
  },
  {
   "cell_type": "code",
   "execution_count": null,
   "metadata": {},
   "outputs": [],
   "source": [
    "# 너 봄에는 캡사이신이 맛있단다\n",
    "\n",
    "n = int(input())\n",
    "scale = list(map(int, input().split()))\n",
    "\n",
    "scale.sort()\n",
    "\n",
    "def sol(a, b):\n",
    "    if b == 0:\n",
    "        return 1\n",
    "    \n",
    "    if b == 1:\n",
    "        return a % 1000000007\n",
    "    \n",
    "    if not b % 2:\n",
    "        return sol(a**2 % 1000000007, b // 2)\n",
    "    \n",
    "    else:\n",
    "        return a * sol(a**2 % 1000000007, b // 2) % 1000000007\n",
    "\n",
    "\n",
    "answer = 0\n",
    "for i in range(n):\n",
    "    answer += (scale[i] % 1000000007) * sol(2, i)\n",
    "    answer -= (scale[i] % 1000000007) * sol(2, n - i - 1)\n",
    "    answer %= 1000000007\n",
    "                                         \n",
    "    \n",
    "    \n",
    "print(answer)\n",
    "    "
   ]
  },
  {
   "cell_type": "markdown",
   "metadata": {},
   "source": [
    "https://www.acmicpc.net/problem/1016"
   ]
  },
  {
   "cell_type": "code",
   "execution_count": null,
   "metadata": {},
   "outputs": [],
   "source": [
    "# 제곱 ㄴㄴ 수\n",
    "\n",
    "mini, maxi = map(int, input().split())\n",
    "\n",
    "check = [1] * (maxi - mini + 1)\n",
    "\n",
    "count = 0\n",
    "num = 1\n",
    "\n",
    "while num * num <= maxi:\n",
    "    num += 1\n",
    "    \n",
    "    square = num * num\n",
    "    i = mini // square\n",
    "    \n",
    "    while square * i <= maxi:\n",
    "        idx = square * i - mini\n",
    "        \n",
    "        if idx >= 0 and check[idx]:\n",
    "            count += 1\n",
    "            check[idx] = 0\n",
    "            \n",
    "        i += 1\n",
    "        \n",
    "        \n",
    "print(len(check) - count)\n",
    "\n"
   ]
  },
  {
   "cell_type": "markdown",
   "metadata": {},
   "source": [
    "https://www.acmicpc.net/problem/1557"
   ]
  },
  {
   "cell_type": "code",
   "execution_count": null,
   "metadata": {},
   "outputs": [],
   "source": [
    "# 제곱 ㄴㄴ\n",
    "\n",
    "\n",
    "k = int(input())\n",
    "\n",
    "lst = [1] * 100001\n",
    "\n",
    "i = 2\n",
    "while i * i <= int(1e5):\n",
    "    if lst[i] == 1:\n",
    "        for j in range(i, int(1e5) + 1, i):\n",
    "            lst[j] *= -i\n",
    "            \n",
    "        square = i * i\n",
    "        for j in range(square, int(1e5) + 1, square):\n",
    "            lst[j] = 0\n",
    "    i += 1\n",
    "\n",
    "    \n",
    "for i in range(2, int(1e5) + 1):\n",
    "    if lst[i] == i:\n",
    "        lst[i] = 1\n",
    "    \n",
    "    elif lst[i] == -i:\n",
    "        lst[i] = -1\n",
    "    \n",
    "    elif lst[i] > 0:\n",
    "        lst[i] = -1\n",
    "        \n",
    "    elif lst[i] < 0:\n",
    "        lst[i] = 1\n",
    "        \n",
    "\n",
    "        \n",
    "def nono_square(x): # x 이하의 제곱ㄴㄴ 수의 개수를 구한다.\n",
    "    result = 0\n",
    "    \n",
    "    num = 1\n",
    "    while num * num <= x:\n",
    "        result += lst[num] * (x // (num * num))\n",
    "        \n",
    "        num += 1\n",
    "        \n",
    "    return result\n",
    "\n",
    "\n",
    "start = 0\n",
    "end = int(1e10)\n",
    "\n",
    "while start <= end:\n",
    "    mid = (start + end) // 2\n",
    "    \n",
    "    result = nono_square(mid)\n",
    "    \n",
    "    if result < k:\n",
    "        start = mid + 1\n",
    "    else:\n",
    "        end = mid - 1\n",
    "        \n",
    "    \n",
    "        \n",
    "print(end + 1)    "
   ]
  },
  {
   "cell_type": "markdown",
   "metadata": {},
   "source": [
    "https://www.acmicpc.net/problem/8464"
   ]
  },
  {
   "cell_type": "code",
   "execution_count": null,
   "metadata": {},
   "outputs": [],
   "source": [
    "# Non-Squarefree Numbers\n",
    "\n",
    "k = int(input())\n",
    "\n",
    "lst = [1] * 1000001\n",
    "\n",
    "i = 2\n",
    "i6 = int(1e6)\n",
    "\n",
    "while i * i <= i6:\n",
    "    if lst[i] == 1:\n",
    "        for j in range(i, i6 + 1, i):\n",
    "            lst[j] *= -i\n",
    "            \n",
    "        square = i * i\n",
    "        for j in range(square, i6 + 1, square):\n",
    "            lst[j] = 0\n",
    "    i += 1\n",
    "\n",
    "    \n",
    "for i in range(2, i6 + 1):\n",
    "    if lst[i] == i:\n",
    "        lst[i] = 1\n",
    "    \n",
    "    elif lst[i] == -i:\n",
    "        lst[i] = -1\n",
    "    \n",
    "    elif lst[i] > 0:\n",
    "        lst[i] = -1\n",
    "        \n",
    "    elif lst[i] < 0:\n",
    "        lst[i] = 1\n",
    "        \n",
    "\n",
    "        \n",
    "def nono_square(x):\n",
    "    result = 0\n",
    "    \n",
    "    num = 1\n",
    "    while num * num <= x:\n",
    "        result += lst[num] * (x // (num * num))\n",
    "        \n",
    "        num += 1\n",
    "        \n",
    "    return result\n",
    "\n",
    "\n",
    "start = 0\n",
    "end = int(1e12)\n",
    "\n",
    "while start <= end:\n",
    "    mid = (start + end) // 2\n",
    "    \n",
    "    result = mid - nono_square(mid)\n",
    "    \n",
    "    if result < k:\n",
    "        start = mid + 1\n",
    "    else:\n",
    "        end = mid - 1\n",
    "        \n",
    "    \n",
    "        \n",
    "print(end + 1)    "
   ]
  },
  {
   "cell_type": "markdown",
   "metadata": {},
   "source": [
    "https://www.acmicpc.net/problem/10986"
   ]
  },
  {
   "cell_type": "code",
   "execution_count": null,
   "metadata": {},
   "outputs": [],
   "source": [
    "# 나머지 합\n",
    "\n",
    "n, m = map(int, input().split())\n",
    "seq = list(map(int, input().split()))\n",
    "\n",
    "hab = 0\n",
    "psum = [0] * m\n",
    "for i in range(n):\n",
    "    hab += seq[i]\n",
    "    hab %= m\n",
    "    psum[hab] += 1\n",
    "    \n",
    "    \n",
    "answer = 0\n",
    "for i in range(m):\n",
    "    if i == 0:\n",
    "        answer += psum[i] * (psum[i] + 1) // 2\n",
    "    else:\n",
    "        answer += psum[i] * (psum[i] - 1) // 2\n",
    "        \n",
    "print(answer)\n",
    "\n"
   ]
  },
  {
   "cell_type": "code",
   "execution_count": 1,
   "metadata": {},
   "outputs": [
    {
     "name": "stdout",
     "output_type": "stream",
     "text": [
      "5 2\n",
      "10\n"
     ]
    }
   ],
   "source": [
    "n, r = map(int, input().split())\n",
    "\n",
    "def sol(a, b):\n",
    "    if b == 0:\n",
    "        return 1\n",
    "    \n",
    "    if b % 2:\n",
    "        return (sol(a, b // 2) ** 2 * a) % 1000000007\n",
    "    \n",
    "    else:\n",
    "        return (sol(a, b // 2) ** 2) % 1000000007\n",
    "    \n",
    "    \n",
    "\n",
    "lst = [1] * (n+1)\n",
    "for i in range(2, n+1):\n",
    "    lst[i] = lst[i-1] * i % 1000000007\n",
    "\n",
    "a = lst[n]\n",
    "b = (lst[n-r] * lst[r]) % 1000000007\n",
    "\n",
    "\n",
    "print((a % 1000000007) * (sol(b, 1000000007-2) % 1000000007) % 1000000007)\n"
   ]
  },
  {
   "cell_type": "code",
   "execution_count": 2,
   "metadata": {},
   "outputs": [
    {
     "data": {
      "text/plain": [
       "120"
      ]
     },
     "execution_count": 2,
     "metadata": {},
     "output_type": "execute_result"
    }
   ],
   "source": [
    "a"
   ]
  },
  {
   "cell_type": "code",
   "execution_count": 3,
   "metadata": {},
   "outputs": [
    {
     "data": {
      "text/plain": [
       "12"
      ]
     },
     "execution_count": 3,
     "metadata": {},
     "output_type": "execute_result"
    }
   ],
   "source": [
    "b"
   ]
  },
  {
   "cell_type": "code",
   "execution_count": 4,
   "metadata": {},
   "outputs": [
    {
     "data": {
      "text/plain": [
       "[1, 1, 2, 6, 24, 120]"
      ]
     },
     "execution_count": 4,
     "metadata": {},
     "output_type": "execute_result"
    }
   ],
   "source": [
    "31\n",
    "34\n",
    "7\n",
    "151"
   ]
  },
  {
   "cell_type": "code",
   "execution_count": 1,
   "metadata": {},
   "outputs": [
    {
     "data": {
      "text/plain": [
       "223"
      ]
     },
     "execution_count": 1,
     "metadata": {},
     "output_type": "execute_result"
    }
   ],
   "source": [
    "31+34+7+151"
   ]
  },
  {
   "cell_type": "code",
   "execution_count": 2,
   "metadata": {},
   "outputs": [
    {
     "data": {
      "text/plain": [
       "43"
      ]
     },
     "execution_count": 2,
     "metadata": {},
     "output_type": "execute_result"
    }
   ],
   "source": [
    "223 % 60\n"
   ]
  },
  {
   "cell_type": "code",
   "execution_count": 3,
   "metadata": {},
   "outputs": [
    {
     "data": {
      "text/plain": [
       "3"
      ]
     },
     "execution_count": 3,
     "metadata": {},
     "output_type": "execute_result"
    }
   ],
   "source": [
    "223 // 60\n"
   ]
  },
  {
   "cell_type": "code",
   "execution_count": null,
   "metadata": {},
   "outputs": [],
   "source": []
  }
 ],
 "metadata": {
  "kernelspec": {
   "display_name": "Python 3",
   "language": "python",
   "name": "python3"
  },
  "language_info": {
   "codemirror_mode": {
    "name": "ipython",
    "version": 3
   },
   "file_extension": ".py",
   "mimetype": "text/x-python",
   "name": "python",
   "nbconvert_exporter": "python",
   "pygments_lexer": "ipython3",
   "version": "3.8.8"
  }
 },
 "nbformat": 4,
 "nbformat_minor": 2
}
