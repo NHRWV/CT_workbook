{
 "cells": [
  {
   "cell_type": "code",
   "execution_count": null,
   "metadata": {},
   "outputs": [],
   "source": [
    "# 백준 1978\n",
    "\n",
    "n = int(input())\n",
    "num = list(map(int, input().split()))\n",
    "p_num = 0\n",
    "\n",
    "for i in num:\n",
    "    count = 0\n",
    "    if i == 1:\n",
    "        continue\n",
    "    if 2 <= i < 4:\n",
    "        for j in range(1, i):\n",
    "            if i%j == 0:\n",
    "                count += 1\n",
    "    elif i >= 4:\n",
    "        for j in range(1, int(i/2)+1):\n",
    "            if i%j == 0:\n",
    "                count += 1\n",
    "    \n",
    "    if count == 1:\n",
    "        p_num += 1\n",
    "\n",
    "print(p_num)\n",
    "        \n",
    "        "
   ]
  },
  {
   "cell_type": "code",
   "execution_count": null,
   "metadata": {},
   "outputs": [],
   "source": [
    "# 백준 2581\n",
    "\n",
    "m = int(input())\n",
    "n = int(input())\n",
    "num = list(range(m, n + 1))\n",
    "p_num = []\n",
    "\n",
    "for i in num:\n",
    "    count = 0\n",
    "    if i == 1:\n",
    "        continue\n",
    "    for j in range(1, int(i**0.5) + 1):\n",
    "        if i%j == 0:\n",
    "            count += 1\n",
    "        \n",
    "    if count == 1:\n",
    "        p_num.append(i)\n",
    "\n",
    "if len(p_num) > 0:\n",
    "    print(sum(p_num))\n",
    "    print(min(p_num))\n",
    "else:\n",
    "    print(-1)"
   ]
  },
  {
   "cell_type": "code",
   "execution_count": null,
   "metadata": {},
   "outputs": [],
   "source": [
    "# 백준 11653\n",
    "\n",
    "n = int(input())\n",
    "insu = 2\n",
    "num = n\n",
    "\n",
    "while True:\n",
    "    if n == 1:\n",
    "        break\n",
    "    \n",
    "    elif num % insu == 0:\n",
    "        print(insu)\n",
    "        num = num // insu\n",
    "        \n",
    "    elif insu > n - 1:\n",
    "        break\n",
    "    \n",
    "    elif num % insu != 0:\n",
    "        insu += 1\n",
    "    \n"
   ]
  },
  {
   "cell_type": "code",
   "execution_count": null,
   "metadata": {},
   "outputs": [],
   "source": [
    "# 백준 1929...시간초과\n",
    "\n",
    "m, n = map(int, input().split())\n",
    "p_list = list(range(m, n + 1))\n",
    "\n",
    "\n",
    "for i in range(2, int(n**0.5)+1):\n",
    "    count = 0\n",
    "    for j in range(1, int(i**0.5)+1):\n",
    "        if i % j == 0:\n",
    "            count += 1\n",
    "            \n",
    "    if count == 1:\n",
    "        for k in range(2*i, n+1, i):\n",
    "            try:\n",
    "                nonsosu = p_list.index(k)\n",
    "                p_list[nonsosu] = 0\n",
    "            except:\n",
    "                continue\n",
    "\n",
    "p_list = set(p_list)\n",
    "p_list.remove(0)\n",
    "for m in p_list:\n",
    "    print(m)\n",
    "                "
   ]
  },
  {
   "cell_type": "code",
   "execution_count": null,
   "metadata": {},
   "outputs": [],
   "source": [
    "### 백준 1929 초기 코드 일부\n",
    "for i in che:\n",
    "    count = 0\n",
    "    if i == 1:\n",
    "        continue\n",
    "    for j in range(1, int(i**0.5)+1):\n",
    "        if i % j == 0:\n",
    "            count += 1\n",
    "            \n",
    "    if count == 1:\n",
    "        for k in range(2*i, n, i):\n",
    "            try:\n",
    "                nonsosu = p_list.index(k)\n",
    "                p_list[nonsosu] = 0\n",
    "            except:\n",
    "                continue\n",
    "        \n",
    "\n",
    "p_list = set(p_list)\n",
    "p_list.remove(0)\n",
    "for m in p_list:\n",
    "    print(m)"
   ]
  },
  {
   "cell_type": "code",
   "execution_count": null,
   "metadata": {},
   "outputs": [],
   "source": [
    "# 프로그래머스 완주하지 못한 선수. 근데 이거 시간초과 문제가 발생한다.\n",
    "\n",
    "def solution(participant, completion):\n",
    "    for i in completion:\n",
    "        participant.remove(i)\n",
    "    \n",
    "    answer = participant[0]\n",
    "    return answer"
   ]
  },
  {
   "cell_type": "code",
   "execution_count": null,
   "metadata": {},
   "outputs": [],
   "source": [
    "# 프로그래머스 완주하지 못한 선수. 통과.\n",
    "from collections import Counter\n",
    "\n",
    "def solution(participant, completion):\n",
    "    counter1 = Counter(completion)\n",
    "    counter2 = Counter(participant)\n",
    "    a = counter2 - counter1\n",
    "    \n",
    "    answer = list(a.keys())[0]\n",
    "    return answer"
   ]
  },
  {
   "cell_type": "code",
   "execution_count": null,
   "metadata": {},
   "outputs": [],
   "source": [
    "# 백준 1085\n",
    "\n",
    "x, y, w, h = map(int, input().split())\n",
    "\n",
    "distance = [x, y, w-x, h-y]\n",
    "print(min(distance))\n"
   ]
  },
  {
   "cell_type": "code",
   "execution_count": null,
   "metadata": {},
   "outputs": [],
   "source": [
    "# 백준 3009\n",
    "\n",
    "a, b = map(int,input().split())\n",
    "c, d = map(int,input().split())\n",
    "e, f = map(int,input().split())\n",
    "\n",
    "if a - c == 0:\n",
    "    x = e\n",
    "elif c - e == 0:\n",
    "    x = a\n",
    "elif a - e == 0:\n",
    "    x = c\n",
    "\n",
    "if b - d == 0:\n",
    "    y = f\n",
    "elif b - f == 0:\n",
    "    y = d\n",
    "elif d - f == 0:\n",
    "    y = b\n",
    "\n",
    "print(x, y)"
   ]
  },
  {
   "cell_type": "code",
   "execution_count": null,
   "metadata": {},
   "outputs": [],
   "source": [
    "# 백준 10872\n",
    "\n",
    "n = int(input())\n",
    "\n",
    "def factorial(n):\n",
    "    if n == 0:\n",
    "        return 1\n",
    "    return n * factorial(n-1)\n",
    "\n",
    "print(factorial(n))\n",
    "   \n",
    "    "
   ]
  },
  {
   "cell_type": "code",
   "execution_count": null,
   "metadata": {},
   "outputs": [],
   "source": [
    "# 백준 10870\n",
    "\n",
    "n = int(input())\n",
    "\n",
    "def bona(x):\n",
    "    if x == 0:\n",
    "        return 0\n",
    "    elif x == 1:\n",
    "        return 1\n",
    "    return bona(x-1) + bona(x-2)\n",
    "\n",
    "print(bona(n))"
   ]
  },
  {
   "cell_type": "code",
   "execution_count": null,
   "metadata": {},
   "outputs": [],
   "source": [
    "# 백준 2447\n",
    "\n",
    "n = int(input())\n",
    "\n",
    "def star(x):\n",
    "    if x == 3:\n",
    "        print(\"***\\n* *\\n***\")\n",
    "    return star(x/3)\n",
    "star(n)"
   ]
  },
  {
   "cell_type": "code",
   "execution_count": null,
   "metadata": {},
   "outputs": [],
   "source": [
    " "
   ]
  },
  {
   "cell_type": "code",
   "execution_count": null,
   "metadata": {},
   "outputs": [],
   "source": []
  }
 ],
 "metadata": {
  "kernelspec": {
   "display_name": "Python 3",
   "language": "python",
   "name": "python3"
  },
  "language_info": {
   "codemirror_mode": {
    "name": "ipython",
    "version": 3
   },
   "file_extension": ".py",
   "mimetype": "text/x-python",
   "name": "python",
   "nbconvert_exporter": "python",
   "pygments_lexer": "ipython3",
   "version": "3.7.5"
  }
 },
 "nbformat": 4,
 "nbformat_minor": 2
}
