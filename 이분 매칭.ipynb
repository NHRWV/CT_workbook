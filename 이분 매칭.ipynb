{
 "cells": [
  {
   "cell_type": "markdown",
   "id": "13baa847",
   "metadata": {},
   "source": [
    "https://www.acmicpc.net/problem/2188"
   ]
  },
  {
   "cell_type": "code",
   "execution_count": null,
   "id": "73d9ee8a",
   "metadata": {},
   "outputs": [],
   "source": [
    "## 백준 2188 축사 배정\n",
    "\n",
    "n, m = map(int, input().split())\n",
    "lst = [[]]\n",
    "for i in range(n):\n",
    "    lst.append(list(map(int, input().split()))[1:])\n",
    "    \n",
    "barn = [0] * (m+1)\n",
    "\n",
    "def sol(x):\n",
    "    if visited[x]:\n",
    "        return False\n",
    "    \n",
    "    visited[x] = 1\n",
    "    \n",
    "    for i in lst[x]:\n",
    "        if barn[i] == 0 or sol(barn[i]): # 배정하고자 하는 축사가 비어 있거나,  \n",
    "            barn[i] = x                  # 기존에 배정된 소가 갈 수 있는 다른 칸이 남아있는 경우\n",
    "            return True\n",
    "\n",
    "    return False\n",
    "\n",
    "\n",
    "\n",
    "for i in range(1, n+1):\n",
    "    visited = [0] * (n+1)\n",
    "    sol(i)\n",
    "    \n",
    "    \n",
    "    \n",
    "print(m+1 - barn.count(0))"
   ]
  },
  {
   "cell_type": "markdown",
   "id": "b6605ec3",
   "metadata": {},
   "source": [
    "https://www.acmicpc.net/problem/11375"
   ]
  },
  {
   "cell_type": "code",
   "execution_count": null,
   "id": "99a84538",
   "metadata": {},
   "outputs": [],
   "source": [
    "# 백준 11375 열혈강호\n",
    "# 이분 매칭 기본 문제라서 축사 배정이랑 코드가 다를 게 없다.\n",
    "# 근데 pypy로 해야 시간초과 안 뜬다.\n",
    "\n",
    "n, m = map(int, input().split())\n",
    "lst = [[]]\n",
    "for i in range(n):\n",
    "    lst.append(list(map(int, input().split()))[1:])\n",
    "    \n",
    "task = [0] * (m+1)\n",
    "\n",
    "def sol(x):\n",
    "    if visited[x]:\n",
    "        return False\n",
    "    \n",
    "    visited[x] = 1\n",
    "    \n",
    "    for i in lst[x]:\n",
    "        if task[i] == 0 or sol(task[i]):\n",
    "            task[i] = x\n",
    "            return True\n",
    "\n",
    "    return False\n",
    "\n",
    "\n",
    "\n",
    "for i in range(1, n+1):\n",
    "    visited = [0] * (n+1)\n",
    "    sol(i)\n",
    "    \n",
    "    \n",
    "    \n",
    "print(m+1 - task.count(0))"
   ]
  },
  {
   "cell_type": "code",
   "execution_count": 18,
   "id": "021b734d",
   "metadata": {},
   "outputs": [
    {
     "data": {
      "text/plain": [
       "[0, 1, 0, 1, 1, 1]"
      ]
     },
     "execution_count": 18,
     "metadata": {},
     "output_type": "execute_result"
    }
   ],
   "source": [
    "# 열혈강호 다른 풀이.\n",
    "\n",
    "import sys\n",
    "#sys.setrecursionlimit(100000)\n",
    "n,m = map(int,input().split())\n",
    "task = [list(map(int,input().split()))[1:] for _ in range(n)]\n",
    "\n",
    "visit= [-1]*(m+1)\n",
    "\n",
    "def dfs(x):\n",
    "    for i in task[x]:\n",
    "        if not check[i]:\n",
    "            check[i]=True\n",
    "            if visit[i]==-1 or dfs(visit[i]):\n",
    "                visit[i]=x\n",
    "            return True\n",
    "    return False\n",
    "\n",
    "result=0\n",
    "\n",
    "for i in range(n):\n",
    "    check = [False] *(m+1)\n",
    "    if dfs(i):\n",
    "        result+=1\n",
    "\n",
    "        \n",
    "print(result)"
   ]
  },
  {
   "cell_type": "markdown",
   "id": "12427742",
   "metadata": {},
   "source": [
    "https://www.acmicpc.net/problem/11376"
   ]
  },
  {
   "cell_type": "code",
   "execution_count": null,
   "id": "a1935442",
   "metadata": {},
   "outputs": [],
   "source": [
    "# 백준 11376 열혈강호2\n",
    "\n",
    "n, m = map(int, input().split())\n",
    "lst = [[]]\n",
    "for i in range(n):\n",
    "    lst.append(list(map(int, input().split()))[1:])\n",
    "    \n",
    "task = [0] * (m+1)\n",
    "\n",
    "def sol(x):\n",
    "    if visited[x]:\n",
    "        return False\n",
    "    \n",
    "    visited[x] = 1\n",
    "    \n",
    "    for i in lst[x]:\n",
    "        if task[i] == 0 or sol(task[i]):\n",
    "            task[i] = x\n",
    "            return True\n",
    "\n",
    "    return False\n",
    "\n",
    "count = 0\n",
    "for i in range(2):\n",
    "    for j in range(1, n+1):\n",
    "        visited = [0] * (n+1)\n",
    "        if sol(j):\n",
    "            count += 1\n",
    "\n",
    "\n",
    "print(count)"
   ]
  },
  {
   "cell_type": "markdown",
   "id": "2675ca97",
   "metadata": {},
   "source": [
    "https://www.acmicpc.net/problem/11377"
   ]
  },
  {
   "cell_type": "code",
   "execution_count": 2,
   "id": "8c75c6b5",
   "metadata": {},
   "outputs": [
    {
     "data": {
      "text/plain": [
       "[[], [1, 2], [1, 2], [1, 2], [4, 5], []]"
      ]
     },
     "execution_count": 2,
     "metadata": {},
     "output_type": "execute_result"
    }
   ],
   "source": [
    "n, m, k = map(int, input().split())\n",
    "lst = [[]]\n",
    "for i in range(n):\n",
    "    lst.append(list(map(int, input().split()))[1:])\n",
    "    \n",
    "task = [0] * (m+1)\n",
    "\n",
    "def sol(x):\n",
    "    if visited[x]:\n",
    "        return False\n",
    "    \n",
    "    visited[x] = 1\n",
    "    \n",
    "    for i in lst[x]:\n",
    "        if task[i] == 0 or sol(task[i]):\n",
    "            task[i] = x\n",
    "            return True\n",
    "\n",
    "    return False\n",
    "\n",
    "\n",
    "count = 0\n",
    "for i in range(1, n+1):\n",
    "    visited = [0] * (n+1)\n",
    "    if sol(i):\n",
    "        count += 1\n",
    "        \n",
    "for i in range(1, n+1):\n",
    "    visited = [0] * (n+1)\n",
    "    if sol(i):\n",
    "        k -= 1\n",
    "        count += 1\n",
    "    \n",
    "    if k == 0:\n",
    "        break\n",
    "        \n",
    "\n",
    "print(count)"
   ]
  },
  {
   "cell_type": "markdown",
   "id": "95e1214a",
   "metadata": {},
   "source": [
    "https://www.acmicpc.net/problem/9576"
   ]
  },
  {
   "cell_type": "code",
   "execution_count": null,
   "id": "3d97245d",
   "metadata": {},
   "outputs": [],
   "source": [
    "# 백준 9576 책 나눠주기\n",
    "\n",
    "def sol(x):\n",
    "    if visited[x]:\n",
    "        return False\n",
    "    \n",
    "    visited[x] = 1\n",
    "    \n",
    "    for i in range(lst[x][0], lst[x][1] + 1):\n",
    "        if book[i] == 0 or sol(book[i]):\n",
    "            book[i] = x\n",
    "            return True\n",
    "        \n",
    "    return False\n",
    "    \n",
    "    \n",
    "\n",
    "t = int(input())\n",
    "for i in range(t):\n",
    "    n, m = map(int, input().split())\n",
    "    \n",
    "    lst = [[]]\n",
    "    for j in range(m):\n",
    "        a, b = map(int, input().split())\n",
    "        lst.append([a, b])\n",
    "        \n",
    "    \n",
    "    book = [0] * (n+1)\n",
    "\n",
    "    count = 0\n",
    "    for j in range(1, m+1):\n",
    "        visited = [0] * (m+1)\n",
    "        if sol(j):\n",
    "            count += 1\n",
    "            \n",
    "            \n",
    "    print(count)"
   ]
  },
  {
   "cell_type": "markdown",
   "id": "c08046e4",
   "metadata": {},
   "source": [
    "https://www.acmicpc.net/problem/1298"
   ]
  },
  {
   "cell_type": "code",
   "execution_count": null,
   "id": "49913e6f",
   "metadata": {},
   "outputs": [],
   "source": [
    "# 백준 1298 노트북의 주인을 찾아서\n",
    "\n",
    "n, m = map(int, input().split())\n",
    "\n",
    "lst = [[] for _ in range(n+1)]\n",
    "for i in range(m):\n",
    "    a, b = map(int, input().split())\n",
    "    lst[a].append(b)\n",
    "    \n",
    "    \n",
    "laptop = [0] * (n+1)\n",
    "\n",
    "def sol(x):\n",
    "    if visited[x]:\n",
    "        return False\n",
    "    \n",
    "    visited[x] = 1\n",
    "    \n",
    "    for i in lst[x]:\n",
    "        if laptop[i] == 0 or sol(laptop[i]):\n",
    "            laptop[i] = x\n",
    "            return True\n",
    "\n",
    "    return False\n",
    "\n",
    "\n",
    "count = 0\n",
    "for i in range(1, n+1):\n",
    "    visited = [0] * (n+1)\n",
    "    if sol(i):\n",
    "        count += 1\n",
    "        \n",
    "        \n",
    "print(count)\n",
    "\n",
    "\n"
   ]
  },
  {
   "cell_type": "markdown",
   "id": "6d2d8a9a",
   "metadata": {},
   "source": [
    "https://www.acmicpc.net/problem/1671"
   ]
  },
  {
   "cell_type": "code",
   "execution_count": null,
   "id": "a3a956ef",
   "metadata": {},
   "outputs": [],
   "source": [
    "# 백준 1671 상어의 저녁식사\n",
    "# 존나 어렵네 \n",
    "\n",
    "\n",
    "def sol(x):\n",
    "    if visited[x]:\n",
    "        return False\n",
    "    \n",
    "    visited[x] = 1\n",
    "    \n",
    "    for i in range(1, n+1):\n",
    "        if check[x][i]:\n",
    "            if not chain[i] or sol(chain[i]):\n",
    "                chain[i] = x\n",
    "                return True\n",
    "\n",
    "    return False    \n",
    "\n",
    "\n",
    "\n",
    "n = int(input())\n",
    "\n",
    "lst = [[]]\n",
    "for i in range(n):\n",
    "    s, v, it = map(int, input().split())\n",
    "    lst.append((s, v, it))\n",
    "    \n",
    "check = [[0] * (n+1) for _ in range(n+1)]\n",
    "chain = [0] * (n+1)\n",
    "    \n",
    "    \n",
    "for i in range(1, n+1):\n",
    "    for j in range(1, n+1):\n",
    "        if i == j:\n",
    "            continue\n",
    "            \n",
    "        if lst[i][0] == lst[j][0] and lst[i][1] == lst[j][1] and lst[i][2] == lst[j][2] and i > j:\n",
    "            continue\n",
    "            \n",
    "        elif lst[i][0] >= lst[j][0] and lst[i][1] >= lst[j][1] and lst[i][2] >= lst[j][2]:\n",
    "            check[i][j] = 1\n",
    "    \n",
    "\n",
    "\n",
    "\n",
    "\n",
    "\n",
    "\n",
    "for i in range(2):\n",
    "    for j in range(1, n+1):\n",
    "        visited = [0] * (n+1)\n",
    "        sol(j)\n",
    "    \n",
    "\n",
    "print(chain[1:].count(0))"
   ]
  },
  {
   "cell_type": "markdown",
   "id": "ae1ff5c9",
   "metadata": {},
   "source": [
    "https://www.acmicpc.net/problem/11378"
   ]
  },
  {
   "cell_type": "code",
   "execution_count": null,
   "id": "f4164b12",
   "metadata": {},
   "outputs": [],
   "source": [
    "# 백준 11378 열혈강호 4\n",
    "\n",
    "n, m, k = map(int, input().split())\n",
    "lst = [[]]\n",
    "for i in range(n):\n",
    "    lst.append(list(map(int, input().split()))[1:])\n",
    "    \n",
    "task = [0] * (m+1)\n",
    "\n",
    "def sol(x):\n",
    "    if visited[x]:\n",
    "        return False\n",
    "    \n",
    "    visited[x] = 1\n",
    "    \n",
    "    for i in lst[x]:\n",
    "        if task[i] == 0 or sol(task[i]):\n",
    "            task[i] = x\n",
    "            return True\n",
    "\n",
    "    return False\n",
    "\n",
    "\n",
    "count = 0\n",
    "for i in range(1, n+1):\n",
    "    visited = [0] * (n+1)\n",
    "    if sol(i):\n",
    "        count += 1\n",
    "        \n",
    "for i in range(1, n+1):\n",
    "    while k > 0:\n",
    "        visited = [0] * (n+1)\n",
    "        if sol(i):\n",
    "            k -= 1\n",
    "            count += 1\n",
    "    \n",
    "        else:\n",
    "            break\n",
    "        \n",
    "\n",
    "print(count)"
   ]
  },
  {
   "cell_type": "markdown",
   "id": "a8a627ef",
   "metadata": {},
   "source": [
    "https://www.acmicpc.net/problem/14433"
   ]
  },
  {
   "cell_type": "code",
   "execution_count": null,
   "id": "a6c37183",
   "metadata": {},
   "outputs": [],
   "source": [
    "# 백준 14433 한조 대기 중\n",
    "\n",
    "n, m, k1, k2 = map(int, input().split())\n",
    "\n",
    "lst1 = [[] for _ in range(n+1)]\n",
    "lst2 = [[] for _ in range(n+1)]\n",
    "\n",
    "for i in range(k1):\n",
    "    a, b = map(int, input().split())\n",
    "    lst1[a].append(b)\n",
    "    \n",
    "for i in range(k2):\n",
    "    a, b = map(int, input().split())\n",
    "    lst2[a].append(b)\n",
    "    \n",
    "    \n",
    "    \n",
    "troll1 = [0] * (m+1)\n",
    "troll2 = [0] * (m+1)\n",
    "# 함수 수정할 것. 대상이 되는 리스트도 매개변수로 추가한다. 이분매칭 두 번 해서 적게 매칭 되는 쪽이 승리.\n",
    "def sol(x, lst, troll, visited):\n",
    "    if visited[x]:\n",
    "        return False\n",
    "    \n",
    "    visited[x] = 1\n",
    "    \n",
    "    for i in lst[x]:\n",
    "        if troll[i] == 0 or sol(troll[i], lst, troll, visited):\n",
    "            troll[i] = x\n",
    "            return True\n",
    "\n",
    "    return False\n",
    "\n",
    "\n",
    "count1 = 0\n",
    "count2 = 0\n",
    "for i in range(1, n+1):\n",
    "    visited1 = [0] * (n+1)\n",
    "    visited2 = [0] * (n+1)\n",
    "    \n",
    "    if sol(i, lst1, troll1, visited1):\n",
    "        count1 += 1\n",
    "    if sol(i, lst2, troll2, visited2):\n",
    "        count2 += 1\n",
    "        \n",
    "        \n",
    "if count1 >= count2:\n",
    "    print(\"그만 알아보자\")\n",
    "    \n",
    "else:\n",
    "    print(\"네 다음 힐딱이\")\n"
   ]
  },
  {
   "cell_type": "markdown",
   "id": "decdb819",
   "metadata": {},
   "source": [
    "https://www.acmicpc.net/problem/18138"
   ]
  },
  {
   "cell_type": "code",
   "execution_count": null,
   "id": "f3eacf03",
   "metadata": {},
   "outputs": [],
   "source": [
    "# 백준 18138 리유나는 세일러복을 좋아해\n",
    "\n",
    "n, m = map(int, input().split())\n",
    "\n",
    "shirts = []\n",
    "collar = []\n",
    "for i in range(n):\n",
    "    shirts.append(int(input()))\n",
    "    \n",
    "for i in range(m):\n",
    "    collar.append(int(input()))\n",
    "    \n",
    "    \n",
    "check = [[0] * m for _ in range(n)]\n",
    "for i in range(n):\n",
    "    for j in range(m):\n",
    "        if shirts[i] / 2 <= collar[j] and collar[j] <= shirts[i] * (3/4):\n",
    "            check[i][j] = 1\n",
    "            \n",
    "        if shirts[i] <= collar[j] and collar[j] <= shirts[i] * (5/4):\n",
    "            check[i][j] = 1\n",
    "\n",
    "            \n",
    "union = [-1] * m\n",
    "     \n",
    "def sol(x):\n",
    "    if visited[x]:\n",
    "        return False\n",
    "    \n",
    "    visited[x] = 1\n",
    "    \n",
    "    for i in range(m):\n",
    "        if check[x][i]:\n",
    "            if union[i] == -1 or sol(union[i]):\n",
    "                union[i] = x\n",
    "                return True\n",
    "\n",
    "    return False\n",
    "\n",
    "\n",
    "count = 0\n",
    "for i in range(n):\n",
    "    visited = [0] * (n+1)\n",
    "    if sol(i):\n",
    "        count += 1\n",
    "        \n",
    "        \n",
    "print(count)"
   ]
  },
  {
   "cell_type": "markdown",
   "id": "fbfed635",
   "metadata": {},
   "source": [
    "https://www.acmicpc.net/problem/17481"
   ]
  },
  {
   "cell_type": "code",
   "execution_count": null,
   "id": "d103724a",
   "metadata": {},
   "outputs": [],
   "source": [
    "# 백준 17481 최애 정하기\n",
    "\n",
    "n, m = map(int, input().split())\n",
    "\n",
    "idol = {}\n",
    "for i in range(1, m+1):\n",
    "    idol[input().upper()] = i\n",
    "    \n",
    "lst = [[] for _ in range(n+1)]\n",
    "for i in range(n):\n",
    "    a = list(map(str, input().split()))[1:]\n",
    "    for j in a:\n",
    "        try:\n",
    "            lst[i+1].append(idol[j])\n",
    "            \n",
    "        except:\n",
    "            continue\n",
    "        \n",
    "\n",
    "\n",
    "member = [0] * (m+1)\n",
    "\n",
    "def sol(x):\n",
    "    if visited[x]:\n",
    "        return False\n",
    "    \n",
    "    visited[x] = 1\n",
    "    \n",
    "    for i in lst[x]:\n",
    "        if member[i] == 0 or sol(member[i]):\n",
    "            member[i] = x\n",
    "            return True\n",
    "\n",
    "    return False\n",
    "\n",
    "\n",
    "count = 0\n",
    "for i in range(1, n+1):\n",
    "    visited = [0] * (n+1)\n",
    "    if sol(i):\n",
    "        count += 1\n",
    "        \n",
    "\n",
    "if count == n:\n",
    "    print('YES')\n",
    "else:\n",
    "    print('NO')\n",
    "    print(count)"
   ]
  },
  {
   "cell_type": "markdown",
   "id": "815dea56",
   "metadata": {},
   "source": [
    "https://www.acmicpc.net/problem/9577"
   ]
  },
  {
   "cell_type": "code",
   "execution_count": 2,
   "id": "d6a50d13",
   "metadata": {},
   "outputs": [
    {
     "data": {
      "text/plain": [
       "[[], [5, 3], [4], [5], [5, 6], [1, 4, 5], [1, 6, 4]]"
      ]
     },
     "execution_count": 2,
     "metadata": {},
     "output_type": "execute_result"
    }
   ],
   "source": [
    "# 백준 9577 토렌트\n",
    "\n",
    "def sol(x):\n",
    "    if visited[x]:\n",
    "        return False\n",
    "    \n",
    "    visited[x] = 1\n",
    "    \n",
    "    for i in lst[x]:\n",
    "        if task[i] == 0 or sol(task[i]):\n",
    "            task[i] = x\n",
    "            return True\n",
    "\n",
    "    return False\n",
    "\n",
    "\n",
    "\n",
    "t = int(input())\n",
    "for i in range(t):\n",
    "    n, m = map(int, input().split())\n",
    "    \n",
    "    lst = []\n",
    "    for j in range(m):\n",
    "        lst.append(list(map(int, input().split())))\n",
    "        \n",
    "    lst = sorted(lst, key = lambda x : (x[0], x[1]))\n",
    "    lst = [] + lst\n",
    "    \n",
    "    file = [0] * (n+1)\n",
    "\n",
    "\n",
    "\n",
    "\n",
    "    count = 0\n",
    "    for i in range(1, n+1):\n",
    "        visited = [0] * (n+1)\n",
    "        if sol(i):\n",
    "            count += 1\n",
    "        "
   ]
  },
  {
   "cell_type": "code",
   "execution_count": 3,
   "id": "885476e2",
   "metadata": {},
   "outputs": [
    {
     "data": {
      "text/plain": [
       "{'MIYEON': 1, 'MINNIE': 2, 'SOOJIN': 3, 'SOYEON': 4, 'YUQI': 5, 'SHUHUA': 6}"
      ]
     },
     "execution_count": 3,
     "metadata": {},
     "output_type": "execute_result"
    }
   ],
   "source": [
    "idol"
   ]
  },
  {
   "cell_type": "code",
   "execution_count": 4,
   "id": "088d5de2",
   "metadata": {},
   "outputs": [
    {
     "data": {
      "text/plain": [
       "5"
      ]
     },
     "execution_count": 4,
     "metadata": {},
     "output_type": "execute_result"
    }
   ],
   "source": [
    "count"
   ]
  },
  {
   "cell_type": "code",
   "execution_count": 6,
   "id": "dd4ded85",
   "metadata": {},
   "outputs": [
    {
     "data": {
      "text/plain": [
       "dict"
      ]
     },
     "execution_count": 6,
     "metadata": {},
     "output_type": "execute_result"
    }
   ],
   "source": [
    "type(a)"
   ]
  },
  {
   "cell_type": "markdown",
   "id": "a74d277b",
   "metadata": {},
   "source": [
    "https://www.acmicpc.net/problem/1017"
   ]
  },
  {
   "cell_type": "code",
   "execution_count": 6,
   "id": "b5e3fa3c",
   "metadata": {},
   "outputs": [
    {
     "name": "stdout",
     "output_type": "stream",
     "text": [
      "6\n",
      "1 4 7 10 11 12\n"
     ]
    },
    {
     "ename": "TypeError",
     "evalue": "print() argument after * must be an iterable, not NoneType",
     "output_type": "error",
     "traceback": [
      "\u001b[1;31m---------------------------------------------------------------------------\u001b[0m",
      "\u001b[1;31mTypeError\u001b[0m                                 Traceback (most recent call last)",
      "\u001b[1;32m<ipython-input-6-c41a381123c2>\u001b[0m in \u001b[0;36m<module>\u001b[1;34m\u001b[0m\n\u001b[0;32m     63\u001b[0m \u001b[1;33m\u001b[0m\u001b[0m\n\u001b[0;32m     64\u001b[0m \u001b[1;33m\u001b[0m\u001b[0m\n\u001b[1;32m---> 65\u001b[1;33m \u001b[0mprint\u001b[0m\u001b[1;33m(\u001b[0m\u001b[1;33m*\u001b[0m\u001b[0manswer\u001b[0m\u001b[1;33m.\u001b[0m\u001b[0msort\u001b[0m\u001b[1;33m(\u001b[0m\u001b[1;33m)\u001b[0m\u001b[1;33m)\u001b[0m\u001b[1;33m\u001b[0m\u001b[1;33m\u001b[0m\u001b[0m\n\u001b[0m\u001b[0;32m     66\u001b[0m \u001b[1;33m\u001b[0m\u001b[0m\n",
      "\u001b[1;31mTypeError\u001b[0m: print() argument after * must be an iterable, not NoneType"
     ]
    }
   ],
   "source": [
    "# 백준 1017 소수 쌍\n",
    "\n",
    "import math\n",
    "\n",
    "def is_prime_num(n):\n",
    "    for i in range(2, int(math.sqrt(n)) + 1):\n",
    "        if n % i == 0:\n",
    "            return 0\n",
    "    return 1\n",
    "\n",
    "\n",
    "def sol(x):\n",
    "    if visited[lst[x]]:\n",
    "        return False\n",
    "    \n",
    "    visited[lst[x]] = 1\n",
    "    \n",
    "    for i in range(n):\n",
    "        if check[x][i]:\n",
    "            if i == no:\n",
    "                continue\n",
    "                \n",
    "            if not pair[i] or sol(pair[i]):\n",
    "                pair[i] = x\n",
    "                return True\n",
    "\n",
    "    return False    \n",
    "\n",
    "\n",
    "\n",
    "\n",
    "n = int(input())\n",
    "lst = list(map(int, input().split()))\n",
    "\n",
    "limit = max(lst) + 1\n",
    "    \n",
    "check = [[0] * n for _ in range(n)]\n",
    "pair = [0] * limit \n",
    "    \n",
    "    \n",
    "for i in range(n):\n",
    "    for j in range(n):\n",
    "        if i == j:\n",
    "            continue\n",
    "            \n",
    "        target = lst[i] + lst[j]\n",
    "        if is_prime_num(target):\n",
    "            check[i][j] = 1\n",
    "\n",
    "    \n",
    "answer = []    \n",
    "for i in range(1, n):\n",
    "    if check[1][i]:\n",
    "        pair[i] = 1\n",
    "        no = i\n",
    "        \n",
    "        for j in range(n):\n",
    "            visited = [0] * limit \n",
    "            sol(j)\n",
    "            \n",
    "    if limit - pair.count(0) == n:\n",
    "        answer.append(no)\n",
    "    \n",
    "\n",
    "print(*answer.sort())\n",
    "\n"
   ]
  },
  {
   "cell_type": "code",
   "execution_count": null,
   "id": "9a4c83c9",
   "metadata": {},
   "outputs": [],
   "source": [
    "6\n",
    "1 4 7 10 11 12"
   ]
  },
  {
   "cell_type": "code",
   "execution_count": 7,
   "id": "9db69563",
   "metadata": {},
   "outputs": [
    {
     "data": {
      "text/plain": [
       "[]"
      ]
     },
     "execution_count": 7,
     "metadata": {},
     "output_type": "execute_result"
    }
   ],
   "source": [
    "answer"
   ]
  },
  {
   "cell_type": "code",
   "execution_count": null,
   "id": "356fca26",
   "metadata": {},
   "outputs": [],
   "source": []
  }
 ],
 "metadata": {
  "kernelspec": {
   "display_name": "Python 3",
   "language": "python",
   "name": "python3"
  },
  "language_info": {
   "codemirror_mode": {
    "name": "ipython",
    "version": 3
   },
   "file_extension": ".py",
   "mimetype": "text/x-python",
   "name": "python",
   "nbconvert_exporter": "python",
   "pygments_lexer": "ipython3",
   "version": "3.8.8"
  }
 },
 "nbformat": 4,
 "nbformat_minor": 5
}
