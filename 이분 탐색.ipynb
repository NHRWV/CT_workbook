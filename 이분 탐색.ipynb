{
 "cells": [
  {
   "cell_type": "code",
   "execution_count": null,
   "metadata": {},
   "outputs": [],
   "source": [
    "# 백준 1920\n",
    "\n",
    "n = int(input())\n",
    "n_seq = set(map(int, input().split()))\n",
    "m = int(input())    \n",
    "m_seq = list(map(int, input().split()))\n",
    "\n",
    "for i in m_seq:\n",
    "    if i in n_seq:\n",
    "        print(1)\n",
    "    \n",
    "    else:\n",
    "        print(0)\n",
    "\n"
   ]
  },
  {
   "cell_type": "code",
   "execution_count": null,
   "metadata": {
    "scrolled": true
   },
   "outputs": [],
   "source": [
    "# 백준 10816\n",
    "\n",
    "from bisect import bisect_left, bisect_right\n",
    "\n",
    "n = int(input())\n",
    "n_seq = list(map(int, input().split()))\n",
    "m = int(input())\n",
    "m_seq = list(map(int, input().split()))\n",
    "\n",
    "n_seq.sort()\n",
    "\n",
    "def func(arr, x):\n",
    "    left = bisect_left(arr, x)\n",
    "    right = bisect_right(arr, x)\n",
    "    \n",
    "    return right - left\n",
    "\n",
    "for i in m_seq:\n",
    "    print(func(n_seq, i), end = ' ')"
   ]
  },
  {
   "cell_type": "code",
   "execution_count": null,
   "metadata": {},
   "outputs": [],
   "source": [
    "# 백준 1654\n",
    "\n",
    "k, n = map(int, input().split())\n",
    "lan = []\n",
    "for i in range(k):\n",
    "    lan.append(int(input()))\n",
    "    \n",
    "start = 1\n",
    "end = max(lan)\n",
    "answer = 0\n",
    "while start <= end:\n",
    "    count = 0\n",
    "    mid = (start + end) // 2\n",
    "    \n",
    "    for i in lan:\n",
    "        if mid > 0:\n",
    "            count += i // mid\n",
    "            \n",
    "    if count < n:\n",
    "        end = mid - 1\n",
    "        \n",
    "    else: \n",
    "        answer = mid\n",
    "        start = mid + 1\n",
    "        \n",
    "        \n",
    "        \n",
    "print(answer)\n",
    "        \n",
    "    "
   ]
  },
  {
   "cell_type": "code",
   "execution_count": null,
   "metadata": {},
   "outputs": [],
   "source": [
    "# 백준 2805\n",
    "\n",
    "n, m = map(int, input().split())\n",
    "tree = list(map(int, input().split()))\n",
    "\n",
    "start = 0\n",
    "end = max(tree)\n",
    "answer = 0\n",
    "\n",
    "while start <= end:\n",
    "    length = 0\n",
    "    mid = (start + end) // 2\n",
    "    \n",
    "    for i in tree:\n",
    "        if i > mid:\n",
    "            length += i - mid\n",
    "            \n",
    "    if length < m:\n",
    "        end = mid - 1\n",
    "        \n",
    "    else:\n",
    "        answer = mid\n",
    "        start = mid + 1\n",
    "        \n",
    "print(answer)"
   ]
  },
  {
   "cell_type": "code",
   "execution_count": null,
   "metadata": {},
   "outputs": [],
   "source": [
    "# 백준 1300\n",
    "\n",
    "# 1 ~ n*n\n",
    "n = int(input())\n",
    "k = int(input())\n",
    "\n",
    "b_lst = []\n",
    "for  \n"
   ]
  },
  {
   "cell_type": "markdown",
   "metadata": {},
   "source": [
    "https://www.acmicpc.net/problem/12015"
   ]
  },
  {
   "cell_type": "code",
   "execution_count": null,
   "metadata": {},
   "outputs": [],
   "source": [
    "# 백준 12015\n",
    "\n",
    "from bisect import bisect_left\n",
    "\n",
    "n = int(input())\n",
    "seq = list(map(int, input().split()))\n",
    "\n",
    "dp = [0]\n",
    "\n",
    "for i in seq:\n",
    "    if dp[-1] < i:\n",
    "        dp.append(i)\n",
    "        \n",
    "    else:\n",
    "        dp[bisect_left(dp, i)] = i\n",
    "        \n",
    "print(len(dp) - 1)"
   ]
  },
  {
   "cell_type": "markdown",
   "metadata": {},
   "source": [
    "https://www.acmicpc.net/problem/12738"
   ]
  },
  {
   "cell_type": "code",
   "execution_count": null,
   "metadata": {},
   "outputs": [],
   "source": [
    "# 백준 12738\n",
    "\n",
    "from bisect import bisect_left\n",
    "\n",
    "n = int(input())\n",
    "seq = list(map(int, input().split()))\n",
    "\n",
    "dp = []\n",
    "\n",
    "for i in seq:\n",
    "    a = bisect_left(dp, i)\n",
    "    \n",
    "    if len(dp) <= a:\n",
    "        dp.append(i)\n",
    "        \n",
    "    else:\n",
    "        dp[a] = i\n",
    "        \n",
    "print(len(dp))"
   ]
  },
  {
   "cell_type": "markdown",
   "metadata": {},
   "source": [
    "https://www.acmicpc.net/problem/14003"
   ]
  },
  {
   "cell_type": "code",
   "execution_count": null,
   "metadata": {},
   "outputs": [],
   "source": [
    "# 재채점했더니 런타임 에러 났다고 한다.. \n",
    "# 알고보니 name error에다가 -int(1e9) 로는 부족한 범위 때문.\n",
    "\n",
    "from bisect import bisect_left\n",
    "\n",
    "n = int(input())\n",
    "seq = list(map(int, input().split()))\n",
    "\n",
    "dp = [0] * n\n",
    "lseq = [-int(1e9)]\n",
    "for i in range(n):\n",
    "    a = bisect_left(lseq, seq[i])\n",
    "    \n",
    "    if lseq[-1] < seq[i]:\n",
    "        lseq.append(seq[i])\n",
    "        dp[i] = len(lseq) - 1\n",
    "        \n",
    "        maxi_len = dp[i]\n",
    "        \n",
    "    else:\n",
    "        dp[i] = a\n",
    "        lseq[a] = seq[i]\n",
    "        \n",
    "    \n",
    "    \n",
    "print(maxi_len)\n",
    "\n",
    "\n",
    "answer = []\n",
    "for i in range(n-1, -1, -1):\n",
    "    if dp[i] == maxi_len:\n",
    "        answer.append(seq[i])\n",
    "        maxi_len -= 1\n",
    "\n",
    "answer.sort()\n",
    "print(*answer)\n",
    "\n",
    "\n",
    "# 4\n",
    "# 10 20 30 5\n",
    "\n",
    "# 7   \n",
    "# 2 3 4 1 2 3 4\n",
    "\n",
    "# 4\n",
    "# 100 20 30 40\n"
   ]
  },
  {
   "cell_type": "code",
   "execution_count": null,
   "metadata": {},
   "outputs": [],
   "source": [
    "# 새로운 버전\n",
    "\n",
    "from bisect import bisect_left\n",
    "\n",
    "n = int(input())\n",
    "seq = [0] + list(map(int, input().split()))\n",
    "\n",
    "dp = [0] * (n+1)\n",
    "lseq = [-int(1e9)-1]\n",
    "maxi_len = 0\n",
    "for i in range(1, n+1):\n",
    "    a = bisect_left(lseq, seq[i])\n",
    "   \n",
    "    if lseq[-1] < seq[i]:\n",
    "        lseq.append(seq[i])\n",
    "        dp[i] = len(lseq) - 1\n",
    "        \n",
    "        maxi_len = dp[i]\n",
    "        \n",
    "    else:\n",
    "        dp[i] = a\n",
    "        lseq[dp[i]] = seq[i]\n",
    "        \n",
    "    \n",
    "    \n",
    "print(maxi_len)\n",
    "\n",
    "\n",
    "answer = []\n",
    "for i in range(n, 0, -1):\n",
    "    if dp[i] == maxi_len:\n",
    "        answer.append(seq[i])\n",
    "        maxi_len -= 1\n",
    "\n",
    "answer.reverse()\n",
    "print(*answer)\n"
   ]
  },
  {
   "cell_type": "code",
   "execution_count": null,
   "metadata": {},
   "outputs": [],
   "source": [
    "from bisect import bisect_left\n",
    "\n",
    "n = int(input())\n",
    "seq = list(map(int, input().split()))\n",
    "\n",
    "dp = [0] * n\n",
    "lseq = [-int(1e9)-1]\n",
    "maxi_len = 0\n",
    "for i in range(n):\n",
    "    a = bisect_left(lseq, seq[i])\n",
    "    \n",
    "    if lseq[-1] < seq[i]:\n",
    "        lseq.append(seq[i])\n",
    "        dp[i] = len(lseq) - 1\n",
    "        \n",
    "        maxi_len = dp[i]\n",
    "        \n",
    "    else:\n",
    "        dp[i] = a\n",
    "        lseq[a] = seq[i]\n",
    "        \n",
    "    \n",
    "    \n",
    "print(maxi_len)\n",
    "\n",
    "\n",
    "answer = []\n",
    "for i in range(n-1, -1, -1):\n",
    "    if dp[i] == maxi_len:\n",
    "        answer.append(seq[i])\n",
    "        maxi_len -= 1\n",
    "\n",
    "answer.sort()\n",
    "print(*answer)\n"
   ]
  },
  {
   "cell_type": "markdown",
   "metadata": {},
   "source": [
    "단지 수열의 길이를 구할 때는\n",
    "\n",
    "for i in seq:\n",
    "    \n",
    "    a = bisect_left(dp, i)\n",
    "    \n",
    "    if len(dp) <= a:\n",
    "        dp.append(i)\n",
    "        \n",
    "    else:\n",
    "        dp[a] = i\n",
    "        \n",
    "뭐 이런 식으로 간단하게 해도 되지만, 해당하는 부분 수열을 구할 땐, \n",
    "14003번 문제 경우처럼 메모리제이션 과정과 이분탐색 결과를 저장할 변수를 하나씩 만들어야 한다."
   ]
  },
  {
   "cell_type": "markdown",
   "metadata": {},
   "source": [
    "https://www.acmicpc.net/problem/2568"
   ]
  },
  {
   "cell_type": "code",
   "execution_count": null,
   "metadata": {},
   "outputs": [],
   "source": [
    "from bisect import bisect_left\n",
    "\n",
    "n = int(input())\n",
    "seq = []\n",
    "for i in range(n):\n",
    "    a, b = map(int, input().split())\n",
    "    seq.append([a, b])\n",
    "    \n",
    "seq.sort()\n",
    "\n",
    "\n",
    "dp = [0] * n\n",
    "lct = [0]\n",
    "idx = [0]\n",
    "for i in range(n):\n",
    "    target = seq[i][1]\n",
    "    c = bisect_left(lct, target)\n",
    "    \n",
    "    if lct[-1] < target:\n",
    "        lct.append(target)\n",
    "        dp[i] = len(lct) - 1\n",
    "        \n",
    "        \n",
    "        count = dp[i]\n",
    "        \n",
    "    else:\n",
    "        dp[i] = c\n",
    "        lct[c] = target\n",
    "        \n",
    "        \n",
    "    \n",
    "print(n - count)\n",
    "\n",
    "\n",
    "lst = []\n",
    "for i in range(n-1, -1, -1):\n",
    "    if dp[i] == count:\n",
    "        lst.append(i)\n",
    "        count -= 1\n",
    "\n",
    "\n",
    "for i in range(n):\n",
    "    if i not in lst:\n",
    "        print(seq[i][0])\n",
    "        \n",
    "   "
   ]
  },
  {
   "cell_type": "markdown",
   "metadata": {},
   "source": [
    "https://www.acmicpc.net/problem/16474"
   ]
  },
  {
   "cell_type": "code",
   "execution_count": null,
   "metadata": {},
   "outputs": [],
   "source": [
    "# 백준 16474\n",
    "# 정신나갈 것 같다. 어렵다. \n",
    "\n",
    "from bisect import bisect_left\n",
    "\n",
    "n, m = map(int, input().split())\n",
    "left_pole = list(map(int, input().split()))\n",
    "right_pole = list(map(int, input().split()))\n",
    "k = int(input())\n",
    "pole_link = []\n",
    "\n",
    "for i in range(k):\n",
    "    a, b = map(int, input().split())\n",
    "    pole_link.append([a, b])\n",
    "    \n",
    "pole_link = sorted(pole_link, key = lambda x : (x[0], x[1]))\n",
    "\n"
   ]
  },
  {
   "cell_type": "markdown",
   "metadata": {},
   "source": [
    "https://www.acmicpc.net/problem/1365"
   ]
  },
  {
   "cell_type": "code",
   "execution_count": null,
   "metadata": {},
   "outputs": [],
   "source": [
    "# 백준 1365\n",
    "\n",
    "from bisect import bisect_left\n",
    "\n",
    "n = int(input())\n",
    "pole = list(map(int, input().split())) \n",
    "\n",
    "\n",
    "dp = [0] * n\n",
    "lct = [0]\n",
    "for i in range(n):\n",
    "    c = bisect_left(lct, pole[i])\n",
    "    \n",
    "    if lct[-1] < pole[i]:\n",
    "        lct.append(pole[i])\n",
    "        dp[i] = len(lct) - 1\n",
    "        \n",
    "        \n",
    "        count = dp[i]\n",
    "        \n",
    "    else:\n",
    "        dp[i] = c\n",
    "        lct[c] = pole[i]\n",
    "        \n",
    "        \n",
    "    \n",
    "print(n - count)"
   ]
  },
  {
   "cell_type": "markdown",
   "metadata": {},
   "source": [
    "https://www.acmicpc.net/problem/2352"
   ]
  },
  {
   "cell_type": "code",
   "execution_count": null,
   "metadata": {},
   "outputs": [],
   "source": [
    "# 백준 2352\n",
    "\n",
    "from bisect import bisect_left\n",
    "\n",
    "n = int(input())\n",
    "port = list(map(int, input().split()))\n",
    "\n",
    "dp = [0] * n\n",
    "num = [0]\n",
    "for i in range(n):\n",
    "    a = bisect_left(num, port[i])\n",
    "    \n",
    "    if num[-1] < port[i]:\n",
    "        num.append(port[i])\n",
    "        dp[i] = len(num) - 1\n",
    "        \n",
    "        count = dp[i]\n",
    "        \n",
    "    else:\n",
    "        dp[i] = a\n",
    "        num[a] = port[i]\n",
    "        \n",
    "print(count)"
   ]
  },
  {
   "cell_type": "markdown",
   "metadata": {},
   "source": [
    "https://www.acmicpc.net/problem/3745"
   ]
  },
  {
   "cell_type": "code",
   "execution_count": null,
   "metadata": {},
   "outputs": [],
   "source": [
    "# 백준 3745\n",
    "\n",
    "from bisect import bisect_left\n",
    "\n",
    "\n",
    "while True:\n",
    "    n = int(input())\n",
    "    try:\n",
    "        \n",
    "    \n",
    "        price = list(map(int, input().split()))\n",
    "    \n",
    "        dp = [0]\n",
    "        for i in price:\n",
    "            if dp[-1] < i:\n",
    "                dp.append(i)\n",
    "        \n",
    "            else:\n",
    "                dp[bisect_left(dp, i)] = i\n",
    "        \n",
    "        print(len(dp) - 1)\n",
    "        \n",
    "    except:\n",
    "        break"
   ]
  },
  {
   "cell_type": "markdown",
   "metadata": {},
   "source": [
    "https://www.acmicpc.net/problem/1818"
   ]
  },
  {
   "cell_type": "code",
   "execution_count": null,
   "metadata": {},
   "outputs": [],
   "source": [
    "# 백준 1818\n",
    "\n",
    "from bisect import bisect_left\n",
    "\n",
    "n = int(input())\n",
    "book = list(map(int, input().split()))\n",
    "\n",
    "dp = [0]\n",
    "for i in book:\n",
    "    if dp[-1] < i:\n",
    "        dp.append(i)\n",
    "        \n",
    "    else:\n",
    "        dp[bisect_left(dp, i)] = i\n",
    "        \n",
    "    \n",
    "print(n - (len(dp) - 1))"
   ]
  },
  {
   "cell_type": "markdown",
   "metadata": {},
   "source": [
    "https://www.acmicpc.net/problem/12014"
   ]
  },
  {
   "cell_type": "code",
   "execution_count": null,
   "metadata": {},
   "outputs": [],
   "source": [
    "# 백준 12014\n",
    "\n",
    "from bisect import bisect_left\n",
    "\n",
    "t = int(input())\n",
    "\n",
    "for i in range(t):\n",
    "    n, k = map(int, input().split())\n",
    "    price = list(map(int, input().split()))\n",
    "    \n",
    "    dp = [0]\n",
    "    for j in price:\n",
    "        if dp[-1] < j:\n",
    "            dp.append(j)\n",
    "            \n",
    "        else:\n",
    "            dp[bisect_left(dp, j)] = j\n",
    "            \n",
    "    \n",
    "    check = len(dp) - 1\n",
    "    \n",
    "    print(\"Case #{}\".format(i+1))\n",
    "    if k <= check:\n",
    "        print(1)\n",
    "        \n",
    "    else:\n",
    "        print(0)"
   ]
  },
  {
   "cell_type": "markdown",
   "metadata": {},
   "source": [
    "https://www.acmicpc.net/problem/2550"
   ]
  },
  {
   "cell_type": "code",
   "execution_count": null,
   "metadata": {},
   "outputs": [],
   "source": [
    "# 백준 2550\n",
    "\n",
    "from bisect import bisect_left\n",
    "\n",
    "n = int(input())\n",
    "switch = list(map(int, input().split()))\n",
    "light = list(map(int, input().split()))\n",
    "\n",
    "link = []\n",
    "for i in range(n):\n",
    "    link.append([i+1, light.index(switch[i]) + 1])\n",
    "    \n",
    "dp = [0] * n\n",
    "lct = [0]\n",
    "for i in range(n):\n",
    "    target = link[i][1]\n",
    "    a = bisect_left(lct, target)\n",
    "    \n",
    "    if lct[-1] < target:\n",
    "        lct.append(target)\n",
    "        dp[i] = len(lct) - 1\n",
    "        \n",
    "        \n",
    "        count = dp[i]\n",
    "        \n",
    "    else:\n",
    "        dp[i] = a\n",
    "        lct[a] = target\n",
    "        \n",
    "        \n",
    "    \n",
    "print(count)\n",
    "\n",
    "\n",
    "lst = []\n",
    "for i in range(n-1, -1, -1):\n",
    "    if dp[i] == count:\n",
    "        lst.append(i)\n",
    "        count -= 1\n",
    "\n",
    "answer = []\n",
    "for i in lst:\n",
    "    answer.append(switch[i])\n",
    "\n",
    "answer.sort()\n",
    "print(*answer)   "
   ]
  },
  {
   "cell_type": "markdown",
   "metadata": {},
   "source": [
    "https://www.acmicpc.net/problem/3066"
   ]
  },
  {
   "cell_type": "code",
   "execution_count": null,
   "metadata": {},
   "outputs": [],
   "source": [
    "# 백준 3066\n",
    "\n",
    "from bisect import bisect_left\n",
    "\n",
    "t = int(input())\n",
    "\n",
    "for i in range(t):\n",
    "    n = int(input())\n",
    "    port = []\n",
    "    for j in range(1, n+1):\n",
    "        port.append((j, int(input())))\n",
    "        \n",
    "    dp = [0]\n",
    "\n",
    "    for j, k in port:\n",
    "        if dp[-1] < k:\n",
    "            dp.append(k)\n",
    "        \n",
    "        else:\n",
    "            dp[bisect_left(dp, k)] = k\n",
    "    \n",
    "    print(len(dp) - 1)"
   ]
  },
  {
   "cell_type": "markdown",
   "metadata": {},
   "source": [
    "https://www.acmicpc.net/problem/2512"
   ]
  },
  {
   "cell_type": "code",
   "execution_count": null,
   "metadata": {},
   "outputs": [],
   "source": [
    "# 예산\n",
    "\n",
    "n = int(input())\n",
    "req = list(map(int, input().split()))\n",
    "m = int(input())\n",
    "\n",
    "start = 0\n",
    "end = max(req)\n",
    "answer = 0\n",
    "\n",
    "while start <= end:\n",
    "    mid = (start + end) // 2\n",
    "    hab = 0\n",
    "    \n",
    "    for i in req:\n",
    "        if i <= mid:\n",
    "            hab += i\n",
    "        else:\n",
    "            hab += mid\n",
    "            \n",
    "    if hab <= m:\n",
    "        answer = mid\n",
    "        start = mid + 1\n",
    "        \n",
    "    else:\n",
    "        end = mid - 1\n",
    "        \n",
    "        \n",
    "print(answer)\n",
    "    \n"
   ]
  },
  {
   "cell_type": "markdown",
   "metadata": {},
   "source": [
    "https://www.acmicpc.net/problem/1072"
   ]
  },
  {
   "cell_type": "code",
   "execution_count": null,
   "metadata": {},
   "outputs": [],
   "source": [
    "# 게임\n",
    "\n",
    "x, y = map(int, input().split())\n",
    "\n",
    "std = (y * 100) // x\n",
    "\n",
    "start = 0\n",
    "end = 1000000000\n",
    "answer = 0\n",
    "\n",
    "if std >= 99:\n",
    "    print(-1)\n",
    "else:\n",
    "    \n",
    "    \n",
    "    while start <= end:\n",
    "        mid = (start + end) // 2\n",
    "        \n",
    "        temp = ((y + mid) * 100) // (x + mid)\n",
    "        \n",
    "        if temp > std:\n",
    "            answer = mid\n",
    "            end = mid - 1\n",
    "            \n",
    "        else:\n",
    "            start = mid + 1\n",
    "            \n",
    "print(answer)"
   ]
  },
  {
   "cell_type": "markdown",
   "metadata": {},
   "source": [
    "https://www.acmicpc.net/problem/3020"
   ]
  },
  {
   "cell_type": "code",
   "execution_count": null,
   "metadata": {},
   "outputs": [],
   "source": [
    "# 개똥벌레\n",
    "\n",
    "from bisect import bisect_left\n",
    "from bisect import bisect_right\n",
    "\n",
    "\n",
    "n, h = map(int, input().split())\n",
    "\n",
    "up = []\n",
    "down = []\n",
    "for i in range(n):\n",
    "    if i % 2 == 0:\n",
    "        down.append(int(input()))\n",
    "    else:\n",
    "        up.append(int(input()))\n",
    "\n",
    "down.sort()\n",
    "up.sort()\n",
    "\n",
    "mini = n\n",
    "count = 0\n",
    "\n",
    "\n",
    "\n",
    "for i in range(1, h + 1):\n",
    "    d_count = len(down) - bisect_right(down, i - 0.5)\n",
    "    u_count = len(up) - bisect_left(up, h - i + 0.5)\n",
    "\n",
    "    if mini == d_count + u_count:\n",
    "        count += 1\n",
    "    \n",
    "    elif mini > d_count + u_count:\n",
    "        count = 1\n",
    "        mini = d_count + u_count\n",
    "\n",
    "print(mini, count)"
   ]
  },
  {
   "cell_type": "markdown",
   "metadata": {},
   "source": [
    "https://www.acmicpc.net/problem/6236"
   ]
  },
  {
   "cell_type": "code",
   "execution_count": null,
   "metadata": {},
   "outputs": [],
   "source": [
    "# 용돈 관리\n",
    "\n",
    "n, m = map(int, input().split())\n",
    "\n",
    "lst = []\n",
    "for i in range(n):\n",
    "    lst.append(int(input()))\n",
    "    \n",
    "    \n",
    "start = 1\n",
    "end = int(1e9)\n",
    "answer = 0\n",
    "\n",
    "std = max(lst)\n",
    "\n",
    "\n",
    "while start <= end:\n",
    "    mid = (start + end) // 2\n",
    "    \n",
    "    count = 1\n",
    "    temp = mid\n",
    "    \n",
    "    for i in lst:\n",
    "        if temp < i:\n",
    "            temp = mid\n",
    "            count += 1\n",
    "            \n",
    "        temp -= i\n",
    "        \n",
    "    if count > m or mid < std:\n",
    "        start = mid + 1\n",
    "        \n",
    "    else:\n",
    "        answer = mid\n",
    "        end = mid - 1\n",
    "        \n",
    "\n",
    "print(answer)"
   ]
  },
  {
   "cell_type": "code",
   "execution_count": null,
   "metadata": {},
   "outputs": [],
   "source": [
    "n, m = map(int, input().split())\n",
    "\n",
    "lst = []\n",
    "for i in range(n):\n",
    "    lst.append(int(input()))\n",
    "    \n",
    "    \n",
    "start = 1\n",
    "end = 10000\n",
    "answer = 0\n",
    "temp = 0\n",
    "\n",
    "while start <= end:\n",
    "    mid = (start + end) // 2\n",
    "    \n",
    "    count = 0\n",
    "    \n",
    "    for i in lst:\n",
    "        if temp >= i:\n",
    "            temp -= i\n",
    "            \n",
    "        else:\n",
    "            while temp < i:\n",
    "                temp += mid\n",
    "                count += 1\n",
    "                \n",
    "            temp -= i\n",
    "            \n",
    "            \n",
    "    if count <= m:\n",
    "        if count == m:\n",
    "            answer = mid\n",
    "        end = mid - 1\n",
    "        \n",
    "    else:\n",
    "        start = mid + 1\n",
    "        \n",
    "\n",
    "print(answer)"
   ]
  },
  {
   "cell_type": "markdown",
   "metadata": {},
   "source": [
    "https://www.acmicpc.net/problem/15317"
   ]
  },
  {
   "cell_type": "code",
   "execution_count": null,
   "metadata": {},
   "outputs": [],
   "source": []
  },
  {
   "cell_type": "markdown",
   "metadata": {},
   "source": [
    "https://www.acmicpc.net/problem/2143"
   ]
  },
  {
   "cell_type": "code",
   "execution_count": null,
   "metadata": {},
   "outputs": [],
   "source": [
    "# 두 배열의 합\n",
    "\n",
    "from collections import defaultdict\n",
    "\n",
    "t = int(input())\n",
    "n = int(input())\n",
    "nlst = list(map(int, input().split()))\n",
    "m = int(input())\n",
    "mlst = list(map(int, input().split()))\n",
    "\n",
    "\n",
    "answer = 0\n",
    "ndict = defaultdict(int)\n",
    "\n",
    "for i in range(n):\n",
    "    for j in range(i, n):\n",
    "        ndict[sum(nlst[i:j+1])] += 1\n",
    "        \n",
    "for i in range(m):\n",
    "    for j in range(i, m):\n",
    "        answer += ndict[t - sum(mlst[i:j+1])]\n",
    "        \n",
    "print(answer)"
   ]
  },
  {
   "cell_type": "markdown",
   "metadata": {},
   "source": [
    "https://www.acmicpc.net/problem/1208"
   ]
  },
  {
   "cell_type": "code",
   "execution_count": null,
   "metadata": {},
   "outputs": [],
   "source": [
    "# 부분수열의 합 2\n",
    "\n",
    "from itertools import combinations\n",
    "\n",
    "n, s = map(int, input().split())\n",
    "seq = list(map(int, input().split()))\n",
    "\n",
    "first = seq[:n//2]\n",
    "second = seq[n//2:]\n",
    "first_sum = []\n",
    "second_sum = []\n",
    "\n",
    "for i in range(n//2 + 1):\n",
    "    a = list(combinations(first, i))\n",
    "    for j in a:\n",
    "        first_sum.append(sum(j))\n",
    "        \n",
    "for i in range(n - n//2 + 1):\n",
    "    a = list(combinations(second, i))\n",
    "    for j in a:\n",
    "        second_sum.append(sum(j))\n",
    "        \n",
    "fs_len = len(first_sum)\n",
    "ss_len = len(second_sum)\n",
    "        \n",
    "first_sum.sort()\n",
    "second_sum.sort()\n",
    "\n",
    "start = 0\n",
    "end = ss_len - 1\n",
    "answer = 0\n",
    "\n",
    "while start < fs_len and end >= 0:\n",
    "    hab = first_sum[start] + second_sum[end]\n",
    "    \n",
    "    if hab == s:\n",
    "        f_same = 1\n",
    "        s_same = 1\n",
    "        \n",
    "        li = start\n",
    "        ri = end\n",
    "        \n",
    "        start += 1\n",
    "        end -= 1\n",
    "        \n",
    "        while start < fs_len and first_sum[start] == first_sum[li]:\n",
    "            f_same += 1\n",
    "            start += 1\n",
    "        while end >= 0 and second_sum[end] == second_sum[ri]:\n",
    "            s_same += 1\n",
    "            end -= 1\n",
    "        answer += f_same * s_same\n",
    "        \n",
    "    \n",
    "    elif hab < s:\n",
    "        start += 1\n",
    "    else:\n",
    "        end -= 1\n",
    "        \n",
    "\n",
    "print(answer if s != 0 else answer - 1)\n",
    "\n"
   ]
  },
  {
   "cell_type": "markdown",
   "metadata": {},
   "source": [
    "https://www.acmicpc.net/problem/11722"
   ]
  },
  {
   "cell_type": "code",
   "execution_count": null,
   "metadata": {},
   "outputs": [],
   "source": [
    "n = int(input())\n",
    "seq = list(map(int, input().split()))\n",
    "\n",
    "dp = [1] * 1001\n",
    "                \n",
    "for i in range(n-1, -1, -1):\n",
    "    for j in range(i+1, n):\n",
    "        if seq[i] > seq[j]:\n",
    "            if dp[i] < dp[j] + 1:\n",
    "                dp[i] = dp[j] + 1\n",
    "                \n",
    "    \n",
    "print(max(dp))\n",
    "    "
   ]
  },
  {
   "cell_type": "markdown",
   "metadata": {},
   "source": [
    "https://www.acmicpc.net/problem/20551"
   ]
  },
  {
   "cell_type": "code",
   "execution_count": null,
   "metadata": {},
   "outputs": [],
   "source": [
    "# Sort 마스터 배지훈의 후계자\n",
    "\n",
    "from bisect import bisect_left\n",
    "\n",
    "n, m = map(int, input().split())\n",
    "\n",
    "lst = []\n",
    "q = []\n",
    "for i in range(n):\n",
    "    lst.append(int(input()))\n",
    "for i in range(m):\n",
    "    q.append(int(input()))\n",
    "    \n",
    "    \n",
    "lst.sort()\n",
    "lset = set(lst)\n",
    "\n",
    "def sol(x):\n",
    "    if x not in lset:\n",
    "        return -1\n",
    "    else:\n",
    "        return bisect_left(lst, x)\n",
    "\n",
    "for i in q:\n",
    "    print(sol(i))"
   ]
  },
  {
   "cell_type": "markdown",
   "metadata": {},
   "source": [
    "https://www.acmicpc.net/problem/7795"
   ]
  },
  {
   "cell_type": "code",
   "execution_count": null,
   "metadata": {},
   "outputs": [],
   "source": [
    "# 먹을 것인가 먹힐 것인가\n",
    "\n",
    "from bisect import bisect_left\n",
    "\n",
    "t = int(input())\n",
    "for _ in range(t):\n",
    "    n, m = map(int, input().split())\n",
    "    a = list(map(int, input().split()))\n",
    "    b = list(map(int, input().split()))\n",
    "    \n",
    "    count = 0\n",
    "    b.sort()\n",
    "    \n",
    "    for i in a:\n",
    "        count += bisect_left(b, i)\n",
    "        \n",
    "    print(count)\n",
    "    "
   ]
  },
  {
   "cell_type": "markdown",
   "metadata": {},
   "source": [
    "https://www.acmicpc.net/problem/2343"
   ]
  },
  {
   "cell_type": "code",
   "execution_count": null,
   "metadata": {},
   "outputs": [],
   "source": [
    "n, m = map(int, input().split())\n",
    "lst = list(map(int, input().split()))\n",
    "    \n",
    "start = max(lst)\n",
    "end = int(1e9)\n",
    "\n",
    "answer = int(1e9)\n",
    "\n",
    "while start <= end:\n",
    "    mid = (start + end) // 2\n",
    " \n",
    "           \n",
    "    temp = 0\n",
    "    count = 0\n",
    "    for i in lst:\n",
    "        if temp + i > mid:\n",
    "            count += 1\n",
    "            temp = 0\n",
    "        temp += i\n",
    "            \n",
    "    if temp:\n",
    "        count += 1\n",
    "            \n",
    "    if count > m:\n",
    "        start = mid + 1\n",
    "    else:\n",
    "        answer = min(answer, mid)\n",
    "        end = mid - 1        \n",
    "        \n",
    "\n",
    "\n",
    "print(answer)"
   ]
  },
  {
   "cell_type": "code",
   "execution_count": 15,
   "metadata": {},
   "outputs": [
    {
     "data": {
      "text/plain": [
       "4"
      ]
     },
     "execution_count": 15,
     "metadata": {},
     "output_type": "execute_result"
    }
   ],
   "source": [
    "9 3\n",
    "1 2 3 4 5 6 7 8 9\n",
    "\n",
    "7 6\n",
    "100 400 300 100 500 101 400\n",
    "답: 500\n",
    "    \n",
    "4 2\n",
    "1 1 1 1\n",
    "답: 2\n",
    "    \n",
    "7 7\n",
    "5 9 6 8 7 7 5\n",
    "답: 9\n",
    "    \n",
    "8 7\n",
    "3 3 10 10 3 2 6 2\n",
    "답: 10"
   ]
  },
  {
   "cell_type": "code",
   "execution_count": 41,
   "metadata": {},
   "outputs": [
    {
     "data": {
      "text/plain": [
       "5"
      ]
     },
     "execution_count": 41,
     "metadata": {},
     "output_type": "execute_result"
    }
   ],
   "source": [
    "count"
   ]
  },
  {
   "cell_type": "code",
   "execution_count": 14,
   "metadata": {},
   "outputs": [
    {
     "data": {
      "text/plain": [
       "[1, 2, 3, 4, 5, 6, 7, 8, 9]"
      ]
     },
     "execution_count": 14,
     "metadata": {},
     "output_type": "execute_result"
    }
   ],
   "source": [
    "lst"
   ]
  },
  {
   "cell_type": "code",
   "execution_count": 35,
   "metadata": {},
   "outputs": [
    {
     "data": {
      "text/plain": [
       "500"
      ]
     },
     "execution_count": 35,
     "metadata": {},
     "output_type": "execute_result"
    }
   ],
   "source": [
    "mid"
   ]
  },
  {
   "cell_type": "code",
   "execution_count": 40,
   "metadata": {},
   "outputs": [
    {
     "data": {
      "text/plain": [
       "400"
      ]
     },
     "execution_count": 40,
     "metadata": {},
     "output_type": "execute_result"
    }
   ],
   "source": [
    "temp"
   ]
  },
  {
   "cell_type": "code",
   "execution_count": 31,
   "metadata": {},
   "outputs": [
    {
     "data": {
      "text/plain": [
       "500"
      ]
     },
     "execution_count": 31,
     "metadata": {},
     "output_type": "execute_result"
    }
   ],
   "source": [
    "std"
   ]
  },
  {
   "cell_type": "code",
   "execution_count": null,
   "metadata": {},
   "outputs": [],
   "source": []
  }
 ],
 "metadata": {
  "kernelspec": {
   "display_name": "Python 3.7.5 64-bit ('Namlister': virtualenv)",
   "language": "python",
   "name": "python37564bitnamlistervirtualenv5d7bb17d3c984c36aee202a2f6a91336"
  },
  "language_info": {
   "codemirror_mode": {
    "name": "ipython",
    "version": 3
   },
   "file_extension": ".py",
   "mimetype": "text/x-python",
   "name": "python",
   "nbconvert_exporter": "python",
   "pygments_lexer": "ipython3",
   "version": "3.8.8"
  }
 },
 "nbformat": 4,
 "nbformat_minor": 2
}
