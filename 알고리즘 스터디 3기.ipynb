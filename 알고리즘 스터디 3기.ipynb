{
 "cells": [
  {
   "cell_type": "code",
   "execution_count": 1,
   "id": "9e01b9ae",
   "metadata": {},
   "outputs": [
    {
     "name": "stdout",
     "output_type": "stream",
     "text": [
      "5\n",
      "2 3 1 2 2\n",
      "2\n"
     ]
    }
   ],
   "source": [
    "# 모험가 길드\n",
    "\n",
    "from collections import deque\n",
    "\n",
    "n = int(input())\n",
    "seq = list(map(int, input().split()))\n",
    "\n",
    "seq.sort(reverse = True)\n",
    "seq = deque(seq)\n",
    "\n",
    "count = 0\n",
    "while seq:\n",
    "    time = seq[0]\n",
    "    for i in range(time):\n",
    "        seq.popleft()\n",
    "    \n",
    "    count += 1\n",
    "    \n",
    "print(count)\n"
   ]
  },
  {
   "cell_type": "code",
   "execution_count": 4,
   "id": "df3056fa",
   "metadata": {},
   "outputs": [
    {
     "name": "stdout",
     "output_type": "stream",
     "text": [
      "567\n",
      "210\n"
     ]
    }
   ],
   "source": [
    "# 곱하기 혹은 더하기\n",
    "\n",
    "s = input()\n",
    "\n",
    "value = int(s[0])\n",
    "\n",
    "for i in range(1, len(s)):\n",
    "    if value <= 1:\n",
    "        value += int(s[i])\n",
    "        \n",
    "    else:\n",
    "        value *= int(s[i])\n",
    "        \n",
    "        \n",
    "print(value)\n"
   ]
  },
  {
   "cell_type": "code",
   "execution_count": 5,
   "id": "c1ae9515",
   "metadata": {},
   "outputs": [
    {
     "name": "stdout",
     "output_type": "stream",
     "text": [
      "0001100\n",
      "1\n"
     ]
    }
   ],
   "source": [
    "# 문자열 뒤집기\n",
    "\n",
    "s = input()\n",
    "\n",
    "a = 0\n",
    "b = 0\n",
    "\n",
    "if not int(s[0]):\n",
    "    a += 1\n",
    "else:\n",
    "    b += 1\n",
    "    \n",
    "for i in range(len(s)-1):\n",
    "    if s[i] != s[i+1]:\n",
    "        if s[i+1] == '0':\n",
    "            a += 1\n",
    "        else:\n",
    "            b += 1\n",
    "            \n",
    "            \n",
    "print(min(a, b))\n",
    "        "
   ]
  },
  {
   "cell_type": "code",
   "execution_count": 7,
   "id": "c3580661",
   "metadata": {},
   "outputs": [
    {
     "name": "stdout",
     "output_type": "stream",
     "text": [
      "5\n",
      "3 2 1 1 9\n",
      "2\n",
      "3\n",
      "5\n",
      "8\n",
      "8\n"
     ]
    }
   ],
   "source": [
    "# 만들 수 없는 금액\n",
    "\n",
    "n = int(input())\n",
    "seq = list(map(int, input().split()))\n",
    "\n",
    "seq.sort()\n",
    "\n",
    "value = 1\n",
    "for i in seq:\n",
    "    if value < i:\n",
    "        break\n",
    "    \n",
    "    value += i\n",
    "    # print(value)\n",
    "\n",
    "print(value)\n"
   ]
  },
  {
   "cell_type": "code",
   "execution_count": 13,
   "id": "5eb17663",
   "metadata": {},
   "outputs": [
    {
     "name": "stdout",
     "output_type": "stream",
     "text": [
      "8 5\n",
      "1 5 4 3 2 4 5 2\n",
      "25\n"
     ]
    }
   ],
   "source": [
    "# 볼링공 고르기\n",
    "\n",
    "from collections import defaultdict\n",
    "\n",
    "n, m = map(int, input().split())\n",
    "k = list(map(int, input().split()))\n",
    "\n",
    "lst = defaultdict(int)\n",
    "\n",
    "for i in k:\n",
    "    lst[i] += 1\n",
    "    \n",
    "answer = 0\n",
    "for i in range(1, m+1):\n",
    "    n -= lst[i]\n",
    "    answer += lst[i] * n\n",
    "    \n",
    "print(answer)"
   ]
  },
  {
   "cell_type": "code",
   "execution_count": 1,
   "id": "dcdc79e3",
   "metadata": {},
   "outputs": [
    {
     "data": {
      "text/plain": [
       "44032"
      ]
     },
     "execution_count": 1,
     "metadata": {},
     "output_type": "execute_result"
    }
   ],
   "source": [
    "ord('가')"
   ]
  },
  {
   "cell_type": "code",
   "execution_count": 12,
   "id": "f7838769",
   "metadata": {},
   "outputs": [
    {
     "name": "stdout",
     "output_type": "stream",
     "text": [
      "1\n",
      "가\n"
     ]
    }
   ],
   "source": [
    "print(chr(44031 + int(input())))"
   ]
  },
  {
   "cell_type": "code",
   "execution_count": 19,
   "id": "48e4e0f4",
   "metadata": {},
   "outputs": [
    {
     "name": "stdout",
     "output_type": "stream",
     "text": [
      "5 5\n",
      "2 2 5\n",
      "3 2 3 4\n",
      "2 1 5\n",
      "3 1 2 5\n",
      "1 2\n",
      "[0, 0, 1, 0, 0, 0] 1\n",
      "[0, 0, 1, 0, 0, 1] 1\n",
      "[0, 0, 2, 0, 0, 1] 2\n",
      "[0, 3, 2, 0, 0, 1] 3\n",
      "[0, 3, 2, 2, 0, 1] 2\n",
      "[0, 3, 1, 2, 0, 1] 1\n",
      "[0, 3, 1, 2, 0, 3] 3\n",
      "[0, 4, 1, 2, 0, 3] 4\n",
      "4\n"
     ]
    }
   ],
   "source": [
    "n, m = map(int, input().split())\n",
    "lst = [[]]\n",
    "for i in range(n):\n",
    "    lst.append(list(map(int, input().split()))[1:])\n",
    "    \n",
    "barn = [0] * (m+1)\n",
    "\n",
    "def sol(x):\n",
    "    if visited[x]:\n",
    "        return False\n",
    "    \n",
    "    visited[x] = 1\n",
    "    \n",
    "    for i in lst[x]:\n",
    "        if not barn[i] or sol(barn[i]):\n",
    "            barn[i] = x\n",
    "            print(barn, x)\n",
    "            return True\n",
    "\n",
    "    return False\n",
    "\n",
    "\n",
    "count = 0\n",
    "\n",
    "for i in range(1, n+1):\n",
    "    visited = [0] * (n+1)\n",
    "    if sol(i):\n",
    "        count += 1\n",
    "    \n",
    "    \n",
    "print(count)\n"
   ]
  },
  {
   "cell_type": "code",
   "execution_count": 11,
   "id": "bc2a26a5",
   "metadata": {},
   "outputs": [
    {
     "data": {
      "text/plain": [
       "0"
      ]
     },
     "execution_count": 11,
     "metadata": {},
     "output_type": "execute_result"
    }
   ],
   "source": [
    "5 5\n",
    "2 2 5\n",
    "3 2 3 4\n",
    "2 1 5\n",
    "3 1 2 5\n",
    "1 2"
   ]
  },
  {
   "cell_type": "code",
   "execution_count": 16,
   "id": "c1a5fde5",
   "metadata": {},
   "outputs": [
    {
     "data": {
      "text/plain": [
       "[0, 4, 1, 2, 0, 3]"
      ]
     },
     "execution_count": 16,
     "metadata": {},
     "output_type": "execute_result"
    }
   ],
   "source": [
    "barn"
   ]
  },
  {
   "cell_type": "code",
   "execution_count": 17,
   "id": "cb13976a",
   "metadata": {},
   "outputs": [
    {
     "data": {
      "text/plain": [
       "[[], [2, 5], [2, 3, 4], [1, 5], [1, 2, 5], [2]]"
      ]
     },
     "execution_count": 17,
     "metadata": {},
     "output_type": "execute_result"
    }
   ],
   "source": [
    "lst"
   ]
  },
  {
   "cell_type": "code",
   "execution_count": null,
   "id": "60c37fbe",
   "metadata": {},
   "outputs": [],
   "source": []
  }
 ],
 "metadata": {
  "kernelspec": {
   "display_name": "Python 3",
   "language": "python",
   "name": "python3"
  },
  "language_info": {
   "codemirror_mode": {
    "name": "ipython",
    "version": 3
   },
   "file_extension": ".py",
   "mimetype": "text/x-python",
   "name": "python",
   "nbconvert_exporter": "python",
   "pygments_lexer": "ipython3",
   "version": "3.8.8"
  }
 },
 "nbformat": 4,
 "nbformat_minor": 5
}
