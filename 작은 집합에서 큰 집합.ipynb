{
 "cells": [
  {
   "cell_type": "markdown",
   "id": "49cb4d79",
   "metadata": {},
   "source": [
    "https://www.acmicpc.net/problem/17469"
   ]
  },
  {
   "cell_type": "code",
   "execution_count": null,
   "id": "71343ce9",
   "metadata": {},
   "outputs": [],
   "source": [
    "# 트리의 색깔과 쿼리\n",
    "\n",
    "def find_parent(x):\n",
    "    if parent[x] != x:\n",
    "        parent[x] = find_parent(parent[x])\n",
    "        \n",
    "    return parent[x]\n",
    "\n",
    "\n",
    "def union(x, y):\n",
    "    x = find_parent(x)\n",
    "    y = find_parent(y)\n",
    "     \n",
    "    if len(color[y]) >= len(color[x]):\n",
    "        parent[x] = y\n",
    "        \n",
    "        for i in color[x]:\n",
    "            color[y].add(i)\n",
    "        color[x].clear()\n",
    "            \n",
    "    elif len(color[y]) < len(color[x]):\n",
    "        parent[y] = x\n",
    "        \n",
    "        for i in color[y]:\n",
    "            color[x].add(i)\n",
    "        color[y].clear()\n",
    "        \n",
    "\n",
    "\n",
    "n, q = map(int, input().split())\n",
    "\n",
    "edge = [1] * (n+1)\n",
    "for i in range(2, n+1):\n",
    "    edge[i] = int(input())\n",
    "    \n",
    "color = [set() for _ in range(n+1)]\n",
    "for i in range(1, n+1):\n",
    "    color[i].add(int(input()))\n",
    "    \n",
    "    \n",
    "q += n - 1\n",
    "\n",
    "query = []\n",
    "for i in range(q):\n",
    "    x, a = map(int, input().split())\n",
    "    query.append((x, a))\n",
    "\n",
    "    \n",
    "parent = [i for i in range(n+1)]\n",
    "answer = []\n",
    "\n",
    "for i in range(q-1, -1, -1):\n",
    "    if query[i][0] == 1:\n",
    "        union(query[i][1], edge[query[i][1]])\n",
    "        \n",
    "    else:\n",
    "        answer.append(len(color[find_parent(query[i][1])]))\n",
    "        \n",
    "        \n",
    "while answer:\n",
    "    print(answer.pop())\n",
    "\n"
   ]
  },
  {
   "cell_type": "markdown",
   "id": "4867a713",
   "metadata": {},
   "source": [
    "https://www.acmicpc.net/problem/4002"
   ]
  },
  {
   "cell_type": "code",
   "execution_count": 6,
   "id": "01eda835",
   "metadata": {},
   "outputs": [
    {
     "data": {
      "text/plain": [
       "[2, 2, 3, 3]"
      ]
     },
     "execution_count": 6,
     "metadata": {},
     "output_type": "execute_result"
    }
   ],
   "source": [
    "# 닌자배치"
   ]
  },
  {
   "cell_type": "markdown",
   "id": "cbd66317",
   "metadata": {},
   "source": [
    "https://www.acmicpc.net/problem/25549"
   ]
  },
  {
   "cell_type": "code",
   "execution_count": null,
   "id": "60ea224d",
   "metadata": {},
   "outputs": [],
   "source": [
    "# 트리의 MEX\n",
    "\n",
    "def find_parent(x):\n",
    "    if parent[x] != x:\n",
    "        parent[x] = find_parent(parent[x])\n",
    "        \n",
    "    return parent[x]\n",
    "\n",
    "\n",
    "def union(x, y):\n",
    "    x = find_parent(x)\n",
    "    y = find_parent(y)\n",
    "    \n",
    "    if len(num[y]) >= len(num[x]):\n",
    "        parent[x] = y\n",
    "        \n",
    "        for i in num[x]:\n",
    "            num[y].add(i)\n",
    "        num[x].clear()\n",
    "            \n",
    "    elif len(num[y]) < len(num[x]):\n",
    "        parent[y] = x\n",
    "        \n",
    "        for i in num[y]:\n",
    "            num[x].add(i)\n",
    "        num[y].clear()\n",
    "        \n",
    "        \n",
    "\n",
    "        \n",
    "\n",
    "n = int(input())\n",
    "     \n",
    "start = 0\n",
    "edge = [[] for _ in range(n+1)]\n",
    "node_temp = list(map(int, input().split()))\n",
    "\n",
    "for idx, i in enumerate(node_temp):\n",
    "    if i == -1:\n",
    "        start = idx\n",
    "    else:\n",
    "        edge[i-1].append(idx)\n",
    "    \n",
    "    \n",
    "num = [set() for _ in range(n+1)]\n",
    "for idx, i in enumerate(map(int, input().split())):\n",
    "    num[idx].add(i)\n",
    "    \n",
    "parent = [i for i in range(n+1)]\n",
    "answer = [0] * n\n",
    "\n",
    "\n",
    "def sol(x):\n",
    "    mex = 0\n",
    "    \n",
    "    for i in edge[x]:\n",
    "        temp = sol(i)\n",
    "        \n",
    "        if mex < temp:\n",
    "            mex = temp\n",
    "            \n",
    "        union(find_parent(x), find_parent(i))\n",
    "    \n",
    "    #print(num[find_parent(x)], x)\n",
    "    while True:\n",
    "        if mex in num[find_parent(x)]:\n",
    "            mex += 1\n",
    "        else:\n",
    "            break\n",
    "    \n",
    "    answer[x] = mex\n",
    "    \n",
    "    return mex\n",
    "\n",
    "\n",
    "sol(start)\n",
    "\n",
    "for i in answer:\n",
    "    print(i)\n",
    "    "
   ]
  },
  {
   "cell_type": "markdown",
   "id": "55c0fb1d",
   "metadata": {},
   "source": [
    "https://www.acmicpc.net/problem/10293"
   ]
  },
  {
   "cell_type": "code",
   "execution_count": null,
   "id": "25810def",
   "metadata": {},
   "outputs": [],
   "source": [
    "# Ranks in groups\n",
    "\n",
    "\n",
    "def find_parent(x):\n",
    "    if parent[x] != x:\n",
    "        parent[x] = find_parent(parent[x])\n",
    "        \n",
    "    return parent[x]\n",
    "\n",
    "\n",
    "def union(x, y):\n",
    "    x = find_parent(x)\n",
    "    y = find_parent(y)\n",
    "     \n",
    "    parent[y] = x\n",
    "\n",
    "    for i in score[y]:\n",
    "        score[x].add(i)\n",
    "    score[y].clear()\n",
    "    \n",
    "    \n",
    "def sol(x):\n",
    "    rank = 0\n",
    "    \n",
    "    for i in edge[x]:\n",
    "        temp = sol(i)\n",
    "        \n",
    "        if mex < temp:\n",
    "            mex = temp\n",
    "            \n",
    "        union(find_parent(x), find_parent(i))\n",
    "    \n",
    "    #print(num[find_parent(x)], x)\n",
    "    while True:\n",
    "        if x in score[find_parent(x)]:\n",
    "            mex += 1\n",
    "        else:\n",
    "            break\n",
    "    \n",
    "    answer[x] = mex\n",
    "    \n",
    "    return mex\n",
    "        \n",
    "        \n",
    "t = int(input())\n",
    "for _ in range(t):\n",
    "    n, l = map(int, input().split())\n",
    "    \n",
    "    query = [[0, 0] for _ in range(l)]\n",
    "    for i in range(l):\n",
    "        order = list(map(int, input().split()))\n",
    "        \n",
    "        if order[0] == 1:\n",
    "            query[i][0] = order[1]\n",
    "            query[i][1] = order[2]\n",
    "            \n",
    "        else:\n",
    "            query[i][0] = order[1]\n",
    "            \n",
    "            \n",
    "    score = [set(i) for i in range(n+1)]\n",
    "    edge = [[] for _ in range(n+1)]\n",
    "    \n",
    "    parent = [i for i in range(n+1)]\n",
    "    \n",
    "\n",
    "\n",
    "\n",
    "# 오프라인 쿼리...쿼리를 거꾸로 하나씩 실행해서 k가 1인 경우에 노드 간 일단 트리 구조를 형성해준다.\n",
    "    while answer:\n",
    "        print(answer.pop())"
   ]
  },
  {
   "cell_type": "code",
   "execution_count": 1,
   "id": "60d3b078",
   "metadata": {},
   "outputs": [],
   "source": [
    "lst = {' ' : 0}"
   ]
  },
  {
   "cell_type": "code",
   "execution_count": 2,
   "id": "bb454c6b",
   "metadata": {},
   "outputs": [
    {
     "data": {
      "text/plain": [
       "{' ': 0}"
      ]
     },
     "execution_count": 2,
     "metadata": {},
     "output_type": "execute_result"
    }
   ],
   "source": [
    "lst"
   ]
  },
  {
   "cell_type": "code",
   "execution_count": null,
   "id": "17bffdbc",
   "metadata": {},
   "outputs": [],
   "source": []
  }
 ],
 "metadata": {
  "kernelspec": {
   "display_name": "Python 3",
   "language": "python",
   "name": "python3"
  },
  "language_info": {
   "codemirror_mode": {
    "name": "ipython",
    "version": 3
   },
   "file_extension": ".py",
   "mimetype": "text/x-python",
   "name": "python",
   "nbconvert_exporter": "python",
   "pygments_lexer": "ipython3",
   "version": "3.8.8"
  }
 },
 "nbformat": 4,
 "nbformat_minor": 5
}
