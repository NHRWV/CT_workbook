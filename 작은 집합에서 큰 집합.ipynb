{
 "cells": [
  {
   "cell_type": "markdown",
   "id": "49cb4d79",
   "metadata": {},
   "source": [
    "https://www.acmicpc.net/problem/17469"
   ]
  },
  {
   "cell_type": "code",
   "execution_count": null,
   "id": "71343ce9",
   "metadata": {},
   "outputs": [],
   "source": [
    "# 트리의 색깔과 쿼리\n",
    "\n",
    "def find_parent(x):\n",
    "    if parent[x] != x:\n",
    "        parent[x] = find_parent(parent[x])\n",
    "        \n",
    "    return parent[x]\n",
    "\n",
    "\n",
    "def union(x, y):\n",
    "    x = find_parent(x)\n",
    "    y = find_parent(y)\n",
    "     \n",
    "    if len(color[y]) >= len(color[x]):\n",
    "        parent[x] = y\n",
    "        \n",
    "        for i in color[x]:\n",
    "            color[y].add(i)\n",
    "        color[x].clear()\n",
    "            \n",
    "    elif len(color[y]) < len(color[x]):\n",
    "        parent[y] = x\n",
    "        \n",
    "        for i in color[y]:\n",
    "            color[x].add(i)\n",
    "        color[y].clear()\n",
    "        \n",
    "\n",
    "\n",
    "n, q = map(int, input().split())\n",
    "\n",
    "edge = [1] * (n+1)\n",
    "for i in range(2, n+1):\n",
    "    edge[i] = int(input())\n",
    "    \n",
    "color = [set() for _ in range(n+1)]\n",
    "for i in range(1, n+1):\n",
    "    color[i].add(int(input()))\n",
    "    \n",
    "    \n",
    "q += n - 1\n",
    "\n",
    "query = []\n",
    "for i in range(q):\n",
    "    x, a = map(int, input().split())\n",
    "    query.append((x, a))\n",
    "\n",
    "    \n",
    "parent = [i for i in range(n+1)]\n",
    "answer = []\n",
    "\n",
    "for i in range(q-1, -1, -1):\n",
    "    if query[i][0] == 1:\n",
    "        union(query[i][1], edge[query[i][1]])\n",
    "        \n",
    "    else:\n",
    "        answer.append(len(color[find_parent(query[i][1])]))\n",
    "        \n",
    "        \n",
    "while answer:\n",
    "    print(answer.pop())\n",
    "\n"
   ]
  },
  {
   "cell_type": "markdown",
   "id": "4867a713",
   "metadata": {},
   "source": [
    "https://www.acmicpc.net/problem/4002"
   ]
  },
  {
   "cell_type": "code",
   "execution_count": 6,
   "id": "01eda835",
   "metadata": {},
   "outputs": [
    {
     "data": {
      "text/plain": [
       "[2, 2, 3, 3]"
      ]
     },
     "execution_count": 6,
     "metadata": {},
     "output_type": "execute_result"
    }
   ],
   "source": [
    "# 닌자배치"
   ]
  },
  {
   "cell_type": "markdown",
   "id": "cbd66317",
   "metadata": {},
   "source": [
    "https://www.acmicpc.net/problem/25549"
   ]
  },
  {
   "cell_type": "code",
   "execution_count": null,
   "id": "60ea224d",
   "metadata": {},
   "outputs": [],
   "source": [
    "# 트리의 MEX\n",
    "\n",
    "def find_parent(x):\n",
    "    if parent[x] != x:\n",
    "        parent[x] = find_parent(parent[x])\n",
    "        \n",
    "    return parent[x]\n",
    "\n",
    "\n",
    "def union(x, y):\n",
    "    x = find_parent(x)\n",
    "    y = find_parent(y)\n",
    "    \n",
    "    if len(num[y]) >= len(num[x]):\n",
    "        parent[x] = y\n",
    "        \n",
    "        for i in num[x]:\n",
    "            num[y].add(i)\n",
    "        num[x].clear()\n",
    "            \n",
    "    elif len(num[y]) < len(num[x]):\n",
    "        parent[y] = x\n",
    "        \n",
    "        for i in num[y]:\n",
    "            num[x].add(i)\n",
    "        num[y].clear()\n",
    "        \n",
    "        \n",
    "\n",
    "        \n",
    "\n",
    "n = int(input())\n",
    "     \n",
    "start = 0\n",
    "edge = [[] for _ in range(n+1)]\n",
    "node_temp = list(map(int, input().split()))\n",
    "\n",
    "for idx, i in enumerate(node_temp):\n",
    "    if i == -1:\n",
    "        start = idx\n",
    "    else:\n",
    "        edge[i-1].append(idx)\n",
    "    \n",
    "    \n",
    "num = [set() for _ in range(n+1)]\n",
    "for idx, i in enumerate(map(int, input().split())):\n",
    "    num[idx].add(i)\n",
    "    \n",
    "parent = [i for i in range(n+1)]\n",
    "answer = [0] * n\n",
    "\n",
    "\n",
    "def sol(x):\n",
    "    mex = 0\n",
    "    \n",
    "    for i in edge[x]:\n",
    "        temp = sol(i)\n",
    "        \n",
    "        if mex < temp:\n",
    "            mex = temp\n",
    "            \n",
    "        union(find_parent(x), find_parent(i))\n",
    "    \n",
    "    #print(num[find_parent(x)], x)\n",
    "    while True:\n",
    "        if mex in num[find_parent(x)]:\n",
    "            mex += 1\n",
    "        else:\n",
    "            break\n",
    "    \n",
    "    answer[x] = mex\n",
    "    \n",
    "    return mex\n",
    "\n",
    "\n",
    "sol(start)\n",
    "\n",
    "for i in answer:\n",
    "    print(i)\n",
    "    "
   ]
  },
  {
   "cell_type": "markdown",
   "id": "55c0fb1d",
   "metadata": {},
   "source": [
    "https://www.acmicpc.net/problem/10293"
   ]
  },
  {
   "cell_type": "code",
   "execution_count": null,
   "id": "25810def",
   "metadata": {},
   "outputs": [],
   "source": [
    "# Ranks in groups\n",
    "\n",
    "\n",
    "def find_parent(x):\n",
    "    if parent[x] != x:\n",
    "        parent[x] = find_parent(parent[x])\n",
    "        \n",
    "    return parent[x]\n",
    "\n",
    "\n",
    "def union(x, y):\n",
    "    x = find_parent(x)\n",
    "    y = find_parent(y)\n",
    "     \n",
    "    parent[y] = x\n",
    "\n",
    "    for i in score[y]:\n",
    "        score[x].add(i)\n",
    "    score[y].clear()\n",
    "    \n",
    "    \n",
    "def sol(x):\n",
    "    rank = 0\n",
    "    \n",
    "    for i in edge[x]:\n",
    "        temp = sol(i)\n",
    "        \n",
    "        if mex < temp:\n",
    "            mex = temp\n",
    "            \n",
    "        union(find_parent(x), find_parent(i))\n",
    "    \n",
    "    #print(num[find_parent(x)], x)\n",
    "    while True:\n",
    "        if x in score[find_parent(x)]:\n",
    "            mex += 1\n",
    "        else:\n",
    "            break\n",
    "    \n",
    "    answer[x] = mex\n",
    "    \n",
    "    return mex\n",
    "        \n",
    "        \n",
    "t = int(input())\n",
    "for _ in range(t):\n",
    "    n, l = map(int, input().split())\n",
    "    \n",
    "    query = [[0, 0] for _ in range(l)]\n",
    "    for i in range(l):\n",
    "        order = list(map(int, input().split()))\n",
    "        \n",
    "        if order[0] == 1:\n",
    "            query[i][0] = order[1]\n",
    "            query[i][1] = order[2]\n",
    "            \n",
    "        else:\n",
    "            query[i][0] = order[1]\n",
    "            \n",
    "            \n",
    "    score = [set(i) for i in range(n+1)]\n",
    "    edge = [[] for _ in range(n+1)]\n",
    "    \n",
    "    parent = [i for i in range(n+1)]\n",
    "    \n",
    "\n",
    "\n",
    "\n",
    "# 오프라인 쿼리...쿼리를 거꾸로 하나씩 실행해서 k가 1인 경우에 노드 간 일단 트리 구조를 형성해준다.\n",
    "    while answer:\n",
    "        print(answer.pop())"
   ]
  },
  {
   "cell_type": "code",
   "execution_count": 29,
   "id": "17bffdbc",
   "metadata": {},
   "outputs": [
    {
     "name": "stdout",
     "output_type": "stream",
     "text": [
      "91929\n"
     ]
    }
   ],
   "source": [
    "# 1번 문제\n",
    "\n",
    "n = 30\n",
    "arr = list(range(n)) # 배열 안 원소는 양의 정수.\n",
    "\n",
    "maxi_lst = []\n",
    "\n",
    "for i in range(0, n, 10):\n",
    "    temp = 0\n",
    "    \n",
    "    for j in range(i, i+10):\n",
    "        temp = max(temp, arr[j])\n",
    "         \n",
    "    maxi_lst.append(str(temp))\n",
    "    \n",
    "print(''.join(maxi_lst))\n",
    "        \n",
    "    "
   ]
  },
  {
   "cell_type": "code",
   "execution_count": 44,
   "id": "606f9c64",
   "metadata": {},
   "outputs": [
    {
     "name": "stdout",
     "output_type": "stream",
     "text": [
      "1491625\n"
     ]
    }
   ],
   "source": [
    "# 2번 문제\n",
    "# 시작 숫자 a, 공차 d, 수열 길이가 n\n",
    "\n",
    "a = 1\n",
    "d = 2\n",
    "n = 5\n",
    "\n",
    "lst = [i for i in range(a, d * n, d)]\n",
    "\n",
    "hab = 0\n",
    "result = []\n",
    "\n",
    "for i in lst:\n",
    "    hab += i\n",
    "    result.append(str(hab))\n",
    "    \n",
    "print(''.join(result))\n",
    "        "
   ]
  },
  {
   "cell_type": "code",
   "execution_count": 45,
   "id": "777ff4a0",
   "metadata": {},
   "outputs": [],
   "source": [
    "a = 'abc'"
   ]
  },
  {
   "cell_type": "code",
   "execution_count": 48,
   "id": "149cb83b",
   "metadata": {},
   "outputs": [
    {
     "ename": "TypeError",
     "evalue": "'str' object does not support item assignment",
     "output_type": "error",
     "traceback": [
      "\u001b[1;31m---------------------------------------------------------------------------\u001b[0m",
      "\u001b[1;31mTypeError\u001b[0m                                 Traceback (most recent call last)",
      "\u001b[1;32m<ipython-input-48-f79ee46972ff>\u001b[0m in \u001b[0;36m<module>\u001b[1;34m\u001b[0m\n\u001b[1;32m----> 1\u001b[1;33m \u001b[0ma\u001b[0m\u001b[1;33m[\u001b[0m\u001b[1;36m0\u001b[0m\u001b[1;33m]\u001b[0m\u001b[1;33m=\u001b[0m\u001b[0ma\u001b[0m\u001b[1;33m[\u001b[0m\u001b[1;36m0\u001b[0m\u001b[1;33m]\u001b[0m\u001b[1;33m.\u001b[0m\u001b[0mupper\u001b[0m\u001b[1;33m(\u001b[0m\u001b[1;33m)\u001b[0m\u001b[1;33m\u001b[0m\u001b[1;33m\u001b[0m\u001b[0m\n\u001b[0m",
      "\u001b[1;31mTypeError\u001b[0m: 'str' object does not support item assignment"
     ]
    }
   ],
   "source": [
    "a[0]=a[0].upper()"
   ]
  },
  {
   "cell_type": "code",
   "execution_count": 50,
   "id": "88bb06d2",
   "metadata": {},
   "outputs": [
    {
     "data": {
      "text/plain": [
       "'bc'"
      ]
     },
     "execution_count": 50,
     "metadata": {},
     "output_type": "execute_result"
    }
   ],
   "source": [
    "a[1:]"
   ]
  },
  {
   "cell_type": "code",
   "execution_count": null,
   "id": "83faed47",
   "metadata": {},
   "outputs": [],
   "source": []
  }
 ],
 "metadata": {
  "kernelspec": {
   "display_name": "Python 3",
   "language": "python",
   "name": "python3"
  },
  "language_info": {
   "codemirror_mode": {
    "name": "ipython",
    "version": 3
   },
   "file_extension": ".py",
   "mimetype": "text/x-python",
   "name": "python",
   "nbconvert_exporter": "python",
   "pygments_lexer": "ipython3",
   "version": "3.8.8"
  }
 },
 "nbformat": 4,
 "nbformat_minor": 5
}
