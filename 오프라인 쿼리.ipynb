{
 "cells": [
  {
   "cell_type": "markdown",
   "id": "639ca272",
   "metadata": {},
   "source": [
    "https://www.acmicpc.net/problem/13306"
   ]
  },
  {
   "cell_type": "code",
   "execution_count": null,
   "id": "edb2ebb1",
   "metadata": {},
   "outputs": [],
   "source": [
    "# 트리\n",
    "\n",
    "\n",
    "def find_parent(x):\n",
    "    if parent[x] != x:\n",
    "        parent[x] = find_parent(parent[x])\n",
    "        \n",
    "    return parent[x]\n",
    "\n",
    "\n",
    "def union(x, y):\n",
    "    x = find_parent(x)\n",
    "    y = find_parent(y)\n",
    "    \n",
    "    if x < y:\n",
    "        parent[y] = x\n",
    "    else:\n",
    "        parent[x] = y\n",
    "        \n",
    "\n",
    "n, q = map(int, input().split())\n",
    "\n",
    "parent = [i for i in range(n+1)]\n",
    "\n",
    "edge = [1] * (n+1)\n",
    "for i in range(2, n+1):\n",
    "    a = int(input())\n",
    "    edge[i] = a\n",
    "    \n",
    "\n",
    "q += n-1\n",
    "query = [[0, 0] for _ in range(q)]\n",
    "\n",
    "for i in range(q):\n",
    "    oper = list(map(int, input().split()))\n",
    "    \n",
    "    if not oper[0]:\n",
    "        query[i][0] = oper[1]\n",
    "    else:\n",
    "        query[i][0] = oper[1]\n",
    "        query[i][1] = oper[2]\n",
    "        \n",
    "        \n",
    "answer = []\n",
    "for i in range(q-1, -1, -1):\n",
    "    if not query[i][1]:\n",
    "        union(query[i][0], edge[query[i][0]])\n",
    "        \n",
    "    else:\n",
    "        if find_parent(query[i][0]) == find_parent(query[i][1]):\n",
    "            answer.append(1)\n",
    "        else:\n",
    "            answer.append(0)\n",
    "            \n",
    "            \n",
    "while answer:\n",
    "    if answer.pop():\n",
    "        print('YES')\n",
    "    else:\n",
    "        print('NO')\n",
    "            "
   ]
  },
  {
   "cell_type": "code",
   "execution_count": 2,
   "id": "f07a77f8",
   "metadata": {},
   "outputs": [
    {
     "data": {
      "text/plain": [
       "[[0, 0], [0, 0], [0, 0], [0, 0], [0, 0]]"
      ]
     },
     "execution_count": 2,
     "metadata": {},
     "output_type": "execute_result"
    }
   ],
   "source": [
    "query"
   ]
  },
  {
   "cell_type": "code",
   "execution_count": null,
   "id": "eb143d0b",
   "metadata": {},
   "outputs": [],
   "source": []
  }
 ],
 "metadata": {
  "kernelspec": {
   "display_name": "Python 3",
   "language": "python",
   "name": "python3"
  },
  "language_info": {
   "codemirror_mode": {
    "name": "ipython",
    "version": 3
   },
   "file_extension": ".py",
   "mimetype": "text/x-python",
   "name": "python",
   "nbconvert_exporter": "python",
   "pygments_lexer": "ipython3",
   "version": "3.8.8"
  }
 },
 "nbformat": 4,
 "nbformat_minor": 5
}
