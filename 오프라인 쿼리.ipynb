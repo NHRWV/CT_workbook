{
 "cells": [
  {
   "cell_type": "markdown",
   "id": "639ca272",
   "metadata": {},
   "source": [
    "https://www.acmicpc.net/problem/13306"
   ]
  },
  {
   "cell_type": "code",
   "execution_count": null,
   "id": "edb2ebb1",
   "metadata": {},
   "outputs": [],
   "source": [
    "# 트리\n",
    "\n",
    "\n",
    "def find_parent(x):\n",
    "    if parent[x] != x:\n",
    "        parent[x] = find_parent(parent[x])\n",
    "        \n",
    "    return parent[x]\n",
    "\n",
    "\n",
    "def union(x, y):\n",
    "    x = find_parent(x)\n",
    "    y = find_parent(y)\n",
    "    \n",
    "    if x < y:\n",
    "        parent[y] = x\n",
    "    else:\n",
    "        parent[x] = y\n",
    "        \n",
    "\n",
    "n, q = map(int, input().split())\n",
    "\n",
    "parent = [i for i in range(n+1)]\n",
    "\n",
    "edge = [1] * (n+1)\n",
    "for i in range(2, n+1):\n",
    "    a = int(input())\n",
    "    edge[i] = a\n",
    "    \n",
    "\n",
    "q += n-1\n",
    "query = [[0, 0] for _ in range(q)]\n",
    "\n",
    "for i in range(q):\n",
    "    oper = list(map(int, input().split()))\n",
    "    \n",
    "    if not oper[0]:\n",
    "        query[i][0] = oper[1]\n",
    "    else:\n",
    "        query[i][0] = oper[1]\n",
    "        query[i][1] = oper[2]\n",
    "        \n",
    "        \n",
    "answer = []\n",
    "for i in range(q-1, -1, -1):\n",
    "    if not query[i][1]:\n",
    "        union(query[i][0], edge[query[i][0]])\n",
    "        \n",
    "    else:\n",
    "        if find_parent(query[i][0]) == find_parent(query[i][1]):\n",
    "            answer.append(1)\n",
    "        else:\n",
    "            answer.append(0)\n",
    "            \n",
    "            \n",
    "while answer:\n",
    "    if answer.pop():\n",
    "        print('YES')\n",
    "    else:\n",
    "        print('NO')\n",
    "            "
   ]
  },
  {
   "cell_type": "markdown",
   "id": "d5eb29ed",
   "metadata": {},
   "source": [
    "https://www.acmicpc.net/problem/16978"
   ]
  },
  {
   "cell_type": "code",
   "execution_count": 15,
   "id": "eb143d0b",
   "metadata": {},
   "outputs": [
    {
     "name": "stdout",
     "output_type": "stream",
     "text": [
      "5\n",
      "1 2 3 4 5\n",
      "7\n",
      "1 2 5\n",
      "2 0 1 3\n",
      "2 1 1 3\n",
      "1 4 2\n",
      "2 0 2 5\n",
      "2 1 2 5\n",
      "2 2 2 5\n",
      "6\n",
      "9\n",
      "14\n",
      "17\n",
      "15\n"
     ]
    }
   ],
   "source": [
    "# 수열과 쿼리 22\n",
    "\n",
    "class SegmentTree:\n",
    "    def __init__(self, data, default=10**15, func=lambda a, b: max(a,b)):\n",
    "        \"\"\"initialize the segment tree with data\"\"\"\n",
    "        self._default = default\n",
    "        self._func = func\n",
    "        self._len = len(data)\n",
    "        self._size = _size = 1 << (self._len - 1).bit_length()\n",
    " \n",
    "        self.data = [default] * (2 * _size)\n",
    "        self.data[_size:_size + self._len] = data\n",
    "        for i in reversed(range(_size)):\n",
    "            self.data[i] = func(self.data[i + i], self.data[i + i + 1])\n",
    " \n",
    "    def __delitem__(self, idx):\n",
    "        self[idx] = self._default\n",
    " \n",
    "    def __getitem__(self, idx):\n",
    "        return self.data[idx + self._size]\n",
    " \n",
    "    def __setitem__(self, idx, value):\n",
    "        idx += self._size\n",
    "        self.data[idx] = value\n",
    "        idx >>= 1\n",
    "        while idx:\n",
    "            self.data[idx] = self._func(self.data[2 * idx], self.data[2 * idx + 1])\n",
    "            idx >>= 1\n",
    " \n",
    "    def __len__(self):\n",
    "        return self._len\n",
    " \n",
    "    def query(self, start, stop):\n",
    "        if start == stop:\n",
    "            return self.__getitem__(start)\n",
    "        stop += 1\n",
    "        start += self._size\n",
    "        stop += self._size\n",
    " \n",
    "        res = self._default\n",
    "        while start < stop:\n",
    "            if start & 1:\n",
    "                res = self._func(res, self.data[start])\n",
    "                start += 1\n",
    "            if stop & 1:\n",
    "                stop -= 1\n",
    "                res = self._func(res, self.data[stop])\n",
    "            start >>= 1\n",
    "            stop >>= 1\n",
    "        return res\n",
    " \n",
    "    def __repr__(self):\n",
    "        return \"SegmentTree({0})\".format(self.data)\n",
    "    \n",
    "    \n",
    "    \n",
    "n = int(input())\n",
    "seq = list(map(int, input().split()))\n",
    "m = int(input())\n",
    "\n",
    "query1 = []\n",
    "query2 = []\n",
    "for i in range(m):\n",
    "    oper = list(map(int, input().split()))\n",
    "    \n",
    "    if oper[0] == 1:\n",
    "        query1.append(oper[1:])\n",
    "    else:\n",
    "        temp = oper[1:] + [i]\n",
    "        query2.append(temp)\n",
    "        \n",
    "        \n",
    "query2.sort()\n",
    "\n",
    "func = lambda a, b: a + b\n",
    "seg = SegmentTree(seq, 0, func = func)\n",
    "\n",
    "tag = 0\n",
    "answer = []\n",
    "for k, i, j, idx in query2:\n",
    "    if tag == k:\n",
    "        answer.append((idx, seg.query(i-1, j-1)))\n",
    "        \n",
    "    else:\n",
    "        tag = k\n",
    "        a, b = query1[k-1]\n",
    "        seg[a-1] = b\n",
    "        answer.append((idx, seg.query(i-1, j-1)))\n",
    "        \n",
    "        \n",
    "answer.sort()\n",
    "for i, j in answer:\n",
    "    print(j)\n",
    "        "
   ]
  },
  {
   "cell_type": "code",
   "execution_count": null,
   "id": "c752e7f7",
   "metadata": {},
   "outputs": [],
   "source": [
    "5\n",
    "1 2 3 4 5\n",
    "7\n",
    "1 2 5\n",
    "2 0 1 3\n",
    "2 1 1 3\n",
    "1 4 2\n",
    "2 0 2 5\n",
    "2 1 2 5\n",
    "2 2 2 5"
   ]
  },
  {
   "cell_type": "code",
   "execution_count": 11,
   "id": "bec9e877",
   "metadata": {},
   "outputs": [
    {
     "data": {
      "text/plain": [
       "[[2, 5], [4, 2]]"
      ]
     },
     "execution_count": 11,
     "metadata": {},
     "output_type": "execute_result"
    }
   ],
   "source": [
    "query1"
   ]
  },
  {
   "cell_type": "code",
   "execution_count": 12,
   "id": "58d01308",
   "metadata": {},
   "outputs": [
    {
     "data": {
      "text/plain": [
       "[[0, 1, 3], [0, 2, 5], [1, 1, 3], [1, 2, 5], [2, 2, 5]]"
      ]
     },
     "execution_count": 12,
     "metadata": {},
     "output_type": "execute_result"
    }
   ],
   "source": [
    "query2"
   ]
  },
  {
   "cell_type": "code",
   "execution_count": 13,
   "id": "818d59a7",
   "metadata": {},
   "outputs": [
    {
     "data": {
      "text/plain": [
       "2"
      ]
     },
     "execution_count": 13,
     "metadata": {},
     "output_type": "execute_result"
    }
   ],
   "source": [
    "k"
   ]
  },
  {
   "cell_type": "code",
   "execution_count": null,
   "id": "b1afd174",
   "metadata": {},
   "outputs": [],
   "source": []
  }
 ],
 "metadata": {
  "kernelspec": {
   "display_name": "Python 3",
   "language": "python",
   "name": "python3"
  },
  "language_info": {
   "codemirror_mode": {
    "name": "ipython",
    "version": 3
   },
   "file_extension": ".py",
   "mimetype": "text/x-python",
   "name": "python",
   "nbconvert_exporter": "python",
   "pygments_lexer": "ipython3",
   "version": "3.8.8"
  }
 },
 "nbformat": 4,
 "nbformat_minor": 5
}
