{
 "cells": [
  {
   "cell_type": "code",
   "execution_count": null,
   "id": "71bd668c",
   "metadata": {},
   "outputs": [],
   "source": [
    "n = int(input())\n",
    "m = int(input())\n",
    "\n",
    "inf = int(1e9)\n",
    "bus = [[inf] * (n+1) for _ in range(n+1)]\n",
    "\n",
    "for i in range(1, n+1):\n",
    "    for j in range(1, n+1):\n",
    "        if i == j:\n",
    "            bus[i][j] = 0\n",
    "\n",
    "for i in range(m):\n",
    "    a, b, c = map(int, input().split())\n",
    "    bus[a][b] = min(bus[a][b], c)\n",
    "    \n",
    "\n",
    "for k in range(1, n+1):\n",
    "    for i in range(1, n+1):\n",
    "        for j in range(1, n+1):\n",
    "            bus[i][j] = min(bus[i][j], bus[i][k] + bus[k][j])\n",
    "            \n",
    "            \n",
    "for i in range(1, n+1):\n",
    "    for j in range(1, n+1):\n",
    "        print(0 if bus[i][j] == inf else bus[i][j], end = ' ')\n",
    "    print()\n",
    "    "
   ]
  },
  {
   "cell_type": "code",
   "execution_count": 1,
   "id": "c57c8cb0",
   "metadata": {},
   "outputs": [
    {
     "name": "stdout",
     "output_type": "stream",
     "text": [
      "10 15\n",
      "5 1 3 5 10 7 4 9 2 8\n",
      "2\n"
     ]
    }
   ],
   "source": [
    "n, s = map(int, input().split())\n",
    "seq = list(map(int, input().split()))\n",
    "\n",
    "\n",
    "start = 0\n",
    "end = 0\n",
    "hab = 0\n",
    "\n",
    "mini = int(1e9)\n",
    "\n",
    "\n",
    "while True:\n",
    "    if hab >= s:\n",
    "        hab -= seq[start]\n",
    "        mini = min(mini, end - start)\n",
    "        start += 1\n",
    "        \n",
    "    elif end == n:\n",
    "        break\n",
    "        \n",
    "    else:\n",
    "        hab += seq[end]\n",
    "        end += 1\n",
    "        \n",
    "        \n",
    "print(0 if mini == int(1e9) else mini)\n"
   ]
  },
  {
   "cell_type": "code",
   "execution_count": 2,
   "id": "3f9815e5",
   "metadata": {},
   "outputs": [
    {
     "data": {
      "text/plain": [
       "[[1000000000, 1000000000, 1000000000, 1000000000, 1000000000, 1000000000],\n",
       " [1000000000, 0, 2, 3, 1, 4],\n",
       " [1000000000, 12, 0, 15, 2, 5],\n",
       " [1000000000, 8, 5, 0, 1, 1],\n",
       " [1000000000, 10, 7, 13, 0, 3],\n",
       " [1000000000, 7, 4, 10, 6, 0]]"
      ]
     },
     "execution_count": 2,
     "metadata": {},
     "output_type": "execute_result"
    }
   ],
   "source": [
    "10 15\n",
    "5 1 3 5 10 7 4 9 2 8"
   ]
  },
  {
   "cell_type": "code",
   "execution_count": null,
   "id": "2638e54b",
   "metadata": {},
   "outputs": [],
   "source": []
  }
 ],
 "metadata": {
  "kernelspec": {
   "display_name": "Python 3",
   "language": "python",
   "name": "python3"
  },
  "language_info": {
   "codemirror_mode": {
    "name": "ipython",
    "version": 3
   },
   "file_extension": ".py",
   "mimetype": "text/x-python",
   "name": "python",
   "nbconvert_exporter": "python",
   "pygments_lexer": "ipython3",
   "version": "3.8.8"
  }
 },
 "nbformat": 4,
 "nbformat_minor": 5
}
