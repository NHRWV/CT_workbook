{
 "cells": [
  {
   "cell_type": "markdown",
   "id": "6627ab00",
   "metadata": {},
   "source": [
    "https://www.acmicpc.net/problem/2609"
   ]
  },
  {
   "cell_type": "code",
   "execution_count": null,
   "id": "8b22e4de",
   "metadata": {},
   "outputs": [],
   "source": [
    "# 백준 2609 최대공약수와 최소공배수\n",
    "\n",
    "import math\n",
    "\n",
    "\n",
    "a, b = map(int, input().split())\n",
    "\n",
    "print(math.gcd(a, b), math.lcm(a, b))"
   ]
  },
  {
   "cell_type": "markdown",
   "id": "366ea719",
   "metadata": {},
   "source": [
    "https://www.acmicpc.net/problem/11050"
   ]
  },
  {
   "cell_type": "code",
   "execution_count": null,
   "id": "447425bd",
   "metadata": {},
   "outputs": [],
   "source": [
    "# 백준 11050 이항 계수\n",
    "\n",
    "\n",
    "n, k = map(int, input().split())\n",
    "\n",
    "def factorial(n):\n",
    "    if n == 0:\n",
    "        return 1\n",
    "    return n * factorial(n-1)\n",
    "\n",
    "\n",
    "print(factorial(n) // (factorial(k) * factorial(n-k)))"
   ]
  },
  {
   "cell_type": "code",
   "execution_count": null,
   "id": "f3467785",
   "metadata": {},
   "outputs": [],
   "source": [
    "import math\n",
    "\n",
    "n, k = map(int, input().split())\n",
    "\n",
    "print(math.factorial(n) // (math.factorial(k) * math.factorial(n-k)))"
   ]
  },
  {
   "cell_type": "markdown",
   "id": "d12ee213",
   "metadata": {},
   "source": [
    "https://www.acmicpc.net/problem/1018"
   ]
  },
  {
   "cell_type": "code",
   "execution_count": null,
   "id": "1b1ef9b4",
   "metadata": {},
   "outputs": [],
   "source": []
  }
 ],
 "metadata": {
  "kernelspec": {
   "display_name": "Python 3",
   "language": "python",
   "name": "python3"
  },
  "language_info": {
   "codemirror_mode": {
    "name": "ipython",
    "version": 3
   },
   "file_extension": ".py",
   "mimetype": "text/x-python",
   "name": "python",
   "nbconvert_exporter": "python",
   "pygments_lexer": "ipython3",
   "version": "3.8.8"
  }
 },
 "nbformat": 4,
 "nbformat_minor": 5
}
