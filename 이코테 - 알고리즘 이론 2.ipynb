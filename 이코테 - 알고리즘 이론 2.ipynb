{
 "cells": [
  {
   "cell_type": "markdown",
   "metadata": {},
   "source": [
    "- 이진 탐색\n",
    "\n",
    "- 다이나믹 프로그래밍\n",
    "\n",
    "- 최단 경로\n",
    "\n",
    "- 그래프 이론"
   ]
  },
  {
   "cell_type": "code",
   "execution_count": null,
   "metadata": {},
   "outputs": [],
   "source": [
    "# 이진 탐색 예시 코드 - 재귀함수\n",
    "\n",
    "def binary_search(arr, target, start, end): # 여기서 start와 end는 인덱스 넘버다. array의 첫 번째와 끝 번호.\n",
    "    if start > end:\n",
    "        return None\n",
    "    mid = (start + end) // 2\n",
    "    \n",
    "    if arr[mid] == target:\n",
    "        return mid\n",
    "    \n",
    "    elif arr[mid] > target:\n",
    "        return binary_search(arr, target, start, mid-1)\n",
    "    \n",
    "    else:\n",
    "        return binary_search(arr, target, mid+1, end)\n",
    "    \n",
    "n, target = map(int, input().split())\n",
    "arr = list(map(int, input().split()))\n",
    "\n",
    "result = binary_search(arr, target, 0, n-1)\n",
    "if result == None:\n",
    "    print(\"없어\")\n",
    "else:\n",
    "    print(result + 1)"
   ]
  },
  {
   "cell_type": "code",
   "execution_count": null,
   "metadata": {},
   "outputs": [],
   "source": [
    "# 이진 탐색 예시 코드 - 반복문\n",
    "\n",
    "def binary_search(arr, target, start, end):\n",
    "    while start <= end:\n",
    "        mid = (start + end) // 2\n",
    "        \n",
    "        if arr[mid] == target:\n",
    "            return mid\n",
    "        \n",
    "        elif arr[mid] > target:\n",
    "            end =  mid - 1\n",
    "        \n",
    "        else:\n",
    "            start = mid + 1\n",
    "        \n",
    "    return None"
   ]
  },
  {
   "cell_type": "code",
   "execution_count": 4,
   "metadata": {},
   "outputs": [
    {
     "name": "stdout",
     "output_type": "stream",
     "text": [
      "5\n",
      "8 3 7 9 2\n",
      "3\n",
      "5 7 9\n",
      "no\n",
      "yes\n",
      "yes\n"
     ]
    }
   ],
   "source": [
    "# 이진 탐색 - 부품 찾기\n",
    "# 근데 이 예제는 이진탐색 말고도 계수정렬과 set함수를 이용해서 풀 수 있다. 사실 set 함수를 이용하는 게 가장 간결하다.\n",
    "n = int(input())\n",
    "a = list(map(int, input().split()))\n",
    "m = int(input())\n",
    "b = list(map(int, input().split()))\n",
    "\n",
    "def bi_srch(arr, target, start, end):\n",
    "    while start <= end:\n",
    "        mid = (start + end) // 2\n",
    "        \n",
    "        if arr[mid] == target:\n",
    "            return mid\n",
    "\n",
    "        elif arr[mid] > target:\n",
    "            end = mid - 1\n",
    "        \n",
    "        else:\n",
    "            start = mid + 1\n",
    "        \n",
    "    return None\n",
    "\n",
    "for i in b:\n",
    "    result = bi_srch(a, i, 0, n-1)\n",
    "    \n",
    "    if result != None:\n",
    "        print(\"yes\")\n",
    "    else:\n",
    "        print(\"no\")"
   ]
  },
  {
   "cell_type": "code",
   "execution_count": 10,
   "metadata": {},
   "outputs": [
    {
     "name": "stdout",
     "output_type": "stream",
     "text": [
      "4 6\n",
      "19 15 10 17\n",
      "15\n"
     ]
    }
   ],
   "source": [
    "# 이진 탐색 - 떡볶이 떡 만들기...단순한 순차 탐색 방법이다.\n",
    "\n",
    "n, m = map(int, input().split())\n",
    "length = list(map(int, input().split()))\n",
    "\n",
    "h = max(length)\n",
    "while True:\n",
    "    resi = 0\n",
    "    for i in length:\n",
    "        if i >= h:\n",
    "            resi += i - h\n",
    "        else:\n",
    "            continue\n",
    "        \n",
    "    if resi >= m:\n",
    "        break\n",
    "        \n",
    "    h -= 1\n",
    "\n",
    "print(h)\n"
   ]
  },
  {
   "cell_type": "code",
   "execution_count": 9,
   "metadata": {},
   "outputs": [
    {
     "data": {
      "text/plain": [
       "9"
      ]
     },
     "execution_count": 9,
     "metadata": {},
     "output_type": "execute_result"
    }
   ],
   "source": [
    "# 이진 탐색 - 떡볶이 떡 만들기 답안 예시\n",
    "\n",
    "n, m = list(map(int, input().split()))\n",
    "arr = list(map(int, input().split()))\n",
    "\n",
    "start = 0\n",
    "end = max(arr)\n",
    "\n",
    "result = 0\n",
    "while(start <= end):\n",
    "    total = 0\n",
    "    mid = (start + end) // 2\n",
    "    for x in arr:\n",
    "        if x > mid:\n",
    "            total += x - mid\n",
    "            \n",
    "    if total < m:\n",
    "        end = mid - 1\n",
    "    else:\n",
    "        result = mid\n",
    "        start = mid + 1\n",
    "        \n",
    "print(result)"
   ]
  },
  {
   "cell_type": "code",
   "execution_count": 5,
   "metadata": {},
   "outputs": [
    {
     "name": "stdout",
     "output_type": "stream",
     "text": [
      "26\n",
      "3\n"
     ]
    }
   ],
   "source": [
    "# 다이나믹 프로그래밍 - 1로 만들기 답안 예시\n",
    "# bottom-up 방식이다.\n",
    "\n",
    "x = int(input())\n",
    "dt = [0] * 30001\n",
    "\n",
    "for i in range(2, x+1):\n",
    "    dt[i] = dt[i-1] + 1\n",
    "    \n",
    "    if i % 2 == 0:\n",
    "        dt[i] = min(dt[i], dt[i//2] + 1)\n",
    "    \n",
    "    if i % 3 == 0:\n",
    "        dt[i] = min(dt[i], dt[i//3] + 1)\n",
    "        \n",
    "    if i % 5 == 0:\n",
    "        dt[i] = min(dt[i], dt[i//5] + 1)\n",
    "        \n",
    "print(dt[x])\n",
    "        "
   ]
  },
  {
   "cell_type": "code",
   "execution_count": null,
   "metadata": {},
   "outputs": [],
   "source": [
    "# 다이나믹 프로그래밍 - 개미 전사\n",
    "\n",
    "n = int(input())\n",
    "k = list(map(int, input().split()))\n",
    "\n",
    "dp = [0] * 1001\n",
    "\n",
    "dp[0] = k[0]\n",
    "dp[1] = max(k[0], k[1])\n",
    "\n",
    "for i in range(2, n):\n",
    "    dp[i] = max(dp[i-1], dp[i-2] + k[i])\n",
    "\n",
    "print(dp[n-1])"
   ]
  },
  {
   "cell_type": "code",
   "execution_count": 4,
   "metadata": {},
   "outputs": [
    {
     "name": "stdout",
     "output_type": "stream",
     "text": [
      "3\n",
      "5\n"
     ]
    }
   ],
   "source": [
    "# 다이나믹 프로그래밍 - 바닥 공사\n",
    "\n",
    "n = int(input())\n",
    "\n",
    "dp = [0] * 1001\n",
    "dp[1] = 1\n",
    "dp[2] = 3\n",
    "for i in range(3, n+1):\n",
    "    dp[i] = (dp[i-1] + (dp[i-2] * 2)) % 796796\n",
    "    \n",
    "print(dp[n])"
   ]
  },
  {
   "cell_type": "code",
   "execution_count": null,
   "metadata": {},
   "outputs": [],
   "source": [
    "# 다이나믹 프로그래밍 - 효율적인 화폐 구성...아 너무 어렵다!\n",
    "\n",
    "n, m = map(int, input().split())\n",
    "ls = []\n",
    "for i in range(n):\n",
    "    ls.append(int(input()))\n",
    "    \n"
   ]
  },
  {
   "cell_type": "code",
   "execution_count": 5,
   "metadata": {},
   "outputs": [],
   "source": [
    "# 간단한? 다익스트라 알고리즘 소스코드\n",
    "\n",
    "import sys\n",
    "input = sys.stdin.readline\n",
    "INF = int(1e9)\n",
    "\n",
    "n, m = map(int, input().split()) # 노드 및 간선 개수\n",
    "start = int(input()) # 시작 노드 번호\n",
    "grapth = [[] for i in range(n + 1)] # 각 노드에 연결된 노드 정보\n",
    "visited = [False] * (n + 1) # 방문 체크용 리스트\n",
    "distance = [INF] * (n + 1) # 최단 거리 테이블 무한으로 초기화\n",
    "\n",
    "for _ in range(m):\n",
    "    a, b, c = map(int, input().split()) # a에서 b로 가드 노드 비용이 c.\n",
    "    graph[a].append((b, c))\n",
    "    \n",
    "def get_smallest_node():\n",
    "    min_value = INF\n",
    "    idx = 0 # 가장 짧은 최단거리를 지닌 노드 인덱스\n",
    "    \n",
    "    for i in range(1, n + 1):\n",
    "        if distance[i] < min_value and not visted[i]:\n",
    "            min_value = distance[i]\n",
    "            idx = i\n",
    "  \n",
    "    return idx\n",
    "\n",
    "def dijkstra(start):\n",
    "    distance[start] = 0 # 시작 노드 초기화\n",
    "    visited[start] = True\n",
    "    \n",
    "    for j in graph[start]:\n",
    "        distance[j[0]] = j[1]\n",
    "        \n",
    "    for i in range(n - 1): # 시작 노드를 제외한 노드에 대해 반복\n",
    "        now = get_smallest_node() # 현재 최단거리가 가장 짧은 노드 방문처리\n",
    "        visited[now] = True \n",
    "        \n",
    "        for j in graph[now]: # 현재 노드와 연결된 다른 노드 확인\n",
    "            cost = distance[now] + j[1]\n",
    "            if cost < distance[j[0]]: # 현재 노드를 거쳐서 다른 노드로 이동하는 거리가 더 짧은 경우\n",
    "                distance[j[0]] = cost\n",
    "                \n",
    "dijkstra(start)\n",
    "\n",
    "for i in range(1, n + 1): # 모든 노드로 가기 위한 최단 거리 출력\n",
    "    if distance[i] == INF: # 도달할 수 없는 경우.\n",
    "        print(\"무야호~\")\n",
    "        \n",
    "    else:\n",
    "        print(distance[i])\n",
    "\n",
    "# 아따 코드도 길다. 많이 어렵다."
   ]
  },
  {
   "cell_type": "code",
   "execution_count": 7,
   "metadata": {},
   "outputs": [],
   "source": []
  },
  {
   "cell_type": "code",
   "execution_count": null,
   "metadata": {},
   "outputs": [],
   "source": []
  }
 ],
 "metadata": {
  "kernelspec": {
   "display_name": "Python 3.7.5 64-bit ('Namlister': virtualenv)",
   "language": "python",
   "name": "python37564bitnamlistervirtualenv5d7bb17d3c984c36aee202a2f6a91336"
  },
  "language_info": {
   "codemirror_mode": {
    "name": "ipython",
    "version": 3
   },
   "file_extension": ".py",
   "mimetype": "text/x-python",
   "name": "python",
   "nbconvert_exporter": "python",
   "pygments_lexer": "ipython3",
   "version": "3.7.5"
  }
 },
 "nbformat": 4,
 "nbformat_minor": 2
}
