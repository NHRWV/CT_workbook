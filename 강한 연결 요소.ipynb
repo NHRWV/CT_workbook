{
 "cells": [
  {
   "cell_type": "markdown",
   "id": "253203c5",
   "metadata": {},
   "source": [
    "https://www.acmicpc.net/problem/2150"
   ]
  },
  {
   "cell_type": "code",
   "execution_count": null,
   "id": "b7f6ec18",
   "metadata": {},
   "outputs": [],
   "source": [
    "# Strongly Connected Component\n",
    "\n",
    "v, e = map(int, input().split())\n",
    "\n",
    "edge = [[] for _ in range(v+1)]\n",
    "for i in range(e):\n",
    "    a, b = map(int, input().split())\n",
    "    edge[a].append(b)\n",
    "    \n",
    "\n",
    "stack = []\n",
    "\n",
    "order = [-1] * (v+1) # 노드 방문 순서\n",
    "scc = [-1] * (v+1) # scc 그룹 구분\n",
    "count = 0\n",
    "visited = [0] * (v+1)\n",
    "answer = []\n",
    "\n",
    "\n",
    "def sol(x):\n",
    "    global count\n",
    "    \n",
    "    order[x] = count\n",
    "    scc[x] = count\n",
    "    visited[x] = 1\n",
    "    \n",
    "    count += 1\n",
    "    stack.append(x)\n",
    "    \n",
    "    for i in edge[x]:\n",
    "        if order[i] == -1: # 방문하지 않은 노드인 경우\n",
    "            sol(i)\n",
    "            scc[x] = min(scc[x], scc[i])\n",
    "            \n",
    "        elif visited[i] == 1: # 처리 중인 이웃 노드\n",
    "            scc[x] = min(scc[x], order[i])\n",
    "            \n",
    "    \n",
    "    if scc[x] == order[x]:\n",
    "        temp = []\n",
    "        \n",
    "        while True:\n",
    "            t = stack.pop()\n",
    "            temp.append(t)\n",
    "            visited[t] = -1\n",
    "            \n",
    "            if t == x:\n",
    "                break\n",
    "            \n",
    "        answer.append(sorted(temp))\n",
    "        \n",
    "        \n",
    "for i in range(1, v+1):\n",
    "    if order[i] == -1:\n",
    "        sol(i)\n",
    "        \n",
    "print(len(answer))\n",
    "\n",
    "for i in sorted(answer):\n",
    "    print(*i, -1)\n"
   ]
  },
  {
   "cell_type": "code",
   "execution_count": null,
   "id": "bfacf864",
   "metadata": {},
   "outputs": [],
   "source": [
    "# 나동빈 버전\n",
    "\n",
    "v, e = map(int, input().split())\n",
    "\n",
    "edge = [[] for _ in range(v+1)]\n",
    "for i in range(e):\n",
    "    a, b = map(int, input().split())\n",
    "    edge[a].append(b)\n",
    "    \n",
    "\n",
    "stack = []\n",
    "\n",
    "order = [0] * (v+1) # 노드 방문 순서\n",
    "\n",
    "count = 1\n",
    "visited = [0] * (v+1)\n",
    "answer = []\n",
    "\n",
    "\n",
    "def sol(x):\n",
    "    global count\n",
    "    \n",
    "    order[x] = count\n",
    "    count += 1\n",
    "    stack.append(x)\n",
    "    \n",
    "    parent = order[x]\n",
    "    for i in edge[x]:\n",
    "        if not order[i]: # 방문하지 않은 노드인 경우\n",
    "            parent = min(parent, sol(i))\n",
    "            \n",
    "        elif not visited[i]: # 처리 중인 이웃 노드\n",
    "            parent = min(parent, order[i])\n",
    "            \n",
    "    \n",
    "    if parent == order[x]:\n",
    "        scc = []\n",
    "        \n",
    "        while True:\n",
    "            t = stack.pop()\n",
    "            scc.append(t)\n",
    "            visited[t] = 1\n",
    "            \n",
    "            if t == x:\n",
    "                break\n",
    "            \n",
    "        answer.append(sorted(scc))\n",
    "        \n",
    "    return parent\n",
    "        \n",
    "        \n",
    "for i in range(1, v+1):\n",
    "    if not order[i]:\n",
    "        sol(i)\n",
    "        \n",
    "print(len(answer))\n",
    "\n",
    "for i in sorted(answer):\n",
    "    print(*i, -1)\n"
   ]
  },
  {
   "cell_type": "markdown",
   "id": "44e8ec08",
   "metadata": {},
   "source": [
    "https://www.acmicpc.net/problem/4196"
   ]
  },
  {
   "cell_type": "code",
   "execution_count": null,
   "id": "91f4a646",
   "metadata": {},
   "outputs": [],
   "source": [
    "# 도미노\n",
    "\n",
    "\n",
    "def sol(x):\n",
    "    global count\n",
    "    global scc_cnt\n",
    "    \n",
    "    count += 1\n",
    "    order[x] = count\n",
    "    \n",
    "    \n",
    "    stack.append(x)\n",
    "    \n",
    "    parent = order[x]\n",
    "    for i in edge[x]:\n",
    "        if not order[i]: # 방문하지 않은 노드인 경우\n",
    "            parent = min(parent, sol(i))\n",
    "            \n",
    "        elif not visited[i]: # 처리 중인 이웃 노드\n",
    "            parent = min(parent, order[i])\n",
    "            \n",
    "    \n",
    "    if parent == order[x]:\n",
    "        scc = []\n",
    "        \n",
    "        while True:\n",
    "            t = stack.pop()\n",
    "            scc.append(t)\n",
    "            visited[t] = 1\n",
    "            scc_num[t] = len(answer) + 1\n",
    "            \n",
    "            if t == x:\n",
    "                break\n",
    "                \n",
    "        \n",
    "        answer.append(sorted(scc))\n",
    "        \n",
    "    return parent\n",
    "        \n",
    "\n",
    "    \n",
    "t = int(input())\n",
    "for _ in range(t):\n",
    "    n, m = map(int, input().split())\n",
    "\n",
    "    edge = [[] for _ in range(n+1)]\n",
    "    \n",
    "    \n",
    "    for i in range(m):\n",
    "        x, y = map(int, input().split())\n",
    "        edge[x].append(y)\n",
    "        \n",
    "    \n",
    "\n",
    "    stack = []\n",
    "    order = [0] * (n+1) \n",
    "\n",
    "    count = 0\n",
    "    visited = [0] * (n+1)\n",
    "    answer = []\n",
    "    \n",
    "    scc_num = [-1] * (n+1)\n",
    "    #scc_cnt = 0\n",
    "    \n",
    "    \n",
    "    for i in range(1, n+1):\n",
    "        if not order[i]:\n",
    "            sol(i)\n",
    "            \n",
    "    cnt = 0\n",
    "    indegree = [0] * (count + 1)\n",
    "    \n",
    "    for i in range(1, n+1):\n",
    "        for j in edge[i]:\n",
    "            if scc_num[i] != scc_num[j]:\n",
    "                indegree[scc_num[j]] += 1\n",
    "        \n",
    "    for i in range(1, len(answer) + 1):\n",
    "        if not indegree[i]:\n",
    "            cnt += 1\n",
    "            \n",
    "        \n",
    "    print(cnt)\n",
    "\n"
   ]
  },
  {
   "cell_type": "markdown",
   "id": "4cf472bc",
   "metadata": {},
   "source": [
    "https://www.acmicpc.net/problem/3977"
   ]
  },
  {
   "cell_type": "code",
   "execution_count": 4,
   "id": "95dfe67f",
   "metadata": {},
   "outputs": [
    {
     "name": "stdout",
     "output_type": "stream",
     "text": [
      "1\n",
      "4 4\n",
      "0 1\n",
      "1 2\n",
      "2 0\n",
      "2 3\n",
      "0\n",
      "1\n",
      "2\n",
      "3\n",
      "4\n",
      "[3]\n",
      "4\n",
      "1\n",
      "1\n",
      "1\n",
      "[2, 1, 0]\n",
      "1\n",
      "3\n",
      "\n"
     ]
    }
   ],
   "source": [
    "## 축구 전술\n",
    "\n",
    "def sol(x):\n",
    "    global count\n",
    "    \n",
    "    \n",
    "    count += 1\n",
    "    order[x] = count\n",
    "    \n",
    "    \n",
    "    stack.append(x)\n",
    "    print(x)\n",
    "    parent = order[x]\n",
    "    for i in edge[x]:\n",
    "        if not order[i]:\n",
    "            parent = min(parent, sol(i))\n",
    "            \n",
    "        elif not visited[i]:\n",
    "            parent = min(parent, order[i])\n",
    "            \n",
    "    print(parent)\n",
    "    if parent == order[x]:\n",
    "        scc = []\n",
    "        \n",
    "        while True:\n",
    "            t = stack.pop()\n",
    "            scc.append(t)\n",
    "            \n",
    "            visited[t] = 1\n",
    "            scc_num[t] = len(result) + 1\n",
    "            \n",
    "            if t == x:\n",
    "                break\n",
    "                \n",
    "        result.append(sorted(scc))\n",
    "        print(scc)\n",
    "        print(parent)\n",
    "    return parent\n",
    "        \n",
    "\n",
    "    \n",
    "T = int(input())\n",
    "while T:\n",
    "    nm = input()\n",
    "    if nm == '\\n':\n",
    "        continue\n",
    "        \n",
    "        \n",
    "    n, m = map(int, nm.split())\n",
    "\n",
    "    edge = [[] for _ in range(n)]\n",
    "    for i in range(m):\n",
    "        x, y = map(int, input().split())\n",
    "        edge[x].append(y)\n",
    "        \n",
    "    \n",
    "\n",
    "    stack = []\n",
    "    order = [0] * n \n",
    "\n",
    "    count = 0\n",
    "    visited = [0] * n\n",
    "    \n",
    "    scc_num = [0] * n\n",
    "    result = []\n",
    "    \n",
    "    \n",
    "    for i in range(n):\n",
    "        if not order[i]:\n",
    "            sol(i)\n",
    "            \n",
    "    cnt = 0\n",
    "    indegree = [0] * len(result)\n",
    "    \n",
    "    for i in range(n):\n",
    "        for j in edge[i]:\n",
    "            if scc_num[i] != scc_num[j]:\n",
    "                indegree[scc_num[j]] += 1\n",
    "                \n",
    "                \n",
    "    answer = []\n",
    "    for i in range(len(result)):\n",
    "        if not indegree[i]:\n",
    "            for j in result[i]:\n",
    "                answer.append(j)\n",
    "             \n",
    "            cnt += 1\n",
    "            \n",
    "    \n",
    "    if cnt != 1:\n",
    "        print(\"Confused\")\n",
    "        \n",
    "    else:\n",
    "        for i in sorted(answer):\n",
    "            print(i)\n",
    "        \n",
    "    print()\n",
    "    T -= 1\n",
    "    "
   ]
  },
  {
   "cell_type": "code",
   "execution_count": null,
   "id": "9801c994",
   "metadata": {},
   "outputs": [],
   "source": [
    "2\n",
    "4 4\n",
    "0 1\n",
    "1 2\n",
    "2 0\n",
    "2 3\n",
    "\n",
    "4 4\n",
    "0 3\n",
    "1 0\n",
    "2 0\n",
    "2 3"
   ]
  },
  {
   "cell_type": "code",
   "execution_count": 105,
   "id": "ebd87fda",
   "metadata": {},
   "outputs": [
    {
     "data": {
      "text/plain": [
       "[[1], [2], [0, 3], []]"
      ]
     },
     "execution_count": 105,
     "metadata": {},
     "output_type": "execute_result"
    }
   ],
   "source": [
    "edge"
   ]
  },
  {
   "cell_type": "code",
   "execution_count": 106,
   "id": "264b5170",
   "metadata": {},
   "outputs": [
    {
     "data": {
      "text/plain": [
       "[2, 2, 2, 1]"
      ]
     },
     "execution_count": 106,
     "metadata": {},
     "output_type": "execute_result"
    }
   ],
   "source": [
    "scc_num"
   ]
  },
  {
   "cell_type": "code",
   "execution_count": 107,
   "id": "a50e4b3c",
   "metadata": {},
   "outputs": [
    {
     "data": {
      "text/plain": [
       "[1, 2, 3, 4]"
      ]
     },
     "execution_count": 107,
     "metadata": {},
     "output_type": "execute_result"
    }
   ],
   "source": [
    "order"
   ]
  },
  {
   "cell_type": "code",
   "execution_count": 108,
   "id": "dd2afde0",
   "metadata": {},
   "outputs": [
    {
     "data": {
      "text/plain": [
       "[1, 1, 1, 1]"
      ]
     },
     "execution_count": 108,
     "metadata": {},
     "output_type": "execute_result"
    }
   ],
   "source": [
    "visited"
   ]
  },
  {
   "cell_type": "code",
   "execution_count": 109,
   "id": "4c90f41e",
   "metadata": {},
   "outputs": [
    {
     "data": {
      "text/plain": [
       "[0, 1]"
      ]
     },
     "execution_count": 109,
     "metadata": {},
     "output_type": "execute_result"
    }
   ],
   "source": [
    "indegree"
   ]
  },
  {
   "cell_type": "code",
   "execution_count": 110,
   "id": "260c0afd",
   "metadata": {},
   "outputs": [
    {
     "data": {
      "text/plain": [
       "[3]"
      ]
     },
     "execution_count": 110,
     "metadata": {},
     "output_type": "execute_result"
    }
   ],
   "source": [
    "answer"
   ]
  },
  {
   "cell_type": "code",
   "execution_count": 111,
   "id": "a6a84e6b",
   "metadata": {
    "scrolled": true
   },
   "outputs": [
    {
     "data": {
      "text/plain": [
       "[[3], [0, 1, 2]]"
      ]
     },
     "execution_count": 111,
     "metadata": {},
     "output_type": "execute_result"
    }
   ],
   "source": [
    "result"
   ]
  },
  {
   "cell_type": "code",
   "execution_count": 102,
   "id": "002ecf7c",
   "metadata": {},
   "outputs": [
    {
     "name": "stdout",
     "output_type": "stream",
     "text": [
      "1\n",
      "4 4\n",
      "0 1\n",
      "1 2\n",
      "2 0\n",
      "2 3\n",
      "0 [3]\n",
      "0 [3, 2]\n",
      "0 [3, 2, 1]\n",
      "0 [3, 2, 1, 0]\n",
      "[0]\n",
      "[0, 2]\n",
      "[0, 2, 1]\n",
      "[3]\n",
      "0\n",
      "1\n",
      "2\n",
      "\n"
     ]
    }
   ],
   "source": [
    "def dfs(node, visit, stack):\n",
    "    visit[node] = 1\n",
    "    for now in graph[node]:\n",
    "        if visit[now] == 0:\n",
    "            dfs(now, visit, stack)\n",
    "    stack.append(node)\n",
    "    #print(node)\n",
    "    print(0, stack)\n",
    "\n",
    "# 역방향 dfs, 탐색하는 순서대로 stack에.\n",
    "def reverse_dfs(node, visit, stack):\n",
    "    visit[node] = 1\n",
    "    ids[node] = idx\n",
    "    stack.append(node)\n",
    "    #print(node)\n",
    "    print(stack)\n",
    "    for now in reverse_graph[node]:\n",
    "        if visit[now] == 0:\n",
    "            reverse_dfs(now, visit, stack)\n",
    "\n",
    "T = int(input())\n",
    "while T:\n",
    "    inline = input()\n",
    "    if inline == '\\n':\n",
    "        continue\n",
    "    N, M = map(int, inline.split())\n",
    "    graph = [[] for _ in range(N)]\n",
    "    reverse_graph = [[] for _ in range(N)]\n",
    "\n",
    "    for _ in range(M):\n",
    "        a, b = map(int, input().split())\n",
    "        # 정방향 그래프, 역방향 그래프 추가\n",
    "        graph[a].append(b)\n",
    "        reverse_graph[b].append(a)\n",
    "    stack = []\n",
    "    visit = [0] * N\n",
    "    # 모든 노드에서 dfs를 수행.\n",
    "    for i in range(N):\n",
    "        if visit[i] == 0:\n",
    "            dfs(i, visit, stack)\n",
    "            \n",
    "    result = [[] for _ in range(N)]\n",
    "    visit = [0] * N\n",
    "    idx = -1\n",
    "    ids = [-1] * N\n",
    "    \n",
    "    while stack:\n",
    "        # pop되는 요소에서 역방향 dfs, scc를 결과에.\n",
    "        ssc = []\n",
    "        node = stack.pop()\n",
    "        if visit[node] == 0:\n",
    "            idx += 1\n",
    "            reverse_dfs(node, visit, ssc)\n",
    "            result[idx] = ssc\n",
    "            \n",
    "    scc_indegree = [0] * (idx + 1)\n",
    "\n",
    "    for i in range(N):\n",
    "        for ed in graph[i]:\n",
    "            if ids[i] != ids[ed]:\n",
    "                scc_indegree[ids[ed]] += 1\n",
    "    cnt = 0\n",
    "    temp = []\n",
    "    for i in range(len(scc_indegree)):\n",
    "        if scc_indegree[i] == 0:\n",
    "            for r in result[i]:\n",
    "                temp.append(r)\n",
    "            cnt += 1\n",
    "    if cnt == 1:\n",
    "        for i in sorted(temp):\n",
    "            print(i)\n",
    "    else:\n",
    "        print(\"Confused\")\n",
    "    print()\n",
    "    T -= 1"
   ]
  },
  {
   "cell_type": "code",
   "execution_count": 19,
   "id": "dfb1676a",
   "metadata": {},
   "outputs": [
    {
     "data": {
      "text/plain": [
       "[[1], [2], [3]]"
      ]
     },
     "execution_count": 19,
     "metadata": {},
     "output_type": "execute_result"
    }
   ],
   "source": [
    "2\n",
    "4 4\n",
    "0 1\n",
    "1 2\n",
    "2 0\n",
    "2 3\n",
    "\n",
    "4 4\n",
    "0 3\n",
    "1 0\n",
    "2 0\n",
    "2 3"
   ]
  },
  {
   "cell_type": "code",
   "execution_count": 71,
   "id": "c7c912f9",
   "metadata": {},
   "outputs": [
    {
     "data": {
      "text/plain": [
       "[[0, 2, 1], [3], [], []]"
      ]
     },
     "execution_count": 71,
     "metadata": {},
     "output_type": "execute_result"
    }
   ],
   "source": [
    "result"
   ]
  },
  {
   "cell_type": "code",
   "execution_count": 72,
   "id": "b0a3342f",
   "metadata": {},
   "outputs": [
    {
     "data": {
      "text/plain": [
       "[1, 1, 1, 1]"
      ]
     },
     "execution_count": 72,
     "metadata": {},
     "output_type": "execute_result"
    }
   ],
   "source": [
    "visit"
   ]
  },
  {
   "cell_type": "code",
   "execution_count": 73,
   "id": "3a89b8f5",
   "metadata": {},
   "outputs": [
    {
     "data": {
      "text/plain": [
       "1"
      ]
     },
     "execution_count": 73,
     "metadata": {},
     "output_type": "execute_result"
    }
   ],
   "source": [
    "idx"
   ]
  },
  {
   "cell_type": "code",
   "execution_count": 74,
   "id": "2908761a",
   "metadata": {},
   "outputs": [
    {
     "data": {
      "text/plain": [
       "[0, 0, 0, 1]"
      ]
     },
     "execution_count": 74,
     "metadata": {},
     "output_type": "execute_result"
    }
   ],
   "source": [
    "ids"
   ]
  },
  {
   "cell_type": "code",
   "execution_count": 75,
   "id": "99af2aa5",
   "metadata": {},
   "outputs": [
    {
     "data": {
      "text/plain": [
       "[0, 1]"
      ]
     },
     "execution_count": 75,
     "metadata": {},
     "output_type": "execute_result"
    }
   ],
   "source": [
    "scc_indegree"
   ]
  },
  {
   "cell_type": "code",
   "execution_count": 76,
   "id": "c583bcdc",
   "metadata": {},
   "outputs": [
    {
     "data": {
      "text/plain": [
       "[0, 2, 1]"
      ]
     },
     "execution_count": 76,
     "metadata": {},
     "output_type": "execute_result"
    }
   ],
   "source": [
    "temp"
   ]
  },
  {
   "cell_type": "code",
   "execution_count": 91,
   "id": "d37b9014",
   "metadata": {},
   "outputs": [
    {
     "data": {
      "text/plain": [
       "[[1], [2], [0, 3], []]"
      ]
     },
     "execution_count": 91,
     "metadata": {},
     "output_type": "execute_result"
    }
   ],
   "source": [
    "graph"
   ]
  },
  {
   "cell_type": "code",
   "execution_count": 115,
   "id": "7a1d0462",
   "metadata": {},
   "outputs": [
    {
     "data": {
      "text/plain": [
       "48"
      ]
     },
     "execution_count": 115,
     "metadata": {},
     "output_type": "execute_result"
    }
   ],
   "source": [
    "ord('0')"
   ]
  },
  {
   "cell_type": "code",
   "execution_count": 3,
   "id": "194f360f",
   "metadata": {},
   "outputs": [
    {
     "name": "stdout",
     "output_type": "stream",
     "text": [
      "3\n",
      "for\n",
      "forwhileforfor\n",
      "forwhileannsds\n",
      "7\n"
     ]
    }
   ],
   "source": [
    "c = int(input())\n",
    "\n",
    "maxi = 0\n",
    "\n",
    "for i in range(c):\n",
    "    a = input()\n",
    "    \n",
    "    temp = 0\n",
    "    temp += a.count('for')\n",
    "    temp += a.count('while')\n",
    "    maxi = max(maxi, temp)\n",
    "    \n",
    "    \n",
    "print(maxi)"
   ]
  },
  {
   "cell_type": "code",
   "execution_count": null,
   "id": "c2b2706f",
   "metadata": {},
   "outputs": [],
   "source": [
    "3\n",
    "for\n",
    "forwhileforfor\n",
    "forwhileannsds"
   ]
  },
  {
   "cell_type": "code",
   "execution_count": 5,
   "id": "22ea19d9",
   "metadata": {},
   "outputs": [
    {
     "data": {
      "text/plain": [
       "44032"
      ]
     },
     "execution_count": 5,
     "metadata": {},
     "output_type": "execute_result"
    }
   ],
   "source": [
    "ord('가')"
   ]
  },
  {
   "cell_type": "code",
   "execution_count": null,
   "id": "6e11ab1b",
   "metadata": {},
   "outputs": [],
   "source": []
  }
 ],
 "metadata": {
  "kernelspec": {
   "display_name": "Python 3",
   "language": "python",
   "name": "python3"
  },
  "language_info": {
   "codemirror_mode": {
    "name": "ipython",
    "version": 3
   },
   "file_extension": ".py",
   "mimetype": "text/x-python",
   "name": "python",
   "nbconvert_exporter": "python",
   "pygments_lexer": "ipython3",
   "version": "3.8.8"
  }
 },
 "nbformat": 4,
 "nbformat_minor": 5
}
