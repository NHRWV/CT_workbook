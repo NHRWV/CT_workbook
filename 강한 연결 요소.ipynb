{
 "cells": [
  {
   "cell_type": "markdown",
   "id": "253203c5",
   "metadata": {},
   "source": [
    "https://www.acmicpc.net/problem/2150"
   ]
  },
  {
   "cell_type": "code",
   "execution_count": 1,
   "id": "b7f6ec18",
   "metadata": {},
   "outputs": [
    {
     "name": "stdout",
     "output_type": "stream",
     "text": [
      "7 9\n",
      "1 4\n",
      "4 5\n",
      "5 1\n",
      "1 6\n",
      "6 7\n",
      "2 7\n",
      "7 3\n",
      "3 7\n",
      "7 2\n",
      "3\n",
      "1 4 5 -1\n",
      "2 3 7 -1\n",
      "6 -1\n"
     ]
    }
   ],
   "source": [
    "# Strongly Connected Component\n",
    "\n",
    "v, e = map(int, input().split())\n",
    "\n",
    "edge = [[] for _ in range(v+1)]\n",
    "for i in range(e):\n",
    "    a, b = map(int, input().split())\n",
    "    edge[a].append(b)\n",
    "    \n",
    "\n",
    "stack = []\n",
    "\n",
    "order = [-1] * (v+1) # 노드 방문 순서\n",
    "scc = [-1] * (v+1) # scc 그룹 구분\n",
    "count = 0\n",
    "visited = [0] * (v+1)\n",
    "answer = []\n",
    "\n",
    "\n",
    "def sol(x):\n",
    "    global count\n",
    "    \n",
    "    order[x] = count\n",
    "    scc[x] = count\n",
    "    visited[x] = 1\n",
    "    \n",
    "    count += 1\n",
    "    stack.append(x)\n",
    "    \n",
    "    for i in edge[x]:\n",
    "        if order[i] == -1: # 방문하지 않은 노드인 경우\n",
    "            sol(i)\n",
    "            scc[x] = min(scc[x], scc[i])\n",
    "            \n",
    "        elif visited[i] == 1: # 처리 중인 이웃 노드\n",
    "            scc[x] = min(scc[x], order[i])\n",
    "            \n",
    "    \n",
    "    if scc[x] == order[x]:\n",
    "        temp = []\n",
    "        \n",
    "        while True:\n",
    "            t = stack.pop()\n",
    "            temp.append(t)\n",
    "            visited[t] = -1\n",
    "            \n",
    "            if t == x:\n",
    "                break\n",
    "            \n",
    "        answer.append(sorted(temp))\n",
    "        \n",
    "        \n",
    "for i in range(1, v+1):\n",
    "    if order[i] == -1:\n",
    "        sol(i)\n",
    "        \n",
    "print(len(answer))\n",
    "\n",
    "for i in sorted(answer):\n",
    "    print(*i, -1)\n"
   ]
  },
  {
   "cell_type": "code",
   "execution_count": null,
   "id": "930f250a",
   "metadata": {},
   "outputs": [],
   "source": [
    "7 9\n",
    "1 4\n",
    "4 5\n",
    "5 1\n",
    "1 6\n",
    "6 7\n",
    "2 7\n",
    "7 3\n",
    "3 7\n",
    "7 2"
   ]
  },
  {
   "cell_type": "code",
   "execution_count": 2,
   "id": "bfacf864",
   "metadata": {},
   "outputs": [
    {
     "name": "stdout",
     "output_type": "stream",
     "text": [
      "7 9\n",
      "1 4\n",
      "4 5\n",
      "5 1\n",
      "1 6\n",
      "6 7\n",
      "2 7\n",
      "7 3\n",
      "3 7\n",
      "7 2\n",
      "3\n",
      "1 4 5 -1\n",
      "2 3 7 -1\n",
      "6 -1\n"
     ]
    }
   ],
   "source": [
    "# 나동빈 버전\n",
    "\n",
    "v, e = map(int, input().split())\n",
    "\n",
    "edge = [[] for _ in range(v+1)]\n",
    "for i in range(e):\n",
    "    a, b = map(int, input().split())\n",
    "    edge[a].append(b)\n",
    "    \n",
    "\n",
    "stack = []\n",
    "\n",
    "order = [0] * (v+1) # 노드 방문 순서\n",
    "\n",
    "count = 1\n",
    "visited = [0] * (v+1)\n",
    "answer = []\n",
    "\n",
    "\n",
    "def sol(x):\n",
    "    global count\n",
    "    \n",
    "    order[x] = count\n",
    "    count += 1\n",
    "    stack.append(x)\n",
    "    \n",
    "    parent = order[x]\n",
    "    for i in edge[x]:\n",
    "        if not order[i]: # 방문하지 않은 노드인 경우\n",
    "            parent = min(parent, sol(i))\n",
    "            \n",
    "        elif not visited[i]: # 처리 중인 이웃 노드\n",
    "            parent = min(parent, order[i])\n",
    "            \n",
    "    \n",
    "    if parent == order[x]:\n",
    "        scc = []\n",
    "        \n",
    "        while True:\n",
    "            t = stack.pop()\n",
    "            scc.append(t)\n",
    "            visited[t] = 1\n",
    "            \n",
    "            if t == x:\n",
    "                break\n",
    "            \n",
    "        answer.append(sorted(scc))\n",
    "        \n",
    "    return parent\n",
    "        \n",
    "        \n",
    "for i in range(1, v+1):\n",
    "    if not order[i]:\n",
    "        sol(i)\n",
    "        \n",
    "print(len(answer))\n",
    "\n",
    "for i in sorted(answer):\n",
    "    print(*i, -1)\n"
   ]
  },
  {
   "cell_type": "markdown",
   "id": "44e8ec08",
   "metadata": {},
   "source": [
    "https://www.acmicpc.net/problem/4196"
   ]
  },
  {
   "cell_type": "code",
   "execution_count": 50,
   "id": "91f4a646",
   "metadata": {},
   "outputs": [
    {
     "name": "stdout",
     "output_type": "stream",
     "text": [
      "1\n",
      "10 11\n",
      "6 3\n",
      "5 8\n",
      "4 10\n",
      "5 2\n",
      "1 8\n",
      "9 5\n",
      "5 3\n",
      "2 6\n",
      "9 6\n",
      "6 4\n",
      "10 9\n",
      "3\n"
     ]
    }
   ],
   "source": [
    "# 도미노\n",
    "\n",
    "\n",
    "def sol(x):\n",
    "    global count\n",
    "    global scc_cnt\n",
    "    \n",
    "    order[x] = count\n",
    "    count += 1\n",
    "    \n",
    "    stack.append(x)\n",
    "    \n",
    "    parent = order[x]\n",
    "    for i in edge[x]:\n",
    "        if not order[i]: # 방문하지 않은 노드인 경우\n",
    "            parent = min(parent, sol(i))\n",
    "            \n",
    "        elif not visited[i]: # 처리 중인 이웃 노드\n",
    "            parent = min(parent, order[i])\n",
    "            \n",
    "    \n",
    "    if parent == order[x]:\n",
    "        scc = []\n",
    "        \n",
    "        while True:\n",
    "            t = stack.pop()\n",
    "            scc.append(t)\n",
    "            visited[t] = 1\n",
    "            scc_num[t] = scc_cnt\n",
    "            \n",
    "            if t == x:\n",
    "                break\n",
    "                \n",
    "        scc_cnt += 1\n",
    "        answer.append(sorted(scc))\n",
    "        \n",
    "    return parent\n",
    "        \n",
    "\n",
    "    \n",
    "t = int(input())\n",
    "for _ in range(t):\n",
    "    n, m = map(int, input().split())\n",
    "\n",
    "    edge = [[] for _ in range(n+1)]\n",
    "    \n",
    "    \n",
    "    for i in range(m):\n",
    "        x, y = map(int, input().split())\n",
    "        edge[x].append(y)\n",
    "        \n",
    "    \n",
    "\n",
    "    stack = []\n",
    "    order = [0] * (n+1) \n",
    "\n",
    "    count = 0\n",
    "    visited = [0] * (n+1)\n",
    "    answer = []\n",
    "    \n",
    "    scc_num = [-1] * (n+1)\n",
    "    scc_cnt = 0\n",
    "    \n",
    "    \n",
    "    for i in range(1, n+1):\n",
    "        if not order[i]:\n",
    "            sol(i)\n",
    "            \n",
    "    cnt = 0\n",
    "    indegree = [0] * (count + 1)\n",
    "    \n",
    "    for i in range(1, n+1):\n",
    "        for j in edge[i]:\n",
    "            if scc_num[i] != scc_num[j]:\n",
    "                indegree[scc_num[j]] += 1\n",
    "        \n",
    "    for i in range(1, scc_cnt):\n",
    "        if not indegree[i]:\n",
    "            cnt += 1\n",
    "            \n",
    "        \n",
    "    print(cnt)\n",
    "\n"
   ]
  },
  {
   "cell_type": "code",
   "execution_count": null,
   "id": "0c9ffb30",
   "metadata": {},
   "outputs": [],
   "source": [
    "1\n",
    "3 2\n",
    "1 2\n",
    "2 3\n",
    "\n",
    "1\n",
    "10 11\n",
    "6 3\n",
    "5 8\n",
    "4 10\n",
    "5 2\n",
    "1 8\n",
    "9 5\n",
    "5 3\n",
    "2 6\n",
    "9 6\n",
    "6 4\n",
    "10 9\n",
    "\n",
    "3\n",
    "---\n",
    "1\n",
    "10 6\n",
    "9 4\n",
    "9 7\n",
    "9 1\n",
    "8 7\n",
    "3 7\n",
    "4 9\n",
    "\n",
    "7"
   ]
  },
  {
   "cell_type": "code",
   "execution_count": 44,
   "id": "f9984d8a",
   "metadata": {},
   "outputs": [
    {
     "data": {
      "text/plain": [
       "3"
      ]
     },
     "execution_count": 44,
     "metadata": {},
     "output_type": "execute_result"
    }
   ],
   "source": [
    "count"
   ]
  },
  {
   "cell_type": "code",
   "execution_count": 45,
   "id": "6d640179",
   "metadata": {
    "scrolled": true
   },
   "outputs": [
    {
     "data": {
      "text/plain": [
       "[[3], [2], [1]]"
      ]
     },
     "execution_count": 45,
     "metadata": {},
     "output_type": "execute_result"
    }
   ],
   "source": [
    "answer"
   ]
  },
  {
   "cell_type": "code",
   "execution_count": 46,
   "id": "264b5170",
   "metadata": {},
   "outputs": [
    {
     "data": {
      "text/plain": [
       "[-1, 2, 1, 0]"
      ]
     },
     "execution_count": 46,
     "metadata": {},
     "output_type": "execute_result"
    }
   ],
   "source": [
    "scc_num"
   ]
  },
  {
   "cell_type": "code",
   "execution_count": 47,
   "id": "a50e4b3c",
   "metadata": {},
   "outputs": [
    {
     "data": {
      "text/plain": [
       "3"
      ]
     },
     "execution_count": 47,
     "metadata": {},
     "output_type": "execute_result"
    }
   ],
   "source": [
    "scc_cnt"
   ]
  },
  {
   "cell_type": "code",
   "execution_count": 48,
   "id": "dd2afde0",
   "metadata": {},
   "outputs": [
    {
     "data": {
      "text/plain": [
       "[1, 1, 0, 0]"
      ]
     },
     "execution_count": 48,
     "metadata": {},
     "output_type": "execute_result"
    }
   ],
   "source": [
    "indegree"
   ]
  },
  {
   "cell_type": "code",
   "execution_count": 49,
   "id": "a6a84e6b",
   "metadata": {},
   "outputs": [
    {
     "data": {
      "text/plain": [
       "[]"
      ]
     },
     "execution_count": 49,
     "metadata": {},
     "output_type": "execute_result"
    }
   ],
   "source": [
    "stack"
   ]
  },
  {
   "cell_type": "code",
   "execution_count": 36,
   "id": "107eacb7",
   "metadata": {},
   "outputs": [
    {
     "name": "stdout",
     "output_type": "stream",
     "text": [
      "1\n",
      "3 2\n",
      "1 2\n",
      "2 3\n",
      "1\n"
     ]
    }
   ],
   "source": [
    "def dfs(node, visit, stack):\n",
    "    visit[node] = 1\n",
    "    for now in graph[node]:\n",
    "        if visit[now] == 0:\n",
    "            dfs(now, visit, stack)\n",
    "    stack.append(node)\n",
    "\n",
    "# 역방향 dfs, 탐색하는 순서대로 stack에.\n",
    "def reverse_dfs(node, visit, stack):\n",
    "    visit[node] = 1\n",
    "    ids[node] = idx\n",
    "    stack.append(node)\n",
    "    for now in reverse_graph[node]:\n",
    "        if visit[now] == 0:\n",
    "            reverse_dfs(now, visit, stack)\n",
    "\n",
    "T = int(input())\n",
    "for _ in range(T):\n",
    "    N, M = map(int, input().split())\n",
    "    graph = [[] for _ in range(N + 1)]\n",
    "    reverse_graph = [[] for _ in range(N + 1)]\n",
    "\n",
    "    for _ in range(M):\n",
    "        x, y = map(int, input().split())\n",
    "        # 정방향 그래프, 역방향 그래프 추가\n",
    "        graph[x].append(y)\n",
    "        reverse_graph[y].append(x)\n",
    "    stack = []\n",
    "    visit = [0] * (N + 1)\n",
    "    # 모든 노드에서 dfs를 수행.\n",
    "    for i in range(1, N + 1):\n",
    "        if visit[i] == 0:\n",
    "            dfs(i, visit, stack)\n",
    "    idx = 0\n",
    "    ids = [-1] * (N + 1)\n",
    "    visit = [0] * (N + 1)\n",
    "    result = []\n",
    "    while stack:\n",
    "        # pop되는 요소에서 역방향 dfs, scc를 결과에.\n",
    "        ssc = []\n",
    "        node = stack.pop()\n",
    "        if visit[node] == 0:\n",
    "            idx += 1\n",
    "            reverse_dfs(node, visit, ssc)\n",
    "            result.append(sorted(ssc))\n",
    "    scc_indegree = [0] * (idx + 1)\n",
    "\n",
    "    for i in range(1, N + 1):\n",
    "        for ed in graph[i]:\n",
    "            if ids[i] != ids[ed]:\n",
    "                scc_indegree[ids[ed]] += 1\n",
    "    cnt = 0\n",
    "    for i in range(1, len(scc_indegree)):\n",
    "        if scc_indegree[i] == 0:\n",
    "            cnt += 1\n",
    "    print(cnt)\n"
   ]
  },
  {
   "cell_type": "code",
   "execution_count": 6,
   "id": "002ecf7c",
   "metadata": {},
   "outputs": [
    {
     "data": {
      "text/plain": [
       "3"
      ]
     },
     "execution_count": 6,
     "metadata": {},
     "output_type": "execute_result"
    }
   ],
   "source": [
    "1\n",
    "10 11\n",
    "6 3\n",
    "5 8\n",
    "4 10\n",
    "5 2\n",
    "1 8\n",
    "9 5\n",
    "5 3\n",
    "2 6\n",
    "9 6\n",
    "6 4\n",
    "10 9"
   ]
  },
  {
   "cell_type": "code",
   "execution_count": 37,
   "id": "dfb1676a",
   "metadata": {},
   "outputs": [
    {
     "data": {
      "text/plain": [
       "[[1], [2], [3]]"
      ]
     },
     "execution_count": 37,
     "metadata": {},
     "output_type": "execute_result"
    }
   ],
   "source": [
    "result"
   ]
  },
  {
   "cell_type": "code",
   "execution_count": 38,
   "id": "c7c912f9",
   "metadata": {},
   "outputs": [
    {
     "data": {
      "text/plain": [
       "[0, 0, 1, 1]"
      ]
     },
     "execution_count": 38,
     "metadata": {},
     "output_type": "execute_result"
    }
   ],
   "source": [
    "scc_indegree"
   ]
  },
  {
   "cell_type": "code",
   "execution_count": 39,
   "id": "b0a3342f",
   "metadata": {},
   "outputs": [
    {
     "data": {
      "text/plain": [
       "3"
      ]
     },
     "execution_count": 39,
     "metadata": {},
     "output_type": "execute_result"
    }
   ],
   "source": [
    "idx"
   ]
  },
  {
   "cell_type": "code",
   "execution_count": 42,
   "id": "3a89b8f5",
   "metadata": {},
   "outputs": [
    {
     "data": {
      "text/plain": [
       "[-1, 1, 2, 3]"
      ]
     },
     "execution_count": 42,
     "metadata": {},
     "output_type": "execute_result"
    }
   ],
   "source": [
    "ids"
   ]
  },
  {
   "cell_type": "code",
   "execution_count": null,
   "id": "2908761a",
   "metadata": {},
   "outputs": [],
   "source": []
  }
 ],
 "metadata": {
  "kernelspec": {
   "display_name": "Python 3",
   "language": "python",
   "name": "python3"
  },
  "language_info": {
   "codemirror_mode": {
    "name": "ipython",
    "version": 3
   },
   "file_extension": ".py",
   "mimetype": "text/x-python",
   "name": "python",
   "nbconvert_exporter": "python",
   "pygments_lexer": "ipython3",
   "version": "3.8.8"
  }
 },
 "nbformat": 4,
 "nbformat_minor": 5
}
