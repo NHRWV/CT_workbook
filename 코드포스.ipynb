{
 "cells": [
  {
   "cell_type": "markdown",
   "id": "8d9742e3",
   "metadata": {},
   "source": [
    "https://codeforces.com/contest/1598/problem/A"
   ]
  },
  {
   "cell_type": "code",
   "execution_count": null,
   "id": "5adf6268",
   "metadata": {},
   "outputs": [],
   "source": [
    "from collections import deque\n",
    "\n",
    "dx = [-1, 1, 0, 0, -1, -1, 1, 1]\n",
    "dy = [0, 0, -1, 1, -1, 1, 1, -1]\n",
    "\n",
    "t = int(input())\n",
    "for i in range(t):\n",
    "    n = int(input())\n",
    "    \n",
    "    board = []\n",
    "    for j in range(2):\n",
    "        board.append(list(map(int, input())))\n",
    "        \n",
    "    queue = deque([(0, 0)])\n",
    "    \n",
    "    while queue:\n",
    "        x, y = queue.popleft()\n",
    "        \n",
    "        \n",
    "        for j in range(8):\n",
    "            nx = x + dx[j]\n",
    "            ny = y + dy[j]\n",
    "            \n",
    "            if nx < 0 or nx >= 2 or ny < 0 or ny >= n:\n",
    "                continue\n",
    "                \n",
    "            if board[nx][ny] == 0:\n",
    "                board[nx][ny] = board[x][y] - 1\n",
    "                queue.append((nx, ny))\n",
    "                \n",
    "                \n",
    "    if board[1][n-1] != 0:\n",
    "        print('YES')\n",
    "        \n",
    "    else:\n",
    "        print('NO')\n",
    "    \n",
    "        \n",
    "        \n",
    "    "
   ]
  },
  {
   "cell_type": "markdown",
   "id": "f2c15da3",
   "metadata": {},
   "source": [
    "https://codeforces.com/contest/1598/problem/B"
   ]
  },
  {
   "cell_type": "code",
   "execution_count": null,
   "id": "72efe5c9",
   "metadata": {},
   "outputs": [],
   "source": [
    "\n",
    "\n",
    "\n",
    "t = int(input())\n",
    "for _ in range(t):\n",
    "    n = int(input())\n",
    "    \n",
    "    mat = []\n",
    "    lst = [[] for i in range(5)]\n",
    "    count = [0] * 5\n",
    "    \n",
    "    for i in range(n):\n",
    "        a = list(map(int, input().split()))\n",
    "        for j in range(5):\n",
    "            if a[j] == 1:\n",
    "                lst[j].append(i)\n",
    "                count[j] += 1\n",
    "                \n",
    "    chk = 0\n",
    "    for i in range(5):\n",
    "        if count[i] < n//2:\n",
    "            continue\n",
    "            \n",
    "        check = 0\n",
    "        target = set(lst[i])\n",
    "        for j in range(i+1, 5):\n",
    "            if count[j] < n//2:\n",
    "                continue\n",
    "                \n",
    "            if len(target | set(lst[j])) == n:\n",
    "                check = 1\n",
    "                break\n",
    "                \n",
    "        if check:\n",
    "            chk = 1\n",
    "            break\n",
    "            \n",
    "    if chk:\n",
    "        print('YES')\n",
    "    else:\n",
    "        print('NO')\n",
    "            \n",
    "            "
   ]
  },
  {
   "cell_type": "code",
   "execution_count": null,
   "id": "dc4d4151",
   "metadata": {},
   "outputs": [],
   "source": [
    "a, b = map(int, input().split())\n",
    "\n",
    "if b - a == 1 or b - a == 9:\n",
    "    print('Yes')\n",
    "else:\n",
    "    print('No')"
   ]
  },
  {
   "cell_type": "code",
   "execution_count": null,
   "id": "6a8a15a9",
   "metadata": {},
   "outputs": [],
   "source": [
    "n = int(input())\n",
    "seq = set(list(map(int, input().split())))\n",
    "\n",
    "print(len(seq))"
   ]
  },
  {
   "cell_type": "code",
   "execution_count": null,
   "id": "8a5efae9",
   "metadata": {},
   "outputs": [],
   "source": [
    "from collections import deque\n",
    "import sys\n",
    "\n",
    "n, x = map(int, input().split())\n",
    "\n",
    "board = []\n",
    "for i in range(n):\n",
    "    board.append(list(map(int, input().split())))\n",
    "    \n",
    "dx = [1, 1, 1]\n",
    "dy = [0, -1, 1]\n",
    "\n",
    "queue = deque([(-1, 0, 0)])\n",
    "\n",
    "def sol(n, x):\n",
    "    while queue:\n",
    "        a, b, hab = queue.popleft()\n",
    "    \n",
    "        \n",
    "        if a == n-1 and hab == x:\n",
    "            answer = 'Yes'\n",
    "            return answer\n",
    "            \n",
    "        \n",
    "    \n",
    "        for i in range(3):\n",
    "            nx = a + dx[i]\n",
    "            ny = b + dy[i]\n",
    "        \n",
    "            if ny < 0 or nx >= n or ny >= 2:\n",
    "                continue\n",
    "            \n",
    "            if hab + board[nx][ny] <= x:\n",
    "                queue.append((nx, ny, hab + board[nx][ny]))\n",
    "        \n",
    "    answer = 'No'\n",
    "    return answer\n",
    "\n",
    "print(sol(n, x))\n"
   ]
  },
  {
   "cell_type": "markdown",
   "id": "3b3bf999",
   "metadata": {},
   "source": [
    "## 2 10\n",
    "3 6\n",
    "4 5\n",
    "\n",
    "4 12\n",
    "1 8\n",
    "5 7\n",
    "3 4\n",
    "2 6\n",
    "\n",
    "2 10\n",
    "10 100\n",
    "10 100\n"
   ]
  },
  {
   "cell_type": "code",
   "execution_count": null,
   "id": "a189f1f9",
   "metadata": {},
   "outputs": [],
   "source": [
    "from collections import deque\n",
    "\n",
    "n = int(input())\n",
    "\n",
    "queue = deque()\n",
    "\n",
    "for i in map(int, input().split()):\n",
    "    queue.append(i)\n",
    "    \n",
    "    if len(queue) >= i and queue[-2] == i:\n",
    "        chk = 1\n",
    "        for j in range(2, i+1):\n",
    "            if queue[-j] != i:\n",
    "                chk = 0\n",
    "                break\n",
    "                \n",
    "        if chk:\n",
    "            for j in range(i):\n",
    "                queue.pop()\n",
    "                \n",
    "        \n",
    "    print(len(queue))\n",
    "    "
   ]
  },
  {
   "cell_type": "code",
   "execution_count": null,
   "id": "424eb64f",
   "metadata": {},
   "outputs": [],
   "source": [
    "from collections import deque\n",
    "\n",
    "n = int(input())\n",
    "\n",
    "queue = deque()\n",
    "cnt = 1\n",
    "\n",
    "for i in map(int, input().split()):\n",
    "    if queue and queue[-1] == i:\n",
    "        cnt += 1\n",
    "    else:\n",
    "        cnt = 1\n",
    "        \n",
    "    queue.append(i)\n",
    "    \n",
    "    \n",
    "    if len(queue) >= i and cnt == i:\n",
    "        for j in range(i):\n",
    "            queue.pop()\n",
    "        cnt = 1\n",
    "        \n",
    "    print(queue)\n",
    "        \n",
    "    print(len(queue))\n",
    "    "
   ]
  },
  {
   "cell_type": "code",
   "execution_count": null,
   "id": "b06e1814",
   "metadata": {},
   "outputs": [],
   "source": [
    "5\n",
    "3 2 3 2 2\n",
    "\n",
    "10\n",
    "2 3 2 3 3 3 2 3 3 2\n",
    "\n",
    "10\n",
    "5 2 4 4 4 3 3 3 4 2\n",
    "답\n",
    "1\n",
    "2\n",
    "3\n",
    "4\n",
    "5\n",
    "6\n",
    "7\n",
    "5\n",
    "2\n",
    "1"
   ]
  },
  {
   "cell_type": "code",
   "execution_count": null,
   "id": "caf2f54a",
   "metadata": {},
   "outputs": [],
   "source": [
    "a = [2,3,2,3,3]"
   ]
  },
  {
   "cell_type": "code",
   "execution_count": null,
   "id": "a250fe0b",
   "metadata": {},
   "outputs": [],
   "source": [
    "a[-3]"
   ]
  },
  {
   "cell_type": "code",
   "execution_count": null,
   "id": "549e15e4",
   "metadata": {},
   "outputs": [],
   "source": [
    "queue"
   ]
  },
  {
   "cell_type": "code",
   "execution_count": null,
   "id": "85fad441",
   "metadata": {},
   "outputs": [],
   "source": [
    "# 3번\n",
    "\n",
    "n, x = map(int, input().split())\n",
    "li = [False] * (x + 1)\n",
    "li[0] = True\n",
    " \n",
    "for _ in range(n):\n",
    "    a, b = map(int, input().split())\n",
    "    \n",
    "    nli = [False] * (x + 1)\n",
    "    for i in range(x, -1, -1):\n",
    "        if i - a >= 0:\n",
    "            if li[i - a]:\n",
    "                nli[i] = True\n",
    "                \n",
    "        if i - b >= 0:\n",
    "            if li[i - b]:\n",
    "                nli[i] = True\n",
    "    li = nli.copy()\n",
    "                \n",
    "if li[x]:\n",
    "    print('Yes')\n",
    "else:\n",
    "    print('No') "
   ]
  },
  {
   "cell_type": "code",
   "execution_count": null,
   "id": "561946af",
   "metadata": {},
   "outputs": [],
   "source": [
    "# 4번\n",
    "\n",
    "n = int(input())\n",
    "li = list(map(int, input().split()))\n",
    "\n",
    "stack = []\n",
    "cur = 0\n",
    "for v in li:\n",
    "    if stack and stack[-1][0] == v:\n",
    "        stack[-1][1] += 1\n",
    "        cur += 1\n",
    "        \n",
    "        if stack[-1][0] == stack[-1][1]:\n",
    "            cur -= stack.pop()[1]\n",
    "    else:\n",
    "        stack.append([v, 1])\n",
    "        cur += 1\n",
    "        \n",
    "    print(cur)"
   ]
  },
  {
   "cell_type": "markdown",
   "id": "4cad1cc5",
   "metadata": {},
   "source": [
    "https://atcoder.jp/contests/abc241/tasks/abc241_a"
   ]
  },
  {
   "cell_type": "code",
   "execution_count": null,
   "id": "4fd62226",
   "metadata": {},
   "outputs": [],
   "source": [
    "lst = list(map(int, input().split()))\n",
    "\n",
    "answer = 0\n",
    "idx = 0\n",
    "for i in range(3):\n",
    "    answer = lst[idx]\n",
    "    idx = answer\n",
    "    \n",
    "print(answer)\n"
   ]
  },
  {
   "cell_type": "markdown",
   "id": "0a5ef6ef",
   "metadata": {},
   "source": [
    "https://atcoder.jp/contests/abc241/tasks/abc241_b"
   ]
  },
  {
   "cell_type": "code",
   "execution_count": null,
   "id": "52159ba2",
   "metadata": {},
   "outputs": [],
   "source": [
    "arr = [5, 1, 3, 19, 21, 2, 128, 100, 28, 27, 7, 25, 20, 500, 90]\n",
    "\n",
    "n = len(arr)\n",
    "\n",
    "maxi_lst = []\n",
    "\n",
    "for i in range(0, n, 5):\n",
    "    temp = 0\n",
    "    \n",
    "    for j in range(i, i+5):\n",
    "        temp = max(temp, arr[j])\n",
    "         \n",
    "    maxi_lst.append(str(temp))\n",
    "    \n",
    "print(''.join(maxi_lst))"
   ]
  },
  {
   "cell_type": "code",
   "execution_count": null,
   "id": "55d4ccdc",
   "metadata": {},
   "outputs": [],
   "source": [
    "arr = [5, 1, 3, 19, 21, 2, 128, 100, 28, 27, 7, 25, 20, 500, 90]\n",
    "\n",
    "n = len(arr)\n",
    "\n",
    "maxi_lst = []\n",
    "\n",
    "for i in range(0, n, 5):\n",
    "    temp = max(arr[i:i+5])\n",
    "         \n",
    "    maxi_lst.append(str(temp))\n",
    "    \n",
    "print(''.join(maxi_lst))"
   ]
  },
  {
   "cell_type": "code",
   "execution_count": null,
   "id": "a414469a",
   "metadata": {},
   "outputs": [],
   "source": [
    "def sol(p, n, h):\n",
    "    answer = 0\n",
    "    \n",
    "    while n != h:\n",
    "        n -= n // 2\n",
    "        h -= h // 2\n",
    "\n",
    "        answer +=1\n",
    "\n",
    "    return answer"
   ]
  },
  {
   "cell_type": "code",
   "execution_count": null,
   "id": "552c7603",
   "metadata": {},
   "outputs": [],
   "source": [
    "def sol(p, n, h):\n",
    "    answer = 0\n",
    "    \n",
    "    return answer"
   ]
  },
  {
   "cell_type": "code",
   "execution_count": null,
   "id": "88212971",
   "metadata": {},
   "outputs": [],
   "source": [
    "t = int(input())\n",
    "\n",
    "for _ in range(t):\n",
    "    input()\n",
    "    lst = defaultdict(int)\n",
    "    \n",
    "    a = set()\n",
    "    b = set()\n",
    "    \n",
    "    for i in range(3):\n",
    "        x, y = map(int, input().split())\n",
    "        \n",
    "        a.add(x)\n",
    "        b.add(y)\n",
    "        \n",
    "    print('NO' if len(a) == 2 and len(b) == 2 else 'YES')\n"
   ]
  },
  {
   "cell_type": "code",
   "execution_count": null,
   "id": "65befb0d",
   "metadata": {},
   "outputs": [],
   "source": [
    "from collections import defaultdict\n",
    "\n",
    "for _ in range(int(input())):\n",
    "    n = int(input())\n",
    "    \n",
    "    lst = list(map(int, input().split()))\n",
    "    \n",
    "    cur = lst[0]\n",
    "    dic = defaultdict(int)\n",
    "    \n",
    "    for i in range(1, n):\n",
    "        dic[str(lst[i])] += 1\n",
    "        \n",
    "    for i in sorted(dic):\n",
    "        temp = int(i)\n",
    "        memo = dic[i]\n",
    "        \n",
    "        while True:\n",
    "            if cur < temp:\n",
    "                cur += 1\n",
    "                memo -= 1\n",
    "                \n",
    "            if cur >= temp or not memo:\n",
    "                break\n",
    "                \n",
    "    print(cur)\n",
    "    \n",
    "    "
   ]
  },
  {
   "cell_type": "code",
   "execution_count": null,
   "id": "43f9e428",
   "metadata": {},
   "outputs": [],
   "source": [
    "import math\n",
    "\n",
    "for _ in range(int(input())):\n",
    "    n = int(input())\n",
    "    \n",
    "    lst = list(map(int, input().split()))\n",
    "    \n",
    "    cur = lst[0]\n",
    "    temp = sorted(lst[1:])\n",
    "\n",
    "    for i in range(n-1):\n",
    "        memo = temp[i]\n",
    "        \n",
    "        if cur >= memo:\n",
    "            continue\n",
    "        \n",
    "        cur += math.ceil((memo - cur) / 2)\n",
    "                \n",
    "    print(cur)\n",
    "    "
   ]
  },
  {
   "cell_type": "code",
   "execution_count": 18,
   "id": "a8dae842",
   "metadata": {},
   "outputs": [],
   "source": [
    "3 3\n",
    "1 1 1\n",
    "2 2 2\n",
    "0 1 0\n",
    "3 3 3\n",
    "4 4 4\n",
    "5 5 100"
   ]
  },
  {
   "cell_type": "code",
   "execution_count": 22,
   "id": "f734b570",
   "metadata": {},
   "outputs": [
    {
     "ename": "TypeError",
     "evalue": "unsupported operand type(s) for +: 'zip' and 'zip'",
     "output_type": "error",
     "traceback": [
      "\u001b[1;31m---------------------------------------------------------------------------\u001b[0m",
      "\u001b[1;31mTypeError\u001b[0m                                 Traceback (most recent call last)",
      "\u001b[1;32m<ipython-input-22-e84a982d2a42>\u001b[0m in \u001b[0;36m<module>\u001b[1;34m\u001b[0m\n\u001b[1;32m----> 1\u001b[1;33m \u001b[0mlist\u001b[0m\u001b[1;33m(\u001b[0m\u001b[0mzip\u001b[0m\u001b[1;33m(\u001b[0m\u001b[0ma\u001b[0m\u001b[1;33m)\u001b[0m \u001b[1;33m+\u001b[0m \u001b[0mzip\u001b[0m\u001b[1;33m(\u001b[0m\u001b[0mb\u001b[0m\u001b[1;33m)\u001b[0m\u001b[1;33m)\u001b[0m\u001b[1;33m\u001b[0m\u001b[1;33m\u001b[0m\u001b[0m\n\u001b[0m",
      "\u001b[1;31mTypeError\u001b[0m: unsupported operand type(s) for +: 'zip' and 'zip'"
     ]
    }
   ],
   "source": [
    "list(zip(a, b))"
   ]
  },
  {
   "cell_type": "code",
   "execution_count": 27,
   "id": "ec9811da",
   "metadata": {},
   "outputs": [
    {
     "ename": "SyntaxError",
     "evalue": "invalid syntax (<ipython-input-27-f35d67280438>, line 4)",
     "output_type": "error",
     "traceback": [
      "\u001b[1;36m  File \u001b[1;32m\"<ipython-input-27-f35d67280438>\"\u001b[1;36m, line \u001b[1;32m4\u001b[0m\n\u001b[1;33m    print(\"TelecomParisTech\" if a * b > c * d elif a * b < c * d \"Eurecom\" else \"Tie\")\u001b[0m\n\u001b[1;37m                                              ^\u001b[0m\n\u001b[1;31mSyntaxError\u001b[0m\u001b[1;31m:\u001b[0m invalid syntax\n"
     ]
    }
   ],
   "source": [
    "\n",
    "for _ in range(int(input())):\n",
    "    a, b, c, d = map(int, input().split())\n",
    "    \n",
    "    if a * b > c * d:\n",
    "        print(\"TelecomParisTech\")\n",
    "    elif a * b < c * d:\n",
    "        print(\"Eurecom\")\n",
    "    else:\n",
    "        print(\"Tie\")\n",
    "    \n",
    "    "
   ]
  },
  {
   "cell_type": "code",
   "execution_count": 24,
   "id": "2f68acfa",
   "metadata": {},
   "outputs": [
    {
     "data": {
      "text/plain": [
       "2"
      ]
     },
     "execution_count": 24,
     "metadata": {},
     "output_type": "execute_result"
    }
   ],
   "source": [
    "2\n",
    "3 2 4 2\n",
    "536874368 268792221 598 1204"
   ]
  },
  {
   "cell_type": "code",
   "execution_count": null,
   "id": "bc431fb7",
   "metadata": {},
   "outputs": [],
   "source": []
  }
 ],
 "metadata": {
  "kernelspec": {
   "display_name": "Python 3",
   "language": "python",
   "name": "python3"
  },
  "language_info": {
   "codemirror_mode": {
    "name": "ipython",
    "version": 3
   },
   "file_extension": ".py",
   "mimetype": "text/x-python",
   "name": "python",
   "nbconvert_exporter": "python",
   "pygments_lexer": "ipython3",
   "version": "3.8.8"
  }
 },
 "nbformat": 4,
 "nbformat_minor": 5
}
