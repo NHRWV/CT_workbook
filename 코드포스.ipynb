{
 "cells": [
  {
   "cell_type": "markdown",
   "id": "8d9742e3",
   "metadata": {},
   "source": [
    "https://codeforces.com/contest/1598/problem/A"
   ]
  },
  {
   "cell_type": "code",
   "execution_count": null,
   "id": "5adf6268",
   "metadata": {},
   "outputs": [],
   "source": [
    "from collections import deque\n",
    "\n",
    "dx = [-1, 1, 0, 0, -1, -1, 1, 1]\n",
    "dy = [0, 0, -1, 1, -1, 1, 1, -1]\n",
    "\n",
    "t = int(input())\n",
    "for i in range(t):\n",
    "    n = int(input())\n",
    "    \n",
    "    board = []\n",
    "    for j in range(2):\n",
    "        board.append(list(map(int, input())))\n",
    "        \n",
    "    queue = deque([(0, 0)])\n",
    "    \n",
    "    while queue:\n",
    "        x, y = queue.popleft()\n",
    "        \n",
    "        \n",
    "        for j in range(8):\n",
    "            nx = x + dx[j]\n",
    "            ny = y + dy[j]\n",
    "            \n",
    "            if nx < 0 or nx >= 2 or ny < 0 or ny >= n:\n",
    "                continue\n",
    "                \n",
    "            if board[nx][ny] == 0:\n",
    "                board[nx][ny] = board[x][y] - 1\n",
    "                queue.append((nx, ny))\n",
    "                \n",
    "                \n",
    "    if board[1][n-1] != 0:\n",
    "        print('YES')\n",
    "        \n",
    "    else:\n",
    "        print('NO')\n",
    "    \n",
    "        \n",
    "        \n",
    "    "
   ]
  },
  {
   "cell_type": "markdown",
   "id": "f2c15da3",
   "metadata": {},
   "source": [
    "https://codeforces.com/contest/1598/problem/B"
   ]
  },
  {
   "cell_type": "code",
   "execution_count": null,
   "id": "72efe5c9",
   "metadata": {},
   "outputs": [],
   "source": [
    "\n",
    "\n",
    "\n",
    "t = int(input())\n",
    "for _ in range(t):\n",
    "    n = int(input())\n",
    "    \n",
    "    mat = []\n",
    "    lst = [[] for i in range(5)]\n",
    "    count = [0] * 5\n",
    "    \n",
    "    for i in range(n):\n",
    "        a = list(map(int, input().split()))\n",
    "        for j in range(5):\n",
    "            if a[j] == 1:\n",
    "                lst[j].append(i)\n",
    "                count[j] += 1\n",
    "                \n",
    "    chk = 0\n",
    "    for i in range(5):\n",
    "        if count[i] < n//2:\n",
    "            continue\n",
    "            \n",
    "        check = 0\n",
    "        target = set(lst[i])\n",
    "        for j in range(i+1, 5):\n",
    "            if count[j] < n//2:\n",
    "                continue\n",
    "                \n",
    "            if len(target | set(lst[j])) == n:\n",
    "                check = 1\n",
    "                break\n",
    "                \n",
    "        if check:\n",
    "            chk = 1\n",
    "            break\n",
    "            \n",
    "    if chk:\n",
    "        print('YES')\n",
    "    else:\n",
    "        print('NO')\n",
    "            \n",
    "            "
   ]
  },
  {
   "cell_type": "code",
   "execution_count": null,
   "id": "dc4d4151",
   "metadata": {},
   "outputs": [],
   "source": [
    "a, b = map(int, input().split())\n",
    "\n",
    "if b - a == 1 or b - a == 9:\n",
    "    print('Yes')\n",
    "else:\n",
    "    print('No')"
   ]
  },
  {
   "cell_type": "code",
   "execution_count": null,
   "id": "6a8a15a9",
   "metadata": {},
   "outputs": [],
   "source": [
    "n = int(input())\n",
    "seq = set(list(map(int, input().split())))\n",
    "\n",
    "print(len(seq))"
   ]
  },
  {
   "cell_type": "code",
   "execution_count": 33,
   "id": "8a5efae9",
   "metadata": {},
   "outputs": [
    {
     "name": "stdout",
     "output_type": "stream",
     "text": [
      "2 10\n",
      "2 6\n",
      "4 5\n",
      "Yes\n"
     ]
    }
   ],
   "source": [
    "from collections import deque\n",
    "import sys\n",
    "\n",
    "n, x = map(int, input().split())\n",
    "\n",
    "board = []\n",
    "for i in range(n):\n",
    "    board.append(list(map(int, input().split())))\n",
    "    \n",
    "dx = [1, 1, 1]\n",
    "dy = [0, -1, 1]\n",
    "\n",
    "queue = deque([(-1, 0, 0)])\n",
    "\n",
    "def sol(n, x):\n",
    "    while queue:\n",
    "        a, b, hab = queue.popleft()\n",
    "    \n",
    "        \n",
    "        if a == n-1 and hab == x:\n",
    "            answer = 'Yes'\n",
    "            return answer\n",
    "            \n",
    "        \n",
    "    \n",
    "        for i in range(3):\n",
    "            nx = a + dx[i]\n",
    "            ny = b + dy[i]\n",
    "        \n",
    "            if ny < 0 or nx >= n or ny >= 2:\n",
    "                continue\n",
    "            \n",
    "            if hab + board[nx][ny] <= x:\n",
    "                queue.append((nx, ny, hab + board[nx][ny]))\n",
    "        \n",
    "    answer = 'No'\n",
    "    return answer\n",
    "\n",
    "print(sol(n, x))\n"
   ]
  },
  {
   "cell_type": "markdown",
   "id": "3b3bf999",
   "metadata": {},
   "source": [
    "## 2 10\n",
    "3 6\n",
    "4 5\n",
    "\n",
    "4 12\n",
    "1 8\n",
    "5 7\n",
    "3 4\n",
    "2 6\n",
    "\n",
    "2 10\n",
    "10 100\n",
    "10 100\n"
   ]
  },
  {
   "cell_type": "code",
   "execution_count": 20,
   "id": "a189f1f9",
   "metadata": {},
   "outputs": [
    {
     "name": "stdout",
     "output_type": "stream",
     "text": [
      "10\n",
      "2 3 2 3 3 3 2 3 3 2\n",
      "1\n",
      "2\n",
      "3\n",
      "4\n",
      "5\n",
      "3\n",
      "2\n",
      "3\n",
      "1\n",
      "0\n"
     ]
    }
   ],
   "source": [
    "from collections import deque\n",
    "\n",
    "n = int(input())\n",
    "\n",
    "queue = deque()\n",
    "\n",
    "for i in map(int, input().split()):\n",
    "    queue.append(i)\n",
    "    \n",
    "    if len(queue) >= i and queue[-2] == i:\n",
    "        chk = 1\n",
    "        for j in range(2, i+1):\n",
    "            if queue[-j] != i:\n",
    "                chk = 0\n",
    "                break\n",
    "                \n",
    "        if chk:\n",
    "            for j in range(i):\n",
    "                queue.pop()\n",
    "                \n",
    "        \n",
    "    print(len(queue))\n",
    "    "
   ]
  },
  {
   "cell_type": "code",
   "execution_count": 35,
   "id": "424eb64f",
   "metadata": {},
   "outputs": [
    {
     "name": "stdout",
     "output_type": "stream",
     "text": [
      "10\n",
      "5 2 4 4 4 3 3 3 4 2\n",
      "deque([5])\n",
      "1\n",
      "deque([5, 2])\n",
      "2\n",
      "deque([5, 2, 4])\n",
      "3\n",
      "deque([5, 2, 4, 4])\n",
      "4\n",
      "deque([5, 2, 4, 4, 4])\n",
      "5\n",
      "deque([5, 2, 4, 4, 4, 3])\n",
      "6\n",
      "deque([5, 2, 4, 4, 4, 3, 3])\n",
      "7\n",
      "deque([5, 2, 4, 4, 4])\n",
      "5\n",
      "deque([5, 2, 4, 4, 4, 4])\n",
      "6\n",
      "deque([5, 2, 4, 4, 4, 4, 2])\n",
      "7\n"
     ]
    }
   ],
   "source": [
    "from collections import deque\n",
    "\n",
    "n = int(input())\n",
    "\n",
    "queue = deque()\n",
    "cnt = 1\n",
    "\n",
    "for i in map(int, input().split()):\n",
    "    if queue and queue[-1] == i:\n",
    "        cnt += 1\n",
    "    else:\n",
    "        cnt = 1\n",
    "        \n",
    "    queue.append(i)\n",
    "    \n",
    "    \n",
    "    if len(queue) >= i and cnt == i:\n",
    "        for j in range(i):\n",
    "            queue.pop()\n",
    "        cnt = 1\n",
    "        \n",
    "    print(queue)\n",
    "        \n",
    "    print(len(queue))\n",
    "    "
   ]
  },
  {
   "cell_type": "code",
   "execution_count": 10,
   "id": "b06e1814",
   "metadata": {},
   "outputs": [],
   "source": [
    "5\n",
    "3 2 3 2 2\n",
    "\n",
    "10\n",
    "2 3 2 3 3 3 2 3 3 2\n",
    "\n",
    "10\n",
    "5 2 4 4 4 3 3 3 4 2\n",
    "답\n",
    "1\n",
    "2\n",
    "3\n",
    "4\n",
    "5\n",
    "6\n",
    "7\n",
    "5\n",
    "2\n",
    "1"
   ]
  },
  {
   "cell_type": "code",
   "execution_count": 15,
   "id": "caf2f54a",
   "metadata": {},
   "outputs": [],
   "source": [
    "a = [2,3,2,3,3]"
   ]
  },
  {
   "cell_type": "code",
   "execution_count": 17,
   "id": "a250fe0b",
   "metadata": {},
   "outputs": [
    {
     "data": {
      "text/plain": [
       "2"
      ]
     },
     "execution_count": 17,
     "metadata": {},
     "output_type": "execute_result"
    }
   ],
   "source": [
    "a[-3]"
   ]
  },
  {
   "cell_type": "code",
   "execution_count": 24,
   "id": "549e15e4",
   "metadata": {},
   "outputs": [
    {
     "data": {
      "text/plain": [
       "deque([3, 2, 3, 2, 2])"
      ]
     },
     "execution_count": 24,
     "metadata": {},
     "output_type": "execute_result"
    }
   ],
   "source": [
    "queue"
   ]
  },
  {
   "cell_type": "code",
   "execution_count": null,
   "id": "85fad441",
   "metadata": {},
   "outputs": [],
   "source": [
    "# 3번\n",
    "\n",
    "n, x = map(int, input().split())\n",
    "li = [False] * (x + 1)\n",
    "li[0] = True\n",
    " \n",
    "for _ in range(n):\n",
    "    a, b = map(int, input().split())\n",
    "    \n",
    "    nli = [False] * (x + 1)\n",
    "    for i in range(x, -1, -1):\n",
    "        if i - a >= 0:\n",
    "            if li[i - a]:\n",
    "                nli[i] = True\n",
    "                \n",
    "        if i - b >= 0:\n",
    "            if li[i - b]:\n",
    "                nli[i] = True\n",
    "    li = nli.copy()\n",
    "                \n",
    "if li[x]:\n",
    "    print('Yes')\n",
    "else:\n",
    "    print('No') "
   ]
  },
  {
   "cell_type": "code",
   "execution_count": null,
   "id": "561946af",
   "metadata": {},
   "outputs": [],
   "source": [
    "# 4번\n",
    "\n",
    "n = int(input())\n",
    "li = list(map(int, input().split()))\n",
    "\n",
    "stack = []\n",
    "cur = 0\n",
    "for v in li:\n",
    "    if stack and stack[-1][0] == v:\n",
    "        stack[-1][1] += 1\n",
    "        cur += 1\n",
    "        \n",
    "        if stack[-1][0] == stack[-1][1]:\n",
    "            cur -= stack.pop()[1]\n",
    "    else:\n",
    "        stack.append([v, 1])\n",
    "        cur += 1\n",
    "        \n",
    "    print(cur)"
   ]
  },
  {
   "cell_type": "markdown",
   "id": "4cad1cc5",
   "metadata": {},
   "source": [
    "https://atcoder.jp/contests/abc241/tasks/abc241_a"
   ]
  },
  {
   "cell_type": "code",
   "execution_count": 4,
   "id": "4fd62226",
   "metadata": {},
   "outputs": [
    {
     "name": "stdout",
     "output_type": "stream",
     "text": [
      "4 8 8 8 0 8 8 8 8 8\n",
      "4\n"
     ]
    }
   ],
   "source": [
    "lst = list(map(int, input().split()))\n",
    "\n",
    "answer = 0\n",
    "idx = 0\n",
    "for i in range(3):\n",
    "    answer = lst[idx]\n",
    "    idx = answer\n",
    "    \n",
    "print(answer)\n"
   ]
  },
  {
   "cell_type": "markdown",
   "id": "0a5ef6ef",
   "metadata": {},
   "source": [
    "https://atcoder.jp/contests/abc241/tasks/abc241_b"
   ]
  },
  {
   "cell_type": "code",
   "execution_count": 7,
   "id": "39d2ae13",
   "metadata": {},
   "outputs": [
    {
     "name": "stdout",
     "output_type": "stream",
     "text": [
      "5 2\n",
      "1 2 3 4 5\n",
      "5 5\n",
      "No\n"
     ]
    },
    {
     "ename": "SystemExit",
     "evalue": "",
     "output_type": "error",
     "traceback": [
      "An exception has occurred, use %tb to see the full traceback.\n",
      "\u001b[1;31mSystemExit\u001b[0m\n"
     ]
    },
    {
     "name": "stderr",
     "output_type": "stream",
     "text": [
      "C:\\Users\\Namlister\\anaconda3\\lib\\site-packages\\IPython\\core\\interactiveshell.py:3445: UserWarning: To exit: use 'exit', 'quit', or Ctrl-D.\n",
      "  warn(\"To exit: use 'exit', 'quit', or Ctrl-D.\", stacklevel=1)\n"
     ]
    }
   ],
   "source": [
    "import sys\n",
    "\n",
    "n, m = map(int, input().split())\n",
    "\n",
    "lsta = list(map(int, input().split()))\n",
    "\n",
    "for i in map(int, input().split()):\n",
    "    if i in lsta:\n",
    "        lsta.remove(i)\n",
    "    else:\n",
    "        print('No')\n",
    "        sys.exit()\n",
    "        \n",
    "print('Yes')\n"
   ]
  },
  {
   "cell_type": "code",
   "execution_count": null,
   "id": "0c823e69",
   "metadata": {},
   "outputs": [],
   "source": [
    "3 2\n",
    "1 1 3\n",
    "3 1\n",
    "\n",
    "1 1\n",
    "1000000000\n",
    "1\n",
    "\n",
    "5 2\n",
    "1 2 3 4 5\n",
    "5 5\n"
   ]
  },
  {
   "cell_type": "code",
   "execution_count": 8,
   "id": "626c4e3a",
   "metadata": {},
   "outputs": [
    {
     "data": {
      "text/plain": [
       "{1, 2, 3, 4}"
      ]
     },
     "execution_count": 8,
     "metadata": {},
     "output_type": "execute_result"
    }
   ],
   "source": [
    "lsta"
   ]
  },
  {
   "cell_type": "markdown",
   "id": "c6b6844f",
   "metadata": {},
   "source": [
    "https://atcoder.jp/contests/abc241/tasks/abc241_d"
   ]
  },
  {
   "cell_type": "code",
   "execution_count": 15,
   "id": "7fe32872",
   "metadata": {},
   "outputs": [
    {
     "name": "stdout",
     "output_type": "stream",
     "text": [
      "11\n",
      "1 20\n",
      "1 10\n",
      "1 30\n",
      "1 20\n",
      "3 15 1\n",
      "-1\n",
      "3 15 2\n",
      "20\n",
      "3 15 3\n",
      "20\n",
      "3 15 4\n",
      "30\n",
      "2 100 5\n",
      "-1\n",
      "1 1\n",
      "2 100 5\n",
      "1\n"
     ]
    }
   ],
   "source": [
    "q = int(input())\n",
    "\n",
    "\n",
    "queue = []\n",
    "for _ in range(q):\n",
    "    order = list(map(int, input().split()))\n",
    "    \n",
    "    if order[0] == 1:\n",
    "        queue.append(order[1])\n",
    "        \n",
    "    elif order[0] == 2:\n",
    "        queue.sort(reverse = True)\n",
    "        \n",
    "        if order[2] <= len(queue) and queue[order[2]-1] <= order[1]:\n",
    "            print(queue[order[2]-1])\n",
    "        else:\n",
    "            print(-1)\n",
    "            \n",
    "    elif order[0] == 3:\n",
    "        queue.sort()\n",
    "        \n",
    "        if order[2] <= len(queue) and queue[order[2]-1] >= order[1]:\n",
    "            print(queue[order[2]-1])\n",
    "        else:\n",
    "            print(-1)        "
   ]
  },
  {
   "cell_type": "code",
   "execution_count": 10,
   "id": "094ae3dc",
   "metadata": {},
   "outputs": [],
   "source": [
    "11\n",
    "1 20\n",
    "1 10\n",
    "1 30\n",
    "1 20\n",
    "3 15 1\n",
    "3 15 2\n",
    "3 15 3\n",
    "3 15 4\n",
    "2 100 5\n",
    "1 1\n",
    "2 100 5\n"
   ]
  },
  {
   "cell_type": "code",
   "execution_count": null,
   "id": "12e231c2",
   "metadata": {},
   "outputs": [],
   "source": [
    "import heapq\n",
    "\n",
    "q = int(input())\n",
    "\n",
    "heap1 = []\n",
    "heap2 = []\n",
    "\n",
    "for i in range(q):\n",
    "    order = list(map(int, input().split()))\n",
    "    \n",
    "    if order[0] == 1:\n",
    "        heapq.heappush(heap1, order[1])\n",
    "        heapq.heappush(heap2, -order[1])\n",
    "        \n",
    "    elif order[0] == 2:\n",
    "        if order[2] <= i+1:\n",
    "            temp = []\n",
    "            cnt = 0\n",
    "            check = 0\n",
    "            while heap2:\n",
    "                a = heapq.heappop(heap2)\n",
    "                if -a <= order[1]:\n",
    "                    cnt += 1\n",
    "                    \n",
    "                if cnt == order[2]:\n",
    "                    print(-a)\n",
    "                    check = 1\n",
    "                    temp.append(a)\n",
    "                    break\n",
    "                    \n",
    "                temp.append(a)\n",
    "                \n",
    "            if not check:\n",
    "                print(-1)\n",
    "                \n",
    "            for j in temp:\n",
    "                heapq.heappush(heap2, j)\n",
    "                \n",
    "        else:\n",
    "            print(-1)\n",
    "                \n",
    "    elif order[0] == 3:\n",
    "        if order[2] <= i+1:\n",
    "            temp = []\n",
    "            cnt = 0\n",
    "            check = 0\n",
    "            while heap1:\n",
    "                a = heapq.heappop(heap1)\n",
    "                if a >= order[1]:\n",
    "                    cnt += 1\n",
    "                    \n",
    "                if cnt == order[2]:\n",
    "                    print(a)\n",
    "                    check = 1\n",
    "                    temp.append(a)\n",
    "                    break\n",
    "                    \n",
    "                temp.append(a)\n",
    "                \n",
    "            if not check:\n",
    "                print(-1)\n",
    "                \n",
    "            for j in temp:\n",
    "                heapq.heappush(heap1, j)\n",
    "              \n",
    "        else:\n",
    "            print(-1)\n",
    "            "
   ]
  },
  {
   "cell_type": "code",
   "execution_count": 102,
   "id": "721ba831",
   "metadata": {},
   "outputs": [
    {
     "name": "stdout",
     "output_type": "stream",
     "text": [
      "4\n",
      "CBAA\n",
      "BAA\n",
      "['', 'AAB']\n",
      "\n",
      "CAAB\n"
     ]
    }
   ],
   "source": [
    "n = int(input())\n",
    "s = input()\n",
    "\n",
    "\n",
    "s = s.split('C')\n",
    "\n",
    "for i in range(len(s)):\n",
    "    if s[i] == '':\n",
    "        continue\n",
    "    \n",
    "    \n",
    "    if 'BB' in s[i]:\n",
    "        s[i] = s[i].replace('BB', 'A')\n",
    "        \n",
    "    \n",
    "        \n",
    "    s[i] = ''.join(sorted(list(s[i])))\n",
    "    \n",
    "  \n",
    "    \n",
    "    \n",
    "print('C'.join(s))"
   ]
  },
  {
   "cell_type": "code",
   "execution_count": 80,
   "id": "8f56e8a8",
   "metadata": {
    "scrolled": true
   },
   "outputs": [
    {
     "name": "stdout",
     "output_type": "stream",
     "text": [
      "4\n",
      "CBAA\n",
      "CBAA\n"
     ]
    }
   ],
   "source": [
    "n = int(input())\n",
    "s = input()\n",
    "\n",
    "def sol(t):\n",
    "    for i in t:\n",
    "        i = sorted(i)\n",
    "        \n",
    "    return t\n",
    "\n",
    "while True:\n",
    "    if s.split('C') == sol(s.split('C')) and 'BB' not in s:\n",
    "        print(s)\n",
    "        \n",
    "        break\n",
    "    \n",
    "    if 'A' in s:\n",
    "        s = s.replace('A', 'BB')\n",
    "        \n",
    "            \n",
    "        \n",
    "    if 'BB' in s:\n",
    "        s = s.replace('BB', 'A')\n",
    "                \n",
    "        if s.split('C') == sol(s.split('C')):\n",
    "            print(s)\n",
    "            break\n",
    "   \n",
    "    "
   ]
  },
  {
   "cell_type": "code",
   "execution_count": 42,
   "id": "5d9f50b9",
   "metadata": {},
   "outputs": [
    {
     "data": {
      "text/plain": [
       "'A'"
      ]
     },
     "execution_count": 42,
     "metadata": {},
     "output_type": "execute_result"
    }
   ],
   "source": [
    "6\n",
    "BBBCBB\n",
    "\n",
    "4\n",
    "CBAA\n"
   ]
  },
  {
   "cell_type": "code",
   "execution_count": 91,
   "id": "cc528180",
   "metadata": {},
   "outputs": [],
   "source": [
    "s = ['', 'BAA']"
   ]
  },
  {
   "cell_type": "code",
   "execution_count": 92,
   "id": "aa1c4037",
   "metadata": {},
   "outputs": [
    {
     "data": {
      "text/plain": [
       "'cBAA'"
      ]
     },
     "execution_count": 92,
     "metadata": {},
     "output_type": "execute_result"
    }
   ],
   "source": [
    "'c'.join(s)"
   ]
  },
  {
   "cell_type": "code",
   "execution_count": 77,
   "id": "22626afe",
   "metadata": {},
   "outputs": [
    {
     "data": {
      "text/plain": [
       "['A', 'AB']"
      ]
     },
     "execution_count": 77,
     "metadata": {},
     "output_type": "execute_result"
    }
   ],
   "source": [
    "sorted(s.split('C'))"
   ]
  },
  {
   "cell_type": "code",
   "execution_count": 67,
   "id": "9e9726bf",
   "metadata": {},
   "outputs": [
    {
     "name": "stdout",
     "output_type": "stream",
     "text": [
      "None\n"
     ]
    }
   ],
   "source": [
    "print(b)"
   ]
  },
  {
   "cell_type": "code",
   "execution_count": 89,
   "id": "1de92c5d",
   "metadata": {},
   "outputs": [],
   "source": [
    "s = [12, 2]"
   ]
  },
  {
   "cell_type": "code",
   "execution_count": 90,
   "id": "4f6b8de0",
   "metadata": {},
   "outputs": [
    {
     "ename": "TypeError",
     "evalue": "sequence item 0: expected str instance, int found",
     "output_type": "error",
     "traceback": [
      "\u001b[1;31m---------------------------------------------------------------------------\u001b[0m",
      "\u001b[1;31mTypeError\u001b[0m                                 Traceback (most recent call last)",
      "\u001b[1;32m<ipython-input-90-f83c92175e8e>\u001b[0m in \u001b[0;36m<module>\u001b[1;34m\u001b[0m\n\u001b[1;32m----> 1\u001b[1;33m \u001b[0ma\u001b[0m \u001b[1;33m=\u001b[0m \u001b[1;34m''\u001b[0m\u001b[1;33m.\u001b[0m\u001b[0mjoin\u001b[0m\u001b[1;33m(\u001b[0m\u001b[0ms\u001b[0m\u001b[1;33m)\u001b[0m\u001b[1;33m\u001b[0m\u001b[1;33m\u001b[0m\u001b[0m\n\u001b[0m",
      "\u001b[1;31mTypeError\u001b[0m: sequence item 0: expected str instance, int found"
     ]
    }
   ],
   "source": [
    "a = ''.join(s)"
   ]
  },
  {
   "cell_type": "code",
   "execution_count": 88,
   "id": "ec049ba7",
   "metadata": {},
   "outputs": [
    {
     "data": {
      "text/plain": [
       "'ab'"
      ]
     },
     "execution_count": 88,
     "metadata": {},
     "output_type": "execute_result"
    }
   ],
   "source": [
    "a"
   ]
  },
  {
   "cell_type": "code",
   "execution_count": 25,
   "id": "bc6afee8",
   "metadata": {},
   "outputs": [
    {
     "name": "stdout",
     "output_type": "stream",
     "text": [
      "4\n",
      "3 1 4 5\n",
      "4 1 5 3\n",
      "Yes\n"
     ]
    }
   ],
   "source": [
    "n = int(input())\n",
    "a = list(map(int, input().split()))\n",
    "b = list(map(int, input().split()))\n",
    "\n",
    "a.sort()\n",
    "b.sort()\n",
    "\n",
    "if a == b:\n",
    "    print('Yes')\n",
    "else:\n",
    "    print('No')"
   ]
  },
  {
   "cell_type": "code",
   "execution_count": 17,
   "id": "88c7ccee",
   "metadata": {},
   "outputs": [],
   "source": [
    "4\n",
    "3 1 4 5\n",
    "4 1 5 3\n"
   ]
  },
  {
   "cell_type": "code",
   "execution_count": 26,
   "id": "5374aa2f",
   "metadata": {},
   "outputs": [
    {
     "data": {
      "text/plain": [
       "True"
      ]
     },
     "execution_count": 26,
     "metadata": {},
     "output_type": "execute_result"
    }
   ],
   "source": [
    "a == b"
   ]
  },
  {
   "cell_type": "code",
   "execution_count": 33,
   "id": "ef1764e4",
   "metadata": {},
   "outputs": [],
   "source": [
    "a = 'a'"
   ]
  },
  {
   "cell_type": "code",
   "execution_count": 34,
   "id": "3a3a3db3",
   "metadata": {},
   "outputs": [
    {
     "data": {
      "text/plain": [
       "'a'"
      ]
     },
     "execution_count": 34,
     "metadata": {},
     "output_type": "execute_result"
    }
   ],
   "source": [
    "a.replace('bb', 'c')"
   ]
  },
  {
   "cell_type": "code",
   "execution_count": 71,
   "id": "548f4183",
   "metadata": {},
   "outputs": [],
   "source": [
    "a = 'ab'"
   ]
  },
  {
   "cell_type": "code",
   "execution_count": 72,
   "id": "73c5f5e3",
   "metadata": {},
   "outputs": [
    {
     "data": {
      "text/plain": [
       "['ab']"
      ]
     },
     "execution_count": 72,
     "metadata": {},
     "output_type": "execute_result"
    }
   ],
   "source": [
    "a.split('c')"
   ]
  },
  {
   "cell_type": "code",
   "execution_count": null,
   "id": "52159ba2",
   "metadata": {},
   "outputs": [],
   "source": [
    "while True:\n",
    "    if list(s.replace('C', '')) == list(s.replace('C', '')).sort():\n",
    "        print(s)\n",
    "        break\n",
    "    \n",
    "    if 'A' in s:\n",
    "        s = s.replace('A', 'BB')\n",
    "        \n",
    "        if list(s.replace('C', '')) == list(s.replace('C', '')).sort():\n",
    "            print(s)\n",
    "            break\n",
    "        continue\n",
    "            \n",
    "        \n",
    "    if 'BB' in s:\n",
    "        s = s.replace('BB', 'A')\n",
    "                \n",
    "        if list(s.replace('C', '')) == list(s.replace('C', '')).sort():\n",
    "            print(s)\n",
    "            break\n",
    "            "
   ]
  }
 ],
 "metadata": {
  "kernelspec": {
   "display_name": "Python 3",
   "language": "python",
   "name": "python3"
  },
  "language_info": {
   "codemirror_mode": {
    "name": "ipython",
    "version": 3
   },
   "file_extension": ".py",
   "mimetype": "text/x-python",
   "name": "python",
   "nbconvert_exporter": "python",
   "pygments_lexer": "ipython3",
   "version": "3.8.8"
  }
 },
 "nbformat": 4,
 "nbformat_minor": 5
}
