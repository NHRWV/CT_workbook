{
 "cells": [
  {
   "cell_type": "markdown",
   "id": "8d9742e3",
   "metadata": {},
   "source": [
    "https://codeforces.com/contest/1598/problem/A"
   ]
  },
  {
   "cell_type": "code",
   "execution_count": null,
   "id": "5adf6268",
   "metadata": {},
   "outputs": [],
   "source": [
    "from collections import deque\n",
    "\n",
    "dx = [-1, 1, 0, 0, -1, -1, 1, 1]\n",
    "dy = [0, 0, -1, 1, -1, 1, 1, -1]\n",
    "\n",
    "t = int(input())\n",
    "for i in range(t):\n",
    "    n = int(input())\n",
    "    \n",
    "    board = []\n",
    "    for j in range(2):\n",
    "        board.append(list(map(int, input())))\n",
    "        \n",
    "    queue = deque([(0, 0)])\n",
    "    \n",
    "    while queue:\n",
    "        x, y = queue.popleft()\n",
    "        \n",
    "        \n",
    "        for j in range(8):\n",
    "            nx = x + dx[j]\n",
    "            ny = y + dy[j]\n",
    "            \n",
    "            if nx < 0 or nx >= 2 or ny < 0 or ny >= n:\n",
    "                continue\n",
    "                \n",
    "            if board[nx][ny] == 0:\n",
    "                board[nx][ny] = board[x][y] - 1\n",
    "                queue.append((nx, ny))\n",
    "                \n",
    "                \n",
    "    if board[1][n-1] != 0:\n",
    "        print('YES')\n",
    "        \n",
    "    else:\n",
    "        print('NO')\n",
    "    \n",
    "        \n",
    "        \n",
    "    "
   ]
  },
  {
   "cell_type": "markdown",
   "id": "f2c15da3",
   "metadata": {},
   "source": [
    "https://codeforces.com/contest/1598/problem/B"
   ]
  },
  {
   "cell_type": "code",
   "execution_count": null,
   "id": "72efe5c9",
   "metadata": {},
   "outputs": [],
   "source": [
    "\n",
    "\n",
    "\n",
    "t = int(input())\n",
    "for _ in range(t):\n",
    "    n = int(input())\n",
    "    \n",
    "    mat = []\n",
    "    lst = [[] for i in range(5)]\n",
    "    count = [0] * 5\n",
    "    \n",
    "    for i in range(n):\n",
    "        a = list(map(int, input().split()))\n",
    "        for j in range(5):\n",
    "            if a[j] == 1:\n",
    "                lst[j].append(i)\n",
    "                count[j] += 1\n",
    "                \n",
    "    chk = 0\n",
    "    for i in range(5):\n",
    "        if count[i] < n//2:\n",
    "            continue\n",
    "            \n",
    "        check = 0\n",
    "        target = set(lst[i])\n",
    "        for j in range(i+1, 5):\n",
    "            if count[j] < n//2:\n",
    "                continue\n",
    "                \n",
    "            if len(target | set(lst[j])) == n:\n",
    "                check = 1\n",
    "                break\n",
    "                \n",
    "        if check:\n",
    "            chk = 1\n",
    "            break\n",
    "            \n",
    "    if chk:\n",
    "        print('YES')\n",
    "    else:\n",
    "        print('NO')\n",
    "            \n",
    "            "
   ]
  },
  {
   "cell_type": "code",
   "execution_count": null,
   "id": "dc4d4151",
   "metadata": {},
   "outputs": [],
   "source": [
    "a, b = map(int, input().split())\n",
    "\n",
    "if b - a == 1 or b - a == 9:\n",
    "    print('Yes')\n",
    "else:\n",
    "    print('No')"
   ]
  },
  {
   "cell_type": "code",
   "execution_count": null,
   "id": "6a8a15a9",
   "metadata": {},
   "outputs": [],
   "source": [
    "n = int(input())\n",
    "seq = set(list(map(int, input().split())))\n",
    "\n",
    "print(len(seq))"
   ]
  },
  {
   "cell_type": "code",
   "execution_count": 33,
   "id": "8a5efae9",
   "metadata": {},
   "outputs": [
    {
     "name": "stdout",
     "output_type": "stream",
     "text": [
      "2 10\n",
      "2 6\n",
      "4 5\n",
      "Yes\n"
     ]
    }
   ],
   "source": [
    "from collections import deque\n",
    "import sys\n",
    "\n",
    "n, x = map(int, input().split())\n",
    "\n",
    "board = []\n",
    "for i in range(n):\n",
    "    board.append(list(map(int, input().split())))\n",
    "    \n",
    "dx = [1, 1, 1]\n",
    "dy = [0, -1, 1]\n",
    "\n",
    "queue = deque([(-1, 0, 0)])\n",
    "\n",
    "def sol(n, x):\n",
    "    while queue:\n",
    "        a, b, hab = queue.popleft()\n",
    "    \n",
    "        \n",
    "        if a == n-1 and hab == x:\n",
    "            answer = 'Yes'\n",
    "            return answer\n",
    "            \n",
    "        \n",
    "    \n",
    "        for i in range(3):\n",
    "            nx = a + dx[i]\n",
    "            ny = b + dy[i]\n",
    "        \n",
    "            if ny < 0 or nx >= n or ny >= 2:\n",
    "                continue\n",
    "            \n",
    "            if hab + board[nx][ny] <= x:\n",
    "                queue.append((nx, ny, hab + board[nx][ny]))\n",
    "        \n",
    "    answer = 'No'\n",
    "    return answer\n",
    "\n",
    "print(sol(n, x))\n"
   ]
  },
  {
   "cell_type": "markdown",
   "id": "3b3bf999",
   "metadata": {},
   "source": [
    "## 2 10\n",
    "3 6\n",
    "4 5\n",
    "\n",
    "4 12\n",
    "1 8\n",
    "5 7\n",
    "3 4\n",
    "2 6\n",
    "\n",
    "2 10\n",
    "10 100\n",
    "10 100\n"
   ]
  },
  {
   "cell_type": "code",
   "execution_count": 20,
   "id": "a189f1f9",
   "metadata": {},
   "outputs": [
    {
     "name": "stdout",
     "output_type": "stream",
     "text": [
      "10\n",
      "2 3 2 3 3 3 2 3 3 2\n",
      "1\n",
      "2\n",
      "3\n",
      "4\n",
      "5\n",
      "3\n",
      "2\n",
      "3\n",
      "1\n",
      "0\n"
     ]
    }
   ],
   "source": [
    "from collections import deque\n",
    "\n",
    "n = int(input())\n",
    "\n",
    "queue = deque()\n",
    "\n",
    "for i in map(int, input().split()):\n",
    "    queue.append(i)\n",
    "    \n",
    "    if len(queue) >= i and queue[-2] == i:\n",
    "        chk = 1\n",
    "        for j in range(2, i+1):\n",
    "            if queue[-j] != i:\n",
    "                chk = 0\n",
    "                break\n",
    "                \n",
    "        if chk:\n",
    "            for j in range(i):\n",
    "                queue.pop()\n",
    "                \n",
    "        \n",
    "    print(len(queue))\n",
    "    "
   ]
  },
  {
   "cell_type": "code",
   "execution_count": 35,
   "id": "424eb64f",
   "metadata": {},
   "outputs": [
    {
     "name": "stdout",
     "output_type": "stream",
     "text": [
      "10\n",
      "5 2 4 4 4 3 3 3 4 2\n",
      "deque([5])\n",
      "1\n",
      "deque([5, 2])\n",
      "2\n",
      "deque([5, 2, 4])\n",
      "3\n",
      "deque([5, 2, 4, 4])\n",
      "4\n",
      "deque([5, 2, 4, 4, 4])\n",
      "5\n",
      "deque([5, 2, 4, 4, 4, 3])\n",
      "6\n",
      "deque([5, 2, 4, 4, 4, 3, 3])\n",
      "7\n",
      "deque([5, 2, 4, 4, 4])\n",
      "5\n",
      "deque([5, 2, 4, 4, 4, 4])\n",
      "6\n",
      "deque([5, 2, 4, 4, 4, 4, 2])\n",
      "7\n"
     ]
    }
   ],
   "source": [
    "from collections import deque\n",
    "\n",
    "n = int(input())\n",
    "\n",
    "queue = deque()\n",
    "cnt = 1\n",
    "\n",
    "for i in map(int, input().split()):\n",
    "    if queue and queue[-1] == i:\n",
    "        cnt += 1\n",
    "    else:\n",
    "        cnt = 1\n",
    "        \n",
    "    queue.append(i)\n",
    "    \n",
    "    \n",
    "    if len(queue) >= i and cnt == i:\n",
    "        for j in range(i):\n",
    "            queue.pop()\n",
    "        cnt = 1\n",
    "        \n",
    "    print(queue)\n",
    "        \n",
    "    print(len(queue))\n",
    "    "
   ]
  },
  {
   "cell_type": "code",
   "execution_count": 10,
   "id": "b06e1814",
   "metadata": {},
   "outputs": [],
   "source": [
    "5\n",
    "3 2 3 2 2\n",
    "\n",
    "10\n",
    "2 3 2 3 3 3 2 3 3 2\n",
    "\n",
    "10\n",
    "5 2 4 4 4 3 3 3 4 2\n",
    "답\n",
    "1\n",
    "2\n",
    "3\n",
    "4\n",
    "5\n",
    "6\n",
    "7\n",
    "5\n",
    "2\n",
    "1"
   ]
  },
  {
   "cell_type": "code",
   "execution_count": 15,
   "id": "caf2f54a",
   "metadata": {},
   "outputs": [],
   "source": [
    "a = [2,3,2,3,3]"
   ]
  },
  {
   "cell_type": "code",
   "execution_count": 17,
   "id": "a250fe0b",
   "metadata": {},
   "outputs": [
    {
     "data": {
      "text/plain": [
       "2"
      ]
     },
     "execution_count": 17,
     "metadata": {},
     "output_type": "execute_result"
    }
   ],
   "source": [
    "a[-3]"
   ]
  },
  {
   "cell_type": "code",
   "execution_count": 24,
   "id": "549e15e4",
   "metadata": {},
   "outputs": [
    {
     "data": {
      "text/plain": [
       "deque([3, 2, 3, 2, 2])"
      ]
     },
     "execution_count": 24,
     "metadata": {},
     "output_type": "execute_result"
    }
   ],
   "source": [
    "queue"
   ]
  },
  {
   "cell_type": "code",
   "execution_count": null,
   "id": "85fad441",
   "metadata": {},
   "outputs": [],
   "source": [
    "# 3번\n",
    "\n",
    "n, x = map(int, input().split())\n",
    "li = [False] * (x + 1)\n",
    "li[0] = True\n",
    " \n",
    "for _ in range(n):\n",
    "    a, b = map(int, input().split())\n",
    "    \n",
    "    nli = [False] * (x + 1)\n",
    "    for i in range(x, -1, -1):\n",
    "        if i - a >= 0:\n",
    "            if li[i - a]:\n",
    "                nli[i] = True\n",
    "                \n",
    "        if i - b >= 0:\n",
    "            if li[i - b]:\n",
    "                nli[i] = True\n",
    "    li = nli.copy()\n",
    "                \n",
    "if li[x]:\n",
    "    print('Yes')\n",
    "else:\n",
    "    print('No') "
   ]
  },
  {
   "cell_type": "code",
   "execution_count": null,
   "id": "561946af",
   "metadata": {},
   "outputs": [],
   "source": [
    "# 4번\n",
    "\n",
    "n = int(input())\n",
    "li = list(map(int, input().split()))\n",
    "\n",
    "stack = []\n",
    "cur = 0\n",
    "for v in li:\n",
    "    if stack and stack[-1][0] == v:\n",
    "        stack[-1][1] += 1\n",
    "        cur += 1\n",
    "        \n",
    "        if stack[-1][0] == stack[-1][1]:\n",
    "            cur -= stack.pop()[1]\n",
    "    else:\n",
    "        stack.append([v, 1])\n",
    "        cur += 1\n",
    "        \n",
    "    print(cur)"
   ]
  },
  {
   "cell_type": "markdown",
   "id": "4cad1cc5",
   "metadata": {},
   "source": [
    "https://atcoder.jp/contests/abc241/tasks/abc241_a"
   ]
  },
  {
   "cell_type": "code",
   "execution_count": 4,
   "id": "4fd62226",
   "metadata": {},
   "outputs": [
    {
     "name": "stdout",
     "output_type": "stream",
     "text": [
      "4 8 8 8 0 8 8 8 8 8\n",
      "4\n"
     ]
    }
   ],
   "source": [
    "lst = list(map(int, input().split()))\n",
    "\n",
    "answer = 0\n",
    "idx = 0\n",
    "for i in range(3):\n",
    "    answer = lst[idx]\n",
    "    idx = answer\n",
    "    \n",
    "print(answer)\n"
   ]
  },
  {
   "cell_type": "markdown",
   "id": "0a5ef6ef",
   "metadata": {},
   "source": [
    "https://atcoder.jp/contests/abc241/tasks/abc241_b"
   ]
  },
  {
   "cell_type": "code",
   "execution_count": 2,
   "id": "52159ba2",
   "metadata": {},
   "outputs": [
    {
     "name": "stdout",
     "output_type": "stream",
     "text": [
      "21128500\n"
     ]
    }
   ],
   "source": [
    "arr = [5, 1, 3, 19, 21, 2, 128, 100, 28, 27, 7, 25, 20, 500, 90]\n",
    "\n",
    "n = len(arr)\n",
    "\n",
    "maxi_lst = []\n",
    "\n",
    "for i in range(0, n, 5):\n",
    "    temp = 0\n",
    "    \n",
    "    for j in range(i, i+5):\n",
    "        temp = max(temp, arr[j])\n",
    "         \n",
    "    maxi_lst.append(str(temp))\n",
    "    \n",
    "print(''.join(maxi_lst))"
   ]
  },
  {
   "cell_type": "code",
   "execution_count": 1,
   "id": "55d4ccdc",
   "metadata": {},
   "outputs": [
    {
     "name": "stdout",
     "output_type": "stream",
     "text": [
      "21128500\n"
     ]
    }
   ],
   "source": [
    "arr = [5, 1, 3, 19, 21, 2, 128, 100, 28, 27, 7, 25, 20, 500, 90]\n",
    "\n",
    "n = len(arr)\n",
    "\n",
    "maxi_lst = []\n",
    "\n",
    "for i in range(0, n, 5):\n",
    "    temp = max(arr[i:i+5])\n",
    "         \n",
    "    maxi_lst.append(str(temp))\n",
    "    \n",
    "print(''.join(maxi_lst))"
   ]
  },
  {
   "cell_type": "code",
   "execution_count": 3,
   "id": "a414469a",
   "metadata": {},
   "outputs": [
    {
     "name": "stdout",
     "output_type": "stream",
     "text": [
      "1491625\n"
     ]
    }
   ],
   "source": [
    "def sol(p, n, h):\n",
    "    answer = 0\n",
    "    \n",
    "    while n != h:\n",
    "        n -= n // 2\n",
    "        h -= h // 2\n",
    "\n",
    "        answer +=1\n",
    "\n",
    "    return answer"
   ]
  },
  {
   "cell_type": "code",
   "execution_count": 4,
   "id": "552c7603",
   "metadata": {},
   "outputs": [
    {
     "data": {
      "text/plain": [
       "[1, 3, 5, 7, 9]"
      ]
     },
     "execution_count": 4,
     "metadata": {},
     "output_type": "execute_result"
    }
   ],
   "source": [
    "def sol(p, n, h):\n",
    "    answer = 0\n",
    "    \n",
    "    return answer"
   ]
  },
  {
   "cell_type": "code",
   "execution_count": null,
   "id": "88212971",
   "metadata": {},
   "outputs": [],
   "source": []
  }
 ],
 "metadata": {
  "kernelspec": {
   "display_name": "Python 3",
   "language": "python",
   "name": "python3"
  },
  "language_info": {
   "codemirror_mode": {
    "name": "ipython",
    "version": 3
   },
   "file_extension": ".py",
   "mimetype": "text/x-python",
   "name": "python",
   "nbconvert_exporter": "python",
   "pygments_lexer": "ipython3",
   "version": "3.8.8"
  }
 },
 "nbformat": 4,
 "nbformat_minor": 5
}
