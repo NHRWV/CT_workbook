{
 "cells": [
  {
   "cell_type": "markdown",
   "id": "8d9742e3",
   "metadata": {},
   "source": [
    "https://codeforces.com/contest/1598/problem/A"
   ]
  },
  {
   "cell_type": "code",
   "execution_count": null,
   "id": "5adf6268",
   "metadata": {},
   "outputs": [],
   "source": [
    "from collections import deque\n",
    "\n",
    "dx = [-1, 1, 0, 0, -1, -1, 1, 1]\n",
    "dy = [0, 0, -1, 1, -1, 1, 1, -1]\n",
    "\n",
    "t = int(input())\n",
    "for i in range(t):\n",
    "    n = int(input())\n",
    "    \n",
    "    board = []\n",
    "    for j in range(2):\n",
    "        board.append(list(map(int, input())))\n",
    "        \n",
    "    queue = deque([(0, 0)])\n",
    "    \n",
    "    while queue:\n",
    "        x, y = queue.popleft()\n",
    "        \n",
    "        \n",
    "        for j in range(8):\n",
    "            nx = x + dx[j]\n",
    "            ny = y + dy[j]\n",
    "            \n",
    "            if nx < 0 or nx >= 2 or ny < 0 or ny >= n:\n",
    "                continue\n",
    "                \n",
    "            if board[nx][ny] == 0:\n",
    "                board[nx][ny] = board[x][y] - 1\n",
    "                queue.append((nx, ny))\n",
    "                \n",
    "                \n",
    "    if board[1][n-1] != 0:\n",
    "        print('YES')\n",
    "        \n",
    "    else:\n",
    "        print('NO')\n",
    "    \n",
    "        \n",
    "        \n",
    "    "
   ]
  },
  {
   "cell_type": "code",
   "execution_count": null,
   "id": "657e373d",
   "metadata": {},
   "outputs": [],
   "source": [
    "4\n",
    "3\n",
    "000\n",
    "000\n",
    "4\n",
    "0011\n",
    "1100\n",
    "4\n",
    "0111\n",
    "1110\n",
    "6\n",
    "010101\n",
    "101010\n"
   ]
  }
 ],
 "metadata": {
  "kernelspec": {
   "display_name": "Python 3",
   "language": "python",
   "name": "python3"
  },
  "language_info": {
   "codemirror_mode": {
    "name": "ipython",
    "version": 3
   },
   "file_extension": ".py",
   "mimetype": "text/x-python",
   "name": "python",
   "nbconvert_exporter": "python",
   "pygments_lexer": "ipython3",
   "version": "3.8.8"
  }
 },
 "nbformat": 4,
 "nbformat_minor": 5
}
