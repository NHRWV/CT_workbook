{
 "cells": [
  {
   "cell_type": "code",
   "execution_count": 11,
   "metadata": {},
   "outputs": [
    {
     "name": "stdout",
     "output_type": "stream",
     "text": [
      "4\n",
      "-1\n",
      "2\n",
      "1\n",
      "3\n",
      "6\n"
     ]
    }
   ],
   "source": [
    "# 백준 1744\n",
    "\n",
    "n = int(input())\n",
    "seq = []\n",
    "for i in range(n):\n",
    "    seq.append(int(input()))\n",
    "\n",
    "result = 0\n",
    "pos_num = []\n",
    "neg_num = []\n",
    "for i in seq:\n",
    "    if i == 1:\n",
    "        result += i\n",
    "    \n",
    "    elif i > 0:\n",
    "        pos_num.append(i)\n",
    "     \n",
    "    else:\n",
    "        neg_num.append(i)\n",
    "\n",
    "pos_num.sort(reverse = True)\n",
    "neg_num.sort()\n",
    "\n",
    "for i in range(0, len(pos_num), 2):\n",
    "    if i < len(pos_num)-1:\n",
    "        result += (pos_num[i] * pos_num[i+1])\n",
    "    \n",
    "    else:\n",
    "        result += pos_num[i]\n",
    "\n",
    "for i in range(0, len(neg_num), 2):\n",
    "    if i < len(neg_num)-1:\n",
    "        result += (neg_num[i] * neg_num[i+1])\n",
    "    \n",
    "    else:\n",
    "        result += neg_num[i]\n",
    "\n",
    "print(result)\n",
    "\n",
    "\n",
    "# 음수랑 음수를 곱하면 양수가 된다. 음수랑 0이랑 곱하면 0이 된다."
   ]
  },
  {
   "cell_type": "code",
   "execution_count": 33,
   "metadata": {},
   "outputs": [
    {
     "name": "stdout",
     "output_type": "stream",
     "text": [
      "7\n",
      "4 60\n",
      "4 40\n",
      "1 20\n",
      "2 50\n",
      "3 30\n",
      "4 10\n",
      "6 5\n"
     ]
    }
   ],
   "source": [
    "# 백준 13904\n",
    "\n",
    "n = int(input())\n",
    "ls = []\n",
    "for i in range(n):\n",
    "    d, w = map(int, input().split())\n",
    "    ls.append([d, w])\n",
    "\n",
    "ls = sorted(ls, key = lambda x : (x[1], -x[0]), reverse = True)\n",
    "\n",
    "score = [0] * 1001\n",
    "for i in ls:\n",
    "    for j in range(i[0]-1, -1, -1):\n",
    "        if score[j] == 0:\n",
    "            score[j] = i[1]\n",
    "            break\n",
    "        else:\n",
    "            \n",
    "            continue\n",
    "print(sum(score))        \n",
    "\n"
   ]
  },
  {
   "cell_type": "code",
   "execution_count": null,
   "metadata": {},
   "outputs": [],
   "source": [
    "4 60\n",
    "4 40\n",
    "1 20\n",
    "2 50\n",
    "3 30\n",
    "4 10\n",
    "6 5\n",
    "24"
   ]
  },
  {
   "cell_type": "code",
   "execution_count": 34,
   "metadata": {},
   "outputs": [
    {
     "data": {
      "text/plain": [
       "[[4, 60], [2, 50], [4, 40], [3, 30], [1, 20], [4, 10], [6, 5]]"
      ]
     },
     "execution_count": 34,
     "metadata": {},
     "output_type": "execute_result"
    }
   ],
   "source": [
    "ls"
   ]
  },
  {
   "cell_type": "code",
   "execution_count": 35,
   "metadata": {},
   "outputs": [
    {
     "name": "stdout",
     "output_type": "stream",
     "text": [
      "185\n"
     ]
    }
   ],
   "source": [
    "\n"
   ]
  },
  {
   "cell_type": "code",
   "execution_count": null,
   "metadata": {},
   "outputs": [],
   "source": []
  }
 ],
 "metadata": {
  "kernelspec": {
   "display_name": "Python 3.7.5 64-bit ('Namlister': virtualenv)",
   "language": "python",
   "name": "python37564bitnamlistervirtualenv5d7bb17d3c984c36aee202a2f6a91336"
  },
  "language_info": {
   "codemirror_mode": {
    "name": "ipython",
    "version": 3
   },
   "file_extension": ".py",
   "mimetype": "text/x-python",
   "name": "python",
   "nbconvert_exporter": "python",
   "pygments_lexer": "ipython3",
   "version": "3.7.5"
  }
 },
 "nbformat": 4,
 "nbformat_minor": 2
}
