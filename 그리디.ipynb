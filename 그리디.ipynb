{
 "cells": [
  {
   "cell_type": "code",
   "execution_count": null,
   "metadata": {},
   "outputs": [],
   "source": [
    "# 백준 1744\n",
    "\n",
    "n = int(input())\n",
    "seq = []\n",
    "for i in range(n):\n",
    "    seq.append(int(input()))\n",
    "\n",
    "result = 0\n",
    "pos_num = []\n",
    "neg_num = []\n",
    "for i in seq:\n",
    "    if i == 1:\n",
    "        result += i\n",
    "    \n",
    "    elif i > 0:\n",
    "        pos_num.append(i)\n",
    "     \n",
    "    else:\n",
    "        neg_num.append(i)\n",
    "\n",
    "pos_num.sort(reverse = True)\n",
    "neg_num.sort()\n",
    "\n",
    "for i in range(0, len(pos_num), 2):\n",
    "    if i < len(pos_num)-1:\n",
    "        result += (pos_num[i] * pos_num[i+1])\n",
    "    \n",
    "    else:\n",
    "        result += pos_num[i]\n",
    "\n",
    "for i in range(0, len(neg_num), 2):\n",
    "    if i < len(neg_num)-1:\n",
    "        result += (neg_num[i] * neg_num[i+1])\n",
    "    \n",
    "    else:\n",
    "        result += neg_num[i]\n",
    "\n",
    "print(result)\n",
    "\n",
    "\n",
    "# 음수랑 음수를 곱하면 양수가 된다. 음수랑 0이랑 곱하면 0이 된다."
   ]
  },
  {
   "cell_type": "code",
   "execution_count": null,
   "metadata": {
    "scrolled": false
   },
   "outputs": [],
   "source": [
    "# 백준 13904\n",
    "\n",
    "n = int(input())\n",
    "ls = []\n",
    "for i in range(n):\n",
    "    d, w = map(int, input().split())\n",
    "    ls.append([d, w])\n",
    "\n",
    "ls = sorted(ls, key = lambda x : (x[1], -x[0]), reverse = True)\n",
    "\n",
    "score = [0] * 1001\n",
    "for i in ls:\n",
    "    for j in range(i[0]-1, -1, -1):\n",
    "        if score[j] == 0:\n",
    "            score[j] = i[1]\n",
    "            break\n",
    "        else:\n",
    "            \n",
    "            continue\n",
    "print(sum(score))        \n",
    "\n"
   ]
  },
  {
   "cell_type": "code",
   "execution_count": null,
   "metadata": {},
   "outputs": [],
   "source": [
    "# 백준 2212\n",
    "\n",
    "n = int(input())\n",
    "k = int(input())\n",
    "sensor = list(map(int, input().split()))\n",
    "\n",
    "sensor.sort()\n",
    "\n",
    "if k >= n:\n",
    "    print(0)\n",
    "\n",
    "else:\n",
    "    ls = []\n",
    "    for i in range(1, n):\n",
    "        ls.append(sensor[i] - sensor[i-1])\n",
    "\n",
    "    ls.sort(reverse = True)\n",
    "\n",
    "    for i in range(k-1):\n",
    "        del ls[0]\n",
    "\n",
    "    print(sum(ls))\n",
    "\n"
   ]
  },
  {
   "cell_type": "code",
   "execution_count": null,
   "metadata": {},
   "outputs": [],
   "source": [
    "# 백준 2812....시간초과 나는데요?\n",
    "\n",
    "n, k = map(int, input().split())\n",
    "num = str(input())\n",
    "\n",
    "ls = list(num)\n",
    "ls.sort()\n",
    "for i in range(k):\n",
    "    del ls[0]\n",
    "    \n",
    "ls.sort(reverse = True)\n",
    "\n",
    "print(\"\".join(ls))\n"
   ]
  },
  {
   "cell_type": "code",
   "execution_count": null,
   "metadata": {},
   "outputs": [],
   "source": [
    "# 이건 틀렸대..다시 풀자\n",
    "\n",
    "from collections import deque\n",
    "\n",
    "n, k = map(int, input().split())\n",
    "num = input()\n",
    "num = str(num)\n",
    "deq = list(num)\n",
    "deq.sort(reverse = True)\n",
    "\n",
    "deq = deque(deq)\n",
    "\n",
    "for i in range(k):\n",
    "    deq.pop()\n",
    "    \n",
    "\n",
    "print(\"\".join(deq))    \n"
   ]
  },
  {
   "cell_type": "code",
   "execution_count": null,
   "metadata": {},
   "outputs": [],
   "source": [
    "## 생각해보니 내가 문제를 잘못 이해함 그래서 다시.. 14트만에 성공.\n",
    "\n",
    "from collections import deque\n",
    "\n",
    "n, k = map(int, input().split())\n",
    "num = list(input())\n",
    "\n",
    "queue = deque()\n",
    "cnt = 0\n",
    "for i in range(n):\n",
    "    while queue and cnt < k and queue[-1] < num[i]:\n",
    "        queue.pop()\n",
    "        cnt += 1\n",
    "        \n",
    "    queue.append(num[i])\n",
    "\n",
    "print(\"\".join(list(queue)[:n-k]))    "
   ]
  },
  {
   "cell_type": "code",
   "execution_count": null,
   "metadata": {},
   "outputs": [],
   "source": [
    "# 백준 1541\n",
    "\n",
    "text = input()\n",
    "\n",
    "text1 = text.split('-')\n",
    "\n",
    "\n",
    "ls = []\n",
    "for i in range(len(text1)):\n",
    "    \n",
    "    a = text1[i].split('+')\n",
    "    b = 0\n",
    "    for j in a:\n",
    "        b += int(j)\n",
    "        \n",
    "    if i == 0:\n",
    "        ls.append(b)\n",
    "    else:\n",
    "        ls.append(-b)\n",
    "    \n",
    "print(sum(ls))\n",
    "    \n",
    "\n",
    "    \n",
    "\n",
    "    \n"
   ]
  },
  {
   "cell_type": "code",
   "execution_count": null,
   "metadata": {},
   "outputs": [],
   "source": [
    "text1"
   ]
  },
  {
   "cell_type": "code",
   "execution_count": null,
   "metadata": {},
   "outputs": [],
   "source": [
    "# 백준 11047\n",
    "\n",
    "n, k = map(int, input().split())\n",
    "\n",
    "coin = []\n",
    "for i in range(n):\n",
    "    a = int(input())\n",
    "    if a <= k:\n",
    "        coin.append(a)\n",
    "        \n",
    "\n",
    "coin.sort(reverse = True)\n",
    "    \n",
    "count = 0\n",
    "while True:\n",
    "    if coin[0] <= k:\n",
    "        count += (k // coin[0])\n",
    "        k %= coin[0]\n",
    "        \n",
    "        \n",
    "    else:\n",
    "        del coin[0]\n",
    "    \n",
    "    if k == 0:\n",
    "        break\n",
    "        \n",
    "print(count)"
   ]
  },
  {
   "cell_type": "code",
   "execution_count": null,
   "metadata": {
    "scrolled": true
   },
   "outputs": [],
   "source": [
    "# 백준 1931\n",
    "\n",
    "n = int(input())\n",
    "table = []\n",
    "for i in range(n):\n",
    "    a, b = map(int, input().split())\n",
    "    table.append(tuple([a, b]))\n",
    "    \n",
    "table = sorted(table, key = lambda x : (x[1], x[0]))\n",
    "\n",
    "ls = [table[0]]\n",
    "for i in range(1, n):\n",
    "    if table[i][0] >= ls[-1][1]:\n",
    "        ls.append(table[i])\n",
    "        \n",
    "print(len(ls))\n",
    "\n"
   ]
  },
  {
   "cell_type": "code",
   "execution_count": null,
   "metadata": {},
   "outputs": [],
   "source": [
    "# 백준 11399\n",
    "\n",
    "n = int(input())\n",
    "p = list(map(int, input().split()))\n",
    "\n",
    "p.sort()\n",
    "hab = 0\n",
    "total = []\n",
    "for i in range(len(p)):\n",
    "    hab += p[i]\n",
    "    total.append(hab)\n",
    "    \n",
    "print(sum(total))"
   ]
  },
  {
   "cell_type": "code",
   "execution_count": null,
   "metadata": {},
   "outputs": [],
   "source": [
    "# 백준 13305...이건 왜 안됨???\n",
    "\n",
    "n = int(input())\n",
    "dst = list(map(int, input().split()))\n",
    "price = list(map(int, input().split()))\n",
    "\n",
    "cost = 0\n",
    "i = 0\n",
    "while True:\n",
    "    \n",
    "    if price[i] < price[i+1]:\n",
    "        cost += (price[i] * (dst[i] + dst[i+1]))\n",
    "        i += 2\n",
    "        \n",
    "    else:\n",
    "        cost += (price[i] * dst[i])\n",
    "        i += 1\n",
    "        \n",
    "    if i + 1 > len(dst):\n",
    "        break\n",
    "        \n",
    "print(cost)"
   ]
  },
  {
   "cell_type": "code",
   "execution_count": null,
   "metadata": {},
   "outputs": [],
   "source": [
    "# 백준 13305\n",
    "\n",
    "n = int(input())\n",
    "dst = list(map(int, input().split()))\n",
    "price = list(map(int, input().split()))\n",
    "\n",
    "cost = 0\n",
    "station = price[0]\n",
    "for i in range(n-1):\n",
    "    if station > price[i]:\n",
    "        station = price[i]\n",
    "        \n",
    "    cost += dst[i] * station\n",
    "    \n",
    "print(cost)"
   ]
  },
  {
   "cell_type": "code",
   "execution_count": null,
   "metadata": {},
   "outputs": [],
   "source": [
    "# 백준 1700\n",
    "\n",
    "from collections import deque\n",
    "\n",
    "n, k = map(int, input().split())\n",
    "lst = list(map(int, input().split()))\n",
    "\n",
    "tab = []\n",
    "queue = deque(lst)\n",
    "\n",
    "\n",
    "count = 0\n",
    "while queue:\n",
    "    i = queue.popleft()\n",
    "    \n",
    "    if i in tab:\n",
    "        continue\n",
    "     \n",
    "    if len(tab) < n:\n",
    "        tab.append(i)\n",
    "        \n",
    "    elif len(tab) == n:\n",
    "        todo = [1e9] * len(tab)\n",
    "        for j in range(len(todo)):\n",
    "            if tab[j] in queue:\n",
    "                todo[j] = queue.index(tab[j])\n",
    "           \n",
    "        target = todo.index(max(todo))       \n",
    "        del tab[target]\n",
    "        count += 1\n",
    "        tab.append(i)\n",
    "            \n",
    "        \n",
    "                               \n",
    "print(count)            "
   ]
  },
  {
   "cell_type": "markdown",
   "metadata": {},
   "source": [
    "https://www.acmicpc.net/problem/1489"
   ]
  },
  {
   "cell_type": "code",
   "execution_count": null,
   "metadata": {},
   "outputs": [],
   "source": [
    "# 백준 1489\n",
    "# 새로운 문제를 만들었다. 이 케이스는 상대팀 모두와 한 번씩 대결할 경우 쓰일 수 있다.\n",
    "\n",
    "n = int(input())\n",
    "a = list(map(int, input().split()))\n",
    "b = list(map(int, input().split()))\n",
    "\n",
    "a.sort()\n",
    "b.sort()\n",
    "\n",
    "idx2 = 0\n",
    "idx1 = 0\n",
    "point = 0\n",
    "for i in a:\n",
    "    for j in range(idx2, n):\n",
    "        if i > b[j]:\n",
    "            idx2 = j + 1\n",
    "            \n",
    "        if i == b[j]:\n",
    "            idx1 = j + 1\n",
    "            \n",
    "        point += idx2 * 2 + (idx1 - idx2)\n",
    "        \n",
    "print(point)"
   ]
  },
  {
   "cell_type": "code",
   "execution_count": null,
   "metadata": {},
   "outputs": [],
   "source": [
    "# 백준 1489\n",
    "\n",
    "n = int(input())\n",
    "a = list(map(int, input().split()))\n",
    "b = list(map(int, input().split()))\n",
    "\n",
    "a.sort()\n",
    "b.sort()\n",
    "\n",
    "\n",
    "point = 0\n",
    "for i in range(n):\n",
    "    check = 0\n",
    "    for j in range(n):\n",
    "        if a[i] > b[j] and b[j] != 0:\n",
    "            \n",
    "            check = 1\n",
    "            target = j\n",
    "            \n",
    "    if check == 1:\n",
    "        \n",
    "        a[i] = 0\n",
    "        b[target] = 0\n",
    "        \n",
    "        point += 2\n",
    "            \n",
    "\n",
    "                 \n",
    "for i in range(n):\n",
    "    if a[i] == 0:\n",
    "        continue\n",
    "    \n",
    "    for j in range(n):\n",
    "        if a[i] == b[j]:\n",
    "            \n",
    "            b[j] = 0\n",
    "            point += 1\n",
    "            break\n",
    "        \n",
    "            \n",
    "                \n",
    "print(point)"
   ]
  },
  {
   "cell_type": "markdown",
   "metadata": {},
   "source": [
    "https://www.acmicpc.net/problem/10775"
   ]
  },
  {
   "cell_type": "code",
   "execution_count": null,
   "metadata": {},
   "outputs": [],
   "source": [
    "# 백준 10775\n",
    "# 시간초과 나는데...\n",
    "\n",
    "import sys\n",
    "\n",
    "\n",
    "g = int(input())\n",
    "p = int(input())\n",
    "plane = []\n",
    "for i in range(p):\n",
    "    plane.append(int(input()))\n",
    "    \n",
    "memo = [0] * (g+1)\n",
    "cnt = 0\n",
    "\n",
    "for i in plane:\n",
    "    check = 0\n",
    "    for j in range(i, 0, -1):\n",
    "        if memo[j] == 0:\n",
    "            memo[j] = i\n",
    "            cnt += 1\n",
    "            check = 1\n",
    "            break\n",
    "            \n",
    "    if check == 0:\n",
    "        print(cnt)\n",
    "        break\n",
    "            \n",
    "if check == 1:            \n",
    "    print(cnt)\n"
   ]
  },
  {
   "cell_type": "code",
   "execution_count": null,
   "metadata": {},
   "outputs": [],
   "source": [
    "# 백준 10775\n",
    "# 그래서 분리집합으로 풀었다.\n",
    "\n",
    "def find_parent(x):\n",
    "    if parent[x] != x:\n",
    "        parent[x] = find_parent(parent[x])\n",
    "    return parent[x]\n",
    "\n",
    "def union(x, y):\n",
    "    x = find_parent(x)\n",
    "    y = find_parent(y)\n",
    "    \n",
    "    if x < y:\n",
    "        parent[y] = x\n",
    "    else:\n",
    "        parent[x] = y\n",
    "    \n",
    "    \n",
    "g = int(input())\n",
    "p = int(input())\n",
    "\n",
    "parent = [0] * (g+1)\n",
    "for i in range(1, g+1):\n",
    "    parent[i] = i\n",
    "\n",
    "plane = []\n",
    "for i in range(p):\n",
    "    plane.append(int(input()))\n",
    "    \n",
    "    \n",
    "cnt = 0\n",
    "for i in plane:\n",
    "    a = find_parent(i)\n",
    "    \n",
    "    if a == 0:\n",
    "        break\n",
    "        \n",
    "    cnt += 1\n",
    "    union(a-1, a)\n",
    "    \n",
    "print(cnt)"
   ]
  },
  {
   "cell_type": "markdown",
   "metadata": {},
   "source": [
    "https://www.acmicpc.net/problem/2839"
   ]
  },
  {
   "cell_type": "code",
   "execution_count": null,
   "metadata": {},
   "outputs": [],
   "source": [
    "# 백준 2839 설탕 배달\n",
    "\n",
    "n = int(input())\n",
    "\n",
    "bag = 0\n",
    "while n >= 0 :\n",
    "    if n % 5 == 0 :\n",
    "        bag += (n // 5)\n",
    "        print(bag)\n",
    "        break\n",
    "    n -= 3  \n",
    "    bag += 1\n",
    "    \n",
    "else :\n",
    "    print(-1)"
   ]
  },
  {
   "cell_type": "markdown",
   "metadata": {},
   "source": [
    "https://www.acmicpc.net/problem/5585"
   ]
  },
  {
   "cell_type": "code",
   "execution_count": null,
   "metadata": {},
   "outputs": [],
   "source": [
    "# 백준 5585 거스름돈\n",
    "\n",
    "price = int(input())\n",
    "\n",
    "value = 1000 - price\n",
    "unit = [500, 100, 50, 10, 5, 1]\n",
    "count = 0\n",
    "\n",
    "while value > 0:\n",
    "    for i in unit:\n",
    "        if value // i >= 1:\n",
    "            count += value // i\n",
    "            value %= i\n",
    "            \n",
    "print(count)\n",
    "            \n"
   ]
  },
  {
   "cell_type": "markdown",
   "metadata": {},
   "source": [
    "https://www.acmicpc.net/problem/16676"
   ]
  },
  {
   "cell_type": "code",
   "execution_count": null,
   "metadata": {},
   "outputs": [],
   "source": [
    "# 백준 16676 근우의 다이어리 꾸미기\n",
    "\n",
    "n = int(input())\n",
    "\n",
    "count = 1\n",
    "point = 11\n",
    "\n",
    "while n >= point:\n",
    "    point = point * 10 + 1\n",
    "    count += 1\n",
    "    \n",
    "print(count)"
   ]
  },
  {
   "cell_type": "markdown",
   "metadata": {},
   "source": [
    "https://www.acmicpc.net/problem/17224"
   ]
  },
  {
   "cell_type": "code",
   "execution_count": null,
   "metadata": {},
   "outputs": [],
   "source": [
    "# 백준 17224 APC는 왜 서브태스크 대회가 되었을까?\n",
    "\n",
    "n, l, k = map(int, input().split())\n",
    "\n",
    "lst = []\n",
    "for i in range(n):\n",
    "    a, b = map(int, input().split())\n",
    "    lst.append([a, b, 1])\n",
    "    \n",
    "    \n",
    "t = 1\n",
    "score = 0\n",
    "answer = []\n",
    "while k > 0 and t >= 0:\n",
    "    for i in lst:\n",
    "        if i[t] <= l and i[2]:\n",
    "            if t == 1:\n",
    "                score += 140\n",
    "                i[2] = 0\n",
    "                k -= 1\n",
    "                answer.append(i)\n",
    "                \n",
    "            elif t == 0:\n",
    "                score += 100\n",
    "                i[2] = 0\n",
    "                k -= 1\n",
    "                answer.append(i)\n",
    "            \n",
    "        if k == 0:\n",
    "            break\n",
    "            \n",
    "            \n",
    "    t -= 1\n",
    "    \n",
    "    \n",
    "\n",
    "print(score)"
   ]
  },
  {
   "cell_type": "markdown",
   "metadata": {},
   "source": [
    "https://www.acmicpc.net/problem/1439"
   ]
  },
  {
   "cell_type": "code",
   "execution_count": null,
   "metadata": {},
   "outputs": [],
   "source": [
    "# 백준 1439 뒤집기\n",
    "\n",
    "s = str(input())\n",
    "\n",
    "zero, one = 0, 0\n",
    "\n",
    "if s[0] == '0':\n",
    "    zero += 1\n",
    "else:\n",
    "    one += 1\n",
    "    \n",
    "for i in range(len(s) - 1):\n",
    "    if s[i] != s[i+1]:\n",
    "        if s[i+1] == '0':\n",
    "            zero += 1\n",
    "        else:\n",
    "            one += 1\n",
    "\n",
    "print(min(zero, one))"
   ]
  },
  {
   "cell_type": "markdown",
   "metadata": {},
   "source": [
    "https://www.acmicpc.net/problem/13305"
   ]
  },
  {
   "cell_type": "code",
   "execution_count": null,
   "metadata": {},
   "outputs": [],
   "source": [
    "# 백준 13305 주유소\n",
    "\n",
    "n = int(input())\n",
    "dist = list(map(int, input().split()))\n",
    "price = list(map(int, input().split()))\n",
    "\n",
    "cost = 0\n",
    "point = price[0]\n",
    "\n",
    "for i in range(n-1):\n",
    "    if price[i] < point:\n",
    "        point = price[i]\n",
    "        \n",
    "    cost += dist[i] * point\n",
    "    \n",
    "print(cost)"
   ]
  },
  {
   "cell_type": "markdown",
   "metadata": {},
   "source": [
    "https://www.acmicpc.net/problem/11399"
   ]
  },
  {
   "cell_type": "code",
   "execution_count": null,
   "metadata": {},
   "outputs": [],
   "source": [
    "# 백준 11399 ATM\n",
    "\n",
    "import heapq\n",
    "\n",
    "n = int(input())\n",
    "delay = list(map(int, input().split()))\n",
    "\n",
    "heapq.heapify(delay)\n",
    "\n",
    "hab = 0\n",
    "answer = []\n",
    "while delay:\n",
    "    hab += heapq.heappop(delay)\n",
    "    answer.append(hab)\n",
    "    \n",
    "print(sum(answer))"
   ]
  },
  {
   "cell_type": "markdown",
   "metadata": {},
   "source": [
    "https://www.acmicpc.net/problem/2012"
   ]
  },
  {
   "cell_type": "code",
   "execution_count": null,
   "metadata": {},
   "outputs": [],
   "source": [
    "# 백준 2012 등수 매기기\n",
    "\n",
    "n = int(input())\n",
    "\n",
    "lst = []\n",
    "for i in range(n):\n",
    "    lst.append(int(input()))\n",
    "    \n",
    "lst.sort()\n",
    "answer = 0\n",
    "for i in range(n):\n",
    "    answer += abs(i+1 - lst[i])\n",
    "    \n",
    "print(answer)"
   ]
  },
  {
   "cell_type": "markdown",
   "metadata": {},
   "source": [
    "https://www.acmicpc.net/problem/18310"
   ]
  },
  {
   "cell_type": "code",
   "execution_count": null,
   "metadata": {},
   "outputs": [],
   "source": [
    "# 백준 18310 안테나\n",
    "\n",
    "n = int(input())\n",
    "lct = list(map(int, input().split()))\n",
    "\n",
    "lct.sort()\n",
    "\n",
    "print(lct[(n-1) // 2])"
   ]
  },
  {
   "cell_type": "markdown",
   "metadata": {},
   "source": [
    "https://www.acmicpc.net/problem/1931"
   ]
  },
  {
   "cell_type": "code",
   "execution_count": null,
   "metadata": {},
   "outputs": [],
   "source": [
    "# 백준 1931 회의실 배정\n",
    "\n",
    "n = int(input())\n",
    "table = []\n",
    "for i in range(n):\n",
    "    a, b = map(int, input().split())\n",
    "    table.append(tuple([a, b]))\n",
    "    \n",
    "table.sort(key = lambda x : (x[1], x[0]))\n",
    "\n",
    "one = table[0]\n",
    "count = 1\n",
    "for i in range(1, n):\n",
    "    if one[1] <= table[i][0]:\n",
    "        one = table[i]\n",
    "        count += 1\n",
    "        \n",
    "print(count)"
   ]
  },
  {
   "cell_type": "markdown",
   "metadata": {},
   "source": [
    "https://www.acmicpc.net/problem/1080"
   ]
  },
  {
   "cell_type": "code",
   "execution_count": null,
   "metadata": {},
   "outputs": [],
   "source": [
    "# 백준 1080 행렬\n",
    "\n",
    "n, m = map(int, input().split())\n",
    "a = []\n",
    "b = []\n",
    "\n",
    "for i in range(n):\n",
    "    a.append(list(map(int, input())))\n",
    "for i in range(n):\n",
    "    b.append(list(map(int, input())))\n",
    "    \n",
    "\n",
    "def sol(x, y):\n",
    "    for i in range(x, x+3):\n",
    "        for j in range(y, y+3):\n",
    "            a[i][j] = 1 - a[i][j]\n",
    "            \n",
    "\n",
    "\n",
    "count = 0\n",
    "for i in range(n-2):\n",
    "    for j in range(m-2):\n",
    "        if a[i][j] != b[i][j]:\n",
    "            sol(i, j)\n",
    "            count += 1\n",
    "            \n",
    "            \n",
    "check = 1\n",
    "for i in range(n):\n",
    "    if a[i] != b[i]:\n",
    "        check = 0\n",
    "        break\n",
    "        \n",
    "        \n",
    "if check:\n",
    "    print(count)\n",
    "else:\n",
    "    print(-1)"
   ]
  },
  {
   "cell_type": "markdown",
   "metadata": {},
   "source": [
    "https://www.acmicpc.net/problem/11047"
   ]
  },
  {
   "cell_type": "code",
   "execution_count": null,
   "metadata": {},
   "outputs": [],
   "source": [
    "# 백준 11047 동전 0\n",
    "\n",
    "n, k = map(int, input().split())\n",
    "coin = []\n",
    "for i in range(n):\n",
    "    coin.append(int(input()))\n",
    "    \n",
    "coin.sort(reverse = True)\n",
    "\n",
    "count = 0\n",
    "for i in coin:\n",
    "    if k // i >= 1:\n",
    "        count += k // i\n",
    "        k %= i\n",
    "        \n",
    "    if k == 0:\n",
    "        break\n",
    "        \n",
    "print(count)"
   ]
  },
  {
   "cell_type": "markdown",
   "metadata": {},
   "source": [
    "https://www.acmicpc.net/problem/1541"
   ]
  },
  {
   "cell_type": "code",
   "execution_count": null,
   "metadata": {},
   "outputs": [],
   "source": [
    "# 백준 1541 잃어버린 괄호\n",
    "\n",
    "target = input().split('-')\n",
    "\n",
    "lst = []\n",
    "for i in range(len(target)):\n",
    "    a = target[i].split('+')\n",
    "    value = 0\n",
    "    \n",
    "    for j in a:\n",
    "        value += int(j)\n",
    "        \n",
    "    if i == 0:\n",
    "        lst.append(value)\n",
    "    else:\n",
    "        lst.append(-value)\n",
    "    \n",
    "print(sum(lst))"
   ]
  },
  {
   "cell_type": "markdown",
   "metadata": {},
   "source": [
    "https://www.acmicpc.net/problem/2212"
   ]
  },
  {
   "cell_type": "code",
   "execution_count": null,
   "metadata": {},
   "outputs": [],
   "source": [
    "# 백준 2212 센서\n",
    "\n",
    "n = int(input())\n",
    "k = int(input())\n",
    "crd = list(map(int, input().split()))\n",
    "\n",
    "if k >= n:\n",
    "    print(0)\n",
    "    \n",
    "else:\n",
    "    interval = []\n",
    "    crd.sort()\n",
    "    \n",
    "    for i in range(n-1):\n",
    "        interval.append(crd[i+1] - crd[i])\n",
    "        \n",
    "    interval.sort()\n",
    "        \n",
    "    for i in range(k-1):\n",
    "        interval.pop()\n",
    "        \n",
    "    print(sum(interval))"
   ]
  },
  {
   "cell_type": "markdown",
   "metadata": {},
   "source": [
    "https://www.acmicpc.net/problem/1461"
   ]
  },
  {
   "cell_type": "code",
   "execution_count": null,
   "metadata": {},
   "outputs": [],
   "source": [
    "# 백준 1461 도서관\n",
    "\n",
    "n, m = map(int, input().split())\n",
    "crd = list(map(int, input().split()))\n",
    "\n",
    "neg = []\n",
    "pos = []\n",
    "for i in crd:\n",
    "    if i > 0:\n",
    "        pos.append(i)\n",
    "    else:\n",
    "        neg.append(i)\n",
    "        \n",
    "neg.sort()\n",
    "pos.sort(reverse = True)\n",
    "\n",
    "maxi = 0\n",
    "for i in crd:\n",
    "    if abs(i) > abs(maxi):\n",
    "        maxi = i\n",
    "        \n",
    "        \n",
    "\n",
    "temp = []\n",
    "for i in range(0, len(neg), m):\n",
    "    if neg[i] != maxi:\n",
    "        temp.append(neg[i])\n",
    "\n",
    "for i in range(0, len(pos), m):\n",
    "    if pos[i] != maxi:\n",
    "        temp.append(pos[i])\n",
    "        \n",
    "        \n",
    "answer = abs(maxi)\n",
    "for i in temp:\n",
    "    answer += abs(2 * i)\n",
    "    \n",
    "print(answer)\n",
    "    \n"
   ]
  },
  {
   "cell_type": "markdown",
   "metadata": {},
   "source": [
    "https://www.acmicpc.net/problem/1092"
   ]
  },
  {
   "cell_type": "code",
   "execution_count": null,
   "metadata": {},
   "outputs": [],
   "source": [
    "# 백준 1092 배\n",
    "\n",
    "n = int(input())\n",
    "power = list(map(int, input().split()))\n",
    "m = int(input())\n",
    "box = list(map(int, input().split()))\n",
    "\n",
    "power.sort(reverse = True)\n",
    "box.sort(reverse = True)\n",
    "\n",
    "if power[0] < box[0]:\n",
    "    print(-1)\n",
    "\n",
    "else:\n",
    "    sec = 0\n",
    "    while len(box) > 0:\n",
    "        for i in power:\n",
    "            for j in range(len(box)):\n",
    "                if i >= box[j]:\n",
    "                    del box[j]\n",
    "                    break\n",
    "    \n",
    "        sec += 1\n",
    "   \n",
    "    \n",
    "    print(sec)\n"
   ]
  },
  {
   "cell_type": "markdown",
   "metadata": {},
   "source": [
    "https://www.acmicpc.net/problem/2812"
   ]
  },
  {
   "cell_type": "code",
   "execution_count": null,
   "metadata": {},
   "outputs": [],
   "source": [
    "# 백준 2812 크게 만들기\n",
    "\n",
    "from collections import deque\n",
    "\n",
    "n, k = map(int, input().split())\n",
    "num = list(input())\n",
    "\n",
    "count = 0\n",
    "queue = deque()\n",
    "\n",
    "for i in range(n):\n",
    "    while queue and count < k and queue[-1] < num[i]:\n",
    "        queue.pop()\n",
    "        count += 1\n",
    "        \n",
    "    queue.append(num[i])\n",
    "\n",
    "print(\"\".join(list(queue)[:n-k]))"
   ]
  },
  {
   "cell_type": "markdown",
   "metadata": {},
   "source": [
    "https://www.acmicpc.net/problem/1715"
   ]
  },
  {
   "cell_type": "code",
   "execution_count": null,
   "metadata": {},
   "outputs": [],
   "source": [
    "import heapq\n",
    "\n",
    "n = int(input())\n",
    "\n",
    "card = []\n",
    "for i in range(n):\n",
    "    card.append(int(input()))\n",
    "    \n",
    "heapq.heapify(card)\n",
    "\n",
    "hab = 0\n",
    "while len(card) >= 2:\n",
    "    a = heapq.heappop(card)\n",
    "    b = heapq.heappop(card)\n",
    "\n",
    "    heapq.heappush(card, a + b)\n",
    "    hab += a + b\n",
    "    \n",
    "        \n",
    "print(hab)"
   ]
  },
  {
   "cell_type": "markdown",
   "metadata": {},
   "source": [
    "https://www.acmicpc.net/problem/1744"
   ]
  },
  {
   "cell_type": "code",
   "execution_count": null,
   "metadata": {},
   "outputs": [],
   "source": [
    "## 백준 1744 수 묶기\n",
    "\n",
    "n = int(input())\n",
    "seq = []\n",
    "for i in range(n):\n",
    "    seq.append(int(input()))\n",
    "\n",
    "pos = []\n",
    "neg = []\n",
    "answer = 0\n",
    "\n",
    "for i in seq:\n",
    "    if i == 1:\n",
    "        answer += i\n",
    "        \n",
    "    elif i > 0:\n",
    "        pos.append(i)\n",
    "        \n",
    "    else:\n",
    "        neg.append(i)\n",
    "        \n",
    "\n",
    "pos.sort(reverse = True)\n",
    "neg.sort()\n",
    "\n",
    "for i in range(0, len(pos), 2):\n",
    "    if i < len(pos) - 1:\n",
    "        answer += pos[i] * pos[i+1]\n",
    "    \n",
    "    else:\n",
    "        answer += pos[i]\n",
    "        \n",
    "for i in range(0, len(neg), 2):\n",
    "    if i < len(neg) - 1:\n",
    "        answer += neg[i] * neg[i+1]\n",
    "    \n",
    "    else:\n",
    "        answer += neg[i]\n",
    "        \n",
    "    \n",
    "print(answer)"
   ]
  },
  {
   "cell_type": "markdown",
   "metadata": {},
   "source": [
    "https://www.acmicpc.net/problem/2437"
   ]
  },
  {
   "cell_type": "code",
   "execution_count": null,
   "metadata": {},
   "outputs": [],
   "source": [
    "# 백준 2437 저울\n",
    "\n",
    "n = int(input())\n",
    "w = list(map(int, input().split()))\n",
    "w.sort()\n",
    "\n",
    "s = 1\n",
    "for i in w:\n",
    "    if s < i:\n",
    "        break\n",
    "        \n",
    "    s += i\n",
    "    \n",
    "print(s)"
   ]
  },
  {
   "cell_type": "markdown",
   "metadata": {},
   "source": [
    "https://www.acmicpc.net/problem/2014"
   ]
  },
  {
   "cell_type": "code",
   "execution_count": null,
   "metadata": {},
   "outputs": [],
   "source": [
    "# 백준 2014 소수의 곱\n",
    "# 주어진 소수들을 곱할 게 아니라 수를 하나씩 생각했을 때 그 수가 주어진 소수들의 곱으로 나누어 떨어지는지 확인해볼까..ㄴㄴ \n",
    "\n",
    "import heapq\n",
    "\n",
    "k, n = map(int, input().split())\n",
    "p_num = list(map(int, input().split()))\n",
    "\n",
    "lst = p_num[::]\n",
    "heapq.heapify(lst)\n",
    "\n",
    "for i in range(n):\n",
    "    a = heapq.heappop(lst)\n",
    "    for j in range(k):\n",
    "        b = a * p_num[j]\n",
    "        heapq.heappush(lst, b)\n",
    "        \n",
    "        if not a % p_num[j]:\n",
    "            break\n",
    "            \n",
    "print(a)"
   ]
  },
  {
   "cell_type": "markdown",
   "metadata": {},
   "source": [
    "https://www.acmicpc.net/problem/1339"
   ]
  },
  {
   "cell_type": "code",
   "execution_count": null,
   "metadata": {},
   "outputs": [],
   "source": [
    "# 백준 1339 단어 수학\n",
    "\n",
    "n = int(input())\n",
    "\n",
    "words = []\n",
    "for i in range(n):\n",
    "    words.append(input().rstrip())\n",
    "    \n",
    "lst = [0] * 26\n",
    "for i in words:\n",
    "    length = len(i)\n",
    "    for j in range(length):\n",
    "        lst[ord(i[j]) - 65] += 10 ** (length - j - 1)\n",
    "        \n",
    "lst.sort(reverse = True)\n",
    "\n",
    "answer = 0\n",
    "count = 9\n",
    "for i in lst:\n",
    "    answer += count * i\n",
    "    count -= 1\n",
    "    \n",
    "print(answer)\n",
    "\n",
    "\n"
   ]
  },
  {
   "cell_type": "markdown",
   "metadata": {},
   "source": [
    "https://www.acmicpc.net/problem/1202"
   ]
  },
  {
   "cell_type": "code",
   "execution_count": null,
   "metadata": {},
   "outputs": [],
   "source": [
    "# 보석 도둑\n",
    "\n",
    "import heapq\n",
    "\n",
    "n, k = map(int, input().split())\n",
    "\n",
    "jewels = []\n",
    "for i in range(n):\n",
    "    m, v = map(int, input().split())\n",
    "    heapq.heappush(jewels, (m, v))\n",
    "    \n",
    "bags = []\n",
    "for i in range(k):\n",
    "    bags.append(int(input()))\n",
    "    \n",
    "bags.sort()\n",
    "\n",
    "maxi = 0\n",
    "temp = []\n",
    "\n",
    "for i in bags:\n",
    "    while jewels and i >= jewels[0][0]:\n",
    "        heapq.heappush(temp, -heapq.heappop(jewels)[1])\n",
    "        \n",
    "    if temp:\n",
    "        maxi -= heapq.heappop(temp)\n",
    "        \n",
    "    elif not jewels:\n",
    "        break\n",
    "        \n",
    "        \n",
    "print(maxi)\n",
    "        \n"
   ]
  },
  {
   "cell_type": "markdown",
   "metadata": {},
   "source": [
    "https://www.acmicpc.net/problem/1026"
   ]
  },
  {
   "cell_type": "code",
   "execution_count": null,
   "metadata": {},
   "outputs": [],
   "source": [
    "# 보물\n",
    "\n",
    "n = int(input())\n",
    "a = list(map(int, input().split()))\n",
    "b = list(map(int, input().split()))\n",
    "\n",
    "a.sort()\n",
    "b.sort(reverse = True)\n",
    "answer = 0\n",
    "for i in range(n):\n",
    "    answer += a[i] * b[i]\n",
    "    \n",
    "print(answer)"
   ]
  },
  {
   "cell_type": "markdown",
   "metadata": {},
   "source": [
    "https://www.acmicpc.net/problem/1374"
   ]
  },
  {
   "cell_type": "code",
   "execution_count": null,
   "metadata": {},
   "outputs": [],
   "source": [
    "# 강의실\n",
    "\n",
    "import heapq\n",
    "\n",
    "n = int(input())\n",
    "\n",
    "lst = []\n",
    "for i in range(n):\n",
    "    num, s, e = map(int, input().split())\n",
    "    lst.append((s, e))\n",
    "    \n",
    "lst.sort()\n",
    "\n",
    "heap = []\n",
    "heapq.heappush(heap, lst[0][1])\n",
    "\n",
    "for i in range(1, n):\n",
    "    if heap[0] > lst[i][0]:\n",
    "        heapq.heappush(heap, lst[i][1])\n",
    "        \n",
    "    else:\n",
    "        heapq.heappop(heap)\n",
    "        heapq.heappush(heap, lst[i][1])\n",
    "        \n",
    "print(len(heap))"
   ]
  },
  {
   "cell_type": "markdown",
   "metadata": {},
   "source": [
    "https://www.acmicpc.net/problem/11000"
   ]
  },
  {
   "cell_type": "code",
   "execution_count": null,
   "metadata": {},
   "outputs": [],
   "source": [
    "# 강의실 배정\n",
    "\n",
    "import heapq\n",
    "\n",
    "n = int(input())\n",
    "\n",
    "lst = []\n",
    "for i in range(n):\n",
    "    s, e = map(int, input().split())\n",
    "    lst.append((s, e))\n",
    "    \n",
    "lst.sort()\n",
    "\n",
    "heap = []\n",
    "heapq.heappush(heap, lst[0][1])\n",
    "\n",
    "for i in range(1, n):\n",
    "    if heap[0] > lst[i][0]:\n",
    "        heapq.heappush(heap, lst[i][1])\n",
    "        \n",
    "    else:\n",
    "        heapq.heappop(heap)\n",
    "        heapq.heappush(heap, lst[i][1])\n",
    "        \n",
    "print(len(heap))"
   ]
  },
  {
   "cell_type": "markdown",
   "metadata": {},
   "source": [
    "https://www.acmicpc.net/problem/19598"
   ]
  },
  {
   "cell_type": "code",
   "execution_count": null,
   "metadata": {},
   "outputs": [],
   "source": [
    "import heapq\n",
    "\n",
    "n = int(input())\n",
    "\n",
    "lst = []\n",
    "for i in range(n):\n",
    "    s, e = map(int, input().split())\n",
    "    lst.append((s, e))\n",
    "    \n",
    "lst.sort()\n",
    "\n",
    "heap = []\n",
    "heapq.heappush(heap, lst[0][1])\n",
    "\n",
    "for i in range(1, n):\n",
    "    if heap[0] > lst[i][0]:\n",
    "        heapq.heappush(heap, lst[i][1])\n",
    "        \n",
    "    else:\n",
    "        heapq.heappop(heap)\n",
    "        heapq.heappush(heap, lst[i][1])\n",
    "        \n",
    "print(len(heap))"
   ]
  },
  {
   "cell_type": "markdown",
   "metadata": {},
   "source": [
    "https://www.acmicpc.net/problem/16496"
   ]
  },
  {
   "cell_type": "code",
   "execution_count": 2,
   "metadata": {},
   "outputs": [
    {
     "name": "stdout",
     "output_type": "stream",
     "text": [
      "5\n",
      "0 0 0 0 1\n",
      "10000\n"
     ]
    }
   ],
   "source": [
    "# 큰 수 만들기\n",
    "\n",
    "n = int(input())\n",
    "lst = list(map(int, input().split()))\n",
    "\n",
    "def sol(lst):\n",
    "    if sum(lst) == 0: \n",
    "        return '0'\n",
    "    \n",
    "    lst = list(map(str, lst))\n",
    "    lst.sort(key = lambda x : x * 9, reverse = True)\n",
    "    \n",
    "    return ''.join(lst)\n",
    "\n",
    "print(sol(lst))"
   ]
  },
  {
   "cell_type": "code",
   "execution_count": 6,
   "metadata": {},
   "outputs": [
    {
     "ename": "TypeError",
     "evalue": "unsupported operand type(s) for -: 'list' and 'list'",
     "output_type": "error",
     "traceback": [
      "\u001b[1;31m---------------------------------------------------------------------------\u001b[0m",
      "\u001b[1;31mTypeError\u001b[0m                                 Traceback (most recent call last)",
      "\u001b[1;32m<ipython-input-6-5ae0619f8fe1>\u001b[0m in \u001b[0;36m<module>\u001b[1;34m\u001b[0m\n\u001b[1;32m----> 1\u001b[1;33m \u001b[0ma\u001b[0m\u001b[1;33m-\u001b[0m\u001b[0mb\u001b[0m\u001b[1;33m\u001b[0m\u001b[1;33m\u001b[0m\u001b[0m\n\u001b[0m",
      "\u001b[1;31mTypeError\u001b[0m: unsupported operand type(s) for -: 'list' and 'list'"
     ]
    }
   ],
   "source": [
    "5\n",
    "3 30 34 5 9\n",
    "\n",
    "5\n",
    "0 0 0 0 1"
   ]
  },
  {
   "cell_type": "code",
   "execution_count": null,
   "metadata": {},
   "outputs": [],
   "source": []
  }
 ],
 "metadata": {
  "kernelspec": {
   "display_name": "Python 3.7.5 64-bit ('Namlister': virtualenv)",
   "language": "python",
   "name": "python37564bitnamlistervirtualenv5d7bb17d3c984c36aee202a2f6a91336"
  },
  "language_info": {
   "codemirror_mode": {
    "name": "ipython",
    "version": 3
   },
   "file_extension": ".py",
   "mimetype": "text/x-python",
   "name": "python",
   "nbconvert_exporter": "python",
   "pygments_lexer": "ipython3",
   "version": "3.8.8"
  }
 },
 "nbformat": 4,
 "nbformat_minor": 2
}
