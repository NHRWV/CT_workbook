{
 "cells": [
  {
   "cell_type": "code",
   "execution_count": 1,
   "metadata": {},
   "outputs": [
    {
     "name": "stdout",
     "output_type": "stream",
     "text": [
      "4\n",
      "-1\n",
      "2\n",
      "1\n",
      "3\n",
      "6\n"
     ]
    }
   ],
   "source": [
    "# 백준 1744\n",
    "\n",
    "n = int(input())\n",
    "seq = []\n",
    "for i in range(n):\n",
    "    seq.append(int(input()))\n",
    "\n",
    "if (seq[0] * seq[1]) > (seq[0] + seq[1]):\n",
    "    result = seq[0] * seq[1]\n",
    "else:\n",
    "    result = seq[0] + seq[1]\n",
    "    \n",
    "for i in range(2, len(seq)):\n",
    "    if (result * seq[i]) >= (result + seq[i]):\n",
    "        result *= seq[i]\n",
    "    else:\n",
    "        result += seq[i]\n",
    "        \n",
    "print(result)\n",
    "\n",
    "# 아 이거 겹치면 안됨..음... 내림차순으로 정렬한 뒤에 0이거나 1이 아닌 이상 곱하게 하면 될 것 같은데"
   ]
  },
  {
   "cell_type": "code",
   "execution_count": null,
   "metadata": {},
   "outputs": [],
   "source": [
    "s = str(input())\n",
    "\n",
    "if (int(s[0]) * int(s[1])) >= (int(s[0]) + int(s[1])):\n",
    "    result = int(s[0]) * int(s[1])\n",
    "else:\n",
    "    result = int(s[0]) + int(s[1])\n",
    "\n",
    "for i in range(2, len(s)):\n",
    "    if (result * int(s[i])) >= (result + int(s[i])):\n",
    "        result *= int(s[i])\n",
    "    else:\n",
    "        result += int(s[i])\n",
    "\n",
    "print(result)"
   ]
  }
 ],
 "metadata": {
  "kernelspec": {
   "display_name": "Python 3.7.5 64-bit ('Namlister': virtualenv)",
   "language": "python",
   "name": "python37564bitnamlistervirtualenv5d7bb17d3c984c36aee202a2f6a91336"
  },
  "language_info": {
   "codemirror_mode": {
    "name": "ipython",
    "version": 3
   },
   "file_extension": ".py",
   "mimetype": "text/x-python",
   "name": "python",
   "nbconvert_exporter": "python",
   "pygments_lexer": "ipython3",
   "version": "3.7.5"
  }
 },
 "nbformat": 4,
 "nbformat_minor": 2
}
