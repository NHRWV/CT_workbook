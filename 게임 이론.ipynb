{
 "cells": [
  {
   "cell_type": "markdown",
   "id": "37c780f9",
   "metadata": {},
   "source": [
    "https://www.acmicpc.net/problem/11868"
   ]
  },
  {
   "cell_type": "code",
   "execution_count": null,
   "id": "489d843e",
   "metadata": {},
   "outputs": [],
   "source": [
    "# 님 게임 2\n",
    "\n",
    "int(input())\n",
    "\n",
    "check = 0\n",
    "for i in map(int, input().split()):\n",
    "    check ^= i\n",
    "    \n",
    "print(\"koosaga\" if check else \"cubelover\")\n"
   ]
  },
  {
   "cell_type": "code",
   "execution_count": 10,
   "id": "6994247f",
   "metadata": {},
   "outputs": [
    {
     "data": {
      "text/plain": [
       "0"
      ]
     },
     "execution_count": 10,
     "metadata": {},
     "output_type": "execute_result"
    }
   ],
   "source": [
    "check"
   ]
  },
  {
   "cell_type": "code",
   "execution_count": null,
   "id": "5d56c5a6",
   "metadata": {},
   "outputs": [],
   "source": []
  }
 ],
 "metadata": {
  "kernelspec": {
   "display_name": "Python 3",
   "language": "python",
   "name": "python3"
  },
  "language_info": {
   "codemirror_mode": {
    "name": "ipython",
    "version": 3
   },
   "file_extension": ".py",
   "mimetype": "text/x-python",
   "name": "python",
   "nbconvert_exporter": "python",
   "pygments_lexer": "ipython3",
   "version": "3.8.8"
  }
 },
 "nbformat": 4,
 "nbformat_minor": 5
}
