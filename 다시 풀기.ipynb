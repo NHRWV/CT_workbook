{
 "cells": [
  {
   "cell_type": "code",
   "execution_count": null,
   "id": "e7fd7e2e",
   "metadata": {},
   "outputs": [],
   "source": [
    "import heapq\n",
    "\n",
    "v, e = map(int, input().split())\n",
    "k = int(input())\n",
    "\n",
    "edge = [[] for _ in range(v+1)]\n",
    "for i in range(e):\n",
    "    a, b, c = map(int, input().split())\n",
    "    edge[a].append((b, c))\n",
    "    \n",
    "    \n",
    "inf = int(1e9)\n",
    "distance = [inf] * (v+1)\n",
    "\n",
    "def dijk(x):\n",
    "    queue = []\n",
    "    \n",
    "    heapq.heappush(queue, (0, x))\n",
    "    distance[x] = 0\n",
    "    \n",
    "    while queue:\n",
    "        dist, x = heapq.heappop(queue)\n",
    "        \n",
    "        if distance[x] < dist:\n",
    "            continue\n",
    "            \n",
    "        for nxt, w in edge[x]:\n",
    "            cost = dist + w\n",
    "            \n",
    "            if cost < distance[nxt]:\n",
    "                distance[nxt] = cost\n",
    "                heapq.heappush(queue, (cost, nxt))\n",
    "                \n",
    "                \n",
    "dijk(k)\n",
    "\n",
    "\n",
    "for i in range(1, v+1):\n",
    "    print(distance[i] if distance[i] != int(1e9) else 'INF')\n",
    "    "
   ]
  },
  {
   "cell_type": "code",
   "execution_count": null,
   "id": "dab444d6",
   "metadata": {},
   "outputs": [],
   "source": [
    "import heapq\n",
    "\n",
    "n, e = map(int, input().split())\n",
    "\n",
    "edge = [[] for _ in range(n+1)]\n",
    "for i in range(e):\n",
    "    a, b, c = map(int, input().split())\n",
    "    edge[a].append((b, c))\n",
    "    edge[b].append((a, c))\n",
    "    \n",
    "    \n",
    "v1, v2 = map(int, input().split())\n",
    "\n",
    "\n",
    "def dijk(x):\n",
    "    inf = int(1e9)\n",
    "    distance = [inf] * (n+1)\n",
    "    \n",
    "    queue = []\n",
    "    heapq.heappush(queue, (0, x))\n",
    "    distance[x] = 0\n",
    "    \n",
    "    while queue:\n",
    "        dist, x = heapq.heappop(queue)\n",
    "        \n",
    "        if distance[x] < dist:\n",
    "            continue\n",
    "            \n",
    "        for nxt, w in edge[x]:\n",
    "            cost = dist + w\n",
    "            \n",
    "            if cost < distance[nxt]:\n",
    "                distance[nxt] = cost\n",
    "                heapq.heappush(queue, (cost, nxt))\n",
    "                \n",
    "        \n",
    "    return distance\n",
    "\n",
    "\n",
    "alpha = dijk(1)\n",
    "rv1 = dijk(v1)\n",
    "rv2 = dijk(v2)\n",
    "\n",
    "red = alpha[v1] + rv1[v2] + rv2[n]\n",
    "blue = alpha[v2] + rv2[v1] + rv1[n]\n",
    "\n",
    "answer = min(red, blue)\n",
    "print(answer if answer < int(1e9) else -1)\n",
    "    "
   ]
  },
  {
   "cell_type": "code",
   "execution_count": null,
   "id": "a1ee711f",
   "metadata": {},
   "outputs": [],
   "source": [
    "T = int(input())\n",
    "\n",
    "\n",
    "def dijk(x):\n",
    "    queue = []\n",
    "    \n",
    "    heapq.heappush(queue, (0, x))\n",
    "    distance[x] = 0\n",
    "    \n",
    "    while queue:\n",
    "        dist, x = heapq.heappop(queue)\n",
    "        \n",
    "        if distance[x] < dist:\n",
    "            continue\n",
    "            \n",
    "        for nxt, w in edge[x]:\n",
    "            cost = dist + w\n",
    "            \n",
    "            if cost < distance[nxt]:\n",
    "                distance[nxt] = cost\n",
    "                heapq.heappush(queue, (cost, nxt))\n",
    "\n",
    "\n",
    "for _ in range(T):\n",
    "    n, m, t = map(int, input().split())\n",
    "    s, g, h = map(int, input().split())\n",
    "    \n",
    "    edge = [[] for _ in range(n+1)]\n",
    "    for i in range(m):\n",
    "        a, b, c = map(int, input().split())\n",
    "        edge[a].append((b, c))\n",
    "        edge[b].append((a, c))\n",
    "        \n",
    "        \n",
    "    inf = int(1e9)\n",
    "    distance = [inf] * (n+1)\n",
    "        \n",
    "    goal = [int(input()) for i in range(t)]\n",
    "    "
   ]
  },
  {
   "cell_type": "code",
   "execution_count": null,
   "id": "8c4cc76a",
   "metadata": {},
   "outputs": [],
   "source": []
  },
  {
   "cell_type": "code",
   "execution_count": 21,
   "id": "3b519b24",
   "metadata": {},
   "outputs": [
    {
     "name": "stdout",
     "output_type": "stream",
     "text": [
      "5 2\n",
      "3 4 1 3 4\n",
      "[[3, 1, 4], [4, 3]]\n",
      "[[4, 3, 1], [4, 3]]\n"
     ]
    }
   ],
   "source": [
    "n, k = map(int, input().split())\n",
    "lst = list(map(int, input().split()))\n",
    "\n",
    "b = [[] for _ in range(k)]\n",
    "for i in range(n):\n",
    "    b[i % k].append(lst[i])\n",
    "    \n",
    "print(b)\n",
    "    \n",
    "for i in b:\n",
    "    i.sort(reverse = True)\n",
    "    \n",
    "print(b)\n",
    "    \n",
    "lst.sort()\n",
    "\n",
    "temp = []\n",
    "for i in range(n):\n",
    "    temp.append(b[i % k].pop())\n",
    "    \n"
   ]
  },
  {
   "cell_type": "code",
   "execution_count": null,
   "id": "8aecf4c0",
   "metadata": {},
   "outputs": [],
   "source": [
    "5 2\n",
    "3 4 1 3 4\n",
    "\n",
    "5 3\n",
    "3 4 1 3 4\n",
    "\n",
    "7 5\n",
    "1 2 3 4 5 5 10\n"
   ]
  },
  {
   "cell_type": "code",
   "execution_count": 18,
   "id": "0aae47b3",
   "metadata": {},
   "outputs": [
    {
     "data": {
      "text/plain": [
       "[1, 3, 3, 4, 4]"
      ]
     },
     "execution_count": 18,
     "metadata": {},
     "output_type": "execute_result"
    }
   ],
   "source": [
    "lst"
   ]
  },
  {
   "cell_type": "code",
   "execution_count": 19,
   "id": "7004dd80",
   "metadata": {},
   "outputs": [
    {
     "data": {
      "text/plain": [
       "[1, 3, 3, 4, 4]"
      ]
     },
     "execution_count": 19,
     "metadata": {},
     "output_type": "execute_result"
    }
   ],
   "source": [
    "temp"
   ]
  },
  {
   "cell_type": "code",
   "execution_count": 20,
   "id": "2228e64b",
   "metadata": {},
   "outputs": [
    {
     "data": {
      "text/plain": [
       "[[], []]"
      ]
     },
     "execution_count": 20,
     "metadata": {},
     "output_type": "execute_result"
    }
   ],
   "source": [
    "b"
   ]
  },
  {
   "cell_type": "markdown",
   "id": "10c3fcab",
   "metadata": {},
   "source": [
    "https://atcoder.jp/contests/abc254/tasks/abc254_c"
   ]
  },
  {
   "cell_type": "code",
   "execution_count": null,
   "id": "5b822a66",
   "metadata": {},
   "outputs": [],
   "source": []
  }
 ],
 "metadata": {
  "kernelspec": {
   "display_name": "Python 3",
   "language": "python",
   "name": "python3"
  },
  "language_info": {
   "codemirror_mode": {
    "name": "ipython",
    "version": 3
   },
   "file_extension": ".py",
   "mimetype": "text/x-python",
   "name": "python",
   "nbconvert_exporter": "python",
   "pygments_lexer": "ipython3",
   "version": "3.8.8"
  }
 },
 "nbformat": 4,
 "nbformat_minor": 5
}
