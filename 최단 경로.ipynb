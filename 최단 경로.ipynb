{
 "cells": [
  {
   "cell_type": "markdown",
   "id": "23b71273",
   "metadata": {},
   "source": [
    "https://www.acmicpc.net/problem/1753"
   ]
  },
  {
   "cell_type": "code",
   "execution_count": null,
   "id": "9597c5ce",
   "metadata": {},
   "outputs": [],
   "source": [
    "# 백준 1753\n",
    "\n",
    "import heapq\n",
    "\n",
    "v, e = map(int, input().split())\n",
    "k = int(input())\n",
    "\n",
    "edge = [[] for _ in range(v+1)]\n",
    "for i in range(e):\n",
    "    a, b, w = map(int, input().split())\n",
    "    edge[a].append((b, w))\n",
    "\n",
    "INF = int(1e9)\n",
    "distance = [INF] * (v+1)\n",
    "\n",
    "\n",
    "def dijk(start):\n",
    "    queue = []\n",
    "    \n",
    "    heapq.heappush(queue, (0, start))\n",
    "    distance[start] = 0\n",
    "    \n",
    "    while queue:\n",
    "        dist, node = heapq.heappop(queue)\n",
    "        \n",
    "        if distance[node] < dist: # dist는 해당 노드에 도달하기까지의 가중치 누적값\n",
    "            continue\n",
    "            \n",
    "        for i in edge[node]:\n",
    "            cost = dist + i[1]\n",
    "            \n",
    "            if cost < distance[i[0]]:\n",
    "                distance[i[0]] = cost\n",
    "                heapq.heappush(queue, (cost, i[0]))\n",
    "                \n",
    "        \n",
    "dijk(k)\n",
    "\n",
    "for i in range(1, len(distance)):\n",
    "    if distance[i] == int(1e9):\n",
    "        print('INF')\n",
    "    else:\n",
    "        print(distance[i])"
   ]
  },
  {
   "cell_type": "markdown",
   "id": "a03928a5",
   "metadata": {},
   "source": [
    "https://www.acmicpc.net/problem/1504"
   ]
  },
  {
   "cell_type": "code",
   "execution_count": 6,
   "id": "418774d5",
   "metadata": {},
   "outputs": [
    {
     "name": "stdout",
     "output_type": "stream",
     "text": [
      "4 6\n",
      "1 2 3\n",
      "2 3 3\n",
      "3 4 1\n",
      "1 3 5\n",
      "2 4 5\n",
      "1 4 4\n",
      "2 3\n",
      "7\n"
     ]
    }
   ],
   "source": [
    "# 백준 1504\n",
    "\n",
    "import heapq\n",
    "\n",
    "n, e = map(int, input().split())\n",
    "edge = [[] for _ in range(n+1)]\n",
    "for i in range(e):\n",
    "    a, b, c = map(int, input().split())\n",
    "    edge[a].append((b, c))\n",
    "    edge[b].append((a, c))\n",
    "    \n",
    "v1, v2 = map(int, input().split())\n",
    "        \n",
    "inf = int(1e9)\n",
    "\n",
    "def dijk(start):\n",
    "    distance = [inf] * (n+1)\n",
    "    queue = []\n",
    "    \n",
    "    heapq.heappush(queue, (0, start))\n",
    "    distance[start] = 0\n",
    "    \n",
    "    while queue:\n",
    "        dist, node = heapq.heappop(queue)\n",
    "        \n",
    "        if distance[node] < dist:\n",
    "            continue\n",
    "            \n",
    "        for i in edge[node]:\n",
    "            cost = dist + i[1]\n",
    "            \n",
    "            if cost < distance[i[0]]:\n",
    "                distance[i[0]] = cost\n",
    "                heapq.heappush(queue, (cost, i[0]))\n",
    "                \n",
    "    return distance\n",
    "        \n",
    "standard = dijk(1)\n",
    "v1_route = dijk(v1)\n",
    "v2_route = dijk(v2)\n",
    "\n",
    "case1 = standard[v1] + v1_route[v2] + v2_route[n]\n",
    "case2 = standard[v2] + v1_route[n] + v2_route[v1]\n",
    "\n",
    "answer = min(case1, case2)\n",
    "\n",
    "if answer < inf:\n",
    "    print(answer)\n",
    "else:\n",
    "    print(-1)"
   ]
  },
  {
   "cell_type": "markdown",
   "id": "89930e39",
   "metadata": {},
   "source": [
    "https://www.acmicpc.net/problem/9370"
   ]
  },
  {
   "cell_type": "code",
   "execution_count": 27,
   "id": "125a408e",
   "metadata": {},
   "outputs": [
    {
     "name": "stdout",
     "output_type": "stream",
     "text": [
      "1\n",
      "5 4 2\n",
      "1 2 3\n",
      "1 2 6\n",
      "2 3 2\n",
      "3 4 4\n",
      "3 5 3\n",
      "5\n",
      "4\n",
      "5\n"
     ]
    }
   ],
   "source": [
    "# 백준 9370\n",
    "\n",
    "import heapq\n",
    "\n",
    "t = int(input())\n",
    "\n",
    "inf = int(1e9)\n",
    "def dijk(start):\n",
    "    distance = [inf] * (n+1)\n",
    "    queue = []\n",
    "    \n",
    "    heapq.heappush(queue, (0, start))\n",
    "    distance[start] = 0\n",
    "    \n",
    "    while queue:\n",
    "        dist, node = heapq.heappop(queue)\n",
    "        \n",
    "        if distance[node] < dist:\n",
    "            continue\n",
    "            \n",
    "        for i in edge[node]:\n",
    "            cost = dist + i[1]\n",
    "            \n",
    "            if cost < distance[i[0]]:\n",
    "                distance[i[0]] = cost\n",
    "                heapq.heappush(queue, (cost, i[0]))\n",
    "                \n",
    "    return distance\n",
    "        \n",
    "\n",
    "for i in range(t):\n",
    "    n, m, can = map(int, input().split())\n",
    "    s, g, h = map(int, input().split())\n",
    "    edge = [[] for _ in range(n+1)]\n",
    "    canu = [[0] * (n+1) for _ in range(n+1)]\n",
    "    for j in range(m):\n",
    "        a, b, c = map(int, input().split())\n",
    "        edge[a].append((b, c))\n",
    "        edge[b].append((a, c))\n",
    "        canu[a][b] = 1\n",
    "        canu[b][a] = 1\n",
    "    \n",
    "    goal = []\n",
    "    for k in range(can):\n",
    "        goal.append(int(input()))\n",
    "        \n",
    "    standard = dijk(s)\n",
    "    g_route = dijk(g)\n",
    "    h_route = dijk(h)\n",
    "    \n",
    "    g_h = standard[g] + g_route[h]\n",
    "    h_g = standard[h] + h_route[g]\n",
    "    \n",
    "    goal_lst1 = [inf] * (n+1)\n",
    "    goal_lst2 = [inf] * (n+1)\n",
    "    \n",
    "    for j in goal:\n",
    "        goal_lst1[j] = g_route[j]\n",
    "        goal_lst2[j] = h_route[j]\n",
    "        \n",
    "        \n",
    "        \n",
    "    for j in range(n+1):\n",
    "        goal_lst1[j] += h_g\n",
    "        goal_lst2[j] += g_h\n",
    "        \n",
    "        \n",
    "    answer = []\n",
    "    if min(goal_lst1) > min(goal_lst2):\n",
    "        \n",
    "        target = goal_lst2\n",
    "        \n",
    "        for k in range(len(target)):\n",
    "            if target[k] == min(goal_lst2):\n",
    "                answer.append(k)\n",
    "                \n",
    "                \n",
    "    elif min(goal_lst1) < min(goal_lst2):\n",
    "        target = goal_lst1\n",
    "        \n",
    "        for k in range(len(target)):\n",
    "            if target[k] == min(goal_lst1):\n",
    "                answer.append(k)   \n",
    "    \n",
    "    else:\n",
    "        for k in range(len(goal_lst1)):\n",
    "            if goal_lst1[k] == min(goal_lst1):\n",
    "                answer.append(k)\n",
    "                \n",
    "            if goal_lst2[k] == min(goal_lst2):\n",
    "                if k not in answer:\n",
    "                    answer.append(k)\n",
    "                    \n",
    "                    \n",
    "    answer.sort()\n",
    "    print(*answer)\n",
    "        \n",
    "    \n",
    "  \n",
    "    \n",
    "\n",
    "        \n",
    "    \n",
    "\n"
   ]
  },
  {
   "cell_type": "markdown",
   "id": "b0557223",
   "metadata": {},
   "source": [
    "2\n",
    "5 4 2\n",
    "1 2 3\n",
    "1 2 6\n",
    "2 3 2\n",
    "3 4 4\n",
    "3 5 3\n",
    "5\n",
    "4\n",
    "6 9 2\n",
    "2 3 1\n",
    "1 2 1\n",
    "1 3 3\n",
    "2 4 4\n",
    "2 5 5\n",
    "3 4 3\n",
    "3 6 2\n",
    "4 5 4\n",
    "4 6 3\n",
    "5 6 7\n",
    "5\n",
    "6"
   ]
  },
  {
   "cell_type": "code",
   "execution_count": 29,
   "id": "e71b5dfb",
   "metadata": {},
   "outputs": [
    {
     "data": {
      "text/plain": [
       "[5, 4]"
      ]
     },
     "execution_count": 29,
     "metadata": {},
     "output_type": "execute_result"
    }
   ],
   "source": [
    "goal"
   ]
  },
  {
   "cell_type": "code",
   "execution_count": 30,
   "id": "1a2e977b",
   "metadata": {},
   "outputs": [
    {
     "data": {
      "text/plain": [
       "[1000000010, 1000000010, 1000000010, 1000000010, 16, 15]"
      ]
     },
     "execution_count": 30,
     "metadata": {},
     "output_type": "execute_result"
    }
   ],
   "source": [
    "goal_lst1"
   ]
  },
  {
   "cell_type": "code",
   "execution_count": 31,
   "id": "559bafb1",
   "metadata": {},
   "outputs": [
    {
     "data": {
      "text/plain": [
       "[1000000008, 1000000008, 1000000008, 1000000008, 12, 11]"
      ]
     },
     "execution_count": 31,
     "metadata": {},
     "output_type": "execute_result"
    }
   ],
   "source": [
    "goal_lst2"
   ]
  },
  {
   "cell_type": "code",
   "execution_count": 32,
   "id": "5bac6fa3",
   "metadata": {},
   "outputs": [
    {
     "data": {
      "text/plain": [
       "[[], [(2, 6)], [(1, 6), (3, 2)], [(2, 2), (4, 4), (5, 3)], [(3, 4)], [(3, 3)]]"
      ]
     },
     "execution_count": 32,
     "metadata": {},
     "output_type": "execute_result"
    }
   ],
   "source": [
    "edge"
   ]
  },
  {
   "cell_type": "code",
   "execution_count": null,
   "id": "d272ef9a",
   "metadata": {},
   "outputs": [],
   "source": []
  }
 ],
 "metadata": {
  "kernelspec": {
   "display_name": "Python 3",
   "language": "python",
   "name": "python3"
  },
  "language_info": {
   "codemirror_mode": {
    "name": "ipython",
    "version": 3
   },
   "file_extension": ".py",
   "mimetype": "text/x-python",
   "name": "python",
   "nbconvert_exporter": "python",
   "pygments_lexer": "ipython3",
   "version": "3.8.8"
  }
 },
 "nbformat": 4,
 "nbformat_minor": 5
}
