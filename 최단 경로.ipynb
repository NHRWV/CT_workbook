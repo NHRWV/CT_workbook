{
 "cells": [
  {
   "cell_type": "markdown",
   "id": "23b71273",
   "metadata": {},
   "source": [
    "https://www.acmicpc.net/problem/1753"
   ]
  },
  {
   "cell_type": "code",
   "execution_count": null,
   "id": "9597c5ce",
   "metadata": {},
   "outputs": [],
   "source": [
    "# 백준 1753\n",
    "\n",
    "import heapq\n",
    "\n",
    "v, e = map(int, input().split())\n",
    "k = int(input())\n",
    "\n",
    "edge = [[] for _ in range(v+1)]\n",
    "for i in range(e):\n",
    "    a, b, w = map(int, input().split())\n",
    "    edge[a].append((b, w))\n",
    "\n",
    "INF = int(1e9)\n",
    "distance = [INF] * (v+1)\n",
    "\n",
    "\n",
    "def dijk(start):\n",
    "    queue = []\n",
    "    \n",
    "    heapq.heappush(queue, (0, start))\n",
    "    distance[start] = 0\n",
    "    \n",
    "    while queue:\n",
    "        dist, node = heapq.heappop(queue)\n",
    "        \n",
    "        if distance[node] < dist: # dist는 해당 노드에 도달하기까지의 가중치 누적값\n",
    "            continue\n",
    "            \n",
    "        for i in edge[node]:\n",
    "            cost = dist + i[1]\n",
    "            \n",
    "            if cost < distance[i[0]]:\n",
    "                distance[i[0]] = cost\n",
    "                heapq.heappush(queue, (cost, i[0]))\n",
    "                \n",
    "        \n",
    "dijk(k)\n",
    "\n",
    "for i in range(1, len(distance)):\n",
    "    if distance[i] == int(1e9):\n",
    "        print('INF')\n",
    "    else:\n",
    "        print(distance[i])"
   ]
  },
  {
   "cell_type": "markdown",
   "id": "99c188dd",
   "metadata": {},
   "source": [
    "https://www.acmicpc.net/problem/1504"
   ]
  },
  {
   "cell_type": "code",
   "execution_count": 6,
   "id": "418774d5",
   "metadata": {},
   "outputs": [
    {
     "name": "stdout",
     "output_type": "stream",
     "text": [
      "4 6\n",
      "1 2 3\n",
      "2 3 3\n",
      "3 4 1\n",
      "1 3 5\n",
      "2 4 5\n",
      "1 4 4\n",
      "2 3\n",
      "7\n"
     ]
    }
   ],
   "source": [
    "# 백준 1504\n",
    "\n",
    "import heapq\n",
    "\n",
    "n, e = map(int, input().split())\n",
    "edge = [[] for _ in range(n+1)]\n",
    "for i in range(e):\n",
    "    a, b, c = map(int, input().split())\n",
    "    edge[a].append((b, c))\n",
    "    edge[b].append((a, c))\n",
    "    \n",
    "v1, v2 = map(int, input().split())\n",
    "        \n",
    "inf = int(1e9)\n",
    "\n",
    "def dijk(start):\n",
    "    distance = [inf] * (n+1)\n",
    "    queue = []\n",
    "    \n",
    "    heapq.heappush(queue, (0, start))\n",
    "    distance[start] = 0\n",
    "    \n",
    "    while queue:\n",
    "        dist, node = heapq.heappop(queue)\n",
    "        \n",
    "        if distance[node] < dist:\n",
    "            continue\n",
    "            \n",
    "        for i in edge[node]:\n",
    "            cost = dist + i[1]\n",
    "            \n",
    "            if cost < distance[i[0]]:\n",
    "                distance[i[0]] = cost\n",
    "                heapq.heappush(queue, (cost, i[0]))\n",
    "                \n",
    "    return distance\n",
    "        \n",
    "standard = dijk(1)\n",
    "v1_route = dijk(v1)\n",
    "v2_route = dijk(v2)\n",
    "\n",
    "case1 = standard[v1] + v1_route[v2] + v2_route[n]\n",
    "case2 = standard[v2] + v1_route[n] + v2_route[v1]\n",
    "\n",
    "answer = min(case1, case2)\n",
    "\n",
    "if answer < inf:\n",
    "    print(answer)\n",
    "else:\n",
    "    print(-1)"
   ]
  },
  {
   "cell_type": "markdown",
   "id": "586dd013",
   "metadata": {},
   "source": [
    "https://www.acmicpc.net/problem/9370"
   ]
  },
  {
   "cell_type": "code",
   "execution_count": null,
   "id": "125a408e",
   "metadata": {},
   "outputs": [],
   "source": [
    "# 백준 9370\n",
    "# 커플이 현재 최단경로로 이동하고 있다는 걸 명심하자. 출발지에서 목적지까지의 최단경로는 곧 g_h 거리를 거친 경로랑 같다.\n",
    "\n",
    "import heapq\n",
    "\n",
    "t = int(input())\n",
    "\n",
    "inf = int(1e9)\n",
    "def dijk(start):\n",
    "    distance = [inf] * (n+1)\n",
    "    queue = []\n",
    "    \n",
    "    heapq.heappush(queue, (0, start))\n",
    "    distance[start] = 0\n",
    "    \n",
    "    while queue:\n",
    "        dist, node = heapq.heappop(queue)\n",
    "        \n",
    "        if distance[node] < dist:\n",
    "            continue\n",
    "            \n",
    "        for i in edge[node]:\n",
    "            cost = dist + i[1]\n",
    "            \n",
    "            if cost < distance[i[0]]:\n",
    "                distance[i[0]] = cost\n",
    "                heapq.heappush(queue, (cost, i[0]))\n",
    "                \n",
    "    return distance\n",
    "        \n",
    "\n",
    "for i in range(t):\n",
    "    n, m, can = map(int, input().split())\n",
    "    s, g, h = map(int, input().split())\n",
    "    edge = [[] for _ in range(n+1)]\n",
    "    \n",
    "    for j in range(m):\n",
    "        a, b, c = map(int, input().split())\n",
    "        edge[a].append((b, c))\n",
    "        edge[b].append((a, c))\n",
    "        \n",
    "    \n",
    "    goal = []\n",
    "    for k in range(can):\n",
    "        goal.append(int(input()))\n",
    "        \n",
    "    standard = dijk(s)\n",
    "    g_route = dijk(g)\n",
    "    h_route = dijk(h)\n",
    "    \n",
    "    g_h = standard[g] + g_route[h]\n",
    "    h_g = standard[h] + h_route[g]\n",
    "    \n",
    "    goal_lst1 = [inf] * (n+1)\n",
    "    goal_lst2 = [inf] * (n+1)\n",
    "    \n",
    "    for j in goal:\n",
    "        goal_lst1[j] = g_route[j]\n",
    "        goal_lst2[j] = h_route[j]\n",
    "        \n",
    "        \n",
    "        \n",
    "    for j in range(n+1):\n",
    "        goal_lst1[j] += h_g\n",
    "        goal_lst2[j] += g_h\n",
    "        \n",
    "        \n",
    "        \n",
    "    answer = []    \n",
    "    for j in range(n+1):\n",
    "        if goal_lst1[j] < inf:\n",
    "            if min(goal_lst1[j], goal_lst2[j]) == goal_lst1[j]:\n",
    "                if goal_lst1[j] == standard[j]:\n",
    "                    answer.append(j)\n",
    "        \n",
    "            if min(goal_lst1[j], goal_lst2[j]) == goal_lst2[j]:\n",
    "                if goal_lst2[j] == standard[j]:\n",
    "                    answer.append(j)\n",
    "        \n",
    "\n",
    "                    \n",
    "    answer.sort()\n",
    "    print(*answer)\n",
    "        \n",
    "\n"
   ]
  },
  {
   "cell_type": "markdown",
   "id": "ffc9516c",
   "metadata": {},
   "source": [
    "https://www.acmicpc.net/problem/11404"
   ]
  },
  {
   "cell_type": "code",
   "execution_count": null,
   "id": "2491e2d8",
   "metadata": {},
   "outputs": [],
   "source": [
    "# 백준 11404\n",
    "\n",
    "n = int(input())\n",
    "m = int(input())\n",
    "\n",
    "inf = int(1e9)\n",
    "info = [[inf] * (n+1) for _ in range(n+1)]\n",
    "\n",
    "for i in range(n+1):\n",
    "    for j in range(n+1):\n",
    "        if i == j:\n",
    "            info[i][j] = 0\n",
    "            \n",
    "for i in range(m):\n",
    "    a, b, c = map(int, input().split())\n",
    "    info[a][b] = min(info[a][b], c)\n",
    "    \n",
    "for i in range(1, n+1):\n",
    "    for x in range(1, n+1):\n",
    "        for y in range(1, n+1):\n",
    "            info[x][y] = min(info[x][y], info[x][i] + info[i][y])\n",
    "            \n",
    "\n",
    "for i in range(1, n+1):\n",
    "    for j in range(1, n+1):\n",
    "        if info[i][j] == inf:\n",
    "            print(0, end = ' ')\n",
    "        \n",
    "        else:\n",
    "            print(info[i][j], end = ' ')\n",
    "            \n",
    "            \n",
    "    print()\n",
    "    \n"
   ]
  },
  {
   "cell_type": "markdown",
   "id": "58b4d3f7",
   "metadata": {},
   "source": [
    "https://www.acmicpc.net/problem/1956"
   ]
  },
  {
   "cell_type": "code",
   "execution_count": null,
   "id": "4d05d204",
   "metadata": {},
   "outputs": [],
   "source": [
    "# 백준 1956\n",
    "\n",
    "import heapq\n",
    "\n",
    "inf = int(1e9)\n",
    "v, e = map(int, input().split())\n",
    "city = [[inf] * (v+1) for _ in range(v+1)]\n",
    "\n",
    "for i in range(v+1):\n",
    "    for j in range(v+1):\n",
    "        if i == j:\n",
    "            city[i][j] = 0\n",
    "\n",
    "for i in range(e):\n",
    "    a, b, c = map(int, input().split())\n",
    "    city[a][b] = c\n",
    "    \n",
    "    \n",
    "for i in range(1, v+1):\n",
    "    for x in range(1, v+1):\n",
    "        for y in range(1, v+1):\n",
    "            city[x][y] = min(city[x][y], city[x][i] + city[i][y])\n",
    "            \n",
    "\n",
    "mini = inf                \n",
    "for i in range(1, v+1):\n",
    "    for j in range(1, v+1):\n",
    "        if i != j:\n",
    "            mini = min(mini, city[i][j] + city[j][i])\n",
    "\n",
    "\n",
    "\n",
    "if mini != inf:\n",
    "    print(mini)\n",
    "    \n",
    "else:\n",
    "    print(-1)"
   ]
  },
  {
   "cell_type": "code",
   "execution_count": 29,
   "id": "fdec7c5d",
   "metadata": {},
   "outputs": [
    {
     "name": "stdout",
     "output_type": "stream",
     "text": [
      "3 4\n",
      "1 2 1\n",
      "3 2 1\n",
      "1 3 5\n",
      "2 3 2\n",
      "3\n"
     ]
    }
   ],
   "source": [
    "# 백준 1956 다른 방법도 있음. 한 번에 계산하기.\n",
    "\n",
    "\n",
    "\n",
    "inf = int(1e9)\n",
    "v, e = map(int, input().split())\n",
    "city = [[inf] * (v+1) for _ in range(v+1)]\n",
    "\n",
    "for i in range(e):\n",
    "    a, b, c = map(int, input().split())\n",
    "    city[a][b] = c\n",
    "    \n",
    "    \n",
    "mini = inf\n",
    "for i in range(1, v+1):\n",
    "    for x in range(1, v+1):\n",
    "        for y in range(1, v+1):\n",
    "            city[x][y] = min(city[x][y], city[x][i] + city[i][y])\n",
    "            if x == y:\n",
    "                mini = min(mini, city[x][y])\n",
    "\n",
    "print(-1 if mini == inf else mini)"
   ]
  },
  {
   "cell_type": "markdown",
   "id": "17113c25",
   "metadata": {},
   "source": [
    "https://www.acmicpc.net/problem/10217"
   ]
  },
  {
   "cell_type": "code",
   "execution_count": null,
   "id": "26619938",
   "metadata": {},
   "outputs": [],
   "source": [
    "# 백준 10217...어렵다.\n",
    "\n",
    "import heapq\n",
    "\n",
    "\n",
    "t = int(input())\n",
    "for i in range(t):\n",
    "    dp = [0] * 101\n",
    "    n, m, k = map(int, input().split())\n",
    "    \n",
    "    course = [[] * (n+1)]\n",
    "    for j in range(k):\n",
    "        u, v, c, d = map(int, input().split())\n",
    "        course[u].append((v, d, c))\n",
    "        \n",
    "    \n",
    "        \n",
    "        \n",
    "        \n"
   ]
  },
  {
   "cell_type": "markdown",
   "id": "d2a5eded",
   "metadata": {},
   "source": [
    "https://www.acmicpc.net/problem/1916"
   ]
  },
  {
   "cell_type": "code",
   "execution_count": null,
   "id": "f4c5ce58",
   "metadata": {},
   "outputs": [],
   "source": [
    "# 백준 1916\n",
    "\n",
    "import heapq\n",
    "\n",
    "n = int(input())\n",
    "m = int(input())\n",
    "info = [[] * (n+1) for _ in range(n+1)]\n",
    "for i in range(m):\n",
    "    a, b, c = map(int, input().split())\n",
    "    info[a].append((b, c))\n",
    "    \n",
    "s, d = map(int, input().split())\n",
    "\n",
    "inf = int(1e9)\n",
    "def dijk(start):\n",
    "    distance = [inf] * (n+1)\n",
    "    queue = []\n",
    "    \n",
    "    heapq.heappush(queue, (0, start))\n",
    "    distance[start] = 0\n",
    "    \n",
    "    while queue:\n",
    "        dist, node = heapq.heappop(queue)\n",
    "        \n",
    "        if distance[node] < dist:\n",
    "            continue\n",
    "            \n",
    "        for i in info[node]:\n",
    "            cost = dist + i[1]\n",
    "            \n",
    "            if cost < distance[i[0]]:\n",
    "                distance[i[0]] = cost\n",
    "                heapq.heappush(queue, (cost, i[0]))\n",
    "                \n",
    "    return distance\n",
    "\n",
    "\n",
    "answer_lst = dijk(s)\n",
    "print(answer_lst[d])"
   ]
  },
  {
   "cell_type": "markdown",
   "id": "a612ba1b",
   "metadata": {},
   "source": [
    "https://www.acmicpc.net/problem/1238"
   ]
  },
  {
   "cell_type": "code",
   "execution_count": null,
   "id": "1b6257db",
   "metadata": {},
   "outputs": [],
   "source": [
    "# 백준 1238\n",
    "\n",
    "import heapq\n",
    "\n",
    "n, m, x = map(int, input().split())\n",
    "info = [[] * (n+1) for _ in range(n+1)]\n",
    "for i in range(m):\n",
    "    a, b, t = map(int, input().split())\n",
    "    info[a].append((b, t))\n",
    "    \n",
    "    \n",
    "inf = int(1e9)\n",
    "def dijk(start):\n",
    "    distance = [inf] * (n+1)\n",
    "    queue = []\n",
    "    \n",
    "    heapq.heappush(queue, (0, start))\n",
    "    distance[start] = 0\n",
    "    \n",
    "    while queue:\n",
    "        dist, node = heapq.heappop(queue)\n",
    "        \n",
    "        if distance[node] < dist:\n",
    "            continue\n",
    "            \n",
    "        for i in info[node]:\n",
    "            cost = dist + i[1]\n",
    "            \n",
    "            if cost < distance[i[0]]:\n",
    "                distance[i[0]] = cost\n",
    "                heapq.heappush(queue, (cost, i[0]))\n",
    "                \n",
    "    return distance\n",
    "\n",
    "\n",
    "\n",
    "lst = [0] * (n+1)\n",
    "for i in range(1, n+1):\n",
    "    lst[i] = dijk(i)[x]\n",
    "    lst[i] += dijk(x)[i]\n",
    "    \n",
    "    \n",
    "print(max(lst))"
   ]
  },
  {
   "cell_type": "markdown",
   "id": "3ef6afdd",
   "metadata": {},
   "source": [
    "https://www.acmicpc.net/problem/11779"
   ]
  },
  {
   "cell_type": "code",
   "execution_count": 46,
   "id": "819b6dcc",
   "metadata": {},
   "outputs": [
    {
     "name": "stdout",
     "output_type": "stream",
     "text": [
      "5\n",
      "8\n",
      "1 2 2\n",
      "1 3 3\n",
      "1 4 1\n",
      "1 5 10\n",
      "2 4 2\n",
      "3 4 1\n",
      "3 5 1\n",
      "4 5 3\n",
      "1 5\n",
      "4\n",
      "3\n",
      "1 4 5\n"
     ]
    }
   ],
   "source": [
    "# 백준 11779\n",
    "# https://developmentdiary.tistory.com/434 참고.\n",
    "\n",
    "import heapq\n",
    "\n",
    "n = int(input())\n",
    "m = int(input())\n",
    "\n",
    "info = [[] * (n+1) for _ in range(n+1)]\n",
    "for i in range(m):\n",
    "    a, b, c = map(int, input().split())\n",
    "    info[a].append((b, c))\n",
    "    \n",
    "s, d = map(int, input().split())\n",
    "\n",
    "\n",
    "inf = int(1e9)\n",
    "distance = [inf] * (n+1)\n",
    "history = [0] * (n+1)\n",
    "def dijk(start):\n",
    "\n",
    "    queue = []\n",
    "    \n",
    "    heapq.heappush(queue, (0, start))\n",
    "    distance[start] = 0\n",
    "    \n",
    "    while queue:\n",
    "        dist, node = heapq.heappop(queue)\n",
    "        \n",
    "        if distance[node] < dist:\n",
    "            continue\n",
    "            \n",
    "        for i in info[node]:\n",
    "            cost = dist + i[1]\n",
    "            \n",
    "            if cost < distance[i[0]]:\n",
    "                distance[i[0]] = cost\n",
    "                history[i[0]] = node\n",
    "                heapq.heappush(queue, (cost, i[0]))\n",
    "                \n",
    "\n",
    "\n",
    "dijk(s)\n",
    "\n",
    "path = [d]\n",
    "temp = history[d]\n",
    "while temp != 0:\n",
    "    path.append(temp)\n",
    "    temp = history[temp]\n",
    "    \n",
    "path.reverse()\n",
    "                \n",
    "print(distance[d])\n",
    "print(len(path))\n",
    "print(*path)"
   ]
  },
  {
   "cell_type": "code",
   "execution_count": 49,
   "id": "f9f12021",
   "metadata": {},
   "outputs": [
    {
     "data": {
      "text/plain": [
       "[0, 0, 1, 1, 1, 4]"
      ]
     },
     "execution_count": 49,
     "metadata": {},
     "output_type": "execute_result"
    }
   ],
   "source": [
    "history"
   ]
  },
  {
   "cell_type": "markdown",
   "id": "af07724e",
   "metadata": {},
   "source": [
    "https://www.acmicpc.net/problem/4485"
   ]
  },
  {
   "cell_type": "code",
   "execution_count": 12,
   "id": "ae2d5a5c",
   "metadata": {},
   "outputs": [
    {
     "name": "stdout",
     "output_type": "stream",
     "text": [
      "3\n",
      "5 5 4\n",
      "3 9 1\n",
      "3 2 7\n",
      "Problem 1: 20\n",
      "0\n"
     ]
    }
   ],
   "source": [
    "# 백준 4485\n",
    "\n",
    "import heapq\n",
    "\n",
    "\n",
    "dx = [-1, 1, 0, 0]\n",
    "dy = [0, 0, -1, 1]\n",
    "\n",
    "\n",
    "\n",
    "\n",
    "inf = int(1e9)\n",
    "def dijk(count):\n",
    "    bad_rupee = [[inf] * n for _ in range(n)]\n",
    "    queue = []\n",
    "    \n",
    "    heapq.heappush(queue, (cave[0][0], 0, 0))\n",
    "    bad_rupee[0][0] = 0\n",
    "    \n",
    "    while queue:\n",
    "        size, x, y = heapq.heappop(queue)\n",
    "        \n",
    "        if x == n-1 and y == n-1:\n",
    "            print(\"Problem {}: {}\".format(count, size))\n",
    "            return\n",
    "        \n",
    "        for i in range(4):\n",
    "            nx = x + dx[i]\n",
    "            ny = y + dy[i]\n",
    "            \n",
    "            \n",
    "            if nx < 0 or nx >= n or ny < 0 or ny >= n:\n",
    "                continue\n",
    "             \n",
    "            nsize = size + cave[nx][ny]\n",
    "            \n",
    "            if nsize < bad_rupee[nx][ny]:\n",
    "                bad_rupee[nx][ny] = nsize\n",
    "                heapq.heappush(queue, (nsize, nx, ny))\n",
    "        \n",
    "                \n",
    "                \n",
    "count = 1                \n",
    "while True:\n",
    "    n = int(input())\n",
    "    \n",
    "    if n == 0:\n",
    "        break\n",
    "    \n",
    "    cave = []\n",
    "    for i in range(n):\n",
    "        cave.append(list(map(int, input().split())))\n",
    "        \n",
    "    \n",
    "    dijk(count)\n",
    "    count += 1\n",
    "        \n",
    "        \n",
    "        \n",
    "     "
   ]
  },
  {
   "cell_type": "markdown",
   "id": "fe99a7b5",
   "metadata": {},
   "source": [
    "https://www.acmicpc.net/problem/1261"
   ]
  },
  {
   "cell_type": "code",
   "execution_count": 8,
   "id": "9c48fe54",
   "metadata": {},
   "outputs": [
    {
     "name": "stdout",
     "output_type": "stream",
     "text": [
      "3 3\n",
      "011\n",
      "111\n",
      "110\n"
     ]
    },
    {
     "ename": "UnboundLocalError",
     "evalue": "local variable 'count' referenced before assignment",
     "output_type": "error",
     "traceback": [
      "\u001b[1;31m---------------------------------------------------------------------------\u001b[0m",
      "\u001b[1;31mUnboundLocalError\u001b[0m                         Traceback (most recent call last)",
      "\u001b[1;32m<ipython-input-8-706a93a29f5f>\u001b[0m in \u001b[0;36m<module>\u001b[1;34m\u001b[0m\n\u001b[0;32m     47\u001b[0m \u001b[1;33m\u001b[0m\u001b[0m\n\u001b[0;32m     48\u001b[0m \u001b[1;33m\u001b[0m\u001b[0m\n\u001b[1;32m---> 49\u001b[1;33m \u001b[0mdijk\u001b[0m\u001b[1;33m(\u001b[0m\u001b[1;33m)\u001b[0m\u001b[1;33m\u001b[0m\u001b[1;33m\u001b[0m\u001b[0m\n\u001b[0m",
      "\u001b[1;32m<ipython-input-8-706a93a29f5f>\u001b[0m in \u001b[0;36mdijk\u001b[1;34m()\u001b[0m\n\u001b[0;32m     43\u001b[0m             \u001b[1;32mif\u001b[0m \u001b[0mncategory\u001b[0m \u001b[1;33m<\u001b[0m \u001b[0mw\u001b[0m\u001b[1;33m[\u001b[0m\u001b[0mnx\u001b[0m\u001b[1;33m]\u001b[0m\u001b[1;33m[\u001b[0m\u001b[0mny\u001b[0m\u001b[1;33m]\u001b[0m\u001b[1;33m:\u001b[0m\u001b[1;33m\u001b[0m\u001b[1;33m\u001b[0m\u001b[0m\n\u001b[0;32m     44\u001b[0m                 \u001b[0mw\u001b[0m\u001b[1;33m[\u001b[0m\u001b[0mnx\u001b[0m\u001b[1;33m]\u001b[0m\u001b[1;33m[\u001b[0m\u001b[0mny\u001b[0m\u001b[1;33m]\u001b[0m \u001b[1;33m=\u001b[0m \u001b[0mncategory\u001b[0m\u001b[1;33m\u001b[0m\u001b[1;33m\u001b[0m\u001b[0m\n\u001b[1;32m---> 45\u001b[1;33m                 \u001b[0mcount\u001b[0m \u001b[1;33m+=\u001b[0m \u001b[1;36m1\u001b[0m\u001b[1;33m\u001b[0m\u001b[1;33m\u001b[0m\u001b[0m\n\u001b[0m\u001b[0;32m     46\u001b[0m                 \u001b[0mheapq\u001b[0m\u001b[1;33m.\u001b[0m\u001b[0mheappush\u001b[0m\u001b[1;33m(\u001b[0m\u001b[0mqueue\u001b[0m\u001b[1;33m,\u001b[0m \u001b[1;33m(\u001b[0m\u001b[0mncategory\u001b[0m\u001b[1;33m,\u001b[0m \u001b[0mnx\u001b[0m\u001b[1;33m,\u001b[0m \u001b[0mny\u001b[0m\u001b[1;33m)\u001b[0m\u001b[1;33m)\u001b[0m\u001b[1;33m\u001b[0m\u001b[1;33m\u001b[0m\u001b[0m\n\u001b[0;32m     47\u001b[0m \u001b[1;33m\u001b[0m\u001b[0m\n",
      "\u001b[1;31mUnboundLocalError\u001b[0m: local variable 'count' referenced before assignment"
     ]
    }
   ],
   "source": [
    "# 백준 1261\n",
    "\n",
    "import heapq\n",
    "\n",
    "m, n = map(int, input().split())\n",
    "maze = []\n",
    "for i in range(n):\n",
    "    maze.append(list(map(int, input())))\n",
    "    \n",
    "\n",
    "\n",
    "dx = [-1, 1, 0, 0]\n",
    "dy = [0, 0, -1, 1]\n",
    "\n",
    "\n",
    "inf = int(1e9)\n",
    "w = [[inf] * n for _ in range(n)]\n",
    "history = [[0] * m for _ in range(n)] \n",
    "def dijk():\n",
    "\n",
    "    queue = []\n",
    "    \n",
    "    heapq.heappush(queue, (maze[0][0], 0, 0))\n",
    "    w[0][0] = 0\n",
    "    \n",
    "    while queue:\n",
    "        category, x, y = heapq.heappop(queue)\n",
    "        \n",
    "        if x == n-1 and y == m-1:\n",
    "            \n",
    "            return\n",
    "        \n",
    "        for i in range(4):\n",
    "            nx = x + dx[i]\n",
    "            ny = y + dy[i]\n",
    "            \n",
    "            \n",
    "            if nx < 0 or nx >= n or ny < 0 or ny >= m:\n",
    "                continue\n",
    "             \n",
    "            ncategory = category + maze[nx][ny]\n",
    "            \n",
    "            if ncategory < w[nx][ny]:\n",
    "                w[nx][ny] = ncategory\n",
    "                history[nx][ny] = category\n",
    "                heapq.heappush(queue, (ncategory, nx, ny))\n",
    "            \n"
   ]
  },
  {
   "cell_type": "markdown",
   "id": "6bfdbfbf",
   "metadata": {},
   "source": [
    "https://www.acmicpc.net/problem/10282"
   ]
  },
  {
   "cell_type": "code",
   "execution_count": null,
   "id": "9f55010e",
   "metadata": {},
   "outputs": [],
   "source": [
    "# 백준 10282\n",
    "\n",
    "import heapq\n",
    "\n",
    "inf = int(1e9)\n",
    "def dijk(start):\n",
    "    \n",
    "    \n",
    "    queue = []\n",
    "    heapq.heappush(queue, (0, start))\n",
    "    distance[start] = 0\n",
    "    \n",
    "    while queue:\n",
    "        dist, node = heapq.heappop(queue)\n",
    "        \n",
    "        if distance[node] < dist:\n",
    "            continue\n",
    "            \n",
    "        for next_, w in net[node]:\n",
    "            cost = dist + w\n",
    "            if cost < distance[next_]:\n",
    "                distance[next_] = cost\n",
    "                heapq.heappush(queue, (cost, next_))\n",
    "                \n",
    "     \n",
    "            \n",
    "    return distance\n",
    "            \n",
    "        \n",
    "        \n",
    "\n",
    "t = int(input())\n",
    "\n",
    "for i in range(t):\n",
    "    n, d, c = map(int, input().split())\n",
    "    net = [[] for _ in range(n+1)]\n",
    "    for j in range(d):\n",
    "        a, b, s = map(int, input().split())\n",
    "        net[b].append((a, s))\n",
    "        \n",
    "    distance = [inf] * (n+1)\n",
    "    dijk(c)\n",
    "    \n",
    "    count = 0\n",
    "    maxi = 0\n",
    "    for k in distance:\n",
    "        if k != inf:\n",
    "            count += 1\n",
    "            \n",
    "            if k > maxi:\n",
    "                maxi = k\n",
    "            \n",
    "        \n",
    "        \n",
    "    print(count, maxi)"
   ]
  },
  {
   "cell_type": "markdown",
   "id": "32774de0",
   "metadata": {},
   "source": [
    "https://www.acmicpc.net/problem/14938"
   ]
  },
  {
   "cell_type": "code",
   "execution_count": 31,
   "id": "5de6ef66",
   "metadata": {},
   "outputs": [
    {
     "name": "stdout",
     "output_type": "stream",
     "text": [
      "5 5 4\n",
      "5 7 8 2 3\n",
      "1 4 5\n",
      "5 2 4\n",
      "3 2 3\n",
      "1 2 3\n",
      "23\n"
     ]
    }
   ],
   "source": [
    "##### 백준 14938\n",
    "\n",
    "import heapq\n",
    "\n",
    "n, m, r = map(int, input().split())\n",
    "\n",
    "item = [0]\n",
    "item.extend(list(map(int, input().split())))\n",
    "\n",
    "field = [[] for _ in range(n+1)]\n",
    "for i in range(r):\n",
    "    a, b, l = map(int, input().split())\n",
    "    field[a].append((b, l))\n",
    "    field[b].append((a, l))\n",
    "    \n",
    "\n",
    "    \n",
    "    \n",
    "inf = int(1e9)\n",
    "def dijk(start):\n",
    "    distance = [inf] * (n+1)\n",
    "    queue = []\n",
    "    heapq.heappush(queue, (0, start))\n",
    "    distance[start] = 0\n",
    "    \n",
    "    while queue:\n",
    "        dist, node = heapq.heappop(queue)\n",
    "        \n",
    "        if distance[node] < dist:\n",
    "            continue\n",
    "            \n",
    "        for nxt, w in field[node]:\n",
    "            cost = dist + w\n",
    "            \n",
    "            if cost < distance[nxt]:\n",
    "                distance[nxt] = cost\n",
    "                heapq.heappush(queue, (cost, nxt))\n",
    "                \n",
    "    count = 0\n",
    "    for k in range(n+1):\n",
    "        if distance[k] <= m:\n",
    "            count += item[k]\n",
    "    \n",
    "    return count\n",
    "\n",
    "\n",
    "\n",
    "\n",
    "maxi = 0\n",
    "for i in range(1, n):\n",
    "    maxi = max(maxi, dijk(i))\n",
    "    \n",
    "    \n",
    "print(maxi)"
   ]
  },
  {
   "cell_type": "markdown",
   "id": "765dace4",
   "metadata": {},
   "source": [
    "https://www.acmicpc.net/problem/1719"
   ]
  },
  {
   "cell_type": "code",
   "execution_count": 13,
   "id": "b5128297",
   "metadata": {},
   "outputs": [
    {
     "name": "stdout",
     "output_type": "stream",
     "text": [
      "6 10\n",
      "1 2 2\n",
      "1 3 1\n",
      "2 4 5\n",
      "2 5 3\n",
      "2 6 7\n",
      "3 4 4\n",
      "3 5 6\n",
      "3 6 7\n",
      "4 6 4\n",
      "5 6 2\n",
      "- 2 3 3 2 2\n",
      "1 - 1 4 5 5\n",
      "1 1 - 4 5 6\n",
      "3 2 3 - 6 6\n",
      "2 2 3 6 - 6\n",
      "5 5 3 4 5 -\n"
     ]
    }
   ],
   "source": [
    "# 백준 1719\n",
    "# https://yongjoonseo.dev/problem%20solving/PS-baekjoon014/\n",
    "# https://lotuslee.tistory.com/99\n",
    "\n",
    "n, m = map(int, input().split())\n",
    "\n",
    "inf = int(1e9)\n",
    "post = [[inf] * (n+1) for _ in range(n+1)]\n",
    "for i in range(1, n+1):\n",
    "    post[i][i] = 0\n",
    "    \n",
    "where = [['-'] * (n+1) for j in range(n+1)]\n",
    "for i in range(1, n+1):\n",
    "    for j in range(1, n+1):\n",
    "        if i != j:\n",
    "            where[i][j] = j\n",
    "            where[j][i] = i\n",
    "        \n",
    "\n",
    "for i in range(m):\n",
    "    a, b, c = map(int, input().split())\n",
    "    post[a][b] = c\n",
    "    post[b][a] = c\n",
    "    \n",
    "\n",
    "for k in range(1, n+1):\n",
    "    for i in range(1, n+1):\n",
    "        for j in range(1, n+1):\n",
    "            if post[i][j] > post[i][k] + post[k][j]:\n",
    "                post[i][j] = post[i][k] + post[k][j]\n",
    "                where[i][j] = k\n",
    "                \n",
    "            \n",
    "for i in range(1, n+1):\n",
    "    for j in range(1, n+1):\n",
    "        if i == j:\n",
    "            continue\n",
    "        \n",
    "        k = where[i][j]\n",
    "        while not where[i][k] == k:\n",
    "            k = where[i][k]\n",
    "            \n",
    "        where[i][j] = k\n",
    "        \n",
    "        \n",
    "        \n",
    "for i in range(1, n+1):\n",
    "    print(*where[i][1:])\n",
    "                \n",
    "            \n"
   ]
  },
  {
   "cell_type": "code",
   "execution_count": null,
   "id": "b404ac0c",
   "metadata": {},
   "outputs": [],
   "source": [
    "6 10\n",
    "1 2 2\n",
    "1 3 1\n",
    "2 4 5\n",
    "2 5 3\n",
    "2 6 7\n",
    "3 4 4\n",
    "3 5 6\n",
    "3 6 7\n",
    "4 6 4\n",
    "5 6 2\n",
    "\n",
    "\n",
    "\n",
    "arrive = table[i][j]\n",
    "        while not table[i][arrive] == arrive:\n",
    "            arrive = table[i][arrive]\n",
    "        table[i][j] = arrive            "
   ]
  },
  {
   "cell_type": "code",
   "execution_count": 11,
   "id": "3fae522d",
   "metadata": {},
   "outputs": [
    {
     "data": {
      "text/plain": [
       "[['-', '-', '-', '-', '-', '-', '-'],\n",
       " ['-', '-', 1, 1, 3, 2, 5],\n",
       " ['-', 2, '-', 1, 2, 2, 5],\n",
       " ['-', 3, 1, '-', 3, 3, 3],\n",
       " ['-', 3, 4, 4, '-', 6, 4],\n",
       " ['-', 2, 5, 5, 6, '-', 5],\n",
       " ['-', 5, 5, 6, 6, 6, '-']]"
      ]
     },
     "execution_count": 11,
     "metadata": {},
     "output_type": "execute_result"
    }
   ],
   "source": [
    "where"
   ]
  },
  {
   "cell_type": "code",
   "execution_count": 14,
   "id": "9c1da867",
   "metadata": {},
   "outputs": [
    {
     "data": {
      "text/plain": [
       "[['-', '-', '-', '-', '-', '-', '-'],\n",
       " ['-', '-', 2, 3, 3, 2, 2],\n",
       " ['-', 1, '-', 1, 4, 5, 5],\n",
       " ['-', 1, 1, '-', 4, 5, 6],\n",
       " ['-', 3, 2, 3, '-', 6, 6],\n",
       " ['-', 2, 2, 3, 6, '-', 6],\n",
       " ['-', 5, 5, 3, 4, 5, '-']]"
      ]
     },
     "execution_count": 14,
     "metadata": {},
     "output_type": "execute_result"
    }
   ],
   "source": [
    "where"
   ]
  },
  {
   "cell_type": "markdown",
   "id": "e9fdbc18",
   "metadata": {},
   "source": [
    "https://www.acmicpc.net/problem/1162"
   ]
  },
  {
   "cell_type": "code",
   "execution_count": 67,
   "id": "ab6f8b3c",
   "metadata": {},
   "outputs": [
    {
     "name": "stdout",
     "output_type": "stream",
     "text": [
      "4 4 1\n",
      "1 2 10\n",
      "2 4 10\n",
      "1 3 1\n",
      "3 4 100\n",
      "10\n"
     ]
    }
   ],
   "source": [
    "# 백준 1162\n",
    "\n",
    "import heapq\n",
    "\n",
    "n, m, k = map(int, input().split())\n",
    "\n",
    "course = [[[v, inf] for v in range(n+1)] for _ in range(n+1)]\n",
    "for i in range(m):\n",
    "    a, b, c = map(int, input().split())\n",
    "    course[a][b] = [b, c]\n",
    "    course[b][a] = [a, c]\n",
    "    \n",
    "inf = int(1e9)\n",
    "distance = [inf] * (n+1)\n",
    "history = [0] * (n+1)\n",
    "def dijk(start):\n",
    "    \n",
    "    queue = []\n",
    "    \n",
    "    heapq.heappush(queue, (0, start))\n",
    "    distance[start] = 0\n",
    "    \n",
    "    while queue:\n",
    "        dist, node = heapq.heappop(queue)\n",
    "        \n",
    "        if distance[node] < dist:\n",
    "            continue\n",
    "            \n",
    "        for nxt, w in course[node]:\n",
    "            cost = dist + w\n",
    "            \n",
    "            if cost < distance[nxt]:\n",
    "                distance[nxt] = cost\n",
    "                history[nxt] = node\n",
    "                heapq.heappush(queue, (cost, nxt))\n",
    "                \n",
    "    return distance\n",
    "                \n",
    "\n",
    "                \n",
    "                \n",
    "dijk(1)\n",
    "\n",
    "path = [n]\n",
    "temp = history[n]\n",
    "while temp != 0:\n",
    "    path.append(temp)\n",
    "    temp = history[temp]\n",
    "    \n",
    "\n",
    "w = []\n",
    "for i in range(1, len(path)):\n",
    "    w.append((path[i-1], path[i], course[path[i-1]][path[i]][1]))\n",
    "    \n",
    "w = sorted(w, key = lambda x : -x[2])\n",
    "    \n",
    "for i in range(k):\n",
    "    course[w[i][0]][w[i][1]] = [w[i][1], 0]\n",
    "    course[w[i][1]][w[i][0]] = [w[i][0], 0]\n",
    "\n",
    "    \n",
    "distance = [inf] * (n+1)\n",
    "print(dijk(1)[n])\n",
    "\n"
   ]
  },
  {
   "cell_type": "code",
   "execution_count": null,
   "id": "e4d773b7",
   "metadata": {},
   "outputs": [],
   "source": [
    "4 4 1\n",
    "1 2 10\n",
    "2 4 10\n",
    "1 3 1\n",
    "3 4 100"
   ]
  },
  {
   "cell_type": "code",
   "execution_count": null,
   "id": "4006bb94",
   "metadata": {},
   "outputs": [],
   "source": [
    "for i in path:\n",
    "    w.append(course[i])\n",
    "    \n",
    "########    \n",
    "w = []\n",
    "for i in range(1, len(path)):\n",
    "    w.append((path[i-1], course[path[i-1]][0], course[path[i-1]][1]))\n",
    "    \n",
    "w = sorted(w, key = lambda x : -x[2])\n",
    "\n",
    "for i in range(k):\n",
    "    \n",
    "    couse[w[i][0]][1] = 0\n",
    "    couse[r][1] = 0\n",
    "\n",
    "\n",
    "for i in range(1, len(path)):\n",
    "    co"
   ]
  },
  {
   "cell_type": "code",
   "execution_count": 68,
   "id": "668979df",
   "metadata": {},
   "outputs": [
    {
     "data": {
      "text/plain": [
       "[[[0, 1000000000],\n",
       "  [1, 1000000000],\n",
       "  [2, 1000000000],\n",
       "  [3, 1000000000],\n",
       "  [4, 1000000000]],\n",
       " [[0, 1000000000], [1, 1000000000], [2, 10], [3, 1], [4, 1000000000]],\n",
       " [[0, 1000000000], [1, 10], [2, 1000000000], [3, 1000000000], [4, 0]],\n",
       " [[0, 1000000000], [1, 1], [2, 1000000000], [3, 1000000000], [4, 100]],\n",
       " [[0, 1000000000], [1, 1000000000], [2, 0], [3, 100], [4, 1000000000]]]"
      ]
     },
     "execution_count": 68,
     "metadata": {},
     "output_type": "execute_result"
    }
   ],
   "source": [
    "course"
   ]
  },
  {
   "cell_type": "code",
   "execution_count": 69,
   "id": "7bf93e96",
   "metadata": {},
   "outputs": [
    {
     "data": {
      "text/plain": [
       "[(4, 2, 10), (2, 1, 10)]"
      ]
     },
     "execution_count": 69,
     "metadata": {},
     "output_type": "execute_result"
    }
   ],
   "source": [
    "w\n"
   ]
  },
  {
   "cell_type": "code",
   "execution_count": 70,
   "id": "f6442546",
   "metadata": {},
   "outputs": [
    {
     "data": {
      "text/plain": [
       "[4, 2, 1]"
      ]
     },
     "execution_count": 70,
     "metadata": {},
     "output_type": "execute_result"
    }
   ],
   "source": [
    "path"
   ]
  },
  {
   "cell_type": "code",
   "execution_count": 71,
   "id": "f7c84a28",
   "metadata": {},
   "outputs": [
    {
     "data": {
      "text/plain": [
       "[0, 0, 1, 1, 2]"
      ]
     },
     "execution_count": 71,
     "metadata": {},
     "output_type": "execute_result"
    }
   ],
   "source": [
    "history"
   ]
  },
  {
   "cell_type": "code",
   "execution_count": 72,
   "id": "49c3292a",
   "metadata": {},
   "outputs": [
    {
     "data": {
      "text/plain": [
       "[1000000000, 0, 10, 1, 10]"
      ]
     },
     "execution_count": 72,
     "metadata": {},
     "output_type": "execute_result"
    }
   ],
   "source": [
    "distance"
   ]
  },
  {
   "cell_type": "code",
   "execution_count": 73,
   "id": "4057453a",
   "metadata": {},
   "outputs": [
    {
     "name": "stdout",
     "output_type": "stream",
     "text": [
      "4 4 1\n",
      "1 2 0\n",
      "2 4 10\n",
      "1 3 1\n",
      "3 4 100\n"
     ]
    },
    {
     "data": {
      "text/plain": [
       "[1000000000, 0, 0, 1, 10]"
      ]
     },
     "execution_count": 73,
     "metadata": {},
     "output_type": "execute_result"
    }
   ],
   "source": [
    "import heapq\n",
    "\n",
    "n, m, k = map(int, input().split())\n",
    "\n",
    "course = [[] for _ in range(n+1)]\n",
    "for i in range(m):\n",
    "    a, b, c = map(int, input().split())\n",
    "    course[a].append([b, c])\n",
    "    course[b].append([a, c])\n",
    "    \n",
    "inf = int(1e9)\n",
    "distance = [inf] * (n+1)\n",
    "history = [0] * (n+1)\n",
    "def dijk(start):\n",
    "    \n",
    "    queue = []\n",
    "    \n",
    "    heapq.heappush(queue, (0, start))\n",
    "    distance[start] = 0\n",
    "    \n",
    "    while queue:\n",
    "        dist, node = heapq.heappop(queue)\n",
    "        \n",
    "        if distance[node] < dist:\n",
    "            continue\n",
    "            \n",
    "        for nxt, w in course[node]:\n",
    "            cost = dist + w\n",
    "            \n",
    "            if cost < distance[nxt]:\n",
    "                distance[nxt] = cost\n",
    "                history[nxt] = node\n",
    "                heapq.heappush(queue, (cost, nxt))\n",
    "                \n",
    "    return distance\n",
    "                \n",
    "dijk(1)"
   ]
  },
  {
   "cell_type": "code",
   "execution_count": null,
   "id": "f13e088f",
   "metadata": {},
   "outputs": [],
   "source": [
    "4 4 1\n",
    "1 2 10\n",
    "2 4 10\n",
    "1 3 1\n",
    "3 4 100"
   ]
  }
 ],
 "metadata": {
  "kernelspec": {
   "display_name": "Python 3",
   "language": "python",
   "name": "python3"
  },
  "language_info": {
   "codemirror_mode": {
    "name": "ipython",
    "version": 3
   },
   "file_extension": ".py",
   "mimetype": "text/x-python",
   "name": "python",
   "nbconvert_exporter": "python",
   "pygments_lexer": "ipython3",
   "version": "3.8.8"
  }
 },
 "nbformat": 4,
 "nbformat_minor": 5
}
