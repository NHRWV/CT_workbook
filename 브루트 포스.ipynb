{
 "cells": [
  {
   "cell_type": "code",
   "execution_count": null,
   "metadata": {},
   "outputs": [],
   "source": [
    "# 백준 2798\n",
    "\n",
    "n, m = map(int, input().split())\n",
    "card = list(map(int, input().split()))\n",
    "bj = 0\n",
    "\n",
    "for i in range(len(card)):\n",
    "    for j in range(i + 1, len(card)):\n",
    "        for k in range(j + 1, len(card)):\n",
    "            if bj < card[i] + card[j] + card[k] <= m:\n",
    "                bj = card[i] + card[j] + card[k]\n",
    "print(bj)"
   ]
  },
  {
   "cell_type": "code",
   "execution_count": null,
   "metadata": {},
   "outputs": [],
   "source": [
    "# 백준 2231\n",
    "\n",
    "n = int(input())\n",
    "m_num = 0\n",
    "while True:\n",
    "    num = m_num\n",
    "    for i in range(len(str(m_num))):\n",
    "        \n",
    "        num += int(str(m_num)[i])\n",
    "    \n",
    "    if num == n:\n",
    "        break\n",
    "    elif m_num > n:\n",
    "        break\n",
    "    \n",
    "    m_num += 1\n",
    "\n",
    "if num == n:\n",
    "    print(m_num)\n",
    "else:\n",
    "    print(0)"
   ]
  },
  {
   "cell_type": "code",
   "execution_count": 12,
   "metadata": {},
   "outputs": [
    {
     "name": "stdout",
     "output_type": "stream",
     "text": [
      "5\n",
      "55 185\n",
      "58 183\n",
      "88 186\n",
      "60 175\n",
      "46 155\n",
      "22125"
     ]
    }
   ],
   "source": [
    "# 백준 7568\n",
    "\n",
    "n = int(input())\n",
    "ls = []\n",
    "for i in range(n):\n",
    "    x, y = map(int, input().split())\n",
    "    ls.append((x, y))\n",
    "    \n",
    "for j in ls:\n",
    "    rank = 1\n",
    "    for k in ls:\n",
    "        if j[0] < k[0] and j[1] < k[1]:\n",
    "            rank += 1\n",
    "            \n",
    "    print(rank, end = \" \")\n",
    "            "
   ]
  },
  {
   "cell_type": "code",
   "execution_count": 13,
   "metadata": {},
   "outputs": [
    {
     "name": "stdout",
     "output_type": "stream",
     "text": [
      "3\n",
      "55 185\n",
      "58 183\n",
      "88 186\n",
      "2 2 1\n"
     ]
    }
   ],
   "source": [
    "# 백준 7568. shovpark이란 사람의 코드다. *rank 라는 방법이 있다는 걸 알았다.\n",
    "\n",
    "N = int(input())\n",
    "sizes = [tuple(map(int, input().split())) for _ in range(N)]\n",
    "rank = []\n",
    "for i in range(N):\n",
    "    w, h, r = sizes[i][0], sizes[i][1], 0\n",
    "    for j in range(N):\n",
    "        if sizes[j][0] > w and sizes[j][1] > h: r += 1\n",
    "    rank.append(r+1)\n",
    "print(*rank)\n"
   ]
  },
  {
   "cell_type": "code",
   "execution_count": 56,
   "metadata": {},
   "outputs": [
    {
     "name": "stdout",
     "output_type": "stream",
     "text": [
      "8 8\n",
      "WBWBWBWB\n",
      "BWBWBWBW\n",
      "WBWBWBWB\n",
      "BWBBBWBW\n",
      "WBWBWBWB\n",
      "BWBWBWBW\n",
      "WBWBWBWB\n",
      "BWBWBWBW\n",
      "0\n"
     ]
    }
   ],
   "source": [
    "# 백준 1018\n",
    "\n",
    "n, m = map(int, input().split())\n",
    "board = []\n",
    "for i in range(n):\n",
    "    line = input().upper()\n",
    "    board.append(line)\n",
    "\n",
    "cnt_ls = []\n",
    "\n",
    "for i in range(n-7):\n",
    "    for j in range(m-7):\n",
    "        count = 0\n",
    "        for k in range(i, i+8, 2):\n",
    "            for h in range(j, j+8, 2):\n",
    "                while (k+1 > i+8) and (h+1 > j+8):\n",
    "                    if board[k][h] == board[k+1][h]:\n",
    "                        count += 1\n",
    "                    elif board[k][h] == board[k][h+1]:\n",
    "                        count += 1\n",
    "                     \n",
    "                \n",
    "        cnt_ls.append(count)\n",
    "\n",
    "\n",
    "print(min(cnt_ls))"
   ]
  },
  {
   "cell_type": "code",
   "execution_count": 3,
   "metadata": {},
   "outputs": [
    {
     "name": "stdout",
     "output_type": "stream",
     "text": [
      "8 8\n",
      "WBWBWBWB\n",
      "BWBWBWBW\n",
      "WBWBWBWB\n",
      "BWBBBWBW\n",
      "WBWBWBWB\n",
      "BWBWBWBW\n",
      "WBWBWBWB\n",
      "BWBWBWBW\n",
      "0\n"
     ]
    }
   ],
   "source": [
    "## 복제한 버전 try except\n",
    "n, m = map(int, input().split())\n",
    "board = []\n",
    "for i in range(n):\n",
    "    line = input().upper()\n",
    "    board.append(line)\n",
    "\n",
    "cnt_ls = []\n",
    "\n",
    "for i in range(n-7):\n",
    "    for j in range(m-7):\n",
    "        count = 0\n",
    "        for k in range(i, i+8, 2):\n",
    "            for h in range(j, j+8, 2):\n",
    "                if board[k][h] == board[k+1][h]:\n",
    "                        count += 1\n",
    "                elif board[k][h] == board[k][h+1]:\n",
    "                        count += 1\n",
    "                     \n",
    "                \n",
    "        \n",
    "        cnt_ls.append(count)\n",
    "\n",
    "\n",
    "print(min(cnt_ls))"
   ]
  },
  {
   "cell_type": "code",
   "execution_count": 4,
   "metadata": {},
   "outputs": [
    {
     "data": {
      "text/plain": [
       "[0]"
      ]
     },
     "execution_count": 4,
     "metadata": {},
     "output_type": "execute_result"
    }
   ],
   "source": [
    "cnt_ls"
   ]
  },
  {
   "cell_type": "code",
   "execution_count": 5,
   "metadata": {},
   "outputs": [
    {
     "data": {
      "text/plain": [
       "['WBWBWBWB',\n",
       " 'BWBWBWBW',\n",
       " 'WBWBWBWB',\n",
       " 'BWBBBWBW',\n",
       " 'WBWBWBWB',\n",
       " 'BWBWBWBW',\n",
       " 'WBWBWBWB',\n",
       " 'BWBWBWBW']"
      ]
     },
     "execution_count": 5,
     "metadata": {},
     "output_type": "execute_result"
    }
   ],
   "source": [
    "board"
   ]
  },
  {
   "cell_type": "code",
   "execution_count": 53,
   "metadata": {},
   "outputs": [
    {
     "name": "stdout",
     "output_type": "stream",
     "text": [
      "range(1, 10)\n"
     ]
    }
   ],
   "source": [
    "                try:\n",
    "                    if board[k][h] == board[k+1][h]:\n",
    "                        count += 1\n",
    "                    elif board[k][h] == board[k][h+1]:\n",
    "                        count += 1\n",
    "                     \n",
    "                except:\n",
    "                    continue"
   ]
  },
  {
   "cell_type": "code",
   "execution_count": 11,
   "metadata": {},
   "outputs": [
    {
     "name": "stdout",
     "output_type": "stream",
     "text": [
      "2\n",
      "1666\n"
     ]
    }
   ],
   "source": [
    "# 백준 1436\n",
    "\n",
    "n = int(input())\n",
    "movie = []\n",
    "num = 1\n",
    "\n",
    "while len(movie) < n:\n",
    "    if str(num).count('666') >= 1:\n",
    "        movie.append(num)\n",
    "    num += 1\n",
    "\n",
    "print(movie[n-1])"
   ]
  }
 ],
 "metadata": {
  "kernelspec": {
   "display_name": "Python 3",
   "language": "python",
   "name": "python3"
  },
  "language_info": {
   "codemirror_mode": {
    "name": "ipython",
    "version": 3
   },
   "file_extension": ".py",
   "mimetype": "text/x-python",
   "name": "python",
   "nbconvert_exporter": "python",
   "pygments_lexer": "ipython3",
   "version": "3.7.5"
  }
 },
 "nbformat": 4,
 "nbformat_minor": 2
}
