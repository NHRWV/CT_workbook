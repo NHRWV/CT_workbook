{
 "cells": [
  {
   "cell_type": "code",
   "execution_count": null,
   "metadata": {},
   "outputs": [],
   "source": [
    "# 백준 2798\n",
    "\n",
    "n, m = map(int, input().split())\n",
    "card = list(map(int, input().split()))\n",
    "bj = 0\n",
    "\n",
    "for i in range(len(card)):\n",
    "    for j in range(i + 1, len(card)):\n",
    "        for k in range(j + 1, len(card)):\n",
    "            if bj < card[i] + card[j] + card[k] <= m:\n",
    "                bj = card[i] + card[j] + card[k]\n",
    "print(bj)"
   ]
  },
  {
   "cell_type": "code",
   "execution_count": null,
   "metadata": {},
   "outputs": [],
   "source": [
    "# 백준 2231\n",
    "\n",
    "n = int(input())\n",
    "m_num = 0\n",
    "while True:\n",
    "    num = m_num\n",
    "    for i in range(len(str(m_num))):\n",
    "        \n",
    "        num += int(str(m_num)[i])\n",
    "    \n",
    "    if num == n:\n",
    "        break\n",
    "    elif m_num > n:\n",
    "        break\n",
    "    \n",
    "    m_num += 1\n",
    "\n",
    "if num == n:\n",
    "    print(m_num)\n",
    "else:\n",
    "    print(0)"
   ]
  },
  {
   "cell_type": "code",
   "execution_count": 12,
   "metadata": {},
   "outputs": [
    {
     "name": "stdout",
     "output_type": "stream",
     "text": [
      "5\n",
      "55 185\n",
      "58 183\n",
      "88 186\n",
      "60 175\n",
      "46 155\n",
      "22125"
     ]
    }
   ],
   "source": [
    "# 백준 7568\n",
    "\n",
    "n = int(input())\n",
    "ls = []\n",
    "for i in range(n):\n",
    "    x, y = map(int, input().split())\n",
    "    ls.append((x, y))\n",
    "    \n",
    "for j in ls:\n",
    "    rank = 1\n",
    "    for k in ls:\n",
    "        if j[0] < k[0] and j[1] < k[1]:\n",
    "            rank += 1\n",
    "            \n",
    "    print(rank, end = \" \")\n",
    "            "
   ]
  },
  {
   "cell_type": "code",
   "execution_count": 13,
   "metadata": {},
   "outputs": [
    {
     "name": "stdout",
     "output_type": "stream",
     "text": [
      "3\n",
      "55 185\n",
      "58 183\n",
      "88 186\n",
      "2 2 1\n"
     ]
    }
   ],
   "source": [
    "# 백준 7568. shovpark이란 사람의 코드다. *rank 라는 방법이 있다는 걸 알았다.\n",
    "\n",
    "N = int(input())\n",
    "sizes = [tuple(map(int, input().split())) for _ in range(N)]\n",
    "rank = []\n",
    "for i in range(N):\n",
    "    w, h, r = sizes[i][0], sizes[i][1], 0\n",
    "    for j in range(N):\n",
    "        if sizes[j][0] > w and sizes[j][1] > h: r += 1\n",
    "    rank.append(r+1)\n",
    "print(*rank)\n"
   ]
  },
  {
   "cell_type": "code",
   "execution_count": 56,
   "metadata": {},
   "outputs": [
    {
     "name": "stdout",
     "output_type": "stream",
     "text": [
      "8 8\n",
      "WBWBWBWB\n",
      "BWBWBWBW\n",
      "WBWBWBWB\n",
      "BWBBBWBW\n",
      "WBWBWBWB\n",
      "BWBWBWBW\n",
      "WBWBWBWB\n",
      "BWBWBWBW\n",
      "0\n"
     ]
    }
   ],
   "source": [
    "# 백준 1018\n",
    "\n",
    "n, m = map(int, input().split())\n",
    "board = []\n",
    "for i in range(n):\n",
    "    line = input().upper()\n",
    "    board.append(line)\n",
    "\n",
    "cnt_ls = []\n",
    "\n",
    "for i in range(n-7):\n",
    "    for j in range(m-7):\n",
    "        count = 0\n",
    "        for k in range(i, i+8, 2):\n",
    "            for h in range(j, j+8, 2):\n",
    "                while (k+1 > i+8) and (h+1 > j+8):\n",
    "                    if board[k][h] == board[k+1][h]:\n",
    "                        count += 1\n",
    "                    elif board[k][h] == board[k][h+1]:\n",
    "                        count += 1\n",
    "                     \n",
    "                \n",
    "        cnt_ls.append(count)\n",
    "\n",
    "\n",
    "print(min(cnt_ls))"
   ]
  },
  {
   "cell_type": "code",
   "execution_count": 3,
   "metadata": {},
   "outputs": [
    {
     "name": "stdout",
     "output_type": "stream",
     "text": [
      "8 8\n",
      "WBWBWBWB\n",
      "BWBWBWBW\n",
      "WBWBWBWB\n",
      "BWBBBWBW\n",
      "WBWBWBWB\n",
      "BWBWBWBW\n",
      "WBWBWBWB\n",
      "BWBWBWBW\n",
      "0\n"
     ]
    }
   ],
   "source": [
    "## 복제한 버전 try except\n",
    "n, m = map(int, input().split())\n",
    "board = []\n",
    "for i in range(n):\n",
    "    line = input().upper()\n",
    "    board.append(line)\n",
    "\n",
    "cnt_ls = []\n",
    "\n",
    "for i in range(n-7):\n",
    "    for j in range(m-7):\n",
    "        count = 0\n",
    "        for k in range(i, i+8, 2):\n",
    "            for h in range(j, j+8, 2):\n",
    "                if board[k][h] == board[k+1][h]:\n",
    "                        count += 1\n",
    "                elif board[k][h] == board[k][h+1]:\n",
    "                        count += 1\n",
    "                     \n",
    "                \n",
    "        \n",
    "        cnt_ls.append(count)\n",
    "\n",
    "\n",
    "print(min(cnt_ls))"
   ]
  },
  {
   "cell_type": "code",
   "execution_count": 4,
   "metadata": {},
   "outputs": [
    {
     "data": {
      "text/plain": [
       "[0]"
      ]
     },
     "execution_count": 4,
     "metadata": {},
     "output_type": "execute_result"
    }
   ],
   "source": [
    "cnt_ls"
   ]
  },
  {
   "cell_type": "code",
   "execution_count": 5,
   "metadata": {},
   "outputs": [
    {
     "data": {
      "text/plain": [
       "['WBWBWBWB',\n",
       " 'BWBWBWBW',\n",
       " 'WBWBWBWB',\n",
       " 'BWBBBWBW',\n",
       " 'WBWBWBWB',\n",
       " 'BWBWBWBW',\n",
       " 'WBWBWBWB',\n",
       " 'BWBWBWBW']"
      ]
     },
     "execution_count": 5,
     "metadata": {},
     "output_type": "execute_result"
    }
   ],
   "source": [
    "board"
   ]
  },
  {
   "cell_type": "code",
   "execution_count": 53,
   "metadata": {},
   "outputs": [
    {
     "name": "stdout",
     "output_type": "stream",
     "text": [
      "range(1, 10)\n"
     ]
    }
   ],
   "source": [
    "                try:\n",
    "                    if board[k][h] == board[k+1][h]:\n",
    "                        count += 1\n",
    "                    elif board[k][h] == board[k][h+1]:\n",
    "                        count += 1\n",
    "                     \n",
    "                except:\n",
    "                    continue"
   ]
  },
  {
   "cell_type": "code",
   "execution_count": 11,
   "metadata": {},
   "outputs": [
    {
     "name": "stdout",
     "output_type": "stream",
     "text": [
      "2\n",
      "1666\n"
     ]
    }
   ],
   "source": [
    "# 백준 1436\n",
    "\n",
    "n = int(input())\n",
    "movie = []\n",
    "num = 1\n",
    "\n",
    "while len(movie) < n:\n",
    "    if str(num).count('666') >= 1:\n",
    "        movie.append(num)\n",
    "    num += 1\n",
    "\n",
    "print(movie[n-1])"
   ]
  },
  {
   "cell_type": "code",
   "execution_count": 9,
   "metadata": {},
   "outputs": [
    {
     "name": "stdout",
     "output_type": "stream",
     "text": [
      "8\n"
     ]
    },
    {
     "ename": "IndexError",
     "evalue": "list index out of range",
     "output_type": "error",
     "traceback": [
      "\u001b[1;31m---------------------------------------------------------------------------\u001b[0m",
      "\u001b[1;31mIndexError\u001b[0m                                Traceback (most recent call last)",
      "\u001b[1;32m<ipython-input-9-1fd56a97f642>\u001b[0m in \u001b[0;36m<module>\u001b[1;34m\u001b[0m\n\u001b[0;32m     55\u001b[0m     \u001b[1;32mreturn\u001b[0m \u001b[0mqueen\u001b[0m\u001b[1;33m(\u001b[0m\u001b[0my\u001b[0m\u001b[1;33m+\u001b[0m\u001b[1;36m1\u001b[0m\u001b[1;33m)\u001b[0m\u001b[1;33m\u001b[0m\u001b[1;33m\u001b[0m\u001b[0m\n\u001b[0;32m     56\u001b[0m \u001b[1;33m\u001b[0m\u001b[0m\n\u001b[1;32m---> 57\u001b[1;33m \u001b[0mqueen\u001b[0m\u001b[1;33m(\u001b[0m\u001b[0my\u001b[0m\u001b[1;33m)\u001b[0m\u001b[1;33m\u001b[0m\u001b[1;33m\u001b[0m\u001b[0m\n\u001b[0m\u001b[0;32m     58\u001b[0m \u001b[1;33m\u001b[0m\u001b[0m\n\u001b[0;32m     59\u001b[0m \u001b[0mprint\u001b[0m\u001b[1;33m(\u001b[0m\u001b[0mcount\u001b[0m\u001b[1;33m)\u001b[0m\u001b[1;33m\u001b[0m\u001b[1;33m\u001b[0m\u001b[0m\n",
      "\u001b[1;32m<ipython-input-9-1fd56a97f642>\u001b[0m in \u001b[0;36mqueen\u001b[1;34m(y)\u001b[0m\n\u001b[0;32m     53\u001b[0m     \u001b[0mx\u001b[0m \u001b[1;33m+=\u001b[0m \u001b[1;36m1\u001b[0m\u001b[1;33m\u001b[0m\u001b[1;33m\u001b[0m\u001b[0m\n\u001b[0;32m     54\u001b[0m \u001b[1;33m\u001b[0m\u001b[0m\n\u001b[1;32m---> 55\u001b[1;33m     \u001b[1;32mreturn\u001b[0m \u001b[0mqueen\u001b[0m\u001b[1;33m(\u001b[0m\u001b[0my\u001b[0m\u001b[1;33m+\u001b[0m\u001b[1;36m1\u001b[0m\u001b[1;33m)\u001b[0m\u001b[1;33m\u001b[0m\u001b[1;33m\u001b[0m\u001b[0m\n\u001b[0m\u001b[0;32m     56\u001b[0m \u001b[1;33m\u001b[0m\u001b[0m\n\u001b[0;32m     57\u001b[0m \u001b[0mqueen\u001b[0m\u001b[1;33m(\u001b[0m\u001b[0my\u001b[0m\u001b[1;33m)\u001b[0m\u001b[1;33m\u001b[0m\u001b[1;33m\u001b[0m\u001b[0m\n",
      "\u001b[1;32m<ipython-input-9-1fd56a97f642>\u001b[0m in \u001b[0;36mqueen\u001b[1;34m(y)\u001b[0m\n\u001b[0;32m     49\u001b[0m     \u001b[0mcol\u001b[0m\u001b[1;33m(\u001b[0m\u001b[1;33m)\u001b[0m\u001b[1;33m\u001b[0m\u001b[1;33m\u001b[0m\u001b[0m\n\u001b[0;32m     50\u001b[0m     \u001b[0mr_d\u001b[0m\u001b[1;33m(\u001b[0m\u001b[1;33m)\u001b[0m\u001b[1;33m\u001b[0m\u001b[1;33m\u001b[0m\u001b[0m\n\u001b[1;32m---> 51\u001b[1;33m     \u001b[0ml_d\u001b[0m\u001b[1;33m(\u001b[0m\u001b[1;33m)\u001b[0m\u001b[1;33m\u001b[0m\u001b[1;33m\u001b[0m\u001b[0m\n\u001b[0m\u001b[0;32m     52\u001b[0m \u001b[1;33m\u001b[0m\u001b[0m\n\u001b[0;32m     53\u001b[0m     \u001b[0mx\u001b[0m \u001b[1;33m+=\u001b[0m \u001b[1;36m1\u001b[0m\u001b[1;33m\u001b[0m\u001b[1;33m\u001b[0m\u001b[0m\n",
      "\u001b[1;32m<ipython-input-9-1fd56a97f642>\u001b[0m in \u001b[0;36ml_d\u001b[1;34m()\u001b[0m\n\u001b[0;32m     30\u001b[0m     \u001b[1;32mfor\u001b[0m \u001b[0mi\u001b[0m \u001b[1;32min\u001b[0m \u001b[0mrange\u001b[0m\u001b[1;33m(\u001b[0m\u001b[0mn\u001b[0m\u001b[1;33m-\u001b[0m\u001b[1;36m1\u001b[0m\u001b[1;33m)\u001b[0m\u001b[1;33m:\u001b[0m\u001b[1;33m\u001b[0m\u001b[1;33m\u001b[0m\u001b[0m\n\u001b[0;32m     31\u001b[0m         \u001b[1;32mif\u001b[0m \u001b[0mb\u001b[0m \u001b[1;33m<=\u001b[0m \u001b[0mn\u001b[0m\u001b[1;33m-\u001b[0m\u001b[1;36m1\u001b[0m\u001b[1;33m:\u001b[0m\u001b[1;33m\u001b[0m\u001b[1;33m\u001b[0m\u001b[0m\n\u001b[1;32m---> 32\u001b[1;33m             \u001b[0mboard\u001b[0m\u001b[1;33m[\u001b[0m\u001b[0ma\u001b[0m\u001b[1;33m]\u001b[0m\u001b[1;33m[\u001b[0m\u001b[0mb\u001b[0m\u001b[1;33m]\u001b[0m \u001b[1;33m=\u001b[0m \u001b[1;36m1\u001b[0m\u001b[1;33m\u001b[0m\u001b[1;33m\u001b[0m\u001b[0m\n\u001b[0m\u001b[0;32m     33\u001b[0m         \u001b[1;32melse\u001b[0m\u001b[1;33m:\u001b[0m\u001b[1;33m\u001b[0m\u001b[1;33m\u001b[0m\u001b[0m\n\u001b[0;32m     34\u001b[0m             \u001b[1;32mbreak\u001b[0m\u001b[1;33m\u001b[0m\u001b[1;33m\u001b[0m\u001b[0m\n",
      "\u001b[1;31mIndexError\u001b[0m: list index out of range"
     ]
    }
   ],
   "source": [
    "# 백준 9663....못 풀겠다..ㅠㅠ\n",
    "\n",
    "n = int(input())\n",
    "board = [[0] * n for _ in range(n)]\n",
    "\n",
    "x, y = 0, 0\n",
    "count = 0\n",
    "\n",
    "def row():\n",
    "    for i in range(n):\n",
    "        board[x][i] = 1\n",
    "        \n",
    "def col():\n",
    "    for i in range(n):\n",
    "        board[i][y] = 1\n",
    "\n",
    "def r_d():\n",
    "    a, b = x+1, y-1\n",
    "    for i in range(n-1):\n",
    "        if b  >= 0:\n",
    "            board[a][b] = 1\n",
    "        else:\n",
    "            break\n",
    "        \n",
    "        a += 1\n",
    "        b -= 1\n",
    "\n",
    "def l_d():\n",
    "    a, b = x+1, y+1\n",
    "    for i in range(n-1):\n",
    "        if b <= n-1:\n",
    "            board[a][b] = 1\n",
    "        else:\n",
    "            break\n",
    "        \n",
    "        a += 1\n",
    "        b += 1\n",
    "        \n",
    "\n",
    "def queen(y):\n",
    "    global x\n",
    "    global count\n",
    "    if y == n:\n",
    "        return\n",
    "    if board[x][y] == 0:\n",
    "        count += 1\n",
    "    \n",
    "    row()\n",
    "    col()\n",
    "    r_d()\n",
    "    l_d()\n",
    "    \n",
    "    x += 1\n",
    "    \n",
    "    return queen(y+1)\n",
    "\n",
    "queen(y)\n",
    "\n",
    "print(count)"
   ]
  },
  {
   "cell_type": "code",
   "execution_count": 4,
   "metadata": {},
   "outputs": [
    {
     "data": {
      "text/plain": [
       "[[0, 0, 0, 0, 0],\n",
       " [0, 0, 0, 0, 0],\n",
       " [0, 0, 0, 0, 0],\n",
       " [0, 0, 0, 0, 0],\n",
       " [0, 0, 0, 0, 0]]"
      ]
     },
     "execution_count": 4,
     "metadata": {},
     "output_type": "execute_result"
    }
   ],
   "source": [
    "board"
   ]
  },
  {
   "cell_type": "code",
   "execution_count": null,
   "metadata": {},
   "outputs": [],
   "source": []
  }
 ],
 "metadata": {
  "kernelspec": {
   "display_name": "Python 3",
   "language": "python",
   "name": "python3"
  },
  "language_info": {
   "codemirror_mode": {
    "name": "ipython",
    "version": 3
   },
   "file_extension": ".py",
   "mimetype": "text/x-python",
   "name": "python",
   "nbconvert_exporter": "python",
   "pygments_lexer": "ipython3",
   "version": "3.7.5"
  }
 },
 "nbformat": 4,
 "nbformat_minor": 2
}
