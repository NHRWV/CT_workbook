{
 "cells": [
  {
   "cell_type": "code",
   "execution_count": null,
   "metadata": {},
   "outputs": [],
   "source": [
    "# 백준 2798\n",
    "\n",
    "n, m = map(int, input().split())\n",
    "card = list(map(int, input().split()))\n",
    "bj = 0\n",
    "\n",
    "for i in range(len(card)):\n",
    "    for j in range(i + 1, len(card)):\n",
    "        for k in range(j + 1, len(card)):\n",
    "            if bj < card[i] + card[j] + card[k] <= m:\n",
    "                bj = card[i] + card[j] + card[k]\n",
    "print(bj)"
   ]
  },
  {
   "cell_type": "code",
   "execution_count": null,
   "metadata": {},
   "outputs": [],
   "source": [
    "# 백준 2231\n",
    "\n",
    "n = int(input())\n",
    "m_num = 0\n",
    "while True:\n",
    "    num = m_num\n",
    "    for i in range(len(str(m_num))):\n",
    "        \n",
    "        num += int(str(m_num)[i])\n",
    "    \n",
    "    if num == n:\n",
    "        break\n",
    "    elif m_num > n:\n",
    "        break\n",
    "    \n",
    "    m_num += 1\n",
    "\n",
    "if num == n:\n",
    "    print(m_num)\n",
    "else:\n",
    "    print(0)"
   ]
  }
 ],
 "metadata": {
  "kernelspec": {
   "display_name": "Python 3",
   "language": "python",
   "name": "python3"
  },
  "language_info": {
   "codemirror_mode": {
    "name": "ipython",
    "version": 3
   },
   "file_extension": ".py",
   "mimetype": "text/x-python",
   "name": "python",
   "nbconvert_exporter": "python",
   "pygments_lexer": "ipython3",
   "version": "3.7.5"
  }
 },
 "nbformat": 4,
 "nbformat_minor": 2
}
