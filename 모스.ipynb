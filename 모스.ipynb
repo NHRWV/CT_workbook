{
 "cells": [
  {
   "cell_type": "markdown",
   "id": "f326e974",
   "metadata": {},
   "source": [
    "https://www.acmicpc.net/problem/13547"
   ]
  },
  {
   "cell_type": "code",
   "execution_count": null,
   "id": "667b1edb",
   "metadata": {},
   "outputs": [],
   "source": [
    "# 수열과 쿼리 5\n",
    "\n",
    "n = int(input())\n",
    "seq = list(map(int, input().split()))\n",
    "m = int(input())\n",
    "\n",
    "query = []\n",
    "for k in range(m):\n",
    "    i, j = map(int, input().split())\n",
    "    query.append((i, j, k))\n",
    "    \n",
    "\n"
   ]
  }
 ],
 "metadata": {
  "kernelspec": {
   "display_name": "Python 3",
   "language": "python",
   "name": "python3"
  },
  "language_info": {
   "codemirror_mode": {
    "name": "ipython",
    "version": 3
   },
   "file_extension": ".py",
   "mimetype": "text/x-python",
   "name": "python",
   "nbconvert_exporter": "python",
   "pygments_lexer": "ipython3",
   "version": "3.8.8"
  }
 },
 "nbformat": 4,
 "nbformat_minor": 5
}
