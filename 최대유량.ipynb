{
 "cells": [
  {
   "cell_type": "markdown",
   "id": "b8923e0d",
   "metadata": {},
   "source": [
    "https://www.acmicpc.net/problem/17412"
   ]
  },
  {
   "cell_type": "code",
   "execution_count": null,
   "id": "8104d627",
   "metadata": {},
   "outputs": [],
   "source": []
  },
  {
   "cell_type": "code",
   "execution_count": 3,
   "id": "1d745b58",
   "metadata": {},
   "outputs": [
    {
     "name": "stdout",
     "output_type": "stream",
     "text": [
      "UD\n",
      "DP\n"
     ]
    }
   ],
   "source": [
    "u = 0\n",
    "d = 0\n",
    "p = 0\n",
    "\n",
    "for i in map(str, input().rstrip()):\n",
    "    if i == 'U' or i == 'C':\n",
    "        u += 1\n",
    "        \n",
    "    elif i == 'D':\n",
    "        d += 1\n",
    "        \n",
    "    elif i == 'P':\n",
    "        p += 1\n",
    "        \n",
    "\n",
    "answer = ''\n",
    "\n",
    "if u > (d + p + 1) / 2:\n",
    "    answer += 'U'\n",
    "    \n",
    "if d + p:\n",
    "    answer += 'DP'\n",
    "    \n",
    "print(answer)\n"
   ]
  }
 ],
 "metadata": {
  "kernelspec": {
   "display_name": "Python 3 (ipykernel)",
   "language": "python",
   "name": "python3"
  },
  "language_info": {
   "codemirror_mode": {
    "name": "ipython",
    "version": 3
   },
   "file_extension": ".py",
   "mimetype": "text/x-python",
   "name": "python",
   "nbconvert_exporter": "python",
   "pygments_lexer": "ipython3",
   "version": "3.9.13"
  }
 },
 "nbformat": 4,
 "nbformat_minor": 5
}
