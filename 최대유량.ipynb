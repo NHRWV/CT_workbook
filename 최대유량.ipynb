{
 "cells": [
  {
   "cell_type": "markdown",
   "id": "b8923e0d",
   "metadata": {},
   "source": [
    "https://www.acmicpc.net/problem/17412"
   ]
  },
  {
   "cell_type": "code",
   "execution_count": null,
   "id": "8104d627",
   "metadata": {},
   "outputs": [],
   "source": [
    "조수들이 제출한 가지가 전부 보라색만 아니면 된다.\n",
    "\n",
    "조수들 선에서 흰흰 조합만 찾으면 됨"
   ]
  },
  {
   "cell_type": "code",
   "execution_count": 4,
   "id": "1d745b58",
   "metadata": {},
   "outputs": [
    {
     "name": "stdout",
     "output_type": "stream",
     "text": [
      "5\n",
      "W P W P P\n",
      "4 3\n",
      "1 3 5\n",
      "3 4 2\n",
      "1 4 3\n",
      "2 5 4\n",
      "P\n"
     ]
    }
   ],
   "source": [
    "n = int(input())\n",
    "lst = list(map(str, input().split()))\n",
    "m, k = map(int, input().split())\n",
    "\n",
    "check = 0\n",
    "for i in range(m):\n",
    "    count = 0\n",
    "    \n",
    "    for j in map(int, input().split()):\n",
    "        if lst[j-1] == 'P':\n",
    "            count += 1\n",
    "            \n",
    "    if not count:\n",
    "        check = 1\n",
    "        \n",
    "print('W' if check else 'P')\n"
   ]
  },
  {
   "cell_type": "code",
   "execution_count": null,
   "id": "9affc181",
   "metadata": {},
   "outputs": [],
   "source": [
    "3\n",
    "P W W\n",
    "2 2\n",
    "1 2\n",
    "2 3\n",
    "\n",
    "5\n",
    "W P W P P\n",
    "4 3\n",
    "1 3 5\n",
    "3 4 2\n",
    "1 4 3\n",
    "2 5 4"
   ]
  }
 ],
 "metadata": {
  "kernelspec": {
   "display_name": "Python 3 (ipykernel)",
   "language": "python",
   "name": "python3"
  },
  "language_info": {
   "codemirror_mode": {
    "name": "ipython",
    "version": 3
   },
   "file_extension": ".py",
   "mimetype": "text/x-python",
   "name": "python",
   "nbconvert_exporter": "python",
   "pygments_lexer": "ipython3",
   "version": "3.9.13"
  }
 },
 "nbformat": 4,
 "nbformat_minor": 5
}
