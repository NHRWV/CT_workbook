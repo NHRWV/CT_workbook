{
 "cells": [
  {
   "cell_type": "markdown",
   "id": "b8923e0d",
   "metadata": {},
   "source": [
    "https://www.acmicpc.net/problem/17412"
   ]
  },
  {
   "cell_type": "code",
   "execution_count": null,
   "id": "8104d627",
   "metadata": {},
   "outputs": [],
   "source": [
    "조수들이 제출한 가지가 전부 보라색만 아니면 된다.\n",
    "\n",
    "조수들 선에서 흰흰 조합만 찾으면 됨"
   ]
  },
  {
   "cell_type": "code",
   "execution_count": 4,
   "id": "1d745b58",
   "metadata": {
    "scrolled": true
   },
   "outputs": [
    {
     "name": "stdout",
     "output_type": "stream",
     "text": [
      "51\n",
      "52\n"
     ]
    }
   ],
   "source": [
    "count = 0\n",
    "\n",
    "for i in range(int(input())):    \n",
    "    if '50' in str(i):\n",
    "        count += 1\n",
    "        \n",
    "    count += 1\n",
    "        \n",
    "print(count)\n",
    "        \n",
    "        "
   ]
  },
  {
   "cell_type": "code",
   "execution_count": 3,
   "id": "ade4f39c",
   "metadata": {},
   "outputs": [
    {
     "name": "stdout",
     "output_type": "stream",
     "text": [
      "3\n",
      "10 5 2\n",
      "0\n"
     ]
    }
   ],
   "source": [
    "n = int(input())\n",
    "lst = list(map(int, input().split()))\n",
    "\n",
    "count = 0\n",
    "\n",
    "for i in range(n):\n",
    "    for j in range(i+1, n):\n",
    "        for k in range(j+1, n):\n",
    "            if lst[i] * lst[j] == lst[k]:\n",
    "                count += 1\n",
    "                \n",
    "print(count)\n",
    "        \n",
    "            \n",
    "    "
   ]
  },
  {
   "cell_type": "code",
   "execution_count": 2,
   "id": "eccf76b9",
   "metadata": {},
   "outputs": [
    {
     "data": {
      "text/plain": [
       "'#'"
      ]
     },
     "execution_count": 2,
     "metadata": {},
     "output_type": "execute_result"
    }
   ],
   "source": [
    "3\n",
    "21 13 273\n",
    "\n",
    "3\n",
    "10 5 2\n",
    "\n",
    "5\n",
    "4 2 2 8 16\n",
    "\n",
    "10\n",
    "1 1 1 1 1 1 1 1 1 1"
   ]
  },
  {
   "cell_type": "code",
   "execution_count": 1,
   "id": "52009fc9",
   "metadata": {},
   "outputs": [
    {
     "name": "stdout",
     "output_type": "stream",
     "text": [
      "60466175 36\n",
      "5353535353\n"
     ]
    }
   ],
   "source": [
    "def sol(n, b):\n",
    "    temp = ''\n",
    "\n",
    "    while n > 0:\n",
    "        n, mod = divmod(n, b)\n",
    "        temp += str(mod)\n",
    "\n",
    "    return temp[::-1] \n",
    "\n",
    "  \n",
    "n, b = map(int, input().split())\n",
    "\n",
    "print(sol(n, b))\n",
    "\n",
    "    "
   ]
  },
  {
   "cell_type": "code",
   "execution_count": null,
   "id": "4b8bf1cb",
   "metadata": {},
   "outputs": [],
   "source": [
    "60466175 36"
   ]
  },
  {
   "cell_type": "code",
   "execution_count": 5,
   "id": "f27a5ec8",
   "metadata": {},
   "outputs": [
    {
     "data": {
      "text/plain": [
       "[0, 1, 2, 3, 4, 0]"
      ]
     },
     "execution_count": 5,
     "metadata": {},
     "output_type": "execute_result"
    }
   ],
   "source": [
    "visited"
   ]
  },
  {
   "cell_type": "code",
   "execution_count": null,
   "id": "c5a9407c",
   "metadata": {},
   "outputs": [],
   "source": []
  }
 ],
 "metadata": {
  "kernelspec": {
   "display_name": "Python 3 (ipykernel)",
   "language": "python",
   "name": "python3"
  },
  "language_info": {
   "codemirror_mode": {
    "name": "ipython",
    "version": 3
   },
   "file_extension": ".py",
   "mimetype": "text/x-python",
   "name": "python",
   "nbconvert_exporter": "python",
   "pygments_lexer": "ipython3",
   "version": "3.9.13"
  }
 },
 "nbformat": 4,
 "nbformat_minor": 5
}
