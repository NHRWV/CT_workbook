{
 "cells": [
  {
   "cell_type": "markdown",
   "id": "b8923e0d",
   "metadata": {},
   "source": [
    "https://www.acmicpc.net/problem/17412"
   ]
  },
  {
   "cell_type": "code",
   "execution_count": null,
   "id": "8104d627",
   "metadata": {},
   "outputs": [],
   "source": []
  }
 ],
 "metadata": {
  "kernelspec": {
   "display_name": "Python 3 (ipykernel)",
   "language": "python",
   "name": "python3"
  },
  "language_info": {
   "codemirror_mode": {
    "name": "ipython",
    "version": 3
   },
   "file_extension": ".py",
   "mimetype": "text/x-python",
   "name": "python",
   "nbconvert_exporter": "python",
   "pygments_lexer": "ipython3",
   "version": "3.9.13"
  }
 },
 "nbformat": 4,
 "nbformat_minor": 5
}
