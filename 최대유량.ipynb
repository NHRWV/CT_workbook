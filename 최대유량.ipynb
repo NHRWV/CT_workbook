{
 "cells": [
  {
   "cell_type": "markdown",
   "id": "b8923e0d",
   "metadata": {},
   "source": [
    "https://www.acmicpc.net/problem/17412"
   ]
  },
  {
   "cell_type": "code",
   "execution_count": null,
   "id": "8104d627",
   "metadata": {},
   "outputs": [],
   "source": [
    "조수들이 제출한 가지가 전부 보라색만 아니면 된다.\n",
    "\n",
    "조수들 선에서 흰흰 조합만 찾으면 됨"
   ]
  },
  {
   "cell_type": "code",
   "execution_count": 18,
   "id": "1d745b58",
   "metadata": {},
   "outputs": [
    {
     "name": "stdout",
     "output_type": "stream",
     "text": [
      "4\n",
      "Baha enter\n",
      "Askar enter\n",
      "Baha leave\n",
      "Artem enter\n"
     ]
    }
   ],
   "source": [
    "n = int(input())\n",
    "\n",
    "lst = set()\n",
    "\n",
    "for i in range(n):\n",
    "    info = input().rstrip().split(' ')\n",
    "    \n",
    "    if info[1] == \"enter\":\n",
    "        lst.add(info[0])\n",
    "    else:\n",
    "        if info[0] in lst:\n",
    "            lst.remove(info[0])\n",
    "            \n",
    "lst = list(lst)\n",
    "lst.sort(reverse = True)\n",
    "\n",
    "for i in lst:\n",
    "    print(i)\n",
    "            "
   ]
  },
  {
   "cell_type": "code",
   "execution_count": null,
   "id": "609b48f2",
   "metadata": {},
   "outputs": [],
   "source": []
  }
 ],
 "metadata": {
  "kernelspec": {
   "display_name": "Python 3 (ipykernel)",
   "language": "python",
   "name": "python3"
  },
  "language_info": {
   "codemirror_mode": {
    "name": "ipython",
    "version": 3
   },
   "file_extension": ".py",
   "mimetype": "text/x-python",
   "name": "python",
   "nbconvert_exporter": "python",
   "pygments_lexer": "ipython3",
   "version": "3.9.13"
  }
 },
 "nbformat": 4,
 "nbformat_minor": 5
}
