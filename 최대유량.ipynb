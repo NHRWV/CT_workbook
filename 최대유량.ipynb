{
 "cells": [
  {
   "cell_type": "markdown",
   "id": "b8923e0d",
   "metadata": {},
   "source": [
    "https://www.acmicpc.net/problem/17412"
   ]
  },
  {
   "cell_type": "code",
   "execution_count": null,
   "id": "8104d627",
   "metadata": {},
   "outputs": [],
   "source": [
    "조수들이 제출한 가지가 전부 보라색만 아니면 된다.\n",
    "\n",
    "조수들 선에서 흰흰 조합만 찾으면 됨"
   ]
  },
  {
   "cell_type": "code",
   "execution_count": 6,
   "id": "1d745b58",
   "metadata": {
    "scrolled": true
   },
   "outputs": [
    {
     "name": "stdout",
     "output_type": "stream",
     "text": [
      "10000000\n",
      "10000000\n"
     ]
    }
   ],
   "source": [
    "n, m = map(int, input().split())\n",
    "print(\"Yes\" if 100 * n >= m else \"No\")"
   ]
  },
  {
   "cell_type": "code",
   "execution_count": 4,
   "id": "609b48f2",
   "metadata": {},
   "outputs": [
    {
     "name": "stdout",
     "output_type": "stream",
     "text": [
      "10 5\n",
      "..*.....**\n",
      ".**..*****\n",
      ".*...*....\n",
      "..****.***\n",
      "..****.***\n",
      "4\n",
      "16\n",
      "6\n",
      "16\n"
     ]
    }
   ],
   "source": [
    "from collections import deque\n",
    "\n",
    "w, h = map(int, input().split())\n",
    "\n",
    "dx = [-1, 1, 0, 0]\n",
    "dy = [0, 0, -1, 1]\n",
    "\n",
    "maxi = 0\n",
    "\n",
    "pasture = []\n",
    "for i in range(h):\n",
    "    pasture.append(list(map(str, input().rstrip())))\n",
    "    \n",
    "def sol(x, y):\n",
    "    visited[x][y] = 1\n",
    "    queue = deque([(x, y)])\n",
    "    count = 1\n",
    "    \n",
    "    while queue:\n",
    "        x, y = queue.popleft()\n",
    "        \n",
    "        for i in range(4):\n",
    "            nx = x + dx[i]\n",
    "            ny = y + dy[i]\n",
    "            \n",
    "            if nx < 0 or nx >= h or ny < 0 or ny >= w:\n",
    "                continue\n",
    "                \n",
    "            if not visited[nx][ny] and pasture[nx][ny] == \"*\":\n",
    "                visited[nx][ny] = 1\n",
    "                count += 1\n",
    "                queue.append((nx, ny))\n",
    "                \n",
    "    print(count)\n",
    "    return count\n",
    "\n",
    "\n",
    "visited = [[0] * w for _ in range(h)]\n",
    "\n",
    "for i in range(h):\n",
    "    for j in range(w):\n",
    "        if not visited[i][j] and pasture[i][j] == \"*\":\n",
    "            maxi = max(maxi, sol(i, j))\n",
    "            \n",
    "            \n",
    "print(maxi)\n"
   ]
  },
  {
   "cell_type": "code",
   "execution_count": 7,
   "id": "96ef0851",
   "metadata": {},
   "outputs": [
    {
     "data": {
      "text/plain": [
       "3"
      ]
     },
     "execution_count": 7,
     "metadata": {},
     "output_type": "execute_result"
    }
   ],
   "source": [
    "10 5\n",
    "..*.....**\n",
    ".**..*****\n",
    ".*...*....\n",
    "..****.***\n",
    "..****.***"
   ]
  },
  {
   "cell_type": "code",
   "execution_count": 4,
   "id": "b71a1278",
   "metadata": {},
   "outputs": [
    {
     "data": {
      "text/plain": [
       "['Y',\n",
       " 'o',\n",
       " 'u',\n",
       " ' ',\n",
       " 'c',\n",
       " 'a',\n",
       " 'n',\n",
       " ' ',\n",
       " 'w',\n",
       " 'i',\n",
       " 'n',\n",
       " ' ',\n",
       " 't',\n",
       " 'h',\n",
       " 'i',\n",
       " 's',\n",
       " ' ',\n",
       " 't',\n",
       " 'h',\n",
       " 'i',\n",
       " 'n',\n",
       " 'g']"
      ]
     },
     "execution_count": 4,
     "metadata": {},
     "output_type": "execute_result"
    }
   ],
   "source": [
    "list(\"You can win this thing\")"
   ]
  },
  {
   "cell_type": "code",
   "execution_count": null,
   "id": "1b402ac7",
   "metadata": {},
   "outputs": [],
   "source": [
    "join()"
   ]
  }
 ],
 "metadata": {
  "kernelspec": {
   "display_name": "Python 3 (ipykernel)",
   "language": "python",
   "name": "python3"
  },
  "language_info": {
   "codemirror_mode": {
    "name": "ipython",
    "version": 3
   },
   "file_extension": ".py",
   "mimetype": "text/x-python",
   "name": "python",
   "nbconvert_exporter": "python",
   "pygments_lexer": "ipython3",
   "version": "3.9.13"
  }
 },
 "nbformat": 4,
 "nbformat_minor": 5
}
