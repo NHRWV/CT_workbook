{
 "cells": [
  {
   "cell_type": "markdown",
   "metadata": {},
   "source": [
    "- 이진 탐색\n",
    "\n",
    "- 다이나믹 프로그래밍\n",
    "\n",
    "- 최단 경로\n",
    "\n",
    "- 그래프 이론"
   ]
  },
  {
   "cell_type": "markdown",
   "metadata": {},
   "source": [
    "## 이진 탐색\n",
    "\n",
    "### 정렬된 배열에서 특정 수의 개수 구하기"
   ]
  },
  {
   "cell_type": "code",
   "execution_count": 5,
   "metadata": {},
   "outputs": [
    {
     "name": "stdout",
     "output_type": "stream",
     "text": [
      "7 4\n",
      "1 1 2 2 2 2 3\n",
      "-1\n"
     ]
    }
   ],
   "source": [
    "from bisect import bisect_left, bisect_right\n",
    "\n",
    "n, x = map(int, input().split())\n",
    "seq = list(map(int, input().split()))\n",
    "\n",
    "if x not in set(seq):  # 집합 내부 탐색은 시간복잡도가 굉장히 낮다.\n",
    "    print(-1)\n",
    "    \n",
    "else:\n",
    "    left = bisect_left(seq, x)\n",
    "    right = bisect_right(seq, x)\n",
    "    \n",
    "    print(right - left)\n",
    "    \n",
    "    # 참고로 bisect 모듈의 bisect_left는 배열에서 x의 첫 위치를 알려주고, bisect_right는 배열에서 x 다음의 위치를 알려준다."
   ]
  },
  {
   "cell_type": "markdown",
   "metadata": {},
   "source": [
    "### 고정점 찾기\n"
   ]
  },
  {
   "cell_type": "code",
   "execution_count": 8,
   "metadata": {},
   "outputs": [
    {
     "name": "stdout",
     "output_type": "stream",
     "text": [
      "7\n",
      "-15 -4 2 8 9 13 15\n",
      "2\n"
     ]
    }
   ],
   "source": [
    "n = int(input())\n",
    "seq = list(map(int, input().split()))\n",
    "\n",
    "def umjunsik(arr, start, end): # 재귀함수로 구현.\n",
    "    if start > end:\n",
    "        return None\n",
    "    \n",
    "    mid = (start + end) // 2\n",
    "    \n",
    "    if arr[mid] == mid:   # 탐색 대상을 찾으면 출력한다.\n",
    "        return mid\n",
    "    \n",
    "    elif arr[mid] > mid:    \n",
    "        return umjunsik(arr, start, mid - 1)   # 탐색범위를 하위 범위로 좁힌다.\n",
    "       \n",
    "    else:\n",
    "        return umjunsik(arr, mid + 1, end)  #  탐색범위를 상위 범위로 좁힌다.\n",
    "    \n",
    "    \n",
    "if umjunsik(seq, 0, n-1) == None:\n",
    "    print(-1)\n",
    "    \n",
    "else:\n",
    "    print(umjunsik(seq, 0, n-1))"
   ]
  },
  {
   "cell_type": "markdown",
   "metadata": {},
   "source": [
    "### 공유기 설치\n",
    "\n",
    "https://www.acmicpc.net/problem/2110"
   ]
  },
  {
   "cell_type": "code",
   "execution_count": 1,
   "metadata": {
    "scrolled": true
   },
   "outputs": [
    {
     "name": "stdout",
     "output_type": "stream",
     "text": [
      "5 3\n",
      "1\n",
      "2\n",
      "8\n",
      "4\n",
      "9\n",
      "3\n"
     ]
    }
   ],
   "source": [
    "# 백준 2110\n",
    "\n",
    "n, c = map(int, input().split())\n",
    "crd = []\n",
    "for i in range(n):\n",
    "    crd.append(int(input()))\n",
    "    \n",
    "crd.sort()    # 당연히, 이분탐색을 하기 위해 우선 정렬을 한다.\n",
    "\n",
    "start = 1\n",
    "end = crd[n-1] - crd[0]\n",
    "\n",
    "answer = 0\n",
    "while start <= end:\n",
    "    temp = 0\n",
    "    count = c-1\n",
    "    mid = (start + end) // 2   # 공유기 간의 간격 설정.\n",
    "    \n",
    "    for i in range(1, n):\n",
    "        if crd[i] - crd[temp] >= mid:  # 설정된 공유기 간의 간격으로 모든 공유기들을 설치할 수 있는지 알아보자.\n",
    "            count -= 1\n",
    "            temp = i\n",
    "            \n",
    "    if count > 0:   # 설치 불가\n",
    "        end = mid - 1\n",
    "      \n",
    "    else:\n",
    "        answer = mid   # 설치 가능\n",
    "        start = mid + 1\n",
    "       \n",
    "      \n",
    "    \n",
    "print(answer)"
   ]
  },
  {
   "cell_type": "markdown",
   "metadata": {},
   "source": [
    "### 가사 검색\n",
    "\n",
    "https://programmers.co.kr/learn/courses/30/lessons/60060"
   ]
  },
  {
   "cell_type": "code",
   "execution_count": 13,
   "metadata": {},
   "outputs": [
    {
     "data": {
      "text/plain": [
       "2"
      ]
     },
     "execution_count": 13,
     "metadata": {},
     "output_type": "execute_result"
    }
   ],
   "source": [
    "def solution(words, queries):\n",
    "    answer = []\n",
    "    return answer"
   ]
  },
  {
   "cell_type": "markdown",
   "metadata": {},
   "source": [
    "## 다이나믹 프로그래밍\n",
    "### 정수 삼각형\n",
    "\n",
    "https://www.acmicpc.net/problem/1932"
   ]
  },
  {
   "cell_type": "code",
   "execution_count": null,
   "metadata": {},
   "outputs": [],
   "source": [
    "# 백준 1932\n",
    "\n",
    "from copy import deepcopy\n",
    "\n",
    "n = int(input())\n",
    "tri = []\n",
    "for i in range(n):\n",
    "    tri.append(list(map(int, input().split())))\n",
    "    \n",
    "dp = deepcopy(tri)\n",
    "\n",
    "for i in range(n):\n",
    "    for j in range(i+1):\n",
    "        if j == 0:   # 왜와이? 맨 왼쪽 숫자라면 그 숫자의 왼쪽 위엔 아무것도 없으니까....끄덕.\n",
    "            upper_left = 0\n",
    "            \n",
    "        else:\n",
    "            upper_left = dp[i-1][j-1] \n",
    "            \n",
    "        if j == i:\n",
    "            upper = 0   # 맨 오른쪽 숫자의 경우, 바로 위에는 아무것도 없으니까...끄덕.\n",
    "            \n",
    "        else:\n",
    "            upper = dp[i-1][j]\n",
    "            \n",
    "        dp[i][j] = dp[i][j] + max(upper_left, upper)\n",
    "        \n",
    "print(max(dp[n-1]))"
   ]
  },
  {
   "cell_type": "markdown",
   "metadata": {},
   "source": [
    "### 금광"
   ]
  },
  {
   "cell_type": "code",
   "execution_count": 24,
   "metadata": {},
   "outputs": [
    {
     "name": "stdout",
     "output_type": "stream",
     "text": [
      "2\n",
      "3 4\n",
      "1 3 3 2 2 1 4 1 0 6 4 7\n",
      "19\n",
      "4 4\n",
      "1 3 1 5 2 2 4 1 5 0 2 3 0 6 1 2\n",
      "16\n"
     ]
    }
   ],
   "source": [
    "from copy import deepcopy\n",
    "\n",
    "t = int(input())\n",
    "for i in range(t):\n",
    "    n, m = map(int, input().split())\n",
    "    \n",
    "    lst = list(map(int, input().split()))\n",
    "    gold = []\n",
    "    a = 0\n",
    "    for j in range(len(lst) // m):\n",
    "        gold.append(lst[a * m :(a + 1) * m])\n",
    "        a += 1\n",
    "    # 여기까지는 값을 저장하는 부분이었다.\n",
    "    \n",
    "    dp = deepcopy(gold)   # 메모리제이션을 위해 금광 정보를 그대로 가져온다.\n",
    "    for j in range(1, m):   # 우선 첫 번째 열은 넘기고 두 번째 열부터 최선의 선택을 했을 경우를 따져본다.\n",
    "        for k in range(n):\n",
    "            if k == 0:  # 첫 번째 행일 경우, 선택지는 이전 열의 같은 행과 한 단계 낮은 행이다.\n",
    "                dp[k][j] = dp[k][j] + max(dp[k][j-1], dp[k+1][j-1])\n",
    "                \n",
    "            elif k == n-1:  # 마지막 행일 경우, 선택지는 이전 열의 같은 행과 한 단계 위의 행이다.\n",
    "                dp[k][j] = dp[k][j] + max(dp[k][j-1], dp[k-1][j-1])\n",
    "                \n",
    "            else:   # 나머지 행은 이전 열에서 선택지가 세 개가 된다.\n",
    "                dp[k][j] = dp[k][j] + max(dp[k][j-1], dp[k+1][j-1], dp[k-1][j-1])\n",
    "                \n",
    "    answer = 0\n",
    "    for j in range(n):\n",
    "        answer = max(answer, dp[j][m-1])\n",
    "        \n",
    "    print(answer)"
   ]
  },
  {
   "cell_type": "markdown",
   "metadata": {},
   "source": [
    "### 퇴사\n",
    "\n",
    "https://www.acmicpc.net/problem/14501"
   ]
  },
  {
   "cell_type": "code",
   "execution_count": null,
   "metadata": {
    "scrolled": true
   },
   "outputs": [],
   "source": [
    "# 백준 14501\n",
    "\n",
    "n = int(input())\n",
    "schedule = []\n",
    "for i in range(n):\n",
    "    schedule.append(list(map(int, input().split())))\n",
    "    \n",
    "dp = [0] * (n+1) # i번째 날부터 마지막까지 얻을 수 있는 최대 이익.\n",
    "max_profit = 0\n",
    "for i in range(n-1, -1, -1):   # 뒤에서부터 생각해본다.\n",
    "    if i + schedule[i][0] <= n:\n",
    "        dp[i] = max(schedule[i][1] + dp[i + schedule[i][0]], max_profit)\n",
    "        max_profit = dp[i]\n",
    "        \n",
    "    else:\n",
    "        dp[i] = max_profit\n",
    "        \n",
    "    #print(dp)\n",
    "    #print(max_profit)\n",
    "        \n",
    "        \n",
    "print(max_profit)"
   ]
  },
  {
   "cell_type": "markdown",
   "metadata": {},
   "source": [
    "### 병사 배치하기\n",
    "\n",
    "https://www.acmicpc.net/problem/18353"
   ]
  },
  {
   "cell_type": "code",
   "execution_count": 3,
   "metadata": {},
   "outputs": [
    {
     "name": "stdout",
     "output_type": "stream",
     "text": [
      "7\n",
      "15 11 4 8 5 2 4\n",
      "2\n"
     ]
    }
   ],
   "source": [
    "# 백준 18353\n",
    "# 가장 긴 증가하는 부분 수열: o(n log n) - 처음 풀 땐 몰랐는데 지금 보니 가장 긴 부분 수열 문제다. \n",
    "\n",
    "\n",
    "n = int(input())\n",
    "force = list(map(int, input().split()))\n",
    "\n",
    "dp = [1] * 2001\n",
    "for i in range(n-1, -1, -1):\n",
    "    for j in range(i+1, n):\n",
    "        if force[i] > force[j]:\n",
    "            if dp[i] < dp[j] + 1:\n",
    "                dp[i] = dp[j] + 1\n",
    "    \n",
    "            \n",
    "print(n - max(dp))"
   ]
  },
  {
   "cell_type": "code",
   "execution_count": 8,
   "metadata": {},
   "outputs": [
    {
     "name": "stdout",
     "output_type": "stream",
     "text": [
      "7\n",
      "15 11 4 8 5 2 4\n",
      "5\n"
     ]
    }
   ],
   "source": [
    "# 그래서 위의 문제를 이분탐색으로 풀어보았다.\n",
    "\n",
    "from bisect import bisect_left\n",
    "\n",
    "n = int(input())\n",
    "seq = list(map(int, input().split()))\n",
    "seq.reverse()\n",
    "dp = []\n",
    "\n",
    "for i in seq:\n",
    "    a = bisect_left(dp, i)\n",
    "    \n",
    "    if len(dp) <= a:\n",
    "        dp.append(i)\n",
    "        \n",
    "    else:\n",
    "        dp[a] = i\n",
    "        \n",
    "print(n - len(dp))"
   ]
  },
  {
   "cell_type": "markdown",
   "metadata": {},
   "source": [
    "### 못생긴 수"
   ]
  },
  {
   "cell_type": "code",
   "execution_count": 3,
   "metadata": {},
   "outputs": [
    {
     "name": "stdout",
     "output_type": "stream",
     "text": [
      "4\n",
      "4\n"
     ]
    }
   ],
   "source": [
    "n = int(input())\n",
    "\n",
    "dp = [0] * 1001\n",
    "dp[0] = 1\n",
    "\n",
    "a = 0\n",
    "b = 0\n",
    "c = 0\n",
    "\n",
    "t2 = 2\n",
    "t3 = 3\n",
    "t5 = 5\n",
    "\n",
    "for i in range(1, n):\n",
    "    dp[i] = min(t2, t3, t5)\n",
    "    \n",
    "    if dp[i] == t2:\n",
    "        a += 1\n",
    "        t2 = dp[a] * 2\n",
    "    if dp[i] == t3:\n",
    "        b += 1\n",
    "        t3 = dp[b] * 3\n",
    "    if dp[i] == t5:\n",
    "        c += 1\n",
    "        t5 = dp[c] * 5\n",
    "        \n",
    "print(dp[n-1])"
   ]
  },
  {
   "cell_type": "markdown",
   "metadata": {},
   "source": [
    "### 편집 거리"
   ]
  },
  {
   "cell_type": "code",
   "execution_count": 4,
   "metadata": {},
   "outputs": [
    {
     "name": "stdout",
     "output_type": "stream",
     "text": [
      "cat\n",
      "cut\n"
     ]
    }
   ],
   "source": [
    "a = input()\n",
    "b = input()\n",
    "\n"
   ]
  },
  {
   "cell_type": "code",
   "execution_count": 5,
   "metadata": {},
   "outputs": [
    {
     "ename": "NameError",
     "evalue": "name 'dpdpdp' is not defined",
     "output_type": "error",
     "traceback": [
      "\u001b[1;31m---------------------------------------------------------------------------\u001b[0m",
      "\u001b[1;31mNameError\u001b[0m                                 Traceback (most recent call last)",
      "\u001b[1;32m<ipython-input-5-4021839b2718>\u001b[0m in \u001b[0;36m<module>\u001b[1;34m\u001b[0m\n\u001b[1;32m----> 1\u001b[1;33m \u001b[0mdpdpdp\u001b[0m\u001b[1;33m\u001b[0m\u001b[1;33m\u001b[0m\u001b[0m\n\u001b[0m",
      "\u001b[1;31mNameError\u001b[0m: name 'dpdpdp' is not defined"
     ]
    }
   ],
   "source": []
  },
  {
   "cell_type": "code",
   "execution_count": null,
   "metadata": {},
   "outputs": [],
   "source": []
  }
 ],
 "metadata": {
  "kernelspec": {
   "display_name": "Python 3.7.5 64-bit ('Namlister': virtualenv)",
   "language": "python",
   "name": "python37564bitnamlistervirtualenv5d7bb17d3c984c36aee202a2f6a91336"
  },
  "language_info": {
   "codemirror_mode": {
    "name": "ipython",
    "version": 3
   },
   "file_extension": ".py",
   "mimetype": "text/x-python",
   "name": "python",
   "nbconvert_exporter": "python",
   "pygments_lexer": "ipython3",
   "version": "3.8.8"
  }
 },
 "nbformat": 4,
 "nbformat_minor": 2
}
