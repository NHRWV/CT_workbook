{
 "cells": [
  {
   "cell_type": "markdown",
   "metadata": {},
   "source": [
    "- 이진 탐색\n",
    "\n",
    "- 다이나믹 프로그래밍\n",
    "\n",
    "- 최단 경로\n",
    "\n",
    "- 그래프 이론"
   ]
  },
  {
   "cell_type": "markdown",
   "metadata": {},
   "source": [
    "## 이진 탐색\n",
    "\n",
    "### 정렬된 배열에서 특정 수의 개수 구하기"
   ]
  },
  {
   "cell_type": "code",
   "execution_count": 5,
   "metadata": {},
   "outputs": [
    {
     "name": "stdout",
     "output_type": "stream",
     "text": [
      "7 4\n",
      "1 1 2 2 2 2 3\n",
      "-1\n"
     ]
    }
   ],
   "source": [
    "from bisect import bisect_left, bisect_right\n",
    "\n",
    "n, x = map(int, input().split())\n",
    "seq = list(map(int, input().split()))\n",
    "\n",
    "if x not in set(seq):\n",
    "    print(-1)\n",
    "    \n",
    "else:\n",
    "    left = bisect_left(seq, x)\n",
    "    right = bisect_right(seq, x)\n",
    "    \n",
    "    print(right - left)\n",
    "    \n",
    "    # 참고로 bisect 모듈의 bisect_left는 배열에서 x의 첫 위치를 알려주고, bisect_right는 배열에서 x 다음의 위치를 알려준다."
   ]
  },
  {
   "cell_type": "markdown",
   "metadata": {},
   "source": [
    "### 고정점 찾기\n"
   ]
  },
  {
   "cell_type": "code",
   "execution_count": 8,
   "metadata": {},
   "outputs": [
    {
     "name": "stdout",
     "output_type": "stream",
     "text": [
      "7\n",
      "-15 -4 2 8 9 13 15\n",
      "2\n"
     ]
    }
   ],
   "source": [
    "n = int(input())\n",
    "seq = list(map(int, input().split()))\n",
    "\n",
    "def umjunsik(arr, start, end):\n",
    "    if start > end:\n",
    "        return None\n",
    "    \n",
    "    mid = (start + end) // 2\n",
    "    \n",
    "    if arr[mid] == mid:\n",
    "        return mid\n",
    "    \n",
    "    elif arr[mid] > mid:\n",
    "        return umjunsik(arr, start, mid - 1)\n",
    "       \n",
    "    else:\n",
    "        return umjunsik(arr, mid + 1, end)\n",
    "    \n",
    "    \n",
    "if umjunsik(seq, 0, n-1) == None:\n",
    "    print(-1)\n",
    "    \n",
    "else:\n",
    "    print(umjunsik(seq, 0, n-1))"
   ]
  },
  {
   "cell_type": "markdown",
   "metadata": {},
   "source": [
    "### 공유기 설치\n",
    "\n",
    "https://www.acmicpc.net/problem/2110"
   ]
  },
  {
   "cell_type": "code",
   "execution_count": null,
   "metadata": {
    "scrolled": true
   },
   "outputs": [],
   "source": [
    "# 백준 2110\n",
    "\n",
    "n, c = map(int, input().split())\n",
    "crd = []\n",
    "for i in range(n):\n",
    "    crd.append(int(input()))\n",
    "    \n",
    "crd.sort()    \n",
    "\n",
    "start = 1\n",
    "end = crd[n-1] - crd[0]\n",
    "\n",
    "answer = 0\n",
    "while start <= end:\n",
    "    temp = 0\n",
    "    count = c-1\n",
    "    mid = (start + end) // 2\n",
    "    \n",
    "    for i in range(1, n):\n",
    "        if crd[i] - crd[temp] >= mid:\n",
    "            count -= 1\n",
    "            temp = i\n",
    "            \n",
    "    if count > 0:\n",
    "        end = mid - 1\n",
    "      \n",
    "    else:\n",
    "        answer = mid\n",
    "        start = mid + 1\n",
    "       \n",
    "      \n",
    "    \n",
    "print(answer)"
   ]
  },
  {
   "cell_type": "markdown",
   "metadata": {},
   "source": [
    "### 가사 검색\n",
    "\n",
    "https://programmers.co.kr/learn/courses/30/lessons/60060"
   ]
  },
  {
   "cell_type": "code",
   "execution_count": 13,
   "metadata": {},
   "outputs": [
    {
     "data": {
      "text/plain": [
       "2"
      ]
     },
     "execution_count": 13,
     "metadata": {},
     "output_type": "execute_result"
    }
   ],
   "source": [
    "def solution(words, queries):\n",
    "    answer = []\n",
    "    return answer"
   ]
  },
  {
   "cell_type": "code",
   "execution_count": 4,
   "metadata": {},
   "outputs": [
    {
     "data": {
      "text/plain": [
       "[1, 2, 4, 8, 9]"
      ]
     },
     "execution_count": 4,
     "metadata": {},
     "output_type": "execute_result"
    }
   ],
   "source": [
    "crd"
   ]
  },
  {
   "cell_type": "code",
   "execution_count": null,
   "metadata": {},
   "outputs": [],
   "source": [
    "1 3 4 8 9"
   ]
  }
 ],
 "metadata": {
  "kernelspec": {
   "display_name": "Python 3.7.5 64-bit ('Namlister': virtualenv)",
   "language": "python",
   "name": "python37564bitnamlistervirtualenv5d7bb17d3c984c36aee202a2f6a91336"
  },
  "language_info": {
   "codemirror_mode": {
    "name": "ipython",
    "version": 3
   },
   "file_extension": ".py",
   "mimetype": "text/x-python",
   "name": "python",
   "nbconvert_exporter": "python",
   "pygments_lexer": "ipython3",
   "version": "3.7.5"
  }
 },
 "nbformat": 4,
 "nbformat_minor": 2
}
